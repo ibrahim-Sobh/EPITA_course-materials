{
 "cells": [
  {
   "cell_type": "markdown",
   "source": "# Deep learning on graph data \n\nLaurent Cetinsoy\n\nReference : https://tkipf.github.io/graph-convolutional-networks/\n\n\nGraph are powerful datastructure that allows to represent various kind of data : \n\n- molecules\n- social networks interactions\n\nDeep learning on graph data has become a major subfield of deep learning. \n\nOu goal is to get the basics of machine learning on graph \n\n## Graph reminders\n\nA graph is described by objects (two sets) : \n\n- the sets of node (also called vertex). Each node can contain values\n- the sets of edges betweens the node. \n\nThere are many ways to represents graph data in computer science. \n\nOn simple way would be to have : \n- a list of node values\n- a list of tuple for representing the edges. Each tuple would be (iNodeSource, iNodeTarget) \n\n",
   "metadata": {
    "cell_id": "f46ea500-9f72-4523-a6c5-e682797a288b",
    "tags": [],
    "deepnote_cell_type": "markdown"
   }
  },
  {
   "cell_type": "markdown",
   "source": "Create a list of 3 nodes having the values (-1, 2, 4).\n\n",
   "metadata": {
    "cell_id": "2d05b3f9-14ab-49ac-9c02-e15dd82afe6e",
    "tags": [],
    "deepnote_cell_type": "markdown"
   }
  },
  {
   "cell_type": "code",
   "metadata": {
    "cell_id": "c5d70c4c-b92d-46a6-9054-6f0de540496e",
    "tags": [],
    "deepnote_cell_type": "code"
   },
   "source": "",
   "execution_count": null,
   "outputs": []
  },
  {
   "cell_type": "markdown",
   "source": " \nCreate a list of unordered connexions. where Node 0 is connected to 1 and 2",
   "metadata": {
    "cell_id": "393bb4b0-dcc8-4675-920a-712ee29a4d5b",
    "tags": [],
    "deepnote_cell_type": "markdown"
   }
  },
  {
   "cell_type": "code",
   "metadata": {
    "cell_id": "ad937727-c0b2-4b07-b749-7d7aac55c3f1",
    "tags": [],
    "deepnote_cell_type": "code"
   },
   "source": "",
   "execution_count": null,
   "outputs": []
  },
  {
   "cell_type": "markdown",
   "source": "Another way to represent the edges in a graph is to use the Adjacency matrix. \n\nLet's say that the node of your graph are indexed (0, 1, 2, .., n)\n\nThen the Adjacency matrix is a n by n matrix. \n\n$ a_{ij} $ value represend if node $i$ is connected to no $j$ \n\nThe adjacacency matrix is very interesting because it carries a lot of information about the underlying graph \n\nHowever one drawback is that it can consume a lot of memory (hello scipy.sparse matrices :) \n\nModify the following Adjancy matrix so that the node 1 is connected to the node 3 \n",
   "metadata": {
    "cell_id": "c5b23baf-59d6-488f-aefd-aed38cee7015",
    "tags": [],
    "deepnote_cell_type": "markdown"
   }
  },
  {
   "cell_type": "code",
   "metadata": {
    "cell_id": "978f3a57-4382-41c0-a99d-eb666999532e",
    "tags": [],
    "deepnote_to_be_reexecuted": false,
    "source_hash": "83829fcd",
    "execution_start": 1643040869139,
    "execution_millis": 10,
    "deepnote_output_heights": [
     60
    ],
    "deepnote_cell_type": "code"
   },
   "source": "import numpy as np \nA = np.array([\n    [0, 0, 0], \n    [0, 0, 1], \n    [0, 1, 0]]\n)\nA",
   "execution_count": null,
   "outputs": [
    {
     "output_type": "execute_result",
     "execution_count": 4,
     "data": {
      "text/plain": "array([[0, 0, 1],\n       [0, 0, 1],\n       [1, 0, 0]])"
     },
     "metadata": {}
    }
   ]
  },
  {
   "cell_type": "markdown",
   "source": "create a function build_adjency_matrix(edges) which build a numpy adjacency matrix for a list of edges ",
   "metadata": {
    "cell_id": "7d384002-dc11-423d-b94d-11db30ba5f65",
    "tags": [],
    "deepnote_cell_type": "markdown"
   }
  },
  {
   "cell_type": "code",
   "metadata": {
    "cell_id": "fed283b5-9d6e-4cb4-ab05-49700e7ad538",
    "tags": [],
    "deepnote_cell_type": "code"
   },
   "source": "",
   "execution_count": null,
   "outputs": []
  },
  {
   "cell_type": "markdown",
   "source": "Code a function neighbors(edges, i_node) which returns a list of node index which are direct neighbors of i_node\n",
   "metadata": {
    "cell_id": "6349c342-1398-46c0-afc5-dfc62aad0a2b",
    "tags": [],
    "deepnote_cell_type": "markdown"
   }
  },
  {
   "cell_type": "code",
   "metadata": {
    "cell_id": "b8d8ba1c-6f9a-4659-96e6-740319ab8957",
    "tags": [],
    "deepnote_cell_type": "code"
   },
   "source": "",
   "execution_count": null,
   "outputs": []
  },
  {
   "cell_type": "markdown",
   "source": "Code a function average_neighbors(nodes, edges, i_node) which computes the average of node values which are the direct neighbors of the node i_node",
   "metadata": {
    "cell_id": "64b795fe-3aae-440a-a13f-25971e2a35d8",
    "tags": [],
    "deepnote_cell_type": "markdown"
   }
  },
  {
   "cell_type": "code",
   "metadata": {
    "cell_id": "699c09b3-7caa-4017-89c2-508b69c059e0",
    "tags": [],
    "deepnote_cell_type": "code"
   },
   "source": "",
   "execution_count": null,
   "outputs": []
  },
  {
   "cell_type": "markdown",
   "source": "Code a function weighted_average_neihhbors(nodes, edges, i_node) which computes a weighted average with random generated weights",
   "metadata": {
    "cell_id": "dafd4204-21d2-4f68-842c-2e2dd9355b9f",
    "tags": [],
    "deepnote_cell_type": "markdown"
   }
  },
  {
   "cell_type": "code",
   "metadata": {
    "cell_id": "a6d212ac-d696-4e4d-9599-a276383cd2b7",
    "tags": [],
    "deepnote_cell_type": "code"
   },
   "source": "",
   "execution_count": null,
   "outputs": []
  },
  {
   "cell_type": "markdown",
   "source": "The above function can be seen as a random convolution on a graph node. Use it to compute a new set of node values on all the nodes of the graph\n\n\n",
   "metadata": {
    "cell_id": "230fed5e-bb4d-4eac-abe9-cbb4dbb7bde4",
    "tags": [],
    "deepnote_cell_type": "markdown"
   }
  },
  {
   "cell_type": "code",
   "metadata": {
    "cell_id": "4787dab4-9317-457b-90c2-bb90747090fd",
    "tags": [],
    "deepnote_cell_type": "code"
   },
   "source": "",
   "execution_count": null,
   "outputs": []
  },
  {
   "cell_type": "markdown",
   "source": "The previous function allowed use to create a new set of node features by combining locally each node with its neighbors. This is how Graph convolutional layers will work : A GCN layer will process each nodes but instead of using random weights, it will be learnable weights. \n\n\nBesides, instead of just doing an average, more complex operation can be done. \n\nRemark : usually the edge is not impacted by the convolution\n\nSuch approaches are called message passing: because each node send a message (its value) to the neighbor",
   "metadata": {
    "cell_id": "80fd21a9-f950-41eb-abe0-dfea93275f26",
    "tags": [],
    "deepnote_cell_type": "markdown"
   }
  },
  {
   "cell_type": "markdown",
   "source": "![graph_convolution.png](graph_convolution.png)",
   "metadata": {
    "cell_id": "40fe6fa7-fa57-41b0-a8f9-74f0b20c4aef",
    "tags": [],
    "deepnote_cell_type": "markdown"
   }
  },
  {
   "cell_type": "markdown",
   "source": "## Deep learning on graph with pytorch geometric\n\nNow we have some basics, we will learn to use pytorch geometric to do simple graph classification with deep learning",
   "metadata": {
    "cell_id": "fbf448cb-bfc1-48a6-a5a0-2b055eda873a",
    "tags": [],
    "deepnote_cell_type": "markdown"
   }
  },
  {
   "cell_type": "markdown",
   "source": "install pytorch geometric ",
   "metadata": {
    "cell_id": "265069d6-4eaa-46a8-98a2-5f645359c3a6",
    "tags": [],
    "deepnote_cell_type": "markdown"
   }
  },
  {
   "cell_type": "code",
   "metadata": {
    "cell_id": "de6acf97-e346-4fff-9f65-094459ae4706",
    "tags": [],
    "deepnote_cell_type": "code"
   },
   "source": "pip install torch-scatter torch-sparse torch-cluster torch-spline-conv torch-geometric -f https://data.pyg.org/whl/torch-1.10.0+cpu.html",
   "execution_count": null,
   "outputs": []
  },
  {
   "cell_type": "markdown",
   "source": "Import pytorch and the Data class from pytorch Geometric",
   "metadata": {
    "cell_id": "d7fcca6b-0aa1-407b-92b2-8ce389998665",
    "tags": [],
    "deepnote_cell_type": "markdown"
   }
  },
  {
   "cell_type": "code",
   "metadata": {
    "cell_id": "c14fec49-abc7-4730-88e2-d2bcfa60124a",
    "tags": [],
    "deepnote_cell_type": "code"
   },
   "source": "import torch\nfrom torch_geometric.data import Data",
   "execution_count": null,
   "outputs": []
  },
  {
   "cell_type": "markdown",
   "source": "Create a pytorch tensor with the value -1.0, 2.0, 3.5 and store it in the variable **nodes**\nIt will represend the node values of your graph. We consider that the first node as index 0 and value -10. ",
   "metadata": {
    "cell_id": "2f04a4a0-1ef2-4bba-8634-83420e4686a4",
    "tags": [],
    "deepnote_cell_type": "markdown"
   }
  },
  {
   "cell_type": "code",
   "metadata": {
    "cell_id": "6143763c-b9fa-49cf-970c-b67286c3c8ab",
    "tags": [],
    "deepnote_cell_type": "code"
   },
   "source": "nodes = torch.tensor([1.0, 2.0, 3.5])\n",
   "execution_count": null,
   "outputs": []
  },
  {
   "cell_type": "markdown",
   "source": "The following code let you build the edges of the graph following pytorch way.\n\nModify it so that node 2 is also connected to node 3\n\n",
   "metadata": {
    "cell_id": "2f9786f6-d1ad-4b22-9e72-c49a0604e17f",
    "tags": [],
    "deepnote_cell_type": "markdown"
   }
  },
  {
   "cell_type": "code",
   "metadata": {
    "cell_id": "66ada322-07e7-452e-b4ba-ffe422db24f9",
    "tags": [],
    "deepnote_cell_type": "code"
   },
   "source": "edge_index = torch.tensor([[0, 1, 1, 2],\n                           [1, 0, 2, 1]], dtype=torch.long)\n\ndata = Data(x=x, edge_index=edge_index)",
   "execution_count": null,
   "outputs": []
  },
  {
   "cell_type": "markdown",
   "source": "Display the number of edge with the .num_edges attribue\n\n",
   "metadata": {
    "cell_id": "4c964e9d-f8ff-4a50-9255-78b3f6fe806b",
    "tags": [],
    "deepnote_cell_type": "markdown"
   }
  },
  {
   "cell_type": "code",
   "metadata": {
    "cell_id": "d6ff0c8f-257f-499b-9395-80712671f616",
    "tags": [],
    "deepnote_cell_type": "code"
   },
   "source": "",
   "execution_count": null,
   "outputs": []
  },
  {
   "cell_type": "markdown",
   "source": "Display the number of nodes with the .num_nodes attribute",
   "metadata": {
    "cell_id": "233d7132-0022-4601-848a-828517758b6b",
    "tags": [],
    "deepnote_cell_type": "markdown"
   }
  },
  {
   "cell_type": "code",
   "metadata": {
    "cell_id": "6b388e79-0a5b-471e-93b6-2cbd6c9cab03",
    "tags": [],
    "deepnote_cell_type": "code"
   },
   "source": "",
   "execution_count": null,
   "outputs": []
  },
  {
   "cell_type": "markdown",
   "source": "## Let's  load a dataset \n\n\nRun the following cell that load a dataset",
   "metadata": {
    "cell_id": "9d50f39c-a058-4d49-a207-a7b8c335031d",
    "tags": [],
    "deepnote_cell_type": "markdown"
   }
  },
  {
   "cell_type": "code",
   "metadata": {
    "cell_id": "0ddbfb86-d264-4b18-97ba-e4f0438e2f19",
    "tags": [],
    "deepnote_cell_type": "code"
   },
   "source": "from torch_geometric.datasets import TUDataset\n\ndataset = TUDataset(root='/tmp/ENZYMES', name='ENZYMES')",
   "execution_count": null,
   "outputs": []
  },
  {
   "cell_type": "markdown",
   "source": "Display the type of dataset. You should see the same type as before",
   "metadata": {
    "cell_id": "5ce2086f-9421-4a77-8841-c13b5fd5d7c0",
    "tags": [],
    "deepnote_cell_type": "markdown"
   }
  },
  {
   "cell_type": "code",
   "metadata": {
    "cell_id": "4bcf1919-5418-4a0a-9922-2233fcf14ce5",
    "tags": [],
    "deepnote_cell_type": "code"
   },
   "source": "",
   "execution_count": null,
   "outputs": []
  },
  {
   "cell_type": "markdown",
   "source": "Display the number of classes",
   "metadata": {
    "cell_id": "c4883df6-845d-438d-9527-0dd5932e76b6",
    "tags": [],
    "deepnote_cell_type": "markdown"
   }
  },
  {
   "cell_type": "code",
   "metadata": {
    "cell_id": "a64e7a29-cb13-4687-a07c-349118e39c05",
    "tags": [],
    "deepnote_cell_type": "code"
   },
   "source": "",
   "execution_count": null,
   "outputs": []
  },
  {
   "cell_type": "markdown",
   "source": "Display the number of features per node (a node can contains vectors  and not only number !)",
   "metadata": {
    "cell_id": "2ef1ee56-d48c-4e6f-9c3a-61577ee48abf",
    "tags": [],
    "deepnote_cell_type": "markdown"
   }
  },
  {
   "cell_type": "code",
   "metadata": {
    "cell_id": "4a16f935-d1a7-4dd9-9c8c-600c685ba51a",
    "tags": [],
    "deepnote_cell_type": "code"
   },
   "source": "",
   "execution_count": null,
   "outputs": []
  },
  {
   "cell_type": "markdown",
   "source": "import the DataLoader Class from torch_geometric.loader ",
   "metadata": {
    "cell_id": "9683dead-d643-4d18-ba59-943d8ba31845",
    "tags": [],
    "deepnote_cell_type": "markdown"
   }
  },
  {
   "cell_type": "code",
   "metadata": {
    "cell_id": "e4390732-13f7-4729-9fe1-f4c0e04dc207",
    "tags": [],
    "deepnote_cell_type": "code"
   },
   "source": "from torch_geometric.datasets import TUDataset\nfrom torch_geometric.loader import DataLoader\n",
   "execution_count": null,
   "outputs": []
  },
  {
   "cell_type": "markdown",
   "source": "From dataset variable, create a DataLoader with batch_size=32, shuffle=True",
   "metadata": {
    "cell_id": "1600a6ec-6641-4609-bc07-15ae6a15e068",
    "tags": [],
    "deepnote_cell_type": "markdown"
   }
  },
  {
   "cell_type": "code",
   "metadata": {
    "cell_id": "9e1009af-e8ad-4078-84c9-2c2164457c41",
    "tags": [],
    "deepnote_cell_type": "code"
   },
   "source": "\ndataset = TUDataset(root='/tmp/ENZYMES', name='ENZYMES', use_node_attr=True)\nloader = DataLoader(dataset, batch_size=32, shuffle=True)\n\nfor batch in loader:\n    batch\n    >>> DataBatch(batch=[1082], edge_index=[2, 4066], x=[1082, 21], y=[32])\n\n    batch.num_graphs\n    >>> 32",
   "execution_count": null,
   "outputs": []
  },
  {
   "cell_type": "markdown",
   "source": "The following class lets your define a pytorch model using a GCN Layer. \n\nPlease remark the following interesting thing : \n\nWhen you use the GCNConv layer in the forward function, you pass both the nodes and the edges. \n\nBesides it only update the node values (the features), not the edges ! ",
   "metadata": {
    "cell_id": "4256b8b6-4735-494e-b2db-a5c89279938c",
    "tags": [],
    "deepnote_cell_type": "markdown"
   }
  },
  {
   "cell_type": "code",
   "metadata": {
    "cell_id": "a2e2f198-4762-4365-a51b-a188dbeccd9c",
    "tags": [],
    "deepnote_cell_type": "code"
   },
   "source": "import torch\nimport torch.nn.functional as F\nfrom torch_geometric.nn import GCNConv\n\nclass GCN(torch.nn.Module):\n    def __init__(self):\n        super().__init__()\n        self.conv1 = GCNConv(dataset.num_node_features, 16)\n        self.conv2 = GCNConv(16, dataset.num_classes)\n\n    def forward(self, data):\n        x, edge_index = data.x, data.edge_index\n\n        x = self.conv1(x, edge_index)\n        x = F.relu(x)\n       \n        x = self.conv2(x, edge_index)\n\n        return F.log_softmax(x, dim=1)",
   "execution_count": null,
   "outputs": []
  },
  {
   "cell_type": "markdown",
   "source": "In addition to that since the output of the GCN layers are also a vector, you need not to have flatten / dense layers (but you can add dense if you want)",
   "metadata": {
    "cell_id": "c6072b58-6547-4e93-a1c9-feb2c2d840c2",
    "tags": [],
    "deepnote_cell_type": "markdown"
   }
  },
  {
   "cell_type": "markdown",
   "source": "So what happened ? the GCN layers have just transformed the nodes using both base graph nodes and the graph connectivity. \n\nHow does it work ? Lets see",
   "metadata": {
    "cell_id": "5944a4e9-5492-44fd-b8e2-3510129c3ccb",
    "tags": [],
    "deepnote_cell_type": "markdown"
   }
  },
  {
   "cell_type": "code",
   "metadata": {
    "cell_id": "1a3c0496-945f-4d89-b1dc-19681aeb3550",
    "tags": [],
    "deepnote_cell_type": "code"
   },
   "source": "Create an Adam Optimizer and train your model. Remember to user zero_grad and backward methods. \n",
   "execution_count": null,
   "outputs": []
  },
  {
   "cell_type": "code",
   "metadata": {
    "cell_id": "4da5a284-5bb7-4899-a9b9-6115c1c85110",
    "tags": [],
    "deepnote_cell_type": "code"
   },
   "source": "device = 'cpu'\nmodel = GCN().to(device)\ndata = dataset[0].to(device)\noptimizer = torch.optim.Adam(model.parameters(), lr=0.01, weight_decay=5e-4)\n\nmodel.train()\nfor epoch in range(200):\n    optimizer.zero_grad()\n    out = model(data)\n    loss = F.nll_loss(out[data.train_mask], data.y[data.train_mask])\n    loss.backward()\n    optimizer.step()",
   "execution_count": null,
   "outputs": []
  },
  {
   "cell_type": "markdown",
   "source": "\nEvaluate your model ",
   "metadata": {
    "cell_id": "fccae5bd-444c-410c-882a-cf0e350e2682",
    "tags": [],
    "deepnote_cell_type": "markdown"
   }
  },
  {
   "cell_type": "code",
   "metadata": {
    "cell_id": "a77ba727-a3d2-4d4b-94cc-d343a0fc6f18",
    "tags": [],
    "deepnote_cell_type": "code"
   },
   "source": "model.eval()\npred = model(data).argmax(dim=1)\ncorrect = (pred[data.test_mask] == data.y[data.test_mask]).sum()\nacc = int(correct) / int(data.test_mask.sum())\nprint(f'Accuracy: {acc:.4f}')\n",
   "execution_count": null,
   "outputs": []
  },
  {
   "cell_type": "markdown",
   "source": "",
   "metadata": {
    "cell_id": "62b54770-6a74-4566-85e2-4e93d93b117e",
    "tags": [],
    "deepnote_cell_type": "markdown"
   }
  },
  {
   "cell_type": "markdown",
   "source": "<a style='text-decoration:none;line-height:16px;display:flex;color:#5B5B62;padding:10px;justify-content:end;' href='https://deepnote.com?utm_source=created-in-deepnote-cell&projectId=6b859965-b858-4b8d-a841-009599aef86e' target=\"_blank\">\n<img alt='Created in deepnote.com' style='display:inline;max-height:16px;margin:0px;margin-right:7.5px;' src='data:image/svg+xml;base64,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' > </img>\nCreated in <span style='font-weight:600;margin-left:4px;'>Deepnote</span></a>",
   "metadata": {
    "tags": [],
    "created_in_deepnote_cell": true,
    "deepnote_cell_type": "markdown"
   }
  }
 ],
 "nbformat": 4,
 "nbformat_minor": 2,
 "metadata": {
  "orig_nbformat": 2,
  "deepnote": {
   "is_reactive": false
  },
  "deepnote_notebook_id": "eff1c0eb-14ff-407a-bda6-360e2d1000d3",
  "deepnote_execution_queue": []
 }
}