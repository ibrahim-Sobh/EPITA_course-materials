{
 "cells": [
  {
   "cell_type": "markdown",
   "source": "## Neural network - basic behavior\n\nLaurent Cetinsoy - Datadidacte - personal use only\n\nIn order to get a bit of understanding and practice with keras we are going to test a few different architectures",
   "metadata": {
    "cell_id": "00000-15ed92a6-7fc2-4aac-9637-796fc17a5a49",
    "deepnote_cell_type": "markdown",
    "deepnote_cell_height": 166.43333435058594
   }
  },
  {
   "cell_type": "markdown",
   "source": "## Effect of the activation function",
   "metadata": {
    "cell_id": "00001-bd6a9120-68b2-4685-a8eb-584b617490f6",
    "deepnote_cell_type": "markdown",
    "deepnote_cell_height": 69.23333740234375
   }
  },
  {
   "cell_type": "markdown",
   "source": "Load the  mnist dataset from the tensorflow.keras.datasets module ",
   "metadata": {
    "cell_id": "00002-7315f593-ca00-4c46-a78f-cfc850f4cb25",
    "deepnote_cell_type": "markdown",
    "deepnote_cell_height": 51.633331298828125
   }
  },
  {
   "cell_type": "code",
   "metadata": {
    "cell_id": "00003-c3f79815-0004-4614-9e4d-22ba854ab9e1",
    "deepnote_cell_type": "code",
    "deepnote_cell_height": 65.23333740234375
   },
   "source": "",
   "execution_count": null,
   "outputs": []
  },
  {
   "cell_type": "markdown",
   "source": "Display the first image of the train dataset with matplotlib",
   "metadata": {
    "cell_id": "00004-2fe5fd83-fb7e-4e39-bec6-f77c6ed7fecb",
    "deepnote_cell_type": "markdown",
    "deepnote_cell_height": 51.633331298828125
   }
  },
  {
   "cell_type": "code",
   "metadata": {
    "cell_id": "00005-00d46bf6-dbcd-42eb-9fda-d2a6ccbac7bd",
    "deepnote_cell_type": "code",
    "deepnote_cell_height": 65.23333740234375
   },
   "source": "",
   "execution_count": null,
   "outputs": []
  },
  {
   "cell_type": "markdown",
   "source": "Display the number of classes in the dataset",
   "metadata": {
    "cell_id": "00006-ad61d1e9-8086-425c-85d3-06929d214543",
    "deepnote_cell_type": "markdown",
    "deepnote_cell_height": 51.633331298828125
   }
  },
  {
   "cell_type": "code",
   "metadata": {
    "cell_id": "00007-26b9c288-5953-44ef-a893-f9ca3952a886",
    "deepnote_cell_type": "code",
    "deepnote_cell_height": 65.23333740234375
   },
   "source": "",
   "execution_count": null,
   "outputs": []
  },
  {
   "cell_type": "markdown",
   "source": "Create a simple neural network with the following structure : \n\n- One dense layer with **sigmoid** activation and 300 neurones\n- One dense layer with **sigmoid** activation and 100 neurones \n- One dense layer with softmax activation. How many neurones should there be ? ",
   "metadata": {
    "cell_id": "00008-ac80783e-1a56-423c-a5ff-891f8bb885c9",
    "deepnote_cell_type": "markdown",
    "deepnote_cell_height": 152.8333282470703
   }
  },
  {
   "cell_type": "code",
   "metadata": {
    "cell_id": "00009-eecff0be-0ddc-4490-91b8-14666bc65e45",
    "deepnote_cell_type": "code",
    "deepnote_cell_height": 65.23333740234375
   },
   "source": "",
   "execution_count": null,
   "outputs": []
  },
  {
   "cell_type": "markdown",
   "source": "Compile the model with the sgd optimizer and the sparse_categorical_crossentropy_loss",
   "metadata": {
    "cell_id": "00010-6b934b6e-9a5c-4c12-bcd8-b04de4f00778",
    "deepnote_cell_type": "markdown",
    "deepnote_cell_height": 74.03334045410156
   }
  },
  {
   "cell_type": "code",
   "metadata": {
    "cell_id": "00011-03f6f549-28a9-43a1-b420-702792e3e475",
    "deepnote_cell_type": "code",
    "deepnote_cell_height": 65.23333740234375
   },
   "source": "",
   "execution_count": null,
   "outputs": []
  },
  {
   "cell_type": "markdown",
   "source": "Reshape the images so that each image is a vector. Remember to normalize the dataset by doing a min-max scaling\n",
   "metadata": {
    "cell_id": "00012-2419ca82-7cfb-48b9-b839-5ce2708a36ec",
    "deepnote_cell_type": "markdown",
    "deepnote_cell_height": 74.03334045410156
   }
  },
  {
   "cell_type": "code",
   "metadata": {
    "cell_id": "00013-b64a485b-4e70-42fb-b504-b10c73203f65",
    "deepnote_cell_type": "code",
    "deepnote_cell_height": 65.23333740234375
   },
   "source": "",
   "execution_count": null,
   "outputs": []
  },
  {
   "cell_type": "markdown",
   "source": "Train the model for 10 epochs and display the loss versus the number of epochs. For that you can use Keras callbacks : https://keras.io/api/callbacks/\n\nDoes it train well ? ",
   "metadata": {
    "cell_id": "00014-1f21b517-3274-48d0-a9c6-dda5fd68fbe0",
    "deepnote_cell_type": "markdown",
    "deepnote_cell_height": 110.43333435058594
   }
  },
  {
   "cell_type": "code",
   "metadata": {
    "cell_id": "00015-a397deff-bf3f-4915-85bc-267a27baf71d",
    "deepnote_cell_type": "code",
    "deepnote_cell_height": 65.23333740234375
   },
   "source": "",
   "execution_count": null,
   "outputs": []
  },
  {
   "cell_type": "markdown",
   "source": "Make another model by replacing this time the sigmoid activations by Relu. Train again the model and display the loss curve. Is it better ? ",
   "metadata": {
    "cell_id": "00016-aadb82e0-46f1-433e-b7c5-6cd5eacc9842",
    "deepnote_cell_type": "markdown",
    "deepnote_cell_height": 74.03334045410156
   }
  },
  {
   "cell_type": "code",
   "metadata": {
    "cell_id": "00017-312c1551-b068-410c-b6a6-7231067453ec",
    "deepnote_cell_type": "code",
    "deepnote_cell_height": 65.23333740234375
   },
   "source": "",
   "execution_count": null,
   "outputs": []
  },
  {
   "cell_type": "markdown",
   "source": "Do the same with the selu function ",
   "metadata": {
    "cell_id": "00018-efee8423-918a-4b3c-9179-f77eda530f08",
    "deepnote_cell_type": "markdown",
    "deepnote_cell_height": 51.633331298828125
   }
  },
  {
   "cell_type": "code",
   "metadata": {
    "cell_id": "00019-8778acdc-5ad9-47b0-9237-a030e147caa8",
    "deepnote_cell_type": "code",
    "deepnote_cell_height": 65.23333740234375
   },
   "source": "",
   "execution_count": null,
   "outputs": []
  },
  {
   "cell_type": "markdown",
   "source": "## Effect of the size \n\nIn this section we want to study the effect of the size of the network on the learning\n\nRe-use the previous network and try to increase its size by using the following number of neurones : \n\n-  800 for first layer\n- 500 for second layer\n- same size\n\n\nYou might need to train the network longer, but does it reach a better performance ? ",
   "metadata": {
    "cell_id": "00020-e148a223-f477-4b5b-8151-1e3ed6331868",
    "deepnote_cell_type": "markdown",
    "deepnote_cell_height": 290.0333251953125
   }
  },
  {
   "cell_type": "code",
   "metadata": {
    "cell_id": "00021-932b3cc2-f6dd-45ab-9e3d-c2fb0b984b3e",
    "deepnote_cell_type": "code",
    "deepnote_cell_height": 65.23333740234375
   },
   "source": "",
   "execution_count": null,
   "outputs": []
  },
  {
   "cell_type": "markdown",
   "source": "Bonus : train a big network (more than 5 layers). Does it overfit or has it still good performance ? ",
   "metadata": {
    "cell_id": "00022-6c632b58-ff04-4a56-bf6e-7a653737c629",
    "deepnote_cell_type": "markdown",
    "deepnote_cell_height": 74.03334045410156
   }
  },
  {
   "cell_type": "code",
   "metadata": {
    "cell_id": "00023-a2101739-986c-4ce2-8db2-28a5a383252d",
    "deepnote_cell_type": "code",
    "deepnote_cell_height": 65.23333740234375
   },
   "source": "",
   "execution_count": null,
   "outputs": []
  },
  {
   "cell_type": "markdown",
   "source": "## Effect of the parameter initialization \n\nThe way the parameters of a network are initialized can have a great impact on the training process. \n\n",
   "metadata": {
    "cell_id": "00024-a6d34f16-be3d-4fb8-b973-f556e8abaccb",
    "deepnote_cell_type": "markdown",
    "deepnote_cell_height": 130.03334045410156
   }
  },
  {
   "cell_type": "markdown",
   "source": "Create a model with the same structure as the previous section. Initialize all weight values to 0 (cf https://keras.io/api/layers/initializers/)",
   "metadata": {
    "cell_id": "00025-b4022996-c40c-4b4f-92cf-31e9847420fb",
    "deepnote_cell_type": "markdown",
    "deepnote_cell_height": 74.03334045410156
   }
  },
  {
   "cell_type": "code",
   "metadata": {
    "cell_id": "00026-b5d3400d-46b1-4720-9b47-dad3f7a36cd3",
    "deepnote_cell_type": "code",
    "deepnote_cell_height": 65.23333740234375
   },
   "source": "",
   "execution_count": null,
   "outputs": []
  },
  {
   "cell_type": "markdown",
   "source": "Train the model on the dataset and display the loss. Are you shocked ? ",
   "metadata": {
    "cell_id": "00027-62540c33-a7d2-4bed-98ac-ffc7b7f61084",
    "deepnote_cell_type": "markdown",
    "deepnote_cell_height": 51.633331298828125
   }
  },
  {
   "cell_type": "code",
   "metadata": {
    "cell_id": "00028-b44d9a17-ad78-41d1-9f78-696e559b97f1",
    "deepnote_cell_type": "code",
    "deepnote_cell_height": 65.23333740234375
   },
   "source": "",
   "execution_count": null,
   "outputs": []
  },
  {
   "cell_type": "markdown",
   "source": "## Effect of the optimizer\n\nThis time we want to study the effect of the optimization process on the network \n\n\nInstanciate the Optimizer SGD with a learning rate equaling to 0.1 and train the model ",
   "metadata": {
    "cell_id": "00029-2560d8ba-8dfd-46ec-87d1-b393a51c1ff6",
    "deepnote_cell_type": "markdown",
    "deepnote_cell_height": 144.03334045410156
   }
  },
  {
   "cell_type": "code",
   "metadata": {
    "cell_id": "00030-29a4ca15-b722-4d46-9a66-eb242eefcda6",
    "deepnote_cell_type": "code",
    "deepnote_cell_height": 65.23333740234375
   },
   "source": "",
   "execution_count": null,
   "outputs": []
  },
  {
   "cell_type": "markdown",
   "source": "Do the same with a learning rate of 0.01",
   "metadata": {
    "cell_id": "00031-91285b21-3d1c-4fa5-a42a-3161d94ef6e8",
    "deepnote_cell_type": "markdown",
    "deepnote_cell_height": 51.633331298828125
   }
  },
  {
   "cell_type": "code",
   "metadata": {
    "cell_id": "00032-4f21bd31-ddc4-4654-b798-64060f42b089",
    "deepnote_cell_type": "code",
    "deepnote_cell_height": 65.23333740234375
   },
   "source": "",
   "execution_count": null,
   "outputs": []
  },
  {
   "cell_type": "markdown",
   "source": "Do the same with a learning rate of 0.9. Does it still work ? ",
   "metadata": {
    "cell_id": "00033-f5af7c8c-f9ae-4b4c-a43b-fbefcfb07fad",
    "deepnote_cell_type": "markdown",
    "deepnote_cell_height": 51.633331298828125
   }
  },
  {
   "cell_type": "code",
   "metadata": {
    "cell_id": "00034-7a81a60a-daa8-456d-98c6-bf82e4c86b75",
    "deepnote_cell_type": "code",
    "deepnote_cell_height": 65.23333740234375
   },
   "source": "",
   "execution_count": null,
   "outputs": []
  },
  {
   "cell_type": "markdown",
   "source": "Use the callback Reduce learning rate on plateau (https://keras.io/api/callbacks/reduce_lr_on_plateau/) and start with a pretty high learning rate. Is the learning faster ?\n",
   "metadata": {
    "cell_id": "00035-5e9b8f19-694f-4560-a5bb-f42faad446c5",
    "deepnote_cell_type": "markdown",
    "deepnote_cell_height": 96.43333435058594
   }
  },
  {
   "cell_type": "code",
   "metadata": {
    "cell_id": "00036-4a6eea5d-8fbf-447f-977d-a68d557ff6f5",
    "deepnote_cell_type": "code",
    "deepnote_cell_height": 65.23333740234375
   },
   "source": "",
   "execution_count": null,
   "outputs": []
  },
  {
   "cell_type": "markdown",
   "source": "Bonus : with the https://keras.io/api/callbacks/learning_rate_scheduler/ \n\nImplement the cyclical learning rate schema as follow (from \"Cyclical Learning Rates for Training Neural Networks\" Smith - https://arxiv.org/abs/1506.01186)",
   "metadata": {
    "cell_id": "00037-402e60a9-c22f-44e6-972f-c1bd341534ae",
    "deepnote_cell_type": "markdown",
    "deepnote_cell_height": 110.43333435058594
   }
  },
  {
   "cell_type": "code",
   "metadata": {
    "cell_id": "00039-ce20fb95-c433-4ecc-89b8-4e0d0ae7d971",
    "deepnote_cell_type": "code",
    "deepnote_cell_height": 65.23333740234375
   },
   "source": "",
   "execution_count": null,
   "outputs": []
  },
  {
   "cell_type": "markdown",
   "source": "Bonus : do the study activation function and size on a more complexe dataset like cifar 10 ",
   "metadata": {
    "tags": [],
    "cell_id": "00039-cdb45d3b-b48c-431d-bf66-1aa851587899",
    "deepnote_cell_type": "markdown",
    "deepnote_cell_height": 74.03334045410156
   }
  },
  {
   "cell_type": "code",
   "metadata": {
    "tags": [],
    "cell_id": "00040-370d339f-8787-4a81-bf4c-eda135a18496",
    "deepnote_cell_type": "code",
    "deepnote_cell_height": 65.23333740234375
   },
   "source": "",
   "execution_count": null,
   "outputs": []
  },
  {
   "cell_type": "markdown",
   "source": "Bonus : do the same with a small convolutional network",
   "metadata": {
    "tags": [],
    "cell_id": "00040-9363f959-007a-4b3a-abf8-2bb27ec4f5f1",
    "deepnote_cell_type": "markdown",
    "deepnote_cell_height": 51.633331298828125
   }
  },
  {
   "cell_type": "code",
   "metadata": {
    "tags": [],
    "cell_id": "00042-741186d6-bfc6-4cb7-8087-c057f60aa2a4",
    "deepnote_cell_type": "code",
    "deepnote_cell_height": 65.23333740234375
   },
   "source": "",
   "execution_count": null,
   "outputs": []
  },
  {
   "cell_type": "markdown",
   "source": "",
   "metadata": {
    "tags": [],
    "cell_id": "00041-2453eaf6-9100-48e3-9a22-a89d77c8176e",
    "deepnote_cell_type": "markdown",
    "deepnote_cell_height": 45.23333740234375
   }
  },
  {
   "cell_type": "markdown",
   "source": "<a style='text-decoration:none;line-height:16px;display:flex;color:#5B5B62;padding:10px;justify-content:end;' href='https://deepnote.com?utm_source=created-in-deepnote-cell&projectId=6b859965-b858-4b8d-a841-009599aef86e' target=\"_blank\">\n<img alt='Created in deepnote.com' style='display:inline;max-height:16px;margin:0px;margin-right:7.5px;' src='data:image/svg+xml;base64,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' > </img>\nCreated in <span style='font-weight:600;margin-left:4px;'>Deepnote</span></a>",
   "metadata": {
    "tags": [],
    "created_in_deepnote_cell": true,
    "deepnote_cell_type": "markdown"
   }
  }
 ],
 "nbformat": 4,
 "nbformat_minor": 5,
 "metadata": {
  "kernelspec": {
   "display_name": "Python 3 (ipykernel)",
   "language": "python",
   "name": "python3"
  },
  "language_info": {
   "codemirror_mode": {
    "name": "ipython",
    "version": 3
   },
   "file_extension": ".py",
   "mimetype": "text/x-python",
   "name": "python",
   "nbconvert_exporter": "python",
   "pygments_lexer": "ipython3",
   "version": "3.9.8"
  },
  "deepnote_notebook_id": "20ff9064-148b-4092-a6ae-eaf605c9d773",
  "deepnote": {},
  "deepnote_execution_queue": []
 }
}