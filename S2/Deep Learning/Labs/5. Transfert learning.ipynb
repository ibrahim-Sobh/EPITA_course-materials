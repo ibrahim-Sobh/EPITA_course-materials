{
 "cells": [
  {
   "cell_type": "markdown",
   "source": "## Transfert learning \n\nTransfert learning is a method consisting in re-using a trained model. The trained model will be retrained on the target dataset. \n\nFor instance, let's say you want to train  classification tasks about cars. You could take a neural network already trained on generic image classification and train it again on your dataset.\n\nThe basic idea is that it will be quicker to train a \"competent\" network in a similar task than from starting from an empty \"brain\". \n\nIn this notebook we will use this method and try to see the various methods\n",
   "metadata": {
    "tags": [],
    "cell_id": "00000-df2d96f5-f813-47b6-a1a1-43cf74d4030a",
    "deepnote_cell_type": "markdown",
    "deepnote_cell_height": 284.26666259765625
   }
  },
  {
   "cell_type": "markdown",
   "source": "Keras has various pretrained models available at https://keras.io/api/applications/\n\nWe will use theses pretrained model as it they were a simple layer. \n\n\nWe will start with mobilenet\n\n",
   "metadata": {
    "tags": [],
    "cell_id": "00001-1804e518-06a9-4890-8036-1740b978cba1",
    "deepnote_cell_type": "markdown",
    "deepnote_cell_height": 124.66667175292969
   }
  },
  {
   "cell_type": "markdown",
   "source": "From the **keras.applications module**, load the the mobile net network into a variable named **base_model**\n\nUse include_top = False so that the Dense layers are removed",
   "metadata": {
    "tags": [],
    "cell_id": "00002-d7a8e41b-cd53-48e7-8931-0d918698f3cd",
    "deepnote_cell_type": "markdown",
    "deepnote_cell_height": 88.26666259765625
   }
  },
  {
   "cell_type": "code",
   "metadata": {
    "tags": [],
    "cell_id": "00003-bcd55924-014e-4eb0-8417-ec17faa3469d",
    "deepnote_cell_type": "code",
    "deepnote_cell_height": 65.46665954589844
   },
   "source": "",
   "execution_count": null,
   "outputs": []
  },
  {
   "cell_type": "markdown",
   "source": "Display the number of layer of this base model",
   "metadata": {
    "tags": [],
    "cell_id": "00003-40d9c36d-8f1c-4275-81ed-523bf4d70eb0",
    "deepnote_cell_type": "markdown",
    "deepnote_cell_height": 51.866668701171875
   }
  },
  {
   "cell_type": "code",
   "metadata": {
    "tags": [],
    "cell_id": "00005-4eedb599-05ff-41ba-9a9c-2a28bf653dd2",
    "deepnote_cell_type": "code",
    "deepnote_cell_height": 65.46665954589844
   },
   "source": "",
   "execution_count": null,
   "outputs": []
  },
  {
   "cell_type": "markdown",
   "source": "Display all the layer of the model. You should see only convolutional layers",
   "metadata": {
    "tags": [],
    "cell_id": "00004-c7a3b3e7-a670-4de7-8837-0913f398c9a1",
    "deepnote_cell_type": "markdown",
    "deepnote_cell_height": 51.866668701171875
   }
  },
  {
   "cell_type": "code",
   "metadata": {
    "tags": [],
    "cell_id": "00007-2b0bb7d0-953a-41cc-b725-68121346ccd6",
    "deepnote_cell_type": "code",
    "deepnote_cell_height": 65.46665954589844
   },
   "source": "",
   "execution_count": null,
   "outputs": []
  },
  {
   "cell_type": "markdown",
   "source": "\nmodel.layers contains all the model layers and their configuration. \n\nEach layer is an instance of Check https://keras.io/api/layers/base_layer/#layer-class and\n\ntell what are the attributes of the base layer classes by looking at the documentation\n",
   "metadata": {
    "cell_id": "478e6d8da523479d86440efbddd624eb",
    "tags": [],
    "deepnote_cell_type": "markdown",
    "deepnote_cell_height": 124.66667175292969
   }
  },
  {
   "cell_type": "markdown",
   "source": "",
   "metadata": {
    "cell_id": "99396a9af57d4edeb7849a97aa704ba9",
    "tags": [],
    "deepnote_cell_type": "markdown",
    "deepnote_cell_height": 45.46665954589844
   }
  },
  {
   "cell_type": "markdown",
   "source": "\nYou may have seen an attribute trainable. It tells if the layer weights can be updated or not. \n\n\nLoop over the layers of the model and display if the layers are trainable or not",
   "metadata": {
    "cell_id": "e8325e00395949d6b59cb3e36a8864b3",
    "tags": [],
    "deepnote_cell_type": "markdown",
    "deepnote_cell_height": 88.26666259765625
   }
  },
  {
   "cell_type": "code",
   "source": "",
   "metadata": {
    "cell_id": "ee510de6b9fb401e930dc930ef1fdef1",
    "tags": [],
    "deepnote_cell_type": "code",
    "deepnote_cell_height": 65.46665954589844
   },
   "outputs": [],
   "execution_count": null
  },
  {
   "cell_type": "markdown",
   "source": "Update the last convolutional layer et make it not trainable",
   "metadata": {
    "cell_id": "6d30598de44e4dc9911aff97786ab0c5",
    "tags": [],
    "deepnote_cell_type": "markdown",
    "deepnote_cell_height": 51.866668701171875
   }
  },
  {
   "cell_type": "code",
   "source": "",
   "metadata": {
    "cell_id": "7df719e361e74ef0b5941badbf32fcea",
    "tags": [],
    "deepnote_cell_type": "code",
    "deepnote_cell_height": 65.46665954589844
   },
   "outputs": [],
   "execution_count": null
  },
  {
   "cell_type": "markdown",
   "source": "Now we want to add our own dense layers on top of the model. \nWe have two ways of doing that : either using the sequential api or the functional one \n\n\nCreate a model using the base model and two Dense layer (400 and 200 neurones ) + the final layer to do classification ",
   "metadata": {
    "tags": [],
    "cell_id": "00005-1e26215b-007d-42b5-be3a-5cef26f15c79",
    "deepnote_cell_type": "markdown",
    "deepnote_cell_height": 110.66667175292969
   }
  },
  {
   "cell_type": "code",
   "metadata": {
    "tags": [],
    "cell_id": "00009-ec7a7a5f-c668-4a28-84b7-7c930b1da26d",
    "deepnote_cell_type": "code",
    "deepnote_cell_height": 65.46665954589844
   },
   "source": "",
   "execution_count": null,
   "outputs": []
  },
  {
   "cell_type": "markdown",
   "source": "Load the cifar dataset, and create a x_train, and y_train variable from it",
   "metadata": {
    "tags": [],
    "cell_id": "00006-c1ca385c-718b-4b98-82ec-57b2c4546146",
    "deepnote_cell_type": "markdown",
    "deepnote_cell_height": 51.866668701171875
   }
  },
  {
   "cell_type": "code",
   "source": "",
   "metadata": {
    "cell_id": "fc8255b1ec1f4d178845611ba379465b",
    "tags": [],
    "deepnote_cell_type": "code",
    "deepnote_cell_height": 65.46665954589844
   },
   "outputs": [],
   "execution_count": null
  },
  {
   "cell_type": "markdown",
   "source": "Check if you need to standardise x_train and do it if you need",
   "metadata": {
    "cell_id": "c8e2afbee64b4c83bc247e8546850578",
    "tags": [],
    "deepnote_cell_type": "markdown",
    "deepnote_cell_height": 51.866668701171875
   }
  },
  {
   "cell_type": "code",
   "source": "",
   "metadata": {
    "cell_id": "3bff0ecd0eb54d0ebbc66d5ff62b8584",
    "tags": [],
    "deepnote_cell_type": "code",
    "deepnote_cell_height": 65.46665954589844
   },
   "outputs": [],
   "execution_count": null
  },
  {
   "cell_type": "markdown",
   "source": "## Training the transfert model \n\nWe can think of several methods to train the transfert model :  \n\n- train the whole model\n- train only the added layers (Dense ones) \n- A mix of both. \n\nWe will try to see which one works\n\n### Training the whole model  \n",
   "metadata": {
    "tags": [],
    "cell_id": "00008-165a7e41-8059-4051-a057-75d301ab5579",
    "deepnote_cell_type": "markdown",
    "deepnote_cell_height": 278.566650390625
   }
  },
  {
   "cell_type": "markdown",
   "source": "By looping over all layers, make sur all layers are trainable\n",
   "metadata": {
    "cell_id": "d3d3e1beee5d4b9fa27644da5132b552",
    "tags": [],
    "deepnote_cell_type": "markdown",
    "deepnote_cell_height": 51.866668701171875
   }
  },
  {
   "cell_type": "code",
   "source": "",
   "metadata": {
    "cell_id": "9eec7de862c840feab086088825bb49a",
    "tags": [],
    "deepnote_cell_type": "code",
    "deepnote_cell_height": 65.46665954589844
   },
   "outputs": [],
   "execution_count": null
  },
  {
   "cell_type": "markdown",
   "source": "Train your model, does it work ? \n",
   "metadata": {
    "cell_id": "123c188b3f184cf28e0d9dc990dfd1dc",
    "tags": [],
    "deepnote_cell_type": "markdown",
    "deepnote_cell_height": 51.866668701171875
   }
  },
  {
   "cell_type": "code",
   "source": "",
   "metadata": {
    "cell_id": "ff4ce2a7185e41b18bbb39d9638d710e",
    "tags": [],
    "deepnote_cell_type": "code",
    "deepnote_cell_height": 65.46665954589844
   },
   "outputs": [],
   "execution_count": null
  },
  {
   "cell_type": "markdown",
   "source": "### Training only the last layers\n\nDo the same thing as before and but make the last layer of the base model trainable",
   "metadata": {
    "tags": [],
    "cell_id": "00015-0cfb8b6c-9c64-402e-b0a6-8d6e412a15f6",
    "deepnote_cell_type": "markdown",
    "deepnote_cell_height": 99.86666870117188
   }
  },
  {
   "cell_type": "code",
   "source": "",
   "metadata": {
    "cell_id": "6d5cad3864914310bf65b2f86a0cb7bc",
    "tags": [],
    "deepnote_cell_type": "code",
    "deepnote_cell_height": 65
   },
   "outputs": [],
   "execution_count": null
  },
  {
   "cell_type": "markdown",
   "source": "### A mix of both\n\nWe have seen that if we train the whole model it does not work. But how can we train the convolutional layers ? \n\n\nOne option is to do as follow : \n- train the dense layer only first\n- then train the convolutional layers\n\nthis methode is called finetuning",
   "metadata": {
    "tags": [],
    "cell_id": "00016-941f9867-ea7b-41fa-863e-653f31cfbde3",
    "deepnote_cell_type": "markdown",
    "deepnote_cell_height": 235.1999969482422
   }
  },
  {
   "cell_type": "markdown",
   "source": "Make only the last layers trainable and train it",
   "metadata": {
    "cell_id": "86ff2ad50f454e75a123e468eeccb1e8",
    "tags": [],
    "deepnote_cell_type": "markdown",
    "deepnote_cell_height": 51.866668701171875
   }
  },
  {
   "cell_type": "code",
   "source": "",
   "metadata": {
    "cell_id": "c161960dd6fd4586b366d3e9321c7753",
    "tags": [],
    "deepnote_cell_type": "code",
    "deepnote_cell_height": 65.46665954589844
   },
   "outputs": [],
   "execution_count": null
  },
  {
   "cell_type": "markdown",
   "source": "Unfreeze the last 3 convolutional layers and make them trainable. Train the model again",
   "metadata": {
    "cell_id": "7ed2d2eeb2ff4ac08f1040befea5d712",
    "tags": [],
    "deepnote_cell_type": "markdown",
    "deepnote_cell_height": 51.866668701171875
   }
  },
  {
   "cell_type": "code",
   "source": "",
   "metadata": {
    "cell_id": "2106f61e891f4cedb1427f9580f07cf7",
    "tags": [],
    "deepnote_cell_type": "code"
   },
   "outputs": [],
   "execution_count": null
  },
  {
   "cell_type": "markdown",
   "source": "<a style='text-decoration:none;line-height:16px;display:flex;color:#5B5B62;padding:10px;justify-content:end;' href='https://deepnote.com?utm_source=created-in-deepnote-cell&projectId=6b859965-b858-4b8d-a841-009599aef86e' target=\"_blank\">\n<img alt='Created in deepnote.com' style='display:inline;max-height:16px;margin:0px;margin-right:7.5px;' src='data:image/svg+xml;base64,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' > </img>\nCreated in <span style='font-weight:600;margin-left:4px;'>Deepnote</span></a>",
   "metadata": {
    "tags": [],
    "created_in_deepnote_cell": true,
    "deepnote_cell_type": "markdown"
   }
  }
 ],
 "nbformat": 4,
 "nbformat_minor": 2,
 "metadata": {
  "orig_nbformat": 2,
  "deepnote": {
   "is_reactive": false
  },
  "deepnote_notebook_id": "3a7889b9-2ca6-4fcd-b7f3-ea506ef2557b",
  "deepnote_execution_queue": []
 }
}