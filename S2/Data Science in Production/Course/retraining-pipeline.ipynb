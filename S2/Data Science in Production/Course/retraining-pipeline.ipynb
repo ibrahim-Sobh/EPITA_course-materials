{
 "cells": [
  {
   "cell_type": "markdown",
   "id": "deadly-master",
   "metadata": {},
   "source": [
    "We will be using the autotime extension to compute the execution time of each cell.\n",
    "- `pip install ipython-autotime`\n",
    "- `%load_ext autotime`"
   ]
  },
  {
   "cell_type": "code",
   "execution_count": 6,
   "id": "increasing-baghdad",
   "metadata": {},
   "outputs": [
    {
     "ename": "ModuleNotFoundError",
     "evalue": "No module named 'autotime'",
     "output_type": "error",
     "traceback": [
      "\u001b[0;31m---------------------------------------------------------------------------\u001b[0m",
      "\u001b[0;31mModuleNotFoundError\u001b[0m                       Traceback (most recent call last)",
      "\u001b[1;32m/Users/ibrahim/Desktop/AIS/S2/Data-Science-in-Production/Course/retraining-pipeline.ipynb Cell 2'\u001b[0m in \u001b[0;36m<cell line: 1>\u001b[0;34m()\u001b[0m\n\u001b[0;32m----> <a href='vscode-notebook-cell:/Users/ibrahim/Desktop/AIS/S2/Data-Science-in-Production/Course/retraining-pipeline.ipynb#ch0000001?line=0'>1</a>\u001b[0m get_ipython()\u001b[39m.\u001b[39;49mrun_line_magic(\u001b[39m'\u001b[39;49m\u001b[39mload_ext\u001b[39;49m\u001b[39m'\u001b[39;49m, \u001b[39m'\u001b[39;49m\u001b[39mautotime\u001b[39;49m\u001b[39m'\u001b[39;49m)\n",
      "File \u001b[0;32m~/miniforge3/envs/mlflow/lib/python3.9/site-packages/IPython/core/interactiveshell.py:2304\u001b[0m, in \u001b[0;36mInteractiveShell.run_line_magic\u001b[0;34m(self, magic_name, line, _stack_depth)\u001b[0m\n\u001b[1;32m   <a href='file:///Users/ibrahim/miniforge3/envs/mlflow/lib/python3.9/site-packages/IPython/core/interactiveshell.py?line=2301'>2302</a>\u001b[0m     kwargs[\u001b[39m'\u001b[39m\u001b[39mlocal_ns\u001b[39m\u001b[39m'\u001b[39m] \u001b[39m=\u001b[39m \u001b[39mself\u001b[39m\u001b[39m.\u001b[39mget_local_scope(stack_depth)\n\u001b[1;32m   <a href='file:///Users/ibrahim/miniforge3/envs/mlflow/lib/python3.9/site-packages/IPython/core/interactiveshell.py?line=2302'>2303</a>\u001b[0m \u001b[39mwith\u001b[39;00m \u001b[39mself\u001b[39m\u001b[39m.\u001b[39mbuiltin_trap:\n\u001b[0;32m-> <a href='file:///Users/ibrahim/miniforge3/envs/mlflow/lib/python3.9/site-packages/IPython/core/interactiveshell.py?line=2303'>2304</a>\u001b[0m     result \u001b[39m=\u001b[39m fn(\u001b[39m*\u001b[39;49margs, \u001b[39m*\u001b[39;49m\u001b[39m*\u001b[39;49mkwargs)\n\u001b[1;32m   <a href='file:///Users/ibrahim/miniforge3/envs/mlflow/lib/python3.9/site-packages/IPython/core/interactiveshell.py?line=2304'>2305</a>\u001b[0m \u001b[39mreturn\u001b[39;00m result\n",
      "File \u001b[0;32m~/miniforge3/envs/mlflow/lib/python3.9/site-packages/IPython/core/magics/extension.py:33\u001b[0m, in \u001b[0;36mExtensionMagics.load_ext\u001b[0;34m(self, module_str)\u001b[0m\n\u001b[1;32m     <a href='file:///Users/ibrahim/miniforge3/envs/mlflow/lib/python3.9/site-packages/IPython/core/magics/extension.py?line=30'>31</a>\u001b[0m \u001b[39mif\u001b[39;00m \u001b[39mnot\u001b[39;00m module_str:\n\u001b[1;32m     <a href='file:///Users/ibrahim/miniforge3/envs/mlflow/lib/python3.9/site-packages/IPython/core/magics/extension.py?line=31'>32</a>\u001b[0m     \u001b[39mraise\u001b[39;00m UsageError(\u001b[39m'\u001b[39m\u001b[39mMissing module name.\u001b[39m\u001b[39m'\u001b[39m)\n\u001b[0;32m---> <a href='file:///Users/ibrahim/miniforge3/envs/mlflow/lib/python3.9/site-packages/IPython/core/magics/extension.py?line=32'>33</a>\u001b[0m res \u001b[39m=\u001b[39m \u001b[39mself\u001b[39;49m\u001b[39m.\u001b[39;49mshell\u001b[39m.\u001b[39;49mextension_manager\u001b[39m.\u001b[39;49mload_extension(module_str)\n\u001b[1;32m     <a href='file:///Users/ibrahim/miniforge3/envs/mlflow/lib/python3.9/site-packages/IPython/core/magics/extension.py?line=34'>35</a>\u001b[0m \u001b[39mif\u001b[39;00m res \u001b[39m==\u001b[39m \u001b[39m'\u001b[39m\u001b[39malready loaded\u001b[39m\u001b[39m'\u001b[39m:\n\u001b[1;32m     <a href='file:///Users/ibrahim/miniforge3/envs/mlflow/lib/python3.9/site-packages/IPython/core/magics/extension.py?line=35'>36</a>\u001b[0m     \u001b[39mprint\u001b[39m(\u001b[39m\"\u001b[39m\u001b[39mThe \u001b[39m\u001b[39m%s\u001b[39;00m\u001b[39m extension is already loaded. To reload it, use:\u001b[39m\u001b[39m\"\u001b[39m \u001b[39m%\u001b[39m module_str)\n",
      "File \u001b[0;32m~/miniforge3/envs/mlflow/lib/python3.9/site-packages/IPython/core/extensions.py:76\u001b[0m, in \u001b[0;36mExtensionManager.load_extension\u001b[0;34m(self, module_str)\u001b[0m\n\u001b[1;32m     <a href='file:///Users/ibrahim/miniforge3/envs/mlflow/lib/python3.9/site-packages/IPython/core/extensions.py?line=68'>69</a>\u001b[0m \u001b[39m\"\"\"Load an IPython extension by its module name.\u001b[39;00m\n\u001b[1;32m     <a href='file:///Users/ibrahim/miniforge3/envs/mlflow/lib/python3.9/site-packages/IPython/core/extensions.py?line=69'>70</a>\u001b[0m \n\u001b[1;32m     <a href='file:///Users/ibrahim/miniforge3/envs/mlflow/lib/python3.9/site-packages/IPython/core/extensions.py?line=70'>71</a>\u001b[0m \u001b[39mReturns the string \"already loaded\" if the extension is already loaded,\u001b[39;00m\n\u001b[1;32m     <a href='file:///Users/ibrahim/miniforge3/envs/mlflow/lib/python3.9/site-packages/IPython/core/extensions.py?line=71'>72</a>\u001b[0m \u001b[39m\"no load function\" if the module doesn't have a load_ipython_extension\u001b[39;00m\n\u001b[1;32m     <a href='file:///Users/ibrahim/miniforge3/envs/mlflow/lib/python3.9/site-packages/IPython/core/extensions.py?line=72'>73</a>\u001b[0m \u001b[39mfunction, or None if it succeeded.\u001b[39;00m\n\u001b[1;32m     <a href='file:///Users/ibrahim/miniforge3/envs/mlflow/lib/python3.9/site-packages/IPython/core/extensions.py?line=73'>74</a>\u001b[0m \u001b[39m\"\"\"\u001b[39;00m\n\u001b[1;32m     <a href='file:///Users/ibrahim/miniforge3/envs/mlflow/lib/python3.9/site-packages/IPython/core/extensions.py?line=74'>75</a>\u001b[0m \u001b[39mtry\u001b[39;00m:\n\u001b[0;32m---> <a href='file:///Users/ibrahim/miniforge3/envs/mlflow/lib/python3.9/site-packages/IPython/core/extensions.py?line=75'>76</a>\u001b[0m     \u001b[39mreturn\u001b[39;00m \u001b[39mself\u001b[39;49m\u001b[39m.\u001b[39;49m_load_extension(module_str)\n\u001b[1;32m     <a href='file:///Users/ibrahim/miniforge3/envs/mlflow/lib/python3.9/site-packages/IPython/core/extensions.py?line=76'>77</a>\u001b[0m \u001b[39mexcept\u001b[39;00m \u001b[39mModuleNotFoundError\u001b[39;00m:\n\u001b[1;32m     <a href='file:///Users/ibrahim/miniforge3/envs/mlflow/lib/python3.9/site-packages/IPython/core/extensions.py?line=77'>78</a>\u001b[0m     \u001b[39mif\u001b[39;00m module_str \u001b[39min\u001b[39;00m BUILTINS_EXTS:\n",
      "File \u001b[0;32m~/miniforge3/envs/mlflow/lib/python3.9/site-packages/IPython/core/extensions.py:92\u001b[0m, in \u001b[0;36mExtensionManager._load_extension\u001b[0;34m(self, module_str)\u001b[0m\n\u001b[1;32m     <a href='file:///Users/ibrahim/miniforge3/envs/mlflow/lib/python3.9/site-packages/IPython/core/extensions.py?line=89'>90</a>\u001b[0m \u001b[39mif\u001b[39;00m module_str \u001b[39mnot\u001b[39;00m \u001b[39min\u001b[39;00m sys\u001b[39m.\u001b[39mmodules:\n\u001b[1;32m     <a href='file:///Users/ibrahim/miniforge3/envs/mlflow/lib/python3.9/site-packages/IPython/core/extensions.py?line=90'>91</a>\u001b[0m     \u001b[39mwith\u001b[39;00m prepended_to_syspath(\u001b[39mself\u001b[39m\u001b[39m.\u001b[39mipython_extension_dir):\n\u001b[0;32m---> <a href='file:///Users/ibrahim/miniforge3/envs/mlflow/lib/python3.9/site-packages/IPython/core/extensions.py?line=91'>92</a>\u001b[0m         mod \u001b[39m=\u001b[39m import_module(module_str)\n\u001b[1;32m     <a href='file:///Users/ibrahim/miniforge3/envs/mlflow/lib/python3.9/site-packages/IPython/core/extensions.py?line=92'>93</a>\u001b[0m         \u001b[39mif\u001b[39;00m mod\u001b[39m.\u001b[39m\u001b[39m__file__\u001b[39m\u001b[39m.\u001b[39mstartswith(\u001b[39mself\u001b[39m\u001b[39m.\u001b[39mipython_extension_dir):\n\u001b[1;32m     <a href='file:///Users/ibrahim/miniforge3/envs/mlflow/lib/python3.9/site-packages/IPython/core/extensions.py?line=93'>94</a>\u001b[0m             \u001b[39mprint\u001b[39m((\u001b[39m\"\u001b[39m\u001b[39mLoading extensions from \u001b[39m\u001b[39m{dir}\u001b[39;00m\u001b[39m is deprecated. \u001b[39m\u001b[39m\"\u001b[39m\n\u001b[1;32m     <a href='file:///Users/ibrahim/miniforge3/envs/mlflow/lib/python3.9/site-packages/IPython/core/extensions.py?line=94'>95</a>\u001b[0m                    \u001b[39m\"\u001b[39m\u001b[39mWe recommend managing extensions like any \u001b[39m\u001b[39m\"\u001b[39m\n\u001b[1;32m     <a href='file:///Users/ibrahim/miniforge3/envs/mlflow/lib/python3.9/site-packages/IPython/core/extensions.py?line=95'>96</a>\u001b[0m                    \u001b[39m\"\u001b[39m\u001b[39mother Python packages, in site-packages.\u001b[39m\u001b[39m\"\u001b[39m)\u001b[39m.\u001b[39mformat(\n\u001b[1;32m     <a href='file:///Users/ibrahim/miniforge3/envs/mlflow/lib/python3.9/site-packages/IPython/core/extensions.py?line=96'>97</a>\u001b[0m                   \u001b[39mdir\u001b[39m\u001b[39m=\u001b[39mcompress_user(\u001b[39mself\u001b[39m\u001b[39m.\u001b[39mipython_extension_dir)))\n",
      "File \u001b[0;32m~/miniforge3/envs/mlflow/lib/python3.9/importlib/__init__.py:127\u001b[0m, in \u001b[0;36mimport_module\u001b[0;34m(name, package)\u001b[0m\n\u001b[1;32m    <a href='file:///Users/ibrahim/miniforge3/envs/mlflow/lib/python3.9/importlib/__init__.py?line=124'>125</a>\u001b[0m             \u001b[39mbreak\u001b[39;00m\n\u001b[1;32m    <a href='file:///Users/ibrahim/miniforge3/envs/mlflow/lib/python3.9/importlib/__init__.py?line=125'>126</a>\u001b[0m         level \u001b[39m+\u001b[39m\u001b[39m=\u001b[39m \u001b[39m1\u001b[39m\n\u001b[0;32m--> <a href='file:///Users/ibrahim/miniforge3/envs/mlflow/lib/python3.9/importlib/__init__.py?line=126'>127</a>\u001b[0m \u001b[39mreturn\u001b[39;00m _bootstrap\u001b[39m.\u001b[39;49m_gcd_import(name[level:], package, level)\n",
      "File \u001b[0;32m<frozen importlib._bootstrap>:1030\u001b[0m, in \u001b[0;36m_gcd_import\u001b[0;34m(name, package, level)\u001b[0m\n",
      "File \u001b[0;32m<frozen importlib._bootstrap>:1007\u001b[0m, in \u001b[0;36m_find_and_load\u001b[0;34m(name, import_)\u001b[0m\n",
      "File \u001b[0;32m<frozen importlib._bootstrap>:984\u001b[0m, in \u001b[0;36m_find_and_load_unlocked\u001b[0;34m(name, import_)\u001b[0m\n",
      "\u001b[0;31mModuleNotFoundError\u001b[0m: No module named 'autotime'"
     ]
    }
   ],
   "source": [
    "%load_ext autotime"
   ]
  },
  {
   "cell_type": "code",
   "execution_count": null,
   "id": "institutional-photography",
   "metadata": {},
   "outputs": [
    {
     "ename": "OptionError",
     "evalue": "'Pattern matched multiple keys'",
     "output_type": "error",
     "traceback": [
      "\u001b[0;31m---------------------------------------------------------------------------\u001b[0m",
      "\u001b[0;31mOptionError\u001b[0m                               Traceback (most recent call last)",
      "\u001b[1;32m/Users/ibrahim/Desktop/AIS/S2/Data-Science-in-Production/Course/retraining-pipeline.ipynb Cell 3'\u001b[0m in \u001b[0;36m<cell line: 14>\u001b[0;34m()\u001b[0m\n\u001b[1;32m     <a href='vscode-notebook-cell:/Users/ibrahim/Desktop/AIS/S2/Data-Science-in-Production/Course/retraining-pipeline.ipynb#ch0000002?line=10'>11</a>\u001b[0m np\u001b[39m.\u001b[39mrandom\u001b[39m.\u001b[39mseed(\u001b[39m42\u001b[39m)\n\u001b[1;32m     <a href='vscode-notebook-cell:/Users/ibrahim/Desktop/AIS/S2/Data-Science-in-Production/Course/retraining-pipeline.ipynb#ch0000002?line=12'>13</a>\u001b[0m plt\u001b[39m.\u001b[39mrcParams[\u001b[39m'\u001b[39m\u001b[39mfigure.figsize\u001b[39m\u001b[39m'\u001b[39m] \u001b[39m=\u001b[39m [\u001b[39m10\u001b[39m, \u001b[39m7\u001b[39m]\n\u001b[0;32m---> <a href='vscode-notebook-cell:/Users/ibrahim/Desktop/AIS/S2/Data-Science-in-Production/Course/retraining-pipeline.ipynb#ch0000002?line=13'>14</a>\u001b[0m pd\u001b[39m.\u001b[39;49mset_option(\u001b[39m\"\u001b[39;49m\u001b[39mmax_columns\u001b[39;49m\u001b[39m\"\u001b[39;49m, \u001b[39mNone\u001b[39;49;00m)\n",
      "File \u001b[0;32m~/miniforge3/envs/mlflow/lib/python3.9/site-packages/pandas/_config/config.py:256\u001b[0m, in \u001b[0;36mCallableDynamicDoc.__call__\u001b[0;34m(self, *args, **kwds)\u001b[0m\n\u001b[1;32m    <a href='file:///Users/ibrahim/miniforge3/envs/mlflow/lib/python3.9/site-packages/pandas/_config/config.py?line=254'>255</a>\u001b[0m \u001b[39mdef\u001b[39;00m \u001b[39m__call__\u001b[39m(\u001b[39mself\u001b[39m, \u001b[39m*\u001b[39margs, \u001b[39m*\u001b[39m\u001b[39m*\u001b[39mkwds):\n\u001b[0;32m--> <a href='file:///Users/ibrahim/miniforge3/envs/mlflow/lib/python3.9/site-packages/pandas/_config/config.py?line=255'>256</a>\u001b[0m     \u001b[39mreturn\u001b[39;00m \u001b[39mself\u001b[39;49m\u001b[39m.\u001b[39;49m\u001b[39m__func__\u001b[39;49m(\u001b[39m*\u001b[39;49margs, \u001b[39m*\u001b[39;49m\u001b[39m*\u001b[39;49mkwds)\n",
      "File \u001b[0;32m~/miniforge3/envs/mlflow/lib/python3.9/site-packages/pandas/_config/config.py:149\u001b[0m, in \u001b[0;36m_set_option\u001b[0;34m(*args, **kwargs)\u001b[0m\n\u001b[1;32m    <a href='file:///Users/ibrahim/miniforge3/envs/mlflow/lib/python3.9/site-packages/pandas/_config/config.py?line=145'>146</a>\u001b[0m     \u001b[39mraise\u001b[39;00m \u001b[39mTypeError\u001b[39;00m(\u001b[39mf\u001b[39m\u001b[39m'\u001b[39m\u001b[39m_set_option() got an unexpected keyword argument \u001b[39m\u001b[39m\"\u001b[39m\u001b[39m{\u001b[39;00mkwarg\u001b[39m}\u001b[39;00m\u001b[39m\"\u001b[39m\u001b[39m'\u001b[39m)\n\u001b[1;32m    <a href='file:///Users/ibrahim/miniforge3/envs/mlflow/lib/python3.9/site-packages/pandas/_config/config.py?line=147'>148</a>\u001b[0m \u001b[39mfor\u001b[39;00m k, v \u001b[39min\u001b[39;00m \u001b[39mzip\u001b[39m(args[::\u001b[39m2\u001b[39m], args[\u001b[39m1\u001b[39m::\u001b[39m2\u001b[39m]):\n\u001b[0;32m--> <a href='file:///Users/ibrahim/miniforge3/envs/mlflow/lib/python3.9/site-packages/pandas/_config/config.py?line=148'>149</a>\u001b[0m     key \u001b[39m=\u001b[39m _get_single_key(k, silent)\n\u001b[1;32m    <a href='file:///Users/ibrahim/miniforge3/envs/mlflow/lib/python3.9/site-packages/pandas/_config/config.py?line=150'>151</a>\u001b[0m     o \u001b[39m=\u001b[39m _get_registered_option(key)\n\u001b[1;32m    <a href='file:///Users/ibrahim/miniforge3/envs/mlflow/lib/python3.9/site-packages/pandas/_config/config.py?line=151'>152</a>\u001b[0m     \u001b[39mif\u001b[39;00m o \u001b[39mand\u001b[39;00m o\u001b[39m.\u001b[39mvalidator:\n",
      "File \u001b[0;32m~/miniforge3/envs/mlflow/lib/python3.9/site-packages/pandas/_config/config.py:116\u001b[0m, in \u001b[0;36m_get_single_key\u001b[0;34m(pat, silent)\u001b[0m\n\u001b[1;32m    <a href='file:///Users/ibrahim/miniforge3/envs/mlflow/lib/python3.9/site-packages/pandas/_config/config.py?line=113'>114</a>\u001b[0m     \u001b[39mraise\u001b[39;00m OptionError(\u001b[39mf\u001b[39m\u001b[39m\"\u001b[39m\u001b[39mNo such keys(s): \u001b[39m\u001b[39m{\u001b[39;00m\u001b[39mrepr\u001b[39m(pat)\u001b[39m}\u001b[39;00m\u001b[39m\"\u001b[39m)\n\u001b[1;32m    <a href='file:///Users/ibrahim/miniforge3/envs/mlflow/lib/python3.9/site-packages/pandas/_config/config.py?line=114'>115</a>\u001b[0m \u001b[39mif\u001b[39;00m \u001b[39mlen\u001b[39m(keys) \u001b[39m>\u001b[39m \u001b[39m1\u001b[39m:\n\u001b[0;32m--> <a href='file:///Users/ibrahim/miniforge3/envs/mlflow/lib/python3.9/site-packages/pandas/_config/config.py?line=115'>116</a>\u001b[0m     \u001b[39mraise\u001b[39;00m OptionError(\u001b[39m\"\u001b[39m\u001b[39mPattern matched multiple keys\u001b[39m\u001b[39m\"\u001b[39m)\n\u001b[1;32m    <a href='file:///Users/ibrahim/miniforge3/envs/mlflow/lib/python3.9/site-packages/pandas/_config/config.py?line=116'>117</a>\u001b[0m key \u001b[39m=\u001b[39m keys[\u001b[39m0\u001b[39m]\n\u001b[1;32m    <a href='file:///Users/ibrahim/miniforge3/envs/mlflow/lib/python3.9/site-packages/pandas/_config/config.py?line=118'>119</a>\u001b[0m \u001b[39mif\u001b[39;00m \u001b[39mnot\u001b[39;00m silent:\n",
      "\u001b[0;31mOptionError\u001b[0m: 'Pattern matched multiple keys'"
     ]
    }
   ],
   "source": [
    "import numpy as np\n",
    "import pandas as pd\n",
    "import matplotlib.pyplot as plt\n",
    "import mlflow\n",
    "from mlflow.tracking import MlflowClient\n",
    "\n",
    "from sklearn.model_selection import train_test_split\n",
    "from sklearn.ensemble import RandomForestRegressor\n",
    "from sklearn.metrics import mean_squared_error\n",
    "\n",
    "np.random.seed(42)\n",
    "\n",
    "plt.rcParams['figure.figsize'] = [10, 7]\n",
    "pd.set_option(\"max_columns\", None)"
   ]
  },
  {
   "cell_type": "markdown",
   "id": "stainless-arrest",
   "metadata": {},
   "source": [
    "# Data setup"
   ]
  },
  {
   "cell_type": "markdown",
   "id": "literary-typing",
   "metadata": {},
   "source": [
    "- Download the data from: https://archive.ics.uci.edu/ml/datasets/combined+cycle+power+plant"
   ]
  },
  {
   "cell_type": "markdown",
   "id": "decimal-raising",
   "metadata": {},
   "source": [
    "## Preprocess the excel file data and merge all the data in a single csv fille"
   ]
  },
  {
   "cell_type": "markdown",
   "id": "elect-mexico",
   "metadata": {},
   "source": [
    "- Install xlrd with specific version that supports this format => `pip install xlrd==1.2.0`"
   ]
  },
  {
   "cell_type": "code",
   "execution_count": null,
   "id": "banner-agency",
   "metadata": {},
   "outputs": [
    {
     "name": "stdout",
     "output_type": "stream",
     "text": [
      "time: 284 µs (started: 2022-05-19 18:14:02 +02:00)\n"
     ]
    }
   ],
   "source": [
    "#filepath = '../../data/power-plant/Folds5x2_pp.xlsx'\n",
    "#df = pd.concat(pd.read_excel(filepath, sheet_name=None), ignore_index=True)\n",
    "#df.head()"
   ]
  },
  {
   "cell_type": "code",
   "execution_count": null,
   "id": "normal-ministry",
   "metadata": {},
   "outputs": [
    {
     "name": "stdout",
     "output_type": "stream",
     "text": [
      "time: 269 µs (started: 2022-05-19 18:14:02 +02:00)\n"
     ]
    }
   ],
   "source": [
    "#df.to_csv(\"../../../data/power_plant/power_plants.csv\", index=False)"
   ]
  },
  {
   "cell_type": "markdown",
   "id": "outer-sodium",
   "metadata": {},
   "source": [
    "## Load the csv file and add a device_id column to simulate having multiple IoT devices"
   ]
  },
  {
   "cell_type": "code",
   "execution_count": 9,
   "id": "deadly-capability",
   "metadata": {
    "scrolled": false
   },
   "outputs": [
    {
     "data": {
      "text/html": [
       "<div>\n",
       "<style scoped>\n",
       "    .dataframe tbody tr th:only-of-type {\n",
       "        vertical-align: middle;\n",
       "    }\n",
       "\n",
       "    .dataframe tbody tr th {\n",
       "        vertical-align: top;\n",
       "    }\n",
       "\n",
       "    .dataframe thead th {\n",
       "        text-align: right;\n",
       "    }\n",
       "</style>\n",
       "<table border=\"1\" class=\"dataframe\">\n",
       "  <thead>\n",
       "    <tr style=\"text-align: right;\">\n",
       "      <th></th>\n",
       "      <th>AT</th>\n",
       "      <th>V</th>\n",
       "      <th>AP</th>\n",
       "      <th>RH</th>\n",
       "      <th>PE</th>\n",
       "    </tr>\n",
       "  </thead>\n",
       "  <tbody>\n",
       "    <tr>\n",
       "      <th>0</th>\n",
       "      <td>14.96</td>\n",
       "      <td>41.76</td>\n",
       "      <td>1024.07</td>\n",
       "      <td>73.17</td>\n",
       "      <td>463.26</td>\n",
       "    </tr>\n",
       "    <tr>\n",
       "      <th>1</th>\n",
       "      <td>25.18</td>\n",
       "      <td>62.96</td>\n",
       "      <td>1020.04</td>\n",
       "      <td>59.08</td>\n",
       "      <td>444.37</td>\n",
       "    </tr>\n",
       "    <tr>\n",
       "      <th>2</th>\n",
       "      <td>5.11</td>\n",
       "      <td>39.40</td>\n",
       "      <td>1012.16</td>\n",
       "      <td>92.14</td>\n",
       "      <td>488.56</td>\n",
       "    </tr>\n",
       "    <tr>\n",
       "      <th>3</th>\n",
       "      <td>20.86</td>\n",
       "      <td>57.32</td>\n",
       "      <td>1010.24</td>\n",
       "      <td>76.64</td>\n",
       "      <td>446.48</td>\n",
       "    </tr>\n",
       "    <tr>\n",
       "      <th>4</th>\n",
       "      <td>10.82</td>\n",
       "      <td>37.50</td>\n",
       "      <td>1009.23</td>\n",
       "      <td>96.62</td>\n",
       "      <td>473.90</td>\n",
       "    </tr>\n",
       "  </tbody>\n",
       "</table>\n",
       "</div>"
      ],
      "text/plain": [
       "      AT      V       AP     RH      PE\n",
       "0  14.96  41.76  1024.07  73.17  463.26\n",
       "1  25.18  62.96  1020.04  59.08  444.37\n",
       "2   5.11  39.40  1012.16  92.14  488.56\n",
       "3  20.86  57.32  1010.24  76.64  446.48\n",
       "4  10.82  37.50  1009.23  96.62  473.90"
      ]
     },
     "execution_count": 9,
     "metadata": {},
     "output_type": "execute_result"
    }
   ],
   "source": [
    "df = pd.read_csv(\"power_plants.csv\")\n",
    "df.head()"
   ]
  },
  {
   "cell_type": "markdown",
   "id": "cardiovascular-tissue",
   "metadata": {},
   "source": [
    "- We want to simulate the fact of using multiple models in production at the same time (one model per IoT device). To do that, we can either split our data to 4 dataframes (1 dataframe per IoT device) or we can create a new column `device_id` where we specify the IoT device the record belongs to. We will go with the latter approach by assigning a random number between 1 and 4."
   ]
  },
  {
   "cell_type": "code",
   "execution_count": 10,
   "id": "warming-finance",
   "metadata": {},
   "outputs": [
    {
     "data": {
      "text/html": [
       "<div>\n",
       "<style scoped>\n",
       "    .dataframe tbody tr th:only-of-type {\n",
       "        vertical-align: middle;\n",
       "    }\n",
       "\n",
       "    .dataframe tbody tr th {\n",
       "        vertical-align: top;\n",
       "    }\n",
       "\n",
       "    .dataframe thead th {\n",
       "        text-align: right;\n",
       "    }\n",
       "</style>\n",
       "<table border=\"1\" class=\"dataframe\">\n",
       "  <thead>\n",
       "    <tr style=\"text-align: right;\">\n",
       "      <th></th>\n",
       "      <th>AT</th>\n",
       "      <th>V</th>\n",
       "      <th>AP</th>\n",
       "      <th>RH</th>\n",
       "      <th>PE</th>\n",
       "      <th>device_id</th>\n",
       "    </tr>\n",
       "  </thead>\n",
       "  <tbody>\n",
       "    <tr>\n",
       "      <th>0</th>\n",
       "      <td>14.96</td>\n",
       "      <td>41.76</td>\n",
       "      <td>1024.07</td>\n",
       "      <td>73.17</td>\n",
       "      <td>463.26</td>\n",
       "      <td>3</td>\n",
       "    </tr>\n",
       "    <tr>\n",
       "      <th>1</th>\n",
       "      <td>25.18</td>\n",
       "      <td>62.96</td>\n",
       "      <td>1020.04</td>\n",
       "      <td>59.08</td>\n",
       "      <td>444.37</td>\n",
       "      <td>4</td>\n",
       "    </tr>\n",
       "    <tr>\n",
       "      <th>2</th>\n",
       "      <td>5.11</td>\n",
       "      <td>39.40</td>\n",
       "      <td>1012.16</td>\n",
       "      <td>92.14</td>\n",
       "      <td>488.56</td>\n",
       "      <td>1</td>\n",
       "    </tr>\n",
       "    <tr>\n",
       "      <th>3</th>\n",
       "      <td>20.86</td>\n",
       "      <td>57.32</td>\n",
       "      <td>1010.24</td>\n",
       "      <td>76.64</td>\n",
       "      <td>446.48</td>\n",
       "      <td>3</td>\n",
       "    </tr>\n",
       "    <tr>\n",
       "      <th>4</th>\n",
       "      <td>10.82</td>\n",
       "      <td>37.50</td>\n",
       "      <td>1009.23</td>\n",
       "      <td>96.62</td>\n",
       "      <td>473.90</td>\n",
       "      <td>3</td>\n",
       "    </tr>\n",
       "  </tbody>\n",
       "</table>\n",
       "</div>"
      ],
      "text/plain": [
       "      AT      V       AP     RH      PE  device_id\n",
       "0  14.96  41.76  1024.07  73.17  463.26          3\n",
       "1  25.18  62.96  1020.04  59.08  444.37          4\n",
       "2   5.11  39.40  1012.16  92.14  488.56          1\n",
       "3  20.86  57.32  1010.24  76.64  446.48          3\n",
       "4  10.82  37.50  1009.23  96.62  473.90          3"
      ]
     },
     "execution_count": 10,
     "metadata": {},
     "output_type": "execute_result"
    }
   ],
   "source": [
    "import numpy as np\n",
    "\n",
    "df[\"device_id\"] = np.random.randint(1, 5, size=len(df))\n",
    "df.head()"
   ]
  },
  {
   "cell_type": "code",
   "execution_count": 11,
   "id": "permanent-reasoning",
   "metadata": {},
   "outputs": [
    {
     "data": {
      "text/plain": [
       "1    12081\n",
       "4    11995\n",
       "3    11897\n",
       "2    11867\n",
       "Name: device_id, dtype: int64"
      ]
     },
     "execution_count": 11,
     "metadata": {},
     "output_type": "execute_result"
    }
   ],
   "source": [
    "df.device_id.value_counts()"
   ]
  },
  {
   "cell_type": "markdown",
   "id": "described-addiction",
   "metadata": {},
   "source": [
    "# Model training"
   ]
  },
  {
   "cell_type": "markdown",
   "id": "hungarian-point",
   "metadata": {},
   "source": [
    "## Train model function"
   ]
  },
  {
   "cell_type": "markdown",
   "id": "nervous-daisy",
   "metadata": {},
   "source": [
    "Create a function that trains a model for a single device. It should take the device dataframe as input an do the following steps:\n",
    "- Split the data into training and test set\n",
    "- Trains a `RandomForestRegressor`\n",
    "- Evaluates it with `MAE`, `MSE` and `RMSE`\n",
    "- Returns a dictionary with the following informations\n",
    "    - `device_id`\n",
    "    - `test_mae`\n",
    "    - `test_mse`\n",
    "    - `test_rmse`"
   ]
  },
  {
   "cell_type": "code",
   "execution_count": 16,
   "id": "proprietary-seven",
   "metadata": {
    "scrolled": true
   },
   "outputs": [],
   "source": [
    "from sklearn.metrics import mean_absolute_error, mean_squared_error\n",
    "\n",
    "def train_model_for_an_iot_device(device_df: pd.DataFrame) -> dict:\n",
    "    \"\"\"Trains a model for a single device\"\"\"\n",
    "    device_id = device_df.iloc[0].device_id\n",
    "    \n",
    "    # Split data\n",
    "    X = device_df[[\"AT\", \"V\", \"AP\", \"RH\"]]\n",
    "    y = device_df[\"PE\"]\n",
    "    X_train, X_test, y_train, y_test = train_test_split(X, y, test_size=0.2, random_state=42)\n",
    "    \n",
    "    # Fit model\n",
    "    model = RandomForestRegressor()\n",
    "    model.fit(X_train, y_train)\n",
    "\n",
    "    # Evaluate the model\n",
    "    y_pred = model.predict(X_test)\n",
    "    \n",
    "    test_mae = mean_absolute_error(y_test, y_pred)\n",
    "    test_mse = mean_squared_error(y_test, y_pred)\n",
    "    test_rmse = mean_squared_error(y_test, y_pred, squared=False)\n",
    "    \n",
    "    ret_dict = {\n",
    "        \"device_id\": device_id,\n",
    "        \"test_mae\": test_mae,\n",
    "        \"test_mse\": test_mse,\n",
    "        \"test_rmse\": test_rmse\n",
    "    }\n",
    "    return ret_dict"
   ]
  },
  {
   "cell_type": "markdown",
   "id": "cardiac-permission",
   "metadata": {},
   "source": [
    "## Train a model for all the devices\n",
    "\n",
    "Now that we can train a model for a given IoT device, let's orchestrate the training for all device models given the full dataset (sensor measures from all the IoT devices).\n",
    "\n",
    "Create a function `train_models_for_all_iot_devices` that will take the full data and call the `train_model_for_an_iot_device` function with the corresponding device data. This function shouldd return a dataframe where each row corresponds to each device model training metadata (`device_id`, `fitted_model`, `test_mae`, `test_mse`, `test_rmse`)."
   ]
  },
  {
   "cell_type": "code",
   "execution_count": 17,
   "id": "cleared-tourist",
   "metadata": {},
   "outputs": [],
   "source": [
    "def train_models_for_all_iot_devices(data: pd.DataFrame) -> pd.DataFrame:\n",
    "    ret_dict_list = []\n",
    "    for device_id in data.device_id.unique():\n",
    "        iot_device_df = data[data.device_id == device_id]\n",
    "        ret_dict_list.append(train_model_for_an_iot_device(iot_device_df))\n",
    "    return ret_dict_list"
   ]
  },
  {
   "cell_type": "code",
   "execution_count": 18,
   "id": "hidden-journal",
   "metadata": {},
   "outputs": [
    {
     "data": {
      "text/plain": [
       "[{'device_id': 3.0,\n",
       "  'test_mae': 1.3441227310924548,\n",
       "  'test_mse': 4.980053701609265,\n",
       "  'test_rmse': 2.2316033925429637},\n",
       " {'device_id': 4.0,\n",
       "  'test_mae': 1.3288173822425904,\n",
       "  'test_mse': 4.490531473192989,\n",
       "  'test_rmse': 2.1190874151844206},\n",
       " {'device_id': 1.0,\n",
       "  'test_mae': 1.398851799751759,\n",
       "  'test_mse': 4.837214989433202,\n",
       "  'test_rmse': 2.1993669519734995},\n",
       " {'device_id': 2.0,\n",
       "  'test_mae': 1.4562355096882917,\n",
       "  'test_mse': 5.368358264941064,\n",
       "  'test_rmse': 2.3169717876877707}]"
      ]
     },
     "execution_count": 18,
     "metadata": {},
     "output_type": "execute_result"
    }
   ],
   "source": [
    "train_models_for_all_iot_devices(df)"
   ]
  },
  {
   "cell_type": "markdown",
   "id": "fiscal-elements",
   "metadata": {},
   "source": [
    "## Mlflow integration"
   ]
  },
  {
   "cell_type": "markdown",
   "id": "nuclear-station",
   "metadata": {},
   "source": [
    "`mlflow server --backend-store-uri sqlite:////tmp/mlruns.db --default-artifact-root /tmp/mlruns`"
   ]
  },
  {
   "cell_type": "code",
   "execution_count": 19,
   "id": "useful-castle",
   "metadata": {},
   "outputs": [],
   "source": [
    "mlflow.set_tracking_uri('http://127.0.0.1:5000')"
   ]
  },
  {
   "cell_type": "code",
   "execution_count": 20,
   "id": "annoying-truck",
   "metadata": {},
   "outputs": [
    {
     "ename": "MlflowException",
     "evalue": "API request to endpoint /api/2.0/mlflow/experiments/list failed with error code 403 != 200. Response body: ''",
     "output_type": "error",
     "traceback": [
      "\u001b[0;31m---------------------------------------------------------------------------\u001b[0m",
      "\u001b[0;31mMlflowException\u001b[0m                           Traceback (most recent call last)",
      "\u001b[1;32m/Users/ibrahim/Desktop/AIS/S2/Data-Science-in-Production/Course/retraining-pipeline.ipynb Cell 25'\u001b[0m in \u001b[0;36m<cell line: 3>\u001b[0;34m()\u001b[0m\n\u001b[1;32m      <a href='vscode-notebook-cell:/Users/ibrahim/Desktop/AIS/S2/Data-Science-in-Production/Course/retraining-pipeline.ipynb#ch0000024?line=0'>1</a>\u001b[0m experiment_name \u001b[39m=\u001b[39m \u001b[39m\"\u001b[39m\u001b[39mIot device model training\u001b[39m\u001b[39m\"\u001b[39m\n\u001b[0;32m----> <a href='vscode-notebook-cell:/Users/ibrahim/Desktop/AIS/S2/Data-Science-in-Production/Course/retraining-pipeline.ipynb#ch0000024?line=2'>3</a>\u001b[0m mlflow\u001b[39m.\u001b[39;49mset_experiment(experiment_name)\n\u001b[1;32m      <a href='vscode-notebook-cell:/Users/ibrahim/Desktop/AIS/S2/Data-Science-in-Production/Course/retraining-pipeline.ipynb#ch0000024?line=4'>5</a>\u001b[0m experiment_id \u001b[39m=\u001b[39m mlflow\u001b[39m.\u001b[39mget_experiment_by_name(experiment_name)\u001b[39m.\u001b[39mexperiment_id\n\u001b[1;32m      <a href='vscode-notebook-cell:/Users/ibrahim/Desktop/AIS/S2/Data-Science-in-Production/Course/retraining-pipeline.ipynb#ch0000024?line=5'>6</a>\u001b[0m experiment_id\n",
      "File \u001b[0;32m~/miniforge3/envs/mlflow/lib/python3.9/site-packages/mlflow/tracking/fluent.py:47\u001b[0m, in \u001b[0;36mset_experiment\u001b[0;34m(experiment_name)\u001b[0m\n\u001b[1;32m     <a href='file:///Users/ibrahim/miniforge3/envs/mlflow/lib/python3.9/site-packages/mlflow/tracking/fluent.py?line=39'>40</a>\u001b[0m \u001b[39m\"\"\"\u001b[39;00m\n\u001b[1;32m     <a href='file:///Users/ibrahim/miniforge3/envs/mlflow/lib/python3.9/site-packages/mlflow/tracking/fluent.py?line=40'>41</a>\u001b[0m \u001b[39mSet given experiment as active experiment. If experiment does not exist, create an experiment\u001b[39;00m\n\u001b[1;32m     <a href='file:///Users/ibrahim/miniforge3/envs/mlflow/lib/python3.9/site-packages/mlflow/tracking/fluent.py?line=41'>42</a>\u001b[0m \u001b[39mwith provided name.\u001b[39;00m\n\u001b[1;32m     <a href='file:///Users/ibrahim/miniforge3/envs/mlflow/lib/python3.9/site-packages/mlflow/tracking/fluent.py?line=42'>43</a>\u001b[0m \n\u001b[1;32m     <a href='file:///Users/ibrahim/miniforge3/envs/mlflow/lib/python3.9/site-packages/mlflow/tracking/fluent.py?line=43'>44</a>\u001b[0m \u001b[39m:param experiment_name: Name of experiment to be activated.\u001b[39;00m\n\u001b[1;32m     <a href='file:///Users/ibrahim/miniforge3/envs/mlflow/lib/python3.9/site-packages/mlflow/tracking/fluent.py?line=44'>45</a>\u001b[0m \u001b[39m\"\"\"\u001b[39;00m\n\u001b[1;32m     <a href='file:///Users/ibrahim/miniforge3/envs/mlflow/lib/python3.9/site-packages/mlflow/tracking/fluent.py?line=45'>46</a>\u001b[0m client \u001b[39m=\u001b[39m MlflowClient()\n\u001b[0;32m---> <a href='file:///Users/ibrahim/miniforge3/envs/mlflow/lib/python3.9/site-packages/mlflow/tracking/fluent.py?line=46'>47</a>\u001b[0m experiment \u001b[39m=\u001b[39m client\u001b[39m.\u001b[39;49mget_experiment_by_name(experiment_name)\n\u001b[1;32m     <a href='file:///Users/ibrahim/miniforge3/envs/mlflow/lib/python3.9/site-packages/mlflow/tracking/fluent.py?line=47'>48</a>\u001b[0m exp_id \u001b[39m=\u001b[39m experiment\u001b[39m.\u001b[39mexperiment_id \u001b[39mif\u001b[39;00m experiment \u001b[39melse\u001b[39;00m \u001b[39mNone\u001b[39;00m\n\u001b[1;32m     <a href='file:///Users/ibrahim/miniforge3/envs/mlflow/lib/python3.9/site-packages/mlflow/tracking/fluent.py?line=48'>49</a>\u001b[0m \u001b[39mif\u001b[39;00m exp_id \u001b[39mis\u001b[39;00m \u001b[39mNone\u001b[39;00m:  \u001b[39m# id can be 0\u001b[39;00m\n",
      "File \u001b[0;32m~/miniforge3/envs/mlflow/lib/python3.9/site-packages/mlflow/tracking/client.py:114\u001b[0m, in \u001b[0;36mMlflowClient.get_experiment_by_name\u001b[0;34m(self, name)\u001b[0m\n\u001b[1;32m    <a href='file:///Users/ibrahim/miniforge3/envs/mlflow/lib/python3.9/site-packages/mlflow/tracking/client.py?line=108'>109</a>\u001b[0m \u001b[39mdef\u001b[39;00m \u001b[39mget_experiment_by_name\u001b[39m(\u001b[39mself\u001b[39m, name):\n\u001b[1;32m    <a href='file:///Users/ibrahim/miniforge3/envs/mlflow/lib/python3.9/site-packages/mlflow/tracking/client.py?line=109'>110</a>\u001b[0m     \u001b[39m\"\"\"\u001b[39;00m\n\u001b[1;32m    <a href='file:///Users/ibrahim/miniforge3/envs/mlflow/lib/python3.9/site-packages/mlflow/tracking/client.py?line=110'>111</a>\u001b[0m \u001b[39m    :param name: The experiment name.\u001b[39;00m\n\u001b[1;32m    <a href='file:///Users/ibrahim/miniforge3/envs/mlflow/lib/python3.9/site-packages/mlflow/tracking/client.py?line=111'>112</a>\u001b[0m \u001b[39m    :return: :py:class:`mlflow.entities.Experiment`\u001b[39;00m\n\u001b[1;32m    <a href='file:///Users/ibrahim/miniforge3/envs/mlflow/lib/python3.9/site-packages/mlflow/tracking/client.py?line=112'>113</a>\u001b[0m \u001b[39m    \"\"\"\u001b[39;00m\n\u001b[0;32m--> <a href='file:///Users/ibrahim/miniforge3/envs/mlflow/lib/python3.9/site-packages/mlflow/tracking/client.py?line=113'>114</a>\u001b[0m     \u001b[39mreturn\u001b[39;00m \u001b[39mself\u001b[39;49m\u001b[39m.\u001b[39;49mstore\u001b[39m.\u001b[39;49mget_experiment_by_name(name)\n",
      "File \u001b[0;32m~/miniforge3/envs/mlflow/lib/python3.9/site-packages/mlflow/store/abstract_store.py:75\u001b[0m, in \u001b[0;36mAbstractStore.get_experiment_by_name\u001b[0;34m(self, experiment_name)\u001b[0m\n\u001b[1;32m     <a href='file:///Users/ibrahim/miniforge3/envs/mlflow/lib/python3.9/site-packages/mlflow/store/abstract_store.py?line=64'>65</a>\u001b[0m \u001b[39mdef\u001b[39;00m \u001b[39mget_experiment_by_name\u001b[39m(\u001b[39mself\u001b[39m, experiment_name):\n\u001b[1;32m     <a href='file:///Users/ibrahim/miniforge3/envs/mlflow/lib/python3.9/site-packages/mlflow/store/abstract_store.py?line=65'>66</a>\u001b[0m     \u001b[39m\"\"\"\u001b[39;00m\n\u001b[1;32m     <a href='file:///Users/ibrahim/miniforge3/envs/mlflow/lib/python3.9/site-packages/mlflow/store/abstract_store.py?line=66'>67</a>\u001b[0m \u001b[39m    Fetch the experiment by name from the backend store.\u001b[39;00m\n\u001b[1;32m     <a href='file:///Users/ibrahim/miniforge3/envs/mlflow/lib/python3.9/site-packages/mlflow/store/abstract_store.py?line=67'>68</a>\u001b[0m \u001b[39m    This is a base implementation using ``list_experiments``, derived classes may have\u001b[39;00m\n\u001b[0;32m   (...)\u001b[0m\n\u001b[1;32m     <a href='file:///Users/ibrahim/miniforge3/envs/mlflow/lib/python3.9/site-packages/mlflow/store/abstract_store.py?line=72'>73</a>\u001b[0m \u001b[39m    :return: A single :py:class:`mlflow.entities.Experiment` object if it exists.\u001b[39;00m\n\u001b[1;32m     <a href='file:///Users/ibrahim/miniforge3/envs/mlflow/lib/python3.9/site-packages/mlflow/store/abstract_store.py?line=73'>74</a>\u001b[0m \u001b[39m    \"\"\"\u001b[39;00m\n\u001b[0;32m---> <a href='file:///Users/ibrahim/miniforge3/envs/mlflow/lib/python3.9/site-packages/mlflow/store/abstract_store.py?line=74'>75</a>\u001b[0m     \u001b[39mfor\u001b[39;00m experiment \u001b[39min\u001b[39;00m \u001b[39mself\u001b[39;49m\u001b[39m.\u001b[39;49mlist_experiments(ViewType\u001b[39m.\u001b[39;49mALL):\n\u001b[1;32m     <a href='file:///Users/ibrahim/miniforge3/envs/mlflow/lib/python3.9/site-packages/mlflow/store/abstract_store.py?line=75'>76</a>\u001b[0m         \u001b[39mif\u001b[39;00m experiment\u001b[39m.\u001b[39mname \u001b[39m==\u001b[39m experiment_name:\n\u001b[1;32m     <a href='file:///Users/ibrahim/miniforge3/envs/mlflow/lib/python3.9/site-packages/mlflow/store/abstract_store.py?line=76'>77</a>\u001b[0m             \u001b[39mreturn\u001b[39;00m experiment\n",
      "File \u001b[0;32m~/miniforge3/envs/mlflow/lib/python3.9/site-packages/mlflow/store/rest_store.py:75\u001b[0m, in \u001b[0;36mRestStore.list_experiments\u001b[0;34m(self, view_type)\u001b[0m\n\u001b[1;32m     <a href='file:///Users/ibrahim/miniforge3/envs/mlflow/lib/python3.9/site-packages/mlflow/store/rest_store.py?line=70'>71</a>\u001b[0m \u001b[39m\"\"\"\u001b[39;00m\n\u001b[1;32m     <a href='file:///Users/ibrahim/miniforge3/envs/mlflow/lib/python3.9/site-packages/mlflow/store/rest_store.py?line=71'>72</a>\u001b[0m \u001b[39m:return: a list of all known Experiment objects\u001b[39;00m\n\u001b[1;32m     <a href='file:///Users/ibrahim/miniforge3/envs/mlflow/lib/python3.9/site-packages/mlflow/store/rest_store.py?line=72'>73</a>\u001b[0m \u001b[39m\"\"\"\u001b[39;00m\n\u001b[1;32m     <a href='file:///Users/ibrahim/miniforge3/envs/mlflow/lib/python3.9/site-packages/mlflow/store/rest_store.py?line=73'>74</a>\u001b[0m req_body \u001b[39m=\u001b[39m message_to_json(ListExperiments(view_type\u001b[39m=\u001b[39mview_type))\n\u001b[0;32m---> <a href='file:///Users/ibrahim/miniforge3/envs/mlflow/lib/python3.9/site-packages/mlflow/store/rest_store.py?line=74'>75</a>\u001b[0m response_proto \u001b[39m=\u001b[39m \u001b[39mself\u001b[39;49m\u001b[39m.\u001b[39;49m_call_endpoint(ListExperiments, req_body)\n\u001b[1;32m     <a href='file:///Users/ibrahim/miniforge3/envs/mlflow/lib/python3.9/site-packages/mlflow/store/rest_store.py?line=75'>76</a>\u001b[0m \u001b[39mreturn\u001b[39;00m [Experiment\u001b[39m.\u001b[39mfrom_proto(experiment_proto)\n\u001b[1;32m     <a href='file:///Users/ibrahim/miniforge3/envs/mlflow/lib/python3.9/site-packages/mlflow/store/rest_store.py?line=76'>77</a>\u001b[0m         \u001b[39mfor\u001b[39;00m experiment_proto \u001b[39min\u001b[39;00m response_proto\u001b[39m.\u001b[39mexperiments]\n",
      "File \u001b[0;32m~/miniforge3/envs/mlflow/lib/python3.9/site-packages/mlflow/store/rest_store.py:64\u001b[0m, in \u001b[0;36mRestStore._call_endpoint\u001b[0;34m(self, api, json_body)\u001b[0m\n\u001b[1;32m     <a href='file:///Users/ibrahim/miniforge3/envs/mlflow/lib/python3.9/site-packages/mlflow/store/rest_store.py?line=59'>60</a>\u001b[0m \u001b[39melse\u001b[39;00m:\n\u001b[1;32m     <a href='file:///Users/ibrahim/miniforge3/envs/mlflow/lib/python3.9/site-packages/mlflow/store/rest_store.py?line=60'>61</a>\u001b[0m     response \u001b[39m=\u001b[39m http_request(\n\u001b[1;32m     <a href='file:///Users/ibrahim/miniforge3/envs/mlflow/lib/python3.9/site-packages/mlflow/store/rest_store.py?line=61'>62</a>\u001b[0m         host_creds\u001b[39m=\u001b[39mhost_creds, endpoint\u001b[39m=\u001b[39mendpoint, method\u001b[39m=\u001b[39mmethod, json\u001b[39m=\u001b[39mjson_body)\n\u001b[0;32m---> <a href='file:///Users/ibrahim/miniforge3/envs/mlflow/lib/python3.9/site-packages/mlflow/store/rest_store.py?line=63'>64</a>\u001b[0m response \u001b[39m=\u001b[39m \u001b[39mself\u001b[39;49m\u001b[39m.\u001b[39;49m_verify_rest_response(response, endpoint)\n\u001b[1;32m     <a href='file:///Users/ibrahim/miniforge3/envs/mlflow/lib/python3.9/site-packages/mlflow/store/rest_store.py?line=65'>66</a>\u001b[0m js_dict \u001b[39m=\u001b[39m json\u001b[39m.\u001b[39mloads(response\u001b[39m.\u001b[39mtext)\n\u001b[1;32m     <a href='file:///Users/ibrahim/miniforge3/envs/mlflow/lib/python3.9/site-packages/mlflow/store/rest_store.py?line=66'>67</a>\u001b[0m parse_dict(js_dict\u001b[39m=\u001b[39mjs_dict, message\u001b[39m=\u001b[39mresponse_proto)\n",
      "File \u001b[0;32m~/miniforge3/envs/mlflow/lib/python3.9/site-packages/mlflow/store/rest_store.py:47\u001b[0m, in \u001b[0;36mRestStore._verify_rest_response\u001b[0;34m(self, response, endpoint)\u001b[0m\n\u001b[1;32m     <a href='file:///Users/ibrahim/miniforge3/envs/mlflow/lib/python3.9/site-packages/mlflow/store/rest_store.py?line=45'>46</a>\u001b[0m \u001b[39mdef\u001b[39;00m \u001b[39m_verify_rest_response\u001b[39m(\u001b[39mself\u001b[39m, response, endpoint):\n\u001b[0;32m---> <a href='file:///Users/ibrahim/miniforge3/envs/mlflow/lib/python3.9/site-packages/mlflow/store/rest_store.py?line=46'>47</a>\u001b[0m     \u001b[39mreturn\u001b[39;00m verify_rest_response(response, endpoint)\n",
      "File \u001b[0;32m~/miniforge3/envs/mlflow/lib/python3.9/site-packages/mlflow/utils/rest_utils.py:85\u001b[0m, in \u001b[0;36mverify_rest_response\u001b[0;34m(response, endpoint)\u001b[0m\n\u001b[1;32m     <a href='file:///Users/ibrahim/miniforge3/envs/mlflow/lib/python3.9/site-packages/mlflow/utils/rest_utils.py?line=82'>83</a>\u001b[0m     \u001b[39mif\u001b[39;00m _can_parse_as_json(response\u001b[39m.\u001b[39mtext):\n\u001b[1;32m     <a href='file:///Users/ibrahim/miniforge3/envs/mlflow/lib/python3.9/site-packages/mlflow/utils/rest_utils.py?line=83'>84</a>\u001b[0m         \u001b[39mraise\u001b[39;00m RestException(json\u001b[39m.\u001b[39mloads(response\u001b[39m.\u001b[39mtext))\n\u001b[0;32m---> <a href='file:///Users/ibrahim/miniforge3/envs/mlflow/lib/python3.9/site-packages/mlflow/utils/rest_utils.py?line=84'>85</a>\u001b[0m     \u001b[39mraise\u001b[39;00m MlflowException(\u001b[39m\"\u001b[39m\u001b[39m%s\u001b[39;00m\u001b[39m. Response body: \u001b[39m\u001b[39m'\u001b[39m\u001b[39m%s\u001b[39;00m\u001b[39m'\u001b[39m\u001b[39m\"\u001b[39m \u001b[39m%\u001b[39m (base_msg, response\u001b[39m.\u001b[39mtext))\n\u001b[1;32m     <a href='file:///Users/ibrahim/miniforge3/envs/mlflow/lib/python3.9/site-packages/mlflow/utils/rest_utils.py?line=85'>86</a>\u001b[0m \u001b[39mreturn\u001b[39;00m response\n",
      "\u001b[0;31mMlflowException\u001b[0m: API request to endpoint /api/2.0/mlflow/experiments/list failed with error code 403 != 200. Response body: ''"
     ]
    }
   ],
   "source": [
    "experiment_name = \"Iot device model training\"\n",
    "\n",
    "mlflow.set_experiment(experiment_name)\n",
    "\n",
    "experiment_id = mlflow.get_experiment_by_name(experiment_name).experiment_id\n",
    "experiment_id"
   ]
  },
  {
   "cell_type": "code",
   "execution_count": 21,
   "id": "musical-cricket",
   "metadata": {},
   "outputs": [],
   "source": [
    "from sklearn.metrics import mean_absolute_error, mean_squared_error\n",
    "\n",
    "def train_model_for_an_iot_device(device_df: pd.DataFrame) -> dict:\n",
    "    \"\"\"Trains a model for a single device\"\"\"\n",
    "    device_id = device_df.iloc[0].device_id\n",
    "    \n",
    "    with mlflow.start_run():\n",
    "        mlflow.sklearn.autolog()\n",
    "\n",
    "        # Split data\n",
    "        X = device_df[[\"AT\", \"V\", \"AP\", \"RH\"]]\n",
    "        y = device_df[\"PE\"]\n",
    "        X_train, X_test, y_train, y_test = train_test_split(X, y, test_size=0.2, random_state=42)\n",
    "        mlflow.log_params(\n",
    "            {\"nb_sample\": len(X), \"nb_training_samples\": len(X_train), \"nb_testing_samples\": len(X_test)})\n",
    "\n",
    "        # Fit model\n",
    "        model = RandomForestRegressor()\n",
    "        model.fit(X_train, y_train)\n",
    "\n",
    "        # Evaluate the model\n",
    "        y_pred = model.predict(X_test)\n",
    "\n",
    "        test_mae = mean_absolute_error(y_test, y_pred)\n",
    "        test_mse = mean_squared_error(y_test, y_pred)\n",
    "        test_rmse = mean_squared_error(y_test, y_pred, squared=False)\n",
    "        mlflow.log_metrics({\"test_mae\": test_mae, \"test_mse\": test_mse, \"test_rmse\": test_rmse})\n",
    "\n",
    "        ret_dict = {\n",
    "            \"device_id\": device_id,\n",
    "            \"test_mae\": test_mae,\n",
    "            \"test_mse\": test_mse,\n",
    "            \"test_rmse\": test_rmse\n",
    "        }\n",
    "    return ret_dict"
   ]
  },
  {
   "cell_type": "code",
   "execution_count": 22,
   "id": "bridal-uruguay",
   "metadata": {},
   "outputs": [],
   "source": [
    "def train_models_for_all_iot_devices(data: pd.DataFrame) -> pd.DataFrame:\n",
    "    ret_dict_list = []\n",
    "    for device_id in data.device_id.unique():\n",
    "        iot_device_df = data[data.device_id == device_id]\n",
    "        ret_dict_list.append(train_model_for_an_iot_device(iot_device_df))\n",
    "    return ret_dict_list"
   ]
  },
  {
   "cell_type": "code",
   "execution_count": 23,
   "id": "uniform-envelope",
   "metadata": {
    "scrolled": false
   },
   "outputs": [
    {
     "ename": "MlflowException",
     "evalue": "API request to endpoint /api/2.0/mlflow/runs/create failed with error code 403 != 200. Response body: ''",
     "output_type": "error",
     "traceback": [
      "\u001b[0;31m---------------------------------------------------------------------------\u001b[0m",
      "\u001b[0;31mMlflowException\u001b[0m                           Traceback (most recent call last)",
      "\u001b[1;32m/Users/ibrahim/Desktop/AIS/S2/Data-Science-in-Production/Course/retraining-pipeline.ipynb Cell 28'\u001b[0m in \u001b[0;36m<cell line: 1>\u001b[0;34m()\u001b[0m\n\u001b[0;32m----> <a href='vscode-notebook-cell:/Users/ibrahim/Desktop/AIS/S2/Data-Science-in-Production/Course/retraining-pipeline.ipynb#ch0000027?line=0'>1</a>\u001b[0m train_models_for_all_iot_devices(df)\n",
      "\u001b[1;32m/Users/ibrahim/Desktop/AIS/S2/Data-Science-in-Production/Course/retraining-pipeline.ipynb Cell 27'\u001b[0m in \u001b[0;36mtrain_models_for_all_iot_devices\u001b[0;34m(data)\u001b[0m\n\u001b[1;32m      <a href='vscode-notebook-cell:/Users/ibrahim/Desktop/AIS/S2/Data-Science-in-Production/Course/retraining-pipeline.ipynb#ch0000026?line=2'>3</a>\u001b[0m \u001b[39mfor\u001b[39;00m device_id \u001b[39min\u001b[39;00m data\u001b[39m.\u001b[39mdevice_id\u001b[39m.\u001b[39munique():\n\u001b[1;32m      <a href='vscode-notebook-cell:/Users/ibrahim/Desktop/AIS/S2/Data-Science-in-Production/Course/retraining-pipeline.ipynb#ch0000026?line=3'>4</a>\u001b[0m     iot_device_df \u001b[39m=\u001b[39m data[data\u001b[39m.\u001b[39mdevice_id \u001b[39m==\u001b[39m device_id]\n\u001b[0;32m----> <a href='vscode-notebook-cell:/Users/ibrahim/Desktop/AIS/S2/Data-Science-in-Production/Course/retraining-pipeline.ipynb#ch0000026?line=4'>5</a>\u001b[0m     ret_dict_list\u001b[39m.\u001b[39mappend(train_model_for_an_iot_device(iot_device_df))\n\u001b[1;32m      <a href='vscode-notebook-cell:/Users/ibrahim/Desktop/AIS/S2/Data-Science-in-Production/Course/retraining-pipeline.ipynb#ch0000026?line=5'>6</a>\u001b[0m \u001b[39mreturn\u001b[39;00m ret_dict_list\n",
      "\u001b[1;32m/Users/ibrahim/Desktop/AIS/S2/Data-Science-in-Production/Course/retraining-pipeline.ipynb Cell 26'\u001b[0m in \u001b[0;36mtrain_model_for_an_iot_device\u001b[0;34m(device_df)\u001b[0m\n\u001b[1;32m      <a href='vscode-notebook-cell:/Users/ibrahim/Desktop/AIS/S2/Data-Science-in-Production/Course/retraining-pipeline.ipynb#ch0000025?line=3'>4</a>\u001b[0m \u001b[39m\"\"\"Trains a model for a single device\"\"\"\u001b[39;00m\n\u001b[1;32m      <a href='vscode-notebook-cell:/Users/ibrahim/Desktop/AIS/S2/Data-Science-in-Production/Course/retraining-pipeline.ipynb#ch0000025?line=4'>5</a>\u001b[0m device_id \u001b[39m=\u001b[39m device_df\u001b[39m.\u001b[39miloc[\u001b[39m0\u001b[39m]\u001b[39m.\u001b[39mdevice_id\n\u001b[0;32m----> <a href='vscode-notebook-cell:/Users/ibrahim/Desktop/AIS/S2/Data-Science-in-Production/Course/retraining-pipeline.ipynb#ch0000025?line=6'>7</a>\u001b[0m \u001b[39mwith\u001b[39;00m mlflow\u001b[39m.\u001b[39;49mstart_run():\n\u001b[1;32m      <a href='vscode-notebook-cell:/Users/ibrahim/Desktop/AIS/S2/Data-Science-in-Production/Course/retraining-pipeline.ipynb#ch0000025?line=7'>8</a>\u001b[0m     mlflow\u001b[39m.\u001b[39msklearn\u001b[39m.\u001b[39mautolog()\n\u001b[1;32m     <a href='vscode-notebook-cell:/Users/ibrahim/Desktop/AIS/S2/Data-Science-in-Production/Course/retraining-pipeline.ipynb#ch0000025?line=9'>10</a>\u001b[0m     \u001b[39m# Split data\u001b[39;00m\n",
      "File \u001b[0;32m~/miniforge3/envs/mlflow/lib/python3.9/site-packages/mlflow/tracking/fluent.py:141\u001b[0m, in \u001b[0;36mstart_run\u001b[0;34m(run_id, experiment_id, run_name, nested)\u001b[0m\n\u001b[1;32m    <a href='file:///Users/ibrahim/miniforge3/envs/mlflow/lib/python3.9/site-packages/mlflow/tracking/fluent.py?line=136'>137</a>\u001b[0m         user_specified_tags[MLFLOW_RUN_NAME] \u001b[39m=\u001b[39m run_name\n\u001b[1;32m    <a href='file:///Users/ibrahim/miniforge3/envs/mlflow/lib/python3.9/site-packages/mlflow/tracking/fluent.py?line=138'>139</a>\u001b[0m     tags \u001b[39m=\u001b[39m context_registry\u001b[39m.\u001b[39mresolve_tags(user_specified_tags)\n\u001b[0;32m--> <a href='file:///Users/ibrahim/miniforge3/envs/mlflow/lib/python3.9/site-packages/mlflow/tracking/fluent.py?line=140'>141</a>\u001b[0m     active_run_obj \u001b[39m=\u001b[39m MlflowClient()\u001b[39m.\u001b[39;49mcreate_run(\n\u001b[1;32m    <a href='file:///Users/ibrahim/miniforge3/envs/mlflow/lib/python3.9/site-packages/mlflow/tracking/fluent.py?line=141'>142</a>\u001b[0m         experiment_id\u001b[39m=\u001b[39;49mexp_id_for_run,\n\u001b[1;32m    <a href='file:///Users/ibrahim/miniforge3/envs/mlflow/lib/python3.9/site-packages/mlflow/tracking/fluent.py?line=142'>143</a>\u001b[0m         tags\u001b[39m=\u001b[39;49mtags\n\u001b[1;32m    <a href='file:///Users/ibrahim/miniforge3/envs/mlflow/lib/python3.9/site-packages/mlflow/tracking/fluent.py?line=143'>144</a>\u001b[0m     )\n\u001b[1;32m    <a href='file:///Users/ibrahim/miniforge3/envs/mlflow/lib/python3.9/site-packages/mlflow/tracking/fluent.py?line=145'>146</a>\u001b[0m _active_run_stack\u001b[39m.\u001b[39mappend(ActiveRun(active_run_obj))\n\u001b[1;32m    <a href='file:///Users/ibrahim/miniforge3/envs/mlflow/lib/python3.9/site-packages/mlflow/tracking/fluent.py?line=146'>147</a>\u001b[0m \u001b[39mreturn\u001b[39;00m _active_run_stack[\u001b[39m-\u001b[39m\u001b[39m1\u001b[39m]\n",
      "File \u001b[0;32m~/miniforge3/envs/mlflow/lib/python3.9/site-packages/mlflow/tracking/client.py:84\u001b[0m, in \u001b[0;36mMlflowClient.create_run\u001b[0;34m(self, experiment_id, start_time, tags)\u001b[0m\n\u001b[1;32m     <a href='file:///Users/ibrahim/miniforge3/envs/mlflow/lib/python3.9/site-packages/mlflow/tracking/client.py?line=78'>79</a>\u001b[0m \u001b[39m# Extract user from tags\u001b[39;00m\n\u001b[1;32m     <a href='file:///Users/ibrahim/miniforge3/envs/mlflow/lib/python3.9/site-packages/mlflow/tracking/client.py?line=79'>80</a>\u001b[0m \u001b[39m# This logic is temporary; the user_id attribute of runs is deprecated and will be removed\u001b[39;00m\n\u001b[1;32m     <a href='file:///Users/ibrahim/miniforge3/envs/mlflow/lib/python3.9/site-packages/mlflow/tracking/client.py?line=80'>81</a>\u001b[0m \u001b[39m# in a later release.\u001b[39;00m\n\u001b[1;32m     <a href='file:///Users/ibrahim/miniforge3/envs/mlflow/lib/python3.9/site-packages/mlflow/tracking/client.py?line=81'>82</a>\u001b[0m user_id \u001b[39m=\u001b[39m tags\u001b[39m.\u001b[39mget(MLFLOW_USER, \u001b[39m\"\u001b[39m\u001b[39munknown\u001b[39m\u001b[39m\"\u001b[39m)\n\u001b[0;32m---> <a href='file:///Users/ibrahim/miniforge3/envs/mlflow/lib/python3.9/site-packages/mlflow/tracking/client.py?line=83'>84</a>\u001b[0m \u001b[39mreturn\u001b[39;00m \u001b[39mself\u001b[39;49m\u001b[39m.\u001b[39;49mstore\u001b[39m.\u001b[39;49mcreate_run(\n\u001b[1;32m     <a href='file:///Users/ibrahim/miniforge3/envs/mlflow/lib/python3.9/site-packages/mlflow/tracking/client.py?line=84'>85</a>\u001b[0m     experiment_id\u001b[39m=\u001b[39;49mexperiment_id,\n\u001b[1;32m     <a href='file:///Users/ibrahim/miniforge3/envs/mlflow/lib/python3.9/site-packages/mlflow/tracking/client.py?line=85'>86</a>\u001b[0m     user_id\u001b[39m=\u001b[39;49muser_id,\n\u001b[1;32m     <a href='file:///Users/ibrahim/miniforge3/envs/mlflow/lib/python3.9/site-packages/mlflow/tracking/client.py?line=86'>87</a>\u001b[0m     start_time\u001b[39m=\u001b[39;49mstart_time \u001b[39mor\u001b[39;49;00m \u001b[39mint\u001b[39;49m(time\u001b[39m.\u001b[39;49mtime() \u001b[39m*\u001b[39;49m \u001b[39m1000\u001b[39;49m),\n\u001b[1;32m     <a href='file:///Users/ibrahim/miniforge3/envs/mlflow/lib/python3.9/site-packages/mlflow/tracking/client.py?line=87'>88</a>\u001b[0m     tags\u001b[39m=\u001b[39;49m[RunTag(key, value) \u001b[39mfor\u001b[39;49;00m (key, value) \u001b[39min\u001b[39;49;00m iteritems(tags)]\n\u001b[1;32m     <a href='file:///Users/ibrahim/miniforge3/envs/mlflow/lib/python3.9/site-packages/mlflow/tracking/client.py?line=88'>89</a>\u001b[0m )\n",
      "File \u001b[0;32m~/miniforge3/envs/mlflow/lib/python3.9/site-packages/mlflow/store/rest_store.py:153\u001b[0m, in \u001b[0;36mRestStore.create_run\u001b[0;34m(self, experiment_id, user_id, start_time, tags)\u001b[0m\n\u001b[1;32m    <a href='file:///Users/ibrahim/miniforge3/envs/mlflow/lib/python3.9/site-packages/mlflow/store/rest_store.py?line=148'>149</a>\u001b[0m tag_protos \u001b[39m=\u001b[39m [tag\u001b[39m.\u001b[39mto_proto() \u001b[39mfor\u001b[39;00m tag \u001b[39min\u001b[39;00m tags]\n\u001b[1;32m    <a href='file:///Users/ibrahim/miniforge3/envs/mlflow/lib/python3.9/site-packages/mlflow/store/rest_store.py?line=149'>150</a>\u001b[0m req_body \u001b[39m=\u001b[39m message_to_json(CreateRun(\n\u001b[1;32m    <a href='file:///Users/ibrahim/miniforge3/envs/mlflow/lib/python3.9/site-packages/mlflow/store/rest_store.py?line=150'>151</a>\u001b[0m     experiment_id\u001b[39m=\u001b[39m\u001b[39mstr\u001b[39m(experiment_id), user_id\u001b[39m=\u001b[39muser_id,\n\u001b[1;32m    <a href='file:///Users/ibrahim/miniforge3/envs/mlflow/lib/python3.9/site-packages/mlflow/store/rest_store.py?line=151'>152</a>\u001b[0m     start_time\u001b[39m=\u001b[39mstart_time, tags\u001b[39m=\u001b[39mtag_protos))\n\u001b[0;32m--> <a href='file:///Users/ibrahim/miniforge3/envs/mlflow/lib/python3.9/site-packages/mlflow/store/rest_store.py?line=152'>153</a>\u001b[0m response_proto \u001b[39m=\u001b[39m \u001b[39mself\u001b[39;49m\u001b[39m.\u001b[39;49m_call_endpoint(CreateRun, req_body)\n\u001b[1;32m    <a href='file:///Users/ibrahim/miniforge3/envs/mlflow/lib/python3.9/site-packages/mlflow/store/rest_store.py?line=153'>154</a>\u001b[0m run \u001b[39m=\u001b[39m Run\u001b[39m.\u001b[39mfrom_proto(response_proto\u001b[39m.\u001b[39mrun)\n\u001b[1;32m    <a href='file:///Users/ibrahim/miniforge3/envs/mlflow/lib/python3.9/site-packages/mlflow/store/rest_store.py?line=154'>155</a>\u001b[0m \u001b[39mreturn\u001b[39;00m run\n",
      "File \u001b[0;32m~/miniforge3/envs/mlflow/lib/python3.9/site-packages/mlflow/store/rest_store.py:64\u001b[0m, in \u001b[0;36mRestStore._call_endpoint\u001b[0;34m(self, api, json_body)\u001b[0m\n\u001b[1;32m     <a href='file:///Users/ibrahim/miniforge3/envs/mlflow/lib/python3.9/site-packages/mlflow/store/rest_store.py?line=59'>60</a>\u001b[0m \u001b[39melse\u001b[39;00m:\n\u001b[1;32m     <a href='file:///Users/ibrahim/miniforge3/envs/mlflow/lib/python3.9/site-packages/mlflow/store/rest_store.py?line=60'>61</a>\u001b[0m     response \u001b[39m=\u001b[39m http_request(\n\u001b[1;32m     <a href='file:///Users/ibrahim/miniforge3/envs/mlflow/lib/python3.9/site-packages/mlflow/store/rest_store.py?line=61'>62</a>\u001b[0m         host_creds\u001b[39m=\u001b[39mhost_creds, endpoint\u001b[39m=\u001b[39mendpoint, method\u001b[39m=\u001b[39mmethod, json\u001b[39m=\u001b[39mjson_body)\n\u001b[0;32m---> <a href='file:///Users/ibrahim/miniforge3/envs/mlflow/lib/python3.9/site-packages/mlflow/store/rest_store.py?line=63'>64</a>\u001b[0m response \u001b[39m=\u001b[39m \u001b[39mself\u001b[39;49m\u001b[39m.\u001b[39;49m_verify_rest_response(response, endpoint)\n\u001b[1;32m     <a href='file:///Users/ibrahim/miniforge3/envs/mlflow/lib/python3.9/site-packages/mlflow/store/rest_store.py?line=65'>66</a>\u001b[0m js_dict \u001b[39m=\u001b[39m json\u001b[39m.\u001b[39mloads(response\u001b[39m.\u001b[39mtext)\n\u001b[1;32m     <a href='file:///Users/ibrahim/miniforge3/envs/mlflow/lib/python3.9/site-packages/mlflow/store/rest_store.py?line=66'>67</a>\u001b[0m parse_dict(js_dict\u001b[39m=\u001b[39mjs_dict, message\u001b[39m=\u001b[39mresponse_proto)\n",
      "File \u001b[0;32m~/miniforge3/envs/mlflow/lib/python3.9/site-packages/mlflow/store/rest_store.py:47\u001b[0m, in \u001b[0;36mRestStore._verify_rest_response\u001b[0;34m(self, response, endpoint)\u001b[0m\n\u001b[1;32m     <a href='file:///Users/ibrahim/miniforge3/envs/mlflow/lib/python3.9/site-packages/mlflow/store/rest_store.py?line=45'>46</a>\u001b[0m \u001b[39mdef\u001b[39;00m \u001b[39m_verify_rest_response\u001b[39m(\u001b[39mself\u001b[39m, response, endpoint):\n\u001b[0;32m---> <a href='file:///Users/ibrahim/miniforge3/envs/mlflow/lib/python3.9/site-packages/mlflow/store/rest_store.py?line=46'>47</a>\u001b[0m     \u001b[39mreturn\u001b[39;00m verify_rest_response(response, endpoint)\n",
      "File \u001b[0;32m~/miniforge3/envs/mlflow/lib/python3.9/site-packages/mlflow/utils/rest_utils.py:85\u001b[0m, in \u001b[0;36mverify_rest_response\u001b[0;34m(response, endpoint)\u001b[0m\n\u001b[1;32m     <a href='file:///Users/ibrahim/miniforge3/envs/mlflow/lib/python3.9/site-packages/mlflow/utils/rest_utils.py?line=82'>83</a>\u001b[0m     \u001b[39mif\u001b[39;00m _can_parse_as_json(response\u001b[39m.\u001b[39mtext):\n\u001b[1;32m     <a href='file:///Users/ibrahim/miniforge3/envs/mlflow/lib/python3.9/site-packages/mlflow/utils/rest_utils.py?line=83'>84</a>\u001b[0m         \u001b[39mraise\u001b[39;00m RestException(json\u001b[39m.\u001b[39mloads(response\u001b[39m.\u001b[39mtext))\n\u001b[0;32m---> <a href='file:///Users/ibrahim/miniforge3/envs/mlflow/lib/python3.9/site-packages/mlflow/utils/rest_utils.py?line=84'>85</a>\u001b[0m     \u001b[39mraise\u001b[39;00m MlflowException(\u001b[39m\"\u001b[39m\u001b[39m%s\u001b[39;00m\u001b[39m. Response body: \u001b[39m\u001b[39m'\u001b[39m\u001b[39m%s\u001b[39;00m\u001b[39m'\u001b[39m\u001b[39m\"\u001b[39m \u001b[39m%\u001b[39m (base_msg, response\u001b[39m.\u001b[39mtext))\n\u001b[1;32m     <a href='file:///Users/ibrahim/miniforge3/envs/mlflow/lib/python3.9/site-packages/mlflow/utils/rest_utils.py?line=85'>86</a>\u001b[0m \u001b[39mreturn\u001b[39;00m response\n",
      "\u001b[0;31mMlflowException\u001b[0m: API request to endpoint /api/2.0/mlflow/runs/create failed with error code 403 != 200. Response body: ''"
     ]
    }
   ],
   "source": [
    "train_models_for_all_iot_devices(df)"
   ]
  },
  {
   "cell_type": "markdown",
   "id": "amended-bathroom",
   "metadata": {},
   "source": [
    "## Train a model each month"
   ]
  },
  {
   "cell_type": "code",
   "execution_count": null,
   "id": "younger-tactics",
   "metadata": {},
   "outputs": [
    {
     "name": "stdout",
     "output_type": "stream",
     "text": [
      "time: 2.13 ms (started: 2022-05-19 18:20:10 +02:00)\n"
     ]
    }
   ],
   "source": [
    "from sklearn.metrics import mean_absolute_error, mean_squared_error\n",
    "\n",
    "def train_model_for_an_iot_device(device_df: pd.DataFrame, month_name: str) -> dict:\n",
    "    \"\"\"Trains a model for a single device\"\"\"\n",
    "    device_id = int(device_df.iloc[0].device_id)\n",
    "    \n",
    "    with mlflow.start_run(nested=True, run_name=f\"device {device_id}\"):\n",
    "        mlflow.log_params({\"device_id\": device_id, \"month\": month_name})\n",
    "        \n",
    "        \n",
    "        mlflow.sklearn.autolog()\n",
    "\n",
    "        # Split data\n",
    "        X = device_df[[\"AT\", \"V\", \"AP\", \"RH\"]]\n",
    "        y = device_df[\"PE\"]\n",
    "        X_train, X_test, y_train, y_test = train_test_split(X, y, test_size=0.2, random_state=42)\n",
    "        mlflow.log_params(\n",
    "            {\"nb_sample\": len(X), \"nb_training_samples\": len(X_train), \"nb_testing_samples\": len(X_test)})\n",
    "\n",
    "        # Fit model\n",
    "        model = RandomForestRegressor()\n",
    "        model.fit(X_train, y_train)\n",
    "\n",
    "        # Evaluate the model\n",
    "        y_pred = model.predict(X_test)\n",
    "\n",
    "        test_mae = mean_absolute_error(y_test, y_pred)\n",
    "        test_mse = mean_squared_error(y_test, y_pred)\n",
    "        test_rmse = mean_squared_error(y_test, y_pred, squared=False)\n",
    "        mlflow.log_metrics({\"test_mae\": test_mae, \"test_mse\": test_mse, \"test_rmse\": test_rmse})\n",
    "\n",
    "        ret_dict = {\n",
    "            \"device_id\": device_id,\n",
    "            \"test_mae\": test_mae,\n",
    "            \"test_mse\": test_mse,\n",
    "            \"test_rmse\": test_rmse\n",
    "        }\n",
    "    return ret_dict"
   ]
  },
  {
   "cell_type": "code",
   "execution_count": 24,
   "id": "civilian-manner",
   "metadata": {},
   "outputs": [],
   "source": [
    "def train_models_for_all_iot_devices(data: pd.DataFrame, month_name: str) -> pd.DataFrame:\n",
    "    with mlflow.start_run(run_name=month_name):\n",
    "        ret_dict_list = []\n",
    "        for device_id in data.device_id.unique():\n",
    "            iot_device_df = data[data.device_id == device_id]\n",
    "            ret_dict = train_model_for_an_iot_device(iot_device_df, month_name)\n",
    "            ret_dict_list.append(ret_dict)\n",
    "    return ret_dict_list"
   ]
  },
  {
   "cell_type": "code",
   "execution_count": null,
   "id": "convertible-theology",
   "metadata": {},
   "outputs": [
    {
     "name": "stderr",
     "output_type": "stream",
     "text": [
      "2022/05/19 18:20:42 WARNING mlflow.utils.autologging_utils: You are using an unsupported version of sklearn. If you encounter errors during autologging, try upgrading / downgrading sklearn to a supported version, or try upgrading MLflow.\n",
      "2022/05/19 18:20:51 WARNING mlflow.utils.autologging_utils: You are using an unsupported version of sklearn. If you encounter errors during autologging, try upgrading / downgrading sklearn to a supported version, or try upgrading MLflow.\n",
      "2022/05/19 18:20:59 WARNING mlflow.utils.autologging_utils: You are using an unsupported version of sklearn. If you encounter errors during autologging, try upgrading / downgrading sklearn to a supported version, or try upgrading MLflow.\n",
      "2022/05/19 18:21:06 WARNING mlflow.utils.autologging_utils: You are using an unsupported version of sklearn. If you encounter errors during autologging, try upgrading / downgrading sklearn to a supported version, or try upgrading MLflow.\n"
     ]
    },
    {
     "data": {
      "text/plain": [
       "[{'device_id': 3,\n",
       "  'test_mae': 1.350027016806743,\n",
       "  'test_mse': 5.006475746063059,\n",
       "  'test_rmse': 2.2375155297926},\n",
       " {'device_id': 4,\n",
       "  'test_mae': 1.3250245935806524,\n",
       "  'test_mse': 4.489450530729456,\n",
       "  'test_rmse': 2.1188323507841424},\n",
       " {'device_id': 1,\n",
       "  'test_mae': 1.4050296235002135,\n",
       "  'test_mse': 4.8156215658502335,\n",
       "  'test_rmse': 2.194452452401335},\n",
       " {'device_id': 2,\n",
       "  'test_mae': 1.4403748946925035,\n",
       "  'test_mse': 5.22459497630161,\n",
       "  'test_rmse': 2.28573729380732}]"
      ]
     },
     "execution_count": 75,
     "metadata": {},
     "output_type": "execute_result"
    },
    {
     "name": "stdout",
     "output_type": "stream",
     "text": [
      "time: 33 s (started: 2022-05-19 18:20:42 +02:00)\n"
     ]
    }
   ],
   "source": [
    "train_models_for_all_iot_devices(df, \"june\")"
   ]
  },
  {
   "cell_type": "code",
   "execution_count": null,
   "id": "intelligent-potter",
   "metadata": {},
   "outputs": [
    {
     "name": "stderr",
     "output_type": "stream",
     "text": [
      "2022/05/19 16:12:16 WARNING mlflow.utils.autologging_utils: You are using an unsupported version of sklearn. If you encounter errors during autologging, try upgrading / downgrading sklearn to a supported version, or try upgrading MLflow.\n",
      "2022/05/19 16:12:24 WARNING mlflow.utils.autologging_utils: You are using an unsupported version of sklearn. If you encounter errors during autologging, try upgrading / downgrading sklearn to a supported version, or try upgrading MLflow.\n",
      "2022/05/19 16:12:33 WARNING mlflow.utils.autologging_utils: You are using an unsupported version of sklearn. If you encounter errors during autologging, try upgrading / downgrading sklearn to a supported version, or try upgrading MLflow.\n",
      "2022/05/19 16:12:40 WARNING mlflow.utils.autologging_utils: You are using an unsupported version of sklearn. If you encounter errors during autologging, try upgrading / downgrading sklearn to a supported version, or try upgrading MLflow.\n"
     ]
    },
    {
     "data": {
      "text/plain": [
       "[{'device_id': 3,\n",
       "  'test_mae': 1.3356971848739658,\n",
       "  'test_mse': 4.883434235894973,\n",
       "  'test_rmse': 2.20984936950349},\n",
       " {'device_id': 4,\n",
       "  'test_mae': 1.3278575239683221,\n",
       "  'test_mse': 4.424305160425182,\n",
       "  'test_rmse': 2.1034032329596677},\n",
       " {'device_id': 1,\n",
       "  'test_mae': 1.4019553992552738,\n",
       "  'test_mse': 4.790314462060397,\n",
       "  'test_rmse': 2.188678702336274},\n",
       " {'device_id': 2,\n",
       "  'test_mae': 1.4530315501263735,\n",
       "  'test_mse': 5.35968878169759,\n",
       "  'test_rmse': 2.31510016666614}]"
      ]
     },
     "execution_count": 19,
     "metadata": {},
     "output_type": "execute_result"
    },
    {
     "name": "stdout",
     "output_type": "stream",
     "text": [
      "time: 32.9 s (started: 2022-05-19 16:12:15 +02:00)\n"
     ]
    }
   ],
   "source": [
    "train_models_for_all_iot_devices(df, \"july\")"
   ]
  },
  {
   "cell_type": "code",
   "execution_count": null,
   "id": "important-source",
   "metadata": {},
   "outputs": [
    {
     "name": "stderr",
     "output_type": "stream",
     "text": [
      "2022/05/19 16:12:48 WARNING mlflow.utils.autologging_utils: You are using an unsupported version of sklearn. If you encounter errors during autologging, try upgrading / downgrading sklearn to a supported version, or try upgrading MLflow.\n",
      "2022/05/19 16:12:57 WARNING mlflow.utils.autologging_utils: You are using an unsupported version of sklearn. If you encounter errors during autologging, try upgrading / downgrading sklearn to a supported version, or try upgrading MLflow.\n",
      "2022/05/19 16:13:05 WARNING mlflow.utils.autologging_utils: You are using an unsupported version of sklearn. If you encounter errors during autologging, try upgrading / downgrading sklearn to a supported version, or try upgrading MLflow.\n",
      "2022/05/19 16:13:12 WARNING mlflow.utils.autologging_utils: You are using an unsupported version of sklearn. If you encounter errors during autologging, try upgrading / downgrading sklearn to a supported version, or try upgrading MLflow.\n"
     ]
    },
    {
     "data": {
      "text/plain": [
       "[{'device_id': 3,\n",
       "  'test_mae': 1.3464780252101014,\n",
       "  'test_mse': 4.935150654634459,\n",
       "  'test_rmse': 2.2215198974203356},\n",
       " {'device_id': 4,\n",
       "  'test_mae': 1.3242604418507622,\n",
       "  'test_mse': 4.500514834764469,\n",
       "  'test_rmse': 2.1214416878067777},\n",
       " {'device_id': 1,\n",
       "  'test_mae': 1.4105752999586216,\n",
       "  'test_mse': 4.863400481021913,\n",
       "  'test_rmse': 2.2053118784022168},\n",
       " {'device_id': 2,\n",
       "  'test_mae': 1.4443000421230094,\n",
       "  'test_mse': 5.292979398176116,\n",
       "  'test_rmse': 2.3006476040837103}]"
      ]
     },
     "execution_count": 20,
     "metadata": {},
     "output_type": "execute_result"
    },
    {
     "name": "stdout",
     "output_type": "stream",
     "text": [
      "time: 32.2 s (started: 2022-05-19 16:12:48 +02:00)\n"
     ]
    }
   ],
   "source": [
    "train_models_for_all_iot_devices(df, \"august\")"
   ]
  },
  {
   "cell_type": "markdown",
   "id": "reliable-devon",
   "metadata": {},
   "source": [
    "# Simulate drift in the data"
   ]
  },
  {
   "cell_type": "code",
   "execution_count": null,
   "id": "hidden-anger",
   "metadata": {},
   "outputs": [
    {
     "name": "stdout",
     "output_type": "stream",
     "text": [
      "time: 88.5 ms (started: 2022-05-19 18:23:31 +02:00)\n"
     ]
    }
   ],
   "source": [
    "df_lower_distribution = df[df[\"PE\"] < 450]"
   ]
  },
  {
   "cell_type": "code",
   "execution_count": null,
   "id": "british-applicant",
   "metadata": {},
   "outputs": [
    {
     "data": {
      "text/plain": [
       "array([0.80632897, 0.35475094, 0.81204524, ..., 0.26892028, 0.44214342,\n",
       "       0.09560994])"
      ]
     },
     "execution_count": 78,
     "metadata": {},
     "output_type": "execute_result"
    },
    {
     "name": "stdout",
     "output_type": "stream",
     "text": [
      "time: 10.3 ms (started: 2022-05-19 18:23:38 +02:00)\n"
     ]
    }
   ],
   "source": [
    "# Create 2 \"months\" worth of data from the same distribution\n",
    "indexs = np.random.rand(len(df_lower_distribution))\n",
    "indexs"
   ]
  },
  {
   "cell_type": "code",
   "execution_count": null,
   "id": "incorporate-aging",
   "metadata": {},
   "outputs": [
    {
     "name": "stdout",
     "output_type": "stream",
     "text": [
      "time: 32.6 ms (started: 2022-05-19 18:24:08 +02:00)\n"
     ]
    }
   ],
   "source": [
    "mask = indexs < 0.5\n",
    "df_march, df_april = df_lower_distribution[mask], df_lower_distribution[~mask]"
   ]
  },
  {
   "cell_type": "code",
   "execution_count": null,
   "id": "following-citation",
   "metadata": {},
   "outputs": [
    {
     "data": {
      "text/plain": [
       "<AxesSubplot:>"
      ]
     },
     "execution_count": 82,
     "metadata": {},
     "output_type": "execute_result"
    },
    {
     "data": {
      "image/png": "[encoded data removed]",
      "text/plain": [
       "<Figure size 720x504 with 1 Axes>"
      ]
     },
     "metadata": {
      "needs_background": "light"
     },
     "output_type": "display_data"
    },
    {
     "name": "stdout",
     "output_type": "stream",
     "text": [
      "time: 608 ms (started: 2022-05-19 18:24:08 +02:00)\n"
     ]
    }
   ],
   "source": [
    "df_march[\"PE\"].hist(bins=100)"
   ]
  },
  {
   "cell_type": "code",
   "execution_count": null,
   "id": "flush-swaziland",
   "metadata": {},
   "outputs": [
    {
     "data": {
      "text/plain": [
       "<AxesSubplot:>"
      ]
     },
     "execution_count": 83,
     "metadata": {},
     "output_type": "execute_result"
    },
    {
     "data": {
      "image/png": "[encoded data removed]",
      "text/plain": [
       "<Figure size 720x504 with 1 Axes>"
      ]
     },
     "metadata": {
      "needs_background": "light"
     },
     "output_type": "display_data"
    },
    {
     "name": "stdout",
     "output_type": "stream",
     "text": [
      "time: 643 ms (started: 2022-05-19 18:24:11 +02:00)\n"
     ]
    }
   ],
   "source": [
    "df_april[\"PE\"].hist(bins=100)"
   ]
  },
  {
   "cell_type": "code",
   "execution_count": null,
   "id": "lonely-conclusion",
   "metadata": {},
   "outputs": [
    {
     "data": {
      "text/plain": [
       "<AxesSubplot:>"
      ]
     },
     "execution_count": 84,
     "metadata": {},
     "output_type": "execute_result"
    },
    {
     "data": {
      "image/png": "[encoded data removed]",
      "text/plain": [
       "<Figure size 720x504 with 1 Axes>"
      ]
     },
     "metadata": {
      "needs_background": "light"
     },
     "output_type": "display_data"
    },
    {
     "name": "stdout",
     "output_type": "stream",
     "text": [
      "time: 680 ms (started: 2022-05-19 18:24:34 +02:00)\n"
     ]
    }
   ],
   "source": [
    "df_may = df[df[\"PE\"] >= 450]\n",
    "df_may[\"PE\"].hist(bins=100)"
   ]
  },
  {
   "cell_type": "markdown",
   "id": "instructional-calculator",
   "metadata": {},
   "source": [
    "# Train models for the different months"
   ]
  },
  {
   "cell_type": "code",
   "execution_count": null,
   "id": "italian-doctrine",
   "metadata": {
    "scrolled": true
   },
   "outputs": [
    {
     "name": "stderr",
     "output_type": "stream",
     "text": [
      "2022/05/19 18:27:18 WARNING mlflow.utils.autologging_utils: You are using an unsupported version of sklearn. If you encounter errors during autologging, try upgrading / downgrading sklearn to a supported version, or try upgrading MLflow.\n",
      "2022/05/19 18:27:27 WARNING mlflow.utils.autologging_utils: You are using an unsupported version of sklearn. If you encounter errors during autologging, try upgrading / downgrading sklearn to a supported version, or try upgrading MLflow.\n",
      "2022/05/19 18:27:36 WARNING mlflow.utils.autologging_utils: You are using an unsupported version of sklearn. If you encounter errors during autologging, try upgrading / downgrading sklearn to a supported version, or try upgrading MLflow.\n",
      "2022/05/19 18:27:44 WARNING mlflow.utils.autologging_utils: You are using an unsupported version of sklearn. If you encounter errors during autologging, try upgrading / downgrading sklearn to a supported version, or try upgrading MLflow.\n"
     ]
    },
    {
     "name": "stdout",
     "output_type": "stream",
     "text": [
      "time: 33.7 s (started: 2022-05-19 18:27:18 +02:00)\n"
     ]
    }
   ],
   "source": [
    "_ = train_models_for_all_iot_devices(df_march, \"march\")"
   ]
  },
  {
   "cell_type": "markdown",
   "id": "alpine-belize",
   "metadata": {},
   "source": [
    "## Register a model in the Model Registry"
   ]
  },
  {
   "cell_type": "code",
   "execution_count": null,
   "id": "spoken-launch",
   "metadata": {},
   "outputs": [
    {
     "data": {
      "text/html": [
       "<div>\n",
       "<style scoped>\n",
       "    .dataframe tbody tr th:only-of-type {\n",
       "        vertical-align: middle;\n",
       "    }\n",
       "\n",
       "    .dataframe tbody tr th {\n",
       "        vertical-align: top;\n",
       "    }\n",
       "\n",
       "    .dataframe thead th {\n",
       "        text-align: right;\n",
       "    }\n",
       "</style>\n",
       "<table border=\"1\" class=\"dataframe\">\n",
       "  <thead>\n",
       "    <tr style=\"text-align: right;\">\n",
       "      <th></th>\n",
       "      <th>run_id</th>\n",
       "      <th>experiment_id</th>\n",
       "      <th>status</th>\n",
       "      <th>artifact_uri</th>\n",
       "      <th>start_time</th>\n",
       "      <th>end_time</th>\n",
       "      <th>metrics.test_rmse</th>\n",
       "      <th>metrics.mean_squared_error-2_X_test</th>\n",
       "      <th>metrics.training_r2_score</th>\n",
       "      <th>metrics.test_mae</th>\n",
       "      <th>metrics.training_score</th>\n",
       "      <th>metrics.training_mse</th>\n",
       "      <th>metrics.training_mae</th>\n",
       "      <th>metrics.training_rmse</th>\n",
       "      <th>metrics.mean_absolute_error_X_test</th>\n",
       "      <th>metrics.mean_squared_error_X_test</th>\n",
       "      <th>metrics.test_mse</th>\n",
       "      <th>params.verbose</th>\n",
       "      <th>params.min_weight_fraction_leaf</th>\n",
       "      <th>params.oob_score</th>\n",
       "      <th>params.bootstrap</th>\n",
       "      <th>params.month</th>\n",
       "      <th>params.random_state</th>\n",
       "      <th>params.nb_testing_samples</th>\n",
       "      <th>params.min_samples_leaf</th>\n",
       "      <th>params.min_impurity_decrease</th>\n",
       "      <th>params.max_depth</th>\n",
       "      <th>params.device_id</th>\n",
       "      <th>params.n_jobs</th>\n",
       "      <th>params.max_features</th>\n",
       "      <th>params.max_leaf_nodes</th>\n",
       "      <th>params.min_samples_split</th>\n",
       "      <th>params.n_estimators</th>\n",
       "      <th>params.max_samples</th>\n",
       "      <th>params.ccp_alpha</th>\n",
       "      <th>params.nb_training_samples</th>\n",
       "      <th>params.nb_sample</th>\n",
       "      <th>params.warm_start</th>\n",
       "      <th>params.criterion</th>\n",
       "      <th>tags.mlflow.runName</th>\n",
       "      <th>tags.mlflow.log-model.history</th>\n",
       "      <th>tags.mlflow.source.name</th>\n",
       "      <th>tags.mlflow.user</th>\n",
       "      <th>tags.mlflow.source.type</th>\n",
       "      <th>tags.mlflow.parentRunId</th>\n",
       "      <th>tags.estimator_class</th>\n",
       "      <th>tags.estimator_name</th>\n",
       "    </tr>\n",
       "  </thead>\n",
       "  <tbody>\n",
       "    <tr>\n",
       "      <th>0</th>\n",
       "      <td>967f53df18704e13b23fd38a32bc44d1</td>\n",
       "      <td>1</td>\n",
       "      <td>FINISHED</td>\n",
       "      <td>/tmp/mlruns/1/967f53df18704e13b23fd38a32bc44d1...</td>\n",
       "      <td>2022-05-19 16:27:44.456000+00:00</td>\n",
       "      <td>2022-05-19 16:27:52.314000+00:00</td>\n",
       "      <td>2.580385</td>\n",
       "      <td>2.580385</td>\n",
       "      <td>0.972066</td>\n",
       "      <td>1.850582</td>\n",
       "      <td>0.972066</td>\n",
       "      <td>1.046030</td>\n",
       "      <td>0.703269</td>\n",
       "      <td>1.022756</td>\n",
       "      <td>1.850582</td>\n",
       "      <td>6.658386</td>\n",
       "      <td>6.658386</td>\n",
       "      <td>0</td>\n",
       "      <td>0.0</td>\n",
       "      <td>False</td>\n",
       "      <td>True</td>\n",
       "      <td>march</td>\n",
       "      <td>None</td>\n",
       "      <td>578</td>\n",
       "      <td>1</td>\n",
       "      <td>0.0</td>\n",
       "      <td>None</td>\n",
       "      <td>1</td>\n",
       "      <td>None</td>\n",
       "      <td>auto</td>\n",
       "      <td>None</td>\n",
       "      <td>2</td>\n",
       "      <td>100</td>\n",
       "      <td>None</td>\n",
       "      <td>0.0</td>\n",
       "      <td>2310</td>\n",
       "      <td>2888</td>\n",
       "      <td>False</td>\n",
       "      <td>squared_error</td>\n",
       "      <td>device 1</td>\n",
       "      <td>[{\"run_id\": \"967f53df18704e13b23fd38a32bc44d1\"...</td>\n",
       "      <td>/Users/alaa.bakhti/miniconda3/envs/dsp/lib/pyt...</td>\n",
       "      <td>alaa.bakhti</td>\n",
       "      <td>LOCAL</td>\n",
       "      <td>f39d9141069945fa8a02bad8c80b14b3</td>\n",
       "      <td>sklearn.ensemble._forest.RandomForestRegressor</td>\n",
       "      <td>RandomForestRegressor</td>\n",
       "    </tr>\n",
       "    <tr>\n",
       "      <th>1</th>\n",
       "      <td>ad4eedebf00142f7b0f4ef6243391dd5</td>\n",
       "      <td>1</td>\n",
       "      <td>FINISHED</td>\n",
       "      <td>/tmp/mlruns/1/ad4eedebf00142f7b0f4ef6243391dd5...</td>\n",
       "      <td>2022-05-19 16:27:36.381000+00:00</td>\n",
       "      <td>2022-05-19 16:27:44.419000+00:00</td>\n",
       "      <td>2.774602</td>\n",
       "      <td>2.774602</td>\n",
       "      <td>0.972369</td>\n",
       "      <td>1.947043</td>\n",
       "      <td>0.972369</td>\n",
       "      <td>1.019689</td>\n",
       "      <td>0.697326</td>\n",
       "      <td>1.009796</td>\n",
       "      <td>1.947043</td>\n",
       "      <td>7.698414</td>\n",
       "      <td>7.698414</td>\n",
       "      <td>0</td>\n",
       "      <td>0.0</td>\n",
       "      <td>False</td>\n",
       "      <td>True</td>\n",
       "      <td>march</td>\n",
       "      <td>None</td>\n",
       "      <td>578</td>\n",
       "      <td>1</td>\n",
       "      <td>0.0</td>\n",
       "      <td>None</td>\n",
       "      <td>2</td>\n",
       "      <td>None</td>\n",
       "      <td>auto</td>\n",
       "      <td>None</td>\n",
       "      <td>2</td>\n",
       "      <td>100</td>\n",
       "      <td>None</td>\n",
       "      <td>0.0</td>\n",
       "      <td>2308</td>\n",
       "      <td>2886</td>\n",
       "      <td>False</td>\n",
       "      <td>squared_error</td>\n",
       "      <td>device 2</td>\n",
       "      <td>[{\"run_id\": \"ad4eedebf00142f7b0f4ef6243391dd5\"...</td>\n",
       "      <td>/Users/alaa.bakhti/miniconda3/envs/dsp/lib/pyt...</td>\n",
       "      <td>alaa.bakhti</td>\n",
       "      <td>LOCAL</td>\n",
       "      <td>f39d9141069945fa8a02bad8c80b14b3</td>\n",
       "      <td>sklearn.ensemble._forest.RandomForestRegressor</td>\n",
       "      <td>RandomForestRegressor</td>\n",
       "    </tr>\n",
       "    <tr>\n",
       "      <th>2</th>\n",
       "      <td>146e917f456a40bb8f5f9c705466e161</td>\n",
       "      <td>1</td>\n",
       "      <td>FINISHED</td>\n",
       "      <td>/tmp/mlruns/1/146e917f456a40bb8f5f9c705466e161...</td>\n",
       "      <td>2022-05-19 16:27:27.533000+00:00</td>\n",
       "      <td>2022-05-19 16:27:36.353000+00:00</td>\n",
       "      <td>2.700818</td>\n",
       "      <td>2.700818</td>\n",
       "      <td>0.973205</td>\n",
       "      <td>1.896885</td>\n",
       "      <td>0.973205</td>\n",
       "      <td>1.021489</td>\n",
       "      <td>0.689177</td>\n",
       "      <td>1.010687</td>\n",
       "      <td>1.896885</td>\n",
       "      <td>7.294416</td>\n",
       "      <td>7.294416</td>\n",
       "      <td>0</td>\n",
       "      <td>0.0</td>\n",
       "      <td>False</td>\n",
       "      <td>True</td>\n",
       "      <td>march</td>\n",
       "      <td>None</td>\n",
       "      <td>567</td>\n",
       "      <td>1</td>\n",
       "      <td>0.0</td>\n",
       "      <td>None</td>\n",
       "      <td>4</td>\n",
       "      <td>None</td>\n",
       "      <td>auto</td>\n",
       "      <td>None</td>\n",
       "      <td>2</td>\n",
       "      <td>100</td>\n",
       "      <td>None</td>\n",
       "      <td>0.0</td>\n",
       "      <td>2268</td>\n",
       "      <td>2835</td>\n",
       "      <td>False</td>\n",
       "      <td>squared_error</td>\n",
       "      <td>device 4</td>\n",
       "      <td>[{\"run_id\": \"146e917f456a40bb8f5f9c705466e161\"...</td>\n",
       "      <td>/Users/alaa.bakhti/miniconda3/envs/dsp/lib/pyt...</td>\n",
       "      <td>alaa.bakhti</td>\n",
       "      <td>LOCAL</td>\n",
       "      <td>f39d9141069945fa8a02bad8c80b14b3</td>\n",
       "      <td>sklearn.ensemble._forest.RandomForestRegressor</td>\n",
       "      <td>RandomForestRegressor</td>\n",
       "    </tr>\n",
       "    <tr>\n",
       "      <th>3</th>\n",
       "      <td>cc05bbabe0fa44e4a6e4f5da2b2c7e5d</td>\n",
       "      <td>1</td>\n",
       "      <td>FINISHED</td>\n",
       "      <td>/tmp/mlruns/1/cc05bbabe0fa44e4a6e4f5da2b2c7e5d...</td>\n",
       "      <td>2022-05-19 16:27:18.680000+00:00</td>\n",
       "      <td>2022-05-19 16:27:27.504000+00:00</td>\n",
       "      <td>2.711634</td>\n",
       "      <td>2.711634</td>\n",
       "      <td>0.972606</td>\n",
       "      <td>1.829466</td>\n",
       "      <td>0.972606</td>\n",
       "      <td>1.053039</td>\n",
       "      <td>0.697442</td>\n",
       "      <td>1.026177</td>\n",
       "      <td>1.829466</td>\n",
       "      <td>7.352962</td>\n",
       "      <td>7.352962</td>\n",
       "      <td>0</td>\n",
       "      <td>0.0</td>\n",
       "      <td>False</td>\n",
       "      <td>True</td>\n",
       "      <td>march</td>\n",
       "      <td>None</td>\n",
       "      <td>575</td>\n",
       "      <td>1</td>\n",
       "      <td>0.0</td>\n",
       "      <td>None</td>\n",
       "      <td>3</td>\n",
       "      <td>None</td>\n",
       "      <td>auto</td>\n",
       "      <td>None</td>\n",
       "      <td>2</td>\n",
       "      <td>100</td>\n",
       "      <td>None</td>\n",
       "      <td>0.0</td>\n",
       "      <td>2299</td>\n",
       "      <td>2874</td>\n",
       "      <td>False</td>\n",
       "      <td>squared_error</td>\n",
       "      <td>device 3</td>\n",
       "      <td>[{\"run_id\": \"cc05bbabe0fa44e4a6e4f5da2b2c7e5d\"...</td>\n",
       "      <td>/Users/alaa.bakhti/miniconda3/envs/dsp/lib/pyt...</td>\n",
       "      <td>alaa.bakhti</td>\n",
       "      <td>LOCAL</td>\n",
       "      <td>f39d9141069945fa8a02bad8c80b14b3</td>\n",
       "      <td>sklearn.ensemble._forest.RandomForestRegressor</td>\n",
       "      <td>RandomForestRegressor</td>\n",
       "    </tr>\n",
       "    <tr>\n",
       "      <th>4</th>\n",
       "      <td>f39d9141069945fa8a02bad8c80b14b3</td>\n",
       "      <td>1</td>\n",
       "      <td>FINISHED</td>\n",
       "      <td>/tmp/mlruns/1/f39d9141069945fa8a02bad8c80b14b3...</td>\n",
       "      <td>2022-05-19 16:27:18.645000+00:00</td>\n",
       "      <td>2022-05-19 16:27:52.343000+00:00</td>\n",
       "      <td>NaN</td>\n",
       "      <td>NaN</td>\n",
       "      <td>NaN</td>\n",
       "      <td>NaN</td>\n",
       "      <td>NaN</td>\n",
       "      <td>NaN</td>\n",
       "      <td>NaN</td>\n",
       "      <td>NaN</td>\n",
       "      <td>NaN</td>\n",
       "      <td>NaN</td>\n",
       "      <td>NaN</td>\n",
       "      <td>None</td>\n",
       "      <td>None</td>\n",
       "      <td>None</td>\n",
       "      <td>None</td>\n",
       "      <td>None</td>\n",
       "      <td>None</td>\n",
       "      <td>None</td>\n",
       "      <td>None</td>\n",
       "      <td>None</td>\n",
       "      <td>None</td>\n",
       "      <td>None</td>\n",
       "      <td>None</td>\n",
       "      <td>None</td>\n",
       "      <td>None</td>\n",
       "      <td>None</td>\n",
       "      <td>None</td>\n",
       "      <td>None</td>\n",
       "      <td>None</td>\n",
       "      <td>None</td>\n",
       "      <td>None</td>\n",
       "      <td>None</td>\n",
       "      <td>None</td>\n",
       "      <td>march</td>\n",
       "      <td>None</td>\n",
       "      <td>/Users/alaa.bakhti/miniconda3/envs/dsp/lib/pyt...</td>\n",
       "      <td>alaa.bakhti</td>\n",
       "      <td>LOCAL</td>\n",
       "      <td>None</td>\n",
       "      <td>None</td>\n",
       "      <td>None</td>\n",
       "    </tr>\n",
       "  </tbody>\n",
       "</table>\n",
       "</div>"
      ],
      "text/plain": [
       "                             run_id experiment_id    status  \\\n",
       "0  967f53df18704e13b23fd38a32bc44d1             1  FINISHED   \n",
       "1  ad4eedebf00142f7b0f4ef6243391dd5             1  FINISHED   \n",
       "2  146e917f456a40bb8f5f9c705466e161             1  FINISHED   \n",
       "3  cc05bbabe0fa44e4a6e4f5da2b2c7e5d             1  FINISHED   \n",
       "4  f39d9141069945fa8a02bad8c80b14b3             1  FINISHED   \n",
       "\n",
       "                                        artifact_uri  \\\n",
       "0  /tmp/mlruns/1/967f53df18704e13b23fd38a32bc44d1...   \n",
       "1  /tmp/mlruns/1/ad4eedebf00142f7b0f4ef6243391dd5...   \n",
       "2  /tmp/mlruns/1/146e917f456a40bb8f5f9c705466e161...   \n",
       "3  /tmp/mlruns/1/cc05bbabe0fa44e4a6e4f5da2b2c7e5d...   \n",
       "4  /tmp/mlruns/1/f39d9141069945fa8a02bad8c80b14b3...   \n",
       "\n",
       "                        start_time                         end_time  \\\n",
       "0 2022-05-19 16:27:44.456000+00:00 2022-05-19 16:27:52.314000+00:00   \n",
       "1 2022-05-19 16:27:36.381000+00:00 2022-05-19 16:27:44.419000+00:00   \n",
       "2 2022-05-19 16:27:27.533000+00:00 2022-05-19 16:27:36.353000+00:00   \n",
       "3 2022-05-19 16:27:18.680000+00:00 2022-05-19 16:27:27.504000+00:00   \n",
       "4 2022-05-19 16:27:18.645000+00:00 2022-05-19 16:27:52.343000+00:00   \n",
       "\n",
       "   metrics.test_rmse  metrics.mean_squared_error-2_X_test  \\\n",
       "0           2.580385                             2.580385   \n",
       "1           2.774602                             2.774602   \n",
       "2           2.700818                             2.700818   \n",
       "3           2.711634                             2.711634   \n",
       "4                NaN                                  NaN   \n",
       "\n",
       "   metrics.training_r2_score  metrics.test_mae  metrics.training_score  \\\n",
       "0                   0.972066          1.850582                0.972066   \n",
       "1                   0.972369          1.947043                0.972369   \n",
       "2                   0.973205          1.896885                0.973205   \n",
       "3                   0.972606          1.829466                0.972606   \n",
       "4                        NaN               NaN                     NaN   \n",
       "\n",
       "   metrics.training_mse  metrics.training_mae  metrics.training_rmse  \\\n",
       "0              1.046030              0.703269               1.022756   \n",
       "1              1.019689              0.697326               1.009796   \n",
       "2              1.021489              0.689177               1.010687   \n",
       "3              1.053039              0.697442               1.026177   \n",
       "4                   NaN                   NaN                    NaN   \n",
       "\n",
       "   metrics.mean_absolute_error_X_test  metrics.mean_squared_error_X_test  \\\n",
       "0                            1.850582                           6.658386   \n",
       "1                            1.947043                           7.698414   \n",
       "2                            1.896885                           7.294416   \n",
       "3                            1.829466                           7.352962   \n",
       "4                                 NaN                                NaN   \n",
       "\n",
       "   metrics.test_mse params.verbose params.min_weight_fraction_leaf  \\\n",
       "0          6.658386              0                             0.0   \n",
       "1          7.698414              0                             0.0   \n",
       "2          7.294416              0                             0.0   \n",
       "3          7.352962              0                             0.0   \n",
       "4               NaN           None                            None   \n",
       "\n",
       "  params.oob_score params.bootstrap params.month params.random_state  \\\n",
       "0            False             True        march                None   \n",
       "1            False             True        march                None   \n",
       "2            False             True        march                None   \n",
       "3            False             True        march                None   \n",
       "4             None             None         None                None   \n",
       "\n",
       "  params.nb_testing_samples params.min_samples_leaf  \\\n",
       "0                       578                       1   \n",
       "1                       578                       1   \n",
       "2                       567                       1   \n",
       "3                       575                       1   \n",
       "4                      None                    None   \n",
       "\n",
       "  params.min_impurity_decrease params.max_depth params.device_id  \\\n",
       "0                          0.0             None                1   \n",
       "1                          0.0             None                2   \n",
       "2                          0.0             None                4   \n",
       "3                          0.0             None                3   \n",
       "4                         None             None             None   \n",
       "\n",
       "  params.n_jobs params.max_features params.max_leaf_nodes  \\\n",
       "0          None                auto                  None   \n",
       "1          None                auto                  None   \n",
       "2          None                auto                  None   \n",
       "3          None                auto                  None   \n",
       "4          None                None                  None   \n",
       "\n",
       "  params.min_samples_split params.n_estimators params.max_samples  \\\n",
       "0                        2                 100               None   \n",
       "1                        2                 100               None   \n",
       "2                        2                 100               None   \n",
       "3                        2                 100               None   \n",
       "4                     None                None               None   \n",
       "\n",
       "  params.ccp_alpha params.nb_training_samples params.nb_sample  \\\n",
       "0              0.0                       2310             2888   \n",
       "1              0.0                       2308             2886   \n",
       "2              0.0                       2268             2835   \n",
       "3              0.0                       2299             2874   \n",
       "4             None                       None             None   \n",
       "\n",
       "  params.warm_start params.criterion tags.mlflow.runName  \\\n",
       "0             False    squared_error            device 1   \n",
       "1             False    squared_error            device 2   \n",
       "2             False    squared_error            device 4   \n",
       "3             False    squared_error            device 3   \n",
       "4              None             None               march   \n",
       "\n",
       "                       tags.mlflow.log-model.history  \\\n",
       "0  [{\"run_id\": \"967f53df18704e13b23fd38a32bc44d1\"...   \n",
       "1  [{\"run_id\": \"ad4eedebf00142f7b0f4ef6243391dd5\"...   \n",
       "2  [{\"run_id\": \"146e917f456a40bb8f5f9c705466e161\"...   \n",
       "3  [{\"run_id\": \"cc05bbabe0fa44e4a6e4f5da2b2c7e5d\"...   \n",
       "4                                               None   \n",
       "\n",
       "                             tags.mlflow.source.name tags.mlflow.user  \\\n",
       "0  /Users/alaa.bakhti/miniconda3/envs/dsp/lib/pyt...      alaa.bakhti   \n",
       "1  /Users/alaa.bakhti/miniconda3/envs/dsp/lib/pyt...      alaa.bakhti   \n",
       "2  /Users/alaa.bakhti/miniconda3/envs/dsp/lib/pyt...      alaa.bakhti   \n",
       "3  /Users/alaa.bakhti/miniconda3/envs/dsp/lib/pyt...      alaa.bakhti   \n",
       "4  /Users/alaa.bakhti/miniconda3/envs/dsp/lib/pyt...      alaa.bakhti   \n",
       "\n",
       "  tags.mlflow.source.type           tags.mlflow.parentRunId  \\\n",
       "0                   LOCAL  f39d9141069945fa8a02bad8c80b14b3   \n",
       "1                   LOCAL  f39d9141069945fa8a02bad8c80b14b3   \n",
       "2                   LOCAL  f39d9141069945fa8a02bad8c80b14b3   \n",
       "3                   LOCAL  f39d9141069945fa8a02bad8c80b14b3   \n",
       "4                   LOCAL                              None   \n",
       "\n",
       "                             tags.estimator_class    tags.estimator_name  \n",
       "0  sklearn.ensemble._forest.RandomForestRegressor  RandomForestRegressor  \n",
       "1  sklearn.ensemble._forest.RandomForestRegressor  RandomForestRegressor  \n",
       "2  sklearn.ensemble._forest.RandomForestRegressor  RandomForestRegressor  \n",
       "3  sklearn.ensemble._forest.RandomForestRegressor  RandomForestRegressor  \n",
       "4                                            None                   None  "
      ]
     },
     "execution_count": 87,
     "metadata": {},
     "output_type": "execute_result"
    },
    {
     "name": "stdout",
     "output_type": "stream",
     "text": [
      "time: 157 ms (started: 2022-05-19 18:29:35 +02:00)\n"
     ]
    }
   ],
   "source": [
    "all_experiment_runs_df = mlflow.search_runs(experiment_id)\n",
    "all_experiment_runs_df.head()"
   ]
  },
  {
   "cell_type": "markdown",
   "id": "russian-visitor",
   "metadata": {},
   "source": [
    "- Register model in Mlflow ModelRegistry"
   ]
  },
  {
   "cell_type": "code",
   "execution_count": null,
   "id": "plain-expert",
   "metadata": {},
   "outputs": [
    {
     "data": {
      "text/plain": [
       "'967f53df18704e13b23fd38a32bc44d1'"
      ]
     },
     "execution_count": 88,
     "metadata": {},
     "output_type": "execute_result"
    },
    {
     "name": "stdout",
     "output_type": "stream",
     "text": [
      "time: 155 ms (started: 2022-05-19 18:31:49 +02:00)\n"
     ]
    }
   ],
   "source": [
    "device_id = 1\n",
    "current_month = \"march\"\n",
    "best_model_for_device_for_current_month_run_id = mlflow.search_runs(\n",
    "    experiment_id,\n",
    "    order_by=['metrics.test_rmse desc'],\n",
    "    filter_string=f\"params.device_id = '{device_id}' AND params.month = '{current_month}'\"\n",
    ").iloc[0][\"run_id\"]\n",
    "best_model_for_device_for_current_month_run_id"
   ]
  },
  {
   "cell_type": "code",
   "execution_count": null,
   "id": "interesting-python",
   "metadata": {},
   "outputs": [
    {
     "name": "stderr",
     "output_type": "stream",
     "text": [
      "Successfully registered model 'powerplant_device_1'.\n",
      "2022/05/19 18:34:28 INFO mlflow.tracking._model_registry.client: Waiting up to 300 seconds for model version to finish creation.                     Model name: powerplant_device_1, version 1\n"
     ]
    },
    {
     "name": "stdout",
     "output_type": "stream",
     "text": [
      "time: 161 ms (started: 2022-05-19 18:34:28 +02:00)\n"
     ]
    },
    {
     "name": "stderr",
     "output_type": "stream",
     "text": [
      "Created version '1' of model 'powerplant_device_1'.\n"
     ]
    }
   ],
   "source": [
    "model_uri = f\"runs:/{best_model_for_device_for_current_month_run_id}/model\"\n",
    "model_name_in_model_registry = f\"powerplant_device_{device_id}\"\n",
    "model_version = mlflow.register_model(model_uri=model_uri, name=model_name_in_model_registry)"
   ]
  },
  {
   "cell_type": "code",
   "execution_count": null,
   "id": "starting-fundamental",
   "metadata": {},
   "outputs": [
    {
     "data": {
      "text/plain": [
       "<ModelVersion: creation_timestamp=1652978068732, current_stage='None', description='', last_updated_timestamp=1652978068732, name='powerplant_device_1', run_id='967f53df18704e13b23fd38a32bc44d1', run_link='', source='/tmp/mlruns/1/967f53df18704e13b23fd38a32bc44d1/artifacts/model', status='READY', status_message='', tags={}, user_id='', version='1'>"
      ]
     },
     "execution_count": 90,
     "metadata": {},
     "output_type": "execute_result"
    },
    {
     "name": "stdout",
     "output_type": "stream",
     "text": [
      "time: 5.14 ms (started: 2022-05-19 18:36:26 +02:00)\n"
     ]
    }
   ],
   "source": [
    "model_version"
   ]
  },
  {
   "cell_type": "code",
   "execution_count": null,
   "id": "quality-luxury",
   "metadata": {},
   "outputs": [
    {
     "name": "stdout",
     "output_type": "stream",
     "text": [
      "time: 3.27 ms (started: 2022-05-19 18:37:10 +02:00)\n"
     ]
    }
   ],
   "source": [
    "def register_iot_device_model_with_best_rmse(month: str, device_id: int, experiment_name: str):\n",
    "    experiment_id = mlflow.get_experiment_by_name(experiment_name).experiment_id\n",
    "    run_id = mlflow.search_runs(\n",
    "        experiment_id,\n",
    "        order_by=['metrics.test_rmse desc'],\n",
    "        filter_string=f\"params.device_id = '{device_id}' AND params.month = '{month}'\"\n",
    "    ).iloc[0][\"run_id\"]\n",
    "    \n",
    "    model_name_in_model_registry = f\"powerplant_device_{device_id}\"\n",
    "    model_version = mlflow.register_model(model_uri=f\"runs:/{run_id}/model\", name=model_name_in_model_registry)\n",
    "    return model_version"
   ]
  },
  {
   "cell_type": "code",
   "execution_count": null,
   "id": "initial-knight",
   "metadata": {},
   "outputs": [
    {
     "name": "stderr",
     "output_type": "stream",
     "text": [
      "Successfully registered model 'powerplant_device_2'.\n",
      "2022/05/19 18:37:12 INFO mlflow.tracking._model_registry.client: Waiting up to 300 seconds for model version to finish creation.                     Model name: powerplant_device_2, version 1\n",
      "Created version '1' of model 'powerplant_device_2'.\n"
     ]
    },
    {
     "data": {
      "text/plain": [
       "<ModelVersion: creation_timestamp=1652978232180, current_stage='None', description='', last_updated_timestamp=1652978232180, name='powerplant_device_2', run_id='ad4eedebf00142f7b0f4ef6243391dd5', run_link='', source='/tmp/mlruns/1/ad4eedebf00142f7b0f4ef6243391dd5/artifacts/model', status='READY', status_message='', tags={}, user_id='', version='1'>"
      ]
     },
     "execution_count": 93,
     "metadata": {},
     "output_type": "execute_result"
    },
    {
     "name": "stdout",
     "output_type": "stream",
     "text": [
      "time: 423 ms (started: 2022-05-19 18:37:11 +02:00)\n"
     ]
    }
   ],
   "source": [
    "model_version = register_iot_device_model_with_best_rmse(\"march\", 2, experiment_name)\n",
    "model_version"
   ]
  },
  {
   "cell_type": "markdown",
   "id": "sensitive-jenny",
   "metadata": {},
   "source": [
    "## Transition model for a different stage"
   ]
  },
  {
   "cell_type": "code",
   "execution_count": null,
   "id": "expired-browse",
   "metadata": {},
   "outputs": [
    {
     "name": "stdout",
     "output_type": "stream",
     "text": [
      "time: 1.43 ms (started: 2022-05-19 18:40:20 +02:00)\n"
     ]
    }
   ],
   "source": [
    "client = MlflowClient()"
   ]
  },
  {
   "cell_type": "code",
   "execution_count": null,
   "id": "intelligent-arctic",
   "metadata": {},
   "outputs": [
    {
     "name": "stdout",
     "output_type": "stream",
     "text": [
      "Help on method transition_model_version_stage in module mlflow.tracking.client:\n",
      "\n",
      "transition_model_version_stage(name: str, version: str, stage: str, archive_existing_versions: bool = False) -> mlflow.entities.model_registry.model_version.ModelVersion method of mlflow.tracking.client.MlflowClient instance\n",
      "    Update model version stage.\n",
      "    \n",
      "    :param name: Registered model name.\n",
      "    :param version: Registered model version.\n",
      "    :param stage: New desired stage for this model version.\n",
      "    :param archive_existing_versions: If this flag is set to ``True``, all existing model\n",
      "        versions in the stage will be automically moved to the \"archived\" stage. Only valid\n",
      "        when ``stage`` is ``\"staging\"`` or ``\"production\"`` otherwise an error will be raised.\n",
      "    \n",
      "    :return: A single :py:class:`mlflow.entities.model_registry.ModelVersion` object.\n",
      "    \n",
      "    .. code-block:: python\n",
      "        :caption: Example\n",
      "    \n",
      "        import mlflow.sklearn\n",
      "        from mlflow.tracking import MlflowClient\n",
      "        from sklearn.ensemble import RandomForestRegressor\n",
      "    \n",
      "        def print_model_version_info(mv):\n",
      "            print(\"Name: {}\".format(mv.name))\n",
      "            print(\"Version: {}\".format(mv.version))\n",
      "            print(\"Description: {}\".format(mv.description))\n",
      "            print(\"Stage: {}\".format(mv.current_stage))\n",
      "    \n",
      "        mlflow.set_tracking_uri(\"sqlite:///mlruns.db\")\n",
      "        params = {\"n_estimators\": 3, \"random_state\": 42}\n",
      "        name = \"RandomForestRegression\"\n",
      "        desc = \"A new version of the model using ensemble trees\"\n",
      "        rfr = RandomForestRegressor(**params).fit([[0, 1]], [1])\n",
      "    \n",
      "        # Log MLflow entities\n",
      "        with mlflow.start_run() as run:\n",
      "            mlflow.log_params(params)\n",
      "            mlflow.sklearn.log_model(rfr, artifact_path=\"sklearn-model\")\n",
      "    \n",
      "         # Register model name in the model registry\n",
      "        client = MlflowClient()\n",
      "        client.create_registered_model(name)\n",
      "    \n",
      "         # Create a new version of the rfr model under the registered model name\n",
      "        model_uri = \"runs:/{}/sklearn-model\".format(run.info.run_id)\n",
      "        mv = client.create_model_version(name, model_uri, run.info.run_id, description=desc)\n",
      "        print_model_version_info(mv)\n",
      "        print(\"--\")\n",
      "    \n",
      "        # transition model version from None -> staging\n",
      "        mv = client.transition_model_version_stage(name, mv.version, \"staging\")\n",
      "        print_model_version_info(mv)\n",
      "    \n",
      "    .. code-block:: text\n",
      "        :caption: Output\n",
      "    \n",
      "        Name: RandomForestRegression\n",
      "        Version: 1\n",
      "        Description: A new version of the model using ensemble trees\n",
      "        Stage: None\n",
      "        --\n",
      "        Name: RandomForestRegression\n",
      "        Version: 1\n",
      "        Description: A new version of the model using ensemble trees\n",
      "        Stage: Staging\n",
      "\n",
      "time: 5.69 ms (started: 2022-05-19 16:13:45 +02:00)\n"
     ]
    }
   ],
   "source": [
    "help(client.transition_model_version_stage)"
   ]
  },
  {
   "cell_type": "code",
   "execution_count": null,
   "id": "lonely-genome",
   "metadata": {
    "scrolled": true
   },
   "outputs": [
    {
     "data": {
      "text/plain": [
       "<ModelVersion: creation_timestamp=1652978232180, current_stage='Production', description='', last_updated_timestamp=1652978486460, name='powerplant_device_2', run_id='ad4eedebf00142f7b0f4ef6243391dd5', run_link='', source='/tmp/mlruns/1/ad4eedebf00142f7b0f4ef6243391dd5/artifacts/model', status='READY', status_message='', tags={}, user_id='', version='1'>"
      ]
     },
     "execution_count": 95,
     "metadata": {},
     "output_type": "execute_result"
    },
    {
     "name": "stdout",
     "output_type": "stream",
     "text": [
      "time: 64.3 ms (started: 2022-05-19 18:41:26 +02:00)\n"
     ]
    }
   ],
   "source": [
    "target_stage = \"Production\"\n",
    "model_version = client.transition_model_version_stage(\n",
    "    name=model_version.name, version=model_version.version, stage=target_stage\n",
    ")\n",
    "model_version"
   ]
  },
  {
   "cell_type": "code",
   "execution_count": null,
   "id": "small-indication",
   "metadata": {},
   "outputs": [
    {
     "name": "stdout",
     "output_type": "stream",
     "text": [
      "time: 1.21 ms (started: 2022-05-19 18:47:46 +02:00)\n"
     ]
    }
   ],
   "source": [
    "def transition_model_to_a_new_stage(model_version, stage: str, archive_existing_versions: bool = True):\n",
    "    valid_stage_values = [\"staging\", \"production\", \"archived\", \"none\"]\n",
    "    assert stage in valid_stage_values, f\"Invalid stage: {stage}. Valid stage values = {valid_stage_values}\"\n",
    "    print(model_version)\n",
    "    client = MlflowClient()\n",
    "    updated_model_version = client.transition_model_version_stage(\n",
    "        name=model_version.name, version=model_version.version,\n",
    "        stage=stage, archive_existing_versions=archive_existing_versions\n",
    "    )\n",
    "    return updated_model_version"
   ]
  },
  {
   "cell_type": "code",
   "execution_count": null,
   "id": "second-postcard",
   "metadata": {},
   "outputs": [
    {
     "name": "stdout",
     "output_type": "stream",
     "text": [
      "<ModelVersion: creation_timestamp=1652978232180, current_stage='Production', description='', last_updated_timestamp=1652978486460, name='powerplant_device_2', run_id='ad4eedebf00142f7b0f4ef6243391dd5', run_link='', source='/tmp/mlruns/1/ad4eedebf00142f7b0f4ef6243391dd5/artifacts/model', status='READY', status_message='', tags={}, user_id='', version='1'>\n"
     ]
    },
    {
     "data": {
      "text/plain": [
       "<ModelVersion: creation_timestamp=1652978232180, current_stage='Staging', description='', last_updated_timestamp=1652978620207, name='powerplant_device_2', run_id='ad4eedebf00142f7b0f4ef6243391dd5', run_link='', source='/tmp/mlruns/1/ad4eedebf00142f7b0f4ef6243391dd5/artifacts/model', status='READY', status_message='', tags={}, user_id='', version='1'>"
      ]
     },
     "execution_count": 97,
     "metadata": {},
     "output_type": "execute_result"
    },
    {
     "name": "stdout",
     "output_type": "stream",
     "text": [
      "time: 78.3 ms (started: 2022-05-19 18:43:40 +02:00)\n"
     ]
    }
   ],
   "source": [
    "transition_model_to_a_new_stage(model_version, \"staging\")"
   ]
  },
  {
   "cell_type": "code",
   "execution_count": null,
   "id": "earned-arthur",
   "metadata": {},
   "outputs": [
    {
     "name": "stderr",
     "output_type": "stream",
     "text": [
      "Registered model 'powerplant_device_2' already exists. Creating a new version of this model...\n",
      "2022/05/19 18:44:10 INFO mlflow.tracking._model_registry.client: Waiting up to 300 seconds for model version to finish creation.                     Model name: powerplant_device_2, version 2\n"
     ]
    },
    {
     "name": "stdout",
     "output_type": "stream",
     "text": [
      "<ModelVersion: creation_timestamp=1652978650488, current_stage='None', description='', last_updated_timestamp=1652978650488, name='powerplant_device_2', run_id='ad4eedebf00142f7b0f4ef6243391dd5', run_link='', source='/tmp/mlruns/1/ad4eedebf00142f7b0f4ef6243391dd5/artifacts/model', status='READY', status_message='', tags={}, user_id='', version='2'>\n",
      "<ModelVersion: creation_timestamp=1652978650488, current_stage='Staging', description='', last_updated_timestamp=1652978650532, name='powerplant_device_2', run_id='ad4eedebf00142f7b0f4ef6243391dd5', run_link='', source='/tmp/mlruns/1/ad4eedebf00142f7b0f4ef6243391dd5/artifacts/model', status='READY', status_message='', tags={}, user_id='', version='2'>\n",
      "time: 441 ms (started: 2022-05-19 18:44:10 +02:00)\n"
     ]
    },
    {
     "name": "stderr",
     "output_type": "stream",
     "text": [
      "Created version '2' of model 'powerplant_device_2'.\n"
     ]
    }
   ],
   "source": [
    "model_version = register_iot_device_model_with_best_rmse(\"march\", 2, experiment_name)\n",
    "model_version = transition_model_to_a_new_stage(model_version, \"staging\")\n",
    "###### Human in the loop: Model testing and validation by the product owner\n",
    "model_version = transition_model_to_a_new_stage(model_version, \"production\")"
   ]
  },
  {
   "cell_type": "code",
   "execution_count": null,
   "id": "peripheral-retirement",
   "metadata": {},
   "outputs": [
    {
     "name": "stdout",
     "output_type": "stream",
     "text": [
      "<ModelVersion: creation_timestamp=1652978650488, current_stage='Production', description='', last_updated_timestamp=1652978650589, name='powerplant_device_2', run_id='ad4eedebf00142f7b0f4ef6243391dd5', run_link='', source='/tmp/mlruns/1/ad4eedebf00142f7b0f4ef6243391dd5/artifacts/model', status='READY', status_message='', tags={}, user_id='', version='2'>\n",
      "time: 39.5 ms (started: 2022-05-19 18:47:51 +02:00)\n"
     ]
    }
   ],
   "source": [
    "model_version = transition_model_to_a_new_stage(model_version, \"archived\", False)"
   ]
  },
  {
   "cell_type": "markdown",
   "id": "further-breeding",
   "metadata": {},
   "source": [
    "# Final pipeline"
   ]
  },
  {
   "cell_type": "markdown",
   "id": "discrete-nebraska",
   "metadata": {},
   "source": [
    "## March"
   ]
  },
  {
   "cell_type": "code",
   "execution_count": null,
   "id": "complex-vault",
   "metadata": {},
   "outputs": [
    {
     "name": "stdout",
     "output_type": "stream",
     "text": [
      "time: 1.34 ms (started: 2022-05-19 18:48:11 +02:00)\n"
     ]
    }
   ],
   "source": [
    "month = \"March\""
   ]
  },
  {
   "cell_type": "code",
   "execution_count": null,
   "id": "female-convenience",
   "metadata": {},
   "outputs": [
    {
     "name": "stderr",
     "output_type": "stream",
     "text": [
      "2022/05/19 18:48:12 WARNING mlflow.utils.autologging_utils: You are using an unsupported version of sklearn. If you encounter errors during autologging, try upgrading / downgrading sklearn to a supported version, or try upgrading MLflow.\n",
      "2022/05/19 18:48:25 WARNING mlflow.utils.autologging_utils: You are using an unsupported version of sklearn. If you encounter errors during autologging, try upgrading / downgrading sklearn to a supported version, or try upgrading MLflow.\n",
      "2022/05/19 18:48:40 WARNING mlflow.utils.autologging_utils: You are using an unsupported version of sklearn. If you encounter errors during autologging, try upgrading / downgrading sklearn to a supported version, or try upgrading MLflow.\n",
      "2022/05/19 18:48:55 WARNING mlflow.utils.autologging_utils: You are using an unsupported version of sklearn. If you encounter errors during autologging, try upgrading / downgrading sklearn to a supported version, or try upgrading MLflow.\n",
      "2022/05/19 18:49:11 WARNING mlflow.utils.autologging_utils: You are using an unsupported version of sklearn. If you encounter errors during autologging, try upgrading / downgrading sklearn to a supported version, or try upgrading MLflow.\n",
      "2022/05/19 18:49:26 WARNING mlflow.utils.autologging_utils: You are using an unsupported version of sklearn. If you encounter errors during autologging, try upgrading / downgrading sklearn to a supported version, or try upgrading MLflow.\n",
      "2022/05/19 18:49:45 WARNING mlflow.utils.autologging_utils: You are using an unsupported version of sklearn. If you encounter errors during autologging, try upgrading / downgrading sklearn to a supported version, or try upgrading MLflow.\n",
      "2022/05/19 18:50:00 WARNING mlflow.utils.autologging_utils: You are using an unsupported version of sklearn. If you encounter errors during autologging, try upgrading / downgrading sklearn to a supported version, or try upgrading MLflow.\n"
     ]
    },
    {
     "name": "stdout",
     "output_type": "stream",
     "text": [
      "time: 1min 59s (started: 2022-05-19 18:48:11 +02:00)\n"
     ]
    }
   ],
   "source": [
    "# Train models\n",
    "for _ in range(2):\n",
    "    _ = train_models_for_all_iot_devices(df_march, month)"
   ]
  },
  {
   "cell_type": "code",
   "execution_count": null,
   "id": "incorporated-lincoln",
   "metadata": {},
   "outputs": [
    {
     "name": "stderr",
     "output_type": "stream",
     "text": [
      "Registered model 'powerplant_device_1' already exists. Creating a new version of this model...\n",
      "2022/05/19 18:50:11 INFO mlflow.tracking._model_registry.client: Waiting up to 300 seconds for model version to finish creation.                     Model name: powerplant_device_1, version 2\n",
      "Created version '2' of model 'powerplant_device_1'.\n",
      "Registered model 'powerplant_device_2' already exists. Creating a new version of this model...\n",
      "2022/05/19 18:50:11 INFO mlflow.tracking._model_registry.client: Waiting up to 300 seconds for model version to finish creation.                     Model name: powerplant_device_2, version 3\n",
      "Created version '3' of model 'powerplant_device_2'.\n",
      "Successfully registered model 'powerplant_device_3'.\n",
      "2022/05/19 18:50:12 INFO mlflow.tracking._model_registry.client: Waiting up to 300 seconds for model version to finish creation.                     Model name: powerplant_device_3, version 1\n",
      "Created version '1' of model 'powerplant_device_3'.\n",
      "Successfully registered model 'powerplant_device_4'.\n",
      "2022/05/19 18:50:12 INFO mlflow.tracking._model_registry.client: Waiting up to 300 seconds for model version to finish creation.                     Model name: powerplant_device_4, version 1\n"
     ]
    },
    {
     "name": "stdout",
     "output_type": "stream",
     "text": [
      "time: 1.02 s (started: 2022-05-19 18:50:11 +02:00)\n"
     ]
    },
    {
     "name": "stderr",
     "output_type": "stream",
     "text": [
      "Created version '1' of model 'powerplant_device_4'.\n"
     ]
    }
   ],
   "source": [
    "# Register the model with the best RMSE in the model registry\n",
    "device_1_model_version = register_iot_device_model_with_best_rmse(month, 1, experiment_name)\n",
    "device_2_model_version = register_iot_device_model_with_best_rmse(month, 2, experiment_name)\n",
    "device_3_model_version = register_iot_device_model_with_best_rmse(month, 3, experiment_name)\n",
    "device_4_model_version = register_iot_device_model_with_best_rmse(month, 4, experiment_name)"
   ]
  },
  {
   "cell_type": "code",
   "execution_count": null,
   "id": "indirect-producer",
   "metadata": {},
   "outputs": [
    {
     "name": "stdout",
     "output_type": "stream",
     "text": [
      "<ModelVersion: creation_timestamp=1652979011528, current_stage='None', description='', last_updated_timestamp=1652979011528, name='powerplant_device_1', run_id='78b4e756ec744e928be998a4b7794073', run_link='', source='/tmp/mlruns/1/78b4e756ec744e928be998a4b7794073/artifacts/model', status='READY', status_message='', tags={}, user_id='', version='2'>\n",
      "<ModelVersion: creation_timestamp=1652979011766, current_stage='None', description='', last_updated_timestamp=1652979011766, name='powerplant_device_2', run_id='7922b96b69f544e3904b5c7b33fe41fe', run_link='', source='/tmp/mlruns/1/7922b96b69f544e3904b5c7b33fe41fe/artifacts/model', status='READY', status_message='', tags={}, user_id='', version='3'>\n",
      "<ModelVersion: creation_timestamp=1652979012013, current_stage='None', description='', last_updated_timestamp=1652979012013, name='powerplant_device_3', run_id='fd519d37660944b9810640cf9e40a68e', run_link='', source='/tmp/mlruns/1/fd519d37660944b9810640cf9e40a68e/artifacts/model', status='READY', status_message='', tags={}, user_id='', version='1'>\n",
      "<ModelVersion: creation_timestamp=1652979012244, current_stage='None', description='', last_updated_timestamp=1652979012244, name='powerplant_device_4', run_id='1716e0c562f4486aa904c1076e044f32', run_link='', source='/tmp/mlruns/1/1716e0c562f4486aa904c1076e044f32/artifacts/model', status='READY', status_message='', tags={}, user_id='', version='1'>\n",
      "time: 187 ms (started: 2022-05-19 18:50:12 +02:00)\n"
     ]
    }
   ],
   "source": [
    "# Transition models to production\n",
    "device_1_model_version = transition_model_to_a_new_stage(device_1_model_version, \"production\")\n",
    "device_2_model_version = transition_model_to_a_new_stage(device_2_model_version, \"production\")\n",
    "device_3_model_version = transition_model_to_a_new_stage(device_3_model_version, \"production\")\n",
    "device_4_model_version = transition_model_to_a_new_stage(device_4_model_version, \"production\")"
   ]
  },
  {
   "cell_type": "markdown",
   "id": "analyzed-start",
   "metadata": {},
   "source": [
    "## April"
   ]
  },
  {
   "cell_type": "code",
   "execution_count": null,
   "id": "actual-petersburg",
   "metadata": {},
   "outputs": [
    {
     "name": "stdout",
     "output_type": "stream",
     "text": [
      "time: 1.25 ms (started: 2022-05-19 18:50:12 +02:00)\n"
     ]
    }
   ],
   "source": [
    "month = \"April\""
   ]
  },
  {
   "cell_type": "code",
   "execution_count": null,
   "id": "advanced-forward",
   "metadata": {},
   "outputs": [
    {
     "name": "stderr",
     "output_type": "stream",
     "text": [
      "2022/05/19 18:50:12 WARNING mlflow.utils.autologging_utils: You are using an unsupported version of sklearn. If you encounter errors during autologging, try upgrading / downgrading sklearn to a supported version, or try upgrading MLflow.\n",
      "2022/05/19 18:50:23 WARNING mlflow.utils.autologging_utils: You are using an unsupported version of sklearn. If you encounter errors during autologging, try upgrading / downgrading sklearn to a supported version, or try upgrading MLflow.\n",
      "2022/05/19 18:50:34 WARNING mlflow.utils.autologging_utils: You are using an unsupported version of sklearn. If you encounter errors during autologging, try upgrading / downgrading sklearn to a supported version, or try upgrading MLflow.\n",
      "2022/05/19 18:50:44 WARNING mlflow.utils.autologging_utils: You are using an unsupported version of sklearn. If you encounter errors during autologging, try upgrading / downgrading sklearn to a supported version, or try upgrading MLflow.\n",
      "2022/05/19 18:50:56 WARNING mlflow.utils.autologging_utils: You are using an unsupported version of sklearn. If you encounter errors during autologging, try upgrading / downgrading sklearn to a supported version, or try upgrading MLflow.\n",
      "2022/05/19 18:51:07 WARNING mlflow.utils.autologging_utils: You are using an unsupported version of sklearn. If you encounter errors during autologging, try upgrading / downgrading sklearn to a supported version, or try upgrading MLflow.\n",
      "2022/05/19 18:51:19 WARNING mlflow.utils.autologging_utils: You are using an unsupported version of sklearn. If you encounter errors during autologging, try upgrading / downgrading sklearn to a supported version, or try upgrading MLflow.\n",
      "2022/05/19 18:51:30 WARNING mlflow.utils.autologging_utils: You are using an unsupported version of sklearn. If you encounter errors during autologging, try upgrading / downgrading sklearn to a supported version, or try upgrading MLflow.\n"
     ]
    },
    {
     "name": "stdout",
     "output_type": "stream",
     "text": [
      "time: 1min 29s (started: 2022-05-19 18:50:12 +02:00)\n"
     ]
    }
   ],
   "source": [
    "# Train models\n",
    "for _ in range(2):\n",
    "    _ = train_models_for_all_iot_devices(df_april, month)"
   ]
  },
  {
   "cell_type": "code",
   "execution_count": null,
   "id": "inner-walnut",
   "metadata": {},
   "outputs": [
    {
     "name": "stderr",
     "output_type": "stream",
     "text": [
      "Registered model 'powerplant_device_1' already exists. Creating a new version of this model...\n",
      "2022/05/19 18:51:42 INFO mlflow.tracking._model_registry.client: Waiting up to 300 seconds for model version to finish creation.                     Model name: powerplant_device_1, version 3\n",
      "Created version '3' of model 'powerplant_device_1'.\n",
      "Registered model 'powerplant_device_2' already exists. Creating a new version of this model...\n",
      "2022/05/19 18:51:42 INFO mlflow.tracking._model_registry.client: Waiting up to 300 seconds for model version to finish creation.                     Model name: powerplant_device_2, version 4\n",
      "Created version '4' of model 'powerplant_device_2'.\n",
      "Registered model 'powerplant_device_3' already exists. Creating a new version of this model...\n",
      "2022/05/19 18:51:42 INFO mlflow.tracking._model_registry.client: Waiting up to 300 seconds for model version to finish creation.                     Model name: powerplant_device_3, version 2\n",
      "Created version '2' of model 'powerplant_device_3'.\n",
      "Registered model 'powerplant_device_4' already exists. Creating a new version of this model...\n",
      "2022/05/19 18:51:43 INFO mlflow.tracking._model_registry.client: Waiting up to 300 seconds for model version to finish creation.                     Model name: powerplant_device_4, version 2\n"
     ]
    },
    {
     "name": "stdout",
     "output_type": "stream",
     "text": [
      "time: 1.04 s (started: 2022-05-19 18:51:42 +02:00)\n"
     ]
    },
    {
     "name": "stderr",
     "output_type": "stream",
     "text": [
      "Created version '2' of model 'powerplant_device_4'.\n"
     ]
    }
   ],
   "source": [
    "# Register the model with the best RMSE in the model registry\n",
    "device_1_model_version = register_iot_device_model_with_best_rmse(month, 1, experiment_name)\n",
    "device_2_model_version = register_iot_device_model_with_best_rmse(month, 2, experiment_name)\n",
    "device_3_model_version = register_iot_device_model_with_best_rmse(month, 3, experiment_name)\n",
    "device_4_model_version = register_iot_device_model_with_best_rmse(month, 4, experiment_name)"
   ]
  },
  {
   "cell_type": "code",
   "execution_count": null,
   "id": "pregnant-buffer",
   "metadata": {
    "scrolled": true
   },
   "outputs": [
    {
     "name": "stdout",
     "output_type": "stream",
     "text": [
      "<ModelVersion: creation_timestamp=1652979102346, current_stage='None', description='', last_updated_timestamp=1652979102346, name='powerplant_device_1', run_id='e4ef936d52c44417b4ac359df96b5509', run_link='', source='/tmp/mlruns/1/e4ef936d52c44417b4ac359df96b5509/artifacts/model', status='READY', status_message='', tags={}, user_id='', version='3'>\n",
      "<ModelVersion: creation_timestamp=1652979102638, current_stage='None', description='', last_updated_timestamp=1652979102638, name='powerplant_device_2', run_id='1c54562d04c94442884d0eab9e691953', run_link='', source='/tmp/mlruns/1/1c54562d04c94442884d0eab9e691953/artifacts/model', status='READY', status_message='', tags={}, user_id='', version='4'>\n",
      "<ModelVersion: creation_timestamp=1652979102849, current_stage='None', description='', last_updated_timestamp=1652979102849, name='powerplant_device_3', run_id='87d2ee339e8f48e6bcb5c0de159d51cf', run_link='', source='/tmp/mlruns/1/87d2ee339e8f48e6bcb5c0de159d51cf/artifacts/model', status='READY', status_message='', tags={}, user_id='', version='2'>\n",
      "<ModelVersion: creation_timestamp=1652979103069, current_stage='None', description='', last_updated_timestamp=1652979103069, name='powerplant_device_4', run_id='3abdccc6fab24ce3b5f516fb82651a83', run_link='', source='/tmp/mlruns/1/3abdccc6fab24ce3b5f516fb82651a83/artifacts/model', status='READY', status_message='', tags={}, user_id='', version='2'>\n",
      "time: 148 ms (started: 2022-05-19 18:51:43 +02:00)\n"
     ]
    }
   ],
   "source": [
    "# Transition models to staging\n",
    "stage = \"staging\"\n",
    "device_1_model_version = transition_model_to_a_new_stage(device_1_model_version, stage)\n",
    "device_2_model_version = transition_model_to_a_new_stage(device_2_model_version, stage)\n",
    "device_3_model_version = transition_model_to_a_new_stage(device_3_model_version, stage)\n",
    "device_4_model_version = transition_model_to_a_new_stage(device_4_model_version, stage)"
   ]
  },
  {
   "cell_type": "code",
   "execution_count": null,
   "id": "norwegian-crawford",
   "metadata": {},
   "outputs": [
    {
     "name": "stdout",
     "output_type": "stream",
     "text": [
      "<ModelVersion: creation_timestamp=1625913057766, current_stage='Staging', description='', last_updated_timestamp=1625913106020, name='powerplant_device_1', run_id='cedcb06e69a54fc7bd270e707a081e81', run_link='', source='/tmp/mlruns/1/cedcb06e69a54fc7bd270e707a081e81/artifacts/model', status='READY', status_message='', tags={}, user_id='', version='7'>\n",
      "<ModelVersion: creation_timestamp=1625913057879, current_stage='Staging', description='', last_updated_timestamp=1625913106043, name='powerplant_device_2', run_id='227582dc7c28482094e7772ee331029e', run_link='', source='/tmp/mlruns/1/227582dc7c28482094e7772ee331029e/artifacts/model', status='READY', status_message='', tags={}, user_id='', version='12'>\n",
      "<ModelVersion: creation_timestamp=1625913058035, current_stage='Staging', description='', last_updated_timestamp=1625913106075, name='powerplant_device_3', run_id='76526f25a45d4fff8d29b9383842090d', run_link='', source='/tmp/mlruns/1/76526f25a45d4fff8d29b9383842090d/artifacts/model', status='READY', status_message='', tags={}, user_id='', version='4'>\n",
      "<ModelVersion: creation_timestamp=1625913058176, current_stage='Staging', description='', last_updated_timestamp=1625913106101, name='powerplant_device_4', run_id='f6bc03c70cab41739097f4f78e2427af', run_link='', source='/tmp/mlruns/1/f6bc03c70cab41739097f4f78e2427af/artifacts/model', status='READY', status_message='', tags={}, user_id='', version='4'>\n",
      "time: 153 ms (started: 2021-07-10 12:32:15 +02:00)\n"
     ]
    }
   ],
   "source": [
    "###### Human in the loop: Model testing and validation by the product owner\n",
    "# Transition models to staging\n",
    "stage = \"production\"\n",
    "device_1_model_version = transition_model_to_a_new_stage(device_1_model_version, stage)\n",
    "device_2_model_version = transition_model_to_a_new_stage(device_2_model_version, stage)\n",
    "device_3_model_version = transition_model_to_a_new_stage(device_3_model_version, stage)\n",
    "device_4_model_version = transition_model_to_a_new_stage(device_4_model_version, stage)"
   ]
  },
  {
   "cell_type": "markdown",
   "id": "agreed-bermuda",
   "metadata": {},
   "source": [
    "## May"
   ]
  },
  {
   "cell_type": "code",
   "execution_count": null,
   "id": "cultural-there",
   "metadata": {},
   "outputs": [],
   "source": []
  }
 ],
 "metadata": {
  "interpreter": {
   "hash": "90374add6196befc4bd6589c34749c18fbfaa148048ce91e7f2638be60c48b2c"
  },
  "kernelspec": {
   "display_name": "Python 3.9.12",
   "language": "python",
   "name": "python3"
  },
  "language_info": {
   "codemirror_mode": {
    "name": "ipython",
    "version": 3
   },
   "file_extension": ".py",
   "mimetype": "text/x-python",
   "name": "python",
   "nbconvert_exporter": "python",
   "pygments_lexer": "ipython3",
   "version": "3.9.12"
  },
  "toc": {
   "base_numbering": 1,
   "nav_menu": {},
   "number_sections": true,
   "sideBar": true,
   "skip_h1_title": false,
   "title_cell": "Table of Contents",
   "title_sidebar": "Contents",
   "toc_cell": false,
   "toc_position": {},
   "toc_section_display": true,
   "toc_window_display": false
  }
 },
 "nbformat": 4,
 "nbformat_minor": 5
}
