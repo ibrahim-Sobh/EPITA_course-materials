{
 "cells": [
  {
   "cell_type": "markdown",
   "id": "8c26e30c-b77c-4dd2-88c3-abc44fcfed93",
   "metadata": {},
   "source": [
    "### Author : Ibrahim Sobh, Anthony Al-Alam\n",
    "## Tennis Championship Winner Prediciton project (2000-2018)"
   ]
  },
  {
   "cell_type": "markdown",
   "id": "08a05be2-9dd8-4b56-ad27-990dd0233039",
   "metadata": {},
   "source": [
    "### I - Create Session and Read Data"
   ]
  },
  {
   "cell_type": "code",
   "execution_count": 1,
   "id": "8f0721f1-c9a9-4ff2-baf2-cfbfd2da0a69",
   "metadata": {},
   "outputs": [],
   "source": [
    "from pyspark.sql import SparkSession\n",
    "import numpy as np\n",
    "import matplotlib.pyplot as plt\n",
    "import seaborn as sns\n",
    "import pandas as pd\n",
    "import numpy as np\n",
    "spark = SparkSession.builder.appName('TennisChampionship').getOrCreate()\n",
    "\n",
    "tennis_master = spark.read.option(\"delimiter\", \",\").csv(\"Data/df_atp.csv\",header=True,inferSchema=True)"
   ]
  },
  {
   "cell_type": "code",
   "execution_count": 2,
   "id": "02d506c4-d497-44ff-a6a8-c6d04163bef8",
   "metadata": {},
   "outputs": [
    {
     "name": "stdout",
     "output_type": "stream",
     "text": [
      "+---+---+--------+--------------------+----------+-------------+-------+-------+---------+-------+-----------+--------------+-----+-----+---+---+---+---+----+----+----+----+----+----+-----+-----+---------+----+----+----+----+----+----+----+----+-----+-----+----+----+----+----+----+----+----+----+----+----+----+----+----+----+----+----+----+----+\n",
      "|_c0|ATP|Location|          Tournament|      Date|       Series|  Court|Surface|    Round|Best of|     Winner|         Loser|WRank|LRank| W1| L1| W2| L2|  W3|  L3|  W4|  L4|  W5|  L5|Wsets|Lsets|  Comment| CBW| CBL| GBW| GBL| IWW| IWL| SBW| SBL|B365W|B365L|B&WW|B&WL| EXW| EXL| PSW| PSL|WPts|LPts| UBW| UBL| LBW| LBL| SJW| SJL|MaxW|MaxL|AvgW|AvgL|\n",
      "+---+---+--------+--------------------+----------+-------------+-------+-------+---------+-------+-----------+--------------+-----+-----+---+---+---+---+----+----+----+----+----+----+-----+-----+---------+----+----+----+----+----+----+----+----+-----+-----+----+----+----+----+----+----+----+----+----+----+----+----+----+----+----+----+----+----+\n",
      "|  0|  1|Adelaide|Australian Hardco...|2000-01-03|International|Outdoor|   Hard|1st Round|      3| Dosedel S.|   Ljubicic I.|   63|   77|6.0|4.0|6.0|2.0|null|null|null|null|null|null|  2.0|    0|Completed|null|null|null|null|null|null|null|null| null| null|null|null|null|null|null|null|null|null|null|null|null|null|null|null|null|null|null|null|\n",
      "|  1|  1|Adelaide|Australian Hardco...|2000-01-03|International|Outdoor|   Hard|1st Round|      3| Enqvist T.|    Clement A.|    5|   56|6.0|3.0|6.0|3.0|null|null|null|null|null|null|  2.0|    0|Completed|null|null|null|null|null|null|null|null| null| null|null|null|null|null|null|null|null|null|null|null|null|null|null|null|null|null|null|null|\n",
      "|  2|  1|Adelaide|Australian Hardco...|2000-01-03|International|Outdoor|   Hard|1st Round|      3|  Escude N.| Baccanello P.|   40|  655|6.0|7.0|7.0|5.0| 6.0| 3.0|null|null|null|null|  2.0|    1|Completed|null|null|null|null|null|null|null|null| null| null|null|null|null|null|null|null|null|null|null|null|null|null|null|null|null|null|null|null|\n",
      "|  3|  1|Adelaide|Australian Hardco...|2000-01-03|International|Outdoor|   Hard|1st Round|      3| Federer R.|Knippschild J.|   65|   87|6.0|1.0|6.0|4.0|null|null|null|null|null|null|  2.0|    0|Completed|null|null|null|null|null|null|null|null| null| null|null|null|null|null|null|null|null|null|null|null|null|null|null|null|null|null|null|null|\n",
      "|  4|  1|Adelaide|Australian Hardco...|2000-01-03|International|Outdoor|   Hard|1st Round|      3|Fromberg R.| Woodbridge T.|   81|  198|7.0|6.0|5.0|7.0| 6.0| 4.0|null|null|null|null|  2.0|    1|Completed|null|null|null|null|null|null|null|null| null| null|null|null|null|null|null|null|null|null|null|null|null|null|null|null|null|null|null|null|\n",
      "+---+---+--------+--------------------+----------+-------------+-------+-------+---------+-------+-----------+--------------+-----+-----+---+---+---+---+----+----+----+----+----+----+-----+-----+---------+----+----+----+----+----+----+----+----+-----+-----+----+----+----+----+----+----+----+----+----+----+----+----+----+----+----+----+----+----+\n",
      "only showing top 5 rows\n",
      "\n"
     ]
    }
   ],
   "source": [
    "tennis_master.show(5)"
   ]
  },
  {
   "cell_type": "code",
   "execution_count": 3,
   "id": "9ff7e054-3349-40b9-af54-69fe0dc201f3",
   "metadata": {},
   "outputs": [
    {
     "name": "stdout",
     "output_type": "stream",
     "text": [
      "root\n",
      " |-- _c0: integer (nullable = true)\n",
      " |-- ATP: integer (nullable = true)\n",
      " |-- Location: string (nullable = true)\n",
      " |-- Tournament: string (nullable = true)\n",
      " |-- Date: string (nullable = true)\n",
      " |-- Series: string (nullable = true)\n",
      " |-- Court: string (nullable = true)\n",
      " |-- Surface: string (nullable = true)\n",
      " |-- Round: string (nullable = true)\n",
      " |-- Best of: integer (nullable = true)\n",
      " |-- Winner: string (nullable = true)\n",
      " |-- Loser: string (nullable = true)\n",
      " |-- WRank: string (nullable = true)\n",
      " |-- LRank: string (nullable = true)\n",
      " |-- W1: double (nullable = true)\n",
      " |-- L1: double (nullable = true)\n",
      " |-- W2: string (nullable = true)\n",
      " |-- L2: string (nullable = true)\n",
      " |-- W3: string (nullable = true)\n",
      " |-- L3: string (nullable = true)\n",
      " |-- W4: double (nullable = true)\n",
      " |-- L4: double (nullable = true)\n",
      " |-- W5: double (nullable = true)\n",
      " |-- L5: double (nullable = true)\n",
      " |-- Wsets: double (nullable = true)\n",
      " |-- Lsets: string (nullable = true)\n",
      " |-- Comment: string (nullable = true)\n",
      " |-- CBW: double (nullable = true)\n",
      " |-- CBL: double (nullable = true)\n",
      " |-- GBW: double (nullable = true)\n",
      " |-- GBL: double (nullable = true)\n",
      " |-- IWW: double (nullable = true)\n",
      " |-- IWL: double (nullable = true)\n",
      " |-- SBW: double (nullable = true)\n",
      " |-- SBL: double (nullable = true)\n",
      " |-- B365W: double (nullable = true)\n",
      " |-- B365L: double (nullable = true)\n",
      " |-- B&WW: double (nullable = true)\n",
      " |-- B&WL: double (nullable = true)\n",
      " |-- EXW: string (nullable = true)\n",
      " |-- EXL: double (nullable = true)\n",
      " |-- PSW: double (nullable = true)\n",
      " |-- PSL: double (nullable = true)\n",
      " |-- WPts: double (nullable = true)\n",
      " |-- LPts: double (nullable = true)\n",
      " |-- UBW: double (nullable = true)\n",
      " |-- UBL: double (nullable = true)\n",
      " |-- LBW: double (nullable = true)\n",
      " |-- LBL: double (nullable = true)\n",
      " |-- SJW: double (nullable = true)\n",
      " |-- SJL: double (nullable = true)\n",
      " |-- MaxW: double (nullable = true)\n",
      " |-- MaxL: double (nullable = true)\n",
      " |-- AvgW: double (nullable = true)\n",
      " |-- AvgL: double (nullable = true)\n",
      "\n"
     ]
    }
   ],
   "source": [
    "tennis_master.printSchema()"
   ]
  },
  {
   "cell_type": "code",
   "execution_count": 4,
   "id": "7944339f-e399-49d8-9305-764f12b7faaa",
   "metadata": {},
   "outputs": [],
   "source": [
    "tennis_data= tennis_master.alias('tennis_data')"
   ]
  },
  {
   "cell_type": "code",
   "execution_count": 5,
   "id": "e59685cc-d230-4f4b-b01a-3f0485ef27a7",
   "metadata": {},
   "outputs": [
    {
     "name": "stdout",
     "output_type": "stream",
     "text": [
      "+---+---+--------+--------------------+----------+-------------+-------+-------+---------+-------+-----------+--------------+-----+-----+---+---+---+---+----+----+----+----+----+----+-----+-----+---------+----+----+----+----+----+----+----+----+-----+-----+----+----+----+----+----+----+----+----+----+----+----+----+----+----+----+----+----+----+\n",
      "|_c0|ATP|Location|          Tournament|      Date|       Series|  Court|Surface|    Round|Best of|     Winner|         Loser|WRank|LRank| W1| L1| W2| L2|  W3|  L3|  W4|  L4|  W5|  L5|Wsets|Lsets|  Comment| CBW| CBL| GBW| GBL| IWW| IWL| SBW| SBL|B365W|B365L|B&WW|B&WL| EXW| EXL| PSW| PSL|WPts|LPts| UBW| UBL| LBW| LBL| SJW| SJL|MaxW|MaxL|AvgW|AvgL|\n",
      "+---+---+--------+--------------------+----------+-------------+-------+-------+---------+-------+-----------+--------------+-----+-----+---+---+---+---+----+----+----+----+----+----+-----+-----+---------+----+----+----+----+----+----+----+----+-----+-----+----+----+----+----+----+----+----+----+----+----+----+----+----+----+----+----+----+----+\n",
      "|  0|  1|Adelaide|Australian Hardco...|2000-01-03|International|Outdoor|   Hard|1st Round|      3| Dosedel S.|   Ljubicic I.|   63|   77|6.0|4.0|6.0|2.0|null|null|null|null|null|null|  2.0|    0|Completed|null|null|null|null|null|null|null|null| null| null|null|null|null|null|null|null|null|null|null|null|null|null|null|null|null|null|null|null|\n",
      "|  1|  1|Adelaide|Australian Hardco...|2000-01-03|International|Outdoor|   Hard|1st Round|      3| Enqvist T.|    Clement A.|    5|   56|6.0|3.0|6.0|3.0|null|null|null|null|null|null|  2.0|    0|Completed|null|null|null|null|null|null|null|null| null| null|null|null|null|null|null|null|null|null|null|null|null|null|null|null|null|null|null|null|\n",
      "|  2|  1|Adelaide|Australian Hardco...|2000-01-03|International|Outdoor|   Hard|1st Round|      3|  Escude N.| Baccanello P.|   40|  655|6.0|7.0|7.0|5.0| 6.0| 3.0|null|null|null|null|  2.0|    1|Completed|null|null|null|null|null|null|null|null| null| null|null|null|null|null|null|null|null|null|null|null|null|null|null|null|null|null|null|null|\n",
      "|  3|  1|Adelaide|Australian Hardco...|2000-01-03|International|Outdoor|   Hard|1st Round|      3| Federer R.|Knippschild J.|   65|   87|6.0|1.0|6.0|4.0|null|null|null|null|null|null|  2.0|    0|Completed|null|null|null|null|null|null|null|null| null| null|null|null|null|null|null|null|null|null|null|null|null|null|null|null|null|null|null|null|\n",
      "|  4|  1|Adelaide|Australian Hardco...|2000-01-03|International|Outdoor|   Hard|1st Round|      3|Fromberg R.| Woodbridge T.|   81|  198|7.0|6.0|5.0|7.0| 6.0| 4.0|null|null|null|null|  2.0|    1|Completed|null|null|null|null|null|null|null|null| null| null|null|null|null|null|null|null|null|null|null|null|null|null|null|null|null|null|null|null|\n",
      "+---+---+--------+--------------------+----------+-------------+-------+-------+---------+-------+-----------+--------------+-----+-----+---+---+---+---+----+----+----+----+----+----+-----+-----+---------+----+----+----+----+----+----+----+----+-----+-----+----+----+----+----+----+----+----+----+----+----+----+----+----+----+----+----+----+----+\n",
      "only showing top 5 rows\n",
      "\n"
     ]
    }
   ],
   "source": [
    "tennis_data.show(5)"
   ]
  },
  {
   "cell_type": "markdown",
   "id": "26a0b2f4-a18e-450b-a0ae-4bbf666352f8",
   "metadata": {},
   "source": [
    "### II - EDA Exploratory Data Analysis "
   ]
  },
  {
   "cell_type": "markdown",
   "id": "a7f660e4-62e3-49e5-a41c-eb3809527022",
   "metadata": {},
   "source": [
    "- ATP = Tournament number (men)\n",
    "- WTA = Tournament number (women)\n",
    "- Location = Venue of tournament\n",
    "- Tournament = Name of tounament (including sponsor if relevant)\n",
    "- Data = Date of match (note: prior to 2003 the date shown for all matches played in a single tournament is the start date)\n",
    "- Series = Name of ATP tennis series (Grand Slam, Masters, International or - International Gold)\n",
    "- Tier = Tier (tournament ranking) of WTA tennis series.\n",
    "- Court = Type of court (outdoors or indoors)\n",
    "- Surface = Type of surface (clay, hard, carpet or grass)\n",
    "- Round = Round of match\n",
    "- Best of = Maximum number of sets playable in match\n",
    "- Winner = Match winner\n",
    "- Loser = Match loser\n",
    "- WRank = ATP Entry ranking of the match winner as of the start of the tournament\n",
    "- LRank = ATP Entry ranking of the match loser as of the start of the tournament\n",
    "- WPts = ATP Entry points of the match winner as of the start of the tournament\n",
    "- LPts = ATP Entry points of the match loser as of the start of the tournament\n",
    "- Wsets = Number of sets won by match winner\n",
    "- Lsets = Number of sets won by match loser\n",
    "______________\n",
    "- Target : Match Winner. ( Look for Feature Engineering )\n"
   ]
  },
  {
   "cell_type": "code",
   "execution_count": 6,
   "id": "6e6bfe3a-1695-47f6-b8a1-7edc6fa27458",
   "metadata": {},
   "outputs": [
    {
     "data": {
      "text/html": [
       "<div>\n",
       "<style scoped>\n",
       "    .dataframe tbody tr th:only-of-type {\n",
       "        vertical-align: middle;\n",
       "    }\n",
       "\n",
       "    .dataframe tbody tr th {\n",
       "        vertical-align: top;\n",
       "    }\n",
       "\n",
       "    .dataframe thead th {\n",
       "        text-align: right;\n",
       "    }\n",
       "</style>\n",
       "<table border=\"1\" class=\"dataframe\">\n",
       "  <thead>\n",
       "    <tr style=\"text-align: right;\">\n",
       "      <th></th>\n",
       "      <th>_c0</th>\n",
       "      <th>ATP</th>\n",
       "      <th>Best of</th>\n",
       "      <th>W1</th>\n",
       "      <th>L1</th>\n",
       "      <th>W4</th>\n",
       "      <th>L4</th>\n",
       "      <th>W5</th>\n",
       "      <th>L5</th>\n",
       "      <th>Wsets</th>\n",
       "      <th>...</th>\n",
       "      <th>UBW</th>\n",
       "      <th>UBL</th>\n",
       "      <th>LBW</th>\n",
       "      <th>LBL</th>\n",
       "      <th>SJW</th>\n",
       "      <th>SJL</th>\n",
       "      <th>MaxW</th>\n",
       "      <th>MaxL</th>\n",
       "      <th>AvgW</th>\n",
       "      <th>AvgL</th>\n",
       "    </tr>\n",
       "  </thead>\n",
       "  <tbody>\n",
       "    <tr>\n",
       "      <th>count</th>\n",
       "      <td>52298.000000</td>\n",
       "      <td>52298.000000</td>\n",
       "      <td>52298.000000</td>\n",
       "      <td>52035.000000</td>\n",
       "      <td>52037.000000</td>\n",
       "      <td>4731.000000</td>\n",
       "      <td>4731.000000</td>\n",
       "      <td>1791.000000</td>\n",
       "      <td>1791.000000</td>\n",
       "      <td>52074.000000</td>\n",
       "      <td>...</td>\n",
       "      <td>10671.000000</td>\n",
       "      <td>10671.000000</td>\n",
       "      <td>28131.000000</td>\n",
       "      <td>28142.000000</td>\n",
       "      <td>15572.000000</td>\n",
       "      <td>15579.000000</td>\n",
       "      <td>22745.000000</td>\n",
       "      <td>22745.000000</td>\n",
       "      <td>22745.000000</td>\n",
       "      <td>22745.000000</td>\n",
       "    </tr>\n",
       "    <tr>\n",
       "      <th>mean</th>\n",
       "      <td>26148.500000</td>\n",
       "      <td>33.222532</td>\n",
       "      <td>3.372366</td>\n",
       "      <td>5.794331</td>\n",
       "      <td>4.056229</td>\n",
       "      <td>5.777003</td>\n",
       "      <td>3.863454</td>\n",
       "      <td>6.637633</td>\n",
       "      <td>3.756002</td>\n",
       "      <td>2.141760</td>\n",
       "      <td>...</td>\n",
       "      <td>1.815867</td>\n",
       "      <td>3.542479</td>\n",
       "      <td>1.810226</td>\n",
       "      <td>3.451461</td>\n",
       "      <td>1.796538</td>\n",
       "      <td>3.557943</td>\n",
       "      <td>1.998610</td>\n",
       "      <td>8.326076</td>\n",
       "      <td>1.834821</td>\n",
       "      <td>3.594448</td>\n",
       "    </tr>\n",
       "    <tr>\n",
       "      <th>std</th>\n",
       "      <td>15097.276526</td>\n",
       "      <td>18.115493</td>\n",
       "      <td>0.778516</td>\n",
       "      <td>1.239577</td>\n",
       "      <td>1.845206</td>\n",
       "      <td>1.274712</td>\n",
       "      <td>1.895683</td>\n",
       "      <td>2.290596</td>\n",
       "      <td>2.817183</td>\n",
       "      <td>0.460311</td>\n",
       "      <td>...</td>\n",
       "      <td>0.996238</td>\n",
       "      <td>3.646316</td>\n",
       "      <td>1.031691</td>\n",
       "      <td>3.075889</td>\n",
       "      <td>1.004273</td>\n",
       "      <td>3.272510</td>\n",
       "      <td>1.628982</td>\n",
       "      <td>397.235666</td>\n",
       "      <td>1.107884</td>\n",
       "      <td>3.282610</td>\n",
       "    </tr>\n",
       "    <tr>\n",
       "      <th>min</th>\n",
       "      <td>0.000000</td>\n",
       "      <td>1.000000</td>\n",
       "      <td>3.000000</td>\n",
       "      <td>0.000000</td>\n",
       "      <td>0.000000</td>\n",
       "      <td>0.000000</td>\n",
       "      <td>0.000000</td>\n",
       "      <td>0.000000</td>\n",
       "      <td>0.000000</td>\n",
       "      <td>0.000000</td>\n",
       "      <td>...</td>\n",
       "      <td>1.010000</td>\n",
       "      <td>1.020000</td>\n",
       "      <td>1.000000</td>\n",
       "      <td>1.000000</td>\n",
       "      <td>1.000000</td>\n",
       "      <td>1.010000</td>\n",
       "      <td>1.010000</td>\n",
       "      <td>1.010000</td>\n",
       "      <td>1.010000</td>\n",
       "      <td>1.010000</td>\n",
       "    </tr>\n",
       "    <tr>\n",
       "      <th>25%</th>\n",
       "      <td>13074.250000</td>\n",
       "      <td>19.000000</td>\n",
       "      <td>3.000000</td>\n",
       "      <td>6.000000</td>\n",
       "      <td>3.000000</td>\n",
       "      <td>6.000000</td>\n",
       "      <td>2.000000</td>\n",
       "      <td>6.000000</td>\n",
       "      <td>2.000000</td>\n",
       "      <td>2.000000</td>\n",
       "      <td>...</td>\n",
       "      <td>1.240000</td>\n",
       "      <td>1.750000</td>\n",
       "      <td>1.250000</td>\n",
       "      <td>1.730000</td>\n",
       "      <td>1.220000</td>\n",
       "      <td>1.730000</td>\n",
       "      <td>1.290000</td>\n",
       "      <td>1.850000</td>\n",
       "      <td>1.240000</td>\n",
       "      <td>1.740000</td>\n",
       "    </tr>\n",
       "    <tr>\n",
       "      <th>50%</th>\n",
       "      <td>26148.500000</td>\n",
       "      <td>33.000000</td>\n",
       "      <td>3.000000</td>\n",
       "      <td>6.000000</td>\n",
       "      <td>4.000000</td>\n",
       "      <td>6.000000</td>\n",
       "      <td>4.000000</td>\n",
       "      <td>6.000000</td>\n",
       "      <td>3.000000</td>\n",
       "      <td>2.000000</td>\n",
       "      <td>...</td>\n",
       "      <td>1.500000</td>\n",
       "      <td>2.500000</td>\n",
       "      <td>1.500000</td>\n",
       "      <td>2.500000</td>\n",
       "      <td>1.500000</td>\n",
       "      <td>2.630000</td>\n",
       "      <td>1.570000</td>\n",
       "      <td>2.780000</td>\n",
       "      <td>1.500000</td>\n",
       "      <td>2.550000</td>\n",
       "    </tr>\n",
       "    <tr>\n",
       "      <th>75%</th>\n",
       "      <td>39222.750000</td>\n",
       "      <td>49.000000</td>\n",
       "      <td>3.000000</td>\n",
       "      <td>6.000000</td>\n",
       "      <td>6.000000</td>\n",
       "      <td>6.000000</td>\n",
       "      <td>6.000000</td>\n",
       "      <td>7.000000</td>\n",
       "      <td>5.000000</td>\n",
       "      <td>2.000000</td>\n",
       "      <td>...</td>\n",
       "      <td>2.030000</td>\n",
       "      <td>3.850000</td>\n",
       "      <td>2.000000</td>\n",
       "      <td>4.000000</td>\n",
       "      <td>2.000000</td>\n",
       "      <td>4.000000</td>\n",
       "      <td>2.200000</td>\n",
       "      <td>4.540000</td>\n",
       "      <td>2.060000</td>\n",
       "      <td>3.990000</td>\n",
       "    </tr>\n",
       "    <tr>\n",
       "      <th>max</th>\n",
       "      <td>52297.000000</td>\n",
       "      <td>69.000000</td>\n",
       "      <td>5.000000</td>\n",
       "      <td>7.000000</td>\n",
       "      <td>7.000000</td>\n",
       "      <td>7.000000</td>\n",
       "      <td>7.000000</td>\n",
       "      <td>70.000000</td>\n",
       "      <td>68.000000</td>\n",
       "      <td>3.000000</td>\n",
       "      <td>...</td>\n",
       "      <td>18.000000</td>\n",
       "      <td>60.000000</td>\n",
       "      <td>26.000000</td>\n",
       "      <td>51.000000</td>\n",
       "      <td>19.000000</td>\n",
       "      <td>81.000000</td>\n",
       "      <td>76.000000</td>\n",
       "      <td>42586.000000</td>\n",
       "      <td>23.450000</td>\n",
       "      <td>36.440000</td>\n",
       "    </tr>\n",
       "  </tbody>\n",
       "</table>\n",
       "<p>8 rows × 37 columns</p>\n",
       "</div>"
      ],
      "text/plain": [
       "                _c0           ATP       Best of            W1            L1  \\\n",
       "count  52298.000000  52298.000000  52298.000000  52035.000000  52037.000000   \n",
       "mean   26148.500000     33.222532      3.372366      5.794331      4.056229   \n",
       "std    15097.276526     18.115493      0.778516      1.239577      1.845206   \n",
       "min        0.000000      1.000000      3.000000      0.000000      0.000000   \n",
       "25%    13074.250000     19.000000      3.000000      6.000000      3.000000   \n",
       "50%    26148.500000     33.000000      3.000000      6.000000      4.000000   \n",
       "75%    39222.750000     49.000000      3.000000      6.000000      6.000000   \n",
       "max    52297.000000     69.000000      5.000000      7.000000      7.000000   \n",
       "\n",
       "                W4           L4           W5           L5         Wsets  ...  \\\n",
       "count  4731.000000  4731.000000  1791.000000  1791.000000  52074.000000  ...   \n",
       "mean      5.777003     3.863454     6.637633     3.756002      2.141760  ...   \n",
       "std       1.274712     1.895683     2.290596     2.817183      0.460311  ...   \n",
       "min       0.000000     0.000000     0.000000     0.000000      0.000000  ...   \n",
       "25%       6.000000     2.000000     6.000000     2.000000      2.000000  ...   \n",
       "50%       6.000000     4.000000     6.000000     3.000000      2.000000  ...   \n",
       "75%       6.000000     6.000000     7.000000     5.000000      2.000000  ...   \n",
       "max       7.000000     7.000000    70.000000    68.000000      3.000000  ...   \n",
       "\n",
       "                UBW           UBL           LBW           LBL           SJW  \\\n",
       "count  10671.000000  10671.000000  28131.000000  28142.000000  15572.000000   \n",
       "mean       1.815867      3.542479      1.810226      3.451461      1.796538   \n",
       "std        0.996238      3.646316      1.031691      3.075889      1.004273   \n",
       "min        1.010000      1.020000      1.000000      1.000000      1.000000   \n",
       "25%        1.240000      1.750000      1.250000      1.730000      1.220000   \n",
       "50%        1.500000      2.500000      1.500000      2.500000      1.500000   \n",
       "75%        2.030000      3.850000      2.000000      4.000000      2.000000   \n",
       "max       18.000000     60.000000     26.000000     51.000000     19.000000   \n",
       "\n",
       "                SJL          MaxW          MaxL          AvgW          AvgL  \n",
       "count  15579.000000  22745.000000  22745.000000  22745.000000  22745.000000  \n",
       "mean       3.557943      1.998610      8.326076      1.834821      3.594448  \n",
       "std        3.272510      1.628982    397.235666      1.107884      3.282610  \n",
       "min        1.010000      1.010000      1.010000      1.010000      1.010000  \n",
       "25%        1.730000      1.290000      1.850000      1.240000      1.740000  \n",
       "50%        2.630000      1.570000      2.780000      1.500000      2.550000  \n",
       "75%        4.000000      2.200000      4.540000      2.060000      3.990000  \n",
       "max       81.000000     76.000000  42586.000000     23.450000     36.440000  \n",
       "\n",
       "[8 rows x 37 columns]"
      ]
     },
     "execution_count": 6,
     "metadata": {},
     "output_type": "execute_result"
    }
   ],
   "source": [
    "tennis_data.toPandas().describe(include = [np.number])"
   ]
  },
  {
   "cell_type": "code",
   "execution_count": 7,
   "id": "fafbc137-cbdb-411d-b226-c988bc31c89f",
   "metadata": {},
   "outputs": [
    {
     "data": {
      "text/html": [
       "<div>\n",
       "<style scoped>\n",
       "    .dataframe tbody tr th:only-of-type {\n",
       "        vertical-align: middle;\n",
       "    }\n",
       "\n",
       "    .dataframe tbody tr th {\n",
       "        vertical-align: top;\n",
       "    }\n",
       "\n",
       "    .dataframe thead th {\n",
       "        text-align: right;\n",
       "    }\n",
       "</style>\n",
       "<table border=\"1\" class=\"dataframe\">\n",
       "  <thead>\n",
       "    <tr style=\"text-align: right;\">\n",
       "      <th></th>\n",
       "      <th>Location</th>\n",
       "      <th>Tournament</th>\n",
       "      <th>Date</th>\n",
       "      <th>Series</th>\n",
       "      <th>Court</th>\n",
       "      <th>Surface</th>\n",
       "      <th>Round</th>\n",
       "      <th>Winner</th>\n",
       "      <th>Loser</th>\n",
       "      <th>WRank</th>\n",
       "      <th>LRank</th>\n",
       "      <th>W2</th>\n",
       "      <th>L2</th>\n",
       "      <th>W3</th>\n",
       "      <th>L3</th>\n",
       "      <th>Lsets</th>\n",
       "      <th>Comment</th>\n",
       "      <th>EXW</th>\n",
       "    </tr>\n",
       "  </thead>\n",
       "  <tbody>\n",
       "    <tr>\n",
       "      <th>count</th>\n",
       "      <td>52298</td>\n",
       "      <td>52298</td>\n",
       "      <td>52298</td>\n",
       "      <td>52298</td>\n",
       "      <td>52298</td>\n",
       "      <td>52298</td>\n",
       "      <td>52298</td>\n",
       "      <td>52298</td>\n",
       "      <td>52298</td>\n",
       "      <td>52283</td>\n",
       "      <td>52220</td>\n",
       "      <td>51526</td>\n",
       "      <td>51527</td>\n",
       "      <td>24169</td>\n",
       "      <td>24168</td>\n",
       "      <td>52073</td>\n",
       "      <td>52298</td>\n",
       "      <td>39411</td>\n",
       "    </tr>\n",
       "    <tr>\n",
       "      <th>unique</th>\n",
       "      <td>115</td>\n",
       "      <td>214</td>\n",
       "      <td>4650</td>\n",
       "      <td>8</td>\n",
       "      <td>2</td>\n",
       "      <td>4</td>\n",
       "      <td>8</td>\n",
       "      <td>948</td>\n",
       "      <td>1483</td>\n",
       "      <td>981</td>\n",
       "      <td>1465</td>\n",
       "      <td>17</td>\n",
       "      <td>17</td>\n",
       "      <td>17</td>\n",
       "      <td>17</td>\n",
       "      <td>7</td>\n",
       "      <td>5</td>\n",
       "      <td>367</td>\n",
       "    </tr>\n",
       "    <tr>\n",
       "      <th>top</th>\n",
       "      <td>Paris</td>\n",
       "      <td>US Open</td>\n",
       "      <td>2000-05-29</td>\n",
       "      <td>International</td>\n",
       "      <td>Outdoor</td>\n",
       "      <td>Hard</td>\n",
       "      <td>1st Round</td>\n",
       "      <td>Federer R.</td>\n",
       "      <td>Lopez F.</td>\n",
       "      <td>1.0</td>\n",
       "      <td>46.0</td>\n",
       "      <td>6.0</td>\n",
       "      <td>6.0</td>\n",
       "      <td>6.0</td>\n",
       "      <td>4.0</td>\n",
       "      <td>0.0</td>\n",
       "      <td>Completed</td>\n",
       "      <td>1.35</td>\n",
       "    </tr>\n",
       "    <tr>\n",
       "      <th>freq</th>\n",
       "      <td>3306</td>\n",
       "      <td>2413</td>\n",
       "      <td>127</td>\n",
       "      <td>12204</td>\n",
       "      <td>42941</td>\n",
       "      <td>27716</td>\n",
       "      <td>24212</td>\n",
       "      <td>1121</td>\n",
       "      <td>415</td>\n",
       "      <td>653</td>\n",
       "      <td>362</td>\n",
       "      <td>30103</td>\n",
       "      <td>11164</td>\n",
       "      <td>14362</td>\n",
       "      <td>4836</td>\n",
       "      <td>25396</td>\n",
       "      <td>50358</td>\n",
       "      <td>1321</td>\n",
       "    </tr>\n",
       "  </tbody>\n",
       "</table>\n",
       "</div>"
      ],
      "text/plain": [
       "       Location Tournament        Date         Series    Court Surface  \\\n",
       "count     52298      52298       52298          52298    52298   52298   \n",
       "unique      115        214        4650              8        2       4   \n",
       "top       Paris    US Open  2000-05-29  International  Outdoor    Hard   \n",
       "freq       3306       2413         127          12204    42941   27716   \n",
       "\n",
       "            Round      Winner     Loser  WRank  LRank     W2     L2     W3  \\\n",
       "count       52298       52298     52298  52283  52220  51526  51527  24169   \n",
       "unique          8         948      1483    981   1465     17     17     17   \n",
       "top     1st Round  Federer R.  Lopez F.    1.0   46.0    6.0    6.0    6.0   \n",
       "freq        24212        1121       415    653    362  30103  11164  14362   \n",
       "\n",
       "           L3  Lsets    Comment    EXW  \n",
       "count   24168  52073      52298  39411  \n",
       "unique     17      7          5    367  \n",
       "top       4.0    0.0  Completed   1.35  \n",
       "freq     4836  25396      50358   1321  "
      ]
     },
     "execution_count": 7,
     "metadata": {},
     "output_type": "execute_result"
    }
   ],
   "source": [
    "tennis_data.toPandas().describe(include = ['O'])"
   ]
  },
  {
   "cell_type": "markdown",
   "id": "64d3baa5-8833-427a-81f4-3883b90bb529",
   "metadata": {},
   "source": [
    "# Data Visualization"
   ]
  },
  {
   "cell_type": "markdown",
   "id": "347db492-3cf5-41bb-b852-83bfffef5def",
   "metadata": {},
   "source": [
    "### 1. Top 10 Players with Most wins"
   ]
  },
  {
   "cell_type": "code",
   "execution_count": 8,
   "id": "875c9e81-fd7f-4578-9f5a-5ff8c8bace83",
   "metadata": {},
   "outputs": [
    {
     "name": "stdout",
     "output_type": "stream",
     "text": [
      "+-----------+-----+\n",
      "|     Winner|count|\n",
      "+-----------+-----+\n",
      "| Federer R.| 1121|\n",
      "|   Nadal R.|  891|\n",
      "|Djokovic N.|  802|\n",
      "|  Ferrer D.|  691|\n",
      "|  Murray A.|  624|\n",
      "| Berdych T.|  580|\n",
      "| Roddick A.|  577|\n",
      "| Robredo T.|  518|\n",
      "|  Hewitt L.|  514|\n",
      "|Verdasco F.|  506|\n",
      "+-----------+-----+\n",
      "only showing top 10 rows\n",
      "\n"
     ]
    }
   ],
   "source": [
    "tennis_data.groupBy(\"Winner\").count().sort(\"count\",ascending=False).show(10)\n",
    "\n",
    "winner_data=tennis_data.groupBy(\"Winner\").count()\\\n",
    "            .sort(\"count\",ascending=False).alias('tennis_data').limit(10)\n"
   ]
  },
  {
   "cell_type": "code",
   "execution_count": 9,
   "id": "f99b127a-886b-4f2c-bd38-2cb0f6f00dea",
   "metadata": {},
   "outputs": [
    {
     "data": {
      "text/plain": [
       "Text(0.5, 1.0, 'Top 10 Players of Tennis Championships between 2000-2018')"
      ]
     },
     "execution_count": 9,
     "metadata": {},
     "output_type": "execute_result"
    },
    {
     "data": {
      "image/png": "[encoded data removed]",
      "text/plain": [
       "<Figure size 864x360 with 1 Axes>"
      ]
     },
     "metadata": {
      "needs_background": "light"
     },
     "output_type": "display_data"
    }
   ],
   "source": [
    "plt.figure(figsize = (12, 5))\n",
    "colors=['Gold','slategray','goldenrod']+['grey']*7\n",
    "plt.bar(winner_data.toPandas()[\"Winner\"], winner_data.toPandas()[\"count\"],color=colors)\n",
    "plt.ylabel(\"Total Wins\", size = 12)\n",
    "plt.title(\"Top 10 Players of Tennis Championships between 2000-2018\", size = 12)"
   ]
  },
  {
   "cell_type": "code",
   "execution_count": 10,
   "id": "d0f2f7e4-3dc3-473a-be82-422347b33b08",
   "metadata": {},
   "outputs": [],
   "source": [
    "def calculate_percentages_of_winnings(data):\n",
    "    \"\"\"_summary_\n",
    "        # After grouping by tournaments\n",
    "\n",
    "        # we have to caluclate for each player (winer) in match :\n",
    "        # Winner winnings % = (winer_winings) /(winer_winings + winer_losses) * 100  [ To get the percentage of wins]\n",
    "\n",
    "        # we have to caluclate for player (loser) in match :\n",
    "        # Loser winnings % = (loser_winings) /(loser_winings + loser_losses) * 100  [ To get the percentage of wins]\n",
    "    Args:\n",
    "        data (_type_): _description_\n",
    "\n",
    "    Returns:\n",
    "        _type_: _description_\n",
    "    \"\"\"\n",
    "    data['winner_number_of_winnings'] = data.groupby('Winner').cumcount()\n",
    "    data['winner_number_of_losses'] = [(data.loc[0:i, 'Loser'] == data.loc[i, 'Winner']).sum() for i in data.index]\n",
    "    data['loser_number_of_winnings'] = data.groupby('Loser').cumcount()\n",
    "    data['loser_number_of_losses'] = [(data.loc[0:i, 'Winner'] == data.loc[i, 'Loser']).sum() for i in data.index]\n",
    "    data['Winner winning %'] = (data['winner_number_of_winnings'] / (data['winner_number_of_winnings'] + data['winner_number_of_losses'])).round(4)*100\n",
    "    data['Loser winning %'] = (data['loser_number_of_winnings'] / (data['loser_number_of_winnings'] + data['loser_number_of_losses'])).round(4)*100\n",
    "    return data\n",
    "\n",
    "# For each match / Per tournement, get the winner and loser and calculate the win % for each player\n",
    "tennis_data_with_winning_percentages = tennis_data.toPandas().groupby('Tournament').apply(calculate_percentages_of_winnings).reset_index(drop=True)"
   ]
  },
  {
   "cell_type": "code",
   "execution_count": 11,
   "id": "03c8dcbd-20d3-4bca-bd78-f11319fa2ec0",
   "metadata": {},
   "outputs": [],
   "source": [
    "tennis_data_plus=spark.createDataFrame(tennis_data_with_winning_percentages) "
   ]
  },
  {
   "cell_type": "code",
   "execution_count": 12,
   "id": "032ade1d-4612-49da-ac3f-cb31c3cf59e8",
   "metadata": {},
   "outputs": [
    {
     "data": {
      "text/plain": [
       "[Row(Winner='Zverev A.', Winner winning %=40.0, Loser winning %=100.0),\n",
       " Row(Winner='Djokovic N.', Winner winning %=75.56, Loser winning %=81.82000000000001),\n",
       " Row(Winner='Zverev A.', Winner winning %=50.0, Loser winning %=20.830000000000002),\n",
       " Row(Winner='Djokovic N.', Winner winning %=76.09, Loser winning %=33.33),\n",
       " Row(Winner='Zverev A.', Winner winning %=57.14, Loser winning %=23.400000000000002)]"
      ]
     },
     "execution_count": 12,
     "metadata": {},
     "output_type": "execute_result"
    }
   ],
   "source": [
    "tennis_data_plus.select([\"Winner\",\"Winner winning %\",\"Loser winning %\"]).tail(5)"
   ]
  },
  {
   "cell_type": "code",
   "execution_count": 13,
   "id": "98ca9bfc-a69b-48d2-883a-4f60feb20fff",
   "metadata": {},
   "outputs": [
    {
     "data": {
      "text/plain": [
       "pyspark.sql.dataframe.DataFrame"
      ]
     },
     "execution_count": 13,
     "metadata": {},
     "output_type": "execute_result"
    }
   ],
   "source": [
    "type(tennis_data_plus)"
   ]
  },
  {
   "cell_type": "markdown",
   "id": "b8b16d27-752e-4491-8ec7-f3b89efd2823",
   "metadata": {
    "tags": []
   },
   "source": [
    "### 2. Winning / Losing Trends - Graph"
   ]
  },
  {
   "cell_type": "code",
   "execution_count": 14,
   "id": "dd82507e-a1de-411b-b5ae-cd60a29defb5",
   "metadata": {},
   "outputs": [
    {
     "data": {
      "image/png": "[encoded data removed]",
      "text/plain": [
       "<Figure size 1296x576 with 1 Axes>"
      ]
     },
     "metadata": {
      "needs_background": "light"
     },
     "output_type": "display_data"
    }
   ],
   "source": [
    "plt.style.use('seaborn-deep')\n",
    "plt.rcParams[\"figure.figsize\"]= (18,8)\n",
    "plt.set_loglevel('WARNING')\n",
    "\n",
    "Winner_wins = tennis_data_plus.select(['Winner winning %']).toPandas()[\"Winner winning %\"]\n",
    "Loser_wins =tennis_data_plus.select(['Loser winning %']).toPandas()[\"Loser winning %\"]\n",
    "\n",
    "bins = 10\n",
    "\n",
    "plt.hist([Winner_wins, Loser_wins], bins, label=['Winner', 'Loser'], color= (\"Green\", \"tomato\"))\n",
    "plt.annotate('Losers Tend To Lose!', xy = (10, 11000), \n",
    "             fontsize = 15, xytext = (15, 10000), \n",
    "             arrowprops = dict(facecolor = 'red'),\n",
    "             color = 'red')\n",
    "plt.annotate('Winers Tend To Win!', xy = (90, 9900), \n",
    "             fontsize = 15, xytext = (65, 8900), \n",
    "             arrowprops = dict(facecolor = 'green'),\n",
    "             color = 'green')\n",
    "plt.xlabel('Wins Percentage (%)',fontsize=14)\n",
    "plt.ylabel('Frequency',fontsize=14)\n",
    "plt.legend(loc='upper right', prop={'size': 12})\n",
    "plt.show()"
   ]
  },
  {
   "cell_type": "markdown",
   "id": "61f6bc36-eca1-430a-a1b2-8974194a003c",
   "metadata": {},
   "source": [
    "### Show missing Values Count"
   ]
  },
  {
   "cell_type": "code",
   "execution_count": 15,
   "id": "de771bde-a661-4e09-922c-b511d1a86552",
   "metadata": {},
   "outputs": [
    {
     "data": {
      "text/html": [
       "<div>\n",
       "<style scoped>\n",
       "    .dataframe tbody tr th:only-of-type {\n",
       "        vertical-align: middle;\n",
       "    }\n",
       "\n",
       "    .dataframe tbody tr th {\n",
       "        vertical-align: top;\n",
       "    }\n",
       "\n",
       "    .dataframe thead th {\n",
       "        text-align: right;\n",
       "    }\n",
       "</style>\n",
       "<table border=\"1\" class=\"dataframe\">\n",
       "  <thead>\n",
       "    <tr style=\"text-align: right;\">\n",
       "      <th></th>\n",
       "      <th>index</th>\n",
       "      <th>Total</th>\n",
       "    </tr>\n",
       "  </thead>\n",
       "  <tbody>\n",
       "    <tr>\n",
       "      <th>37</th>\n",
       "      <td>B&amp;WW</td>\n",
       "      <td>98.0</td>\n",
       "    </tr>\n",
       "    <tr>\n",
       "      <th>38</th>\n",
       "      <td>B&amp;WL</td>\n",
       "      <td>98.0</td>\n",
       "    </tr>\n",
       "    <tr>\n",
       "      <th>23</th>\n",
       "      <td>L5</td>\n",
       "      <td>97.0</td>\n",
       "    </tr>\n",
       "    <tr>\n",
       "      <th>22</th>\n",
       "      <td>W5</td>\n",
       "      <td>97.0</td>\n",
       "    </tr>\n",
       "    <tr>\n",
       "      <th>21</th>\n",
       "      <td>L4</td>\n",
       "      <td>91.0</td>\n",
       "    </tr>\n",
       "    <tr>\n",
       "      <th>20</th>\n",
       "      <td>W4</td>\n",
       "      <td>91.0</td>\n",
       "    </tr>\n",
       "    <tr>\n",
       "      <th>30</th>\n",
       "      <td>GBL</td>\n",
       "      <td>90.0</td>\n",
       "    </tr>\n",
       "    <tr>\n",
       "      <th>33</th>\n",
       "      <td>SBW</td>\n",
       "      <td>90.0</td>\n",
       "    </tr>\n",
       "    <tr>\n",
       "      <th>29</th>\n",
       "      <td>GBW</td>\n",
       "      <td>90.0</td>\n",
       "    </tr>\n",
       "    <tr>\n",
       "      <th>34</th>\n",
       "      <td>SBL</td>\n",
       "      <td>90.0</td>\n",
       "    </tr>\n",
       "    <tr>\n",
       "      <th>46</th>\n",
       "      <td>UBL</td>\n",
       "      <td>80.0</td>\n",
       "    </tr>\n",
       "    <tr>\n",
       "      <th>45</th>\n",
       "      <td>UBW</td>\n",
       "      <td>80.0</td>\n",
       "    </tr>\n",
       "    <tr>\n",
       "      <th>32</th>\n",
       "      <td>IWL</td>\n",
       "      <td>74.0</td>\n",
       "    </tr>\n",
       "    <tr>\n",
       "      <th>31</th>\n",
       "      <td>IWW</td>\n",
       "      <td>74.0</td>\n",
       "    </tr>\n",
       "    <tr>\n",
       "      <th>49</th>\n",
       "      <td>SJW</td>\n",
       "      <td>70.0</td>\n",
       "    </tr>\n",
       "    <tr>\n",
       "      <th>50</th>\n",
       "      <td>SJL</td>\n",
       "      <td>70.0</td>\n",
       "    </tr>\n",
       "    <tr>\n",
       "      <th>28</th>\n",
       "      <td>CBL</td>\n",
       "      <td>67.0</td>\n",
       "    </tr>\n",
       "    <tr>\n",
       "      <th>27</th>\n",
       "      <td>CBW</td>\n",
       "      <td>67.0</td>\n",
       "    </tr>\n",
       "    <tr>\n",
       "      <th>54</th>\n",
       "      <td>AvgL</td>\n",
       "      <td>57.0</td>\n",
       "    </tr>\n",
       "    <tr>\n",
       "      <th>53</th>\n",
       "      <td>AvgW</td>\n",
       "      <td>57.0</td>\n",
       "    </tr>\n",
       "    <tr>\n",
       "      <th>51</th>\n",
       "      <td>MaxW</td>\n",
       "      <td>57.0</td>\n",
       "    </tr>\n",
       "    <tr>\n",
       "      <th>52</th>\n",
       "      <td>MaxL</td>\n",
       "      <td>57.0</td>\n",
       "    </tr>\n",
       "    <tr>\n",
       "      <th>18</th>\n",
       "      <td>W3</td>\n",
       "      <td>54.0</td>\n",
       "    </tr>\n",
       "    <tr>\n",
       "      <th>19</th>\n",
       "      <td>L3</td>\n",
       "      <td>54.0</td>\n",
       "    </tr>\n",
       "    <tr>\n",
       "      <th>47</th>\n",
       "      <td>LBW</td>\n",
       "      <td>46.0</td>\n",
       "    </tr>\n",
       "    <tr>\n",
       "      <th>48</th>\n",
       "      <td>LBL</td>\n",
       "      <td>46.0</td>\n",
       "    </tr>\n",
       "  </tbody>\n",
       "</table>\n",
       "</div>"
      ],
      "text/plain": [
       "   index  Total\n",
       "37  B&WW   98.0\n",
       "38  B&WL   98.0\n",
       "23    L5   97.0\n",
       "22    W5   97.0\n",
       "21    L4   91.0\n",
       "20    W4   91.0\n",
       "30   GBL   90.0\n",
       "33   SBW   90.0\n",
       "29   GBW   90.0\n",
       "34   SBL   90.0\n",
       "46   UBL   80.0\n",
       "45   UBW   80.0\n",
       "32   IWL   74.0\n",
       "31   IWW   74.0\n",
       "49   SJW   70.0\n",
       "50   SJL   70.0\n",
       "28   CBL   67.0\n",
       "27   CBW   67.0\n",
       "54  AvgL   57.0\n",
       "53  AvgW   57.0\n",
       "51  MaxW   57.0\n",
       "52  MaxL   57.0\n",
       "18    W3   54.0\n",
       "19    L3   54.0\n",
       "47   LBW   46.0\n",
       "48   LBL   46.0"
      ]
     },
     "execution_count": 15,
     "metadata": {},
     "output_type": "execute_result"
    }
   ],
   "source": [
    "for_visualisation=tennis_data_plus.toPandas()\n",
    "missing_details=((for_visualisation.isnull().sum()/ len(for_visualisation))\\\n",
    " .round(2) *100)\\\n",
    " .reset_index(name ='Total')\\\n",
    " .sort_values(by=\"Total\",ascending=False)\n",
    "(missing_details[missing_details[\"Total\"]> 40])"
   ]
  },
  {
   "cell_type": "code",
   "execution_count": 16,
   "id": "28bb9e09-ced0-435c-bb19-0652f80c9aae",
   "metadata": {},
   "outputs": [
    {
     "name": "stdout",
     "output_type": "stream",
     "text": [
      "These Columns must be removed due to the amount of missing data in those columns :\n",
      "['B&WW', 'B&WL', 'L5', 'W5', 'L4', 'W4', 'GBL', 'SBW', 'GBW', 'SBL', 'UBL', 'UBW', 'IWL', 'IWW', 'SJW', 'SJL', 'CBL', 'CBW', 'AvgL', 'AvgW', 'MaxW', 'MaxL', 'W3', 'L3', 'LBW', 'LBL']"
     ]
    }
   ],
   "source": [
    "acceptable_missing_data_percentage=0.4 # %\n",
    "columns_to_remove =missing_details[missing_details.Total/100 > acceptable_missing_data_percentage][\"index\"].values.tolist()\n",
    "print(\"These Columns must be removed due to the amount of missing data in those columns :\")\n",
    "print(columns_to_remove,end='')"
   ]
  },
  {
   "cell_type": "code",
   "execution_count": 17,
   "id": "1cff64da-4175-4b54-b124-c8a829789c83",
   "metadata": {},
   "outputs": [
    {
     "name": "stdout",
     "output_type": "stream",
     "text": [
      "root\n",
      " |-- _c0: long (nullable = true)\n",
      " |-- ATP: long (nullable = true)\n",
      " |-- Location: string (nullable = true)\n",
      " |-- Tournament: string (nullable = true)\n",
      " |-- Date: string (nullable = true)\n",
      " |-- Series: string (nullable = true)\n",
      " |-- Court: string (nullable = true)\n",
      " |-- Surface: string (nullable = true)\n",
      " |-- Round: string (nullable = true)\n",
      " |-- Best of: long (nullable = true)\n",
      " |-- Winner: string (nullable = true)\n",
      " |-- Loser: string (nullable = true)\n",
      " |-- WRank: string (nullable = true)\n",
      " |-- LRank: string (nullable = true)\n",
      " |-- W1: double (nullable = true)\n",
      " |-- L1: double (nullable = true)\n",
      " |-- W2: string (nullable = true)\n",
      " |-- L2: string (nullable = true)\n",
      " |-- Wsets: double (nullable = true)\n",
      " |-- Lsets: string (nullable = true)\n",
      " |-- Comment: string (nullable = true)\n",
      " |-- B365W: double (nullable = true)\n",
      " |-- B365L: double (nullable = true)\n",
      " |-- EXW: string (nullable = true)\n",
      " |-- EXL: double (nullable = true)\n",
      " |-- PSW: double (nullable = true)\n",
      " |-- PSL: double (nullable = true)\n",
      " |-- WPts: double (nullable = true)\n",
      " |-- LPts: double (nullable = true)\n",
      " |-- winner_number_of_winnings: long (nullable = true)\n",
      " |-- winner_number_of_losses: long (nullable = true)\n",
      " |-- loser_number_of_winnings: long (nullable = true)\n",
      " |-- loser_number_of_losses: long (nullable = true)\n",
      " |-- Winner winning %: double (nullable = true)\n",
      " |-- Loser winning %: double (nullable = true)\n",
      "\n"
     ]
    }
   ],
   "source": [
    "def drop_unwanted_columns(data: pd.DataFrame,missing_tol=0.40, to_remove_columns: list=[]) -> pd.DataFrame:\n",
    "    missing_data_details=((data.isnull().sum()/ len(data)).round(2) *100).reset_index()\n",
    "    acceptable_missing_data_percentage= 0.40 # more than 25% of data is missing\n",
    "    missing_data_details.columns=[\"column_name\",\"percentages\"]\n",
    "    missing_data_details.sort_values(by=[\"percentages\"],ascending=False,inplace=True)\n",
    "    columns_to_remove =missing_data_details[missing_data_details.percentages/100 > acceptable_missing_data_percentage][\"column_name\"].values.tolist()\n",
    "    columns_to_remove = columns_to_remove + to_remove_columns\n",
    "    return data.drop(columns_to_remove, axis = 1)\n",
    "\n",
    "tennis_data_eda=drop_unwanted_columns(tennis_data_plus.toPandas())\n",
    "\n",
    "tennis_data_eda =spark.createDataFrame(tennis_data_eda)\n",
    "tennis_data_eda.printSchema()"
   ]
  },
  {
   "cell_type": "markdown",
   "id": "4e0405bc-61f5-48e6-881f-8d635422b5a4",
   "metadata": {},
   "source": [
    "# Feature Engineering"
   ]
  },
  {
   "cell_type": "markdown",
   "id": "93063367-b972-4225-b5a1-0d4bde4209d0",
   "metadata": {},
   "source": [
    "#### In order to predict the outcome for each ATP tennis game we need to engineer a new Feature,\n",
    "#### so we can classify 2 scenarios we choose randomaly  Player 1 and Player 2 where :\n",
    "- #### Player 1 Won = 1 , Player 2 lost = 0  =>  Result =1\n",
    "                  OR\n",
    "- #### Player 1 lost = 0 , Player 2 won = 1 => Result = 0\n",
    "\n",
    "### since on is the opposite of the other we can simply use the Player 1 only to know who won \n",
    "### we can now have a new feature which will tell us the result of the match"
   ]
  },
  {
   "cell_type": "code",
   "execution_count": 18,
   "id": "69b90bdd-2ea0-45a5-8e69-c9c7d19b19ce",
   "metadata": {},
   "outputs": [],
   "source": [
    "engineering_data =tennis_data_eda.toPandas()"
   ]
  },
  {
   "cell_type": "code",
   "execution_count": 19,
   "id": "7004458a-c9ca-4da3-b482-86d0a487c5f6",
   "metadata": {},
   "outputs": [],
   "source": [
    "engineering_data[\"Player 1\"] =engineering_data.apply(lambda datarow: datarow[\"Winner\"] if datarow[\"Winner\"] > datarow[\"Loser\"] else datarow[\"Loser\"],axis=1)\n",
    "engineering_data[\"Player 2\"] =engineering_data.apply(lambda datarow: datarow[\"Winner\"] if datarow[\"Winner\"] < datarow[\"Loser\"] else datarow[\"Loser\"],axis=1)\n",
    "engineering_data[\"Result\"] =engineering_data.apply(lambda datarow: 1 if datarow[\"Winner\"]==datarow[\"Player 1\"] else 0,axis=1)\n",
    "engineering_data.drop([\"Winner\",\"Loser\"],axis=1,inplace=True)\n",
    "tennis_data_final=spark.createDataFrame(engineering_data)"
   ]
  },
  {
   "cell_type": "code",
   "execution_count": 20,
   "id": "b86e1911-4266-4dae-80a4-3af05d5b2087",
   "metadata": {},
   "outputs": [
    {
     "data": {
      "text/html": [
       "<div>\n",
       "<style scoped>\n",
       "    .dataframe tbody tr th:only-of-type {\n",
       "        vertical-align: middle;\n",
       "    }\n",
       "\n",
       "    .dataframe tbody tr th {\n",
       "        vertical-align: top;\n",
       "    }\n",
       "\n",
       "    .dataframe thead th {\n",
       "        text-align: right;\n",
       "    }\n",
       "</style>\n",
       "<table border=\"1\" class=\"dataframe\">\n",
       "  <thead>\n",
       "    <tr style=\"text-align: right;\">\n",
       "      <th></th>\n",
       "      <th>_c0</th>\n",
       "      <th>ATP</th>\n",
       "      <th>Location</th>\n",
       "      <th>Tournament</th>\n",
       "      <th>Date</th>\n",
       "      <th>Series</th>\n",
       "      <th>Court</th>\n",
       "      <th>Surface</th>\n",
       "      <th>Round</th>\n",
       "      <th>Best of</th>\n",
       "      <th>...</th>\n",
       "      <th>LPts</th>\n",
       "      <th>winner_number_of_winnings</th>\n",
       "      <th>winner_number_of_losses</th>\n",
       "      <th>loser_number_of_winnings</th>\n",
       "      <th>loser_number_of_losses</th>\n",
       "      <th>Winner winning %</th>\n",
       "      <th>Loser winning %</th>\n",
       "      <th>Player 1</th>\n",
       "      <th>Player 2</th>\n",
       "      <th>Result</th>\n",
       "    </tr>\n",
       "  </thead>\n",
       "  <tbody>\n",
       "    <tr>\n",
       "      <th>0</th>\n",
       "      <td>0</td>\n",
       "      <td>1</td>\n",
       "      <td>Adelaide</td>\n",
       "      <td>Australian Hardcourt Championships</td>\n",
       "      <td>2000-01-03</td>\n",
       "      <td>International</td>\n",
       "      <td>Outdoor</td>\n",
       "      <td>Hard</td>\n",
       "      <td>1st Round</td>\n",
       "      <td>3</td>\n",
       "      <td>...</td>\n",
       "      <td>NaN</td>\n",
       "      <td>0</td>\n",
       "      <td>0</td>\n",
       "      <td>0</td>\n",
       "      <td>0</td>\n",
       "      <td>NaN</td>\n",
       "      <td>NaN</td>\n",
       "      <td>Ljubicic I.</td>\n",
       "      <td>Dosedel S.</td>\n",
       "      <td>0</td>\n",
       "    </tr>\n",
       "    <tr>\n",
       "      <th>1</th>\n",
       "      <td>1</td>\n",
       "      <td>1</td>\n",
       "      <td>Adelaide</td>\n",
       "      <td>Australian Hardcourt Championships</td>\n",
       "      <td>2000-01-03</td>\n",
       "      <td>International</td>\n",
       "      <td>Outdoor</td>\n",
       "      <td>Hard</td>\n",
       "      <td>1st Round</td>\n",
       "      <td>3</td>\n",
       "      <td>...</td>\n",
       "      <td>NaN</td>\n",
       "      <td>0</td>\n",
       "      <td>0</td>\n",
       "      <td>0</td>\n",
       "      <td>0</td>\n",
       "      <td>NaN</td>\n",
       "      <td>NaN</td>\n",
       "      <td>Enqvist T.</td>\n",
       "      <td>Clement A.</td>\n",
       "      <td>1</td>\n",
       "    </tr>\n",
       "    <tr>\n",
       "      <th>2</th>\n",
       "      <td>2</td>\n",
       "      <td>1</td>\n",
       "      <td>Adelaide</td>\n",
       "      <td>Australian Hardcourt Championships</td>\n",
       "      <td>2000-01-03</td>\n",
       "      <td>International</td>\n",
       "      <td>Outdoor</td>\n",
       "      <td>Hard</td>\n",
       "      <td>1st Round</td>\n",
       "      <td>3</td>\n",
       "      <td>...</td>\n",
       "      <td>NaN</td>\n",
       "      <td>0</td>\n",
       "      <td>0</td>\n",
       "      <td>0</td>\n",
       "      <td>0</td>\n",
       "      <td>NaN</td>\n",
       "      <td>NaN</td>\n",
       "      <td>Escude N.</td>\n",
       "      <td>Baccanello P.</td>\n",
       "      <td>1</td>\n",
       "    </tr>\n",
       "    <tr>\n",
       "      <th>3</th>\n",
       "      <td>3</td>\n",
       "      <td>1</td>\n",
       "      <td>Adelaide</td>\n",
       "      <td>Australian Hardcourt Championships</td>\n",
       "      <td>2000-01-03</td>\n",
       "      <td>International</td>\n",
       "      <td>Outdoor</td>\n",
       "      <td>Hard</td>\n",
       "      <td>1st Round</td>\n",
       "      <td>3</td>\n",
       "      <td>...</td>\n",
       "      <td>NaN</td>\n",
       "      <td>0</td>\n",
       "      <td>0</td>\n",
       "      <td>0</td>\n",
       "      <td>0</td>\n",
       "      <td>NaN</td>\n",
       "      <td>NaN</td>\n",
       "      <td>Knippschild J.</td>\n",
       "      <td>Federer R.</td>\n",
       "      <td>0</td>\n",
       "    </tr>\n",
       "    <tr>\n",
       "      <th>4</th>\n",
       "      <td>4</td>\n",
       "      <td>1</td>\n",
       "      <td>Adelaide</td>\n",
       "      <td>Australian Hardcourt Championships</td>\n",
       "      <td>2000-01-03</td>\n",
       "      <td>International</td>\n",
       "      <td>Outdoor</td>\n",
       "      <td>Hard</td>\n",
       "      <td>1st Round</td>\n",
       "      <td>3</td>\n",
       "      <td>...</td>\n",
       "      <td>NaN</td>\n",
       "      <td>0</td>\n",
       "      <td>0</td>\n",
       "      <td>0</td>\n",
       "      <td>0</td>\n",
       "      <td>NaN</td>\n",
       "      <td>NaN</td>\n",
       "      <td>Woodbridge T.</td>\n",
       "      <td>Fromberg R.</td>\n",
       "      <td>0</td>\n",
       "    </tr>\n",
       "  </tbody>\n",
       "</table>\n",
       "<p>5 rows × 36 columns</p>\n",
       "</div>"
      ],
      "text/plain": [
       "   _c0  ATP  Location                          Tournament        Date  \\\n",
       "0    0    1  Adelaide  Australian Hardcourt Championships  2000-01-03   \n",
       "1    1    1  Adelaide  Australian Hardcourt Championships  2000-01-03   \n",
       "2    2    1  Adelaide  Australian Hardcourt Championships  2000-01-03   \n",
       "3    3    1  Adelaide  Australian Hardcourt Championships  2000-01-03   \n",
       "4    4    1  Adelaide  Australian Hardcourt Championships  2000-01-03   \n",
       "\n",
       "          Series    Court Surface      Round  Best of  ... LPts  \\\n",
       "0  International  Outdoor    Hard  1st Round        3  ...  NaN   \n",
       "1  International  Outdoor    Hard  1st Round        3  ...  NaN   \n",
       "2  International  Outdoor    Hard  1st Round        3  ...  NaN   \n",
       "3  International  Outdoor    Hard  1st Round        3  ...  NaN   \n",
       "4  International  Outdoor    Hard  1st Round        3  ...  NaN   \n",
       "\n",
       "  winner_number_of_winnings  winner_number_of_losses  \\\n",
       "0                         0                        0   \n",
       "1                         0                        0   \n",
       "2                         0                        0   \n",
       "3                         0                        0   \n",
       "4                         0                        0   \n",
       "\n",
       "   loser_number_of_winnings loser_number_of_losses Winner winning %  \\\n",
       "0                         0                      0              NaN   \n",
       "1                         0                      0              NaN   \n",
       "2                         0                      0              NaN   \n",
       "3                         0                      0              NaN   \n",
       "4                         0                      0              NaN   \n",
       "\n",
       "   Loser winning %        Player 1       Player 2  Result  \n",
       "0              NaN     Ljubicic I.     Dosedel S.       0  \n",
       "1              NaN      Enqvist T.     Clement A.       1  \n",
       "2              NaN       Escude N.  Baccanello P.       1  \n",
       "3              NaN  Knippschild J.     Federer R.       0  \n",
       "4              NaN   Woodbridge T.    Fromberg R.       0  \n",
       "\n",
       "[5 rows x 36 columns]"
      ]
     },
     "execution_count": 20,
     "metadata": {},
     "output_type": "execute_result"
    }
   ],
   "source": [
    "tennis_data_final.toPandas().head()"
   ]
  },
  {
   "cell_type": "markdown",
   "id": "f79844d1-5e1c-4edf-9fe2-2c989f756713",
   "metadata": {
    "tags": []
   },
   "source": [
    "### |\n",
    "### |   Target Feature (Records) distributiom not showing any signs of imbalance\n",
    "### | \n",
    "### V "
   ]
  },
  {
   "cell_type": "code",
   "execution_count": 21,
   "id": "08b464a8-0f43-4a6b-b099-0628e3fea0b0",
   "metadata": {},
   "outputs": [
    {
     "name": "stdout",
     "output_type": "stream",
     "text": [
      "25696  Records (1) vs Records (1)  26602"
     ]
    },
    {
     "data": {
      "image/png": "[encoded data removed]",
      "text/plain": [
       "<Figure size 1296x576 with 1 Axes>"
      ]
     },
     "metadata": {
      "needs_background": "light"
     },
     "output_type": "display_data"
    }
   ],
   "source": [
    "for_visualtization =tennis_data_final.toPandas()\n",
    "for_visualtization[[\"Result\"]].value_counts(normalize=True).plot(kind=\"bar\")\n",
    "\n",
    "print( for_visualtization[for_visualtization[\"Result\"] == 1].shape[0] ,\\\n",
    "      \" Records (1) vs Records (1) \",\\\n",
    "      for_visualtization[for_visualtization[\"Result\"] == 0].shape[0],end=\"\")"
   ]
  },
  {
   "cell_type": "code",
   "execution_count": 22,
   "id": "e93c529b-6bda-4a31-aa1f-0d647c663d36",
   "metadata": {},
   "outputs": [],
   "source": [
    "# Sklearn \n",
    "from sklearn.model_selection import train_test_split\n",
    "from sklearn.metrics import  accuracy_score, precision_score, recall_score, f1_score\n",
    "from sklearn import metrics\n",
    "from sklearn.preprocessing import OrdinalEncoder,MinMaxScaler,StandardScaler\n",
    "\n",
    "def feature_engineering(data):\n",
    "    data.Winner= data.Winner.apply(lambda x: x.strip())\n",
    "    data.Loser= data.Loser.apply(lambda x: x.strip())\n",
    "    data[\"Player 1\"] =data.apply(lambda datarow: datarow[\"Winner\"] if datarow[\"Winner\"] > datarow[\"Loser\"] else datarow[\"Loser\"],axis=1)\n",
    "    data[\"Player 2\"] =data.apply(lambda datarow: datarow[\"Winner\"] if datarow[\"Winner\"] < datarow[\"Loser\"] else datarow[\"Loser\"],axis=1)\n",
    "    data[\"Result\"] =data.apply(lambda datarow: 1 if datarow[\"Winner\"]==datarow[\"Player 1\"] else 0,axis=1)\n",
    "    return  data\n",
    "    \n",
    "def drop_unwanted_columns(data: pd.DataFrame,missing_tol=0.40, to_remove_columns: list=[]) -> pd.DataFrame:\n",
    "    missing_data_details=((atp_with_percenatges_data.isnull().sum()/ len(atp_with_percenatges_data)).round(2) *100).reset_index()\n",
    "    acceptable_missing_data_percentage= 0.40 # more than 25% of data is missing\n",
    "    missing_data_details.columns=[\"column_name\",\"percentages\"]\n",
    "    missing_data_details.sort_values(by=[\"percentages\"],ascending=False,inplace=True)\n",
    "    columns_to_remove =missing_data_details[missing_data_details.percentages/100 > acceptable_missing_data_percentage][\"column_name\"].values.tolist()\n",
    "    columns_to_remove = columns_to_remove + to_remove_columns\n",
    "    return data.drop(columns_to_remove, axis = 1)\n",
    "\n",
    "\n",
    "def data_split_test_train_validation(data: pd.DataFrame, test_size:int =0.2,rand_state = 42,\n",
    "                                     validation_size:int =0.2) -> pd.DataFrame:\n",
    "    # Split Train / Test\n",
    "    X = data.loc[:, data.columns != \"Result\"]\n",
    "    y = data.loc[:, \"Result\"]\n",
    "    \n",
    "    #First Split L between Train and Test \n",
    "    X_train, X_test, y_train, y_test = train_test_split(X, y,\n",
    "                                                        train_size= 1 - test_size,\n",
    "                                                        random_state = rand_state)\n",
    "   \n",
    "    print('train:', len(X_train), 'test:', len(X_test))\n",
    "    return X_train, X_test,y_train, y_test\n",
    "\n",
    "def get_columns_with_anomalities(data: pd.DataFrame) -> list:\n",
    "    \"\"\"_summary\"\n",
    "    \n",
    "    Args:\n",
    "        data (pd.DataFrame): _description_\n",
    "\n",
    "    Returns:\n",
    "        list: _description_\n",
    "    \"\"\"\n",
    "    columns_names=[]\n",
    "    for col in data.columns:\n",
    "        weird = (data[[col]].applymap(type) != data[[col]].iloc[0].apply(type)).any(axis=1)\n",
    "        if len(data[weird]) > 0:\n",
    "            columns_names.append(col)\n",
    "    return columns_names\n",
    "\n",
    "def highly_correlated_features(corr: pd.DataFrame.corr,threshold=0.9):\n",
    "    upper = corr.where(np.triu(np.ones(corr.shape), k=1).astype(bool))\n",
    "    to_drop = [column for column in upper.columns if any(upper[column] > threshold)]\n",
    "    # Drop features \n",
    "    return to_drop\n",
    "\n",
    "\n",
    "def fill_features_nulls(data: pd.DataFrame) -> pd.DataFrame:\n",
    "    \n",
    "    # Numerical Features\n",
    "    data_numerical= data.select_dtypes([np.int64]).columns\n",
    "    for feature in data_numerical:\n",
    "        data[feature] = data[feature].fillna(int(data[feature].mean()))\n",
    "    \n",
    "    # Numerical Float Features\n",
    "    data_float = data.select_dtypes([np.float64]).columns       \n",
    "    for feature in data_float:\n",
    "        data[feature]=data[feature].fillna(data[feature].mean())\n",
    "\n",
    "    # Categorical Features\n",
    "    data_categorical = data.select_dtypes(include=['object','O']).columns\n",
    "\n",
    "    # Date Features\n",
    "    data_dates = data.select_dtypes(include=['datetime64[ns]']).columns\n",
    "    \n",
    "    for column in data_dates:\n",
    "        data[column] = data[column].replace('', np.nan)\n",
    "        data[column] = data[column].fillna(data[column].mode()[0])\n",
    "        data[column] = pd.to_datetime(data[column],errors='coerce')\n",
    "        data[column].fillna(value=pd.to_datetime('1/1/2015'), inplace=True) \n",
    "        data[column] = data[column].dt.strftime('%Y%m%d')\n",
    "        data[column].dropna(how='all',inplace=True)  \n",
    "    \n",
    "    for feature in data_categorical:\n",
    "        data[feature].interpolate(method ='spline', order=2, inplace=True)\n",
    "        data[feature].interpolate(method ='linear', limit_area='outside',limit_direction ='both')\n",
    "        data[feature]= data[feature].dropna(how='all')\n",
    "        data[feature].dropna(how='all',inplace=True) \n",
    "        data[feature]=data[feature].replace(np.nan,151010) \n",
    "        \n",
    "    anomalies  = get_columns_with_anomalities(data)\n",
    "\n",
    "    for feature in anomalies:\n",
    "        data[feature]=  pd.to_numeric(data[feature], errors='coerce')\n",
    "        data[feature].fillna(data[feature].value_counts()[:1].index.tolist()[0],inplace=True)\n",
    "        data[feature].dropna(how='all',inplace=True)  \n",
    "    return data\n",
    "\n",
    "\n",
    "\n",
    "def encode_categorical_features(encoder,data: pd.DataFrame,is_test:bool =False) -> pd.DataFrame:\n",
    "    data_categorical = data.select_dtypes(include=['object']).columns\n",
    "    if not is_test :\n",
    "        encoder.fit(data[data_categorical])\n",
    "    data[data_categorical]=encoder.transform(data[data_categorical])\n",
    "    return data\n",
    "\n",
    "def scale_data(scalar,data: pd.DataFrame,is_test:bool =False) -> pd.DataFrame:\n",
    "    if not is_test:\n",
    "        scalar.fit(data)\n",
    "    return pd.DataFrame(scalar.transform(data),columns = data.columns)\n",
    "\n",
    "\n",
    "def data_preprocessing(data: pd.DataFrame,encoder,scalar,is_test:bool=False) -> pd.DataFrame:  \n",
    "    \n",
    "    # Carefully Selected Features ( after analysis)\n",
    "    list_of_features = ['Loser winning %', 'L2', 'EXW', 'winner_number_of_winnings', 'L1',\n",
    "                        'B365L','B365W','EXL', 'Winner winning %', 'PSL', 'LPts',\n",
    "                        'Location', 'WPts', 'Tournament','ATP', 'WRank', 'LRank', 'Date',\n",
    "                        'Player 1','Player 2']\n",
    "    # To remove Columns )\n",
    "\n",
    "    data =data[list_of_features]\n",
    "    \n",
    "    data= fill_features_nulls(data)\n",
    "    \n",
    "    data.dropna(how='all',inplace=True)    \n",
    "    \n",
    "    data= encode_categorical_features(encoder,data,is_test)\n",
    "   \n",
    "    data= scale_data(scalar,data,is_test)\n",
    "    \n",
    "    data.fillna(data.mean(),inplace=True)\n",
    "    \n",
    "    return data"
   ]
  },
  {
   "cell_type": "code",
   "execution_count": 23,
   "id": "7bc4911a-3d7a-4571-91f9-bbb4388260ed",
   "metadata": {},
   "outputs": [
    {
     "name": "stdout",
     "output_type": "stream",
     "text": [
      "train: 41838 test: 10460\n"
     ]
    }
   ],
   "source": [
    "\n",
    "# split data into Train, Test, and Validation\n",
    "X_train, X_test,y_train, y_test=data_split_test_train_validation(for_visualtization,test_size=0.2,validation_size=0.2)"
   ]
  },
  {
   "cell_type": "code",
   "execution_count": 24,
   "id": "1e4d87aa-e6a5-4ebd-a387-e7c9df374590",
   "metadata": {},
   "outputs": [],
   "source": [
    "X_train=fill_features_nulls(X_train)"
   ]
  },
  {
   "cell_type": "code",
   "execution_count": 25,
   "id": "b0800a2a-7dfe-445b-ba5c-3082d435ad43",
   "metadata": {},
   "outputs": [
    {
     "data": {
      "image/png": "[encoded data removed]",
      "text/plain": [
       "<Figure size 1440x720 with 1 Axes>"
      ]
     },
     "metadata": {},
     "output_type": "display_data"
    }
   ],
   "source": [
    "corr_with=X_train.corrwith(y_train).sort_values(ascending=False)\n",
    "corr_with= np.absolute(corr_with).sort_values(ascending=False)\n",
    "sns.set(rc = {'figure.figsize':(20,15)})\n",
    "corr_with.plot.bar(figsize=(20,10),align=\"center\",color='coral')\n",
    "\n",
    "\n",
    "# we cam see from graph that those columns are the most important\n",
    "most_relevante_feat= ['Loser winning %', 'L2', 'L1', \n",
    "                      'winner_number_of_winnings', 'EXW',\n",
    "                      'B365L', 'B365W', 'EXL', 'Winner winning %', \n",
    "                      'PSW', 'PSL', 'LPts', 'Location', 'Tournament', \n",
    "                      'ATP', 'WPts', 'Date', 'LRank', 'WRank',\n",
    "                      'Player 1', 'Player 2']\n"
   ]
  },
  {
   "cell_type": "code",
   "execution_count": 26,
   "id": "764b33d2-5214-4e47-88f9-5123b244c767",
   "metadata": {},
   "outputs": [
    {
     "name": "stdout",
     "output_type": "stream",
     "text": [
      "Highly Correlated Features (Features q vs Features 2 )  ['L2', 'PSW']\n"
     ]
    },
    {
     "data": {
      "image/png": "[encoded data removed]",
      "text/plain": [
       "<Figure size 1440x1080 with 2 Axes>"
      ]
     },
     "metadata": {},
     "output_type": "display_data"
    }
   ],
   "source": [
    "X =X_train[most_relevante_feat]\n",
    "y=y_train\n",
    "corr = X.corr()\n",
    "sns.set(rc = {'figure.figsize':(20,15)})\n",
    "sns.heatmap(corr,mask=((np.triu(np.ones_like(corr)))),cmap=\"YlGnBu\",annot=True)\n",
    "highly_corr =highly_correlated_features(X_train.corr())\n",
    "print(\"Highly Correlated Features (Features q vs Features 2 ) \", highly_corr)\n",
    "\n"
   ]
  },
  {
   "cell_type": "code",
   "execution_count": 27,
   "id": "c03e0368-1d18-41e6-a87f-56f81c6e7972",
   "metadata": {},
   "outputs": [
    {
     "data": {
      "text/plain": [
       "<AxesSubplot:>"
      ]
     },
     "execution_count": 27,
     "metadata": {},
     "output_type": "execute_result"
    },
    {
     "data": {
      "image/png": "[encoded data removed]",
      "text/plain": [
       "<Figure size 1440x1080 with 2 Axes>"
      ]
     },
     "metadata": {},
     "output_type": "display_data"
    }
   ],
   "source": [
    "most_relevante_feat_No_corr =[feature for feature in most_relevante_feat if feature not in highly_corr]\n",
    "X =X_train[most_relevante_feat_No_corr]\n",
    "y=y_train\n",
    "corr = X.corr()\n",
    "sns.set(rc = {'figure.figsize':(20,15)})\n",
    "sns.heatmap(corr,mask=((np.triu(np.ones_like(corr)))),cmap=\"YlGnBu\",annot=True)"
   ]
  },
  {
   "cell_type": "code",
   "execution_count": 28,
   "id": "3b8c5442-e80e-4ba5-ae38-9ab92c58dea2",
   "metadata": {},
   "outputs": [],
   "source": [
    "import warnings\n",
    "\n",
    "warnings.simplefilter(\"ignore\")\n",
    "#Create Encoder\n",
    "ordinal = OrdinalEncoder(handle_unknown=\"use_encoded_value\",unknown_value=np.nan)\n",
    "\n",
    "#Create Scalar\n",
    "scalar =StandardScaler()\n",
    "\n",
    "#Preprocessing(cleaning data and using trained encoders,scalars)\n",
    "X_train= data_preprocessing(X_train,encoder=ordinal,scalar=scalar,is_test=False)\n",
    "X_test=data_preprocessing(X_test,encoder=ordinal,scalar=scalar,is_test=True)"
   ]
  },
  {
   "cell_type": "markdown",
   "id": "516d6f1d-bfe1-49d9-b0a0-d560dc495865",
   "metadata": {},
   "source": [
    "### III - Model - Training - Inference - Pipline"
   ]
  },
  {
   "cell_type": "code",
   "execution_count": 29,
   "id": "465d707c-cb3d-4ac6-985c-c2559b10d4a1",
   "metadata": {},
   "outputs": [],
   "source": [
    "X1= pd.concat([X_train, y_train], axis=1, join='inner')\n",
    "X2= pd.concat([X_test, y_test], axis=1, join='inner')\n",
    "tennis_scaled =pd.concat([X1, X2], axis=0)\n",
    "tennis_scaled= spark.createDataFrame(tennis_scaled)"
   ]
  },
  {
   "cell_type": "code",
   "execution_count": 30,
   "id": "0fbee003-f1ff-4b58-8db6-c7cbf763c381",
   "metadata": {},
   "outputs": [],
   "source": [
    "features = most_relevante_feat_No_corr\n",
    "label ='Result'\n",
    "train_data,test_data = tennis_scaled.randomSplit([0.7,0.3])"
   ]
  },
  {
   "cell_type": "code",
   "execution_count": 31,
   "id": "e2bd58eb-a9ed-4da1-ad85-d382067092f0",
   "metadata": {},
   "outputs": [
    {
     "data": {
      "text/plain": [
       "['Loser winning %',\n",
       " 'L1',\n",
       " 'winner_number_of_winnings',\n",
       " 'EXW',\n",
       " 'B365L',\n",
       " 'B365W',\n",
       " 'EXL',\n",
       " 'Winner winning %',\n",
       " 'PSL',\n",
       " 'LPts',\n",
       " 'Location',\n",
       " 'Tournament',\n",
       " 'ATP',\n",
       " 'WPts',\n",
       " 'Date',\n",
       " 'LRank',\n",
       " 'WRank',\n",
       " 'Player 1',\n",
       " 'Player 2']"
      ]
     },
     "execution_count": 31,
     "metadata": {},
     "output_type": "execute_result"
    }
   ],
   "source": [
    "most_relevante_feat_No_corr"
   ]
  },
  {
   "cell_type": "code",
   "execution_count": 32,
   "id": "05b77e9c-adcc-4b59-800c-279ad17fe684",
   "metadata": {},
   "outputs": [
    {
     "name": "stdout",
     "output_type": "stream",
     "text": [
      "+------------------+--------------------+-------------------+-------------------------+------------------+------------------+-------------------+------------------+-------------------+--------------------+-------------------+------------------+--------------------+-------------------+------------------+--------------------+--------------------+-------------------+-------------------+--------------------+------+\n",
      "|   Loser winning %|                  L2|                EXW|winner_number_of_winnings|                L1|             B365L|              B365W|               EXL|   Winner winning %|                 PSL|               LPts|          Location|                WPts|         Tournament|               ATP|               WRank|               LRank|               Date|           Player 1|            Player 2|Result|\n",
      "+------------------+--------------------+-------------------+-------------------------+------------------+------------------+-------------------+------------------+-------------------+--------------------+-------------------+------------------+--------------------+-------------------+------------------+--------------------+--------------------+-------------------+-------------------+--------------------+------+\n",
      "|-1.318768578252234|-0.12154844319593469| -0.571565961288325|      -0.4362815288255208|-2.201119041942028| 2.296466396529919|-0.7967733291841389| 2.821447071258232| 1.3459026641204774|9.38121820532735E-16|-0.2996656072992897|-1.567660007393181|   3.187654311694332|-0.8604871925819931|1.5887051669759962|-0.03857196772484...|-0.04366199238990...|0.08682453696407456|-1.1630942261152368| -0.4363397770563271|     0|\n",
      "|-1.318768578252234|-0.12154844319593469|-0.5715655001538775|      -0.4362815288255208|-1.658307519925733|1.6796974645039537|-0.7566098339934979|1.2900720809690727|-0.6292094719214641|   1.090079317498239|-0.7484253943910407| 1.168765161334542|0.024929466740015168| 0.9475465960787868|1.2571544053704156|-0.03314074795354117|-0.02072888411249...|  1.428698028199696| 1.4087906031920931|-0.04613821788695506|     1|\n",
      "+------------------+--------------------+-------------------+-------------------------+------------------+------------------+-------------------+------------------+-------------------+--------------------+-------------------+------------------+--------------------+-------------------+------------------+--------------------+--------------------+-------------------+-------------------+--------------------+------+\n",
      "only showing top 2 rows\n",
      "\n"
     ]
    }
   ],
   "source": [
    "train_data.show(2)"
   ]
  },
  {
   "cell_type": "markdown",
   "id": "dc2e7684-c4dd-44a0-b4c9-7227dbe9fd7e",
   "metadata": {},
   "source": [
    "- selecting features with the best corr with the target"
   ]
  },
  {
   "cell_type": "code",
   "execution_count": 33,
   "id": "b283013b-2bae-4cd3-b901-118b91b6dc21",
   "metadata": {},
   "outputs": [
    {
     "name": "stdout",
     "output_type": "stream",
     "text": [
      "+------------------+--------------------+------------------+-------------------------+------------------+-----------------+-------------------+-----------------+------------------+--------------------+-------------------+------------------+-----------------+-------------------+------------------+--------------------+--------------------+-------------------+-------------------+-------------------+------+--------------------+--------------------+\n",
      "|   Loser winning %|                  L2|               EXW|winner_number_of_winnings|                L1|            B365L|              B365W|              EXL|  Winner winning %|                 PSL|               LPts|          Location|             WPts|         Tournament|               ATP|               WRank|               LRank|               Date|           Player 1|           Player 2|Result|            features|      scaledFeatures|\n",
      "+------------------+--------------------+------------------+-------------------------+------------------+-----------------+-------------------+-----------------+------------------+--------------------+-------------------+------------------+-----------------+-------------------+------------------+--------------------+--------------------+-------------------+-------------------+-------------------+------+--------------------+--------------------+\n",
      "|-1.318768578252234|-0.12154844319593469|-0.571565961288325|      -0.4362815288255208|-2.201119041942028|2.296466396529919|-0.7967733291841389|2.821447071258232|1.3459026641204774|9.38121820532735E-16|-0.2996656072992897|-1.567660007393181|3.187654311694332|-0.8604871925819931|1.5887051669759962|-0.03857196772484...|-0.04366199238990...|0.08682453696407456|-1.1630942261152368|-0.4363397770563271|     0|[-1.3187685782522...|[-1.3146782930629...|\n",
      "+------------------+--------------------+------------------+-------------------------+------------------+-----------------+-------------------+-----------------+------------------+--------------------+-------------------+------------------+-----------------+-------------------+------------------+--------------------+--------------------+-------------------+-------------------+-------------------+------+--------------------+--------------------+\n",
      "only showing top 1 row\n",
      "\n"
     ]
    }
   ],
   "source": [
    "from pyspark.ml.feature import StandardScaler,VectorAssembler\n",
    "\n",
    "# Train scalar and fit training_data\n",
    "sdf= train_data\n",
    "scaler = StandardScaler(inputCol=\"features\", outputCol=\"scaledFeatures\")\n",
    "assembler = VectorAssembler().setInputCols(features).setOutputCol(\"features\")\n",
    "sdf_transformed = assembler.transform(sdf)\n",
    "scaler_model = scaler.fit(sdf_transformed.select(\"features\"))\n",
    "train_scaled = scaler_model.transform(sdf_transformed)\n",
    "train_scaled.show(1)"
   ]
  },
  {
   "cell_type": "code",
   "execution_count": 34,
   "id": "c2eb0bb9-4312-4491-af39-8e307597240b",
   "metadata": {},
   "outputs": [
    {
     "name": "stdout",
     "output_type": "stream",
     "text": [
      "+------------------+--------------------+-------------------+-------------------------+------------------+-----------------+-------------------+------------------+------------------+------------------+-------------------+-------------------+-----------------+-----------------+--------------------+--------------------+--------------------+-------------------+--------------------+-------------------+------+--------------------+--------------------+\n",
      "|   Loser winning %|                  L2|                EXW|winner_number_of_winnings|                L1|            B365L|              B365W|               EXL|  Winner winning %|               PSL|               LPts|           Location|             WPts|       Tournament|                 ATP|               WRank|               LRank|               Date|            Player 1|           Player 2|Result|            features|      scaledFeatures|\n",
      "+------------------+--------------------+-------------------+-------------------------+------------------+-----------------+-------------------+------------------+------------------+------------------+-------------------+-------------------+-----------------+-----------------+--------------------+--------------------+--------------------+-------------------+--------------------+-------------------+------+--------------------+--------------------+\n",
      "|-1.318768578252234|-0.12154844319593469|-0.5715662687112901|     -0.17956917847705503|-1.658307519925733|4.146773192607814|-0.8218755136782896|3.8816297568430342|1.3459026641204774|3.7623444314706824|-0.5548232738536703|-1.6006289853296596|2.011499564860239|0.411265387577708|-0.45585786292508435|-0.03893404904293349|-0.03911038311347374|-0.2223597159134114|-0.13076823212937802|0.12525872866407753|     1|[-1.3187685782522...|[-1.3146782930629...|\n",
      "+------------------+--------------------+-------------------+-------------------------+------------------+-----------------+-------------------+------------------+------------------+------------------+-------------------+-------------------+-----------------+-----------------+--------------------+--------------------+--------------------+-------------------+--------------------+-------------------+------+--------------------+--------------------+\n",
      "only showing top 1 row\n",
      "\n"
     ]
    }
   ],
   "source": [
    "# use the Fittted Scalar to Scale Test data\n",
    "sdf= test_data\n",
    "scaler = StandardScaler(inputCol=\"features\", outputCol=\"scaledFeatures\")\n",
    "assembler = VectorAssembler().setInputCols(features).setOutputCol(\"features\")\n",
    "sdf_transformed = assembler.transform(sdf)\n",
    "test_scaled = scaler_model.transform(sdf_transformed)\n",
    "test_scaled.show(1)"
   ]
  },
  {
   "cell_type": "code",
   "execution_count": 35,
   "id": "c8360245-7c98-4293-ba4a-bc62a7eb4f58",
   "metadata": {},
   "outputs": [
    {
     "data": {
      "text/plain": [
       "0        [-1.318768578252234, -2.201119041942028, -0.43...\n",
       "1        [-1.318768578252234, -1.658307519925733, -0.43...\n",
       "2        [-1.318768578252234, 1.5985616121720356, -0.43...\n",
       "3        [-1.318768578252234, 1.0557500901557408, -0.30...\n",
       "4        [-1.318768578252234, -0.5726844758931435, -0.3...\n",
       "                               ...                        \n",
       "24847    [2.4111868910464325, -1.1154959979094383, 0.84...\n",
       "24848    [2.4111868910464325, -1.658307519925733, -0.56...\n",
       "24849    [2.4111868910464325, -0.5726844758931435, -0.5...\n",
       "24850    [2.4111868910464325, -1.658307519925733, -0.56...\n",
       "24851    [2.4111868910464325, -1.1154959979094383, -0.0...\n",
       "Name: features, Length: 24852, dtype: object"
      ]
     },
     "execution_count": 35,
     "metadata": {},
     "output_type": "execute_result"
    }
   ],
   "source": [
    "train_scaled.toPandas().iloc[:,-2]"
   ]
  },
  {
   "cell_type": "markdown",
   "id": "cf9f860f-fd07-4d5b-9fd2-3fef8ad3161e",
   "metadata": {},
   "source": [
    "## Model : Decision Tree Classifier"
   ]
  },
  {
   "cell_type": "code",
   "execution_count": 36,
   "id": "6327498b-28d1-41dd-a00f-b5bbb0abe0e4",
   "metadata": {},
   "outputs": [
    {
     "name": "stdout",
     "output_type": "stream",
     "text": [
      "+----------+------------+--------------------+\n",
      "|prediction|indexedLabel|            features|\n",
      "+----------+------------+--------------------+\n",
      "|       1.0|         1.0|[-1.3187685782522...|\n",
      "|       1.0|         0.0|[-1.3187685782522...|\n",
      "|       0.0|         1.0|[-1.3187685782522...|\n",
      "|       1.0|         0.0|[-1.3187685782522...|\n",
      "|       1.0|         0.0|[-1.3187685782522...|\n",
      "|       1.0|         0.0|[-1.3187685782522...|\n",
      "+----------+------------+--------------------+\n",
      "only showing top 6 rows\n",
      "\n",
      "Test Error = 0.506331\n",
      "DecisionTreeClassificationModel: uid=DecisionTreeClassifier_b085dea02b8c, depth=16, numNodes=5601, numClasses=2, numFeatures=19\n"
     ]
    }
   ],
   "source": [
    "from pyspark.ml import Pipeline\n",
    "from pyspark.ml.classification import DecisionTreeClassifier\n",
    "from pyspark.ml.feature import StringIndexer, VectorIndexer\n",
    "from pyspark.ml.evaluation import MulticlassClassificationEvaluator\n",
    "from pyspark.mllib.util import MLUtils\n",
    "\n",
    "labelIndexer = StringIndexer(inputCol=\"Result\", outputCol=\"indexedLabel\").fit(train_scaled)\n",
    "\n",
    "featureIndexer =\\\n",
    "    VectorIndexer(inputCol=\"scaledFeatures\", outputCol=\"indexedFeatures\", maxCategories=10).fit(train_scaled)\n",
    "\n",
    "# Train a DecisionTree model.\n",
    "dt = DecisionTreeClassifier(labelCol=\"indexedLabel\", featuresCol=\"indexedFeatures\",maxDepth=16, maxBins=20)\n",
    "\n",
    "# Chain indexers and tree in a Pipeline\n",
    "pipeline = Pipeline(stages=[labelIndexer, featureIndexer, dt])\n",
    "\n",
    "# Train model.  This also runs the indexers.\n",
    "model = pipeline.fit(train_scaled)\n",
    "\n",
    "# Make predictions.\n",
    "predictions = model.transform(test_scaled)\n",
    "\n",
    "# Select example rows to display.\n",
    "predictions.select(\"prediction\", \"indexedLabel\", \"features\").show(6)\n",
    "\n",
    "# Select (prediction, true label) and compute test error\n",
    "evaluator = MulticlassClassificationEvaluator(\n",
    "    labelCol=\"indexedLabel\", predictionCol=\"prediction\", metricName=\"accuracy\")\n",
    "accuracy = evaluator.evaluate(predictions)\n",
    "print (\"Test Error = %g\" % (1.0 - accuracy))\n",
    "\n",
    "treeModel = model.stages[2]\n",
    "print(treeModel) # summary only\n"
   ]
  },
  {
   "cell_type": "markdown",
   "id": "bbd6fa1a-3349-42b9-b396-a8740714ca36",
   "metadata": {
    "tags": []
   },
   "source": [
    "## Model : Random forest Classifier"
   ]
  },
  {
   "cell_type": "code",
   "execution_count": 37,
   "id": "aa240c44-d996-4ccd-b087-3f7210f1f717",
   "metadata": {},
   "outputs": [
    {
     "name": "stdout",
     "output_type": "stream",
     "text": [
      "+--------------+------------+--------------------+\n",
      "|predictedLabel|indexedLabel|     indexedFeatures|\n",
      "+--------------+------------+--------------------+\n",
      "|             0|         1.0|[-1.3187685782522...|\n",
      "|             0|         0.0|[-1.3187685782522...|\n",
      "|             1|         1.0|[-1.3187685782522...|\n",
      "|             0|         0.0|[-1.3187685782522...|\n",
      "|             0|         0.0|[-1.3187685782522...|\n",
      "|             0|         0.0|[-1.3187685782522...|\n",
      "+--------------+------------+--------------------+\n",
      "only showing top 6 rows\n",
      "\n",
      "Test Error = 0.494227\n",
      "RandomForestClassificationModel: uid=RandomForestClassifier_90c3c4778797, numTrees=30, numClasses=2, numFeatures=19\n"
     ]
    }
   ],
   "source": [
    "from pyspark.ml import Pipeline\n",
    "from pyspark.ml.classification import RandomForestClassifier\n",
    "from pyspark.ml.feature import IndexToString, StringIndexer, VectorIndexer\n",
    "from pyspark.ml.evaluation import MulticlassClassificationEvaluator\n",
    "\n",
    "\n",
    "# Index labels, adding metadata to the label column.\n",
    "# Fit on whole dataset to include all labels in index.\n",
    "labelIndexer = StringIndexer(inputCol=\"Result\", outputCol=\"indexedLabel\").fit(train_scaled)\n",
    "\n",
    "# Automatically identify categorical features, and index them.\n",
    "# Set maxCategories so features with > 4 distinct values are treated as continuous.\n",
    "featureIndexer =\\\n",
    "    VectorIndexer(inputCol=\"features\", outputCol=\"indexedFeatures\", maxCategories=4).fit(train_scaled)\n",
    "\n",
    "# Train a RandomForest model.\n",
    "rf = RandomForestClassifier(labelCol=\"indexedLabel\", featuresCol=\"indexedFeatures\", numTrees=30)\n",
    "\n",
    "# Convert indexed labels back to original labels.\n",
    "labelConverter = IndexToString(inputCol=\"prediction\", outputCol=\"predictedLabel\",\n",
    "                               labels=labelIndexer.labels)\n",
    "\n",
    "# Chain indexers and forest in a Pipeline\n",
    "pipeline = Pipeline(stages=[labelIndexer, featureIndexer, rf, labelConverter])\n",
    "\n",
    "# Train model.  This also runs the indexers.\n",
    "model = pipeline.fit(train_scaled)\n",
    "\n",
    "# Make predictions.\n",
    "predictions = model.transform(test_scaled)\n",
    "\n",
    "# Select example rows to display.\n",
    "predictions.select(\"predictedLabel\", \"indexedLabel\", \"indexedFeatures\").show(6)\n",
    "\n",
    "# Select (prediction, true label) and compute test error\n",
    "evaluator = MulticlassClassificationEvaluator(\n",
    "    labelCol=\"indexedLabel\", predictionCol=\"prediction\", metricName=\"accuracy\")\n",
    "accuracy = evaluator.evaluate(predictions)\n",
    "print(\"Test Error = %g\" % (1.0 - accuracy))\n",
    "\n",
    "rfModel = model.stages[2]\n",
    "print(rfModel)  # summary only"
   ]
  },
  {
   "cell_type": "markdown",
   "id": "d6eb0ea0-a2b6-4fa9-af54-a5028349cc20",
   "metadata": {},
   "source": [
    "## Possible  Improvements\n",
    "\n",
    "- Hyper-parameters tuning \n",
    "\n",
    "- Merging the Weather Dataset that matches our dataset would make it more intresting ( we can check players performance unde the Sun !)\n",
    "\n",
    "- Merging the Injuries and Hospitilisation Dataset that matches our dataset would make it more intresting ( we can check players performance unde the Sun !)\n",
    "\n",
    "- Dealing differently with Data Anamolies, we cam make more in-depth cleaning of the data and more accurate feature engineering."
   ]
  }
 ],
 "metadata": {
  "kernelspec": {
   "display_name": "Python 3 (ipykernel)",
   "language": "python",
   "name": "python3"
  },
  "language_info": {
   "codemirror_mode": {
    "name": "ipython",
    "version": 3
   },
   "file_extension": ".py",
   "mimetype": "text/x-python",
   "name": "python",
   "nbconvert_exporter": "python",
   "pygments_lexer": "ipython3",
   "version": "3.9.10"
  }
 },
 "nbformat": 4,
 "nbformat_minor": 5
}
