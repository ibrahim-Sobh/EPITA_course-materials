{
 "cells": [
  {
   "cell_type": "markdown",
   "metadata": {},
   "source": [
    "# Practice 7 - kNN, Decision Tree, SVM (correction)"
   ]
  },
  {
   "cell_type": "markdown",
   "metadata": {},
   "source": [
    "We will work here on a data set taken from Scikit-Learn about the characteristics of malignant and benign breast tumors to prevent the risk of cancer."
   ]
  },
  {
   "cell_type": "markdown",
   "metadata": {},
   "source": [
    "## Preparation of the data set"
   ]
  },
  {
   "cell_type": "code",
   "execution_count": 1,
   "metadata": {
    "ExecuteTime": {
     "end_time": "2022-05-03T21:44:09.872632Z",
     "start_time": "2022-05-03T21:44:08.588430Z"
    }
   },
   "outputs": [],
   "source": [
    "import numpy as np\n",
    "import matplotlib.pyplot as plt\n",
    "import pandas as pd\n",
    "import sklearn \n",
    "import warnings\n",
    "warnings.filterwarnings('ignore')"
   ]
  },
  {
   "cell_type": "markdown",
   "metadata": {},
   "source": [
    "**Loading the data set from Scikit-Learn**"
   ]
  },
  {
   "cell_type": "code",
   "execution_count": 2,
   "metadata": {
    "ExecuteTime": {
     "end_time": "2022-05-03T21:44:09.930296Z",
     "start_time": "2022-05-03T21:44:09.874259Z"
    }
   },
   "outputs": [],
   "source": [
    "from sklearn.datasets import load_breast_cancer\n",
    "data_all = load_breast_cancer()"
   ]
  },
  {
   "cell_type": "markdown",
   "metadata": {},
   "source": [
    "**Checking the keys of the dictionary loaded**"
   ]
  },
  {
   "cell_type": "code",
   "execution_count": 3,
   "metadata": {
    "ExecuteTime": {
     "end_time": "2022-05-03T21:44:09.937731Z",
     "start_time": "2022-05-03T21:44:09.932673Z"
    }
   },
   "outputs": [
    {
     "data": {
      "text/plain": [
       "dict_keys(['data', 'target', 'frame', 'target_names', 'DESCR', 'feature_names', 'filename', 'data_module'])"
      ]
     },
     "execution_count": 3,
     "metadata": {},
     "output_type": "execute_result"
    }
   ],
   "source": [
    "data_all.keys()"
   ]
  },
  {
   "cell_type": "markdown",
   "metadata": {},
   "source": [
    "**Getting a description of the data set**"
   ]
  },
  {
   "cell_type": "code",
   "execution_count": 4,
   "metadata": {
    "ExecuteTime": {
     "end_time": "2022-05-03T21:44:11.606421Z",
     "start_time": "2022-05-03T21:44:11.603893Z"
    }
   },
   "outputs": [
    {
     "name": "stdout",
     "output_type": "stream",
     "text": [
      ".. _breast_cancer_dataset:\n",
      "\n",
      "Breast cancer wisconsin (diagnostic) dataset\n",
      "--------------------------------------------\n",
      "\n",
      "**Data Set Characteristics:**\n",
      "\n",
      "    :Number of Instances: 569\n",
      "\n",
      "    :Number of Attributes: 30 numeric, predictive attributes and the class\n",
      "\n",
      "    :Attribute Information:\n",
      "        - radius (mean of distances from center to points on the perimeter)\n",
      "        - texture (standard deviation of gray-scale values)\n",
      "        - perimeter\n",
      "        - area\n",
      "        - smoothness (local variation in radius lengths)\n",
      "        - compactness (perimeter^2 / area - 1.0)\n",
      "        - concavity (severity of concave portions of the contour)\n",
      "        - concave points (number of concave portions of the contour)\n",
      "        - symmetry\n",
      "        - fractal dimension (\"coastline approximation\" - 1)\n",
      "\n",
      "        The mean, standard error, and \"worst\" or largest (mean of the three\n",
      "        worst/largest values) of these features were computed for each image,\n",
      "        resulting in 30 features.  For instance, field 0 is Mean Radius, field\n",
      "        10 is Radius SE, field 20 is Worst Radius.\n",
      "\n",
      "        - class:\n",
      "                - WDBC-Malignant\n",
      "                - WDBC-Benign\n",
      "\n",
      "    :Summary Statistics:\n",
      "\n",
      "    ===================================== ====== ======\n",
      "                                           Min    Max\n",
      "    ===================================== ====== ======\n",
      "    radius (mean):                        6.981  28.11\n",
      "    texture (mean):                       9.71   39.28\n",
      "    perimeter (mean):                     43.79  188.5\n",
      "    area (mean):                          143.5  2501.0\n",
      "    smoothness (mean):                    0.053  0.163\n",
      "    compactness (mean):                   0.019  0.345\n",
      "    concavity (mean):                     0.0    0.427\n",
      "    concave points (mean):                0.0    0.201\n",
      "    symmetry (mean):                      0.106  0.304\n",
      "    fractal dimension (mean):             0.05   0.097\n",
      "    radius (standard error):              0.112  2.873\n",
      "    texture (standard error):             0.36   4.885\n",
      "    perimeter (standard error):           0.757  21.98\n",
      "    area (standard error):                6.802  542.2\n",
      "    smoothness (standard error):          0.002  0.031\n",
      "    compactness (standard error):         0.002  0.135\n",
      "    concavity (standard error):           0.0    0.396\n",
      "    concave points (standard error):      0.0    0.053\n",
      "    symmetry (standard error):            0.008  0.079\n",
      "    fractal dimension (standard error):   0.001  0.03\n",
      "    radius (worst):                       7.93   36.04\n",
      "    texture (worst):                      12.02  49.54\n",
      "    perimeter (worst):                    50.41  251.2\n",
      "    area (worst):                         185.2  4254.0\n",
      "    smoothness (worst):                   0.071  0.223\n",
      "    compactness (worst):                  0.027  1.058\n",
      "    concavity (worst):                    0.0    1.252\n",
      "    concave points (worst):               0.0    0.291\n",
      "    symmetry (worst):                     0.156  0.664\n",
      "    fractal dimension (worst):            0.055  0.208\n",
      "    ===================================== ====== ======\n",
      "\n",
      "    :Missing Attribute Values: None\n",
      "\n",
      "    :Class Distribution: 212 - Malignant, 357 - Benign\n",
      "\n",
      "    :Creator:  Dr. William H. Wolberg, W. Nick Street, Olvi L. Mangasarian\n",
      "\n",
      "    :Donor: Nick Street\n",
      "\n",
      "    :Date: November, 1995\n",
      "\n",
      "This is a copy of UCI ML Breast Cancer Wisconsin (Diagnostic) datasets.\n",
      "https://goo.gl/U2Uwz2\n",
      "\n",
      "Features are computed from a digitized image of a fine needle\n",
      "aspirate (FNA) of a breast mass.  They describe\n",
      "characteristics of the cell nuclei present in the image.\n",
      "\n",
      "Separating plane described above was obtained using\n",
      "Multisurface Method-Tree (MSM-T) [K. P. Bennett, \"Decision Tree\n",
      "Construction Via Linear Programming.\" Proceedings of the 4th\n",
      "Midwest Artificial Intelligence and Cognitive Science Society,\n",
      "pp. 97-101, 1992], a classification method which uses linear\n",
      "programming to construct a decision tree.  Relevant features\n",
      "were selected using an exhaustive search in the space of 1-4\n",
      "features and 1-3 separating planes.\n",
      "\n",
      "The actual linear program used to obtain the separating plane\n",
      "in the 3-dimensional space is that described in:\n",
      "[K. P. Bennett and O. L. Mangasarian: \"Robust Linear\n",
      "Programming Discrimination of Two Linearly Inseparable Sets\",\n",
      "Optimization Methods and Software 1, 1992, 23-34].\n",
      "\n",
      "This database is also available through the UW CS ftp server:\n",
      "\n",
      "ftp ftp.cs.wisc.edu\n",
      "cd math-prog/cpo-dataset/machine-learn/WDBC/\n",
      "\n",
      ".. topic:: References\n",
      "\n",
      "   - W.N. Street, W.H. Wolberg and O.L. Mangasarian. Nuclear feature extraction \n",
      "     for breast tumor diagnosis. IS&T/SPIE 1993 International Symposium on \n",
      "     Electronic Imaging: Science and Technology, volume 1905, pages 861-870,\n",
      "     San Jose, CA, 1993.\n",
      "   - O.L. Mangasarian, W.N. Street and W.H. Wolberg. Breast cancer diagnosis and \n",
      "     prognosis via linear programming. Operations Research, 43(4), pages 570-577, \n",
      "     July-August 1995.\n",
      "   - W.H. Wolberg, W.N. Street, and O.L. Mangasarian. Machine learning techniques\n",
      "     to diagnose breast cancer from fine-needle aspirates. Cancer Letters 77 (1994) \n",
      "     163-171.\n"
     ]
    }
   ],
   "source": [
    "print(data_all.DESCR)"
   ]
  },
  {
   "cell_type": "markdown",
   "metadata": {},
   "source": [
    "**Preparing the data frame of all features**"
   ]
  },
  {
   "cell_type": "code",
   "execution_count": 5,
   "metadata": {
    "ExecuteTime": {
     "end_time": "2022-05-03T21:44:11.913131Z",
     "start_time": "2022-05-03T21:44:11.909711Z"
    }
   },
   "outputs": [
    {
     "data": {
      "text/plain": [
       "array(['mean radius', 'mean texture', 'mean perimeter', 'mean area',\n",
       "       'mean smoothness', 'mean compactness', 'mean concavity',\n",
       "       'mean concave points', 'mean symmetry', 'mean fractal dimension',\n",
       "       'radius error', 'texture error', 'perimeter error', 'area error',\n",
       "       'smoothness error', 'compactness error', 'concavity error',\n",
       "       'concave points error', 'symmetry error',\n",
       "       'fractal dimension error', 'worst radius', 'worst texture',\n",
       "       'worst perimeter', 'worst area', 'worst smoothness',\n",
       "       'worst compactness', 'worst concavity', 'worst concave points',\n",
       "       'worst symmetry', 'worst fractal dimension'], dtype='<U23')"
      ]
     },
     "execution_count": 5,
     "metadata": {},
     "output_type": "execute_result"
    }
   ],
   "source": [
    "data_all.feature_names"
   ]
  },
  {
   "cell_type": "code",
   "execution_count": 6,
   "metadata": {
    "ExecuteTime": {
     "end_time": "2022-05-03T21:44:12.082276Z",
     "start_time": "2022-05-03T21:44:12.053022Z"
    }
   },
   "outputs": [
    {
     "data": {
      "text/html": [
       "<div>\n",
       "<style scoped>\n",
       "    .dataframe tbody tr th:only-of-type {\n",
       "        vertical-align: middle;\n",
       "    }\n",
       "\n",
       "    .dataframe tbody tr th {\n",
       "        vertical-align: top;\n",
       "    }\n",
       "\n",
       "    .dataframe thead th {\n",
       "        text-align: right;\n",
       "    }\n",
       "</style>\n",
       "<table border=\"1\" class=\"dataframe\">\n",
       "  <thead>\n",
       "    <tr style=\"text-align: right;\">\n",
       "      <th></th>\n",
       "      <th>mean radius</th>\n",
       "      <th>mean texture</th>\n",
       "      <th>mean perimeter</th>\n",
       "      <th>mean area</th>\n",
       "      <th>mean smoothness</th>\n",
       "      <th>mean compactness</th>\n",
       "      <th>mean concavity</th>\n",
       "      <th>mean concave points</th>\n",
       "      <th>mean symmetry</th>\n",
       "      <th>mean fractal dimension</th>\n",
       "      <th>...</th>\n",
       "      <th>worst radius</th>\n",
       "      <th>worst texture</th>\n",
       "      <th>worst perimeter</th>\n",
       "      <th>worst area</th>\n",
       "      <th>worst smoothness</th>\n",
       "      <th>worst compactness</th>\n",
       "      <th>worst concavity</th>\n",
       "      <th>worst concave points</th>\n",
       "      <th>worst symmetry</th>\n",
       "      <th>worst fractal dimension</th>\n",
       "    </tr>\n",
       "  </thead>\n",
       "  <tbody>\n",
       "    <tr>\n",
       "      <th>421</th>\n",
       "      <td>14.69</td>\n",
       "      <td>13.98</td>\n",
       "      <td>98.22</td>\n",
       "      <td>656.1</td>\n",
       "      <td>0.10310</td>\n",
       "      <td>0.18360</td>\n",
       "      <td>0.14500</td>\n",
       "      <td>0.06300</td>\n",
       "      <td>0.2086</td>\n",
       "      <td>0.07406</td>\n",
       "      <td>...</td>\n",
       "      <td>16.46</td>\n",
       "      <td>18.34</td>\n",
       "      <td>114.10</td>\n",
       "      <td>809.2</td>\n",
       "      <td>0.13120</td>\n",
       "      <td>0.36350</td>\n",
       "      <td>0.3219</td>\n",
       "      <td>0.11080</td>\n",
       "      <td>0.2827</td>\n",
       "      <td>0.09208</td>\n",
       "    </tr>\n",
       "    <tr>\n",
       "      <th>47</th>\n",
       "      <td>13.17</td>\n",
       "      <td>18.66</td>\n",
       "      <td>85.98</td>\n",
       "      <td>534.6</td>\n",
       "      <td>0.11580</td>\n",
       "      <td>0.12310</td>\n",
       "      <td>0.12260</td>\n",
       "      <td>0.07340</td>\n",
       "      <td>0.2128</td>\n",
       "      <td>0.06777</td>\n",
       "      <td>...</td>\n",
       "      <td>15.67</td>\n",
       "      <td>27.95</td>\n",
       "      <td>102.80</td>\n",
       "      <td>759.4</td>\n",
       "      <td>0.17860</td>\n",
       "      <td>0.41660</td>\n",
       "      <td>0.5006</td>\n",
       "      <td>0.20880</td>\n",
       "      <td>0.3900</td>\n",
       "      <td>0.11790</td>\n",
       "    </tr>\n",
       "    <tr>\n",
       "      <th>292</th>\n",
       "      <td>12.95</td>\n",
       "      <td>16.02</td>\n",
       "      <td>83.14</td>\n",
       "      <td>513.7</td>\n",
       "      <td>0.10050</td>\n",
       "      <td>0.07943</td>\n",
       "      <td>0.06155</td>\n",
       "      <td>0.03370</td>\n",
       "      <td>0.1730</td>\n",
       "      <td>0.06470</td>\n",
       "      <td>...</td>\n",
       "      <td>13.74</td>\n",
       "      <td>19.93</td>\n",
       "      <td>88.81</td>\n",
       "      <td>585.4</td>\n",
       "      <td>0.14830</td>\n",
       "      <td>0.20680</td>\n",
       "      <td>0.2241</td>\n",
       "      <td>0.10560</td>\n",
       "      <td>0.3380</td>\n",
       "      <td>0.09584</td>\n",
       "    </tr>\n",
       "    <tr>\n",
       "      <th>186</th>\n",
       "      <td>18.31</td>\n",
       "      <td>18.58</td>\n",
       "      <td>118.60</td>\n",
       "      <td>1041.0</td>\n",
       "      <td>0.08588</td>\n",
       "      <td>0.08468</td>\n",
       "      <td>0.08169</td>\n",
       "      <td>0.05814</td>\n",
       "      <td>0.1621</td>\n",
       "      <td>0.05425</td>\n",
       "      <td>...</td>\n",
       "      <td>21.31</td>\n",
       "      <td>26.36</td>\n",
       "      <td>139.20</td>\n",
       "      <td>1410.0</td>\n",
       "      <td>0.12340</td>\n",
       "      <td>0.24450</td>\n",
       "      <td>0.3538</td>\n",
       "      <td>0.15710</td>\n",
       "      <td>0.3206</td>\n",
       "      <td>0.06938</td>\n",
       "    </tr>\n",
       "    <tr>\n",
       "      <th>414</th>\n",
       "      <td>15.13</td>\n",
       "      <td>29.81</td>\n",
       "      <td>96.71</td>\n",
       "      <td>719.5</td>\n",
       "      <td>0.08320</td>\n",
       "      <td>0.04605</td>\n",
       "      <td>0.04686</td>\n",
       "      <td>0.02739</td>\n",
       "      <td>0.1852</td>\n",
       "      <td>0.05294</td>\n",
       "      <td>...</td>\n",
       "      <td>17.26</td>\n",
       "      <td>36.91</td>\n",
       "      <td>110.10</td>\n",
       "      <td>931.4</td>\n",
       "      <td>0.11480</td>\n",
       "      <td>0.09866</td>\n",
       "      <td>0.1547</td>\n",
       "      <td>0.06575</td>\n",
       "      <td>0.3233</td>\n",
       "      <td>0.06165</td>\n",
       "    </tr>\n",
       "    <tr>\n",
       "      <th>132</th>\n",
       "      <td>16.16</td>\n",
       "      <td>21.54</td>\n",
       "      <td>106.20</td>\n",
       "      <td>809.8</td>\n",
       "      <td>0.10080</td>\n",
       "      <td>0.12840</td>\n",
       "      <td>0.10430</td>\n",
       "      <td>0.05613</td>\n",
       "      <td>0.2160</td>\n",
       "      <td>0.05891</td>\n",
       "      <td>...</td>\n",
       "      <td>19.47</td>\n",
       "      <td>31.68</td>\n",
       "      <td>129.70</td>\n",
       "      <td>1175.0</td>\n",
       "      <td>0.13950</td>\n",
       "      <td>0.30550</td>\n",
       "      <td>0.2992</td>\n",
       "      <td>0.13120</td>\n",
       "      <td>0.3480</td>\n",
       "      <td>0.07619</td>\n",
       "    </tr>\n",
       "    <tr>\n",
       "      <th>161</th>\n",
       "      <td>19.19</td>\n",
       "      <td>15.94</td>\n",
       "      <td>126.30</td>\n",
       "      <td>1157.0</td>\n",
       "      <td>0.08694</td>\n",
       "      <td>0.11850</td>\n",
       "      <td>0.11930</td>\n",
       "      <td>0.09667</td>\n",
       "      <td>0.1741</td>\n",
       "      <td>0.05176</td>\n",
       "      <td>...</td>\n",
       "      <td>22.03</td>\n",
       "      <td>17.81</td>\n",
       "      <td>146.60</td>\n",
       "      <td>1495.0</td>\n",
       "      <td>0.11240</td>\n",
       "      <td>0.20160</td>\n",
       "      <td>0.2264</td>\n",
       "      <td>0.17770</td>\n",
       "      <td>0.2443</td>\n",
       "      <td>0.06251</td>\n",
       "    </tr>\n",
       "    <tr>\n",
       "      <th>197</th>\n",
       "      <td>18.08</td>\n",
       "      <td>21.84</td>\n",
       "      <td>117.40</td>\n",
       "      <td>1024.0</td>\n",
       "      <td>0.07371</td>\n",
       "      <td>0.08642</td>\n",
       "      <td>0.11030</td>\n",
       "      <td>0.05778</td>\n",
       "      <td>0.1770</td>\n",
       "      <td>0.05340</td>\n",
       "      <td>...</td>\n",
       "      <td>19.76</td>\n",
       "      <td>24.70</td>\n",
       "      <td>129.10</td>\n",
       "      <td>1228.0</td>\n",
       "      <td>0.08822</td>\n",
       "      <td>0.19630</td>\n",
       "      <td>0.2535</td>\n",
       "      <td>0.09181</td>\n",
       "      <td>0.2369</td>\n",
       "      <td>0.06558</td>\n",
       "    </tr>\n",
       "  </tbody>\n",
       "</table>\n",
       "<p>8 rows × 30 columns</p>\n",
       "</div>"
      ],
      "text/plain": [
       "     mean radius  mean texture  mean perimeter  mean area  mean smoothness  \\\n",
       "421        14.69         13.98           98.22      656.1          0.10310   \n",
       "47         13.17         18.66           85.98      534.6          0.11580   \n",
       "292        12.95         16.02           83.14      513.7          0.10050   \n",
       "186        18.31         18.58          118.60     1041.0          0.08588   \n",
       "414        15.13         29.81           96.71      719.5          0.08320   \n",
       "132        16.16         21.54          106.20      809.8          0.10080   \n",
       "161        19.19         15.94          126.30     1157.0          0.08694   \n",
       "197        18.08         21.84          117.40     1024.0          0.07371   \n",
       "\n",
       "     mean compactness  mean concavity  mean concave points  mean symmetry  \\\n",
       "421           0.18360         0.14500              0.06300         0.2086   \n",
       "47            0.12310         0.12260              0.07340         0.2128   \n",
       "292           0.07943         0.06155              0.03370         0.1730   \n",
       "186           0.08468         0.08169              0.05814         0.1621   \n",
       "414           0.04605         0.04686              0.02739         0.1852   \n",
       "132           0.12840         0.10430              0.05613         0.2160   \n",
       "161           0.11850         0.11930              0.09667         0.1741   \n",
       "197           0.08642         0.11030              0.05778         0.1770   \n",
       "\n",
       "     mean fractal dimension  ...  worst radius  worst texture  \\\n",
       "421                 0.07406  ...         16.46          18.34   \n",
       "47                  0.06777  ...         15.67          27.95   \n",
       "292                 0.06470  ...         13.74          19.93   \n",
       "186                 0.05425  ...         21.31          26.36   \n",
       "414                 0.05294  ...         17.26          36.91   \n",
       "132                 0.05891  ...         19.47          31.68   \n",
       "161                 0.05176  ...         22.03          17.81   \n",
       "197                 0.05340  ...         19.76          24.70   \n",
       "\n",
       "     worst perimeter  worst area  worst smoothness  worst compactness  \\\n",
       "421           114.10       809.2           0.13120            0.36350   \n",
       "47            102.80       759.4           0.17860            0.41660   \n",
       "292            88.81       585.4           0.14830            0.20680   \n",
       "186           139.20      1410.0           0.12340            0.24450   \n",
       "414           110.10       931.4           0.11480            0.09866   \n",
       "132           129.70      1175.0           0.13950            0.30550   \n",
       "161           146.60      1495.0           0.11240            0.20160   \n",
       "197           129.10      1228.0           0.08822            0.19630   \n",
       "\n",
       "     worst concavity  worst concave points  worst symmetry  \\\n",
       "421           0.3219               0.11080          0.2827   \n",
       "47            0.5006               0.20880          0.3900   \n",
       "292           0.2241               0.10560          0.3380   \n",
       "186           0.3538               0.15710          0.3206   \n",
       "414           0.1547               0.06575          0.3233   \n",
       "132           0.2992               0.13120          0.3480   \n",
       "161           0.2264               0.17770          0.2443   \n",
       "197           0.2535               0.09181          0.2369   \n",
       "\n",
       "     worst fractal dimension  \n",
       "421                  0.09208  \n",
       "47                   0.11790  \n",
       "292                  0.09584  \n",
       "186                  0.06938  \n",
       "414                  0.06165  \n",
       "132                  0.07619  \n",
       "161                  0.06251  \n",
       "197                  0.06558  \n",
       "\n",
       "[8 rows x 30 columns]"
      ]
     },
     "execution_count": 6,
     "metadata": {},
     "output_type": "execute_result"
    }
   ],
   "source": [
    "features = pd.DataFrame(data=data_all.data, columns=data_all.feature_names)\n",
    "features.sample(n=8, random_state=1)"
   ]
  },
  {
   "cell_type": "markdown",
   "metadata": {},
   "source": [
    "**Preparing the data frame of the target**"
   ]
  },
  {
   "cell_type": "code",
   "execution_count": 7,
   "metadata": {
    "ExecuteTime": {
     "end_time": "2022-05-03T21:44:15.130679Z",
     "start_time": "2022-05-03T21:44:15.124731Z"
    }
   },
   "outputs": [
    {
     "data": {
      "text/html": [
       "<div>\n",
       "<style scoped>\n",
       "    .dataframe tbody tr th:only-of-type {\n",
       "        vertical-align: middle;\n",
       "    }\n",
       "\n",
       "    .dataframe tbody tr th {\n",
       "        vertical-align: top;\n",
       "    }\n",
       "\n",
       "    .dataframe thead th {\n",
       "        text-align: right;\n",
       "    }\n",
       "</style>\n",
       "<table border=\"1\" class=\"dataframe\">\n",
       "  <thead>\n",
       "    <tr style=\"text-align: right;\">\n",
       "      <th></th>\n",
       "      <th>tumor type</th>\n",
       "    </tr>\n",
       "  </thead>\n",
       "  <tbody>\n",
       "    <tr>\n",
       "      <th>421</th>\n",
       "      <td>1</td>\n",
       "    </tr>\n",
       "    <tr>\n",
       "      <th>47</th>\n",
       "      <td>0</td>\n",
       "    </tr>\n",
       "    <tr>\n",
       "      <th>292</th>\n",
       "      <td>1</td>\n",
       "    </tr>\n",
       "    <tr>\n",
       "      <th>186</th>\n",
       "      <td>0</td>\n",
       "    </tr>\n",
       "    <tr>\n",
       "      <th>414</th>\n",
       "      <td>0</td>\n",
       "    </tr>\n",
       "    <tr>\n",
       "      <th>132</th>\n",
       "      <td>0</td>\n",
       "    </tr>\n",
       "    <tr>\n",
       "      <th>161</th>\n",
       "      <td>0</td>\n",
       "    </tr>\n",
       "    <tr>\n",
       "      <th>197</th>\n",
       "      <td>0</td>\n",
       "    </tr>\n",
       "  </tbody>\n",
       "</table>\n",
       "</div>"
      ],
      "text/plain": [
       "     tumor type\n",
       "421           1\n",
       "47            0\n",
       "292           1\n",
       "186           0\n",
       "414           0\n",
       "132           0\n",
       "161           0\n",
       "197           0"
      ]
     },
     "execution_count": 7,
     "metadata": {},
     "output_type": "execute_result"
    }
   ],
   "source": [
    "target = pd.DataFrame(data=data_all.target, columns=['tumor type'])\n",
    "target.sample(n=8, random_state=1)"
   ]
  },
  {
   "cell_type": "markdown",
   "metadata": {},
   "source": [
    "**To make the target encoding more obvious (we want to predict the risk of cancer), we invert the encoding values so that now 0 codes benign and 1 codes malignant**"
   ]
  },
  {
   "cell_type": "code",
   "execution_count": 8,
   "metadata": {
    "ExecuteTime": {
     "end_time": "2022-05-03T21:44:18.528191Z",
     "start_time": "2022-05-03T21:44:18.521908Z"
    }
   },
   "outputs": [
    {
     "data": {
      "text/html": [
       "<div>\n",
       "<style scoped>\n",
       "    .dataframe tbody tr th:only-of-type {\n",
       "        vertical-align: middle;\n",
       "    }\n",
       "\n",
       "    .dataframe tbody tr th {\n",
       "        vertical-align: top;\n",
       "    }\n",
       "\n",
       "    .dataframe thead th {\n",
       "        text-align: right;\n",
       "    }\n",
       "</style>\n",
       "<table border=\"1\" class=\"dataframe\">\n",
       "  <thead>\n",
       "    <tr style=\"text-align: right;\">\n",
       "      <th></th>\n",
       "      <th>tumor type</th>\n",
       "    </tr>\n",
       "  </thead>\n",
       "  <tbody>\n",
       "    <tr>\n",
       "      <th>421</th>\n",
       "      <td>0</td>\n",
       "    </tr>\n",
       "    <tr>\n",
       "      <th>47</th>\n",
       "      <td>1</td>\n",
       "    </tr>\n",
       "    <tr>\n",
       "      <th>292</th>\n",
       "      <td>0</td>\n",
       "    </tr>\n",
       "    <tr>\n",
       "      <th>186</th>\n",
       "      <td>1</td>\n",
       "    </tr>\n",
       "    <tr>\n",
       "      <th>414</th>\n",
       "      <td>1</td>\n",
       "    </tr>\n",
       "    <tr>\n",
       "      <th>132</th>\n",
       "      <td>1</td>\n",
       "    </tr>\n",
       "    <tr>\n",
       "      <th>161</th>\n",
       "      <td>1</td>\n",
       "    </tr>\n",
       "    <tr>\n",
       "      <th>197</th>\n",
       "      <td>1</td>\n",
       "    </tr>\n",
       "  </tbody>\n",
       "</table>\n",
       "</div>"
      ],
      "text/plain": [
       "     tumor type\n",
       "421           0\n",
       "47            1\n",
       "292           0\n",
       "186           1\n",
       "414           1\n",
       "132           1\n",
       "161           1\n",
       "197           1"
      ]
     },
     "execution_count": 8,
     "metadata": {},
     "output_type": "execute_result"
    }
   ],
   "source": [
    "target = target.replace({0:1, 1:0})\n",
    "target.sample(n=8, random_state=1)"
   ]
  },
  {
   "cell_type": "markdown",
   "metadata": {},
   "source": [
    "## Subject"
   ]
  },
  {
   "cell_type": "markdown",
   "metadata": {},
   "source": [
    "We consider two predictors: mean radius and mean texture.\n",
    "* Train a k-NN with k=5 and plot the decision areas based on that model.\n",
    "* Explore different values of k to determine an optimal value.\n",
    "* Train a k-NN with the optimal k you found.\n",
    "* Train a Decision Tree and plot the decision areas based on that model.\n",
    "* What would be an optimal value for the depth of the Decision Tree?  \n",
    "*Hint*: you can use parameter max_depth of DecisionTreeClassifier.\n",
    "* Train a Random Forest and plot the decision areas based on that model.  \n",
    "*Bonus:* you can tune the hyperparameters of your Random Forest model (refer to the [documentation](https://scikit-learn.org/stable/modules/generated/sklearn.ensemble.RandomForestClassifier.html) to see what parameters can be tuned). If you want to facilitate the optimization of many hyperparameters at once, you can use the [Grid Search method](https://scikit-learn.org/stable/modules/generated/sklearn.model_selection.GridSearchCV.html). \n",
    "* Train a SVM (with linear kernel) and plot the decision areas based on that model.\n",
    "* Compare the performance between all models. Choose a comparison metric and explain your choice.\n",
    "* Pick the best model, explain your choice, and compute its performance on unseen test data (unseen means your model was never trained or tuned on it)."
   ]
  },
  {
   "cell_type": "markdown",
   "metadata": {},
   "source": [
    "# Suggestion of solution"
   ]
  },
  {
   "cell_type": "markdown",
   "metadata": {},
   "source": [
    "We consider two predictors: mean radius and mean texture.\n",
    "* Train a k-NN with k=5 and plot the decision areas based on that model"
   ]
  },
  {
   "cell_type": "markdown",
   "metadata": {},
   "source": [
    "**Preparing the data set**"
   ]
  },
  {
   "cell_type": "code",
   "execution_count": 9,
   "metadata": {
    "ExecuteTime": {
     "end_time": "2022-05-03T21:44:23.387678Z",
     "start_time": "2022-05-03T21:44:23.380778Z"
    }
   },
   "outputs": [
    {
     "data": {
      "text/html": [
       "<div>\n",
       "<style scoped>\n",
       "    .dataframe tbody tr th:only-of-type {\n",
       "        vertical-align: middle;\n",
       "    }\n",
       "\n",
       "    .dataframe tbody tr th {\n",
       "        vertical-align: top;\n",
       "    }\n",
       "\n",
       "    .dataframe thead th {\n",
       "        text-align: right;\n",
       "    }\n",
       "</style>\n",
       "<table border=\"1\" class=\"dataframe\">\n",
       "  <thead>\n",
       "    <tr style=\"text-align: right;\">\n",
       "      <th></th>\n",
       "      <th>mean radius</th>\n",
       "      <th>mean texture</th>\n",
       "    </tr>\n",
       "  </thead>\n",
       "  <tbody>\n",
       "    <tr>\n",
       "      <th>0</th>\n",
       "      <td>17.99</td>\n",
       "      <td>10.38</td>\n",
       "    </tr>\n",
       "    <tr>\n",
       "      <th>1</th>\n",
       "      <td>20.57</td>\n",
       "      <td>17.77</td>\n",
       "    </tr>\n",
       "    <tr>\n",
       "      <th>2</th>\n",
       "      <td>19.69</td>\n",
       "      <td>21.25</td>\n",
       "    </tr>\n",
       "    <tr>\n",
       "      <th>3</th>\n",
       "      <td>11.42</td>\n",
       "      <td>20.38</td>\n",
       "    </tr>\n",
       "    <tr>\n",
       "      <th>4</th>\n",
       "      <td>20.29</td>\n",
       "      <td>14.34</td>\n",
       "    </tr>\n",
       "  </tbody>\n",
       "</table>\n",
       "</div>"
      ],
      "text/plain": [
       "   mean radius  mean texture\n",
       "0        17.99         10.38\n",
       "1        20.57         17.77\n",
       "2        19.69         21.25\n",
       "3        11.42         20.38\n",
       "4        20.29         14.34"
      ]
     },
     "execution_count": 9,
     "metadata": {},
     "output_type": "execute_result"
    }
   ],
   "source": [
    "X = features[['mean radius', 'mean texture']]\n",
    "X.head()"
   ]
  },
  {
   "cell_type": "code",
   "execution_count": 10,
   "metadata": {
    "ExecuteTime": {
     "end_time": "2022-05-03T21:44:24.015156Z",
     "start_time": "2022-05-03T21:44:24.011744Z"
    }
   },
   "outputs": [
    {
     "data": {
      "text/plain": [
       "(569, 1)"
      ]
     },
     "execution_count": 10,
     "metadata": {},
     "output_type": "execute_result"
    }
   ],
   "source": [
    "target.shape"
   ]
  },
  {
   "cell_type": "code",
   "execution_count": 11,
   "metadata": {
    "ExecuteTime": {
     "end_time": "2022-05-03T21:44:24.735178Z",
     "start_time": "2022-05-03T21:44:24.731783Z"
    }
   },
   "outputs": [
    {
     "data": {
      "text/plain": [
       "(569,)"
      ]
     },
     "execution_count": 11,
     "metadata": {},
     "output_type": "execute_result"
    }
   ],
   "source": [
    "target.values.reshape(-1,).shape"
   ]
  },
  {
   "cell_type": "markdown",
   "metadata": {},
   "source": [
    "**You can also do this**"
   ]
  },
  {
   "cell_type": "code",
   "execution_count": 12,
   "metadata": {
    "ExecuteTime": {
     "end_time": "2022-05-03T21:44:26.885646Z",
     "start_time": "2022-05-03T21:44:26.882008Z"
    }
   },
   "outputs": [
    {
     "data": {
      "text/plain": [
       "(569,)"
      ]
     },
     "execution_count": 12,
     "metadata": {},
     "output_type": "execute_result"
    }
   ],
   "source": [
    "y = target.values.ravel()\n",
    "y.shape"
   ]
  },
  {
   "cell_type": "markdown",
   "metadata": {},
   "source": [
    "**Train-val-test split:**"
   ]
  },
  {
   "cell_type": "markdown",
   "metadata": {},
   "source": [
    "Careful! Here we need three datasets: train-validation-test (unless you do k-fold cross validation)"
   ]
  },
  {
   "cell_type": "code",
   "execution_count": 13,
   "metadata": {
    "ExecuteTime": {
     "end_time": "2022-05-03T21:44:31.472407Z",
     "start_time": "2022-05-03T21:44:31.447383Z"
    }
   },
   "outputs": [
    {
     "name": "stdout",
     "output_type": "stream",
     "text": [
      "Train set:\t (341, 2) (341,)\n",
      "Validation set:  (114, 2) (114,)\n",
      "Test set:\t (114, 2) (114,)\n"
     ]
    }
   ],
   "source": [
    "from sklearn.model_selection import train_test_split\n",
    "\n",
    "X_train, X_test, y_train, y_test = train_test_split(X, y, test_size=0.20, random_state=0)\n",
    "X_train, X_val, y_train, y_val = train_test_split(X_train, y_train, test_size=0.25, random_state=0)\n",
    "print ('Train set:\\t', X_train.shape,  y_train.shape)\n",
    "print('Validation set: ', X_val.shape, y_val.shape)\n",
    "print ('Test set:\\t', X_test.shape,  y_test.shape)"
   ]
  },
  {
   "cell_type": "markdown",
   "metadata": {},
   "source": [
    "**Feature scaling:**"
   ]
  },
  {
   "cell_type": "code",
   "execution_count": 14,
   "metadata": {
    "ExecuteTime": {
     "end_time": "2022-05-03T21:44:38.062340Z",
     "start_time": "2022-05-03T21:44:38.052297Z"
    }
   },
   "outputs": [],
   "source": [
    "from sklearn.preprocessing import StandardScaler\n",
    "sc = StandardScaler()\n",
    "X_train = sc.fit_transform(X_train)\n",
    "X_val = sc.fit_transform(X_val)\n",
    "X_test = sc.transform(X_test)"
   ]
  },
  {
   "cell_type": "markdown",
   "metadata": {},
   "source": [
    "**Training a k-NN model:**"
   ]
  },
  {
   "cell_type": "code",
   "execution_count": 15,
   "metadata": {
    "ExecuteTime": {
     "end_time": "2022-05-03T21:44:43.073324Z",
     "start_time": "2022-05-03T21:44:43.023486Z"
    }
   },
   "outputs": [
    {
     "data": {
      "text/plain": [
       "KNeighborsClassifier(metric='euclidean')"
      ]
     },
     "execution_count": 15,
     "metadata": {},
     "output_type": "execute_result"
    }
   ],
   "source": [
    "from sklearn.neighbors import KNeighborsClassifier\n",
    "knn = {'classifier': KNeighborsClassifier(n_neighbors = 5, metric = 'euclidean')}\n",
    "knn['classifier'].fit(X_train, y_train)"
   ]
  },
  {
   "cell_type": "markdown",
   "metadata": {},
   "source": [
    "**Plotting the decision areas**"
   ]
  },
  {
   "cell_type": "code",
   "execution_count": 16,
   "metadata": {
    "ExecuteTime": {
     "end_time": "2022-05-03T21:44:51.514339Z",
     "start_time": "2022-05-03T21:44:51.505666Z"
    }
   },
   "outputs": [],
   "source": [
    "# We define a function for plotting the 2D decision areas of a classifier\n",
    "\n",
    "def plot_decision_areas(X_toplot, y_toplot, classifier):\n",
    "    \n",
    "    from matplotlib.colors import ListedColormap\n",
    "    fig = plt.figure(figsize=(10, 6))\n",
    "\n",
    "    # Preparation of the data set that will be displayed (without scaling)\n",
    "    X_set, y_set = sc.inverse_transform(X_toplot), y_toplot\n",
    "\n",
    "    # Creation of a data grid (for the decision area)\n",
    "    X_step = 0.05  # Grid step on X-axis\n",
    "    Y_step = 0.05  # Grid step on Y-axis\n",
    "    X1, X2 = np.meshgrid(np.arange(start = X_set[:, 0].min(), stop = X_set[:, 0].max(), step = X_step),\n",
    "        np.arange(start = X_set[:, 1].min(), stop = X_set[:, 1].max(), step = Y_step))\n",
    "\n",
    "    # Plotting the decision boundary\n",
    "    plt.contourf(X1, X2, classifier.predict(sc.transform(np.array([X1.ravel(), X2.ravel()]).T)).reshape(X1.shape),\n",
    "        alpha = 0.75, cmap = ListedColormap(('salmon', 'lightgreen')))\n",
    "\n",
    "    # Plotting the data set\n",
    "    for y_set_index, y_set_value in enumerate(np.unique(y_set)):\n",
    "        plt.scatter(X_set[y_set == y_set_value, 0], X_set[y_set == y_set_value, 1], color = ListedColormap(('red', 'green'))(y_set_index), label = y_set_value)\n",
    "\n",
    "    # Configuration of the figure\n",
    "    plt.xlim(X_set[:,0].min(), X_set[:,0].max())\n",
    "    plt.ylim(X_set[:,1].min(), X_set[:,1].max())\n",
    "    plt.legend(title='Tumor type')\n",
    "    plt.title(str(classifier))\n",
    "    plt.xlabel('Mean radius')\n",
    "    plt.ylabel('Mean texture')\n",
    "\n",
    "    plt.show()"
   ]
  },
  {
   "cell_type": "code",
   "execution_count": 17,
   "metadata": {
    "ExecuteTime": {
     "end_time": "2022-05-03T21:45:02.038106Z",
     "start_time": "2022-05-03T21:44:58.741838Z"
    }
   },
   "outputs": [
    {
     "data": {
      "image/png": "[encoded data removed]",
      "text/plain": [
       "<Figure size 720x432 with 1 Axes>"
      ]
     },
     "metadata": {
      "needs_background": "light"
     },
     "output_type": "display_data"
    }
   ],
   "source": [
    "plot_decision_areas(X_val, y_val, knn['classifier'])"
   ]
  },
  {
   "cell_type": "markdown",
   "metadata": {},
   "source": [
    "The \"islands\" of red illustrate a probable over-fit of the model. The k value seems to be too small here."
   ]
  },
  {
   "cell_type": "markdown",
   "metadata": {},
   "source": [
    "* Explore different values of k to determine an optimal value"
   ]
  },
  {
   "cell_type": "markdown",
   "metadata": {},
   "source": [
    "**Computing the model accuracy for different values of k to find an optimal value**"
   ]
  },
  {
   "cell_type": "markdown",
   "metadata": {},
   "source": [
    "We choose recall as the metric we want to optimize"
   ]
  },
  {
   "cell_type": "code",
   "execution_count": 19,
   "metadata": {
    "ExecuteTime": {
     "end_time": "2022-05-03T21:45:21.001406Z",
     "start_time": "2022-05-03T21:45:19.712221Z"
    }
   },
   "outputs": [
    {
     "data": {
      "image/png": "[encoded data removed]",
      "text/plain": [
       "<Figure size 1008x432 with 1 Axes>"
      ]
     },
     "metadata": {
      "needs_background": "light"
     },
     "output_type": "display_data"
    }
   ],
   "source": [
    "from sklearn.metrics import recall_score\n",
    "\n",
    "k_list = range(1,200)\n",
    "recall_list = []\n",
    "\n",
    "# Compute the accuracy of the k-NN trained with different values of k\n",
    "for k in k_list:\n",
    "    knn_candidate = KNeighborsClassifier(n_neighbors = k, metric = 'euclidean')\n",
    "    knn_candidate.fit(X_train, y_train)\n",
    "    y_pred = knn_candidate.predict(X_val)\n",
    "    recall_list.append(recall_score(y_val, y_pred))\n",
    "\n",
    "# Plot the accuracy with respect to k\n",
    "fig, axs = plt.subplots(1,1, figsize=(14,6))\n",
    "axs.plot(k_list, recall_list, label='recall', c='b')\n",
    "axs.set_title('k-NN recall with respect to k')\n",
    "axs.set_xlabel('k')\n",
    "axs.set_ylabel('Recall')\n",
    "axs.set_xticks(range(0,200,5))\n",
    "axs.grid()\n",
    "plt.show()"
   ]
  },
  {
   "cell_type": "markdown",
   "metadata": {},
   "source": [
    "##### k = 20 seems to be optimal because it corresponds to a maximum recall. Let's check what is the decisions boundary that we obtain with such value."
   ]
  },
  {
   "cell_type": "markdown",
   "metadata": {},
   "source": [
    "* Train a k-NN with the optimal k you found."
   ]
  },
  {
   "cell_type": "code",
   "execution_count": 20,
   "metadata": {
    "ExecuteTime": {
     "end_time": "2022-05-03T21:45:27.744229Z",
     "start_time": "2022-05-03T21:45:27.739620Z"
    }
   },
   "outputs": [
    {
     "data": {
      "text/plain": [
       "KNeighborsClassifier(metric='euclidean', n_neighbors=20)"
      ]
     },
     "execution_count": 20,
     "metadata": {},
     "output_type": "execute_result"
    }
   ],
   "source": [
    "from sklearn.neighbors import KNeighborsClassifier\n",
    "\n",
    "knn = {'classifier': KNeighborsClassifier(n_neighbors = 20, metric = 'euclidean')}\n",
    "knn['classifier'].fit(X_train, y_train)"
   ]
  },
  {
   "cell_type": "code",
   "execution_count": 21,
   "metadata": {
    "ExecuteTime": {
     "end_time": "2022-05-03T21:45:31.979120Z",
     "start_time": "2022-05-03T21:45:28.460533Z"
    }
   },
   "outputs": [
    {
     "data": {
      "image/png": "[encoded data removed]",
      "text/plain": [
       "<Figure size 720x432 with 1 Axes>"
      ]
     },
     "metadata": {
      "needs_background": "light"
     },
     "output_type": "display_data"
    }
   ],
   "source": [
    "plot_decision_areas(X_val, y_val, knn['classifier'])"
   ]
  },
  {
   "cell_type": "markdown",
   "metadata": {},
   "source": [
    "* Train a Decision Tree and plot the decision areas based on that model"
   ]
  },
  {
   "cell_type": "markdown",
   "metadata": {},
   "source": [
    "**Training a Decision Tree model**"
   ]
  },
  {
   "cell_type": "code",
   "execution_count": 22,
   "metadata": {
    "ExecuteTime": {
     "end_time": "2022-05-03T21:45:40.448550Z",
     "start_time": "2022-05-03T21:45:40.431418Z"
    }
   },
   "outputs": [
    {
     "data": {
      "text/plain": [
       "DecisionTreeClassifier(criterion='entropy', random_state=0)"
      ]
     },
     "execution_count": 22,
     "metadata": {},
     "output_type": "execute_result"
    }
   ],
   "source": [
    "from sklearn.tree import DecisionTreeClassifier\n",
    "\n",
    "dt = {'classifier': DecisionTreeClassifier(criterion = 'entropy', random_state = 0)}\n",
    "dt['classifier'].fit(X_train, y_train)"
   ]
  },
  {
   "cell_type": "code",
   "execution_count": 23,
   "metadata": {
    "ExecuteTime": {
     "end_time": "2022-05-03T21:45:41.020452Z",
     "start_time": "2022-05-03T21:45:40.834893Z"
    }
   },
   "outputs": [
    {
     "data": {
      "image/png": "[encoded data removed]",
      "text/plain": [
       "<Figure size 720x432 with 1 Axes>"
      ]
     },
     "metadata": {
      "needs_background": "light"
     },
     "output_type": "display_data"
    }
   ],
   "source": [
    "plot_decision_areas(X_val, y_val, dt['classifier'])"
   ]
  },
  {
   "cell_type": "markdown",
   "metadata": {
    "ExecuteTime": {
     "end_time": "2022-05-03T20:35:06.729166Z",
     "start_time": "2022-05-03T20:35:06.725086Z"
    }
   },
   "source": [
    "* What would be an optimal value for the depth of the Decision Tree?  \n",
    "*Hint*: you can use parameter max_depth of DecisionTreeClassifier."
   ]
  },
  {
   "cell_type": "markdown",
   "metadata": {},
   "source": [
    "Let's check the depth of this Decision Tree (i.e. the number of levels)."
   ]
  },
  {
   "cell_type": "code",
   "execution_count": 24,
   "metadata": {
    "ExecuteTime": {
     "end_time": "2022-05-03T21:45:49.852053Z",
     "start_time": "2022-05-03T21:45:49.848107Z"
    }
   },
   "outputs": [
    {
     "data": {
      "text/plain": [
       "16"
      ]
     },
     "execution_count": 24,
     "metadata": {},
     "output_type": "execute_result"
    }
   ],
   "source": [
    "dt['classifier'].get_depth()"
   ]
  },
  {
   "cell_type": "markdown",
   "metadata": {},
   "source": [
    "Let's check the number of leaves of this Decision Tree (i.e. the number of boxes)."
   ]
  },
  {
   "cell_type": "code",
   "execution_count": 25,
   "metadata": {
    "ExecuteTime": {
     "end_time": "2022-05-03T21:45:51.639569Z",
     "start_time": "2022-05-03T21:45:51.636557Z"
    }
   },
   "outputs": [
    {
     "data": {
      "text/plain": [
       "48"
      ]
     },
     "execution_count": 25,
     "metadata": {},
     "output_type": "execute_result"
    }
   ],
   "source": [
    "dt['classifier'].get_n_leaves()"
   ]
  },
  {
   "cell_type": "markdown",
   "metadata": {},
   "source": [
    "It seems to have to many boxes, leading to over-fit. Let's try to find the optimal depth of the Decision Tree."
   ]
  },
  {
   "cell_type": "code",
   "execution_count": 26,
   "metadata": {
    "ExecuteTime": {
     "end_time": "2022-05-03T21:46:05.392796Z",
     "start_time": "2022-05-03T21:46:05.217825Z"
    }
   },
   "outputs": [
    {
     "data": {
      "image/png": "[encoded data removed]",
      "text/plain": [
       "<Figure size 1008x432 with 1 Axes>"
      ]
     },
     "metadata": {
      "needs_background": "light"
     },
     "output_type": "display_data"
    }
   ],
   "source": [
    "max_depth_list = range(1,20)\n",
    "recall_list = []\n",
    "\n",
    "# Compute the accuracy of the Decision Tree for different values of max_depth\n",
    "for max_depth in max_depth_list:\n",
    "    dt_candidate = DecisionTreeClassifier(criterion = 'entropy', random_state = 0, max_depth = max_depth)\n",
    "    dt_candidate.fit(X_train, y_train)\n",
    "    y_pred = dt_candidate.predict(X_val)\n",
    "    recall_list.append(recall_score(y_val, y_pred))\n",
    "\n",
    "# Plot the accuracy with respect to k\n",
    "fig, axs = plt.subplots(1,1, figsize=(14,6))\n",
    "axs.plot(max_depth_list, recall_list, label='recall', c='b')\n",
    "axs.set_title('Decision Tree recall with respect to max_depth')\n",
    "axs.set_xlabel('max_depth')\n",
    "axs.set_xticks(range(0,20))\n",
    "axs.set_ylabel('Recall')\n",
    "axs.grid()\n",
    "plt.show()"
   ]
  },
  {
   "cell_type": "markdown",
   "metadata": {},
   "source": [
    "It seems that a depth of 5 would maximize the Decision Tree's recall."
   ]
  },
  {
   "cell_type": "code",
   "execution_count": 27,
   "metadata": {
    "ExecuteTime": {
     "end_time": "2022-05-03T21:46:22.334337Z",
     "start_time": "2022-05-03T21:46:22.328664Z"
    }
   },
   "outputs": [
    {
     "data": {
      "text/plain": [
       "DecisionTreeClassifier(criterion='entropy', max_depth=5, random_state=0)"
      ]
     },
     "execution_count": 27,
     "metadata": {},
     "output_type": "execute_result"
    }
   ],
   "source": [
    "dt = {'classifier': DecisionTreeClassifier(criterion = 'entropy', random_state = 0, max_depth = 5)}\n",
    "dt['classifier'].fit(X_train, y_train)"
   ]
  },
  {
   "cell_type": "code",
   "execution_count": 28,
   "metadata": {
    "ExecuteTime": {
     "end_time": "2022-05-03T21:46:24.264816Z",
     "start_time": "2022-05-03T21:46:24.082653Z"
    }
   },
   "outputs": [
    {
     "data": {
      "image/png": "[encoded data removed]",
      "text/plain": [
       "<Figure size 720x432 with 1 Axes>"
      ]
     },
     "metadata": {
      "needs_background": "light"
     },
     "output_type": "display_data"
    }
   ],
   "source": [
    "plot_decision_areas(X_val, y_val, dt['classifier'])"
   ]
  },
  {
   "cell_type": "markdown",
   "metadata": {},
   "source": [
    "It seems to have slightly reduced the over-fit."
   ]
  },
  {
   "cell_type": "markdown",
   "metadata": {},
   "source": [
    "* Train a Random Forest and plot the decision areas based on that model"
   ]
  },
  {
   "cell_type": "markdown",
   "metadata": {},
   "source": [
    "**Training a Random Forest**"
   ]
  },
  {
   "cell_type": "code",
   "execution_count": 33,
   "metadata": {
    "ExecuteTime": {
     "end_time": "2022-05-03T21:47:44.594531Z",
     "start_time": "2022-05-03T21:47:44.467125Z"
    }
   },
   "outputs": [
    {
     "data": {
      "text/plain": [
       "RandomForestClassifier(criterion='entropy', random_state=0)"
      ]
     },
     "execution_count": 33,
     "metadata": {},
     "output_type": "execute_result"
    }
   ],
   "source": [
    "from sklearn.ensemble import RandomForestClassifier\n",
    "\n",
    "rf = {'classifier': RandomForestClassifier(n_estimators = 100, criterion = 'entropy', random_state = 0)}\n",
    "rf['classifier'].fit(X_train, y_train)"
   ]
  },
  {
   "cell_type": "code",
   "execution_count": 34,
   "metadata": {
    "ExecuteTime": {
     "end_time": "2022-05-03T21:47:45.284593Z",
     "start_time": "2022-05-03T21:47:44.631171Z"
    }
   },
   "outputs": [
    {
     "data": {
      "image/png": "[encoded data removed]",
      "text/plain": [
       "<Figure size 720x432 with 1 Axes>"
      ]
     },
     "metadata": {
      "needs_background": "light"
     },
     "output_type": "display_data"
    }
   ],
   "source": [
    "plot_decision_areas(X_val, y_val, rf['classifier'])"
   ]
  },
  {
   "cell_type": "markdown",
   "metadata": {},
   "source": [
    "**Bonus:** you can tune the hyperparameters of your Random Forest model (refer to the [documentation](https://scikit-learn.org/stable/modules/generated/sklearn.ensemble.RandomForestClassifier.html) to see what parameters can be tuned). If you want to facilitate the optimization of many hyperparameters at once, you can use the [Grid Search method](https://scikit-learn.org/stable/modules/generated/sklearn.model_selection.GridSearchCV.html). "
   ]
  },
  {
   "cell_type": "code",
   "execution_count": 65,
   "metadata": {
    "ExecuteTime": {
     "end_time": "2022-05-03T21:54:42.357451Z",
     "start_time": "2022-05-03T21:54:42.353431Z"
    }
   },
   "outputs": [],
   "source": [
    "from sklearn.model_selection import GridSearchCV\n",
    "\n",
    "param_grid = {\n",
    "    \"n_estimators\": [10, 50, 100, 500, 1000],\n",
    "    \"criterion\": ['gini', 'entropy'],\n",
    "    \"max_depth\": range(2,10),\n",
    "}\n",
    "\n",
    "grid_search = GridSearchCV(\n",
    "    RandomForestClassifier(random_state = 0),\n",
    "    param_grid,\n",
    "    scoring='recall',\n",
    "    n_jobs=-1,\n",
    "    verbose=1\n",
    ")"
   ]
  },
  {
   "cell_type": "markdown",
   "metadata": {},
   "source": [
    "GridSearch already implements k-fold cross validation, so we don't need to separate train and validation data for it. Normally, you would either use hold out validation, or k-fold validation in your entire Notebook. Here I show you both."
   ]
  },
  {
   "cell_type": "code",
   "execution_count": 66,
   "metadata": {
    "ExecuteTime": {
     "end_time": "2022-05-03T21:55:12.374350Z",
     "start_time": "2022-05-03T21:54:43.141313Z"
    }
   },
   "outputs": [
    {
     "name": "stdout",
     "output_type": "stream",
     "text": [
      "Fitting 5 folds for each of 80 candidates, totalling 400 fits\n"
     ]
    },
    {
     "data": {
      "text/plain": [
       "GridSearchCV(estimator=RandomForestClassifier(random_state=0), n_jobs=-1,\n",
       "             param_grid={'criterion': ['gini', 'entropy'],\n",
       "                         'max_depth': range(2, 10),\n",
       "                         'n_estimators': [10, 50, 100, 500, 1000]},\n",
       "             scoring='recall', verbose=1)"
      ]
     },
     "execution_count": 66,
     "metadata": {},
     "output_type": "execute_result"
    }
   ],
   "source": [
    "X_grid_search = np.vstack([X_train, X_val])\n",
    "y_grid_search = np.append(y_train, y_val)\n",
    "\n",
    "grid_search.fit(X_grid_search, y_grid_search)"
   ]
  },
  {
   "cell_type": "markdown",
   "metadata": {},
   "source": [
    "**Hyperparameters and recall of the best tree**"
   ]
  },
  {
   "cell_type": "code",
   "execution_count": 67,
   "metadata": {
    "ExecuteTime": {
     "end_time": "2022-05-03T21:55:17.749990Z",
     "start_time": "2022-05-03T21:55:17.745968Z"
    }
   },
   "outputs": [
    {
     "data": {
      "text/plain": [
       "RandomForestClassifier(max_depth=8, n_estimators=500, random_state=0)"
      ]
     },
     "execution_count": 67,
     "metadata": {},
     "output_type": "execute_result"
    }
   ],
   "source": [
    "tuned_rf = {'classifier': grid_search.best_estimator_}\n",
    "tuned_rf['classifier']"
   ]
  },
  {
   "cell_type": "code",
   "execution_count": 71,
   "metadata": {
    "ExecuteTime": {
     "end_time": "2022-05-03T21:59:20.916617Z",
     "start_time": "2022-05-03T21:59:20.912209Z"
    }
   },
   "outputs": [
    {
     "data": {
      "text/plain": [
       "0.8484848484848484"
      ]
     },
     "execution_count": 71,
     "metadata": {},
     "output_type": "execute_result"
    }
   ],
   "source": [
    "tuned_rf['recall'] = grid_search.best_score_\n",
    "tuned_rf['recall']"
   ]
  },
  {
   "cell_type": "markdown",
   "metadata": {},
   "source": [
    "* Train a SVM (with linear kernel) and plot the decision areas based on that model."
   ]
  },
  {
   "cell_type": "markdown",
   "metadata": {},
   "source": [
    "**Training a SVM model**"
   ]
  },
  {
   "cell_type": "code",
   "execution_count": 72,
   "metadata": {
    "ExecuteTime": {
     "end_time": "2022-05-03T21:59:27.584483Z",
     "start_time": "2022-05-03T21:59:26.155705Z"
    }
   },
   "outputs": [
    {
     "data": {
      "text/plain": [
       "SVC(kernel='linear', probability=True, random_state=0)"
      ]
     },
     "execution_count": 72,
     "metadata": {},
     "output_type": "execute_result"
    }
   ],
   "source": [
    "from sklearn.svm import SVC\n",
    "\n",
    "svm = {'classifier': SVC(kernel = 'linear', random_state = 0, probability = True)}\n",
    "svm['classifier'].fit(X_train, y_train)"
   ]
  },
  {
   "cell_type": "code",
   "execution_count": 73,
   "metadata": {
    "ExecuteTime": {
     "end_time": "2022-05-03T21:59:28.114699Z",
     "start_time": "2022-05-03T21:59:27.586210Z"
    }
   },
   "outputs": [
    {
     "data": {
      "image/png": "[encoded data removed]",
      "text/plain": [
       "<Figure size 720x432 with 1 Axes>"
      ]
     },
     "metadata": {
      "needs_background": "light"
     },
     "output_type": "display_data"
    }
   ],
   "source": [
    "plot_decision_areas(X_val, y_val, svm['classifier'])"
   ]
  },
  {
   "cell_type": "markdown",
   "metadata": {},
   "source": [
    "* Compare the performance between all models. Choose a comparison metric and explain your choice.\n"
   ]
  },
  {
   "cell_type": "code",
   "execution_count": 75,
   "metadata": {
    "ExecuteTime": {
     "end_time": "2022-05-03T22:00:06.709394Z",
     "start_time": "2022-05-03T22:00:06.662212Z"
    }
   },
   "outputs": [],
   "source": [
    "from sklearn.metrics import accuracy_score, precision_score, recall_score, roc_curve, roc_auc_score\n",
    "\n",
    "# We prepare the list of classifiers to evaluate\n",
    "classifier_list = [knn, dt, svm, rf]\n",
    "\n",
    "# We prepare an empty dataframe to store all the performance values\n",
    "performance_df = pd.DataFrame(index=['Accuracy', 'Precision', 'Recall', 'AUC'])\n",
    "\n",
    "# We make a loop on each classifier to compute each performance metric\n",
    "for classifier in classifier_list:\n",
    "    \n",
    "    classifier['y_pred'] = classifier['classifier'].predict(X_val)\n",
    "    classifier['y_proba'] = classifier['classifier'].predict_proba(X_val)\n",
    "    classifier['y_score'] = classifier['y_proba'][:,1]\n",
    "    \n",
    "    accuracy = round(accuracy_score(y_val, classifier['y_pred']),2)\n",
    "    precision = round(precision_score(y_val, classifier['y_pred']),2)\n",
    "    recall = round(recall_score(y_val, classifier['y_pred']),2)\n",
    "    auc = round(roc_auc_score(y_val, classifier['y_pred']),2)\n",
    "    \n",
    "    classifier_name = classifier['classifier'].__class__.__name__\n",
    "    performance_df[classifier_name] = [accuracy, precision, recall, auc]  # To add it in the dataframe as a new columns"
   ]
  },
  {
   "cell_type": "code",
   "execution_count": 81,
   "metadata": {
    "ExecuteTime": {
     "end_time": "2022-05-03T22:01:43.573117Z",
     "start_time": "2022-05-03T22:01:43.569889Z"
    }
   },
   "outputs": [],
   "source": [
    "performance_df['Tuned RandomForest'] = None\n",
    "performance_df.loc['Recall', 'Tuned RandomForest'] = tuned_rf['recall']"
   ]
  },
  {
   "cell_type": "code",
   "execution_count": 82,
   "metadata": {
    "ExecuteTime": {
     "end_time": "2022-05-03T22:01:44.533925Z",
     "start_time": "2022-05-03T22:01:44.525997Z"
    }
   },
   "outputs": [
    {
     "data": {
      "text/html": [
       "<div>\n",
       "<style scoped>\n",
       "    .dataframe tbody tr th:only-of-type {\n",
       "        vertical-align: middle;\n",
       "    }\n",
       "\n",
       "    .dataframe tbody tr th {\n",
       "        vertical-align: top;\n",
       "    }\n",
       "\n",
       "    .dataframe thead th {\n",
       "        text-align: right;\n",
       "    }\n",
       "</style>\n",
       "<table border=\"1\" class=\"dataframe\">\n",
       "  <thead>\n",
       "    <tr style=\"text-align: right;\">\n",
       "      <th></th>\n",
       "      <th>KNeighborsClassifier</th>\n",
       "      <th>DecisionTreeClassifier</th>\n",
       "      <th>SVC</th>\n",
       "      <th>RandomForestClassifier</th>\n",
       "      <th>Tuned RandomForest</th>\n",
       "    </tr>\n",
       "  </thead>\n",
       "  <tbody>\n",
       "    <tr>\n",
       "      <th>Accuracy</th>\n",
       "      <td>0.91</td>\n",
       "      <td>0.90</td>\n",
       "      <td>0.86</td>\n",
       "      <td>0.92</td>\n",
       "      <td>None</td>\n",
       "    </tr>\n",
       "    <tr>\n",
       "      <th>Precision</th>\n",
       "      <td>0.93</td>\n",
       "      <td>0.85</td>\n",
       "      <td>0.89</td>\n",
       "      <td>0.93</td>\n",
       "      <td>None</td>\n",
       "    </tr>\n",
       "    <tr>\n",
       "      <th>Recall</th>\n",
       "      <td>0.84</td>\n",
       "      <td>0.91</td>\n",
       "      <td>0.73</td>\n",
       "      <td>0.87</td>\n",
       "      <td>0.848485</td>\n",
       "    </tr>\n",
       "    <tr>\n",
       "      <th>AUC</th>\n",
       "      <td>0.90</td>\n",
       "      <td>0.90</td>\n",
       "      <td>0.84</td>\n",
       "      <td>0.91</td>\n",
       "      <td>None</td>\n",
       "    </tr>\n",
       "  </tbody>\n",
       "</table>\n",
       "</div>"
      ],
      "text/plain": [
       "           KNeighborsClassifier  DecisionTreeClassifier   SVC  \\\n",
       "Accuracy                   0.91                    0.90  0.86   \n",
       "Precision                  0.93                    0.85  0.89   \n",
       "Recall                     0.84                    0.91  0.73   \n",
       "AUC                        0.90                    0.90  0.84   \n",
       "\n",
       "           RandomForestClassifier Tuned RandomForest  \n",
       "Accuracy                     0.92               None  \n",
       "Precision                    0.93               None  \n",
       "Recall                       0.87           0.848485  \n",
       "AUC                          0.91               None  "
      ]
     },
     "execution_count": 82,
     "metadata": {},
     "output_type": "execute_result"
    }
   ],
   "source": [
    "performance_df"
   ]
  },
  {
   "cell_type": "markdown",
   "metadata": {},
   "source": [
    "We choose recall as the comparison metric because we want to avoid false negatives as much as possible when detecting tumors."
   ]
  },
  {
   "cell_type": "code",
   "execution_count": 83,
   "metadata": {
    "ExecuteTime": {
     "end_time": "2022-05-03T22:02:23.837441Z",
     "start_time": "2022-05-03T22:02:23.692497Z"
    }
   },
   "outputs": [
    {
     "data": {
      "image/png": "[encoded data removed]",
      "text/plain": [
       "<Figure size 576x576 with 1 Axes>"
      ]
     },
     "metadata": {
      "needs_background": "light"
     },
     "output_type": "display_data"
    }
   ],
   "source": [
    "plt.subplots(1, figsize=(8,8))\n",
    "plt.title('Receiver Operating Characteristic')\n",
    "    \n",
    "# Plot ROC curve for each classifier\n",
    "color_list = plt.cm.get_cmap('rainbow', len(classifier_list))\n",
    "for i, classifier in enumerate(classifier_list):\n",
    "    false_positive_rate, true_positive_rate, threshold = roc_curve(y_val, classifier['y_score'])\n",
    "    plt.plot(false_positive_rate, true_positive_rate, c=color_list(i), linewidth=1.2, label=str(classifier['classifier'])[:12]+'...')\n",
    "\n",
    "# Plot ROC curve for a random classifier\n",
    "plt.plot([0, 1], ls='--', c='grey', label='Random classifier')\n",
    "\n",
    "plt.xlim([-0.001, 1])\n",
    "plt.ylim([0, 1.001])\n",
    "plt.ylabel('True positive rate')\n",
    "plt.xlabel('False positive rate')\n",
    "plt.legend()\n",
    "plt.show()"
   ]
  },
  {
   "cell_type": "markdown",
   "metadata": {},
   "source": [
    "* Pick the best model, explain your choice, and compute its performance on unseen test data (unseen means your model was never trained or tuned on it)."
   ]
  },
  {
   "cell_type": "markdown",
   "metadata": {},
   "source": [
    "The Decision Tree model has the best recall, and also has good accuracy and AUC. We will choose this one."
   ]
  },
  {
   "cell_type": "markdown",
   "metadata": {},
   "source": [
    "#### Calculating performance on unseed data : TEST DATASET!"
   ]
  },
  {
   "cell_type": "code",
   "execution_count": 93,
   "metadata": {
    "ExecuteTime": {
     "end_time": "2022-05-03T22:05:47.065398Z",
     "start_time": "2022-05-03T22:05:47.062989Z"
    }
   },
   "outputs": [],
   "source": [
    "final_model = dt['classifier']"
   ]
  },
  {
   "cell_type": "code",
   "execution_count": 94,
   "metadata": {
    "ExecuteTime": {
     "end_time": "2022-05-03T22:05:47.398727Z",
     "start_time": "2022-05-03T22:05:47.389693Z"
    }
   },
   "outputs": [
    {
     "name": "stdout",
     "output_type": "stream",
     "text": [
      "              precision    recall  f1-score   support\n",
      "\n",
      "           0       0.89      0.87      0.88        67\n",
      "           1       0.82      0.85      0.83        47\n",
      "\n",
      "    accuracy                           0.86       114\n",
      "   macro avg       0.85      0.86      0.86       114\n",
      "weighted avg       0.86      0.86      0.86       114\n",
      "\n"
     ]
    }
   ],
   "source": [
    "from sklearn.metrics import classification_report\n",
    "\n",
    "y_pred = final_model.predict(X_test)\n",
    "print(classification_report(y_test, y_pred))"
   ]
  },
  {
   "cell_type": "markdown",
   "metadata": {},
   "source": [
    "We can say that your final model (Decision Tree) has a recall score of 0.85 for malignant tumors.  \n",
    "It also has an f1-score of 0.83 and an overall accuracy of 0.86.  \n",
    "It seems that the recall calculated on the validation set was an overestimate."
   ]
  },
  {
   "cell_type": "code",
   "execution_count": null,
   "metadata": {},
   "outputs": [],
   "source": []
  }
 ],
 "metadata": {
  "kernelspec": {
   "display_name": "Python 3",
   "language": "python",
   "name": "python3"
  },
  "language_info": {
   "codemirror_mode": {
    "name": "ipython",
    "version": 3
   },
   "file_extension": ".py",
   "mimetype": "text/x-python",
   "name": "python",
   "nbconvert_exporter": "python",
   "pygments_lexer": "ipython3",
   "version": "3.7.4"
  }
 },
 "nbformat": 4,
 "nbformat_minor": 4
}
