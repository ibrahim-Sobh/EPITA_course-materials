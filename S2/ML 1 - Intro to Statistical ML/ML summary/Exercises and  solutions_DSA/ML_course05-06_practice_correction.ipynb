{
 "cells": [
  {
   "cell_type": "markdown",
   "metadata": {},
   "source": [
    "# ML Course 5-6 - Practice on logistic regression and classification assessment (solution)"
   ]
  },
  {
   "cell_type": "markdown",
   "metadata": {},
   "source": [
    "We will work here on a data set taken from Scikit-Learn about the characteristics of malignant and benign breast tumors to prevent the risk of cancer."
   ]
  },
  {
   "cell_type": "markdown",
   "metadata": {},
   "source": [
    "## Preparation of the data set"
   ]
  },
  {
   "cell_type": "code",
   "execution_count": 1,
   "metadata": {
    "ExecuteTime": {
     "end_time": "2022-04-28T15:16:49.132504Z",
     "start_time": "2022-04-28T15:16:45.473154Z"
    }
   },
   "outputs": [],
   "source": [
    "import numpy as np\n",
    "import matplotlib.pyplot as plt\n",
    "import pandas as pd\n",
    "import sklearn "
   ]
  },
  {
   "cell_type": "markdown",
   "metadata": {},
   "source": [
    "**Loading the data set from Scikit-Learn**"
   ]
  },
  {
   "cell_type": "code",
   "execution_count": 2,
   "metadata": {
    "ExecuteTime": {
     "end_time": "2022-04-28T15:16:49.369741Z",
     "start_time": "2022-04-28T15:16:49.134164Z"
    }
   },
   "outputs": [],
   "source": [
    "from sklearn.datasets import load_breast_cancer\n",
    "data_all = load_breast_cancer()"
   ]
  },
  {
   "cell_type": "markdown",
   "metadata": {},
   "source": [
    "**Checking the keys of the dictionary loaded**"
   ]
  },
  {
   "cell_type": "code",
   "execution_count": 3,
   "metadata": {
    "ExecuteTime": {
     "end_time": "2022-04-28T15:16:52.307274Z",
     "start_time": "2022-04-28T15:16:52.302717Z"
    }
   },
   "outputs": [
    {
     "data": {
      "text/plain": [
       "dict_keys(['data', 'target', 'frame', 'target_names', 'DESCR', 'feature_names', 'filename', 'data_module'])"
      ]
     },
     "execution_count": 3,
     "metadata": {},
     "output_type": "execute_result"
    }
   ],
   "source": [
    "data_all.keys()"
   ]
  },
  {
   "cell_type": "markdown",
   "metadata": {},
   "source": [
    "**Getting a description of the data set**"
   ]
  },
  {
   "cell_type": "code",
   "execution_count": 4,
   "metadata": {
    "ExecuteTime": {
     "end_time": "2022-04-28T15:16:58.560247Z",
     "start_time": "2022-04-28T15:16:58.557312Z"
    }
   },
   "outputs": [
    {
     "name": "stdout",
     "output_type": "stream",
     "text": [
      ".. _breast_cancer_dataset:\n",
      "\n",
      "Breast cancer wisconsin (diagnostic) dataset\n",
      "--------------------------------------------\n",
      "\n",
      "**Data Set Characteristics:**\n",
      "\n",
      "    :Number of Instances: 569\n",
      "\n",
      "    :Number of Attributes: 30 numeric, predictive attributes and the class\n",
      "\n",
      "    :Attribute Information:\n",
      "        - radius (mean of distances from center to points on the perimeter)\n",
      "        - texture (standard deviation of gray-scale values)\n",
      "        - perimeter\n",
      "        - area\n",
      "        - smoothness (local variation in radius lengths)\n",
      "        - compactness (perimeter^2 / area - 1.0)\n",
      "        - concavity (severity of concave portions of the contour)\n",
      "        - concave points (number of concave portions of the contour)\n",
      "        - symmetry\n",
      "        - fractal dimension (\"coastline approximation\" - 1)\n",
      "\n",
      "        The mean, standard error, and \"worst\" or largest (mean of the three\n",
      "        worst/largest values) of these features were computed for each image,\n",
      "        resulting in 30 features.  For instance, field 0 is Mean Radius, field\n",
      "        10 is Radius SE, field 20 is Worst Radius.\n",
      "\n",
      "        - class:\n",
      "                - WDBC-Malignant\n",
      "                - WDBC-Benign\n",
      "\n",
      "    :Summary Statistics:\n",
      "\n",
      "    ===================================== ====== ======\n",
      "                                           Min    Max\n",
      "    ===================================== ====== ======\n",
      "    radius (mean):                        6.981  28.11\n",
      "    texture (mean):                       9.71   39.28\n",
      "    perimeter (mean):                     43.79  188.5\n",
      "    area (mean):                          143.5  2501.0\n",
      "    smoothness (mean):                    0.053  0.163\n",
      "    compactness (mean):                   0.019  0.345\n",
      "    concavity (mean):                     0.0    0.427\n",
      "    concave points (mean):                0.0    0.201\n",
      "    symmetry (mean):                      0.106  0.304\n",
      "    fractal dimension (mean):             0.05   0.097\n",
      "    radius (standard error):              0.112  2.873\n",
      "    texture (standard error):             0.36   4.885\n",
      "    perimeter (standard error):           0.757  21.98\n",
      "    area (standard error):                6.802  542.2\n",
      "    smoothness (standard error):          0.002  0.031\n",
      "    compactness (standard error):         0.002  0.135\n",
      "    concavity (standard error):           0.0    0.396\n",
      "    concave points (standard error):      0.0    0.053\n",
      "    symmetry (standard error):            0.008  0.079\n",
      "    fractal dimension (standard error):   0.001  0.03\n",
      "    radius (worst):                       7.93   36.04\n",
      "    texture (worst):                      12.02  49.54\n",
      "    perimeter (worst):                    50.41  251.2\n",
      "    area (worst):                         185.2  4254.0\n",
      "    smoothness (worst):                   0.071  0.223\n",
      "    compactness (worst):                  0.027  1.058\n",
      "    concavity (worst):                    0.0    1.252\n",
      "    concave points (worst):               0.0    0.291\n",
      "    symmetry (worst):                     0.156  0.664\n",
      "    fractal dimension (worst):            0.055  0.208\n",
      "    ===================================== ====== ======\n",
      "\n",
      "    :Missing Attribute Values: None\n",
      "\n",
      "    :Class Distribution: 212 - Malignant, 357 - Benign\n",
      "\n",
      "    :Creator:  Dr. William H. Wolberg, W. Nick Street, Olvi L. Mangasarian\n",
      "\n",
      "    :Donor: Nick Street\n",
      "\n",
      "    :Date: November, 1995\n",
      "\n",
      "This is a copy of UCI ML Breast Cancer Wisconsin (Diagnostic) datasets.\n",
      "https://goo.gl/U2Uwz2\n",
      "\n",
      "Features are computed from a digitized image of a fine needle\n",
      "aspirate (FNA) of a breast mass.  They describe\n",
      "characteristics of the cell nuclei present in the image.\n",
      "\n",
      "Separating plane described above was obtained using\n",
      "Multisurface Method-Tree (MSM-T) [K. P. Bennett, \"Decision Tree\n",
      "Construction Via Linear Programming.\" Proceedings of the 4th\n",
      "Midwest Artificial Intelligence and Cognitive Science Society,\n",
      "pp. 97-101, 1992], a classification method which uses linear\n",
      "programming to construct a decision tree.  Relevant features\n",
      "were selected using an exhaustive search in the space of 1-4\n",
      "features and 1-3 separating planes.\n",
      "\n",
      "The actual linear program used to obtain the separating plane\n",
      "in the 3-dimensional space is that described in:\n",
      "[K. P. Bennett and O. L. Mangasarian: \"Robust Linear\n",
      "Programming Discrimination of Two Linearly Inseparable Sets\",\n",
      "Optimization Methods and Software 1, 1992, 23-34].\n",
      "\n",
      "This database is also available through the UW CS ftp server:\n",
      "\n",
      "ftp ftp.cs.wisc.edu\n",
      "cd math-prog/cpo-dataset/machine-learn/WDBC/\n",
      "\n",
      ".. topic:: References\n",
      "\n",
      "   - W.N. Street, W.H. Wolberg and O.L. Mangasarian. Nuclear feature extraction \n",
      "     for breast tumor diagnosis. IS&T/SPIE 1993 International Symposium on \n",
      "     Electronic Imaging: Science and Technology, volume 1905, pages 861-870,\n",
      "     San Jose, CA, 1993.\n",
      "   - O.L. Mangasarian, W.N. Street and W.H. Wolberg. Breast cancer diagnosis and \n",
      "     prognosis via linear programming. Operations Research, 43(4), pages 570-577, \n",
      "     July-August 1995.\n",
      "   - W.H. Wolberg, W.N. Street, and O.L. Mangasarian. Machine learning techniques\n",
      "     to diagnose breast cancer from fine-needle aspirates. Cancer Letters 77 (1994) \n",
      "     163-171.\n"
     ]
    }
   ],
   "source": [
    "print(data_all.DESCR)"
   ]
  },
  {
   "cell_type": "markdown",
   "metadata": {},
   "source": [
    "**Preparing the data frame of all features**"
   ]
  },
  {
   "cell_type": "code",
   "execution_count": 5,
   "metadata": {
    "ExecuteTime": {
     "end_time": "2022-04-28T15:17:02.429076Z",
     "start_time": "2022-04-28T15:17:02.425335Z"
    }
   },
   "outputs": [
    {
     "data": {
      "text/plain": [
       "array(['mean radius', 'mean texture', 'mean perimeter', 'mean area',\n",
       "       'mean smoothness', 'mean compactness', 'mean concavity',\n",
       "       'mean concave points', 'mean symmetry', 'mean fractal dimension',\n",
       "       'radius error', 'texture error', 'perimeter error', 'area error',\n",
       "       'smoothness error', 'compactness error', 'concavity error',\n",
       "       'concave points error', 'symmetry error',\n",
       "       'fractal dimension error', 'worst radius', 'worst texture',\n",
       "       'worst perimeter', 'worst area', 'worst smoothness',\n",
       "       'worst compactness', 'worst concavity', 'worst concave points',\n",
       "       'worst symmetry', 'worst fractal dimension'], dtype='<U23')"
      ]
     },
     "execution_count": 5,
     "metadata": {},
     "output_type": "execute_result"
    }
   ],
   "source": [
    "data_all.feature_names"
   ]
  },
  {
   "cell_type": "code",
   "execution_count": 6,
   "metadata": {
    "ExecuteTime": {
     "end_time": "2022-04-28T15:17:12.148012Z",
     "start_time": "2022-04-28T15:17:12.104962Z"
    }
   },
   "outputs": [
    {
     "data": {
      "text/html": [
       "<div>\n",
       "<style scoped>\n",
       "    .dataframe tbody tr th:only-of-type {\n",
       "        vertical-align: middle;\n",
       "    }\n",
       "\n",
       "    .dataframe tbody tr th {\n",
       "        vertical-align: top;\n",
       "    }\n",
       "\n",
       "    .dataframe thead th {\n",
       "        text-align: right;\n",
       "    }\n",
       "</style>\n",
       "<table border=\"1\" class=\"dataframe\">\n",
       "  <thead>\n",
       "    <tr style=\"text-align: right;\">\n",
       "      <th></th>\n",
       "      <th>mean radius</th>\n",
       "      <th>mean texture</th>\n",
       "      <th>mean perimeter</th>\n",
       "      <th>mean area</th>\n",
       "      <th>mean smoothness</th>\n",
       "      <th>mean compactness</th>\n",
       "      <th>mean concavity</th>\n",
       "      <th>mean concave points</th>\n",
       "      <th>mean symmetry</th>\n",
       "      <th>mean fractal dimension</th>\n",
       "      <th>...</th>\n",
       "      <th>worst radius</th>\n",
       "      <th>worst texture</th>\n",
       "      <th>worst perimeter</th>\n",
       "      <th>worst area</th>\n",
       "      <th>worst smoothness</th>\n",
       "      <th>worst compactness</th>\n",
       "      <th>worst concavity</th>\n",
       "      <th>worst concave points</th>\n",
       "      <th>worst symmetry</th>\n",
       "      <th>worst fractal dimension</th>\n",
       "    </tr>\n",
       "  </thead>\n",
       "  <tbody>\n",
       "    <tr>\n",
       "      <th>421</th>\n",
       "      <td>14.69</td>\n",
       "      <td>13.98</td>\n",
       "      <td>98.22</td>\n",
       "      <td>656.1</td>\n",
       "      <td>0.10310</td>\n",
       "      <td>0.18360</td>\n",
       "      <td>0.14500</td>\n",
       "      <td>0.06300</td>\n",
       "      <td>0.2086</td>\n",
       "      <td>0.07406</td>\n",
       "      <td>...</td>\n",
       "      <td>16.46</td>\n",
       "      <td>18.34</td>\n",
       "      <td>114.10</td>\n",
       "      <td>809.2</td>\n",
       "      <td>0.13120</td>\n",
       "      <td>0.36350</td>\n",
       "      <td>0.3219</td>\n",
       "      <td>0.11080</td>\n",
       "      <td>0.2827</td>\n",
       "      <td>0.09208</td>\n",
       "    </tr>\n",
       "    <tr>\n",
       "      <th>47</th>\n",
       "      <td>13.17</td>\n",
       "      <td>18.66</td>\n",
       "      <td>85.98</td>\n",
       "      <td>534.6</td>\n",
       "      <td>0.11580</td>\n",
       "      <td>0.12310</td>\n",
       "      <td>0.12260</td>\n",
       "      <td>0.07340</td>\n",
       "      <td>0.2128</td>\n",
       "      <td>0.06777</td>\n",
       "      <td>...</td>\n",
       "      <td>15.67</td>\n",
       "      <td>27.95</td>\n",
       "      <td>102.80</td>\n",
       "      <td>759.4</td>\n",
       "      <td>0.17860</td>\n",
       "      <td>0.41660</td>\n",
       "      <td>0.5006</td>\n",
       "      <td>0.20880</td>\n",
       "      <td>0.3900</td>\n",
       "      <td>0.11790</td>\n",
       "    </tr>\n",
       "    <tr>\n",
       "      <th>292</th>\n",
       "      <td>12.95</td>\n",
       "      <td>16.02</td>\n",
       "      <td>83.14</td>\n",
       "      <td>513.7</td>\n",
       "      <td>0.10050</td>\n",
       "      <td>0.07943</td>\n",
       "      <td>0.06155</td>\n",
       "      <td>0.03370</td>\n",
       "      <td>0.1730</td>\n",
       "      <td>0.06470</td>\n",
       "      <td>...</td>\n",
       "      <td>13.74</td>\n",
       "      <td>19.93</td>\n",
       "      <td>88.81</td>\n",
       "      <td>585.4</td>\n",
       "      <td>0.14830</td>\n",
       "      <td>0.20680</td>\n",
       "      <td>0.2241</td>\n",
       "      <td>0.10560</td>\n",
       "      <td>0.3380</td>\n",
       "      <td>0.09584</td>\n",
       "    </tr>\n",
       "    <tr>\n",
       "      <th>186</th>\n",
       "      <td>18.31</td>\n",
       "      <td>18.58</td>\n",
       "      <td>118.60</td>\n",
       "      <td>1041.0</td>\n",
       "      <td>0.08588</td>\n",
       "      <td>0.08468</td>\n",
       "      <td>0.08169</td>\n",
       "      <td>0.05814</td>\n",
       "      <td>0.1621</td>\n",
       "      <td>0.05425</td>\n",
       "      <td>...</td>\n",
       "      <td>21.31</td>\n",
       "      <td>26.36</td>\n",
       "      <td>139.20</td>\n",
       "      <td>1410.0</td>\n",
       "      <td>0.12340</td>\n",
       "      <td>0.24450</td>\n",
       "      <td>0.3538</td>\n",
       "      <td>0.15710</td>\n",
       "      <td>0.3206</td>\n",
       "      <td>0.06938</td>\n",
       "    </tr>\n",
       "    <tr>\n",
       "      <th>414</th>\n",
       "      <td>15.13</td>\n",
       "      <td>29.81</td>\n",
       "      <td>96.71</td>\n",
       "      <td>719.5</td>\n",
       "      <td>0.08320</td>\n",
       "      <td>0.04605</td>\n",
       "      <td>0.04686</td>\n",
       "      <td>0.02739</td>\n",
       "      <td>0.1852</td>\n",
       "      <td>0.05294</td>\n",
       "      <td>...</td>\n",
       "      <td>17.26</td>\n",
       "      <td>36.91</td>\n",
       "      <td>110.10</td>\n",
       "      <td>931.4</td>\n",
       "      <td>0.11480</td>\n",
       "      <td>0.09866</td>\n",
       "      <td>0.1547</td>\n",
       "      <td>0.06575</td>\n",
       "      <td>0.3233</td>\n",
       "      <td>0.06165</td>\n",
       "    </tr>\n",
       "    <tr>\n",
       "      <th>132</th>\n",
       "      <td>16.16</td>\n",
       "      <td>21.54</td>\n",
       "      <td>106.20</td>\n",
       "      <td>809.8</td>\n",
       "      <td>0.10080</td>\n",
       "      <td>0.12840</td>\n",
       "      <td>0.10430</td>\n",
       "      <td>0.05613</td>\n",
       "      <td>0.2160</td>\n",
       "      <td>0.05891</td>\n",
       "      <td>...</td>\n",
       "      <td>19.47</td>\n",
       "      <td>31.68</td>\n",
       "      <td>129.70</td>\n",
       "      <td>1175.0</td>\n",
       "      <td>0.13950</td>\n",
       "      <td>0.30550</td>\n",
       "      <td>0.2992</td>\n",
       "      <td>0.13120</td>\n",
       "      <td>0.3480</td>\n",
       "      <td>0.07619</td>\n",
       "    </tr>\n",
       "    <tr>\n",
       "      <th>161</th>\n",
       "      <td>19.19</td>\n",
       "      <td>15.94</td>\n",
       "      <td>126.30</td>\n",
       "      <td>1157.0</td>\n",
       "      <td>0.08694</td>\n",
       "      <td>0.11850</td>\n",
       "      <td>0.11930</td>\n",
       "      <td>0.09667</td>\n",
       "      <td>0.1741</td>\n",
       "      <td>0.05176</td>\n",
       "      <td>...</td>\n",
       "      <td>22.03</td>\n",
       "      <td>17.81</td>\n",
       "      <td>146.60</td>\n",
       "      <td>1495.0</td>\n",
       "      <td>0.11240</td>\n",
       "      <td>0.20160</td>\n",
       "      <td>0.2264</td>\n",
       "      <td>0.17770</td>\n",
       "      <td>0.2443</td>\n",
       "      <td>0.06251</td>\n",
       "    </tr>\n",
       "    <tr>\n",
       "      <th>197</th>\n",
       "      <td>18.08</td>\n",
       "      <td>21.84</td>\n",
       "      <td>117.40</td>\n",
       "      <td>1024.0</td>\n",
       "      <td>0.07371</td>\n",
       "      <td>0.08642</td>\n",
       "      <td>0.11030</td>\n",
       "      <td>0.05778</td>\n",
       "      <td>0.1770</td>\n",
       "      <td>0.05340</td>\n",
       "      <td>...</td>\n",
       "      <td>19.76</td>\n",
       "      <td>24.70</td>\n",
       "      <td>129.10</td>\n",
       "      <td>1228.0</td>\n",
       "      <td>0.08822</td>\n",
       "      <td>0.19630</td>\n",
       "      <td>0.2535</td>\n",
       "      <td>0.09181</td>\n",
       "      <td>0.2369</td>\n",
       "      <td>0.06558</td>\n",
       "    </tr>\n",
       "  </tbody>\n",
       "</table>\n",
       "<p>8 rows × 30 columns</p>\n",
       "</div>"
      ],
      "text/plain": [
       "     mean radius  mean texture  mean perimeter  mean area  mean smoothness  \\\n",
       "421        14.69         13.98           98.22      656.1          0.10310   \n",
       "47         13.17         18.66           85.98      534.6          0.11580   \n",
       "292        12.95         16.02           83.14      513.7          0.10050   \n",
       "186        18.31         18.58          118.60     1041.0          0.08588   \n",
       "414        15.13         29.81           96.71      719.5          0.08320   \n",
       "132        16.16         21.54          106.20      809.8          0.10080   \n",
       "161        19.19         15.94          126.30     1157.0          0.08694   \n",
       "197        18.08         21.84          117.40     1024.0          0.07371   \n",
       "\n",
       "     mean compactness  mean concavity  mean concave points  mean symmetry  \\\n",
       "421           0.18360         0.14500              0.06300         0.2086   \n",
       "47            0.12310         0.12260              0.07340         0.2128   \n",
       "292           0.07943         0.06155              0.03370         0.1730   \n",
       "186           0.08468         0.08169              0.05814         0.1621   \n",
       "414           0.04605         0.04686              0.02739         0.1852   \n",
       "132           0.12840         0.10430              0.05613         0.2160   \n",
       "161           0.11850         0.11930              0.09667         0.1741   \n",
       "197           0.08642         0.11030              0.05778         0.1770   \n",
       "\n",
       "     mean fractal dimension  ...  worst radius  worst texture  \\\n",
       "421                 0.07406  ...         16.46          18.34   \n",
       "47                  0.06777  ...         15.67          27.95   \n",
       "292                 0.06470  ...         13.74          19.93   \n",
       "186                 0.05425  ...         21.31          26.36   \n",
       "414                 0.05294  ...         17.26          36.91   \n",
       "132                 0.05891  ...         19.47          31.68   \n",
       "161                 0.05176  ...         22.03          17.81   \n",
       "197                 0.05340  ...         19.76          24.70   \n",
       "\n",
       "     worst perimeter  worst area  worst smoothness  worst compactness  \\\n",
       "421           114.10       809.2           0.13120            0.36350   \n",
       "47            102.80       759.4           0.17860            0.41660   \n",
       "292            88.81       585.4           0.14830            0.20680   \n",
       "186           139.20      1410.0           0.12340            0.24450   \n",
       "414           110.10       931.4           0.11480            0.09866   \n",
       "132           129.70      1175.0           0.13950            0.30550   \n",
       "161           146.60      1495.0           0.11240            0.20160   \n",
       "197           129.10      1228.0           0.08822            0.19630   \n",
       "\n",
       "     worst concavity  worst concave points  worst symmetry  \\\n",
       "421           0.3219               0.11080          0.2827   \n",
       "47            0.5006               0.20880          0.3900   \n",
       "292           0.2241               0.10560          0.3380   \n",
       "186           0.3538               0.15710          0.3206   \n",
       "414           0.1547               0.06575          0.3233   \n",
       "132           0.2992               0.13120          0.3480   \n",
       "161           0.2264               0.17770          0.2443   \n",
       "197           0.2535               0.09181          0.2369   \n",
       "\n",
       "     worst fractal dimension  \n",
       "421                  0.09208  \n",
       "47                   0.11790  \n",
       "292                  0.09584  \n",
       "186                  0.06938  \n",
       "414                  0.06165  \n",
       "132                  0.07619  \n",
       "161                  0.06251  \n",
       "197                  0.06558  \n",
       "\n",
       "[8 rows x 30 columns]"
      ]
     },
     "execution_count": 6,
     "metadata": {},
     "output_type": "execute_result"
    }
   ],
   "source": [
    "features = pd.DataFrame(data=data_all.data, columns=data_all.feature_names)\n",
    "features.sample(n=8, random_state=1)"
   ]
  },
  {
   "cell_type": "markdown",
   "metadata": {},
   "source": [
    "**Preparing the data frame of the target**"
   ]
  },
  {
   "cell_type": "code",
   "execution_count": 7,
   "metadata": {
    "ExecuteTime": {
     "end_time": "2022-04-28T15:17:23.326379Z",
     "start_time": "2022-04-28T15:17:23.318893Z"
    }
   },
   "outputs": [
    {
     "data": {
      "text/html": [
       "<div>\n",
       "<style scoped>\n",
       "    .dataframe tbody tr th:only-of-type {\n",
       "        vertical-align: middle;\n",
       "    }\n",
       "\n",
       "    .dataframe tbody tr th {\n",
       "        vertical-align: top;\n",
       "    }\n",
       "\n",
       "    .dataframe thead th {\n",
       "        text-align: right;\n",
       "    }\n",
       "</style>\n",
       "<table border=\"1\" class=\"dataframe\">\n",
       "  <thead>\n",
       "    <tr style=\"text-align: right;\">\n",
       "      <th></th>\n",
       "      <th>tumor type</th>\n",
       "    </tr>\n",
       "  </thead>\n",
       "  <tbody>\n",
       "    <tr>\n",
       "      <th>421</th>\n",
       "      <td>1</td>\n",
       "    </tr>\n",
       "    <tr>\n",
       "      <th>47</th>\n",
       "      <td>0</td>\n",
       "    </tr>\n",
       "    <tr>\n",
       "      <th>292</th>\n",
       "      <td>1</td>\n",
       "    </tr>\n",
       "    <tr>\n",
       "      <th>186</th>\n",
       "      <td>0</td>\n",
       "    </tr>\n",
       "    <tr>\n",
       "      <th>414</th>\n",
       "      <td>0</td>\n",
       "    </tr>\n",
       "    <tr>\n",
       "      <th>132</th>\n",
       "      <td>0</td>\n",
       "    </tr>\n",
       "    <tr>\n",
       "      <th>161</th>\n",
       "      <td>0</td>\n",
       "    </tr>\n",
       "    <tr>\n",
       "      <th>197</th>\n",
       "      <td>0</td>\n",
       "    </tr>\n",
       "  </tbody>\n",
       "</table>\n",
       "</div>"
      ],
      "text/plain": [
       "     tumor type\n",
       "421           1\n",
       "47            0\n",
       "292           1\n",
       "186           0\n",
       "414           0\n",
       "132           0\n",
       "161           0\n",
       "197           0"
      ]
     },
     "execution_count": 7,
     "metadata": {},
     "output_type": "execute_result"
    }
   ],
   "source": [
    "target = pd.DataFrame(data=data_all.target, columns=['tumor type'])\n",
    "target.sample(n=8, random_state=1)"
   ]
  },
  {
   "cell_type": "code",
   "execution_count": 8,
   "metadata": {
    "ExecuteTime": {
     "end_time": "2022-04-28T15:17:25.977255Z",
     "start_time": "2022-04-28T15:17:25.973417Z"
    }
   },
   "outputs": [
    {
     "data": {
      "text/plain": [
       "array(['malignant', 'benign'], dtype='<U9')"
      ]
     },
     "execution_count": 8,
     "metadata": {},
     "output_type": "execute_result"
    }
   ],
   "source": [
    "data_all.target_names"
   ]
  },
  {
   "cell_type": "markdown",
   "metadata": {},
   "source": [
    "**To make it easier to do visual check of the data, we remove the encoding**"
   ]
  },
  {
   "cell_type": "code",
   "execution_count": 9,
   "metadata": {
    "ExecuteTime": {
     "end_time": "2022-04-28T15:17:27.312278Z",
     "start_time": "2022-04-28T15:17:27.303943Z"
    }
   },
   "outputs": [
    {
     "data": {
      "text/html": [
       "<div>\n",
       "<style scoped>\n",
       "    .dataframe tbody tr th:only-of-type {\n",
       "        vertical-align: middle;\n",
       "    }\n",
       "\n",
       "    .dataframe tbody tr th {\n",
       "        vertical-align: top;\n",
       "    }\n",
       "\n",
       "    .dataframe thead th {\n",
       "        text-align: right;\n",
       "    }\n",
       "</style>\n",
       "<table border=\"1\" class=\"dataframe\">\n",
       "  <thead>\n",
       "    <tr style=\"text-align: right;\">\n",
       "      <th></th>\n",
       "      <th>tumor type</th>\n",
       "    </tr>\n",
       "  </thead>\n",
       "  <tbody>\n",
       "    <tr>\n",
       "      <th>421</th>\n",
       "      <td>benign</td>\n",
       "    </tr>\n",
       "    <tr>\n",
       "      <th>47</th>\n",
       "      <td>malignant</td>\n",
       "    </tr>\n",
       "    <tr>\n",
       "      <th>292</th>\n",
       "      <td>benign</td>\n",
       "    </tr>\n",
       "    <tr>\n",
       "      <th>186</th>\n",
       "      <td>malignant</td>\n",
       "    </tr>\n",
       "    <tr>\n",
       "      <th>414</th>\n",
       "      <td>malignant</td>\n",
       "    </tr>\n",
       "    <tr>\n",
       "      <th>132</th>\n",
       "      <td>malignant</td>\n",
       "    </tr>\n",
       "    <tr>\n",
       "      <th>161</th>\n",
       "      <td>malignant</td>\n",
       "    </tr>\n",
       "    <tr>\n",
       "      <th>197</th>\n",
       "      <td>malignant</td>\n",
       "    </tr>\n",
       "  </tbody>\n",
       "</table>\n",
       "</div>"
      ],
      "text/plain": [
       "    tumor type\n",
       "421     benign\n",
       "47   malignant\n",
       "292     benign\n",
       "186  malignant\n",
       "414  malignant\n",
       "132  malignant\n",
       "161  malignant\n",
       "197  malignant"
      ]
     },
     "execution_count": 9,
     "metadata": {},
     "output_type": "execute_result"
    }
   ],
   "source": [
    "target = target.replace({0:data_all.target_names[0], 1:data_all.target_names[1]})\n",
    "target.sample(n=8, random_state=1)"
   ]
  },
  {
   "cell_type": "markdown",
   "metadata": {},
   "source": [
    "## Subject"
   ]
  },
  {
   "cell_type": "markdown",
   "metadata": {},
   "source": [
    "We have here a large data set that could help to predict if a tumor is benign or malignant based on its characteristics. In this work, we will focus on a small number of predictors that we will use to train and assess logistic regressions.\n",
    "\n",
    "<font color=red><b>Questions in red have to be answered only after lecture session 7 (classification assessment).</font>\n",
    "\n",
    "* We check at first if the tumor radius is a good predictor for breast cancer.\n",
    "  * Make data exploration on mean radius, taking into account the target class attributions (examples: density plots or boxplots for each tumor type). Do you think it can make an good predictor?\n",
    "  * Encode the target and plot it with respect to mean radius.\n",
    "  * Do a train-test split and train a logistic regression.\n",
    "  * On your latter plot, add the curve of the probability $P\\left( Y=1 \\left| X=x \\right. \\right)$. Here $Y$ is the tumor type and $x$ is the mean radius.\n",
    "  * According to your model, what is the minimum value for mean radius for considering that the tumor is malignant? Compute prediction of class attribution (tumor type) for several values of mean radius to check your intuition.\n",
    "  * <font color=red>Compute and display the confusion matrix. Compute the accuracy, precision and recall \"by hand\" from the confusion matrix.</font> \n",
    "  * <font color=red>Imagine that we want to make the diagnosis of breast cancer to be able to treat it if necessary. Should we better focus on increasing the recall or the precision of the prediction? And why? How can we adapt the sensibility of the prediction?</font> \n",
    "* We decide to add an extra predictor to our model. \n",
    "  * Inspect the data in order to tell —  between mean texture, mean perimeter, and mean area — which is the most relevant predictor to choose (in addition to mean radius).\n",
    "  * Re-train your logistic regression with your two predictors (mean radius and the one you have picked).\n",
    "  * <font color=red>How have the classification performances increased?</font> \n",
    "* Comparison of the two models: \n",
    "  * <font color=red>Plot the ROC curves of the two previous models and make the comparison.</font> \n",
    "  * <font color=red>Compute the LogLoss values of the two previous models and make the comparison.</font> "
   ]
  },
  {
   "cell_type": "markdown",
   "metadata": {},
   "source": [
    "# Solution"
   ]
  },
  {
   "cell_type": "markdown",
   "metadata": {},
   "source": [
    "We check at first if the tumor radius is a good predictor for breast cancer.\n",
    "* Make data exploration on mean radius, taking into account the target class attributions (examples: density plots or boxplots for each tumor type). Do you think it can make an good predictor?"
   ]
  },
  {
   "cell_type": "code",
   "execution_count": 10,
   "metadata": {
    "ExecuteTime": {
     "end_time": "2022-04-28T15:17:36.738196Z",
     "start_time": "2022-04-28T15:17:35.032049Z"
    }
   },
   "outputs": [
    {
     "data": {
      "image/png": "[encoded data removed]",
      "text/plain": [
       "<Figure size 1008x360 with 2 Axes>"
      ]
     },
     "metadata": {
      "needs_background": "light"
     },
     "output_type": "display_data"
    }
   ],
   "source": [
    "feature_name = 'mean radius'\n",
    "\n",
    "fig, axes = plt.subplots(nrows=1, ncols=2, figsize=(14, 5))\n",
    "\n",
    "# Plot boxplot on first figure\n",
    "import seaborn as sns\n",
    "sns.boxplot(x=target['tumor type'], y=feature_name, data=features, ax=axes[0], palette=['red', 'green'])\n",
    "\n",
    "# Plot densities on second figure\n",
    "for i, feature_value in enumerate(['malignant', 'benign']):\n",
    "    (features[feature_name][target['tumor type']==feature_value]).plot(kind='density', c=['red', 'green'][i], label=feature_value, ax=axes[1])\n",
    "axes[1].legend(title=target.columns.values[0])\n",
    "axes[1].set_xlabel(feature_name)\n",
    "\n",
    "plt.show()"
   ]
  },
  {
   "cell_type": "markdown",
   "metadata": {},
   "source": [
    "The distribution of mean radius is clearly different for malignant and benign tumors so it seems that mean radius can be a good predictor."
   ]
  },
  {
   "cell_type": "markdown",
   "metadata": {},
   "source": [
    "* Encode the target and plot it with respect to mean radius."
   ]
  },
  {
   "cell_type": "code",
   "execution_count": 11,
   "metadata": {
    "ExecuteTime": {
     "end_time": "2022-04-28T15:17:43.488359Z",
     "start_time": "2022-04-28T15:17:43.485163Z"
    }
   },
   "outputs": [],
   "source": [
    "from sklearn.preprocessing import LabelEncoder\n",
    "label_encoder = LabelEncoder()\n",
    "y = label_encoder.fit_transform(target.values.reshape(-1,))"
   ]
  },
  {
   "cell_type": "code",
   "execution_count": 12,
   "metadata": {
    "ExecuteTime": {
     "end_time": "2022-04-28T15:17:43.710018Z",
     "start_time": "2022-04-28T15:17:43.702805Z"
    }
   },
   "outputs": [
    {
     "data": {
      "text/html": [
       "<div>\n",
       "<style scoped>\n",
       "    .dataframe tbody tr th:only-of-type {\n",
       "        vertical-align: middle;\n",
       "    }\n",
       "\n",
       "    .dataframe tbody tr th {\n",
       "        vertical-align: top;\n",
       "    }\n",
       "\n",
       "    .dataframe thead th {\n",
       "        text-align: right;\n",
       "    }\n",
       "</style>\n",
       "<table border=\"1\" class=\"dataframe\">\n",
       "  <thead>\n",
       "    <tr style=\"text-align: right;\">\n",
       "      <th></th>\n",
       "      <th>tumor type</th>\n",
       "    </tr>\n",
       "  </thead>\n",
       "  <tbody>\n",
       "    <tr>\n",
       "      <th>421</th>\n",
       "      <td>benign</td>\n",
       "    </tr>\n",
       "    <tr>\n",
       "      <th>47</th>\n",
       "      <td>malignant</td>\n",
       "    </tr>\n",
       "    <tr>\n",
       "      <th>292</th>\n",
       "      <td>benign</td>\n",
       "    </tr>\n",
       "    <tr>\n",
       "      <th>186</th>\n",
       "      <td>malignant</td>\n",
       "    </tr>\n",
       "    <tr>\n",
       "      <th>414</th>\n",
       "      <td>malignant</td>\n",
       "    </tr>\n",
       "    <tr>\n",
       "      <th>132</th>\n",
       "      <td>malignant</td>\n",
       "    </tr>\n",
       "    <tr>\n",
       "      <th>161</th>\n",
       "      <td>malignant</td>\n",
       "    </tr>\n",
       "    <tr>\n",
       "      <th>197</th>\n",
       "      <td>malignant</td>\n",
       "    </tr>\n",
       "  </tbody>\n",
       "</table>\n",
       "</div>"
      ],
      "text/plain": [
       "    tumor type\n",
       "421     benign\n",
       "47   malignant\n",
       "292     benign\n",
       "186  malignant\n",
       "414  malignant\n",
       "132  malignant\n",
       "161  malignant\n",
       "197  malignant"
      ]
     },
     "execution_count": 12,
     "metadata": {},
     "output_type": "execute_result"
    }
   ],
   "source": [
    "target.sample(n=8, random_state=1)"
   ]
  },
  {
   "cell_type": "code",
   "execution_count": 13,
   "metadata": {
    "ExecuteTime": {
     "end_time": "2022-04-28T15:17:48.544379Z",
     "start_time": "2022-04-28T15:17:48.537898Z"
    }
   },
   "outputs": [
    {
     "data": {
      "text/html": [
       "<div>\n",
       "<style scoped>\n",
       "    .dataframe tbody tr th:only-of-type {\n",
       "        vertical-align: middle;\n",
       "    }\n",
       "\n",
       "    .dataframe tbody tr th {\n",
       "        vertical-align: top;\n",
       "    }\n",
       "\n",
       "    .dataframe thead th {\n",
       "        text-align: right;\n",
       "    }\n",
       "</style>\n",
       "<table border=\"1\" class=\"dataframe\">\n",
       "  <thead>\n",
       "    <tr style=\"text-align: right;\">\n",
       "      <th></th>\n",
       "      <th>0</th>\n",
       "    </tr>\n",
       "  </thead>\n",
       "  <tbody>\n",
       "    <tr>\n",
       "      <th>421</th>\n",
       "      <td>0</td>\n",
       "    </tr>\n",
       "    <tr>\n",
       "      <th>47</th>\n",
       "      <td>1</td>\n",
       "    </tr>\n",
       "    <tr>\n",
       "      <th>292</th>\n",
       "      <td>0</td>\n",
       "    </tr>\n",
       "    <tr>\n",
       "      <th>186</th>\n",
       "      <td>1</td>\n",
       "    </tr>\n",
       "    <tr>\n",
       "      <th>414</th>\n",
       "      <td>1</td>\n",
       "    </tr>\n",
       "    <tr>\n",
       "      <th>132</th>\n",
       "      <td>1</td>\n",
       "    </tr>\n",
       "    <tr>\n",
       "      <th>161</th>\n",
       "      <td>1</td>\n",
       "    </tr>\n",
       "    <tr>\n",
       "      <th>197</th>\n",
       "      <td>1</td>\n",
       "    </tr>\n",
       "  </tbody>\n",
       "</table>\n",
       "</div>"
      ],
      "text/plain": [
       "     0\n",
       "421  0\n",
       "47   1\n",
       "292  0\n",
       "186  1\n",
       "414  1\n",
       "132  1\n",
       "161  1\n",
       "197  1"
      ]
     },
     "execution_count": 13,
     "metadata": {},
     "output_type": "execute_result"
    }
   ],
   "source": [
    "pd.DataFrame(y).sample(n=8, random_state=1)"
   ]
  },
  {
   "cell_type": "code",
   "execution_count": 14,
   "metadata": {
    "ExecuteTime": {
     "end_time": "2022-04-28T15:18:05.543027Z",
     "start_time": "2022-04-28T15:18:05.438419Z"
    }
   },
   "outputs": [
    {
     "data": {
      "image/png": "[encoded data removed]",
      "text/plain": [
       "<Figure size 800x480 with 1 Axes>"
      ]
     },
     "metadata": {
      "needs_background": "light"
     },
     "output_type": "display_data"
    }
   ],
   "source": [
    "plt.figure(figsize=(10,6), dpi= 80)\n",
    "plt.scatter(features[feature_name], y)\n",
    "plt.xlabel(feature_name)\n",
    "plt.ylabel(\"Tumor type\")\n",
    "plt.show()"
   ]
  },
  {
   "cell_type": "markdown",
   "metadata": {},
   "source": [
    "* Do a train-test split and train a logistic regression."
   ]
  },
  {
   "cell_type": "markdown",
   "metadata": {},
   "source": [
    "**Train-test split:**"
   ]
  },
  {
   "cell_type": "code",
   "execution_count": 15,
   "metadata": {
    "ExecuteTime": {
     "end_time": "2022-04-28T15:18:09.937059Z",
     "start_time": "2022-04-28T15:18:09.934161Z"
    }
   },
   "outputs": [],
   "source": [
    "X = features['mean radius'].values.reshape(-1,1)"
   ]
  },
  {
   "cell_type": "code",
   "execution_count": 16,
   "metadata": {
    "ExecuteTime": {
     "end_time": "2022-04-28T15:18:12.062539Z",
     "start_time": "2022-04-28T15:18:11.981082Z"
    }
   },
   "outputs": [],
   "source": [
    "from sklearn.model_selection import train_test_split\n",
    "X_train, X_test, y_train, y_test = train_test_split(X, y, test_size = 0.25, random_state = 0)"
   ]
  },
  {
   "cell_type": "markdown",
   "metadata": {},
   "source": [
    "**Feature scaling:**"
   ]
  },
  {
   "cell_type": "code",
   "execution_count": 17,
   "metadata": {
    "ExecuteTime": {
     "end_time": "2022-04-28T15:18:14.572235Z",
     "start_time": "2022-04-28T15:18:14.568553Z"
    }
   },
   "outputs": [],
   "source": [
    "from sklearn.preprocessing import StandardScaler\n",
    "sc = StandardScaler()\n",
    "X_train = sc.fit_transform(X_train)\n",
    "X_test = sc.transform(X_test)"
   ]
  },
  {
   "cell_type": "markdown",
   "metadata": {},
   "source": [
    "**Training the logistic regression model**"
   ]
  },
  {
   "cell_type": "code",
   "execution_count": 18,
   "metadata": {
    "ExecuteTime": {
     "end_time": "2022-04-28T15:18:16.481369Z",
     "start_time": "2022-04-28T15:18:16.297862Z"
    }
   },
   "outputs": [
    {
     "data": {
      "text/plain": [
       "LogisticRegression()"
      ]
     },
     "execution_count": 18,
     "metadata": {},
     "output_type": "execute_result"
    }
   ],
   "source": [
    "from sklearn.linear_model import LogisticRegression\n",
    "log_reg = LogisticRegression()\n",
    "log_reg.fit(X_train, y_train)"
   ]
  },
  {
   "cell_type": "markdown",
   "metadata": {},
   "source": [
    "* On your latter plot, add the curve of the probability $P\\left( Y=1 \\left| X=x \\right. \\right)$. Here $Y$ is the tumor type and $x$ is the mean radius."
   ]
  },
  {
   "cell_type": "code",
   "execution_count": 19,
   "metadata": {
    "ExecuteTime": {
     "end_time": "2022-04-28T15:18:32.098981Z",
     "start_time": "2022-04-28T15:18:32.095284Z"
    }
   },
   "outputs": [],
   "source": [
    "# We define a set of x values\n",
    "X_set = np.arange(0, 30, 0.1)\n",
    "X_set = X_set.reshape(-1,1)\n",
    "y_proba = log_reg.predict_proba(sc.transform(X_set))\n",
    "y_score = y_proba[:,1]"
   ]
  },
  {
   "cell_type": "code",
   "execution_count": 20,
   "metadata": {
    "ExecuteTime": {
     "end_time": "2022-04-28T15:18:32.538708Z",
     "start_time": "2022-04-28T15:18:32.388620Z"
    }
   },
   "outputs": [
    {
     "data": {
      "image/png": "[encoded data removed]",
      "text/plain": [
       "<Figure size 800x480 with 1 Axes>"
      ]
     },
     "metadata": {
      "needs_background": "light"
     },
     "output_type": "display_data"
    }
   ],
   "source": [
    "plt.figure(figsize=(10,6), dpi= 80)\n",
    "plt.scatter(features[feature_name], y, label='Observations')\n",
    "plt.plot(X_set, y_score, c='red', label='Predicted probabilty of being malignant')\n",
    "plt.xlim([5, 30])\n",
    "plt.xlabel(feature_name)\n",
    "plt.ylabel(\"Tumor type\")\n",
    "plt.legend()\n",
    "plt.grid()\n",
    "plt.show()"
   ]
  },
  {
   "cell_type": "markdown",
   "metadata": {},
   "source": [
    "* According to your model, what is the minimum value for mean radius for considering that the tumor is malignant? Compute prediction of class attribution (tumor type) for several values of mean radius to check your intuition."
   ]
  },
  {
   "cell_type": "markdown",
   "metadata": {},
   "source": [
    "On the graph above, we can see that the probability curve starts to be above 0.5 (i.e. prediction of malignant) for a value of mean radius between 14 and 15."
   ]
  },
  {
   "cell_type": "code",
   "execution_count": 21,
   "metadata": {
    "ExecuteTime": {
     "end_time": "2022-04-28T15:20:25.840427Z",
     "start_time": "2022-04-28T15:20:25.836718Z"
    }
   },
   "outputs": [
    {
     "name": "stdout",
     "output_type": "stream",
     "text": [
      "['benign']\n"
     ]
    }
   ],
   "source": [
    "print(label_encoder.inverse_transform(log_reg.predict(sc.transform([[14]]))))"
   ]
  },
  {
   "cell_type": "code",
   "execution_count": 22,
   "metadata": {
    "ExecuteTime": {
     "end_time": "2022-04-28T15:20:26.040947Z",
     "start_time": "2022-04-28T15:20:26.037375Z"
    }
   },
   "outputs": [
    {
     "name": "stdout",
     "output_type": "stream",
     "text": [
      "['malignant']\n"
     ]
    }
   ],
   "source": [
    "print(label_encoder.inverse_transform(log_reg.predict(sc.transform([[15]]))))"
   ]
  },
  {
   "cell_type": "markdown",
   "metadata": {},
   "source": [
    "* Compute and display the confusion matrix. Compute the accuracy, precision and recall \"by hand\" from the confusion matrix."
   ]
  },
  {
   "cell_type": "code",
   "execution_count": 23,
   "metadata": {
    "ExecuteTime": {
     "end_time": "2022-04-28T15:20:31.390329Z",
     "start_time": "2022-04-28T15:20:31.385658Z"
    }
   },
   "outputs": [
    {
     "name": "stdout",
     "output_type": "stream",
     "text": [
      "[[84  6]\n",
      " [ 8 45]]\n"
     ]
    }
   ],
   "source": [
    "from sklearn.metrics import confusion_matrix\n",
    "y_proba = log_reg.predict_proba(X_test)\n",
    "y_pred = log_reg.predict(X_test)\n",
    "cm = confusion_matrix(y_test, y_pred)\n",
    "print(cm)"
   ]
  },
  {
   "cell_type": "code",
   "execution_count": 24,
   "metadata": {
    "ExecuteTime": {
     "end_time": "2022-04-28T15:20:34.512980Z",
     "start_time": "2022-04-28T15:20:34.330978Z"
    }
   },
   "outputs": [
    {
     "data": {
      "image/png": "[encoded data removed]",
      "text/plain": [
       "<Figure size 432x288 with 2 Axes>"
      ]
     },
     "metadata": {
      "needs_background": "light"
     },
     "output_type": "display_data"
    }
   ],
   "source": [
    "from sklearn.metrics import ConfusionMatrixDisplay\n",
    "\n",
    "_ = ConfusionMatrixDisplay(cm, display_labels=[\"Benign\", \"Malignant\"]).plot(cmap='Reds')"
   ]
  },
  {
   "cell_type": "code",
   "execution_count": 26,
   "metadata": {
    "ExecuteTime": {
     "end_time": "2022-04-28T15:20:46.061771Z",
     "start_time": "2022-04-28T15:20:46.055346Z"
    }
   },
   "outputs": [
    {
     "name": "stdout",
     "output_type": "stream",
     "text": [
      "Accuracy (proportion of correct predictions) is 0.9\n",
      "Precision (proportion of true malignant among tumor type prediction) is 0.882\n",
      "Recall (proportion of true malignant that are correctly predicted) is 0.849\n",
      "F1 score (combination of prediction and recall) is 0.865\n"
     ]
    }
   ],
   "source": [
    "accuracy = (cm[0, 0] + cm[1, 1]) / cm.sum()\n",
    "precision = cm[1, 1] / (cm[0, 1]  + cm[1, 1])\n",
    "recall = cm[1, 1] / (cm[1, 0]  + cm[1, 1])\n",
    "f1 = 2 * precision * recall / (precision + recall)\n",
    "\n",
    "print('Accuracy (proportion of correct predictions) is ' + str(round(accuracy,2)))\n",
    "print('Precision (proportion of true malignant among tumor type prediction) is ' + str(round(precision,3)))\n",
    "print('Recall (proportion of true malignant that are correctly predicted) is ' + str(round(recall,3)))\n",
    "print('F1 score (combination of prediction and recall) is ' + str(round(f1, 3)))"
   ]
  },
  {
   "cell_type": "markdown",
   "metadata": {},
   "source": [
    "  * Imagine that we want to make the diagnosis of breast cancer to be able to treat it if necessary. Should we better focus on increasing the recall or the precision of the prediction? And why? How can we adapt the sensibility of the prediction?"
   ]
  },
  {
   "cell_type": "markdown",
   "metadata": {},
   "source": [
    "For medical diagnosis, it is often prefered to have the lowest number of false negatives (i.e. non detections) because it could be dramatic for people suffering from cancer not to be detected on time. In that context, we will focus in the recall and try to make it high. One way of doing this is to lower the detection threshold. Smaller tumors will predict cancer and it will increase the recall (less false negatives). In parallel, there will be more false positives (i.e. false alarms) but with further medial test, we can check if the detection is confirmed or not."
   ]
  },
  {
   "cell_type": "code",
   "execution_count": 27,
   "metadata": {
    "ExecuteTime": {
     "end_time": "2022-04-28T15:20:59.817929Z",
     "start_time": "2022-04-28T15:20:59.672177Z"
    }
   },
   "outputs": [
    {
     "name": "stdout",
     "output_type": "stream",
     "text": [
      "              precision    recall  f1-score   support\n",
      "\n",
      "           0       0.96      0.82      0.89        90\n",
      "           1       0.76      0.94      0.84        53\n",
      "\n",
      "    accuracy                           0.87       143\n",
      "   macro avg       0.86      0.88      0.86       143\n",
      "weighted avg       0.89      0.87      0.87       143\n",
      "\n"
     ]
    },
    {
     "data": {
      "image/png": "[encoded data removed]",
      "text/plain": [
       "<Figure size 432x288 with 2 Axes>"
      ]
     },
     "metadata": {
      "needs_background": "light"
     },
     "output_type": "display_data"
    }
   ],
   "source": [
    "from sklearn.metrics import confusion_matrix, ConfusionMatrixDisplay, classification_report\n",
    "\n",
    "threshold = 0.25\n",
    "y_pred_lower = (log_reg.predict_proba(X_test) > threshold)[:,1] * 1\n",
    "\n",
    "print(classification_report(y_test, y_pred_lower))\n",
    "confmat = confusion_matrix(y_test, y_pred_lower)\n",
    "_ = ConfusionMatrixDisplay(confmat, display_labels=label_encoder.classes_).plot()"
   ]
  },
  {
   "cell_type": "markdown",
   "metadata": {},
   "source": [
    "We decide to add an extra predictor to our model. "
   ]
  },
  {
   "cell_type": "markdown",
   "metadata": {},
   "source": [
    "  * Inspect the data in order to tell —  between mean texture, mean perimeter, and mean area — which is the most relevant predictor to choose (in addition to mean radius)."
   ]
  },
  {
   "cell_type": "code",
   "execution_count": 28,
   "metadata": {
    "ExecuteTime": {
     "end_time": "2022-04-28T15:21:44.950452Z",
     "start_time": "2022-04-28T15:21:44.582521Z"
    }
   },
   "outputs": [
    {
     "data": {
      "image/png": "[encoded data removed]",
      "text/plain": [
       "<Figure size 1360x240 with 3 Axes>"
      ]
     },
     "metadata": {
      "needs_background": "light"
     },
     "output_type": "display_data"
    }
   ],
   "source": [
    "feature_list = ['mean texture', 'mean perimeter', 'mean area']\n",
    "\n",
    "fig, axs = plt.subplots(1,len(feature_list), figsize=(17,3), dpi= 80)\n",
    "\n",
    "for i_feature, feature in enumerate(feature_list):\n",
    "    \n",
    "    for i_tumor_type, tumor_type in enumerate(['malignant', 'benign']):\n",
    "        features[feature][target['tumor type']==tumor_type].plot(kind='density', label=tumor_type, c=['red', 'green'][i_tumor_type], ax=axs[i_feature])\n",
    "    \n",
    "    axs[i_feature].set_xlabel(feature_list[i_feature])\n",
    "    axs[i_feature].legend(title='Tumor type')\n",
    "    \n",
    "plt.show()   "
   ]
  },
  {
   "cell_type": "code",
   "execution_count": 29,
   "metadata": {
    "ExecuteTime": {
     "end_time": "2022-04-28T15:21:45.116717Z",
     "start_time": "2022-04-28T15:21:44.952398Z"
    }
   },
   "outputs": [
    {
     "data": {
      "image/png": "[encoded data removed]",
      "text/plain": [
       "<Figure size 432x288 with 2 Axes>"
      ]
     },
     "metadata": {
      "needs_background": "light"
     },
     "output_type": "display_data"
    }
   ],
   "source": [
    "import seaborn as sns\n",
    "correlation = features[['mean radius', 'mean texture', 'mean perimeter', 'mean area']].corr()\n",
    "sns.heatmap(correlation, annot=True)\n",
    "plt.show()"
   ]
  },
  {
   "cell_type": "code",
   "execution_count": 30,
   "metadata": {
    "ExecuteTime": {
     "end_time": "2022-04-28T15:21:46.186022Z",
     "start_time": "2022-04-28T15:21:46.180768Z"
    }
   },
   "outputs": [
    {
     "data": {
      "text/plain": [
       "mean texture      0.323782\n",
       "mean perimeter    0.997855\n",
       "mean area         0.987357\n",
       "Name: mean radius, dtype: float64"
      ]
     },
     "execution_count": 30,
     "metadata": {},
     "output_type": "execute_result"
    }
   ],
   "source": [
    "correlation['mean radius'][feature_list]"
   ]
  },
  {
   "cell_type": "markdown",
   "metadata": {},
   "source": [
    "All three features are correlated with the target, so they could all be of interest. \n",
    "When we check the correlation with the predictor that is already in the model, we can tell that mean perimeter and mean area are highly correlated with mean radius, so probably they would not bring additional information the model. Mean texture seems not very correlated with mean radius, so probably it is the best predictor to add in order to improve the accuracy of the model."
   ]
  },
  {
   "cell_type": "markdown",
   "metadata": {},
   "source": [
    "  * Re-train your logistic regression with your two predictors (mean radius and the one you have picked)."
   ]
  },
  {
   "cell_type": "code",
   "execution_count": 31,
   "metadata": {
    "ExecuteTime": {
     "end_time": "2022-04-28T15:21:56.993642Z",
     "start_time": "2022-04-28T15:21:56.977915Z"
    }
   },
   "outputs": [
    {
     "data": {
      "text/plain": [
       "LogisticRegression()"
      ]
     },
     "execution_count": 31,
     "metadata": {},
     "output_type": "execute_result"
    }
   ],
   "source": [
    "X = features[['mean radius', 'mean texture']]\n",
    "\n",
    "# Test-train split\n",
    "X_train_2, X_test_2, y_train_2, y_test_2 = train_test_split(X, y, test_size = 0.25, random_state = 0)\n",
    "\n",
    "# Scaling\n",
    "sc_2 = StandardScaler()\n",
    "X_train_2 = sc_2.fit_transform(X_train_2)\n",
    "X_test_2 = sc_2.transform(X_test_2)\n",
    "\n",
    "# Training \n",
    "classifier_2 = LogisticRegression()\n",
    "classifier_2.fit(X_train_2, y_train_2)"
   ]
  },
  {
   "cell_type": "markdown",
   "metadata": {},
   "source": [
    "  * How have the classification performances increased?"
   ]
  },
  {
   "cell_type": "code",
   "execution_count": 32,
   "metadata": {
    "ExecuteTime": {
     "end_time": "2022-04-28T15:22:15.494137Z",
     "start_time": "2022-04-28T15:22:15.486157Z"
    }
   },
   "outputs": [
    {
     "name": "stdout",
     "output_type": "stream",
     "text": [
      "Accuracy (proportion of correct predictions) is 0.9\n",
      "Precision (proportion of true malignant among tumor type prediction) is 0.87\n",
      "Recall (proportion of true malignant that are correctly predicted) is 0.87\n",
      "F1 score (combination of prediction and recall) is 0.865\n"
     ]
    }
   ],
   "source": [
    "# Proba and prediction\n",
    "y_proba_2 = classifier_2.predict_proba(X_test_2)\n",
    "y_pred_2 = classifier_2.predict(X_test_2)\n",
    "\n",
    "# Confusion matrix\n",
    "cm_2 = confusion_matrix(y_test, y_pred_2)\n",
    "\n",
    "# Performances\n",
    "accuracy_2 = (cm_2[0, 0] + cm_2[1, 1]) / cm_2.sum()\n",
    "precision_2 = cm_2[1, 1] / (cm_2[0, 1]  + cm_2[1, 1])\n",
    "recall_2 = cm_2[1, 1] / (cm_2[1, 0]  + cm_2[1, 1])\n",
    "f1_2 = 2 * precision * recall / (precision + recall)\n",
    "\n",
    "print('Accuracy (proportion of correct predictions) is ' + str(round(accuracy_2,2)))\n",
    "print('Precision (proportion of true malignant among tumor type prediction) is ' + str(round(precision_2,2)))\n",
    "print('Recall (proportion of true malignant that are correctly predicted) is ' + str(round(recall_2,2)))\n",
    "print('F1 score (combination of prediction and recall) is ' + str(round(f1_2, 3)))"
   ]
  },
  {
   "cell_type": "markdown",
   "metadata": {},
   "source": [
    "The recall has slightly increased from 0.85 to 0.87."
   ]
  },
  {
   "cell_type": "markdown",
   "metadata": {},
   "source": [
    "  * Plot the ROC curves of the two previous models and make the comparison."
   ]
  },
  {
   "cell_type": "code",
   "execution_count": 33,
   "metadata": {
    "ExecuteTime": {
     "end_time": "2022-04-28T15:22:29.043743Z",
     "start_time": "2022-04-28T15:22:28.909861Z"
    }
   },
   "outputs": [
    {
     "data": {
      "image/png": "[encoded data removed]",
      "text/plain": [
       "<Figure size 504x504 with 1 Axes>"
      ]
     },
     "metadata": {
      "needs_background": "light"
     },
     "output_type": "display_data"
    }
   ],
   "source": [
    "from sklearn.metrics import roc_curve, roc_auc_score\n",
    "\n",
    "y_score = y_proba[:,1]\n",
    "y_score_2 = y_proba_2[:,1]\n",
    "\n",
    "plt.subplots(1, figsize=(7,7))\n",
    "plt.title('Receiver Operating Characteristic')\n",
    "# Plot ROC curve for first classifier\n",
    "false_positive_rate, true_positive_rate, threshold = roc_curve(y_test, y_score)\n",
    "plt.plot(false_positive_rate, true_positive_rate, c='red', linewidth=2, label='First classifier')\n",
    "# Plot ROC curve for second classifier\n",
    "false_positive_rate, true_positive_rate, threshold = roc_curve(y_test, y_score_2)\n",
    "plt.plot(false_positive_rate, true_positive_rate, c='blue', linewidth=2, label='Second classifier')\n",
    "# Plot ROC curve for a random classifier\n",
    "plt.plot([0, 1], ls='--', c='grey', label='Random classifier')\n",
    "plt.xlim([-0.001, 1])\n",
    "plt.ylim([0, 1.001])\n",
    "plt.ylabel('True positive rate')\n",
    "plt.xlabel('False positive rate')\n",
    "plt.legend()\n",
    "plt.show()"
   ]
  },
  {
   "cell_type": "markdown",
   "metadata": {},
   "source": [
    "The two classifiers are very similar. Though, the second classifier is slightly better for most threshold values."
   ]
  },
  {
   "cell_type": "markdown",
   "metadata": {},
   "source": [
    "  * Compute the LogLoss values of the two previous models and make the comparison."
   ]
  },
  {
   "cell_type": "markdown",
   "metadata": {},
   "source": [
    "Let's first compute it by hand:"
   ]
  },
  {
   "cell_type": "code",
   "execution_count": 34,
   "metadata": {
    "ExecuteTime": {
     "end_time": "2022-04-28T15:23:20.375002Z",
     "start_time": "2022-04-28T15:23:20.366205Z"
    }
   },
   "outputs": [
    {
     "name": "stdout",
     "output_type": "stream",
     "text": [
      "logLoss of first classifier is 0.2615755870539915\n",
      "logLoss of second classifier is 0.23166475396532973\n"
     ]
    }
   ],
   "source": [
    "logLoss = 0\n",
    "logLoss_2 = 0\n",
    "\n",
    "for i in range(len(y_score)):\n",
    "    logLoss -= (y_test[i] * np.log(y_score[i]) + (1 - y_test[i]) * np.log((1 - y_score[i]))) / len(y_score)\n",
    "    logLoss_2 -= (y_test[i] * np.log(y_score_2[i]) + (1 - y_test[i]) * np.log((1 - y_score_2[i]))) / len(y_score_2)\n",
    "\n",
    "print('logLoss of first classifier is ' + str(logLoss))\n",
    "print('logLoss of second classifier is ' + str(logLoss_2))"
   ]
  },
  {
   "cell_type": "markdown",
   "metadata": {},
   "source": [
    "We can use the log_loss function to check:"
   ]
  },
  {
   "cell_type": "code",
   "execution_count": 35,
   "metadata": {
    "ExecuteTime": {
     "end_time": "2022-04-28T15:23:24.222136Z",
     "start_time": "2022-04-28T15:23:24.217005Z"
    }
   },
   "outputs": [
    {
     "name": "stdout",
     "output_type": "stream",
     "text": [
      "0.26157558705399137\n",
      "0.23166475396532962\n"
     ]
    }
   ],
   "source": [
    "from sklearn.metrics import log_loss\n",
    "\n",
    "print(log_loss(y_test, y_score))\n",
    "print(log_loss(y_test, y_score_2))"
   ]
  },
  {
   "cell_type": "markdown",
   "metadata": {},
   "source": [
    "The second classifier has a lower logLoss than the first one, i.e. better performance."
   ]
  }
 ],
 "metadata": {
  "kernelspec": {
   "display_name": "Python 3",
   "language": "python",
   "name": "python3"
  },
  "language_info": {
   "codemirror_mode": {
    "name": "ipython",
    "version": 3
   },
   "file_extension": ".py",
   "mimetype": "text/x-python",
   "name": "python",
   "nbconvert_exporter": "python",
   "pygments_lexer": "ipython3",
   "version": "3.7.4"
  }
 },
 "nbformat": 4,
 "nbformat_minor": 4
}
