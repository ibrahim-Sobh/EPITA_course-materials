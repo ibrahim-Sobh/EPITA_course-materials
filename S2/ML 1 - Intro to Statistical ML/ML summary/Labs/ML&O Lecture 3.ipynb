{
 "cells": [
  {
   "cell_type": "markdown",
   "metadata": {},
   "source": [
    "If you are using Anaconda/Jupyter Notebooks, you should already have scikit-learn installed from last lecture. If that is not the case, please run the code below."
   ]
  },
  {
   "cell_type": "code",
   "execution_count": 4,
   "metadata": {},
   "outputs": [],
   "source": [
    "conda install -c anaconda scikit-learn"
   ]
  },
  {
   "cell_type": "markdown",
   "metadata": {},
   "source": [
    "Everyone should run the code below."
   ]
  },
  {
   "cell_type": "code",
   "execution_count": 1,
   "metadata": {},
   "outputs": [],
   "source": [
    "import pandas as pd\n",
    "import numpy as np\n",
    "import matplotlib.pyplot as plt\n",
    "import sklearn.datasets as data\n",
    "from sklearn.model_selection import train_test_split\n",
    "from sklearn.metrics import mean_squared_error"
   ]
  },
  {
   "cell_type": "markdown",
   "metadata": {},
   "source": [
    "# Part 1: Discovering the dataset\n",
    "\n",
    "For this first part, we will be using a very small and easy dataset `women_data` for illustrative purposes. Please download it from the course website."
   ]
  },
  {
   "cell_type": "code",
   "execution_count": 2,
   "metadata": {},
   "outputs": [],
   "source": [
    "#make sure you upload the dataset to Google Colab before trying to run this\n",
    "women_data=pd.read_csv(\"women_data.csv\")"
   ]
  },
  {
   "cell_type": "markdown",
   "metadata": {},
   "source": [
    "1. What does the dataset look like?"
   ]
  },
  {
   "cell_type": "code",
   "execution_count": 3,
   "metadata": {},
   "outputs": [
    {
     "data": {
      "text/html": [
       "<div>\n",
       "<style scoped>\n",
       "    .dataframe tbody tr th:only-of-type {\n",
       "        vertical-align: middle;\n",
       "    }\n",
       "\n",
       "    .dataframe tbody tr th {\n",
       "        vertical-align: top;\n",
       "    }\n",
       "\n",
       "    .dataframe thead th {\n",
       "        text-align: right;\n",
       "    }\n",
       "</style>\n",
       "<table border=\"1\" class=\"dataframe\">\n",
       "  <thead>\n",
       "    <tr style=\"text-align: right;\">\n",
       "      <th></th>\n",
       "      <th>height</th>\n",
       "      <th>weight</th>\n",
       "    </tr>\n",
       "  </thead>\n",
       "  <tbody>\n",
       "    <tr>\n",
       "      <th>0</th>\n",
       "      <td>58</td>\n",
       "      <td>115</td>\n",
       "    </tr>\n",
       "    <tr>\n",
       "      <th>1</th>\n",
       "      <td>59</td>\n",
       "      <td>117</td>\n",
       "    </tr>\n",
       "    <tr>\n",
       "      <th>2</th>\n",
       "      <td>60</td>\n",
       "      <td>120</td>\n",
       "    </tr>\n",
       "    <tr>\n",
       "      <th>3</th>\n",
       "      <td>61</td>\n",
       "      <td>123</td>\n",
       "    </tr>\n",
       "    <tr>\n",
       "      <th>4</th>\n",
       "      <td>62</td>\n",
       "      <td>126</td>\n",
       "    </tr>\n",
       "    <tr>\n",
       "      <th>5</th>\n",
       "      <td>63</td>\n",
       "      <td>129</td>\n",
       "    </tr>\n",
       "    <tr>\n",
       "      <th>6</th>\n",
       "      <td>64</td>\n",
       "      <td>132</td>\n",
       "    </tr>\n",
       "    <tr>\n",
       "      <th>7</th>\n",
       "      <td>65</td>\n",
       "      <td>135</td>\n",
       "    </tr>\n",
       "    <tr>\n",
       "      <th>8</th>\n",
       "      <td>66</td>\n",
       "      <td>139</td>\n",
       "    </tr>\n",
       "    <tr>\n",
       "      <th>9</th>\n",
       "      <td>67</td>\n",
       "      <td>142</td>\n",
       "    </tr>\n",
       "    <tr>\n",
       "      <th>10</th>\n",
       "      <td>68</td>\n",
       "      <td>146</td>\n",
       "    </tr>\n",
       "    <tr>\n",
       "      <th>11</th>\n",
       "      <td>69</td>\n",
       "      <td>150</td>\n",
       "    </tr>\n",
       "    <tr>\n",
       "      <th>12</th>\n",
       "      <td>70</td>\n",
       "      <td>154</td>\n",
       "    </tr>\n",
       "    <tr>\n",
       "      <th>13</th>\n",
       "      <td>71</td>\n",
       "      <td>159</td>\n",
       "    </tr>\n",
       "    <tr>\n",
       "      <th>14</th>\n",
       "      <td>72</td>\n",
       "      <td>164</td>\n",
       "    </tr>\n",
       "  </tbody>\n",
       "</table>\n",
       "</div>"
      ],
      "text/plain": [
       "    height  weight\n",
       "0       58     115\n",
       "1       59     117\n",
       "2       60     120\n",
       "3       61     123\n",
       "4       62     126\n",
       "5       63     129\n",
       "6       64     132\n",
       "7       65     135\n",
       "8       66     139\n",
       "9       67     142\n",
       "10      68     146\n",
       "11      69     150\n",
       "12      70     154\n",
       "13      71     159\n",
       "14      72     164"
      ]
     },
     "execution_count": 3,
     "metadata": {},
     "output_type": "execute_result"
    }
   ],
   "source": [
    "women_data"
   ]
  },
  {
   "cell_type": "markdown",
   "metadata": {},
   "source": [
    "2.Plot using `plt.scatter` the weight of the women as a function of the height."
   ]
  },
  {
   "cell_type": "code",
   "execution_count": 61,
   "metadata": {},
   "outputs": [
    {
     "data": {
      "text/plain": [
       "Text(0, 0.5, 'weight')"
      ]
     },
     "execution_count": 61,
     "metadata": {},
     "output_type": "execute_result"
    },
    {
     "data": {
      "image/png": "[encoded data removed]",
      "text/plain": [
       "<Figure size 432x288 with 1 Axes>"
      ]
     },
     "metadata": {
      "needs_background": "light"
     },
     "output_type": "display_data"
    }
   ],
   "source": [
    "plt.scatter(women_data[\"height\"],women_data[\"weight\"])\n",
    "plt.xlabel(\"height\")\n",
    "plt.ylabel(\"weight\")"
   ]
  },
  {
   "cell_type": "markdown",
   "metadata": {},
   "source": [
    "# Part 2: Linear regression with scikit\n",
    "\n",
    "1. Fitting the model"
   ]
  },
  {
   "cell_type": "code",
   "execution_count": 18,
   "metadata": {},
   "outputs": [],
   "source": [
    "from sklearn.linear_model import LinearRegression"
   ]
  },
  {
   "cell_type": "code",
   "execution_count": 78,
   "metadata": {},
   "outputs": [],
   "source": [
    "#fitting the model\n",
    "\n",
    "X=womend[[\"height\"]]\n",
    "Y=womend[[\"weight\"]]\n",
    "\n",
    "lm = LinearRegression().fit(X, Y)"
   ]
  },
  {
   "cell_type": "markdown",
   "metadata": {},
   "source": [
    "2. Getting relevant quantities:"
   ]
  },
  {
   "cell_type": "code",
   "execution_count": 79,
   "metadata": {},
   "outputs": [
    {
     "name": "stdout",
     "output_type": "stream",
     "text": [
      "Intercept =  [-87.51666667]\n",
      "Model coefficients =  [[3.45]]\n",
      "R^2 = 0.9910098326857505\n"
     ]
    }
   ],
   "source": [
    "#getting the valid quantities\n",
    "\n",
    "print(\"Intercept = \",lm.intercept_) # Print the resultant model intercept \n",
    "\n",
    "print(\"Model coefficients = \", lm.coef_) # Print the resultant model coefficients (in order of variables in X)\n",
    "\n",
    "print(\"R^2 =\",lm.score(X,Y)) # Print the resultant model R-squared"
   ]
  },
  {
   "cell_type": "markdown",
   "metadata": {},
   "source": [
    "3. Getting the predictions for the heights we have, based off of our model."
   ]
  },
  {
   "cell_type": "code",
   "execution_count": 80,
   "metadata": {},
   "outputs": [],
   "source": [
    "Y_pred=lm.predict(X)"
   ]
  },
  {
   "cell_type": "markdown",
   "metadata": {},
   "source": [
    "4. Plot on the same graph (1) the original datapoints (use `plt.scatter`) and (2) the prediction line (use `plt.plot` and the appropriate datapoints!)"
   ]
  },
  {
   "cell_type": "code",
   "execution_count": 84,
   "metadata": {},
   "outputs": [
    {
     "data": {
      "text/plain": [
       "Text(0, 0.5, 'weight')"
      ]
     },
     "execution_count": 84,
     "metadata": {},
     "output_type": "execute_result"
    },
    {
     "data": {
      "image/png": "[encoded data removed]",
      "text/plain": [
       "<Figure size 432x288 with 1 Axes>"
      ]
     },
     "metadata": {
      "needs_background": "light"
     },
     "output_type": "display_data"
    }
   ],
   "source": [
    "plt.scatter(X,Y)\n",
    "plt.plot(X,Y_pred,c=\"red\")\n",
    "plt.xlabel(\"height\")\n",
    "plt.ylabel(\"weight\")"
   ]
  },
  {
   "cell_type": "markdown",
   "metadata": {},
   "source": [
    "# Part 3: Polynomial regression with scikit"
   ]
  },
  {
   "cell_type": "code",
   "execution_count": 4,
   "metadata": {},
   "outputs": [],
   "source": [
    "from sklearn.preprocessing import PolynomialFeatures"
   ]
  },
  {
   "cell_type": "markdown",
   "metadata": {},
   "source": [
    "1. First define the degree of the polynomial you want to fit, and then `X` and `Y`."
   ]
  },
  {
   "cell_type": "code",
   "execution_count": 56,
   "metadata": {},
   "outputs": [],
   "source": [
    "degree=3\n",
    "X=women_data[[\"height\"]]\n",
    "Y=women_data[[\"weight\"]]"
   ]
  },
  {
   "cell_type": "markdown",
   "metadata": {},
   "source": [
    "2. Create a polynomial: the data point 58 say becomes `[1, 58, 58^2, 58^3]`. Check it out!"
   ]
  },
  {
   "cell_type": "code",
   "execution_count": 57,
   "metadata": {},
   "outputs": [],
   "source": [
    "poly = PolynomialFeatures(degree) #define the polynomial\n",
    "X_poly=poly.fit_transform(X) #map all the values of X as [1,x,x^2,x^3, etc]"
   ]
  },
  {
   "cell_type": "code",
   "execution_count": 58,
   "metadata": {},
   "outputs": [
    {
     "data": {
      "text/html": [
       "<div>\n",
       "<style scoped>\n",
       "    .dataframe tbody tr th:only-of-type {\n",
       "        vertical-align: middle;\n",
       "    }\n",
       "\n",
       "    .dataframe tbody tr th {\n",
       "        vertical-align: top;\n",
       "    }\n",
       "\n",
       "    .dataframe thead th {\n",
       "        text-align: right;\n",
       "    }\n",
       "</style>\n",
       "<table border=\"1\" class=\"dataframe\">\n",
       "  <thead>\n",
       "    <tr style=\"text-align: right;\">\n",
       "      <th></th>\n",
       "      <th>height</th>\n",
       "    </tr>\n",
       "  </thead>\n",
       "  <tbody>\n",
       "    <tr>\n",
       "      <th>0</th>\n",
       "      <td>58</td>\n",
       "    </tr>\n",
       "    <tr>\n",
       "      <th>1</th>\n",
       "      <td>59</td>\n",
       "    </tr>\n",
       "    <tr>\n",
       "      <th>2</th>\n",
       "      <td>60</td>\n",
       "    </tr>\n",
       "    <tr>\n",
       "      <th>3</th>\n",
       "      <td>61</td>\n",
       "    </tr>\n",
       "    <tr>\n",
       "      <th>4</th>\n",
       "      <td>62</td>\n",
       "    </tr>\n",
       "    <tr>\n",
       "      <th>5</th>\n",
       "      <td>63</td>\n",
       "    </tr>\n",
       "    <tr>\n",
       "      <th>6</th>\n",
       "      <td>64</td>\n",
       "    </tr>\n",
       "    <tr>\n",
       "      <th>7</th>\n",
       "      <td>65</td>\n",
       "    </tr>\n",
       "    <tr>\n",
       "      <th>8</th>\n",
       "      <td>66</td>\n",
       "    </tr>\n",
       "    <tr>\n",
       "      <th>9</th>\n",
       "      <td>67</td>\n",
       "    </tr>\n",
       "    <tr>\n",
       "      <th>10</th>\n",
       "      <td>68</td>\n",
       "    </tr>\n",
       "    <tr>\n",
       "      <th>11</th>\n",
       "      <td>69</td>\n",
       "    </tr>\n",
       "    <tr>\n",
       "      <th>12</th>\n",
       "      <td>70</td>\n",
       "    </tr>\n",
       "    <tr>\n",
       "      <th>13</th>\n",
       "      <td>71</td>\n",
       "    </tr>\n",
       "    <tr>\n",
       "      <th>14</th>\n",
       "      <td>72</td>\n",
       "    </tr>\n",
       "  </tbody>\n",
       "</table>\n",
       "</div>"
      ],
      "text/plain": [
       "    height\n",
       "0       58\n",
       "1       59\n",
       "2       60\n",
       "3       61\n",
       "4       62\n",
       "5       63\n",
       "6       64\n",
       "7       65\n",
       "8       66\n",
       "9       67\n",
       "10      68\n",
       "11      69\n",
       "12      70\n",
       "13      71\n",
       "14      72"
      ]
     },
     "execution_count": 58,
     "metadata": {},
     "output_type": "execute_result"
    }
   ],
   "source": [
    "X"
   ]
  },
  {
   "cell_type": "code",
   "execution_count": 59,
   "metadata": {},
   "outputs": [
    {
     "data": {
      "text/plain": [
       "array([[1.00000e+00, 5.80000e+01, 3.36400e+03, 1.95112e+05],\n",
       "       [1.00000e+00, 5.90000e+01, 3.48100e+03, 2.05379e+05],\n",
       "       [1.00000e+00, 6.00000e+01, 3.60000e+03, 2.16000e+05],\n",
       "       [1.00000e+00, 6.10000e+01, 3.72100e+03, 2.26981e+05],\n",
       "       [1.00000e+00, 6.20000e+01, 3.84400e+03, 2.38328e+05],\n",
       "       [1.00000e+00, 6.30000e+01, 3.96900e+03, 2.50047e+05],\n",
       "       [1.00000e+00, 6.40000e+01, 4.09600e+03, 2.62144e+05],\n",
       "       [1.00000e+00, 6.50000e+01, 4.22500e+03, 2.74625e+05],\n",
       "       [1.00000e+00, 6.60000e+01, 4.35600e+03, 2.87496e+05],\n",
       "       [1.00000e+00, 6.70000e+01, 4.48900e+03, 3.00763e+05],\n",
       "       [1.00000e+00, 6.80000e+01, 4.62400e+03, 3.14432e+05],\n",
       "       [1.00000e+00, 6.90000e+01, 4.76100e+03, 3.28509e+05],\n",
       "       [1.00000e+00, 7.00000e+01, 4.90000e+03, 3.43000e+05],\n",
       "       [1.00000e+00, 7.10000e+01, 5.04100e+03, 3.57911e+05],\n",
       "       [1.00000e+00, 7.20000e+01, 5.18400e+03, 3.73248e+05]])"
      ]
     },
     "execution_count": 59,
     "metadata": {},
     "output_type": "execute_result"
    }
   ],
   "source": [
    "X_poly"
   ]
  },
  {
   "cell_type": "markdown",
   "metadata": {},
   "source": [
    "3. Now we fit a Linear Regression Model as explained in class. Run the code below."
   ]
  },
  {
   "cell_type": "code",
   "execution_count": 60,
   "metadata": {},
   "outputs": [],
   "source": [
    "polyreg = LinearRegression().fit(X_poly, Y)"
   ]
  },
  {
   "cell_type": "markdown",
   "metadata": {},
   "source": [
    "4. What are the coeficients? Is the R^2 better for a polynomial regression of degree 3 than it is for the linear regression?"
   ]
  },
  {
   "cell_type": "code",
   "execution_count": 61,
   "metadata": {},
   "outputs": [
    {
     "name": "stdout",
     "output_type": "stream",
     "text": [
      "[[ 0.00000000e+00  4.64107891e+01 -7.46184371e-01  4.25255572e-03]]\n",
      "0.9997816939979363\n"
     ]
    }
   ],
   "source": [
    "print(polyreg.coef_) #print these coefficients\n",
    "print(polyreg.score(X_poly,Y)) #print R^2"
   ]
  },
  {
   "cell_type": "markdown",
   "metadata": {},
   "source": [
    "5. Predict the values for the heights we have based on our polynomial regression model."
   ]
  },
  {
   "cell_type": "code",
   "execution_count": 62,
   "metadata": {},
   "outputs": [],
   "source": [
    "y_pred=polyreg.predict(X_poly)"
   ]
  },
  {
   "cell_type": "markdown",
   "metadata": {},
   "source": [
    "6. Plot the points using `plt.scatter()`. We are going to use something a bit more complicated to plot the curve for polynomials: indeed, a line is defined by two points, but to be able to see how a polynomial behaves, we need many more points!"
   ]
  },
  {
   "cell_type": "code",
   "execution_count": 64,
   "metadata": {},
   "outputs": [
    {
     "data": {
      "text/plain": [
       "[<matplotlib.lines.Line2D at 0x19b4bf83e20>]"
      ]
     },
     "execution_count": 64,
     "metadata": {},
     "output_type": "execute_result"
    },
    {
     "data": {
      "image/png": "[encoded data removed]",
      "text/plain": [
       "<Figure size 432x288 with 1 Axes>"
      ]
     },
     "metadata": {
      "needs_background": "light"
     },
     "output_type": "display_data"
    }
   ],
   "source": [
    "plt.scatter(X,Y)\n",
    "\n",
    "linepoints = np.linspace(np.min(X), np.max(X), 100) # create 100 points between 58 and 72\n",
    "linepoints_poly=poly.fit_transform(linepoints) #transform these datapoints into polynomial datapoints\n",
    "linepoints_pred=polyreg.predict(linepoints_poly) #then predict the value we would get on these points with our model\n",
    "\n",
    "plt.plot(linepoints,linepoints_pred)\n"
   ]
  },
  {
   "cell_type": "markdown",
   "metadata": {},
   "source": [
    "# Part 4: Selling ice-creams\n",
    "\n",
    "Make sure the .csv file containing M. Gelato's sales is in your current directory or uploaded onto Google Colab before you start. \n",
    "\n",
    "1. Load the document and take a look at its header."
   ]
  },
  {
   "cell_type": "code",
   "execution_count": 65,
   "metadata": {},
   "outputs": [
    {
     "data": {
      "text/html": [
       "<div>\n",
       "<style scoped>\n",
       "    .dataframe tbody tr th:only-of-type {\n",
       "        vertical-align: middle;\n",
       "    }\n",
       "\n",
       "    .dataframe tbody tr th {\n",
       "        vertical-align: top;\n",
       "    }\n",
       "\n",
       "    .dataframe thead th {\n",
       "        text-align: right;\n",
       "    }\n",
       "</style>\n",
       "<table border=\"1\" class=\"dataframe\">\n",
       "  <thead>\n",
       "    <tr style=\"text-align: right;\">\n",
       "      <th></th>\n",
       "      <th>Times</th>\n",
       "      <th>Sales</th>\n",
       "    </tr>\n",
       "  </thead>\n",
       "  <tbody>\n",
       "    <tr>\n",
       "      <th>0</th>\n",
       "      <td>1</td>\n",
       "      <td>122</td>\n",
       "    </tr>\n",
       "    <tr>\n",
       "      <th>1</th>\n",
       "      <td>29</td>\n",
       "      <td>215</td>\n",
       "    </tr>\n",
       "    <tr>\n",
       "      <th>2</th>\n",
       "      <td>60</td>\n",
       "      <td>228</td>\n",
       "    </tr>\n",
       "    <tr>\n",
       "      <th>3</th>\n",
       "      <td>88</td>\n",
       "      <td>225</td>\n",
       "    </tr>\n",
       "    <tr>\n",
       "      <th>4</th>\n",
       "      <td>121</td>\n",
       "      <td>190</td>\n",
       "    </tr>\n",
       "    <tr>\n",
       "      <th>5</th>\n",
       "      <td>150</td>\n",
       "      <td>145</td>\n",
       "    </tr>\n",
       "    <tr>\n",
       "      <th>6</th>\n",
       "      <td>184</td>\n",
       "      <td>125</td>\n",
       "    </tr>\n",
       "    <tr>\n",
       "      <th>7</th>\n",
       "      <td>218</td>\n",
       "      <td>43</td>\n",
       "    </tr>\n",
       "    <tr>\n",
       "      <th>8</th>\n",
       "      <td>250</td>\n",
       "      <td>12</td>\n",
       "    </tr>\n",
       "    <tr>\n",
       "      <th>9</th>\n",
       "      <td>281</td>\n",
       "      <td>4</td>\n",
       "    </tr>\n",
       "    <tr>\n",
       "      <th>10</th>\n",
       "      <td>318</td>\n",
       "      <td>32</td>\n",
       "    </tr>\n",
       "    <tr>\n",
       "      <th>11</th>\n",
       "      <td>350</td>\n",
       "      <td>80</td>\n",
       "    </tr>\n",
       "    <tr>\n",
       "      <th>12</th>\n",
       "      <td>365</td>\n",
       "      <td>110</td>\n",
       "    </tr>\n",
       "  </tbody>\n",
       "</table>\n",
       "</div>"
      ],
      "text/plain": [
       "    Times  Sales\n",
       "0       1    122\n",
       "1      29    215\n",
       "2      60    228\n",
       "3      88    225\n",
       "4     121    190\n",
       "5     150    145\n",
       "6     184    125\n",
       "7     218     43\n",
       "8     250     12\n",
       "9     281      4\n",
       "10    318     32\n",
       "11    350     80\n",
       "12    365    110"
      ]
     },
     "execution_count": 65,
     "metadata": {},
     "output_type": "execute_result"
    }
   ],
   "source": [
    "Gelato=pd.read_csv(\"Gelato_Times_Sales.csv\")\n",
    "Gelato"
   ]
  },
  {
   "cell_type": "markdown",
   "metadata": {},
   "source": [
    "2. Create a new feature called `TimesYear` which corresponds to the `Times` column divided by 365. Drop the column `Times` once you are done to recover a dataframe with just two features.\n",
    "    1. Are we normalizing or scaling the data?\n",
    "    2. We will be working with polynomials of degree up to 12. Can you explain why we're normalizing or scaling the data?"
   ]
  },
  {
   "cell_type": "code",
   "execution_count": 66,
   "metadata": {},
   "outputs": [],
   "source": [
    "Gelato[\"TimesYear\"]=Gelato[\"Times\"]/365"
   ]
  },
  {
   "cell_type": "code",
   "execution_count": 67,
   "metadata": {},
   "outputs": [],
   "source": [
    "Gelato.drop(columns=[\"Times\"],inplace=True)"
   ]
  },
  {
   "cell_type": "code",
   "execution_count": 68,
   "metadata": {},
   "outputs": [
    {
     "data": {
      "text/html": [
       "<div>\n",
       "<style scoped>\n",
       "    .dataframe tbody tr th:only-of-type {\n",
       "        vertical-align: middle;\n",
       "    }\n",
       "\n",
       "    .dataframe tbody tr th {\n",
       "        vertical-align: top;\n",
       "    }\n",
       "\n",
       "    .dataframe thead th {\n",
       "        text-align: right;\n",
       "    }\n",
       "</style>\n",
       "<table border=\"1\" class=\"dataframe\">\n",
       "  <thead>\n",
       "    <tr style=\"text-align: right;\">\n",
       "      <th></th>\n",
       "      <th>Sales</th>\n",
       "      <th>TimesYear</th>\n",
       "    </tr>\n",
       "  </thead>\n",
       "  <tbody>\n",
       "    <tr>\n",
       "      <th>0</th>\n",
       "      <td>122</td>\n",
       "      <td>0.002740</td>\n",
       "    </tr>\n",
       "    <tr>\n",
       "      <th>1</th>\n",
       "      <td>215</td>\n",
       "      <td>0.079452</td>\n",
       "    </tr>\n",
       "    <tr>\n",
       "      <th>2</th>\n",
       "      <td>228</td>\n",
       "      <td>0.164384</td>\n",
       "    </tr>\n",
       "    <tr>\n",
       "      <th>3</th>\n",
       "      <td>225</td>\n",
       "      <td>0.241096</td>\n",
       "    </tr>\n",
       "    <tr>\n",
       "      <th>4</th>\n",
       "      <td>190</td>\n",
       "      <td>0.331507</td>\n",
       "    </tr>\n",
       "    <tr>\n",
       "      <th>5</th>\n",
       "      <td>145</td>\n",
       "      <td>0.410959</td>\n",
       "    </tr>\n",
       "    <tr>\n",
       "      <th>6</th>\n",
       "      <td>125</td>\n",
       "      <td>0.504110</td>\n",
       "    </tr>\n",
       "    <tr>\n",
       "      <th>7</th>\n",
       "      <td>43</td>\n",
       "      <td>0.597260</td>\n",
       "    </tr>\n",
       "    <tr>\n",
       "      <th>8</th>\n",
       "      <td>12</td>\n",
       "      <td>0.684932</td>\n",
       "    </tr>\n",
       "    <tr>\n",
       "      <th>9</th>\n",
       "      <td>4</td>\n",
       "      <td>0.769863</td>\n",
       "    </tr>\n",
       "    <tr>\n",
       "      <th>10</th>\n",
       "      <td>32</td>\n",
       "      <td>0.871233</td>\n",
       "    </tr>\n",
       "    <tr>\n",
       "      <th>11</th>\n",
       "      <td>80</td>\n",
       "      <td>0.958904</td>\n",
       "    </tr>\n",
       "    <tr>\n",
       "      <th>12</th>\n",
       "      <td>110</td>\n",
       "      <td>1.000000</td>\n",
       "    </tr>\n",
       "  </tbody>\n",
       "</table>\n",
       "</div>"
      ],
      "text/plain": [
       "    Sales  TimesYear\n",
       "0     122   0.002740\n",
       "1     215   0.079452\n",
       "2     228   0.164384\n",
       "3     225   0.241096\n",
       "4     190   0.331507\n",
       "5     145   0.410959\n",
       "6     125   0.504110\n",
       "7      43   0.597260\n",
       "8      12   0.684932\n",
       "9       4   0.769863\n",
       "10     32   0.871233\n",
       "11     80   0.958904\n",
       "12    110   1.000000"
      ]
     },
     "execution_count": 68,
     "metadata": {},
     "output_type": "execute_result"
    }
   ],
   "source": [
    "Gelato"
   ]
  },
  {
   "cell_type": "markdown",
   "metadata": {},
   "source": [
    "3. Define `X`and `Y`. What should they be here?"
   ]
  },
  {
   "cell_type": "code",
   "execution_count": 69,
   "metadata": {},
   "outputs": [],
   "source": [
    "X=Gelato[[\"TimesYear\"]]\n",
    "Y=Gelato[[\"Sales\"]]"
   ]
  },
  {
   "cell_type": "markdown",
   "metadata": {},
   "source": [
    "4. **Scatter plot**: plot Y as a function of X using `plt.scatter()`."
   ]
  },
  {
   "cell_type": "code",
   "execution_count": 70,
   "metadata": {},
   "outputs": [
    {
     "data": {
      "text/plain": [
       "<matplotlib.collections.PathCollection at 0x19b4bfd9ac0>"
      ]
     },
     "execution_count": 70,
     "metadata": {},
     "output_type": "execute_result"
    },
    {
     "data": {
      "image/png": "[encoded data removed]",
      "text/plain": [
       "<Figure size 432x288 with 1 Axes>"
      ]
     },
     "metadata": {
      "needs_background": "light"
     },
     "output_type": "display_data"
    }
   ],
   "source": [
    "plt.scatter(X,Y)"
   ]
  },
  {
   "cell_type": "markdown",
   "metadata": {},
   "source": [
    "5. Similarly to what is done in part 2, fit first a linear regression model to the data. Keep track of the R^2 and plot the curve you obtain as well as the datapoints on one plot."
   ]
  },
  {
   "cell_type": "code",
   "execution_count": 71,
   "metadata": {},
   "outputs": [
    {
     "name": "stdout",
     "output_type": "stream",
     "text": [
      "R^2 = 0.5156537598990749\n"
     ]
    },
    {
     "data": {
      "text/plain": [
       "[<matplotlib.lines.Line2D at 0x19b4c03f9a0>]"
      ]
     },
     "execution_count": 71,
     "metadata": {},
     "output_type": "execute_result"
    },
    {
     "data": {
      "image/png": "[encoded data removed]",
      "text/plain": [
       "<Figure size 432x288 with 1 Axes>"
      ]
     },
     "metadata": {
      "needs_background": "light"
     },
     "output_type": "display_data"
    }
   ],
   "source": [
    "lm = LinearRegression().fit(X, Y)\n",
    "\n",
    "print(\"R^2 =\",lm.score(X,Y)) # Print the resultant model R-squared\n",
    "y_pred=lm.predict(X)\n",
    "\n",
    "plt.scatter(X,Y)\n",
    "plt.plot(X,y_pred)"
   ]
  },
  {
   "cell_type": "markdown",
   "metadata": {},
   "source": [
    "5. Similarly to what is done in part 3, fit a polyonomial regression to the data with degree=2. Keep track of the R^2 and plot the curve you obtain as well as the datapoints on one plot."
   ]
  },
  {
   "cell_type": "code",
   "execution_count": 73,
   "metadata": {},
   "outputs": [
    {
     "name": "stdout",
     "output_type": "stream",
     "text": [
      "[[   0.         -282.05666395  107.68637281]]\n",
      "0.5307269001557798\n"
     ]
    }
   ],
   "source": [
    "from sklearn.preprocessing import PolynomialFeatures\n",
    "\n",
    "degree=2\n",
    "\n",
    "poly = PolynomialFeatures(degree) #define a polynomial\n",
    "X_poly=poly.fit_transform(X) #map all the values of X as [1,x,x^2,x^3, etc]\n",
    "polyreg = LinearRegression().fit(X_poly, Y) # try and find coefficients c1+c2*x+x3*x^2+... via linear regression\n",
    "\n",
    "y_pred = polyreg.predict(X_poly)\n",
    "\n",
    "print(polyreg.coef_) #print these coefficients\n",
    "print(polyreg.score(X_poly,Y)) #print R^2"
   ]
  },
  {
   "cell_type": "code",
   "execution_count": 74,
   "metadata": {},
   "outputs": [
    {
     "data": {
      "text/plain": [
       "[<matplotlib.lines.Line2D at 0x19b4c111490>]"
      ]
     },
     "execution_count": 74,
     "metadata": {},
     "output_type": "execute_result"
    },
    {
     "data": {
      "image/png": "[encoded data removed]",
      "text/plain": [
       "<Figure size 432x288 with 1 Axes>"
      ]
     },
     "metadata": {
      "needs_background": "light"
     },
     "output_type": "display_data"
    }
   ],
   "source": [
    "plt.scatter(X,Y)\n",
    "\n",
    "linepoints = np.linspace(np.min(X), np.max(X), 100) # create 100 points between 58 and 72\n",
    "linepoints_poly=poly.fit_transform(linepoints) #transform these datapoints into polynomial datapoints\n",
    "linepoints_pred=polyreg.predict(linepoints_poly) #then predict the value we would get on these points with our model\n",
    "\n",
    "plt.plot(linepoints,linepoints_pred)\n"
   ]
  },
  {
   "cell_type": "markdown",
   "metadata": {},
   "source": [
    "6. Redo question 5 but with degrees 3,5, 8 and 12. Keep track of R^2 and the plot at each time."
   ]
  },
  {
   "cell_type": "code",
   "execution_count": 78,
   "metadata": {},
   "outputs": [
    {
     "name": "stdout",
     "output_type": "stream",
     "text": [
      "[[ 0.00000000e+00 -3.33985615e+04  1.20402472e+06 -1.76445673e+07\n",
      "   1.42152061e+08 -7.08740430e+08  2.31816932e+09 -5.11592593e+09\n",
      "   7.66850543e+09 -7.69449999e+09  4.94574571e+09 -1.84031742e+09\n",
      "   3.01385097e+08]]\n",
      "1.0\n"
     ]
    },
    {
     "data": {
      "text/plain": [
       "[<matplotlib.lines.Line2D at 0x19b4d27f340>]"
      ]
     },
     "execution_count": 78,
     "metadata": {},
     "output_type": "execute_result"
    },
    {
     "data": {
      "image/png": "[encoded data removed]",
      "text/plain": [
       "<Figure size 432x288 with 1 Axes>"
      ]
     },
     "metadata": {
      "needs_background": "light"
     },
     "output_type": "display_data"
    }
   ],
   "source": [
    "from sklearn.preprocessing import PolynomialFeatures\n",
    "\n",
    "degree=12\n",
    "\n",
    "poly = PolynomialFeatures(degree) #define a polynomial\n",
    "X_poly=poly.fit_transform(X) #map all the values of X as [1,x,x^2,x^3, etc]\n",
    "polyreg = LinearRegression().fit(X_poly, Y) # try and find coefficients c1+c2*x+x3*x^2+... via linear regression\n",
    "\n",
    "y_pred = polyreg.predict(X_poly)\n",
    "\n",
    "print(polyreg.coef_) #print these coefficients\n",
    "print(polyreg.score(X_poly,Y)) #print R^2\n",
    "\n",
    "plt.scatter(X,Y)\n",
    "\n",
    "linepoints = np.linspace(np.min(X), np.max(X), 100) # create 100 points between 58 and 72\n",
    "linepoints_poly=poly.fit_transform(linepoints) #transform these datapoints into polynomial datapoints\n",
    "linepoints_pred=polyreg.predict(linepoints_poly) #then predict the value we would get on these points with our model\n",
    "\n",
    "plt.plot(linepoints,linepoints_pred)"
   ]
  },
  {
   "cell_type": "markdown",
   "metadata": {},
   "source": [
    "7. If you were to base yourself on R^2 only, which model would you end up picking and why? Does this coincide with what looks visually most appropriate? Do you think using R^2 is a good measure of how good a model is? What would you suggest as a better way of picking a model?"
   ]
  },
  {
   "cell_type": "markdown",
   "metadata": {},
   "source": [
    "# Homework Task 2"
   ]
  },
  {
   "cell_type": "markdown",
   "metadata": {},
   "source": [
    "If we have 1000 observations, we would like to have 500 in the training set, 250 in the validation set, and 250 in the test set. To do this, we can first split the dataset into two to obtain training set and others, i.e.:\n",
    "\n",
    "`Xtrain Xother ytrain yother= train_test_split(X,y,test_size=0.5)`\n",
    "\n",
    "This will give us a training set of size 500 and another set that contains 500 datapoints. To obtain the validation set and test set, we further subdivide `Xother` and `yother` by taking:\n",
    "\n",
    "`Xvalidation Xtest yvalidation ytest= train_test_split(Xother,yother,test_size=0.5)`\n",
    "\n",
    "This gives us sets of appropriate size."
   ]
  },
  {
   "cell_type": "markdown",
   "metadata": {},
   "source": [
    "# Homework Task 3\n",
    "\n",
    "Don't forget to upload the data if you are on Google Colab."
   ]
  },
  {
   "cell_type": "code",
   "execution_count": 100,
   "metadata": {},
   "outputs": [],
   "source": [
    "Sarah_data_cleaned= pd.read_csv(\"Sarah_data_cleaned.csv\")"
   ]
  },
  {
   "cell_type": "markdown",
   "metadata": {},
   "source": [
    "## Part 1: Creating the label and the features, the validation and test sets."
   ]
  },
  {
   "cell_type": "markdown",
   "metadata": {},
   "source": [
    "1. What should the label `y` be? Construct `y` and drop this column from the dataset to obtain `X`."
   ]
  },
  {
   "cell_type": "code",
   "execution_count": 81,
   "metadata": {},
   "outputs": [],
   "source": [
    "y=Sarah_data_cleaned[[\"Price\"]]\n",
    "X=Sarah_data_cleaned.drop(columns=[\"Price\"])"
   ]
  },
  {
   "cell_type": "markdown",
   "metadata": {},
   "source": [
    "2. Split X and y into training and validation sets (the validation set should contain 1000 of the 6000 rows of data) so that you obtain `X_train, X_validation, y_train, y_validation`."
   ]
  },
  {
   "cell_type": "code",
   "execution_count": 83,
   "metadata": {},
   "outputs": [],
   "source": [
    "X_train, X_validation, y_train, y_validation= train_test_split(X, y, test_size=1/6)"
   ]
  },
  {
   "cell_type": "code",
   "execution_count": 84,
   "metadata": {},
   "outputs": [
    {
     "data": {
      "text/html": [
       "<div>\n",
       "<style scoped>\n",
       "    .dataframe tbody tr th:only-of-type {\n",
       "        vertical-align: middle;\n",
       "    }\n",
       "\n",
       "    .dataframe tbody tr th {\n",
       "        vertical-align: top;\n",
       "    }\n",
       "\n",
       "    .dataframe thead th {\n",
       "        text-align: right;\n",
       "    }\n",
       "</style>\n",
       "<table border=\"1\" class=\"dataframe\">\n",
       "  <thead>\n",
       "    <tr style=\"text-align: right;\">\n",
       "      <th></th>\n",
       "      <th>Unnamed: 0</th>\n",
       "      <th>Carat Weight</th>\n",
       "      <th>Cut_Good</th>\n",
       "      <th>Cut_Ideal</th>\n",
       "      <th>Cut_Signature-Ideal</th>\n",
       "      <th>Cut_Very Good</th>\n",
       "      <th>Color_E</th>\n",
       "      <th>Color_F</th>\n",
       "      <th>Color_G</th>\n",
       "      <th>Color_H</th>\n",
       "      <th>...</th>\n",
       "      <th>Clarity_VS2</th>\n",
       "      <th>Clarity_VVS1</th>\n",
       "      <th>Clarity_VVS2</th>\n",
       "      <th>Polish_G</th>\n",
       "      <th>Polish_ID</th>\n",
       "      <th>Polish_VG</th>\n",
       "      <th>Symmetry_G</th>\n",
       "      <th>Symmetry_ID</th>\n",
       "      <th>Symmetry_VG</th>\n",
       "      <th>Report_GIA</th>\n",
       "    </tr>\n",
       "  </thead>\n",
       "  <tbody>\n",
       "    <tr>\n",
       "      <th>3056</th>\n",
       "      <td>3056</td>\n",
       "      <td>2.05</td>\n",
       "      <td>0</td>\n",
       "      <td>0</td>\n",
       "      <td>0</td>\n",
       "      <td>1</td>\n",
       "      <td>0</td>\n",
       "      <td>0</td>\n",
       "      <td>0</td>\n",
       "      <td>1</td>\n",
       "      <td>...</td>\n",
       "      <td>1</td>\n",
       "      <td>0</td>\n",
       "      <td>0</td>\n",
       "      <td>0</td>\n",
       "      <td>0</td>\n",
       "      <td>0</td>\n",
       "      <td>0</td>\n",
       "      <td>0</td>\n",
       "      <td>0</td>\n",
       "      <td>1</td>\n",
       "    </tr>\n",
       "    <tr>\n",
       "      <th>3669</th>\n",
       "      <td>3669</td>\n",
       "      <td>2.01</td>\n",
       "      <td>0</td>\n",
       "      <td>0</td>\n",
       "      <td>0</td>\n",
       "      <td>1</td>\n",
       "      <td>0</td>\n",
       "      <td>0</td>\n",
       "      <td>0</td>\n",
       "      <td>1</td>\n",
       "      <td>...</td>\n",
       "      <td>1</td>\n",
       "      <td>0</td>\n",
       "      <td>0</td>\n",
       "      <td>0</td>\n",
       "      <td>0</td>\n",
       "      <td>1</td>\n",
       "      <td>0</td>\n",
       "      <td>0</td>\n",
       "      <td>1</td>\n",
       "      <td>1</td>\n",
       "    </tr>\n",
       "    <tr>\n",
       "      <th>5867</th>\n",
       "      <td>5867</td>\n",
       "      <td>2.08</td>\n",
       "      <td>0</td>\n",
       "      <td>1</td>\n",
       "      <td>0</td>\n",
       "      <td>0</td>\n",
       "      <td>1</td>\n",
       "      <td>0</td>\n",
       "      <td>0</td>\n",
       "      <td>0</td>\n",
       "      <td>...</td>\n",
       "      <td>0</td>\n",
       "      <td>0</td>\n",
       "      <td>0</td>\n",
       "      <td>0</td>\n",
       "      <td>0</td>\n",
       "      <td>0</td>\n",
       "      <td>0</td>\n",
       "      <td>0</td>\n",
       "      <td>0</td>\n",
       "      <td>1</td>\n",
       "    </tr>\n",
       "    <tr>\n",
       "      <th>5588</th>\n",
       "      <td>5588</td>\n",
       "      <td>2.01</td>\n",
       "      <td>1</td>\n",
       "      <td>0</td>\n",
       "      <td>0</td>\n",
       "      <td>0</td>\n",
       "      <td>0</td>\n",
       "      <td>0</td>\n",
       "      <td>0</td>\n",
       "      <td>0</td>\n",
       "      <td>...</td>\n",
       "      <td>0</td>\n",
       "      <td>0</td>\n",
       "      <td>0</td>\n",
       "      <td>0</td>\n",
       "      <td>0</td>\n",
       "      <td>1</td>\n",
       "      <td>1</td>\n",
       "      <td>0</td>\n",
       "      <td>0</td>\n",
       "      <td>1</td>\n",
       "    </tr>\n",
       "    <tr>\n",
       "      <th>1923</th>\n",
       "      <td>1923</td>\n",
       "      <td>2.61</td>\n",
       "      <td>0</td>\n",
       "      <td>1</td>\n",
       "      <td>0</td>\n",
       "      <td>0</td>\n",
       "      <td>0</td>\n",
       "      <td>0</td>\n",
       "      <td>0</td>\n",
       "      <td>0</td>\n",
       "      <td>...</td>\n",
       "      <td>0</td>\n",
       "      <td>0</td>\n",
       "      <td>0</td>\n",
       "      <td>0</td>\n",
       "      <td>0</td>\n",
       "      <td>0</td>\n",
       "      <td>0</td>\n",
       "      <td>0</td>\n",
       "      <td>0</td>\n",
       "      <td>1</td>\n",
       "    </tr>\n",
       "    <tr>\n",
       "      <th>...</th>\n",
       "      <td>...</td>\n",
       "      <td>...</td>\n",
       "      <td>...</td>\n",
       "      <td>...</td>\n",
       "      <td>...</td>\n",
       "      <td>...</td>\n",
       "      <td>...</td>\n",
       "      <td>...</td>\n",
       "      <td>...</td>\n",
       "      <td>...</td>\n",
       "      <td>...</td>\n",
       "      <td>...</td>\n",
       "      <td>...</td>\n",
       "      <td>...</td>\n",
       "      <td>...</td>\n",
       "      <td>...</td>\n",
       "      <td>...</td>\n",
       "      <td>...</td>\n",
       "      <td>...</td>\n",
       "      <td>...</td>\n",
       "      <td>...</td>\n",
       "    </tr>\n",
       "    <tr>\n",
       "      <th>881</th>\n",
       "      <td>881</td>\n",
       "      <td>0.79</td>\n",
       "      <td>0</td>\n",
       "      <td>1</td>\n",
       "      <td>0</td>\n",
       "      <td>0</td>\n",
       "      <td>0</td>\n",
       "      <td>0</td>\n",
       "      <td>0</td>\n",
       "      <td>0</td>\n",
       "      <td>...</td>\n",
       "      <td>1</td>\n",
       "      <td>0</td>\n",
       "      <td>0</td>\n",
       "      <td>0</td>\n",
       "      <td>0</td>\n",
       "      <td>1</td>\n",
       "      <td>0</td>\n",
       "      <td>0</td>\n",
       "      <td>1</td>\n",
       "      <td>1</td>\n",
       "    </tr>\n",
       "    <tr>\n",
       "      <th>2700</th>\n",
       "      <td>2700</td>\n",
       "      <td>1.50</td>\n",
       "      <td>0</td>\n",
       "      <td>1</td>\n",
       "      <td>0</td>\n",
       "      <td>0</td>\n",
       "      <td>0</td>\n",
       "      <td>0</td>\n",
       "      <td>0</td>\n",
       "      <td>0</td>\n",
       "      <td>...</td>\n",
       "      <td>0</td>\n",
       "      <td>0</td>\n",
       "      <td>0</td>\n",
       "      <td>0</td>\n",
       "      <td>0</td>\n",
       "      <td>1</td>\n",
       "      <td>0</td>\n",
       "      <td>0</td>\n",
       "      <td>1</td>\n",
       "      <td>1</td>\n",
       "    </tr>\n",
       "    <tr>\n",
       "      <th>2210</th>\n",
       "      <td>2210</td>\n",
       "      <td>1.03</td>\n",
       "      <td>0</td>\n",
       "      <td>0</td>\n",
       "      <td>1</td>\n",
       "      <td>0</td>\n",
       "      <td>1</td>\n",
       "      <td>0</td>\n",
       "      <td>0</td>\n",
       "      <td>0</td>\n",
       "      <td>...</td>\n",
       "      <td>0</td>\n",
       "      <td>0</td>\n",
       "      <td>1</td>\n",
       "      <td>0</td>\n",
       "      <td>0</td>\n",
       "      <td>0</td>\n",
       "      <td>0</td>\n",
       "      <td>0</td>\n",
       "      <td>0</td>\n",
       "      <td>1</td>\n",
       "    </tr>\n",
       "    <tr>\n",
       "      <th>4723</th>\n",
       "      <td>4723</td>\n",
       "      <td>2.03</td>\n",
       "      <td>0</td>\n",
       "      <td>1</td>\n",
       "      <td>0</td>\n",
       "      <td>0</td>\n",
       "      <td>0</td>\n",
       "      <td>0</td>\n",
       "      <td>1</td>\n",
       "      <td>0</td>\n",
       "      <td>...</td>\n",
       "      <td>0</td>\n",
       "      <td>0</td>\n",
       "      <td>0</td>\n",
       "      <td>0</td>\n",
       "      <td>0</td>\n",
       "      <td>1</td>\n",
       "      <td>0</td>\n",
       "      <td>0</td>\n",
       "      <td>0</td>\n",
       "      <td>1</td>\n",
       "    </tr>\n",
       "    <tr>\n",
       "      <th>1792</th>\n",
       "      <td>1792</td>\n",
       "      <td>0.83</td>\n",
       "      <td>0</td>\n",
       "      <td>1</td>\n",
       "      <td>0</td>\n",
       "      <td>0</td>\n",
       "      <td>0</td>\n",
       "      <td>0</td>\n",
       "      <td>0</td>\n",
       "      <td>1</td>\n",
       "      <td>...</td>\n",
       "      <td>0</td>\n",
       "      <td>0</td>\n",
       "      <td>0</td>\n",
       "      <td>0</td>\n",
       "      <td>1</td>\n",
       "      <td>0</td>\n",
       "      <td>0</td>\n",
       "      <td>1</td>\n",
       "      <td>0</td>\n",
       "      <td>0</td>\n",
       "    </tr>\n",
       "  </tbody>\n",
       "</table>\n",
       "<p>1000 rows × 24 columns</p>\n",
       "</div>"
      ],
      "text/plain": [
       "      Unnamed: 0  Carat Weight  Cut_Good  Cut_Ideal  Cut_Signature-Ideal  \\\n",
       "3056        3056          2.05         0          0                    0   \n",
       "3669        3669          2.01         0          0                    0   \n",
       "5867        5867          2.08         0          1                    0   \n",
       "5588        5588          2.01         1          0                    0   \n",
       "1923        1923          2.61         0          1                    0   \n",
       "...          ...           ...       ...        ...                  ...   \n",
       "881          881          0.79         0          1                    0   \n",
       "2700        2700          1.50         0          1                    0   \n",
       "2210        2210          1.03         0          0                    1   \n",
       "4723        4723          2.03         0          1                    0   \n",
       "1792        1792          0.83         0          1                    0   \n",
       "\n",
       "      Cut_Very Good  Color_E  Color_F  Color_G  Color_H  ...  Clarity_VS2  \\\n",
       "3056              1        0        0        0        1  ...            1   \n",
       "3669              1        0        0        0        1  ...            1   \n",
       "5867              0        1        0        0        0  ...            0   \n",
       "5588              0        0        0        0        0  ...            0   \n",
       "1923              0        0        0        0        0  ...            0   \n",
       "...             ...      ...      ...      ...      ...  ...          ...   \n",
       "881               0        0        0        0        0  ...            1   \n",
       "2700              0        0        0        0        0  ...            0   \n",
       "2210              0        1        0        0        0  ...            0   \n",
       "4723              0        0        0        1        0  ...            0   \n",
       "1792              0        0        0        0        1  ...            0   \n",
       "\n",
       "      Clarity_VVS1  Clarity_VVS2  Polish_G  Polish_ID  Polish_VG  Symmetry_G  \\\n",
       "3056             0             0         0          0          0           0   \n",
       "3669             0             0         0          0          1           0   \n",
       "5867             0             0         0          0          0           0   \n",
       "5588             0             0         0          0          1           1   \n",
       "1923             0             0         0          0          0           0   \n",
       "...            ...           ...       ...        ...        ...         ...   \n",
       "881              0             0         0          0          1           0   \n",
       "2700             0             0         0          0          1           0   \n",
       "2210             0             1         0          0          0           0   \n",
       "4723             0             0         0          0          1           0   \n",
       "1792             0             0         0          1          0           0   \n",
       "\n",
       "      Symmetry_ID  Symmetry_VG  Report_GIA  \n",
       "3056            0            0           1  \n",
       "3669            0            1           1  \n",
       "5867            0            0           1  \n",
       "5588            0            0           1  \n",
       "1923            0            0           1  \n",
       "...           ...          ...         ...  \n",
       "881             0            1           1  \n",
       "2700            0            1           1  \n",
       "2210            0            0           1  \n",
       "4723            0            0           1  \n",
       "1792            1            0           0  \n",
       "\n",
       "[1000 rows x 24 columns]"
      ]
     },
     "execution_count": 84,
     "metadata": {},
     "output_type": "execute_result"
    }
   ],
   "source": [
    "X_validation"
   ]
  },
  {
   "cell_type": "code",
   "execution_count": 85,
   "metadata": {},
   "outputs": [
    {
     "data": {
      "text/html": [
       "<div>\n",
       "<style scoped>\n",
       "    .dataframe tbody tr th:only-of-type {\n",
       "        vertical-align: middle;\n",
       "    }\n",
       "\n",
       "    .dataframe tbody tr th {\n",
       "        vertical-align: top;\n",
       "    }\n",
       "\n",
       "    .dataframe thead th {\n",
       "        text-align: right;\n",
       "    }\n",
       "</style>\n",
       "<table border=\"1\" class=\"dataframe\">\n",
       "  <thead>\n",
       "    <tr style=\"text-align: right;\">\n",
       "      <th></th>\n",
       "      <th>Unnamed: 0</th>\n",
       "      <th>Carat Weight</th>\n",
       "      <th>Cut_Good</th>\n",
       "      <th>Cut_Ideal</th>\n",
       "      <th>Cut_Signature-Ideal</th>\n",
       "      <th>Cut_Very Good</th>\n",
       "      <th>Color_E</th>\n",
       "      <th>Color_F</th>\n",
       "      <th>Color_G</th>\n",
       "      <th>Color_H</th>\n",
       "      <th>...</th>\n",
       "      <th>Clarity_VS2</th>\n",
       "      <th>Clarity_VVS1</th>\n",
       "      <th>Clarity_VVS2</th>\n",
       "      <th>Polish_G</th>\n",
       "      <th>Polish_ID</th>\n",
       "      <th>Polish_VG</th>\n",
       "      <th>Symmetry_G</th>\n",
       "      <th>Symmetry_ID</th>\n",
       "      <th>Symmetry_VG</th>\n",
       "      <th>Report_GIA</th>\n",
       "    </tr>\n",
       "  </thead>\n",
       "  <tbody>\n",
       "    <tr>\n",
       "      <th>4969</th>\n",
       "      <td>4969</td>\n",
       "      <td>1.03</td>\n",
       "      <td>0</td>\n",
       "      <td>1</td>\n",
       "      <td>0</td>\n",
       "      <td>0</td>\n",
       "      <td>0</td>\n",
       "      <td>0</td>\n",
       "      <td>0</td>\n",
       "      <td>0</td>\n",
       "      <td>...</td>\n",
       "      <td>0</td>\n",
       "      <td>0</td>\n",
       "      <td>0</td>\n",
       "      <td>0</td>\n",
       "      <td>0</td>\n",
       "      <td>0</td>\n",
       "      <td>0</td>\n",
       "      <td>0</td>\n",
       "      <td>0</td>\n",
       "      <td>1</td>\n",
       "    </tr>\n",
       "    <tr>\n",
       "      <th>3337</th>\n",
       "      <td>3337</td>\n",
       "      <td>1.70</td>\n",
       "      <td>0</td>\n",
       "      <td>1</td>\n",
       "      <td>0</td>\n",
       "      <td>0</td>\n",
       "      <td>0</td>\n",
       "      <td>0</td>\n",
       "      <td>0</td>\n",
       "      <td>1</td>\n",
       "      <td>...</td>\n",
       "      <td>0</td>\n",
       "      <td>0</td>\n",
       "      <td>0</td>\n",
       "      <td>0</td>\n",
       "      <td>0</td>\n",
       "      <td>0</td>\n",
       "      <td>0</td>\n",
       "      <td>0</td>\n",
       "      <td>0</td>\n",
       "      <td>1</td>\n",
       "    </tr>\n",
       "    <tr>\n",
       "      <th>4062</th>\n",
       "      <td>4062</td>\n",
       "      <td>1.01</td>\n",
       "      <td>0</td>\n",
       "      <td>0</td>\n",
       "      <td>0</td>\n",
       "      <td>1</td>\n",
       "      <td>0</td>\n",
       "      <td>1</td>\n",
       "      <td>0</td>\n",
       "      <td>0</td>\n",
       "      <td>...</td>\n",
       "      <td>0</td>\n",
       "      <td>0</td>\n",
       "      <td>0</td>\n",
       "      <td>0</td>\n",
       "      <td>0</td>\n",
       "      <td>0</td>\n",
       "      <td>0</td>\n",
       "      <td>0</td>\n",
       "      <td>1</td>\n",
       "      <td>1</td>\n",
       "    </tr>\n",
       "    <tr>\n",
       "      <th>357</th>\n",
       "      <td>357</td>\n",
       "      <td>1.08</td>\n",
       "      <td>0</td>\n",
       "      <td>1</td>\n",
       "      <td>0</td>\n",
       "      <td>0</td>\n",
       "      <td>0</td>\n",
       "      <td>0</td>\n",
       "      <td>0</td>\n",
       "      <td>1</td>\n",
       "      <td>...</td>\n",
       "      <td>0</td>\n",
       "      <td>0</td>\n",
       "      <td>0</td>\n",
       "      <td>0</td>\n",
       "      <td>1</td>\n",
       "      <td>0</td>\n",
       "      <td>0</td>\n",
       "      <td>1</td>\n",
       "      <td>0</td>\n",
       "      <td>0</td>\n",
       "    </tr>\n",
       "    <tr>\n",
       "      <th>352</th>\n",
       "      <td>352</td>\n",
       "      <td>2.02</td>\n",
       "      <td>0</td>\n",
       "      <td>0</td>\n",
       "      <td>0</td>\n",
       "      <td>1</td>\n",
       "      <td>0</td>\n",
       "      <td>0</td>\n",
       "      <td>1</td>\n",
       "      <td>0</td>\n",
       "      <td>...</td>\n",
       "      <td>0</td>\n",
       "      <td>0</td>\n",
       "      <td>0</td>\n",
       "      <td>0</td>\n",
       "      <td>0</td>\n",
       "      <td>1</td>\n",
       "      <td>0</td>\n",
       "      <td>0</td>\n",
       "      <td>0</td>\n",
       "      <td>1</td>\n",
       "    </tr>\n",
       "    <tr>\n",
       "      <th>...</th>\n",
       "      <td>...</td>\n",
       "      <td>...</td>\n",
       "      <td>...</td>\n",
       "      <td>...</td>\n",
       "      <td>...</td>\n",
       "      <td>...</td>\n",
       "      <td>...</td>\n",
       "      <td>...</td>\n",
       "      <td>...</td>\n",
       "      <td>...</td>\n",
       "      <td>...</td>\n",
       "      <td>...</td>\n",
       "      <td>...</td>\n",
       "      <td>...</td>\n",
       "      <td>...</td>\n",
       "      <td>...</td>\n",
       "      <td>...</td>\n",
       "      <td>...</td>\n",
       "      <td>...</td>\n",
       "      <td>...</td>\n",
       "      <td>...</td>\n",
       "    </tr>\n",
       "    <tr>\n",
       "      <th>4681</th>\n",
       "      <td>4681</td>\n",
       "      <td>1.01</td>\n",
       "      <td>0</td>\n",
       "      <td>0</td>\n",
       "      <td>0</td>\n",
       "      <td>1</td>\n",
       "      <td>0</td>\n",
       "      <td>0</td>\n",
       "      <td>0</td>\n",
       "      <td>0</td>\n",
       "      <td>...</td>\n",
       "      <td>0</td>\n",
       "      <td>0</td>\n",
       "      <td>0</td>\n",
       "      <td>0</td>\n",
       "      <td>0</td>\n",
       "      <td>1</td>\n",
       "      <td>0</td>\n",
       "      <td>0</td>\n",
       "      <td>1</td>\n",
       "      <td>1</td>\n",
       "    </tr>\n",
       "    <tr>\n",
       "      <th>4916</th>\n",
       "      <td>4916</td>\n",
       "      <td>2.58</td>\n",
       "      <td>0</td>\n",
       "      <td>1</td>\n",
       "      <td>0</td>\n",
       "      <td>0</td>\n",
       "      <td>0</td>\n",
       "      <td>1</td>\n",
       "      <td>0</td>\n",
       "      <td>0</td>\n",
       "      <td>...</td>\n",
       "      <td>1</td>\n",
       "      <td>0</td>\n",
       "      <td>0</td>\n",
       "      <td>0</td>\n",
       "      <td>0</td>\n",
       "      <td>0</td>\n",
       "      <td>0</td>\n",
       "      <td>0</td>\n",
       "      <td>0</td>\n",
       "      <td>1</td>\n",
       "    </tr>\n",
       "    <tr>\n",
       "      <th>3224</th>\n",
       "      <td>3224</td>\n",
       "      <td>0.81</td>\n",
       "      <td>0</td>\n",
       "      <td>0</td>\n",
       "      <td>1</td>\n",
       "      <td>0</td>\n",
       "      <td>0</td>\n",
       "      <td>0</td>\n",
       "      <td>0</td>\n",
       "      <td>1</td>\n",
       "      <td>...</td>\n",
       "      <td>0</td>\n",
       "      <td>0</td>\n",
       "      <td>0</td>\n",
       "      <td>0</td>\n",
       "      <td>0</td>\n",
       "      <td>0</td>\n",
       "      <td>0</td>\n",
       "      <td>0</td>\n",
       "      <td>0</td>\n",
       "      <td>1</td>\n",
       "    </tr>\n",
       "    <tr>\n",
       "      <th>1618</th>\n",
       "      <td>1618</td>\n",
       "      <td>0.88</td>\n",
       "      <td>0</td>\n",
       "      <td>0</td>\n",
       "      <td>0</td>\n",
       "      <td>1</td>\n",
       "      <td>0</td>\n",
       "      <td>0</td>\n",
       "      <td>0</td>\n",
       "      <td>0</td>\n",
       "      <td>...</td>\n",
       "      <td>0</td>\n",
       "      <td>0</td>\n",
       "      <td>0</td>\n",
       "      <td>1</td>\n",
       "      <td>0</td>\n",
       "      <td>0</td>\n",
       "      <td>1</td>\n",
       "      <td>0</td>\n",
       "      <td>0</td>\n",
       "      <td>1</td>\n",
       "    </tr>\n",
       "    <tr>\n",
       "      <th>1205</th>\n",
       "      <td>1205</td>\n",
       "      <td>1.02</td>\n",
       "      <td>0</td>\n",
       "      <td>0</td>\n",
       "      <td>0</td>\n",
       "      <td>1</td>\n",
       "      <td>0</td>\n",
       "      <td>0</td>\n",
       "      <td>0</td>\n",
       "      <td>0</td>\n",
       "      <td>...</td>\n",
       "      <td>1</td>\n",
       "      <td>0</td>\n",
       "      <td>0</td>\n",
       "      <td>0</td>\n",
       "      <td>0</td>\n",
       "      <td>1</td>\n",
       "      <td>0</td>\n",
       "      <td>0</td>\n",
       "      <td>0</td>\n",
       "      <td>1</td>\n",
       "    </tr>\n",
       "  </tbody>\n",
       "</table>\n",
       "<p>5000 rows × 24 columns</p>\n",
       "</div>"
      ],
      "text/plain": [
       "      Unnamed: 0  Carat Weight  Cut_Good  Cut_Ideal  Cut_Signature-Ideal  \\\n",
       "4969        4969          1.03         0          1                    0   \n",
       "3337        3337          1.70         0          1                    0   \n",
       "4062        4062          1.01         0          0                    0   \n",
       "357          357          1.08         0          1                    0   \n",
       "352          352          2.02         0          0                    0   \n",
       "...          ...           ...       ...        ...                  ...   \n",
       "4681        4681          1.01         0          0                    0   \n",
       "4916        4916          2.58         0          1                    0   \n",
       "3224        3224          0.81         0          0                    1   \n",
       "1618        1618          0.88         0          0                    0   \n",
       "1205        1205          1.02         0          0                    0   \n",
       "\n",
       "      Cut_Very Good  Color_E  Color_F  Color_G  Color_H  ...  Clarity_VS2  \\\n",
       "4969              0        0        0        0        0  ...            0   \n",
       "3337              0        0        0        0        1  ...            0   \n",
       "4062              1        0        1        0        0  ...            0   \n",
       "357               0        0        0        0        1  ...            0   \n",
       "352               1        0        0        1        0  ...            0   \n",
       "...             ...      ...      ...      ...      ...  ...          ...   \n",
       "4681              1        0        0        0        0  ...            0   \n",
       "4916              0        0        1        0        0  ...            1   \n",
       "3224              0        0        0        0        1  ...            0   \n",
       "1618              1        0        0        0        0  ...            0   \n",
       "1205              1        0        0        0        0  ...            1   \n",
       "\n",
       "      Clarity_VVS1  Clarity_VVS2  Polish_G  Polish_ID  Polish_VG  Symmetry_G  \\\n",
       "4969             0             0         0          0          0           0   \n",
       "3337             0             0         0          0          0           0   \n",
       "4062             0             0         0          0          0           0   \n",
       "357              0             0         0          1          0           0   \n",
       "352              0             0         0          0          1           0   \n",
       "...            ...           ...       ...        ...        ...         ...   \n",
       "4681             0             0         0          0          1           0   \n",
       "4916             0             0         0          0          0           0   \n",
       "3224             0             0         0          0          0           0   \n",
       "1618             0             0         1          0          0           1   \n",
       "1205             0             0         0          0          1           0   \n",
       "\n",
       "      Symmetry_ID  Symmetry_VG  Report_GIA  \n",
       "4969            0            0           1  \n",
       "3337            0            0           1  \n",
       "4062            0            1           1  \n",
       "357             1            0           0  \n",
       "352             0            0           1  \n",
       "...           ...          ...         ...  \n",
       "4681            0            1           1  \n",
       "4916            0            0           1  \n",
       "3224            0            0           1  \n",
       "1618            0            0           1  \n",
       "1205            0            0           1  \n",
       "\n",
       "[5000 rows x 24 columns]"
      ]
     },
     "execution_count": 85,
     "metadata": {},
     "output_type": "execute_result"
    }
   ],
   "source": [
    "X_train"
   ]
  },
  {
   "cell_type": "code",
   "execution_count": 86,
   "metadata": {},
   "outputs": [
    {
     "data": {
      "text/html": [
       "<div>\n",
       "<style scoped>\n",
       "    .dataframe tbody tr th:only-of-type {\n",
       "        vertical-align: middle;\n",
       "    }\n",
       "\n",
       "    .dataframe tbody tr th {\n",
       "        vertical-align: top;\n",
       "    }\n",
       "\n",
       "    .dataframe thead th {\n",
       "        text-align: right;\n",
       "    }\n",
       "</style>\n",
       "<table border=\"1\" class=\"dataframe\">\n",
       "  <thead>\n",
       "    <tr style=\"text-align: right;\">\n",
       "      <th></th>\n",
       "      <th>Price</th>\n",
       "    </tr>\n",
       "  </thead>\n",
       "  <tbody>\n",
       "    <tr>\n",
       "      <th>4969</th>\n",
       "      <td>4782.0</td>\n",
       "    </tr>\n",
       "    <tr>\n",
       "      <th>3337</th>\n",
       "      <td>16240.0</td>\n",
       "    </tr>\n",
       "    <tr>\n",
       "      <th>4062</th>\n",
       "      <td>5174.0</td>\n",
       "    </tr>\n",
       "    <tr>\n",
       "      <th>357</th>\n",
       "      <td>5558.0</td>\n",
       "    </tr>\n",
       "    <tr>\n",
       "      <th>352</th>\n",
       "      <td>19442.0</td>\n",
       "    </tr>\n",
       "    <tr>\n",
       "      <th>...</th>\n",
       "      <td>...</td>\n",
       "    </tr>\n",
       "    <tr>\n",
       "      <th>4681</th>\n",
       "      <td>4207.0</td>\n",
       "    </tr>\n",
       "    <tr>\n",
       "      <th>4916</th>\n",
       "      <td>39821.0</td>\n",
       "    </tr>\n",
       "    <tr>\n",
       "      <th>3224</th>\n",
       "      <td>3514.0</td>\n",
       "    </tr>\n",
       "    <tr>\n",
       "      <th>1618</th>\n",
       "      <td>2699.0</td>\n",
       "    </tr>\n",
       "    <tr>\n",
       "      <th>1205</th>\n",
       "      <td>5013.0</td>\n",
       "    </tr>\n",
       "  </tbody>\n",
       "</table>\n",
       "<p>5000 rows × 1 columns</p>\n",
       "</div>"
      ],
      "text/plain": [
       "        Price\n",
       "4969   4782.0\n",
       "3337  16240.0\n",
       "4062   5174.0\n",
       "357    5558.0\n",
       "352   19442.0\n",
       "...       ...\n",
       "4681   4207.0\n",
       "4916  39821.0\n",
       "3224   3514.0\n",
       "1618   2699.0\n",
       "1205   5013.0\n",
       "\n",
       "[5000 rows x 1 columns]"
      ]
     },
     "execution_count": 86,
     "metadata": {},
     "output_type": "execute_result"
    }
   ],
   "source": [
    "y_train"
   ]
  },
  {
   "cell_type": "markdown",
   "metadata": {},
   "source": [
    "## Part 2: Training a simple linear regression on the dataset"
   ]
  },
  {
   "cell_type": "markdown",
   "metadata": {},
   "source": [
    "1. Run a linear regression using scikit-learn. What is `R^2`? The model coefficients?"
   ]
  },
  {
   "cell_type": "code",
   "execution_count": 87,
   "metadata": {},
   "outputs": [
    {
     "name": "stdout",
     "output_type": "stream",
     "text": [
      "Intercept =  [26212.08263472]\n",
      "Model coefficients =  [[ 4.82262555e-02  1.84301057e+04 -4.32564914e+02  1.40313904e+02\n",
      "   1.61669650e+03 -1.52022489e+02 -2.19045517e+03 -2.97593939e+03\n",
      "  -4.72662454e+03 -6.26836630e+03 -7.91563231e+03 -2.67077528e+04\n",
      "  -3.69754661e+04 -3.40600489e+04 -3.54376485e+04 -3.06613970e+04\n",
      "  -3.26200688e+04 -4.88116527e+01 -2.43468102e+02 -6.72759067e+01\n",
      "  -4.17549441e+02 -5.35985867e+01 -2.90960705e+02  2.80513135e+02]]\n",
      "R^2 = 0.8612670134367234\n"
     ]
    }
   ],
   "source": [
    "lm = LinearRegression().fit(X_train, y_train) # Fit a linear regression with vector Y as dependent and matrix X as independent\n",
    "\n",
    "print(\"Intercept = \",lm.intercept_) # Print the resultant model intercept \n",
    "\n",
    "print(\"Model coefficients = \", lm.coef_) # Print the resultant model coefficients (in order of variables in X)\n",
    "\n",
    "print(\"R^2 =\",lm.score(X_train,y_train)) # Print the resultant model R-squared\n"
   ]
  },
  {
   "cell_type": "markdown",
   "metadata": {},
   "source": [
    "2. As seen in class, use `.predict` to obtain the predicted values on the **validation dataset**. Then use `mean_squared_error` to compute the distance between these predicted values and the true values. Take its square root so that its unit is the same as the price. What do you think? You may want to compare to the average price predicted."
   ]
  },
  {
   "cell_type": "code",
   "execution_count": 88,
   "metadata": {},
   "outputs": [],
   "source": [
    "y_pred = lm.predict(X_validation)"
   ]
  },
  {
   "cell_type": "code",
   "execution_count": 89,
   "metadata": {},
   "outputs": [
    {
     "data": {
      "text/plain": [
       "3599.085627662218"
      ]
     },
     "execution_count": 89,
     "metadata": {},
     "output_type": "execute_result"
    }
   ],
   "source": [
    "mean_squared_error(y_validation,y_pred)**(1/2)"
   ]
  },
  {
   "cell_type": "code",
   "execution_count": 90,
   "metadata": {},
   "outputs": [
    {
     "data": {
      "text/plain": [
       "(array([588., 173., 114.,  70.,  35.,  11.,   2.,   3.,   3.,   1.]),\n",
       " array([ 2184. ,  9668.9, 17153.8, 24638.7, 32123.6, 39608.5, 47093.4,\n",
       "        54578.3, 62063.2, 69548.1, 77033. ]),\n",
       " <BarContainer object of 10 artists>)"
      ]
     },
     "execution_count": 90,
     "metadata": {},
     "output_type": "execute_result"
    },
    {
     "data": {
      "image/png": "[encoded data removed]",
      "text/plain": [
       "<Figure size 432x288 with 1 Axes>"
      ]
     },
     "metadata": {
      "needs_background": "light"
     },
     "output_type": "display_data"
    }
   ],
   "source": [
    "plt.hist(y_validation)"
   ]
  },
  {
   "cell_type": "markdown",
   "metadata": {},
   "source": [
    "This is quite high as a deviation compared to the values that price takes."
   ]
  },
  {
   "cell_type": "markdown",
   "metadata": {},
   "source": [
    "## Part 3: Training a log-log model on the dataset\n",
    "\n",
    "The *Sarah gets a diamond* case makes a good case for why the log-log model would work well in this set-up. Let's also construct this model. \n",
    "\n",
    "1. Using `.copy()` to make copies `X_train_log, X_validation_log, y_train_log` of `X_train, X_validation, y_train`. Apply a log transform to the copy of `y_train` and to the `Carat Weight` columns of the copies of `X_train` and `X_validation`."
   ]
  },
  {
   "cell_type": "code",
   "execution_count": 92,
   "metadata": {},
   "outputs": [],
   "source": [
    "from numpy import log\n",
    "X_train_log=X_train.copy()\n",
    "X_validation_log=X_validation.copy()\n",
    "y_train_log=y_train.copy()"
   ]
  },
  {
   "cell_type": "code",
   "execution_count": 93,
   "metadata": {},
   "outputs": [],
   "source": [
    "X_train_log[\"Carat Weight\"]=X_train_log[\"Carat Weight\"].apply(log)\n",
    "X_validation_log[\"Carat Weight\"]=X_validation_log[\"Carat Weight\"].apply(log)\n",
    "y_train_log=y_train_log.apply(log)"
   ]
  },
  {
   "cell_type": "markdown",
   "metadata": {},
   "source": [
    "2. Fit a linear regression to `(X_train_log, y_train_log)` using sklearn."
   ]
  },
  {
   "cell_type": "code",
   "execution_count": 96,
   "metadata": {},
   "outputs": [
    {
     "name": "stdout",
     "output_type": "stream",
     "text": [
      "Intercept =  [9.45002563]\n",
      "Model coefficients =  [[ 4.54778263e-07  1.98743091e+00  4.82547740e-02  1.07100791e-01\n",
      "   2.50782851e-01  7.62030452e-02 -8.59211803e-02 -1.21270855e-01\n",
      "  -2.19380821e-01 -3.50352434e-01 -4.93366078e-01 -2.94903759e-01\n",
      "  -8.64399799e-01 -6.21693263e-01 -7.02182233e-01 -4.18057461e-01\n",
      "  -4.96085260e-01 -3.57240464e-02  2.91968649e-02 -1.93894898e-02\n",
      "  -2.35771791e-02 -1.07808624e-02 -2.07441792e-02  4.40264353e-02]]\n",
      "R^2 = 0.9792612663947216\n"
     ]
    }
   ],
   "source": [
    "lm = LinearRegression().fit(X_train_log, y_train_log) # Fit a linear regression with vector Y as dependent and matrix X as independent\n",
    "\n",
    "print(\"Intercept = \",lm.intercept_) # Print the resultant model intercept \n",
    "\n",
    "print(\"Model coefficients = \", lm.coef_) # Print the resultant model coefficients (in order of variables in X)\n",
    "\n",
    "print(\"R^2 =\",lm.score(X_train_log,y_train_log)) # Print the resultant model R-squared"
   ]
  },
  {
   "cell_type": "markdown",
   "metadata": {},
   "source": [
    "3. Use `.predict` to obtain the predicted values on `X_validation_log`. Call these `y_pred_log`: note that `y_pred_log` are not exactly prices: we need to take the exponential of `y_pred_log` to have prices. Compute the mean squared error between `y_validation` and `np.exp(y_pred_log)` which is the exponential of `y_pred_log`. What do you think?"
   ]
  },
  {
   "cell_type": "code",
   "execution_count": 97,
   "metadata": {},
   "outputs": [],
   "source": [
    "y_pred_log = lm.predict(X_validation_log)"
   ]
  },
  {
   "cell_type": "code",
   "execution_count": 98,
   "metadata": {},
   "outputs": [
    {
     "data": {
      "text/plain": [
       "1951.8035156679657"
      ]
     },
     "execution_count": 98,
     "metadata": {},
     "output_type": "execute_result"
    }
   ],
   "source": [
    "mean_squared_error(y_validation,np.exp(y_pred_log))**(1/2)"
   ]
  },
  {
   "cell_type": "markdown",
   "metadata": {},
   "source": [
    "We've approximately halved the mean squared error by considering a log-log model."
   ]
  },
  {
   "cell_type": "markdown",
   "metadata": {},
   "source": [
    "## Part 4: Further improving the model\n",
    "\n",
    "There are many different ways of improving this model. One way of improving the model would be to add new (relevant) features to it. To see what could maybe be new features to add, we proceed with a visualization using the raw data to which we have applied a log transform on the Price and the Carat Weight."
   ]
  },
  {
   "attachments": {
    "image.png": {
     "image/png": "[encoded data removed]"
    }
   },
   "cell_type": "markdown",
   "metadata": {},
   "source": [
    "1. Take a look at the scatter plot below: \n",
    "![image.png](attachment:image.png)\n",
    "\n",
    "What can you say about the way the price increases as a function of carat weight as the color changes?"
   ]
  },
  {
   "cell_type": "markdown",
   "metadata": {},
   "source": [
    "Price increases faster in Carat Weight for the diamonds of \"better\" colors (i.e., D, E, F). Our model has not learned that yet as there is only one coefficient for Carat Weight that does not change with Color. We can incorporate this in our model by adding new features that multiply Carat Weight with Color."
   ]
  },
  {
   "cell_type": "markdown",
   "metadata": {},
   "source": [
    "2. In `X_train_log` and `X_validation_log`, add 5 new features corrresponding to the product of `Carat Weight` and all the color features."
   ]
  },
  {
   "cell_type": "code",
   "execution_count": 104,
   "metadata": {},
   "outputs": [],
   "source": [
    "X_train_log['Carat Weight:Color_E'] = X_train_log['Carat Weight'] * X_train_log['Color_E']\n",
    "X_train_log['Carat Weight:Color_F'] = X_train_log['Carat Weight'] * X_train_log['Color_F']\n",
    "X_train_log['Carat Weight:Color_G'] = X_train_log['Carat Weight'] * X_train_log['Color_G']\n",
    "X_train_log['Carat Weight:Color_H'] = X_train_log['Carat Weight'] * X_train_log['Color_H']\n",
    "X_train_log['Carat Weight:Color_I'] = X_train_log['Carat Weight'] * X_train_log['Color_I']"
   ]
  },
  {
   "cell_type": "code",
   "execution_count": 105,
   "metadata": {},
   "outputs": [],
   "source": [
    "X_validation_log['Carat Weight:Color_E'] = X_validation_log['Carat Weight'] * X_validation_log['Color_E']\n",
    "X_validation_log['Carat Weight:Color_F'] = X_validation_log['Carat Weight'] * X_validation_log['Color_F']\n",
    "X_validation_log['Carat Weight:Color_G'] = X_validation_log['Carat Weight'] * X_validation_log['Color_G']\n",
    "X_validation_log['Carat Weight:Color_H'] = X_validation_log['Carat Weight'] * X_validation_log['Color_H']\n",
    "X_validation_log['Carat Weight:Color_I'] = X_validation_log['Carat Weight'] * X_validation_log['Color_I']"
   ]
  },
  {
   "cell_type": "markdown",
   "metadata": {},
   "source": [
    "3. Fit a linear regression model to the newly defined `(X_train_log, y_train_log)` using scikit-learn."
   ]
  },
  {
   "cell_type": "code",
   "execution_count": 107,
   "metadata": {},
   "outputs": [
    {
     "name": "stdout",
     "output_type": "stream",
     "text": [
      "Intercept =  [9.3494876]\n",
      "Model coefficients =  [[ 3.86241294e-08  2.15715953e+00  4.91520878e-02  1.06358217e-01\n",
      "   2.47769376e-01  7.60956474e-02 -6.51822966e-02 -1.05110096e-01\n",
      "  -1.91539370e-01 -2.96164864e-01 -4.28762123e-01 -2.24007795e-01\n",
      "  -7.81038916e-01 -5.42603860e-01 -6.19456027e-01 -3.43436544e-01\n",
      "  -4.18171660e-01 -3.81459794e-02  3.28797148e-02 -2.05479070e-02\n",
      "  -2.45676640e-02 -2.21378894e-02 -2.11473012e-02  3.67868822e-02\n",
      "  -1.09075372e-01 -1.06796904e-01 -1.60876739e-01 -2.66266431e-01\n",
      "  -2.97117701e-01]]\n",
      "R^2 = 0.9810848025965505\n"
     ]
    }
   ],
   "source": [
    "lm = LinearRegression().fit(X_train_log, y_train_log) # Fit a linear regression with vector Y as dependent and matrix X as independent\n",
    "\n",
    "print(\"Intercept = \",lm.intercept_) # Print the resultant model intercept \n",
    "\n",
    "print(\"Model coefficients = \", lm.coef_) # Print the resultant model coefficients (in order of variables in X)\n",
    "\n",
    "print(\"R^2 =\",lm.score(X_train_log,y_train_log)) # Print the resultant model R-squared"
   ]
  },
  {
   "cell_type": "markdown",
   "metadata": {},
   "source": [
    "4. Use `.predict` to obtain the predicted values on `X_train_log`. Call these `y_pred_log`: note that `y_pred_log` are not exactly prices: we need to take the exponential of `y_pred_log` to have prices. Compute the mean squared error between `y_validation` and `np.exp(y_pred_log)` which is the exponential of `y_pred_log`. What do you think?"
   ]
  },
  {
   "cell_type": "code",
   "execution_count": 108,
   "metadata": {},
   "outputs": [],
   "source": [
    "y_pred_log = lm.predict(X_validation_log)"
   ]
  },
  {
   "cell_type": "code",
   "execution_count": 109,
   "metadata": {},
   "outputs": [
    {
     "data": {
      "text/plain": [
       "1684.5802602706626"
      ]
     },
     "execution_count": 109,
     "metadata": {},
     "output_type": "execute_result"
    }
   ],
   "source": [
    "mean_squared_error(y_validation,np.exp(y_pred_log))**(1/2)"
   ]
  },
  {
   "cell_type": "markdown",
   "metadata": {},
   "source": [
    "There is a decrease of the MSE by simply adding these extra variables! We could keep making these kinds of improvements (e.g., maybe adding cut etc.)"
   ]
  },
  {
   "cell_type": "markdown",
   "metadata": {},
   "source": [
    "5. Out of the three models (basic linear regression, log-log regression, log-log regression with added features), which one would you pick to try on the testing set? What do you need to do before sending your model to me to try on the testing set?"
   ]
  },
  {
   "cell_type": "markdown",
   "metadata": {},
   "source": [
    "We would pick the third model as it has the smallest MSE. Before sending over the model, we should retrain it on all the dataset (training+validation)."
   ]
  }
 ],
 "metadata": {
  "kernelspec": {
   "display_name": "Python 3 (ipykernel)",
   "language": "python",
   "name": "python3"
  },
  "language_info": {
   "codemirror_mode": {
    "name": "ipython",
    "version": 3
   },
   "file_extension": ".py",
   "mimetype": "text/x-python",
   "name": "python",
   "nbconvert_exporter": "python",
   "pygments_lexer": "ipython3",
   "version": "3.8.11"
  }
 },
 "nbformat": 4,
 "nbformat_minor": 4
}
