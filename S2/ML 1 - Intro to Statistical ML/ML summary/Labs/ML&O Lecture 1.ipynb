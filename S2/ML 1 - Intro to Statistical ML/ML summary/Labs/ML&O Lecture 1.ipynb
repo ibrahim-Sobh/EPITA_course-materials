{
 "cells": [
  {
   "cell_type": "markdown",
   "metadata": {
    "id": "h2ZmLOoZD_jH"
   },
   "source": [
    "In this notebook, we are going to review some of the basics in Python that you partially covered in P0. This is slightly different to P0 however as you are interacting with a Notebook rather than a Python prompt. The pros of a Notebook is that it's a lot more user-friendly and easier to parse and organise. For teaching purposes, it's much better!\n",
    "\n",
    "We will get started on some very easy exercises and progressively see more complicated topics. \n",
    "\n",
    "The goal of this short tutorial is not so much to make you a programmer, but to give you all the tools that could be needed in future lectures. For example, we do not cover functions or classes, which would be a necessity for a programmer; but we will spend some time on operations relating to dataframes.\n",
    "\n",
    "Please fill in the document as you go!"
   ]
  },
  {
   "cell_type": "markdown",
   "metadata": {
    "id": "9AwKYkhAD_jR"
   },
   "source": [
    "# 1. Preambles in a Jupyter Notebook\n",
    "\n",
    "Python is a pretty \"basic\" shell. It contains for example commands to do basic arithmetic and basic data structures (such as lists). For any package we wish to use in a notebook on top of the basic functionalities, we first need to import it, often renaming it in the process to make it shorter to type out. \n",
    "\n",
    "We will use a couple of packages throughout the class:\n",
    "\n",
    "\n",
    "*   Numpy for arrays\n",
    "*   Pandas for dataframes\n",
    "* Matplotlib for graphing\n",
    "* Scikit-learn for machine learning\n",
    "\n",
    "These are the main ones. We may sometimes use other packages for class-specific reasons. I will let you know when this occurs."
   ]
  },
  {
   "cell_type": "code",
   "execution_count": 33,
   "metadata": {
    "executionInfo": {
     "elapsed": 223,
     "status": "ok",
     "timestamp": 1634724086327,
     "user": {
      "displayName": "Georgina Hall",
      "photoUrl": "https://lh3.googleusercontent.com/a/default-user=s64",
      "userId": "09059160022888590327"
     },
     "user_tz": -120
    },
    "id": "sJ3ViRPzD_jT"
   },
   "outputs": [],
   "source": [
    "import numpy as np\n",
    "import pandas as pd"
   ]
  },
  {
   "cell_type": "markdown",
   "metadata": {
    "id": "uouX0fjeD_jV"
   },
   "source": [
    "In general, in preambles of the notebooks I give you, there is also a part that reads in the data that we are going to use throughout the lecture. We will see how we \"read in\" data later on."
   ]
  },
  {
   "cell_type": "markdown",
   "metadata": {
    "id": "0DsWb8eID_jW"
   },
   "source": [
    "# 2. Print, variable assignment and types, basic operations, lists\n",
    "\n",
    "All of the concepts we see here should be easy and immediate for you in the long-run (i.e., you should be so familiar with them that you don't need any googling or help using them). \n",
    "\n",
    "## 1. Printing\n",
    "\n",
    "The \"print\" command enables us to \"see\" what is going on in the background. We use it in this way: `print(\"Hello World!\")`. Try it out!"
   ]
  },
  {
   "cell_type": "code",
   "execution_count": null,
   "metadata": {
    "id": "Kg3BMRTtD_jX",
    "outputId": "602eb92a-5ce1-49e4-8bf3-a02d30366f85"
   },
   "outputs": [
    {
     "name": "stdout",
     "output_type": "stream",
     "text": [
      "Hello World!\n"
     ]
    }
   ],
   "source": [
    "print(\"Hello World!\")"
   ]
  },
  {
   "cell_type": "markdown",
   "metadata": {
    "id": "G1JWa-L7D_jY"
   },
   "source": [
    "Note that you can get round using `print` if you just type `Hello World!` e.g. Try it out!"
   ]
  },
  {
   "cell_type": "code",
   "execution_count": null,
   "metadata": {
    "id": "o-XJiASTD_jZ",
    "outputId": "672f3d26-31f8-4b4e-ea70-296c00471018"
   },
   "outputs": [
    {
     "data": {
      "text/plain": [
       "'Hello World!'"
      ]
     },
     "execution_count": 7,
     "metadata": {},
     "output_type": "execute_result"
    }
   ],
   "source": [
    "'Hello World!'"
   ]
  },
  {
   "cell_type": "markdown",
   "metadata": {
    "id": "g69rJ11OD_ja"
   },
   "source": [
    "This only works for the last command you type in though. If you type ` \"Hello World!\"` and then, in the same block, `\"My name is...\"`, only the last one appears. Try it out! This is where `print` is particularly useful."
   ]
  },
  {
   "cell_type": "code",
   "execution_count": null,
   "metadata": {
    "id": "AjCDs5eHD_jc",
    "outputId": "df06c30f-61b8-44fb-c23a-ada57fd2fe6f"
   },
   "outputs": [
    {
     "data": {
      "text/plain": [
       "'My name is...'"
      ]
     },
     "execution_count": 8,
     "metadata": {},
     "output_type": "execute_result"
    }
   ],
   "source": [
    "\"Hello World!\"\n",
    "\"My name is...\""
   ]
  },
  {
   "cell_type": "markdown",
   "metadata": {
    "id": "gzWS9PSSD_jd"
   },
   "source": [
    "## 2. Variable Assignment and Types\n",
    "\n",
    "It is very useful to know how to store information into a variable. For example, if the price of a good is 28.75 euros and I don't want to keep remembering this number, I can simply write `p=28.75` and then call `p` throughout. This is known as *variable assignment*: we assign to the variable p the value 28.75. \n",
    "\n",
    "Try assigning the integer 104 to the variable `number`. Then print out `number`."
   ]
  },
  {
   "cell_type": "code",
   "execution_count": null,
   "metadata": {
    "id": "OORcYtybD_je",
    "outputId": "72c9cd66-0952-4e78-9836-0168bd4e424e"
   },
   "outputs": [
    {
     "name": "stdout",
     "output_type": "stream",
     "text": [
      "104\n"
     ]
    }
   ],
   "source": [
    "number=104\n",
    "print(number)"
   ]
  },
  {
   "cell_type": "markdown",
   "metadata": {
    "id": "9Upx9hFmD_jf"
   },
   "source": [
    "To organize things, Python classifies information into categories and then handles these categories differently. There are many categories but we just focus on four: integers (such as 104), floats (you can view these as decimal numbers), strings (which are text based), and Booleans (True/False). For Python to recognize these categories, you don't have to do much except input your information correctly. You can use `type` to see what this gives you. For example:"
   ]
  },
  {
   "cell_type": "code",
   "execution_count": null,
   "metadata": {
    "id": "7V0rlfvPD_jg",
    "outputId": "4d2c5931-cb8d-4c38-a1b9-71d37de50932"
   },
   "outputs": [
    {
     "data": {
      "text/plain": [
       "int"
      ]
     },
     "execution_count": 5,
     "metadata": {},
     "output_type": "execute_result"
    }
   ],
   "source": [
    "number=104\n",
    "type(number)"
   ]
  },
  {
   "cell_type": "markdown",
   "metadata": {
    "id": "FqOrN62tD_jh"
   },
   "source": [
    "Now pick your favorite float and string, assign them to some variables and print out their type!"
   ]
  },
  {
   "cell_type": "code",
   "execution_count": null,
   "metadata": {
    "id": "HhKLNt4oD_ji",
    "outputId": "e37db8db-7e51-4b8d-8534-870ac68fcf98"
   },
   "outputs": [
    {
     "name": "stdout",
     "output_type": "stream",
     "text": [
      "<class 'float'>\n",
      "<class 'str'>\n"
     ]
    }
   ],
   "source": [
    "myfloat=3.5\n",
    "print(type(myfloat))\n",
    "mystring=\"Georgina\"\n",
    "print(type(mystring))"
   ]
  },
  {
   "cell_type": "markdown",
   "metadata": {
    "id": "zg8QjVGQD_jj"
   },
   "source": [
    "## 3. Basic operations\n",
    "\n",
    "These are the basic arithmetic operations that you may have to conduct: they include `+` for addition, `-` for substraction, `*` for multiplication, `/` for division and `**` for powers. \n",
    "\n",
    "Our first exercise is to take any temperature in Celsius and conver it to Fahrenheit. For example, $0^\\circ C \\cdot 9/5+32= 32^\\circ F$. How much is $15^\\circ$ Celsius in Fahrenheit?"
   ]
  },
  {
   "cell_type": "code",
   "execution_count": null,
   "metadata": {
    "id": "M5daQD34D_jj",
    "outputId": "99b3d820-bade-4199-f7b5-f03c1080f1da"
   },
   "outputs": [
    {
     "data": {
      "text/plain": [
       "59.0"
      ]
     },
     "execution_count": 9,
     "metadata": {},
     "output_type": "execute_result"
    }
   ],
   "source": [
    "15*9/5+32"
   ]
  },
  {
   "cell_type": "markdown",
   "metadata": {
    "id": "lOKcyguHD_jk"
   },
   "source": [
    "Compute the area of a circle of radius 3. (Reminder: $A=\\pi R^2$ and use `np.pi` for $\\pi$.)"
   ]
  },
  {
   "cell_type": "code",
   "execution_count": null,
   "metadata": {
    "id": "m8QajY2FD_jk",
    "outputId": "925af653-392e-477d-b083-7e8da63b88a1"
   },
   "outputs": [
    {
     "data": {
      "text/plain": [
       "28.274333882308138"
      ]
     },
     "execution_count": 12,
     "metadata": {},
     "output_type": "execute_result"
    }
   ],
   "source": [
    "R=3\n",
    "np.pi*3**2"
   ]
  },
  {
   "cell_type": "markdown",
   "metadata": {
    "id": "N9UY932mD_jl"
   },
   "source": [
    "The `%` operation gives the remainder of a division: try `10%2` versus `11%2`."
   ]
  },
  {
   "cell_type": "code",
   "execution_count": null,
   "metadata": {
    "id": "e42R4NNcD_jl",
    "outputId": "dbaeb5a3-3f76-4695-88c7-0f987ceb944b"
   },
   "outputs": [
    {
     "data": {
      "text/plain": [
       "0"
      ]
     },
     "execution_count": 4,
     "metadata": {},
     "output_type": "execute_result"
    }
   ],
   "source": [
    "10%2"
   ]
  },
  {
   "cell_type": "code",
   "execution_count": null,
   "metadata": {
    "id": "Y3MrIOiZD_jm",
    "outputId": "deeed80d-6674-45f7-a26d-cb9ac44cb478"
   },
   "outputs": [
    {
     "data": {
      "text/plain": [
       "1"
      ]
     },
     "execution_count": 5,
     "metadata": {},
     "output_type": "execute_result"
    }
   ],
   "source": [
    "11%2"
   ]
  },
  {
   "cell_type": "markdown",
   "metadata": {
    "id": "JVD5UGOYD_jm"
   },
   "source": [
    "## 4. Lists\n",
    "\n",
    "These are the most basic data structures one can encounter in Python. Defining a list L can look something like this `L=[1,2,3]`. A list can take as an entry any type of variable (strings, floats, integers). It can also be taken to be empty if the goal is just to add to it later `L=[]`.\n",
    "\n",
    "Create a list L that contains: your first name, your last name, your age. Print it out."
   ]
  },
  {
   "cell_type": "code",
   "execution_count": 2,
   "metadata": {
    "colab": {
     "base_uri": "https://localhost:8080/"
    },
    "executionInfo": {
     "elapsed": 50,
     "status": "ok",
     "timestamp": 1634723949378,
     "user": {
      "displayName": "Georgina Hall",
      "photoUrl": "https://lh3.googleusercontent.com/a/default-user=s64",
      "userId": "09059160022888590327"
     },
     "user_tz": -120
    },
    "id": "gCBhjoZuD_jm",
    "outputId": "389f938d-f027-47e8-fbc5-5f4553fed163"
   },
   "outputs": [
    {
     "name": "stdout",
     "output_type": "stream",
     "text": [
      "['Georgina', 'Hall', 31]\n"
     ]
    }
   ],
   "source": [
    "L=[\"Georgina\",\"Hall\",31]\n",
    "print(L)"
   ]
  },
  {
   "cell_type": "markdown",
   "metadata": {
    "id": "bjVjvk1ND_jn"
   },
   "source": [
    "Check that your list has size 3 by running `len()`."
   ]
  },
  {
   "cell_type": "code",
   "execution_count": 3,
   "metadata": {
    "colab": {
     "base_uri": "https://localhost:8080/"
    },
    "executionInfo": {
     "elapsed": 322,
     "status": "ok",
     "timestamp": 1634723955056,
     "user": {
      "displayName": "Georgina Hall",
      "photoUrl": "https://lh3.googleusercontent.com/a/default-user=s64",
      "userId": "09059160022888590327"
     },
     "user_tz": -120
    },
    "id": "NDiAIXG6D_jn",
    "outputId": "0c701fe9-4217-4cdc-bb12-e10c9c3e7687"
   },
   "outputs": [
    {
     "data": {
      "text/plain": [
       "3"
      ]
     },
     "execution_count": 3,
     "metadata": {},
     "output_type": "execute_result"
    }
   ],
   "source": [
    "len(L)"
   ]
  },
  {
   "cell_type": "markdown",
   "metadata": {
    "id": "o882nAIsD_jn"
   },
   "source": [
    "Access the second element of your list using `L[1]`. Why is it not `L[2]`? How do I access the last two elements e.g.?"
   ]
  },
  {
   "cell_type": "code",
   "execution_count": 4,
   "metadata": {
    "colab": {
     "base_uri": "https://localhost:8080/"
    },
    "executionInfo": {
     "elapsed": 1569,
     "status": "ok",
     "timestamp": 1634723963978,
     "user": {
      "displayName": "Georgina Hall",
      "photoUrl": "https://lh3.googleusercontent.com/a/default-user=s64",
      "userId": "09059160022888590327"
     },
     "user_tz": -120
    },
    "id": "eqyWnlA5D_jn",
    "outputId": "55212fac-e045-4245-f75f-db5f1421f892"
   },
   "outputs": [
    {
     "name": "stdout",
     "output_type": "stream",
     "text": [
      "Hall\n",
      "['Hall', 31]\n"
     ]
    }
   ],
   "source": [
    "print(L[1])\n",
    "print(L[1:3])"
   ]
  },
  {
   "cell_type": "markdown",
   "metadata": {
    "id": "dBTKyoJtD_jn"
   },
   "source": [
    "Note that `L[-1]` gives access to the last element."
   ]
  },
  {
   "cell_type": "code",
   "execution_count": 5,
   "metadata": {
    "colab": {
     "base_uri": "https://localhost:8080/"
    },
    "executionInfo": {
     "elapsed": 281,
     "status": "ok",
     "timestamp": 1634723968241,
     "user": {
      "displayName": "Georgina Hall",
      "photoUrl": "https://lh3.googleusercontent.com/a/default-user=s64",
      "userId": "09059160022888590327"
     },
     "user_tz": -120
    },
    "id": "YZTxguchD_jn",
    "outputId": "7e9efa12-a1c1-4916-d955-cf5ea43c05f5"
   },
   "outputs": [
    {
     "data": {
      "text/plain": [
       "31"
      ]
     },
     "execution_count": 5,
     "metadata": {},
     "output_type": "execute_result"
    }
   ],
   "source": [
    "L[-1]"
   ]
  },
  {
   "cell_type": "markdown",
   "metadata": {
    "id": "wZu17JJgD_jo"
   },
   "source": [
    "Change the first element of the list to your second name, or a name you would have liked to have if you don't have a second name. Use the assignment operator (`=`) to do this."
   ]
  },
  {
   "cell_type": "code",
   "execution_count": 6,
   "metadata": {
    "colab": {
     "base_uri": "https://localhost:8080/"
    },
    "executionInfo": {
     "elapsed": 371,
     "status": "ok",
     "timestamp": 1634723970016,
     "user": {
      "displayName": "Georgina Hall",
      "photoUrl": "https://lh3.googleusercontent.com/a/default-user=s64",
      "userId": "09059160022888590327"
     },
     "user_tz": -120
    },
    "id": "-f1QzsadD_jo",
    "outputId": "6b5e1dea-8f4d-4c50-927d-6ebc664fd007"
   },
   "outputs": [
    {
     "name": "stdout",
     "output_type": "stream",
     "text": [
      "['Louise', 'Hall', 31]\n"
     ]
    }
   ],
   "source": [
    "L[0]=\"Louise\"\n",
    "print(L)"
   ]
  },
  {
   "cell_type": "markdown",
   "metadata": {
    "id": "qLe7rfXXD_jo"
   },
   "source": [
    "Using `.append` add your month of birth (as a string) to your list L."
   ]
  },
  {
   "cell_type": "code",
   "execution_count": 7,
   "metadata": {
    "colab": {
     "base_uri": "https://localhost:8080/"
    },
    "executionInfo": {
     "elapsed": 314,
     "status": "ok",
     "timestamp": 1634723972322,
     "user": {
      "displayName": "Georgina Hall",
      "photoUrl": "https://lh3.googleusercontent.com/a/default-user=s64",
      "userId": "09059160022888590327"
     },
     "user_tz": -120
    },
    "id": "Rqo318EoD_jo",
    "outputId": "4c638cde-fba5-4f0d-8abc-8fb0a178ecd4"
   },
   "outputs": [
    {
     "name": "stdout",
     "output_type": "stream",
     "text": [
      "['Louise', 'Hall', 31, 'October']\n"
     ]
    }
   ],
   "source": [
    "L.append(\"October\")\n",
    "print(L)"
   ]
  },
  {
   "cell_type": "markdown",
   "metadata": {
    "id": "NPHZ0_3yD_jo"
   },
   "source": [
    "Suppose I want to add two pieces of information to the list: the class name and number, i.e., I want to add `M=[\"ML&O\", 1]` to the existing list L. Try using `.append()` and `.extend()` to see how they are different. Which one should you use?"
   ]
  },
  {
   "cell_type": "code",
   "execution_count": 8,
   "metadata": {
    "colab": {
     "base_uri": "https://localhost:8080/"
    },
    "executionInfo": {
     "elapsed": 264,
     "status": "ok",
     "timestamp": 1634723979091,
     "user": {
      "displayName": "Georgina Hall",
      "photoUrl": "https://lh3.googleusercontent.com/a/default-user=s64",
      "userId": "09059160022888590327"
     },
     "user_tz": -120
    },
    "id": "DzpiZsH4D_jp",
    "outputId": "6119b51e-73a5-48fc-d57b-cbab5709a3c3"
   },
   "outputs": [
    {
     "data": {
      "text/plain": [
       "['Georgina', 'Hall', 30, ['ML&O', 1]]"
      ]
     },
     "execution_count": 8,
     "metadata": {},
     "output_type": "execute_result"
    }
   ],
   "source": [
    "L=[\"Georgina\",\"Hall\",30]\n",
    "M=[\"ML&O\",1]\n",
    "L.append(M)\n",
    "L"
   ]
  },
  {
   "cell_type": "code",
   "execution_count": 9,
   "metadata": {
    "colab": {
     "base_uri": "https://localhost:8080/"
    },
    "executionInfo": {
     "elapsed": 270,
     "status": "ok",
     "timestamp": 1634723983215,
     "user": {
      "displayName": "Georgina Hall",
      "photoUrl": "https://lh3.googleusercontent.com/a/default-user=s64",
      "userId": "09059160022888590327"
     },
     "user_tz": -120
    },
    "id": "cg20ETK9D_jp",
    "outputId": "8c1307eb-3da4-4106-b3c3-05fba69af306"
   },
   "outputs": [
    {
     "data": {
      "text/plain": [
       "['Georgina', 'Hall', 30, 'ML&O', 1]"
      ]
     },
     "execution_count": 9,
     "metadata": {},
     "output_type": "execute_result"
    }
   ],
   "source": [
    "L=[\"Georgina\",\"Hall\",30]\n",
    "M=[\"ML&O\",1]\n",
    "L.extend(M)\n",
    "L"
   ]
  },
  {
   "cell_type": "markdown",
   "metadata": {
    "id": "RXG2ikWzD_jp"
   },
   "source": [
    "Note that `.append` and `.extend` modify the *original* list. If you want to create a new variable that contains L with M added on you would use the `+` operator thus:"
   ]
  },
  {
   "cell_type": "code",
   "execution_count": 10,
   "metadata": {
    "colab": {
     "base_uri": "https://localhost:8080/"
    },
    "executionInfo": {
     "elapsed": 261,
     "status": "ok",
     "timestamp": 1634723988903,
     "user": {
      "displayName": "Georgina Hall",
      "photoUrl": "https://lh3.googleusercontent.com/a/default-user=s64",
      "userId": "09059160022888590327"
     },
     "user_tz": -120
    },
    "id": "K5R3DWf_D_jp",
    "outputId": "ab217499-1d31-4256-cf3c-5c4329e7e8ef"
   },
   "outputs": [
    {
     "name": "stdout",
     "output_type": "stream",
     "text": [
      "['Georgina', 'Hall', 30, 'ML&O', 1]\n"
     ]
    }
   ],
   "source": [
    "L=[\"Georgina\",\"Hall\",30]\n",
    "M=[\"ML&O\",1]\n",
    "NewList=L+M\n",
    "print(NewList)"
   ]
  },
  {
   "cell_type": "markdown",
   "metadata": {
    "id": "S4DqIzLZD_jq"
   },
   "source": [
    "One last operator that might be useful for lists is the ability to count frequencies `.count`. Use `.count` to count the number of occurrences of 5 in the list below."
   ]
  },
  {
   "cell_type": "code",
   "execution_count": 11,
   "metadata": {
    "executionInfo": {
     "elapsed": 275,
     "status": "ok",
     "timestamp": 1634723992462,
     "user": {
      "displayName": "Georgina Hall",
      "photoUrl": "https://lh3.googleusercontent.com/a/default-user=s64",
      "userId": "09059160022888590327"
     },
     "user_tz": -120
    },
    "id": "NvOpQ1NzD_jq"
   },
   "outputs": [],
   "source": [
    "L=[1,2,4,2,4,5,1,5,0]"
   ]
  },
  {
   "cell_type": "code",
   "execution_count": 12,
   "metadata": {
    "colab": {
     "base_uri": "https://localhost:8080/"
    },
    "executionInfo": {
     "elapsed": 304,
     "status": "ok",
     "timestamp": 1634723994620,
     "user": {
      "displayName": "Georgina Hall",
      "photoUrl": "https://lh3.googleusercontent.com/a/default-user=s64",
      "userId": "09059160022888590327"
     },
     "user_tz": -120
    },
    "id": "aKF-bHsaD_jq",
    "outputId": "f92fe4f5-7b15-49ad-e5f1-c7316c918ebf"
   },
   "outputs": [
    {
     "data": {
      "text/plain": [
       "2"
      ]
     },
     "execution_count": 12,
     "metadata": {},
     "output_type": "execute_result"
    }
   ],
   "source": [
    "L.count(5)"
   ]
  },
  {
   "cell_type": "markdown",
   "metadata": {
    "id": "JduiREFWD_jq"
   },
   "source": [
    "Similar functions that can be used are `.sort` which sorts the list for you, `.insert` which inserts an element at a specified index, and `.index` which returns the first index of appearance of a given item."
   ]
  },
  {
   "cell_type": "markdown",
   "metadata": {
    "id": "dkK8KUssD_jq"
   },
   "source": [
    "# 3. Conditions, if...then...else, and loops\n",
    "\n",
    "It can be very useful to be able to check whether a condition is verified or loop through a list. We give more examples now.\n",
    "\n",
    "## 1. Conditions\n",
    "\n",
    "The first condition is simply whether something is equal to something else. We use here `==`: when the left hand side of the double equality is equal to the right hand side, True is returned. Otherwise False is returned. Note that `==` and `=` mean fundamentally different things: `==` is about checking whether two things are the same, `=` assigns a value to whatever is on the left hand side. Note that not equal to is `!=`.\n",
    "\n",
    "Create a variable `x` equal to 2. Check using `==` whether `x` is equal to 2."
   ]
  },
  {
   "cell_type": "code",
   "execution_count": 13,
   "metadata": {
    "colab": {
     "base_uri": "https://localhost:8080/"
    },
    "executionInfo": {
     "elapsed": 250,
     "status": "ok",
     "timestamp": 1634724001288,
     "user": {
      "displayName": "Georgina Hall",
      "photoUrl": "https://lh3.googleusercontent.com/a/default-user=s64",
      "userId": "09059160022888590327"
     },
     "user_tz": -120
    },
    "id": "Mldiyde_D_jr",
    "outputId": "9df54e9a-78e7-41dc-cd25-caed9e2430a5"
   },
   "outputs": [
    {
     "data": {
      "text/plain": [
       "True"
      ]
     },
     "execution_count": 13,
     "metadata": {},
     "output_type": "execute_result"
    }
   ],
   "source": [
    "x=2\n",
    "x==2"
   ]
  },
  {
   "cell_type": "markdown",
   "metadata": {
    "id": "yPNQYQa2D_jr"
   },
   "source": [
    "There are also the `and` and `or` operators. The `and` operator returns True if both conditions it links are true. The `or` operator returns True if at least one of the conditions is true.\n",
    "\n",
    "Try it out for yourself: define a variable `x` equal to `10`. Try both the `and` and `or` operators with conditions x is equal to 10 and x is greater than or equal to 15."
   ]
  },
  {
   "cell_type": "code",
   "execution_count": 14,
   "metadata": {
    "colab": {
     "base_uri": "https://localhost:8080/"
    },
    "executionInfo": {
     "elapsed": 285,
     "status": "ok",
     "timestamp": 1634724004664,
     "user": {
      "displayName": "Georgina Hall",
      "photoUrl": "https://lh3.googleusercontent.com/a/default-user=s64",
      "userId": "09059160022888590327"
     },
     "user_tz": -120
    },
    "id": "O5jvpgTID_jr",
    "outputId": "9b5d309c-30ae-44f4-943b-68a17c1ca0bf"
   },
   "outputs": [
    {
     "data": {
      "text/plain": [
       "False"
      ]
     },
     "execution_count": 14,
     "metadata": {},
     "output_type": "execute_result"
    }
   ],
   "source": [
    "x=10\n",
    "x==10 and x>=15"
   ]
  },
  {
   "cell_type": "code",
   "execution_count": 15,
   "metadata": {
    "colab": {
     "base_uri": "https://localhost:8080/"
    },
    "executionInfo": {
     "elapsed": 266,
     "status": "ok",
     "timestamp": 1634724008186,
     "user": {
      "displayName": "Georgina Hall",
      "photoUrl": "https://lh3.googleusercontent.com/a/default-user=s64",
      "userId": "09059160022888590327"
     },
     "user_tz": -120
    },
    "id": "5q6TNpBjD_jr",
    "outputId": "8bfad891-3163-4c04-f5cc-e8a8bc4edca6"
   },
   "outputs": [
    {
     "data": {
      "text/plain": [
       "True"
      ]
     },
     "execution_count": 15,
     "metadata": {},
     "output_type": "execute_result"
    }
   ],
   "source": [
    "x=10\n",
    "x==10 or x>=15"
   ]
  },
  {
   "cell_type": "markdown",
   "metadata": {
    "id": "awEW3hJ8D_jr"
   },
   "source": [
    "The final condition we see here is the condition `in` which checks whether a given element is in a given structure.\n",
    "Define the list `L=[3,4,5]` and the variable `x=3` then check whether x is in L. What happens if `x=1`?"
   ]
  },
  {
   "cell_type": "code",
   "execution_count": 16,
   "metadata": {
    "colab": {
     "base_uri": "https://localhost:8080/"
    },
    "executionInfo": {
     "elapsed": 317,
     "status": "ok",
     "timestamp": 1634724011589,
     "user": {
      "displayName": "Georgina Hall",
      "photoUrl": "https://lh3.googleusercontent.com/a/default-user=s64",
      "userId": "09059160022888590327"
     },
     "user_tz": -120
    },
    "id": "PJWSufboD_jr",
    "outputId": "3ed04e8f-60af-4b39-8802-9e1c0987eaba"
   },
   "outputs": [
    {
     "name": "stdout",
     "output_type": "stream",
     "text": [
      "True\n",
      "False\n"
     ]
    }
   ],
   "source": [
    "L=[3,4,5]\n",
    "x=3\n",
    "print(x in L)\n",
    "x=1\n",
    "print(x in L)"
   ]
  },
  {
   "cell_type": "markdown",
   "metadata": {
    "id": "uFXv2MLSD_js"
   },
   "source": [
    "## 2. If...then..else\n",
    "\n",
    "We have seen how to check different conditions on variables. It may be useful sometimes to have some action based on the answer to the condition. This is codified in the if..then..else type routines: if [condition] is satisfied, then [do this], else [do this]. For example:"
   ]
  },
  {
   "cell_type": "code",
   "execution_count": 17,
   "metadata": {
    "colab": {
     "base_uri": "https://localhost:8080/"
    },
    "executionInfo": {
     "elapsed": 270,
     "status": "ok",
     "timestamp": 1634724017923,
     "user": {
      "displayName": "Georgina Hall",
      "photoUrl": "https://lh3.googleusercontent.com/a/default-user=s64",
      "userId": "09059160022888590327"
     },
     "user_tz": -120
    },
    "id": "_xHjV49sD_js",
    "outputId": "1cfefaf5-698b-46cc-bc5a-6fa344cdc8d4"
   },
   "outputs": [
    {
     "name": "stdout",
     "output_type": "stream",
     "text": [
      "Your name is John or you are 23 years old.\n"
     ]
    }
   ],
   "source": [
    "name = \"John\"\n",
    "age = 23\n",
    "if name == \"John\" or age == 23:\n",
    "    print(\"Your name is John or you are 23 years old.\")\n",
    "\n",
    "else:\n",
    "    print(\"Your name mustn't be John\")"
   ]
  },
  {
   "cell_type": "markdown",
   "metadata": {
    "id": "8AkbtDi_D_js"
   },
   "source": [
    "Two things are **crucial** here: the two dots at the end of if and else and the indentation. If you don't have the tabulation before print this code will not work. Try it out!"
   ]
  },
  {
   "cell_type": "markdown",
   "metadata": {
    "id": "KCudbrSwD_js"
   },
   "source": [
    "Sometimes you may have many conditions to check, in which case you would use elif, in this way:"
   ]
  },
  {
   "cell_type": "code",
   "execution_count": 18,
   "metadata": {
    "colab": {
     "base_uri": "https://localhost:8080/"
    },
    "executionInfo": {
     "elapsed": 272,
     "status": "ok",
     "timestamp": 1634724021458,
     "user": {
      "displayName": "Georgina Hall",
      "photoUrl": "https://lh3.googleusercontent.com/a/default-user=s64",
      "userId": "09059160022888590327"
     },
     "user_tz": -120
    },
    "id": "Is555DkED_js",
    "outputId": "0cbb4a12-289f-4753-e5cf-17b4bdcbf746"
   },
   "outputs": [
    {
     "name": "stdout",
     "output_type": "stream",
     "text": [
      "Your name is John.\n"
     ]
    }
   ],
   "source": [
    "name = \"John\"\n",
    "\n",
    "if name == \"Rachel\":\n",
    "    print(\"Your name is Rachel.\")\n",
    "\n",
    "elif name==\"John\":\n",
    "    print(\"Your name is John.\")\n",
    "\n",
    "else:\n",
    "    print(\"Your name mustn't be John, nor Rachel.\")"
   ]
  },
  {
   "cell_type": "markdown",
   "metadata": {
    "id": "V5Cuxep0D_js"
   },
   "source": [
    "Your turn: create a list with a number of elements between 3 and 5. Then have an if...then...else type statement, which returns 3 if the list of elements has length 3, 4 if it has length 4, 5 if it has length 5, \"there is an error\" otherwise."
   ]
  },
  {
   "cell_type": "code",
   "execution_count": 19,
   "metadata": {
    "colab": {
     "base_uri": "https://localhost:8080/"
    },
    "executionInfo": {
     "elapsed": 291,
     "status": "ok",
     "timestamp": 1634724026623,
     "user": {
      "displayName": "Georgina Hall",
      "photoUrl": "https://lh3.googleusercontent.com/a/default-user=s64",
      "userId": "09059160022888590327"
     },
     "user_tz": -120
    },
    "id": "i-l1DJtfD_jt",
    "outputId": "0ac9dad7-de9f-4fa4-de33-ab9b2eacf3f9"
   },
   "outputs": [
    {
     "name": "stdout",
     "output_type": "stream",
     "text": [
      "There is an error.\n"
     ]
    }
   ],
   "source": [
    "L=[1,2,3,4,5,6]\n",
    "\n",
    "if len(L)==3:\n",
    "    print(3)\n",
    "\n",
    "elif len(L)==4:\n",
    "    print(4)\n",
    "    \n",
    "elif len(L)==5:\n",
    "    print(5)\n",
    "    \n",
    "else:\n",
    "    print(\"There is an error.\")"
   ]
  },
  {
   "cell_type": "markdown",
   "metadata": {
    "id": "2oFW4CtBD_jt"
   },
   "source": [
    "## 3. For loops\n",
    "\n",
    "For loops enable us to repeat an operation many times without typing it out at each iteration.\n",
    "\n",
    "For example, we can use it to sum over all possible items in a list:"
   ]
  },
  {
   "cell_type": "code",
   "execution_count": 20,
   "metadata": {
    "colab": {
     "base_uri": "https://localhost:8080/"
    },
    "executionInfo": {
     "elapsed": 264,
     "status": "ok",
     "timestamp": 1634724033965,
     "user": {
      "displayName": "Georgina Hall",
      "photoUrl": "https://lh3.googleusercontent.com/a/default-user=s64",
      "userId": "09059160022888590327"
     },
     "user_tz": -120
    },
    "id": "LzpCk3lgD_jt",
    "outputId": "59898791-4b9f-4457-ab29-2633492c640d"
   },
   "outputs": [
    {
     "name": "stdout",
     "output_type": "stream",
     "text": [
      "21\n"
     ]
    }
   ],
   "source": [
    "L=[2,5,10,4]\n",
    "sum_L=0\n",
    "\n",
    "for i in L:\n",
    "    sum_L=sum_L+i\n",
    "    \n",
    "print(sum_L)"
   ]
  },
  {
   "cell_type": "markdown",
   "metadata": {
    "id": "PboMKHucD_jt"
   },
   "source": [
    "The notion of `range` is very useful for for loops. Try the following code to understand what range does."
   ]
  },
  {
   "cell_type": "code",
   "execution_count": 21,
   "metadata": {
    "colab": {
     "base_uri": "https://localhost:8080/"
    },
    "executionInfo": {
     "elapsed": 245,
     "status": "ok",
     "timestamp": 1634724036955,
     "user": {
      "displayName": "Georgina Hall",
      "photoUrl": "https://lh3.googleusercontent.com/a/default-user=s64",
      "userId": "09059160022888590327"
     },
     "user_tz": -120
    },
    "id": "1WD-m8cLD_jt",
    "outputId": "db87ffa3-c4c0-4aeb-dab4-a6aa6fa33146"
   },
   "outputs": [
    {
     "name": "stdout",
     "output_type": "stream",
     "text": [
      "0\n",
      "1\n",
      "2\n",
      "3\n",
      "4\n",
      "5\n",
      "6\n",
      "7\n",
      "8\n",
      "9\n"
     ]
    }
   ],
   "source": [
    "for i in range(10):\n",
    "    print(i)"
   ]
  },
  {
   "cell_type": "code",
   "execution_count": 22,
   "metadata": {
    "colab": {
     "base_uri": "https://localhost:8080/"
    },
    "executionInfo": {
     "elapsed": 260,
     "status": "ok",
     "timestamp": 1634724039648,
     "user": {
      "displayName": "Georgina Hall",
      "photoUrl": "https://lh3.googleusercontent.com/a/default-user=s64",
      "userId": "09059160022888590327"
     },
     "user_tz": -120
    },
    "id": "9nvr6Zs2D_jt",
    "outputId": "563c18b2-412b-4eef-b862-6b389b85d117"
   },
   "outputs": [
    {
     "name": "stdout",
     "output_type": "stream",
     "text": [
      "5\n",
      "6\n",
      "7\n",
      "8\n",
      "9\n"
     ]
    }
   ],
   "source": [
    "for i in range(5,10):\n",
    "    print(i)"
   ]
  },
  {
   "cell_type": "code",
   "execution_count": 23,
   "metadata": {
    "colab": {
     "base_uri": "https://localhost:8080/"
    },
    "executionInfo": {
     "elapsed": 274,
     "status": "ok",
     "timestamp": 1634724042076,
     "user": {
      "displayName": "Georgina Hall",
      "photoUrl": "https://lh3.googleusercontent.com/a/default-user=s64",
      "userId": "09059160022888590327"
     },
     "user_tz": -120
    },
    "id": "PYXTgN6GD_jt",
    "outputId": "f40a5fca-e761-40c1-bad7-284477ebd8c7"
   },
   "outputs": [
    {
     "name": "stdout",
     "output_type": "stream",
     "text": [
      "0\n",
      "2\n",
      "4\n",
      "6\n",
      "8\n"
     ]
    }
   ],
   "source": [
    "for i in range(0,10,2):\n",
    "    print(i)"
   ]
  },
  {
   "cell_type": "markdown",
   "metadata": {
    "id": "sYGMap4CD_ju"
   },
   "source": [
    "How could we use `range`, `len(L)` to compute the sum of all elements in the list L above?"
   ]
  },
  {
   "cell_type": "code",
   "execution_count": 24,
   "metadata": {
    "colab": {
     "base_uri": "https://localhost:8080/"
    },
    "executionInfo": {
     "elapsed": 270,
     "status": "ok",
     "timestamp": 1634724044467,
     "user": {
      "displayName": "Georgina Hall",
      "photoUrl": "https://lh3.googleusercontent.com/a/default-user=s64",
      "userId": "09059160022888590327"
     },
     "user_tz": -120
    },
    "id": "mVpwVfsOD_ju",
    "outputId": "75172176-4bba-4b1b-ab42-9d8655a59800"
   },
   "outputs": [
    {
     "name": "stdout",
     "output_type": "stream",
     "text": [
      "21\n"
     ]
    }
   ],
   "source": [
    "L=[2,5,10,4]\n",
    "sum_L=0\n",
    "\n",
    "for i in range(len(L)):\n",
    "    sum_L=sum_L+L[i]\n",
    "    \n",
    "print(sum_L)\n"
   ]
  },
  {
   "cell_type": "markdown",
   "metadata": {
    "id": "IxQ_t443D_ju"
   },
   "source": [
    "One can also have a `while` clause: for example:"
   ]
  },
  {
   "cell_type": "code",
   "execution_count": 25,
   "metadata": {
    "colab": {
     "base_uri": "https://localhost:8080/"
    },
    "executionInfo": {
     "elapsed": 250,
     "status": "ok",
     "timestamp": 1634724047606,
     "user": {
      "displayName": "Georgina Hall",
      "photoUrl": "https://lh3.googleusercontent.com/a/default-user=s64",
      "userId": "09059160022888590327"
     },
     "user_tz": -120
    },
    "id": "TBKWUTbSD_ju",
    "outputId": "619dd265-b37c-49a3-d6a7-e4511f5faa94"
   },
   "outputs": [
    {
     "name": "stdout",
     "output_type": "stream",
     "text": [
      "0\n",
      "1\n",
      "2\n",
      "3\n",
      "4\n"
     ]
    }
   ],
   "source": [
    "count = 0\n",
    "while count < 5:\n",
    "    print(count)\n",
    "    count = count+1 "
   ]
  },
  {
   "cell_type": "markdown",
   "metadata": {
    "id": "_HNNcb1ID_ju"
   },
   "source": [
    "This means that while the condition `count<5` is satisfied, we keep executing the command. As soon as it stops being satisfied, we stop."
   ]
  },
  {
   "cell_type": "markdown",
   "metadata": {
    "id": "BaG38HccD_ju"
   },
   "source": [
    "These for loops can be very useful to create lists. For example, if we want to create a list with all powers of 2 from 1 to 16, we can do so like this:"
   ]
  },
  {
   "cell_type": "code",
   "execution_count": 26,
   "metadata": {
    "colab": {
     "base_uri": "https://localhost:8080/"
    },
    "executionInfo": {
     "elapsed": 252,
     "status": "ok",
     "timestamp": 1634724054291,
     "user": {
      "displayName": "Georgina Hall",
      "photoUrl": "https://lh3.googleusercontent.com/a/default-user=s64",
      "userId": "09059160022888590327"
     },
     "user_tz": -120
    },
    "id": "amBWtKHBD_ju",
    "outputId": "00fc0715-eb46-4e79-e0bd-30cd4fd3d8bf"
   },
   "outputs": [
    {
     "name": "stdout",
     "output_type": "stream",
     "text": [
      "[1, 2, 4, 8, 16]\n"
     ]
    }
   ],
   "source": [
    "List_powersof2=[]\n",
    "for i in range(0,5):\n",
    "    List_powersof2.append(2**i)\n",
    "\n",
    "print(List_powersof2)"
   ]
  },
  {
   "cell_type": "markdown",
   "metadata": {
    "id": "8o_mJZqjD_jv"
   },
   "source": [
    "Your turn! Create a list with all the powers of 10 up to 100000 (included), **removing 100.** (You may want to use an if statement for this.)"
   ]
  },
  {
   "cell_type": "code",
   "execution_count": 71,
   "metadata": {
    "colab": {
     "base_uri": "https://localhost:8080/"
    },
    "executionInfo": {
     "elapsed": 319,
     "status": "ok",
     "timestamp": 1634724456698,
     "user": {
      "displayName": "Georgina Hall",
      "photoUrl": "https://lh3.googleusercontent.com/a/default-user=s64",
      "userId": "09059160022888590327"
     },
     "user_tz": -120
    },
    "id": "9_oDddi0D_jv",
    "outputId": "bbd1b0d9-1eef-4c22-bc29-d0388a145923"
   },
   "outputs": [
    {
     "name": "stdout",
     "output_type": "stream",
     "text": [
      "[1, 100, 1000, 10000, 100000]\n"
     ]
    }
   ],
   "source": [
    "List_powersof10=[]\n",
    "for i in range(0,6):\n",
    "  if 10**i !=10:\n",
    "    List_powersof10.append(10**i)\n",
    "\n",
    "print(List_powersof10)"
   ]
  },
  {
   "cell_type": "markdown",
   "metadata": {
    "id": "GuxyOGsrD_jv"
   },
   "source": [
    "# 4. Data structures\n",
    "\n",
    "Data structures play a key role for us: we start with numpy arrays, then panda dataframes (which we will use heavily in the Machine Learning part of the course), and then dictionaries (which we use in Optimization)."
   ]
  },
  {
   "cell_type": "markdown",
   "metadata": {
    "id": "g6zJRPAfD_jw"
   },
   "source": [
    "## 1. Numpy arrays\n",
    "\n",
    "Numpy arrays are an alternative to Python lists. As indicated by the name, they are part of the Numpy package. The advantages are that they are fast, easy to work with, and give users the opportunity to perform calculations across entire arrays. Note that elements of the array are accessed in exactly the same way as for lists.\n",
    "\n",
    "Generally, to create a numpy array, we first write a list and then specify that it is a numpy array. This of course requires the numpy package to be imported. For example:"
   ]
  },
  {
   "cell_type": "code",
   "execution_count": 34,
   "metadata": {
    "executionInfo": {
     "elapsed": 260,
     "status": "ok",
     "timestamp": 1634724090390,
     "user": {
      "displayName": "Georgina Hall",
      "photoUrl": "https://lh3.googleusercontent.com/a/default-user=s64",
      "userId": "09059160022888590327"
     },
     "user_tz": -120
    },
    "id": "NT2_toGUD_jw"
   },
   "outputs": [],
   "source": [
    "# Create 2 lists height and weight\n",
    "height = [1.67,  1.87, 1.82, 1.60, 1.73, 1.85]\n",
    "weight = [55, 100, 83, 91, 61, 70]\n",
    "\n",
    "# Create 2 numpy arrays from height and weight\n",
    "np_height = np.array(height)\n",
    "np_weight = np.array(weight)"
   ]
  },
  {
   "cell_type": "markdown",
   "metadata": {
    "id": "IoDyU9QxD_jw"
   },
   "source": [
    "Check what the type of `np_height` is."
   ]
  },
  {
   "cell_type": "code",
   "execution_count": 35,
   "metadata": {
    "colab": {
     "base_uri": "https://localhost:8080/"
    },
    "executionInfo": {
     "elapsed": 260,
     "status": "ok",
     "timestamp": 1634724094061,
     "user": {
      "displayName": "Georgina Hall",
      "photoUrl": "https://lh3.googleusercontent.com/a/default-user=s64",
      "userId": "09059160022888590327"
     },
     "user_tz": -120
    },
    "id": "GuIlBi8nD_jw",
    "outputId": "95cd25df-9a38-4cb4-e1fd-13bd6b45ca31"
   },
   "outputs": [
    {
     "data": {
      "text/plain": [
       "numpy.ndarray"
      ]
     },
     "execution_count": 35,
     "metadata": {},
     "output_type": "execute_result"
    }
   ],
   "source": [
    "type(np_height)"
   ]
  },
  {
   "cell_type": "markdown",
   "metadata": {
    "id": "5bv_sJZ0D_jw"
   },
   "source": [
    "Numpy arrays are useful for many things. First off, it is very easy to do computations with them. For example, if you want to create an array `bmi` that contains the BMI (given by $weight/height^2$) then this can easily be done by acting as if the arrays are just numbers. Try it out!"
   ]
  },
  {
   "cell_type": "code",
   "execution_count": 36,
   "metadata": {
    "colab": {
     "base_uri": "https://localhost:8080/"
    },
    "executionInfo": {
     "elapsed": 286,
     "status": "ok",
     "timestamp": 1634724099664,
     "user": {
      "displayName": "Georgina Hall",
      "photoUrl": "https://lh3.googleusercontent.com/a/default-user=s64",
      "userId": "09059160022888590327"
     },
     "user_tz": -120
    },
    "id": "3ZnpeN5UD_jw",
    "outputId": "5c94a057-285e-439f-ab96-add0925fc3cd"
   },
   "outputs": [
    {
     "name": "stdout",
     "output_type": "stream",
     "text": [
      "[19.72103697 28.59675713 25.05736022 35.546875   20.38156971 20.45288532]\n"
     ]
    }
   ],
   "source": [
    "bmi=np_weight/np_height**2\n",
    "print(bmi)"
   ]
  },
  {
   "cell_type": "markdown",
   "metadata": {
    "id": "WzeIGAu_D_jw"
   },
   "source": [
    "Another very useful function is the ability to filter the array as needed. For example: healthy BMIs are between 18 and 25. We can select in the bmi list the bmis that match by doing simple conditioning. Note that for sets, and becomes `&` and or becomes `|`. Do not forget the parentheses!"
   ]
  },
  {
   "cell_type": "code",
   "execution_count": 37,
   "metadata": {
    "colab": {
     "base_uri": "https://localhost:8080/"
    },
    "executionInfo": {
     "elapsed": 257,
     "status": "ok",
     "timestamp": 1634724105311,
     "user": {
      "displayName": "Georgina Hall",
      "photoUrl": "https://lh3.googleusercontent.com/a/default-user=s64",
      "userId": "09059160022888590327"
     },
     "user_tz": -120
    },
    "id": "n-OmdbK9D_jw",
    "outputId": "363dad3d-f5b2-43e7-deee-b5b110ab48ab"
   },
   "outputs": [
    {
     "data": {
      "text/plain": [
       "array([ True, False, False, False,  True,  True])"
      ]
     },
     "execution_count": 37,
     "metadata": {},
     "output_type": "execute_result"
    }
   ],
   "source": [
    "(bmi>=18) & (bmi<=25)"
   ]
  },
  {
   "cell_type": "markdown",
   "metadata": {
    "id": "LqC5nHJvD_jx"
   },
   "source": [
    "Do the same for all the BMI values that are *not* healthy (i.e., the values that are below 18 or above 25)."
   ]
  },
  {
   "cell_type": "code",
   "execution_count": 38,
   "metadata": {
    "colab": {
     "base_uri": "https://localhost:8080/"
    },
    "executionInfo": {
     "elapsed": 308,
     "status": "ok",
     "timestamp": 1634724108583,
     "user": {
      "displayName": "Georgina Hall",
      "photoUrl": "https://lh3.googleusercontent.com/a/default-user=s64",
      "userId": "09059160022888590327"
     },
     "user_tz": -120
    },
    "id": "86-XB8isD_jx",
    "outputId": "1b026332-08cb-408b-da19-adaf56015ae2"
   },
   "outputs": [
    {
     "data": {
      "text/plain": [
       "array([False,  True,  True,  True, False, False])"
      ]
     },
     "execution_count": 38,
     "metadata": {},
     "output_type": "execute_result"
    }
   ],
   "source": [
    "(bmi<=18) | (bmi>=25)"
   ]
  },
  {
   "cell_type": "markdown",
   "metadata": {
    "id": "yxgt7cQaD_jx"
   },
   "source": [
    "This tells us which indexes satisfy (or don't) this condition. We can also get the actual values if we wish by doing the following:"
   ]
  },
  {
   "cell_type": "code",
   "execution_count": 39,
   "metadata": {
    "colab": {
     "base_uri": "https://localhost:8080/"
    },
    "executionInfo": {
     "elapsed": 249,
     "status": "ok",
     "timestamp": 1634724111301,
     "user": {
      "displayName": "Georgina Hall",
      "photoUrl": "https://lh3.googleusercontent.com/a/default-user=s64",
      "userId": "09059160022888590327"
     },
     "user_tz": -120
    },
    "id": "DElLNPFnD_jx",
    "outputId": "627a0c4b-3124-475e-d3f7-87a5e57a5185"
   },
   "outputs": [
    {
     "data": {
      "text/plain": [
       "array([19.72103697, 20.38156971, 20.45288532])"
      ]
     },
     "execution_count": 39,
     "metadata": {},
     "output_type": "execute_result"
    }
   ],
   "source": [
    "bmi[(bmi>=18) & (bmi<=25)]"
   ]
  },
  {
   "cell_type": "markdown",
   "metadata": {
    "id": "dXvQcGGTD_jx"
   },
   "source": [
    "These give us the values of the bmi that are healthy.\n",
    "\n",
    "Your turn: the list below corresponds to grades obtained in an MBA course. The students that obtained between 80 and 90 will get a B. Create a numpy array. Find which grades satisfy this condition. How many are there?"
   ]
  },
  {
   "cell_type": "code",
   "execution_count": 40,
   "metadata": {
    "colab": {
     "base_uri": "https://localhost:8080/"
    },
    "executionInfo": {
     "elapsed": 273,
     "status": "ok",
     "timestamp": 1634724119434,
     "user": {
      "displayName": "Georgina Hall",
      "photoUrl": "https://lh3.googleusercontent.com/a/default-user=s64",
      "userId": "09059160022888590327"
     },
     "user_tz": -120
    },
    "id": "QmlDGUAQD_jx",
    "outputId": "730ecbc1-32e3-42a3-cabc-28fb8c782f0a"
   },
   "outputs": [
    {
     "data": {
      "text/plain": [
       "4"
      ]
     },
     "execution_count": 40,
     "metadata": {},
     "output_type": "execute_result"
    }
   ],
   "source": [
    "Grades=[12,54,82,100,95,62,87,34,29,98,72,36,85,69,81,96]\n",
    "np_Grades=np.array(Grades)\n",
    "Bs=np_Grades[(np_Grades>=80) & (np_Grades<=90)]\n",
    "len(Bs)"
   ]
  },
  {
   "cell_type": "markdown",
   "metadata": {
    "id": "GCaoQSIED_jx"
   },
   "source": [
    "You can easily construct arrays of ones and zeros by using the commands `np.zeros((1,5))` (which would give you an array of size $1\\times 5$ of zeros) and likewise `np.ones((1,5))` (which would give you an array of size $1\\times 5$)."
   ]
  },
  {
   "cell_type": "code",
   "execution_count": 41,
   "metadata": {
    "colab": {
     "base_uri": "https://localhost:8080/"
    },
    "executionInfo": {
     "elapsed": 345,
     "status": "ok",
     "timestamp": 1634724124259,
     "user": {
      "displayName": "Georgina Hall",
      "photoUrl": "https://lh3.googleusercontent.com/a/default-user=s64",
      "userId": "09059160022888590327"
     },
     "user_tz": -120
    },
    "id": "qymM73tRD_jy",
    "outputId": "24dc413f-a92c-4021-a850-d89a8bba3137"
   },
   "outputs": [
    {
     "name": "stdout",
     "output_type": "stream",
     "text": [
      "[[0. 0. 0. 0. 0.]]\n",
      "[[1. 1. 1. 1. 1.]]\n"
     ]
    }
   ],
   "source": [
    "print(np.zeros((1,5)))\n",
    "print(np.ones((1,5)))"
   ]
  },
  {
   "cell_type": "markdown",
   "metadata": {
    "id": "JNy8jltTD_jy"
   },
   "source": [
    " You can also construct arrays that contain a range by using `np.arange()`."
   ]
  },
  {
   "cell_type": "code",
   "execution_count": 42,
   "metadata": {
    "colab": {
     "base_uri": "https://localhost:8080/"
    },
    "executionInfo": {
     "elapsed": 241,
     "status": "ok",
     "timestamp": 1634724127601,
     "user": {
      "displayName": "Georgina Hall",
      "photoUrl": "https://lh3.googleusercontent.com/a/default-user=s64",
      "userId": "09059160022888590327"
     },
     "user_tz": -120
    },
    "id": "pHly6FNLD_jy",
    "outputId": "7e2ae629-6340-4405-ed52-2485a81393a6"
   },
   "outputs": [
    {
     "data": {
      "text/plain": [
       "array([ 0,  1,  2,  3,  4,  5,  6,  7,  8,  9, 10, 11, 12, 13, 14, 15, 16,\n",
       "       17, 18, 19])"
      ]
     },
     "execution_count": 42,
     "metadata": {},
     "output_type": "execute_result"
    }
   ],
   "source": [
    "np.arange(20)"
   ]
  },
  {
   "cell_type": "markdown",
   "metadata": {
    "id": "BYrZbe6mD_jy"
   },
   "source": [
    "That you can then reshape as needed: say you want an array that has 4 rows and 5 columns, we could simply do the following:"
   ]
  },
  {
   "cell_type": "code",
   "execution_count": 43,
   "metadata": {
    "colab": {
     "base_uri": "https://localhost:8080/"
    },
    "executionInfo": {
     "elapsed": 279,
     "status": "ok",
     "timestamp": 1634724129791,
     "user": {
      "displayName": "Georgina Hall",
      "photoUrl": "https://lh3.googleusercontent.com/a/default-user=s64",
      "userId": "09059160022888590327"
     },
     "user_tz": -120
    },
    "id": "OaVnsjklD_jy",
    "outputId": "13f929e5-8450-452f-c44c-ebd1062d5431"
   },
   "outputs": [
    {
     "data": {
      "text/plain": [
       "array([[ 0,  1,  2,  3,  4],\n",
       "       [ 5,  6,  7,  8,  9],\n",
       "       [10, 11, 12, 13, 14],\n",
       "       [15, 16, 17, 18, 19]])"
      ]
     },
     "execution_count": 43,
     "metadata": {},
     "output_type": "execute_result"
    }
   ],
   "source": [
    "np.arange(20).reshape((4,5))"
   ]
  },
  {
   "cell_type": "markdown",
   "metadata": {
    "id": "wLhRV-UJD_jy"
   },
   "source": [
    "To obtain the shape of the array above, we use `shape`:"
   ]
  },
  {
   "cell_type": "code",
   "execution_count": 44,
   "metadata": {
    "colab": {
     "base_uri": "https://localhost:8080/"
    },
    "executionInfo": {
     "elapsed": 275,
     "status": "ok",
     "timestamp": 1634724136182,
     "user": {
      "displayName": "Georgina Hall",
      "photoUrl": "https://lh3.googleusercontent.com/a/default-user=s64",
      "userId": "09059160022888590327"
     },
     "user_tz": -120
    },
    "id": "h-_SHRGXD_jz",
    "outputId": "ea1114ec-e287-42bc-f35f-481cfb6a51bd"
   },
   "outputs": [
    {
     "data": {
      "text/plain": [
       "(4, 5)"
      ]
     },
     "execution_count": 44,
     "metadata": {},
     "output_type": "execute_result"
    }
   ],
   "source": [
    "np.arange(20).reshape((4,5)).shape"
   ]
  },
  {
   "cell_type": "markdown",
   "metadata": {
    "id": "CCuQpN39D_jz"
   },
   "source": [
    "Your turn! Create a numpy array `A` using `np.arange(12)`. Reshape it so that it is of size (4,3). Then create another numpy area `B` using `np.ones(12)`and reshape it so that it is of size (4,3). Try `A+B`, `A*B`, `A.min()`. What happens?"
   ]
  },
  {
   "cell_type": "code",
   "execution_count": 72,
   "metadata": {
    "colab": {
     "base_uri": "https://localhost:8080/"
    },
    "executionInfo": {
     "elapsed": 327,
     "status": "ok",
     "timestamp": 1634724546394,
     "user": {
      "displayName": "Georgina Hall",
      "photoUrl": "https://lh3.googleusercontent.com/a/default-user=s64",
      "userId": "09059160022888590327"
     },
     "user_tz": -120
    },
    "id": "ZJQMVzTLD_jz",
    "outputId": "b9439442-15f5-451c-d443-946df39b14d8"
   },
   "outputs": [
    {
     "name": "stdout",
     "output_type": "stream",
     "text": [
      "[[ 1.  2.  3.]\n",
      " [ 4.  5.  6.]\n",
      " [ 7.  8.  9.]\n",
      " [10. 11. 12.]]\n",
      "[[ 0.  1.  2.]\n",
      " [ 3.  4.  5.]\n",
      " [ 6.  7.  8.]\n",
      " [ 9. 10. 11.]]\n",
      "[[ 0  1  2]\n",
      " [ 3  4  5]\n",
      " [ 6  7  8]\n",
      " [ 9 10 11]]\n",
      "0\n"
     ]
    }
   ],
   "source": [
    "A=np.arange(12).reshape((4,3))\n",
    "B=np.ones(12).reshape((4,3))\n",
    "print(A+B)\n",
    "print(A*B)\n",
    "print(A)\n",
    "print(A.min())"
   ]
  },
  {
   "cell_type": "markdown",
   "metadata": {
    "id": "pJ_Z20IND_jz"
   },
   "source": [
    "Other functions such as `.max` `.cumsum`, `.sum` function in a similar fashion.\n",
    "\n",
    "Two important functions that we discuss now is `.all` and `.any`. They are also useful for dataframes. Do you understand what they're doing?"
   ]
  },
  {
   "cell_type": "code",
   "execution_count": 46,
   "metadata": {
    "colab": {
     "base_uri": "https://localhost:8080/"
    },
    "executionInfo": {
     "elapsed": 265,
     "status": "ok",
     "timestamp": 1634724147003,
     "user": {
      "displayName": "Georgina Hall",
      "photoUrl": "https://lh3.googleusercontent.com/a/default-user=s64",
      "userId": "09059160022888590327"
     },
     "user_tz": -120
    },
    "id": "rKdkZ7oMD_j0",
    "outputId": "9e564ff0-9754-4569-e83d-ee088add006e"
   },
   "outputs": [
    {
     "data": {
      "text/plain": [
       "True"
      ]
     },
     "execution_count": 46,
     "metadata": {},
     "output_type": "execute_result"
    }
   ],
   "source": [
    "(B==1).all()"
   ]
  },
  {
   "cell_type": "code",
   "execution_count": 47,
   "metadata": {
    "colab": {
     "base_uri": "https://localhost:8080/"
    },
    "executionInfo": {
     "elapsed": 214,
     "status": "ok",
     "timestamp": 1634724149913,
     "user": {
      "displayName": "Georgina Hall",
      "photoUrl": "https://lh3.googleusercontent.com/a/default-user=s64",
      "userId": "09059160022888590327"
     },
     "user_tz": -120
    },
    "id": "QfgzxsmvD_j1",
    "outputId": "00ba75e8-93ba-42aa-c3a4-08c5b543784e"
   },
   "outputs": [
    {
     "data": {
      "text/plain": [
       "False"
      ]
     },
     "execution_count": 47,
     "metadata": {},
     "output_type": "execute_result"
    }
   ],
   "source": [
    "(A==1).all()"
   ]
  },
  {
   "cell_type": "code",
   "execution_count": 48,
   "metadata": {
    "colab": {
     "base_uri": "https://localhost:8080/"
    },
    "executionInfo": {
     "elapsed": 313,
     "status": "ok",
     "timestamp": 1634724152286,
     "user": {
      "displayName": "Georgina Hall",
      "photoUrl": "https://lh3.googleusercontent.com/a/default-user=s64",
      "userId": "09059160022888590327"
     },
     "user_tz": -120
    },
    "id": "phDK3pI8D_j1",
    "outputId": "91737af6-2a4d-4a69-acaf-7932665e62d0"
   },
   "outputs": [
    {
     "data": {
      "text/plain": [
       "True"
      ]
     },
     "execution_count": 48,
     "metadata": {},
     "output_type": "execute_result"
    }
   ],
   "source": [
    "(A==1).any()"
   ]
  },
  {
   "cell_type": "markdown",
   "metadata": {
    "id": "wZ8Q0ttyD_j1"
   },
   "source": [
    "## 2. Panda Dataframes\n",
    "\n",
    "This is an incredibly important type of data structure and one we will use almost exclusively in the machine learning lectures. We will most often read a dataframe from a .csv file (similar to those you can open in Excel). This will require us to use e.g., `Dataset=pd.read_csv(\"data.csv\")`. Here, we don't do this but use a pre-existing dataset from the seaborn plotting package as an example."
   ]
  },
  {
   "cell_type": "code",
   "execution_count": 1,
   "metadata": {
    "executionInfo": {
     "elapsed": 1846,
     "status": "ok",
     "timestamp": 1634724169301,
     "user": {
      "displayName": "Georgina Hall",
      "photoUrl": "https://lh3.googleusercontent.com/a/default-user=s64",
      "userId": "09059160022888590327"
     },
     "user_tz": -120
    },
    "id": "7bCiuhi4D_j1"
   },
   "outputs": [],
   "source": [
    "import seaborn as sns\n",
    "tips=sns.load_dataset(\"tips\")"
   ]
  },
  {
   "cell_type": "markdown",
   "metadata": {
    "id": "yoWXQRLkD_j1"
   },
   "source": [
    "The reason we use dataframes a lot is because they are formatted in a functional way (and so easy to read). What happens if you just type in `tips`?"
   ]
  },
  {
   "cell_type": "code",
   "execution_count": 2,
   "metadata": {
    "colab": {
     "base_uri": "https://localhost:8080/",
     "height": 419
    },
    "executionInfo": {
     "elapsed": 241,
     "status": "ok",
     "timestamp": 1634724170332,
     "user": {
      "displayName": "Georgina Hall",
      "photoUrl": "https://lh3.googleusercontent.com/a/default-user=s64",
      "userId": "09059160022888590327"
     },
     "user_tz": -120
    },
    "id": "uP8EKwGcD_j1",
    "outputId": "48d9401f-1db5-4cf5-c3d5-79b92fa2458c"
   },
   "outputs": [
    {
     "data": {
      "text/html": [
       "<div>\n",
       "<style scoped>\n",
       "    .dataframe tbody tr th:only-of-type {\n",
       "        vertical-align: middle;\n",
       "    }\n",
       "\n",
       "    .dataframe tbody tr th {\n",
       "        vertical-align: top;\n",
       "    }\n",
       "\n",
       "    .dataframe thead th {\n",
       "        text-align: right;\n",
       "    }\n",
       "</style>\n",
       "<table border=\"1\" class=\"dataframe\">\n",
       "  <thead>\n",
       "    <tr style=\"text-align: right;\">\n",
       "      <th></th>\n",
       "      <th>total_bill</th>\n",
       "      <th>tip</th>\n",
       "      <th>sex</th>\n",
       "      <th>smoker</th>\n",
       "      <th>day</th>\n",
       "      <th>time</th>\n",
       "      <th>size</th>\n",
       "    </tr>\n",
       "  </thead>\n",
       "  <tbody>\n",
       "    <tr>\n",
       "      <th>0</th>\n",
       "      <td>16.99</td>\n",
       "      <td>1.01</td>\n",
       "      <td>Female</td>\n",
       "      <td>No</td>\n",
       "      <td>Sun</td>\n",
       "      <td>Dinner</td>\n",
       "      <td>2</td>\n",
       "    </tr>\n",
       "    <tr>\n",
       "      <th>1</th>\n",
       "      <td>10.34</td>\n",
       "      <td>1.66</td>\n",
       "      <td>Male</td>\n",
       "      <td>No</td>\n",
       "      <td>Sun</td>\n",
       "      <td>Dinner</td>\n",
       "      <td>3</td>\n",
       "    </tr>\n",
       "    <tr>\n",
       "      <th>2</th>\n",
       "      <td>21.01</td>\n",
       "      <td>3.50</td>\n",
       "      <td>Male</td>\n",
       "      <td>No</td>\n",
       "      <td>Sun</td>\n",
       "      <td>Dinner</td>\n",
       "      <td>3</td>\n",
       "    </tr>\n",
       "    <tr>\n",
       "      <th>3</th>\n",
       "      <td>23.68</td>\n",
       "      <td>3.31</td>\n",
       "      <td>Male</td>\n",
       "      <td>No</td>\n",
       "      <td>Sun</td>\n",
       "      <td>Dinner</td>\n",
       "      <td>2</td>\n",
       "    </tr>\n",
       "    <tr>\n",
       "      <th>4</th>\n",
       "      <td>24.59</td>\n",
       "      <td>3.61</td>\n",
       "      <td>Female</td>\n",
       "      <td>No</td>\n",
       "      <td>Sun</td>\n",
       "      <td>Dinner</td>\n",
       "      <td>4</td>\n",
       "    </tr>\n",
       "    <tr>\n",
       "      <th>...</th>\n",
       "      <td>...</td>\n",
       "      <td>...</td>\n",
       "      <td>...</td>\n",
       "      <td>...</td>\n",
       "      <td>...</td>\n",
       "      <td>...</td>\n",
       "      <td>...</td>\n",
       "    </tr>\n",
       "    <tr>\n",
       "      <th>239</th>\n",
       "      <td>29.03</td>\n",
       "      <td>5.92</td>\n",
       "      <td>Male</td>\n",
       "      <td>No</td>\n",
       "      <td>Sat</td>\n",
       "      <td>Dinner</td>\n",
       "      <td>3</td>\n",
       "    </tr>\n",
       "    <tr>\n",
       "      <th>240</th>\n",
       "      <td>27.18</td>\n",
       "      <td>2.00</td>\n",
       "      <td>Female</td>\n",
       "      <td>Yes</td>\n",
       "      <td>Sat</td>\n",
       "      <td>Dinner</td>\n",
       "      <td>2</td>\n",
       "    </tr>\n",
       "    <tr>\n",
       "      <th>241</th>\n",
       "      <td>22.67</td>\n",
       "      <td>2.00</td>\n",
       "      <td>Male</td>\n",
       "      <td>Yes</td>\n",
       "      <td>Sat</td>\n",
       "      <td>Dinner</td>\n",
       "      <td>2</td>\n",
       "    </tr>\n",
       "    <tr>\n",
       "      <th>242</th>\n",
       "      <td>17.82</td>\n",
       "      <td>1.75</td>\n",
       "      <td>Male</td>\n",
       "      <td>No</td>\n",
       "      <td>Sat</td>\n",
       "      <td>Dinner</td>\n",
       "      <td>2</td>\n",
       "    </tr>\n",
       "    <tr>\n",
       "      <th>243</th>\n",
       "      <td>18.78</td>\n",
       "      <td>3.00</td>\n",
       "      <td>Female</td>\n",
       "      <td>No</td>\n",
       "      <td>Thur</td>\n",
       "      <td>Dinner</td>\n",
       "      <td>2</td>\n",
       "    </tr>\n",
       "  </tbody>\n",
       "</table>\n",
       "<p>244 rows × 7 columns</p>\n",
       "</div>"
      ],
      "text/plain": [
       "     total_bill   tip     sex smoker   day    time  size\n",
       "0         16.99  1.01  Female     No   Sun  Dinner     2\n",
       "1         10.34  1.66    Male     No   Sun  Dinner     3\n",
       "2         21.01  3.50    Male     No   Sun  Dinner     3\n",
       "3         23.68  3.31    Male     No   Sun  Dinner     2\n",
       "4         24.59  3.61  Female     No   Sun  Dinner     4\n",
       "..          ...   ...     ...    ...   ...     ...   ...\n",
       "239       29.03  5.92    Male     No   Sat  Dinner     3\n",
       "240       27.18  2.00  Female    Yes   Sat  Dinner     2\n",
       "241       22.67  2.00    Male    Yes   Sat  Dinner     2\n",
       "242       17.82  1.75    Male     No   Sat  Dinner     2\n",
       "243       18.78  3.00  Female     No  Thur  Dinner     2\n",
       "\n",
       "[244 rows x 7 columns]"
      ]
     },
     "execution_count": 2,
     "metadata": {},
     "output_type": "execute_result"
    }
   ],
   "source": [
    "tips"
   ]
  },
  {
   "cell_type": "markdown",
   "metadata": {
    "id": "nXPRSIk8D_j1"
   },
   "source": [
    "Take a look at the header of tips using `.head()`."
   ]
  },
  {
   "cell_type": "code",
   "execution_count": 51,
   "metadata": {
    "colab": {
     "base_uri": "https://localhost:8080/",
     "height": 204
    },
    "executionInfo": {
     "elapsed": 278,
     "status": "ok",
     "timestamp": 1634724173492,
     "user": {
      "displayName": "Georgina Hall",
      "photoUrl": "https://lh3.googleusercontent.com/a/default-user=s64",
      "userId": "09059160022888590327"
     },
     "user_tz": -120
    },
    "id": "ZAareFkWD_j2",
    "outputId": "9de95f24-0fb1-41f1-ec6a-33f6ab597318"
   },
   "outputs": [
    {
     "data": {
      "text/html": [
       "<div>\n",
       "<style scoped>\n",
       "    .dataframe tbody tr th:only-of-type {\n",
       "        vertical-align: middle;\n",
       "    }\n",
       "\n",
       "    .dataframe tbody tr th {\n",
       "        vertical-align: top;\n",
       "    }\n",
       "\n",
       "    .dataframe thead th {\n",
       "        text-align: right;\n",
       "    }\n",
       "</style>\n",
       "<table border=\"1\" class=\"dataframe\">\n",
       "  <thead>\n",
       "    <tr style=\"text-align: right;\">\n",
       "      <th></th>\n",
       "      <th>total_bill</th>\n",
       "      <th>tip</th>\n",
       "      <th>sex</th>\n",
       "      <th>smoker</th>\n",
       "      <th>day</th>\n",
       "      <th>time</th>\n",
       "      <th>size</th>\n",
       "    </tr>\n",
       "  </thead>\n",
       "  <tbody>\n",
       "    <tr>\n",
       "      <th>0</th>\n",
       "      <td>16.99</td>\n",
       "      <td>1.01</td>\n",
       "      <td>Female</td>\n",
       "      <td>No</td>\n",
       "      <td>Sun</td>\n",
       "      <td>Dinner</td>\n",
       "      <td>2</td>\n",
       "    </tr>\n",
       "    <tr>\n",
       "      <th>1</th>\n",
       "      <td>10.34</td>\n",
       "      <td>1.66</td>\n",
       "      <td>Male</td>\n",
       "      <td>No</td>\n",
       "      <td>Sun</td>\n",
       "      <td>Dinner</td>\n",
       "      <td>3</td>\n",
       "    </tr>\n",
       "    <tr>\n",
       "      <th>2</th>\n",
       "      <td>21.01</td>\n",
       "      <td>3.50</td>\n",
       "      <td>Male</td>\n",
       "      <td>No</td>\n",
       "      <td>Sun</td>\n",
       "      <td>Dinner</td>\n",
       "      <td>3</td>\n",
       "    </tr>\n",
       "    <tr>\n",
       "      <th>3</th>\n",
       "      <td>23.68</td>\n",
       "      <td>3.31</td>\n",
       "      <td>Male</td>\n",
       "      <td>No</td>\n",
       "      <td>Sun</td>\n",
       "      <td>Dinner</td>\n",
       "      <td>2</td>\n",
       "    </tr>\n",
       "    <tr>\n",
       "      <th>4</th>\n",
       "      <td>24.59</td>\n",
       "      <td>3.61</td>\n",
       "      <td>Female</td>\n",
       "      <td>No</td>\n",
       "      <td>Sun</td>\n",
       "      <td>Dinner</td>\n",
       "      <td>4</td>\n",
       "    </tr>\n",
       "  </tbody>\n",
       "</table>\n",
       "</div>"
      ],
      "text/plain": [
       "   total_bill   tip     sex smoker  day    time  size\n",
       "0       16.99  1.01  Female     No  Sun  Dinner     2\n",
       "1       10.34  1.66    Male     No  Sun  Dinner     3\n",
       "2       21.01  3.50    Male     No  Sun  Dinner     3\n",
       "3       23.68  3.31    Male     No  Sun  Dinner     2\n",
       "4       24.59  3.61  Female     No  Sun  Dinner     4"
      ]
     },
     "execution_count": 51,
     "metadata": {},
     "output_type": "execute_result"
    }
   ],
   "source": [
    "tips.head()"
   ]
  },
  {
   "cell_type": "markdown",
   "metadata": {
    "id": "ScMd9n0kD_j2"
   },
   "source": [
    "We can also create our own dataframe using a dictionary: we will briefly discuss this when we discuss dictionaries. We will rarely need to do this in our examples.\n",
    "\n",
    "Dataframes do not treat features (i.e., the columns) and observations (i.e., the rows) in the same way. For example to access column data (e.g., total_bill), it is quite easy. Accessing observations is a bit harder.\n",
    "\n",
    "Try `tips['total_bill']` and `tips[['total_bill']]`. What is the difference? It may be useful to use `type` to answer the question. We will use `tips[['total_bill']]` in general as this a datatype we master."
   ]
  },
  {
   "cell_type": "code",
   "execution_count": 52,
   "metadata": {
    "colab": {
     "base_uri": "https://localhost:8080/"
    },
    "executionInfo": {
     "elapsed": 266,
     "status": "ok",
     "timestamp": 1634724176425,
     "user": {
      "displayName": "Georgina Hall",
      "photoUrl": "https://lh3.googleusercontent.com/a/default-user=s64",
      "userId": "09059160022888590327"
     },
     "user_tz": -120
    },
    "id": "g4KXiXhkD_j2",
    "outputId": "b584ba80-7ff3-42e9-89a1-392be62d75ae"
   },
   "outputs": [
    {
     "name": "stdout",
     "output_type": "stream",
     "text": [
      "0      16.99\n",
      "1      10.34\n",
      "2      21.01\n",
      "3      23.68\n",
      "4      24.59\n",
      "       ...  \n",
      "239    29.03\n",
      "240    27.18\n",
      "241    22.67\n",
      "242    17.82\n",
      "243    18.78\n",
      "Name: total_bill, Length: 244, dtype: float64\n"
     ]
    },
    {
     "data": {
      "text/plain": [
       "pandas.core.series.Series"
      ]
     },
     "execution_count": 52,
     "metadata": {},
     "output_type": "execute_result"
    }
   ],
   "source": [
    "print(tips['total_bill'])\n",
    "type(tips['total_bill'])"
   ]
  },
  {
   "cell_type": "code",
   "execution_count": 53,
   "metadata": {
    "colab": {
     "base_uri": "https://localhost:8080/",
     "height": 419
    },
    "executionInfo": {
     "elapsed": 289,
     "status": "ok",
     "timestamp": 1634724180056,
     "user": {
      "displayName": "Georgina Hall",
      "photoUrl": "https://lh3.googleusercontent.com/a/default-user=s64",
      "userId": "09059160022888590327"
     },
     "user_tz": -120
    },
    "id": "Q_dhp6KED_j2",
    "outputId": "4c4d8429-dc04-4e67-aa67-085a83736758"
   },
   "outputs": [
    {
     "data": {
      "text/html": [
       "<div>\n",
       "<style scoped>\n",
       "    .dataframe tbody tr th:only-of-type {\n",
       "        vertical-align: middle;\n",
       "    }\n",
       "\n",
       "    .dataframe tbody tr th {\n",
       "        vertical-align: top;\n",
       "    }\n",
       "\n",
       "    .dataframe thead th {\n",
       "        text-align: right;\n",
       "    }\n",
       "</style>\n",
       "<table border=\"1\" class=\"dataframe\">\n",
       "  <thead>\n",
       "    <tr style=\"text-align: right;\">\n",
       "      <th></th>\n",
       "      <th>total_bill</th>\n",
       "    </tr>\n",
       "  </thead>\n",
       "  <tbody>\n",
       "    <tr>\n",
       "      <th>0</th>\n",
       "      <td>16.99</td>\n",
       "    </tr>\n",
       "    <tr>\n",
       "      <th>1</th>\n",
       "      <td>10.34</td>\n",
       "    </tr>\n",
       "    <tr>\n",
       "      <th>2</th>\n",
       "      <td>21.01</td>\n",
       "    </tr>\n",
       "    <tr>\n",
       "      <th>3</th>\n",
       "      <td>23.68</td>\n",
       "    </tr>\n",
       "    <tr>\n",
       "      <th>4</th>\n",
       "      <td>24.59</td>\n",
       "    </tr>\n",
       "    <tr>\n",
       "      <th>...</th>\n",
       "      <td>...</td>\n",
       "    </tr>\n",
       "    <tr>\n",
       "      <th>239</th>\n",
       "      <td>29.03</td>\n",
       "    </tr>\n",
       "    <tr>\n",
       "      <th>240</th>\n",
       "      <td>27.18</td>\n",
       "    </tr>\n",
       "    <tr>\n",
       "      <th>241</th>\n",
       "      <td>22.67</td>\n",
       "    </tr>\n",
       "    <tr>\n",
       "      <th>242</th>\n",
       "      <td>17.82</td>\n",
       "    </tr>\n",
       "    <tr>\n",
       "      <th>243</th>\n",
       "      <td>18.78</td>\n",
       "    </tr>\n",
       "  </tbody>\n",
       "</table>\n",
       "<p>244 rows × 1 columns</p>\n",
       "</div>"
      ],
      "text/plain": [
       "     total_bill\n",
       "0         16.99\n",
       "1         10.34\n",
       "2         21.01\n",
       "3         23.68\n",
       "4         24.59\n",
       "..          ...\n",
       "239       29.03\n",
       "240       27.18\n",
       "241       22.67\n",
       "242       17.82\n",
       "243       18.78\n",
       "\n",
       "[244 rows x 1 columns]"
      ]
     },
     "execution_count": 53,
     "metadata": {},
     "output_type": "execute_result"
    }
   ],
   "source": [
    "tips[['total_bill']]"
   ]
  },
  {
   "cell_type": "code",
   "execution_count": 54,
   "metadata": {
    "colab": {
     "base_uri": "https://localhost:8080/"
    },
    "executionInfo": {
     "elapsed": 287,
     "status": "ok",
     "timestamp": 1634724182776,
     "user": {
      "displayName": "Georgina Hall",
      "photoUrl": "https://lh3.googleusercontent.com/a/default-user=s64",
      "userId": "09059160022888590327"
     },
     "user_tz": -120
    },
    "id": "veAYHJbsD_j3",
    "outputId": "7f78f840-ec64-49ac-afaf-9ba0a95d7187"
   },
   "outputs": [
    {
     "data": {
      "text/plain": [
       "pandas.core.frame.DataFrame"
      ]
     },
     "execution_count": 54,
     "metadata": {},
     "output_type": "execute_result"
    }
   ],
   "source": [
    "type(tips[['total_bill']])"
   ]
  },
  {
   "cell_type": "markdown",
   "metadata": {
    "id": "bjraFax7D_j3"
   },
   "source": [
    "Try selecting two columns now, say `total_bill` and `smoker`."
   ]
  },
  {
   "cell_type": "code",
   "execution_count": 55,
   "metadata": {
    "colab": {
     "base_uri": "https://localhost:8080/",
     "height": 419
    },
    "executionInfo": {
     "elapsed": 377,
     "status": "ok",
     "timestamp": 1634724186356,
     "user": {
      "displayName": "Georgina Hall",
      "photoUrl": "https://lh3.googleusercontent.com/a/default-user=s64",
      "userId": "09059160022888590327"
     },
     "user_tz": -120
    },
    "id": "Eo0WrzC8D_j3",
    "outputId": "1fa4dac4-7e52-42ca-aedd-8b7f35b96815"
   },
   "outputs": [
    {
     "data": {
      "text/html": [
       "<div>\n",
       "<style scoped>\n",
       "    .dataframe tbody tr th:only-of-type {\n",
       "        vertical-align: middle;\n",
       "    }\n",
       "\n",
       "    .dataframe tbody tr th {\n",
       "        vertical-align: top;\n",
       "    }\n",
       "\n",
       "    .dataframe thead th {\n",
       "        text-align: right;\n",
       "    }\n",
       "</style>\n",
       "<table border=\"1\" class=\"dataframe\">\n",
       "  <thead>\n",
       "    <tr style=\"text-align: right;\">\n",
       "      <th></th>\n",
       "      <th>total_bill</th>\n",
       "      <th>smoker</th>\n",
       "    </tr>\n",
       "  </thead>\n",
       "  <tbody>\n",
       "    <tr>\n",
       "      <th>0</th>\n",
       "      <td>16.99</td>\n",
       "      <td>No</td>\n",
       "    </tr>\n",
       "    <tr>\n",
       "      <th>1</th>\n",
       "      <td>10.34</td>\n",
       "      <td>No</td>\n",
       "    </tr>\n",
       "    <tr>\n",
       "      <th>2</th>\n",
       "      <td>21.01</td>\n",
       "      <td>No</td>\n",
       "    </tr>\n",
       "    <tr>\n",
       "      <th>3</th>\n",
       "      <td>23.68</td>\n",
       "      <td>No</td>\n",
       "    </tr>\n",
       "    <tr>\n",
       "      <th>4</th>\n",
       "      <td>24.59</td>\n",
       "      <td>No</td>\n",
       "    </tr>\n",
       "    <tr>\n",
       "      <th>...</th>\n",
       "      <td>...</td>\n",
       "      <td>...</td>\n",
       "    </tr>\n",
       "    <tr>\n",
       "      <th>239</th>\n",
       "      <td>29.03</td>\n",
       "      <td>No</td>\n",
       "    </tr>\n",
       "    <tr>\n",
       "      <th>240</th>\n",
       "      <td>27.18</td>\n",
       "      <td>Yes</td>\n",
       "    </tr>\n",
       "    <tr>\n",
       "      <th>241</th>\n",
       "      <td>22.67</td>\n",
       "      <td>Yes</td>\n",
       "    </tr>\n",
       "    <tr>\n",
       "      <th>242</th>\n",
       "      <td>17.82</td>\n",
       "      <td>No</td>\n",
       "    </tr>\n",
       "    <tr>\n",
       "      <th>243</th>\n",
       "      <td>18.78</td>\n",
       "      <td>No</td>\n",
       "    </tr>\n",
       "  </tbody>\n",
       "</table>\n",
       "<p>244 rows × 2 columns</p>\n",
       "</div>"
      ],
      "text/plain": [
       "     total_bill smoker\n",
       "0         16.99     No\n",
       "1         10.34     No\n",
       "2         21.01     No\n",
       "3         23.68     No\n",
       "4         24.59     No\n",
       "..          ...    ...\n",
       "239       29.03     No\n",
       "240       27.18    Yes\n",
       "241       22.67    Yes\n",
       "242       17.82     No\n",
       "243       18.78     No\n",
       "\n",
       "[244 rows x 2 columns]"
      ]
     },
     "execution_count": 55,
     "metadata": {},
     "output_type": "execute_result"
    }
   ],
   "source": [
    "tips[[\"total_bill\",\"smoker\"]]"
   ]
  },
  {
   "cell_type": "markdown",
   "metadata": {
    "id": "TXoeWPL4D_j3"
   },
   "source": [
    "To access observations, we use square brackets but with integers. For example `tips[0:5]` accesses the first 5 observations. How would you access observations 5 through 10?"
   ]
  },
  {
   "cell_type": "code",
   "execution_count": 56,
   "metadata": {
    "colab": {
     "base_uri": "https://localhost:8080/",
     "height": 204
    },
    "executionInfo": {
     "elapsed": 255,
     "status": "ok",
     "timestamp": 1634724189934,
     "user": {
      "displayName": "Georgina Hall",
      "photoUrl": "https://lh3.googleusercontent.com/a/default-user=s64",
      "userId": "09059160022888590327"
     },
     "user_tz": -120
    },
    "id": "yR4BpO0LD_j3",
    "outputId": "7946d656-2d82-4b28-9bc0-35e9605781f9"
   },
   "outputs": [
    {
     "data": {
      "text/html": [
       "<div>\n",
       "<style scoped>\n",
       "    .dataframe tbody tr th:only-of-type {\n",
       "        vertical-align: middle;\n",
       "    }\n",
       "\n",
       "    .dataframe tbody tr th {\n",
       "        vertical-align: top;\n",
       "    }\n",
       "\n",
       "    .dataframe thead th {\n",
       "        text-align: right;\n",
       "    }\n",
       "</style>\n",
       "<table border=\"1\" class=\"dataframe\">\n",
       "  <thead>\n",
       "    <tr style=\"text-align: right;\">\n",
       "      <th></th>\n",
       "      <th>total_bill</th>\n",
       "      <th>tip</th>\n",
       "      <th>sex</th>\n",
       "      <th>smoker</th>\n",
       "      <th>day</th>\n",
       "      <th>time</th>\n",
       "      <th>size</th>\n",
       "    </tr>\n",
       "  </thead>\n",
       "  <tbody>\n",
       "    <tr>\n",
       "      <th>0</th>\n",
       "      <td>16.99</td>\n",
       "      <td>1.01</td>\n",
       "      <td>Female</td>\n",
       "      <td>No</td>\n",
       "      <td>Sun</td>\n",
       "      <td>Dinner</td>\n",
       "      <td>2</td>\n",
       "    </tr>\n",
       "    <tr>\n",
       "      <th>1</th>\n",
       "      <td>10.34</td>\n",
       "      <td>1.66</td>\n",
       "      <td>Male</td>\n",
       "      <td>No</td>\n",
       "      <td>Sun</td>\n",
       "      <td>Dinner</td>\n",
       "      <td>3</td>\n",
       "    </tr>\n",
       "    <tr>\n",
       "      <th>2</th>\n",
       "      <td>21.01</td>\n",
       "      <td>3.50</td>\n",
       "      <td>Male</td>\n",
       "      <td>No</td>\n",
       "      <td>Sun</td>\n",
       "      <td>Dinner</td>\n",
       "      <td>3</td>\n",
       "    </tr>\n",
       "    <tr>\n",
       "      <th>3</th>\n",
       "      <td>23.68</td>\n",
       "      <td>3.31</td>\n",
       "      <td>Male</td>\n",
       "      <td>No</td>\n",
       "      <td>Sun</td>\n",
       "      <td>Dinner</td>\n",
       "      <td>2</td>\n",
       "    </tr>\n",
       "    <tr>\n",
       "      <th>4</th>\n",
       "      <td>24.59</td>\n",
       "      <td>3.61</td>\n",
       "      <td>Female</td>\n",
       "      <td>No</td>\n",
       "      <td>Sun</td>\n",
       "      <td>Dinner</td>\n",
       "      <td>4</td>\n",
       "    </tr>\n",
       "  </tbody>\n",
       "</table>\n",
       "</div>"
      ],
      "text/plain": [
       "   total_bill   tip     sex smoker  day    time  size\n",
       "0       16.99  1.01  Female     No  Sun  Dinner     2\n",
       "1       10.34  1.66    Male     No  Sun  Dinner     3\n",
       "2       21.01  3.50    Male     No  Sun  Dinner     3\n",
       "3       23.68  3.31    Male     No  Sun  Dinner     2\n",
       "4       24.59  3.61  Female     No  Sun  Dinner     4"
      ]
     },
     "execution_count": 56,
     "metadata": {},
     "output_type": "execute_result"
    }
   ],
   "source": [
    "tips[0:5]"
   ]
  },
  {
   "cell_type": "code",
   "execution_count": 57,
   "metadata": {
    "colab": {
     "base_uri": "https://localhost:8080/",
     "height": 235
    },
    "executionInfo": {
     "elapsed": 232,
     "status": "ok",
     "timestamp": 1634724193838,
     "user": {
      "displayName": "Georgina Hall",
      "photoUrl": "https://lh3.googleusercontent.com/a/default-user=s64",
      "userId": "09059160022888590327"
     },
     "user_tz": -120
    },
    "id": "zn_GlflqD_j3",
    "outputId": "e52e7629-eb18-4384-9f87-ed2bfc7bc2a9"
   },
   "outputs": [
    {
     "data": {
      "text/html": [
       "<div>\n",
       "<style scoped>\n",
       "    .dataframe tbody tr th:only-of-type {\n",
       "        vertical-align: middle;\n",
       "    }\n",
       "\n",
       "    .dataframe tbody tr th {\n",
       "        vertical-align: top;\n",
       "    }\n",
       "\n",
       "    .dataframe thead th {\n",
       "        text-align: right;\n",
       "    }\n",
       "</style>\n",
       "<table border=\"1\" class=\"dataframe\">\n",
       "  <thead>\n",
       "    <tr style=\"text-align: right;\">\n",
       "      <th></th>\n",
       "      <th>total_bill</th>\n",
       "      <th>tip</th>\n",
       "      <th>sex</th>\n",
       "      <th>smoker</th>\n",
       "      <th>day</th>\n",
       "      <th>time</th>\n",
       "      <th>size</th>\n",
       "    </tr>\n",
       "  </thead>\n",
       "  <tbody>\n",
       "    <tr>\n",
       "      <th>5</th>\n",
       "      <td>25.29</td>\n",
       "      <td>4.71</td>\n",
       "      <td>Male</td>\n",
       "      <td>No</td>\n",
       "      <td>Sun</td>\n",
       "      <td>Dinner</td>\n",
       "      <td>4</td>\n",
       "    </tr>\n",
       "    <tr>\n",
       "      <th>6</th>\n",
       "      <td>8.77</td>\n",
       "      <td>2.00</td>\n",
       "      <td>Male</td>\n",
       "      <td>No</td>\n",
       "      <td>Sun</td>\n",
       "      <td>Dinner</td>\n",
       "      <td>2</td>\n",
       "    </tr>\n",
       "    <tr>\n",
       "      <th>7</th>\n",
       "      <td>26.88</td>\n",
       "      <td>3.12</td>\n",
       "      <td>Male</td>\n",
       "      <td>No</td>\n",
       "      <td>Sun</td>\n",
       "      <td>Dinner</td>\n",
       "      <td>4</td>\n",
       "    </tr>\n",
       "    <tr>\n",
       "      <th>8</th>\n",
       "      <td>15.04</td>\n",
       "      <td>1.96</td>\n",
       "      <td>Male</td>\n",
       "      <td>No</td>\n",
       "      <td>Sun</td>\n",
       "      <td>Dinner</td>\n",
       "      <td>2</td>\n",
       "    </tr>\n",
       "    <tr>\n",
       "      <th>9</th>\n",
       "      <td>14.78</td>\n",
       "      <td>3.23</td>\n",
       "      <td>Male</td>\n",
       "      <td>No</td>\n",
       "      <td>Sun</td>\n",
       "      <td>Dinner</td>\n",
       "      <td>2</td>\n",
       "    </tr>\n",
       "    <tr>\n",
       "      <th>10</th>\n",
       "      <td>10.27</td>\n",
       "      <td>1.71</td>\n",
       "      <td>Male</td>\n",
       "      <td>No</td>\n",
       "      <td>Sun</td>\n",
       "      <td>Dinner</td>\n",
       "      <td>2</td>\n",
       "    </tr>\n",
       "  </tbody>\n",
       "</table>\n",
       "</div>"
      ],
      "text/plain": [
       "    total_bill   tip   sex smoker  day    time  size\n",
       "5        25.29  4.71  Male     No  Sun  Dinner     4\n",
       "6         8.77  2.00  Male     No  Sun  Dinner     2\n",
       "7        26.88  3.12  Male     No  Sun  Dinner     4\n",
       "8        15.04  1.96  Male     No  Sun  Dinner     2\n",
       "9        14.78  3.23  Male     No  Sun  Dinner     2\n",
       "10       10.27  1.71  Male     No  Sun  Dinner     2"
      ]
     },
     "execution_count": 57,
     "metadata": {},
     "output_type": "execute_result"
    }
   ],
   "source": [
    "tips[5:11]"
   ]
  },
  {
   "cell_type": "markdown",
   "metadata": {
    "id": "mhXe05_tD_j3"
   },
   "source": [
    "Sometimes it can be complicated to understand what the *index* of our dataframe is. We use `.index` for this. What do we get in this case? Do you find this surprising?"
   ]
  },
  {
   "cell_type": "code",
   "execution_count": 58,
   "metadata": {
    "colab": {
     "base_uri": "https://localhost:8080/"
    },
    "executionInfo": {
     "elapsed": 263,
     "status": "ok",
     "timestamp": 1634724196113,
     "user": {
      "displayName": "Georgina Hall",
      "photoUrl": "https://lh3.googleusercontent.com/a/default-user=s64",
      "userId": "09059160022888590327"
     },
     "user_tz": -120
    },
    "id": "fs8YNOCPD_j4",
    "outputId": "a4681f6b-2a98-4ee5-9347-f4b6edf35194"
   },
   "outputs": [
    {
     "data": {
      "text/plain": [
       "RangeIndex(start=0, stop=244, step=1)"
      ]
     },
     "execution_count": 58,
     "metadata": {},
     "output_type": "execute_result"
    }
   ],
   "source": [
    "tips.index"
   ]
  },
  {
   "cell_type": "markdown",
   "metadata": {
    "id": "b6rapJdWD_j4"
   },
   "source": [
    "Accessing one observation rather than a range (as done above) can be done using `.loc`: for example `tips.loc[[5]]`. This just returns the line indexed by 5. If you want to return the line corresponding to position 5, you would use `tips.iloc[[5]]`. The command `.loc` and `.iloc` can also be used for the columns. See the example below."
   ]
  },
  {
   "cell_type": "code",
   "execution_count": 59,
   "metadata": {
    "colab": {
     "base_uri": "https://localhost:8080/",
     "height": 80
    },
    "executionInfo": {
     "elapsed": 258,
     "status": "ok",
     "timestamp": 1634724203071,
     "user": {
      "displayName": "Georgina Hall",
      "photoUrl": "https://lh3.googleusercontent.com/a/default-user=s64",
      "userId": "09059160022888590327"
     },
     "user_tz": -120
    },
    "id": "y4wo58vzD_j4",
    "outputId": "9d203d2e-2e26-4d0a-fba5-45527ad8870d"
   },
   "outputs": [
    {
     "data": {
      "text/html": [
       "<div>\n",
       "<style scoped>\n",
       "    .dataframe tbody tr th:only-of-type {\n",
       "        vertical-align: middle;\n",
       "    }\n",
       "\n",
       "    .dataframe tbody tr th {\n",
       "        vertical-align: top;\n",
       "    }\n",
       "\n",
       "    .dataframe thead th {\n",
       "        text-align: right;\n",
       "    }\n",
       "</style>\n",
       "<table border=\"1\" class=\"dataframe\">\n",
       "  <thead>\n",
       "    <tr style=\"text-align: right;\">\n",
       "      <th></th>\n",
       "      <th>total_bill</th>\n",
       "      <th>tip</th>\n",
       "      <th>sex</th>\n",
       "      <th>smoker</th>\n",
       "      <th>day</th>\n",
       "      <th>time</th>\n",
       "      <th>size</th>\n",
       "    </tr>\n",
       "  </thead>\n",
       "  <tbody>\n",
       "    <tr>\n",
       "      <th>5</th>\n",
       "      <td>25.29</td>\n",
       "      <td>4.71</td>\n",
       "      <td>Male</td>\n",
       "      <td>No</td>\n",
       "      <td>Sun</td>\n",
       "      <td>Dinner</td>\n",
       "      <td>4</td>\n",
       "    </tr>\n",
       "  </tbody>\n",
       "</table>\n",
       "</div>"
      ],
      "text/plain": [
       "   total_bill   tip   sex smoker  day    time  size\n",
       "5       25.29  4.71  Male     No  Sun  Dinner     4"
      ]
     },
     "execution_count": 59,
     "metadata": {},
     "output_type": "execute_result"
    }
   ],
   "source": [
    "tips.loc[[5]]"
   ]
  },
  {
   "cell_type": "code",
   "execution_count": 60,
   "metadata": {
    "colab": {
     "base_uri": "https://localhost:8080/",
     "height": 80
    },
    "executionInfo": {
     "elapsed": 275,
     "status": "ok",
     "timestamp": 1634724209803,
     "user": {
      "displayName": "Georgina Hall",
      "photoUrl": "https://lh3.googleusercontent.com/a/default-user=s64",
      "userId": "09059160022888590327"
     },
     "user_tz": -120
    },
    "id": "70MtdsFAD_j4",
    "outputId": "9a65e215-f863-41f2-8518-2b6b8c3d0f21"
   },
   "outputs": [
    {
     "data": {
      "text/html": [
       "<div>\n",
       "<style scoped>\n",
       "    .dataframe tbody tr th:only-of-type {\n",
       "        vertical-align: middle;\n",
       "    }\n",
       "\n",
       "    .dataframe tbody tr th {\n",
       "        vertical-align: top;\n",
       "    }\n",
       "\n",
       "    .dataframe thead th {\n",
       "        text-align: right;\n",
       "    }\n",
       "</style>\n",
       "<table border=\"1\" class=\"dataframe\">\n",
       "  <thead>\n",
       "    <tr style=\"text-align: right;\">\n",
       "      <th></th>\n",
       "      <th>total_bill</th>\n",
       "      <th>tip</th>\n",
       "      <th>sex</th>\n",
       "      <th>smoker</th>\n",
       "      <th>day</th>\n",
       "      <th>time</th>\n",
       "      <th>size</th>\n",
       "    </tr>\n",
       "  </thead>\n",
       "  <tbody>\n",
       "    <tr>\n",
       "      <th>5</th>\n",
       "      <td>25.29</td>\n",
       "      <td>4.71</td>\n",
       "      <td>Male</td>\n",
       "      <td>No</td>\n",
       "      <td>Sun</td>\n",
       "      <td>Dinner</td>\n",
       "      <td>4</td>\n",
       "    </tr>\n",
       "  </tbody>\n",
       "</table>\n",
       "</div>"
      ],
      "text/plain": [
       "   total_bill   tip   sex smoker  day    time  size\n",
       "5       25.29  4.71  Male     No  Sun  Dinner     4"
      ]
     },
     "execution_count": 60,
     "metadata": {},
     "output_type": "execute_result"
    }
   ],
   "source": [
    "tips.iloc[[5]]"
   ]
  },
  {
   "cell_type": "code",
   "execution_count": 61,
   "metadata": {
    "colab": {
     "base_uri": "https://localhost:8080/",
     "height": 419
    },
    "executionInfo": {
     "elapsed": 259,
     "status": "ok",
     "timestamp": 1634724213770,
     "user": {
      "displayName": "Georgina Hall",
      "photoUrl": "https://lh3.googleusercontent.com/a/default-user=s64",
      "userId": "09059160022888590327"
     },
     "user_tz": -120
    },
    "id": "YbF9PJnwD_j4",
    "outputId": "383989e4-2313-44ed-86a0-edfab8b86e36"
   },
   "outputs": [
    {
     "data": {
      "text/html": [
       "<div>\n",
       "<style scoped>\n",
       "    .dataframe tbody tr th:only-of-type {\n",
       "        vertical-align: middle;\n",
       "    }\n",
       "\n",
       "    .dataframe tbody tr th {\n",
       "        vertical-align: top;\n",
       "    }\n",
       "\n",
       "    .dataframe thead th {\n",
       "        text-align: right;\n",
       "    }\n",
       "</style>\n",
       "<table border=\"1\" class=\"dataframe\">\n",
       "  <thead>\n",
       "    <tr style=\"text-align: right;\">\n",
       "      <th></th>\n",
       "      <th>tip</th>\n",
       "      <th>sex</th>\n",
       "    </tr>\n",
       "  </thead>\n",
       "  <tbody>\n",
       "    <tr>\n",
       "      <th>0</th>\n",
       "      <td>1.01</td>\n",
       "      <td>Female</td>\n",
       "    </tr>\n",
       "    <tr>\n",
       "      <th>1</th>\n",
       "      <td>1.66</td>\n",
       "      <td>Male</td>\n",
       "    </tr>\n",
       "    <tr>\n",
       "      <th>2</th>\n",
       "      <td>3.50</td>\n",
       "      <td>Male</td>\n",
       "    </tr>\n",
       "    <tr>\n",
       "      <th>3</th>\n",
       "      <td>3.31</td>\n",
       "      <td>Male</td>\n",
       "    </tr>\n",
       "    <tr>\n",
       "      <th>4</th>\n",
       "      <td>3.61</td>\n",
       "      <td>Female</td>\n",
       "    </tr>\n",
       "    <tr>\n",
       "      <th>...</th>\n",
       "      <td>...</td>\n",
       "      <td>...</td>\n",
       "    </tr>\n",
       "    <tr>\n",
       "      <th>239</th>\n",
       "      <td>5.92</td>\n",
       "      <td>Male</td>\n",
       "    </tr>\n",
       "    <tr>\n",
       "      <th>240</th>\n",
       "      <td>2.00</td>\n",
       "      <td>Female</td>\n",
       "    </tr>\n",
       "    <tr>\n",
       "      <th>241</th>\n",
       "      <td>2.00</td>\n",
       "      <td>Male</td>\n",
       "    </tr>\n",
       "    <tr>\n",
       "      <th>242</th>\n",
       "      <td>1.75</td>\n",
       "      <td>Male</td>\n",
       "    </tr>\n",
       "    <tr>\n",
       "      <th>243</th>\n",
       "      <td>3.00</td>\n",
       "      <td>Female</td>\n",
       "    </tr>\n",
       "  </tbody>\n",
       "</table>\n",
       "<p>244 rows × 2 columns</p>\n",
       "</div>"
      ],
      "text/plain": [
       "      tip     sex\n",
       "0    1.01  Female\n",
       "1    1.66    Male\n",
       "2    3.50    Male\n",
       "3    3.31    Male\n",
       "4    3.61  Female\n",
       "..    ...     ...\n",
       "239  5.92    Male\n",
       "240  2.00  Female\n",
       "241  2.00    Male\n",
       "242  1.75    Male\n",
       "243  3.00  Female\n",
       "\n",
       "[244 rows x 2 columns]"
      ]
     },
     "execution_count": 61,
     "metadata": {},
     "output_type": "execute_result"
    }
   ],
   "source": [
    "tips.iloc[:,1:3]"
   ]
  },
  {
   "cell_type": "code",
   "execution_count": 62,
   "metadata": {
    "executionInfo": {
     "elapsed": 240,
     "status": "ok",
     "timestamp": 1634724222513,
     "user": {
      "displayName": "Georgina Hall",
      "photoUrl": "https://lh3.googleusercontent.com/a/default-user=s64",
      "userId": "09059160022888590327"
     },
     "user_tz": -120
    },
    "id": "wz2tMhblD_j4"
   },
   "outputs": [],
   "source": [
    "tips1=tips.loc[[5,7,8]]"
   ]
  },
  {
   "cell_type": "code",
   "execution_count": 63,
   "metadata": {
    "colab": {
     "base_uri": "https://localhost:8080/",
     "height": 142
    },
    "executionInfo": {
     "elapsed": 274,
     "status": "ok",
     "timestamp": 1634724225824,
     "user": {
      "displayName": "Georgina Hall",
      "photoUrl": "https://lh3.googleusercontent.com/a/default-user=s64",
      "userId": "09059160022888590327"
     },
     "user_tz": -120
    },
    "id": "fNA1IzTQD_j4",
    "outputId": "c53afd50-850e-4b29-b40c-7e2c521d004b"
   },
   "outputs": [
    {
     "data": {
      "text/html": [
       "<div>\n",
       "<style scoped>\n",
       "    .dataframe tbody tr th:only-of-type {\n",
       "        vertical-align: middle;\n",
       "    }\n",
       "\n",
       "    .dataframe tbody tr th {\n",
       "        vertical-align: top;\n",
       "    }\n",
       "\n",
       "    .dataframe thead th {\n",
       "        text-align: right;\n",
       "    }\n",
       "</style>\n",
       "<table border=\"1\" class=\"dataframe\">\n",
       "  <thead>\n",
       "    <tr style=\"text-align: right;\">\n",
       "      <th></th>\n",
       "      <th>total_bill</th>\n",
       "      <th>tip</th>\n",
       "      <th>sex</th>\n",
       "      <th>smoker</th>\n",
       "      <th>day</th>\n",
       "      <th>time</th>\n",
       "      <th>size</th>\n",
       "    </tr>\n",
       "  </thead>\n",
       "  <tbody>\n",
       "    <tr>\n",
       "      <th>5</th>\n",
       "      <td>25.29</td>\n",
       "      <td>4.71</td>\n",
       "      <td>Male</td>\n",
       "      <td>No</td>\n",
       "      <td>Sun</td>\n",
       "      <td>Dinner</td>\n",
       "      <td>4</td>\n",
       "    </tr>\n",
       "    <tr>\n",
       "      <th>7</th>\n",
       "      <td>26.88</td>\n",
       "      <td>3.12</td>\n",
       "      <td>Male</td>\n",
       "      <td>No</td>\n",
       "      <td>Sun</td>\n",
       "      <td>Dinner</td>\n",
       "      <td>4</td>\n",
       "    </tr>\n",
       "    <tr>\n",
       "      <th>8</th>\n",
       "      <td>15.04</td>\n",
       "      <td>1.96</td>\n",
       "      <td>Male</td>\n",
       "      <td>No</td>\n",
       "      <td>Sun</td>\n",
       "      <td>Dinner</td>\n",
       "      <td>2</td>\n",
       "    </tr>\n",
       "  </tbody>\n",
       "</table>\n",
       "</div>"
      ],
      "text/plain": [
       "   total_bill   tip   sex smoker  day    time  size\n",
       "5       25.29  4.71  Male     No  Sun  Dinner     4\n",
       "7       26.88  3.12  Male     No  Sun  Dinner     4\n",
       "8       15.04  1.96  Male     No  Sun  Dinner     2"
      ]
     },
     "execution_count": 63,
     "metadata": {},
     "output_type": "execute_result"
    }
   ],
   "source": [
    "tips1"
   ]
  },
  {
   "cell_type": "code",
   "execution_count": 64,
   "metadata": {
    "colab": {
     "base_uri": "https://localhost:8080/",
     "height": 80
    },
    "executionInfo": {
     "elapsed": 253,
     "status": "ok",
     "timestamp": 1634724231465,
     "user": {
      "displayName": "Georgina Hall",
      "photoUrl": "https://lh3.googleusercontent.com/a/default-user=s64",
      "userId": "09059160022888590327"
     },
     "user_tz": -120
    },
    "id": "6ua5KJmLD_j5",
    "outputId": "eb616a1a-cdaa-4c5d-810c-0f7839ab2cf2"
   },
   "outputs": [
    {
     "data": {
      "text/html": [
       "<div>\n",
       "<style scoped>\n",
       "    .dataframe tbody tr th:only-of-type {\n",
       "        vertical-align: middle;\n",
       "    }\n",
       "\n",
       "    .dataframe tbody tr th {\n",
       "        vertical-align: top;\n",
       "    }\n",
       "\n",
       "    .dataframe thead th {\n",
       "        text-align: right;\n",
       "    }\n",
       "</style>\n",
       "<table border=\"1\" class=\"dataframe\">\n",
       "  <thead>\n",
       "    <tr style=\"text-align: right;\">\n",
       "      <th></th>\n",
       "      <th>total_bill</th>\n",
       "      <th>tip</th>\n",
       "      <th>sex</th>\n",
       "      <th>smoker</th>\n",
       "      <th>day</th>\n",
       "      <th>time</th>\n",
       "      <th>size</th>\n",
       "    </tr>\n",
       "  </thead>\n",
       "  <tbody>\n",
       "    <tr>\n",
       "      <th>7</th>\n",
       "      <td>26.88</td>\n",
       "      <td>3.12</td>\n",
       "      <td>Male</td>\n",
       "      <td>No</td>\n",
       "      <td>Sun</td>\n",
       "      <td>Dinner</td>\n",
       "      <td>4</td>\n",
       "    </tr>\n",
       "  </tbody>\n",
       "</table>\n",
       "</div>"
      ],
      "text/plain": [
       "   total_bill   tip   sex smoker  day    time  size\n",
       "7       26.88  3.12  Male     No  Sun  Dinner     4"
      ]
     },
     "execution_count": 64,
     "metadata": {},
     "output_type": "execute_result"
    }
   ],
   "source": [
    "tips1[1:2]"
   ]
  },
  {
   "cell_type": "markdown",
   "metadata": {
    "id": "kP4dyZ9AD_j5"
   },
   "source": [
    "Using `.loc` or `.iloc`, you can also select many different observations that are not necessarily contiguous, for example, try selecting rows indexed by 5 and 8 using a similar strategy to arrays."
   ]
  },
  {
   "cell_type": "code",
   "execution_count": 65,
   "metadata": {
    "colab": {
     "base_uri": "https://localhost:8080/",
     "height": 111
    },
    "executionInfo": {
     "elapsed": 267,
     "status": "ok",
     "timestamp": 1634724236848,
     "user": {
      "displayName": "Georgina Hall",
      "photoUrl": "https://lh3.googleusercontent.com/a/default-user=s64",
      "userId": "09059160022888590327"
     },
     "user_tz": -120
    },
    "id": "Sn4rIkLFD_j5",
    "outputId": "fdb55d03-f706-478f-b4f8-82507fd9cb48"
   },
   "outputs": [
    {
     "data": {
      "text/html": [
       "<div>\n",
       "<style scoped>\n",
       "    .dataframe tbody tr th:only-of-type {\n",
       "        vertical-align: middle;\n",
       "    }\n",
       "\n",
       "    .dataframe tbody tr th {\n",
       "        vertical-align: top;\n",
       "    }\n",
       "\n",
       "    .dataframe thead th {\n",
       "        text-align: right;\n",
       "    }\n",
       "</style>\n",
       "<table border=\"1\" class=\"dataframe\">\n",
       "  <thead>\n",
       "    <tr style=\"text-align: right;\">\n",
       "      <th></th>\n",
       "      <th>total_bill</th>\n",
       "      <th>tip</th>\n",
       "      <th>sex</th>\n",
       "      <th>smoker</th>\n",
       "      <th>day</th>\n",
       "      <th>time</th>\n",
       "      <th>size</th>\n",
       "    </tr>\n",
       "  </thead>\n",
       "  <tbody>\n",
       "    <tr>\n",
       "      <th>5</th>\n",
       "      <td>25.29</td>\n",
       "      <td>4.71</td>\n",
       "      <td>Male</td>\n",
       "      <td>No</td>\n",
       "      <td>Sun</td>\n",
       "      <td>Dinner</td>\n",
       "      <td>4</td>\n",
       "    </tr>\n",
       "    <tr>\n",
       "      <th>8</th>\n",
       "      <td>15.04</td>\n",
       "      <td>1.96</td>\n",
       "      <td>Male</td>\n",
       "      <td>No</td>\n",
       "      <td>Sun</td>\n",
       "      <td>Dinner</td>\n",
       "      <td>2</td>\n",
       "    </tr>\n",
       "  </tbody>\n",
       "</table>\n",
       "</div>"
      ],
      "text/plain": [
       "   total_bill   tip   sex smoker  day    time  size\n",
       "5       25.29  4.71  Male     No  Sun  Dinner     4\n",
       "8       15.04  1.96  Male     No  Sun  Dinner     2"
      ]
     },
     "execution_count": 65,
     "metadata": {},
     "output_type": "execute_result"
    }
   ],
   "source": [
    "tips.loc[[5,8]]"
   ]
  },
  {
   "cell_type": "markdown",
   "metadata": {
    "id": "AsBrBW0MD_j5"
   },
   "source": [
    "You can also filter in a similar way as done for arrays: for example, if you only want to consider male tippers you would use:"
   ]
  },
  {
   "cell_type": "code",
   "execution_count": 66,
   "metadata": {
    "colab": {
     "base_uri": "https://localhost:8080/",
     "height": 419
    },
    "executionInfo": {
     "elapsed": 289,
     "status": "ok",
     "timestamp": 1634724245586,
     "user": {
      "displayName": "Georgina Hall",
      "photoUrl": "https://lh3.googleusercontent.com/a/default-user=s64",
      "userId": "09059160022888590327"
     },
     "user_tz": -120
    },
    "id": "kZFh-oLAD_j5",
    "outputId": "4903f416-d349-4184-feb8-ac80aa1b955e"
   },
   "outputs": [
    {
     "data": {
      "text/html": [
       "<div>\n",
       "<style scoped>\n",
       "    .dataframe tbody tr th:only-of-type {\n",
       "        vertical-align: middle;\n",
       "    }\n",
       "\n",
       "    .dataframe tbody tr th {\n",
       "        vertical-align: top;\n",
       "    }\n",
       "\n",
       "    .dataframe thead th {\n",
       "        text-align: right;\n",
       "    }\n",
       "</style>\n",
       "<table border=\"1\" class=\"dataframe\">\n",
       "  <thead>\n",
       "    <tr style=\"text-align: right;\">\n",
       "      <th></th>\n",
       "      <th>total_bill</th>\n",
       "      <th>tip</th>\n",
       "      <th>sex</th>\n",
       "      <th>smoker</th>\n",
       "      <th>day</th>\n",
       "      <th>time</th>\n",
       "      <th>size</th>\n",
       "    </tr>\n",
       "  </thead>\n",
       "  <tbody>\n",
       "    <tr>\n",
       "      <th>1</th>\n",
       "      <td>10.34</td>\n",
       "      <td>1.66</td>\n",
       "      <td>Male</td>\n",
       "      <td>No</td>\n",
       "      <td>Sun</td>\n",
       "      <td>Dinner</td>\n",
       "      <td>3</td>\n",
       "    </tr>\n",
       "    <tr>\n",
       "      <th>2</th>\n",
       "      <td>21.01</td>\n",
       "      <td>3.50</td>\n",
       "      <td>Male</td>\n",
       "      <td>No</td>\n",
       "      <td>Sun</td>\n",
       "      <td>Dinner</td>\n",
       "      <td>3</td>\n",
       "    </tr>\n",
       "    <tr>\n",
       "      <th>3</th>\n",
       "      <td>23.68</td>\n",
       "      <td>3.31</td>\n",
       "      <td>Male</td>\n",
       "      <td>No</td>\n",
       "      <td>Sun</td>\n",
       "      <td>Dinner</td>\n",
       "      <td>2</td>\n",
       "    </tr>\n",
       "    <tr>\n",
       "      <th>5</th>\n",
       "      <td>25.29</td>\n",
       "      <td>4.71</td>\n",
       "      <td>Male</td>\n",
       "      <td>No</td>\n",
       "      <td>Sun</td>\n",
       "      <td>Dinner</td>\n",
       "      <td>4</td>\n",
       "    </tr>\n",
       "    <tr>\n",
       "      <th>6</th>\n",
       "      <td>8.77</td>\n",
       "      <td>2.00</td>\n",
       "      <td>Male</td>\n",
       "      <td>No</td>\n",
       "      <td>Sun</td>\n",
       "      <td>Dinner</td>\n",
       "      <td>2</td>\n",
       "    </tr>\n",
       "    <tr>\n",
       "      <th>...</th>\n",
       "      <td>...</td>\n",
       "      <td>...</td>\n",
       "      <td>...</td>\n",
       "      <td>...</td>\n",
       "      <td>...</td>\n",
       "      <td>...</td>\n",
       "      <td>...</td>\n",
       "    </tr>\n",
       "    <tr>\n",
       "      <th>236</th>\n",
       "      <td>12.60</td>\n",
       "      <td>1.00</td>\n",
       "      <td>Male</td>\n",
       "      <td>Yes</td>\n",
       "      <td>Sat</td>\n",
       "      <td>Dinner</td>\n",
       "      <td>2</td>\n",
       "    </tr>\n",
       "    <tr>\n",
       "      <th>237</th>\n",
       "      <td>32.83</td>\n",
       "      <td>1.17</td>\n",
       "      <td>Male</td>\n",
       "      <td>Yes</td>\n",
       "      <td>Sat</td>\n",
       "      <td>Dinner</td>\n",
       "      <td>2</td>\n",
       "    </tr>\n",
       "    <tr>\n",
       "      <th>239</th>\n",
       "      <td>29.03</td>\n",
       "      <td>5.92</td>\n",
       "      <td>Male</td>\n",
       "      <td>No</td>\n",
       "      <td>Sat</td>\n",
       "      <td>Dinner</td>\n",
       "      <td>3</td>\n",
       "    </tr>\n",
       "    <tr>\n",
       "      <th>241</th>\n",
       "      <td>22.67</td>\n",
       "      <td>2.00</td>\n",
       "      <td>Male</td>\n",
       "      <td>Yes</td>\n",
       "      <td>Sat</td>\n",
       "      <td>Dinner</td>\n",
       "      <td>2</td>\n",
       "    </tr>\n",
       "    <tr>\n",
       "      <th>242</th>\n",
       "      <td>17.82</td>\n",
       "      <td>1.75</td>\n",
       "      <td>Male</td>\n",
       "      <td>No</td>\n",
       "      <td>Sat</td>\n",
       "      <td>Dinner</td>\n",
       "      <td>2</td>\n",
       "    </tr>\n",
       "  </tbody>\n",
       "</table>\n",
       "<p>157 rows × 7 columns</p>\n",
       "</div>"
      ],
      "text/plain": [
       "     total_bill   tip   sex smoker  day    time  size\n",
       "1         10.34  1.66  Male     No  Sun  Dinner     3\n",
       "2         21.01  3.50  Male     No  Sun  Dinner     3\n",
       "3         23.68  3.31  Male     No  Sun  Dinner     2\n",
       "5         25.29  4.71  Male     No  Sun  Dinner     4\n",
       "6          8.77  2.00  Male     No  Sun  Dinner     2\n",
       "..          ...   ...   ...    ...  ...     ...   ...\n",
       "236       12.60  1.00  Male    Yes  Sat  Dinner     2\n",
       "237       32.83  1.17  Male    Yes  Sat  Dinner     2\n",
       "239       29.03  5.92  Male     No  Sat  Dinner     3\n",
       "241       22.67  2.00  Male    Yes  Sat  Dinner     2\n",
       "242       17.82  1.75  Male     No  Sat  Dinner     2\n",
       "\n",
       "[157 rows x 7 columns]"
      ]
     },
     "execution_count": 66,
     "metadata": {},
     "output_type": "execute_result"
    }
   ],
   "source": [
    "tips[tips[\"sex\"]==\"Male\"]"
   ]
  },
  {
   "cell_type": "markdown",
   "metadata": {
    "id": "gCMBgWVYD_j5"
   },
   "source": [
    "Your turn! Select the rows that correspond to the size of the party being larger or equal to 4."
   ]
  },
  {
   "cell_type": "code",
   "execution_count": 67,
   "metadata": {
    "colab": {
     "base_uri": "https://localhost:8080/",
     "height": 1000
    },
    "executionInfo": {
     "elapsed": 284,
     "status": "ok",
     "timestamp": 1634724249665,
     "user": {
      "displayName": "Georgina Hall",
      "photoUrl": "https://lh3.googleusercontent.com/a/default-user=s64",
      "userId": "09059160022888590327"
     },
     "user_tz": -120
    },
    "id": "gtDwr6-5D_j5",
    "outputId": "2af1e3a4-e3e5-4330-aaa8-51131a09ed97"
   },
   "outputs": [
    {
     "data": {
      "text/html": [
       "<div>\n",
       "<style scoped>\n",
       "    .dataframe tbody tr th:only-of-type {\n",
       "        vertical-align: middle;\n",
       "    }\n",
       "\n",
       "    .dataframe tbody tr th {\n",
       "        vertical-align: top;\n",
       "    }\n",
       "\n",
       "    .dataframe thead th {\n",
       "        text-align: right;\n",
       "    }\n",
       "</style>\n",
       "<table border=\"1\" class=\"dataframe\">\n",
       "  <thead>\n",
       "    <tr style=\"text-align: right;\">\n",
       "      <th></th>\n",
       "      <th>total_bill</th>\n",
       "      <th>tip</th>\n",
       "      <th>sex</th>\n",
       "      <th>smoker</th>\n",
       "      <th>day</th>\n",
       "      <th>time</th>\n",
       "      <th>size</th>\n",
       "    </tr>\n",
       "  </thead>\n",
       "  <tbody>\n",
       "    <tr>\n",
       "      <th>4</th>\n",
       "      <td>24.59</td>\n",
       "      <td>3.61</td>\n",
       "      <td>Female</td>\n",
       "      <td>No</td>\n",
       "      <td>Sun</td>\n",
       "      <td>Dinner</td>\n",
       "      <td>4</td>\n",
       "    </tr>\n",
       "    <tr>\n",
       "      <th>5</th>\n",
       "      <td>25.29</td>\n",
       "      <td>4.71</td>\n",
       "      <td>Male</td>\n",
       "      <td>No</td>\n",
       "      <td>Sun</td>\n",
       "      <td>Dinner</td>\n",
       "      <td>4</td>\n",
       "    </tr>\n",
       "    <tr>\n",
       "      <th>7</th>\n",
       "      <td>26.88</td>\n",
       "      <td>3.12</td>\n",
       "      <td>Male</td>\n",
       "      <td>No</td>\n",
       "      <td>Sun</td>\n",
       "      <td>Dinner</td>\n",
       "      <td>4</td>\n",
       "    </tr>\n",
       "    <tr>\n",
       "      <th>11</th>\n",
       "      <td>35.26</td>\n",
       "      <td>5.00</td>\n",
       "      <td>Female</td>\n",
       "      <td>No</td>\n",
       "      <td>Sun</td>\n",
       "      <td>Dinner</td>\n",
       "      <td>4</td>\n",
       "    </tr>\n",
       "    <tr>\n",
       "      <th>13</th>\n",
       "      <td>18.43</td>\n",
       "      <td>3.00</td>\n",
       "      <td>Male</td>\n",
       "      <td>No</td>\n",
       "      <td>Sun</td>\n",
       "      <td>Dinner</td>\n",
       "      <td>4</td>\n",
       "    </tr>\n",
       "    <tr>\n",
       "      <th>23</th>\n",
       "      <td>39.42</td>\n",
       "      <td>7.58</td>\n",
       "      <td>Male</td>\n",
       "      <td>No</td>\n",
       "      <td>Sat</td>\n",
       "      <td>Dinner</td>\n",
       "      <td>4</td>\n",
       "    </tr>\n",
       "    <tr>\n",
       "      <th>25</th>\n",
       "      <td>17.81</td>\n",
       "      <td>2.34</td>\n",
       "      <td>Male</td>\n",
       "      <td>No</td>\n",
       "      <td>Sat</td>\n",
       "      <td>Dinner</td>\n",
       "      <td>4</td>\n",
       "    </tr>\n",
       "    <tr>\n",
       "      <th>31</th>\n",
       "      <td>18.35</td>\n",
       "      <td>2.50</td>\n",
       "      <td>Male</td>\n",
       "      <td>No</td>\n",
       "      <td>Sat</td>\n",
       "      <td>Dinner</td>\n",
       "      <td>4</td>\n",
       "    </tr>\n",
       "    <tr>\n",
       "      <th>33</th>\n",
       "      <td>20.69</td>\n",
       "      <td>2.45</td>\n",
       "      <td>Female</td>\n",
       "      <td>No</td>\n",
       "      <td>Sat</td>\n",
       "      <td>Dinner</td>\n",
       "      <td>4</td>\n",
       "    </tr>\n",
       "    <tr>\n",
       "      <th>44</th>\n",
       "      <td>30.40</td>\n",
       "      <td>5.60</td>\n",
       "      <td>Male</td>\n",
       "      <td>No</td>\n",
       "      <td>Sun</td>\n",
       "      <td>Dinner</td>\n",
       "      <td>4</td>\n",
       "    </tr>\n",
       "    <tr>\n",
       "      <th>47</th>\n",
       "      <td>32.40</td>\n",
       "      <td>6.00</td>\n",
       "      <td>Male</td>\n",
       "      <td>No</td>\n",
       "      <td>Sun</td>\n",
       "      <td>Dinner</td>\n",
       "      <td>4</td>\n",
       "    </tr>\n",
       "    <tr>\n",
       "      <th>52</th>\n",
       "      <td>34.81</td>\n",
       "      <td>5.20</td>\n",
       "      <td>Female</td>\n",
       "      <td>No</td>\n",
       "      <td>Sun</td>\n",
       "      <td>Dinner</td>\n",
       "      <td>4</td>\n",
       "    </tr>\n",
       "    <tr>\n",
       "      <th>54</th>\n",
       "      <td>25.56</td>\n",
       "      <td>4.34</td>\n",
       "      <td>Male</td>\n",
       "      <td>No</td>\n",
       "      <td>Sun</td>\n",
       "      <td>Dinner</td>\n",
       "      <td>4</td>\n",
       "    </tr>\n",
       "    <tr>\n",
       "      <th>56</th>\n",
       "      <td>38.01</td>\n",
       "      <td>3.00</td>\n",
       "      <td>Male</td>\n",
       "      <td>Yes</td>\n",
       "      <td>Sat</td>\n",
       "      <td>Dinner</td>\n",
       "      <td>4</td>\n",
       "    </tr>\n",
       "    <tr>\n",
       "      <th>59</th>\n",
       "      <td>48.27</td>\n",
       "      <td>6.73</td>\n",
       "      <td>Male</td>\n",
       "      <td>No</td>\n",
       "      <td>Sat</td>\n",
       "      <td>Dinner</td>\n",
       "      <td>4</td>\n",
       "    </tr>\n",
       "    <tr>\n",
       "      <th>63</th>\n",
       "      <td>18.29</td>\n",
       "      <td>3.76</td>\n",
       "      <td>Male</td>\n",
       "      <td>Yes</td>\n",
       "      <td>Sat</td>\n",
       "      <td>Dinner</td>\n",
       "      <td>4</td>\n",
       "    </tr>\n",
       "    <tr>\n",
       "      <th>77</th>\n",
       "      <td>27.20</td>\n",
       "      <td>4.00</td>\n",
       "      <td>Male</td>\n",
       "      <td>No</td>\n",
       "      <td>Thur</td>\n",
       "      <td>Lunch</td>\n",
       "      <td>4</td>\n",
       "    </tr>\n",
       "    <tr>\n",
       "      <th>85</th>\n",
       "      <td>34.83</td>\n",
       "      <td>5.17</td>\n",
       "      <td>Female</td>\n",
       "      <td>No</td>\n",
       "      <td>Thur</td>\n",
       "      <td>Lunch</td>\n",
       "      <td>4</td>\n",
       "    </tr>\n",
       "    <tr>\n",
       "      <th>95</th>\n",
       "      <td>40.17</td>\n",
       "      <td>4.73</td>\n",
       "      <td>Male</td>\n",
       "      <td>Yes</td>\n",
       "      <td>Fri</td>\n",
       "      <td>Dinner</td>\n",
       "      <td>4</td>\n",
       "    </tr>\n",
       "    <tr>\n",
       "      <th>116</th>\n",
       "      <td>29.93</td>\n",
       "      <td>5.07</td>\n",
       "      <td>Male</td>\n",
       "      <td>No</td>\n",
       "      <td>Sun</td>\n",
       "      <td>Dinner</td>\n",
       "      <td>4</td>\n",
       "    </tr>\n",
       "    <tr>\n",
       "      <th>119</th>\n",
       "      <td>24.08</td>\n",
       "      <td>2.92</td>\n",
       "      <td>Female</td>\n",
       "      <td>No</td>\n",
       "      <td>Thur</td>\n",
       "      <td>Lunch</td>\n",
       "      <td>4</td>\n",
       "    </tr>\n",
       "    <tr>\n",
       "      <th>125</th>\n",
       "      <td>29.80</td>\n",
       "      <td>4.20</td>\n",
       "      <td>Female</td>\n",
       "      <td>No</td>\n",
       "      <td>Thur</td>\n",
       "      <td>Lunch</td>\n",
       "      <td>6</td>\n",
       "    </tr>\n",
       "    <tr>\n",
       "      <th>141</th>\n",
       "      <td>34.30</td>\n",
       "      <td>6.70</td>\n",
       "      <td>Male</td>\n",
       "      <td>No</td>\n",
       "      <td>Thur</td>\n",
       "      <td>Lunch</td>\n",
       "      <td>6</td>\n",
       "    </tr>\n",
       "    <tr>\n",
       "      <th>142</th>\n",
       "      <td>41.19</td>\n",
       "      <td>5.00</td>\n",
       "      <td>Male</td>\n",
       "      <td>No</td>\n",
       "      <td>Thur</td>\n",
       "      <td>Lunch</td>\n",
       "      <td>5</td>\n",
       "    </tr>\n",
       "    <tr>\n",
       "      <th>143</th>\n",
       "      <td>27.05</td>\n",
       "      <td>5.00</td>\n",
       "      <td>Female</td>\n",
       "      <td>No</td>\n",
       "      <td>Thur</td>\n",
       "      <td>Lunch</td>\n",
       "      <td>6</td>\n",
       "    </tr>\n",
       "    <tr>\n",
       "      <th>153</th>\n",
       "      <td>24.55</td>\n",
       "      <td>2.00</td>\n",
       "      <td>Male</td>\n",
       "      <td>No</td>\n",
       "      <td>Sun</td>\n",
       "      <td>Dinner</td>\n",
       "      <td>4</td>\n",
       "    </tr>\n",
       "    <tr>\n",
       "      <th>154</th>\n",
       "      <td>19.77</td>\n",
       "      <td>2.00</td>\n",
       "      <td>Male</td>\n",
       "      <td>No</td>\n",
       "      <td>Sun</td>\n",
       "      <td>Dinner</td>\n",
       "      <td>4</td>\n",
       "    </tr>\n",
       "    <tr>\n",
       "      <th>155</th>\n",
       "      <td>29.85</td>\n",
       "      <td>5.14</td>\n",
       "      <td>Female</td>\n",
       "      <td>No</td>\n",
       "      <td>Sun</td>\n",
       "      <td>Dinner</td>\n",
       "      <td>5</td>\n",
       "    </tr>\n",
       "    <tr>\n",
       "      <th>156</th>\n",
       "      <td>48.17</td>\n",
       "      <td>5.00</td>\n",
       "      <td>Male</td>\n",
       "      <td>No</td>\n",
       "      <td>Sun</td>\n",
       "      <td>Dinner</td>\n",
       "      <td>6</td>\n",
       "    </tr>\n",
       "    <tr>\n",
       "      <th>157</th>\n",
       "      <td>25.00</td>\n",
       "      <td>3.75</td>\n",
       "      <td>Female</td>\n",
       "      <td>No</td>\n",
       "      <td>Sun</td>\n",
       "      <td>Dinner</td>\n",
       "      <td>4</td>\n",
       "    </tr>\n",
       "    <tr>\n",
       "      <th>159</th>\n",
       "      <td>16.49</td>\n",
       "      <td>2.00</td>\n",
       "      <td>Male</td>\n",
       "      <td>No</td>\n",
       "      <td>Sun</td>\n",
       "      <td>Dinner</td>\n",
       "      <td>4</td>\n",
       "    </tr>\n",
       "    <tr>\n",
       "      <th>160</th>\n",
       "      <td>21.50</td>\n",
       "      <td>3.50</td>\n",
       "      <td>Male</td>\n",
       "      <td>No</td>\n",
       "      <td>Sun</td>\n",
       "      <td>Dinner</td>\n",
       "      <td>4</td>\n",
       "    </tr>\n",
       "    <tr>\n",
       "      <th>167</th>\n",
       "      <td>31.71</td>\n",
       "      <td>4.50</td>\n",
       "      <td>Male</td>\n",
       "      <td>No</td>\n",
       "      <td>Sun</td>\n",
       "      <td>Dinner</td>\n",
       "      <td>4</td>\n",
       "    </tr>\n",
       "    <tr>\n",
       "      <th>180</th>\n",
       "      <td>34.65</td>\n",
       "      <td>3.68</td>\n",
       "      <td>Male</td>\n",
       "      <td>Yes</td>\n",
       "      <td>Sun</td>\n",
       "      <td>Dinner</td>\n",
       "      <td>4</td>\n",
       "    </tr>\n",
       "    <tr>\n",
       "      <th>183</th>\n",
       "      <td>23.17</td>\n",
       "      <td>6.50</td>\n",
       "      <td>Male</td>\n",
       "      <td>Yes</td>\n",
       "      <td>Sun</td>\n",
       "      <td>Dinner</td>\n",
       "      <td>4</td>\n",
       "    </tr>\n",
       "    <tr>\n",
       "      <th>185</th>\n",
       "      <td>20.69</td>\n",
       "      <td>5.00</td>\n",
       "      <td>Male</td>\n",
       "      <td>No</td>\n",
       "      <td>Sun</td>\n",
       "      <td>Dinner</td>\n",
       "      <td>5</td>\n",
       "    </tr>\n",
       "    <tr>\n",
       "      <th>187</th>\n",
       "      <td>30.46</td>\n",
       "      <td>2.00</td>\n",
       "      <td>Male</td>\n",
       "      <td>Yes</td>\n",
       "      <td>Sun</td>\n",
       "      <td>Dinner</td>\n",
       "      <td>5</td>\n",
       "    </tr>\n",
       "    <tr>\n",
       "      <th>197</th>\n",
       "      <td>43.11</td>\n",
       "      <td>5.00</td>\n",
       "      <td>Female</td>\n",
       "      <td>Yes</td>\n",
       "      <td>Thur</td>\n",
       "      <td>Lunch</td>\n",
       "      <td>4</td>\n",
       "    </tr>\n",
       "    <tr>\n",
       "      <th>204</th>\n",
       "      <td>20.53</td>\n",
       "      <td>4.00</td>\n",
       "      <td>Male</td>\n",
       "      <td>Yes</td>\n",
       "      <td>Thur</td>\n",
       "      <td>Lunch</td>\n",
       "      <td>4</td>\n",
       "    </tr>\n",
       "    <tr>\n",
       "      <th>207</th>\n",
       "      <td>38.73</td>\n",
       "      <td>3.00</td>\n",
       "      <td>Male</td>\n",
       "      <td>Yes</td>\n",
       "      <td>Sat</td>\n",
       "      <td>Dinner</td>\n",
       "      <td>4</td>\n",
       "    </tr>\n",
       "    <tr>\n",
       "      <th>211</th>\n",
       "      <td>25.89</td>\n",
       "      <td>5.16</td>\n",
       "      <td>Male</td>\n",
       "      <td>Yes</td>\n",
       "      <td>Sat</td>\n",
       "      <td>Dinner</td>\n",
       "      <td>4</td>\n",
       "    </tr>\n",
       "    <tr>\n",
       "      <th>212</th>\n",
       "      <td>48.33</td>\n",
       "      <td>9.00</td>\n",
       "      <td>Male</td>\n",
       "      <td>No</td>\n",
       "      <td>Sat</td>\n",
       "      <td>Dinner</td>\n",
       "      <td>4</td>\n",
       "    </tr>\n",
       "    <tr>\n",
       "      <th>216</th>\n",
       "      <td>28.15</td>\n",
       "      <td>3.00</td>\n",
       "      <td>Male</td>\n",
       "      <td>Yes</td>\n",
       "      <td>Sat</td>\n",
       "      <td>Dinner</td>\n",
       "      <td>5</td>\n",
       "    </tr>\n",
       "    <tr>\n",
       "      <th>219</th>\n",
       "      <td>30.14</td>\n",
       "      <td>3.09</td>\n",
       "      <td>Female</td>\n",
       "      <td>Yes</td>\n",
       "      <td>Sat</td>\n",
       "      <td>Dinner</td>\n",
       "      <td>4</td>\n",
       "    </tr>\n",
       "    <tr>\n",
       "      <th>227</th>\n",
       "      <td>20.45</td>\n",
       "      <td>3.00</td>\n",
       "      <td>Male</td>\n",
       "      <td>No</td>\n",
       "      <td>Sat</td>\n",
       "      <td>Dinner</td>\n",
       "      <td>4</td>\n",
       "    </tr>\n",
       "    <tr>\n",
       "      <th>230</th>\n",
       "      <td>24.01</td>\n",
       "      <td>2.00</td>\n",
       "      <td>Male</td>\n",
       "      <td>Yes</td>\n",
       "      <td>Sat</td>\n",
       "      <td>Dinner</td>\n",
       "      <td>4</td>\n",
       "    </tr>\n",
       "  </tbody>\n",
       "</table>\n",
       "</div>"
      ],
      "text/plain": [
       "     total_bill   tip     sex smoker   day    time  size\n",
       "4         24.59  3.61  Female     No   Sun  Dinner     4\n",
       "5         25.29  4.71    Male     No   Sun  Dinner     4\n",
       "7         26.88  3.12    Male     No   Sun  Dinner     4\n",
       "11        35.26  5.00  Female     No   Sun  Dinner     4\n",
       "13        18.43  3.00    Male     No   Sun  Dinner     4\n",
       "23        39.42  7.58    Male     No   Sat  Dinner     4\n",
       "25        17.81  2.34    Male     No   Sat  Dinner     4\n",
       "31        18.35  2.50    Male     No   Sat  Dinner     4\n",
       "33        20.69  2.45  Female     No   Sat  Dinner     4\n",
       "44        30.40  5.60    Male     No   Sun  Dinner     4\n",
       "47        32.40  6.00    Male     No   Sun  Dinner     4\n",
       "52        34.81  5.20  Female     No   Sun  Dinner     4\n",
       "54        25.56  4.34    Male     No   Sun  Dinner     4\n",
       "56        38.01  3.00    Male    Yes   Sat  Dinner     4\n",
       "59        48.27  6.73    Male     No   Sat  Dinner     4\n",
       "63        18.29  3.76    Male    Yes   Sat  Dinner     4\n",
       "77        27.20  4.00    Male     No  Thur   Lunch     4\n",
       "85        34.83  5.17  Female     No  Thur   Lunch     4\n",
       "95        40.17  4.73    Male    Yes   Fri  Dinner     4\n",
       "116       29.93  5.07    Male     No   Sun  Dinner     4\n",
       "119       24.08  2.92  Female     No  Thur   Lunch     4\n",
       "125       29.80  4.20  Female     No  Thur   Lunch     6\n",
       "141       34.30  6.70    Male     No  Thur   Lunch     6\n",
       "142       41.19  5.00    Male     No  Thur   Lunch     5\n",
       "143       27.05  5.00  Female     No  Thur   Lunch     6\n",
       "153       24.55  2.00    Male     No   Sun  Dinner     4\n",
       "154       19.77  2.00    Male     No   Sun  Dinner     4\n",
       "155       29.85  5.14  Female     No   Sun  Dinner     5\n",
       "156       48.17  5.00    Male     No   Sun  Dinner     6\n",
       "157       25.00  3.75  Female     No   Sun  Dinner     4\n",
       "159       16.49  2.00    Male     No   Sun  Dinner     4\n",
       "160       21.50  3.50    Male     No   Sun  Dinner     4\n",
       "167       31.71  4.50    Male     No   Sun  Dinner     4\n",
       "180       34.65  3.68    Male    Yes   Sun  Dinner     4\n",
       "183       23.17  6.50    Male    Yes   Sun  Dinner     4\n",
       "185       20.69  5.00    Male     No   Sun  Dinner     5\n",
       "187       30.46  2.00    Male    Yes   Sun  Dinner     5\n",
       "197       43.11  5.00  Female    Yes  Thur   Lunch     4\n",
       "204       20.53  4.00    Male    Yes  Thur   Lunch     4\n",
       "207       38.73  3.00    Male    Yes   Sat  Dinner     4\n",
       "211       25.89  5.16    Male    Yes   Sat  Dinner     4\n",
       "212       48.33  9.00    Male     No   Sat  Dinner     4\n",
       "216       28.15  3.00    Male    Yes   Sat  Dinner     5\n",
       "219       30.14  3.09  Female    Yes   Sat  Dinner     4\n",
       "227       20.45  3.00    Male     No   Sat  Dinner     4\n",
       "230       24.01  2.00    Male    Yes   Sat  Dinner     4"
      ]
     },
     "execution_count": 67,
     "metadata": {},
     "output_type": "execute_result"
    }
   ],
   "source": [
    "tips[tips[\"size\"]>=4]"
   ]
  },
  {
   "cell_type": "markdown",
   "metadata": {
    "id": "1vMZOkK7D_j6"
   },
   "source": [
    "An important thing to know how to do is how to drop a column from a dataframe. This is done by using `.drop(columns=[\"name1\",\"name2\"])`. Drop the column \"time\" from the tips dataset."
   ]
  },
  {
   "cell_type": "code",
   "execution_count": null,
   "metadata": {
    "id": "pB5FBx7MD_j6",
    "outputId": "fd4451a7-a4e1-4294-dd8d-eeab605a8aee"
   },
   "outputs": [
    {
     "data": {
      "text/html": [
       "<div>\n",
       "<style scoped>\n",
       "    .dataframe tbody tr th:only-of-type {\n",
       "        vertical-align: middle;\n",
       "    }\n",
       "\n",
       "    .dataframe tbody tr th {\n",
       "        vertical-align: top;\n",
       "    }\n",
       "\n",
       "    .dataframe thead th {\n",
       "        text-align: right;\n",
       "    }\n",
       "</style>\n",
       "<table border=\"1\" class=\"dataframe\">\n",
       "  <thead>\n",
       "    <tr style=\"text-align: right;\">\n",
       "      <th></th>\n",
       "      <th>total_bill</th>\n",
       "      <th>tip</th>\n",
       "      <th>sex</th>\n",
       "      <th>smoker</th>\n",
       "      <th>day</th>\n",
       "      <th>size</th>\n",
       "    </tr>\n",
       "  </thead>\n",
       "  <tbody>\n",
       "    <tr>\n",
       "      <th>0</th>\n",
       "      <td>16.99</td>\n",
       "      <td>1.01</td>\n",
       "      <td>Female</td>\n",
       "      <td>No</td>\n",
       "      <td>Sun</td>\n",
       "      <td>2</td>\n",
       "    </tr>\n",
       "    <tr>\n",
       "      <th>1</th>\n",
       "      <td>10.34</td>\n",
       "      <td>1.66</td>\n",
       "      <td>Male</td>\n",
       "      <td>No</td>\n",
       "      <td>Sun</td>\n",
       "      <td>3</td>\n",
       "    </tr>\n",
       "    <tr>\n",
       "      <th>2</th>\n",
       "      <td>21.01</td>\n",
       "      <td>3.50</td>\n",
       "      <td>Male</td>\n",
       "      <td>No</td>\n",
       "      <td>Sun</td>\n",
       "      <td>3</td>\n",
       "    </tr>\n",
       "    <tr>\n",
       "      <th>3</th>\n",
       "      <td>23.68</td>\n",
       "      <td>3.31</td>\n",
       "      <td>Male</td>\n",
       "      <td>No</td>\n",
       "      <td>Sun</td>\n",
       "      <td>2</td>\n",
       "    </tr>\n",
       "    <tr>\n",
       "      <th>4</th>\n",
       "      <td>24.59</td>\n",
       "      <td>3.61</td>\n",
       "      <td>Female</td>\n",
       "      <td>No</td>\n",
       "      <td>Sun</td>\n",
       "      <td>4</td>\n",
       "    </tr>\n",
       "    <tr>\n",
       "      <th>...</th>\n",
       "      <td>...</td>\n",
       "      <td>...</td>\n",
       "      <td>...</td>\n",
       "      <td>...</td>\n",
       "      <td>...</td>\n",
       "      <td>...</td>\n",
       "    </tr>\n",
       "    <tr>\n",
       "      <th>239</th>\n",
       "      <td>29.03</td>\n",
       "      <td>5.92</td>\n",
       "      <td>Male</td>\n",
       "      <td>No</td>\n",
       "      <td>Sat</td>\n",
       "      <td>3</td>\n",
       "    </tr>\n",
       "    <tr>\n",
       "      <th>240</th>\n",
       "      <td>27.18</td>\n",
       "      <td>2.00</td>\n",
       "      <td>Female</td>\n",
       "      <td>Yes</td>\n",
       "      <td>Sat</td>\n",
       "      <td>2</td>\n",
       "    </tr>\n",
       "    <tr>\n",
       "      <th>241</th>\n",
       "      <td>22.67</td>\n",
       "      <td>2.00</td>\n",
       "      <td>Male</td>\n",
       "      <td>Yes</td>\n",
       "      <td>Sat</td>\n",
       "      <td>2</td>\n",
       "    </tr>\n",
       "    <tr>\n",
       "      <th>242</th>\n",
       "      <td>17.82</td>\n",
       "      <td>1.75</td>\n",
       "      <td>Male</td>\n",
       "      <td>No</td>\n",
       "      <td>Sat</td>\n",
       "      <td>2</td>\n",
       "    </tr>\n",
       "    <tr>\n",
       "      <th>243</th>\n",
       "      <td>18.78</td>\n",
       "      <td>3.00</td>\n",
       "      <td>Female</td>\n",
       "      <td>No</td>\n",
       "      <td>Thur</td>\n",
       "      <td>2</td>\n",
       "    </tr>\n",
       "  </tbody>\n",
       "</table>\n",
       "<p>244 rows × 6 columns</p>\n",
       "</div>"
      ],
      "text/plain": [
       "     total_bill   tip     sex smoker   day  size\n",
       "0         16.99  1.01  Female     No   Sun     2\n",
       "1         10.34  1.66    Male     No   Sun     3\n",
       "2         21.01  3.50    Male     No   Sun     3\n",
       "3         23.68  3.31    Male     No   Sun     2\n",
       "4         24.59  3.61  Female     No   Sun     4\n",
       "..          ...   ...     ...    ...   ...   ...\n",
       "239       29.03  5.92    Male     No   Sat     3\n",
       "240       27.18  2.00  Female    Yes   Sat     2\n",
       "241       22.67  2.00    Male    Yes   Sat     2\n",
       "242       17.82  1.75    Male     No   Sat     2\n",
       "243       18.78  3.00  Female     No  Thur     2\n",
       "\n",
       "[244 rows x 6 columns]"
      ]
     },
     "execution_count": 266,
     "metadata": {},
     "output_type": "execute_result"
    }
   ],
   "source": [
    "tips.drop(columns=[\"time\"])"
   ]
  },
  {
   "cell_type": "code",
   "execution_count": null,
   "metadata": {
    "id": "gBMIxniqD_j6",
    "outputId": "243cd786-a1b7-4462-ff28-7524bcc7c7ed"
   },
   "outputs": [
    {
     "data": {
      "text/plain": [
       "total_bill    19.785943\n",
       "tip            2.998279\n",
       "size           2.569672\n",
       "dtype: float64"
      ]
     },
     "execution_count": 268,
     "metadata": {},
     "output_type": "execute_result"
    }
   ],
   "source": [
    "tips.mean()"
   ]
  },
  {
   "cell_type": "markdown",
   "metadata": {
    "id": "85jM0XPdD_j6"
   },
   "source": [
    "There are many, many different functions that can be applied to the dataset: `.describe()` is probably the most useful. We also have things such as `.max`, `.min`, `.median`, etc. Try them out!"
   ]
  },
  {
   "cell_type": "code",
   "execution_count": null,
   "metadata": {
    "id": "gDkoiJOdD_j6",
    "outputId": "43b0f0df-9d5f-48b4-dba9-aeea3a633c16"
   },
   "outputs": [
    {
     "data": {
      "text/html": [
       "<div>\n",
       "<style scoped>\n",
       "    .dataframe tbody tr th:only-of-type {\n",
       "        vertical-align: middle;\n",
       "    }\n",
       "\n",
       "    .dataframe tbody tr th {\n",
       "        vertical-align: top;\n",
       "    }\n",
       "\n",
       "    .dataframe thead th {\n",
       "        text-align: right;\n",
       "    }\n",
       "</style>\n",
       "<table border=\"1\" class=\"dataframe\">\n",
       "  <thead>\n",
       "    <tr style=\"text-align: right;\">\n",
       "      <th></th>\n",
       "      <th>total_bill</th>\n",
       "      <th>tip</th>\n",
       "      <th>size</th>\n",
       "    </tr>\n",
       "  </thead>\n",
       "  <tbody>\n",
       "    <tr>\n",
       "      <th>count</th>\n",
       "      <td>244.000000</td>\n",
       "      <td>244.000000</td>\n",
       "      <td>244.000000</td>\n",
       "    </tr>\n",
       "    <tr>\n",
       "      <th>mean</th>\n",
       "      <td>19.785943</td>\n",
       "      <td>2.998279</td>\n",
       "      <td>2.569672</td>\n",
       "    </tr>\n",
       "    <tr>\n",
       "      <th>std</th>\n",
       "      <td>8.902412</td>\n",
       "      <td>1.383638</td>\n",
       "      <td>0.951100</td>\n",
       "    </tr>\n",
       "    <tr>\n",
       "      <th>min</th>\n",
       "      <td>3.070000</td>\n",
       "      <td>1.000000</td>\n",
       "      <td>1.000000</td>\n",
       "    </tr>\n",
       "    <tr>\n",
       "      <th>25%</th>\n",
       "      <td>13.347500</td>\n",
       "      <td>2.000000</td>\n",
       "      <td>2.000000</td>\n",
       "    </tr>\n",
       "    <tr>\n",
       "      <th>50%</th>\n",
       "      <td>17.795000</td>\n",
       "      <td>2.900000</td>\n",
       "      <td>2.000000</td>\n",
       "    </tr>\n",
       "    <tr>\n",
       "      <th>75%</th>\n",
       "      <td>24.127500</td>\n",
       "      <td>3.562500</td>\n",
       "      <td>3.000000</td>\n",
       "    </tr>\n",
       "    <tr>\n",
       "      <th>max</th>\n",
       "      <td>50.810000</td>\n",
       "      <td>10.000000</td>\n",
       "      <td>6.000000</td>\n",
       "    </tr>\n",
       "  </tbody>\n",
       "</table>\n",
       "</div>"
      ],
      "text/plain": [
       "       total_bill         tip        size\n",
       "count  244.000000  244.000000  244.000000\n",
       "mean    19.785943    2.998279    2.569672\n",
       "std      8.902412    1.383638    0.951100\n",
       "min      3.070000    1.000000    1.000000\n",
       "25%     13.347500    2.000000    2.000000\n",
       "50%     17.795000    2.900000    2.000000\n",
       "75%     24.127500    3.562500    3.000000\n",
       "max     50.810000   10.000000    6.000000"
      ]
     },
     "execution_count": 269,
     "metadata": {},
     "output_type": "execute_result"
    }
   ],
   "source": [
    "tips.describe()"
   ]
  },
  {
   "cell_type": "markdown",
   "metadata": {
    "id": "CgVPxo1ENS-L"
   },
   "source": [
    "We briefly discuss `.groupby`. This function enables us to simplify the datasets considerably by grouping together observations that present some similarities and then applying some operation to it."
   ]
  },
  {
   "cell_type": "code",
   "execution_count": 74,
   "metadata": {
    "colab": {
     "base_uri": "https://localhost:8080/",
     "height": 142
    },
    "executionInfo": {
     "elapsed": 285,
     "status": "ok",
     "timestamp": 1634725135690,
     "user": {
      "displayName": "Georgina Hall",
      "photoUrl": "https://lh3.googleusercontent.com/a/default-user=s64",
      "userId": "09059160022888590327"
     },
     "user_tz": -120
    },
    "id": "GPhtjTeJNSb6",
    "outputId": "bffaf4c9-43eb-4eb3-bb4d-1fc789d48788"
   },
   "outputs": [
    {
     "data": {
      "text/html": [
       "<div>\n",
       "<style scoped>\n",
       "    .dataframe tbody tr th:only-of-type {\n",
       "        vertical-align: middle;\n",
       "    }\n",
       "\n",
       "    .dataframe tbody tr th {\n",
       "        vertical-align: top;\n",
       "    }\n",
       "\n",
       "    .dataframe thead th {\n",
       "        text-align: right;\n",
       "    }\n",
       "</style>\n",
       "<table border=\"1\" class=\"dataframe\">\n",
       "  <thead>\n",
       "    <tr style=\"text-align: right;\">\n",
       "      <th></th>\n",
       "      <th>total_bill</th>\n",
       "      <th>tip</th>\n",
       "      <th>size</th>\n",
       "    </tr>\n",
       "    <tr>\n",
       "      <th>sex</th>\n",
       "      <th></th>\n",
       "      <th></th>\n",
       "      <th></th>\n",
       "    </tr>\n",
       "  </thead>\n",
       "  <tbody>\n",
       "    <tr>\n",
       "      <th>Male</th>\n",
       "      <td>20.744076</td>\n",
       "      <td>3.089618</td>\n",
       "      <td>2.630573</td>\n",
       "    </tr>\n",
       "    <tr>\n",
       "      <th>Female</th>\n",
       "      <td>18.056897</td>\n",
       "      <td>2.833448</td>\n",
       "      <td>2.459770</td>\n",
       "    </tr>\n",
       "  </tbody>\n",
       "</table>\n",
       "</div>"
      ],
      "text/plain": [
       "        total_bill       tip      size\n",
       "sex                                   \n",
       "Male     20.744076  3.089618  2.630573\n",
       "Female   18.056897  2.833448  2.459770"
      ]
     },
     "execution_count": 74,
     "metadata": {},
     "output_type": "execute_result"
    }
   ],
   "source": [
    "tips.groupby([\"sex\"]).mean()"
   ]
  },
  {
   "cell_type": "markdown",
   "metadata": {
    "id": "O7MGru8lD_j8"
   },
   "source": [
    "For example, we observe here that the total bill is generally higher when a man pays than when a woman does. How do the days of the week impact the total bill?"
   ]
  },
  {
   "cell_type": "code",
   "execution_count": null,
   "metadata": {
    "id": "OzNW-0FvD_j8",
    "outputId": "96f2c17d-e194-4d75-bf19-ef1f8fd16ce6"
   },
   "outputs": [
    {
     "data": {
      "text/html": [
       "<div>\n",
       "<style scoped>\n",
       "    .dataframe tbody tr th:only-of-type {\n",
       "        vertical-align: middle;\n",
       "    }\n",
       "\n",
       "    .dataframe tbody tr th {\n",
       "        vertical-align: top;\n",
       "    }\n",
       "\n",
       "    .dataframe thead th {\n",
       "        text-align: right;\n",
       "    }\n",
       "</style>\n",
       "<table border=\"1\" class=\"dataframe\">\n",
       "  <thead>\n",
       "    <tr style=\"text-align: right;\">\n",
       "      <th></th>\n",
       "      <th>total_bill</th>\n",
       "      <th>tip</th>\n",
       "      <th>size</th>\n",
       "    </tr>\n",
       "    <tr>\n",
       "      <th>day</th>\n",
       "      <th></th>\n",
       "      <th></th>\n",
       "      <th></th>\n",
       "    </tr>\n",
       "  </thead>\n",
       "  <tbody>\n",
       "    <tr>\n",
       "      <th>Thur</th>\n",
       "      <td>17.682742</td>\n",
       "      <td>2.771452</td>\n",
       "      <td>2.451613</td>\n",
       "    </tr>\n",
       "    <tr>\n",
       "      <th>Fri</th>\n",
       "      <td>17.151579</td>\n",
       "      <td>2.734737</td>\n",
       "      <td>2.105263</td>\n",
       "    </tr>\n",
       "    <tr>\n",
       "      <th>Sat</th>\n",
       "      <td>20.441379</td>\n",
       "      <td>2.993103</td>\n",
       "      <td>2.517241</td>\n",
       "    </tr>\n",
       "    <tr>\n",
       "      <th>Sun</th>\n",
       "      <td>21.410000</td>\n",
       "      <td>3.255132</td>\n",
       "      <td>2.842105</td>\n",
       "    </tr>\n",
       "  </tbody>\n",
       "</table>\n",
       "</div>"
      ],
      "text/plain": [
       "      total_bill       tip      size\n",
       "day                                 \n",
       "Thur   17.682742  2.771452  2.451613\n",
       "Fri    17.151579  2.734737  2.105263\n",
       "Sat    20.441379  2.993103  2.517241\n",
       "Sun    21.410000  3.255132  2.842105"
      ]
     },
     "execution_count": 292,
     "metadata": {},
     "output_type": "execute_result"
    }
   ],
   "source": [
    "tips.groupby([\"day\"]).mean()"
   ]
  },
  {
   "cell_type": "markdown",
   "metadata": {
    "id": "eTasNV4vD_j8"
   },
   "source": [
    "Use `.groupby` and `.count` to find the most observed set-up of size of group and sex in the dataset."
   ]
  },
  {
   "cell_type": "code",
   "execution_count": null,
   "metadata": {
    "id": "BP1hbTOND_j8",
    "outputId": "cdd98ee9-28db-47da-d909-fd09c6159f1d"
   },
   "outputs": [
    {
     "data": {
      "text/html": [
       "<div>\n",
       "<style scoped>\n",
       "    .dataframe tbody tr th:only-of-type {\n",
       "        vertical-align: middle;\n",
       "    }\n",
       "\n",
       "    .dataframe tbody tr th {\n",
       "        vertical-align: top;\n",
       "    }\n",
       "\n",
       "    .dataframe thead th {\n",
       "        text-align: right;\n",
       "    }\n",
       "</style>\n",
       "<table border=\"1\" class=\"dataframe\">\n",
       "  <thead>\n",
       "    <tr style=\"text-align: right;\">\n",
       "      <th></th>\n",
       "      <th></th>\n",
       "      <th>total_bill</th>\n",
       "      <th>tip</th>\n",
       "      <th>smoker</th>\n",
       "      <th>day</th>\n",
       "      <th>time</th>\n",
       "    </tr>\n",
       "    <tr>\n",
       "      <th>size</th>\n",
       "      <th>sex</th>\n",
       "      <th></th>\n",
       "      <th></th>\n",
       "      <th></th>\n",
       "      <th></th>\n",
       "      <th></th>\n",
       "    </tr>\n",
       "  </thead>\n",
       "  <tbody>\n",
       "    <tr>\n",
       "      <th rowspan=\"2\" valign=\"top\">1</th>\n",
       "      <th>Male</th>\n",
       "      <td>1</td>\n",
       "      <td>1</td>\n",
       "      <td>1</td>\n",
       "      <td>1</td>\n",
       "      <td>1</td>\n",
       "    </tr>\n",
       "    <tr>\n",
       "      <th>Female</th>\n",
       "      <td>3</td>\n",
       "      <td>3</td>\n",
       "      <td>3</td>\n",
       "      <td>3</td>\n",
       "      <td>3</td>\n",
       "    </tr>\n",
       "    <tr>\n",
       "      <th rowspan=\"2\" valign=\"top\">2</th>\n",
       "      <th>Male</th>\n",
       "      <td>98</td>\n",
       "      <td>98</td>\n",
       "      <td>98</td>\n",
       "      <td>98</td>\n",
       "      <td>98</td>\n",
       "    </tr>\n",
       "    <tr>\n",
       "      <th>Female</th>\n",
       "      <td>58</td>\n",
       "      <td>58</td>\n",
       "      <td>58</td>\n",
       "      <td>58</td>\n",
       "      <td>58</td>\n",
       "    </tr>\n",
       "    <tr>\n",
       "      <th rowspan=\"2\" valign=\"top\">3</th>\n",
       "      <th>Male</th>\n",
       "      <td>24</td>\n",
       "      <td>24</td>\n",
       "      <td>24</td>\n",
       "      <td>24</td>\n",
       "      <td>24</td>\n",
       "    </tr>\n",
       "    <tr>\n",
       "      <th>Female</th>\n",
       "      <td>14</td>\n",
       "      <td>14</td>\n",
       "      <td>14</td>\n",
       "      <td>14</td>\n",
       "      <td>14</td>\n",
       "    </tr>\n",
       "    <tr>\n",
       "      <th rowspan=\"2\" valign=\"top\">4</th>\n",
       "      <th>Male</th>\n",
       "      <td>28</td>\n",
       "      <td>28</td>\n",
       "      <td>28</td>\n",
       "      <td>28</td>\n",
       "      <td>28</td>\n",
       "    </tr>\n",
       "    <tr>\n",
       "      <th>Female</th>\n",
       "      <td>9</td>\n",
       "      <td>9</td>\n",
       "      <td>9</td>\n",
       "      <td>9</td>\n",
       "      <td>9</td>\n",
       "    </tr>\n",
       "    <tr>\n",
       "      <th rowspan=\"2\" valign=\"top\">5</th>\n",
       "      <th>Male</th>\n",
       "      <td>4</td>\n",
       "      <td>4</td>\n",
       "      <td>4</td>\n",
       "      <td>4</td>\n",
       "      <td>4</td>\n",
       "    </tr>\n",
       "    <tr>\n",
       "      <th>Female</th>\n",
       "      <td>1</td>\n",
       "      <td>1</td>\n",
       "      <td>1</td>\n",
       "      <td>1</td>\n",
       "      <td>1</td>\n",
       "    </tr>\n",
       "    <tr>\n",
       "      <th rowspan=\"2\" valign=\"top\">6</th>\n",
       "      <th>Male</th>\n",
       "      <td>2</td>\n",
       "      <td>2</td>\n",
       "      <td>2</td>\n",
       "      <td>2</td>\n",
       "      <td>2</td>\n",
       "    </tr>\n",
       "    <tr>\n",
       "      <th>Female</th>\n",
       "      <td>2</td>\n",
       "      <td>2</td>\n",
       "      <td>2</td>\n",
       "      <td>2</td>\n",
       "      <td>2</td>\n",
       "    </tr>\n",
       "  </tbody>\n",
       "</table>\n",
       "</div>"
      ],
      "text/plain": [
       "             total_bill  tip  smoker  day  time\n",
       "size sex                                       \n",
       "1    Male             1    1       1    1     1\n",
       "     Female           3    3       3    3     3\n",
       "2    Male            98   98      98   98    98\n",
       "     Female          58   58      58   58    58\n",
       "3    Male            24   24      24   24    24\n",
       "     Female          14   14      14   14    14\n",
       "4    Male            28   28      28   28    28\n",
       "     Female           9    9       9    9     9\n",
       "5    Male             4    4       4    4     4\n",
       "     Female           1    1       1    1     1\n",
       "6    Male             2    2       2    2     2\n",
       "     Female           2    2       2    2     2"
      ]
     },
     "execution_count": 317,
     "metadata": {},
     "output_type": "execute_result"
    }
   ],
   "source": [
    "tips.groupby([\"size\",\"sex\"]).count()"
   ]
  },
  {
   "cell_type": "markdown",
   "metadata": {
    "id": "ZSUY_weND_j9"
   },
   "source": [
    "## 3. Dictionaries\n",
    "\n",
    "Dictionaries are a default data storage type proposed by Python. They have the advantage of being very flexible with only the information we have present. They are hard to read however. Consider the following dictionary."
   ]
  },
  {
   "cell_type": "code",
   "execution_count": null,
   "metadata": {
    "id": "pez-txjiD_j9"
   },
   "outputs": [],
   "source": [
    "scientists={\"marie curie\":[\"radioactivity\",2], \"albert einstein\":[\"relativity\",1], \"isaac newton\":[\"gravity\"]}"
   ]
  },
  {
   "cell_type": "code",
   "execution_count": null,
   "metadata": {
    "id": "YdxVPfJKD_j9",
    "outputId": "03522a34-bacb-4e4b-c3ad-1c8e77d31144"
   },
   "outputs": [
    {
     "data": {
      "text/plain": [
       "{'marie curie': ['radioactivity', 2],\n",
       " 'albert einstein': ['relativity', 1],\n",
       " 'isaac newton': ['gravity']}"
      ]
     },
     "execution_count": 3,
     "metadata": {},
     "output_type": "execute_result"
    }
   ],
   "source": [
    "scientists"
   ]
  },
  {
   "cell_type": "markdown",
   "metadata": {
    "id": "F5Si78iqD_j9"
   },
   "source": [
    "The numbers here are the number of Nobel Prizes (only 4 people have ever received 2). Note that as Isaac Newton was born before Nobel prizes existed, he does not have any. This isn't a problem in dictionaries: we can have as much (or as little) information on one of the entries as possible (i.e., there can be a lot of variability between entries). In a dataframe, for example, this would have to be an empty entry, so we would waste room storing a useless entry.\n",
    "\n",
    "We will see that this is very useful for optimization. Try calling the \"marie curie\" entry in the dictionary. How would your proceed? Note that \"marie curie\", \"albert einstein\", \"isaac newton\" are what are called *keys*. We can call them by typing in `scientists.keys()`."
   ]
  },
  {
   "cell_type": "code",
   "execution_count": null,
   "metadata": {
    "id": "dmIXsbk6D_j9",
    "outputId": "2228b59d-7254-41b7-b6a2-f4c91f63a735"
   },
   "outputs": [
    {
     "data": {
      "text/plain": [
       "('radioactivity', 2)"
      ]
     },
     "execution_count": 302,
     "metadata": {},
     "output_type": "execute_result"
    }
   ],
   "source": [
    "scientists[\"marie curie\"]"
   ]
  },
  {
   "cell_type": "code",
   "execution_count": null,
   "metadata": {
    "id": "zZbg-O9PD_j9",
    "outputId": "e5990c73-2da1-4ee8-d3b5-9f7fe1a3cd83"
   },
   "outputs": [
    {
     "data": {
      "text/plain": [
       "dict_keys(['marie curie', 'albert einstein', 'isaac newton'])"
      ]
     },
     "execution_count": 33,
     "metadata": {},
     "output_type": "execute_result"
    }
   ],
   "source": [
    "scientists.keys()"
   ]
  },
  {
   "cell_type": "markdown",
   "metadata": {
    "id": "a0SsGfMND_j9"
   },
   "source": [
    "We can also use dictionaries to construct dataframes. We first construct a dictionary: `dict={'col1':[information], 'col2':[information]}`. We then use `pd.DataFrame(dict)` to obtain the corresponding dataframe.\n",
    "\n",
    "Construct a dictionary with columns \"capital\" and \"continent\" included. Populate these with the information on your favorite countries. Make this into a dataframe with the index being the countries' names."
   ]
  },
  {
   "cell_type": "code",
   "execution_count": null,
   "metadata": {
    "id": "pcgq4EG2D_j9",
    "outputId": "ec769e0a-11c9-461b-ceae-bc5e5994b04e"
   },
   "outputs": [
    {
     "data": {
      "text/html": [
       "<div>\n",
       "<style scoped>\n",
       "    .dataframe tbody tr th:only-of-type {\n",
       "        vertical-align: middle;\n",
       "    }\n",
       "\n",
       "    .dataframe tbody tr th {\n",
       "        vertical-align: top;\n",
       "    }\n",
       "\n",
       "    .dataframe thead th {\n",
       "        text-align: right;\n",
       "    }\n",
       "</style>\n",
       "<table border=\"1\" class=\"dataframe\">\n",
       "  <thead>\n",
       "    <tr style=\"text-align: right;\">\n",
       "      <th></th>\n",
       "      <th>capital</th>\n",
       "      <th>continent</th>\n",
       "    </tr>\n",
       "  </thead>\n",
       "  <tbody>\n",
       "    <tr>\n",
       "      <th>France</th>\n",
       "      <td>Paris</td>\n",
       "      <td>Europe</td>\n",
       "    </tr>\n",
       "    <tr>\n",
       "      <th>Colombia</th>\n",
       "      <td>Ottawa</td>\n",
       "      <td>North America</td>\n",
       "    </tr>\n",
       "    <tr>\n",
       "      <th>Canada</th>\n",
       "      <td>Accra</td>\n",
       "      <td>Africa</td>\n",
       "    </tr>\n",
       "    <tr>\n",
       "      <th>Ghana</th>\n",
       "      <td>Bogota</td>\n",
       "      <td>South America</td>\n",
       "    </tr>\n",
       "    <tr>\n",
       "      <th>Mongolia</th>\n",
       "      <td>Ulaanbaatar</td>\n",
       "      <td>Asia</td>\n",
       "    </tr>\n",
       "  </tbody>\n",
       "</table>\n",
       "</div>"
      ],
      "text/plain": [
       "              capital      continent\n",
       "France          Paris         Europe\n",
       "Colombia       Ottawa  North America\n",
       "Canada          Accra         Africa\n",
       "Ghana          Bogota  South America\n",
       "Mongolia  Ulaanbaatar           Asia"
      ]
     },
     "execution_count": 305,
     "metadata": {},
     "output_type": "execute_result"
    }
   ],
   "source": [
    "countries={'capital':[\"Paris\", \"Ottawa\",\"Accra\", \"Bogota\",\"Ulaanbaatar\"], 'continent':[\"Europe\",\"North America\", \"Africa\",\"South America\",\"Asia\"]}\n",
    "countries_pd=pd.DataFrame(countries, index={\"France\",\"Canada\",\"Ghana\",\"Colombia\",\"Mongolia\"})\n",
    "countries_pd"
   ]
  },
  {
   "cell_type": "markdown",
   "metadata": {
    "id": "KbYY4QWKD_j-"
   },
   "source": [
    "# 5. Exercises *(Homework)*"
   ]
  },
  {
   "cell_type": "markdown",
   "metadata": {
    "id": "ElA8tW4bD_j-"
   },
   "source": [
    "## Exercise 1: \n",
    "\n",
    "Consider this list `L= [1, 4, 9, 16, 25, 36, 49, 64, 81, 100]`. Write a routine using for loops and if conditions that takes this list and makes a new list that only has even elements of this list in it."
   ]
  },
  {
   "cell_type": "code",
   "execution_count": 75,
   "metadata": {
    "colab": {
     "base_uri": "https://localhost:8080/"
    },
    "executionInfo": {
     "elapsed": 304,
     "status": "ok",
     "timestamp": 1634725323029,
     "user": {
      "displayName": "Georgina Hall",
      "photoUrl": "https://lh3.googleusercontent.com/a/default-user=s64",
      "userId": "09059160022888590327"
     },
     "user_tz": -120
    },
    "id": "SqVLDEaoD_j-",
    "outputId": "67b2d5cf-3dc1-4874-d398-8a772c64868f"
   },
   "outputs": [
    {
     "data": {
      "text/plain": [
       "[4, 16, 36, 64, 100]"
      ]
     },
     "execution_count": 75,
     "metadata": {},
     "output_type": "execute_result"
    }
   ],
   "source": [
    "L=[1,4,9,16,25,36,49,64,81,100]\n",
    "M=[]\n",
    "for i in L:\n",
    "  if i%2==0:\n",
    "    M.append(i)\n",
    "\n",
    "M"
   ]
  },
  {
   "cell_type": "markdown",
   "metadata": {
    "id": "wcSN0g8iD_j-"
   },
   "source": [
    "## Exercise 2\n",
    "\n",
    "Write a routine that takes this array `arr = np.array([0, 1, 2, 3, 4, 5, 6, 7, 8, 9])` as input and modifies it so that all odd numbers have been replaced with -1. This can be done in a line using subsetting."
   ]
  },
  {
   "cell_type": "code",
   "execution_count": null,
   "metadata": {
    "id": "Pw1LhpCDD_j_",
    "outputId": "0d994f84-4370-42f8-f6ff-69ab43db263d"
   },
   "outputs": [
    {
     "data": {
      "text/plain": [
       "array([ 0, -1,  2, -1,  4, -1,  6, -1,  8, -1])"
      ]
     },
     "execution_count": 37,
     "metadata": {},
     "output_type": "execute_result"
    }
   ],
   "source": [
    "arr = np.array([0, 1, 2, 3, 4, 5, 6, 7, 8, 9])\n",
    "arr[arr%2==1]=-1\n",
    "arr"
   ]
  },
  {
   "cell_type": "markdown",
   "metadata": {
    "id": "gHFW1S0TD_kA"
   },
   "source": [
    "## Exercise 3\n",
    "\n",
    "1. Using the `tips` dataframe from above, find the largest total tip left.\n",
    "2. Isolate the row/observation which this corresponds to. Which day was this? At what time?\n",
    "3. For each day of the week, find the average total bill left."
   ]
  },
  {
   "cell_type": "code",
   "execution_count": 76,
   "metadata": {
    "executionInfo": {
     "elapsed": 316,
     "status": "ok",
     "timestamp": 1634729548273,
     "user": {
      "displayName": "Georgina Hall",
      "photoUrl": "https://lh3.googleusercontent.com/a/default-user=s64",
      "userId": "09059160022888590327"
     },
     "user_tz": -120
    },
    "id": "8qN3u29sD_kA"
   },
   "outputs": [],
   "source": [
    "import seaborn as sns\n",
    "tips=sns.load_dataset(\"tips\")"
   ]
  },
  {
   "cell_type": "code",
   "execution_count": 77,
   "metadata": {
    "colab": {
     "base_uri": "https://localhost:8080/"
    },
    "executionInfo": {
     "elapsed": 268,
     "status": "ok",
     "timestamp": 1634729549851,
     "user": {
      "displayName": "Georgina Hall",
      "photoUrl": "https://lh3.googleusercontent.com/a/default-user=s64",
      "userId": "09059160022888590327"
     },
     "user_tz": -120
    },
    "id": "rDepPw_aD_kA",
    "outputId": "cc555caa-36bb-4de8-dc07-a0697d3da59d"
   },
   "outputs": [
    {
     "data": {
      "text/plain": [
       "total_bill    50.81\n",
       "dtype: float64"
      ]
     },
     "execution_count": 77,
     "metadata": {},
     "output_type": "execute_result"
    }
   ],
   "source": [
    "tips[[\"total_bill\"]].max()"
   ]
  },
  {
   "cell_type": "code",
   "execution_count": 80,
   "metadata": {
    "colab": {
     "base_uri": "https://localhost:8080/",
     "height": 80
    },
    "executionInfo": {
     "elapsed": 254,
     "status": "ok",
     "timestamp": 1634729594438,
     "user": {
      "displayName": "Georgina Hall",
      "photoUrl": "https://lh3.googleusercontent.com/a/default-user=s64",
      "userId": "09059160022888590327"
     },
     "user_tz": -120
    },
    "id": "9baOT3TBD_kA",
    "outputId": "b7878b52-a4d5-4913-ab3f-b28eb72c734b"
   },
   "outputs": [
    {
     "data": {
      "text/html": [
       "<div>\n",
       "<style scoped>\n",
       "    .dataframe tbody tr th:only-of-type {\n",
       "        vertical-align: middle;\n",
       "    }\n",
       "\n",
       "    .dataframe tbody tr th {\n",
       "        vertical-align: top;\n",
       "    }\n",
       "\n",
       "    .dataframe thead th {\n",
       "        text-align: right;\n",
       "    }\n",
       "</style>\n",
       "<table border=\"1\" class=\"dataframe\">\n",
       "  <thead>\n",
       "    <tr style=\"text-align: right;\">\n",
       "      <th></th>\n",
       "      <th>total_bill</th>\n",
       "      <th>tip</th>\n",
       "      <th>sex</th>\n",
       "      <th>smoker</th>\n",
       "      <th>day</th>\n",
       "      <th>time</th>\n",
       "      <th>size</th>\n",
       "    </tr>\n",
       "  </thead>\n",
       "  <tbody>\n",
       "    <tr>\n",
       "      <th>170</th>\n",
       "      <td>50.81</td>\n",
       "      <td>10.0</td>\n",
       "      <td>Male</td>\n",
       "      <td>Yes</td>\n",
       "      <td>Sat</td>\n",
       "      <td>Dinner</td>\n",
       "      <td>3</td>\n",
       "    </tr>\n",
       "  </tbody>\n",
       "</table>\n",
       "</div>"
      ],
      "text/plain": [
       "     total_bill   tip   sex smoker  day    time  size\n",
       "170       50.81  10.0  Male    Yes  Sat  Dinner     3"
      ]
     },
     "execution_count": 80,
     "metadata": {},
     "output_type": "execute_result"
    }
   ],
   "source": [
    "tips[tips[\"total_bill\"]==50.81]"
   ]
  },
  {
   "cell_type": "code",
   "execution_count": null,
   "metadata": {
    "id": "WBYi3aLrD_kA",
    "outputId": "2ad8dbf2-d41b-4dc2-e154-28cb45690180"
   },
   "outputs": [
    {
     "data": {
      "text/html": [
       "<div>\n",
       "<style scoped>\n",
       "    .dataframe tbody tr th:only-of-type {\n",
       "        vertical-align: middle;\n",
       "    }\n",
       "\n",
       "    .dataframe tbody tr th {\n",
       "        vertical-align: top;\n",
       "    }\n",
       "\n",
       "    .dataframe thead th {\n",
       "        text-align: right;\n",
       "    }\n",
       "</style>\n",
       "<table border=\"1\" class=\"dataframe\">\n",
       "  <thead>\n",
       "    <tr style=\"text-align: right;\">\n",
       "      <th></th>\n",
       "      <th>total_bill</th>\n",
       "    </tr>\n",
       "    <tr>\n",
       "      <th>day</th>\n",
       "      <th></th>\n",
       "    </tr>\n",
       "  </thead>\n",
       "  <tbody>\n",
       "    <tr>\n",
       "      <th>Thur</th>\n",
       "      <td>17.682742</td>\n",
       "    </tr>\n",
       "    <tr>\n",
       "      <th>Fri</th>\n",
       "      <td>17.151579</td>\n",
       "    </tr>\n",
       "    <tr>\n",
       "      <th>Sat</th>\n",
       "      <td>20.441379</td>\n",
       "    </tr>\n",
       "    <tr>\n",
       "      <th>Sun</th>\n",
       "      <td>21.410000</td>\n",
       "    </tr>\n",
       "  </tbody>\n",
       "</table>\n",
       "</div>"
      ],
      "text/plain": [
       "      total_bill\n",
       "day             \n",
       "Thur   17.682742\n",
       "Fri    17.151579\n",
       "Sat    20.441379\n",
       "Sun    21.410000"
      ]
     },
     "execution_count": 80,
     "metadata": {},
     "output_type": "execute_result"
    }
   ],
   "source": [
    "tips.groupby(\"day\").mean()[[\"total_bill\"]]"
   ]
  }
 ],
 "metadata": {
  "colab": {
   "collapsed_sections": [
    "uFXv2MLSD_js",
    "2oFW4CtBD_jt",
    "g6zJRPAfD_jw",
    "wZ8Q0ttyD_j1",
    "ZSUY_weND_j9",
    "ElA8tW4bD_j-",
    "daLHejv9D_j-",
    "wcSN0g8iD_j-",
    "Q2-VEt03D_j_",
    "gHFW1S0TD_kA"
   ],
   "name": "ML&O Lecture 1.ipynb",
   "provenance": []
  },
  "kernelspec": {
   "display_name": "Python 3 (ipykernel)",
   "language": "python",
   "name": "python3"
  },
  "language_info": {
   "codemirror_mode": {
    "name": "ipython",
    "version": 3
   },
   "file_extension": ".py",
   "mimetype": "text/x-python",
   "name": "python",
   "nbconvert_exporter": "python",
   "pygments_lexer": "ipython3",
   "version": "3.9.7"
  }
 },
 "nbformat": 4,
 "nbformat_minor": 1
}
