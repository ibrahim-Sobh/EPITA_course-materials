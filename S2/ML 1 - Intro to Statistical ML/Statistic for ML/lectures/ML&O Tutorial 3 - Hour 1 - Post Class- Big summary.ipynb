{
 "cells": [
  {
   "cell_type": "code",
   "execution_count": 260,
   "metadata": {},
   "outputs": [],
   "source": [
    "#Import packages\n",
    "import numpy as np\n",
    "import pandas as pd\n",
    "import matplotlib.pyplot as plt #easy plotting: subpackage of seaborn\n",
    "\n",
    "import sklearn.datasets as data\n",
    "from sklearn.model_selection import train_test_split\n",
    "from sklearn.metrics import mean_squared_error, accuracy_score, roc_curve, roc_auc_score, confusion_matrix\n",
    "\n",
    "from sklearn.linear_model import LinearRegression\n",
    "from sklearn.linear_model import LogisticRegression"
   ]
  },
  {
   "cell_type": "code",
   "execution_count": 261,
   "metadata": {},
   "outputs": [
    {
     "data": {
      "text/html": [
       "<div>\n",
       "<style scoped>\n",
       "    .dataframe tbody tr th:only-of-type {\n",
       "        vertical-align: middle;\n",
       "    }\n",
       "\n",
       "    .dataframe tbody tr th {\n",
       "        vertical-align: top;\n",
       "    }\n",
       "\n",
       "    .dataframe thead th {\n",
       "        text-align: right;\n",
       "    }\n",
       "</style>\n",
       "<table border=\"1\" class=\"dataframe\">\n",
       "  <thead>\n",
       "    <tr style=\"text-align: right;\">\n",
       "      <th></th>\n",
       "      <th>ID</th>\n",
       "      <th>Carat Weight</th>\n",
       "      <th>Cut</th>\n",
       "      <th>Color</th>\n",
       "      <th>Clarity</th>\n",
       "      <th>Polish</th>\n",
       "      <th>Symmetry</th>\n",
       "      <th>Report</th>\n",
       "      <th>Price</th>\n",
       "      <th>Price_High</th>\n",
       "    </tr>\n",
       "  </thead>\n",
       "  <tbody>\n",
       "    <tr>\n",
       "      <th>0</th>\n",
       "      <td>1</td>\n",
       "      <td>1.10</td>\n",
       "      <td>Ideal</td>\n",
       "      <td>H</td>\n",
       "      <td>SI1</td>\n",
       "      <td>NaN</td>\n",
       "      <td>EX</td>\n",
       "      <td>GIA</td>\n",
       "      <td>5169</td>\n",
       "      <td>0</td>\n",
       "    </tr>\n",
       "    <tr>\n",
       "      <th>1</th>\n",
       "      <td>2</td>\n",
       "      <td>0.83</td>\n",
       "      <td>Ideal</td>\n",
       "      <td>H</td>\n",
       "      <td>VS1</td>\n",
       "      <td>ID</td>\n",
       "      <td>ID</td>\n",
       "      <td>AGSL</td>\n",
       "      <td>3470</td>\n",
       "      <td>0</td>\n",
       "    </tr>\n",
       "    <tr>\n",
       "      <th>2</th>\n",
       "      <td>3</td>\n",
       "      <td>0.85</td>\n",
       "      <td>Ideal</td>\n",
       "      <td>H</td>\n",
       "      <td>SI1</td>\n",
       "      <td>EX</td>\n",
       "      <td>EX</td>\n",
       "      <td>GIA</td>\n",
       "      <td>3183</td>\n",
       "      <td>0</td>\n",
       "    </tr>\n",
       "    <tr>\n",
       "      <th>3</th>\n",
       "      <td>4</td>\n",
       "      <td>0.91</td>\n",
       "      <td>Ideal</td>\n",
       "      <td>E</td>\n",
       "      <td>SI1</td>\n",
       "      <td>VG</td>\n",
       "      <td>VG</td>\n",
       "      <td>GIA</td>\n",
       "      <td>4370</td>\n",
       "      <td>0</td>\n",
       "    </tr>\n",
       "    <tr>\n",
       "      <th>4</th>\n",
       "      <td>5</td>\n",
       "      <td>0.83</td>\n",
       "      <td>Ideal</td>\n",
       "      <td>G</td>\n",
       "      <td>SI1</td>\n",
       "      <td>EX</td>\n",
       "      <td>EX</td>\n",
       "      <td>GIA</td>\n",
       "      <td>3171</td>\n",
       "      <td>0</td>\n",
       "    </tr>\n",
       "  </tbody>\n",
       "</table>\n",
       "</div>"
      ],
      "text/plain": [
       "   ID  Carat Weight    Cut Color Clarity Polish Symmetry Report  Price  \\\n",
       "0   1          1.10  Ideal     H     SI1    NaN       EX    GIA   5169   \n",
       "1   2          0.83  Ideal     H     VS1     ID       ID   AGSL   3470   \n",
       "2   3          0.85  Ideal     H     SI1     EX       EX    GIA   3183   \n",
       "3   4          0.91  Ideal     E     SI1     VG       VG    GIA   4370   \n",
       "4   5          0.83  Ideal     G     SI1     EX       EX    GIA   3171   \n",
       "\n",
       "   Price_High  \n",
       "0           0  \n",
       "1           0  \n",
       "2           0  \n",
       "3           0  \n",
       "4           0  "
      ]
     },
     "execution_count": 261,
     "metadata": {},
     "output_type": "execute_result"
    }
   ],
   "source": [
    "#Import Data\n",
    "Sarah_raw_data = pd.read_csv(\"Sarah_diamond_dataset_tutorials.csv\")\n",
    "Sarah_raw_data.head()"
   ]
  },
  {
   "cell_type": "markdown",
   "metadata": {},
   "source": [
    "## Viewing the dataset\n",
    "\n",
    "1. View overall dataset stats\n",
    "2. Check values in each categorical column (+ if there are any nulls)\n",
    "3. Plot to check values in numerical columns\n",
    "4. Check for any duplicate rows (drop them)"
   ]
  },
  {
   "cell_type": "code",
   "execution_count": 262,
   "metadata": {
    "scrolled": true
   },
   "outputs": [
    {
     "name": "stdout",
     "output_type": "stream",
     "text": [
      "<class 'pandas.core.frame.DataFrame'>\n",
      "RangeIndex: 6002 entries, 0 to 6001\n",
      "Data columns (total 10 columns):\n",
      " #   Column        Non-Null Count  Dtype  \n",
      "---  ------        --------------  -----  \n",
      " 0   ID            6002 non-null   int64  \n",
      " 1   Carat Weight  5829 non-null   float64\n",
      " 2   Cut           6002 non-null   object \n",
      " 3   Color         6002 non-null   object \n",
      " 4   Clarity       6002 non-null   object \n",
      " 5   Polish        2954 non-null   object \n",
      " 6   Symmetry      6002 non-null   object \n",
      " 7   Report        6002 non-null   object \n",
      " 8   Price         6002 non-null   int64  \n",
      " 9   Price_High    6002 non-null   int64  \n",
      "dtypes: float64(1), int64(3), object(6)\n",
      "memory usage: 469.0+ KB\n",
      "None\n"
     ]
    },
    {
     "data": {
      "text/html": [
       "<div>\n",
       "<style scoped>\n",
       "    .dataframe tbody tr th:only-of-type {\n",
       "        vertical-align: middle;\n",
       "    }\n",
       "\n",
       "    .dataframe tbody tr th {\n",
       "        vertical-align: top;\n",
       "    }\n",
       "\n",
       "    .dataframe thead th {\n",
       "        text-align: right;\n",
       "    }\n",
       "</style>\n",
       "<table border=\"1\" class=\"dataframe\">\n",
       "  <thead>\n",
       "    <tr style=\"text-align: right;\">\n",
       "      <th></th>\n",
       "      <th>ID</th>\n",
       "      <th>Carat Weight</th>\n",
       "      <th>Price</th>\n",
       "      <th>Price_High</th>\n",
       "    </tr>\n",
       "  </thead>\n",
       "  <tbody>\n",
       "    <tr>\n",
       "      <th>count</th>\n",
       "      <td>6002.000000</td>\n",
       "      <td>5829.000000</td>\n",
       "      <td>6002.000000</td>\n",
       "      <td>6002.000000</td>\n",
       "    </tr>\n",
       "    <tr>\n",
       "      <th>mean</th>\n",
       "      <td>2999.506331</td>\n",
       "      <td>1.334982</td>\n",
       "      <td>11791.554648</td>\n",
       "      <td>0.316894</td>\n",
       "    </tr>\n",
       "    <tr>\n",
       "      <th>std</th>\n",
       "      <td>1732.761564</td>\n",
       "      <td>0.476824</td>\n",
       "      <td>10183.710299</td>\n",
       "      <td>0.465305</td>\n",
       "    </tr>\n",
       "    <tr>\n",
       "      <th>min</th>\n",
       "      <td>1.000000</td>\n",
       "      <td>0.750000</td>\n",
       "      <td>2184.000000</td>\n",
       "      <td>0.000000</td>\n",
       "    </tr>\n",
       "    <tr>\n",
       "      <th>25%</th>\n",
       "      <td>1499.250000</td>\n",
       "      <td>1.000000</td>\n",
       "      <td>5149.500000</td>\n",
       "      <td>0.000000</td>\n",
       "    </tr>\n",
       "    <tr>\n",
       "      <th>50%</th>\n",
       "      <td>2999.500000</td>\n",
       "      <td>1.130000</td>\n",
       "      <td>7857.000000</td>\n",
       "      <td>0.000000</td>\n",
       "    </tr>\n",
       "    <tr>\n",
       "      <th>75%</th>\n",
       "      <td>4499.750000</td>\n",
       "      <td>1.590000</td>\n",
       "      <td>15047.500000</td>\n",
       "      <td>1.000000</td>\n",
       "    </tr>\n",
       "    <tr>\n",
       "      <th>max</th>\n",
       "      <td>6000.000000</td>\n",
       "      <td>2.910000</td>\n",
       "      <td>101561.000000</td>\n",
       "      <td>1.000000</td>\n",
       "    </tr>\n",
       "  </tbody>\n",
       "</table>\n",
       "</div>"
      ],
      "text/plain": [
       "                ID  Carat Weight          Price   Price_High\n",
       "count  6002.000000   5829.000000    6002.000000  6002.000000\n",
       "mean   2999.506331      1.334982   11791.554648     0.316894\n",
       "std    1732.761564      0.476824   10183.710299     0.465305\n",
       "min       1.000000      0.750000    2184.000000     0.000000\n",
       "25%    1499.250000      1.000000    5149.500000     0.000000\n",
       "50%    2999.500000      1.130000    7857.000000     0.000000\n",
       "75%    4499.750000      1.590000   15047.500000     1.000000\n",
       "max    6000.000000      2.910000  101561.000000     1.000000"
      ]
     },
     "execution_count": 262,
     "metadata": {},
     "output_type": "execute_result"
    }
   ],
   "source": [
    "#View overall stats\n",
    "print(Sarah_raw_data.info())\n",
    "Sarah_raw_data.describe()"
   ]
  },
  {
   "cell_type": "code",
   "execution_count": 263,
   "metadata": {},
   "outputs": [
    {
     "name": "stdout",
     "output_type": "stream",
     "text": [
      "['Ideal' 'Very Good' 'Fair' 'Good' 'Signature-Ideal']\n",
      "['H' 'E' 'G' 'D' 'F' 'I']\n",
      "['SI1' 'VS1' 'VS2' 'VVS2' 'VVS1' 'IF' 'FL']\n",
      "[nan 'ID' 'EX' 'VG' 'G']\n",
      "['EX' 'ID' 'VG' 'G']\n",
      "['GIA' 'AGSL']\n"
     ]
    }
   ],
   "source": [
    "#Check values in each categorical column\n",
    "print(Sarah_raw_data['Cut'].unique())\n",
    "print(Sarah_raw_data['Color'].unique())\n",
    "print(Sarah_raw_data['Clarity'].unique())\n",
    "print(Sarah_raw_data['Polish'].unique())\n",
    "print(Sarah_raw_data['Symmetry'].unique())\n",
    "print(Sarah_raw_data['Report'].unique())"
   ]
  },
  {
   "cell_type": "code",
   "execution_count": 264,
   "metadata": {},
   "outputs": [
    {
     "name": "stderr",
     "output_type": "stream",
     "text": [
      "C:\\Users\\gulat\\anaconda3\\lib\\site-packages\\numpy\\lib\\histograms.py:839: RuntimeWarning: invalid value encountered in greater_equal\n",
      "  keep = (tmp_a >= first_edge)\n",
      "C:\\Users\\gulat\\anaconda3\\lib\\site-packages\\numpy\\lib\\histograms.py:840: RuntimeWarning: invalid value encountered in less_equal\n",
      "  keep &= (tmp_a <= last_edge)\n"
     ]
    },
    {
     "data": {
      "text/plain": [
       "(array([1200., 1905.,  684.,  622.,  150.,  610.,  437.,  128.,   76.,\n",
       "          17.]),\n",
       " array([0.75 , 0.966, 1.182, 1.398, 1.614, 1.83 , 2.046, 2.262, 2.478,\n",
       "        2.694, 2.91 ]),\n",
       " <a list of 10 Patch objects>)"
      ]
     },
     "execution_count": 264,
     "metadata": {},
     "output_type": "execute_result"
    },
    {
     "data": {
      "image/png": "[encoded data removed]",
      "text/plain": [
       "<Figure size 432x288 with 1 Axes>"
      ]
     },
     "metadata": {
      "needs_background": "light"
     },
     "output_type": "display_data"
    }
   ],
   "source": [
    "#Plot to check values in numerical columns (run these individually in different cells)\n",
    "plt.hist(Sarah_raw_data['Carat Weight'])"
   ]
  },
  {
   "cell_type": "code",
   "execution_count": 265,
   "metadata": {},
   "outputs": [
    {
     "data": {
      "text/plain": [
       "{'whiskers': [<matplotlib.lines.Line2D at 0x16e61198fc8>,\n",
       "  <matplotlib.lines.Line2D at 0x16e61198b48>],\n",
       " 'caps': [<matplotlib.lines.Line2D at 0x16e6119cc88>,\n",
       "  <matplotlib.lines.Line2D at 0x16e6119cd88>],\n",
       " 'boxes': [<matplotlib.lines.Line2D at 0x16e61198948>],\n",
       " 'medians': [<matplotlib.lines.Line2D at 0x16e6119ce08>],\n",
       " 'fliers': [<matplotlib.lines.Line2D at 0x16e611a2cc8>],\n",
       " 'means': []}"
      ]
     },
     "execution_count": 265,
     "metadata": {},
     "output_type": "execute_result"
    },
    {
     "data": {
      "image/png": "[encoded data removed]",
      "text/plain": [
       "<Figure size 432x288 with 1 Axes>"
      ]
     },
     "metadata": {
      "needs_background": "light"
     },
     "output_type": "display_data"
    }
   ],
   "source": [
    "plt.boxplot(Sarah_raw_data[~Sarah_raw_data['Carat Weight'].isna()]['Carat Weight'],vert=False) #Some modifications to address null values"
   ]
  },
  {
   "cell_type": "code",
   "execution_count": 266,
   "metadata": {},
   "outputs": [
    {
     "data": {
      "text/plain": [
       "{'whiskers': [<matplotlib.lines.Line2D at 0x16e5f885b08>,\n",
       "  <matplotlib.lines.Line2D at 0x16e5f885688>],\n",
       " 'caps': [<matplotlib.lines.Line2D at 0x16e5f8847c8>,\n",
       "  <matplotlib.lines.Line2D at 0x16e5f884e88>],\n",
       " 'boxes': [<matplotlib.lines.Line2D at 0x16e5f8e3808>],\n",
       " 'medians': [<matplotlib.lines.Line2D at 0x16e5f87ef48>],\n",
       " 'fliers': [<matplotlib.lines.Line2D at 0x16e5f8da848>],\n",
       " 'means': []}"
      ]
     },
     "execution_count": 266,
     "metadata": {},
     "output_type": "execute_result"
    },
    {
     "data": {
      "image/png": "[encoded data removed]",
      "text/plain": [
       "<Figure size 432x288 with 1 Axes>"
      ]
     },
     "metadata": {
      "needs_background": "light"
     },
     "output_type": "display_data"
    }
   ],
   "source": [
    "plt.boxplot(Sarah_raw_data['Price'],vert=False)"
   ]
  },
  {
   "cell_type": "code",
   "execution_count": 267,
   "metadata": {},
   "outputs": [
    {
     "data": {
      "text/plain": [
       "<matplotlib.collections.PathCollection at 0x16e6122da48>"
      ]
     },
     "execution_count": 267,
     "metadata": {},
     "output_type": "execute_result"
    },
    {
     "data": {
      "image/png": "[encoded data removed]",
      "text/plain": [
       "<Figure size 432x288 with 1 Axes>"
      ]
     },
     "metadata": {
      "needs_background": "light"
     },
     "output_type": "display_data"
    }
   ],
   "source": [
    "plt.scatter(Sarah_raw_data['Carat Weight'],Sarah_raw_data['Price'])"
   ]
  },
  {
   "cell_type": "code",
   "execution_count": 268,
   "metadata": {},
   "outputs": [
    {
     "data": {
      "text/plain": [
       "(6000, 10)"
      ]
     },
     "execution_count": 268,
     "metadata": {},
     "output_type": "execute_result"
    }
   ],
   "source": [
    "#Check for any duplicate rows and drop them\n",
    "Sarah_raw_data[Sarah_raw_data.duplicated()]\n",
    "Sarah_raw_data = Sarah_raw_data.drop_duplicates() #Drop duplicate rows\n",
    "Sarah_raw_data.shape"
   ]
  },
  {
   "cell_type": "markdown",
   "metadata": {},
   "source": [
    "# Supervised Learning - Linear Regression"
   ]
  },
  {
   "cell_type": "markdown",
   "metadata": {},
   "source": [
    "## Step 1: Create labels and features, create training and test datasets"
   ]
  },
  {
   "cell_type": "code",
   "execution_count": 269,
   "metadata": {},
   "outputs": [],
   "source": [
    "#Create labels and features\n",
    "y=Sarah_raw_data[\"Price\"]\n",
    "X=Sarah_raw_data.drop(columns=[\"Price\", \"Price_High\"])"
   ]
  },
  {
   "cell_type": "code",
   "execution_count": 270,
   "metadata": {},
   "outputs": [],
   "source": [
    "#Create a 75:25 train test split\n",
    "X_train, X_test, y_train, y_test= train_test_split(X, y, test_size=1/4)"
   ]
  },
  {
   "cell_type": "markdown",
   "metadata": {},
   "source": [
    "## Step 2: Data Pre-processing\n",
    "\n",
    "1. Drop irrelevant columns\n",
    "2. Handle null values - either drop or impute\n",
    "3. Scale/normalize data in relevant columns\n",
    "4. Handle categorical data - create dummies\n",
    "5. Complete these steps separately in the training and testing dataset"
   ]
  },
  {
   "cell_type": "code",
   "execution_count": 271,
   "metadata": {},
   "outputs": [],
   "source": [
    "#Perform pre-processing on training dataset\n",
    "\n",
    "#Drop column ID as it appears to be inconsequential to Price\n",
    "X_train = X_train.drop(columns=['ID'])\n",
    "\n",
    "#Check null values\n",
    "X_train.isna().sum()\n",
    "\n",
    "#Drop column Polish\n",
    "X_train = X_train.drop(columns=['Polish'])\n",
    "\n",
    "#Impute values for Carat Weight based on mean\n",
    "from sklearn.impute import SimpleImputer\n",
    "imp=SimpleImputer(missing_values=np.nan, strategy=\"mean\")\n",
    "X_train[['Carat Weight']]=imp.fit_transform(X_train[['Carat Weight']])\n",
    "\n",
    "X_train.isna().sum()\n",
    "\n",
    "#Normalize data in the Carat Weight column (in the range 0 to 1)\n",
    "from sklearn import preprocessing\n",
    "min_max_scaler=preprocessing.MinMaxScaler()\n",
    "X_train[['Carat Weight']] = min_max_scaler.fit_transform(X_train[['Carat Weight']])\n",
    "\n",
    "#Convert column \"Cut\" to take ordinal values in order - 'Fair', 'Good', 'Very Good', 'Ideal', 'Signature-Ideal'\n",
    "for i in X_train.index:\n",
    "    if X_train.loc[i,\"Cut\"]==\"Fair\":\n",
    "        X_train.loc[i,\"Cut_num\"]=0\n",
    "    elif X_train.loc[i,\"Cut\"]==\"Good\":\n",
    "         X_train.loc[i,\"Cut_num\"]=1\n",
    "    elif X_train.loc[i,\"Cut\"]==\"Very Good\":\n",
    "         X_train.loc[i,\"Cut_num\"]=2\n",
    "    elif X_train.loc[i,\"Cut\"]==\"Ideal\":\n",
    "         X_train.loc[i,\"Cut_num\"]=3    \n",
    "    else:\n",
    "        X_train.loc[i,\"Cut_num\"]=4\n",
    "X_train = X_train.drop(columns=['Cut'])\n",
    "\n",
    "#Convert column \"Clarity\" - 'SI1' (Slightly Included) 'VS1' 'VS2' 'VVS2' 'VVS1' (Very Slightly Included) 'IF' 'FL'(Flawless)\n",
    "for i in X_train.index:\n",
    "    if X_train.loc[i,\"Clarity\"]==\"SI1\":\n",
    "        X_train.loc[i,\"Clarity_upd\"]=\"Slightly_Incl\"\n",
    "    elif X_train.loc[i,\"Clarity\"]==\"IF\" or X_train.loc[i,\"Clarity\"]==\"FL\":\n",
    "         X_train.loc[i,\"Clarity_upd\"]=\"Flawless\"\n",
    "    else:\n",
    "        X_train.loc[i,\"Clarity_upd\"]=\"Very_Slightly_Incl\"\n",
    "X_train = X_train.drop(columns=['Clarity'])\n",
    "\n",
    "#Get dummies for categorical data\n",
    "X_train=pd.get_dummies(X_train,columns=['Color', 'Clarity_upd', 'Symmetry','Report'], drop_first=True)\n",
    "\n",
    "###Other possible required transformations\n",
    "##Taking log\n",
    "#from numpy import log\n",
    "#X_train[\"Carat Weight\"]=X_train[\"Carat Weight\"].apply(log)\n",
    "##Taking square\n",
    "#X_train[\"Carat Weight\"]=X_train[\"Carat Weight\"]**2\n",
    "\n",
    "###Polynomial features - Multiplies each feature with the other\n",
    "#from sklearn.preprocessing import PolynomialFeatures\n",
    "#degree=2\n",
    "#poly = PolynomialFeatures(degree)\n",
    "#X_train_poly=poly.fit_transform(X_train)"
   ]
  },
  {
   "cell_type": "code",
   "execution_count": 272,
   "metadata": {},
   "outputs": [],
   "source": [
    "#Repeat the same steps for the test dataset\n",
    "X_test = X_test.drop(columns=['ID'])\n",
    "X_test = X_test.drop(columns=['Polish'])\n",
    "X_test[['Carat Weight']]=imp.fit_transform(X_test[['Carat Weight']])\n",
    "X_test[['Carat Weight']] = min_max_scaler.fit_transform(X_test[['Carat Weight']])\n",
    "for i in X_test.index:\n",
    "    if X_test.loc[i,\"Cut\"]==\"Fair\":\n",
    "        X_test.loc[i,\"Cut_num\"]=0\n",
    "    elif X_test.loc[i,\"Cut\"]==\"Good\":\n",
    "         X_test.loc[i,\"Cut_num\"]=1\n",
    "    elif X_test.loc[i,\"Cut\"]==\"Very Good\":\n",
    "         X_test.loc[i,\"Cut_num\"]=2\n",
    "    elif X_test.loc[i,\"Cut\"]==\"Ideal\":\n",
    "         X_test.loc[i,\"Cut_num\"]=3    \n",
    "    else:\n",
    "        X_test.loc[i,\"Cut_num\"]=4\n",
    "X_test = X_test.drop(columns=['Cut'])\n",
    "\n",
    "for i in X_test.index:\n",
    "    if X_test.loc[i,\"Clarity\"]==\"SI1\":\n",
    "        X_test.loc[i,\"Clarity_upd\"]=\"Slightly_Incl\"\n",
    "    elif X_test.loc[i,\"Clarity\"]==\"IF\" or X_test.loc[i,\"Clarity\"]==\"FL\":\n",
    "         X_test.loc[i,\"Clarity_upd\"]=\"Flawless\"\n",
    "    else:\n",
    "        X_test.loc[i,\"Clarity_upd\"]=\"Very_Slightly_Incl\"\n",
    "X_test = X_test.drop(columns=['Clarity'])\n",
    "\n",
    "X_test=pd.get_dummies(X_test,columns=['Color', 'Clarity_upd', 'Symmetry','Report'], drop_first=True)"
   ]
  },
  {
   "cell_type": "markdown",
   "metadata": {},
   "source": [
    "## Step 3 - Train the model on the training set"
   ]
  },
  {
   "cell_type": "code",
   "execution_count": 273,
   "metadata": {},
   "outputs": [
    {
     "data": {
      "text/plain": [
       "13020.891326912391"
      ]
     },
     "execution_count": 273,
     "metadata": {},
     "output_type": "execute_result"
    }
   ],
   "source": [
    "#Fit the model\n",
    "lm = LinearRegression().fit(X_train, y_train)\n",
    "\n",
    "#Check value of coefficients\n",
    "lm.coef_\n",
    "\n",
    "#Check value of the intercept\n",
    "lm.intercept_"
   ]
  },
  {
   "cell_type": "markdown",
   "metadata": {},
   "source": [
    "## Step 4 - Validate the hyperparameters, set a threshold, retrain on training + validation"
   ]
  },
  {
   "cell_type": "code",
   "execution_count": 274,
   "metadata": {},
   "outputs": [],
   "source": [
    "#To be covered in the next tutorial, not required for simple Linear Regression"
   ]
  },
  {
   "cell_type": "markdown",
   "metadata": {},
   "source": [
    "## Step 5 - Test on the testing dataset"
   ]
  },
  {
   "cell_type": "code",
   "execution_count": 275,
   "metadata": {},
   "outputs": [],
   "source": [
    "#Calculate predicted values\n",
    "y_pred = lm.predict(X_test)"
   ]
  },
  {
   "cell_type": "code",
   "execution_count": 276,
   "metadata": {},
   "outputs": [
    {
     "name": "stdout",
     "output_type": "stream",
     "text": [
      "0.810338448464331\n",
      "4423.223753729366\n"
     ]
    }
   ],
   "source": [
    "#Calculate r-square, root mean squraed error\n",
    "print(lm.score(X_test,y_test))\n",
    "print(mean_squared_error(y_test,y_pred)**(1/2))"
   ]
  },
  {
   "cell_type": "markdown",
   "metadata": {},
   "source": [
    "# Supervised Learning - Logistic Regression\n",
    "\n",
    "Note: Classify diamonds into high price or low price"
   ]
  },
  {
   "cell_type": "markdown",
   "metadata": {},
   "source": [
    "## Step 1: Create labels and features, create training and test datasets"
   ]
  },
  {
   "cell_type": "code",
   "execution_count": 277,
   "metadata": {},
   "outputs": [],
   "source": [
    "#Create labels and features\n",
    "y=Sarah_raw_data[\"Price_High\"]\n",
    "X=Sarah_raw_data.drop(columns=[\"Price\", \"Price_High\"])"
   ]
  },
  {
   "cell_type": "code",
   "execution_count": 278,
   "metadata": {},
   "outputs": [],
   "source": [
    "#Create a 50:25:25 train test validation split\n",
    "X_train, X_other, y_train, y_other= train_test_split(X, y, test_size=1/2)\n",
    "X_val, X_test, y_val, y_test= train_test_split(X_other, y_other, test_size=1/2)"
   ]
  },
  {
   "cell_type": "markdown",
   "metadata": {},
   "source": [
    "## Step 2: Data Pre-processing\n",
    "\n",
    "Repeat steps from above"
   ]
  },
  {
   "cell_type": "code",
   "execution_count": 279,
   "metadata": {},
   "outputs": [],
   "source": [
    "#Perform pre-processing on training dataset\n",
    "\n",
    "#Drop column ID as it appears to be inconsequential to Price\n",
    "X_train = X_train.drop(columns=['ID'])\n",
    "\n",
    "#Check null values\n",
    "X_train.isna().sum()\n",
    "\n",
    "#Drop column Polish\n",
    "X_train = X_train.drop(columns=['Polish'])\n",
    "\n",
    "#Impute values for Carat Weight based on mean\n",
    "from sklearn.impute import SimpleImputer\n",
    "imp=SimpleImputer(missing_values=np.nan, strategy=\"mean\")\n",
    "X_train[['Carat Weight']]=imp.fit_transform(X_train[['Carat Weight']])\n",
    "\n",
    "X_train.isna().sum()\n",
    "\n",
    "#Normalize data in the Carat Weight column (in the range 0 to 1)\n",
    "from sklearn import preprocessing\n",
    "min_max_scaler=preprocessing.MinMaxScaler()\n",
    "X_train[['Carat Weight']] = min_max_scaler.fit_transform(X_train[['Carat Weight']])\n",
    "\n",
    "#Convert column \"Cut\" to take ordinal values in order - 'Fair', 'Good', 'Very Good', 'Ideal', 'Signature-Ideal'\n",
    "for i in X_train.index:\n",
    "    if X_train.loc[i,\"Cut\"]==\"Fair\":\n",
    "        X_train.loc[i,\"Cut_num\"]=0\n",
    "    elif X_train.loc[i,\"Cut\"]==\"Good\":\n",
    "         X_train.loc[i,\"Cut_num\"]=1\n",
    "    elif X_train.loc[i,\"Cut\"]==\"Very Good\":\n",
    "         X_train.loc[i,\"Cut_num\"]=2\n",
    "    elif X_train.loc[i,\"Cut\"]==\"Ideal\":\n",
    "         X_train.loc[i,\"Cut_num\"]=3    \n",
    "    else:\n",
    "        X_train.loc[i,\"Cut_num\"]=4\n",
    "X_train = X_train.drop(columns=['Cut'])\n",
    "\n",
    "#Convert column \"Clarity\" - 'SI1' (Slightly Included) 'VS1' 'VS2' 'VVS2' 'VVS1' (Very Slightly Included) 'IF' 'FL'(Flawless)\n",
    "for i in X_train.index:\n",
    "    if X_train.loc[i,\"Clarity\"]==\"SI1\":\n",
    "        X_train.loc[i,\"Clarity_upd\"]=\"Slightly_Incl\"\n",
    "    elif X_train.loc[i,\"Clarity\"]==\"IF\" or X_train.loc[i,\"Clarity\"]==\"FL\":\n",
    "         X_train.loc[i,\"Clarity_upd\"]=\"Flawless\"\n",
    "    else:\n",
    "        X_train.loc[i,\"Clarity_upd\"]=\"Very_Slightly_Incl\"\n",
    "X_train = X_train.drop(columns=['Clarity'])\n",
    "\n",
    "#Get dummies for categorical data\n",
    "X_train=pd.get_dummies(X_train,columns=['Color', 'Clarity_upd', 'Symmetry','Report'], drop_first=True)\n",
    "\n",
    "###Other possible required transformations\n",
    "##Taking log\n",
    "#from numpy import log\n",
    "#X_train[\"Carat Weight\"]=X_train[\"Carat Weight\"].apply(log)\n",
    "##Taking square\n",
    "#X_train[\"Carat Weight\"]=X_train[\"Carat Weight\"]**2\n",
    "\n",
    "###Polynomial features - Multiplies each feature with the other\n",
    "#from sklearn.preprocessing import PolynomialFeatures\n",
    "#degree=2\n",
    "#poly = PolynomialFeatures(degree)\n",
    "#X_train_poly=poly.fit_transform(X_train)"
   ]
  },
  {
   "cell_type": "code",
   "execution_count": 280,
   "metadata": {},
   "outputs": [],
   "source": [
    "#Repeat the same steps for the test dataset\n",
    "X_val = X_val.drop(columns=['ID'])\n",
    "X_val = X_val.drop(columns=['Polish'])\n",
    "X_val[['Carat Weight']]=imp.fit_transform(X_val[['Carat Weight']])\n",
    "X_val[['Carat Weight']] = min_max_scaler.fit_transform(X_val[['Carat Weight']])\n",
    "for i in X_val.index:\n",
    "    if X_val.loc[i,\"Cut\"]==\"Fair\":\n",
    "        X_val.loc[i,\"Cut_num\"]=0\n",
    "    elif X_val.loc[i,\"Cut\"]==\"Good\":\n",
    "         X_val.loc[i,\"Cut_num\"]=1\n",
    "    elif X_val.loc[i,\"Cut\"]==\"Very Good\":\n",
    "         X_val.loc[i,\"Cut_num\"]=2\n",
    "    elif X_val.loc[i,\"Cut\"]==\"Ideal\":\n",
    "         X_val.loc[i,\"Cut_num\"]=3    \n",
    "    else:\n",
    "        X_val.loc[i,\"Cut_num\"]=4\n",
    "X_val = X_val.drop(columns=['Cut'])\n",
    "\n",
    "for i in X_val.index:\n",
    "    if X_val.loc[i,\"Clarity\"]==\"SI1\":\n",
    "        X_val.loc[i,\"Clarity_upd\"]=\"Slightly_Incl\"\n",
    "    elif X_val.loc[i,\"Clarity\"]==\"IF\" or X_val.loc[i,\"Clarity\"]==\"FL\":\n",
    "         X_val.loc[i,\"Clarity_upd\"]=\"Flawless\"\n",
    "    else:\n",
    "        X_val.loc[i,\"Clarity_upd\"]=\"Very_Slightly_Incl\"\n",
    "X_val = X_val.drop(columns=['Clarity'])\n",
    "\n",
    "X_val=pd.get_dummies(X_val,columns=['Color', 'Clarity_upd', 'Symmetry','Report'], drop_first=True)"
   ]
  },
  {
   "cell_type": "code",
   "execution_count": 281,
   "metadata": {},
   "outputs": [],
   "source": [
    "#Repeat the same steps for the test dataset\n",
    "X_test = X_test.drop(columns=['ID'])\n",
    "X_test = X_test.drop(columns=['Polish'])\n",
    "X_test[['Carat Weight']]=imp.fit_transform(X_test[['Carat Weight']])\n",
    "X_test[['Carat Weight']] = min_max_scaler.fit_transform(X_test[['Carat Weight']])\n",
    "for i in X_test.index:\n",
    "    if X_test.loc[i,\"Cut\"]==\"Fair\":\n",
    "        X_test.loc[i,\"Cut_num\"]=0\n",
    "    elif X_test.loc[i,\"Cut\"]==\"Good\":\n",
    "         X_test.loc[i,\"Cut_num\"]=1\n",
    "    elif X_test.loc[i,\"Cut\"]==\"Very Good\":\n",
    "         X_test.loc[i,\"Cut_num\"]=2\n",
    "    elif X_test.loc[i,\"Cut\"]==\"Ideal\":\n",
    "         X_test.loc[i,\"Cut_num\"]=3    \n",
    "    else:\n",
    "        X_test.loc[i,\"Cut_num\"]=4\n",
    "X_test = X_test.drop(columns=['Cut'])\n",
    "\n",
    "for i in X_test.index:\n",
    "    if X_test.loc[i,\"Clarity\"]==\"SI1\":\n",
    "        X_test.loc[i,\"Clarity_upd\"]=\"Slightly_Incl\"\n",
    "    elif X_test.loc[i,\"Clarity\"]==\"IF\" or X_test.loc[i,\"Clarity\"]==\"FL\":\n",
    "         X_test.loc[i,\"Clarity_upd\"]=\"Flawless\"\n",
    "    else:\n",
    "        X_test.loc[i,\"Clarity_upd\"]=\"Very_Slightly_Incl\"\n",
    "X_test = X_test.drop(columns=['Clarity'])\n",
    "\n",
    "X_test=pd.get_dummies(X_test,columns=['Color', 'Clarity_upd', 'Symmetry','Report'], drop_first=True)"
   ]
  },
  {
   "cell_type": "markdown",
   "metadata": {},
   "source": [
    "## Step 3 - Train the model on the training set"
   ]
  },
  {
   "cell_type": "code",
   "execution_count": 282,
   "metadata": {},
   "outputs": [
    {
     "data": {
      "text/plain": [
       "array([-4.09718966])"
      ]
     },
     "execution_count": 282,
     "metadata": {},
     "output_type": "execute_result"
    }
   ],
   "source": [
    "#Fit the model\n",
    "logm = LogisticRegression().fit(X_train, y_train)\n",
    "\n",
    "#Check value of coefficients\n",
    "logm.coef_\n",
    "\n",
    "#Check value of the intercept\n",
    "logm.intercept_"
   ]
  },
  {
   "cell_type": "markdown",
   "metadata": {},
   "source": [
    "## Step 4 - Validate the hyperparameters, set a threshold, retrain on training + validation"
   ]
  },
  {
   "cell_type": "code",
   "execution_count": 283,
   "metadata": {},
   "outputs": [
    {
     "data": {
      "text/plain": [
       "[<matplotlib.lines.Line2D at 0x16e612abd48>]"
      ]
     },
     "execution_count": 283,
     "metadata": {},
     "output_type": "execute_result"
    },
    {
     "data": {
      "image/png": "[encoded data removed]",
      "text/plain": [
       "<Figure size 432x288 with 1 Axes>"
      ]
     },
     "metadata": {
      "needs_background": "light"
     },
     "output_type": "display_data"
    }
   ],
   "source": [
    "#Develop the roc curve\n",
    "y_pred_proba = logm.predict_proba(X_val)[:,1:2]\n",
    "roccurve= roc_curve(y_val,y_pred_proba)\n",
    "plt.plot(roccurve[0], roccurve[1], linewidth=4)"
   ]
  },
  {
   "cell_type": "code",
   "execution_count": 286,
   "metadata": {},
   "outputs": [
    {
     "name": "stdout",
     "output_type": "stream",
     "text": [
      "[0.21063474]\n"
     ]
    },
    {
     "data": {
      "text/plain": [
       "0.21063474409478722"
      ]
     },
     "execution_count": 286,
     "metadata": {},
     "output_type": "execute_result"
    }
   ],
   "source": [
    "#Pick a threshold value\n",
    "\n",
    "#Maximize true positives vs false negative (y axis should be high) - Default, Think Covid tests\n",
    "print(roccurve[2][((roccurve[0]<=0.075) & (roccurve[0]>=0.0)) & (roccurve[1]>=0.95)]) #Will need to iterate this a few times\n",
    "threshold = roccurve[2][((roccurve[0]<=0.075) & (roccurve[0]>=0.0)) & (roccurve[1]>=0.95)][0]\n",
    "threshold\n",
    "\n",
    "#Minimize false positives vs true negative (x axis should be min)\n",
    "#print(roccurve[2][((roccurve[1]>=0.95) & (roccurve[1]<=1.0)) & (roccurve[0]<=0.05)])\n",
    "#threshold = roccurve[2][((roccurve[1]>=0.9) & (roccurve[1]<=1.0)) & (roccurve[0]<=0.06)][0]\n",
    "#threshold"
   ]
  },
  {
   "cell_type": "code",
   "execution_count": 287,
   "metadata": {},
   "outputs": [
    {
     "data": {
      "text/plain": [
       "array([[17.30361131,  0.36698641, -0.43358345, -0.64142729, -1.5010776 ,\n",
       "        -2.05250237, -3.25447478, -2.74952941, -1.41899739, -0.39976725,\n",
       "         0.18935393, -0.20048388,  0.15322242]])"
      ]
     },
     "execution_count": 287,
     "metadata": {},
     "output_type": "execute_result"
    }
   ],
   "source": [
    "#Merge training and validation, and retrain the model\n",
    "X_train_val=pd.concat([X_train, X_val])\n",
    "y_train_val=pd.concat([y_train, y_val])\n",
    "\n",
    "logm = LogisticRegression().fit(X_train_val, y_train_val)\n",
    "\n",
    "#Check value of coefficients\n",
    "logm.coef_"
   ]
  },
  {
   "cell_type": "markdown",
   "metadata": {},
   "source": [
    "## Step 5 - Test on the testing dataset"
   ]
  },
  {
   "cell_type": "code",
   "execution_count": 288,
   "metadata": {},
   "outputs": [],
   "source": [
    "#Calculate predicted probabilities - calculate probability that y = 1 based on value in X_test\n",
    "y_pred_proba = logm.predict_proba(X_test)[:,1:2]\n",
    "y_pred = np.where(y_pred_proba > threshold, 1, 0)"
   ]
  },
  {
   "cell_type": "code",
   "execution_count": 289,
   "metadata": {},
   "outputs": [
    {
     "name": "stdout",
     "output_type": "stream",
     "text": [
      "0.96\n",
      "[[923 110]\n",
      " [  8 459]]\n",
      "0.9213333333333333\n",
      "0.9914761479319502\n"
     ]
    }
   ],
   "source": [
    "#Calculate score\n",
    "print(logm.score(X_test,y_test))\n",
    "\n",
    "#Compute the confusion matrix\n",
    "print(confusion_matrix(y_test,y_pred))\n",
    "\n",
    "#Compute the accuracy score\n",
    "print(accuracy_score(y_test,y_pred))\n",
    "\n",
    "#Compute AUC score\n",
    "print(roc_auc_score(y_test, y_pred_proba))"
   ]
  },
  {
   "cell_type": "markdown",
   "metadata": {},
   "source": [
    "# Supervised Learning - Decision Tree Classifier\n",
    "\n",
    "Note: Classify diamonds into high price or low price"
   ]
  },
  {
   "cell_type": "markdown",
   "metadata": {},
   "source": [
    "## Step 1: Create labels and features, create training and test datasets"
   ]
  },
  {
   "cell_type": "code",
   "execution_count": 327,
   "metadata": {},
   "outputs": [],
   "source": [
    "#Create labels and features\n",
    "y=Sarah_raw_data[\"Price_High\"]\n",
    "X=Sarah_raw_data.drop(columns=[\"Price\", \"Price_High\"])"
   ]
  },
  {
   "cell_type": "code",
   "execution_count": 328,
   "metadata": {},
   "outputs": [],
   "source": [
    "#Create a 50:25:25 train test validation split\n",
    "X_train, X_other, y_train, y_other= train_test_split(X, y, test_size=1/2)\n",
    "X_val, X_test, y_val, y_test= train_test_split(X_other, y_other, test_size=1/2)"
   ]
  },
  {
   "cell_type": "code",
   "execution_count": 329,
   "metadata": {},
   "outputs": [
    {
     "name": "stdout",
     "output_type": "stream",
     "text": [
      "(3000, 8)\n",
      "(1500, 8)\n",
      "(1500, 8)\n"
     ]
    }
   ],
   "source": [
    "print(X_train.shape)\n",
    "print(X_val.shape)\n",
    "print(X_test.shape)"
   ]
  },
  {
   "cell_type": "markdown",
   "metadata": {},
   "source": [
    "## Step 2: Data Pre-processing\n",
    "\n",
    "Repeat steps from above"
   ]
  },
  {
   "cell_type": "code",
   "execution_count": 330,
   "metadata": {},
   "outputs": [],
   "source": [
    "#Perform pre-processing on training dataset\n",
    "\n",
    "#Drop column ID as it appears to be inconsequential to Price\n",
    "X_train = X_train.drop(columns=['ID'])\n",
    "\n",
    "#Check null values\n",
    "X_train.isna().sum()\n",
    "\n",
    "#Drop column Polish\n",
    "X_train = X_train.drop(columns=['Polish'])\n",
    "\n",
    "#Impute values for Carat Weight based on mean\n",
    "from sklearn.impute import SimpleImputer\n",
    "imp=SimpleImputer(missing_values=np.nan, strategy=\"mean\")\n",
    "X_train[['Carat Weight']]=imp.fit_transform(X_train[['Carat Weight']])\n",
    "\n",
    "X_train.isna().sum()\n",
    "\n",
    "#Normalize data in the Carat Weight column (in the range 0 to 1)\n",
    "from sklearn import preprocessing\n",
    "min_max_scaler=preprocessing.MinMaxScaler()\n",
    "X_train[['Carat Weight']] = min_max_scaler.fit_transform(X_train[['Carat Weight']])\n",
    "\n",
    "#Convert column \"Cut\" to take ordinal values in order - 'Fair', 'Good', 'Very Good', 'Ideal', 'Signature-Ideal'\n",
    "for i in X_train.index:\n",
    "    if X_train.loc[i,\"Cut\"]==\"Fair\":\n",
    "        X_train.loc[i,\"Cut_num\"]=0\n",
    "    elif X_train.loc[i,\"Cut\"]==\"Good\":\n",
    "         X_train.loc[i,\"Cut_num\"]=1\n",
    "    elif X_train.loc[i,\"Cut\"]==\"Very Good\":\n",
    "         X_train.loc[i,\"Cut_num\"]=2\n",
    "    elif X_train.loc[i,\"Cut\"]==\"Ideal\":\n",
    "         X_train.loc[i,\"Cut_num\"]=3    \n",
    "    else:\n",
    "        X_train.loc[i,\"Cut_num\"]=4\n",
    "X_train = X_train.drop(columns=['Cut'])\n",
    "\n",
    "#Convert column \"Clarity\" - 'SI1' (Slightly Included) 'VS1' 'VS2' 'VVS2' 'VVS1' (Very Slightly Included) 'IF' 'FL'(Flawless)\n",
    "for i in X_train.index:\n",
    "    if X_train.loc[i,\"Clarity\"]==\"SI1\":\n",
    "        X_train.loc[i,\"Clarity_upd\"]=\"Slightly_Incl\"\n",
    "    elif X_train.loc[i,\"Clarity\"]==\"IF\" or X_train.loc[i,\"Clarity\"]==\"FL\":\n",
    "         X_train.loc[i,\"Clarity_upd\"]=\"Flawless\"\n",
    "    else:\n",
    "        X_train.loc[i,\"Clarity_upd\"]=\"Very_Slightly_Incl\"\n",
    "X_train = X_train.drop(columns=['Clarity'])\n",
    "\n",
    "#Get dummies for categorical data\n",
    "X_train=pd.get_dummies(X_train,columns=['Color', 'Clarity_upd', 'Symmetry','Report'], drop_first=True)\n",
    "\n",
    "###Other possible required transformations\n",
    "##Taking log\n",
    "#from numpy import log\n",
    "#X_train[\"Carat Weight\"]=X_train[\"Carat Weight\"].apply(log)\n",
    "##Taking square\n",
    "#X_train[\"Carat Weight\"]=X_train[\"Carat Weight\"]**2\n",
    "\n",
    "###Polynomial features - Multiplies each feature with the other\n",
    "#from sklearn.preprocessing import PolynomialFeatures\n",
    "#degree=2\n",
    "#poly = PolynomialFeatures(degree)\n",
    "#X_train_poly=poly.fit_transform(X_train)"
   ]
  },
  {
   "cell_type": "code",
   "execution_count": 331,
   "metadata": {},
   "outputs": [],
   "source": [
    "#Repeat the same steps for the test dataset\n",
    "X_val = X_val.drop(columns=['ID'])\n",
    "X_val = X_val.drop(columns=['Polish'])\n",
    "X_val[['Carat Weight']]=imp.fit_transform(X_val[['Carat Weight']])\n",
    "X_val[['Carat Weight']] = min_max_scaler.fit_transform(X_val[['Carat Weight']])\n",
    "for i in X_val.index:\n",
    "    if X_val.loc[i,\"Cut\"]==\"Fair\":\n",
    "        X_val.loc[i,\"Cut_num\"]=0\n",
    "    elif X_val.loc[i,\"Cut\"]==\"Good\":\n",
    "         X_val.loc[i,\"Cut_num\"]=1\n",
    "    elif X_val.loc[i,\"Cut\"]==\"Very Good\":\n",
    "         X_val.loc[i,\"Cut_num\"]=2\n",
    "    elif X_val.loc[i,\"Cut\"]==\"Ideal\":\n",
    "         X_val.loc[i,\"Cut_num\"]=3    \n",
    "    else:\n",
    "        X_val.loc[i,\"Cut_num\"]=4\n",
    "X_val = X_val.drop(columns=['Cut'])\n",
    "\n",
    "for i in X_val.index:\n",
    "    if X_val.loc[i,\"Clarity\"]==\"SI1\":\n",
    "        X_val.loc[i,\"Clarity_upd\"]=\"Slightly_Incl\"\n",
    "    elif X_val.loc[i,\"Clarity\"]==\"IF\" or X_val.loc[i,\"Clarity\"]==\"FL\":\n",
    "         X_val.loc[i,\"Clarity_upd\"]=\"Flawless\"\n",
    "    else:\n",
    "        X_val.loc[i,\"Clarity_upd\"]=\"Very_Slightly_Incl\"\n",
    "X_val = X_val.drop(columns=['Clarity'])\n",
    "\n",
    "X_val=pd.get_dummies(X_val,columns=['Color', 'Clarity_upd', 'Symmetry','Report'], drop_first=True)"
   ]
  },
  {
   "cell_type": "code",
   "execution_count": 332,
   "metadata": {},
   "outputs": [],
   "source": [
    "#Repeat the same steps for the test dataset\n",
    "X_test = X_test.drop(columns=['ID'])\n",
    "X_test = X_test.drop(columns=['Polish'])\n",
    "X_test[['Carat Weight']]=imp.fit_transform(X_test[['Carat Weight']])\n",
    "X_test[['Carat Weight']] = min_max_scaler.fit_transform(X_test[['Carat Weight']])\n",
    "for i in X_test.index:\n",
    "    if X_test.loc[i,\"Cut\"]==\"Fair\":\n",
    "        X_test.loc[i,\"Cut_num\"]=0\n",
    "    elif X_test.loc[i,\"Cut\"]==\"Good\":\n",
    "         X_test.loc[i,\"Cut_num\"]=1\n",
    "    elif X_test.loc[i,\"Cut\"]==\"Very Good\":\n",
    "         X_test.loc[i,\"Cut_num\"]=2\n",
    "    elif X_test.loc[i,\"Cut\"]==\"Ideal\":\n",
    "         X_test.loc[i,\"Cut_num\"]=3    \n",
    "    else:\n",
    "        X_test.loc[i,\"Cut_num\"]=4\n",
    "X_test = X_test.drop(columns=['Cut'])\n",
    "\n",
    "for i in X_test.index:\n",
    "    if X_test.loc[i,\"Clarity\"]==\"SI1\":\n",
    "        X_test.loc[i,\"Clarity_upd\"]=\"Slightly_Incl\"\n",
    "    elif X_test.loc[i,\"Clarity\"]==\"IF\" or X_test.loc[i,\"Clarity\"]==\"FL\":\n",
    "         X_test.loc[i,\"Clarity_upd\"]=\"Flawless\"\n",
    "    else:\n",
    "        X_test.loc[i,\"Clarity_upd\"]=\"Very_Slightly_Incl\"\n",
    "X_test = X_test.drop(columns=['Clarity'])\n",
    "\n",
    "X_test=pd.get_dummies(X_test,columns=['Color', 'Clarity_upd', 'Symmetry','Report'], drop_first=True)"
   ]
  },
  {
   "cell_type": "code",
   "execution_count": 333,
   "metadata": {},
   "outputs": [
    {
     "name": "stdout",
     "output_type": "stream",
     "text": [
      "(3000, 13)\n",
      "(1500, 13)\n",
      "(1500, 13)\n"
     ]
    }
   ],
   "source": [
    "print(X_train.shape)\n",
    "print(X_val.shape)\n",
    "print(X_test.shape)"
   ]
  },
  {
   "cell_type": "markdown",
   "metadata": {},
   "source": [
    "## Step 3 - Train the model on the training set"
   ]
  },
  {
   "cell_type": "code",
   "execution_count": 334,
   "metadata": {},
   "outputs": [
    {
     "data": {
      "text/plain": [
       "array([0.94874066, 0.        , 0.        , 0.        , 0.        ,\n",
       "       0.        , 0.03535107, 0.01590827, 0.        , 0.        ,\n",
       "       0.        , 0.        , 0.        ])"
      ]
     },
     "execution_count": 334,
     "metadata": {},
     "output_type": "execute_result"
    }
   ],
   "source": [
    "#Fit the model\n",
    "from sklearn.tree import DecisionTreeClassifier\n",
    "classifier_DT = DecisionTreeClassifier(max_leaf_nodes = 6)\n",
    "\n",
    "#from sklearn.ensemble import RandomForestClassifier, GradientBoostingClassifier\n",
    "#classifier_DT = RandomForestClassifier(max_leaf_nodes = 6)\n",
    "#classifier_DT = GradientBoostingClassifier(max_leaf_nodes = 6)\n",
    "\n",
    "classifier_DT.fit(X_train, y_train)\n",
    "\n",
    "\n",
    "#Check feature importance\n",
    "classifier_DT.feature_importances_"
   ]
  },
  {
   "cell_type": "markdown",
   "metadata": {},
   "source": [
    "## Step 3a - Visualize the tree"
   ]
  },
  {
   "cell_type": "code",
   "execution_count": 335,
   "metadata": {},
   "outputs": [
    {
     "data": {
      "text/plain": [
       "[Text(279.0, 391.392, 'Carat Weight <= 0.354\\ngini = 0.43\\nsamples = 3000\\nvalue = [2062, 938]\\nclass = Price_Low'),\n",
       " Text(139.5, 304.416, 'Carat Weight <= 0.266\\ngini = 0.13\\nsamples = 2127\\nvalue = [1978, 149]\\nclass = Price_Low'),\n",
       " Text(69.75, 217.44, 'gini = 0.049\\nsamples = 1853\\nvalue = [1806, 47]\\nclass = Price_Low'),\n",
       " Text(209.25, 217.44, 'gini = 0.467\\nsamples = 274\\nvalue = [172, 102]\\nclass = Price_Low'),\n",
       " Text(418.5, 304.416, 'Carat Weight <= 0.447\\ngini = 0.174\\nsamples = 873\\nvalue = [84, 789]\\nclass = Price_High'),\n",
       " Text(348.75, 217.44, 'Color_I <= 0.5\\ngini = 0.475\\nsamples = 214\\nvalue = [83, 131]\\nclass = Price_High'),\n",
       " Text(279.0, 130.464, 'Clarity_upd_Slightly_Incl <= 0.5\\ngini = 0.338\\nsamples = 158\\nvalue = [34, 124]\\nclass = Price_High'),\n",
       " Text(209.25, 43.488, 'gini = 0.107\\nsamples = 106\\nvalue = [6, 100]\\nclass = Price_High'),\n",
       " Text(348.75, 43.488, 'gini = 0.497\\nsamples = 52\\nvalue = [28, 24]\\nclass = Price_Low'),\n",
       " Text(418.5, 130.464, 'gini = 0.219\\nsamples = 56\\nvalue = [49, 7]\\nclass = Price_Low'),\n",
       " Text(488.25, 217.44, 'gini = 0.003\\nsamples = 659\\nvalue = [1, 658]\\nclass = Price_High')]"
      ]
     },
     "execution_count": 335,
     "metadata": {},
     "output_type": "execute_result"
    },
    {
     "data": {
      "image/png": "[encoded data removed]",
      "text/plain": [
       "<Figure size 720x576 with 1 Axes>"
      ]
     },
     "metadata": {
      "needs_background": "light"
     },
     "output_type": "display_data"
    }
   ],
   "source": [
    "#Only works precisely with Decision Tree Classifier and Decision Tree Regressor\n",
    "from matplotlib.pyplot import figure\n",
    "from sklearn import tree\n",
    "figure(figsize=(10,8)) #makes plot large\n",
    "tree.plot_tree(classifier_DT,  class_names=(\"Price_Low\",\"Price_High\"), feature_names=X_train.columns, filled=True)"
   ]
  },
  {
   "cell_type": "markdown",
   "metadata": {},
   "source": [
    "## Step 4 - Validate the hyperparameters, set a threshold, retrain on training + validation"
   ]
  },
  {
   "cell_type": "code",
   "execution_count": 336,
   "metadata": {},
   "outputs": [],
   "source": [
    "#Tune hyperparameters - Set value for max_leaf_nodes\n",
    "n_max_leaf_nodes = range(2,60) # Lets train the models with 2, 3, 4, ... 60 leafs\n",
    "array_train = []\n",
    "array_val= []\n",
    "\n",
    "for n in n_max_leaf_nodes:\n",
    "    classifier_DT = DecisionTreeClassifier(max_leaf_nodes = n).fit(X_train, y_train) #modify here if you change model\n",
    "    #classifier_DT = RandomForestClassifier(max_leaf_nodes = n).fit(X_train, y_train) #modify here if you change model\n",
    "    #classifier_DT = GradientBoostingClassifier(max_leaf_nodes = n).fit(X_train, y_train) #modify here if you change model\n",
    "\n",
    "    y_pred_train = classifier_DT.predict_proba(X_train)[:,1]\n",
    "    y_pred_val = classifier_DT.predict_proba(X_val)[:,1]\n",
    "    \n",
    "    #NOTE: AUC score is used to test model quality\n",
    "    score_train=roc_auc_score(y_train,y_pred_train)\n",
    "    score_val=roc_auc_score(y_val,y_pred_val)\n",
    "    array_train.append(score_train)\n",
    "    array_val.append(score_val)"
   ]
  },
  {
   "cell_type": "code",
   "execution_count": 337,
   "metadata": {},
   "outputs": [
    {
     "data": {
      "text/plain": [
       "Text(0, 0.5, 'AUC')"
      ]
     },
     "execution_count": 337,
     "metadata": {},
     "output_type": "execute_result"
    },
    {
     "data": {
      "image/png": "[encoded data removed]",
      "text/plain": [
       "<Figure size 432x288 with 1 Axes>"
      ]
     },
     "metadata": {
      "needs_background": "light"
     },
     "output_type": "display_data"
    }
   ],
   "source": [
    "#Develop a plot to pick the hyperparameter value\n",
    "plt.scatter(n_max_leaf_nodes,array_train)\n",
    "plt.scatter(n_max_leaf_nodes,array_val)\n",
    "plt.legend(['Training set','Validation set'])\n",
    "plt. xlabel(\"number of leaves\",fontsize=15)\n",
    "plt. ylabel(\"AUC\",fontsize=15)"
   ]
  },
  {
   "cell_type": "markdown",
   "metadata": {},
   "source": [
    "I pick max_leaf_nodes = 15"
   ]
  },
  {
   "cell_type": "code",
   "execution_count": 338,
   "metadata": {},
   "outputs": [
    {
     "data": {
      "text/plain": [
       "[<matplotlib.lines.Line2D at 0x16e6273a508>]"
      ]
     },
     "execution_count": 338,
     "metadata": {},
     "output_type": "execute_result"
    },
    {
     "data": {
      "image/png": "[encoded data removed]",
      "text/plain": [
       "<Figure size 432x288 with 1 Axes>"
      ]
     },
     "metadata": {
      "needs_background": "light"
     },
     "output_type": "display_data"
    }
   ],
   "source": [
    "#Develop the roc curve\n",
    "classifier_DT = DecisionTreeClassifier(max_leaf_nodes = 15)\n",
    "#classifier_DT = RandomForestClassifier(max_leaf_nodes = 15)\n",
    "#classifier_DT = GradientBoostingClassifier(max_leaf_nodes = 15)\n",
    "classifier_DT.fit(X_train, y_train)\n",
    "\n",
    "y_pred_proba = classifier_DT.predict_proba(X_val)[:,1:2]\n",
    "roccurve= roc_curve(y_val,y_pred_proba)\n",
    "plt.plot(roccurve[0], roccurve[1], linewidth=4)"
   ]
  },
  {
   "cell_type": "code",
   "execution_count": 341,
   "metadata": {},
   "outputs": [
    {
     "name": "stdout",
     "output_type": "stream",
     "text": [
      "[0.26923077 0.25      ]\n"
     ]
    },
    {
     "data": {
      "text/plain": [
       "0.2692307692307692"
      ]
     },
     "execution_count": 341,
     "metadata": {},
     "output_type": "execute_result"
    }
   ],
   "source": [
    "#Pick a threshold value\n",
    "\n",
    "#Maximize true positives vs false negative (y axis should be high) - Default, Think Covid tests\n",
    "print(roccurve[2][((roccurve[0]<=0.1) & (roccurve[0]>=0.0)) & (roccurve[1]>=0.95)]) #Will need to iterate this a few times\n",
    "threshold = roccurve[2][((roccurve[0]<=0.1) & (roccurve[0]>=0.0)) & (roccurve[1]>=0.95)][0]\n",
    "threshold\n",
    "\n",
    "#Minimize false positives vs true negative (x axis should be min)\n",
    "#print(roccurve[2][((roccurve[1]>=0.89) & (roccurve[1]<=1.0)) & (roccurve[0]<=0.06)])\n",
    "#threshold = roccurve[2][((roccurve[1]>=0.89) & (roccurve[1]<=1.0)) & (roccurve[0]<=0.06)][0]\n",
    "#threshold"
   ]
  },
  {
   "cell_type": "code",
   "execution_count": 342,
   "metadata": {},
   "outputs": [
    {
     "data": {
      "text/plain": [
       "array([0.90865603, 0.        , 0.00396957, 0.00271038, 0.        ,\n",
       "       0.00989825, 0.04868941, 0.02607636, 0.        , 0.        ,\n",
       "       0.        , 0.        , 0.        ])"
      ]
     },
     "execution_count": 342,
     "metadata": {},
     "output_type": "execute_result"
    }
   ],
   "source": [
    "#Merge training and validation, and retrain the model\n",
    "X_train_val=pd.concat([X_train, X_val])\n",
    "y_train_val=pd.concat([y_train, y_val])\n",
    "\n",
    "classifier_DT = DecisionTreeClassifier(max_leaf_nodes = 15)\n",
    "#classifier_DT = RandomForestClassifier(max_leaf_nodes = 15)\n",
    "#classifier_DT = GradientBoostingClassifier(max_leaf_nodes = 15)\n",
    "\n",
    "classifier_DT.fit(X_train_val, y_train_val)\n",
    "\n",
    "#Check feature importance\n",
    "classifier_DT.feature_importances_"
   ]
  },
  {
   "cell_type": "code",
   "execution_count": 343,
   "metadata": {},
   "outputs": [
    {
     "data": {
      "text/plain": [
       "[Text(344.6470588235294, 403.81714285714287, 'Carat Weight <= 0.354\\ngini = 0.432\\nsamples = 4500\\nvalue = [3080, 1420]\\nclass = Price_Low'),\n",
       " Text(196.94117647058823, 341.69142857142856, 'Carat Weight <= 0.266\\ngini = 0.121\\nsamples = 3142\\nvalue = [2938, 204]\\nclass = Price_Low'),\n",
       " Text(65.6470588235294, 279.5657142857143, 'Carat Weight <= 0.173\\ngini = 0.051\\nsamples = 2774\\nvalue = [2701, 73]\\nclass = Price_Low'),\n",
       " Text(32.8235294117647, 217.44, 'gini = 0.015\\nsamples = 2122\\nvalue = [2106, 16]\\nclass = Price_Low'),\n",
       " Text(98.47058823529412, 217.44, 'Color_E <= 0.5\\ngini = 0.16\\nsamples = 652\\nvalue = [595, 57]\\nclass = Price_Low'),\n",
       " Text(65.6470588235294, 155.3142857142857, 'Color_F <= 0.5\\ngini = 0.119\\nsamples = 584\\nvalue = [547, 37]\\nclass = Price_Low'),\n",
       " Text(32.8235294117647, 93.18857142857144, 'gini = 0.068\\nsamples = 483\\nvalue = [466, 17]\\nclass = Price_Low'),\n",
       " Text(98.47058823529412, 93.18857142857144, 'Carat Weight <= 0.221\\ngini = 0.318\\nsamples = 101\\nvalue = [81, 20]\\nclass = Price_Low'),\n",
       " Text(65.6470588235294, 31.062857142857126, 'gini = 0.142\\nsamples = 65\\nvalue = [60, 5]\\nclass = Price_Low'),\n",
       " Text(131.2941176470588, 31.062857142857126, 'gini = 0.486\\nsamples = 36\\nvalue = [21, 15]\\nclass = Price_Low'),\n",
       " Text(131.2941176470588, 155.3142857142857, 'gini = 0.415\\nsamples = 68\\nvalue = [48, 20]\\nclass = Price_Low'),\n",
       " Text(328.235294117647, 279.5657142857143, 'Clarity_upd_Slightly_Incl <= 0.5\\ngini = 0.459\\nsamples = 368\\nvalue = [237, 131]\\nclass = Price_Low'),\n",
       " Text(295.4117647058823, 217.44, 'Color_I <= 0.5\\ngini = 0.497\\nsamples = 256\\nvalue = [138, 118]\\nclass = Price_Low'),\n",
       " Text(262.5882352941176, 155.3142857142857, 'Color_H <= 0.5\\ngini = 0.494\\nsamples = 203\\nvalue = [90, 113]\\nclass = Price_High'),\n",
       " Text(229.76470588235293, 93.18857142857144, 'Carat Weight <= 0.292\\ngini = 0.454\\nsamples = 155\\nvalue = [54, 101]\\nclass = Price_High'),\n",
       " Text(196.94117647058823, 31.062857142857126, 'gini = 0.494\\nsamples = 88\\nvalue = [49, 39]\\nclass = Price_Low'),\n",
       " Text(262.5882352941176, 31.062857142857126, 'gini = 0.138\\nsamples = 67\\nvalue = [5, 62]\\nclass = Price_High'),\n",
       " Text(295.4117647058823, 93.18857142857144, 'gini = 0.375\\nsamples = 48\\nvalue = [36, 12]\\nclass = Price_Low'),\n",
       " Text(328.235294117647, 155.3142857142857, 'gini = 0.171\\nsamples = 53\\nvalue = [48, 5]\\nclass = Price_Low'),\n",
       " Text(361.0588235294117, 217.44, 'gini = 0.205\\nsamples = 112\\nvalue = [99, 13]\\nclass = Price_Low'),\n",
       " Text(492.35294117647055, 341.69142857142856, 'Carat Weight <= 0.447\\ngini = 0.187\\nsamples = 1358\\nvalue = [142, 1216]\\nclass = Price_High'),\n",
       " Text(459.52941176470586, 279.5657142857143, 'Color_I <= 0.5\\ngini = 0.471\\nsamples = 368\\nvalue = [140, 228]\\nclass = Price_High'),\n",
       " Text(426.70588235294116, 217.44, 'Clarity_upd_Slightly_Incl <= 0.5\\ngini = 0.338\\nsamples = 278\\nvalue = [60, 218]\\nclass = Price_High'),\n",
       " Text(393.88235294117646, 155.3142857142857, 'Color_H <= 0.5\\ngini = 0.143\\nsamples = 193\\nvalue = [15, 178]\\nclass = Price_High'),\n",
       " Text(361.0588235294117, 93.18857142857144, 'gini = 0.028\\nsamples = 142\\nvalue = [2, 140]\\nclass = Price_High'),\n",
       " Text(426.70588235294116, 93.18857142857144, 'gini = 0.38\\nsamples = 51\\nvalue = [13, 38]\\nclass = Price_High'),\n",
       " Text(459.52941176470586, 155.3142857142857, 'gini = 0.498\\nsamples = 85\\nvalue = [45, 40]\\nclass = Price_Low'),\n",
       " Text(492.35294117647055, 217.44, 'gini = 0.198\\nsamples = 90\\nvalue = [80, 10]\\nclass = Price_Low'),\n",
       " Text(525.1764705882352, 279.5657142857143, 'gini = 0.004\\nsamples = 990\\nvalue = [2, 988]\\nclass = Price_High')]"
      ]
     },
     "execution_count": 343,
     "metadata": {},
     "output_type": "execute_result"
    },
    {
     "data": {
      "image/png": "[encoded data removed]",
      "text/plain": [
       "<Figure size 720x576 with 1 Axes>"
      ]
     },
     "metadata": {
      "needs_background": "light"
     },
     "output_type": "display_data"
    }
   ],
   "source": [
    "#Revisualize the tree, Only works precisely with Decision Tree Classifier and Decision Tree Regressor\n",
    "figure(figsize=(10,8)) #makes plot large\n",
    "tree.plot_tree(classifier_DT,  class_names=(\"Price_Low\",\"Price_High\"), feature_names=X_train_val.columns, filled=True)"
   ]
  },
  {
   "cell_type": "markdown",
   "metadata": {},
   "source": [
    "## Step 5 - Test on the testing dataset"
   ]
  },
  {
   "cell_type": "code",
   "execution_count": 344,
   "metadata": {},
   "outputs": [],
   "source": [
    "#Calculate predicted probabilities - calculate probability that y = 1 based on value in X_test\n",
    "y_pred_proba = classifier_DT.predict_proba(X_test)[:,1:2]\n",
    "y_pred = np.where(y_pred_proba > threshold, 1, 0)"
   ]
  },
  {
   "cell_type": "code",
   "execution_count": 345,
   "metadata": {},
   "outputs": [
    {
     "name": "stdout",
     "output_type": "stream",
     "text": [
      "0.9406666666666667\n",
      "[[929  90]\n",
      " [ 26 455]]\n",
      "0.9226666666666666\n",
      "0.9736401306568137\n"
     ]
    }
   ],
   "source": [
    "#Calculate score\n",
    "print(classifier_DT.score(X_test,y_test))\n",
    "\n",
    "#Compute the confusion matrix\n",
    "print(confusion_matrix(y_test,y_pred))\n",
    "\n",
    "#Compute the accuracy score\n",
    "print(accuracy_score(y_test,y_pred))\n",
    "\n",
    "#Compute AUC score\n",
    "print(roc_auc_score(y_test, y_pred_proba))"
   ]
  },
  {
   "cell_type": "markdown",
   "metadata": {},
   "source": [
    "# Supervised Learning - Decision Tree Regressor"
   ]
  },
  {
   "cell_type": "markdown",
   "metadata": {},
   "source": [
    "## Step 1: Create labels and features, create training and test datasets"
   ]
  },
  {
   "cell_type": "code",
   "execution_count": 346,
   "metadata": {},
   "outputs": [],
   "source": [
    "#Create labels and features\n",
    "y=Sarah_raw_data[[\"Price\"]]\n",
    "X=Sarah_raw_data.drop(columns=[\"Price\", \"Price_High\"])"
   ]
  },
  {
   "cell_type": "code",
   "execution_count": 347,
   "metadata": {},
   "outputs": [],
   "source": [
    "#Create a 50:25:25 train test validation split\n",
    "X_train, X_other, y_train, y_other= train_test_split(X, y, test_size=1/2)\n",
    "X_val, X_test, y_val, y_test= train_test_split(X_other, y_other, test_size=1/2)"
   ]
  },
  {
   "cell_type": "markdown",
   "metadata": {},
   "source": [
    "## Step 2: Data Pre-processing\n",
    "\n",
    "Repeat steps from above"
   ]
  },
  {
   "cell_type": "code",
   "execution_count": 348,
   "metadata": {},
   "outputs": [],
   "source": [
    "#Perform pre-processing on training dataset\n",
    "\n",
    "#Drop column ID as it appears to be inconsequential to Price\n",
    "X_train = X_train.drop(columns=['ID'])\n",
    "\n",
    "#Check null values\n",
    "X_train.isna().sum()\n",
    "\n",
    "#Drop column Polish\n",
    "X_train = X_train.drop(columns=['Polish'])\n",
    "\n",
    "#Impute values for Carat Weight based on mean\n",
    "from sklearn.impute import SimpleImputer\n",
    "imp=SimpleImputer(missing_values=np.nan, strategy=\"mean\")\n",
    "X_train[['Carat Weight']]=imp.fit_transform(X_train[['Carat Weight']])\n",
    "\n",
    "X_train.isna().sum()\n",
    "\n",
    "#Normalize data in the Carat Weight column (in the range 0 to 1)\n",
    "from sklearn import preprocessing\n",
    "min_max_scaler=preprocessing.MinMaxScaler()\n",
    "X_train[['Carat Weight']] = min_max_scaler.fit_transform(X_train[['Carat Weight']])\n",
    "\n",
    "#Convert column \"Cut\" to take ordinal values in order - 'Fair', 'Good', 'Very Good', 'Ideal', 'Signature-Ideal'\n",
    "for i in X_train.index:\n",
    "    if X_train.loc[i,\"Cut\"]==\"Fair\":\n",
    "        X_train.loc[i,\"Cut_num\"]=0\n",
    "    elif X_train.loc[i,\"Cut\"]==\"Good\":\n",
    "         X_train.loc[i,\"Cut_num\"]=1\n",
    "    elif X_train.loc[i,\"Cut\"]==\"Very Good\":\n",
    "         X_train.loc[i,\"Cut_num\"]=2\n",
    "    elif X_train.loc[i,\"Cut\"]==\"Ideal\":\n",
    "         X_train.loc[i,\"Cut_num\"]=3    \n",
    "    else:\n",
    "        X_train.loc[i,\"Cut_num\"]=4\n",
    "X_train = X_train.drop(columns=['Cut'])\n",
    "\n",
    "#Convert column \"Clarity\" - 'SI1' (Slightly Included) 'VS1' 'VS2' 'VVS2' 'VVS1' (Very Slightly Included) 'IF' 'FL'(Flawless)\n",
    "for i in X_train.index:\n",
    "    if X_train.loc[i,\"Clarity\"]==\"SI1\":\n",
    "        X_train.loc[i,\"Clarity_upd\"]=\"Slightly_Incl\"\n",
    "    elif X_train.loc[i,\"Clarity\"]==\"IF\" or X_train.loc[i,\"Clarity\"]==\"FL\":\n",
    "         X_train.loc[i,\"Clarity_upd\"]=\"Flawless\"\n",
    "    else:\n",
    "        X_train.loc[i,\"Clarity_upd\"]=\"Very_Slightly_Incl\"\n",
    "X_train = X_train.drop(columns=['Clarity'])\n",
    "\n",
    "#Get dummies for categorical data\n",
    "X_train=pd.get_dummies(X_train,columns=['Color', 'Clarity_upd', 'Symmetry','Report'], drop_first=True)\n",
    "\n",
    "###Other possible required transformations\n",
    "##Taking log\n",
    "#from numpy import log\n",
    "#X_train[\"Carat Weight\"]=X_train[\"Carat Weight\"].apply(log)\n",
    "##Taking square\n",
    "#X_train[\"Carat Weight\"]=X_train[\"Carat Weight\"]**2\n",
    "\n",
    "###Polynomial features - Multiplies each feature with the other\n",
    "#from sklearn.preprocessing import PolynomialFeatures\n",
    "#degree=2\n",
    "#poly = PolynomialFeatures(degree)\n",
    "#X_train_poly=poly.fit_transform(X_train)"
   ]
  },
  {
   "cell_type": "code",
   "execution_count": 349,
   "metadata": {},
   "outputs": [],
   "source": [
    "#Repeat the same steps for the test dataset\n",
    "X_val = X_val.drop(columns=['ID'])\n",
    "X_val = X_val.drop(columns=['Polish'])\n",
    "X_val[['Carat Weight']]=imp.fit_transform(X_val[['Carat Weight']])\n",
    "X_val[['Carat Weight']] = min_max_scaler.fit_transform(X_val[['Carat Weight']])\n",
    "for i in X_val.index:\n",
    "    if X_val.loc[i,\"Cut\"]==\"Fair\":\n",
    "        X_val.loc[i,\"Cut_num\"]=0\n",
    "    elif X_val.loc[i,\"Cut\"]==\"Good\":\n",
    "         X_val.loc[i,\"Cut_num\"]=1\n",
    "    elif X_val.loc[i,\"Cut\"]==\"Very Good\":\n",
    "         X_val.loc[i,\"Cut_num\"]=2\n",
    "    elif X_val.loc[i,\"Cut\"]==\"Ideal\":\n",
    "         X_val.loc[i,\"Cut_num\"]=3    \n",
    "    else:\n",
    "        X_val.loc[i,\"Cut_num\"]=4\n",
    "X_val = X_val.drop(columns=['Cut'])\n",
    "\n",
    "for i in X_val.index:\n",
    "    if X_val.loc[i,\"Clarity\"]==\"SI1\":\n",
    "        X_val.loc[i,\"Clarity_upd\"]=\"Slightly_Incl\"\n",
    "    elif X_val.loc[i,\"Clarity\"]==\"IF\" or X_val.loc[i,\"Clarity\"]==\"FL\":\n",
    "         X_val.loc[i,\"Clarity_upd\"]=\"Flawless\"\n",
    "    else:\n",
    "        X_val.loc[i,\"Clarity_upd\"]=\"Very_Slightly_Incl\"\n",
    "X_val = X_val.drop(columns=['Clarity'])\n",
    "\n",
    "X_val=pd.get_dummies(X_val,columns=['Color', 'Clarity_upd', 'Symmetry','Report'], drop_first=True)"
   ]
  },
  {
   "cell_type": "code",
   "execution_count": 350,
   "metadata": {},
   "outputs": [],
   "source": [
    "#Repeat the same steps for the test dataset\n",
    "X_test = X_test.drop(columns=['ID'])\n",
    "X_test = X_test.drop(columns=['Polish'])\n",
    "X_test[['Carat Weight']]=imp.fit_transform(X_test[['Carat Weight']])\n",
    "X_test[['Carat Weight']] = min_max_scaler.fit_transform(X_test[['Carat Weight']])\n",
    "for i in X_test.index:\n",
    "    if X_test.loc[i,\"Cut\"]==\"Fair\":\n",
    "        X_test.loc[i,\"Cut_num\"]=0\n",
    "    elif X_test.loc[i,\"Cut\"]==\"Good\":\n",
    "         X_test.loc[i,\"Cut_num\"]=1\n",
    "    elif X_test.loc[i,\"Cut\"]==\"Very Good\":\n",
    "         X_test.loc[i,\"Cut_num\"]=2\n",
    "    elif X_test.loc[i,\"Cut\"]==\"Ideal\":\n",
    "         X_test.loc[i,\"Cut_num\"]=3    \n",
    "    else:\n",
    "        X_test.loc[i,\"Cut_num\"]=4\n",
    "X_test = X_test.drop(columns=['Cut'])\n",
    "\n",
    "for i in X_test.index:\n",
    "    if X_test.loc[i,\"Clarity\"]==\"SI1\":\n",
    "        X_test.loc[i,\"Clarity_upd\"]=\"Slightly_Incl\"\n",
    "    elif X_test.loc[i,\"Clarity\"]==\"IF\" or X_test.loc[i,\"Clarity\"]==\"FL\":\n",
    "         X_test.loc[i,\"Clarity_upd\"]=\"Flawless\"\n",
    "    else:\n",
    "        X_test.loc[i,\"Clarity_upd\"]=\"Very_Slightly_Incl\"\n",
    "X_test = X_test.drop(columns=['Clarity'])\n",
    "\n",
    "X_test=pd.get_dummies(X_test,columns=['Color', 'Clarity_upd', 'Symmetry','Report'], drop_first=True)"
   ]
  },
  {
   "cell_type": "markdown",
   "metadata": {},
   "source": [
    "## Step 3 - Train the model on the training set"
   ]
  },
  {
   "cell_type": "code",
   "execution_count": 351,
   "metadata": {},
   "outputs": [
    {
     "data": {
      "text/plain": [
       "array([0.88555526, 0.        , 0.        , 0.        , 0.        ,\n",
       "       0.        , 0.        , 0.0538406 , 0.06060414, 0.        ,\n",
       "       0.        , 0.        , 0.        ])"
      ]
     },
     "execution_count": 351,
     "metadata": {},
     "output_type": "execute_result"
    }
   ],
   "source": [
    "#Fit the model\n",
    "from sklearn.tree import DecisionTreeRegressor\n",
    "regressor_DT = DecisionTreeRegressor(max_leaf_nodes=6)\n",
    "\n",
    "#from sklearn.ensemble import RandomForestRegressor, GradientBoostingRegressor\n",
    "#regressor_DT = RandomForestRegressor(max_leaf_nodes=6)\n",
    "#regressor_DT = GradientBoostingRegressor(max_leaf_nodes=6)\n",
    "\n",
    "regressor_DT.fit(X_train, y_train)\n",
    "\n",
    "#Check feature importance\n",
    "regressor_DT.feature_importances_"
   ]
  },
  {
   "cell_type": "markdown",
   "metadata": {},
   "source": [
    "## Step 3a - Visualize the tree"
   ]
  },
  {
   "cell_type": "code",
   "execution_count": 352,
   "metadata": {},
   "outputs": [
    {
     "data": {
      "text/plain": [
       "[Text(279.0, 391.392, 'Carat Weight <= 0.488\\nmse = 112327005.608\\nsamples = 3000\\nvalue = 12151.58'),\n",
       " Text(139.5, 304.416, 'Carat Weight <= 0.22\\nmse = 18442284.926\\nsamples = 2324\\nvalue = 7644.948'),\n",
       " Text(69.75, 217.44, 'mse = 5236991.067\\nsamples = 1649\\nvalue = 5900.186'),\n",
       " Text(209.25, 217.44, 'mse = 25097521.968\\nsamples = 675\\nvalue = 11907.336'),\n",
       " Text(418.5, 304.416, 'Clarity_upd_Slightly_Incl <= 0.5\\nmse = 125228545.134\\nsamples = 676\\nvalue = 27644.794'),\n",
       " Text(348.75, 217.44, 'Clarity_upd_Very_Slightly_Incl <= 0.5\\nmse = 132926360.09\\nsamples = 517\\nvalue = 30187.12'),\n",
       " Text(279.0, 130.464, 'Carat Weight <= 0.838\\nmse = 469505456.793\\nsamples = 33\\nvalue = 51486.545'),\n",
       " Text(209.25, 43.488, 'mse = 284658663.943\\nsamples = 30\\nvalue = 46906.3'),\n",
       " Text(348.75, 43.488, 'mse = 10322058.667\\nsamples = 3\\nvalue = 97289.0'),\n",
       " Text(418.5, 130.464, 'mse = 76937062.46\\nsamples = 484\\nvalue = 28734.886'),\n",
       " Text(488.25, 217.44, 'mse = 10846330.194\\nsamples = 159\\nvalue = 19378.239')]"
      ]
     },
     "execution_count": 352,
     "metadata": {},
     "output_type": "execute_result"
    },
    {
     "data": {
      "image/png": "[encoded data removed]",
      "text/plain": [
       "<Figure size 720x576 with 1 Axes>"
      ]
     },
     "metadata": {
      "needs_background": "light"
     },
     "output_type": "display_data"
    }
   ],
   "source": [
    "#Only works precisely with Decision Tree Classifier and Decision Tree Regressor\n",
    "from matplotlib.pyplot import figure\n",
    "from sklearn import tree\n",
    "figure(figsize=(10,8)) #makes plot large\n",
    "tree.plot_tree(regressor_DT, feature_names=X_train.columns, filled=True)"
   ]
  },
  {
   "cell_type": "markdown",
   "metadata": {},
   "source": [
    "## Step 4 - Validate the hyperparameters, set a threshold, retrain on training + validation"
   ]
  },
  {
   "cell_type": "code",
   "execution_count": 353,
   "metadata": {},
   "outputs": [],
   "source": [
    "#Tune hyperparameters - Set value for max_leaf_nodes\n",
    "n_max_leaf_nodes = range(2,40) # Lets train the models with 2, 3, 4, ... 60 leafs\n",
    "array_train = []\n",
    "array_val= []\n",
    "\n",
    "for n in n_max_leaf_nodes:  \n",
    "    regressor_DT = DecisionTreeRegressor(max_leaf_nodes=n).fit(X_train, y_train) #modify here if you change model\n",
    "    #regressor_DT = RandomForestRegressor(max_leaf_nodes=n).fit(X_train, y_train)\n",
    "    #regressor_DT = GradientBoostingRegressor(max_leaf_nodes=n).fit(X_train, y_train)\n",
    "    y_pred_train = regressor_DT.predict(X_train)\n",
    "    y_pred_val = regressor_DT.predict(X_val)\n",
    "    score_train=mean_squared_error(y_train,y_pred_train)**(1/2)\n",
    "    score_val=mean_squared_error(y_val,y_pred_val)**(1/2)\n",
    "    array_train.append(score_train)\n",
    "    array_val.append(score_val)"
   ]
  },
  {
   "cell_type": "code",
   "execution_count": 354,
   "metadata": {},
   "outputs": [
    {
     "data": {
      "text/plain": [
       "Text(0, 0.5, 'MSE')"
      ]
     },
     "execution_count": 354,
     "metadata": {},
     "output_type": "execute_result"
    },
    {
     "data": {
      "image/png": "[encoded data removed]",
      "text/plain": [
       "<Figure size 432x288 with 1 Axes>"
      ]
     },
     "metadata": {
      "needs_background": "light"
     },
     "output_type": "display_data"
    }
   ],
   "source": [
    "#Develop a plot to pick the hyperparameter value\n",
    "plt.scatter(n_max_leaf_nodes,array_train)\n",
    "plt.scatter(n_max_leaf_nodes,array_val)\n",
    "plt.legend(['Validation set','Training set'])\n",
    "plt. xlabel(\"number of leaves\",fontsize=15)\n",
    "plt. ylabel(\"MSE\",fontsize=15)"
   ]
  },
  {
   "cell_type": "markdown",
   "metadata": {},
   "source": [
    "I pick max_leaf_nodes = 8"
   ]
  },
  {
   "cell_type": "code",
   "execution_count": 355,
   "metadata": {},
   "outputs": [
    {
     "data": {
      "text/plain": [
       "array([0.83993713, 0.        , 0.        , 0.        , 0.        ,\n",
       "       0.02712591, 0.03116566, 0.05219076, 0.04958054, 0.        ,\n",
       "       0.        , 0.        , 0.        ])"
      ]
     },
     "execution_count": 355,
     "metadata": {},
     "output_type": "execute_result"
    }
   ],
   "source": [
    "#Merge training and validation, and retrain the model\n",
    "X_train_val=pd.concat([X_train, X_val])\n",
    "y_train_val=pd.concat([y_train, y_val])\n",
    "\n",
    "regressor_DT = DecisionTreeRegressor(max_leaf_nodes=8)\n",
    "#regressor_DT = RandomForestRegressor(max_leaf_nodes=8)\n",
    "#regressor_DT = GradientBoostingRegressor(max_leaf_nodes=8)\n",
    "regressor_DT.fit(X_train_val, y_train_val)\n",
    "\n",
    "#Check feature importance\n",
    "regressor_DT.feature_importances_"
   ]
  },
  {
   "cell_type": "code",
   "execution_count": 356,
   "metadata": {},
   "outputs": [
    {
     "data": {
      "text/plain": [
       "[Text(279.0, 403.81714285714287, 'Carat Weight <= 0.498\\nmse = 107835405.937\\nsamples = 4500\\nvalue = 11951.776'),\n",
       " Text(139.5, 341.69142857142856, 'Carat Weight <= 0.226\\nmse = 18885873.232\\nsamples = 3513\\nvalue = 7636.882'),\n",
       " Text(69.75, 279.5657142857143, 'mse = 5245349.122\\nsamples = 2525\\nvalue = 5935.372'),\n",
       " Text(209.25, 279.5657142857143, 'mse = 27438094.015\\nsamples = 988\\nvalue = 11985.379'),\n",
       " Text(418.5, 341.69142857142856, 'Clarity_upd_Slightly_Incl <= 0.5\\nmse = 122298958.102\\nsamples = 987\\nvalue = 27309.65'),\n",
       " Text(348.75, 279.5657142857143, 'Clarity_upd_Very_Slightly_Incl <= 0.5\\nmse = 132683747.626\\nsamples = 733\\nvalue = 29999.33'),\n",
       " Text(279.0, 217.44, 'mse = 422626256.492\\nsamples = 44\\nvalue = 50448.909'),\n",
       " Text(418.5, 217.44, 'Color_I <= 0.5\\nmse = 85756797.455\\nsamples = 689\\nvalue = 28693.406'),\n",
       " Text(348.75, 155.3142857142857, 'Color_H <= 0.5\\nmse = 79016402.869\\nsamples = 578\\nvalue = 30545.332'),\n",
       " Text(279.0, 93.18857142857144, 'Carat Weight <= 0.714\\nmse = 74664318.531\\nsamples = 446\\nvalue = 32887.108'),\n",
       " Text(209.25, 31.062857142857126, 'mse = 47867751.545\\nsamples = 367\\nvalue = 30994.21'),\n",
       " Text(348.75, 31.062857142857126, 'mse = 105177071.351\\nsamples = 79\\nvalue = 41680.696'),\n",
       " Text(418.5, 93.18857142857144, 'mse = 12586716.454\\nsamples = 132\\nvalue = 22632.97'),\n",
       " Text(488.25, 155.3142857142857, 'mse = 10002221.16\\nsamples = 111\\nvalue = 19050.045'),\n",
       " Text(488.25, 279.5657142857143, 'mse = 11205233.407\\nsamples = 254\\nvalue = 19547.701')]"
      ]
     },
     "execution_count": 356,
     "metadata": {},
     "output_type": "execute_result"
    },
    {
     "data": {
      "image/png": "[encoded data removed]",
      "text/plain": [
       "<Figure size 720x576 with 1 Axes>"
      ]
     },
     "metadata": {
      "needs_background": "light"
     },
     "output_type": "display_data"
    }
   ],
   "source": [
    "#Revisualize the tree, Only works precisely with Decision Tree Classifier and Decision Tree Regressor\n",
    "figure(figsize=(10,8)) #makes plot large\n",
    "tree.plot_tree(regressor_DT, feature_names=X_train_val.columns, filled=True)"
   ]
  },
  {
   "cell_type": "markdown",
   "metadata": {},
   "source": [
    "## Step 5 - Test on the testing dataset"
   ]
  },
  {
   "cell_type": "code",
   "execution_count": 357,
   "metadata": {},
   "outputs": [],
   "source": [
    "#Calculate predicted values\n",
    "y_pred = regressor_DT.predict(X_test)"
   ]
  },
  {
   "cell_type": "code",
   "execution_count": 358,
   "metadata": {},
   "outputs": [
    {
     "name": "stdout",
     "output_type": "stream",
     "text": [
      "0.785334133677363\n",
      "4419.810787158276\n"
     ]
    }
   ],
   "source": [
    "#Calculate r-square, root mean squraed error\n",
    "print(regressor_DT.score(X_test,y_test))\n",
    "print(mean_squared_error(y_test,y_pred)**(1/2))"
   ]
  }
 ],
 "metadata": {
  "kernelspec": {
   "display_name": "Python 3",
   "language": "python",
   "name": "python3"
  },
  "language_info": {
   "codemirror_mode": {
    "name": "ipython",
    "version": 3
   },
   "file_extension": ".py",
   "mimetype": "text/x-python",
   "name": "python",
   "nbconvert_exporter": "python",
   "pygments_lexer": "ipython3",
   "version": "3.7.6"
  }
 },
 "nbformat": 4,
 "nbformat_minor": 4
}
