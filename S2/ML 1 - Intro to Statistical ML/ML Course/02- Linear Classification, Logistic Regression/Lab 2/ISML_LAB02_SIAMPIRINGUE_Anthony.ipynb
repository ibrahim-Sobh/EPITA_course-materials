{
 "cells": [
  {
   "cell_type": "markdown",
   "metadata": {},
   "source": [
    "# <center> LAB 2: Linear Classification: Logistic Regression<br> <small>Réda DEHAK<br> December 9th, 2020</small> </center>\n",
    "\n",
    "The goal of this lab is :\n",
    "    - Test the logistic regression on classification problems\n",
    "    - Evaluate performances statistics.\n"
   ]
  },
  {
   "cell_type": "code",
   "execution_count": 70,
   "metadata": {},
   "outputs": [
    {
     "name": "stdout",
     "output_type": "stream",
     "text": [
      "Using matplotlib backend: MacOSX\n",
      "%pylab is deprecated, use %matplotlib inline and import the required libraries.\n",
      "Populating the interactive namespace from numpy and matplotlib\n"
     ]
    },
    {
     "name": "stderr",
     "output_type": "stream",
     "text": [
      "/Users/ibrahim/opt/anaconda3/lib/python3.9/site-packages/IPython/core/magics/pylab.py:162: UserWarning: pylab import has clobbered these variables: ['gradient', 'cm']\n",
      "`%matplotlib` prevents importing * from pylab and numpy\n",
      "  warn(\"pylab import has clobbered these variables: %s\"  % clobbered +\n"
     ]
    }
   ],
   "source": [
    "%pylab\n",
    "%matplotlib inline\n",
    "import pickle\n",
    "import matplotlib.pyplot as plt\n",
    "import numpy as np\n",
    "from sklearn import linear_model"
   ]
  },
  {
   "cell_type": "markdown",
   "metadata": {},
   "source": [
    "## Part 1: Logistic Regression \n",
    "### Import Data\n",
    "\n",
    "We will use the Wine dataset from UCI. These data are the results of a chemical analysis of wines grown in the same region in Italy but derived from three different cultivars. The analysis determined the quantities of thirteen constituents found in each of the three types of wines.\n",
    "\n",
    "# Loading and Plotting Data\n",
    " \n",
    "First, we will use only two features from the data set: alcohol and ash (We can plot the solution in 2D space). The labels are supplied as an array of data with values from 1 to 3, but at first, we want a simple binary regression problem with a yes or no answer.  \n",
    "\n",
    "We filter the data set, reducing it to only include wines with labels 1 or 2.  "
   ]
  },
  {
   "cell_type": "code",
   "execution_count": 71,
   "metadata": {},
   "outputs": [
    {
     "name": "stdout",
     "output_type": "stream",
     "text": [
      "Using matplotlib backend: MacOSX\n",
      "%pylab is deprecated, use %matplotlib inline and import the required libraries.\n",
      "Populating the interactive namespace from numpy and matplotlib\n"
     ]
    }
   ],
   "source": [
    "%pylab\n",
    "%matplotlib inline\n",
    "import pandas as pd\n",
    "import numpy as np\n",
    "import matplotlib.pyplot as plt\n",
    "from sklearn.preprocessing import label_binarize\n",
    "\n",
    "data = pd.read_csv('data.txt')\n",
    "\n",
    "reduced = data[data['class'] <= 2]\n",
    "X = reduced[['alcohol', 'ash']].to_numpy()\n",
    "y = label_binarize(reduced['class'].to_numpy(), classes=[1, 2])[:,0]"
   ]
  },
  {
   "cell_type": "code",
   "execution_count": 72,
   "metadata": {},
   "outputs": [
    {
     "name": "stdout",
     "output_type": "stream",
     "text": [
      "     class  alcohol  malic_acid   ash  alcalinity  magnesium  total_phenols  \\\n",
      "0        1    14.23        1.71  2.43        15.6        127           2.80   \n",
      "1        1    13.20        1.78  2.14        11.2        100           2.65   \n",
      "2        1    13.16        2.36  2.67        18.6        101           2.80   \n",
      "3        1    14.37        1.95  2.50        16.8        113           3.85   \n",
      "4        1    13.24        2.59  2.87        21.0        118           2.80   \n",
      "..     ...      ...         ...   ...         ...        ...            ...   \n",
      "173      3    13.71        5.65  2.45        20.5         95           1.68   \n",
      "174      3    13.40        3.91  2.48        23.0        102           1.80   \n",
      "175      3    13.27        4.28  2.26        20.0        120           1.59   \n",
      "176      3    13.17        2.59  2.37        20.0        120           1.65   \n",
      "177      3    14.13        4.10  2.74        24.5         96           2.05   \n",
      "\n",
      "     flavanoids  nonflavanoid_phenols  proanthocyanins  color   hue    od  \\\n",
      "0          3.06                  0.28             2.29   5.64  1.04  3.92   \n",
      "1          2.76                  0.26             1.28   4.38  1.05  3.40   \n",
      "2          3.24                  0.30             2.81   5.68  1.03  3.17   \n",
      "3          3.49                  0.24             2.18   7.80  0.86  3.45   \n",
      "4          2.69                  0.39             1.82   4.32  1.04  2.93   \n",
      "..          ...                   ...              ...    ...   ...   ...   \n",
      "173        0.61                  0.52             1.06   7.70  0.64  1.74   \n",
      "174        0.75                  0.43             1.41   7.30  0.70  1.56   \n",
      "175        0.69                  0.43             1.35  10.20  0.59  1.56   \n",
      "176        0.68                  0.53             1.46   9.30  0.60  1.62   \n",
      "177        0.76                  0.56             1.35   9.20  0.61  1.60   \n",
      "\n",
      "     proline  \n",
      "0       1065  \n",
      "1       1050  \n",
      "2       1185  \n",
      "3       1480  \n",
      "4        735  \n",
      "..       ...  \n",
      "173      740  \n",
      "174      750  \n",
      "175      835  \n",
      "176      840  \n",
      "177      560  \n",
      "\n",
      "[178 rows x 14 columns]\n"
     ]
    }
   ],
   "source": [
    "print(data)"
   ]
  },
  {
   "cell_type": "code",
   "execution_count": 73,
   "metadata": {},
   "outputs": [
    {
     "name": "stdout",
     "output_type": "stream",
     "text": [
      "train: 97 test: 33\n"
     ]
    }
   ],
   "source": [
    "# split data into train and validation set\n",
    "from sklearn.model_selection import train_test_split\n",
    "\n",
    "Xtrain, Xtest, ytrain, ytest = train_test_split(X, y, test_size = 0.25, random_state = 42)\n",
    "print('train:', len(Xtrain), 'test:', len(Xtest))"
   ]
  },
  {
   "cell_type": "code",
   "execution_count": 74,
   "metadata": {},
   "outputs": [
    {
     "data": {
      "image/png": "[encoded data removed]",
      "text/plain": [
       "<Figure size 432x288 with 1 Axes>"
      ]
     },
     "metadata": {
      "needs_background": "light"
     },
     "output_type": "display_data"
    }
   ],
   "source": [
    "MARKERS = ['+', 'x', '.']\n",
    "COLORS = ['red', 'green', 'blue']\n",
    "\n",
    "def plot_points(xy, labels):\n",
    "    \n",
    "    for i, label in enumerate(set(labels)):\n",
    "        points = np.array([xy[j,:] for j in range(len(xy)) if labels[j] == label])\n",
    "        marker = MARKERS[i % len(MARKERS)]\n",
    "        color = COLORS[i % len(COLORS)]\n",
    "        plt.scatter(points[:,0], points[:,1], marker=marker, color=color)\n",
    "\n",
    "plot_points(Xtrain, ytrain)"
   ]
  },
  {
   "cell_type": "markdown",
   "metadata": {},
   "source": [
    "We can see that we can plot line that could divide the two colored points with a small amount of error.\n",
    "\n",
    "# Logistic Regression\n",
    "\n",
    "To implement logistic regression, we need to define the cost function $J(\\theta)$, and compute the partial derivatives of $J(\\theta)$. As we have seen previously:\n",
    "\n",
    "$$\n",
    "J(\\theta) =-\\frac{1}{N}\\sum_{i=1}^{N}y^{i}\\log(f_\\theta(x^{i}))+(1-y^{i})\\log(1-f_\\theta(x^{i}))\n",
    "$$\n",
    "\n",
    "where $f_\\theta(x)$ is the logistic function\n",
    "\n",
    "$$\n",
    "f_\\theta(x) = \\frac{1}{1 + e^{-\\theta^Tx}}\n",
    "$$\n",
    "\n",
    "- Compute the partiel derivatives of $J(\\theta)$ and write the two functions:\n",
    "    - cost(theta, X, y) which compute the value of $J(\\theta)$\n",
    "    - gradient(theta, X, y) which compute the value of the gradient of $J(\\theta)$"
   ]
  },
  {
   "cell_type": "code",
   "execution_count": 75,
   "metadata": {},
   "outputs": [],
   "source": [
    "def sigmoid(theta, X):\n",
    "    #print(\"sig\",theta.T.shape,X.shape)\n",
    "    return 1/(1+np.exp(-1*theta.T @ X))\n",
    "\n",
    "def cost(theta, X, y):\n",
    "    N=X.shape[1]\n",
    "    #print(\"cost\",theta.shape,X.shape)\n",
    "    J= (-1/N) * (y @ np.log(sigmoid(theta,X))+(1-y)@np.log(1-sigmoid(theta,X)))\n",
    "    return J\n",
    "\n",
    "def gradient(theta, X, y):\n",
    "    N=X.shape[1]\n",
    "    #print(\"grad\",theta.shape,X.shape)\n",
    "    #G=X@y-X@sigmoid(theta,X)\n",
    "    G=(-1/N)*(X@y-X@sigmoid(theta,X))\n",
    "    return G"
   ]
  },
  {
   "cell_type": "markdown",
   "metadata": {},
   "source": [
    "- Using the function scipy.optimize.fmin_tnc which performs a gradient descent algorithm, write a function Train(x, y) which compute $\\theta$ that minimize $J(\\theta)$"
   ]
  },
  {
   "cell_type": "code",
   "execution_count": 76,
   "metadata": {},
   "outputs": [],
   "source": [
    "from scipy.optimize import fmin_tnc  \n",
    "\n",
    "def train(X, y):\n",
    "    X = np.insert(X, 0, np.ones(len(X)), axis=1)\n",
    "    theta = np.zeros(X.shape[1])\n",
    "    theta=theta.reshape(theta.shape[0],1)\n",
    "    result = fmin_tnc(func=cost,x0=theta,fprime=gradient,args=[X.T,y])\n",
    "    return result"
   ]
  },
  {
   "cell_type": "markdown",
   "metadata": {},
   "source": [
    "- compute the value of the best $\\theta$"
   ]
  },
  {
   "cell_type": "code",
   "execution_count": 77,
   "metadata": {},
   "outputs": [
    {
     "name": "stdout",
     "output_type": "stream",
     "text": [
      "[60.75109019 -4.11135537 -2.9373876 ]\n"
     ]
    },
    {
     "name": "stderr",
     "output_type": "stream",
     "text": [
      "  NIT   NF   F                       GTG\n",
      "    0    1  6.931471805599453E-01   4.51418817E-01\n",
      "    1    3  6.879398176443684E-01   9.68924528E-04\n",
      "tnc: fscale = 32.1259\n",
      "    2    5  6.773443201004968E-01   6.87489271E-01\n",
      "tnc: fscale = 1.20605\n",
      "    3    7  6.691299352359296E-01   1.14252555E-03\n",
      "tnc: fscale = 29.5847\n",
      "    4    9  6.690963486005840E-01   1.73845464E-03\n",
      "tnc: stepmx = 1000\n",
      "    5   11  4.652072252898440E-01   1.21824730E-03\n",
      "    6   13  4.570148523078882E-01   5.12881798E-01\n",
      "tnc: fscale = 1.39634\n",
      "    7   15  4.501676559985504E-01   3.21364478E-04\n",
      "tnc: fscale = 55.7829\n",
      "    8   17  4.501525139088486E-01   8.26714647E-04\n",
      "    9   21  2.483882435548232E-01   1.05696686E-02\n",
      "   10   26  2.326176212178437E-01   1.93210974E-03\n",
      "   11   28  2.325472453334275E-01   3.97073520E-04\n",
      "   12   30  2.324285812160709E-01   1.07630319E-03\n",
      "   13   32  2.321935985497343E-01   5.96968353E-04\n",
      "   14   34  2.280042858105396E-01   1.08435696E-03\n",
      "   15   36  2.277377652771377E-01   1.91583782E-03\n",
      "   16   38  2.272841776037278E-01   4.24623200E-04\n",
      "   17   40  2.272607631735237E-01   9.47206762E-05\n",
      "   18   42  2.223932336843487E-01   3.45299692E-03\n",
      "   19   44  2.221331973447090E-01   1.42701192E-04\n",
      "   20   46  2.219073779219526E-01   6.04228683E-06\n",
      "   21   48  2.219065860007834E-01   9.51037037E-06\n",
      "   22   50  2.217392009442496E-01   8.30719316E-05\n",
      "   23   52  2.217346104083864E-01   7.46846513E-07\n",
      "tnc: fscale = 1157.14\n",
      "   24   54  2.217338303336631E-01   1.43671292E-05\n",
      "   25   56  2.216014592326058E-01   4.26354648E-07\n",
      "   26   58  2.214704128614119E-01   8.18409811E-05\n",
      "   27   60  2.214637969938317E-01   5.65329324E-06\n",
      "   28   62  2.201558753358060E-01   4.30819132E-04\n",
      "tnc: fscale = 48.1784\n",
      "   29   64  2.201358589869298E-01   5.85297825E-06\n",
      "   30   66  2.195427285713599E-01   8.70618941E-07\n",
      "tnc: fscale = 1071.73\n",
      "   31   68  2.195426863849017E-01   4.39648890E-08\n",
      "   32   70  2.192551186131086E-01   2.25148082E-07\n",
      "   33   72  2.192533623172937E-01   1.87055472E-07\n",
      "   34   74  2.192531866392353E-01   4.28763166E-06\n",
      "   35   76  2.192352475938894E-01   3.10680125E-10\n",
      "tnc: fscale = 56734\n",
      "tnc: |fn-fn-1] = 3.61478e-11 -> convergence\n",
      "   36   78  2.192352475577415E-01   5.17232116E-10\n",
      "tnc: Converged (|f_n-f_(n-1)| ~= 0)\n"
     ]
    }
   ],
   "source": [
    "W,itr,res=train(Xtrain,ytrain)\n",
    "print(W)"
   ]
  },
  {
   "cell_type": "code",
   "execution_count": 78,
   "metadata": {},
   "outputs": [
    {
     "data": {
      "text/plain": [
       "array([0, 1, 1, 1, 0, 1, 0, 1, 1, 1, 0, 0, 1, 0, 0, 1, 0, 1, 0, 1, 1, 0,\n",
       "       0, 0, 0, 0, 0, 0, 0, 1, 0, 1, 0, 0, 1, 1, 1, 0, 0, 1, 0, 0, 1, 0,\n",
       "       1, 0, 1, 1, 1, 0, 1, 1, 0, 1, 1, 1, 1, 1, 1, 0, 0, 1, 0, 1, 1, 0,\n",
       "       1, 0, 1, 1, 1, 1, 0, 0, 1, 1, 1, 0, 0, 0, 1, 1, 1, 1, 1, 1, 1, 1,\n",
       "       1, 1, 0, 1, 0, 1, 0, 1, 1])"
      ]
     },
     "execution_count": 78,
     "metadata": {},
     "output_type": "execute_result"
    }
   ],
   "source": [
    "def predict(theta, X):\n",
    "    X = np.insert(X, 0, np.ones(len(X)), axis=1)\n",
    "    return (sigmoid(theta, X.T) >= 0.5).astype(int)\n",
    "\n",
    "\n",
    "predict(W.T,Xtrain)"
   ]
  },
  {
   "cell_type": "markdown",
   "metadata": {},
   "source": [
    "- Plot the boundary and checks that it is linear?"
   ]
  },
  {
   "cell_type": "code",
   "execution_count": 79,
   "metadata": {
    "scrolled": true
   },
   "outputs": [
    {
     "data": {
      "image/png": "[encoded data removed]",
      "text/plain": [
       "<Figure size 432x288 with 1 Axes>"
      ]
     },
     "metadata": {
      "needs_background": "light"
     },
     "output_type": "display_data"
    }
   ],
   "source": [
    "from matplotlib import cm\n",
    "from matplotlib.colors import LinearSegmentedColormap\n",
    "\n",
    "def predict(theta, X):\n",
    "    X = np.insert(X, 0, np.ones(len(X)), axis=1)\n",
    "    return (sigmoid(theta, X.T) >= 0.5).astype(int)\n",
    "\n",
    "def plot_boundary(X, pred):\n",
    "    \n",
    "    x_min, x_max = X[:,0].min() - .1, X[:,0].max() + .1\n",
    "    y_min, y_max = X[:,1].min() - .1, X[:,1].max() + .1\n",
    "    \n",
    "    xs, ys = np.meshgrid(\n",
    "        np.linspace(x_min, x_max, 200),\n",
    "        np.linspace(y_min, y_max, 200)\n",
    "    )\n",
    "\n",
    "    xys = np.column_stack([xs.ravel(), ys.ravel()])\n",
    "    zs = pred(xys).reshape(xs.shape)\n",
    "    plt.contour(xs, ys, zs, colors='black')\n",
    "  \n",
    "plot_boundary(Xtrain, lambda x: predict(W.reshape(3,1), x))\n",
    "plot_points(Xtrain, ytrain)"
   ]
  },
  {
   "cell_type": "markdown",
   "metadata": {},
   "source": [
    "- Using sklearn.metrics, compute the confusion matrix"
   ]
  },
  {
   "cell_type": "code",
   "execution_count": 80,
   "metadata": {},
   "outputs": [
    {
     "name": "stdout",
     "output_type": "stream",
     "text": [
      "[[36  5]\n",
      " [ 5 51]]\n",
      "36 51\n"
     ]
    }
   ],
   "source": [
    "import sklearn.metrics as metrics\n",
    "#from sklearn.metrics import confusion_matrix\n",
    "cm=metrics.confusion_matrix(y_true=ytrain, y_pred=predict(W.reshape(3,1),Xtrain).T)\n",
    "tp,fp,fn,tn=cm.ravel()\n",
    "print(cm)\n",
    "print(tp,tn)"
   ]
  },
  {
   "cell_type": "code",
   "execution_count": 81,
   "metadata": {},
   "outputs": [
    {
     "name": "stdout",
     "output_type": "stream",
     "text": [
      "[[18  0]\n",
      " [ 0 15]]\n"
     ]
    }
   ],
   "source": [
    "cm_test=metrics.confusion_matrix(y_true=ytest, y_pred=predict(W.reshape(3,1),Xtest).T)\n",
    "print(cm_test)"
   ]
  },
  {
   "cell_type": "markdown",
   "metadata": {},
   "source": [
    "- Compute all performance metrics that has been defined during the lecture"
   ]
  },
  {
   "cell_type": "code",
   "execution_count": 82,
   "metadata": {},
   "outputs": [],
   "source": [
    "mdl_acc=tp+tn/(cm.sum())\n",
    "mdl_npv=tn/(fn+tn)\n",
    "mdl_spc=tn/(fp+tn)\n",
    "mdl_tpr=tp/(tp+fn)\n",
    "mdl_fpr=fp/(fp+tn)\n",
    "mdl_ppv=tp/(tp+fp)\n",
    "mdl_fdr=fp/(tp+fp)\n"
   ]
  },
  {
   "cell_type": "markdown",
   "metadata": {},
   "source": [
    "- Plot the ROC curve of your classifier"
   ]
  },
  {
   "cell_type": "code",
   "execution_count": null,
   "metadata": {},
   "outputs": [],
   "source": []
  },
  {
   "cell_type": "markdown",
   "metadata": {},
   "source": [
    "- Plot the Precision-Recall curve of your classifier"
   ]
  },
  {
   "cell_type": "code",
   "execution_count": null,
   "metadata": {},
   "outputs": [],
   "source": []
  },
  {
   "cell_type": "markdown",
   "metadata": {},
   "source": [
    "- How can we obtain a quadratic boundary? check it and plot the boundary?"
   ]
  },
  {
   "cell_type": "code",
   "execution_count": 84,
   "metadata": {
    "scrolled": false
   },
   "outputs": [
    {
     "name": "stdout",
     "output_type": "stream",
     "text": [
      "(array([17.55821902,  0.82293573,  5.77615856, -0.09586725, -0.98662972,\n",
      "        0.87764407]), 100, 3)\n"
     ]
    },
    {
     "name": "stderr",
     "output_type": "stream",
     "text": [
      "  NIT   NF   F                       GTG\n",
      "    0    1  6.931471805599453E-01   1.72296477E+01\n",
      "    1    7  2.353876217032878E-01   4.34135585E+00\n",
      "    2   14  2.230567752949062E-01   5.33200687E-02\n",
      "    3   17  2.230398936332336E-01   5.82220603E-04\n",
      "tnc: fscale = 41.4435\n",
      "    4   21  2.226669370088777E-01   5.31854067E-04\n",
      "    5   25  2.226491134404821E-01   6.69334399E-04\n",
      "    6   29  2.225529703050025E-01   1.13636774E-03\n",
      "    7   33  2.225502682066402E-01   6.53174350E-06\n",
      "    8   37  2.225437737950752E-01   1.01103856E-04\n",
      "    9   41  2.225408921505445E-01   4.81518820E-05\n",
      "   10   45  2.224757568835538E-01   9.35448641E-06\n",
      "   11   49  2.224296968737273E-01   3.11314735E-05\n",
      "   12   52  2.224295103357045E-01   3.50221934E-05\n",
      "   13   56  2.224235714202276E-01   4.97768823E-05\n",
      "   14   60  2.223549398718132E-01   5.78161372E-04\n",
      "tnc: stepmx = 1000\n",
      "   15   64  2.213995345111968E-01   2.87356414E-02\n",
      "   16   67  2.212738260514840E-01   4.14458588E-04\n",
      "   17   71  2.206933464628615E-01   1.65711172E-02\n",
      "   18   74  2.206596791272457E-01   2.03259411E-03\n",
      "   19   78  2.205556232471247E-01   1.26599167E-04\n",
      "   20   82  2.205109842250350E-01   6.93526474E-06\n",
      "   21   85  2.205103239466644E-01   1.64374586E-07\n",
      "tnc: fscale = 2466.51\n",
      "   22   89  2.205050621066734E-01   6.15612304E-08\n",
      "   23   93  2.204568126078691E-01   1.87736275E-03\n",
      "tnc: fscale = 23.0795\n",
      "   24   97  2.204099675923137E-01   7.40870358E-04\n",
      "   25  100  2.204095951224572E-01   3.46870189E-05\n",
      "   25  100  2.204095951224572E-01   3.46870189E-05\n",
      "tnc: Maximum number of function evaluations reached\n"
     ]
    },
    {
     "data": {
      "image/png": "[encoded data removed]",
      "text/plain": [
       "<Figure size 432x288 with 1 Axes>"
      ]
     },
     "metadata": {
      "needs_background": "light"
     },
     "output_type": "display_data"
    }
   ],
   "source": [
    "from sklearn.preprocessing import PolynomialFeatures\n",
    "\n",
    "def transform(x):\n",
    "    #return PolynomialFeatures(2).fit_transform(x)\n",
    "    a=x[:,0]\n",
    "    b=x[:,1]\n",
    "    return np.stack((a,b,a**2,a*b,b**2),axis=0).T\n",
    "    #return np.vstack((...))\n",
    "    \n",
    "W = train(transform(Xtrain), ytrain)\n",
    "print(W)\n",
    "\n",
    "plot_points(Xtrain, ytrain)\n",
    "plot_boundary(Xtrain, lambda x: predict(W[0], transform(x)))\n"
   ]
  },
  {
   "cell_type": "code",
   "execution_count": 85,
   "metadata": {},
   "outputs": [
    {
     "data": {
      "text/plain": [
       "array([[ 13.5   ,   2.61  , 182.25  ,  35.235 ,   6.8121],\n",
       "       [ 12.37  ,   1.92  , 153.0169,  23.7504,   3.6864],\n",
       "       [ 11.41  ,   2.5   , 130.1881,  28.525 ,   6.25  ],\n",
       "       [ 12.08  ,   2.3   , 145.9264,  27.784 ,   5.29  ],\n",
       "       [ 13.63  ,   2.7   , 185.7769,  36.801 ,   7.29  ],\n",
       "       [ 11.84  ,   2.23  , 140.1856,  26.4032,   4.9729],\n",
       "       [ 13.71  ,   2.36  , 187.9641,  32.3556,   5.5696],\n",
       "       [ 13.05  ,   2.1   , 170.3025,  27.405 ,   4.41  ],\n",
       "       [ 12.37  ,   2.56  , 153.0169,  31.6672,   6.5536],\n",
       "       [ 11.81  ,   2.74  , 139.4761,  32.3594,   7.5076],\n",
       "       [ 13.73  ,   2.7   , 188.5129,  37.071 ,   7.29  ],\n",
       "       [ 13.67  ,   1.92  , 186.8689,  26.2464,   3.6864],\n",
       "       [ 11.87  ,   2.39  , 140.8969,  28.3693,   5.7121],\n",
       "       [ 13.86  ,   2.27  , 192.0996,  31.4622,   5.1529],\n",
       "       [ 13.76  ,   2.7   , 189.3376,  37.152 ,   7.29  ],\n",
       "       [ 13.11  ,   1.7   , 171.8721,  22.287 ,   2.89  ],\n",
       "       [ 13.05  ,   3.22  , 170.3025,  42.021 ,  10.3684],\n",
       "       [ 12.42  ,   2.19  , 154.2564,  27.1998,   4.7961],\n",
       "       [ 13.87  ,   2.8   , 192.3769,  38.836 ,   7.84  ],\n",
       "       [ 12.37  ,   2.1   , 153.0169,  25.977 ,   4.41  ],\n",
       "       [ 12.37  ,   2.3   , 153.0169,  28.451 ,   5.29  ],\n",
       "       [ 13.77  ,   2.68  , 189.6129,  36.9036,   7.1824],\n",
       "       [ 14.2   ,   2.45  , 201.64  ,  34.79  ,   6.0025],\n",
       "       [ 13.34  ,   2.36  , 177.9556,  31.4824,   5.5696],\n",
       "       [ 12.99  ,   2.6   , 168.7401,  33.774 ,   6.76  ],\n",
       "       [ 14.22  ,   2.51  , 202.2084,  35.6922,   6.3001],\n",
       "       [ 13.94  ,   2.27  , 194.3236,  31.6438,   5.1529],\n",
       "       [ 13.48  ,   2.41  , 181.7104,  32.4868,   5.8081],\n",
       "       [ 14.3   ,   2.72  , 204.49  ,  38.896 ,   7.3984],\n",
       "       [ 12.07  ,   2.17  , 145.6849,  26.1919,   4.7089],\n",
       "       [ 13.51  ,   2.65  , 182.5201,  35.8015,   7.0225],\n",
       "       [ 12.67  ,   2.24  , 160.5289,  28.3808,   5.0176],\n",
       "       [ 14.06  ,   2.61  , 197.6836,  36.6966,   6.8121],\n",
       "       [ 13.24  ,   2.29  , 175.2976,  30.3196,   5.2441],\n",
       "       [ 13.03  ,   1.71  , 169.7809,  22.2813,   2.9241],\n",
       "       [ 12.51  ,   1.98  , 156.5001,  24.7698,   3.9204],\n",
       "       [ 11.46  ,   1.82  , 131.3316,  20.8572,   3.3124],\n",
       "       [ 14.83  ,   2.17  , 219.9289,  32.1811,   4.7089],\n",
       "       [ 14.75  ,   2.39  , 217.5625,  35.2525,   5.7121],\n",
       "       [ 11.62  ,   2.28  , 135.0244,  26.4936,   5.1984],\n",
       "       [ 14.37  ,   2.5   , 206.4969,  35.925 ,   6.25  ],\n",
       "       [ 13.83  ,   2.62  , 191.2689,  36.2346,   6.8644],\n",
       "       [ 13.07  ,   2.1   , 170.8249,  27.447 ,   4.41  ],\n",
       "       [ 13.49  ,   2.24  , 181.9801,  30.2176,   5.0176],\n",
       "       [ 12.6   ,   1.9   , 158.76  ,  23.94  ,   3.61  ],\n",
       "       [ 14.39  ,   2.45  , 207.0721,  35.2555,   6.0025],\n",
       "       [ 13.05  ,   2.32  , 170.3025,  30.276 ,   5.3824],\n",
       "       [ 11.76  ,   2.92  , 138.2976,  34.3392,   8.5264],\n",
       "       [ 12.08  ,   2.5   , 145.9264,  30.2   ,   6.25  ],\n",
       "       [ 13.74  ,   2.25  , 188.7876,  30.915 ,   5.0625],\n",
       "       [ 13.05  ,   2.04  , 170.3025,  26.622 ,   4.1616],\n",
       "       [ 12.    ,   2.    , 144.    ,  24.    ,   4.    ],\n",
       "       [ 14.38  ,   2.28  , 206.7844,  32.7864,   5.1984],\n",
       "       [ 12.22  ,   1.94  , 149.3284,  23.7068,   3.7636],\n",
       "       [ 12.64  ,   2.02  , 159.7696,  25.5328,   4.0804],\n",
       "       [ 11.79  ,   2.78  , 139.0041,  32.7762,   7.7284],\n",
       "       [ 12.7   ,   2.4   , 161.29  ,  30.48  ,   5.76  ],\n",
       "       [ 12.42  ,   2.73  , 154.2564,  33.9066,   7.4529],\n",
       "       [ 12.    ,   2.42  , 144.    ,  29.04  ,   5.8564],\n",
       "       [ 13.41  ,   2.12  , 179.8281,  28.4292,   4.4944],\n",
       "       [ 13.72  ,   2.5   , 188.2384,  34.3   ,   6.25  ],\n",
       "       [ 12.08  ,   2.32  , 145.9264,  28.0256,   5.3824],\n",
       "       [ 14.1   ,   2.4   , 198.81  ,  33.84  ,   5.76  ],\n",
       "       [ 11.64  ,   2.46  , 135.4896,  28.6344,   6.0516],\n",
       "       [ 12.52  ,   2.17  , 156.7504,  27.1684,   4.7089],\n",
       "       [ 13.29  ,   2.68  , 176.6241,  35.6172,   7.1824],\n",
       "       [ 11.66  ,   1.92  , 135.9556,  22.3872,   3.6864],\n",
       "       [ 13.68  ,   2.36  , 187.1424,  32.2848,   5.5696],\n",
       "       [ 13.05  ,   2.13  , 170.3025,  27.7965,   4.5369],\n",
       "       [ 12.37  ,   1.36  , 153.0169,  16.8232,   1.8496],\n",
       "       [ 12.37  ,   2.16  , 153.0169,  26.7192,   4.6656],\n",
       "       [ 11.61  ,   2.7   , 134.7921,  31.347 ,   7.29  ],\n",
       "       [ 13.05  ,   2.55  , 170.3025,  33.2775,   6.5025],\n",
       "       [ 14.02  ,   2.21  , 196.5604,  30.9842,   4.8841],\n",
       "       [ 12.72  ,   2.28  , 161.7984,  29.0016,   5.1984],\n",
       "       [ 11.82  ,   1.99  , 139.7124,  23.5218,   3.9601],\n",
       "       [ 13.2   ,   2.14  , 174.24  ,  28.248 ,   4.5796],\n",
       "       [ 13.82  ,   2.42  , 190.9924,  33.4444,   5.8564],\n",
       "       [ 12.93  ,   2.65  , 167.1849,  34.2645,   7.0225],\n",
       "       [ 13.16  ,   2.67  , 173.1856,  35.1372,   7.1289],\n",
       "       [ 12.85  ,   2.52  , 165.1225,  32.382 ,   6.3504],\n",
       "       [ 11.82  ,   1.88  , 139.7124,  22.2216,   3.5344],\n",
       "       [ 12.29  ,   2.21  , 151.0441,  27.1609,   4.8841],\n",
       "       [ 11.65  ,   2.62  , 135.7225,  30.523 ,   6.8644],\n",
       "       [ 12.77  ,   1.98  , 163.0729,  25.2846,   3.9204],\n",
       "       [ 11.96  ,   2.3   , 143.0416,  27.508 ,   5.29  ],\n",
       "       [ 12.16  ,   2.31  , 147.8656,  28.0896,   5.3361],\n",
       "       [ 12.08  ,   2.51  , 145.9264,  30.3208,   6.3001],\n",
       "       [ 11.56  ,   3.23  , 133.6336,  37.3388,  10.4329],\n",
       "       [ 12.04  ,   2.38  , 144.9616,  28.6552,   5.6644],\n",
       "       [ 14.06  ,   2.28  , 197.6836,  32.0568,   5.1984],\n",
       "       [ 12.33  ,   2.28  , 152.0289,  28.1124,   5.1984],\n",
       "       [ 13.86  ,   2.67  , 192.0996,  37.0062,   7.1289],\n",
       "       [ 12.25  ,   2.12  , 150.0625,  25.97  ,   4.4944],\n",
       "       [ 14.38  ,   2.38  , 206.7844,  34.2244,   5.6644],\n",
       "       [ 12.69  ,   2.26  , 161.0361,  28.6794,   5.1076],\n",
       "       [ 12.34  ,   2.46  , 152.2756,  30.3564,   6.0516]])"
      ]
     },
     "execution_count": 85,
     "metadata": {},
     "output_type": "execute_result"
    }
   ],
   "source": [
    "transform(Xtrain)"
   ]
  },
  {
   "cell_type": "markdown",
   "metadata": {},
   "source": [
    "- Compute all performance metrics of this new classifier"
   ]
  },
  {
   "cell_type": "code",
   "execution_count": 61,
   "metadata": {},
   "outputs": [
    {
     "name": "stdout",
     "output_type": "stream",
     "text": [
      "[[36  5]\n",
      " [ 5 51]]\n",
      "[[18  0]\n",
      " [ 0 15]]\n"
     ]
    }
   ],
   "source": [
    "cm=metrics.confusion_matrix(y_true=ytrain, y_pred=predict(W[0],transform(Xtrain)).T)\n",
    "print(cm)\n",
    "cm_test=metrics.confusion_matrix(y_true=ytest, y_pred=predict(W[0],transform(Xtest)).T)\n",
    "print(cm_test)"
   ]
  },
  {
   "cell_type": "markdown",
   "metadata": {},
   "source": [
    "# Multinomial Logistic Regression\n",
    "\n",
    "The next step is something more interesting: we use a similar set of two features from the data set (this time alcohol and flavanoids), but with all three labels instead of two."
   ]
  },
  {
   "cell_type": "code",
   "execution_count": 62,
   "metadata": {},
   "outputs": [
    {
     "data": {
      "image/png": "[encoded data removed]",
      "text/plain": [
       "<Figure size 432x288 with 1 Axes>"
      ]
     },
     "metadata": {
      "needs_background": "light"
     },
     "output_type": "display_data"
    }
   ],
   "source": [
    "X = data[['alcohol', 'flavanoids']].to_numpy()\n",
    "y = data[['class']].to_numpy()\n",
    "Xtrain, Xtest, ytrain, ytest = train_test_split(X, y, test_size = 0.25, random_state = 42)\n",
    "ytrain = label_binarize(ytrain, classes = [1, 2, 3])\n",
    "plot_points(Xtrain, ytrain.argmax(axis=1))"
   ]
  },
  {
   "cell_type": "code",
   "execution_count": 63,
   "metadata": {
    "scrolled": false
   },
   "outputs": [],
   "source": [
    "#print(Xtrain.shape)\n",
    "#print(ytrain.shape)\n",
    "#k=0\n",
    "#x=Xtrain\n",
    "#y=ytrain\n",
    "#x=np.insert(x, 0, np.ones(len(x)), axis=1)\n",
    "#print(x)\n",
    "#W=np.zeros((x.shape[1], y.shape[1]))\n",
    "#print(W[0].shape)\n",
    "#sft=np.exp(W[k].T@x)/np.stack(w.T@x,axis=1)\n",
    "#print(np.exp(W.T@x.T)/[np.exp(W[k].T@x.T) for k in range(len(W))])\n",
    "\n",
    "\n",
    "\n"
   ]
  },
  {
   "cell_type": "markdown",
   "metadata": {},
   "source": [
    "The plotted data points again suggest some obvious linear boundaries between the three classes.\n",
    "\n",
    "We can solve this problem as three one-vs-all problems, and re-use all the previous code. In this part, we will try another solution inspired from softmax function known as softmax regression (See C.Bishop, \"Pattern Recognition and Machine Learning\", 2006, Springer).\n",
    "\n",
    "$$\n",
    "SoftMax_\\Theta(x, k) = \\frac{e^{\\theta_k^Tx}}{\\sum\\limits_{c=1}^K e^{\\theta_c^Tx}}\n",
    "$$\n",
    "\n",
    "The cost function is defined as follows:\n",
    "\n",
    "$$\n",
    "J(\\Theta) =-\\frac{1}{N}\\sum_{i=1}^{N}\\sum_{k=1}^3\\left[y_k^{i}\\log\\left(SoftMax_\\Theta\\left(x^{i}, k\\right)\\right)\\right]\n",
    "$$\n",
    "\n",
    "- Propose a solution using the SoftMax function and test it with linear and quadratic separator? "
   ]
  },
  {
   "cell_type": "code",
   "execution_count": 64,
   "metadata": {
    "scrolled": false
   },
   "outputs": [
    {
     "name": "stdout",
     "output_type": "stream",
     "text": [
      "[[-0.3691271   0.48652491 -0.11739912]\n",
      " [ 0.02502271 -0.03859942  0.01357532]\n",
      " [ 0.02191181  0.00978501 -0.03170049]]\n",
      "[-1.31098010e-06 -1.38721397e-06 -3.67187512e-06]\n"
     ]
    },
    {
     "name": "stderr",
     "output_type": "stream",
     "text": [
      "  NIT   NF   F                       GTG\n",
      "    0    1  1.461154343928586E+02   2.33748939E+04\n",
      "tnc: fscale = 0.00654071\n",
      "    1   40  1.460916399882489E+02   2.20604256E+04\n",
      "tnc: |fn-fn-1] = 3.39481e-14 -> convergence\n",
      "    2   93  1.460916399882489E+02   2.20604256E+04\n",
      "tnc: Converged (|f_n-f_(n-1)| ~= 0)\n",
      "  NIT   NF   F                       GTG\n",
      "    0    1  1.461154343928586E+02   2.33748939E+04\n",
      "tnc: fscale = 0.00654071\n",
      "    1   40  1.460916399882489E+02   2.20604256E+04\n",
      "tnc: |fn-fn-1] = 3.39481e-14 -> convergence\n",
      "    2   93  1.460916399882489E+02   2.20604256E+04\n",
      "tnc: Converged (|f_n-f_(n-1)| ~= 0)\n"
     ]
    }
   ],
   "source": [
    "def softmax(w, x):\n",
    "    return np.exp(w.T@x)/np.sum(np.exp(w.T@x),axis=0)\n",
    "\n",
    "def cost(w, x, y):\n",
    "    w=w.reshape(x.shape[1],len(w)//x.shape[1])\n",
    "    return (-1/len(x))*np.sum(y@np.log(softmax(w,x.T)))\n",
    "\n",
    "def grad(w, x, y):\n",
    "    w=w.reshape(x.shape[1],len(w)//x.shape[1])\n",
    "    return (-1)*x.T@(y-softmax(w,x.T).T)\n",
    "\n",
    "def train(X, y):\n",
    "    X = np.insert(X, 0, np.ones(len(X)), axis=1)\n",
    "    theta = np.zeros((X.shape[1], y.shape[1]))\n",
    "    result = fmin_tnc(func=cost,x0=theta,fprime=grad,args=[X,y])\n",
    "    \n",
    "    return result[0].reshape((X.shape[1], -1))\n",
    "\n",
    "W1 = train(Xtrain,ytrain)\n",
    "print(W1)\n",
    "print(np.sum(W1,axis=1))\n",
    "\n",
    "W2 = train(Xtrain,ytrain)[[2,1,0]]\n",
    "#print(W2)"
   ]
  },
  {
   "cell_type": "code",
   "execution_count": 65,
   "metadata": {},
   "outputs": [
    {
     "name": "stdout",
     "output_type": "stream",
     "text": [
      "[[0.30387108 0.35565292 0.34047601]\n",
      " [0.30403308 0.35538776 0.34057915]\n",
      " [0.30419508 0.35512269 0.34068223]\n",
      " ...\n",
      " [0.37334156 0.31989995 0.30675849]\n",
      " [0.37352063 0.31964435 0.30683502]\n",
      " [0.37369967 0.31938886 0.30691147]]\n"
     ]
    },
    {
     "data": {
      "image/png": "[encoded data removed]",
      "text/plain": [
       "<Figure size 432x288 with 1 Axes>"
      ]
     },
     "metadata": {
      "needs_background": "light"
     },
     "output_type": "display_data"
    }
   ],
   "source": [
    "def predict_multi(x, w):\n",
    "    x = np.insert(x, 0, np.ones(len(x)), axis=1)\n",
    "    P=softmax(w,x.T)\n",
    "    print(P.T)\n",
    "    return np.argmax(P,axis=0)\n",
    "\n",
    "plot_points(Xtrain, ytrain.argmax(axis=1))\n",
    "plot_boundary(Xtrain, lambda x: predict_multi(x, W1))"
   ]
  },
  {
   "cell_type": "code",
   "execution_count": 66,
   "metadata": {
    "scrolled": false
   },
   "outputs": [
    {
     "name": "stderr",
     "output_type": "stream",
     "text": [
      "  NIT   NF   F                       GTG\n",
      "    0    1  1.461154343928586E+02   3.84292144E+06\n",
      "tnc: fscale = 0.000510116\n",
      "    1   37  1.461077712755482E+02   3.61103959E+06\n",
      "tnc: |fn-fn-1] = 0 -> convergence\n",
      "    2   88  1.461077712755482E+02   3.61103959E+06\n",
      "tnc: Converged (|f_n-f_(n-1)| ~= 0)\n"
     ]
    },
    {
     "name": "stdout",
     "output_type": "stream",
     "text": [
      "[[0.30686453 0.34379585 0.34933962]\n",
      " [0.30692094 0.34360023 0.34947884]\n",
      " [0.30697767 0.34340388 0.34961845]\n",
      " ...\n",
      " [0.36518227 0.29336194 0.34145579]\n",
      " [0.36545908 0.29316732 0.3413736 ]\n",
      " [0.36573635 0.29297201 0.34129164]]\n"
     ]
    },
    {
     "data": {
      "image/png": "[encoded data removed]",
      "text/plain": [
       "<Figure size 432x288 with 1 Axes>"
      ]
     },
     "metadata": {
      "needs_background": "light"
     },
     "output_type": "display_data"
    }
   ],
   "source": [
    "Wquad=train(transform(Xtrain),ytrain)\n",
    "plot_points(Xtrain, ytrain.argmax(axis=1))\n",
    "#print(Wquad)\n",
    "plot_boundary(Xtrain, lambda x: predict_multi(transform(x),Wquad))\n",
    "#plot_boundary(Xtrain, lambda x: predict_multi(x, W2))"
   ]
  },
  {
   "cell_type": "markdown",
   "metadata": {},
   "source": [
    "- Compute the accuracy, the precision and the recall of these classifiers"
   ]
  },
  {
   "cell_type": "code",
   "execution_count": null,
   "metadata": {},
   "outputs": [],
   "source": []
  },
  {
   "cell_type": "markdown",
   "metadata": {},
   "source": [
    "- Conclude?"
   ]
  },
  {
   "cell_type": "code",
   "execution_count": null,
   "metadata": {},
   "outputs": [],
   "source": []
  },
  {
   "cell_type": "markdown",
   "metadata": {},
   "source": [
    "# Regularization\n",
    "\n",
    "Next, we want to include all the features from the data set."
   ]
  },
  {
   "cell_type": "code",
   "execution_count": 67,
   "metadata": {},
   "outputs": [
    {
     "name": "stderr",
     "output_type": "stream",
     "text": [
      "/var/folders/kq/4phtjsxn40794zp8lvjfsccw0000gn/T/ipykernel_15520/3613769551.py:1: FutureWarning: In a future version of pandas all arguments of DataFrame.drop except for the argument 'labels' will be keyword-only.\n",
      "  X = data.drop('class', 1).as_matrix()\n"
     ]
    },
    {
     "ename": "AttributeError",
     "evalue": "'DataFrame' object has no attribute 'as_matrix'",
     "output_type": "error",
     "traceback": [
      "\u001b[0;31m---------------------------------------------------------------------------\u001b[0m",
      "\u001b[0;31mAttributeError\u001b[0m                            Traceback (most recent call last)",
      "Input \u001b[0;32mIn [67]\u001b[0m, in \u001b[0;36m<cell line: 1>\u001b[0;34m()\u001b[0m\n\u001b[0;32m----> 1\u001b[0m X \u001b[38;5;241m=\u001b[39m \u001b[43mdata\u001b[49m\u001b[38;5;241;43m.\u001b[39;49m\u001b[43mdrop\u001b[49m\u001b[43m(\u001b[49m\u001b[38;5;124;43m'\u001b[39;49m\u001b[38;5;124;43mclass\u001b[39;49m\u001b[38;5;124;43m'\u001b[39;49m\u001b[43m,\u001b[49m\u001b[43m \u001b[49m\u001b[38;5;241;43m1\u001b[39;49m\u001b[43m)\u001b[49m\u001b[38;5;241;43m.\u001b[39;49m\u001b[43mas_matrix\u001b[49m()\n\u001b[1;32m      2\u001b[0m y \u001b[38;5;241m=\u001b[39m data\u001b[38;5;241m.\u001b[39mas_matrix(columns\u001b[38;5;241m=\u001b[39m[\u001b[38;5;124m'\u001b[39m\u001b[38;5;124mclass\u001b[39m\u001b[38;5;124m'\u001b[39m])\n\u001b[1;32m      3\u001b[0m Xtrain, Xtest, ytrain, ytest \u001b[38;5;241m=\u001b[39m train_test_split(X, y, test_size \u001b[38;5;241m=\u001b[39m \u001b[38;5;241m0.25\u001b[39m, random_state \u001b[38;5;241m=\u001b[39m \u001b[38;5;241m42\u001b[39m)\n",
      "File \u001b[0;32m~/opt/anaconda3/lib/python3.9/site-packages/pandas/core/generic.py:5583\u001b[0m, in \u001b[0;36mNDFrame.__getattr__\u001b[0;34m(self, name)\u001b[0m\n\u001b[1;32m   5576\u001b[0m \u001b[38;5;28;01mif\u001b[39;00m (\n\u001b[1;32m   5577\u001b[0m     name \u001b[38;5;129;01mnot\u001b[39;00m \u001b[38;5;129;01min\u001b[39;00m \u001b[38;5;28mself\u001b[39m\u001b[38;5;241m.\u001b[39m_internal_names_set\n\u001b[1;32m   5578\u001b[0m     \u001b[38;5;129;01mand\u001b[39;00m name \u001b[38;5;129;01mnot\u001b[39;00m \u001b[38;5;129;01min\u001b[39;00m \u001b[38;5;28mself\u001b[39m\u001b[38;5;241m.\u001b[39m_metadata\n\u001b[1;32m   5579\u001b[0m     \u001b[38;5;129;01mand\u001b[39;00m name \u001b[38;5;129;01mnot\u001b[39;00m \u001b[38;5;129;01min\u001b[39;00m \u001b[38;5;28mself\u001b[39m\u001b[38;5;241m.\u001b[39m_accessors\n\u001b[1;32m   5580\u001b[0m     \u001b[38;5;129;01mand\u001b[39;00m \u001b[38;5;28mself\u001b[39m\u001b[38;5;241m.\u001b[39m_info_axis\u001b[38;5;241m.\u001b[39m_can_hold_identifiers_and_holds_name(name)\n\u001b[1;32m   5581\u001b[0m ):\n\u001b[1;32m   5582\u001b[0m     \u001b[38;5;28;01mreturn\u001b[39;00m \u001b[38;5;28mself\u001b[39m[name]\n\u001b[0;32m-> 5583\u001b[0m \u001b[38;5;28;01mreturn\u001b[39;00m \u001b[38;5;28;43mobject\u001b[39;49m\u001b[38;5;241;43m.\u001b[39;49m\u001b[38;5;21;43m__getattribute__\u001b[39;49m\u001b[43m(\u001b[49m\u001b[38;5;28;43mself\u001b[39;49m\u001b[43m,\u001b[49m\u001b[43m \u001b[49m\u001b[43mname\u001b[49m\u001b[43m)\u001b[49m\n",
      "\u001b[0;31mAttributeError\u001b[0m: 'DataFrame' object has no attribute 'as_matrix'"
     ]
    }
   ],
   "source": [
    "X = data.drop('class', 1).as_matrix()\n",
    "y = data.as_matrix(columns=['class'])\n",
    "Xtrain, Xtest, ytrain, ytest = train_test_split(X, y, test_size = 0.25, random_state = 42)\n",
    "ytrain = label_binarize(ytrain, classes = [1, 2, 3])"
   ]
  },
  {
   "cell_type": "markdown",
   "metadata": {},
   "source": [
    "Because we are now significantly increasing the number of features, we apply regularisation  as part of new cost and gradient functions.  As we have seen with linear regression, regularization prevents overfitting, a situation where a large number of features allows the classifier to fit the training set *too* exactly, meaning that it fails to generalize well and perform accurately on data it hasn't yet seen.\n",
    "\n",
    "To avoid this problem, we add an additional term to the cost function\n",
    "\n",
    "$$\n",
    "J(\\Theta) =-\\frac{1}{N}\\sum_{i=1}^{N}\\sum_{k=1}^3\\left[y_k^{i}\\log\\left(SoftMax_\\Theta\\left(x^{i}, k\\right)\\right)\\right] + \\frac{\\lambda}{2}\\left(\\left\\|\\theta_1\\right\\|_2^2+\\left\\|\\theta_2\\right\\|_2^2+\\left\\|\\theta_3\\right\\|_2^2\\right)\n",
    "$$\n",
    "\n",
    "- Compute the partiel derivatives of $J(\\theta)$ and define the update formula of the gradient descent algorithm?"
   ]
  },
  {
   "cell_type": "markdown",
   "metadata": {},
   "source": [
    "LaTeX:𝛼2\n",
    "\n",
    "$$ \\nabla J(\\Theta)=\\frac{\\sigma J}{\\sigma \\Theta 1}\n",
    "$$\n"
   ]
  },
  {
   "cell_type": "markdown",
   "metadata": {},
   "source": []
  },
  {
   "cell_type": "markdown",
   "metadata": {},
   "source": [
    "- Write a function that minimize $J(\\theta)$ and test it on the WINE dataset?"
   ]
  },
  {
   "cell_type": "code",
   "execution_count": null,
   "metadata": {},
   "outputs": [],
   "source": []
  },
  {
   "cell_type": "markdown",
   "metadata": {},
   "source": [
    "- Compare with non regularized version?"
   ]
  },
  {
   "cell_type": "code",
   "execution_count": null,
   "metadata": {},
   "outputs": [],
   "source": []
  },
  {
   "cell_type": "markdown",
   "metadata": {},
   "source": [
    "- Conclude?"
   ]
  },
  {
   "cell_type": "code",
   "execution_count": null,
   "metadata": {},
   "outputs": [],
   "source": []
  },
  {
   "cell_type": "code",
   "execution_count": null,
   "metadata": {},
   "outputs": [],
   "source": []
  }
 ],
 "metadata": {
  "kernelspec": {
   "display_name": "Python 3 (ipykernel)",
   "language": "python",
   "name": "python3"
  },
  "language_info": {
   "codemirror_mode": {
    "name": "ipython",
    "version": 3
   },
   "file_extension": ".py",
   "mimetype": "text/x-python",
   "name": "python",
   "nbconvert_exporter": "python",
   "pygments_lexer": "ipython3",
   "version": "3.9.7"
  }
 },
 "nbformat": 4,
 "nbformat_minor": 2
}
