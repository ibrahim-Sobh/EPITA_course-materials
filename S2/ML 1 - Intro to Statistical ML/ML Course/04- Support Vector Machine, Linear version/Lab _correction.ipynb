{
 "cells": [
  {
   "cell_type": "markdown",
   "metadata": {},
   "source": [
    "# <center> Support Vector Machine<br> <small>Réda DEHAK<br> 14 January 2020</small> </center>\n",
    "\n",
    "The goal of this lab is :\n",
    "    - Test SVM Methods on classification problems\n",
    "    \n",
    "We will use the [Wine dataset](https://archive.ics.uci.edu/ml/datasets/Wine) from UCI. These data are the results of a chemical analysis of wines grown in the same region in Italy but derived from three different cultivars. The analysis determined the quantities of thirteen constituents found in each of the three types of wines."
   ]
  },
  {
   "cell_type": "markdown",
   "metadata": {},
   "source": [
    "# Part 1: Own implementation of SVM class\n",
    "\n",
    "We will try first to implement our own SVM class to perform an SVM classifier using the <A href=https://cvxopt.org/userguide/coneprog.html#quadratic-programming> cvxopt.solvers.qp </A> solver \n",
    "\n",
    "1- Try first to implement myOwnHardSVM"
   ]
  },
  {
   "cell_type": "markdown",
   "metadata": {},
   "source": [
    "- SVM training consists of solving the double problem defined by:\n",
    "\\begin{eqnarray}\n",
    "\\mbox{Maximize:} & Q(\\alpha) = \\sum_i \\alpha_i - \\frac{1}{2} \\sum_i\\sum_j \\alpha_i \\alpha_j y_i y_j G[i,j] \\\\\n",
    "\\mbox{Subject to:} & \\sum_i \\alpha_i y_i =0\\\\\n",
    "& \\alpha_i \\ge 0\n",
    "\\end{eqnarray}\n",
    "\n",
    "Where $G$ represents the Gram Matrix and is defined by:\n",
    "$$G[i, j]= \\left< x_i, x_j\\right>$$"
   ]
  },
  {
   "cell_type": "code",
   "execution_count": 3,
   "metadata": {},
   "outputs": [],
   "source": [
    "import numpy as np"
   ]
  },
  {
   "cell_type": "code",
   "execution_count": 4,
   "metadata": {},
   "outputs": [],
   "source": [
    "from cvxopt.solvers import qp\n",
    "from cvxopt import matrix\n",
    "\n",
    "EPS = 1e-5\n",
    "\n",
    "class myOwnHardSVM:\n",
    "    SV =None\n",
    "    indSV=None\n",
    "    alphas=None\n",
    "    labelsSV=None\n",
    "    b= None\n",
    "    W=None\n",
    "        \n",
    "    def init(self):\n",
    "        self.SV =None\n",
    "        self.indSV=None\n",
    "        self.alphas=None\n",
    "        self.labelsSV=None\n",
    "        self.b= None\n",
    "        self.W=None\n",
    "        \n",
    "        \n",
    "    def computegram(self, data):\n",
    "        return data @ data.T\n",
    "    \n",
    "    def fit(self, DataTrain, labels):\n",
    "        N = len(DataTrain)\n",
    "        labels = np.atleast_2d(labels).T\n",
    "        # labels should be a column vector\n",
    "        Gram = self.computegram(DataTrain)\n",
    "        P = matrix((labels @ labels.T) * Gram, size = (N, N), tc='d')\n",
    "        q = matrix(-np.ones((N,1)), size = (N, 1), tc = 'd')\n",
    "        G = matrix(-np.eye(N), size = (N, N), tc = 'd')\n",
    "        h = matrix(np.zeros((N, 1)), size = (N, 1), tc = 'd')\n",
    "        A = matrix(labels.T, size = (1, N), tc = 'd')\n",
    "        b = matrix(np.zeros((1,1)), size = (1, 1), tc = 'd')\n",
    "        \n",
    "        res = qp(P, q, G, h, A, b)\n",
    "        \n",
    "        if (res['status'] == 'unknown'):\n",
    "            print('The problem is not linearly separated')\n",
    "            return None\n",
    "        \n",
    "        self.indSV = np.where(np.array(res[\"x\"], dtype = \"double\").reshape(-1) >= EPS)[0]\n",
    "        self.alphas = np.atleast_2d(np.array(res[\"x\"], dtype = \"double\").reshape(-1)[self.indSV]).T\n",
    "        self.SV = DataTrain[self.indSV, :]\n",
    "        self.labelsSV = labels[self.indSV]\n",
    "        self.b = np.mean(self.labelsSV - self.computegram(self.SV) @ (self.alphas * self.labelsSV)) \n",
    "        self.W = ((self.alphas * self.labelsSV).T @ self.SV).T\n",
    "        return res\n",
    "    \n",
    "    def computeGram2(self, data1, data2):\n",
    "        return data1 @ data2.T\n",
    "    \n",
    "    def decision_function(self, data):\n",
    "        #return self.W.T @ data.T + self.b\n",
    "        return self.computeGram2(data, self.SV) @ (self.alphas * self.labelsSV) + self.b \n",
    "\n",
    "    def predict(self, data):\n",
    "        return np.sign(self.decision_function(data))"
   ]
  },
  {
   "cell_type": "markdown",
   "metadata": {},
   "source": [
    "- Test your myOwnHardSVM class on this simple dataset $\\left\\{\\left(1; -1\\right), \\left(2; +1\\right), \\left(3; +1\\right)\\right\\}$. Did you obtain a coherent results"
   ]
  },
  {
   "cell_type": "code",
   "execution_count": 5,
   "metadata": {},
   "outputs": [
    {
     "name": "stdout",
     "output_type": "stream",
     "text": [
      "     pcost       dcost       gap    pres   dres\n",
      " 0: -1.1111e+00 -2.4444e+00  5e+00  2e+00  2e+00\n",
      " 1: -2.0801e+00 -2.0579e+00  1e-01  1e-01  1e-01\n",
      " 2: -2.0000e+00 -2.0008e+00  2e-03  9e-04  9e-04\n",
      " 3: -2.0000e+00 -2.0000e+00  2e-05  9e-06  9e-06\n",
      " 4: -2.0000e+00 -2.0000e+00  2e-07  9e-08  9e-08\n",
      "Optimal solution found.\n"
     ]
    }
   ],
   "source": [
    "data = np.array([[1], [2], [3]])\n",
    "labels = np.array([-1, 1, 1])\n",
    "model = myOwnHardSVM()\n",
    "res = model.fit(data, labels)"
   ]
  },
  {
   "cell_type": "code",
   "execution_count": 6,
   "metadata": {},
   "outputs": [
    {
     "name": "stdout",
     "output_type": "stream",
     "text": [
      "[ 2.00e+00]\n",
      "[ 2.00e+00]\n",
      "[ 2.30e-10]\n",
      "\n"
     ]
    }
   ],
   "source": [
    "print(res[\"x\"])"
   ]
  },
  {
   "cell_type": "code",
   "execution_count": 7,
   "metadata": {},
   "outputs": [
    {
     "name": "stdout",
     "output_type": "stream",
     "text": [
      "[[4.4408921e-16]]\n"
     ]
    }
   ],
   "source": [
    "print(model.decision_function(np.array([[1.5]])))"
   ]
  },
  {
   "cell_type": "markdown",
   "metadata": {},
   "source": [
    "- Generate a tiny 2D linearly separable 2 classes problem and test your myOwnHardSVM. Plot the boundary and check your result. Try to adapt the function plot_boundary to show the margin and the support vector."
   ]
  },
  {
   "cell_type": "code",
   "execution_count": 8,
   "metadata": {},
   "outputs": [],
   "source": [
    "import matplotlib.pyplot as plt\n",
    "from matplotlib import cm\n",
    "from matplotlib.colors import LinearSegmentedColormap\n",
    "\n",
    "%matplotlib inline\n",
    "\n",
    "MARKERS = ['+', 'x', '.']\n",
    "COLORS = ['red', 'green', 'blue']\n",
    "\n",
    "def plot_points(xy, labels):\n",
    "    \n",
    "    for i, label in enumerate(set(labels)):\n",
    "        points = np.array([xy[j,:] for j in range(len(xy)) if labels[j] == label])\n",
    "        marker = MARKERS[i % len(MARKERS)]\n",
    "        color = COLORS[i % len(COLORS)]\n",
    "        plt.scatter(points[:,0], points[:,1], marker=marker, color=color)\n",
    "\n",
    "def plot_boundary(X, pred):\n",
    "    \n",
    "    x_min, x_max = X[:,0].min() - .1, X[:,0].max() + .1\n",
    "    y_min, y_max = X[:,1].min() - .1, X[:,1].max() + .1\n",
    "    \n",
    "    xs, ys = np.meshgrid(\n",
    "        np.linspace(x_min, x_max, 200),\n",
    "        np.linspace(y_min, y_max, 200)\n",
    "    )\n",
    "\n",
    "    xys = np.column_stack([xs.ravel(), ys.ravel()])\n",
    "    zs = pred(xys).reshape(xs.shape)\n",
    "    plt.contour(xs, ys, zs, colors='black', levels=0)\n",
    "    plt.contour(xs, ys, zs, colors='black', levels=[-1, +1], linestyles='dashed')"
   ]
  },
  {
   "cell_type": "code",
   "execution_count": 15,
   "metadata": {},
   "outputs": [
    {
     "name": "stdout",
     "output_type": "stream",
     "text": [
      "     pcost       dcost       gap    pres   dres\n",
      " 0: -2.0056e-01 -3.3468e-01  1e+01  3e+00  1e+00\n",
      " 1:  1.4113e-02 -2.1564e-01  3e-01  2e-02  8e-03\n",
      " 2: -4.5583e-02 -8.4478e-02  4e-02  2e-17  5e-16\n",
      " 3: -5.7885e-02 -6.3538e-02  6e-03  1e-17  3e-16\n",
      " 4: -6.2298e-02 -6.2666e-02  4e-04  4e-18  2e-16\n",
      " 5: -6.2483e-02 -6.2515e-02  3e-05  2e-17  3e-16\n",
      " 6: -6.2498e-02 -6.2502e-02  4e-06  2e-17  3e-16\n",
      " 7: -6.2500e-02 -6.2500e-02  6e-07  1e-17  2e-16\n",
      " 8: -6.2500e-02 -6.2500e-02  9e-08  1e-17  3e-16\n",
      "Optimal solution found.\n",
      "{'x': <7x1 matrix, tc='d'>, 'y': <1x1 matrix, tc='d'>, 's': <7x1 matrix, tc='d'>, 'z': <7x1 matrix, tc='d'>, 'status': 'optimal', 'gap': 8.681411934375104e-08, 'relative gap': 1.3890268867261737e-06, 'primal objective': -0.062499956029191804, 'dual objective': -0.06250004284331113, 'primal infeasibility': 1.3877820894999916e-17, 'dual infeasibility': 3.18758237182693e-16, 'primal slack': 2.258195002175868e-09, 'dual slack': 1.8073777666303468e-08, 'iterations': 8}\n"
     ]
    },
    {
     "data": {
      "image/png": "[encoded data removed]",
      "text/plain": [
       "<Figure size 432x288 with 1 Axes>"
      ]
     },
     "metadata": {
      "needs_background": "light"
     },
     "output_type": "display_data"
    }
   ],
   "source": [
    "x_neg = np.array([[3,4],[1,4],[2,3]])\n",
    "y_neg = np.array([-1,-1,-1])\n",
    "x_pos = np.array([[6,-1],[7,-1],[5,-3],[5,-2]])\n",
    "y_pos = np.array([1,1,1,1])\n",
    "\n",
    "#Data for the next section\n",
    "X = np.vstack((x_pos, x_neg))\n",
    "y = np.concatenate((y_pos,y_neg))\n",
    "\n",
    "#X=np.array([[1,2],[1,3],[1,4],[-1,-2],[-1,-3]])\n",
    "#y=np.array([-1,-1,-1,1,1])\n",
    "\n",
    "model2D = myOwnHardSVM()\n",
    "print(model2D.fit(X, y))\n",
    "plot_boundary(X, lambda x: model2D.decision_function(x))\n",
    "plot_points(X, y)"
   ]
  },
  {
   "cell_type": "markdown",
   "metadata": {},
   "source": [
    "- Try now your myOwnHardSVM with a training dataset which is not linearly separable, what did you remark?"
   ]
  },
  {
   "cell_type": "code",
   "execution_count": 10,
   "metadata": {},
   "outputs": [
    {
     "name": "stdout",
     "output_type": "stream",
     "text": [
      "     pcost       dcost       gap    pres   dres\n",
      " 0: -1.8726e-01 -3.1365e-01  9e+00  3e+00  1e+00\n",
      " 1:  9.8767e-03 -2.0754e-01  3e-01  1e-02  6e-03\n",
      " 2: -4.7038e-02 -7.8751e-02  3e-02  1e-17  4e-16\n",
      " 3: -5.9417e-02 -6.3139e-02  4e-03  1e-17  2e-16\n",
      " 4: -6.2411e-02 -6.2558e-02  1e-04  8e-18  3e-16\n",
      " 5: -6.2494e-02 -6.2505e-02  1e-05  2e-17  4e-16\n",
      " 6: -6.2499e-02 -6.2501e-02  2e-06  3e-17  3e-16\n",
      " 7: -6.2500e-02 -6.2500e-02  2e-07  2e-17  2e-16\n",
      " 8: -6.2500e-02 -6.2500e-02  3e-08  8e-20  2e-16\n",
      "Optimal solution found.\n",
      "{'x': <6x1 matrix, tc='d'>, 'y': <1x1 matrix, tc='d'>, 's': <6x1 matrix, tc='d'>, 'z': <6x1 matrix, tc='d'>, 'status': 'optimal', 'gap': 3.161236332436926e-08, 'relative gap': 5.057979429992711e-07, 'primal objective': -0.06249998395982963, 'dual objective': -0.06250001557219295, 'primal infeasibility': 8.131516293983123e-20, 'dual infeasibility': 2.1544088434711048e-16, 'primal slack': 9.366997120717924e-10, 'dual slack': 7.493607069178138e-09, 'iterations': 8}\n"
     ]
    },
    {
     "data": {
      "image/png": "[encoded data removed]",
      "text/plain": [
       "<Figure size 432x288 with 1 Axes>"
      ]
     },
     "metadata": {
      "needs_background": "light"
     },
     "output_type": "display_data"
    }
   ],
   "source": [
    "x_neg = np.array([[3,4],[1,4],[2,3]])\n",
    "y_neg = np.array([-1,-1,-1])\n",
    "x_pos = np.array([[6,-1],[7,-1],[5,-3]])\n",
    "y_pos = np.array([1,1,1])\n",
    "\n",
    "# x_neg = np.array([[3,4],[1,4],[2,3]])\n",
    "# y_neg = np.array([-1,-1,-1])\n",
    "# x_pos = np.array([[6,-1],[7,-1],[5,-3]])\n",
    "# y_pos = np.array([1,1,1])\n",
    "\n",
    "#Data for the next section\n",
    "X = np.vstack((x_pos, x_neg))\n",
    "y = np.concatenate((y_pos,y_neg))\n",
    "\n",
    "#X=np.array([[1,2],[1,3],[1,4],[-1,-2],[-1,-3]])\n",
    "#y=np.array([-1,-1,-1,1,1])\n",
    "\n",
    "model2D = myOwnHardSVM()\n",
    "print(model2D.fit(X, y))\n",
    "plot_boundary(X, lambda x: model2D.decision_function(x))\n",
    "plot_points(X, y)"
   ]
  },
  {
   "cell_type": "markdown",
   "metadata": {},
   "source": [
    "2- We try now to implement the sof margin SVM class"
   ]
  },
  {
   "cell_type": "code",
   "execution_count": 11,
   "metadata": {},
   "outputs": [],
   "source": [
    "class myOwnSoftSVM(myOwnHardSVM):\n",
    "    \n",
    "    def __init__(self, C=1.):\n",
    "        self.C = C\n",
    "        \n",
    "    def fit(self, DataTrain, labels):\n",
    "        N = len(DataTrain)\n",
    "        labels = np.atleast_2d(labels).T\n",
    "        # labels should be a column vector\n",
    "        Gram = self.computegram(DataTrain)\n",
    "        P = matrix((labels @ labels.T) * Gram, size = (N, N), tc='d')  \n",
    "        q = matrix(-np.ones((N,1)), size = (N, 1), tc = 'd')\n",
    "        G = matrix(np.vstack((-np.eye(N), np.eye(N))), size = (2 * N, N), tc = 'd')\n",
    "        h = matrix(np.vstack((np.zeros((N, 1)), self.C * np.ones((N, 1)))), size = (2 * N, 1), tc = 'd')\n",
    "        A = matrix(labels.T, size = (1, N), tc = 'd')\n",
    "        b = matrix(np.zeros((1,1)), size = (1, 1), tc = 'd')\n",
    "        \n",
    "        res = qp(P, q, G, h, A, b)\n",
    "        \n",
    "        if (res['status'] == 'unknown'):\n",
    "            print('The problem is not linearly separated')\n",
    "            return None\n",
    "        \n",
    "        self.indSV = np.where(np.array(res[\"x\"], dtype = \"double\").reshape(-1) >= EPS)[0]\n",
    "        self.alphas = np.atleast_2d(np.array(res[\"x\"], dtype = \"double\").reshape(-1)[self.indSV]).T\n",
    "        self.SV = DataTrain[self.indSV, :]\n",
    "        self.labelsSV = labels[self.indSV]\n",
    "        self.b = np.mean(self.labelsSV - self.computegram(self.SV) @ (self.alphas * self.labelsSV)) \n",
    "        self.W = ((self.alphas * self.labelsSV).T @ self.SV).T\n",
    "        return res"
   ]
  },
  {
   "cell_type": "markdown",
   "metadata": {},
   "source": [
    "- Test your myOwnSoftSVM class on your previous training dataset which is not linearly separable."
   ]
  },
  {
   "cell_type": "code",
   "execution_count": 12,
   "metadata": {},
   "outputs": [
    {
     "name": "stdout",
     "output_type": "stream",
     "text": [
      "     pcost       dcost       gap    pres   dres\n",
      " 0: -1.8756e+00 -9.5911e+00  3e+01  2e+00  2e-15\n",
      " 1: -1.4053e+00 -4.9889e+00  4e+00  5e-02  1e-15\n",
      " 2: -1.7342e+00 -2.0944e+00  4e-01  4e-03  3e-15\n",
      " 3: -1.8046e+00 -1.8343e+00  3e-02  2e-04  3e-15\n",
      " 4: -1.8082e+00 -1.8100e+00  2e-03  8e-06  3e-15\n",
      " 5: -1.8086e+00 -1.8087e+00  2e-05  9e-08  3e-15\n",
      " 6: -1.8086e+00 -1.8086e+00  2e-07  9e-10  3e-15\n",
      "Optimal solution found.\n",
      "{'x': <6x1 matrix, tc='d'>, 'y': <1x1 matrix, tc='d'>, 's': <12x1 matrix, tc='d'>, 'z': <12x1 matrix, tc='d'>, 'status': 'optimal', 'gap': 2.3375243332186868e-07, 'relative gap': 1.292419631237407e-07, 'primal objective': -1.8086419276846333, 'dual objective': -1.808642159817168, 'primal infeasibility': 8.590794130199577e-10, 'dual infeasibility': 3.312741941868398e-15, 'primal slack': 2.618989575675452e-09, 'dual slack': 5.587829650268627e-09, 'iterations': 6}\n"
     ]
    },
    {
     "data": {
      "image/png": "[encoded data removed]",
      "text/plain": [
       "<Figure size 432x288 with 1 Axes>"
      ]
     },
     "metadata": {
      "needs_background": "light"
     },
     "output_type": "display_data"
    }
   ],
   "source": [
    "x_neg = np.array([[3,4],[1,4],[2,3]])\n",
    "y_neg = np.array([-1,-1,-1])\n",
    "x_pos = np.array([[6,-1],[7,-1],[5,-3]])\n",
    "y_pos = np.array([1,-1,+1])\n",
    "\n",
    "\n",
    "#Data for the next section\n",
    "X = np.vstack((x_pos, x_neg))\n",
    "y = np.concatenate((y_pos,y_neg))\n",
    "\n",
    "model2D = myOwnSoftSVM(C=1)\n",
    "print(model2D.fit(X, y))\n",
    "plot_boundary(X, lambda x: model2D.decision_function(x))\n",
    "plot_points(X, y)"
   ]
  },
  {
   "cell_type": "markdown",
   "metadata": {},
   "source": [
    "# Part 2: Wine dataset and sklearn.svm.svc class\n",
    "\n",
    "## Loading and Plotting Data\n",
    " \n",
    "First, we will use only two features from the data set: alcohol and ash (We can plot the solution in 2D space). The labels are supplied as an array of data with values from 1 to 3, but at first, we want a simple binary regression problem with a yes or no answer.  \n",
    "\n",
    "We filter the data set, reducing it to only include wines with labels 1 or 2.  "
   ]
  },
  {
   "cell_type": "code",
   "execution_count": 13,
   "metadata": {},
   "outputs": [
    {
     "ename": "FileNotFoundError",
     "evalue": "[Errno 2] No such file or directory: 'data.txt'",
     "output_type": "error",
     "traceback": [
      "\u001b[0;31m---------------------------------------------------------------------------\u001b[0m",
      "\u001b[0;31mFileNotFoundError\u001b[0m                         Traceback (most recent call last)",
      "\u001b[1;32m/Users/ibrahim/Desktop/AIS/S2/ML 1 - Intro to Statistical ML/ML Course/04- Support Vector Machine, Linear version/Lab00.ipynb Cell 20'\u001b[0m in \u001b[0;36m<cell line: 5>\u001b[0;34m()\u001b[0m\n\u001b[1;32m      <a href='vscode-notebook-cell:/Users/ibrahim/Desktop/AIS/S2/ML%201%20-%20Intro%20to%20Statistical%20ML/ML%20Course/04-%20Support%20Vector%20Machine%2C%20Linear%20version/Lab00.ipynb#ch0000019?line=1'>2</a>\u001b[0m \u001b[39mimport\u001b[39;00m \u001b[39mnumpy\u001b[39;00m \u001b[39mas\u001b[39;00m \u001b[39mnp\u001b[39;00m\n\u001b[1;32m      <a href='vscode-notebook-cell:/Users/ibrahim/Desktop/AIS/S2/ML%201%20-%20Intro%20to%20Statistical%20ML/ML%20Course/04-%20Support%20Vector%20Machine%2C%20Linear%20version/Lab00.ipynb#ch0000019?line=2'>3</a>\u001b[0m \u001b[39mfrom\u001b[39;00m \u001b[39msklearn\u001b[39;00m\u001b[39m.\u001b[39;00m\u001b[39mpreprocessing\u001b[39;00m \u001b[39mimport\u001b[39;00m label_binarize\n\u001b[0;32m----> <a href='vscode-notebook-cell:/Users/ibrahim/Desktop/AIS/S2/ML%201%20-%20Intro%20to%20Statistical%20ML/ML%20Course/04-%20Support%20Vector%20Machine%2C%20Linear%20version/Lab00.ipynb#ch0000019?line=4'>5</a>\u001b[0m data \u001b[39m=\u001b[39m pd\u001b[39m.\u001b[39;49mread_csv(\u001b[39m'\u001b[39;49m\u001b[39mdata.txt\u001b[39;49m\u001b[39m'\u001b[39;49m)\n\u001b[1;32m      <a href='vscode-notebook-cell:/Users/ibrahim/Desktop/AIS/S2/ML%201%20-%20Intro%20to%20Statistical%20ML/ML%20Course/04-%20Support%20Vector%20Machine%2C%20Linear%20version/Lab00.ipynb#ch0000019?line=6'>7</a>\u001b[0m reduced \u001b[39m=\u001b[39m data[data[\u001b[39m'\u001b[39m\u001b[39mclass\u001b[39m\u001b[39m'\u001b[39m] \u001b[39m<\u001b[39m\u001b[39m=\u001b[39m \u001b[39m2\u001b[39m]\n\u001b[1;32m      <a href='vscode-notebook-cell:/Users/ibrahim/Desktop/AIS/S2/ML%201%20-%20Intro%20to%20Statistical%20ML/ML%20Course/04-%20Support%20Vector%20Machine%2C%20Linear%20version/Lab00.ipynb#ch0000019?line=7'>8</a>\u001b[0m X \u001b[39m=\u001b[39m reduced[[\u001b[39m'\u001b[39m\u001b[39malcohol\u001b[39m\u001b[39m'\u001b[39m, \u001b[39m'\u001b[39m\u001b[39mash\u001b[39m\u001b[39m'\u001b[39m]]\u001b[39m.\u001b[39mto_numpy()\n",
      "File \u001b[0;32m~/miniforge3/envs/ml/lib/python3.9/site-packages/pandas/util/_decorators.py:311\u001b[0m, in \u001b[0;36mdeprecate_nonkeyword_arguments.<locals>.decorate.<locals>.wrapper\u001b[0;34m(*args, **kwargs)\u001b[0m\n\u001b[1;32m    <a href='file:///Users/ibrahim/miniforge3/envs/ml/lib/python3.9/site-packages/pandas/util/_decorators.py?line=304'>305</a>\u001b[0m \u001b[39mif\u001b[39;00m \u001b[39mlen\u001b[39m(args) \u001b[39m>\u001b[39m num_allow_args:\n\u001b[1;32m    <a href='file:///Users/ibrahim/miniforge3/envs/ml/lib/python3.9/site-packages/pandas/util/_decorators.py?line=305'>306</a>\u001b[0m     warnings\u001b[39m.\u001b[39mwarn(\n\u001b[1;32m    <a href='file:///Users/ibrahim/miniforge3/envs/ml/lib/python3.9/site-packages/pandas/util/_decorators.py?line=306'>307</a>\u001b[0m         msg\u001b[39m.\u001b[39mformat(arguments\u001b[39m=\u001b[39marguments),\n\u001b[1;32m    <a href='file:///Users/ibrahim/miniforge3/envs/ml/lib/python3.9/site-packages/pandas/util/_decorators.py?line=307'>308</a>\u001b[0m         \u001b[39mFutureWarning\u001b[39;00m,\n\u001b[1;32m    <a href='file:///Users/ibrahim/miniforge3/envs/ml/lib/python3.9/site-packages/pandas/util/_decorators.py?line=308'>309</a>\u001b[0m         stacklevel\u001b[39m=\u001b[39mstacklevel,\n\u001b[1;32m    <a href='file:///Users/ibrahim/miniforge3/envs/ml/lib/python3.9/site-packages/pandas/util/_decorators.py?line=309'>310</a>\u001b[0m     )\n\u001b[0;32m--> <a href='file:///Users/ibrahim/miniforge3/envs/ml/lib/python3.9/site-packages/pandas/util/_decorators.py?line=310'>311</a>\u001b[0m \u001b[39mreturn\u001b[39;00m func(\u001b[39m*\u001b[39;49margs, \u001b[39m*\u001b[39;49m\u001b[39m*\u001b[39;49mkwargs)\n",
      "File \u001b[0;32m~/miniforge3/envs/ml/lib/python3.9/site-packages/pandas/io/parsers/readers.py:680\u001b[0m, in \u001b[0;36mread_csv\u001b[0;34m(filepath_or_buffer, sep, delimiter, header, names, index_col, usecols, squeeze, prefix, mangle_dupe_cols, dtype, engine, converters, true_values, false_values, skipinitialspace, skiprows, skipfooter, nrows, na_values, keep_default_na, na_filter, verbose, skip_blank_lines, parse_dates, infer_datetime_format, keep_date_col, date_parser, dayfirst, cache_dates, iterator, chunksize, compression, thousands, decimal, lineterminator, quotechar, quoting, doublequote, escapechar, comment, encoding, encoding_errors, dialect, error_bad_lines, warn_bad_lines, on_bad_lines, delim_whitespace, low_memory, memory_map, float_precision, storage_options)\u001b[0m\n\u001b[1;32m    <a href='file:///Users/ibrahim/miniforge3/envs/ml/lib/python3.9/site-packages/pandas/io/parsers/readers.py?line=664'>665</a>\u001b[0m kwds_defaults \u001b[39m=\u001b[39m _refine_defaults_read(\n\u001b[1;32m    <a href='file:///Users/ibrahim/miniforge3/envs/ml/lib/python3.9/site-packages/pandas/io/parsers/readers.py?line=665'>666</a>\u001b[0m     dialect,\n\u001b[1;32m    <a href='file:///Users/ibrahim/miniforge3/envs/ml/lib/python3.9/site-packages/pandas/io/parsers/readers.py?line=666'>667</a>\u001b[0m     delimiter,\n\u001b[0;32m   (...)\u001b[0m\n\u001b[1;32m    <a href='file:///Users/ibrahim/miniforge3/envs/ml/lib/python3.9/site-packages/pandas/io/parsers/readers.py?line=675'>676</a>\u001b[0m     defaults\u001b[39m=\u001b[39m{\u001b[39m\"\u001b[39m\u001b[39mdelimiter\u001b[39m\u001b[39m\"\u001b[39m: \u001b[39m\"\u001b[39m\u001b[39m,\u001b[39m\u001b[39m\"\u001b[39m},\n\u001b[1;32m    <a href='file:///Users/ibrahim/miniforge3/envs/ml/lib/python3.9/site-packages/pandas/io/parsers/readers.py?line=676'>677</a>\u001b[0m )\n\u001b[1;32m    <a href='file:///Users/ibrahim/miniforge3/envs/ml/lib/python3.9/site-packages/pandas/io/parsers/readers.py?line=677'>678</a>\u001b[0m kwds\u001b[39m.\u001b[39mupdate(kwds_defaults)\n\u001b[0;32m--> <a href='file:///Users/ibrahim/miniforge3/envs/ml/lib/python3.9/site-packages/pandas/io/parsers/readers.py?line=679'>680</a>\u001b[0m \u001b[39mreturn\u001b[39;00m _read(filepath_or_buffer, kwds)\n",
      "File \u001b[0;32m~/miniforge3/envs/ml/lib/python3.9/site-packages/pandas/io/parsers/readers.py:575\u001b[0m, in \u001b[0;36m_read\u001b[0;34m(filepath_or_buffer, kwds)\u001b[0m\n\u001b[1;32m    <a href='file:///Users/ibrahim/miniforge3/envs/ml/lib/python3.9/site-packages/pandas/io/parsers/readers.py?line=571'>572</a>\u001b[0m _validate_names(kwds\u001b[39m.\u001b[39mget(\u001b[39m\"\u001b[39m\u001b[39mnames\u001b[39m\u001b[39m\"\u001b[39m, \u001b[39mNone\u001b[39;00m))\n\u001b[1;32m    <a href='file:///Users/ibrahim/miniforge3/envs/ml/lib/python3.9/site-packages/pandas/io/parsers/readers.py?line=573'>574</a>\u001b[0m \u001b[39m# Create the parser.\u001b[39;00m\n\u001b[0;32m--> <a href='file:///Users/ibrahim/miniforge3/envs/ml/lib/python3.9/site-packages/pandas/io/parsers/readers.py?line=574'>575</a>\u001b[0m parser \u001b[39m=\u001b[39m TextFileReader(filepath_or_buffer, \u001b[39m*\u001b[39;49m\u001b[39m*\u001b[39;49mkwds)\n\u001b[1;32m    <a href='file:///Users/ibrahim/miniforge3/envs/ml/lib/python3.9/site-packages/pandas/io/parsers/readers.py?line=576'>577</a>\u001b[0m \u001b[39mif\u001b[39;00m chunksize \u001b[39mor\u001b[39;00m iterator:\n\u001b[1;32m    <a href='file:///Users/ibrahim/miniforge3/envs/ml/lib/python3.9/site-packages/pandas/io/parsers/readers.py?line=577'>578</a>\u001b[0m     \u001b[39mreturn\u001b[39;00m parser\n",
      "File \u001b[0;32m~/miniforge3/envs/ml/lib/python3.9/site-packages/pandas/io/parsers/readers.py:933\u001b[0m, in \u001b[0;36mTextFileReader.__init__\u001b[0;34m(self, f, engine, **kwds)\u001b[0m\n\u001b[1;32m    <a href='file:///Users/ibrahim/miniforge3/envs/ml/lib/python3.9/site-packages/pandas/io/parsers/readers.py?line=929'>930</a>\u001b[0m     \u001b[39mself\u001b[39m\u001b[39m.\u001b[39moptions[\u001b[39m\"\u001b[39m\u001b[39mhas_index_names\u001b[39m\u001b[39m\"\u001b[39m] \u001b[39m=\u001b[39m kwds[\u001b[39m\"\u001b[39m\u001b[39mhas_index_names\u001b[39m\u001b[39m\"\u001b[39m]\n\u001b[1;32m    <a href='file:///Users/ibrahim/miniforge3/envs/ml/lib/python3.9/site-packages/pandas/io/parsers/readers.py?line=931'>932</a>\u001b[0m \u001b[39mself\u001b[39m\u001b[39m.\u001b[39mhandles: IOHandles \u001b[39m|\u001b[39m \u001b[39mNone\u001b[39;00m \u001b[39m=\u001b[39m \u001b[39mNone\u001b[39;00m\n\u001b[0;32m--> <a href='file:///Users/ibrahim/miniforge3/envs/ml/lib/python3.9/site-packages/pandas/io/parsers/readers.py?line=932'>933</a>\u001b[0m \u001b[39mself\u001b[39m\u001b[39m.\u001b[39m_engine \u001b[39m=\u001b[39m \u001b[39mself\u001b[39;49m\u001b[39m.\u001b[39;49m_make_engine(f, \u001b[39mself\u001b[39;49m\u001b[39m.\u001b[39;49mengine)\n",
      "File \u001b[0;32m~/miniforge3/envs/ml/lib/python3.9/site-packages/pandas/io/parsers/readers.py:1217\u001b[0m, in \u001b[0;36mTextFileReader._make_engine\u001b[0;34m(self, f, engine)\u001b[0m\n\u001b[1;32m   <a href='file:///Users/ibrahim/miniforge3/envs/ml/lib/python3.9/site-packages/pandas/io/parsers/readers.py?line=1212'>1213</a>\u001b[0m     mode \u001b[39m=\u001b[39m \u001b[39m\"\u001b[39m\u001b[39mrb\u001b[39m\u001b[39m\"\u001b[39m\n\u001b[1;32m   <a href='file:///Users/ibrahim/miniforge3/envs/ml/lib/python3.9/site-packages/pandas/io/parsers/readers.py?line=1213'>1214</a>\u001b[0m \u001b[39m# error: No overload variant of \"get_handle\" matches argument types\u001b[39;00m\n\u001b[1;32m   <a href='file:///Users/ibrahim/miniforge3/envs/ml/lib/python3.9/site-packages/pandas/io/parsers/readers.py?line=1214'>1215</a>\u001b[0m \u001b[39m# \"Union[str, PathLike[str], ReadCsvBuffer[bytes], ReadCsvBuffer[str]]\"\u001b[39;00m\n\u001b[1;32m   <a href='file:///Users/ibrahim/miniforge3/envs/ml/lib/python3.9/site-packages/pandas/io/parsers/readers.py?line=1215'>1216</a>\u001b[0m \u001b[39m# , \"str\", \"bool\", \"Any\", \"Any\", \"Any\", \"Any\", \"Any\"\u001b[39;00m\n\u001b[0;32m-> <a href='file:///Users/ibrahim/miniforge3/envs/ml/lib/python3.9/site-packages/pandas/io/parsers/readers.py?line=1216'>1217</a>\u001b[0m \u001b[39mself\u001b[39m\u001b[39m.\u001b[39mhandles \u001b[39m=\u001b[39m get_handle(  \u001b[39m# type: ignore[call-overload]\u001b[39;49;00m\n\u001b[1;32m   <a href='file:///Users/ibrahim/miniforge3/envs/ml/lib/python3.9/site-packages/pandas/io/parsers/readers.py?line=1217'>1218</a>\u001b[0m     f,\n\u001b[1;32m   <a href='file:///Users/ibrahim/miniforge3/envs/ml/lib/python3.9/site-packages/pandas/io/parsers/readers.py?line=1218'>1219</a>\u001b[0m     mode,\n\u001b[1;32m   <a href='file:///Users/ibrahim/miniforge3/envs/ml/lib/python3.9/site-packages/pandas/io/parsers/readers.py?line=1219'>1220</a>\u001b[0m     encoding\u001b[39m=\u001b[39;49m\u001b[39mself\u001b[39;49m\u001b[39m.\u001b[39;49moptions\u001b[39m.\u001b[39;49mget(\u001b[39m\"\u001b[39;49m\u001b[39mencoding\u001b[39;49m\u001b[39m\"\u001b[39;49m, \u001b[39mNone\u001b[39;49;00m),\n\u001b[1;32m   <a href='file:///Users/ibrahim/miniforge3/envs/ml/lib/python3.9/site-packages/pandas/io/parsers/readers.py?line=1220'>1221</a>\u001b[0m     compression\u001b[39m=\u001b[39;49m\u001b[39mself\u001b[39;49m\u001b[39m.\u001b[39;49moptions\u001b[39m.\u001b[39;49mget(\u001b[39m\"\u001b[39;49m\u001b[39mcompression\u001b[39;49m\u001b[39m\"\u001b[39;49m, \u001b[39mNone\u001b[39;49;00m),\n\u001b[1;32m   <a href='file:///Users/ibrahim/miniforge3/envs/ml/lib/python3.9/site-packages/pandas/io/parsers/readers.py?line=1221'>1222</a>\u001b[0m     memory_map\u001b[39m=\u001b[39;49m\u001b[39mself\u001b[39;49m\u001b[39m.\u001b[39;49moptions\u001b[39m.\u001b[39;49mget(\u001b[39m\"\u001b[39;49m\u001b[39mmemory_map\u001b[39;49m\u001b[39m\"\u001b[39;49m, \u001b[39mFalse\u001b[39;49;00m),\n\u001b[1;32m   <a href='file:///Users/ibrahim/miniforge3/envs/ml/lib/python3.9/site-packages/pandas/io/parsers/readers.py?line=1222'>1223</a>\u001b[0m     is_text\u001b[39m=\u001b[39;49mis_text,\n\u001b[1;32m   <a href='file:///Users/ibrahim/miniforge3/envs/ml/lib/python3.9/site-packages/pandas/io/parsers/readers.py?line=1223'>1224</a>\u001b[0m     errors\u001b[39m=\u001b[39;49m\u001b[39mself\u001b[39;49m\u001b[39m.\u001b[39;49moptions\u001b[39m.\u001b[39;49mget(\u001b[39m\"\u001b[39;49m\u001b[39mencoding_errors\u001b[39;49m\u001b[39m\"\u001b[39;49m, \u001b[39m\"\u001b[39;49m\u001b[39mstrict\u001b[39;49m\u001b[39m\"\u001b[39;49m),\n\u001b[1;32m   <a href='file:///Users/ibrahim/miniforge3/envs/ml/lib/python3.9/site-packages/pandas/io/parsers/readers.py?line=1224'>1225</a>\u001b[0m     storage_options\u001b[39m=\u001b[39;49m\u001b[39mself\u001b[39;49m\u001b[39m.\u001b[39;49moptions\u001b[39m.\u001b[39;49mget(\u001b[39m\"\u001b[39;49m\u001b[39mstorage_options\u001b[39;49m\u001b[39m\"\u001b[39;49m, \u001b[39mNone\u001b[39;49;00m),\n\u001b[1;32m   <a href='file:///Users/ibrahim/miniforge3/envs/ml/lib/python3.9/site-packages/pandas/io/parsers/readers.py?line=1225'>1226</a>\u001b[0m )\n\u001b[1;32m   <a href='file:///Users/ibrahim/miniforge3/envs/ml/lib/python3.9/site-packages/pandas/io/parsers/readers.py?line=1226'>1227</a>\u001b[0m \u001b[39massert\u001b[39;00m \u001b[39mself\u001b[39m\u001b[39m.\u001b[39mhandles \u001b[39mis\u001b[39;00m \u001b[39mnot\u001b[39;00m \u001b[39mNone\u001b[39;00m\n\u001b[1;32m   <a href='file:///Users/ibrahim/miniforge3/envs/ml/lib/python3.9/site-packages/pandas/io/parsers/readers.py?line=1227'>1228</a>\u001b[0m f \u001b[39m=\u001b[39m \u001b[39mself\u001b[39m\u001b[39m.\u001b[39mhandles\u001b[39m.\u001b[39mhandle\n",
      "File \u001b[0;32m~/miniforge3/envs/ml/lib/python3.9/site-packages/pandas/io/common.py:789\u001b[0m, in \u001b[0;36mget_handle\u001b[0;34m(path_or_buf, mode, encoding, compression, memory_map, is_text, errors, storage_options)\u001b[0m\n\u001b[1;32m    <a href='file:///Users/ibrahim/miniforge3/envs/ml/lib/python3.9/site-packages/pandas/io/common.py?line=783'>784</a>\u001b[0m \u001b[39melif\u001b[39;00m \u001b[39misinstance\u001b[39m(handle, \u001b[39mstr\u001b[39m):\n\u001b[1;32m    <a href='file:///Users/ibrahim/miniforge3/envs/ml/lib/python3.9/site-packages/pandas/io/common.py?line=784'>785</a>\u001b[0m     \u001b[39m# Check whether the filename is to be opened in binary mode.\u001b[39;00m\n\u001b[1;32m    <a href='file:///Users/ibrahim/miniforge3/envs/ml/lib/python3.9/site-packages/pandas/io/common.py?line=785'>786</a>\u001b[0m     \u001b[39m# Binary mode does not support 'encoding' and 'newline'.\u001b[39;00m\n\u001b[1;32m    <a href='file:///Users/ibrahim/miniforge3/envs/ml/lib/python3.9/site-packages/pandas/io/common.py?line=786'>787</a>\u001b[0m     \u001b[39mif\u001b[39;00m ioargs\u001b[39m.\u001b[39mencoding \u001b[39mand\u001b[39;00m \u001b[39m\"\u001b[39m\u001b[39mb\u001b[39m\u001b[39m\"\u001b[39m \u001b[39mnot\u001b[39;00m \u001b[39min\u001b[39;00m ioargs\u001b[39m.\u001b[39mmode:\n\u001b[1;32m    <a href='file:///Users/ibrahim/miniforge3/envs/ml/lib/python3.9/site-packages/pandas/io/common.py?line=787'>788</a>\u001b[0m         \u001b[39m# Encoding\u001b[39;00m\n\u001b[0;32m--> <a href='file:///Users/ibrahim/miniforge3/envs/ml/lib/python3.9/site-packages/pandas/io/common.py?line=788'>789</a>\u001b[0m         handle \u001b[39m=\u001b[39m \u001b[39mopen\u001b[39;49m(\n\u001b[1;32m    <a href='file:///Users/ibrahim/miniforge3/envs/ml/lib/python3.9/site-packages/pandas/io/common.py?line=789'>790</a>\u001b[0m             handle,\n\u001b[1;32m    <a href='file:///Users/ibrahim/miniforge3/envs/ml/lib/python3.9/site-packages/pandas/io/common.py?line=790'>791</a>\u001b[0m             ioargs\u001b[39m.\u001b[39;49mmode,\n\u001b[1;32m    <a href='file:///Users/ibrahim/miniforge3/envs/ml/lib/python3.9/site-packages/pandas/io/common.py?line=791'>792</a>\u001b[0m             encoding\u001b[39m=\u001b[39;49mioargs\u001b[39m.\u001b[39;49mencoding,\n\u001b[1;32m    <a href='file:///Users/ibrahim/miniforge3/envs/ml/lib/python3.9/site-packages/pandas/io/common.py?line=792'>793</a>\u001b[0m             errors\u001b[39m=\u001b[39;49merrors,\n\u001b[1;32m    <a href='file:///Users/ibrahim/miniforge3/envs/ml/lib/python3.9/site-packages/pandas/io/common.py?line=793'>794</a>\u001b[0m             newline\u001b[39m=\u001b[39;49m\u001b[39m\"\u001b[39;49m\u001b[39m\"\u001b[39;49m,\n\u001b[1;32m    <a href='file:///Users/ibrahim/miniforge3/envs/ml/lib/python3.9/site-packages/pandas/io/common.py?line=794'>795</a>\u001b[0m         )\n\u001b[1;32m    <a href='file:///Users/ibrahim/miniforge3/envs/ml/lib/python3.9/site-packages/pandas/io/common.py?line=795'>796</a>\u001b[0m     \u001b[39melse\u001b[39;00m:\n\u001b[1;32m    <a href='file:///Users/ibrahim/miniforge3/envs/ml/lib/python3.9/site-packages/pandas/io/common.py?line=796'>797</a>\u001b[0m         \u001b[39m# Binary mode\u001b[39;00m\n\u001b[1;32m    <a href='file:///Users/ibrahim/miniforge3/envs/ml/lib/python3.9/site-packages/pandas/io/common.py?line=797'>798</a>\u001b[0m         handle \u001b[39m=\u001b[39m \u001b[39mopen\u001b[39m(handle, ioargs\u001b[39m.\u001b[39mmode)\n",
      "\u001b[0;31mFileNotFoundError\u001b[0m: [Errno 2] No such file or directory: 'data.txt'"
     ]
    }
   ],
   "source": [
    "import pandas as pd\n",
    "import numpy as np\n",
    "from sklearn.preprocessing import label_binarize\n",
    "\n",
    "data = pd.read_csv('data.txt')\n",
    "\n",
    "reduced = data[data['class'] <= 2]\n",
    "X = reduced[['alcohol', 'ash']].to_numpy()\n",
    "y = label_binarize(reduced['class'].values, classes=[1, 2])[:,0]"
   ]
  },
  {
   "cell_type": "code",
   "execution_count": null,
   "metadata": {},
   "outputs": [
    {
     "name": "stdout",
     "output_type": "stream",
     "text": [
      "train: 97 test: 33\n"
     ]
    }
   ],
   "source": [
    "from sklearn.model_selection import train_test_split\n",
    "\n",
    "Xtrain, Xtest, ytrain, ytest = train_test_split(X, y, test_size=0.25, random_state = 42)\n",
    "print('train:', len(Xtrain), 'test:', len(Xtest))"
   ]
  },
  {
   "cell_type": "code",
   "execution_count": null,
   "metadata": {},
   "outputs": [
    {
     "data": {
      "image/png": "[encoded data removed]",
      "text/plain": [
       "<Figure size 432x288 with 1 Axes>"
      ]
     },
     "metadata": {
      "needs_background": "light"
     },
     "output_type": "display_data"
    }
   ],
   "source": [
    "plot_points(Xtrain, ytrain)"
   ]
  },
  {
   "cell_type": "markdown",
   "metadata": {},
   "source": [
    "We can see that we can plot line that could divide the two colored points with a small amount of error.\n",
    "\n",
    "# Linear SVM\n",
    "\n",
    "- Using SVC class of sklearn.svm train a linear SVM"
   ]
  },
  {
   "cell_type": "code",
   "execution_count": null,
   "metadata": {},
   "outputs": [],
   "source": [
    "from sklearn.svm import SVC\n",
    "\n",
    "clf = SVC(kernel='linear', C = 1000).fit(Xtrain, ytrain)"
   ]
  },
  {
   "cell_type": "markdown",
   "metadata": {},
   "source": [
    "- print the dual parameters $\\alpha$"
   ]
  },
  {
   "cell_type": "code",
   "execution_count": null,
   "metadata": {},
   "outputs": [
    {
     "name": "stdout",
     "output_type": "stream",
     "text": [
      "[[13.05  2.1 ]\n",
      " [13.48  2.41]\n",
      " [13.24  2.29]\n",
      " [13.07  2.1 ]\n",
      " [13.05  2.04]\n",
      " [13.41  2.12]\n",
      " [13.05  2.55]\n",
      " [13.2   2.14]\n",
      " [12.93  2.65]\n",
      " [13.16  2.67]\n",
      " [12.85  2.52]\n",
      " [13.67  1.92]\n",
      " [13.11  1.7 ]\n",
      " [13.34  2.36]\n",
      " [12.99  2.6 ]\n",
      " [13.49  2.24]\n",
      " [13.05  2.32]\n",
      " [12.7   2.4 ]\n",
      " [12.42  2.73]\n",
      " [13.05  2.13]\n",
      " [12.72  2.28]\n",
      " [13.86  2.67]\n",
      " [12.69  2.26]]\n"
     ]
    }
   ],
   "source": [
    "print(clf.support_vectors_)"
   ]
  },
  {
   "cell_type": "code",
   "execution_count": null,
   "metadata": {},
   "outputs": [
    {
     "name": "stdout",
     "output_type": "stream",
     "text": [
      "[[-1000.          -704.70937278 -1000.         -1000.\n",
      "  -1000.         -1000.         -1000.         -1000.\n",
      "  -1000.         -1000.         -1000.          1000.\n",
      "    653.61406287  1000.          1000.          1000.\n",
      "   1000.          1000.          1000.          1000.\n",
      "   1000.          1000.            51.09530991]]\n"
     ]
    }
   ],
   "source": [
    "print(clf.dual_coef_)"
   ]
  },
  {
   "cell_type": "code",
   "execution_count": null,
   "metadata": {},
   "outputs": [
    {
     "name": "stdout",
     "output_type": "stream",
     "text": [
      "[[-1.00000000e+06 -7.62606947e+02 -1.00000000e+06 -1.00000000e+06\n",
      "  -1.00000000e+06 -1.00000000e+06 -1.00000000e+06 -1.00000000e+06\n",
      "  -1.00000000e+06  1.00000000e+06  2.35985895e+04  1.00000000e+06\n",
      "   1.00000000e+06  7.89439141e+05  1.87724876e+05  1.00000000e+06\n",
      "   1.00000000e+06  1.00000000e+06  1.00000000e+06]]\n"
     ]
    }
   ],
   "source": [
    "clf2 = SVC(kernel='linear', C = 1000000).fit(Xtrain, ytrain)\n",
    "print(clf2.dual_coef_)"
   ]
  },
  {
   "cell_type": "code",
   "execution_count": null,
   "metadata": {},
   "outputs": [],
   "source": [
    "y = np.sign(ytrain-.5)"
   ]
  },
  {
   "cell_type": "code",
   "execution_count": null,
   "metadata": {},
   "outputs": [
    {
     "name": "stdout",
     "output_type": "stream",
     "text": [
      "     pcost       dcost       gap    pres   dres\n",
      " 0:  4.9342e+05 -4.9931e+07  1e+08  5e-01  1e-10\n",
      " 1:  7.8605e+05 -7.6615e+06  8e+06  8e-13  8e-11\n",
      " 2:  1.6433e+04 -7.7011e+05  8e+05  2e-16  9e-11\n",
      " 3: -1.3043e+04 -6.3632e+04  5e+04  5e-13  1e-10\n",
      " 4: -1.4893e+04 -5.1674e+04  4e+04  2e-16  9e-11\n",
      " 5: -1.6904e+04 -3.2174e+04  2e+04  2e-16  1e-10\n",
      " 6: -1.7059e+04 -2.9323e+04  1e+04  1e-12  1e-10\n",
      " 7: -1.8551e+04 -2.9580e+04  1e+04  3e-13  1e-10\n",
      " 8: -1.9497e+04 -2.5891e+04  6e+03  5e-13  1e-10\n",
      " 9: -2.0377e+04 -2.4211e+04  4e+03  6e-13  1e-10\n",
      "10: -2.0203e+04 -2.3475e+04  3e+03  2e-16  1e-10\n",
      "11: -2.0907e+04 -2.2270e+04  1e+03  3e-13  2e-10\n",
      "12: -2.1126e+04 -2.1864e+04  7e+02  4e-14  1e-10\n",
      "13: -2.1288e+04 -2.1541e+04  3e+02  3e-13  1e-10\n",
      "14: -2.1382e+04 -2.1435e+04  5e+01  2e-13  1e-10\n",
      "15: -2.1404e+04 -2.1407e+04  3e+00  5e-14  1e-10\n",
      "16: -2.1405e+04 -2.1406e+04  3e-02  3e-13  1e-10\n",
      "17: -2.1405e+04 -2.1405e+04  3e-04  7e-13  1e-10\n",
      "Optimal solution found.\n",
      "{'x': <97x1 matrix, tc='d'>, 'y': <1x1 matrix, tc='d'>, 's': <194x1 matrix, tc='d'>, 'z': <194x1 matrix, tc='d'>, 'status': 'optimal', 'gap': 0.0003027264075542099, 'relative gap': 1.4142459995933505e-08, 'primal objective': -21405.49859368563, 'dual objective': -21405.498896412057, 'primal infeasibility': 6.95150534357758e-13, 'dual infeasibility': 1.3590047655344784e-10, 'primal slack': 3.845834890704746e-07, 'dual slack': 8.054622376350244e-10, 'iterations': 17}\n"
     ]
    },
    {
     "data": {
      "image/png": "[encoded data removed]",
      "text/plain": [
       "<Figure size 432x288 with 1 Axes>"
      ]
     },
     "metadata": {
      "needs_background": "light"
     },
     "output_type": "display_data"
    }
   ],
   "source": [
    "model2D = myOwnSoftSVM(C=1000)\n",
    "print(model2D.fit(Xtrain, y))\n",
    "plot_boundary(Xtrain, lambda x: model2D.decision_function(x))\n",
    "plot_points(Xtrain, y)"
   ]
  },
  {
   "cell_type": "code",
   "execution_count": null,
   "metadata": {},
   "outputs": [
    {
     "data": {
      "text/plain": [
       "array([[9.99999999e+02],\n",
       "       [9.99999999e+02],\n",
       "       [6.53503344e+02],\n",
       "       [9.99999999e+02],\n",
       "       [9.99999999e+02],\n",
       "       [7.04667600e+02],\n",
       "       [2.92812858e-05],\n",
       "       [9.99999998e+02],\n",
       "       [9.99999999e+02],\n",
       "       [9.99999999e+02],\n",
       "       [9.99999998e+02],\n",
       "       [9.99999999e+02],\n",
       "       [9.99999975e+02],\n",
       "       [9.99999966e+02],\n",
       "       [9.99999997e+02],\n",
       "       [1.51562729e-05],\n",
       "       [9.99999997e+02],\n",
       "       [9.99999998e+02],\n",
       "       [9.99999971e+02],\n",
       "       [9.99999999e+02],\n",
       "       [9.99999998e+02],\n",
       "       [9.99999994e+02],\n",
       "       [9.99999999e+02],\n",
       "       [1.00000000e+03],\n",
       "       [5.11642943e+01]])"
      ]
     },
     "execution_count": 184,
     "metadata": {},
     "output_type": "execute_result"
    }
   ],
   "source": [
    "model2D.alphas"
   ]
  },
  {
   "cell_type": "markdown",
   "metadata": {},
   "source": [
    "- Plot the linear separator, show the margin and the support vector. "
   ]
  },
  {
   "cell_type": "code",
   "execution_count": null,
   "metadata": {},
   "outputs": [
    {
     "data": {
      "image/png": "[encoded data removed]",
      "text/plain": [
       "<Figure size 432x288 with 1 Axes>"
      ]
     },
     "metadata": {
      "needs_background": "light"
     },
     "output_type": "display_data"
    }
   ],
   "source": [
    "plot_boundary(Xtrain, lambda x: clf.decision_function(x))\n",
    "plot_points(Xtrain, y)"
   ]
  },
  {
   "cell_type": "markdown",
   "metadata": {},
   "source": [
    "- Which training examples are misclassified? compute the slack variables $\\zeta_i$ for these samples"
   ]
  },
  {
   "cell_type": "code",
   "execution_count": null,
   "metadata": {},
   "outputs": [
    {
     "name": "stdout",
     "output_type": "stream",
     "text": [
      "0 -1000.0 [13.05  2.1 ] [1.4633517]\n",
      "1 -704.7093727783886 [13.48  2.41] [-0.02010963]\n",
      "2 -1000.0 [13.24  2.29] [0.71612365]\n",
      "3 -1000.0 [13.07  2.1 ] [1.41930173]\n",
      "4 -1000.0 [13.05  2.04] [1.56716856]\n",
      "5 -1000.0 [13.41  2.12] [0.63584676]\n",
      "6 -1000.0 [13.05  2.55] [0.68472519]\n",
      "7 -1000.0 [13.2   2.14] [1.06376574]\n",
      "8 -1000.0 [12.93  2.65] [0.77599685]\n",
      "9 -1000.0 [13.16  2.67] [0.23481667]\n",
      "10 -1000.0 [12.85  2.52] [1.17713324]\n",
      "11 1000.0 [13.67  1.92] [1.59074652]\n",
      "12 653.6140628670129 [13.11  1.7 ] [-0.02331426]\n",
      "13 1000.0 [13.34  2.36] [1.62524584]\n",
      "14 1000.0 [12.99  2.6 ] [1.26963898]\n",
      "15 1000.0 [13.49  2.24] [1.74798682]\n",
      "16 1000.0 [13.05  2.32] [0.91731015]\n",
      "17 1000.0 [12.7  2.4] [0.28485831]\n",
      "18 1000.0 [12.42  2.73] [0.23915161]\n",
      "19 1000.0 [13.05  2.13] [0.58855674]\n",
      "20 1000.0 [12.72  2.28] [0.12127454]\n",
      "21 1000.0 [13.86  2.67] [3.306932]\n",
      "22 51.09530991137794 [12.69  2.26] [0.02059397]\n"
     ]
    }
   ],
   "source": [
    "for i in range(len(clf.support_vectors_)):\n",
    "    #if (abs(clf.dual_coef_[0, i]) > 1000 - EPS):\n",
    "    print(i, clf.dual_coef_[0,i], clf.support_vectors_[i], 1 - clf.decision_function(np.atleast_2d(clf.support_vectors_[i])) * np.sign(clf.dual_coef_[0, i]))"
   ]
  },
  {
   "cell_type": "markdown",
   "metadata": {},
   "source": [
    "- Compute the confusion matrix, the accuray, the precision and the recall on the test data? "
   ]
  },
  {
   "cell_type": "code",
   "execution_count": null,
   "metadata": {},
   "outputs": [],
   "source": []
  },
  {
   "cell_type": "markdown",
   "metadata": {},
   "source": [
    "- Compute the accuray, the precision, the recall and the confusion matrix of your classifieur? what did you conclude? "
   ]
  },
  {
   "cell_type": "code",
   "execution_count": null,
   "metadata": {},
   "outputs": [],
   "source": [
    "from sklearn.metrics import confusion_matrix, plot_confusion_matrix, accuracy_score, precision_score, recall_score\n",
    "\n",
    "..."
   ]
  },
  {
   "cell_type": "markdown",
   "metadata": {},
   "source": [
    "# Multiclass SVM\n",
    "\n",
    "The next step is something more interesting: we use a similar set of two features from the data set (this time alcohol and flavanoids), but with all three labels instead of two."
   ]
  },
  {
   "cell_type": "code",
   "execution_count": null,
   "metadata": {},
   "outputs": [
    {
     "data": {
      "image/png": "[encoded data removed]",
      "text/plain": [
       "<Figure size 432x288 with 1 Axes>"
      ]
     },
     "metadata": {
      "needs_background": "light"
     },
     "output_type": "display_data"
    }
   ],
   "source": [
    "X = data[['alcohol', 'flavanoids']].to_numpy()\n",
    "y = data['class'].to_numpy()\n",
    "Xtrain, Xtest, ytrain, ytest = train_test_split(X, y, test_size=0.25, random_state = 42)\n",
    "\n",
    "plot_points(Xtrain, ytrain)"
   ]
  },
  {
   "cell_type": "markdown",
   "metadata": {},
   "source": [
    "The plotted data points again suggest some obvious linear boundaries between the three classes.\n",
    "\n",
    "\n",
    "- Train and Test a linear SVM using the method one against rest"
   ]
  },
  {
   "cell_type": "code",
   "execution_count": null,
   "metadata": {},
   "outputs": [
    {
     "name": "stdout",
     "output_type": "stream",
     "text": [
      "[1 2 2 3 1 2 1 1 3 3 2 2 1 2 1 3 2 2 3 1 1 1 3 1 1 2 3 2 1 3 2 1 3 2 2 1 2\n",
      " 1 1 2 1 1 3 2 2 2 1 2 2 2 3 3 1 2 3 3 2 2 1 2 3 3 2 3 2 2 2 1 1 3 1 3 1 1\n",
      " 2 2 1 1 1 2 1 2 3 2 2 2 3 3 2 1 1 2 3 3 1 2 3 3 3 3 2 1 2 1 3 1 1 2 1 1 3\n",
      " 2 1 3 3 1 1 3 3 3 2 2 2 2 2 2 3 1 2 2 1 2 2]\n"
     ]
    }
   ],
   "source": [
    "print(ytrain)"
   ]
  },
  {
   "cell_type": "code",
   "execution_count": null,
   "metadata": {},
   "outputs": [],
   "source": [
    "ytrain[0]=4"
   ]
  },
  {
   "cell_type": "code",
   "execution_count": null,
   "metadata": {},
   "outputs": [],
   "source": [
    "clf = SVC(kernel='linear', C = 1000, decision_function_shape=\"ovo\").fit(Xtrain, ytrain)"
   ]
  },
  {
   "cell_type": "code",
   "execution_count": null,
   "metadata": {},
   "outputs": [
    {
     "name": "stdout",
     "output_type": "stream",
     "text": [
      "[[ 1.00000000e+03  1.00000000e+03  1.00000000e+03  0.00000000e+00\n",
      "   1.00000000e+03  1.00000000e+03  1.00000000e+03  0.00000000e+00\n",
      "   1.00000000e+03  0.00000000e+00  1.00000000e+03  3.97480416e+02\n",
      "  -1.00000000e+03 -1.00000000e+03 -1.00000000e+03 -8.67075618e+02\n",
      "  -0.00000000e+00 -1.00000000e+03 -1.00000000e+03 -0.00000000e+00\n",
      "  -0.00000000e+00 -0.00000000e+00 -1.00000000e+03 -0.00000000e+00\n",
      "  -5.30404798e+02 -1.00000000e+03 -0.00000000e+00 -0.00000000e+00\n",
      "  -2.90534952e+00 -0.00000000e+00 -0.00000000e+00 -1.00000000e+03]\n",
      " [ 2.90534952e+00  0.00000000e+00  0.00000000e+00  0.00000000e+00\n",
      "   0.00000000e+00  0.00000000e+00  0.00000000e+00  0.00000000e+00\n",
      "   0.00000000e+00  0.00000000e+00  0.00000000e+00  0.00000000e+00\n",
      "   0.00000000e+00  0.00000000e+00  0.00000000e+00  0.00000000e+00\n",
      "   4.46890812e+02  0.00000000e+00  1.00000000e+03  1.00000000e+03\n",
      "   1.00000000e+03  1.00000000e+03  2.81125758e+02  0.00000000e+00\n",
      "   0.00000000e+00  0.00000000e+00 -1.00000000e+03 -7.28016570e+02\n",
      "  -1.00000000e+03 -1.00000000e+03 -1.00000000e+03 -1.00000000e+03]\n",
      " [ 0.00000000e+00  0.00000000e+00  0.00000000e+00  1.22801052e+02\n",
      "   0.00000000e+00  2.63373843e+01  0.00000000e+00  6.31346470e+02\n",
      "   0.00000000e+00  2.19515094e+02  0.00000000e+00  0.00000000e+00\n",
      "   0.00000000e+00  0.00000000e+00  0.00000000e+00  0.00000000e+00\n",
      "   0.00000000e+00  0.00000000e+00  0.00000000e+00  0.00000000e+00\n",
      "   0.00000000e+00  0.00000000e+00  1.50002938e+02  7.43543614e+01\n",
      "   2.32051398e+02  5.43591303e+02  0.00000000e+00  0.00000000e+00\n",
      "   5.83278432e-01  0.00000000e+00  0.00000000e+00 -5.83278432e-01]]\n"
     ]
    }
   ],
   "source": [
    "print(clf.dual_coef_)"
   ]
  },
  {
   "cell_type": "code",
   "execution_count": null,
   "metadata": {},
   "outputs": [
    {
     "name": "stdout",
     "output_type": "stream",
     "text": [
      "[[13.3   2.19]\n",
      " [13.24  2.69]\n",
      " [13.05  3.  ]\n",
      " [13.56  3.29]\n",
      " [13.05  2.68]\n",
      " [12.85  2.37]\n",
      " [13.24  2.63]\n",
      " [13.05  3.27]\n",
      " [12.93  2.41]\n",
      " [13.29  3.23]\n",
      " [13.05  2.43]\n",
      " [13.2   2.76]\n",
      " [13.03  2.03]\n",
      " [13.05  2.65]\n",
      " [12.72  2.53]\n",
      " [12.7   2.55]\n",
      " [12.6   1.36]\n",
      " [12.99  2.89]\n",
      " [13.67  1.79]\n",
      " [12.29  1.02]\n",
      " [13.05  1.59]\n",
      " [12.37  0.57]\n",
      " [13.49  1.84]\n",
      " [12.37  3.1 ]\n",
      " [11.56  5.08]\n",
      " [13.86  2.86]\n",
      " [12.7   1.2 ]\n",
      " [12.88  1.22]\n",
      " [13.08  1.39]\n",
      " [12.86  1.25]\n",
      " [12.79  1.36]\n",
      " [13.16  3.24]]\n"
     ]
    }
   ],
   "source": [
    "print(clf.support_vectors_)"
   ]
  },
  {
   "cell_type": "markdown",
   "metadata": {},
   "source": [
    "- Train and Test a linear SVM using the method one against one"
   ]
  },
  {
   "cell_type": "code",
   "execution_count": null,
   "metadata": {},
   "outputs": [
    {
     "name": "stdout",
     "output_type": "stream",
     "text": [
      "[-48.1787844  -12.59120745   0.50031971  37.53217581   1.11277128\n",
      "   3.11024573]\n"
     ]
    }
   ],
   "source": [
    "print(clf.intercept_)"
   ]
  },
  {
   "cell_type": "code",
   "execution_count": null,
   "metadata": {},
   "outputs": [
    {
     "name": "stdout",
     "output_type": "stream",
     "text": [
      "[-48.1787844  -12.59120745   0.50031971  37.53217581   1.11277128\n",
      "   3.11024573]\n"
     ]
    }
   ],
   "source": [
    "clf = SVC(kernel='linear', C = 1000, decision_function_shape=\"ovo\").fit(Xtrain, ytrain)\n",
    "print(clf.intercept_)"
   ]
  },
  {
   "cell_type": "markdown",
   "metadata": {},
   "source": [
    "- compare the result of the two methods?"
   ]
  },
  {
   "cell_type": "code",
   "execution_count": null,
   "metadata": {},
   "outputs": [],
   "source": [
    "..."
   ]
  },
  {
   "cell_type": "markdown",
   "metadata": {},
   "source": [
    "# Practice\n",
    "\n",
    "Next, we want to include all the features from the data set.  "
   ]
  },
  {
   "cell_type": "code",
   "execution_count": null,
   "metadata": {},
   "outputs": [],
   "source": [
    "X = data.drop('class', 1).to_numpy()\n",
    "y = data['class'].to_numpy()\n",
    "Xtrain, Xtest, ytrain, ytest = train_test_split(X, y, test_size=0.25, random_state = 42)"
   ]
  },
  {
   "cell_type": "markdown",
   "metadata": {},
   "source": [
    "Because we are now significantly increasing the number of features, since we have few training example we need to prevent overfitting.\n",
    "\n",
    "- Train and test a SVM classifier solution in this case"
   ]
  },
  {
   "cell_type": "code",
   "execution_count": null,
   "metadata": {},
   "outputs": [],
   "source": [
    "..."
   ]
  },
  {
   "cell_type": "markdown",
   "metadata": {},
   "source": [
    "- Conclude, What is your remarks about overfitting and generalisation compared to the previous results?"
   ]
  },
  {
   "cell_type": "code",
   "execution_count": null,
   "metadata": {},
   "outputs": [],
   "source": []
  }
 ],
 "metadata": {
  "interpreter": {
   "hash": "4373f270b90ecccfda4fe2a21b65b360181de506de5f9021897b2095593032c4"
  },
  "kernelspec": {
   "display_name": "Python 3.9.10",
   "language": "python",
   "name": "python3"
  },
  "language_info": {
   "codemirror_mode": {
    "name": "ipython",
    "version": 3
   },
   "file_extension": ".py",
   "mimetype": "text/x-python",
   "name": "python",
   "nbconvert_exporter": "python",
   "pygments_lexer": "ipython3",
   "version": "3.9.10"
  }
 },
 "nbformat": 4,
 "nbformat_minor": 2
}
