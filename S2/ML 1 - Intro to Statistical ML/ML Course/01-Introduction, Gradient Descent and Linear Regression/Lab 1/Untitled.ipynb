{
 "cells": [
  {
   "cell_type": "code",
   "execution_count": 15,
   "id": "dd6598c6",
   "metadata": {},
   "outputs": [
    {
     "ename": "SyntaxError",
     "evalue": "invalid syntax (467669736.py, line 4)",
     "output_type": "error",
     "traceback": [
      "\u001b[0;36m  File \u001b[0;32m\"/var/folders/kq/4phtjsxn40794zp8lvjfsccw0000gn/T/ipykernel_70920/467669736.py\"\u001b[0;36m, line \u001b[0;32m4\u001b[0m\n\u001b[0;31m    PYSPARK_PYTHON=/opt/continuum/anaconda/bin/python spark-submit pyspark_script.py\u001b[0m\n\u001b[0m                   ^\u001b[0m\n\u001b[0;31mSyntaxError\u001b[0m\u001b[0;31m:\u001b[0m invalid syntax\n"
     ]
    }
   ],
   "source": [
    "# spark-basic.py\n",
    "from pyspark import SparkContext\n",
    "import numpy as np\n",
    "\n",
    "PYSPARK_PYTHON=/opt/continuum/anaconda/bin/python spark-submit pyspark_script.py\n",
    "\n",
    "sc = SparkContext(master=\"local[4]\")\n",
    "lst=np.random(0,10,20)\n",
    "A= sc.parallelize(ls)\n",
    "A"
   ]
  }
 ],
 "metadata": {
  "kernelspec": {
   "display_name": "Python 3 (ipykernel)",
   "language": "python",
   "name": "python3"
  },
  "language_info": {
   "codemirror_mode": {
    "name": "ipython",
    "version": 3
   },
   "file_extension": ".py",
   "mimetype": "text/x-python",
   "name": "python",
   "nbconvert_exporter": "python",
   "pygments_lexer": "ipython3",
   "version": "3.9.7"
  }
 },
 "nbformat": 4,
 "nbformat_minor": 5
}
