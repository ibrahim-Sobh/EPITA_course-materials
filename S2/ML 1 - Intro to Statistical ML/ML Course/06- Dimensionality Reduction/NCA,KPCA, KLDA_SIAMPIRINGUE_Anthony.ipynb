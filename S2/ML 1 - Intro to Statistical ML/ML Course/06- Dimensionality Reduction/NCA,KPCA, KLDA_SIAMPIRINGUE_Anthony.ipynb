{
 "cells": [
  {
   "cell_type": "markdown",
   "metadata": {},
   "source": [
    "# <center> LAb 6b: NCA, LDA and PCA with Kernels functions<br> Kernel Principal Components Analysis (KPCA)<br>Kernel Linear Discriminant Analysis(KLDA)<br> <small>Réda DEHAK<br> 25 june 2021</small> </center>\n",
    "\n",
    "The goal of this lab is :\n",
    "\n",
    "    - Reproduce the result of this scientific paper about NCA: \n",
    "[J. Goldberger, G. Hinton, S. Roweis, R. Salakhutdinov, \"Neighbourhood Components Analysis\", Advances in Neural Information Processing Systems, vol 17, pp. 513-520, 2005.](https://www.cs.toronto.edu/~hinton/absps/nca.pdf)\n",
    "    \n",
    "     - Test and use KPCA and KLDA:\n",
    "[S. Mika, G. Rätsch,J. Weston,B. Schölkopf, KR. Müller, \"Fisher discriminant analysis with kernels\", Neural Networks for Signal Processing, vol IX. pp. 41–48, 1999.](https://doc.ml.tu-berlin.de/publications/publications/MikRaeWesSchMue99.pdf)\n",
    "    \n",
    "    \n",
    "We will use the [optdigits dataset](https://archive.ics.uci.edu/ml/machine-learning-databases/optdigits/) from UCI. This database is a small set of handwritten digits compared to the MNIST databases. A preprocessing program available by NIST was used to extract 64 features which represent the number of on pixel of nonoverlapping blocks of 4x4 extracted from normalized image. [See](optdigits.names.txt) for more details."
   ]
  },
  {
   "cell_type": "code",
   "execution_count": 1,
   "metadata": {},
   "outputs": [],
   "source": [
    "import pandas as pd\n",
    "import numpy as np\n",
    "import matplotlib.pyplot as plt"
   ]
  },
  {
   "cell_type": "code",
   "execution_count": 2,
   "metadata": {},
   "outputs": [],
   "source": [
    "def loadData(trainfile, testfile):\n",
    "    dataTrain = pd.read_csv(trainfile, header=None)\n",
    "    dataTest = pd.read_csv(testfile, header=None)\n",
    "\n",
    "    Xtrain = dataTrain.values[:,0:-1]\n",
    "    ytrain = dataTrain.values[:,-1]\n",
    "\n",
    "    Xtest = dataTest.values[:,0:-1]\n",
    "    ytest = dataTest.values[:,-1]\n",
    "    \n",
    "    return(Xtrain, ytrain, Xtest, ytest)"
   ]
  },
  {
   "cell_type": "markdown",
   "metadata": {},
   "source": [
    "### Part 1: Neighborhood Components Analysis (NCA)\n",
    "\n",
    "1- Load circles, wines, spiral and optdigits dataset"
   ]
  },
  {
   "cell_type": "code",
   "execution_count": 3,
   "metadata": {},
   "outputs": [],
   "source": [
    "datawines = loadData('wine.tra', 'wine.tes')\n",
    "datacircles = loadData('circles.tra', 'circles.tes')\n",
    "dataspiral = loadData('spiral.tra', 'spiral.tes')\n",
    "dataoptdigit = loadData('optdigits.tra', 'optdigits.tes')"
   ]
  },
  {
   "cell_type": "code",
   "execution_count": 4,
   "metadata": {},
   "outputs": [
    {
     "name": "stdout",
     "output_type": "stream",
     "text": [
      "[[ 0  1  6 ...  1  0  0]\n",
      " [ 0  0 10 ...  3  0  0]\n",
      " [ 0  0  8 ...  0  0  0]\n",
      " ...\n",
      " [ 0  0  3 ...  9  0  0]\n",
      " [ 0  0  6 ... 16  5  0]\n",
      " [ 0  0  2 ...  0  0  0]]\n"
     ]
    }
   ],
   "source": [
    "Datas = [('Circles', datacircles), ('Wines', datawines),  ('Optdigits', dataoptdigit)]\n",
    "print(Datas[2][1][0])"
   ]
  },
  {
   "cell_type": "markdown",
   "metadata": {},
   "source": [
    "2- Train a KNN classifier on training data, and compute the performance on test data using different values of k."
   ]
  },
  {
   "cell_type": "code",
   "execution_count": 5,
   "metadata": {},
   "outputs": [
    {
     "name": "stdout",
     "output_type": "stream",
     "text": [
      "0.8732394366197183\n",
      "0.75\n",
      "0.852112676056338\n",
      "0.7777777777777778\n",
      "0.8028169014084507\n",
      "0.7222222222222222\n"
     ]
    }
   ],
   "source": [
    "from sklearn.neighbors import KNeighborsClassifier\n",
    "ngh = KNeighborsClassifier(n_neighbors=2)\n",
    "ngh.fit(Datas[1][1][0], Datas[1][1][1])\n",
    "print(ngh.score(Datas[1][1][0], Datas[1][1][1]))\n",
    "print(ngh.score(Datas[1][1][2], Datas[1][1][3]))\n",
    "\n",
    "\n",
    "ngh2 = KNeighborsClassifier(n_neighbors=3)\n",
    "ngh2.fit(Datas[1][1][0], Datas[1][1][1])\n",
    "print(ngh2.score(Datas[1][1][0], Datas[1][1][1]))\n",
    "print(ngh2.score(Datas[1][1][2], Datas[1][1][3]))\n",
    "\n",
    "\n",
    "ngh3 = KNeighborsClassifier(n_neighbors=4)\n",
    "ngh3.fit(Datas[1][1][0], Datas[1][1][1])\n",
    "print(ngh3.score(Datas[1][1][0], Datas[1][1][1]))\n",
    "print(ngh3.score(Datas[1][1][2], Datas[1][1][3]))"
   ]
  },
  {
   "cell_type": "markdown",
   "metadata": {},
   "source": [
    "3- try to compare the result of PCA, LDA and NCA on these data. Plot the projection of test data using PCA, LDA and NCA into two first axis."
   ]
  },
  {
   "cell_type": "code",
   "execution_count": 6,
   "metadata": {},
   "outputs": [],
   "source": [
    "from sklearn.neighbors import (KNeighborsClassifier,\n",
    "                               NeighborhoodComponentsAnalysis)\n",
    "from sklearn.decomposition import PCA\n",
    "from sklearn.discriminant_analysis import LinearDiscriminantAnalysis\n",
    "\n",
    "pca = PCA(n_components=2)\n",
    "lda = LinearDiscriminantAnalysis(n_components=2)\n",
    "nca = NeighborhoodComponentsAnalysis(n_components=2)\n",
    "Classifiers = [('PCA', pca), ('LDA', lda), ('NCA', nca)]"
   ]
  },
  {
   "cell_type": "markdown",
   "metadata": {},
   "source": [
    "4- Train a KNN classifier on training data, and compute the performance on test data using a PCA, LDA, NCA."
   ]
  },
  {
   "cell_type": "code",
   "execution_count": 7,
   "metadata": {},
   "outputs": [
    {
     "name": "stdout",
     "output_type": "stream",
     "text": [
      "1.0 PCA Circles\n",
      "0.7222222222222222 PCA Wines\n",
      "0.5364496382860323 PCA Optdigits\n",
      "1.0 LDA Circles\n",
      "0.9722222222222222 LDA Wines\n",
      "0.5759599332220368 LDA Optdigits\n",
      "1.0 NCA Circles\n",
      "0.9722222222222222 NCA Wines\n",
      "0.6605453533667223 NCA Optdigits\n"
     ]
    }
   ],
   "source": [
    "for i, (name, model) in enumerate(Classifiers):\n",
    "    for (named, d) in Datas:\n",
    "        d2=model.fit_transform(d[0],d[1])  \n",
    "        ngh=KNeighborsClassifier(n_neighbors=2)\n",
    "        ngh.fit(d2,d[1])\n",
    "#         print(named,name)\n",
    "        print(ngh.score(model.transform(d[2]),d[3]),name,named)"
   ]
  },
  {
   "cell_type": "markdown",
   "metadata": {},
   "source": [
    "5- Conclude, How to improve the performances of these methods (show an example)?"
   ]
  },
  {
   "cell_type": "code",
   "execution_count": 8,
   "metadata": {},
   "outputs": [
    {
     "name": "stdout",
     "output_type": "stream",
     "text": [
      "1.0 PCA Circles\n",
      "0.75 PCA Wines\n",
      "0.5731775180856984 PCA Optdigits\n",
      "1.0 LDA Circles\n",
      "0.9722222222222222 LDA Wines\n",
      "0.6199220923761826 LDA Optdigits\n",
      "1.0 NCA Circles\n",
      "0.9722222222222222 NCA Wines\n",
      "0.7039510294936004 NCA Optdigits\n"
     ]
    }
   ],
   "source": [
    "#We can improve the performances by raising the numbers of components used in ne PCA/LDA,NCA\n",
    "pca = PCA(n_components=2)\n",
    "lda = LinearDiscriminantAnalysis(n_components=2)\n",
    "nca = NeighborhoodComponentsAnalysis(n_components=2)\n",
    "Classifiers = [('PCA', pca), ('LDA', lda), ('NCA', nca)]\n",
    "for i, (name, model) in enumerate(Classifiers):\n",
    "    for (named, d) in Datas:\n",
    "        d2=model.fit_transform(d[0],d[1])  \n",
    "        ngh=KNeighborsClassifier(n_neighbors=5)\n",
    "        ngh.fit(d2,d[1])\n",
    "#         print(named,name)\n",
    "        print(ngh.score(model.transform(d[2]),d[3]),name,named)"
   ]
  },
  {
   "cell_type": "markdown",
   "metadata": {},
   "source": [
    "### Part 2: Nolinear dimension reduction (Kernel Methods)\n",
    "\n",
    "- Train a KPCA with linear kernel and compare the result to the classical PCA"
   ]
  },
  {
   "cell_type": "code",
   "execution_count": 9,
   "metadata": {},
   "outputs": [],
   "source": [
    "from sklearn.metrics.pairwise import rbf_kernel, polynomial_kernel, linear_kernel\n",
    "from sklearn.decomposition import PCA, KernelPCA\n",
    "from sklearn.datasets import make_circles\n",
    "\n",
    "X, y = make_circles(n_samples=400, factor=.3, noise=.05)"
   ]
  },
  {
   "cell_type": "code",
   "execution_count": 10,
   "metadata": {},
   "outputs": [
    {
     "name": "stdout",
     "output_type": "stream",
     "text": [
      "[0.71689036 0.51756604]\n",
      "[0.71689036 0.51756604 0.        ]\n"
     ]
    }
   ],
   "source": [
    "pca_simple=PCA(n_components=2)\n",
    "pca_simple.fit(X)\n",
    "X_transformed=pca_simple.transform(X)\n",
    "print(X_transformed[0])\n",
    "\n",
    "kpca_linearkrnl=KernelPCA(n_components=3, kernel='linear')\n",
    "kpca_linearkrnl.fit(X)\n",
    "X_transformed2=kpca_linearkrnl.transform(X)\n",
    "print(X_transformed2[0])"
   ]
  },
  {
   "cell_type": "markdown",
   "metadata": {},
   "source": [
    "- Test the result with polynomial and RBF kernels"
   ]
  },
  {
   "cell_type": "code",
   "execution_count": 11,
   "metadata": {},
   "outputs": [
    {
     "name": "stdout",
     "output_type": "stream",
     "text": [
      "[ 0.71678206  0.51968558  0.11847969 -0.24639507  0.07711328  0.        ]\n",
      "[ 0.5871431   0.20512666  0.13612881 -0.10249735 -0.24844354  0.02199329\n",
      " -0.09417008]\n"
     ]
    }
   ],
   "source": [
    "kpca_polykrnl=KernelPCA(n_components=6, kernel='poly',degree=2)\n",
    "kpca_polykrnl.fit(X)\n",
    "X_transformed3=kpca_polykrnl.transform(X)\n",
    "print(X_transformed3[0])\n",
    "\n",
    "\n",
    "kpca_rbfkrnl=KernelPCA(n_components=7, kernel='rbf')\n",
    "kpca_rbfkrnl.fit(X)\n",
    "X_transformed4=kpca_rbfkrnl.transform(X)\n",
    "print(X_transformed4[0])"
   ]
  },
  {
   "cell_type": "markdown",
   "metadata": {},
   "source": [
    "- Write a function that fit a KLDA on the X dataset, use the kernel function as a parameter.\n",
    "\n",
    "- Train a KLDA with linear kernel and compare the result to the classical LDA"
   ]
  },
  {
   "cell_type": "code",
   "execution_count": 12,
   "metadata": {},
   "outputs": [
    {
     "name": "stdout",
     "output_type": "stream",
     "text": [
      "Simple LDA: 0.5025\n",
      "linear kernel LDA: 0.5025\n",
      "poly kernel LDA: 1.0\n",
      "RBF kernel LDA: 1.0\n"
     ]
    }
   ],
   "source": [
    "def fit_KLDA(X,y,kernel,degree=None):\n",
    "    lda=LinearDiscriminantAnalysis()\n",
    "    if degree != None: \n",
    "        krnl=kernel(X=X,degree=degree)\n",
    "    else:\n",
    "        krnl=kernel(X=X)\n",
    "    lda.fit(krnl,y)\n",
    "    score=lda.score(krnl,y)\n",
    "    return lda,score\n",
    "\n",
    "\n",
    "lda2 = LinearDiscriminantAnalysis()\n",
    "lda2.fit(X,y)\n",
    "print('Simple LDA:',lda2.score(X,y))\n",
    "\n",
    "# X_new=np.hstack((X,y.reshape(-1,1)))\n",
    "X_new=X\n",
    "lda2_lin,score_link=fit_KLDA(X_new,y,linear_kernel)\n",
    "print(\"linear kernel LDA:\",score_link)\n",
    "\n",
    "lda2_pol,score_polk=fit_KLDA(X_new,y,polynomial_kernel,degree=2)\n",
    "print(\"poly kernel LDA:\",score_polk)\n",
    "\n",
    "lda2_rbf,score_rbfk=fit_KLDA(X_new,y,rbf_kernel)\n",
    "print(\"RBF kernel LDA:\",score_rbfk)\n"
   ]
  },
  {
   "cell_type": "markdown",
   "metadata": {},
   "source": [
    "- Try to use a KPCA of the optdigit data (use different kernel functions)\n",
    "- Plot each example of the testing data in the first two factorial axis of PCA(2D space), use different color foreach classe? compare with the classical PCA, what did you conclude?"
   ]
  },
  {
   "cell_type": "code",
   "execution_count": 13,
   "metadata": {},
   "outputs": [
    {
     "name": "stdout",
     "output_type": "stream",
     "text": [
      "[12.4458038  -4.71301287]\n",
      "[12.44580352 -4.71301334]\n",
      "[ 15.59292244 -10.46225379]\n",
      "[ 0.00652944 -0.00084095]\n"
     ]
    }
   ],
   "source": [
    "Xtrain_optdigit,ytrain_optdigit,Xtest_optdigit,ytest_optdigit=dataoptdigit\n",
    "\n",
    "pca_simple=PCA(n_components=2)\n",
    "pca_simple.fit(Xtrain_optdigit)\n",
    "Xtrain_optdigit_transformed=pca_simple.transform(Xtrain_optdigit)\n",
    "print(Xtrain_optdigit_transformed[0])\n",
    "\n",
    "kpca_linearkrnl=KernelPCA(n_components=2, kernel='linear')\n",
    "kpca_linearkrnl.fit(Xtrain_optdigit)\n",
    "Xtrain_optdigit_transformed2=kpca_linearkrnl.transform(Xtrain_optdigit)\n",
    "print(Xtrain_optdigit_transformed2[0])\n",
    "\n",
    "kpca_polykrnl=KernelPCA(n_components=2, kernel='poly',degree=2)\n",
    "kpca_polykrnl.fit(Xtrain_optdigit)\n",
    "Xtrain_optdigit_transformed3=kpca_polykrnl.transform(Xtrain_optdigit)\n",
    "print(Xtrain_optdigit_transformed3[0])\n",
    "\n",
    "\n",
    "kpca_rbfkrnl=KernelPCA(n_components=2, kernel='rbf')\n",
    "kpca_rbfkrnl.fit(Xtrain_optdigit)\n",
    "Xtrain_optdigit_transformed4=kpca_rbfkrnl.transform(Xtrain_optdigit)\n",
    "print(Xtrain_optdigit_transformed4[0])"
   ]
  },
  {
   "cell_type": "markdown",
   "metadata": {},
   "source": [
    "- Train a KNN on the projected data into the $d$ first factorial axis of KPCA, and test the performances on the testing data? try different values of $d$ and $k$?  "
   ]
  },
  {
   "cell_type": "code",
   "execution_count": null,
   "metadata": {},
   "outputs": [],
   "source": []
  },
  {
   "cell_type": "markdown",
   "metadata": {},
   "source": [
    "We will try a Kernel Linear Discriminant Analysis method to separate the 10 classes. Train a Kernel Linear Discriminant Analysis on the training data and plot each example in the 2d plan corresponding to the two axis with largest eigen values? what did you conclude? (use different kernel functions)"
   ]
  },
  {
   "cell_type": "code",
   "execution_count": null,
   "metadata": {},
   "outputs": [],
   "source": []
  },
  {
   "cell_type": "markdown",
   "metadata": {},
   "source": [
    "Train a KNN on the projected data into the $d$ first axis of KLDA and test the performances on the testing data? try different values of $d$ and $k$?"
   ]
  },
  {
   "cell_type": "code",
   "execution_count": null,
   "metadata": {},
   "outputs": [],
   "source": []
  },
  {
   "cell_type": "markdown",
   "metadata": {},
   "source": [
    "Compare the performances of the KNN with PCA, LDA, NCA, KPCA and KLDA?"
   ]
  },
  {
   "cell_type": "code",
   "execution_count": null,
   "metadata": {},
   "outputs": [],
   "source": []
  },
  {
   "cell_type": "markdown",
   "metadata": {},
   "source": [
    "$$ \n",
    "FISHER's Linear Discriminant\n",
    "$$\n",
    "$$  \n",
    "J(w)= \\frac{w^TS_Bw}{w^TS_Ww}\n",
    "$$\n",
    "$$\n",
    "S_B:= (\\frac{1}{l_1}\\sum_{j=1}^{l_1}x_j^1 - \\frac{1}{l_2}\\sum_{j=1}^{l_2}x_j^2) (\\frac{1}{l_1}\\sum_{j=1}^{l_1}x_j^1 - \\frac{1}{l_2}\\sum_{j=1}^{l_2}x_j^2)^T\n",
    "$$\n",
    "$$\n",
    "S_W:= \\sum_{i=1,2} \\sum_{x \\in X_i} (x-m_i)(x-m_i)^T\n",
    "$$"
   ]
  },
  {
   "cell_type": "markdown",
   "metadata": {},
   "source": [
    "$$\n",
    "FISHER's$Discriminant"
   ]
  },
  {
   "cell_type": "code",
   "execution_count": 14,
   "metadata": {},
   "outputs": [
    {
     "name": "stdout",
     "output_type": "stream",
     "text": [
      "2 (400, 2)\n",
      "m1 [[ 0.00057027 -0.00767109]]\n",
      "m2 [[-0.00180762 -0.00370207]]\n",
      "SB: [[2.14074471e-05]]\n",
      "S1 [[100.65310727  -0.75904397]\n",
      " [ -0.75904397 100.2986766 ]]\n",
      "S2 [[9.4258856  0.19334786]\n",
      " [0.19334786 9.44739373]]\n",
      "SW: [[110.07899287  -0.56569611]\n",
      " [ -0.56569611 109.74607033]]\n",
      "SW-1 [[ 2.14163405e-05]\n",
      " [-3.60550804e-05]]\n",
      "(2, 1) (200, 2)\n",
      "[[ 1.96871563e-05 -4.24096297e-05 -2.44816677e-05 -3.70898462e-05\n",
      "   1.64807640e-05  2.56250376e-05 -2.74797842e-06  4.45993705e-06\n",
      "   5.63932607e-06  2.71750632e-05  3.86397159e-05  6.90546598e-06\n",
      "   3.25451666e-05 -1.99238552e-05 -3.17551238e-05  3.87790800e-05\n",
      "  -2.73849833e-05 -1.15282023e-05  2.15171429e-05  4.44706189e-05\n",
      "   8.01917310e-06 -4.04342457e-05 -1.54083655e-05  3.49508420e-05\n",
      "  -1.55602864e-05  4.25442281e-05 -3.82801585e-05 -3.66813599e-05\n",
      "   3.91608582e-05  3.42082029e-05  2.81778815e-05  1.54124152e-06\n",
      "  -1.57694545e-05 -1.31332793e-05  1.34002831e-05 -3.54357062e-05\n",
      "  -3.95429330e-05 -3.75382509e-05  5.50354460e-06  2.37444614e-05\n",
      "  -1.56862652e-05 -2.46348034e-05 -2.47116167e-06  3.77562337e-05\n",
      "   1.44920768e-05  3.86849723e-05 -4.30385456e-05 -8.45555319e-06\n",
      "   1.03373232e-05 -3.90464901e-05  2.32770734e-05 -1.16787321e-05\n",
      "   4.47278033e-06  6.90453036e-06 -2.20109469e-05 -2.14325221e-05\n",
      "   1.69249805e-05  3.26302292e-05  1.64712045e-05 -3.40069931e-05\n",
      "  -1.67706171e-06 -4.29551678e-05 -8.64470137e-06 -4.04604361e-05\n",
      "   3.05801735e-05  3.81742456e-05 -4.34453102e-05 -3.02278471e-05\n",
      "   2.94584587e-05  1.04388936e-05  2.44116765e-05  3.79442735e-05\n",
      "  -3.68264296e-05  2.32140584e-06  3.85489523e-05 -6.42200200e-06\n",
      "  -2.26077822e-05 -3.55104091e-05  7.90938495e-06  4.16634104e-05\n",
      "  -3.60805268e-05  3.92545863e-05  1.15310037e-05  3.58323765e-05\n",
      "  -4.13973265e-05 -3.72282765e-05 -3.75291129e-05  8.88157130e-06\n",
      "  -2.63409144e-05  4.47843999e-05 -3.09721636e-05 -2.80364681e-06\n",
      "   3.95136160e-05 -1.05324618e-05 -2.97298567e-05 -4.11341183e-05\n",
      "   1.28024194e-05  4.12637477e-05 -2.90972269e-05 -6.47086898e-06\n",
      "  -4.03118490e-05 -2.92510638e-05 -2.33177643e-05 -1.12694325e-05\n",
      "  -2.19905530e-05 -4.91338290e-06  4.07667842e-05 -2.82489100e-05\n",
      "  -3.97971293e-05  4.18955590e-05 -4.19926503e-05 -3.21546644e-05\n",
      "   3.86064295e-05  1.45870826e-05  4.38198427e-05  3.06257709e-05\n",
      "  -1.66275032e-05  3.64106828e-05 -3.59985754e-05 -2.89654852e-05\n",
      "  -2.58500593e-05 -3.10087443e-05 -3.94606899e-05  7.51876302e-06\n",
      "   3.85186794e-05 -4.37811549e-05  3.19339989e-05 -2.09223453e-05\n",
      "   2.53073913e-05  4.36268462e-05  2.91318936e-05 -3.51992836e-05\n",
      "   4.02555647e-05  3.60824068e-05  3.08162476e-05  4.38795144e-05\n",
      "  -3.54489637e-05  3.94049891e-05 -4.17123858e-05 -5.25352504e-06\n",
      "   2.84250652e-05 -3.27662718e-06  2.14110197e-05 -3.93932654e-05\n",
      "   4.42105101e-05  3.32744412e-05 -2.52512616e-05 -4.46844835e-05\n",
      "   3.94017814e-05  1.17188791e-05 -2.00046156e-05 -1.24265649e-05\n",
      "   9.29734536e-06 -1.06681783e-05 -3.07394660e-05  3.92373884e-05\n",
      "   2.61293036e-05 -1.73001909e-05  3.97243144e-05  7.24884273e-07\n",
      "  -3.81456835e-05  3.64011451e-05  3.82910778e-05  2.98738560e-05\n",
      "   3.23776904e-05 -4.21714328e-05  4.16686636e-05 -2.37090789e-05\n",
      "  -3.32379472e-05  4.27698281e-06 -4.25698416e-05 -4.02546783e-05\n",
      "   3.17352021e-05 -4.11291266e-05  1.87858286e-05  1.83082274e-05\n",
      "  -2.88995087e-05 -3.06486027e-05  3.15415239e-05 -6.06109174e-06\n",
      "   3.30485014e-05  2.04294081e-06  2.61896065e-05  2.61142652e-05\n",
      "  -1.58141424e-05  3.85495542e-05 -4.07638331e-05 -1.46537818e-05\n",
      "   1.99194260e-05  3.72689401e-05  3.96850831e-05  1.06549806e-06\n",
      "  -1.63974106e-05  1.02438732e-05  2.41057003e-05  9.28636115e-06\n",
      "  -4.26175200e-05 -1.03709663e-05  4.02245709e-05 -4.01037509e-05]]\n"
     ]
    }
   ],
   "source": [
    "classes=list(set(y))\n",
    "nb_classes=len(set(y))\n",
    "\n",
    "print(nb_classes,X.shape)\n",
    "class1=X[[i for i in range(y.shape[0]) if y[i] == classes[0]]]\n",
    "class2=X[[i for i in range(y.shape[0]) if y[i] == classes[1]]]\n",
    "\n",
    "l1=len(class1)\n",
    "l2=len(class2)\n",
    "\n",
    "m1= np.mean(class1,axis=0).reshape(-1,2)\n",
    "m2= np.mean(class2,axis=0).reshape(-1,2)\n",
    "print('m1',m1)\n",
    "print('m2',m2)\n",
    "\n",
    "SB=(m1-m2)@(m1-m2).T\n",
    "print('SB:',SB)\n",
    "\n",
    "\n",
    "S1=(class1-m1).T@(class1-m1)\n",
    "print('S1',S1)\n",
    "\n",
    "S2=(class2-m2).T@(class2-m2)\n",
    "print('S2',S2)\n",
    "\n",
    "# SW=(class1-m1).T@(class1-m1) + (class2-m2).T@(class2-m2)\n",
    "SW= S1 + S2\n",
    "print('SW:',SW)\n",
    "\n",
    "V=(np.linalg.inv(SW)@(m1-m2).T).reshape(-1,1)\n",
    "print('SW-1',V)\n",
    "# print('SB/SW:',SB/SW)\n",
    "\n",
    "print(V.shape,class1.shape)\n",
    "print(V.T@class1.T)"
   ]
  },
  {
   "cell_type": "code",
   "execution_count": 119,
   "metadata": {},
   "outputs": [],
   "source": [
    "def linear_kernel2(X,y=None):\n",
    "    if y != None:\n",
    "        return np.hstack((X,y.reshape(-1,1)))\n",
    "    else:\n",
    "        return X  \n",
    "     \n",
    "def polynomial_kernel2(X,y=None,degree=2):\n",
    "    if y == None:\n",
    "        y = X\n",
    "    return (X.T @ y + 1)**degree"
   ]
  },
  {
   "cell_type": "code",
   "execution_count": 120,
   "metadata": {},
   "outputs": [
    {
     "data": {
      "text/plain": [
       "(400, 400)"
      ]
     },
     "execution_count": 120,
     "metadata": {},
     "output_type": "execute_result"
    }
   ],
   "source": [
    "# polynomial_kernel(X,y,degree=2).shape\n",
    "X_new=np.hstack((X,y.reshape(-1,1)))\n",
    "polynomial_kernel2(X_new,degree=2).shape"
   ]
  },
  {
   "cell_type": "code",
   "execution_count": 171,
   "metadata": {},
   "outputs": [],
   "source": [
    "class KLDA:\n",
    "    def __init__(self,kernel,degree=None):\n",
    "        self.kernel=kernel\n",
    "        self.degree=degree\n",
    "    \n",
    "    def fit(self,X,y):\n",
    "        self.classes=list(set(y))\n",
    "        self.nbclasses=len(self.classes)\n",
    "        if self.degree == None: \n",
    "            X_kernel=self.kernel(X)\n",
    "        else:\n",
    "            X_kernel=self.kernel(X,degree=self.degree)\n",
    "        print(np.mean(X_kernel),axis=0)\n",
    "        \n",
    "        self.class1=X_kernel[[i for i in range(y.shape[0]) if y[i] == self.classes[0]]]\n",
    "        self.class2=X_kernel[[i for i in range(y.shape[0]) if y[i] == self.classes[1]]]\n",
    "        self.l1=len(self.class1)\n",
    "        self.l2=len(self.class2)\n",
    "        self.m1= np.mean(self.class1,axis=0).reshape(-1,self.class1.shape[1])\n",
    "        self.m2= np.mean(self.class2,axis=0).reshape(-1,self.class1.shape[1])\n",
    "        self.SB=(self.m1-self.m2)@(self.m1-self.m2).T\n",
    "        self.S1=(self.class1-self.m1).T@(self.class1-self.m1)\n",
    "        self.S2=(self.class2-self.m2).T@(self.class2-self.m2)\n",
    "        self.SW= self.S1 + self.S2\n",
    "        self.V=(np.linalg.inv(self.SW)@(self.m1-self.m2).T).reshape(-1,1)\n",
    "        \n",
    "        \n",
    "    def predict(self,X):\n",
    "        if self.degree == None: \n",
    "            X_kernel=self.kernel(X)\n",
    "        else:\n",
    "            X_kernel=self.kernel(X,degree=self.degree)\n",
    "        predictions=self.V.T@X_kernel.T\n",
    "        print(predictions)\n",
    "        return np.sign(predictions)"
   ]
  },
  {
   "cell_type": "code",
   "execution_count": 169,
   "metadata": {
    "scrolled": true
   },
   "outputs": [
    {
     "name": "stdout",
     "output_type": "stream",
     "text": [
      "(400, 400)\n",
      "[[12.83534841 12.98864925 12.98193581 12.56983575 12.95889927 12.58343057\n",
      "  12.95241616 12.58485647 12.56562699 12.95620449 12.87205927 13.0286477\n",
      "  12.55669962 12.56820755 12.56570643 12.9505434  12.54659686 12.56045943\n",
      "  12.61601834 12.5647984  12.55695823 12.90108573 12.55518065 12.91716694\n",
      "  12.5902682  12.56557153 12.60180261 12.56273568 12.56959035 12.55361211\n",
      "  12.58482496 12.58910122 12.89169234 12.88369882 12.91001993 12.94413518\n",
      "  12.9386036  12.98256735 12.96434307 13.00348983 12.54889223 12.5572883\n",
      "  12.55562876 13.04954686 12.55828969 13.00020552 12.98426478 12.5760538\n",
      "  13.00466625 12.98957068 12.56827717 12.91666514 12.5685604  12.56573909\n",
      "  12.95924723 12.98146284 12.98275858 12.57293902 12.90993962 12.90874976\n",
      "  12.56512518 12.56422766 13.01960525 13.00774512 12.95280044 12.93030096\n",
      "  12.57475119 12.87501966 13.0004249  12.55651079 12.56107638 12.55488383\n",
      "  12.93087959 12.91603593 13.04544997 12.96311009 12.9214188  12.58094226\n",
      "  12.57433693 12.93751134 12.97783529 12.93850767 12.57357251 12.91137893\n",
      "  12.91772407 12.56338415 12.57660468 12.5579209  13.01422665 12.57609829\n",
      "  12.574135   12.54346289 12.55379284 13.00074689 12.56086952 12.93975852\n",
      "  12.58638198 12.57470908 12.57317504 12.94252607 12.88275562 12.56106661\n",
      "  13.01912647 12.98184999 12.94507031 12.54623974 12.60453652 12.55609324\n",
      "  12.92795428 12.55067771 12.5868896  12.90391379 13.01788987 12.96927354\n",
      "  12.98905827 12.92963965 12.95013574 13.01278056 13.03422456 12.58069702\n",
      "  12.55173701 12.94673738 12.91023035 12.54736386 12.89764672 12.56399905\n",
      "  12.54765622 12.56217553 12.56353015 13.10465935 12.57105314 12.5598239\n",
      "  12.90481439 13.00832995 12.57222535 12.57322392 12.56586833 12.97365956\n",
      "  12.94592988 12.91254091 12.56643846 12.57940004 12.57569609 12.98346696\n",
      "  13.05274212 12.55862971 12.5632572  12.9843761  12.90992281 12.59483574\n",
      "  12.59104899 12.54965243 12.95900094 13.13752899 12.57979306 12.55812657\n",
      "  12.92589463 12.57585089 12.594442   12.95854471 12.58705546 12.55790248\n",
      "  12.57832393 12.55242143 12.98408016 13.02676874 12.58883352 12.56821229\n",
      "  12.90896842 13.03464559 12.5642033  12.58409414 13.04616177 12.88935073\n",
      "  12.58051457 12.55459724 12.55549534 12.98220661 12.55146409 12.95486718\n",
      "  12.98695354 12.57227285 12.55795082 13.03498088 12.98322746 12.57085505\n",
      "  12.59396797 12.59744374 12.89659843 12.93781631 12.60158829 12.5493221\n",
      "  12.89219181 12.57202119 12.57769105 12.88794971 12.98548332 13.02510139\n",
      "  12.93360917 12.54499595 12.94011039 12.55036274 12.99457581 12.54179983\n",
      "  13.03672232 12.97488966 12.9768217  12.56157199 12.57679766 12.95072762\n",
      "  12.55542867 12.56548512 12.57496007 12.9374267  12.89236027 12.92704119\n",
      "  12.54699459 12.5704682  12.5628319  12.55194546 12.9976579  12.58568594\n",
      "  12.9942219  12.57800332 13.01758978 12.55452198 13.0101709  12.97932047\n",
      "  12.57542247 12.96962561 12.97368496 12.9939355  12.98443532 12.93957142\n",
      "  12.96031357 12.56567005 12.57149387 12.55915616 12.59040726 12.56264289\n",
      "  12.95458023 12.56918987 12.56581245 12.98165937 12.58302297 12.91401183\n",
      "  12.9240322  12.95500256 12.58870013 12.57707931 12.97308394 12.55771915\n",
      "  13.00793525 13.02618648 12.95697264 12.57321186 12.57706001 12.58805916\n",
      "  13.00514887 12.56759749 12.91886397 12.57656188 12.60633231 12.5726637\n",
      "  12.57994095 12.55743926 12.56585602 12.58759713 12.98248721 12.94767485\n",
      "  12.58367659 13.0142502  12.59953469 12.98352694 12.83619884 12.58363874\n",
      "  12.92966932 12.98695274 12.55453789 12.56033054 12.95647836 12.56606905\n",
      "  12.97337958 12.56607796 12.58629692 13.02694302 12.55947833 12.56842296\n",
      "  12.5936233  12.56668538 12.99108753 12.96054804 12.95555028 12.56786574\n",
      "  13.03355661 12.56444085 12.58976825 12.9793006  12.99935677 12.56398077\n",
      "  12.56874862 12.93752098 12.54856524 12.56996688 12.56417472 12.58989969\n",
      "  12.57403433 12.59247381 12.56919107 12.57578765 12.56645567 12.92365218\n",
      "  12.55140301 13.03700842 12.59705791 12.57150126 12.96266714 12.57963915\n",
      "  13.03490803 12.5912765  12.93468955 12.93851184 12.94144883 12.57300732\n",
      "  12.58032723 12.5941302  12.58743585 12.96171896 12.93292545 12.59008036\n",
      "  12.92462988 12.9536534  13.02596708 12.91409184 12.92109073 12.97213879\n",
      "  13.05516072 12.56071855 12.87587075 12.91147457 12.56005516 13.03298364\n",
      "  12.99209411 12.96914842 13.013395   12.58408369 12.5738759  12.9665967\n",
      "  13.02062034 12.54916417 12.56641379 12.57816559 12.9915222  12.57575892\n",
      "  13.00875321 12.92093638 12.96046042 12.94834916 12.9321215  13.00594306\n",
      "  12.98753289 12.54852679 12.82592607 12.94112856 12.59947414 12.98399633\n",
      "  12.56268686 12.58577697 12.90679584 12.92262434 12.92534693 12.99502775\n",
      "  12.56475485 13.01134894 12.99770354 12.95069008 12.97062197 12.55623592\n",
      "  12.95844032 12.55532026 12.59924724 13.02301635 12.92972475 12.93977375\n",
      "  13.01295167 12.54066281 12.58373368 12.62170039 12.59073558 12.56950566\n",
      "  12.55427006 12.58856974 13.00385558 12.9209467  12.9944116  12.55933568\n",
      "  13.01173494 12.92962433 12.94542714 12.56549795]]\n"
     ]
    }
   ],
   "source": [
    "klda=KLDA(polynomial_kernel2,degree=2)\n",
    "klda=KLDA(polynomial_kernel,degree=2)\n",
    "klda.fit(X,y)\n",
    "preds=klda.predict(X).T"
   ]
  },
  {
   "cell_type": "code",
   "execution_count": 170,
   "metadata": {
    "scrolled": true
   },
   "outputs": [
    {
     "data": {
      "text/plain": [
       "<matplotlib.collections.PathCollection at 0x18f375ea100>"
      ]
     },
     "execution_count": 170,
     "metadata": {},
     "output_type": "execute_result"
    },
    {
     "data": {
      "image/png": "[encoded data removed]",
      "text/plain": [
       "<Figure size 432x288 with 1 Axes>"
      ]
     },
     "metadata": {
      "needs_background": "light"
     },
     "output_type": "display_data"
    }
   ],
   "source": [
    "import matplotlib.pyplot as plt\n",
    "colors=['r' if preds[i] == 1 else 'b' for i in range(len(preds))]\n",
    "plt.scatter(X[:,0].reshape(-1,1),X[:,1].reshape(-1,1),color=colors)"
   ]
  },
  {
   "cell_type": "code",
   "execution_count": 142,
   "metadata": {},
   "outputs": [
    {
     "data": {
      "text/plain": [
       "<matplotlib.collections.PathCollection at 0x18f370013d0>"
      ]
     },
     "execution_count": 142,
     "metadata": {},
     "output_type": "execute_result"
    },
    {
     "data": {
      "image/png": "[encoded data removed]",
      "text/plain": [
       "<Figure size 432x288 with 1 Axes>"
      ]
     },
     "metadata": {
      "needs_background": "light"
     },
     "output_type": "display_data"
    }
   ],
   "source": [
    "colors=['r' if y[i] == 1 else 'b' for i in range(len(y))]\n",
    "plt.scatter(X[:,0].reshape(-1,1),X[:,1].reshape(-1,1),color=colors)"
   ]
  },
  {
   "cell_type": "code",
   "execution_count": 293,
   "metadata": {},
   "outputs": [
    {
     "name": "stdout",
     "output_type": "stream",
     "text": [
      "s1 [[10.   8. ]\n",
      " [ 8.   7.2]]\n",
      "s2 [[17.33333333 16.        ]\n",
      " [16.         16.        ]]\n",
      "sw [[27.33333333 24.        ]\n",
      " [24.         23.2       ]]\n",
      "sw-1 [[ 0.39908257 -0.41284404]\n",
      " [-0.41284404  0.47018349]]\n",
      "v [[-0.79357798]\n",
      " [ 0.88990826]]\n",
      "(5, 2) (6, 2) (2, 1)\n",
      "y1 [[0.98623853 1.08256881 0.28899083 1.27522936 0.48165138]]\n",
      "y2 [[-0.79357798 -0.69724771 -1.49082569 -0.60091743 -1.29816514 -0.31192661]]\n"
     ]
    }
   ],
   "source": [
    "c1=[(1,2),(2,3),(3,3),(4,5),(5,5)]\n",
    "c2=[(1,0),(2,1),(3,1),(3,2),(5,3),(6,5)]\n",
    "\n",
    "c1=np.array(c1).reshape(len(c1),2)\n",
    "c2=np.array(c2).reshape(len(c2),2)\n",
    "mu1=np.mean(c1,axis=0)\n",
    "mu2=np.mean(c2,axis=0)\n",
    "\n",
    "s1=(c1-mu1).T@(c1-mu1)\n",
    "print('s1',s1)\n",
    "s2=(c2-mu2).T@(c2-mu2)\n",
    "print('s2',s2)\n",
    "sw=s1+s2\n",
    "print('sw',sw)\n",
    "print('sw-1',np.linalg.inv(sw))\n",
    "v=(np.linalg.inv(sw).T@(mu1-mu2)).reshape(-1,1)\n",
    "print('v',v)\n",
    "\n",
    "print(c1.shape,c2.shape,v.shape)\n",
    "y1=v.T@c1.T\n",
    "print('y1',y1)\n",
    "\n",
    "y2=v.T@c2.T\n",
    "print('y2',y2)"
   ]
  },
  {
   "cell_type": "code",
   "execution_count": null,
   "metadata": {},
   "outputs": [],
   "source": []
  }
 ],
 "metadata": {
  "kernelspec": {
   "display_name": "Python 3",
   "language": "python",
   "name": "python3"
  },
  "language_info": {
   "codemirror_mode": {
    "name": "ipython",
    "version": 3
   },
   "file_extension": ".py",
   "mimetype": "text/x-python",
   "name": "python",
   "nbconvert_exporter": "python",
   "pygments_lexer": "ipython3",
   "version": "3.8.8"
  }
 },
 "nbformat": 4,
 "nbformat_minor": 2
}
