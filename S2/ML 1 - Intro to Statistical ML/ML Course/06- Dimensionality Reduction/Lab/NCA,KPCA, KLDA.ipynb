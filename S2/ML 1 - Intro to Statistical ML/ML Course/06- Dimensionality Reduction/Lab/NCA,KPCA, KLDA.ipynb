{
 "cells": [
  {
   "cell_type": "markdown",
   "metadata": {},
   "source": [
    "# <center> LAb 6b: NCA, LDA and PCA with Kernels functions<br> Kernel Principal Components Analysis (KPCA)<br>Kernel Linear Discriminant Analysis(KLDA)<br> <small>Réda DEHAK<br> 25 june 2021</small> </center>\n",
    "\n",
    "The goal of this lab is :\n",
    "\n",
    "    - Reproduce the result of this scientific paper about NCA: \n",
    "[J. Goldberger, G. Hinton, S. Roweis, R. Salakhutdinov, \"Neighbourhood Components Analysis\", Advances in Neural Information Processing Systems, vol 17, pp. 513-520, 2005.](https://www.cs.toronto.edu/~hinton/absps/nca.pdf)\n",
    "    \n",
    "     - Test and use KPCA and KLDA:\n",
    "[S. Mika, G. Rätsch,J. Weston,B. Schölkopf, KR. Müller, \"Fisher discriminant analysis with kernels\", Neural Networks for Signal Processing, vol IX. pp. 41–48, 1999.](https://doc.ml.tu-berlin.de/publications/publications/MikRaeWesSchMue99.pdf)\n",
    "    \n",
    "    \n",
    "We will use the [optdigits dataset](https://archive.ics.uci.edu/ml/machine-learning-databases/optdigits/) from UCI. This database is a small set of handwritten digits compared to the MNIST databases. A preprocessing program available by NIST was used to extract 64 features which represent the number of on pixel of nonoverlapping blocks of 4x4 extracted from normalized image. [See](optdigits.names.txt) for more details."
   ]
  },
  {
   "cell_type": "code",
   "execution_count": 3,
   "metadata": {},
   "outputs": [],
   "source": [
    "import pandas as pd\n",
    "import numpy as np\n",
    "import matplotlib.pyplot as plt"
   ]
  },
  {
   "cell_type": "code",
   "execution_count": 4,
   "metadata": {},
   "outputs": [],
   "source": [
    "def loadData(trainfile, testfile):\n",
    "    dataTrain = pd.read_csv(trainfile, header=None)\n",
    "    dataTest = pd.read_csv(testfile, header=None)\n",
    "\n",
    "    Xtrain = dataTrain.values[:,0:-1]\n",
    "    ytrain = dataTrain.values[:,-1]\n",
    "\n",
    "    Xtest = dataTest.values[:,0:-1]\n",
    "    ytest = dataTest.values[:,-1]\n",
    "    \n",
    "    return(Xtrain, ytrain, Xtest, ytest)"
   ]
  },
  {
   "cell_type": "markdown",
   "metadata": {},
   "source": [
    "### Part 1: Neighborhood Components Analysis (NCA)\n",
    "\n",
    "1- Load circles, wines, spiral and optdigits dataset"
   ]
  },
  {
   "cell_type": "code",
   "execution_count": 5,
   "metadata": {},
   "outputs": [],
   "source": [
    "datawines = loadData('wine.tra', 'wine.tes')\n",
    "datacircles = loadData('circles.tra', 'circles.tes')\n",
    "dataspiral = loadData('spiral.tra', 'spiral.tes')\n",
    "dataoptdigit = loadData('optdigits.tra', 'optdigits.tes')"
   ]
  },
  {
   "cell_type": "code",
   "execution_count": 6,
   "metadata": {},
   "outputs": [],
   "source": [
    "Datas = [('Circles', datacircles), ('Wines', datawines),  ('Optdigits', dataoptdigit)]"
   ]
  },
  {
   "cell_type": "markdown",
   "metadata": {},
   "source": [
    "2- Train a KNN classifier on training data, and compute the performance on test data using different values of k."
   ]
  },
  {
   "cell_type": "code",
   "execution_count": null,
   "metadata": {},
   "outputs": [],
   "source": []
  },
  {
   "cell_type": "markdown",
   "metadata": {},
   "source": [
    "3- try to compare the result of PCA, LDA and NCA on these data. Plot the projection of test data using PCA, LDA and NCA into two first axis."
   ]
  },
  {
   "cell_type": "code",
   "execution_count": null,
   "metadata": {},
   "outputs": [],
   "source": [
    "from sklearn.neighbors import (KNeighborsClassifier,\n",
    "                               NeighborhoodComponentsAnalysis)\n",
    "from sklearn.decomposition import PCA\n",
    "from sklearn.discriminant_analysis import LinearDiscriminantAnalysis\n",
    "\n",
    "pca = PCA(n_components=2)\n",
    "lda = LinearDiscriminantAnalysis(n_components=2)\n",
    "nca = NeighborhoodComponentsAnalysis(n_components=2)\n",
    "Classifiers = [('PCA', pca), ('LDA', lda), ('NCA', nca)]"
   ]
  },
  {
   "cell_type": "markdown",
   "metadata": {},
   "source": [
    "4- Train a KNN classifier on training data, and compute the performance on test data using a PCA, LDA, NCA."
   ]
  },
  {
   "cell_type": "code",
   "execution_count": 6,
   "metadata": {},
   "outputs": [],
   "source": [
    "for i, (name, model) in enumerate(Classifiers):\n",
    "    for (named, d) in Datas:\n",
    "        #New Figure\n",
    "        pass"
   ]
  },
  {
   "cell_type": "markdown",
   "metadata": {},
   "source": [
    "5- Conclude, How to improve the performances of these methods (show an example)?"
   ]
  },
  {
   "cell_type": "code",
   "execution_count": null,
   "metadata": {},
   "outputs": [],
   "source": []
  },
  {
   "cell_type": "markdown",
   "metadata": {},
   "source": [
    "### Part 2: Nolinear dimension reduction (Kernel Methods)\n",
    "\n",
    "- Train a KPCA with linear kernel and compare the result to the classical PCA"
   ]
  },
  {
   "cell_type": "code",
   "execution_count": 6,
   "metadata": {},
   "outputs": [],
   "source": [
    "from sklearn.metrics.pairwise import rbf_kernel, polynomial_kernel, linear_kernel\n",
    "from sklearn.decomposition import PCA, KernelPCA\n",
    "from sklearn.datasets import make_circles\n",
    "\n",
    "X, y = make_circles(n_samples=400, factor=.3, noise=.05)"
   ]
  },
  {
   "cell_type": "code",
   "execution_count": null,
   "metadata": {},
   "outputs": [],
   "source": []
  },
  {
   "cell_type": "markdown",
   "metadata": {},
   "source": [
    "- Test the result with polynomial and RBF kernels"
   ]
  },
  {
   "cell_type": "code",
   "execution_count": null,
   "metadata": {},
   "outputs": [],
   "source": []
  },
  {
   "cell_type": "markdown",
   "metadata": {},
   "source": [
    "- Write a function that fit a KLDA on the X dataset, use the kernel function as a parameter.\n",
    "\n",
    "- Train a KLDA with linear kernel and compare the result to the classical LDA"
   ]
  },
  {
   "cell_type": "code",
   "execution_count": null,
   "metadata": {},
   "outputs": [],
   "source": []
  },
  {
   "cell_type": "markdown",
   "metadata": {},
   "source": [
    "- Try to use a KPCA of the optdigit data (use different kernel functions)\n",
    "- Plot each example of the testing data in the first two factorial axis of PCA(2D space), use different color foreach classe? compare with the classical PCA, what did you conclude?"
   ]
  },
  {
   "cell_type": "code",
   "execution_count": null,
   "metadata": {},
   "outputs": [],
   "source": []
  },
  {
   "cell_type": "markdown",
   "metadata": {},
   "source": [
    "- Train a KNN on the projected data into the $d$ first factorial axis of KPCA, and test the performances on the testing data? try different values of $d$ and $k$?  "
   ]
  },
  {
   "cell_type": "code",
   "execution_count": null,
   "metadata": {},
   "outputs": [],
   "source": []
  },
  {
   "cell_type": "markdown",
   "metadata": {},
   "source": [
    "We will try a Kernel Linear Discriminant Analysis method to separate the 10 classes. Train a Kernel Linear Discriminant Analysis on the training data and plot each example in the 2d plan corresponding to the two axis with largest eigen values? what did you conclude? (use different kernel functions)"
   ]
  },
  {
   "cell_type": "code",
   "execution_count": null,
   "metadata": {},
   "outputs": [],
   "source": []
  },
  {
   "cell_type": "markdown",
   "metadata": {},
   "source": [
    "Train a KNN on the projected data into the $d$ first axis of KLDA and test the performances on the testing data? try different values of $d$ and $k$?"
   ]
  },
  {
   "cell_type": "code",
   "execution_count": null,
   "metadata": {},
   "outputs": [],
   "source": []
  },
  {
   "cell_type": "markdown",
   "metadata": {},
   "source": [
    "Compare the performances of the KNN with PCA, LDA, NCA, KPCA and KLDA?"
   ]
  },
  {
   "cell_type": "code",
   "execution_count": null,
   "metadata": {},
   "outputs": [],
   "source": []
  }
 ],
 "metadata": {
  "interpreter": {
   "hash": "4373f270b90ecccfda4fe2a21b65b360181de506de5f9021897b2095593032c4"
  },
  "kernelspec": {
   "display_name": "Python 3.9.10",
   "language": "python",
   "name": "python3"
  },
  "language_info": {
   "codemirror_mode": {
    "name": "ipython",
    "version": 3
   },
   "file_extension": ".py",
   "mimetype": "text/x-python",
   "name": "python",
   "nbconvert_exporter": "python",
   "pygments_lexer": "ipython3",
   "version": "3.9.10"
  }
 },
 "nbformat": 4,
 "nbformat_minor": 2
}
