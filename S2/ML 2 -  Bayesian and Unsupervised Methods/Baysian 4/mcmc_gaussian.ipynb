{
 "cells": [
  {
   "cell_type": "markdown",
   "metadata": {},
   "source": [
    "# Markov Chain Monte Carlo\n",
    "\n",
    "**ps** : these exercices were kindly lent by Nicolas Chopin whom I thank."
   ]
  },
  {
   "cell_type": "markdown",
   "metadata": {},
   "source": [
    "Let us consider the following p.d.f\n",
    "\n",
    "$$\n",
    "p(x_1, x_2) = \\frac{1}{2\\pi \\sqrt{1-\\rho^2}}\\exp\\left( -\\frac{1}{2(1-\\rho^2)} (x_1^2 + x_2^2 -2\\rho x_1 x_2) \\right)\n",
    "$$\n",
    "\n",
    "with $\\rho \\in [-1, 1]$"
   ]
  },
  {
   "cell_type": "markdown",
   "metadata": {},
   "source": [
    "**Question :** Which distribution do you recognize ?"
   ]
  },
  {
   "cell_type": "markdown",
   "metadata": {},
   "source": [
    "**Answer :** bivariate normal distribution $\\pmatrix{X_1\\\\ X_2} \\sim \\mathcal{N}\\left(\\pmatrix{0\\\\0}, \\pmatrix{1 & \\rho\\\\ \\rho & 1}\\right)$. Besides we know that $X_1 \\sim \\mathcal{N}(0, 1)$ and $X_2 \\sim \\mathcal{N}(0, 1)$ with some dependency if $\\rho \\neq 0$."
   ]
  },
  {
   "cell_type": "markdown",
   "metadata": {},
   "source": [
    "**Question 1.** Compute the conditional distribution of each component and implement the corresponding Gibbs sampler."
   ]
  },
  {
   "cell_type": "code",
   "execution_count": null,
   "metadata": {},
   "outputs": [],
   "source": []
  },
  {
   "cell_type": "markdown",
   "metadata": {},
   "source": [
    "**Question 2.** Represent in the plane of the target :\n",
    "- density contours,\n",
    "- and the evolution of the simulated Markov chain\n",
    "\n",
    "What happens if $\\rho \\to 1$ ?"
   ]
  },
  {
   "cell_type": "code",
   "execution_count": null,
   "metadata": {},
   "outputs": [],
   "source": []
  },
  {
   "cell_type": "markdown",
   "metadata": {},
   "source": [
    "**Question 3.** Implement a Metropolis-Hastings algorithm where the auxiliary is a Normal distribution with variance $\\Sigma$. Begins with $\\Sigma = \\tau I_2$ and see what happens with different values of $\\tau$."
   ]
  },
  {
   "cell_type": "code",
   "execution_count": null,
   "metadata": {},
   "outputs": [],
   "source": []
  }
 ],
 "metadata": {
  "kernelspec": {
   "display_name": "Python 3.6.8 64-bit ('active': conda)",
   "language": "python",
   "name": "python36864bitactivecondaa1449828449642439efe2ad925de6334"
  },
  "language_info": {
   "codemirror_mode": {
    "name": "ipython",
    "version": 3
   },
   "file_extension": ".py",
   "mimetype": "text/x-python",
   "name": "python",
   "nbconvert_exporter": "python",
   "pygments_lexer": "ipython3",
   "version": "3.6.8"
  }
 },
 "nbformat": 4,
 "nbformat_minor": 4
}
