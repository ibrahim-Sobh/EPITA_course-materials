{
 "cells": [
  {
   "cell_type": "markdown",
   "metadata": {},
   "source": [
    "# Topic modeling : LDA"
   ]
  },
  {
   "cell_type": "code",
   "execution_count": 36,
   "metadata": {},
   "outputs": [],
   "source": [
    "# from jyquickhelper import add_notebook_menu\n",
    "# add_notebook_menu()"
   ]
  },
  {
   "cell_type": "markdown",
   "metadata": {},
   "source": [
    "## Dataset : Grand Débat National (Great national debate)\n",
    "\n",
    "The aim of this exercise is to be familiar with the text-mining and topic models such as LDA. One of the contexts where topic modeling is very useful is in open-ended questions. It allows us to explore the variation of topics addressed in people's responses. For this we will use the french \"Grand Débat National\" dataset. This dataset presents a complete set of responses from the [Grand Débat National](https://granddebat.fr/), the public debate organized by President Macron. The purpose of the debate was to better understand the needs and opinions of the French people following the Yellow Vests protests. The results of this debate are now available as [open data](https://granddebat.fr/pages/donnees-ouvertes)."
   ]
  },
  {
   "cell_type": "markdown",
   "metadata": {},
   "source": [
    "## 1. Import data"
   ]
  },
  {
   "cell_type": "markdown",
   "metadata": {},
   "source": [
    "**Question 1 :** Download one of the ecological transition csv files and load the content into a pandas dataframe. Name this variable `raw_data`"
   ]
  },
  {
   "cell_type": "code",
   "execution_count": 37,
   "metadata": {},
   "outputs": [],
   "source": [
    "import pandas as pd\n",
    "\n",
    "raw_data = pd.read_csv('/Users/ibrahim/Desktop/AIS/S2/ML 2 -  Bayesian and Unsupervised Methods/Baysian 3/data_debat_1.csv',low_memory=False)"
   ]
  },
  {
   "cell_type": "code",
   "execution_count": 38,
   "metadata": {},
   "outputs": [
    {
     "data": {
      "text/html": [
       "<div>\n",
       "<style scoped>\n",
       "    .dataframe tbody tr th:only-of-type {\n",
       "        vertical-align: middle;\n",
       "    }\n",
       "\n",
       "    .dataframe tbody tr th {\n",
       "        vertical-align: top;\n",
       "    }\n",
       "\n",
       "    .dataframe thead th {\n",
       "        text-align: right;\n",
       "    }\n",
       "</style>\n",
       "<table border=\"1\" class=\"dataframe\">\n",
       "  <thead>\n",
       "    <tr style=\"text-align: right;\">\n",
       "      <th></th>\n",
       "      <th>id</th>\n",
       "      <th>createdAt</th>\n",
       "      <th>publishedAt</th>\n",
       "      <th>updatedAt</th>\n",
       "      <th>authorId</th>\n",
       "      <th>authorType</th>\n",
       "      <th>authorZipCode</th>\n",
       "      <th>QUXVlc3Rpb246NTc= - Pensez-vous que vos actions en faveur de l'environnement peuvent vous permettre de faire des économies ?</th>\n",
       "      <th>QUXVlc3Rpb246NTU= - Diriez-vous que vous connaissez les aides et dispositifs qui sont aujourd'hui proposés par l'Etat, les collectivités, les entreprises et les associations pour l'isolation et le chauffage des logements, et pour les déplacements ?</th>\n",
       "      <th>QUXVlc3Rpb246NTg= - Pensez-vous que les taxes sur le diesel et sur l’essence peuvent permettre de modifier les comportements des utilisateurs ?</th>\n",
       "      <th>QUXVlc3Rpb246NjI= - À quoi les recettes liées aux taxes sur le diesel et l’essence doivent-elles avant tout servir ?</th>\n",
       "      <th>QUXVlc3Rpb246NjE= - Selon vous, la transition écologique doit être avant tout financée :</th>\n",
       "      <th>QUXVlc3Rpb246NjA= - Et qui doit être en priorité concerné par le financement de la transition écologique ?</th>\n",
       "      <th>QUXVlc3Rpb246NTk= - Que faudrait-il faire pour protéger la biodiversité et le climat tout en maintenant des activités agricoles et industrielles compétitives par rapport à leurs concurrents étrangers, notamment européens ?</th>\n",
       "    </tr>\n",
       "  </thead>\n",
       "  <tbody>\n",
       "    <tr>\n",
       "      <th>0</th>\n",
       "      <td>00001c11-2b88-11e9-bf56-fa163eeb11e1</td>\n",
       "      <td>2019-02-08 10:57:52</td>\n",
       "      <td>2019-02-08 11:02:12</td>\n",
       "      <td>2019-02-08 11:02:12</td>\n",
       "      <td>VXNlcjpjMDhhMmI0YS0yYjg3LTExZTktYmY1Ni1mYTE2M2...</td>\n",
       "      <td>Citoyen / Citoyenne</td>\n",
       "      <td>38100</td>\n",
       "      <td>Oui</td>\n",
       "      <td>Oui</td>\n",
       "      <td>Oui</td>\n",
       "      <td>À financer des aides pour accompagner les Fran...</td>\n",
       "      <td>Les deux</td>\n",
       "      <td>Tout le monde</td>\n",
       "      <td>Cofinancer un plan d’investissement pour chang...</td>\n",
       "    </tr>\n",
       "    <tr>\n",
       "      <th>1</th>\n",
       "      <td>00007c25-2711-11e9-94d2-fa163eeb11e1</td>\n",
       "      <td>2019-02-02 18:35:57</td>\n",
       "      <td>2019-02-02 18:35:57</td>\n",
       "      <td>2019-02-02 18:35:57</td>\n",
       "      <td>VXNlcjo3MjdhYWQ4Mi0yNzEwLTExZTktOTRkMi1mYTE2M2...</td>\n",
       "      <td>Citoyen / Citoyenne</td>\n",
       "      <td>64240</td>\n",
       "      <td>Oui</td>\n",
       "      <td>Oui</td>\n",
       "      <td>Oui</td>\n",
       "      <td>À financer des aides pour accompagner les Fran...</td>\n",
       "      <td>Par le budget général de l’État</td>\n",
       "      <td>Les entreprises</td>\n",
       "      <td>Cofinancer un plan d’investissement pour chang...</td>\n",
       "    </tr>\n",
       "    <tr>\n",
       "      <th>2</th>\n",
       "      <td>0000b21f-1f25-11e9-94d2-fa163eeb11e1</td>\n",
       "      <td>2019-01-23 16:38:58</td>\n",
       "      <td>2019-01-23 16:38:58</td>\n",
       "      <td>2019-01-23 16:38:58</td>\n",
       "      <td>VXNlcjo1NjM1NjBmNi0xZTVkLTExZTktOTRkMi1mYTE2M2...</td>\n",
       "      <td>Citoyen / Citoyenne</td>\n",
       "      <td>91630</td>\n",
       "      <td>Oui</td>\n",
       "      <td>Non</td>\n",
       "      <td>Oui</td>\n",
       "      <td>À financer des aides pour accompagner les Fran...</td>\n",
       "      <td>Par la fiscalité écologique</td>\n",
       "      <td>Tout le monde</td>\n",
       "      <td>Taxer les produits importés qui dégradent l’en...</td>\n",
       "    </tr>\n",
       "    <tr>\n",
       "      <th>3</th>\n",
       "      <td>0000c8c4-2265-11e9-94d2-fa163eeb11e1</td>\n",
       "      <td>2019-01-27 19:54:39</td>\n",
       "      <td>2019-01-27 19:55:33</td>\n",
       "      <td>2019-01-27 19:55:33</td>\n",
       "      <td>VXNlcjo3YzcyMmYyZS0yMjY0LTExZTktOTRkMi1mYTE2M2...</td>\n",
       "      <td>Citoyen / Citoyenne</td>\n",
       "      <td>92100</td>\n",
       "      <td>Non</td>\n",
       "      <td>Non</td>\n",
       "      <td>Non</td>\n",
       "      <td>À baisser d’autres impôts comme par exemple l’...</td>\n",
       "      <td>NaN</td>\n",
       "      <td>Les entreprises</td>\n",
       "      <td>Modifier les accords commerciaux</td>\n",
       "    </tr>\n",
       "    <tr>\n",
       "      <th>4</th>\n",
       "      <td>0001704a-434b-11e9-bf56-fa163eeb11e1</td>\n",
       "      <td>2019-03-10 16:41:41</td>\n",
       "      <td>2019-03-10 16:41:41</td>\n",
       "      <td>2019-03-10 16:41:41</td>\n",
       "      <td>VXNlcjo4NmJlOTEwNS00MzRhLTExZTktYmY1Ni1mYTE2M2...</td>\n",
       "      <td>Citoyen / Citoyenne</td>\n",
       "      <td>92320</td>\n",
       "      <td>Oui</td>\n",
       "      <td>Non</td>\n",
       "      <td>Non</td>\n",
       "      <td>À financer des aides pour accompagner les Fran...</td>\n",
       "      <td>Par le budget général de l’État</td>\n",
       "      <td>Tout le monde</td>\n",
       "      <td>Cofinancer un plan d’investissement pour chang...</td>\n",
       "    </tr>\n",
       "  </tbody>\n",
       "</table>\n",
       "</div>"
      ],
      "text/plain": [
       "                                     id            createdAt  \\\n",
       "0  00001c11-2b88-11e9-bf56-fa163eeb11e1  2019-02-08 10:57:52   \n",
       "1  00007c25-2711-11e9-94d2-fa163eeb11e1  2019-02-02 18:35:57   \n",
       "2  0000b21f-1f25-11e9-94d2-fa163eeb11e1  2019-01-23 16:38:58   \n",
       "3  0000c8c4-2265-11e9-94d2-fa163eeb11e1  2019-01-27 19:54:39   \n",
       "4  0001704a-434b-11e9-bf56-fa163eeb11e1  2019-03-10 16:41:41   \n",
       "\n",
       "           publishedAt            updatedAt  \\\n",
       "0  2019-02-08 11:02:12  2019-02-08 11:02:12   \n",
       "1  2019-02-02 18:35:57  2019-02-02 18:35:57   \n",
       "2  2019-01-23 16:38:58  2019-01-23 16:38:58   \n",
       "3  2019-01-27 19:55:33  2019-01-27 19:55:33   \n",
       "4  2019-03-10 16:41:41  2019-03-10 16:41:41   \n",
       "\n",
       "                                            authorId           authorType  \\\n",
       "0  VXNlcjpjMDhhMmI0YS0yYjg3LTExZTktYmY1Ni1mYTE2M2...  Citoyen / Citoyenne   \n",
       "1  VXNlcjo3MjdhYWQ4Mi0yNzEwLTExZTktOTRkMi1mYTE2M2...  Citoyen / Citoyenne   \n",
       "2  VXNlcjo1NjM1NjBmNi0xZTVkLTExZTktOTRkMi1mYTE2M2...  Citoyen / Citoyenne   \n",
       "3  VXNlcjo3YzcyMmYyZS0yMjY0LTExZTktOTRkMi1mYTE2M2...  Citoyen / Citoyenne   \n",
       "4  VXNlcjo4NmJlOTEwNS00MzRhLTExZTktYmY1Ni1mYTE2M2...  Citoyen / Citoyenne   \n",
       "\n",
       "  authorZipCode  \\\n",
       "0         38100   \n",
       "1         64240   \n",
       "2         91630   \n",
       "3         92100   \n",
       "4         92320   \n",
       "\n",
       "  QUXVlc3Rpb246NTc= - Pensez-vous que vos actions en faveur de l'environnement peuvent vous permettre de faire des économies ?  \\\n",
       "0                                                Oui                                                                             \n",
       "1                                                Oui                                                                             \n",
       "2                                                Oui                                                                             \n",
       "3                                                Non                                                                             \n",
       "4                                                Oui                                                                             \n",
       "\n",
       "  QUXVlc3Rpb246NTU= - Diriez-vous que vous connaissez les aides et dispositifs qui sont aujourd'hui proposés par l'Etat, les collectivités, les entreprises et les associations pour l'isolation et le chauffage des logements, et pour les déplacements ?  \\\n",
       "0                                                Oui                                                                                                                                                                                                         \n",
       "1                                                Oui                                                                                                                                                                                                         \n",
       "2                                                Non                                                                                                                                                                                                         \n",
       "3                                                Non                                                                                                                                                                                                         \n",
       "4                                                Non                                                                                                                                                                                                         \n",
       "\n",
       "  QUXVlc3Rpb246NTg= - Pensez-vous que les taxes sur le diesel et sur l’essence peuvent permettre de modifier les comportements des utilisateurs ?  \\\n",
       "0                                                Oui                                                                                                \n",
       "1                                                Oui                                                                                                \n",
       "2                                                Oui                                                                                                \n",
       "3                                                Non                                                                                                \n",
       "4                                                Non                                                                                                \n",
       "\n",
       "  QUXVlc3Rpb246NjI= - À quoi les recettes liées aux taxes sur le diesel et l’essence doivent-elles avant tout servir ?  \\\n",
       "0  À financer des aides pour accompagner les Fran...                                                                     \n",
       "1  À financer des aides pour accompagner les Fran...                                                                     \n",
       "2  À financer des aides pour accompagner les Fran...                                                                     \n",
       "3  À baisser d’autres impôts comme par exemple l’...                                                                     \n",
       "4  À financer des aides pour accompagner les Fran...                                                                     \n",
       "\n",
       "  QUXVlc3Rpb246NjE= - Selon vous, la transition écologique doit être avant tout financée :  \\\n",
       "0                                           Les deux                                         \n",
       "1                    Par le budget général de l’État                                         \n",
       "2                        Par la fiscalité écologique                                         \n",
       "3                                                NaN                                         \n",
       "4                    Par le budget général de l’État                                         \n",
       "\n",
       "  QUXVlc3Rpb246NjA= - Et qui doit être en priorité concerné par le financement de la transition écologique ?  \\\n",
       "0                                      Tout le monde                                                           \n",
       "1                                    Les entreprises                                                           \n",
       "2                                      Tout le monde                                                           \n",
       "3                                    Les entreprises                                                           \n",
       "4                                      Tout le monde                                                           \n",
       "\n",
       "  QUXVlc3Rpb246NTk= - Que faudrait-il faire pour protéger la biodiversité et le climat tout en maintenant des activités agricoles et industrielles compétitives par rapport à leurs concurrents étrangers, notamment européens ?  \n",
       "0  Cofinancer un plan d’investissement pour chang...                                                                                                                                                                              \n",
       "1  Cofinancer un plan d’investissement pour chang...                                                                                                                                                                              \n",
       "2  Taxer les produits importés qui dégradent l’en...                                                                                                                                                                              \n",
       "3                   Modifier les accords commerciaux                                                                                                                                                                              \n",
       "4  Cofinancer un plan d’investissement pour chang...                                                                                                                                                                              "
      ]
     },
     "execution_count": 38,
     "metadata": {},
     "output_type": "execute_result"
    }
   ],
   "source": [
    "raw_data.head()"
   ]
  },
  {
   "cell_type": "markdown",
   "metadata": {},
   "source": [
    "We will focus on the last question: ``Y a-t-il d'autres points sur la transition écologique sur lesquels vous souhaiteriez vous exprimer ?`` We hope that our LDA model will help us to analyze the topics on which their responses are focused. Let's take a look on the data :"
   ]
  },
  {
   "cell_type": "code",
   "execution_count": 39,
   "metadata": {},
   "outputs": [
    {
     "data": {
      "text/plain": [
       "0    À financer des aides pour accompagner les Fran...\n",
       "1    À financer des aides pour accompagner les Fran...\n",
       "2    À financer des aides pour accompagner les Fran...\n",
       "3    À baisser d’autres impôts comme par exemple l’...\n",
       "4    À financer des aides pour accompagner les Fran...\n",
       "5    À baisser d’autres impôts comme par exemple l’...\n",
       "6    À financer des aides pour accompagner les Fran...\n",
       "7    À financer des investissements en faveur du cl...\n",
       "8    À financer des aides pour accompagner les Fran...\n",
       "9    À financer des aides pour accompagner les Fran...\n",
       "Name: QUXVlc3Rpb246NjI= - À quoi les recettes liées aux taxes sur le diesel et l’essence doivent-elles avant tout servir ?, dtype: object"
      ]
     },
     "execution_count": 39,
     "metadata": {},
     "output_type": "execute_result"
    }
   ],
   "source": [
    "question = \"QUXVlc3Rpb246NjI= - À quoi les recettes liées aux taxes sur le diesel et l’essence doivent-elles avant tout servir ?\"\n",
    "raw_data[question].head(10)"
   ]
  },
  {
   "cell_type": "markdown",
   "metadata": {},
   "source": [
    "As we note, there is a lot of missing data (like any open-ended question, people decide whether or not to write a comment). A cleanup step is necessary."
   ]
  },
  {
   "cell_type": "markdown",
   "metadata": {},
   "source": [
    "## 2. Clean and vectorize documents"
   ]
  },
  {
   "cell_type": "markdown",
   "metadata": {},
   "source": [
    "Before training our LDA model, we need to tokenize our text. We will tokenize with the [spaCy]  (https://spacy.io/) library because we will only perform some basic preprocessing. We will just initialize a blank template for the French language."
   ]
  },
  {
   "cell_type": "code",
   "execution_count": 40,
   "metadata": {},
   "outputs": [],
   "source": [
    "import spacy\n",
    "\n",
    "nlp = spacy.blank(\"fr\")"
   ]
  },
  {
   "cell_type": "markdown",
   "metadata": {},
   "source": [
    "Let's remove all the rows from the dataframe that don't have an answer for our question (the `NaNs above). This new dataframe will be called ``texts``."
   ]
  },
  {
   "cell_type": "code",
   "execution_count": 41,
   "metadata": {},
   "outputs": [],
   "source": [
    "texts = raw_data[raw_data[question].notna()]"
   ]
  },
  {
   "cell_type": "markdown",
   "metadata": {},
   "source": [
    "First preprocessing with spacy :"
   ]
  },
  {
   "cell_type": "code",
   "execution_count": 42,
   "metadata": {},
   "outputs": [],
   "source": [
    "spacy_docs = list(nlp.pipe(texts))"
   ]
  },
  {
   "cell_type": "markdown",
   "metadata": {},
   "source": [
    "We now have a list of spaCy documents. We will transform each spaCy document into a list of tokens. Instead of the original tokens, we will work with lemmas instead. This will allow our model to generalize better"
   ]
  },
  {
   "cell_type": "markdown",
   "metadata": {},
   "source": [
    "Here is the full list of preprocessing used: \n",
    " \n",
    "- remove all **words less than 3 characters**,\n",
    "- remove all **stop-words**, and\n",
    "- lemmatize** the remaining words and,\n",
    "- put these words in **minuscule**."
   ]
  },
  {
   "cell_type": "code",
   "execution_count": 43,
   "metadata": {},
   "outputs": [
    {
     "name": "stdout",
     "output_type": "stream",
     "text": [
      "[[], ['createdat'], ['publishedat']]\n"
     ]
    }
   ],
   "source": [
    "docs = [[t.lemma_.lower() for t in doc if len(t.orth_) > 3 and not t.is_stop] for doc in spacy_docs]\n",
    "print(docs[:3])"
   ]
  },
  {
   "cell_type": "markdown",
   "metadata": {},
   "source": [
    "In order to preserve some word order in our modeling, we will take into account frequent bigrams. For this, we will use the [Gensim](https://radimrehurek.com/gensim/)library. We would like to point out that the Gensim library is an excellent NLP library for topics modeling. \n",
    "\n",
    "Here is the chosen process: \n",
    "\n",
    "- We first identify the frequent bigrams in the corpus, \n",
    "- then we add them to the list of tokens for the documents in which they appear. This means that the bigrams will not be in their correct position in the text, but this is not a problem: topic models are bag-of-words models that ignore the position of words anyway."
   ]
  },
  {
   "cell_type": "code",
   "execution_count": 44,
   "metadata": {},
   "outputs": [],
   "source": [
    "import re\n",
    "from gensim.models import Phrases\n",
    "\n",
    "bigram = Phrases(docs, min_count=10)\n",
    "\n",
    "for idx in range(len(docs)):\n",
    "    for token in bigram[docs[idx]]:\n",
    "        if '_' in token:  # les bigrammes peuvent être reconnus par \"_\" qui concatène les mots\n",
    "            docs[idx].append(token)"
   ]
  },
  {
   "cell_type": "markdown",
   "metadata": {},
   "source": [
    "Let's move on to the last steps of the Gensim specific preprocessing. First, we will create a dictionary representation of the documents. This dictionary will map each word to a unique identifier and will help us create word-sack representations of each document. These bag-of-words representations contain the identifiers of the words in the document as well as their frequency. In addition, we can remove the least frequent and most frequent words from the vocabulary. This will improve the quality of our model and speed up its training. The minimum frequency of a word is expressed as an absolute number, the maximum frequency is the proportion of documents in which a word can appear."
   ]
  },
  {
   "cell_type": "code",
   "execution_count": 45,
   "metadata": {},
   "outputs": [
    {
     "name": "stdout",
     "output_type": "stream",
     "text": [
      "Number of unique words in original documents : 61\n",
      "Number of unique words after removing rare and common words : 1\n",
      "Example representation of document 3 : []\n"
     ]
    }
   ],
   "source": [
    "from gensim.corpora import Dictionary\n",
    "\n",
    "dictionary = Dictionary(docs)\n",
    "print('Number of unique words in original documents :', len(dictionary))\n",
    "\n",
    "dictionary.filter_extremes(no_below=3, no_above=0.25)\n",
    "print('Number of unique words after removing rare and common words :', len(dictionary))\n",
    "\n",
    "print(\"Example representation of document 3 :\", dictionary.doc2bow(docs[2]))"
   ]
  },
  {
   "cell_type": "markdown",
   "metadata": {},
   "source": [
    "Next, we create bag-of-words representations for each document in the corpus see method [doc2bow](https://radimrehurek.com/gensim/corpora/dictionary.html) :"
   ]
  },
  {
   "cell_type": "code",
   "execution_count": 46,
   "metadata": {},
   "outputs": [],
   "source": [
    "corpus = [ dictionary.doc2bow(doc) for doc in docs]"
   ]
  },
  {
   "cell_type": "markdown",
   "metadata": {},
   "source": [
    "## 3. Topic Modeling with LDA"
   ]
  },
  {
   "cell_type": "markdown",
   "metadata": {},
   "source": [
    "Now it's time to train our LDA! To do this, we use the following parameters: \n",
    "\n",
    "- **corpus**: the bag-of-words representations of our documents\n",
    "- **id2token**: the mapping of indexes to words\n",
    "- **num_topics** : the number of topics the model should identify (let's set <font color = \"red\"><b>10</b></font>)\n",
    "- **chunksize**: the number of documents the model sees on each update (let's set to <font color = \"red\"><b>1,000</b></font>)\n",
    "- **passes**: the number of times we show the total corpus to the model during training (let's set to <font color = \"red\"><b>5</b></font>)\n",
    "- **random_state**: we use a seed to ensure reproducibility (let's set to <font color = \"red\"><b>1</b></font>)\n",
    "\n",
    "On a corpus of this size, training usually takes one or two minutes."
   ]
  },
  {
   "cell_type": "markdown",
   "metadata": {},
   "source": [
    "**Question 2 :**"
   ]
  },
  {
   "cell_type": "code",
   "execution_count": 47,
   "metadata": {},
   "outputs": [],
   "source": [
    "from gensim.models import LdaModel\n",
    "\n",
    "lda_model = LdaModel(corpus,\n",
    "                     num_topics=10,\n",
    "                     id2word=dictionary,\n",
    "                     random_state=1,\n",
    "                     chunksize=1000,\n",
    "                     passes=5)"
   ]
  },
  {
   "cell_type": "code",
   "execution_count": 48,
   "metadata": {},
   "outputs": [],
   "source": [
    "from gensim.models import LdaMulticore\n",
    "\n",
    "lda_model_multi = LdaModel(corpus,\n",
    "                     num_topics=10,\n",
    "                     id2word=dictionary,\n",
    "                     random_state=1,\n",
    "                     chunksize=1000,\n",
    "                     passes=5)"
   ]
  },
  {
   "cell_type": "markdown",
   "metadata": {},
   "source": [
    "## 4. Results and visualization"
   ]
  },
  {
   "cell_type": "markdown",
   "metadata": {},
   "source": [
    "**Question 3 :** Let's see what the model has learned. To do this, let's display the ten most characteristic words for each topic."
   ]
  },
  {
   "cell_type": "code",
   "execution_count": 49,
   "metadata": {},
   "outputs": [
    {
     "name": "stdout",
     "output_type": "stream",
     "text": [
      "***********\n",
      "* topic 1 *\n",
      "***********\n",
      "1 : 1.000*\"-vous\"\n",
      "\n",
      "***********\n",
      "* topic 2 *\n",
      "***********\n",
      "2 : 1.000*\"-vous\"\n",
      "\n",
      "***********\n",
      "* topic 3 *\n",
      "***********\n",
      "3 : 1.000*\"-vous\"\n",
      "\n",
      "***********\n",
      "* topic 4 *\n",
      "***********\n",
      "4 : 1.000*\"-vous\"\n",
      "\n",
      "***********\n",
      "* topic 5 *\n",
      "***********\n",
      "5 : 1.000*\"-vous\"\n",
      "\n",
      "***********\n",
      "* topic 6 *\n",
      "***********\n",
      "6 : 1.000*\"-vous\"\n",
      "\n",
      "***********\n",
      "* topic 7 *\n",
      "***********\n",
      "7 : 1.000*\"-vous\"\n",
      "\n",
      "***********\n",
      "* topic 8 *\n",
      "***********\n",
      "8 : 1.000*\"-vous\"\n",
      "\n",
      "***********\n",
      "* topic 9 *\n",
      "***********\n",
      "9 : 1.000*\"-vous\"\n",
      "\n",
      "***********\n",
      "* topic 10 *\n",
      "***********\n",
      "10 : 1.000*\"-vous\"\n",
      "\n"
     ]
    }
   ],
   "source": [
    "for (topic, words) in lda_model.print_topics():\n",
    "    print(\"***********\")\n",
    "    print(\"* topic\", topic+1, \"*\")\n",
    "    print(\"***********\")\n",
    "    print(topic+1, \":\", words)\n",
    "    print()"
   ]
  },
  {
   "cell_type": "code",
   "execution_count": 50,
   "metadata": {},
   "outputs": [
    {
     "name": "stdout",
     "output_type": "stream",
     "text": [
      "***********\n",
      "* topic 1 *\n",
      "***********\n",
      "1 : 1.000*\"-vous\"\n",
      "\n",
      "***********\n",
      "* topic 2 *\n",
      "***********\n",
      "2 : 1.000*\"-vous\"\n",
      "\n",
      "***********\n",
      "* topic 3 *\n",
      "***********\n",
      "3 : 1.000*\"-vous\"\n",
      "\n",
      "***********\n",
      "* topic 4 *\n",
      "***********\n",
      "4 : 1.000*\"-vous\"\n",
      "\n",
      "***********\n",
      "* topic 5 *\n",
      "***********\n",
      "5 : 1.000*\"-vous\"\n",
      "\n",
      "***********\n",
      "* topic 6 *\n",
      "***********\n",
      "6 : 1.000*\"-vous\"\n",
      "\n",
      "***********\n",
      "* topic 7 *\n",
      "***********\n",
      "7 : 1.000*\"-vous\"\n",
      "\n",
      "***********\n",
      "* topic 8 *\n",
      "***********\n",
      "8 : 1.000*\"-vous\"\n",
      "\n",
      "***********\n",
      "* topic 9 *\n",
      "***********\n",
      "9 : 1.000*\"-vous\"\n",
      "\n",
      "***********\n",
      "* topic 10 *\n",
      "***********\n",
      "10 : 1.000*\"-vous\"\n",
      "\n"
     ]
    }
   ],
   "source": [
    "for (topic, words) in lda_model_multi.print_topics():\n",
    "    print(\"***********\")\n",
    "    print(\"* topic\", topic+1, \"*\")\n",
    "    print(\"***********\")\n",
    "    print(topic+1, \":\", words)\n",
    "    print()"
   ]
  },
  {
   "cell_type": "markdown",
   "metadata": {},
   "source": [
    "Another way to observe topics is to **visualize** them. This can be done with the library [pyLDAvis](https://github.com/bmabey/pyLDAvis). PyLDAvis will show us how popular the topics are in our corpus, how similar the topics are, and which words are most important for that topic. Note that it is important to set ``sort_topics = False`` on the call to pyLDAvis. If you don't, the topics will be sorted differently than in Gensim. This may take a few minutes to load."
   ]
  },
  {
   "cell_type": "markdown",
   "metadata": {},
   "source": [
    "**Question 5 :**"
   ]
  },
  {
   "cell_type": "code",
   "execution_count": 51,
   "metadata": {},
   "outputs": [
    {
     "name": "stderr",
     "output_type": "stream",
     "text": [
      "/Users/ibrahim/miniforge3/envs/recom/lib/python3.8/site-packages/pyLDAvis/_prepare.py:246: FutureWarning: In a future version of pandas all arguments of DataFrame.drop except for the argument 'labels' will be keyword-only.\n",
      "  default_term_info = default_term_info.sort_values(\n"
     ]
    },
    {
     "data": {
      "text/html": [
       "\n",
       "<link rel=\"stylesheet\" type=\"text/css\" href=\"https://cdn.jsdelivr.net/gh/bmabey/pyLDAvis@3.3.1/pyLDAvis/js/ldavis.v1.0.0.css\">\n",
       "\n",
       "\n",
       "<div id=\"ldavis_el76478107545557925760656902\"></div>\n",
       "<script type=\"text/javascript\">\n",
       "\n",
       "var ldavis_el76478107545557925760656902_data = {\"mdsDat\": {\"x\": [0.0, 0.0, 0.0, 0.0, 0.0, 0.0, 0.0, 0.0, 0.0, 0.0], \"y\": [0.0, 0.0, 0.0, 0.0, 0.0, 0.0, 0.0, 0.0, 0.0, 0.0], \"topics\": [1, 2, 3, 4, 5, 6, 7, 8, 9, 10], \"cluster\": [1, 1, 1, 1, 1, 1, 1, 1, 1, 1], \"Freq\": [5.002299454008925, 5.002286042964167, 21.661228548035844, 5.002289519901697, 5.002285918787827, 5.002297094658458, 21.6613758211755, 5.002286415493188, 21.661365266186568, 5.002285918787827]}, \"tinfo\": {\"Term\": [\"-vous\", \"-vous\", \"-vous\", \"-vous\", \"-vous\", \"-vous\", \"-vous\", \"-vous\", \"-vous\", \"-vous\", \"-vous\"], \"Freq\": [3.0, 0.1500689871609211, 0.15006858482956886, 0.6498368717730045, 0.15006868913769722, 0.15006858110427856, 0.15006891638040543, 0.6498412899672985, 0.15006859600543976, 0.6498409733176231, 0.15006858110427856], \"Total\": [3.0, 3.0000000707805157, 3.0000000707805157, 3.0000000707805157, 3.0000000707805157, 3.0000000707805157, 3.0000000707805157, 3.0000000707805157, 3.0000000707805157, 3.0000000707805157, 3.0000000707805157], \"Category\": [\"Default\", \"Topic1\", \"Topic2\", \"Topic3\", \"Topic4\", \"Topic5\", \"Topic6\", \"Topic7\", \"Topic8\", \"Topic9\", \"Topic10\"], \"logprob\": [1.0, 0.0, 0.0, 0.0, 0.0, 0.0, 0.0, 0.0, 0.0, 0.0, 0.0], \"loglift\": [1.0, 0.0, 0.0, 0.0, 0.0, 0.0, 0.0, 0.0, 0.0, 0.0, 0.0]}, \"token.table\": {\"Topic\": [3, 7, 9], \"Freq\": [0.33333332546883176, 0.33333332546883176, 0.33333332546883176], \"Term\": [\"-vous\", \"-vous\", \"-vous\"]}, \"R\": 1, \"lambda.step\": 0.01, \"plot.opts\": {\"xlab\": \"PC1\", \"ylab\": \"PC2\"}, \"topic.order\": [1, 2, 3, 4, 5, 6, 7, 8, 9, 10]};\n",
       "\n",
       "function LDAvis_load_lib(url, callback){\n",
       "  var s = document.createElement('script');\n",
       "  s.src = url;\n",
       "  s.async = true;\n",
       "  s.onreadystatechange = s.onload = callback;\n",
       "  s.onerror = function(){console.warn(\"failed to load library \" + url);};\n",
       "  document.getElementsByTagName(\"head\")[0].appendChild(s);\n",
       "}\n",
       "\n",
       "if(typeof(LDAvis) !== \"undefined\"){\n",
       "   // already loaded: just create the visualization\n",
       "   !function(LDAvis){\n",
       "       new LDAvis(\"#\" + \"ldavis_el76478107545557925760656902\", ldavis_el76478107545557925760656902_data);\n",
       "   }(LDAvis);\n",
       "}else if(typeof define === \"function\" && define.amd){\n",
       "   // require.js is available: use it to load d3/LDAvis\n",
       "   require.config({paths: {d3: \"https://d3js.org/d3.v5\"}});\n",
       "   require([\"d3\"], function(d3){\n",
       "      window.d3 = d3;\n",
       "      LDAvis_load_lib(\"https://cdn.jsdelivr.net/gh/bmabey/pyLDAvis@3.3.1/pyLDAvis/js/ldavis.v3.0.0.js\", function(){\n",
       "        new LDAvis(\"#\" + \"ldavis_el76478107545557925760656902\", ldavis_el76478107545557925760656902_data);\n",
       "      });\n",
       "    });\n",
       "}else{\n",
       "    // require.js not available: dynamically load d3 & LDAvis\n",
       "    LDAvis_load_lib(\"https://d3js.org/d3.v5.js\", function(){\n",
       "         LDAvis_load_lib(\"https://cdn.jsdelivr.net/gh/bmabey/pyLDAvis@3.3.1/pyLDAvis/js/ldavis.v3.0.0.js\", function(){\n",
       "                 new LDAvis(\"#\" + \"ldavis_el76478107545557925760656902\", ldavis_el76478107545557925760656902_data);\n",
       "            })\n",
       "         });\n",
       "}\n",
       "</script>"
      ],
      "text/plain": [
       "PreparedData(topic_coordinates=         x    y  topics  cluster       Freq\n",
       "topic                                      \n",
       "0      0.0  0.0       1        1   5.002299\n",
       "1      0.0  0.0       2        1   5.002286\n",
       "2      0.0  0.0       3        1  21.661229\n",
       "3      0.0  0.0       4        1   5.002290\n",
       "4      0.0  0.0       5        1   5.002286\n",
       "5      0.0  0.0       6        1   5.002297\n",
       "6      0.0  0.0       7        1  21.661376\n",
       "7      0.0  0.0       8        1   5.002286\n",
       "8      0.0  0.0       9        1  21.661365\n",
       "9      0.0  0.0      10        1   5.002286, topic_info=    Term      Freq  Total Category  logprob  loglift\n",
       "0  -vous  3.000000    3.0  Default      1.0      1.0\n",
       "0  -vous  0.150069    3.0   Topic1      0.0      0.0\n",
       "0  -vous  0.150069    3.0   Topic2      0.0      0.0\n",
       "0  -vous  0.649837    3.0   Topic3      0.0      0.0\n",
       "0  -vous  0.150069    3.0   Topic4      0.0      0.0\n",
       "0  -vous  0.150069    3.0   Topic5      0.0      0.0\n",
       "0  -vous  0.150069    3.0   Topic6      0.0      0.0\n",
       "0  -vous  0.649841    3.0   Topic7      0.0      0.0\n",
       "0  -vous  0.150069    3.0   Topic8      0.0      0.0\n",
       "0  -vous  0.649841    3.0   Topic9      0.0      0.0\n",
       "0  -vous  0.150069    3.0  Topic10      0.0      0.0, token_table=      Topic      Freq   Term\n",
       "term                        \n",
       "0         3  0.333333  -vous\n",
       "0         7  0.333333  -vous\n",
       "0         9  0.333333  -vous, R=1, lambda_step=0.01, plot_opts={'xlab': 'PC1', 'ylab': 'PC2'}, topic_order=[1, 2, 3, 4, 5, 6, 7, 8, 9, 10])"
      ]
     },
     "execution_count": 51,
     "metadata": {},
     "output_type": "execute_result"
    }
   ],
   "source": [
    "import pyLDAvis\n",
    "import pyLDAvis.gensim_models as gensimvis\n",
    "import warnings\n",
    "\n",
    "pyLDAvis.enable_notebook()\n",
    "warnings.filterwarnings(\"ignore\", category=DeprecationWarning) \n",
    "\n",
    "gensimvis.prepare(lda_model, corpus, dictionary, sort_topics=False)"
   ]
  },
  {
   "cell_type": "markdown",
   "metadata": {},
   "source": [
    "Finally, let's look at the topics that the model recognizes in some of the individual documents. Here we see how LDA tends to assign a high probability to a small number of topics for each document, making its results highly interpretable."
   ]
  },
  {
   "cell_type": "code",
   "execution_count": 52,
   "metadata": {},
   "outputs": [
    {
     "name": "stdout",
     "output_type": "stream",
     "text": [
      "***********\n",
      "* doc 1   *\n",
      "***********\n",
      "id\n",
      "[(1, 0.1), (2, 0.1), (3, 0.1), (4, 0.1), (5, 0.1), (6, 0.1), (7, 0.1), (8, 0.1), (9, 0.1), (10, 0.1)]\n",
      "\n",
      "***********\n",
      "* doc 2   *\n",
      "***********\n",
      "createdAt\n",
      "[(1, 0.1), (2, 0.1), (3, 0.1), (4, 0.1), (5, 0.1), (6, 0.1), (7, 0.1), (8, 0.1), (9, 0.1), (10, 0.1)]\n",
      "\n",
      "***********\n",
      "* doc 3   *\n",
      "***********\n",
      "publishedAt\n",
      "[(1, 0.1), (2, 0.1), (3, 0.1), (4, 0.1), (5, 0.1), (6, 0.1), (7, 0.1), (8, 0.1), (9, 0.1), (10, 0.1)]\n",
      "\n",
      "***********\n",
      "* doc 4   *\n",
      "***********\n",
      "updatedAt\n",
      "[(1, 0.1), (2, 0.1), (3, 0.1), (4, 0.1), (5, 0.1), (6, 0.1), (7, 0.1), (8, 0.1), (9, 0.1), (10, 0.1)]\n",
      "\n",
      "***********\n",
      "* doc 5   *\n",
      "***********\n",
      "authorId\n",
      "[(1, 0.1), (2, 0.1), (3, 0.1), (4, 0.1), (5, 0.1), (6, 0.1), (7, 0.1), (8, 0.1), (9, 0.1), (10, 0.1)]\n",
      "\n",
      "***********\n",
      "* doc 6   *\n",
      "***********\n",
      "authorType\n",
      "[(1, 0.1), (2, 0.1), (3, 0.1), (4, 0.1), (5, 0.1), (6, 0.1), (7, 0.1), (8, 0.1), (9, 0.1), (10, 0.1)]\n",
      "\n",
      "***********\n",
      "* doc 7   *\n",
      "***********\n",
      "authorZipCode\n",
      "[(1, 0.1), (2, 0.1), (3, 0.1), (4, 0.1), (5, 0.1), (6, 0.1), (7, 0.1), (8, 0.1), (9, 0.1), (10, 0.1)]\n",
      "\n",
      "***********\n",
      "* doc 8   *\n",
      "***********\n",
      "QUXVlc3Rpb246NTc= - Pensez-vous que vos actions en faveur de l'environnement peuvent vous permettre de faire des économies ?\n",
      "[(7, 0.54978293)]\n",
      "\n"
     ]
    }
   ],
   "source": [
    "# Nous en affichons que 8\n",
    "i = 0\n",
    "for (text, doc) in zip(texts[:8], docs[:8]):\n",
    "    i += 1\n",
    "    print(\"***********\")\n",
    "    print(\"* doc\", i, \"  *\")\n",
    "    print(\"***********\")\n",
    "    print(text)\n",
    "    print([(topic+1, prob) for (topic, prob) in lda_model[dictionary.doc2bow(doc)] if prob > 0.1])\n",
    "    print()"
   ]
  },
  {
   "cell_type": "markdown",
   "metadata": {},
   "source": [
    "Many collections of unstructured text are not accompanied by labels. Topic models such as LDA are a useful technique for discovering the most important topics in these documents. **Gensim** facilitates learning about these topics and **pyLDAvis** presents the results in a visually appealing way. Together, they form a powerful toolkit for better understanding what's inside large document sets and for exploring subsets of related texts. While these results are often already quite revealing, it is also possible to use them as a starting point, for example, for a labeling exercise for supervised text classification. In sum, thematic models should be in every data scientist's toolbox as a very quick way to gain insight into large document collections."
   ]
  }
 ],
 "metadata": {
  "kernelspec": {
   "display_name": "Python 3.9.12",
   "language": "python",
   "name": "python3"
  },
  "language_info": {
   "codemirror_mode": {
    "name": "ipython",
    "version": 3
   },
   "file_extension": ".py",
   "mimetype": "text/x-python",
   "name": "python",
   "nbconvert_exporter": "python",
   "pygments_lexer": "ipython3",
   "version": "3.9.12"
  },
  "vscode": {
   "interpreter": {
    "hash": "f99b2389607a909b8f33409561cf8d0332c84ee5f93395b58c015758336e5de4"
   }
  }
 },
 "nbformat": 4,
 "nbformat_minor": 4
}
