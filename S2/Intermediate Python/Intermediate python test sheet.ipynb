{
 "cells": [
  {
   "cell_type": "code",
   "execution_count": 19,
   "id": "7eeb55ec",
   "metadata": {},
   "outputs": [
    {
     "name": "stdout",
     "output_type": "stream",
     "text": [
      "<__main__.List object at 0x7fe9317f4760>\n"
     ]
    }
   ],
   "source": [
    "class List:\n",
    "    l=[]\n",
    "    \n",
    "    def __init__(self,*args):\n",
    "        self.l=[x for x in args]\n",
    "\n",
    "        \n",
    "\n",
    "a= List('1','2')\n",
    "print(a)      "
   ]
  },
  {
   "cell_type": "code",
   "execution_count": 35,
   "id": "19c88e28",
   "metadata": {},
   "outputs": [
    {
     "name": "stdout",
     "output_type": "stream",
     "text": [
      "(1, 2, 3, 2, 1, 3, 2, 1)\n",
      "avant add (1, 2, 3, 2, 1)\n",
      "après add (1, 2, 3, 2, 1, 5)\n",
      "pop (1, 2, 3, 2, 1, 5)\n",
      "5\n",
      "add (1, 2, 3, 2, 1, 3, 2, 1)\n",
      "getitem 3\n",
      "len 5\n"
     ]
    }
   ],
   "source": [
    "class List:\n",
    "    def __init__(self, *args):\n",
    "        self.args = args\n",
    "    def append(self, v):\n",
    "        self.args += (v,)\n",
    "    def pop(self):\n",
    "        v = self.args[-1]\n",
    "        self.args = self.args[:-1]\n",
    "        return v\n",
    "    def __str__(self):\n",
    "        return str(self.args)\n",
    "    \n",
    "    def __add__(self, l):\n",
    "        return List(*(self.args + l.args))\n",
    "    def __getitem__(self, n):\n",
    "        return self.args[n]\n",
    "    def __len__(self):\n",
    "        return len(self.args)\n",
    "    \n",
    "\n",
    "    \n",
    "l1 = List(1,2,3,2,1)\n",
    "l2 = List(3,2,1)\n",
    "\n",
    "l3=l1+l2\n",
    "print(l3)\n",
    "print('avant add', l1.args)\n",
    "l1.append(5)\n",
    "print('après add', l1.args)\n",
    "print('pop', l1.args)\n",
    "print(l1.pop())\n",
    "l = l1 + l2\n",
    "print('add', l.args)\n",
    "print('getitem', l1[2])\n",
    "print('len', len(l1))"
   ]
  },
  {
   "cell_type": "code",
   "execution_count": null,
   "id": "a7e311d1",
   "metadata": {},
   "outputs": [],
   "source": []
  }
 ],
 "metadata": {
  "kernelspec": {
   "display_name": "Python 3 (ipykernel)",
   "language": "python",
   "name": "python3"
  },
  "language_info": {
   "codemirror_mode": {
    "name": "ipython",
    "version": 3
   },
   "file_extension": ".py",
   "mimetype": "text/x-python",
   "name": "python",
   "nbconvert_exporter": "python",
   "pygments_lexer": "ipython3",
   "version": "3.9.10"
  }
 },
 "nbformat": 4,
 "nbformat_minor": 5
}
