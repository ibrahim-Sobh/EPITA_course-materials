{
 "cells": [
  {
   "cell_type": "markdown",
   "id": "ba4b4874",
   "metadata": {},
   "source": [
    "\n",
    "\n",
    "# Object Oriented Programming Exam\n"
   ]
  },
  {
   "cell_type": "markdown",
   "id": "4bae4499",
   "metadata": {},
   "source": [
    "## Ibrahim Sobh"
   ]
  },
  {
   "cell_type": "markdown",
   "id": "d1410ed6",
   "metadata": {},
   "source": [
    "## Exercice 1 : Polynomial"
   ]
  },
  {
   "cell_type": "code",
   "execution_count": 1,
   "id": "b7ae7776",
   "metadata": {},
   "outputs": [],
   "source": [
    "import numpy as np\n",
    "import numpy.polynomial.polynomial as polynomial\n",
    "class Poly:\n",
    "    \n",
    "    def __init__(self, coeff):\n",
    "        if len(coeff)==0:\n",
    "            self.coeff=np.array([0])\n",
    "        elif type(coeff) == list:\n",
    "            self.coeff=np.array(coeff)\n",
    "        else:\n",
    "            self.coeff = coeff\n",
    "\n",
    "    def degre(self) -> int:\n",
    "        if len(self.coeff) <=1:\n",
    "            return 0\n",
    "        index = [i for i, x in enumerate(self.coeff[::-1]) if x > 0][0]\n",
    "        return len(self.coeff)-index-1\n",
    "    \n",
    "    def derive(self):\n",
    "        if len(self.coeff) <=1:\n",
    "            return Poly(np.empty(1))\n",
    "        return Poly(np.polyder(self.coeff[::-1]))\n",
    "    \n",
    "    def value(self,x):\n",
    "        if len(self.coeff) <=1:\n",
    "            return self.coeff[0]\n",
    "        return np.polyval(self.coeff[::-1], x) \n",
    "    \n",
    "    \n",
    "    def evalue(self,x):\n",
    "        if type(x) == int:\n",
    "            answer =self.value(x)\n",
    "            return answer\n",
    "        elif type(x)==list:\n",
    "            if len(x)==1:\n",
    "                answer =self.value(x)\n",
    "                return answer\n",
    "            else:\n",
    "                return self.value(x)\n",
    "    \n",
    "    def display(self):\n",
    "        display=np.poly1d(self.coeff[::-1],variable='x')\n",
    "        print(display)\n",
    "        \n",
    "    def __add__(self, other):\n",
    "        p1 =self.coeff\n",
    "        p2 =other.coeff\n",
    "        addition =polynomial.polyadd(p1,p2)\n",
    "        return Poly(addition)\n",
    "    \n",
    "    def __mul__(self,multiplyby):\n",
    "        p1= self.coeff\n",
    "        if type(multiplyby)==Poly:\n",
    "            p2 =multiplyby.coeff\n",
    "        else:\n",
    "            p2=multiplyby\n",
    "        multiplication =polynomial.polymul(p1,p2)\n",
    "        return Poly(multiplication)\n",
    "    \n",
    "    def __rmul__(self,multiplyby):\n",
    "        p1= self.coeff\n",
    "        if type(multiplyby)==Poly:\n",
    "            p2 =multiplyby.coeff\n",
    "        else:\n",
    "            p2=multiplyby\n",
    "        multiplication =polynomial.polymul(p1,p2)\n",
    "        return Poly(multiplication)\n",
    "    \n",
    "    def __len__(self):\n",
    "        return len(self.coeff[self.coeff >0])\n",
    "    \n",
    "    def __str__(self):\n",
    "        return str(np.poly1d(self.coeff[::-1],variable='x'))\n",
    " "
   ]
  },
  {
   "cell_type": "code",
   "execution_count": 2,
   "id": "cde3a3cb",
   "metadata": {},
   "outputs": [
    {
     "data": {
      "text/plain": [
       "4"
      ]
     },
     "execution_count": 2,
     "metadata": {},
     "output_type": "execute_result"
    }
   ],
   "source": [
    "p= Poly([0,2,0,1,3])\n",
    "p.degre()"
   ]
  },
  {
   "cell_type": "code",
   "execution_count": 3,
   "id": "544cec3a",
   "metadata": {},
   "outputs": [
    {
     "data": {
      "text/plain": [
       "5"
      ]
     },
     "execution_count": 3,
     "metadata": {},
     "output_type": "execute_result"
    }
   ],
   "source": [
    "q= Poly([1,0,4,0,0,4])\n",
    "q.degre()"
   ]
  },
  {
   "cell_type": "code",
   "execution_count": 4,
   "id": "f6cf27e0",
   "metadata": {},
   "outputs": [
    {
     "data": {
      "text/plain": [
       "array([12,  3,  0,  2])"
      ]
     },
     "execution_count": 4,
     "metadata": {},
     "output_type": "execute_result"
    }
   ],
   "source": [
    "p.derive().coeff"
   ]
  },
  {
   "cell_type": "code",
   "execution_count": 5,
   "id": "ba12e3a6",
   "metadata": {},
   "outputs": [
    {
     "data": {
      "text/plain": [
       "6"
      ]
     },
     "execution_count": 5,
     "metadata": {},
     "output_type": "execute_result"
    }
   ],
   "source": [
    "p.value(1)"
   ]
  },
  {
   "cell_type": "code",
   "execution_count": 6,
   "id": "cc789b25",
   "metadata": {},
   "outputs": [
    {
     "data": {
      "text/plain": [
       "array([6])"
      ]
     },
     "execution_count": 6,
     "metadata": {},
     "output_type": "execute_result"
    }
   ],
   "source": [
    "p.evalue([1])\n"
   ]
  },
  {
   "cell_type": "code",
   "execution_count": 7,
   "id": "908d3aaf",
   "metadata": {
    "scrolled": true
   },
   "outputs": [
    {
     "name": "stdout",
     "output_type": "stream",
     "text": [
      "   4     3\n",
      "3 x + 1 x + 2 x\n"
     ]
    }
   ],
   "source": [
    "p.display()"
   ]
  },
  {
   "cell_type": "code",
   "execution_count": 8,
   "id": "697d8b58",
   "metadata": {},
   "outputs": [
    {
     "name": "stdout",
     "output_type": "stream",
     "text": [
      "   5     2\n",
      "4 x + 4 x + 1\n"
     ]
    }
   ],
   "source": [
    "q.display()"
   ]
  },
  {
   "cell_type": "code",
   "execution_count": 9,
   "id": "aea20049",
   "metadata": {},
   "outputs": [
    {
     "name": "stdout",
     "output_type": "stream",
     "text": [
      "   5     4     3     2\n",
      "4 x + 3 x + 1 x + 4 x + 2 x + 1\n"
     ]
    },
    {
     "data": {
      "text/plain": [
       "5"
      ]
     },
     "execution_count": 9,
     "metadata": {},
     "output_type": "execute_result"
    }
   ],
   "source": [
    "z= p+q\n",
    "z.display()\n",
    "z.degre()"
   ]
  },
  {
   "cell_type": "code",
   "execution_count": 10,
   "id": "79b238a4",
   "metadata": {},
   "outputs": [
    {
     "name": "stdout",
     "output_type": "stream",
     "text": [
      "    9     8      6     5     4     3\n",
      "12 x + 4 x + 20 x + 4 x + 3 x + 9 x + 2 x\n"
     ]
    },
    {
     "data": {
      "text/plain": [
       "9"
      ]
     },
     "execution_count": 10,
     "metadata": {},
     "output_type": "execute_result"
    }
   ],
   "source": [
    "z= p*q\n",
    "z.display()\n",
    "z.degre()"
   ]
  },
  {
   "cell_type": "code",
   "execution_count": 11,
   "id": "d50be2c1",
   "metadata": {},
   "outputs": [
    {
     "name": "stdout",
     "output_type": "stream",
     "text": [
      "    9     8      6     5     4     3\n",
      "12 x + 4 x + 20 x + 4 x + 3 x + 9 x + 2 x\n"
     ]
    }
   ],
   "source": [
    "print(z)"
   ]
  },
  {
   "cell_type": "code",
   "execution_count": 12,
   "id": "6547d36d",
   "metadata": {},
   "outputs": [
    {
     "name": "stdout",
     "output_type": "stream",
     "text": [
      "    9     8      6     5     4      3\n",
      "24 x + 8 x + 40 x + 8 x + 6 x + 18 x + 4 x\n"
     ]
    }
   ],
   "source": [
    "print (z*2)"
   ]
  },
  {
   "cell_type": "code",
   "execution_count": 13,
   "id": "c9cbb20c",
   "metadata": {},
   "outputs": [
    {
     "name": "stdout",
     "output_type": "stream",
     "text": [
      "   9     8      6     5       4       3\n",
      "6 x + 2 x + 10 x + 2 x + 1.5 x + 4.5 x + 1 x\n"
     ]
    }
   ],
   "source": [
    "print (0.5*z)"
   ]
  },
  {
   "cell_type": "code",
   "execution_count": 14,
   "id": "3242bb86",
   "metadata": {},
   "outputs": [
    {
     "data": {
      "text/plain": [
       "3"
      ]
     },
     "execution_count": 14,
     "metadata": {},
     "output_type": "execute_result"
    }
   ],
   "source": [
    "len(p) "
   ]
  },
  {
   "cell_type": "code",
   "execution_count": 15,
   "id": "fd59fa55",
   "metadata": {},
   "outputs": [
    {
     "data": {
      "text/plain": [
       "7"
      ]
     },
     "execution_count": 15,
     "metadata": {},
     "output_type": "execute_result"
    }
   ],
   "source": [
    "len(z)"
   ]
  },
  {
   "cell_type": "code",
   "execution_count": null,
   "id": "18f1285b",
   "metadata": {},
   "outputs": [],
   "source": [
    "# Exercice 2 : Polynomial"
   ]
  },
  {
   "cell_type": "code",
   "execution_count": 76,
   "id": "15ab2b3f",
   "metadata": {},
   "outputs": [],
   "source": [
    "class Personne:\n",
    "    \n",
    "    def __init__(self, firstname, lastname):\n",
    "        self.firstname = firstname\n",
    "        self.lastname = lastname\n",
    "        self.father = None\n",
    "        self.mother = None\n",
    "    \n",
    "    def set_father(self,father_name):\n",
    "        father = Personne(father_name,self.lastname)\n",
    "        self.father = father\n",
    "\n",
    "    def set_mother(self,mother_name):\n",
    "        mother = Personne(mother_name,self.lastname)\n",
    "        self.mother = mother\n",
    "    \n",
    "    def display(self):\n",
    "        to_display=\"Personne Full name :\"\n",
    "        to_display+= str(self.firstname) + \" \" + str(self.lastname)+ \" \\n\"\n",
    "        if not self.father is None:\n",
    "            to_display += \"Father Full name :\"\n",
    "            to_display += self.father.firstname+ \" \"+self.father.lastname+ \" \\n\"\n",
    "        if not self.mother is None:\n",
    "            to_display += \"Mother Full name :\"\n",
    "            to_display += self.mother.firstname+ \" \"+self.mother.lastname+ \" \\n\"\n",
    "        print(to_display)\n",
    "        \n",
    "\n",
    "class Family:\n",
    "    \n",
    "    def __init__(self, name):\n",
    "        self.members = []\n",
    "        self.name=name\n",
    "    \n",
    "    def add_member(self,member:Personne):\n",
    "        self.members.append(member)\n",
    "    \n",
    "    def modify_member(self,firstname,lastname,mother ,father):\n",
    "        personne= None\n",
    "        for member in self.members:\n",
    "            if (member.firstname == firstname and\n",
    "                member.lastname == lastname):\n",
    "                personne=member\n",
    "        if personne is None:\n",
    "            print(firstname,lastname,\n",
    "                  \"doesnt belong to this family!\")\n",
    "        personne.mother=mother\n",
    "        personne.father=father\n",
    "        personne.display()\n",
    "    \n",
    "    def display(self):\n",
    "        for member in self.members:\n",
    "            if not member.father is None:\n",
    "                print(\"Father :\",\n",
    "                      member.father.firstname,\n",
    "                      \" \",member.father.lastname, \" \")\n",
    "            if not member.mother is None:  \n",
    "                    print(\"Mother :\",\n",
    "                      member.mother.firstname,\n",
    "                      \" \",member.mother.lastname, \" \\n\")\n",
    "            print(member.firstname,\n",
    "              \" \",member.lastname, \" \\n\")\n"
   ]
  },
  {
   "cell_type": "code",
   "execution_count": 77,
   "id": "a63caa3c",
   "metadata": {},
   "outputs": [
    {
     "name": "stdout",
     "output_type": "stream",
     "text": [
      "Personne Full name :ibrahim sobh \n",
      "Father Full name :Nouhad sobh \n",
      "Mother Full name :houda sobh \n",
      "\n"
     ]
    }
   ],
   "source": [
    "me = Personne(\"ibrahim\",\"sobh\")\n",
    "me.set_father(\"Nouhad\")\n",
    "me.set_mother(\"houda\")\n",
    "me.display()"
   ]
  },
  {
   "cell_type": "code",
   "execution_count": 82,
   "id": "15cc65b1",
   "metadata": {},
   "outputs": [
    {
     "name": "stdout",
     "output_type": "stream",
     "text": [
      "Personne Full name :Lucie ROCHE \n",
      "Father Full name :Jacques ROCHE \n",
      "Mother Full name :Sarah ROCHE \n",
      "\n",
      "Personne Full name :Sarah ROCHE \n",
      "Father Full name :JEAN ROCHE \n",
      "Mother Full name :Etienne LUCIEN \n",
      "\n"
     ]
    }
   ],
   "source": [
    "Jean = Personne(\"JEAN\",\"ROCHE\")\n",
    "Jacques = Personne(\"Jacques\",\"ROCHE\")\n",
    "Etienne = Personne(\"Etienne\",\"LUCIEN\")\n",
    "Beatrice = Personne(\"Béatrice\",\"COOL\")\n",
    "Sarah= Personne(\"Sarah\",\"ROCHE\")\n",
    " \n",
    "Lucie =Personne(\"Lucie\",\"ROCHE\")\n",
    "family = Family(\"ROCHE\")\n",
    "family.add_member(Lucie)\n",
    "family.add_member(Sarah)\n",
    "family.modify_member(\"Lucie\",\"ROCHE\",Sarah,Jacques)\n",
    "family.modify_member(\"Sarah\",\"ROCHE\",Etienne,Jean)"
   ]
  },
  {
   "cell_type": "code",
   "execution_count": 84,
   "id": "3fcedf74",
   "metadata": {},
   "outputs": [
    {
     "name": "stdout",
     "output_type": "stream",
     "text": [
      "Father : Jacques   ROCHE  \n",
      "Mother : Sarah   ROCHE  \n",
      "\n",
      "Lucie   ROCHE  \n",
      "\n",
      "Father : JEAN   ROCHE  \n",
      "Mother : Etienne   LUCIEN  \n",
      "\n",
      "Sarah   ROCHE  \n",
      "\n",
      "CPU times: user 279 µs, sys: 290 µs, total: 569 µs\n",
      "Wall time: 497 µs\n"
     ]
    }
   ],
   "source": [
    "%time family.display()"
   ]
  }
 ],
 "metadata": {
  "kernelspec": {
   "display_name": "Python 3 (ipykernel)",
   "language": "python",
   "name": "python3"
  },
  "language_info": {
   "codemirror_mode": {
    "name": "ipython",
    "version": 3
   },
   "file_extension": ".py",
   "mimetype": "text/x-python",
   "name": "python",
   "nbconvert_exporter": "python",
   "pygments_lexer": "ipython3",
   "version": "3.9.10"
  }
 },
 "nbformat": 4,
 "nbformat_minor": 5
}
