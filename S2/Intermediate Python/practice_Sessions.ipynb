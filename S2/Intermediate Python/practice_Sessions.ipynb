{
 "cells": [
  {
   "cell_type": "code",
   "execution_count": 1,
   "id": "9f0d5edf",
   "metadata": {},
   "outputs": [
    {
     "name": "stdout",
     "output_type": "stream",
     "text": [
      "-18 <class 'int'>\n",
      "12.5 <class 'float'>\n"
     ]
    }
   ],
   "source": [
    "a = -18\n",
    "b=12.5\n",
    "print(a,type(a))\n",
    "print(b,type(b))\n"
   ]
  },
  {
   "cell_type": "code",
   "execution_count": 1,
   "id": "119301fa",
   "metadata": {},
   "outputs": [
    {
     "ename": "ModuleNotFoundError",
     "evalue": "No module named 'nltk'",
     "output_type": "error",
     "traceback": [
      "\u001b[0;31m---------------------------------------------------------------------------\u001b[0m",
      "\u001b[0;31mModuleNotFoundError\u001b[0m                       Traceback (most recent call last)",
      "Input \u001b[0;32mIn [1]\u001b[0m, in \u001b[0;36m<cell line: 1>\u001b[0;34m()\u001b[0m\n\u001b[0;32m----> 1\u001b[0m \u001b[38;5;28;01mimport\u001b[39;00m \u001b[38;5;21;01mnltk\u001b[39;00m\n\u001b[1;32m      2\u001b[0m \u001b[38;5;28;01mimport\u001b[39;00m \u001b[38;5;21;01msklearn\u001b[39;00m\n\u001b[1;32m      4\u001b[0m \u001b[38;5;28mprint\u001b[39m(\u001b[38;5;124m'\u001b[39m\u001b[38;5;124mThe nltk version is \u001b[39m\u001b[38;5;132;01m{}\u001b[39;00m\u001b[38;5;124m.\u001b[39m\u001b[38;5;124m'\u001b[39m\u001b[38;5;241m.\u001b[39mformat(nltk\u001b[38;5;241m.\u001b[39m__version__))\n",
      "\u001b[0;31mModuleNotFoundError\u001b[0m: No module named 'nltk'"
     ]
    }
   ],
   "source": []
  },
  {
   "cell_type": "code",
   "execution_count": 133,
   "id": "5292fda3",
   "metadata": {
    "scrolled": false
   },
   "outputs": [
    {
     "name": "stdout",
     "output_type": "stream",
     "text": [
      "1 <class 'int'>\n",
      "1 [2] [[2, [3, 4]], [3, [5, [5]]]]\n",
      "2 [[3, 4]] [[3, [5, [5]]]]\n",
      "3 [4] [[3, [5, [5]]]]\n"
     ]
    },
    {
     "data": {
      "text/plain": [
       "12"
      ]
     },
     "execution_count": 133,
     "metadata": {},
     "output_type": "execute_result"
    }
   ],
   "source": [
    "l = [1, [2, 3, [1]]]\n",
    "print(l[0], type(l[0]))\n",
    "\n",
    "\n",
    "l1 = [ [1, 2], [2, [3, 4]], [3, [5, [5]] ] ]\n",
    "\n",
    "l2=[-3,[2,3],[0,4],5]\n",
    "\n",
    "\n",
    "def sum_nested_list(values):\n",
    "    if type(values[0])== int:\n",
    "        if len(values[1:])>1:\n",
    "            return values[0] + sum_nested_list(values[1:])\n",
    "        return values[0]\n",
    "    if len(values[0])>1:\n",
    "        print(values[0][0],values[0][1:],values[1:])\n",
    "        return values[0][0] + sum_nested_list(values[0][1:] + values[1:])\n",
    "    return values[0][0]\n",
    "sum_nested_list(l1)"
   ]
  },
  {
   "cell_type": "code",
   "execution_count": 260,
   "id": "02679b6f",
   "metadata": {},
   "outputs": [
    {
     "data": {
      "text/plain": [
       "20"
      ]
     },
     "execution_count": 260,
     "metadata": {},
     "output_type": "execute_result"
    }
   ],
   "source": [
    "d= {'k1': 2, 'k2': {\"k1\": 3, \"k2\": 5, \"k3\": {\"k4\": 2, \"k5\": 3}},\"K6\":5}\n",
    "k1=list(d.values())\n",
    "\n",
    "def sum_nested_dictonary(d):\n",
    "    \n",
    "    if len(d)>0:\n",
    "        currentdic=list(d.values())[0]\n",
    "        if type(currentdic)== int:\n",
    "            d.pop(list(d.keys())[0])\n",
    "            return currentdic + sum_nested_dictonary(d)\n",
    "        tocal=list(d.values())[0] #dictonary\n",
    "        d.pop(list(d.keys())[0])\n",
    "        return sum_nested_dictonary(tocal) + sum_nested_dictonary(d)\n",
    "    return 0\n",
    " \n",
    "sum_nested_dictonary(d)"
   ]
  },
  {
   "cell_type": "code",
   "execution_count": 153,
   "id": "f4267579",
   "metadata": {},
   "outputs": [
    {
     "data": {
      "text/plain": [
       "[-3, 2, 3, 0, 4, 5]"
      ]
     },
     "execution_count": 153,
     "metadata": {},
     "output_type": "execute_result"
    }
   ],
   "source": [
    "l = [1, [2, 3, [1]]]\n",
    "\n",
    "l1 = [ [1, 2], [2, [3, 4]], [3, [5, [5]] ] ]\n",
    "\n",
    "l2=[-3,[2,3],[0,4],5]\n",
    "\n",
    "def flatten_list(values):\n",
    "    if values == []:\n",
    "        return values\n",
    "    if isinstance(values[0], list):\n",
    "        return flatten_list(values[0]) + flatten_list(values[1:])\n",
    "    return values[:1] + flatten_list(values[1:])\n",
    "flatten_list(l2)"
   ]
  },
  {
   "cell_type": "code",
   "execution_count": 12,
   "id": "7ae552d6",
   "metadata": {},
   "outputs": [
    {
     "data": {
      "text/plain": [
       "False"
      ]
     },
     "execution_count": 12,
     "metadata": {},
     "output_type": "execute_result"
    }
   ],
   "source": [
    "int == type(4.0)"
   ]
  },
  {
   "cell_type": "code",
   "execution_count": 25,
   "id": "467bea2c",
   "metadata": {},
   "outputs": [
    {
     "data": {
      "text/plain": [
       "3"
      ]
     },
     "execution_count": 25,
     "metadata": {},
     "output_type": "execute_result"
    }
   ],
   "source": [
    "l=[1,2,3,-1]\n",
    "\n",
    "def listmax(values):\n",
    "    maximum=values[0]\n",
    "    for i in range(len(values)):\n",
    "        if values[i] >= maximum:\n",
    "            maximum=values[i]\n",
    "        \n",
    "    return maximum\n",
    "\n",
    "listmax(l)"
   ]
  },
  {
   "cell_type": "code",
   "execution_count": 39,
   "id": "1b790fca",
   "metadata": {},
   "outputs": [
    {
     "data": {
      "text/plain": [
       "5"
      ]
     },
     "execution_count": 39,
     "metadata": {},
     "output_type": "execute_result"
    }
   ],
   "source": [
    "l=[1,2,3,-1]\n",
    "p=\"sada\"\n",
    "def multiply_list_values_by_number(values,number):\n",
    "    return [values[i] * number for i in range(len(values))]\n",
    "\n",
    "def containsarobase(s):\n",
    "    return True if \"@\" in s else False\n",
    "\n",
    "k=0\n",
    "\n",
    "for i in p:\n",
    "    k=k+1\n",
    "k"
   ]
  },
  {
   "cell_type": "code",
   "execution_count": 78,
   "id": "bbb3b49b",
   "metadata": {},
   "outputs": [
    {
     "data": {
      "text/plain": [
       "'1-2-3--1'"
      ]
     },
     "execution_count": 78,
     "metadata": {},
     "output_type": "execute_result"
    }
   ],
   "source": [
    "def split(string, split_token):\n",
    "    newlist=[]\n",
    "    word=\"\"\n",
    "    for i in range(len(string)):\n",
    "        if string[i] ==split_token:\n",
    "            if len(word)>0:\n",
    "                newlist.append(word)\n",
    "                word=\"\"\n",
    "        else:\n",
    "            word+=string[i]\n",
    "    newlist.append(word)\n",
    "    return newlist\n",
    "\n",
    "def join(char_join, strings):\n",
    "    phrase=''\n",
    "    for i in strings:\n",
    "        if i != strings[-1]:\n",
    "            phrase+=str(i)+char_join\n",
    "        else:\n",
    "            phrase+=str(i)\n",
    "    return phrase\n",
    "        \n",
    "join(\"-\",l)"
   ]
  },
  {
   "cell_type": "code",
   "execution_count": 122,
   "id": "ea2876ab",
   "metadata": {},
   "outputs": [
    {
     "name": "stdout",
     "output_type": "stream",
     "text": [
      "Equivalent json string of input dictionary: {\"1\": \"Welcome\", \"2\": \"to\", \"3\": \"Geeks\", \"4\": \"for\", \"5\": \"Geeks\"}\n",
      "        \n",
      "<class 'str'>\n"
     ]
    }
   ],
   "source": [
    "import json\n",
    " \n",
    "# Creating a dictionary\n",
    "Dictionary ={1:'Welcome', 2:'to',\n",
    "            3:'Geeks', 4:'for',\n",
    "            5:'Geeks'}\n",
    "  \n",
    "# Converts input dictionary into\n",
    "# string and stores it in json_string\n",
    "json_string = json.dumps(Dictionary)\n",
    "print('Equivalent json string of input dictionary:',json_string)\n",
    "print(\"        \")\n",
    " \n",
    "# Checking type of object\n",
    "# returned by json.dumps\n",
    "print(type(json_string))"
   ]
  },
  {
   "cell_type": "code",
   "execution_count": 81,
   "id": "5cde12cf",
   "metadata": {},
   "outputs": [
    {
     "name": "stdout",
     "output_type": "stream",
     "text": [
      "Equivalent json string of dictionary: {\"2\": \"to\", \"3\": \"Geeks\", \"4\": \"for\", \"5\": \"Geeks\"}\n"
     ]
    }
   ],
   "source": [
    "\n",
    "Dictionary ={(1, 2, 3):'Welcome', 2:'to',\n",
    "            3:'Geeks', 4:'for',\n",
    "            5:'Geeks'}\n",
    " \n",
    " \n",
    "# Our dictionary contains tuple\n",
    "# as key, so it is automatically\n",
    "# skipped If we have not set\n",
    "# skipkeys = True then the code\n",
    "# throws the error\n",
    "json_string = json.dumps(Dictionary,\n",
    "                         skipkeys = True)\n",
    " \n",
    "print('Equivalent json string of dictionary:',\n",
    "      json_string)"
   ]
  },
  {
   "cell_type": "code",
   "execution_count": 112,
   "id": "44107b12",
   "metadata": {},
   "outputs": [],
   "source": [
    "def json_dumps(dict_to_convert):\n",
    "    js=\"{\"\n",
    "    for key,value in dict_to_convert.items():\n",
    "        if type(key)!= tuple:\n",
    "            js= js + '\\\"'+ str(key) + '\\\"'+ \": \" +'\\\"'+ str(value) + '\\\"'\n",
    "            if key != list(dict_to_convert)[-1]:\n",
    "                js=js+\",\"\n",
    "    return js +\"}\"\n",
    "    "
   ]
  },
  {
   "cell_type": "code",
   "execution_count": 90,
   "id": "45656201",
   "metadata": {},
   "outputs": [
    {
     "name": "stdout",
     "output_type": "stream",
     "text": [
      "\"2\"\n"
     ]
    }
   ],
   "source": [
    "js= '\\\"'+ str(2) + '\\\"'\n",
    "print(js)"
   ]
  },
  {
   "cell_type": "code",
   "execution_count": null,
   "id": "db4d2cb9",
   "metadata": {
    "scrolled": true
   },
   "outputs": [],
   "source": [
    "age=25\n",
    "nom=\"ibrahim\"\n",
    "\n",
    "s=\"bonjour {nom}, tu as {age}, ravi de te rencontrer !\".format(nom = nom, age = age)\n",
    "print(s)"
   ]
  },
  {
   "cell_type": "code",
   "execution_count": null,
   "id": "2571c2a9",
   "metadata": {},
   "outputs": [],
   "source": [
    "vegetable= {\"color\" : \"green\",\"age\":9}\n",
    "fruit2={}\n",
    "\n",
    "fruit2[\"type\"]=\"orange\"\n",
    "fruit2[\"size\"]=5\n",
    "fruit2[\"is_mature\"]=False\n",
    "\n",
    "fruit_5={}\n",
    "\n",
    "fruit_5[\"type\"]=\"banana\"\n",
    "fruit_5[\"size\"]=5\n",
    "fruit_5[\"is_mature\"]=True\n",
    "\n",
    "fridge=[]\n",
    "fridge.append(fruit2)\n",
    "fridge.append(fruit_5)\n",
    "\n",
    "fridge\n",
    "\n",
    "def merge_dictionnary(dict1, dict2):\n",
    "     return dict(dict1.items() | dict2.items())\n",
    "    \n",
    "def intersect_dictionnary(dict1, dict2):\n",
    "     return dict(dict1.items() & dict2.items())\n",
    "    \n",
    "print(merge_dictionnary(fruit2,vegetable))\n",
    "\n",
    "print(intersect_dictionnary(fruit2,fruit_5))"
   ]
  },
  {
   "cell_type": "code",
   "execution_count": 158,
   "id": "4062b335",
   "metadata": {},
   "outputs": [
    {
     "data": {
      "text/plain": [
       "[{'age': 22}, {'age': 33}]"
      ]
     },
     "execution_count": 158,
     "metadata": {},
     "output_type": "execute_result"
    }
   ],
   "source": [
    "def anonymise_data(user_information):\n",
    "    toremove=[\"firstname\",\"lastname\",\"email\"]\n",
    "    newList=[]\n",
    "    for element in user_information:\n",
    "        newdic={}\n",
    "        for key,value in element.items():\n",
    "            if key not in toremove:\n",
    "                newdic[key]=value\n",
    "        newList.append(newdic)\n",
    "    return newList \n",
    "\n",
    "d = [{'age': 22, 'email': \"laurent@mail.fr\"}, {\"lastname\": \"wewwe\",\"age\": 33}]\n",
    "anonymise_data(d)"
   ]
  },
  {
   "cell_type": "code",
   "execution_count": 168,
   "id": "5535d87e",
   "metadata": {},
   "outputs": [
    {
     "name": "stdout",
     "output_type": "stream",
     "text": [
      "[{'id': 1, 'date': '01/22', 'product': 'lol', 'user_info': 'sam'}, {'id': 2, 'date': '02/23', 'product': 'pol', 'user_info': 'lam'}, {'id': 3, 'date': '03/22', 'product': 'dol', 'user_info': 'tam'}]\n"
     ]
    }
   ],
   "source": [
    "ids=[1,2,3]\n",
    "dates=[\"01/22\",\"02/23\",\"03/22\"]\n",
    "products=[\"lol\",\"pol\",\"dol\"]\n",
    "users_info=[\"sam\",\"lam\",\"tam\"]\n",
    "\n",
    "def format_purchase_information(ids, dates, products, users_info):\n",
    "    keys=['id', 'date', 'product', 'user_info']\n",
    "    newList=[]\n",
    "    for x, y, z, w in  zip(ids, dates, products, users_info):\n",
    "        new_purchase={}\n",
    "        values=[x, y, z, w]\n",
    "        for i in range(len(keys)):\n",
    "            new_purchase[keys[i]]=values[i]\n",
    "        newList.append(new_purchase)       \n",
    "    return newList \n",
    "\n",
    "print(format_purchase_information(ids, dates, products, users_info))"
   ]
  },
  {
   "cell_type": "code",
   "execution_count": null,
   "id": "05c79922",
   "metadata": {},
   "outputs": [],
   "source": [
    "news=\"\"\n",
    "with open('news.txt', 'r') as reader:\n",
    "    # Read & print the entire file\n",
    "    news+=reader.read()\n",
    "    \n",
    "f = open('dog_breeds.txt')\n",
    "f.readlines()  # Returns a list object    "
   ]
  },
  {
   "cell_type": "code",
   "execution_count": 191,
   "id": "bf076a1d",
   "metadata": {},
   "outputs": [
    {
     "data": {
      "text/plain": [
       "{'username': 'john', 'firstname': 'Laurent', 'lastname': 'Mival'}"
      ]
     },
     "execution_count": 191,
     "metadata": {},
     "output_type": "execute_result"
    }
   ],
   "source": [
    "import json\n",
    "strJson = \"\"\"{\"username\":\"john\", \"firstname\": \"Laurent\", \"lastname\": \"Mival\"}\"\"\"\n",
    "\n",
    "\n",
    "user_data= json.loads(strJson)\n",
    "\n",
    "user_data"
   ]
  },
  {
   "cell_type": "code",
   "execution_count": 206,
   "id": "c0050e20",
   "metadata": {},
   "outputs": [
    {
     "name": "stdout",
     "output_type": "stream",
     "text": [
      "[1, 2, 3, 4]\n",
      "[2, 4, 6, 8]\n"
     ]
    }
   ],
   "source": [
    "values=[1,2,3,4]\n",
    "print(values) #existe déjà\n",
    "\n",
    "def myfunc(value):\n",
    "  return value*2\n",
    "\n",
    "result = list(map(myfunc, values))\n",
    "print(result)\n"
   ]
  },
  {
   "cell_type": "code",
   "execution_count": 210,
   "id": "eb5213c0",
   "metadata": {},
   "outputs": [
    {
     "name": "stdout",
     "output_type": "stream",
     "text": [
      "[False, False, True, False, False, True, False, False, True, False, True, False, False, False, True, True, False, False, False, True, True, True, False, True, False, True, True, True, False, False]\n"
     ]
    }
   ],
   "source": [
    "import numpy as np \n",
    "\n",
    "values = np.random.randint(0,100,30)\n",
    "\n",
    "def is_even(number):\n",
    "    return number%2==0\n",
    "\n",
    "result= list(map(is_even,values))\n",
    "print(result)"
   ]
  },
  {
   "cell_type": "code",
   "execution_count": 213,
   "id": "4bc82130",
   "metadata": {},
   "outputs": [
    {
     "name": "stdout",
     "output_type": "stream",
     "text": [
      "[['I', 'am', 'a', 'cat'], ['I', 'am', 'a', 'dog']]\n"
     ]
    }
   ],
   "source": [
    "phrases=[\"I am a cat\",\"I am a dog\"]\n",
    "def myfunction(phrase):\n",
    "    return phrase.split()\n",
    "     \n",
    "def split_list_elements(phrases):\n",
    "     result= map(myfunction,phrases)\n",
    "     return list(result)\n",
    "     \n",
    "print(split_list_elements(phrases))  \n"
   ]
  },
  {
   "cell_type": "code",
   "execution_count": 219,
   "id": "4550e7d9",
   "metadata": {},
   "outputs": [
    {
     "name": "stdout",
     "output_type": "stream",
     "text": [
      "[1, 3, 4]\n"
     ]
    }
   ],
   "source": [
    "values=[1,-2,3,4]\n",
    "def myfunction(value):\n",
    "    return True if value >= 0 else False\n",
    "     \n",
    "def get_positive_values(values):\n",
    "    results= filter(myfunction,values)\n",
    "    return list(results)\n",
    "     \n",
    "print(get_positive_values(values))"
   ]
  },
  {
   "cell_type": "code",
   "execution_count": 220,
   "id": "3e77dc0a",
   "metadata": {},
   "outputs": [],
   "source": [
    "import re\n",
    " \n",
    "def check(email):  \n",
    "    regex = '^[a-z0-9]+[\\._]?[a-z0-9]+[@]\\w+[.]\\w{2,3}$'\n",
    "    return True if re.search(regex,email) else False\n",
    "     \n",
    "def get_correct_emails(email_values):\n",
    "    results= filter(check,email_values)\n",
    "    return list(results)"
   ]
  },
  {
   "cell_type": "code",
   "execution_count": null,
   "id": "710352a6",
   "metadata": {},
   "outputs": [],
   "source": [
    "from functools import reduce\n",
    "\n",
    "\n",
    "def Average(lst):\n",
    "    return reduce(lambda a, b: a + b, lst) / len(lst)\n",
    "    \n",
    "def get_average(lst):\n",
    "    return Average(lst)\n",
    "\n",
    "\n",
    "def mysum(x,y):\n",
    "    return x+y\n",
    "    \n",
    "def get_average(lst):\n",
    "    return reduce(mysum,lst)/len(lst)\n",
    "\n",
    "\n",
    "# list = [1,2,3,4]\n",
    "\n",
    "# first iter \n",
    "\n",
    "# 1+2 then \n",
    "\n",
    "# second iter \n",
    "\n",
    "# (1+2) +3\n",
    "# ..\n",
    "\n",
    "# ((1+2)+3)+4)"
   ]
  },
  {
   "cell_type": "code",
   "execution_count": 223,
   "id": "2f6653bb",
   "metadata": {},
   "outputs": [
    {
     "data": {
      "text/plain": [
       "[0, 1]"
      ]
     },
     "execution_count": 223,
     "metadata": {},
     "output_type": "execute_result"
    }
   ],
   "source": [
    "    \n",
    "def countList(sentences):\n",
    "    sentence = list(sentences.split())\n",
    "    return len(sentence)\n",
    "\n",
    "    \n",
    "def get_words_count(sentences):\n",
    "    result= map(countList,sentences)\n",
    "    return sum(list(result))\n",
    "    \n",
    "l= list(range(0,2))\n",
    "l"
   ]
  },
  {
   "cell_type": "code",
   "execution_count": null,
   "id": "34cb2d84",
   "metadata": {},
   "outputs": [],
   "source": []
  }
 ],
 "metadata": {
  "kernelspec": {
   "display_name": "Python 3 (ipykernel)",
   "language": "python",
   "name": "python3"
  },
  "language_info": {
   "codemirror_mode": {
    "name": "ipython",
    "version": 3
   },
   "file_extension": ".py",
   "mimetype": "text/x-python",
   "name": "python",
   "nbconvert_exporter": "python",
   "pygments_lexer": "ipython3",
   "version": "3.9.12"
  }
 },
 "nbformat": 4,
 "nbformat_minor": 5
}
