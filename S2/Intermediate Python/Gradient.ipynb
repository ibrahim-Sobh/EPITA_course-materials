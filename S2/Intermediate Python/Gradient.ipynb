{
 "cells": [
  {
   "cell_type": "code",
   "execution_count": 1,
   "id": "f15720a9",
   "metadata": {},
   "outputs": [],
   "source": [
    "import numpy as np\n",
    "\n",
    "\n",
    "def predict_linear(x, theta0, theta1) :\n",
    "    return theta0 +theta1*x\n",
    "    \n",
    "def mse(predictions, labels):\n",
    "    return np.mean(np.power(predictions-labels,2))\n",
    "\n",
    "def grad(x,y,theta0,theta1):\n",
    "    dt0 = -2/len(y) * np.sum(y -theta0 -theta1*x)\n",
    "    dt1 = -2/len(y) * np.sum(x*(y -theta0 -theta1*x))\n",
    "    return np.array([dt0,dt1]).reshape(-1)\n",
    "    \n",
    "def compute_theta_sgd(theta0, theta1, learning_rate,x ,y):\n",
    "    dt =grad(x,y,theta0,theta1)\n",
    "    t0n =theta0 - learning_rate*dt[0]\n",
    "    t1n =theta1 - learning_rate*dt[1]\n",
    "    return np.array([t0n,t1n]).reshape(-1)\n",
    "    \n",
    "def gradient_descent(X, y, theta0,\n",
    "                     theta1, learning_rate, n_iterations):\n",
    "    t0n=theta0\n",
    "    t1n=theta1\n",
    "    for i in range(n_iterations):\n",
    "        tn = compute_theta_sgd(t0n, t1n, learning_rate,x ,y)\n",
    "        t0n =tn[0]\n",
    "        t1n =tn[1]\n",
    "    return np.array([t0n,t1n]).reshape(-1)"
   ]
  },
  {
   "cell_type": "code",
   "execution_count": null,
   "id": "fd4b8fc3",
   "metadata": {},
   "outputs": [],
   "source": []
  }
 ],
 "metadata": {
  "kernelspec": {
   "display_name": "Python 3 (ipykernel)",
   "language": "python",
   "name": "python3"
  },
  "language_info": {
   "codemirror_mode": {
    "name": "ipython",
    "version": 3
   },
   "file_extension": ".py",
   "mimetype": "text/x-python",
   "name": "python",
   "nbconvert_exporter": "python",
   "pygments_lexer": "ipython3",
   "version": "3.9.10"
  }
 },
 "nbformat": 4,
 "nbformat_minor": 5
}
