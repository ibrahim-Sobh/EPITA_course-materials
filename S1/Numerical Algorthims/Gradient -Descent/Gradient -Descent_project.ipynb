{
 "cells": [
  {
   "cell_type": "markdown",
   "metadata": {},
   "source": [
    "# A Simple Example  of a Gradient Descent Method  by Hand (batch  method)"
   ]
  },
  {
   "cell_type": "markdown",
   "metadata": {},
   "source": [
    "## Ibrahim\n",
    "## Sobh\n",
    "## PS: Please add your name to the file name. "
   ]
  },
  {
   "cell_type": "code",
   "execution_count": 10,
   "metadata": {},
   "outputs": [],
   "source": [
    "import numpy as np\n",
    "import math as mt\n",
    "import random\n",
    "import sklearn\n",
    "from sklearn.datasets import make_regression \n",
    "import pylab\n",
    "from scipy import stats"
   ]
  },
  {
   "cell_type": "markdown",
   "metadata": {},
   "source": [
    "### We're going to solve a  Least Squares Problem with a cost function defined as following: "
   ]
  },
  {
   "cell_type": "code",
   "execution_count": 112,
   "metadata": {},
   "outputs": [
    {
     "data": {
      "text/latex": [
       "$$J(\\Theta)=\\frac{1}{2*m} \\sum_{i=1}^{m} (H_\\Theta(x_i)−y_i)^2$$\n"
      ],
      "text/plain": [
       "<IPython.core.display.Latex object>"
      ]
     },
     "metadata": {},
     "output_type": "display_data"
    }
   ],
   "source": [
    "%%latex\n",
    "$$J(\\Theta)=\\frac{1}{2*m} \\sum_{i=1}^{m} (H_\\Theta(x_i)−y_i)^2$$"
   ]
  },
  {
   "cell_type": "markdown",
   "metadata": {},
   "source": [
    "# where \n",
    "### i) x_i is the ith sample\n",
    "### ii) m is the total number of training examples \n",
    "#### and Hθ(x(i)) is the hypothesis function defined like this:"
   ]
  },
  {
   "cell_type": "code",
   "execution_count": 4,
   "metadata": {
    "scrolled": true
   },
   "outputs": [
    {
     "data": {
      "text/latex": [
       "$$h_\\Theta(x_i)=\\Theta_0  + \\Theta_1 x_i$$\n",
       "###### Constant (intercept) and Slope\n"
      ],
      "text/plain": [
       "<IPython.core.display.Latex object>"
      ]
     },
     "metadata": {},
     "output_type": "display_data"
    }
   ],
   "source": [
    "%%latex\n",
    "$$h_\\Theta(x_i)=\\Theta_0  + \\Theta_1 x_i$$\n",
    "###### Constant (intercept) and Slope"
   ]
  },
  {
   "cell_type": "markdown",
   "metadata": {},
   "source": [
    "## Using Scipy/Numpy/Sklearn"
   ]
  },
  {
   "cell_type": "code",
   "execution_count": 9,
   "metadata": {},
   "outputs": [],
   "source": [
    "import numpy as np\n",
    "from scipy import optimize\n",
    "import matplotlib.pyplot as plt "
   ]
  },
  {
   "cell_type": "code",
   "execution_count": 14,
   "metadata": {
    "scrolled": false
   },
   "outputs": [
    {
     "name": "stdout",
     "output_type": "stream",
     "text": [
      "CPU times: user 20 ms, sys: 9.93 ms, total: 29.9 ms\n",
      "Wall time: 27.4 ms\n"
     ]
    }
   ],
   "source": [
    "%%time\n",
    "# Generation of data: 1st method\n",
    "n=10**6\n",
    "X=np.linspace(0,1,n)\n",
    "y=1 + X + X*np.random.random(len(X))/10"
   ]
  },
  {
   "cell_type": "code",
   "execution_count": 13,
   "metadata": {
    "scrolled": false
   },
   "outputs": [
    {
     "name": "stdout",
     "output_type": "stream",
     "text": [
      "X:  [0.000000e+00 1.000001e-06 2.000002e-06 ... 9.999980e-01 9.999990e-01\n",
      " 1.000000e+00] Shape:  (1000000,)\n",
      "y:  [1.         1.00000104 1.00000215 ... 2.07001162 2.03767833 2.07536211] Shape:  (1000000,)\n"
     ]
    }
   ],
   "source": [
    "print(\"X: \",X, \"Shape: \", np.shape(X))\n",
    "print(\"y: \",y, \"Shape: \", np.shape(y))"
   ]
  },
  {
   "cell_type": "code",
   "execution_count": 15,
   "metadata": {},
   "outputs": [],
   "source": [
    "def F(x,a,b):\n",
    "    return a*x + b"
   ]
  },
  {
   "cell_type": "code",
   "execution_count": 16,
   "metadata": {
    "scrolled": true
   },
   "outputs": [
    {
     "name": "stdout",
     "output_type": "stream",
     "text": [
      "[1.04997436 1.00000436]\n",
      "CPU times: user 60.9 ms, sys: 14.3 ms, total: 75.2 ms\n",
      "Wall time: 77.2 ms\n"
     ]
    }
   ],
   "source": [
    "%%time\n",
    "# We solve with Scipy: optimize\n",
    "Coeffs=optimize.curve_fit(F,xdata=X,ydata=y)[0]\n",
    "print(Coeffs)"
   ]
  },
  {
   "cell_type": "code",
   "execution_count": 119,
   "metadata": {},
   "outputs": [],
   "source": [
    "# We solve using numpy.linalg.lstsqe"
   ]
  },
  {
   "cell_type": "code",
   "execution_count": 120,
   "metadata": {
    "scrolled": true
   },
   "outputs": [
    {
     "name": "stdout",
     "output_type": "stream",
     "text": [
      "Shape:  (1000000, 2)\n",
      "Shape:  (1000000, 1)\n",
      "CPU times: user 3.88 ms, sys: 10.8 ms, total: 14.7 ms\n",
      "Wall time: 19.1 ms\n"
     ]
    }
   ],
   "source": [
    "%%time\n",
    "# We construct the Matrix A\n",
    "A=np.vstack([X,np.ones(len(X))]).T\n",
    "print(\"Shape: \", np.shape(A))\n",
    "Y=y[:,np.newaxis]\n",
    "print(\"Shape: \", np.shape(Y))"
   ]
  },
  {
   "cell_type": "code",
   "execution_count": 121,
   "metadata": {
    "scrolled": true
   },
   "outputs": [
    {
     "name": "stdout",
     "output_type": "stream",
     "text": [
      "[[1.04984713]\n",
      " [1.00004062]]\n",
      "CPU times: user 57.8 ms, sys: 39.4 ms, total: 97.2 ms\n",
      "Wall time: 25.1 ms\n"
     ]
    }
   ],
   "source": [
    "%%time\n",
    "# We solve using numpy.linalg.lstsqe\n",
    "Coeffs=np.linalg.lstsq(A,Y,rcond=None)[0]\n",
    "print(Coeffs)"
   ]
  },
  {
   "cell_type": "code",
   "execution_count": 122,
   "metadata": {},
   "outputs": [
    {
     "name": "stdout",
     "output_type": "stream",
     "text": [
      "CPU times: user 193 ms, sys: 83.7 ms, total: 277 ms\n",
      "Wall time: 52.6 ms\n"
     ]
    }
   ],
   "source": [
    "%%time\n",
    "# Using the Pseudo_Inverse\n",
    "Apinv=np.linalg.pinv(A)"
   ]
  },
  {
   "cell_type": "code",
   "execution_count": 123,
   "metadata": {
    "scrolled": false
   },
   "outputs": [
    {
     "name": "stdout",
     "output_type": "stream",
     "text": [
      "Hum:  [[1.04984713]\n",
      " [1.00004062]]\n",
      "CPU times: user 6.02 ms, sys: 2.47 ms, total: 8.49 ms\n",
      "Wall time: 4.11 ms\n"
     ]
    }
   ],
   "source": [
    "%%time\n",
    "Coeffs=Apinv.dot(Y)\n",
    "print(\"Hum: \", Coeffs)"
   ]
  },
  {
   "cell_type": "code",
   "execution_count": 124,
   "metadata": {},
   "outputs": [
    {
     "name": "stdout",
     "output_type": "stream",
     "text": [
      "Slope: 1.0498471275310675\n",
      "Intercept:  1.0000406230804677\n",
      "r_value, p_value, slope_std_error:  0.9984920396435913 0.0 5.772023163040131e-05\n",
      "CPU times: user 13.6 ms, sys: 2.45 ms, total: 16 ms\n",
      "Wall time: 12.7 ms\n"
     ]
    }
   ],
   "source": [
    "%%time\n",
    "# We check a good approximation of the \"exact\" value\n",
    "# with scipy linear regression \n",
    "slope, intercept, r_value, p_value, slope_std_error = stats.linregress(X, y)\n",
    "print(\"Slope:\", slope)\n",
    "print(\"Intercept: \",intercept)\n",
    "print(\"r_value, p_value, slope_std_error: \", r_value, p_value, slope_std_error )"
   ]
  },
  {
   "cell_type": "code",
   "execution_count": 125,
   "metadata": {
    "scrolled": true
   },
   "outputs": [
    {
     "name": "stdout",
     "output_type": "stream",
     "text": [
      "[0.000000e+00 1.000001e-06 2.000002e-06 ... 9.999980e-01 9.999990e-01\n",
      " 1.000000e+00]\n"
     ]
    }
   ],
   "source": [
    "print(X)"
   ]
  },
  {
   "cell_type": "code",
   "execution_count": 18,
   "metadata": {},
   "outputs": [
    {
     "name": "stdout",
     "output_type": "stream",
     "text": [
      "[[1 1]\n",
      " [2 2]\n",
      " [3 3]\n",
      " [4 4]]\n",
      "[ 3.3  6.3  9.3 12.3]\n"
     ]
    }
   ],
   "source": [
    "# With Scikit: be careful of the SHAPEs!\n",
    "from sklearn.linear_model  import LinearRegression\n",
    "#X_train, X_test, Y_train, Y_test = train_test_split(X,y,random_state=42)\n",
    "Xx = np.array([[1, 1], [2, 2], [3, 3], [4, 4]])\n",
    "print(Xx)\n",
    "# y = 1 * x_0 + 2 * x_1 + 3\n",
    "yy = np.dot(Xx, np.array([1, 2])) + 0.3\n",
    "print(yy)"
   ]
  },
  {
   "cell_type": "code",
   "execution_count": 19,
   "metadata": {
    "scrolled": false
   },
   "outputs": [
    {
     "name": "stdout",
     "output_type": "stream",
     "text": [
      "1.0\n",
      "[1.5 1.5]\n",
      "0.3000000000000016\n",
      "[12.3]\n"
     ]
    }
   ],
   "source": [
    "reg = LinearRegression().fit(Xx, yy)\n",
    "print(reg.score(Xx, yy))\n",
    "print(reg.coef_)\n",
    "print(reg.intercept_)\n",
    "print(reg.predict(np.array([[3, 5]])))"
   ]
  },
  {
   "cell_type": "code",
   "execution_count": 18,
   "metadata": {
    "scrolled": true
   },
   "outputs": [],
   "source": [
    "## TRY WITH 10**7 \n"
   ]
  },
  {
   "cell_type": "markdown",
   "metadata": {},
   "source": [
    "## A \"Gradient Code\"...."
   ]
  },
  {
   "cell_type": "code",
   "execution_count": 134,
   "metadata": {},
   "outputs": [],
   "source": [
    "# alpha is the Learning rate\n",
    "# x Set of x values\n",
    "# y Set of y values\n",
    "# eps\n",
    "def Gradient_Method(alpha, \n",
    "                    x, \n",
    "                    y, \n",
    "                    eps=0.0001, \n",
    "                    max_iter=1000, \n",
    "                    steps=10):\n",
    "    HasConverged = False\n",
    "    iter = 0\n",
    "    m = x.shape[0] # number of samples\n",
    "    print(\"Number of Samples:\", m)\n",
    "\n",
    "    # initial value for theta  : chosen randomly\n",
    "    # Theta=(Theta0[0],Theta1[0]) in IR^2\n",
    "    # Theta0[0] -> t0 in IR\n",
    "    # Theta1[0] -> t1 in IR\n",
    "    \n",
    "    #Pick a random Intercept value\n",
    "    t0 = np.random.random(x.shape[1])\n",
    "    \n",
    "    #pick a random Slope value\n",
    "    t1 = np.random.random(x.shape[1])\n",
    "    \n",
    "    print(\"Initial Value of Thetao[0] =\", t0)\n",
    "    \n",
    "    print(\"Initial Value of Theta1[0] =\", t1)\n",
    "\n",
    "    # The total error, J(theta)  is defined as\n",
    "    \n",
    "    # Loss function = Sigma[(T1*x[i] + T0) - Y(i))^2]\n",
    "    \n",
    "    # Y[i] ---------->Ovserved Y \n",
    "    \n",
    "    # T1*x[i] + T0 ------> Predicited Y\n",
    "    \n",
    "    # J is the Loss function ( in this case it is Least Square )\n",
    "    # This is the intial Erro value\n",
    "      \n",
    "    J= sum( [ (t0 + t1*x[i] - y[i])**2 for i in range(m)] ) \n",
    "    \n",
    "    print(\"Total Initial Error J: \", J)\n",
    "\n",
    "    # The Iteration Loop\n",
    "    while not HasConverged:\n",
    "        # for each training sample, compute the gradient (d/d_theta j(theta))\n",
    "        # following: \n",
    "        \n",
    "        # Derivative (loss Function)\n",
    "        grad0 = 1.0/m * sum([(t0 + t1*x[i] - y[i]) for i in range(m)]) \n",
    "        grad1 = 1.0/m * sum([(t0 + t1*x[i] - y[i])*x[i] for i in range(m)])\n",
    "\n",
    "        # We update the theta_temp\n",
    "        temp0 = t0 - alpha * grad0\n",
    "        temp1 = t1 - alpha * grad1\n",
    "        \n",
    "    \n",
    "        # We update theta\n",
    "        t0 = temp0\n",
    "        t1 = temp1\n",
    "\n",
    "        # We compute Mean Squared Error\n",
    "        e = sum( [ (t0 + t1*x[i] - y[i])**2 for i in range(m)] ) \n",
    "\n",
    "        if abs(J-e) <= eps:\n",
    "            print('Converged, iterations: ', iter)\n",
    "            HasConverged = True\n",
    "            \n",
    "        if (iter % steps ==0): print(\"Iter: \", iter, \n",
    "                                     \" Error: \",e, \n",
    "                                     \" J-e:\",abs(J-e), \n",
    "                                     \" t0: \", t0, \n",
    "                                     \" t1: \",t1)    \n",
    "    \n",
    "        J = e      # We update error \n",
    "        iter += 1  # We update iter\n",
    "    \n",
    "        if iter == max_iter:\n",
    "            print('Max interactions exceeded!')\n",
    "            converged = True\n",
    "\n",
    "    return t0,t1"
   ]
  },
  {
   "cell_type": "code",
   "execution_count": 130,
   "metadata": {},
   "outputs": [
    {
     "name": "stdout",
     "output_type": "stream",
     "text": [
      "x.shape = (10000, 1) y.shape = (10000,)\n"
     ]
    }
   ],
   "source": [
    "if __name__ == '__main__':\n",
    "\n",
    "#   We create the Data     \n",
    "    x, y = make_regression(n_samples=10**4, n_features=1, n_informative=1, \n",
    "                        random_state=0, noise=35) \n",
    "    print('x.shape = %s y.shape = %s' %(x.shape, y.shape))\n",
    "\n",
    "# We choose some hyperparameters  \n",
    "    alpha = 0.01 # learning rate\n",
    "    eps = 0.01 # convergence criteria"
   ]
  },
  {
   "cell_type": "code",
   "execution_count": 135,
   "metadata": {
    "scrolled": false
   },
   "outputs": [
    {
     "name": "stdout",
     "output_type": "stream",
     "text": [
      "Number of Samples: 10000\n",
      "Initial Value of Thetao[0] = [0.09888619]\n",
      "Initial Value of Theta1[0] = [0.58669036]\n",
      "Total Initial Error J:  [13002434.6336444]\n",
      "Iter:  0  Error:  [12988106.50170805]  J-e: [14328.13193635]  t0:  [0.09326159]  t1:  [0.67135227]\n",
      "Iter:  100  Error:  [12367385.05048594]  J-e: [2007.88739842]  t0:  [-0.21764273]  t1:  [6.03815115]\n",
      "Iter:  200  Error:  [12280351.86891757]  J-e: [281.81351265]  t0:  [-0.29443429]  t1:  [8.04976629]\n",
      "Iter:  300  Error:  [12268130.05445992]  J-e: [39.61213201]  t0:  [-0.30866785]  t1:  [8.80404593]\n",
      "Iter:  400  Error:  [12266411.27458183]  J-e: [5.57582635]  t0:  [-0.30867442]  t1:  [9.08697275]\n",
      "Iter:  500  Error:  [12266169.22233916]  J-e: [0.7859144]  t0:  [-0.30672472]  t1:  [9.19313408]\n",
      "Iter:  600  Error:  [12266135.08949054]  J-e: [0.11091661]  t0:  [-0.30527846]  t1:  [9.23298198]\n",
      "Iter:  700  Error:  [12266130.2702252]  J-e: [0.01567266]  t0:  [-0.30447405]  t1:  [9.24794392]\n",
      "Converged, iterations:  723\n",
      "Computed value\n",
      "Theta0 = [-0.30435503]       Theta1 = [9.24975881]\n",
      "Intercept = -0.3037486491107916 Slope = 9.256946612556051\n",
      "Error on Slope [0.0071878]\n",
      "Error on Intercept [0.00060638]\n",
      "CPU times: user 57.4 s, sys: 131 ms, total: 57.5 s\n",
      "Wall time: 57.5 s\n"
     ]
    }
   ],
   "source": [
    "%%time\n",
    "# We call gradient descent, this gives approximation \n",
    "# of theta0 and theta1\n",
    "theta0, theta1 = Gradient_Method(alpha, x, y, eps, max_iter=1000,\n",
    "                                     steps=100)\n",
    "print(\"Computed value\")\n",
    "print(('Theta0 = %s       Theta1 = %s') %(theta0, theta1)) \n",
    "\n",
    "# We check a good approximation of the \"exact\" value\n",
    "# with scipy linear regression \n",
    "slope, intercept, r_value, p_value, slope_std_error = stats.linregress(x[:,0], y)\n",
    "print(('Intercept = %s Slope = %s') %(intercept, slope))\n",
    "print(\"Error on Slope\", slope-theta1)\n",
    "print(\"Error on Intercept\", intercept-theta0)\n",
    "    "
   ]
  },
  {
   "cell_type": "code",
   "execution_count": 137,
   "metadata": {
    "scrolled": false
   },
   "outputs": [
    {
     "data": {
      "image/png": "[encoded data removed]",
      "text/plain": [
       "<Figure size 432x288 with 1 Axes>"
      ]
     },
     "metadata": {
      "needs_background": "light"
     },
     "output_type": "display_data"
    },
    {
     "name": "stdout",
     "output_type": "stream",
     "text": [
      "Well Done!\n"
     ]
    }
   ],
   "source": [
    "# When n is not to large ....\n",
    "# We plot  the data and the line we have computed, i.e.: Y= Theta0 + Theta1 * X\n",
    "for i in range(x.shape[0]):\n",
    "        y_predict = theta0 + theta1*x \n",
    "\n",
    "pylab.plot(x,y,'o')\n",
    "pylab.plot(x,y_predict,'k-')\n",
    "pylab.show()\n",
    "print(\"Well Done!\")\n",
    "\n"
   ]
  },
  {
   "cell_type": "markdown",
   "metadata": {},
   "source": [
    "# Do some tests with n=10^3, 10^4, 10^5, 10^6"
   ]
  },
  {
   "cell_type": "code",
   "execution_count": 23,
   "metadata": {},
   "outputs": [],
   "source": [
    "# ....."
   ]
  },
  {
   "cell_type": "code",
   "execution_count": null,
   "metadata": {},
   "outputs": [],
   "source": [
    "%%time\n",
    "# We call gradient descent, this gives approximation \n",
    "# of theta0 and theta1\n",
    "# WE CHANGE the value of \"alpha\"\n",
    "alpha=0.025\n",
    "theta0, theta1 = Gradient_Method(alpha, x, y, eps, max_iter=1000,\n",
    "                                     steps=100)\n",
    "print(\"Computed value\")\n",
    "print(('Theta0 = %s       Theta1 = %s') %(theta0, theta1)) \n",
    "\n",
    "# We check a good approximation of the \"exact\" value\n",
    "# with scipy linear regression \n",
    "slope, intercept, r_value, p_value, slope_std_error = stats.linregress(x[:,0], y)\n",
    "print(('Intercept = %s Slope = %s') %(intercept, slope))\n",
    "print(\"Error on Slope\", slope-theta1)\n",
    "print(\"Error on Intercept\", intercept-theta0)\n",
    "    "
   ]
  },
  {
   "cell_type": "code",
   "execution_count": 25,
   "metadata": {
    "scrolled": true
   },
   "outputs": [
    {
     "name": "stdout",
     "output_type": "stream",
     "text": [
      "Number of Samples: 10000\n",
      "Initial Value of Thetao[0] = [0.2474708]\n",
      "Initial Value of Theta1[0] = [0.0300796]\n",
      "Total Initial Error J:  [13101627.40635273]\n",
      "Iter:  0  Error:  [13045392.29154858]  J-e: [56235.11480415]  t0:  [0.22222513]  t1:  [0.34549835]\n",
      "Iter:  100  Error:  [12266870.6294179]  J-e: [53.33075472]  t0:  [-0.30646971]  t1:  [8.98128546]\n",
      "Iter:  200  Error:  [12266130.1942417]  J-e: [0.05150981]  t0:  [-0.30437267]  t1:  [9.24838182]\n",
      "Converged, iterations:  224\n",
      "Computed value\n",
      "Theta0 = [-0.3040731]       Theta1 = [9.25322146]\n",
      "Intercept = -0.3037486491107916 Slope = 9.256946612556051\n",
      "Error on Slope [0.00372516]\n",
      "Error on Intercept [0.00032445]\n",
      "CPU times: user 19.6 s, sys: 38.9 ms, total: 19.7 s\n",
      "Wall time: 19.7 s\n"
     ]
    }
   ],
   "source": [
    "%%time\n",
    "# We call gradient descent, this gives approximation \n",
    "# of theta0 and theta1\n",
    "# WE CHANGE the value of \"alpha\"\n",
    "alpha=0.035\n",
    "theta0, theta1 = Gradient_Method(alpha, x, y, eps, max_iter=1000,\n",
    "                                     steps=100)\n",
    "print(\"Computed value\")\n",
    "print(('Theta0 = %s       Theta1 = %s') %(theta0, theta1)) \n",
    "21\n",
    "# We check a good approximation of the \"exact\" value\n",
    "# with scipy linear regression \n",
    "slope, intercept, r_value, p_value, slope_std_error = stats.linregress(x[:,0], y)\n",
    "print(('Intercept = %s Slope = %s') %(intercept, slope))\n",
    "print(\"Error on Slope\", slope-theta1)\n",
    "print(\"Error on Intercept\", intercept-theta0)\n",
    "    "
   ]
  },
  {
   "cell_type": "markdown",
   "metadata": {},
   "source": [
    "## Some remarks\n",
    "#### I have chosen the function  Gradient_Method because: \n",
    "#### well, it is not really well written, so it can be improved\n",
    "#### First the initial value of  Theta0 and Theta1 are chosen strictly randomly, which is the worst choice we can do. We can do a better choice.\n",
    "#### Second, the \"gradient\"  is computed with the full dataset (i.e. the full set of avalaible data), which has a huge cost again, we can do better, at least initially. "
   ]
  },
  {
   "cell_type": "markdown",
   "metadata": {},
   "source": [
    "## Idea: when you will have your code, \n",
    "## Try different (and growing) values of m (number of samples). And use %%time to compare\n",
    "## Example: m=100, m=1000, m=5000, m=10000, m=10^5, m=10^6 (be careful, it can takes a longggggg time!)"
   ]
  },
  {
   "cell_type": "markdown",
   "metadata": {
    "collapsed": true
   },
   "source": [
    "## PROBLEM 1\n",
    "#### Here we choose really randomly the inital  value of Theta0 and Theta1, they are ### what we call Theta0[0] and Theta1[0] in the classical iterative algorithms \n",
    "#### (Theta0[i+1] ,Theta1[i+1])=(Theta0[i] ,Theta1[i]) - Lambda * Grad(F(Theta0[i] ,Theta1[i]))\n",
    "#### You are asked to:\n",
    "#### (i) Propose another method, fast, efficient and usefull (fast! i.e. with a low complexity)\n",
    "#### (ii) Implement it, test it, justify it (here)\n",
    "#### (iii) Please call your function Gradient_Init_Prob1"
   ]
  },
  {
   "cell_type": "markdown",
   "metadata": {},
   "source": [
    "## Version 1 of my answer\n",
    "## ( Keeping the same Function With Some tweaks to the intiale Theta 0 , Theta 1)"
   ]
  },
  {
   "cell_type": "code",
   "execution_count": 23,
   "metadata": {
    "scrolled": false
   },
   "outputs": [],
   "source": [
    "def get_initial_thetas(x,y):\n",
    "    \n",
    "    ''' Trying to find the average Intercept (Theta 0)/ that has the steapest line Slope (Theta 1)'''\n",
    "    ''' Calcuating the highest Slope with the intercept using a bunch of point on the Up Far Right '''\n",
    "\n",
    "    theta0=np.mean(y)\n",
    "    \n",
    "    index_x_min= np.argmin(x)\n",
    "    x_mask= (x >= np.mean(x)) & (x <= np.amax(x))\n",
    "    x_batch= x[x_mask]\n",
    "    itemindex = np.where(x_batch)\n",
    "    y_batch= y[itemindex]\n",
    "    \n",
    "    x_batch=x_batch[itemindex]\n",
    "    y_batch=y_batch[itemindex]\n",
    "    \n",
    "    if len(y)>10:\n",
    "        x_batch=x_batch[len(x_batch)-2:-1]\n",
    "        y_batch=y_batch[len(y_batch)-2:-1]\n",
    "\n",
    "    X=x_batch\n",
    "    Y=y_batch\n",
    "    \n",
    "    T=(Y-y[index_x_min])/(X- x[index_x_min])\n",
    "    theta1=np.amin(T[T>0])\n",
    "    \n",
    "    return theta0,theta1"
   ]
  },
  {
   "cell_type": "code",
   "execution_count": 420,
   "metadata": {},
   "outputs": [],
   "source": [
    "# alpha is the Learning rate\n",
    "# x Set of x values\n",
    "# y Set of y values\n",
    "# eps\n",
    "def Gradient_Init_Prob1_Version_1(alpha, \n",
    "                    x, \n",
    "                    y, \n",
    "                    eps=0.0001, \n",
    "                    max_iter=1000, \n",
    "                    steps=10):\n",
    "    HasConverged = False\n",
    "    iter = 0\n",
    "    m = x.shape[0] # number of samples\n",
    "    print(\"Number of Samples:\", m)\n",
    "\n",
    "    # initial value for theta  : chosen randomly\n",
    "    # Theta=(Theta0[0],Theta1[0]) in IR^2\n",
    "    # Theta0[0] -> t0 in IR\n",
    "    # Theta1[0] -> t1 in IR\n",
    "    \n",
    "    #Pick a random Intercept value\n",
    "    #pick a random Slope value\n",
    "    \n",
    "    t0,t1=get_initial_thetas(x,y)\n",
    "    \n",
    "    \n",
    "    print(\"Initial Value of Thetao[0] =\", t0)\n",
    "    \n",
    "    print(\"Initial Value of Theta1[0] =\", t1)\n",
    "\n",
    "    # The total error, J(theta)  is defined as\n",
    "    \n",
    "    # Loss function = Sigma[(T1*x[i] + T0) - Y(i))^2]\n",
    "    \n",
    "    # Y[i] ---------->Ovserved Y \n",
    "    \n",
    "    # T1*x[i] + T0 ------> Predicited Y\n",
    "    \n",
    "    # J is the Loss function ( in this case it is Least Square )\n",
    "    # This is the intial Erro value\n",
    "      \n",
    "    J= sum( [ (t0 + t1*x[i] - y[i])**2 for i in range(m)] ) \n",
    "    \n",
    "    print(\"Total Initial Error J: \", J)\n",
    "\n",
    "    # The Iteration Loop\n",
    "    while not HasConverged:\n",
    "        # for each training sample, compute the gradient (d/d_theta j(theta))\n",
    "        # following: \n",
    "        \n",
    "        # Derivative (loss Function)\n",
    "        grad0 = 1.0/m * sum([(t0 + t1*x[i] - y[i]) for i in range(m)]) \n",
    "        grad1 = 1.0/m * sum([(t0 + t1*x[i] - y[i])*x[i] for i in range(m)])\n",
    "    \n",
    "        # We update the theta_temp\n",
    "        temp0 = t0 - alpha * grad0\n",
    "        temp1 = t1 - alpha * grad1\n",
    "        \n",
    "    \n",
    "        # We update theta\n",
    "        t0 = temp0\n",
    "        t1 = temp1\n",
    "\n",
    "        # We compute Mean Squared Error\n",
    "        e = sum( [ (t0 + t1*x[i] - y[i])**2 for i in range(m)] ) \n",
    "\n",
    "        if abs(J-e) <= eps:\n",
    "            print('Converged, iterations: ', iter)\n",
    "            HasConverged = True\n",
    "            \n",
    "        if (iter % steps ==0): print(\"Iter: \", iter, \n",
    "                                     \" Error: \",e, \n",
    "                                     \" J-e:\",abs(J-e), \n",
    "                                     \" t0: \", t0, \n",
    "                                     \" t1: \",t1)    \n",
    "    \n",
    "        J = e      # We update error \n",
    "        iter += 1  # We update iter\n",
    "    \n",
    "        if iter == max_iter:\n",
    "            print('Max interactions exceeded!')\n",
    "            converged = True\n",
    "\n",
    "    return t0,t1"
   ]
  },
  {
   "cell_type": "markdown",
   "metadata": {},
   "source": [
    "## Version 2 (Numpy Version)  ---> Much FASTER!!\n",
    "## ( Rebuild the Gradient function Using \"Numpy\" instead of List Comprehnsion ) \n",
    "## With Some tweaks to the intiale Theta 0 , Theta 1)"
   ]
  },
  {
   "cell_type": "code",
   "execution_count": 21,
   "metadata": {
    "scrolled": false
   },
   "outputs": [],
   "source": [
    "def plot_grad(x,y,thetas_hist):\n",
    "    if int(mt.log10(x.shape[0])) > 4:\n",
    "         print (\"\\n---->Plot takes forever try wiht a smaller number to get a nice Graph Representation :)\\n\")\n",
    "    else:\n",
    "        iteration=0\n",
    "        for theta in thetas_hist:\n",
    "            theta0=theta[0][0]\n",
    "            theta1=theta[0][1]\n",
    "            if iteration==0:\n",
    "                pylab.plot(x,y,'o')\n",
    "            if iteration%16==0:\n",
    "                for i in range(x.shape[0]):\n",
    "                    y_predict = theta0 + theta1*x \n",
    "                pylab.plot(x,y_predict,'k--')\n",
    "            if iteration==len(thetas_hist)-1:\n",
    "                for i in range(x.shape[0]):\n",
    "                    y_predict = theta0 + theta1*x \n",
    "                pylab.plot(x,y_predict,'r-')\n",
    "            iteration+=1\n",
    "        pylab.show()\n",
    "    \n",
    "\n",
    "def cost(theta,X,y):\n",
    "    '''\n",
    "    Calculates cost of the function.\n",
    "    X & y are our points where X is (2,N).\n",
    "    theta - vector.\n",
    "    '''\n",
    "    m = len(y)\n",
    "    # Calculating Cost\n",
    "    cost_value =  np.sum(np.square((theta.dot(X))-y))  \n",
    "    print(cost_value)\n",
    "    return cost_value\n",
    "\n",
    "def Gradient_Init_Prob1_Version_2(learning_rate, \n",
    "                    x, \n",
    "                    y, \n",
    "                    eps=0.0001, \n",
    "                    max_iter=1000, \n",
    "                    steps=10):\n",
    "    \n",
    "            X_cost=x\n",
    "            X=x.reshape((-1,))\n",
    "            Y=y\n",
    "            \n",
    "            print(\"size of input: \", x.shape[0])\n",
    "\n",
    "            # Creating an array of ones for algebraic calculation\n",
    "            ones = [1] * len(X)\n",
    "\n",
    "            # Here array of ones will be concatenated with X and transpose will be perform\n",
    "            # This signifies that matrix multiplication can help to obtain new value\n",
    "\n",
    "            # of theta 0 and theta 1\n",
    "            X = np.transpose(np.concatenate((np.array([ones]).reshape(-1, 1),\n",
    "            np.array([X]).reshape(-1, 1)), axis=1))\n",
    "\n",
    "            # [[1.  1.  1.  1.  1.  1.  1.  1.  1.  1. ]\n",
    "            # [value1, value2 , ....................value_ n]]\n",
    "\n",
    "            # Same declaring starting value of two thetas, theta 0 and theta 1,\n",
    "            \n",
    "            #theta = np.array([[np.mean(y),np.mean(y)]])\n",
    "            theta0,theta1=get_initial_thetas(x,y)\n",
    "            theta=np.array([[theta0,theta1]])\n",
    "            print(\"Initial Value of Thetao[0] =\", theta0)\n",
    "            print(\"Initial Value of Theta1[0] =\", theta1)\n",
    "            intital_cost=cost(theta,X,y)\n",
    "            print('Total Initial Cost:',round(cost(theta,X,y),5))\n",
    "            \n",
    "            theta_hist = []\n",
    "            for iter in range(max_iter):\n",
    "                htheta = np.dot(theta, X)\n",
    "                diff_theta = htheta - Y\n",
    "                partial_derivative_theta = np.dot(diff_theta, np.transpose(X)) / len(Y)\n",
    "                theta = theta - learning_rate * partial_derivative_theta\n",
    "                new_cost=cost(theta,X,y)\n",
    "                if abs(intital_cost-new_cost) <eps:\n",
    "                    print('Converged, iterations: ', iter)\n",
    "                    break\n",
    "                \n",
    "                theta_hist.append(theta)\n",
    "                theta0 = theta_hist[-1][0][0]\n",
    "                theta1 = theta_hist[-1][0][1]\n",
    "                if (iter % steps ==0): \n",
    "                    print(\"Iter: \", iter, \n",
    "                             \" Error: \",round(new_cost,5), \n",
    "                             \" [Old-New](Cost):\",round(abs(intital_cost-new_cost),5), \n",
    "                             \" t0: \", theta0, \n",
    "                             \" t1: \",theta1)\n",
    "\n",
    "                intital_cost=new_cost\n",
    "                \n",
    "            if iter == max_iter:\n",
    "                print('Max interactions exceeded!')\n",
    "                \n",
    "            return theta0,theta1,theta_hist\n",
    "    \n",
    "            "
   ]
  },
  {
   "cell_type": "markdown",
   "metadata": {},
   "source": [
    "## Initiate X,Y Points"
   ]
  },
  {
   "cell_type": "code",
   "execution_count": 20,
   "metadata": {},
   "outputs": [
    {
     "name": "stdout",
     "output_type": "stream",
     "text": [
      "x.shape = (10000, 1) y.shape = (10000,)\n"
     ]
    }
   ],
   "source": [
    "if __name__ == '__main__':\n",
    "\n",
    "#   We create the Data     \n",
    "    x, y = make_regression(n_samples=10**4, n_features=1, n_informative=1, \n",
    "                        random_state=0, noise=35) \n",
    "    print('x.shape = %s y.shape = %s' %(x.shape, y.shape))\n",
    "\n",
    "# We choose some hyperparameters  \n",
    "    alpha = 0.01 # learning rate\n",
    "    eps = 0.01 # convergence criteri"
   ]
  },
  {
   "cell_type": "code",
   "execution_count": 24,
   "metadata": {
    "scrolled": true
   },
   "outputs": [
    {
     "ename": "NameError",
     "evalue": "name 'Gradient_Init_Prob1_Version_1' is not defined",
     "output_type": "error",
     "traceback": [
      "\u001b[0;31m---------------------------------------------------------------------------\u001b[0m",
      "\u001b[0;31mNameError\u001b[0m                                 Traceback (most recent call last)",
      "\u001b[0;32m<timed exec>\u001b[0m in \u001b[0;36m<module>\u001b[0;34m\u001b[0m\n",
      "\u001b[0;31mNameError\u001b[0m: name 'Gradient_Init_Prob1_Version_1' is not defined"
     ]
    }
   ],
   "source": [
    "%%time\n",
    "# We call gradient descent, this gives approximation \n",
    "# of theta0 and theta1\n",
    "# WE CHANGE the value of \"alpha\"\n",
    "#alpha=0.035\n",
    "alpha=0.035\n",
    "theta0, theta1 = Gradient_Init_Prob1_Version_1(alpha, x, y, eps, max_iter=1000,\n",
    "                                     steps=100)\n",
    "print(\"Computed value\")\n",
    "print(('Theta0 = %s       Theta1 = %s') %(theta0, theta1)) \n",
    "21\n",
    "# We check a good approximation of the \"exact\" value\n",
    "# with scipy linear regression \n",
    "slope, intercept, r_value, p_value, slope_std_error = stats.linregress(x[:,0], y)\n",
    "print(('Intercept = %s Slope = %s') %(intercept, slope))\n",
    "print(\"Error on Slope\", slope-theta1)\n",
    "print(\"Error on Intercept\", intercept-theta0) "
   ]
  },
  {
   "cell_type": "code",
   "execution_count": 25,
   "metadata": {},
   "outputs": [
    {
     "name": "stdout",
     "output_type": "stream",
     "text": [
      "size of input:  10000\n",
      "Initial Value of Thetao[0] = -0.47438861248665654\n",
      "Initial Value of Theta1[0] = 10.132564648213513\n",
      "12273955.794849059\n",
      "12273955.794849059\n",
      "Total Initial Cost: 12273955.79485\n",
      "12273426.058739088\n",
      "Iter:  0  Error:  12273426.05874  [Old-New](Cost): 529.73611  t0:  -0.46785128234428186  t1:  10.102555462890608\n",
      "12272932.19553119\n",
      "12272471.774815\n",
      "12272042.530920504\n",
      "12271642.3517461\n",
      "12271269.268344652\n",
      "12270921.445216082\n",
      "12270597.171258565\n",
      "12270294.851333562\n",
      "12270012.998403123\n",
      "12269750.226200512\n",
      "12269505.242398052\n",
      "12269276.842238382\n",
      "12269063.902597707\n",
      "12268865.37645172\n",
      "12268680.28771686\n",
      "12268507.726441456\n",
      "12268346.844323004\n",
      "12268196.850529436\n",
      "12268057.007803794\n",
      "12267926.628833026\n",
      "12267805.072863037\n",
      "12267691.74254325\n",
      "12267586.080985144\n",
      "12267487.569020204\n",
      "12267395.722643794\n",
      "12267310.090632342\n",
      "12267230.252322061\n",
      "12267155.815538257\n",
      "12267086.414665006\n",
      "12267021.708845701\n",
      "12266961.380305564\n",
      "12266905.132787868\n",
      "12266852.690096157\n",
      "12266803.794735271\n",
      "12266758.20664448\n",
      "12266715.702016477\n",
      "12266676.07219641\n",
      "12266639.122655522\n",
      "12266604.672034372\n",
      "12266572.551250843\n",
      "12266542.60266864\n",
      "12266514.679322096\n",
      "12266488.644193549\n",
      "12266464.369539618\n",
      "12266441.736263182\n",
      "12266420.633327873\n",
      "12266400.957212262\n",
      "12266382.611400995\n",
      "12266365.505910425\n",
      "12266349.55684637\n",
      "12266334.685991812\n",
      "12266320.820422564\n",
      "12266307.89214892\n",
      "12266295.837781617\n",
      "12266284.598220393\n",
      "12266274.11836367\n",
      "12266264.346837858\n",
      "12266255.235745028\n",
      "12266246.74042765\n",
      "12266238.819249282\n",
      "12266231.433390068\n",
      "12266224.546656156\n",
      "12266218.125301946\n",
      "12266212.137864418\n",
      "12266206.555008661\n",
      "12266201.349383868\n",
      "12266196.49548907\n",
      "12266191.969547972\n",
      "12266187.74939225\n",
      "12266183.814352766\n",
      "12266180.14515812\n",
      "12266176.72384009\n",
      "12266173.533645475\n",
      "12266170.558953894\n",
      "12266167.785201134\n",
      "12266165.198807731\n",
      "12266162.787112337\n",
      "12266160.538309624\n",
      "12266158.441392384\n",
      "12266156.48609754\n",
      "12266154.662855826\n",
      "12266152.962744849\n",
      "12266151.377445348\n",
      "12266149.899200412\n",
      "12266148.520777432\n",
      "12266147.23543267\n",
      "12266146.036878172\n",
      "12266144.919250976\n",
      "12266143.877084354\n",
      "12266142.905281033\n",
      "12266141.99908821\n",
      "12266141.154074261\n",
      "12266140.366107032\n",
      "12266139.631333588\n",
      "12266138.94616134\n",
      "12266138.307240449\n",
      "12266137.711447403\n",
      "12266137.155869726\n",
      "12266136.637791727\n",
      "12266136.154681161\n",
      "Iter:  100  Error:  12266136.15468  [Old-New](Cost): 0.48311  t0:  -0.30673652563105586  t1:  9.282877687062797\n",
      "12266135.704176879\n",
      "12266135.284077227\n",
      "12266134.89232928\n",
      "12266134.52701879\n",
      "12266134.186360808\n",
      "12266133.86869096\n",
      "12266133.572457284\n",
      "12266133.296212642\n",
      "12266133.038607633\n",
      "12266132.798383996\n",
      "12266132.574368436\n",
      "12266132.365466906\n",
      "12266132.170659231\n",
      "12266131.988994135\n",
      "12266131.81958457\n",
      "12266131.661603391\n",
      "12266131.514279297\n",
      "12266131.376893073\n",
      "12266131.248774057\n",
      "12266131.129296865\n",
      "12266131.01787835\n",
      "12266130.913974708\n",
      "12266130.81707887\n",
      "12266130.726717986\n",
      "12266130.642451126\n",
      "12266130.563867126\n",
      "12266130.490582574\n",
      "12266130.422239937\n",
      "12266130.358505819\n",
      "12266130.299069315\n",
      "12266130.243640518\n",
      "12266130.191949071\n",
      "12266130.143742874\n",
      "12266130.098786838\n",
      "12266130.056861734\n",
      "12266130.017763129\n",
      "12266129.981300386\n",
      "12266129.94729573\n",
      "12266129.91558338\n",
      "12266129.886008743\n",
      "12266129.858427659\n",
      "12266129.832705682\n",
      "12266129.808717454\n",
      "12266129.78634606\n",
      "12266129.765482478\n",
      "12266129.74602504\n",
      "12266129.727878936\n",
      "12266129.71095575\n",
      "12266129.695173036\n",
      "12266129.680453897\n",
      "12266129.666726634\n",
      "12266129.65392438\n",
      "12266129.641984772\n",
      "12266129.630849667\n",
      "12266129.620464826\n",
      "12266129.61077968\n",
      "Converged, iterations:  156\n",
      "Computed value\n",
      "Theta0 = -0.30403234192793643       Theta1 = 9.26076984223816\n",
      "Intercept = -0.3037486491107916 Slope = 9.256946612556051\n",
      "Error on Slope -0.0038232296821085754\n",
      "Error on Intercept 0.00028369281714485384\n"
     ]
    },
    {
     "data": {
      "image/png": "[encoded data removed]",
      "text/plain": [
       "<Figure size 432x288 with 1 Axes>"
      ]
     },
     "metadata": {
      "needs_background": "light"
     },
     "output_type": "display_data"
    },
    {
     "name": "stdout",
     "output_type": "stream",
     "text": [
      "CPU times: user 2.06 s, sys: 488 ms, total: 2.55 s\n",
      "Wall time: 971 ms\n"
     ]
    }
   ],
   "source": [
    "%%time\n",
    "# We call gradient descent, this gives approximation \n",
    "# of theta0 and theta1\n",
    "# WE CHANGE the value of \"alpha\"\n",
    "#alpha=0.035\n",
    "alpha=0.035\n",
    "theta0, theta1,thetas_hist = Gradient_Init_Prob1_Version_2(alpha, x, y, eps, max_iter=1000,\n",
    "                                     steps=100)\n",
    "print(\"Computed value\")\n",
    "print(('Theta0 = %s       Theta1 = %s') %(theta0, theta1)) \n",
    "21\n",
    "# We check a good approximation of the \"exact\" value\n",
    "# with scipy linear regression \n",
    "slope, intercept, r_value, p_value, slope_std_error = stats.linregress(x[:,0], y)\n",
    "print(('Intercept = %s Slope = %s') %(intercept, slope))\n",
    "print(\"Error on Slope\", slope-theta1)\n",
    "print(\"Error on Intercept\", intercept-theta0)\n",
    "plot_grad(x,y,thetas_hist)\n",
    "    "
   ]
  },
  {
   "cell_type": "raw",
   "metadata": {
    "collapsed": true
   },
   "source": [
    "# justification\n",
    "\n",
    "\n",
    "Version 1\n",
    "----------\n",
    "Trying to find the average Intercept (Theta 0)/ that has the steapest line Slope (Theta 1)\n",
    "Calcuating the highest Slope with the intercept using a bunch of point on the Up Far Right\n",
    "\n",
    "where Slope = Minimum positive Slope =min ( ( X-x )/ (Y-y))\n",
    "where Intercept = y average\n",
    "using this technique will reduce the number of iterations with need\n",
    "\n",
    "Version 2\n",
    "----------\n",
    "\n",
    "General Info\n",
    "------------\n",
    "NumPy\n",
    "------\n",
    "Provides support for large multidimensional arrays and matrices along with a collection of mathematical functions to operate on these elements. \n",
    "Python\n",
    "------\n",
    "While it is technically possible to implement scalar and matrix calculations using Python lists. However, this can be unwieldy, and performance is poor when compared to languages suited for numerical computations\n",
    "\n",
    "Thus Dealing with this problem requires some fast computations\n",
    "Using this technique can fasten the time to get results drastically\n"
   ]
  },
  {
   "cell_type": "markdown",
   "metadata": {},
   "source": [
    "$$Cost =  \\sum( \\Theta.X− Y)^2 \\newline $$\n",
    "\n",
    "$$Partial\\space Derivative\\space\\Theta = \\frac{1}m * (\\Theta X - Y)X^T $$\n",
    "\n",
    "$$where\\space \\Theta, X, Y\\space\\space  are\\space vectors\\space and\\space X\\space is\\space of\\space the\\space form\\space\n",
    "(2,N)\\space with\\space first\\space column\\space have\\space N\\space ones\\space (1)\\space$$"
   ]
  },
  {
   "cell_type": "markdown",
   "metadata": {},
   "source": [
    "## PROBLEM 2\n",
    "#### Here we \"upgdrade\", in the function Gradient_Method, the gradient is using the \"full batch\", i.e. the full set of avalaible data. You are asked to:\n",
    "#### (i) Implement  the \"minibatch\" idea.\n",
    "#### (ii) Test it. Here . Use %%time to comapre CPU time for \"convergence\" \n",
    "#### #### PS: Please call your function Gradient_Method_Prob2"
   ]
  },
  {
   "cell_type": "markdown",
   "metadata": {
    "collapsed": true
   },
   "source": [
    "# Idea: when you will have your code, \n",
    "## Try different (and growing) values of m (number of samples). And use %%time to compare\n",
    "## Example: m=100, m=1000, m=5000, m=10000, m=10^5, m=10p^6 \n",
    "## And, NOW, if possible: m=10^7"
   ]
  },
  {
   "cell_type": "markdown",
   "metadata": {},
   "source": [
    "# Version 1"
   ]
  },
  {
   "cell_type": "code",
   "execution_count": 635,
   "metadata": {},
   "outputs": [],
   "source": [
    "def Slice_Batch(x,y):\n",
    "    full_size_power=int(mt.log10(x.shape[0]))\n",
    "    if full_size_power>3:\n",
    "        limit=2500*mt.ceil(full_size_power/2 +1)# Batch_size\n",
    "        x=np.concatenate([x[0:limit//2], # First sub-batch At the begning until 2 times limit\n",
    "                          x[len(x)//2-limit//2:len(x)//2],# Second sub-batch At the begning (middle - limit)\n",
    "                          x[len(x)//2: len(x)//2 + limit//2],# Third sub-batch At the begning (middle + limit)\n",
    "                          x[len(x)-limit//2:]])# Fourth sub-batch At the begning until limit\n",
    "        \n",
    "        y=np.concatenate([y[0:limit//2], # First sub-batch At the begning until 2 times limit\n",
    "                          y[len(y)//2-limit//2:len(y)//2],# Second sub-batch At the begning (middle - limit)\n",
    "                          y[len(y)//2:len(y)//2+limit//2],# Third sub-batch At the begning (middle + limit)\n",
    "                          y[len(y)-limit//2:]])# Fourth sub-batch At the begning until limit\n",
    "        print(\"Size of Batch: \", limit)\n",
    "\n",
    "    else:\n",
    "        print(\"mini - batch is not necessary due to data set small size \")\n",
    "    return x,y\n",
    "\n",
    "def Gradient_Method_Prob2_Version_1(alpha, \n",
    "                    x, \n",
    "                    y, \n",
    "                    eps=0.0001,\n",
    "                    max_iter=1000, \n",
    "                    steps=10):\n",
    "    HasConverged = False\n",
    "    iter = 0\n",
    "\n",
    "  \n",
    "    print(\"Size of input: \", x.shape[0])\n",
    "    # initial value for theta  : chosen randomly\n",
    "    # Theta=(Theta0[0],Theta1[0]) in IR^2\n",
    "    # Theta0[0] -> t0 in IR\n",
    "    # Theta1[0] -> t1 in IR\n",
    "    \n",
    "    #Pick a random Intercept value\n",
    "    #pick a random Slope value\n",
    "    x,y=Slice_Batch(x,y)\n",
    "    t0,t1=get_initial_thetas(x,y)\n",
    "    \n",
    "    m = x.shape[0] # number of samples\n",
    "    \n",
    "    \n",
    "    print(\"Initial Value of Thetao[0] =\", t0)\n",
    "    \n",
    "    print(\"Initial Value of Theta1[0] =\", t1)\n",
    "\n",
    "    # The total error, J(theta)  is defined as\n",
    "    \n",
    "    # Loss function = Sigma[(T1*x[i] + T0) - Y(i))^2]\n",
    "    \n",
    "    # Y[i] ---------->Ovserved Y \n",
    "    \n",
    "    # T1*x[i] + T0 ------> Predicited Y\n",
    "    \n",
    "    # J is the Loss function ( in this case it is Least Square )\n",
    "    # This is the intial Erro value\n",
    "      \n",
    "    J= sum( [ (t0 + t1*x[i] - y[i])**2 for i in range(m)] ) \n",
    "    \n",
    "    print(\"Total Initial Error J: \", J)\n",
    "\n",
    "    # The Iteration Loop\n",
    "    while not HasConverged:\n",
    "        # for each training sample, compute the gradient (d/d_theta j(theta))\n",
    "        # following: \n",
    "        \n",
    "        # Derivative (loss Function)\n",
    "        grad0 = 1.0/m * sum([(t0 + t1*x[i] - y[i]) for i in range(m)]) \n",
    "        grad1 = 1.0/m * sum([(t0 + t1*x[i] - y[i])*x[i] for i in range(m)])\n",
    "\n",
    "        # We update the theta_temp\n",
    "        temp0 = t0 - alpha * grad0\n",
    "        temp1 = t1 - alpha * grad1\n",
    "        \n",
    "    \n",
    "        # We update theta\n",
    "        t0 = temp0\n",
    "        t1 = temp1\n",
    "\n",
    "        # We compute Mean Squared Error\n",
    "        e = sum( [ (t0 + t1*x[i] - y[i])**2 for i in range(m)] ) \n",
    "\n",
    "        if abs(J-e) <= eps:\n",
    "            print('Converged, iterations: ', iter)\n",
    "            HasConverged = True\n",
    "            \n",
    "        if (iter % steps ==0): print(\"Iter: \", iter, \n",
    "                                     \" Error: \",e, \n",
    "                                     \" J-e:\",abs(J-e), \n",
    "                                     \" t0: \", t0, \n",
    "                                     \" t1: \",t1)    \n",
    "    \n",
    "        J = e      # We update error \n",
    "        iter += 1  # We update iter\n",
    "    \n",
    "        if iter == max_iter:\n",
    "            print('Max interactions exceeded!')\n",
    "            converged = True\n",
    "\n",
    "    return t0,t1"
   ]
  },
  {
   "cell_type": "markdown",
   "metadata": {},
   "source": [
    "## Version 2 (Numpy Version) "
   ]
  },
  {
   "cell_type": "code",
   "execution_count": 632,
   "metadata": {},
   "outputs": [],
   "source": [
    "def Gradient_Method_Prob2_Version_2(learning_rate, \n",
    "                    x, \n",
    "                    y, \n",
    "                    eps=0.0001, \n",
    "                    max_iter=1000, \n",
    "                    steps=10):\n",
    "            print(\"Size of input: \", x.shape[0])\n",
    "            \n",
    "            x,y=Slice_Batch(x,y)\n",
    "            \n",
    "            X=x.reshape((-1,))\n",
    "            Y=y\n",
    "            \n",
    "\n",
    "            # Creating an array of ones for algebraic calculation\n",
    "            ones = [1] * len(X)\n",
    "\n",
    "            # Here array of ones will be concatenated with X and transpose will be perform\n",
    "            # This signifies that matrix multiplication can help to obtain new value\n",
    "\n",
    "            # of theta 0 and theta 1\n",
    "            X = np.transpose(np.concatenate((np.array([ones]).reshape(-1, 1),\n",
    "            np.array([X]).reshape(-1, 1)), axis=1))\n",
    "\n",
    "            # [[1.  1.  1.  1.  1.  1.  1.  1.  1.  1. ]\n",
    "            # [value1, value2 , ....................value_ n]]\n",
    "\n",
    "            # Same declaring starting value of two thetas, theta 0 and theta 1,\n",
    "            \n",
    "            #theta = np.array([[np.mean(y),np.mean(y)]])\n",
    "            theta0,theta1=get_initial_thetas(x,y)\n",
    "            \n",
    "            theta=np.array([[theta0,theta1]])\n",
    "            \n",
    "            print(\"Initial Value of Thetao[0] =\", theta0)\n",
    "            print(\"Initial Value of Theta1[0] =\", theta1)\n",
    "            intital_cost=cost(theta,X,y)\n",
    "            print('Total Initial Cost',round(cost(theta,X,y),5))\n",
    "            \n",
    "            theta_hist = []\n",
    "            for iter in range(max_iter):\n",
    "                htheta = np.dot(theta, X)\n",
    "                diff_theta = htheta - Y\n",
    "                partial_derivative_theta = np.dot(diff_theta, np.transpose(X)) / len(Y)\n",
    "                theta = theta - learning_rate * partial_derivative_theta\n",
    "                new_cost=cost(theta,X,y)\n",
    "                if abs(intital_cost-new_cost) <eps:\n",
    "                    print('Converged, iterations: ', iter)\n",
    "                    break\n",
    "                \n",
    "                theta_hist.append(theta)\n",
    "                theta0 = theta_hist[-1][0][0]\n",
    "                theta1 = theta_hist[-1][0][1]\n",
    "                if (iter % steps ==0): \n",
    "                    print(\"Iter: \", iter, \n",
    "                             \" Error: \",round(new_cost,5), \n",
    "                             \" J-e:\",round(abs(intital_cost-new_cost),5), \n",
    "                             \" t0: \", theta0, \n",
    "                             \" t1: \",theta1)\n",
    "\n",
    "                intital_cost=new_cost\n",
    "                \n",
    "            if iter == max_iter:\n",
    "                print('Max interactions exceeded!')\n",
    "                \n",
    "            return theta0,theta1,theta_hist"
   ]
  },
  {
   "cell_type": "code",
   "execution_count": 637,
   "metadata": {},
   "outputs": [
    {
     "name": "stdout",
     "output_type": "stream",
     "text": [
      "x.shape = (1000000, 1) y.shape = (1000000,)\n"
     ]
    }
   ],
   "source": [
    "if __name__ == '__main__':\n",
    "\n",
    "#   We create the Data     \n",
    "    x, y = make_regression(n_samples=10**6, n_features=1, n_informative=1, \n",
    "                        random_state=0, noise=35) \n",
    "    print('x.shape = %s y.shape = %s' %(x.shape, y.shape))\n",
    "\n",
    "# We choose some hyperparameters  \n",
    "    alpha = 0.01 # learning rate\n",
    "    eps = 0.01 # convergence criteri"
   ]
  },
  {
   "cell_type": "code",
   "execution_count": 638,
   "metadata": {
    "scrolled": true
   },
   "outputs": [
    {
     "name": "stdout",
     "output_type": "stream",
     "text": [
      "Size of input:  1000000\n",
      "Size of Batch:  10000\n",
      "Initial Value of Thetao[0] = -0.03790922883399471\n",
      "Initial Value of Theta1[0] = 55.77006281828385\n",
      "Total Initial Error J:  [37279631.04030775]\n",
      "Iter:  0  Error:  [36386543.11463701]  J-e: [893087.92567074]  t0:  [-0.04241068]  t1:  [56.66190848]\n",
      "Iter:  100  Error:  [24337561.48792726]  J-e: [704.63595678]  t0:  [-0.21415665]  t1:  [80.49428144]\n",
      "Iter:  200  Error:  [24328054.58891194]  J-e: [0.55611018]  t0:  [-0.22465407]  t1:  [81.16366687]\n",
      "Converged, iterations:  257\n",
      "Computed value\n",
      "Theta0 = [-0.22505359]       Theta1 = [81.18048778]\n",
      "Intercept = 0.0010496294035381298 Slope = 81.1922665739615\n",
      "Error on Slope [0.0117788]\n",
      "Error on Intercept [0.22610322]\n",
      "CPU times: user 40.9 s, sys: 93.5 ms, total: 41 s\n",
      "Wall time: 41.1 s\n"
     ]
    }
   ],
   "source": [
    "%%time\n",
    "# We call gradient descent, this gives approximation \n",
    "# of theta0 and theta1\n",
    "# WE CHANGE the value of \"alpha\"\n",
    "#alpha=0.035\n",
    "alpha=0.035\n",
    "theta0, theta1 = Gradient_Method_Prob2_Version_1(alpha, x.copy(), y.copy(), eps, max_iter=1000,\n",
    "                                     steps=100)\n",
    "print(\"Computed value\")\n",
    "print(('Theta0 = %s       Theta1 = %s') %(theta0, theta1)) \n",
    "\n",
    "# We check a good approximation of the \"exact\" value\n",
    "# with scipy linear regression \n",
    "slope, intercept, r_value, p_value, slope_std_error = stats.linregress(x[:,0], y)\n",
    "print(('Intercept = %s Slope = %s') %(intercept, slope))\n",
    "print(\"Error on Slope\", slope-theta1)\n",
    "print(\"Error on Intercept\", intercept-theta0)"
   ]
  },
  {
   "cell_type": "code",
   "execution_count": 640,
   "metadata": {
    "scrolled": true
   },
   "outputs": [
    {
     "name": "stdout",
     "output_type": "stream",
     "text": [
      "Size of input:  1000000\n",
      "Size of Batch:  10000\n",
      "Initial Value of Thetao[0] = -0.03790922883399471\n",
      "Initial Value of Theta1[0] = 55.77006281828385\n",
      "Total Initial Cost 37279631.04031\n",
      "Iter:  0  Error:  36386543.11464  J-e: 893087.92567  t0:  -0.0424106849489516  t1:  56.6619084777314\n",
      "Iter:  100  Error:  24337561.48793  J-e: 704.63596  t0:  -0.21415665156001448  t1:  80.49428143701331\n",
      "Iter:  200  Error:  24328054.58891  J-e: 0.55611  t0:  -0.2246540703253696  t1:  81.16366686632055\n",
      "Converged, iterations:  257\n",
      "Computed value\n",
      "Theta0 = -0.22505111325671467       Theta1 = 81.18039594435312\n",
      "Intercept = 0.0010496294035381298 Slope = 81.1922665739615\n",
      "Error on Slope 0.011870629608381478\n",
      "Error on Intercept 0.22610074266025282\n",
      "CPU times: user 399 ms, sys: 135 ms, total: 534 ms\n",
      "Wall time: 98.7 ms\n"
     ]
    }
   ],
   "source": [
    "%%time\n",
    "# We call gradient descent, this gives approximation \n",
    "# of theta0 and theta1\n",
    "# WE CHANGE the value of \"alpha\"\n",
    "#alpha=0.035\n",
    "alpha=0.035\n",
    "theta0, theta1,thetas_hist = Gradient_Method_Prob2_Version_2(alpha, x.copy(), y.copy(), eps, max_iter=1000,\n",
    "                                     steps=100)\n",
    "print(\"Computed value\")\n",
    "print(('Theta0 = %s       Theta1 = %s') %(theta0, theta1)) \n",
    "\n",
    "# We check a good approximation of the \"exact\" value\n",
    "# with scipy linear regression \n",
    "slope, intercept, r_value, p_value, slope_std_error = stats.linregress(x[:,0], y)\n",
    "print(('Intercept = %s Slope = %s') %(intercept, slope))\n",
    "print(\"Error on Slope\", slope-theta1)\n",
    "print(\"Error on Intercept\", intercept-theta0)"
   ]
  },
  {
   "cell_type": "code",
   "execution_count": 103,
   "metadata": {},
   "outputs": [],
   "source": [
    "import numpy as np\n",
    "from sklearn.linear_model import LinearRegression"
   ]
  },
  {
   "cell_type": "code",
   "execution_count": 106,
   "metadata": {},
   "outputs": [
    {
     "name": "stdout",
     "output_type": "stream",
     "text": [
      "[[1 1]\n",
      " [2 2]\n",
      " [3 3]\n",
      " [4 4]]\n",
      "[ 6  9 12 15]\n"
     ]
    }
   ],
   "source": [
    "Xx = np.array([[1, 1], [2, 2], [3, 3], [4, 4]])\n",
    "print(Xx)\n",
    "# y = 1 * x_0 + 2 * x_1 + 3\n",
    "yy = np.dot(Xx, np.array([1, 2])) + 3\n",
    "print(yy)"
   ]
  },
  {
   "cell_type": "code",
   "execution_count": 107,
   "metadata": {},
   "outputs": [
    {
     "name": "stdout",
     "output_type": "stream",
     "text": [
      "1.0\n",
      "[1.5 1.5]\n",
      "3.0000000000000018\n",
      "[15.]\n"
     ]
    }
   ],
   "source": [
    "reg = LinearRegression().fit(Xx, yy)\n",
    "print(reg.score(Xx, yy))\n",
    "print(reg.coef_)\n",
    "print(reg.intercept_)\n",
    "print(reg.predict(np.array([[3, 5]])))"
   ]
  },
  {
   "cell_type": "code",
   "execution_count": null,
   "metadata": {},
   "outputs": [],
   "source": []
  }
 ],
 "metadata": {
  "kernelspec": {
   "display_name": "Python 3 (ipykernel)",
   "language": "python",
   "name": "python3"
  },
  "language_info": {
   "codemirror_mode": {
    "name": "ipython",
    "version": 3
   },
   "file_extension": ".py",
   "mimetype": "text/x-python",
   "name": "python",
   "nbconvert_exporter": "python",
   "pygments_lexer": "ipython3",
   "version": "3.9.7"
  }
 },
 "nbformat": 4,
 "nbformat_minor": 2
}
