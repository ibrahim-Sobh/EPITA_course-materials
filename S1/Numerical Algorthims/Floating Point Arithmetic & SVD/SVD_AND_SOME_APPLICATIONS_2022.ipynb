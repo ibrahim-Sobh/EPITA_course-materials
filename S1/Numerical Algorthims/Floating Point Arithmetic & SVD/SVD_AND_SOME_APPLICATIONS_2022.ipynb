{
 "cells": [
  {
   "cell_type": "markdown",
   "metadata": {},
   "source": [
    "# A major tool in Computational Linear Algebra (aka Numerical Linear Algebra): the SVD\n",
    "\n",
    "### SDV = Singular Value Decomposition"
   ]
  },
  {
   "cell_type": "markdown",
   "metadata": {},
   "source": [
    "### Remember  that a square (real) matrices of size (n,n) can \n",
    "### be \"eigendecomposed\"  :"
   ]
  },
  {
   "cell_type": "code",
   "execution_count": 13,
   "metadata": {},
   "outputs": [
    {
     "data": {
      "text/latex": [
       "$$A = V . Diag(\\Lambda). V^T $$\n",
       "# Diag(\\Lambda) is the SPECTRUM\n"
      ],
      "text/plain": [
       "<IPython.core.display.Latex object>"
      ]
     },
     "metadata": {},
     "output_type": "display_data"
    }
   ],
   "source": [
    "%%latex\n",
    "$$A = V . Diag(\\Lambda). V^T $$\n",
    "# Diag(\\Lambda) is the SPECTRUM"
   ]
  },
  {
   "cell_type": "code",
   "execution_count": 2,
   "metadata": {},
   "outputs": [
    {
     "data": {
      "text/latex": [
       "With $V$: eigenvectors \n",
       "; $Diag(\\Lambda)$: eigenvalues (on the diagonal)\n"
      ],
      "text/plain": [
       "<IPython.core.display.Latex object>"
      ]
     },
     "metadata": {},
     "output_type": "display_data"
    }
   ],
   "source": [
    "%%latex \n",
    "With $V$: eigenvectors \n",
    "; $Diag(\\Lambda)$: eigenvalues (on the diagonal)"
   ]
  },
  {
   "cell_type": "markdown",
   "metadata": {},
   "source": [
    "### But with A (for example) non square  of size (n,m)\n",
    "### We need to use the  Singular Value Decomposition aka as SVD"
   ]
  },
  {
   "cell_type": "markdown",
   "metadata": {},
   "source": [
    "### Let A be a matrix of size (n,m) with  n != m\n",
    "### the SVD of A is defined by"
   ]
  },
  {
   "cell_type": "code",
   "execution_count": 3,
   "metadata": {},
   "outputs": [
    {
     "data": {
      "text/latex": [
       "$$A= U . S . V^T $$  \n"
      ],
      "text/plain": [
       "<IPython.core.display.Latex object>"
      ]
     },
     "metadata": {},
     "output_type": "display_data"
    }
   ],
   "source": [
    "%%latex\n",
    "$$A= U . S . V^T $$  "
   ]
  },
  {
   "cell_type": "markdown",
   "metadata": {},
   "source": [
    "### Where: \n",
    "#### U: size (n,n), square, orthogonal\n",
    "#### V: size (m,m), square, orthogonal\n",
    "#### S: size (n,m), rectangular if n!= m\n"
   ]
  },
  {
   "cell_type": "code",
   "execution_count": 4,
   "metadata": {},
   "outputs": [
    {
     "data": {
      "text/latex": [
       "A trick to remember:  $$(n,n) * (n,m) * (m,m) \"=\" (n,m) $$\n"
      ],
      "text/plain": [
       "<IPython.core.display.Latex object>"
      ]
     },
     "metadata": {},
     "output_type": "display_data"
    }
   ],
   "source": [
    "%%latex\n",
    "A trick to remember:  $$(n,n) * (n,m) * (m,m) \"=\" (n,m) $$\n"
   ]
  },
  {
   "cell_type": "markdown",
   "metadata": {},
   "source": [
    "#### Orthogonal ?  Remainder: "
   ]
  },
  {
   "cell_type": "code",
   "execution_count": 7,
   "metadata": {},
   "outputs": [
    {
     "data": {
      "text/latex": [
       "$$U . U^T= I_n$$\n",
       "$$V . V^T= I_m$$\n"
      ],
      "text/plain": [
       "<IPython.core.display.Latex object>"
      ]
     },
     "metadata": {},
     "output_type": "display_data"
    }
   ],
   "source": [
    "%%latex\n",
    "$$U . U^T= I_n$$\n",
    "$$V . V^T= I_m$$"
   ]
  },
  {
   "cell_type": "markdown",
   "metadata": {},
   "source": [
    "#### The values on the \"diagonal\" of S are called: singular values\n",
    "#### The columns of U are called the left-singular vectors\n",
    "#### The columns of V are called the right-singular vectors"
   ]
  },
  {
   "cell_type": "code",
   "execution_count": null,
   "metadata": {},
   "outputs": [],
   "source": []
  },
  {
   "cell_type": "markdown",
   "metadata": {
    "collapsed": true
   },
   "source": [
    "### Intuition\n",
    "#### A is a linear transformation with\n",
    "#### U: a rotation\n",
    "#### s: a rescaling\n",
    "#### V: another rotation"
   ]
  },
  {
   "cell_type": "markdown",
   "metadata": {},
   "source": [
    "# Some properties"
   ]
  },
  {
   "cell_type": "markdown",
   "metadata": {},
   "source": [
    "##### Theorem: Every (real or complex) matrix A of size (n,m)  has a singular value decomposition.  The singular values {si} are uniquely determined, with {ui} and {vi} the, respectively, left and rigth singular vectors (uniquely determined up to real (or complex) signs.\n",
    "##### Remark: the SVD is a matrix factorization algorithm, there are numerous others: QR, LR, L D U, etc ...."
   ]
  },
  {
   "cell_type": "markdown",
   "metadata": {},
   "source": [
    "##### Theorem: the rank of a matrix A , rank(A) , is the number of nonzero singular values"
   ]
  },
  {
   "cell_type": "markdown",
   "metadata": {},
   "source": [
    "##### Remark: the singular values are generally sorted by decreasing order"
   ]
  },
  {
   "cell_type": "markdown",
   "metadata": {},
   "source": [
    "### An example"
   ]
  },
  {
   "cell_type": "code",
   "execution_count": 5,
   "metadata": {},
   "outputs": [
    {
     "name": "stdout",
     "output_type": "stream",
     "text": [
      "n=  4 ligns ,  m= 3 columns\n",
      "[[1 1 1]\n",
      " [3 4 5]\n",
      " [4 4 4]\n",
      " [4 5 4]]\n"
     ]
    }
   ],
   "source": [
    "import numpy as np\n",
    "\n",
    "A = np.array([[1, 1, 1],\n",
    "              [3, 4, 5],\n",
    "              [4, 4, 4],                            \n",
    "              [4, 5, 4]                      \n",
    "              ])\n",
    "n,m=A.shape\n",
    "print(\"n= \",n,\"ligns ,  m=\" ,m, \"columns\")\n",
    "print(A)"
   ]
  },
  {
   "cell_type": "markdown",
   "metadata": {},
   "source": [
    "#### Question:  what do you think of this matrix ?"
   ]
  },
  {
   "cell_type": "code",
   "execution_count": 6,
   "metadata": {},
   "outputs": [
    {
     "name": "stdout",
     "output_type": "stream",
     "text": [
      "--- SVD  ---\n"
     ]
    }
   ],
   "source": [
    "print(\"--- SVD  ---\")\n",
    "U, s, VT = np.linalg.svd(A, full_matrices=True)"
   ]
  },
  {
   "cell_type": "code",
   "execution_count": 7,
   "metadata": {},
   "outputs": [
    {
     "name": "stdout",
     "output_type": "stream",
     "text": [
      "Rank of the matrix A: 3\n"
     ]
    }
   ],
   "source": [
    "print(\"Rank of the matrix A:\", np.linalg.matrix_rank(A))"
   ]
  },
  {
   "cell_type": "code",
   "execution_count": 8,
   "metadata": {},
   "outputs": [
    {
     "name": "stdout",
     "output_type": "stream",
     "text": [
      "U:\n",
      " [[-1.38201662e-01 -6.54749524e-02 -1.88246808e-01 -9.70142500e-01]\n",
      " [-5.59976765e-01  8.18823566e-01  1.26309104e-01 -1.33226763e-15]\n",
      " [-5.52806648e-01 -2.61899810e-01 -7.52987231e-01  2.42535625e-01]\n",
      " [-6.01440881e-01 -5.06605850e-01  6.17753494e-01 -1.11022302e-15]]\n",
      "s:\n",
      " [12.49789499  1.23098537  0.53599988]\n",
      "VT:\n",
      " [[-0.51489647 -0.60782554 -0.60450785]\n",
      " [-0.55486191 -0.30122956  0.77549276]\n",
      " [-0.65345993  0.73471687 -0.1821572 ]]\n"
     ]
    }
   ],
   "source": [
    "print(\"U:\\n {}\".format(U) )\n",
    "print(\"s:\\n {}\".format(s) )\n",
    "print(\"VT:\\n {}\".format(VT) )"
   ]
  },
  {
   "cell_type": "code",
   "execution_count": 10,
   "metadata": {},
   "outputs": [
    {
     "ename": "ValueError",
     "evalue": "matmul: Input operand 1 has a mismatch in its core dimension 0, with gufunc signature (n?,k),(k,m?)->(n?,m?) (size 3 is different from 4)",
     "output_type": "error",
     "traceback": [
      "\u001b[0;31m---------------------------------------------------------------------------\u001b[0m",
      "\u001b[0;31mValueError\u001b[0m                                Traceback (most recent call last)",
      "\u001b[0;32m/var/folders/kq/4phtjsxn40794zp8lvjfsccw0000gn/T/ipykernel_2181/3644424850.py\u001b[0m in \u001b[0;36m<module>\u001b[0;34m\u001b[0m\n\u001b[1;32m      1\u001b[0m \u001b[0;31m# Be careful when you use the @ operator\u001b[0m\u001b[0;34m\u001b[0m\u001b[0;34m\u001b[0m\u001b[0m\n\u001b[0;32m----> 2\u001b[0;31m \u001b[0mprint\u001b[0m\u001b[0;34m(\u001b[0m\u001b[0mU\u001b[0m \u001b[0;34m@\u001b[0m \u001b[0mnp\u001b[0m\u001b[0;34m.\u001b[0m\u001b[0mdiag\u001b[0m\u001b[0;34m(\u001b[0m\u001b[0ms\u001b[0m\u001b[0;34m)\u001b[0m \u001b[0;34m@\u001b[0m \u001b[0mVT\u001b[0m\u001b[0;34m)\u001b[0m\u001b[0;34m\u001b[0m\u001b[0;34m\u001b[0m\u001b[0m\n\u001b[0m",
      "\u001b[0;31mValueError\u001b[0m: matmul: Input operand 1 has a mismatch in its core dimension 0, with gufunc signature (n?,k),(k,m?)->(n?,m?) (size 3 is different from 4)"
     ]
    }
   ],
   "source": [
    "# Be careful when you use the @ operator\n",
    "print(U @ np.diag(s) @ VT)"
   ]
  },
  {
   "cell_type": "markdown",
   "metadata": {},
   "source": [
    "#### Oups: Numpy returns a \"vector\" of SV: we need a matrix, but we can \"correct\" it !"
   ]
  },
  {
   "cell_type": "code",
   "execution_count": 11,
   "metadata": {},
   "outputs": [
    {
     "name": "stdout",
     "output_type": "stream",
     "text": [
      "4\n",
      "4\n"
     ]
    }
   ],
   "source": [
    "print(U.shape[0])\n",
    "print(U.shape[1])"
   ]
  },
  {
   "cell_type": "code",
   "execution_count": 12,
   "metadata": {},
   "outputs": [
    {
     "ename": "NameError",
     "evalue": "name 'V' is not defined",
     "output_type": "error",
     "traceback": [
      "\u001b[0;31m---------------------------------------------------------------------------\u001b[0m",
      "\u001b[0;31mNameError\u001b[0m                                 Traceback (most recent call last)",
      "\u001b[0;32m/var/folders/kq/4phtjsxn40794zp8lvjfsccw0000gn/T/ipykernel_2181/1695734761.py\u001b[0m in \u001b[0;36m<module>\u001b[0;34m\u001b[0m\n\u001b[0;32m----> 1\u001b[0;31m \u001b[0mprint\u001b[0m\u001b[0;34m(\u001b[0m\u001b[0mV\u001b[0m\u001b[0;34m.\u001b[0m\u001b[0mshape\u001b[0m\u001b[0;34m[\u001b[0m\u001b[0;36m0\u001b[0m\u001b[0;34m]\u001b[0m\u001b[0;34m)\u001b[0m\u001b[0;34m\u001b[0m\u001b[0;34m\u001b[0m\u001b[0m\n\u001b[0m\u001b[1;32m      2\u001b[0m \u001b[0mprint\u001b[0m\u001b[0;34m(\u001b[0m\u001b[0mVT\u001b[0m\u001b[0;34m.\u001b[0m\u001b[0mshape\u001b[0m\u001b[0;34m[\u001b[0m\u001b[0;36m1\u001b[0m\u001b[0;34m]\u001b[0m\u001b[0;34m)\u001b[0m\u001b[0;34m\u001b[0m\u001b[0;34m\u001b[0m\u001b[0m\n",
      "\u001b[0;31mNameError\u001b[0m: name 'V' is not defined"
     ]
    }
   ],
   "source": [
    "print(V.shape[0])\n",
    "print(VT.shape[1])"
   ]
  },
  {
   "cell_type": "code",
   "execution_count": 13,
   "metadata": {},
   "outputs": [],
   "source": [
    "## We create a matrix of the correct zize\n",
    "True_s = np.zeros((U.shape[1], VT.shape[0]))\n",
    "# Now True_s is of size (4,4)"
   ]
  },
  {
   "cell_type": "code",
   "execution_count": 14,
   "metadata": {},
   "outputs": [
    {
     "name": "stdout",
     "output_type": "stream",
     "text": [
      "(4, 3)\n"
     ]
    }
   ],
   "source": [
    "## we verify:\n",
    "print(True_s.shape)"
   ]
  },
  {
   "cell_type": "code",
   "execution_count": 15,
   "metadata": {},
   "outputs": [
    {
     "name": "stdout",
     "output_type": "stream",
     "text": [
      " This is the 'true' matrix of singular value\n",
      "[[12.49789499  0.          0.        ]\n",
      " [ 0.          1.23098537  0.        ]\n",
      " [ 0.          0.          0.53599988]\n",
      " [ 0.          0.          0.        ]]\n"
     ]
    }
   ],
   "source": [
    "## We \"add\" the singular values\n",
    "True_s[:s.size, :s.size] = np.diag(s)\n",
    "## Now it's ok: we verify\n",
    "print(\" This is the 'true' matrix of singular value\")\n",
    "print(True_s)"
   ]
  },
  {
   "cell_type": "code",
   "execution_count": 16,
   "metadata": {},
   "outputs": [
    {
     "name": "stdout",
     "output_type": "stream",
     "text": [
      "[[1. 1. 1.]\n",
      " [3. 4. 5.]\n",
      " [4. 4. 4.]\n",
      " [4. 5. 4.]]\n"
     ]
    }
   ],
   "source": [
    "## We can verify numerically if it is correct\n",
    "np.allclose(U.dot(True_s).dot(VT), A)\n",
    "print( U @ True_s @ VT)"
   ]
  },
  {
   "cell_type": "code",
   "execution_count": 17,
   "metadata": {},
   "outputs": [
    {
     "name": "stdout",
     "output_type": "stream",
     "text": [
      "It's ok: 7.482277218026854e-15\n"
     ]
    }
   ],
   "source": [
    "## We compute the norm of the difference \n",
    "print(\"It's ok:\", np.linalg.norm(U @ True_s @ VT - A))"
   ]
  },
  {
   "cell_type": "code",
   "execution_count": 304,
   "metadata": {},
   "outputs": [
    {
     "name": "stdout",
     "output_type": "stream",
     "text": [
      "n=  8 ,  m= 5\n"
     ]
    }
   ],
   "source": [
    "import numpy as np\n",
    "\n",
    "A = np.array([[1, 1, 1, 0, 1],\n",
    "              [3, 4, 5, 1, 0],\n",
    "              [4, 4, 4, 0, 1],                            \n",
    "              [4, 5, 4, 1, 1],                            \n",
    "              [4, 6, 4, 0, 1],                            \n",
    "              [4, 7, 4, 1, 1],                            \n",
    "              [4, 8, 4, 0, 1],                            \n",
    "              [4, 9, 4, 1, 0],                            \n",
    "              ])\n",
    "n,m=A.shape\n",
    "print(\"n= \",n,\",  m=\" ,m)"
   ]
  },
  {
   "cell_type": "code",
   "execution_count": 305,
   "metadata": {
    "collapsed": true
   },
   "outputs": [],
   "source": [
    "# set numpy printing options\n",
    "np.set_printoptions(suppress=True)\n",
    "np.set_printoptions(precision=4)"
   ]
  },
  {
   "cell_type": "code",
   "execution_count": 306,
   "metadata": {},
   "outputs": [
    {
     "name": "stdout",
     "output_type": "stream",
     "text": [
      "--- SVD  ---\n"
     ]
    }
   ],
   "source": [
    "print(\"--- SVD  ---\")\n",
    "U, s, VT = np.linalg.svd(A, full_matrices=True)"
   ]
  },
  {
   "cell_type": "code",
   "execution_count": null,
   "metadata": {
    "collapsed": true
   },
   "outputs": [],
   "source": [
    "print(\"U:\\n {}\".format(U) )\n",
    "print(\"s:\\n {}\".format(s) )\n",
    "print(\"VT:\\n {}\".format(VT) )"
   ]
  },
  {
   "cell_type": "code",
   "execution_count": 307,
   "metadata": {},
   "outputs": [
    {
     "name": "stdout",
     "output_type": "stream",
     "text": [
      "U:\n",
      " [[-0.078   0.153  -0.353   0.2288  0.577  -0.4217 -0.3463  0.4036]\n",
      " [-0.3009  0.5206  0.6794 -0.2518  0.3368  0.      0.      0.    ]\n",
      " [-0.3006  0.4636 -0.3274 -0.2203 -0.4895  0.1174  0.1115  0.5227]\n",
      " [-0.3365  0.2831 -0.0424  0.5822 -0.2177 -0.4104  0.2985 -0.4011]\n",
      " [-0.3666  0.075  -0.3016 -0.308  -0.0654  0.0702 -0.608  -0.5434]\n",
      " [-0.4026 -0.1055 -0.0166  0.4945  0.2064  0.7267 -0.0388  0.0984]\n",
      " [-0.4326 -0.3135 -0.2759 -0.3957  0.3588 -0.0822  0.5831 -0.0802]\n",
      " [-0.4649 -0.5435  0.3707  0.0284 -0.3019 -0.3163 -0.2597  0.3027]]\n",
      "s:\n",
      " [22.577   3.3514  1.9084  1.0041  0.6297]\n",
      "VT:\n",
      " [[-0.4516 -0.7454 -0.4783 -0.0667 -0.0849]\n",
      " [ 0.3437 -0.6511  0.6544  0.0462  0.1658]\n",
      " [-0.3601  0.0246  0.3519  0.5194 -0.69  ]\n",
      " [ 0.1976 -0.044  -0.3039  0.8499  0.38  ]\n",
      " [-0.7136  0.1335  0.3562  0.0376  0.5871]]\n"
     ]
    },
    {
     "ename": "ValueError",
     "evalue": "matmul: Input operand 1 has a mismatch in its core dimension 0, with gufunc signature (n?,k),(k,m?)->(n?,m?) (size 5 is different from 8)",
     "output_type": "error",
     "traceback": [
      "\u001b[1;31m---------------------------------------------------------------------------\u001b[0m",
      "\u001b[1;31mValueError\u001b[0m                                Traceback (most recent call last)",
      "\u001b[1;32m<ipython-input-307-ecc350da448d>\u001b[0m in \u001b[0;36m<module>\u001b[1;34m()\u001b[0m\n\u001b[0;32m      2\u001b[0m \u001b[0mprint\u001b[0m\u001b[1;33m(\u001b[0m\u001b[1;34m\"s:\\n {}\"\u001b[0m\u001b[1;33m.\u001b[0m\u001b[0mformat\u001b[0m\u001b[1;33m(\u001b[0m\u001b[0ms\u001b[0m\u001b[1;33m)\u001b[0m \u001b[1;33m)\u001b[0m\u001b[1;33m\u001b[0m\u001b[0m\n\u001b[0;32m      3\u001b[0m \u001b[0mprint\u001b[0m\u001b[1;33m(\u001b[0m\u001b[1;34m\"VT:\\n {}\"\u001b[0m\u001b[1;33m.\u001b[0m\u001b[0mformat\u001b[0m\u001b[1;33m(\u001b[0m\u001b[0mVT\u001b[0m\u001b[1;33m)\u001b[0m \u001b[1;33m)\u001b[0m\u001b[1;33m\u001b[0m\u001b[0m\n\u001b[1;32m----> 4\u001b[1;33m \u001b[0mprint\u001b[0m\u001b[1;33m(\u001b[0m\u001b[0mU\u001b[0m \u001b[1;33m@\u001b[0m \u001b[0mnp\u001b[0m\u001b[1;33m.\u001b[0m\u001b[0mdiag\u001b[0m\u001b[1;33m(\u001b[0m\u001b[0ms\u001b[0m\u001b[1;33m)\u001b[0m \u001b[1;33m@\u001b[0m \u001b[0mVT\u001b[0m\u001b[1;33m)\u001b[0m\u001b[1;33m\u001b[0m\u001b[0m\n\u001b[0m",
      "\u001b[1;31mValueError\u001b[0m: matmul: Input operand 1 has a mismatch in its core dimension 0, with gufunc signature (n?,k),(k,m?)->(n?,m?) (size 5 is different from 8)"
     ]
    }
   ],
   "source": [
    "print(U @ np.diag(s) @ VT)"
   ]
  },
  {
   "cell_type": "code",
   "execution_count": 308,
   "metadata": {},
   "outputs": [
    {
     "name": "stdout",
     "output_type": "stream",
     "text": [
      "[[22.577   0.      0.      0.      0.    ]\n",
      " [ 0.      3.3514  0.      0.      0.    ]\n",
      " [ 0.      0.      1.9084  0.      0.    ]\n",
      " [ 0.      0.      0.      1.0041  0.    ]\n",
      " [ 0.      0.      0.      0.      0.6297]\n",
      " [ 0.      0.      0.      0.      0.    ]\n",
      " [ 0.      0.      0.      0.      0.    ]\n",
      " [ 0.      0.      0.      0.      0.    ]]\n"
     ]
    },
    {
     "data": {
      "text/plain": [
       "True"
      ]
     },
     "execution_count": 308,
     "metadata": {},
     "output_type": "execute_result"
    }
   ],
   "source": [
    " U, s, VT = np.linalg.svd(A)\n",
    "True_s = np.zeros((U.shape[1], VT.shape[0]))\n",
    "True_s[:s.size, :s.size] = np.diag(s)\n",
    "print(True_s)\n",
    "np.allclose(U.dot(True_s).dot(VT), A)\n"
   ]
  },
  {
   "cell_type": "code",
   "execution_count": 309,
   "metadata": {},
   "outputs": [
    {
     "name": "stdout",
     "output_type": "stream",
     "text": [
      " i 1 Asi\n",
      "[[0.7949 1.3121 0.8419 0.1173 0.1495]\n",
      " [3.0685 5.0648 3.2496 0.4529 0.5769]\n",
      " [3.0647 5.0585 3.2456 0.4523 0.5762]\n",
      " [3.4314 5.6638 3.634  0.5065 0.6451]\n",
      " [3.738  6.1698 3.9586 0.5517 0.7028]\n",
      " [4.1047 6.7751 4.347  0.6059 0.7717]\n",
      " [4.4113 7.2811 4.6717 0.6511 0.8293]\n",
      " [4.7397 7.8232 5.0194 0.6996 0.8911]]\n",
      " i 2 Asi\n",
      "[[0.9712 0.9782 1.1775 0.141  0.2345]\n",
      " [3.6682 3.9287 4.3914 0.5335 0.8663]\n",
      " [3.5988 4.0468 4.2624 0.5241 0.8339]\n",
      " [3.7576 5.046  4.2549 0.5503 0.8025]\n",
      " [3.8244 6.006  4.1232 0.5633 0.7445]\n",
      " [3.9832 7.0053 4.1157 0.5895 0.7131]\n",
      " [4.0501 7.9653 3.984  0.6026 0.6551]\n",
      " [4.1135 9.0092 3.8274 0.6155 0.589 ]]\n",
      " i 3 Asi\n",
      "[[ 1.2138  0.9616  0.9404 -0.2089  0.6994]\n",
      " [ 3.2013  3.9606  4.8476  1.2069 -0.0284]\n",
      " [ 3.8238  4.0314  4.0426  0.1996  1.265 ]\n",
      " [ 3.7867  5.044   4.2265  0.5083  0.8583]\n",
      " [ 4.0317  5.9919  3.9207  0.2644  1.1417]\n",
      " [ 3.9946  7.0045  4.1046  0.5731  0.735 ]\n",
      " [ 4.2397  7.9523  3.7988  0.3292  1.0184]\n",
      " [ 3.8587  9.0266  4.0764  0.9829  0.1008]]\n",
      " i 4 Asi\n",
      "[[ 1.2592  0.9515  0.8706 -0.0137  0.7867]\n",
      " [ 3.1513  3.9717  4.9245  0.992  -0.1245]\n",
      " [ 3.7801  4.0412  4.1098  0.0116  1.1809]\n",
      " [ 3.9022  5.0183  4.0488  1.0052  1.0805]\n",
      " [ 3.9706  6.0055  4.0147  0.0015  1.0242]\n",
      " [ 4.0928  6.9826  3.9537  0.9951  0.9237]\n",
      " [ 4.1612  7.9698  3.9195 -0.0085  0.8674]\n",
      " [ 3.8644  9.0254  4.0677  1.0071  0.1116]]\n",
      " i 5 Asi\n",
      "[[ 1.  1.  1. -0.  1.]\n",
      " [ 3.  4.  5.  1. -0.]\n",
      " [ 4.  4.  4. -0.  1.]\n",
      " [ 4.  5.  4.  1.  1.]\n",
      " [ 4.  6.  4. -0.  1.]\n",
      " [ 4.  7.  4.  1.  1.]\n",
      " [ 4.  8.  4. -0.  1.]\n",
      " [ 4.  9.  4.  1. -0.]]\n"
     ]
    }
   ],
   "source": [
    "# Low Rank Approximation\n",
    "for i in range(1, m+1, 1):\n",
    "    Asi = np.matrix(U[:, :i]) @ np.diag(s[:i]) @ np.matrix(VT[:i,:])\n",
    "    print(\" i\",i, \"Asi\")\n",
    "    print(Asi)"
   ]
  },
  {
   "cell_type": "code",
   "execution_count": 310,
   "metadata": {},
   "outputs": [
    {
     "name": "stdout",
     "output_type": "stream",
     "text": [
      "--- REDUCED ---\n",
      "U3:\n",
      " [[-0.078   0.153  -0.353   0.2288  0.577 ]\n",
      " [-0.3009  0.5206  0.6794 -0.2518  0.3368]\n",
      " [-0.3006  0.4636 -0.3274 -0.2203 -0.4895]\n",
      " [-0.3365  0.2831 -0.0424  0.5822 -0.2177]\n",
      " [-0.3666  0.075  -0.3016 -0.308  -0.0654]\n",
      " [-0.4026 -0.1055 -0.0166  0.4945  0.2064]\n",
      " [-0.4326 -0.3135 -0.2759 -0.3957  0.3588]\n",
      " [-0.4649 -0.5435  0.3707  0.0284 -0.3019]]\n",
      "s3:\n",
      " [22.577   3.3514  1.9084  1.0041  0.6297]\n",
      "V3T:\n",
      " [[-0.4516 -0.7454 -0.4783 -0.0667 -0.0849]\n",
      " [ 0.3437 -0.6511  0.6544  0.0462  0.1658]\n",
      " [-0.3601  0.0246  0.3519  0.5194 -0.69  ]\n",
      " [ 0.1976 -0.044  -0.3039  0.8499  0.38  ]\n",
      " [-0.7136  0.1335  0.3562  0.0376  0.5871]]\n"
     ]
    }
   ],
   "source": [
    "# the reduced or truncated SVD operation can save time by ignoring all the\n",
    "# extremly small (or exactly zero) values. A good blog post explaing the benefits\n",
    "# can be found here:\n",
    "# http://blog.explainmydata.com/2016/01/how-much-faster-is-truncated-svd.html\n",
    "print(\"--- REDUCED ---\")\n",
    "\n",
    "      \n",
    "U3, s3, V3T = np.linalg.svd(A, full_matrices=False)\n",
    "\n",
    "print(\"U3:\\n {}\".format(U3))\n",
    "print(\"s3:\\n {}\".format(s3))\n",
    "print(\"V3T:\\n {}\".format(V3T))"
   ]
  },
  {
   "cell_type": "code",
   "execution_count": 85,
   "metadata": {},
   "outputs": [
    {
     "name": "stdout",
     "output_type": "stream",
     "text": [
      "E\n",
      "[[ 1.  1.  1. -0.  1.]\n",
      " [ 3.  4.  5.  1. -0.]\n",
      " [ 4.  4.  4. -0.  1.]\n",
      " [ 4.  5.  4.  1.  1.]\n",
      " [ 4.  6.  4. -0.  1.]\n",
      " [ 4.  7.  4.  1.  1.]\n",
      " [ 4.  8.  4. -0.  1.]\n",
      " [ 4.  9.  4.  1. -0.]]\n",
      "Z=(E-A)*10^15\n",
      "[[ -1.9984  -6.3283  -2.1094  -0.8986   0.6661]\n",
      " [ -3.1086  -6.6613  -1.7764   0.222   -0.8327]\n",
      " [ -2.2204  -5.7732  -3.5527  -0.7199  -0.4441]\n",
      " [ -2.2204  -5.3291  -3.5527  -0.4441  -0.7772]\n",
      " [ -3.1086  -7.1054  -5.3291  -0.9205  -0.5551]\n",
      " [ -2.2204  -6.2172  -3.9968  -0.6661  -0.4441]\n",
      " [ -2.6645  -7.9936  -3.9968  -0.7026   0.    ]\n",
      " [ -2.6645 -10.6581  -4.4409  -0.5551  -1.0408]]\n",
      "Norm of the difference: 2.4191013934821674e-14\n",
      "Rank of A: 5\n"
     ]
    }
   ],
   "source": [
    "E=U3 @ np.diag(s3) @ V3T\n",
    "print(\"E\")\n",
    "print(E)\n",
    "Z=E-A\n",
    "print(\"Z=(E-A)*10^15\")\n",
    "print(Z*10**15)\n",
    "print(\"Norm of the difference:\", np.linalg.norm(Z))\n",
    "print(\"Rank of A:\", np.linalg.matrix_rank(A))"
   ]
  },
  {
   "cell_type": "markdown",
   "metadata": {
    "collapsed": true
   },
   "source": [
    "### Intuition\n",
    "#### A is a linear transformation with\n",
    "#### U: a rotation\n",
    "#### s: a rescaking\n",
    "#### V: another rotation"
   ]
  },
  {
   "cell_type": "markdown",
   "metadata": {
    "collapsed": true
   },
   "source": [
    "# Full SVD versus Reduced (or Truncated)  SVD"
   ]
  },
  {
   "cell_type": "code",
   "execution_count": null,
   "metadata": {
    "collapsed": true
   },
   "outputs": [],
   "source": []
  },
  {
   "cell_type": "code",
   "execution_count": null,
   "metadata": {
    "collapsed": true
   },
   "outputs": [],
   "source": []
  },
  {
   "cell_type": "code",
   "execution_count": null,
   "metadata": {
    "collapsed": true
   },
   "outputs": [],
   "source": []
  },
  {
   "cell_type": "markdown",
   "metadata": {},
   "source": [
    "# Solving Linear Systems by Method of Least-Squares and SVD"
   ]
  },
  {
   "cell_type": "markdown",
   "metadata": {},
   "source": [
    "#### Consider a system of linear equations A x = b"
   ]
  },
  {
   "cell_type": "code",
   "execution_count": 311,
   "metadata": {},
   "outputs": [
    {
     "data": {
      "text/latex": [
       "$$A \\in R^{m x n}$$\n",
       "$$ b  \\in R^m$$"
      ],
      "text/plain": [
       "<IPython.core.display.Latex object>"
      ]
     },
     "metadata": {},
     "output_type": "display_data"
    }
   ],
   "source": [
    "%%latex \n",
    "$$A \\in R^{m x n}$$\n",
    "$$ b  \\in R^m$$"
   ]
  },
  {
   "cell_type": "markdown",
   "metadata": {},
   "source": [
    "#### This  linear system is said overdetermined: i.e. there are MORE equations than solutions"
   ]
  },
  {
   "cell_type": "markdown",
   "metadata": {},
   "source": [
    "##### We can solve this type of  systems  using the following minization problem:"
   ]
  },
  {
   "cell_type": "code",
   "execution_count": 313,
   "metadata": {},
   "outputs": [
    {
     "data": {
      "text/latex": [
       "$$ \\min_{x \\in R^m}  || Ax - b|| $$"
      ],
      "text/plain": [
       "<IPython.core.display.Latex object>"
      ]
     },
     "metadata": {},
     "output_type": "display_data"
    }
   ],
   "source": [
    "%%latex \n",
    "$$ \\min_{x \\in R^m}  || Ax - b|| $$"
   ]
  },
  {
   "cell_type": "code",
   "execution_count": 315,
   "metadata": {},
   "outputs": [
    {
     "data": {
      "text/latex": [
       "$$A x = b $$\n",
       "$$A^T A x = A^T b $$\n",
       "## Never do this, it is too costly "
      ],
      "text/plain": [
       "<IPython.core.display.Latex object>"
      ]
     },
     "metadata": {},
     "output_type": "display_data"
    }
   ],
   "source": [
    "%%latex \n",
    "$$A x = b $$\n",
    "$$A^T A x = A^T b $$\n",
    "## Never do this, it is too costly "
   ]
  },
  {
   "cell_type": "markdown",
   "metadata": {},
   "source": [
    "##### Using A= U S Vt we can write :"
   ]
  },
  {
   "cell_type": "code",
   "execution_count": 319,
   "metadata": {},
   "outputs": [
    {
     "data": {
      "text/latex": [
       "$$ || b- A x ||= || U^T *(b - A x) || = || U^T b - U^T A x || = || U^T b - S V^T x ||$$ (eq 1)\n",
       "$$ U^T A = U^T U s V^T$$\n",
       "$$U^T . U = I_n$$"
      ],
      "text/plain": [
       "<IPython.core.display.Latex object>"
      ]
     },
     "metadata": {},
     "output_type": "display_data"
    }
   ],
   "source": [
    "%%latex \n",
    "$$ || b- A x ||= || U^T *(b - A x) || = || U^T b - U^T A x || = || U^T b - S V^T x ||$$ (eq 1)\n",
    "$$ U^T A = U^T U s V^T$$\n",
    "$$U^T . U = I_n$$"
   ]
  },
  {
   "cell_type": "markdown",
   "metadata": {},
   "source": [
    "##### Let us rewrite the equations"
   ]
  },
  {
   "cell_type": "code",
   "execution_count": 320,
   "metadata": {},
   "outputs": [
    {
     "data": {
      "text/latex": [
       "$$ c = U^T b $$\n",
       "$$ y= V^T x $$"
      ],
      "text/plain": [
       "<IPython.core.display.Latex object>"
      ]
     },
     "metadata": {},
     "output_type": "display_data"
    }
   ],
   "source": [
    "%%latex \n",
    "$$ c = U^T b $$\n",
    "$$ y= V^T x $$"
   ]
  },
  {
   "cell_type": "code",
   "execution_count": 321,
   "metadata": {},
   "outputs": [
    {
     "data": {
      "text/latex": [
       "then  \n",
       "$$ \\min || (Ax-b) ||= \\min || U^T b - S V^T x || = || c -S y || $$  \n",
       "so miniumum  reached when $$c = S .y$$"
      ],
      "text/plain": [
       "<IPython.core.display.Latex object>"
      ]
     },
     "metadata": {},
     "output_type": "display_data"
    }
   ],
   "source": [
    "%%latex \n",
    "then  \n",
    "$$ \\min || (Ax-b) ||= \\min || U^T b - S V^T x || = || c -S y || $$  \n",
    "so miniumum  reached when $$c = S .y$$"
   ]
  },
  {
   "cell_type": "code",
   "execution_count": null,
   "metadata": {
    "collapsed": true
   },
   "outputs": [],
   "source": []
  },
  {
   "cell_type": "markdown",
   "metadata": {},
   "source": [
    "##### But if $S$ is rectangular, or with a singular value equal to 0, the \"inverse\" of S does not exist"
   ]
  },
  {
   "cell_type": "markdown",
   "metadata": {},
   "source": [
    "#### But now we can define the \"pseudo inverse\" of S"
   ]
  },
  {
   "cell_type": "code",
   "execution_count": 324,
   "metadata": {},
   "outputs": [
    {
     "name": "stdout",
     "output_type": "stream",
     "text": [
      "[[ 1  0 -1  2]\n",
      " [ 1  1  1 -1]\n",
      " [ 0 -1 -2  3]\n",
      " [ 5  2 -1  4]\n",
      " [-1  2  5 -8]]\n",
      "Shape of A: (5, 4)\n"
     ]
    }
   ],
   "source": [
    "A = np.array([[1, 0, -1, 2], [1, 1, 1, -1], [0, -1, -2, 3], [5, 2, -1, 4],\n",
    "[-1, 2, 5, -8]])\n",
    "print(A)\n",
    "print(\"Shape of A:\",A.shape)"
   ]
  },
  {
   "cell_type": "code",
   "execution_count": 325,
   "metadata": {},
   "outputs": [
    {
     "name": "stdout",
     "output_type": "stream",
     "text": [
      "[[ 1  0 -1  2]\n",
      " [ 1  1  1 -1]\n",
      " [ 0 -1 -2  3]\n",
      " [ 5  2 -1  4]\n",
      " [-1  2  5 -8]]\n",
      "n = 4\n",
      "But rank(A) = 2\n",
      "s: [22.577   3.3514  1.9084  1.0041  0.6297]\n"
     ]
    }
   ],
   "source": [
    "b =np.array([[-1,2,-3,1,7]]) \n",
    "n = A.shape[1]\n",
    "r = np.linalg.matrix_rank(A)\n",
    "print(A)\n",
    "print('n =', n)\n",
    "print('But rank(A) =', r)\n",
    "print(\"s:\",s)"
   ]
  },
  {
   "cell_type": "code",
   "execution_count": 326,
   "metadata": {},
   "outputs": [
    {
     "name": "stdout",
     "output_type": "stream",
     "text": [
      "Singular values:\n",
      " [11.5924  5.4421  0.      0.    ] Shape (4,)\n",
      "\n",
      "Left-singular vectors: Shape (5, 4)\n",
      "[[-0.2075 -0.0848  0.6344  0.6797]\n",
      " [ 0.0988 -0.3012 -0.7024  0.6368]\n",
      " [-0.3064  0.2164  0.0632  0.2565]\n",
      " [-0.4249 -0.8568  0.0751 -0.2511]\n",
      " [ 0.8202 -0.3481  0.3076  0.061 ]]\n",
      "\n",
      "Right-singular vectors: Shape (4, 4)\n",
      "[[-0.2634 -0.7941 -0.5247  0.1571]\n",
      " [ 0.1032 -0.5379  0.8167  0.1817]\n",
      " [ 0.4697 -0.2817 -0.0592 -0.8346]\n",
      " [-0.8363  0.0255  0.2328 -0.4958]]\n"
     ]
    }
   ],
   "source": [
    "# SVD decomposition of matrix A\n",
    "U, s, VT = np.linalg.svd(A, full_matrices=False)\n",
    "V = VT.T\n",
    "print('Singular values:\\n', s, \"Shape\", s.shape)\n",
    "print('\\nLeft-singular vectors:', \"Shape\",  U.shape)\n",
    "print(U)\n",
    "print('\\nRight-singular vectors:', \"Shape\", V.shape)\n",
    "print(V)"
   ]
  },
  {
   "cell_type": "code",
   "execution_count": null,
   "metadata": {},
   "outputs": [],
   "source": []
  },
  {
   "cell_type": "code",
   "execution_count": 327,
   "metadata": {},
   "outputs": [
    {
     "name": "stdout",
     "output_type": "stream",
     "text": [
      "V [[-0.2634 -0.7941 -0.5247  0.1571]\n",
      " [ 0.1032 -0.5379  0.8167  0.1817]\n",
      " [ 0.4697 -0.2817 -0.0592 -0.8346]\n",
      " [-0.8363  0.0255  0.2328 -0.4958]]\n",
      "V\n",
      "[[-0.2634 -0.7941 -0.5247  0.1571]\n",
      " [ 0.1032 -0.5379  0.8167  0.1817]\n",
      " [ 0.4697 -0.2817 -0.0592 -0.8346]\n",
      " [-0.8363  0.0255  0.2328 -0.4958]]\n",
      "Shape of V: (4, 4)\n"
     ]
    }
   ],
   "source": [
    "print(\"V\",V)\n",
    "print(\"V\")\n",
    "print(V)\n",
    "print(\"Shape of V:\",V.shape)"
   ]
  },
  {
   "cell_type": "code",
   "execution_count": null,
   "metadata": {},
   "outputs": [],
   "source": []
  },
  {
   "cell_type": "code",
   "execution_count": 328,
   "metadata": {
    "collapsed": true
   },
   "outputs": [],
   "source": [
    "# Moore–Penrose pseudoinverse\n",
    "s_inv = np.diag(np.hstack([1/s[:r], np.zeros(n-r)]))"
   ]
  },
  {
   "cell_type": "code",
   "execution_count": 330,
   "metadata": {},
   "outputs": [
    {
     "name": "stdout",
     "output_type": "stream",
     "text": [
      "s [11.5924  5.4421  0.      0.    ]\n",
      "s_inv\n",
      "[[0.0863 0.     0.     0.    ]\n",
      " [0.     0.1838 0.     0.    ]\n",
      " [0.     0.     0.     0.    ]\n",
      " [0.     0.     0.     0.    ]]\n",
      "Shape of s_inv (4, 4)\n",
      "s(1,1): 11.5924 inverse of s(1,1)= 0.08626341396087092\n"
     ]
    }
   ],
   "source": [
    "print(\"s\",s)\n",
    "print(\"s_inv\")\n",
    "print(s_inv)\n",
    "print(\"Shape of s_inv\",s_inv.shape)\n",
    "print(\"s(1,1):\",11.5924, \"inverse of s(1,1)=\", 1/11.5924)"
   ]
  },
  {
   "cell_type": "code",
   "execution_count": 333,
   "metadata": {},
   "outputs": [
    {
     "name": "stdout",
     "output_type": "stream",
     "text": [
      "[1. 1. 0. 0.]\n",
      "[1. 1. 0. 0.]\n"
     ]
    }
   ],
   "source": [
    "print(s @ s_inv)\n",
    "print(s_inv @ s)"
   ]
  },
  {
   "cell_type": "code",
   "execution_count": 336,
   "metadata": {},
   "outputs": [
    {
     "name": "stdout",
     "output_type": "stream",
     "text": [
      "[[-0.0227 -0.1459  0.      0.    ]\n",
      " [ 0.0089 -0.0988  0.      0.    ]\n",
      " [ 0.0405 -0.0518  0.      0.    ]\n",
      " [-0.0721  0.0047  0.      0.    ]]\n",
      "2\n"
     ]
    }
   ],
   "source": [
    "# We verify \n",
    "print(V @ s_inv)\n",
    "print(np.linalg.matrix_rank(A))"
   ]
  },
  {
   "cell_type": "code",
   "execution_count": 337,
   "metadata": {},
   "outputs": [
    {
     "name": "stdout",
     "output_type": "stream",
     "text": [
      "[[-0.2075 -0.0848  0.6344  0.6797]\n",
      " [ 0.0988 -0.3012 -0.7024  0.6368]\n",
      " [-0.3064  0.2164  0.0632  0.2565]\n",
      " [-0.4249 -0.8568  0.0751 -0.2511]\n",
      " [ 0.8202 -0.3481  0.3076  0.061 ]]\n",
      "(5, 4)\n"
     ]
    }
   ],
   "source": [
    "print(U)\n",
    "print(U.shape)"
   ]
  },
  {
   "cell_type": "code",
   "execution_count": 338,
   "metadata": {},
   "outputs": [
    {
     "name": "stdout",
     "output_type": "stream",
     "text": [
      "\n",
      "Moore–Penrose pseudoinverse of A: Shape of A_plus (4, 5)\n",
      "[[ 0.0171  0.0417 -0.0246  0.1347  0.0322]\n",
      " [ 0.0065  0.0307 -0.0241  0.0809  0.0417]\n",
      " [-0.004   0.0196 -0.0236  0.0271  0.0513]\n",
      " [ 0.0146 -0.0085  0.0231  0.0266 -0.0608]]\n"
     ]
    }
   ],
   "source": [
    "A_plus = V @ s_inv @ U.T\n",
    "print('\\nMoore–Penrose pseudoinverse of A:', \"Shape of A_plus\", A_plus.shape)\n",
    "print(A_plus)"
   ]
  },
  {
   "cell_type": "code",
   "execution_count": 340,
   "metadata": {},
   "outputs": [
    {
     "data": {
      "text/latex": [
       "$$A x = b $$ \n",
       "$$x= A^+ .b$$"
      ],
      "text/plain": [
       "<IPython.core.display.Latex object>"
      ]
     },
     "metadata": {},
     "output_type": "display_data"
    }
   ],
   "source": [
    "%%latex \n",
    "$$A x = b $$ \n",
    "$$x= A^+ .b$$"
   ]
  },
  {
   "cell_type": "code",
   "execution_count": 339,
   "metadata": {},
   "outputs": [
    {
     "name": "stdout",
     "output_type": "stream",
     "text": [
      "Shape of b (1, 5) [[-1  2 -3  1  7]]\n",
      "\n",
      "Least-squares solution x:\n",
      "[[ 0.5]\n",
      " [ 0.5]\n",
      " [ 0.5]\n",
      " [-0.5]]\n"
     ]
    }
   ],
   "source": [
    "# Least-squares solution\n",
    "print(\"Shape of b\", b.shape, b)\n",
    "#we will use b.T\n",
    "x = A_plus @ b.T\n",
    "print('\\nLeast-squares solution x:')\n",
    "print(x)"
   ]
  },
  {
   "cell_type": "code",
   "execution_count": 346,
   "metadata": {},
   "outputs": [
    {
     "name": "stdout",
     "output_type": "stream",
     "text": [
      "\n",
      "Error of the least-squares solution: ||b-A*x|| = 23.832750575625976\n"
     ]
    }
   ],
   "source": [
    "# Error of solution ||b-A*x||\n",
    "eps = np.linalg.norm(b-A@x)\n",
    "print('\\nError of the least-squares solution: ||b-A*x|| =', eps)"
   ]
  },
  {
   "cell_type": "markdown",
   "metadata": {},
   "source": [
    "#### Or compute directly the pseudo inverse (here: the so called Moore–Penrose pseudoinverse)"
   ]
  },
  {
   "cell_type": "code",
   "execution_count": 347,
   "metadata": {},
   "outputs": [
    {
     "name": "stdout",
     "output_type": "stream",
     "text": [
      "Moore–Penrose pseudoinverse by NumPy:\n",
      "[[ 0.0171  0.0417 -0.0246  0.1347  0.0322]\n",
      " [ 0.0065  0.0307 -0.0241  0.0809  0.0417]\n",
      " [-0.004   0.0196 -0.0236  0.0271  0.0513]\n",
      " [ 0.0146 -0.0085  0.0231  0.0266 -0.0608]]\n"
     ]
    }
   ],
   "source": [
    "print('Moore–Penrose pseudoinverse by NumPy:')\n",
    "print(np.linalg.pinv(A))"
   ]
  },
  {
   "cell_type": "code",
   "execution_count": 348,
   "metadata": {},
   "outputs": [
    {
     "name": "stdout",
     "output_type": "stream",
     "text": [
      "Least-squares solution by NumPy:\n",
      "[[ 0.5]\n",
      " [ 0.5]\n",
      " [ 0.5]\n",
      " [-0.5]]\n"
     ]
    }
   ],
   "source": [
    "print('Least-squares solution by NumPy:')\n",
    "print(np.linalg.lstsq(A,b.T,rcond=-1)[0])"
   ]
  },
  {
   "cell_type": "markdown",
   "metadata": {},
   "source": [
    "### Fit a line, i.e. y = m*x + c, through some noisy data-points:"
   ]
  },
  {
   "cell_type": "code",
   "execution_count": 353,
   "metadata": {
    "collapsed": true
   },
   "outputs": [],
   "source": [
    "# The data\n",
    "x = np.array([0, 1, 2, 3, 4])\n",
    "y = np.array([-1, 0.2, 0.9, 2.1,4.3])"
   ]
  },
  {
   "cell_type": "code",
   "execution_count": 354,
   "metadata": {},
   "outputs": [
    {
     "name": "stdout",
     "output_type": "stream",
     "text": [
      "[[0. 1.]\n",
      " [1. 1.]\n",
      " [2. 1.]\n",
      " [3. 1.]\n",
      " [4. 1.]]\n"
     ]
    }
   ],
   "source": [
    "## The matrix A\n",
    "A = np.vstack([x, np.ones(len(x))]).T\n",
    "print(A)"
   ]
  },
  {
   "cell_type": "code",
   "execution_count": 355,
   "metadata": {},
   "outputs": [
    {
     "name": "stdout",
     "output_type": "stream",
     "text": [
      "m=  1.2500000000000002\n",
      "c=  -1.200000000000001\n"
     ]
    }
   ],
   "source": [
    "m, c = np.linalg.lstsq(A, y, rcond=None)[0]\n",
    "print(\"m= \",m)\n",
    "print(\"c= \",c)\n"
   ]
  },
  {
   "cell_type": "code",
   "execution_count": 356,
   "metadata": {},
   "outputs": [
    {
     "data": {
      "image/png": "[encoded data removed]",
      "text/plain": [
       "<Figure size 432x288 with 1 Axes>"
      ]
     },
     "metadata": {},
     "output_type": "display_data"
    }
   ],
   "source": [
    "import matplotlib.pyplot as plt\n",
    "plt.plot(x, y, 'o', label='Original data', markersize=10)\n",
    "plt.plot(x, m*x + c, 'r', label=\" \"\"Best\"\" Fitted line\")\n",
    "plt.legend()\n",
    "plt.show()"
   ]
  },
  {
   "cell_type": "markdown",
   "metadata": {},
   "source": [
    "## Low rank  approximations of a matrix"
   ]
  },
  {
   "cell_type": "code",
   "execution_count": 357,
   "metadata": {},
   "outputs": [
    {
     "data": {
      "text/latex": [
       "$$A= U . S . V^T $$  (eq 2)"
      ],
      "text/plain": [
       "<IPython.core.display.Latex object>"
      ]
     },
     "metadata": {},
     "output_type": "display_data"
    }
   ],
   "source": [
    "%%latex\n",
    "$$A= U . S . V^T $$  (eq 2)"
   ]
  },
  {
   "cell_type": "markdown",
   "metadata": {},
   "source": [
    "##### Let r be the rank of A, it emans that we have only r nonzero singular values, we can rewrite (eq 2) : "
   ]
  },
  {
   "cell_type": "code",
   "execution_count": 364,
   "metadata": {},
   "outputs": [
    {
     "data": {
      "text/latex": [
       "$$ A= \\sum_{i=1}^{r}  s_i * u_i . v_i^T $$"
      ],
      "text/plain": [
       "<IPython.core.display.Latex object>"
      ]
     },
     "metadata": {},
     "output_type": "display_data"
    }
   ],
   "source": [
    "%%latex\n",
    "$$ A= \\sum_{i=1}^{r}  s_i * u_i . v_i^T $$"
   ]
  },
  {
   "cell_type": "code",
   "execution_count": 362,
   "metadata": {},
   "outputs": [
    {
     "data": {
      "text/latex": [
       "$$  u_i . v_i^T $$ is a MATRIX !\n",
       "$$ s_i * u_i . v_i^T $$ is also a MATRIX !"
      ],
      "text/plain": [
       "<IPython.core.display.Latex object>"
      ]
     },
     "metadata": {},
     "output_type": "display_data"
    }
   ],
   "source": [
    "%%latex \n",
    "$$  u_i . v_i^T $$ is a MATRIX !\n",
    "$$ s_i * u_i . v_i^T $$ is also a MATRIX !"
   ]
  },
  {
   "cell_type": "markdown",
   "metadata": {},
   "source": [
    "#### So if we cut  at \"rank k, with k< r,\n",
    "#### i.e.: we suppress/forget the smallest r-k singular  values\n",
    "#### we have the rank k approximation of A defined by the \"truncated\" sum:"
   ]
  },
  {
   "cell_type": "code",
   "execution_count": 363,
   "metadata": {},
   "outputs": [
    {
     "data": {
      "text/latex": [
       "$$ A_k= \\sum_{i=1}^{k}  s_i u_i . v_i^T $$"
      ],
      "text/plain": [
       "<IPython.core.display.Latex object>"
      ]
     },
     "metadata": {},
     "output_type": "display_data"
    }
   ],
   "source": [
    " %%latex\n",
    "$$ A_k= \\sum_{i=1}^{k}  s_i u_i . v_i^T $$"
   ]
  },
  {
   "cell_type": "markdown",
   "metadata": {},
   "source": [
    "####   See the file SVD_For_Image_Compression.ipynb for an example: compression of an image ..."
   ]
  },
  {
   "cell_type": "markdown",
   "metadata": {},
   "source": [
    "## And to finish, a  example  of PCA= Principal Component Analysis"
   ]
  },
  {
   "cell_type": "code",
   "execution_count": 279,
   "metadata": {
    "collapsed": true
   },
   "outputs": [],
   "source": [
    "## See the documentation \n",
    "## https://scikit-learn.org/stable/auto_examples/datasets/plot_iris_dataset.html#sphx-glr-auto-examples-datasets-plot-iris-dataset-py"
   ]
  },
  {
   "cell_type": "code",
   "execution_count": 280,
   "metadata": {
    "collapsed": true
   },
   "outputs": [],
   "source": [
    "## Se also a very interesting example:\n",
    "## https://jakevdp.github.io/PythonDataScienceHandbook/05.09-principal-component-analysis.html"
   ]
  },
  {
   "cell_type": "code",
   "execution_count": null,
   "metadata": {
    "collapsed": true
   },
   "outputs": [],
   "source": []
  }
 ],
 "metadata": {
  "kernelspec": {
   "display_name": "Python 3 (ipykernel)",
   "language": "python",
   "name": "python3"
  },
  "language_info": {
   "codemirror_mode": {
    "name": "ipython",
    "version": 3
   },
   "file_extension": ".py",
   "mimetype": "text/x-python",
   "name": "python",
   "nbconvert_exporter": "python",
   "pygments_lexer": "ipython3",
   "version": "3.9.7"
  }
 },
 "nbformat": 4,
 "nbformat_minor": 2
}
