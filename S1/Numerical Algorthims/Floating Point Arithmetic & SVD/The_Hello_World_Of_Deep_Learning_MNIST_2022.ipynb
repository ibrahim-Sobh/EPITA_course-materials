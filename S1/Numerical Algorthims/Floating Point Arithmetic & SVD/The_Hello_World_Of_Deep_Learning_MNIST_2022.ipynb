{
 "cells": [
  {
   "cell_type": "markdown",
   "metadata": {},
   "source": [
    "# How to use  numerical  optimisation algorithms: Some examples\n",
    "## R. Erra\n",
    "## MSc AIS EPITA"
   ]
  },
  {
   "cell_type": "code",
   "execution_count": 1,
   "metadata": {},
   "outputs": [
    {
     "ename": "ModuleNotFoundError",
     "evalue": "No module named 'sklearn'",
     "output_type": "error",
     "traceback": [
      "\u001b[0;31m---------------------------------------------------------------------------\u001b[0m",
      "\u001b[0;31mModuleNotFoundError\u001b[0m                       Traceback (most recent call last)",
      "\u001b[0;32m/var/folders/kq/4phtjsxn40794zp8lvjfsccw0000gn/T/ipykernel_3906/2139597519.py\u001b[0m in \u001b[0;36m<module>\u001b[0;34m\u001b[0m\n\u001b[0;32m----> 1\u001b[0;31m \u001b[0;32mfrom\u001b[0m \u001b[0msklearn\u001b[0m\u001b[0;34m.\u001b[0m\u001b[0mdatasets\u001b[0m \u001b[0;32mimport\u001b[0m \u001b[0mload_digits\u001b[0m\u001b[0;34m\u001b[0m\u001b[0;34m\u001b[0m\u001b[0m\n\u001b[0m",
      "\u001b[0;31mModuleNotFoundError\u001b[0m: No module named 'sklearn'"
     ]
    }
   ],
   "source": [
    "from sklearn.datasets import load_digits"
   ]
  },
  {
   "cell_type": "code",
   "execution_count": 2,
   "metadata": {},
   "outputs": [],
   "source": [
    "import numpy as np"
   ]
  },
  {
   "cell_type": "markdown",
   "metadata": {},
   "source": [
    "## We load the data"
   ]
  },
  {
   "cell_type": "code",
   "execution_count": 3,
   "metadata": {},
   "outputs": [],
   "source": [
    "digits=load_digits()"
   ]
  },
  {
   "cell_type": "code",
   "execution_count": 4,
   "metadata": {},
   "outputs": [
    {
     "data": {
      "text/plain": [
       "array([[ 0.,  0.,  5., 13.,  9.,  1.,  0.,  0.],\n",
       "       [ 0.,  0., 13., 15., 10., 15.,  5.,  0.],\n",
       "       [ 0.,  3., 15.,  2.,  0., 11.,  8.,  0.],\n",
       "       [ 0.,  4., 12.,  0.,  0.,  8.,  8.,  0.],\n",
       "       [ 0.,  5.,  8.,  0.,  0.,  9.,  8.,  0.],\n",
       "       [ 0.,  4., 11.,  0.,  1., 12.,  7.,  0.],\n",
       "       [ 0.,  2., 14.,  5., 10., 12.,  0.,  0.],\n",
       "       [ 0.,  0.,  6., 13., 10.,  0.,  0.,  0.]])"
      ]
     },
     "execution_count": 4,
     "metadata": {},
     "output_type": "execute_result"
    }
   ],
   "source": [
    "digits.data[0]\n",
    "digits.images[0]\n",
    "# We reshape to save time !  This is a \"toy\" example                          \n",
    "digits.data[0].reshape(8,8)"
   ]
  },
  {
   "cell_type": "code",
   "execution_count": 5,
   "metadata": {},
   "outputs": [
    {
     "name": "stdout",
     "output_type": "stream",
     "text": [
      " Target / Label 0\n",
      "[ 0.  0.  5. 13.  9.  1.  0.  0.  0.  0. 13. 15. 10. 15.  5.  0.  0.  3.\n",
      " 15.  2.  0. 11.  8.  0.  0.  4. 12.  0.  0.  8.  8.  0.  0.  5.  8.  0.\n",
      "  0.  9.  8.  0.  0.  4. 11.  0.  1. 12.  7.  0.  0.  2. 14.  5. 10. 12.\n",
      "  0.  0.  0.  0.  6. 13. 10.  0.  0.  0.]\n",
      "[[ 0.  0.  5. 13.  9.  1.  0.  0.]\n",
      " [ 0.  0. 13. 15. 10. 15.  5.  0.]\n",
      " [ 0.  3. 15.  2.  0. 11.  8.  0.]\n",
      " [ 0.  4. 12.  0.  0.  8.  8.  0.]\n",
      " [ 0.  5.  8.  0.  0.  9.  8.  0.]\n",
      " [ 0.  4. 11.  0.  1. 12.  7.  0.]\n",
      " [ 0.  2. 14.  5. 10. 12.  0.  0.]\n",
      " [ 0.  0.  6. 13. 10.  0.  0.  0.]]\n"
     ]
    }
   ],
   "source": [
    "img=0\n",
    "print(\" Target / Label\", digits.target[img])\n",
    "print(digits.data[img])\n",
    "print(digits.images[img])"
   ]
  },
  {
   "cell_type": "code",
   "execution_count": 6,
   "metadata": {},
   "outputs": [
    {
     "name": "stdout",
     "output_type": "stream",
     "text": [
      " Target / Label 9\n",
      "[ 0.  0. 11. 12.  0.  0.  0.  0.  0.  2. 16. 16. 16. 13.  0.  0.  0.  3.\n",
      " 16. 12. 10. 14.  0.  0.  0.  1. 16.  1. 12. 15.  0.  0.  0.  0. 13. 16.\n",
      "  9. 15.  2.  0.  0.  0.  0.  3.  0.  9. 11.  0.  0.  0.  0.  0.  9. 15.\n",
      "  4.  0.  0.  0.  9. 12. 13.  3.  0.  0.]\n",
      "[[ 0.  0. 11. 12.  0.  0.  0.  0.]\n",
      " [ 0.  2. 16. 16. 16. 13.  0.  0.]\n",
      " [ 0.  3. 16. 12. 10. 14.  0.  0.]\n",
      " [ 0.  1. 16.  1. 12. 15.  0.  0.]\n",
      " [ 0.  0. 13. 16.  9. 15.  2.  0.]\n",
      " [ 0.  0.  0.  3.  0.  9. 11.  0.]\n",
      " [ 0.  0.  0.  0.  9. 15.  4.  0.]\n",
      " [ 0.  0.  9. 12. 13.  3.  0.  0.]]\n"
     ]
    }
   ],
   "source": [
    "img=9\n",
    "print(\" Target / Label\", digits.target[img])\n",
    "print(digits.data[img])\n",
    "print(digits.images[img])"
   ]
  },
  {
   "cell_type": "code",
   "execution_count": 7,
   "metadata": {},
   "outputs": [
    {
     "data": {
      "text/plain": [
       "<Figure size 432x288 with 0 Axes>"
      ]
     },
     "metadata": {},
     "output_type": "display_data"
    },
    {
     "data": {
      "image/png": "[encoded data removed]",
      "text/plain": [
       "<Figure size 288x288 with 1 Axes>"
      ]
     },
     "metadata": {
      "needs_background": "light"
     },
     "output_type": "display_data"
    },
    {
     "name": "stdout",
     "output_type": "stream",
     "text": [
      "178\n"
     ]
    }
   ],
   "source": [
    "#you can see the pictures using this piece of code: \n",
    "from matplotlib import pyplot as plt\n",
    "plt.gray()\n",
    "plt.matshow(digits.images[0])\n",
    "plt.show()\n",
    "#to count the number of examples of a particular class, you can use:\n",
    "Y=digits.target\n",
    "print(len(Y[Y==0]))"
   ]
  },
  {
   "cell_type": "markdown",
   "metadata": {},
   "source": [
    "## Our First MLPClassifier"
   ]
  },
  {
   "cell_type": "code",
   "execution_count": 12,
   "metadata": {},
   "outputs": [],
   "source": [
    "from sklearn.neural_network import MLPClassifier"
   ]
  },
  {
   "cell_type": "markdown",
   "metadata": {},
   "source": [
    "# Help : don't evaluate  this cell\n",
    "# Read https://scikit-learn.org/stable/modules/generated/sklearn.neural_network.MLPClassifier.html \n",
    "\n",
    "class sklearn.neural_network.MLPClassifier(\n",
    "\n",
    "        hidden_layer_sizes=(100, ), \n",
    "        activation='relu', \n",
    "        # Activation function\n",
    "        solver='adam',  \n",
    "        # solver{‘lbfgs’, ‘sgd’, ‘adam’}, default=’adam’\n",
    "        alpha=0.0001,   \n",
    "        # L2 penalty (regularization term) parameter.\n",
    "        batch_size='auto', \n",
    "        # Size of minibatches for stochastic optimizers. \n",
    "                  # If the solver is ‘lbfgs’, \n",
    "                  # the classifier will not use minibatch. \n",
    "                  # When set to “auto”, batch_size=min(200, n_samples)\n",
    "        learning_rate='constant', \n",
    "        learning_rate_init=0.001, \n",
    "        power_t=0.5, \n",
    "        max_iter=200, \n",
    "        shuffle=True, \n",
    "        random_state=None, \n",
    "        tol=0.0001, \n",
    "        ## It is about the  stopping criterium\n",
    "        verbose=False, \n",
    "        warm_start=False, \n",
    "        # ?? \n",
    "        momentum=0.9, # Momentum for gradient descent update. \n",
    "                      # Should be between 0 and 1. \n",
    "                      # Only used when solver=’sgd’.\n",
    "        nesterovs_momentum=True, \n",
    "        early_stopping=False, \n",
    "        validation_fraction=0.1, \n",
    "        beta_1=0.9, \n",
    "        beta_2=0.999, \n",
    "        epsilon=1e-08, \n",
    "        n_iter_no_change=10, \n",
    "        max_fun=15000)"
   ]
  },
  {
   "cell_type": "code",
   "execution_count": 15,
   "metadata": {},
   "outputs": [
    {
     "name": "stdout",
     "output_type": "stream",
     "text": [
      "[ 0.  0.  5. 13.  9.  1.  0.  0.  0.  0. 13. 15. 10. 15.  5.  0.  0.  3.\n",
      " 15.  2.  0. 11.  8.  0.  0.  4. 12.  0.  0.  8.  8.  0.  0.  5.  8.  0.\n",
      "  0.  9.  8.  0.  0.  4. 11.  0.  1. 12.  7.  0.  0.  2. 14.  5. 10. 12.\n",
      "  0.  0.  0.  0.  6. 13. 10.  0.  0.  0.]\n"
     ]
    }
   ],
   "source": [
    "from sklearn.neural_network import MLPClassifier\n",
    "X = digits.data\n",
    "print(X[0])"
   ]
  },
  {
   "cell_type": "markdown",
   "metadata": {},
   "source": [
    "# Neural network architectures\n",
    "\n",
    "For fully connected neural networks, there are three essential questions that define the network’s architecture:\n",
    "\n",
    "    How many layers are there?\n",
    "    How many nodes are there in each of those layers?\n",
    "    Input and Ouput layers are \"mandatory\"\n",
    "    What transfer/activation function is used at each of those layers?\n",
    "    \n",
    "    Now, let's play. "
   ]
  },
  {
   "cell_type": "code",
   "execution_count": 16,
   "metadata": {},
   "outputs": [
    {
     "name": "stdout",
     "output_type": "stream",
     "text": [
      "Wall time: 733 ms\n"
     ]
    },
    {
     "name": "stderr",
     "output_type": "stream",
     "text": [
      "C:\\Users\\robert erra\\Anaconda3\\lib\\site-packages\\sklearn\\neural_network\\_multilayer_perceptron.py:582: ConvergenceWarning: Stochastic Optimizer: Maximum iterations (40) reached and the optimization hasn't converged yet.\n",
      "  warnings.warn(\n"
     ]
    },
    {
     "data": {
      "text/plain": [
       "MLPClassifier(alpha=1e-06, hidden_layer_sizes=(32, 16), max_iter=40,\n",
       "              random_state=1, solver='sgd')"
      ]
     },
     "execution_count": 16,
     "metadata": {},
     "output_type": "execute_result"
    }
   ],
   "source": [
    "%%time\n",
    "maxiter=40\n",
    "clf = MLPClassifier(solver='sgd', \n",
    "                    alpha=1e-6, \n",
    "                    max_iter=maxiter, \n",
    "                    hidden_layer_sizes=(32,16),#A matrix of size (32,16) \n",
    "                    random_state=1)\n",
    "clf.fit(X, Y)  # computation the Neural Network"
   ]
  },
  {
   "cell_type": "code",
   "execution_count": 17,
   "metadata": {},
   "outputs": [
    {
     "name": "stdout",
     "output_type": "stream",
     "text": [
      " Size of the different matrices \n",
      "327680\n"
     ]
    }
   ],
   "source": [
    "print(\" Size of the different matrices \")\n",
    "[coef.shape for coef in clf.coefs_]\n",
    "print(64*32*16*10)"
   ]
  },
  {
   "cell_type": "code",
   "execution_count": 18,
   "metadata": {},
   "outputs": [
    {
     "name": "stdout",
     "output_type": "stream",
     "text": [
      "Wall time: 10.5 s\n"
     ]
    },
    {
     "data": {
      "text/plain": [
       "MLPClassifier(hidden_layer_sizes=(32, 16), max_iter=1000, random_state=1,\n",
       "              solver='sgd')"
      ]
     },
     "execution_count": 18,
     "metadata": {},
     "output_type": "execute_result"
    }
   ],
   "source": [
    "%%time\n",
    "maxiter=1000\n",
    "clf = MLPClassifier(solver='sgd', \n",
    "                    alpha=1e-4, \n",
    "                    max_iter=maxiter, \n",
    "                    hidden_layer_sizes=(32,16),\n",
    "                    random_state=1)\n",
    "clf.fit(X, Y)"
   ]
  },
  {
   "cell_type": "code",
   "execution_count": 19,
   "metadata": {},
   "outputs": [
    {
     "name": "stdout",
     "output_type": "stream",
     "text": [
      " Size of the different matrices \n"
     ]
    },
    {
     "data": {
      "text/plain": [
       "[(64, 32), (32, 16), (16, 10)]"
      ]
     },
     "execution_count": 19,
     "metadata": {},
     "output_type": "execute_result"
    }
   ],
   "source": [
    "# hidden_layer_sizes=(32,16),\n",
    "#Input: 64\n",
    "#Output: 10\n",
    "print(\" Size of the different matrices \")\n",
    "[coef.shape for coef in clf.coefs_]"
   ]
  },
  {
   "cell_type": "code",
   "execution_count": 20,
   "metadata": {},
   "outputs": [
    {
     "name": "stdout",
     "output_type": "stream",
     "text": [
      "Wall time: 9.9 s\n"
     ]
    },
    {
     "data": {
      "text/plain": [
       "MLPClassifier(alpha=1e-05, hidden_layer_sizes=(32, 10), max_iter=800,\n",
       "              random_state=1, solver='sgd')"
      ]
     },
     "execution_count": 20,
     "metadata": {},
     "output_type": "execute_result"
    }
   ],
   "source": [
    "%%time\n",
    "clf = MLPClassifier(solver='sgd', \n",
    "                    alpha=1e-5, \n",
    "                    max_iter=800, \n",
    "                    hidden_layer_sizes=(32,10),\n",
    "                    random_state=1,\n",
    "                    verbose=False )\n",
    "clf.fit(X, Y)"
   ]
  },
  {
   "cell_type": "code",
   "execution_count": 21,
   "metadata": {},
   "outputs": [
    {
     "name": "stdout",
     "output_type": "stream",
     "text": [
      "Wall time: 1.85 s\n"
     ]
    },
    {
     "name": "stderr",
     "output_type": "stream",
     "text": [
      "C:\\Users\\robert erra\\Anaconda3\\lib\\site-packages\\sklearn\\neural_network\\_multilayer_perceptron.py:582: ConvergenceWarning: Stochastic Optimizer: Maximum iterations (100) reached and the optimization hasn't converged yet.\n",
      "  warnings.warn(\n"
     ]
    },
    {
     "data": {
      "text/plain": [
       "MLPClassifier(alpha=1e-05, hidden_layer_sizes=(32, 16), max_iter=100,\n",
       "              random_state=1, solver='sgd')"
      ]
     },
     "execution_count": 21,
     "metadata": {},
     "output_type": "execute_result"
    }
   ],
   "source": [
    "%%time\n",
    "maxiter=100\n",
    "clf = MLPClassifier(solver='sgd', alpha=1e-5, max_iter=maxiter, hidden_layer_sizes=(32,16),random_state=1)\n",
    "clf.fit(X, Y)"
   ]
  },
  {
   "cell_type": "code",
   "execution_count": 22,
   "metadata": {},
   "outputs": [
    {
     "name": "stdout",
     "output_type": "stream",
     "text": [
      "Wall time: 3.68 s\n"
     ]
    },
    {
     "name": "stderr",
     "output_type": "stream",
     "text": [
      "C:\\Users\\robert erra\\Anaconda3\\lib\\site-packages\\sklearn\\neural_network\\_multilayer_perceptron.py:582: ConvergenceWarning: Stochastic Optimizer: Maximum iterations (200) reached and the optimization hasn't converged yet.\n",
      "  warnings.warn(\n"
     ]
    },
    {
     "data": {
      "text/plain": [
       "MLPClassifier(alpha=1e-05, hidden_layer_sizes=(32, 16), random_state=1,\n",
       "              solver='sgd')"
      ]
     },
     "execution_count": 22,
     "metadata": {},
     "output_type": "execute_result"
    }
   ],
   "source": [
    "%%time\n",
    "maxiter=200\n",
    "clf = MLPClassifier(solver='sgd', alpha=1e-5, max_iter=maxiter, hidden_layer_sizes=(32,16),random_state=1)\n",
    "clf.fit(X, Y)"
   ]
  },
  {
   "cell_type": "code",
   "execution_count": 23,
   "metadata": {},
   "outputs": [
    {
     "data": {
      "text/plain": [
       "[(64, 32), (32, 16), (16, 10)]"
      ]
     },
     "execution_count": 23,
     "metadata": {},
     "output_type": "execute_result"
    }
   ],
   "source": [
    "[coef.shape for coef in clf.coefs_]"
   ]
  },
  {
   "cell_type": "code",
   "execution_count": 24,
   "metadata": {},
   "outputs": [
    {
     "name": "stdout",
     "output_type": "stream",
     "text": [
      "Wall time: 7.97 s\n"
     ]
    },
    {
     "name": "stderr",
     "output_type": "stream",
     "text": [
      "C:\\Users\\robert erra\\Anaconda3\\lib\\site-packages\\sklearn\\neural_network\\_multilayer_perceptron.py:582: ConvergenceWarning: Stochastic Optimizer: Maximum iterations (400) reached and the optimization hasn't converged yet.\n",
      "  warnings.warn(\n"
     ]
    },
    {
     "data": {
      "text/plain": [
       "MLPClassifier(alpha=1e-05, hidden_layer_sizes=(32, 16), max_iter=400,\n",
       "              random_state=1, solver='sgd')"
      ]
     },
     "execution_count": 24,
     "metadata": {},
     "output_type": "execute_result"
    }
   ],
   "source": [
    "%%time\n",
    "maxiter=400\n",
    "clf = MLPClassifier(solver='sgd', alpha=1e-5, max_iter=maxiter, hidden_layer_sizes=(32,16),random_state=1)\n",
    "clf.fit(X, Y)"
   ]
  },
  {
   "cell_type": "code",
   "execution_count": 25,
   "metadata": {},
   "outputs": [
    {
     "name": "stdout",
     "output_type": "stream",
     "text": [
      "Wall time: 13.4 s\n"
     ]
    },
    {
     "data": {
      "text/plain": [
       "MLPClassifier(alpha=1e-05, hidden_layer_sizes=(32, 16, 8, 8, 16, 32),\n",
       "              max_iter=8000, random_state=1, solver='sgd')"
      ]
     },
     "execution_count": 25,
     "metadata": {},
     "output_type": "execute_result"
    }
   ],
   "source": [
    "%%time\n",
    "clf = MLPClassifier(solver='sgd', alpha=1e-5, max_iter=8000, hidden_layer_sizes=(32,16,8, 8,16,32),random_state=1)\n",
    "clf.fit(X, Y)"
   ]
  },
  {
   "cell_type": "code",
   "execution_count": 26,
   "metadata": {},
   "outputs": [
    {
     "name": "stdout",
     "output_type": "stream",
     "text": [
      "Wall time: 13.9 s\n"
     ]
    },
    {
     "data": {
      "text/plain": [
       "MLPClassifier(alpha=1e-05, hidden_layer_sizes=(32, 16, 8, 8, 16, 32),\n",
       "              max_iter=5000, random_state=1, solver='sgd')"
      ]
     },
     "execution_count": 26,
     "metadata": {},
     "output_type": "execute_result"
    }
   ],
   "source": [
    "%%time\n",
    "clf = MLPClassifier(solver='sgd', alpha=1e-5, max_iter=5000, hidden_layer_sizes=(32,16,8, 8,16,32),random_state=1)\n",
    "clf.fit(X, Y)"
   ]
  },
  {
   "cell_type": "code",
   "execution_count": 27,
   "metadata": {},
   "outputs": [
    {
     "name": "stdout",
     "output_type": "stream",
     "text": [
      "Wall time: 13.4 s\n"
     ]
    },
    {
     "name": "stderr",
     "output_type": "stream",
     "text": [
      "C:\\Users\\robert erra\\Anaconda3\\lib\\site-packages\\sklearn\\neural_network\\_multilayer_perceptron.py:582: ConvergenceWarning: Stochastic Optimizer: Maximum iterations (1000) reached and the optimization hasn't converged yet.\n",
      "  warnings.warn(\n"
     ]
    },
    {
     "data": {
      "text/plain": [
       "MLPClassifier(alpha=1e-05, hidden_layer_sizes=(10, 5), max_iter=1000,\n",
       "              random_state=1, solver='sgd')"
      ]
     },
     "execution_count": 27,
     "metadata": {},
     "output_type": "execute_result"
    }
   ],
   "source": [
    "%%time\n",
    "clf = MLPClassifier(solver='sgd', max_iter=1000, alpha=1e-5, hidden_layer_sizes=(10, 5),random_state=1)\n",
    "clf.fit(X, Y)"
   ]
  },
  {
   "cell_type": "code",
   "execution_count": 28,
   "metadata": {},
   "outputs": [
    {
     "name": "stdout",
     "output_type": "stream",
     "text": [
      "Wall time: 1.72 s\n"
     ]
    },
    {
     "data": {
      "text/plain": [
       "MLPClassifier(alpha=1e-05, hidden_layer_sizes=(32, 16), random_state=1,\n",
       "              solver='lbfgs', verbose=True)"
      ]
     },
     "execution_count": 28,
     "metadata": {},
     "output_type": "execute_result"
    }
   ],
   "source": [
    "%%time\n",
    "clf = MLPClassifier(solver='lbfgs', \n",
    "                    alpha=1e-5,\n",
    "                    max_iter=200, \n",
    "                    hidden_layer_sizes=(32, 16),\n",
    "                    random_state=1,\n",
    "                    verbose=True)\n",
    "clf.fit(X, Y)"
   ]
  },
  {
   "cell_type": "code",
   "execution_count": 29,
   "metadata": {},
   "outputs": [
    {
     "name": "stdout",
     "output_type": "stream",
     "text": [
      "Iteration 1, loss = 7.66475426\n",
      "Iteration 2, loss = 4.24659484\n",
      "Iteration 3, loss = 2.86775524\n",
      "Iteration 4, loss = 2.39755771\n",
      "Iteration 5, loss = 2.27395120\n",
      "Iteration 6, loss = 2.20785478\n",
      "Iteration 7, loss = 2.15063233\n",
      "Iteration 8, loss = 2.08566234\n",
      "Iteration 9, loss = 1.99291067\n",
      "Iteration 10, loss = 1.86059839\n",
      "Iteration 11, loss = 1.71491226\n",
      "Iteration 12, loss = 1.57417038\n",
      "Iteration 13, loss = 1.43874424\n",
      "Iteration 14, loss = 1.30395813\n",
      "Iteration 15, loss = 1.17422578\n",
      "Iteration 16, loss = 1.05597388\n",
      "Iteration 17, loss = 0.93655657\n",
      "Iteration 18, loss = 0.81658908\n",
      "Iteration 19, loss = 0.69897265\n",
      "Iteration 20, loss = 0.58958359\n",
      "Iteration 21, loss = 0.50609106\n",
      "Iteration 22, loss = 0.44517447\n",
      "Iteration 23, loss = 0.39793492\n",
      "Iteration 24, loss = 0.35921104\n",
      "Iteration 25, loss = 0.32875799\n",
      "Iteration 26, loss = 0.30447640\n",
      "Iteration 27, loss = 0.28613412\n",
      "Iteration 28, loss = 0.26583703\n",
      "Iteration 29, loss = 0.24781356\n",
      "Iteration 30, loss = 0.22936124\n",
      "Iteration 31, loss = 0.21466197\n",
      "Iteration 32, loss = 0.20098302\n",
      "Iteration 33, loss = 0.18702610\n",
      "Iteration 34, loss = 0.17711587\n",
      "Iteration 35, loss = 0.16570232\n",
      "Iteration 36, loss = 0.15864432\n",
      "Iteration 37, loss = 0.14983039\n",
      "Iteration 38, loss = 0.14051636\n",
      "Iteration 39, loss = 0.13482520\n",
      "Iteration 40, loss = 0.12711351\n",
      "Iteration 41, loss = 0.12278880\n",
      "Iteration 42, loss = 0.11553640\n",
      "Iteration 43, loss = 0.11019675\n",
      "Iteration 44, loss = 0.10676429\n",
      "Iteration 45, loss = 0.10251238\n",
      "Iteration 46, loss = 0.09643917\n",
      "Iteration 47, loss = 0.09317949\n",
      "Iteration 48, loss = 0.08913343\n",
      "Iteration 49, loss = 0.08566553\n",
      "Iteration 50, loss = 0.08382073\n",
      "Iteration 51, loss = 0.07811165\n",
      "Iteration 52, loss = 0.07535952\n",
      "Iteration 53, loss = 0.07285227\n",
      "Iteration 54, loss = 0.07119954\n",
      "Iteration 55, loss = 0.06809199\n",
      "Iteration 56, loss = 0.06498734\n",
      "Iteration 57, loss = 0.06282684\n",
      "Iteration 58, loss = 0.06047612\n",
      "Iteration 59, loss = 0.05835466\n",
      "Iteration 60, loss = 0.05566712\n",
      "Iteration 61, loss = 0.05408028\n",
      "Iteration 62, loss = 0.05339857\n",
      "Iteration 63, loss = 0.05132313\n",
      "Iteration 64, loss = 0.05012451\n",
      "Iteration 65, loss = 0.04784812\n",
      "Iteration 66, loss = 0.04558855\n",
      "Iteration 67, loss = 0.04449797\n",
      "Iteration 68, loss = 0.04334297\n",
      "Iteration 69, loss = 0.04185654\n",
      "Iteration 70, loss = 0.04036766\n",
      "Iteration 71, loss = 0.03933689\n",
      "Iteration 72, loss = 0.03803104\n",
      "Iteration 73, loss = 0.03715180\n",
      "Iteration 74, loss = 0.03595897\n",
      "Iteration 75, loss = 0.03463591\n",
      "Iteration 76, loss = 0.03363936\n",
      "Iteration 77, loss = 0.03249081\n",
      "Iteration 78, loss = 0.03151953\n",
      "Iteration 79, loss = 0.03065820\n",
      "Iteration 80, loss = 0.03015730\n",
      "Iteration 81, loss = 0.02941987\n",
      "Iteration 82, loss = 0.02825053\n",
      "Iteration 83, loss = 0.02761164\n",
      "Iteration 84, loss = 0.02669105\n",
      "Iteration 85, loss = 0.02617482\n",
      "Iteration 86, loss = 0.02533775\n",
      "Iteration 87, loss = 0.02425678\n",
      "Iteration 88, loss = 0.02366918\n",
      "Iteration 89, loss = 0.02301270\n",
      "Iteration 90, loss = 0.02247431\n",
      "Iteration 91, loss = 0.02203288\n",
      "Iteration 92, loss = 0.02116928\n",
      "Iteration 93, loss = 0.02108217\n",
      "Iteration 94, loss = 0.02024523\n",
      "Iteration 95, loss = 0.01950578\n",
      "Iteration 96, loss = 0.01908018\n",
      "Iteration 97, loss = 0.01869425\n",
      "Iteration 98, loss = 0.01779862\n",
      "Iteration 99, loss = 0.01775013\n",
      "Iteration 100, loss = 0.01702932\n",
      "Iteration 101, loss = 0.01676450\n",
      "Iteration 102, loss = 0.01618409\n",
      "Iteration 103, loss = 0.01603702\n",
      "Iteration 104, loss = 0.01540973\n",
      "Iteration 105, loss = 0.01516823\n",
      "Iteration 106, loss = 0.01464676\n",
      "Iteration 107, loss = 0.01436997\n",
      "Iteration 108, loss = 0.01419945\n",
      "Iteration 109, loss = 0.01365846\n",
      "Iteration 110, loss = 0.01336441\n",
      "Iteration 111, loss = 0.01301855\n",
      "Iteration 112, loss = 0.01265941\n",
      "Iteration 113, loss = 0.01253718\n",
      "Iteration 114, loss = 0.01208129\n",
      "Iteration 115, loss = 0.01173568\n",
      "Iteration 116, loss = 0.01165459\n",
      "Iteration 117, loss = 0.01122825\n",
      "Iteration 118, loss = 0.01101203\n",
      "Iteration 119, loss = 0.01061781\n",
      "Iteration 120, loss = 0.01054517\n",
      "Iteration 121, loss = 0.01026932\n",
      "Iteration 122, loss = 0.01014714\n",
      "Iteration 123, loss = 0.00965613\n",
      "Iteration 124, loss = 0.00954599\n",
      "Iteration 125, loss = 0.00929092\n",
      "Iteration 126, loss = 0.00918594\n",
      "Iteration 127, loss = 0.00898872\n",
      "Iteration 128, loss = 0.00880724\n",
      "Iteration 129, loss = 0.00869814\n",
      "Iteration 130, loss = 0.00834663\n",
      "Iteration 131, loss = 0.00820178\n",
      "Iteration 132, loss = 0.00807219\n",
      "Iteration 133, loss = 0.00794029\n",
      "Iteration 134, loss = 0.00771663\n",
      "Iteration 135, loss = 0.00751073\n",
      "Iteration 136, loss = 0.00737397\n",
      "Iteration 137, loss = 0.00725827\n",
      "Iteration 138, loss = 0.00709020\n",
      "Iteration 139, loss = 0.00701229\n",
      "Iteration 140, loss = 0.00685988\n",
      "Iteration 141, loss = 0.00670521\n",
      "Iteration 142, loss = 0.00657975\n",
      "Iteration 143, loss = 0.00647902\n",
      "Iteration 144, loss = 0.00629062\n",
      "Iteration 145, loss = 0.00619267\n",
      "Iteration 146, loss = 0.00614108\n",
      "Iteration 147, loss = 0.00605512\n",
      "Iteration 148, loss = 0.00611787\n",
      "Iteration 149, loss = 0.00589617\n",
      "Iteration 150, loss = 0.00571806\n",
      "Iteration 151, loss = 0.00553577\n",
      "Iteration 152, loss = 0.00548074\n",
      "Iteration 153, loss = 0.00535068\n",
      "Iteration 154, loss = 0.00530358\n",
      "Iteration 155, loss = 0.00522676\n",
      "Iteration 156, loss = 0.00511896\n",
      "Iteration 157, loss = 0.00501759\n",
      "Iteration 158, loss = 0.00491065\n",
      "Iteration 159, loss = 0.00483874\n",
      "Iteration 160, loss = 0.00477991\n",
      "Iteration 161, loss = 0.00465999\n",
      "Iteration 162, loss = 0.00458504\n",
      "Iteration 163, loss = 0.00448262\n",
      "Iteration 164, loss = 0.00442102\n",
      "Iteration 165, loss = 0.00437969\n",
      "Iteration 166, loss = 0.00427425\n",
      "Iteration 167, loss = 0.00419565\n",
      "Iteration 168, loss = 0.00415561\n",
      "Iteration 169, loss = 0.00405914\n",
      "Iteration 170, loss = 0.00404841\n",
      "Iteration 171, loss = 0.00394190\n",
      "Iteration 172, loss = 0.00388719\n",
      "Iteration 173, loss = 0.00384001\n",
      "Iteration 174, loss = 0.00376158\n",
      "Iteration 175, loss = 0.00374232\n",
      "Iteration 176, loss = 0.00365715\n",
      "Iteration 177, loss = 0.00362930\n",
      "Iteration 178, loss = 0.00352391\n",
      "Iteration 179, loss = 0.00349116\n",
      "Iteration 180, loss = 0.00341862\n",
      "Iteration 181, loss = 0.00337539\n",
      "Iteration 182, loss = 0.00332265\n",
      "Iteration 183, loss = 0.00330327\n",
      "Iteration 184, loss = 0.00325427\n",
      "Iteration 185, loss = 0.00319521\n",
      "Iteration 186, loss = 0.00314555\n",
      "Iteration 187, loss = 0.00308445\n",
      "Iteration 188, loss = 0.00307709\n",
      "Iteration 189, loss = 0.00299116\n",
      "Training loss did not improve more than tol=0.000100 for 10 consecutive epochs. Stopping.\n",
      "Wall time: 4.17 s\n"
     ]
    },
    {
     "data": {
      "text/plain": [
       "MLPClassifier(alpha=1e-05, hidden_layer_sizes=(32, 16), random_state=1,\n",
       "              verbose=True)"
      ]
     },
     "execution_count": 29,
     "metadata": {},
     "output_type": "execute_result"
    }
   ],
   "source": [
    "%%time\n",
    "clf = MLPClassifier(solver='adam', \n",
    "                    max_iter=200, \n",
    "                    alpha=1e-5, \n",
    "                    hidden_layer_sizes=(32, 16),\n",
    "                    random_state=1,\n",
    "                    verbose=True)\n",
    "clf.fit(X, Y)"
   ]
  },
  {
   "cell_type": "code",
   "execution_count": null,
   "metadata": {},
   "outputs": [],
   "source": []
  },
  {
   "cell_type": "markdown",
   "metadata": {
    "collapsed": true
   },
   "source": [
    "# The full MNIST Dataset "
   ]
  },
  {
   "cell_type": "code",
   "execution_count": 30,
   "metadata": {},
   "outputs": [
    {
     "name": "stdout",
     "output_type": "stream",
     "text": [
      "Automatically created module for IPython interactive environment\n"
     ]
    }
   ],
   "source": [
    "import matplotlib.pyplot as plt\n",
    "from sklearn.datasets import fetch_openml\n",
    "from sklearn.neural_network import MLPClassifier\n",
    "\n",
    "print(__doc__)\n",
    "\n",
    "# Load data from https://www.openml.org/d/554\n",
    "Ximg, yimg = fetch_openml('mnist_784', version=1, return_X_y=True)\n",
    "Ximg = Ximg / 255. # Normalisation step: now all input data \n",
    "                   # are between  0 and 1 ([0,1])\n",
    "\n",
    "# rescale the data, use the traditional train/test split\n",
    "# X_train, X_test = X[:60000], X[60000:]\n",
    "# y_train, y_test = y[:60000], y[60000:]"
   ]
  },
  {
   "cell_type": "code",
   "execution_count": 31,
   "metadata": {},
   "outputs": [
    {
     "name": "stdout",
     "output_type": "stream",
     "text": [
      "Iteration 1, loss = 2.19829018\n",
      "Iteration 2, loss = 1.57157998\n",
      "Iteration 3, loss = 0.93240301\n",
      "Iteration 4, loss = 0.61401704\n",
      "Iteration 5, loss = 0.46006394\n",
      "Iteration 6, loss = 0.37782671\n",
      "Iteration 7, loss = 0.32187857\n",
      "Iteration 8, loss = 0.26448129\n",
      "Iteration 9, loss = 0.22052024\n",
      "Iteration 10, loss = 0.18487928\n",
      "Iteration 11, loss = 0.14747825\n",
      "Iteration 12, loss = 0.11970676\n",
      "Iteration 13, loss = 0.10092984\n",
      "Iteration 14, loss = 0.08534803\n",
      "Iteration 15, loss = 0.06986844\n",
      "Iteration 16, loss = 0.05788276\n",
      "Iteration 17, loss = 0.05222885\n",
      "Iteration 18, loss = 0.04597224\n",
      "Iteration 19, loss = 0.03997837\n",
      "Iteration 20, loss = 0.03579606\n",
      "Iteration 21, loss = 0.03220712\n",
      "Iteration 22, loss = 0.02925875\n",
      "Iteration 23, loss = 0.02685601\n",
      "Iteration 24, loss = 0.02452019\n",
      "Iteration 25, loss = 0.02309348\n",
      "Iteration 26, loss = 0.02116248\n",
      "Iteration 27, loss = 0.01999929\n",
      "Iteration 28, loss = 0.01863998\n",
      "Iteration 29, loss = 0.01752735\n",
      "Iteration 30, loss = 0.01657876\n",
      "Iteration 31, loss = 0.01567594\n",
      "Iteration 32, loss = 0.01495861\n",
      "Iteration 33, loss = 0.01424575\n",
      "Iteration 34, loss = 0.01355212\n",
      "Iteration 35, loss = 0.01307320\n",
      "Iteration 36, loss = 0.01249156\n",
      "Iteration 37, loss = 0.01201271\n",
      "Iteration 38, loss = 0.01156321\n",
      "Iteration 39, loss = 0.01112416\n",
      "Iteration 40, loss = 0.01074821\n",
      "Iteration 41, loss = 0.01042691\n",
      "Iteration 42, loss = 0.01003784\n",
      "Iteration 43, loss = 0.00972543\n",
      "Iteration 44, loss = 0.00939425\n",
      "Iteration 45, loss = 0.00911850\n",
      "Iteration 46, loss = 0.00887946\n",
      "Iteration 47, loss = 0.00864401\n",
      "Iteration 48, loss = 0.00838165\n",
      "Iteration 49, loss = 0.00813990\n",
      "Iteration 50, loss = 0.00795536\n",
      "Iteration 51, loss = 0.00772370\n",
      "Iteration 52, loss = 0.00754770\n",
      "Iteration 53, loss = 0.00734241\n",
      "Iteration 54, loss = 0.00720543\n",
      "Iteration 55, loss = 0.00705647\n",
      "Iteration 56, loss = 0.00684052\n",
      "Iteration 57, loss = 0.00667824\n",
      "Iteration 58, loss = 0.00652640\n",
      "Iteration 59, loss = 0.00639774\n",
      "Iteration 60, loss = 0.00624654\n",
      "Iteration 61, loss = 0.00612091\n",
      "Iteration 62, loss = 0.00600502\n",
      "Iteration 63, loss = 0.00587974\n",
      "Iteration 64, loss = 0.00575274\n",
      "Iteration 65, loss = 0.00565720\n",
      "Iteration 66, loss = 0.00554823\n",
      "Iteration 67, loss = 0.00543769\n",
      "Iteration 68, loss = 0.00534295\n",
      "Iteration 69, loss = 0.00524148\n",
      "Iteration 70, loss = 0.00517027\n",
      "Iteration 71, loss = 0.00506338\n",
      "Iteration 72, loss = 0.00496616\n",
      "Iteration 73, loss = 0.00488419\n",
      "Iteration 74, loss = 0.00480062\n",
      "Iteration 75, loss = 0.00471343\n",
      "Iteration 76, loss = 0.00463733\n",
      "Iteration 77, loss = 0.00457733\n",
      "Iteration 78, loss = 0.00450190\n",
      "Iteration 79, loss = 0.00442732\n",
      "Iteration 80, loss = 0.00435452\n",
      "Iteration 81, loss = 0.00430779\n",
      "Iteration 82, loss = 0.00422985\n",
      "Training loss did not improve more than tol=0.000100 for 10 consecutive epochs. Stopping.\n",
      "Training set score: 1.000000\n",
      "Test set score: 0.847161\n"
     ]
    },
    {
     "data": {
      "image/png": "[encoded data removed]",
      "text/plain": [
       "<Figure size 432x288 with 16 Axes>"
      ]
     },
     "metadata": {},
     "output_type": "display_data"
    },
    {
     "name": "stdout",
     "output_type": "stream",
     "text": [
      "Wall time: 3.5 s\n"
     ]
    }
   ],
   "source": [
    "%%time\n",
    "#  We choose the number of pictures for the Training  Phase\n",
    "#  and the \"rest\" will be used for the Test Phase\n",
    "X_train, X_test = Ximg[:600], Ximg[600:]\n",
    "y_train, y_test = yimg[:600], yimg[600:]\n",
    "\n",
    "mlp = MLPClassifier(hidden_layer_sizes=(50,), \n",
    "                    max_iter=1000, # It is a maximum \n",
    "                    alpha=1e-4,\n",
    "                    solver='sgd', \n",
    "                    verbose=10, \n",
    "                    random_state=1,\n",
    "                    learning_rate_init=.1)\n",
    "\n",
    "mlp.fit(X_train, y_train)\n",
    "print(\"Training set score: %f\" % mlp.score(X_train, y_train))\n",
    "print(\"Test set score: %f\" % mlp.score(X_test, y_test))\n",
    "\n",
    "fig, axes = plt.subplots(4, 4)\n",
    "# use global min / max to ensure all weights are shown on the same scale\n",
    "vmin, vmax = mlp.coefs_[0].min(), mlp.coefs_[0].max()\n",
    "for coef, ax in zip(mlp.coefs_[0].T, axes.ravel()):\n",
    "    ax.matshow(coef.reshape(28, 28), cmap=plt.cm.gray, vmin=.5 * vmin,\n",
    "               vmax=.5 * vmax)\n",
    "    ax.set_xticks(())\n",
    "    ax.set_yticks(())\n",
    "\n",
    "plt.show()"
   ]
  },
  {
   "cell_type": "code",
   "execution_count": 73,
   "metadata": {},
   "outputs": [
    {
     "name": "stdout",
     "output_type": "stream",
     "text": [
      "Iteration 1, loss = 2.19826290\n",
      "Iteration 2, loss = 1.57155198\n",
      "Iteration 3, loss = 0.93237349\n",
      "Iteration 4, loss = 0.61398593\n",
      "Iteration 5, loss = 0.46003114\n",
      "Iteration 6, loss = 0.37779230\n",
      "Iteration 7, loss = 0.32184259\n",
      "Iteration 8, loss = 0.26444390\n",
      "Iteration 9, loss = 0.22048146\n",
      "Iteration 10, loss = 0.18483930\n",
      "Iteration 11, loss = 0.14743717\n",
      "Iteration 12, loss = 0.11966465\n",
      "Iteration 13, loss = 0.10088676\n",
      "Iteration 14, loss = 0.08530413\n",
      "Iteration 15, loss = 0.06982381\n",
      "Iteration 16, loss = 0.05783755\n",
      "Iteration 17, loss = 0.05218298\n",
      "Iteration 18, loss = 0.04592588\n",
      "Iteration 19, loss = 0.03993162\n",
      "Iteration 20, loss = 0.03574889\n",
      "Iteration 21, loss = 0.03215959\n",
      "Iteration 22, loss = 0.02921086\n",
      "Iteration 23, loss = 0.02680779\n",
      "Iteration 24, loss = 0.02447169\n",
      "Iteration 25, loss = 0.02304464\n",
      "Iteration 26, loss = 0.02111342\n",
      "Iteration 27, loss = 0.01994996\n",
      "Iteration 28, loss = 0.01859040\n",
      "Iteration 29, loss = 0.01747756\n",
      "Iteration 30, loss = 0.01652875\n",
      "Iteration 31, loss = 0.01562566\n",
      "Iteration 32, loss = 0.01490813\n",
      "Iteration 33, loss = 0.01419507\n",
      "Iteration 34, loss = 0.01350136\n",
      "Iteration 35, loss = 0.01302232\n",
      "Iteration 36, loss = 0.01244039\n",
      "Iteration 37, loss = 0.01196143\n",
      "Iteration 38, loss = 0.01151179\n",
      "Iteration 39, loss = 0.01107254\n",
      "Iteration 40, loss = 0.01069647\n",
      "Iteration 41, loss = 0.01037499\n",
      "Iteration 42, loss = 0.00998581\n",
      "Iteration 43, loss = 0.00967318\n",
      "Iteration 44, loss = 0.00934203\n",
      "Iteration 45, loss = 0.00906631\n",
      "Iteration 46, loss = 0.00882676\n",
      "Iteration 47, loss = 0.00859110\n",
      "Iteration 48, loss = 0.00832879\n",
      "Iteration 49, loss = 0.00808703\n",
      "Iteration 50, loss = 0.00790234\n",
      "Iteration 51, loss = 0.00767078\n",
      "Iteration 52, loss = 0.00749452\n",
      "Iteration 53, loss = 0.00728891\n",
      "Iteration 54, loss = 0.00715180\n",
      "Iteration 55, loss = 0.00700285\n",
      "Iteration 56, loss = 0.00678687\n",
      "Iteration 57, loss = 0.00662447\n",
      "Iteration 58, loss = 0.00647244\n",
      "Iteration 59, loss = 0.00634356\n",
      "Iteration 60, loss = 0.00619241\n",
      "Iteration 61, loss = 0.00606674\n",
      "Iteration 62, loss = 0.00595078\n",
      "Iteration 63, loss = 0.00582543\n",
      "Iteration 64, loss = 0.00569809\n",
      "Iteration 65, loss = 0.00560273\n",
      "Iteration 66, loss = 0.00549377\n",
      "Iteration 67, loss = 0.00538293\n",
      "Iteration 68, loss = 0.00528802\n",
      "Iteration 69, loss = 0.00518666\n",
      "Iteration 70, loss = 0.00511534\n",
      "Iteration 71, loss = 0.00500831\n",
      "Iteration 72, loss = 0.00491096\n",
      "Iteration 73, loss = 0.00482901\n",
      "Iteration 74, loss = 0.00474528\n",
      "Iteration 75, loss = 0.00465801\n",
      "Iteration 76, loss = 0.00458185\n",
      "Iteration 77, loss = 0.00452187\n",
      "Iteration 78, loss = 0.00444640\n",
      "Iteration 79, loss = 0.00437172\n",
      "Iteration 80, loss = 0.00429873\n",
      "Iteration 81, loss = 0.00425177\n",
      "Iteration 82, loss = 0.00417392\n",
      "Iteration 83, loss = 0.00411555\n",
      "Iteration 84, loss = 0.00404540\n",
      "Iteration 85, loss = 0.00398932\n",
      "Iteration 86, loss = 0.00393605\n",
      "Iteration 87, loss = 0.00387663\n",
      "Iteration 88, loss = 0.00381671\n",
      "Iteration 89, loss = 0.00376939\n",
      "Iteration 90, loss = 0.00371675\n",
      "Iteration 91, loss = 0.00366653\n",
      "Iteration 92, loss = 0.00361792\n",
      "Iteration 93, loss = 0.00356926\n",
      "Iteration 94, loss = 0.00352059\n",
      "Iteration 95, loss = 0.00347512\n",
      "Iteration 96, loss = 0.00343693\n",
      "Iteration 97, loss = 0.00338567\n",
      "Iteration 98, loss = 0.00334591\n",
      "Iteration 99, loss = 0.00330064\n",
      "Iteration 100, loss = 0.00326123\n",
      "Iteration 101, loss = 0.00322263\n",
      "Iteration 102, loss = 0.00318556\n",
      "Iteration 103, loss = 0.00314649\n",
      "Iteration 104, loss = 0.00310810\n",
      "Iteration 105, loss = 0.00307530\n",
      "Iteration 106, loss = 0.00304021\n",
      "Iteration 107, loss = 0.00300528\n",
      "Iteration 108, loss = 0.00297133\n",
      "Iteration 109, loss = 0.00293337\n",
      "Iteration 110, loss = 0.00290222\n",
      "Iteration 111, loss = 0.00287334\n",
      "Iteration 112, loss = 0.00284062\n",
      "Iteration 113, loss = 0.00280912\n",
      "Iteration 114, loss = 0.00278183\n",
      "Iteration 115, loss = 0.00275190\n",
      "Iteration 116, loss = 0.00272613\n",
      "Iteration 117, loss = 0.00269666\n",
      "Iteration 118, loss = 0.00266842\n",
      "Iteration 119, loss = 0.00264065\n",
      "Iteration 120, loss = 0.00261026\n",
      "Iteration 121, loss = 0.00258643\n",
      "Iteration 122, loss = 0.00256015\n",
      "Iteration 123, loss = 0.00253445\n",
      "Iteration 124, loss = 0.00251058\n",
      "Iteration 125, loss = 0.00248565\n",
      "Iteration 126, loss = 0.00246152\n",
      "Iteration 127, loss = 0.00243679\n",
      "Iteration 128, loss = 0.00241996\n",
      "Iteration 129, loss = 0.00239326\n",
      "Iteration 130, loss = 0.00236953\n",
      "Iteration 131, loss = 0.00235162\n",
      "Iteration 132, loss = 0.00232664\n",
      "Iteration 133, loss = 0.00230738\n",
      "Iteration 134, loss = 0.00228478\n",
      "Iteration 135, loss = 0.00226433\n",
      "Iteration 136, loss = 0.00224340\n",
      "Iteration 137, loss = 0.00222440\n",
      "Iteration 138, loss = 0.00220598\n",
      "Iteration 139, loss = 0.00218790\n",
      "Iteration 140, loss = 0.00216865\n",
      "Iteration 141, loss = 0.00214952\n",
      "Iteration 142, loss = 0.00212960\n",
      "Iteration 143, loss = 0.00211335\n",
      "Iteration 144, loss = 0.00209567\n",
      "Iteration 145, loss = 0.00207794\n",
      "Iteration 146, loss = 0.00206136\n",
      "Iteration 147, loss = 0.00204395\n",
      "Iteration 148, loss = 0.00202752\n",
      "Iteration 149, loss = 0.00201114\n",
      "Iteration 150, loss = 0.00199521\n",
      "Iteration 151, loss = 0.00197847\n",
      "Iteration 152, loss = 0.00196412\n",
      "Iteration 153, loss = 0.00194798\n",
      "Iteration 154, loss = 0.00193360\n",
      "Iteration 155, loss = 0.00191717\n",
      "Iteration 156, loss = 0.00190159\n",
      "Iteration 157, loss = 0.00188869\n",
      "Iteration 158, loss = 0.00187419\n",
      "Iteration 159, loss = 0.00186279\n",
      "Iteration 160, loss = 0.00184626\n",
      "Iteration 161, loss = 0.00183350\n",
      "Iteration 162, loss = 0.00181977\n",
      "Iteration 163, loss = 0.00180740\n",
      "Iteration 164, loss = 0.00179551\n",
      "Iteration 165, loss = 0.00177906\n",
      "Iteration 166, loss = 0.00176643\n",
      "Iteration 167, loss = 0.00175364\n",
      "Iteration 168, loss = 0.00174172\n",
      "Iteration 169, loss = 0.00173001\n",
      "Iteration 170, loss = 0.00171663\n",
      "Iteration 171, loss = 0.00170460\n",
      "Iteration 172, loss = 0.00169380\n",
      "Iteration 173, loss = 0.00168134\n",
      "Iteration 174, loss = 0.00167023\n",
      "Iteration 175, loss = 0.00165857\n",
      "Iteration 176, loss = 0.00164838\n",
      "Iteration 177, loss = 0.00163640\n",
      "Iteration 178, loss = 0.00162466\n",
      "Iteration 179, loss = 0.00161442\n",
      "Iteration 180, loss = 0.00160398\n",
      "Iteration 181, loss = 0.00159353\n",
      "Iteration 182, loss = 0.00158428\n",
      "Iteration 183, loss = 0.00157296\n",
      "Iteration 184, loss = 0.00156189\n",
      "Iteration 185, loss = 0.00155245\n",
      "Iteration 186, loss = 0.00154260\n",
      "Iteration 187, loss = 0.00153254\n",
      "Iteration 188, loss = 0.00152321\n",
      "Iteration 189, loss = 0.00151396\n",
      "Iteration 190, loss = 0.00150288\n",
      "Iteration 191, loss = 0.00149466\n",
      "Iteration 192, loss = 0.00148529\n",
      "Iteration 193, loss = 0.00147577\n",
      "Iteration 194, loss = 0.00146668\n",
      "Iteration 195, loss = 0.00145825\n",
      "Iteration 196, loss = 0.00144994\n",
      "Iteration 197, loss = 0.00144092\n",
      "Iteration 198, loss = 0.00143311\n",
      "Iteration 199, loss = 0.00142223\n",
      "Iteration 200, loss = 0.00141552\n",
      "Iteration 201, loss = 0.00140601\n",
      "Iteration 202, loss = 0.00139846\n",
      "Iteration 203, loss = 0.00139084\n",
      "Iteration 204, loss = 0.00138170\n",
      "Iteration 205, loss = 0.00137375\n",
      "Iteration 206, loss = 0.00136605\n",
      "Iteration 207, loss = 0.00135783\n",
      "Iteration 208, loss = 0.00135044\n",
      "Iteration 209, loss = 0.00134263\n",
      "Iteration 210, loss = 0.00133544\n",
      "Iteration 211, loss = 0.00132804\n",
      "Iteration 212, loss = 0.00132010\n",
      "Iteration 213, loss = 0.00131306\n",
      "Iteration 214, loss = 0.00130512\n",
      "Iteration 215, loss = 0.00129844\n",
      "Iteration 216, loss = 0.00129226\n",
      "Iteration 217, loss = 0.00128462\n",
      "Iteration 218, loss = 0.00127840\n",
      "Iteration 219, loss = 0.00127070\n",
      "Iteration 220, loss = 0.00126440\n",
      "Iteration 221, loss = 0.00125713\n",
      "Iteration 222, loss = 0.00125033\n",
      "Iteration 223, loss = 0.00124353\n",
      "Iteration 224, loss = 0.00123743\n",
      "Iteration 225, loss = 0.00122973\n",
      "Iteration 226, loss = 0.00122351\n",
      "Iteration 227, loss = 0.00121774\n",
      "Iteration 228, loss = 0.00121147\n",
      "Iteration 229, loss = 0.00120514\n",
      "Iteration 230, loss = 0.00119976\n",
      "Iteration 231, loss = 0.00119285\n",
      "Iteration 232, loss = 0.00118691\n",
      "Iteration 233, loss = 0.00118046\n",
      "Iteration 234, loss = 0.00117494\n",
      "Iteration 235, loss = 0.00116883\n",
      "Iteration 236, loss = 0.00116279\n",
      "Iteration 237, loss = 0.00115694\n",
      "Iteration 238, loss = 0.00115142\n",
      "Iteration 239, loss = 0.00114582\n",
      "Iteration 240, loss = 0.00114006\n",
      "Iteration 241, loss = 0.00113453\n",
      "Iteration 242, loss = 0.00112885\n",
      "Iteration 243, loss = 0.00112355\n",
      "Iteration 244, loss = 0.00111818\n",
      "Iteration 245, loss = 0.00111263\n",
      "Iteration 246, loss = 0.00110740\n",
      "Iteration 247, loss = 0.00110256\n",
      "Iteration 248, loss = 0.00109723\n",
      "Iteration 249, loss = 0.00109183\n",
      "Iteration 250, loss = 0.00108605\n",
      "Iteration 251, loss = 0.00108142\n",
      "Iteration 252, loss = 0.00107643\n",
      "Iteration 253, loss = 0.00107184\n",
      "Iteration 254, loss = 0.00106635\n",
      "Iteration 255, loss = 0.00106141\n",
      "Iteration 256, loss = 0.00105628\n"
     ]
    },
    {
     "name": "stdout",
     "output_type": "stream",
     "text": [
      "Iteration 257, loss = 0.00105152\n",
      "Iteration 258, loss = 0.00104700\n",
      "Iteration 259, loss = 0.00104209\n",
      "Iteration 260, loss = 0.00103691\n",
      "Iteration 261, loss = 0.00103322\n",
      "Iteration 262, loss = 0.00102803\n",
      "Iteration 263, loss = 0.00102323\n",
      "Iteration 264, loss = 0.00101960\n",
      "Iteration 265, loss = 0.00101404\n",
      "Iteration 266, loss = 0.00100965\n",
      "Iteration 267, loss = 0.00100574\n",
      "Iteration 268, loss = 0.00100103\n",
      "Iteration 269, loss = 0.00099706\n",
      "Iteration 270, loss = 0.00099214\n",
      "Iteration 271, loss = 0.00098841\n",
      "Iteration 272, loss = 0.00098338\n",
      "Iteration 273, loss = 0.00097972\n",
      "Iteration 274, loss = 0.00097504\n",
      "Iteration 275, loss = 0.00097102\n",
      "Iteration 276, loss = 0.00096671\n",
      "Iteration 277, loss = 0.00096301\n",
      "Iteration 278, loss = 0.00095852\n",
      "Iteration 279, loss = 0.00095448\n",
      "Iteration 280, loss = 0.00095112\n",
      "Iteration 281, loss = 0.00094658\n",
      "Iteration 282, loss = 0.00094321\n",
      "Iteration 283, loss = 0.00093874\n",
      "Iteration 284, loss = 0.00093534\n",
      "Iteration 285, loss = 0.00093121\n",
      "Iteration 286, loss = 0.00092755\n",
      "Iteration 287, loss = 0.00092352\n",
      "Iteration 288, loss = 0.00091958\n",
      "Iteration 289, loss = 0.00091608\n",
      "Iteration 290, loss = 0.00091241\n",
      "Iteration 291, loss = 0.00090854\n",
      "Iteration 292, loss = 0.00090501\n",
      "Iteration 293, loss = 0.00090113\n",
      "Iteration 294, loss = 0.00089744\n",
      "Iteration 295, loss = 0.00089420\n",
      "Iteration 296, loss = 0.00089072\n",
      "Iteration 297, loss = 0.00088741\n",
      "Iteration 298, loss = 0.00088348\n",
      "Iteration 299, loss = 0.00087996\n",
      "Iteration 300, loss = 0.00087693\n",
      "Iteration 301, loss = 0.00087324\n",
      "Iteration 302, loss = 0.00086990\n",
      "Iteration 303, loss = 0.00086641\n",
      "Iteration 304, loss = 0.00086342\n",
      "Iteration 305, loss = 0.00086015\n",
      "Iteration 306, loss = 0.00085644\n",
      "Iteration 307, loss = 0.00085335\n",
      "Iteration 308, loss = 0.00085019\n",
      "Iteration 309, loss = 0.00084678\n",
      "Iteration 310, loss = 0.00084374\n",
      "Iteration 311, loss = 0.00084022\n",
      "Iteration 312, loss = 0.00083729\n",
      "Iteration 313, loss = 0.00083435\n",
      "Iteration 314, loss = 0.00083126\n",
      "Iteration 315, loss = 0.00082796\n",
      "Iteration 316, loss = 0.00082505\n",
      "Iteration 317, loss = 0.00082246\n",
      "Iteration 318, loss = 0.00081896\n",
      "Iteration 319, loss = 0.00081603\n",
      "Iteration 320, loss = 0.00081269\n",
      "Iteration 321, loss = 0.00080970\n",
      "Iteration 322, loss = 0.00080698\n",
      "Iteration 323, loss = 0.00080398\n",
      "Iteration 324, loss = 0.00080148\n",
      "Iteration 325, loss = 0.00079825\n",
      "Iteration 326, loss = 0.00079594\n",
      "Iteration 327, loss = 0.00079242\n",
      "Iteration 328, loss = 0.00078957\n",
      "Iteration 329, loss = 0.00078702\n",
      "Iteration 330, loss = 0.00078397\n",
      "Iteration 331, loss = 0.00078164\n",
      "Iteration 332, loss = 0.00077860\n",
      "Iteration 333, loss = 0.00077608\n",
      "Iteration 334, loss = 0.00077333\n",
      "Iteration 335, loss = 0.00077055\n",
      "Iteration 336, loss = 0.00076761\n",
      "Iteration 337, loss = 0.00076487\n",
      "Iteration 338, loss = 0.00076250\n",
      "Iteration 339, loss = 0.00075968\n",
      "Iteration 340, loss = 0.00075717\n",
      "Iteration 341, loss = 0.00075456\n",
      "Iteration 342, loss = 0.00075232\n",
      "Iteration 343, loss = 0.00074965\n",
      "Iteration 344, loss = 0.00074711\n",
      "Iteration 345, loss = 0.00074434\n",
      "Iteration 346, loss = 0.00074176\n",
      "Iteration 347, loss = 0.00073948\n",
      "Iteration 348, loss = 0.00073681\n",
      "Iteration 349, loss = 0.00073452\n",
      "Iteration 350, loss = 0.00073223\n",
      "Iteration 351, loss = 0.00072956\n",
      "Iteration 352, loss = 0.00072712\n",
      "Iteration 353, loss = 0.00072452\n",
      "Iteration 354, loss = 0.00072220\n",
      "Iteration 355, loss = 0.00071994\n",
      "Iteration 356, loss = 0.00071781\n",
      "Iteration 357, loss = 0.00071546\n",
      "Iteration 358, loss = 0.00071278\n",
      "Iteration 359, loss = 0.00071054\n",
      "Iteration 360, loss = 0.00070832\n",
      "Iteration 361, loss = 0.00070630\n",
      "Iteration 362, loss = 0.00070358\n",
      "Iteration 363, loss = 0.00070149\n",
      "Iteration 364, loss = 0.00069917\n",
      "Iteration 365, loss = 0.00069716\n",
      "Iteration 366, loss = 0.00069521\n",
      "Iteration 367, loss = 0.00069255\n",
      "Iteration 368, loss = 0.00069064\n",
      "Iteration 369, loss = 0.00068866\n",
      "Iteration 370, loss = 0.00068589\n",
      "Iteration 371, loss = 0.00068397\n",
      "Iteration 372, loss = 0.00068174\n",
      "Iteration 373, loss = 0.00067955\n",
      "Iteration 374, loss = 0.00067786\n",
      "Iteration 375, loss = 0.00067558\n",
      "Iteration 376, loss = 0.00067322\n",
      "Iteration 377, loss = 0.00067112\n",
      "Iteration 378, loss = 0.00066901\n",
      "Iteration 379, loss = 0.00066737\n",
      "Iteration 380, loss = 0.00066497\n",
      "Iteration 381, loss = 0.00066318\n",
      "Iteration 382, loss = 0.00066098\n",
      "Iteration 383, loss = 0.00065914\n",
      "Iteration 384, loss = 0.00065699\n",
      "Iteration 385, loss = 0.00065483\n",
      "Iteration 386, loss = 0.00065320\n",
      "Iteration 387, loss = 0.00065116\n",
      "Iteration 388, loss = 0.00064900\n",
      "Iteration 389, loss = 0.00064751\n",
      "Iteration 390, loss = 0.00064528\n",
      "Iteration 391, loss = 0.00064323\n",
      "Iteration 392, loss = 0.00064142\n",
      "Iteration 393, loss = 0.00063978\n",
      "Iteration 394, loss = 0.00063762\n",
      "Iteration 395, loss = 0.00063563\n",
      "Iteration 396, loss = 0.00063402\n",
      "Iteration 397, loss = 0.00063207\n",
      "Iteration 398, loss = 0.00063026\n",
      "Iteration 399, loss = 0.00062828\n",
      "Iteration 400, loss = 0.00062659\n",
      "Iteration 401, loss = 0.00062454\n",
      "Iteration 402, loss = 0.00062310\n",
      "Iteration 403, loss = 0.00062122\n",
      "Iteration 404, loss = 0.00061918\n",
      "Iteration 405, loss = 0.00061758\n",
      "Iteration 406, loss = 0.00061562\n",
      "Iteration 407, loss = 0.00061405\n",
      "Iteration 408, loss = 0.00061238\n",
      "Iteration 409, loss = 0.00061051\n",
      "Iteration 410, loss = 0.00060865\n",
      "Iteration 411, loss = 0.00060704\n",
      "Iteration 412, loss = 0.00060522\n",
      "Iteration 413, loss = 0.00060365\n",
      "Iteration 414, loss = 0.00060194\n",
      "Iteration 415, loss = 0.00060017\n",
      "Iteration 416, loss = 0.00059836\n",
      "Iteration 417, loss = 0.00059712\n",
      "Iteration 418, loss = 0.00059509\n",
      "Iteration 419, loss = 0.00059353\n",
      "Iteration 420, loss = 0.00059190\n",
      "Iteration 421, loss = 0.00059027\n",
      "Iteration 422, loss = 0.00058895\n",
      "Iteration 423, loss = 0.00058688\n",
      "Iteration 424, loss = 0.00058539\n",
      "Iteration 425, loss = 0.00058370\n",
      "Iteration 426, loss = 0.00058212\n",
      "Iteration 427, loss = 0.00058062\n",
      "Iteration 428, loss = 0.00057921\n",
      "Iteration 429, loss = 0.00057751\n",
      "Iteration 430, loss = 0.00057605\n",
      "Iteration 431, loss = 0.00057472\n",
      "Iteration 432, loss = 0.00057281\n",
      "Iteration 433, loss = 0.00057117\n",
      "Iteration 434, loss = 0.00056989\n",
      "Iteration 435, loss = 0.00056836\n",
      "Iteration 436, loss = 0.00056689\n",
      "Iteration 437, loss = 0.00056537\n",
      "Iteration 438, loss = 0.00056387\n",
      "Iteration 439, loss = 0.00056249\n",
      "Iteration 440, loss = 0.00056074\n",
      "Iteration 441, loss = 0.00055949\n",
      "Iteration 442, loss = 0.00055814\n",
      "Iteration 443, loss = 0.00055633\n",
      "Iteration 444, loss = 0.00055494\n",
      "Iteration 445, loss = 0.00055362\n",
      "Iteration 446, loss = 0.00055234\n",
      "Iteration 447, loss = 0.00055058\n",
      "Iteration 448, loss = 0.00054924\n",
      "Iteration 449, loss = 0.00054787\n",
      "Iteration 450, loss = 0.00054639\n",
      "Iteration 451, loss = 0.00054498\n",
      "Iteration 452, loss = 0.00054354\n",
      "Iteration 453, loss = 0.00054227\n",
      "Iteration 454, loss = 0.00054096\n",
      "Iteration 455, loss = 0.00053942\n",
      "Iteration 456, loss = 0.00053800\n",
      "Iteration 457, loss = 0.00053665\n",
      "Iteration 458, loss = 0.00053533\n",
      "Iteration 459, loss = 0.00053388\n",
      "Iteration 460, loss = 0.00053262\n",
      "Iteration 461, loss = 0.00053120\n",
      "Iteration 462, loss = 0.00053017\n",
      "Iteration 463, loss = 0.00052867\n",
      "Iteration 464, loss = 0.00052731\n",
      "Iteration 465, loss = 0.00052601\n",
      "Iteration 466, loss = 0.00052471\n",
      "Iteration 467, loss = 0.00052341\n",
      "Iteration 468, loss = 0.00052213\n",
      "Iteration 469, loss = 0.00052085\n",
      "Iteration 470, loss = 0.00051940\n",
      "Iteration 471, loss = 0.00051821\n",
      "Iteration 472, loss = 0.00051706\n",
      "Iteration 473, loss = 0.00051565\n",
      "Iteration 474, loss = 0.00051435\n",
      "Iteration 475, loss = 0.00051307\n",
      "Iteration 476, loss = 0.00051201\n",
      "Iteration 477, loss = 0.00051058\n",
      "Iteration 478, loss = 0.00050967\n",
      "Iteration 479, loss = 0.00050825\n",
      "Iteration 480, loss = 0.00050689\n",
      "Iteration 481, loss = 0.00050568\n",
      "Iteration 482, loss = 0.00050448\n",
      "Iteration 483, loss = 0.00050332\n",
      "Iteration 484, loss = 0.00050238\n",
      "Iteration 485, loss = 0.00050091\n",
      "Iteration 486, loss = 0.00049974\n",
      "Iteration 487, loss = 0.00049861\n",
      "Iteration 488, loss = 0.00049754\n",
      "Iteration 489, loss = 0.00049605\n",
      "Iteration 490, loss = 0.00049502\n",
      "Iteration 491, loss = 0.00049397\n",
      "Iteration 492, loss = 0.00049263\n",
      "Iteration 493, loss = 0.00049157\n",
      "Iteration 494, loss = 0.00049040\n",
      "Iteration 495, loss = 0.00048925\n",
      "Iteration 496, loss = 0.00048796\n",
      "Iteration 497, loss = 0.00048697\n",
      "Iteration 498, loss = 0.00048574\n",
      "Iteration 499, loss = 0.00048454\n",
      "Iteration 500, loss = 0.00048368\n",
      "Iteration 501, loss = 0.00048268\n",
      "Iteration 502, loss = 0.00048126\n",
      "Iteration 503, loss = 0.00048017\n",
      "Iteration 504, loss = 0.00047910\n",
      "Iteration 505, loss = 0.00047803\n",
      "Iteration 506, loss = 0.00047708\n",
      "Iteration 507, loss = 0.00047595\n",
      "Iteration 508, loss = 0.00047480\n",
      "Iteration 509, loss = 0.00047366\n",
      "Iteration 510, loss = 0.00047247\n",
      "Iteration 511, loss = 0.00047151\n",
      "Iteration 512, loss = 0.00047056\n"
     ]
    },
    {
     "name": "stdout",
     "output_type": "stream",
     "text": [
      "Iteration 513, loss = 0.00046939\n",
      "Iteration 514, loss = 0.00046832\n",
      "Iteration 515, loss = 0.00046735\n",
      "Iteration 516, loss = 0.00046622\n",
      "Iteration 517, loss = 0.00046532\n",
      "Iteration 518, loss = 0.00046410\n",
      "Iteration 519, loss = 0.00046308\n",
      "Iteration 520, loss = 0.00046211\n",
      "Iteration 521, loss = 0.00046108\n",
      "Iteration 522, loss = 0.00046013\n",
      "Iteration 523, loss = 0.00045899\n",
      "Iteration 524, loss = 0.00045804\n",
      "Iteration 525, loss = 0.00045690\n",
      "Iteration 526, loss = 0.00045605\n",
      "Iteration 527, loss = 0.00045498\n",
      "Iteration 528, loss = 0.00045393\n",
      "Iteration 529, loss = 0.00045310\n",
      "Iteration 530, loss = 0.00045210\n",
      "Iteration 531, loss = 0.00045108\n",
      "Iteration 532, loss = 0.00045002\n",
      "Iteration 533, loss = 0.00044901\n",
      "Iteration 534, loss = 0.00044807\n",
      "Iteration 535, loss = 0.00044712\n",
      "Iteration 536, loss = 0.00044609\n",
      "Iteration 537, loss = 0.00044520\n",
      "Iteration 538, loss = 0.00044422\n",
      "Iteration 539, loss = 0.00044325\n",
      "Iteration 540, loss = 0.00044249\n",
      "Iteration 541, loss = 0.00044139\n",
      "Iteration 542, loss = 0.00044045\n",
      "Iteration 543, loss = 0.00043952\n",
      "Iteration 544, loss = 0.00043865\n",
      "Iteration 545, loss = 0.00043766\n",
      "Iteration 546, loss = 0.00043672\n",
      "Iteration 547, loss = 0.00043589\n",
      "Iteration 548, loss = 0.00043488\n",
      "Iteration 549, loss = 0.00043402\n",
      "Iteration 550, loss = 0.00043304\n",
      "Iteration 551, loss = 0.00043223\n",
      "Iteration 552, loss = 0.00043142\n",
      "Iteration 553, loss = 0.00043044\n",
      "Iteration 554, loss = 0.00042945\n",
      "Iteration 555, loss = 0.00042854\n",
      "Iteration 556, loss = 0.00042777\n",
      "Iteration 557, loss = 0.00042682\n",
      "Iteration 558, loss = 0.00042608\n",
      "Iteration 559, loss = 0.00042499\n",
      "Iteration 560, loss = 0.00042420\n",
      "Iteration 561, loss = 0.00042320\n",
      "Iteration 562, loss = 0.00042241\n",
      "Iteration 563, loss = 0.00042163\n",
      "Iteration 564, loss = 0.00042064\n",
      "Iteration 565, loss = 0.00041980\n",
      "Iteration 566, loss = 0.00041901\n",
      "Iteration 567, loss = 0.00041812\n",
      "Iteration 568, loss = 0.00041721\n",
      "Iteration 569, loss = 0.00041640\n",
      "Iteration 570, loss = 0.00041555\n",
      "Iteration 571, loss = 0.00041480\n",
      "Iteration 572, loss = 0.00041390\n",
      "Training loss did not improve more than tol=0.000001 for 10 consecutive epochs. Stopping.\n",
      "Training set score: 1.000000\n",
      "Test set score: 0.847795\n"
     ]
    },
    {
     "data": {
      "image/png": "[encoded data removed]",
      "text/plain": [
       "<Figure size 432x288 with 16 Axes>"
      ]
     },
     "metadata": {},
     "output_type": "display_data"
    },
    {
     "name": "stdout",
     "output_type": "stream",
     "text": [
      "Wall time: 15.7 s\n"
     ]
    }
   ],
   "source": [
    "%%time\n",
    "# WE CAN CHANGE ALPHA \n",
    "#  We choose the number of pictures for the Training  Phase\n",
    "#  and the \"rest\" will be used for the Test Phase\n",
    "X_train, X_test = Ximg[:600], Ximg[600:]\n",
    "y_train, y_test = yimg[:600], yimg[600:]\n",
    "\n",
    "mlp = MLPClassifier(hidden_layer_sizes=(50,), \n",
    "                    max_iter=1000, # It is a maximum \n",
    "                    alpha=1e-6,\n",
    "                    solver='sgd', \n",
    "                    verbose=10, \n",
    "                    random_state=1,\n",
    "                    learning_rate_init=.1,\n",
    "                    tol=0.00000100)\n",
    "                    ## It is about the  stopping criterium)\n",
    "\n",
    "mlp.fit(X_train, y_train)\n",
    "print(\"Training set score: %f\" % mlp.score(X_train, y_train))\n",
    "print(\"Test set score: %f\" % mlp.score(X_test, y_test))\n",
    "\n",
    "fig, axes = plt.subplots(4, 4)\n",
    "# use global min / max to ensure all weights are shown on the same scale\n",
    "vmin, vmax = mlp.coefs_[0].min(), mlp.coefs_[0].max()\n",
    "for coef, ax in zip(mlp.coefs_[0].T, axes.ravel()):\n",
    "    ax.matshow(coef.reshape(28, 28), cmap=plt.cm.gray, vmin=.5 * vmin,\n",
    "               vmax=.5 * vmax)\n",
    "    ax.set_xticks(())\n",
    "    ax.set_yticks(())\n",
    "\n",
    "plt.show()"
   ]
  },
  {
   "cell_type": "code",
   "execution_count": 65,
   "metadata": {},
   "outputs": [
    {
     "name": "stdout",
     "output_type": "stream",
     "text": [
      "Iteration 1, loss = 5.45377483\n",
      "Iteration 2, loss = 2.45410401\n",
      "Iteration 3, loss = 1.31558062\n",
      "Iteration 4, loss = 1.21463976\n",
      "Iteration 5, loss = 0.95680625\n",
      "Iteration 6, loss = 0.81786866\n",
      "Iteration 7, loss = 0.70512736\n",
      "Iteration 8, loss = 0.61037149\n",
      "Iteration 9, loss = 0.52025021\n",
      "Iteration 10, loss = 0.44464663\n",
      "Iteration 11, loss = 0.36670337\n",
      "Iteration 12, loss = 0.33560994\n",
      "Iteration 13, loss = 0.29598046\n",
      "Iteration 14, loss = 0.24885841\n",
      "Iteration 15, loss = 0.23532771\n",
      "Iteration 16, loss = 0.20952241\n",
      "Iteration 17, loss = 0.18681634\n",
      "Iteration 18, loss = 0.17557802\n",
      "Iteration 19, loss = 0.16256817\n",
      "Iteration 20, loss = 0.15345475\n",
      "Iteration 21, loss = 0.14005307\n",
      "Iteration 22, loss = 0.13392494\n",
      "Iteration 23, loss = 0.12290360\n",
      "Iteration 24, loss = 0.11547681\n",
      "Iteration 25, loss = 0.11426478\n",
      "Iteration 26, loss = 0.11040794\n",
      "Iteration 27, loss = 0.10841407\n",
      "Iteration 28, loss = 0.10246721\n",
      "Iteration 29, loss = 0.10077899\n",
      "Iteration 30, loss = 0.09868897\n",
      "Iteration 31, loss = 0.09841236\n",
      "Iteration 32, loss = 0.10056502\n",
      "Iteration 33, loss = 0.09322348\n",
      "Iteration 34, loss = 0.08926726\n",
      "Iteration 35, loss = 0.08686576\n",
      "Iteration 36, loss = 0.08078674\n",
      "Iteration 37, loss = 0.07698700\n",
      "Iteration 38, loss = 0.07305504\n",
      "Iteration 39, loss = 0.07156701\n",
      "Iteration 40, loss = 0.06552810\n",
      "Iteration 41, loss = 0.06007084\n",
      "Iteration 42, loss = 0.05187746\n",
      "Iteration 43, loss = 0.04973537\n",
      "Iteration 44, loss = 0.04799384\n",
      "Iteration 45, loss = 0.04711686\n",
      "Iteration 46, loss = 0.04412060\n",
      "Iteration 47, loss = 0.04207477\n",
      "Iteration 48, loss = 0.04203090\n",
      "Iteration 49, loss = 0.03876197\n",
      "Iteration 50, loss = 0.03702779\n",
      "Iteration 51, loss = 0.03562869\n",
      "Iteration 52, loss = 0.03414163\n",
      "Iteration 53, loss = 0.03308630\n",
      "Iteration 54, loss = 0.03231922\n",
      "Iteration 55, loss = 0.03124662\n",
      "Iteration 56, loss = 0.03013245\n",
      "Iteration 57, loss = 0.02935906\n",
      "Iteration 58, loss = 0.02814599\n",
      "Iteration 59, loss = 0.02698537\n",
      "Iteration 60, loss = 0.02465976\n",
      "Iteration 61, loss = 0.02354452\n",
      "Iteration 62, loss = 0.02272888\n",
      "Iteration 63, loss = 0.02165874\n",
      "Iteration 64, loss = 0.02029145\n",
      "Iteration 65, loss = 0.01970283\n",
      "Iteration 66, loss = 0.01913899\n",
      "Iteration 67, loss = 0.01925138\n",
      "Iteration 68, loss = 0.01834039\n",
      "Iteration 69, loss = 0.01788019\n",
      "Iteration 70, loss = 0.01705104\n",
      "Iteration 71, loss = 0.01617839\n",
      "Iteration 72, loss = 0.01591011\n",
      "Iteration 73, loss = 0.01570961\n",
      "Iteration 74, loss = 0.01544566\n",
      "Iteration 75, loss = 0.01503235\n",
      "Iteration 76, loss = 0.01476242\n",
      "Iteration 77, loss = 0.01450364\n",
      "Iteration 78, loss = 0.01429444\n",
      "Iteration 79, loss = 0.01394468\n",
      "Iteration 80, loss = 0.01371656\n",
      "Iteration 81, loss = 0.01353271\n",
      "Iteration 82, loss = 0.01320180\n",
      "Iteration 83, loss = 0.01292647\n",
      "Iteration 84, loss = 0.01262173\n",
      "Iteration 85, loss = 0.01228313\n",
      "Iteration 86, loss = 0.01211126\n",
      "Iteration 87, loss = 0.01184791\n",
      "Iteration 88, loss = 0.01119298\n",
      "Iteration 89, loss = 0.01016278\n",
      "Iteration 90, loss = 0.01123967\n",
      "Iteration 91, loss = 0.00977024\n",
      "Iteration 92, loss = 0.01017881\n",
      "Iteration 93, loss = 0.00935019\n",
      "Iteration 94, loss = 0.00929923\n",
      "Iteration 95, loss = 0.00932797\n",
      "Iteration 96, loss = 0.00856203\n",
      "Iteration 97, loss = 0.00848467\n",
      "Iteration 98, loss = 0.00833928\n",
      "Iteration 99, loss = 0.00818828\n",
      "Iteration 100, loss = 0.00797396\n",
      "Iteration 101, loss = 0.00774236\n",
      "Iteration 102, loss = 0.00755237\n",
      "Iteration 103, loss = 0.00745035\n",
      "Iteration 104, loss = 0.00730817\n",
      "Iteration 105, loss = 0.00716000\n",
      "Iteration 106, loss = 0.00708945\n",
      "Iteration 107, loss = 0.00698789\n",
      "Iteration 108, loss = 0.00690381\n",
      "Iteration 109, loss = 0.00683092\n",
      "Iteration 110, loss = 0.00671478\n",
      "Iteration 111, loss = 0.00665290\n",
      "Iteration 112, loss = 0.00655309\n",
      "Iteration 113, loss = 0.00648996\n",
      "Iteration 114, loss = 0.00639854\n",
      "Iteration 115, loss = 0.00633416\n",
      "Iteration 116, loss = 0.00624314\n",
      "Iteration 117, loss = 0.00620218\n",
      "Iteration 118, loss = 0.00612190\n",
      "Iteration 119, loss = 0.00605512\n",
      "Iteration 120, loss = 0.00598178\n",
      "Iteration 121, loss = 0.00591583\n",
      "Training loss did not improve more than tol=0.000100 for 10 consecutive epochs. Stopping.\n",
      "Training set score: 0.998333\n",
      "Test set score: 0.820879\n"
     ]
    },
    {
     "data": {
      "image/png": "[encoded data removed]",
      "text/plain": [
       "<Figure size 432x288 with 16 Axes>"
      ]
     },
     "metadata": {},
     "output_type": "display_data"
    },
    {
     "name": "stdout",
     "output_type": "stream",
     "text": [
      "Wall time: 4.87 s\n"
     ]
    }
   ],
   "source": [
    "%%time\n",
    "mlp = MLPClassifier(hidden_layer_sizes=(50,), \n",
    "                    max_iter=200, \n",
    "                    alpha=1e-4,\n",
    "                    solver='adam', \n",
    "                    verbose=10, \n",
    "                    random_state=1,\n",
    "                    learning_rate_init=.1)\n",
    "\n",
    "mlp.fit(X_train, y_train)\n",
    "print(\"Training set score: %f\" % mlp.score(X_train, y_train))\n",
    "print(\"Test set score: %f\" % mlp.score(X_test, y_test))\n",
    "\n",
    "fig, axes = plt.subplots(4, 4)\n",
    "# use global min / max to ensure all weights are shown on the same scale\n",
    "vmin, vmax = mlp.coefs_[0].min(), mlp.coefs_[0].max()\n",
    "for coef, ax in zip(mlp.coefs_[0].T, axes.ravel()):\n",
    "    ax.matshow(coef.reshape(28, 28), cmap=plt.cm.gray, vmin=.5 * vmin,\n",
    "               vmax=.5 * vmax)\n",
    "    ax.set_xticks(())\n",
    "    ax.set_yticks(())\n",
    "\n",
    "plt.show()"
   ]
  },
  {
   "cell_type": "code",
   "execution_count": 66,
   "metadata": {},
   "outputs": [
    {
     "name": "stdout",
     "output_type": "stream",
     "text": [
      "Training set score: 1.000000\n",
      "Test set score: 0.830937\n"
     ]
    },
    {
     "data": {
      "image/png": "[encoded data removed]",
      "text/plain": [
       "<Figure size 432x288 with 16 Axes>"
      ]
     },
     "metadata": {},
     "output_type": "display_data"
    }
   ],
   "source": [
    "mlp = MLPClassifier(hidden_layer_sizes=(50,), \n",
    "                    max_iter=100, \n",
    "                    alpha=1e-5,\n",
    "                    solver='lbfgs', \n",
    "                    verbose=10, \n",
    "                    random_state=1,\n",
    "                    learning_rate_init=.1)\n",
    "\n",
    "mlp.fit(X_train, y_train)\n",
    "print(\"Training set score: %f\" % mlp.score(X_train, y_train))\n",
    "print(\"Test set score: %f\" % mlp.score(X_test, y_test))\n",
    "\n",
    "fig, axes = plt.subplots(4, 4)\n",
    "# use global min / max to ensure all weights are shown on the same scale\n",
    "vmin, vmax = mlp.coefs_[0].min(), mlp.coefs_[0].max()\n",
    "for coef, ax in zip(mlp.coefs_[0].T, axes.ravel()):\n",
    "    ax.matshow(coef.reshape(28, 28), cmap=plt.cm.gray, vmin=.5 * vmin,\n",
    "               vmax=.5 * vmax)\n",
    "    ax.set_xticks(())\n",
    "    ax.set_yticks(())\n",
    "\n",
    "plt.show()"
   ]
  },
  {
   "cell_type": "code",
   "execution_count": 74,
   "metadata": {},
   "outputs": [
    {
     "name": "stdout",
     "output_type": "stream",
     "text": [
      "Iteration 1, loss = 2.24164767\n",
      "Iteration 2, loss = 1.63928472\n",
      "Iteration 3, loss = 0.98960200\n",
      "Iteration 4, loss = 0.62778256\n",
      "Iteration 5, loss = 0.45920324\n",
      "Iteration 6, loss = 0.37293359\n",
      "Iteration 7, loss = 0.31115082\n",
      "Iteration 8, loss = 0.26909470\n",
      "Iteration 9, loss = 0.21966441\n",
      "Iteration 10, loss = 0.17973303\n",
      "Iteration 11, loss = 0.14660662\n",
      "Iteration 12, loss = 0.12315614\n",
      "Iteration 13, loss = 0.10286763\n",
      "Iteration 14, loss = 0.08367113\n",
      "Iteration 15, loss = 0.07002081\n",
      "Iteration 16, loss = 0.06060221\n",
      "Iteration 17, loss = 0.05151829\n",
      "Iteration 18, loss = 0.04406895\n",
      "Iteration 19, loss = 0.03872422\n",
      "Iteration 20, loss = 0.03457372\n",
      "Iteration 21, loss = 0.03100581\n",
      "Iteration 22, loss = 0.02804136\n",
      "Iteration 23, loss = 0.02580862\n",
      "Iteration 24, loss = 0.02356337\n",
      "Iteration 25, loss = 0.02200329\n",
      "Iteration 26, loss = 0.02048906\n",
      "Iteration 27, loss = 0.01923945\n",
      "Iteration 28, loss = 0.01795785\n",
      "Iteration 29, loss = 0.01701027\n",
      "Iteration 30, loss = 0.01605496\n",
      "Iteration 31, loss = 0.01525443\n",
      "Iteration 32, loss = 0.01454947\n",
      "Iteration 33, loss = 0.01391373\n",
      "Iteration 34, loss = 0.01318703\n",
      "Iteration 35, loss = 0.01269926\n",
      "Iteration 36, loss = 0.01213943\n",
      "Iteration 37, loss = 0.01163754\n",
      "Iteration 38, loss = 0.01126163\n",
      "Iteration 39, loss = 0.01084627\n",
      "Iteration 40, loss = 0.01044152\n",
      "Iteration 41, loss = 0.01009107\n",
      "Iteration 42, loss = 0.00976617\n",
      "Iteration 43, loss = 0.00943640\n",
      "Iteration 44, loss = 0.00916273\n",
      "Iteration 45, loss = 0.00886390\n",
      "Iteration 46, loss = 0.00862141\n",
      "Iteration 47, loss = 0.00837314\n",
      "Iteration 48, loss = 0.00814649\n",
      "Iteration 49, loss = 0.00796012\n",
      "Iteration 50, loss = 0.00774702\n",
      "Iteration 51, loss = 0.00751712\n",
      "Iteration 52, loss = 0.00732609\n",
      "Iteration 53, loss = 0.00714036\n",
      "Iteration 54, loss = 0.00697604\n",
      "Iteration 55, loss = 0.00680556\n",
      "Iteration 56, loss = 0.00665782\n",
      "Iteration 57, loss = 0.00651220\n",
      "Iteration 58, loss = 0.00634254\n",
      "Iteration 59, loss = 0.00620506\n",
      "Iteration 60, loss = 0.00608127\n",
      "Iteration 61, loss = 0.00595800\n",
      "Iteration 62, loss = 0.00583141\n",
      "Iteration 63, loss = 0.00572371\n",
      "Iteration 64, loss = 0.00560827\n",
      "Iteration 65, loss = 0.00549136\n",
      "Iteration 66, loss = 0.00539220\n",
      "Iteration 67, loss = 0.00527212\n",
      "Iteration 68, loss = 0.00519147\n",
      "Iteration 69, loss = 0.00508127\n",
      "Iteration 70, loss = 0.00500560\n",
      "Iteration 71, loss = 0.00491092\n",
      "Iteration 72, loss = 0.00485905\n",
      "Iteration 73, loss = 0.00475112\n",
      "Iteration 74, loss = 0.00466600\n",
      "Iteration 75, loss = 0.00458751\n",
      "Iteration 76, loss = 0.00451519\n",
      "Iteration 77, loss = 0.00443239\n",
      "Iteration 78, loss = 0.00437535\n",
      "Iteration 79, loss = 0.00429507\n",
      "Iteration 80, loss = 0.00423234\n",
      "Iteration 81, loss = 0.00416308\n",
      "Iteration 82, loss = 0.00411394\n",
      "Iteration 83, loss = 0.00404041\n",
      "Iteration 84, loss = 0.00398140\n",
      "Iteration 85, loss = 0.00393762\n",
      "Iteration 86, loss = 0.00386606\n",
      "Iteration 87, loss = 0.00382181\n",
      "Iteration 88, loss = 0.00375928\n",
      "Iteration 89, loss = 0.00370356\n",
      "Iteration 90, loss = 0.00365958\n",
      "Iteration 91, loss = 0.00360449\n",
      "Iteration 92, loss = 0.00356256\n",
      "Iteration 93, loss = 0.00350708\n",
      "Iteration 94, loss = 0.00346053\n",
      "Iteration 95, loss = 0.00341975\n",
      "Iteration 96, loss = 0.00337172\n",
      "Iteration 97, loss = 0.00333396\n",
      "Iteration 98, loss = 0.00328693\n",
      "Iteration 99, loss = 0.00324984\n",
      "Iteration 100, loss = 0.00320845\n",
      "Iteration 101, loss = 0.00317405\n",
      "Iteration 102, loss = 0.00313036\n",
      "Iteration 103, loss = 0.00309114\n",
      "Iteration 104, loss = 0.00305753\n",
      "Iteration 105, loss = 0.00302272\n",
      "Iteration 106, loss = 0.00299007\n",
      "Iteration 107, loss = 0.00295894\n",
      "Iteration 108, loss = 0.00292258\n",
      "Iteration 109, loss = 0.00289005\n",
      "Iteration 110, loss = 0.00285675\n",
      "Iteration 111, loss = 0.00282528\n",
      "Iteration 112, loss = 0.00279337\n",
      "Iteration 113, loss = 0.00276246\n",
      "Iteration 114, loss = 0.00273232\n",
      "Iteration 115, loss = 0.00270591\n",
      "Iteration 116, loss = 0.00267539\n",
      "Iteration 117, loss = 0.00264811\n",
      "Iteration 118, loss = 0.00262210\n",
      "Iteration 119, loss = 0.00259488\n",
      "Iteration 120, loss = 0.00257082\n",
      "Iteration 121, loss = 0.00254406\n",
      "Iteration 122, loss = 0.00252034\n",
      "Iteration 123, loss = 0.00249438\n",
      "Iteration 124, loss = 0.00246783\n",
      "Iteration 125, loss = 0.00244543\n",
      "Iteration 126, loss = 0.00242223\n",
      "Iteration 127, loss = 0.00239788\n",
      "Iteration 128, loss = 0.00237675\n",
      "Iteration 129, loss = 0.00235398\n",
      "Iteration 130, loss = 0.00233238\n",
      "Iteration 131, loss = 0.00230901\n",
      "Iteration 132, loss = 0.00229085\n",
      "Iteration 133, loss = 0.00226946\n",
      "Iteration 134, loss = 0.00224871\n",
      "Iteration 135, loss = 0.00222814\n",
      "Iteration 136, loss = 0.00220968\n",
      "Iteration 137, loss = 0.00219022\n",
      "Iteration 138, loss = 0.00217059\n",
      "Iteration 139, loss = 0.00215295\n",
      "Iteration 140, loss = 0.00213372\n",
      "Iteration 141, loss = 0.00211831\n",
      "Iteration 142, loss = 0.00209954\n",
      "Iteration 143, loss = 0.00208166\n",
      "Iteration 144, loss = 0.00206689\n",
      "Iteration 145, loss = 0.00204622\n",
      "Iteration 146, loss = 0.00203105\n",
      "Iteration 147, loss = 0.00201404\n",
      "Iteration 148, loss = 0.00199637\n",
      "Iteration 149, loss = 0.00198085\n",
      "Iteration 150, loss = 0.00196492\n",
      "Iteration 151, loss = 0.00194950\n",
      "Iteration 152, loss = 0.00193261\n",
      "Iteration 153, loss = 0.00192011\n",
      "Iteration 154, loss = 0.00190487\n",
      "Iteration 155, loss = 0.00188937\n",
      "Iteration 156, loss = 0.00187452\n",
      "Iteration 157, loss = 0.00186193\n",
      "Iteration 158, loss = 0.00184782\n",
      "Iteration 159, loss = 0.00183500\n",
      "Iteration 160, loss = 0.00182012\n",
      "Iteration 161, loss = 0.00180588\n",
      "Iteration 162, loss = 0.00179601\n",
      "Iteration 163, loss = 0.00178052\n",
      "Iteration 164, loss = 0.00176604\n",
      "Iteration 165, loss = 0.00175701\n",
      "Iteration 166, loss = 0.00174128\n",
      "Iteration 167, loss = 0.00173234\n",
      "Iteration 168, loss = 0.00171627\n",
      "Iteration 169, loss = 0.00170527\n",
      "Iteration 170, loss = 0.00169270\n",
      "Iteration 171, loss = 0.00168099\n",
      "Iteration 172, loss = 0.00166944\n",
      "Iteration 173, loss = 0.00165808\n",
      "Iteration 174, loss = 0.00164697\n",
      "Iteration 175, loss = 0.00163486\n",
      "Iteration 176, loss = 0.00162464\n",
      "Iteration 177, loss = 0.00161341\n",
      "Iteration 178, loss = 0.00160285\n",
      "Iteration 179, loss = 0.00159271\n",
      "Iteration 180, loss = 0.00158157\n",
      "Iteration 181, loss = 0.00157219\n",
      "Iteration 182, loss = 0.00156145\n",
      "Iteration 183, loss = 0.00155193\n",
      "Iteration 184, loss = 0.00154186\n",
      "Iteration 185, loss = 0.00153166\n",
      "Iteration 186, loss = 0.00152214\n",
      "Iteration 187, loss = 0.00151236\n",
      "Iteration 188, loss = 0.00150413\n",
      "Iteration 189, loss = 0.00149330\n",
      "Iteration 190, loss = 0.00148384\n",
      "Iteration 191, loss = 0.00147555\n",
      "Iteration 192, loss = 0.00146634\n",
      "Iteration 193, loss = 0.00145632\n",
      "Iteration 194, loss = 0.00144726\n",
      "Iteration 195, loss = 0.00143897\n",
      "Iteration 196, loss = 0.00143089\n",
      "Iteration 197, loss = 0.00142260\n",
      "Iteration 198, loss = 0.00141336\n",
      "Iteration 199, loss = 0.00140558\n",
      "Iteration 200, loss = 0.00139676\n",
      "Iteration 201, loss = 0.00138858\n",
      "Iteration 202, loss = 0.00138055\n",
      "Iteration 203, loss = 0.00137200\n",
      "Iteration 204, loss = 0.00136563\n",
      "Iteration 205, loss = 0.00135629\n",
      "Iteration 206, loss = 0.00134898\n",
      "Iteration 207, loss = 0.00134131\n",
      "Iteration 208, loss = 0.00133334\n",
      "Iteration 209, loss = 0.00132607\n",
      "Iteration 210, loss = 0.00131977\n",
      "Iteration 211, loss = 0.00131220\n",
      "Iteration 212, loss = 0.00130382\n",
      "Iteration 213, loss = 0.00129632\n",
      "Iteration 214, loss = 0.00128927\n",
      "Iteration 215, loss = 0.00128413\n",
      "Iteration 216, loss = 0.00127574\n",
      "Iteration 217, loss = 0.00126874\n",
      "Iteration 218, loss = 0.00126184\n",
      "Iteration 219, loss = 0.00125581\n",
      "Iteration 220, loss = 0.00124844\n",
      "Iteration 221, loss = 0.00124208\n",
      "Iteration 222, loss = 0.00123499\n",
      "Iteration 223, loss = 0.00122867\n",
      "Iteration 224, loss = 0.00122220\n",
      "Iteration 225, loss = 0.00121596\n",
      "Iteration 226, loss = 0.00120984\n",
      "Iteration 227, loss = 0.00120378\n",
      "Iteration 228, loss = 0.00119741\n",
      "Iteration 229, loss = 0.00119110\n",
      "Iteration 230, loss = 0.00118564\n",
      "Iteration 231, loss = 0.00117868\n",
      "Iteration 232, loss = 0.00117256\n",
      "Iteration 233, loss = 0.00116698\n",
      "Iteration 234, loss = 0.00116163\n",
      "Iteration 235, loss = 0.00115530\n",
      "Iteration 236, loss = 0.00114945\n",
      "Iteration 237, loss = 0.00114424\n",
      "Iteration 238, loss = 0.00113823\n",
      "Iteration 239, loss = 0.00113281\n",
      "Iteration 240, loss = 0.00112717\n",
      "Iteration 241, loss = 0.00112285\n",
      "Iteration 242, loss = 0.00111657\n",
      "Iteration 243, loss = 0.00111116\n",
      "Iteration 244, loss = 0.00110593\n",
      "Iteration 245, loss = 0.00110146\n",
      "Iteration 246, loss = 0.00109536\n",
      "Iteration 247, loss = 0.00109004\n",
      "Iteration 248, loss = 0.00108477\n",
      "Iteration 249, loss = 0.00108029\n",
      "Iteration 250, loss = 0.00107449\n",
      "Iteration 251, loss = 0.00106970\n",
      "Iteration 252, loss = 0.00106508\n",
      "Iteration 253, loss = 0.00106024\n",
      "Iteration 254, loss = 0.00105512\n",
      "Iteration 255, loss = 0.00104978\n",
      "Iteration 256, loss = 0.00104531\n"
     ]
    },
    {
     "name": "stdout",
     "output_type": "stream",
     "text": [
      "Iteration 257, loss = 0.00104037\n",
      "Iteration 258, loss = 0.00103616\n",
      "Iteration 259, loss = 0.00103185\n",
      "Iteration 260, loss = 0.00102663\n",
      "Iteration 261, loss = 0.00102219\n",
      "Iteration 262, loss = 0.00101732\n",
      "Iteration 263, loss = 0.00101311\n",
      "Iteration 264, loss = 0.00100830\n",
      "Iteration 265, loss = 0.00100398\n",
      "Iteration 266, loss = 0.00099945\n",
      "Iteration 267, loss = 0.00099504\n",
      "Iteration 268, loss = 0.00099151\n",
      "Iteration 269, loss = 0.00098615\n",
      "Iteration 270, loss = 0.00098246\n",
      "Iteration 271, loss = 0.00097810\n",
      "Iteration 272, loss = 0.00097379\n",
      "Iteration 273, loss = 0.00096987\n",
      "Iteration 274, loss = 0.00096599\n",
      "Iteration 275, loss = 0.00096124\n",
      "Iteration 276, loss = 0.00095715\n",
      "Iteration 277, loss = 0.00095329\n",
      "Iteration 278, loss = 0.00094943\n",
      "Iteration 279, loss = 0.00094503\n",
      "Iteration 280, loss = 0.00094118\n",
      "Iteration 281, loss = 0.00093788\n",
      "Iteration 282, loss = 0.00093361\n",
      "Iteration 283, loss = 0.00092979\n",
      "Iteration 284, loss = 0.00092633\n",
      "Iteration 285, loss = 0.00092251\n",
      "Iteration 286, loss = 0.00091871\n",
      "Iteration 287, loss = 0.00091486\n",
      "Iteration 288, loss = 0.00091116\n",
      "Iteration 289, loss = 0.00090735\n",
      "Iteration 290, loss = 0.00090372\n",
      "Iteration 291, loss = 0.00090020\n",
      "Iteration 292, loss = 0.00089690\n",
      "Iteration 293, loss = 0.00089316\n",
      "Iteration 294, loss = 0.00088939\n",
      "Iteration 295, loss = 0.00088594\n",
      "Iteration 296, loss = 0.00088248\n",
      "Iteration 297, loss = 0.00087871\n",
      "Iteration 298, loss = 0.00087524\n",
      "Iteration 299, loss = 0.00087239\n",
      "Iteration 300, loss = 0.00086896\n",
      "Iteration 301, loss = 0.00086526\n",
      "Iteration 302, loss = 0.00086200\n",
      "Iteration 303, loss = 0.00085891\n",
      "Iteration 304, loss = 0.00085570\n",
      "Iteration 305, loss = 0.00085191\n",
      "Iteration 306, loss = 0.00084979\n",
      "Iteration 307, loss = 0.00084580\n",
      "Iteration 308, loss = 0.00084269\n",
      "Iteration 309, loss = 0.00083959\n",
      "Iteration 310, loss = 0.00083639\n",
      "Iteration 311, loss = 0.00083321\n",
      "Iteration 312, loss = 0.00082999\n",
      "Iteration 313, loss = 0.00082700\n",
      "Iteration 314, loss = 0.00082399\n",
      "Iteration 315, loss = 0.00082076\n",
      "Iteration 316, loss = 0.00081767\n",
      "Iteration 317, loss = 0.00081473\n",
      "Iteration 318, loss = 0.00081186\n",
      "Iteration 319, loss = 0.00080875\n",
      "Iteration 320, loss = 0.00080635\n",
      "Iteration 321, loss = 0.00080305\n",
      "Iteration 322, loss = 0.00080003\n",
      "Iteration 323, loss = 0.00079739\n",
      "Iteration 324, loss = 0.00079448\n",
      "Iteration 325, loss = 0.00079182\n",
      "Iteration 326, loss = 0.00078878\n",
      "Iteration 327, loss = 0.00078609\n",
      "Iteration 328, loss = 0.00078337\n",
      "Iteration 329, loss = 0.00078044\n",
      "Iteration 330, loss = 0.00077757\n",
      "Iteration 331, loss = 0.00077501\n",
      "Iteration 332, loss = 0.00077217\n",
      "Iteration 333, loss = 0.00076944\n",
      "Iteration 334, loss = 0.00076674\n",
      "Iteration 335, loss = 0.00076415\n",
      "Iteration 336, loss = 0.00076155\n",
      "Iteration 337, loss = 0.00075875\n",
      "Iteration 338, loss = 0.00075645\n",
      "Iteration 339, loss = 0.00075353\n",
      "Iteration 340, loss = 0.00075125\n",
      "Iteration 341, loss = 0.00074868\n",
      "Iteration 342, loss = 0.00074628\n",
      "Iteration 343, loss = 0.00074345\n",
      "Iteration 344, loss = 0.00074118\n",
      "Iteration 345, loss = 0.00073843\n",
      "Iteration 346, loss = 0.00073608\n",
      "Iteration 347, loss = 0.00073352\n",
      "Iteration 348, loss = 0.00073105\n",
      "Iteration 349, loss = 0.00072889\n",
      "Iteration 350, loss = 0.00072645\n",
      "Iteration 351, loss = 0.00072396\n",
      "Iteration 352, loss = 0.00072152\n",
      "Iteration 353, loss = 0.00071949\n",
      "Iteration 354, loss = 0.00071687\n",
      "Iteration 355, loss = 0.00071463\n",
      "Iteration 356, loss = 0.00071216\n",
      "Iteration 357, loss = 0.00070982\n",
      "Iteration 358, loss = 0.00070785\n",
      "Iteration 359, loss = 0.00070563\n",
      "Iteration 360, loss = 0.00070297\n",
      "Iteration 361, loss = 0.00070082\n",
      "Iteration 362, loss = 0.00069833\n",
      "Iteration 363, loss = 0.00069637\n",
      "Iteration 364, loss = 0.00069422\n",
      "Iteration 365, loss = 0.00069175\n",
      "Iteration 366, loss = 0.00069004\n",
      "Iteration 367, loss = 0.00068752\n",
      "Iteration 368, loss = 0.00068563\n",
      "Iteration 369, loss = 0.00068322\n",
      "Iteration 370, loss = 0.00068112\n",
      "Iteration 371, loss = 0.00067911\n",
      "Iteration 372, loss = 0.00067665\n",
      "Iteration 373, loss = 0.00067453\n",
      "Iteration 374, loss = 0.00067249\n",
      "Iteration 375, loss = 0.00067073\n",
      "Iteration 376, loss = 0.00066850\n",
      "Iteration 377, loss = 0.00066651\n",
      "Iteration 378, loss = 0.00066438\n",
      "Iteration 379, loss = 0.00066249\n",
      "Iteration 380, loss = 0.00066053\n",
      "Iteration 381, loss = 0.00065833\n",
      "Iteration 382, loss = 0.00065631\n",
      "Iteration 383, loss = 0.00065430\n",
      "Iteration 384, loss = 0.00065245\n",
      "Iteration 385, loss = 0.00065041\n",
      "Iteration 386, loss = 0.00064852\n",
      "Iteration 387, loss = 0.00064656\n",
      "Iteration 388, loss = 0.00064481\n",
      "Iteration 389, loss = 0.00064280\n",
      "Iteration 390, loss = 0.00064082\n",
      "Iteration 391, loss = 0.00063911\n",
      "Iteration 392, loss = 0.00063705\n",
      "Iteration 393, loss = 0.00063502\n",
      "Iteration 394, loss = 0.00063335\n",
      "Iteration 395, loss = 0.00063162\n",
      "Iteration 396, loss = 0.00062982\n",
      "Iteration 397, loss = 0.00062786\n",
      "Iteration 398, loss = 0.00062617\n",
      "Iteration 399, loss = 0.00062444\n",
      "Iteration 400, loss = 0.00062251\n",
      "Iteration 401, loss = 0.00062072\n",
      "Iteration 402, loss = 0.00061889\n",
      "Iteration 403, loss = 0.00061736\n",
      "Iteration 404, loss = 0.00061533\n",
      "Iteration 405, loss = 0.00061347\n",
      "Iteration 406, loss = 0.00061170\n",
      "Iteration 407, loss = 0.00060987\n",
      "Iteration 408, loss = 0.00060832\n",
      "Iteration 409, loss = 0.00060661\n",
      "Iteration 410, loss = 0.00060494\n",
      "Iteration 411, loss = 0.00060335\n",
      "Iteration 412, loss = 0.00060170\n",
      "Iteration 413, loss = 0.00059984\n",
      "Iteration 414, loss = 0.00059817\n",
      "Iteration 415, loss = 0.00059639\n",
      "Iteration 416, loss = 0.00059481\n",
      "Iteration 417, loss = 0.00059321\n",
      "Iteration 418, loss = 0.00059161\n",
      "Iteration 419, loss = 0.00059015\n",
      "Iteration 420, loss = 0.00058846\n",
      "Iteration 421, loss = 0.00058662\n",
      "Iteration 422, loss = 0.00058512\n",
      "Iteration 423, loss = 0.00058341\n",
      "Iteration 424, loss = 0.00058185\n",
      "Iteration 425, loss = 0.00058014\n",
      "Iteration 426, loss = 0.00057873\n",
      "Iteration 427, loss = 0.00057732\n",
      "Iteration 428, loss = 0.00057556\n",
      "Iteration 429, loss = 0.00057415\n",
      "Iteration 430, loss = 0.00057250\n",
      "Iteration 431, loss = 0.00057110\n",
      "Iteration 432, loss = 0.00056941\n",
      "Iteration 433, loss = 0.00056803\n",
      "Iteration 434, loss = 0.00056636\n",
      "Iteration 435, loss = 0.00056510\n",
      "Iteration 436, loss = 0.00056350\n",
      "Iteration 437, loss = 0.00056191\n",
      "Iteration 438, loss = 0.00056050\n",
      "Iteration 439, loss = 0.00055906\n",
      "Iteration 440, loss = 0.00055750\n",
      "Iteration 441, loss = 0.00055616\n",
      "Iteration 442, loss = 0.00055479\n",
      "Iteration 443, loss = 0.00055308\n",
      "Iteration 444, loss = 0.00055167\n",
      "Iteration 445, loss = 0.00055025\n",
      "Iteration 446, loss = 0.00054878\n",
      "Iteration 447, loss = 0.00054752\n",
      "Iteration 448, loss = 0.00054610\n",
      "Iteration 449, loss = 0.00054475\n",
      "Iteration 450, loss = 0.00054329\n",
      "Iteration 451, loss = 0.00054194\n",
      "Iteration 452, loss = 0.00054046\n",
      "Iteration 453, loss = 0.00053925\n",
      "Iteration 454, loss = 0.00053776\n",
      "Iteration 455, loss = 0.00053645\n",
      "Iteration 456, loss = 0.00053494\n",
      "Iteration 457, loss = 0.00053377\n",
      "Iteration 458, loss = 0.00053248\n",
      "Iteration 459, loss = 0.00053102\n",
      "Iteration 460, loss = 0.00052968\n",
      "Iteration 461, loss = 0.00052830\n",
      "Iteration 462, loss = 0.00052702\n",
      "Iteration 463, loss = 0.00052571\n",
      "Iteration 464, loss = 0.00052456\n",
      "Iteration 465, loss = 0.00052308\n",
      "Iteration 466, loss = 0.00052195\n",
      "Iteration 467, loss = 0.00052048\n",
      "Iteration 468, loss = 0.00051923\n",
      "Iteration 469, loss = 0.00051797\n",
      "Iteration 470, loss = 0.00051682\n",
      "Iteration 471, loss = 0.00051535\n",
      "Iteration 472, loss = 0.00051424\n",
      "Iteration 473, loss = 0.00051293\n",
      "Iteration 474, loss = 0.00051175\n",
      "Iteration 475, loss = 0.00051059\n",
      "Iteration 476, loss = 0.00050924\n",
      "Iteration 477, loss = 0.00050805\n",
      "Iteration 478, loss = 0.00050683\n",
      "Iteration 479, loss = 0.00050556\n",
      "Iteration 480, loss = 0.00050443\n",
      "Iteration 481, loss = 0.00050320\n",
      "Iteration 482, loss = 0.00050216\n",
      "Iteration 483, loss = 0.00050070\n",
      "Iteration 484, loss = 0.00049962\n",
      "Iteration 485, loss = 0.00049838\n",
      "Iteration 486, loss = 0.00049721\n",
      "Iteration 487, loss = 0.00049609\n",
      "Iteration 488, loss = 0.00049485\n",
      "Iteration 489, loss = 0.00049366\n",
      "Iteration 490, loss = 0.00049271\n",
      "Iteration 491, loss = 0.00049133\n",
      "Iteration 492, loss = 0.00049031\n",
      "Iteration 493, loss = 0.00048917\n",
      "Iteration 494, loss = 0.00048790\n",
      "Iteration 495, loss = 0.00048673\n",
      "Iteration 496, loss = 0.00048566\n",
      "Iteration 497, loss = 0.00048454\n",
      "Iteration 498, loss = 0.00048348\n",
      "Iteration 499, loss = 0.00048228\n",
      "Iteration 500, loss = 0.00048120\n",
      "Iteration 501, loss = 0.00048008\n",
      "Iteration 502, loss = 0.00047899\n",
      "Iteration 503, loss = 0.00047786\n",
      "Iteration 504, loss = 0.00047700\n",
      "Iteration 505, loss = 0.00047593\n",
      "Iteration 506, loss = 0.00047473\n",
      "Iteration 507, loss = 0.00047360\n"
     ]
    },
    {
     "name": "stdout",
     "output_type": "stream",
     "text": [
      "Iteration 508, loss = 0.00047250\n",
      "Iteration 509, loss = 0.00047162\n",
      "Iteration 510, loss = 0.00047042\n",
      "Iteration 511, loss = 0.00046937\n",
      "Iteration 512, loss = 0.00046835\n",
      "Iteration 513, loss = 0.00046726\n",
      "Iteration 514, loss = 0.00046619\n",
      "Iteration 515, loss = 0.00046515\n",
      "Iteration 516, loss = 0.00046409\n",
      "Iteration 517, loss = 0.00046307\n",
      "Iteration 518, loss = 0.00046204\n",
      "Iteration 519, loss = 0.00046102\n",
      "Iteration 520, loss = 0.00046009\n",
      "Iteration 521, loss = 0.00045901\n",
      "Iteration 522, loss = 0.00045804\n",
      "Iteration 523, loss = 0.00045697\n",
      "Iteration 524, loss = 0.00045608\n",
      "Iteration 525, loss = 0.00045518\n",
      "Iteration 526, loss = 0.00045408\n",
      "Iteration 527, loss = 0.00045295\n",
      "Iteration 528, loss = 0.00045204\n",
      "Iteration 529, loss = 0.00045104\n",
      "Iteration 530, loss = 0.00044999\n",
      "Iteration 531, loss = 0.00044900\n",
      "Iteration 532, loss = 0.00044814\n",
      "Iteration 533, loss = 0.00044724\n",
      "Iteration 534, loss = 0.00044621\n",
      "Iteration 535, loss = 0.00044516\n",
      "Iteration 536, loss = 0.00044423\n",
      "Iteration 537, loss = 0.00044341\n",
      "Iteration 538, loss = 0.00044233\n",
      "Iteration 539, loss = 0.00044144\n",
      "Iteration 540, loss = 0.00044043\n",
      "Iteration 541, loss = 0.00043959\n",
      "Iteration 542, loss = 0.00043875\n",
      "Iteration 543, loss = 0.00043766\n",
      "Iteration 544, loss = 0.00043679\n",
      "Iteration 545, loss = 0.00043581\n",
      "Iteration 546, loss = 0.00043491\n",
      "Iteration 547, loss = 0.00043400\n",
      "Iteration 548, loss = 0.00043311\n",
      "Iteration 549, loss = 0.00043220\n",
      "Iteration 550, loss = 0.00043128\n",
      "Iteration 551, loss = 0.00043043\n",
      "Iteration 552, loss = 0.00042950\n",
      "Iteration 553, loss = 0.00042870\n",
      "Iteration 554, loss = 0.00042784\n",
      "Training loss did not improve more than tol=0.000001 for 10 consecutive epochs. Stopping.\n",
      "Training set score: 1.000000\n",
      "Test set score: 0.848516\n"
     ]
    },
    {
     "data": {
      "image/png": "[encoded data removed]",
      "text/plain": [
       "<Figure size 432x288 with 16 Axes>"
      ]
     },
     "metadata": {},
     "output_type": "display_data"
    },
    {
     "name": "stdout",
     "output_type": "stream",
     "text": [
      "Wall time: 16 s\n"
     ]
    }
   ],
   "source": [
    "%%time\n",
    "# WE CAN CHANGE ALPHA \n",
    "#  We choose the number of pictures for the Training  Phase\n",
    "#  and the \"rest\" will be used for the Test Phase\n",
    "X_train, X_test = Ximg[:600], Ximg[600:]\n",
    "y_train, y_test = yimg[:600], yimg[600:]\n",
    "\n",
    "mlp = MLPClassifier(hidden_layer_sizes=(60,), \n",
    "                    max_iter=1000, # It is a maximum \n",
    "                    alpha=1e-6,\n",
    "                    solver='sgd', \n",
    "                    verbose=10, \n",
    "                    random_state=1,\n",
    "                    learning_rate_init=.1,\n",
    "                    tol=0.00000100)\n",
    "                    ## It is about the  stopping criterium)\n",
    "\n",
    "mlp.fit(X_train, y_train)\n",
    "print(\"Training set score: %f\" % mlp.score(X_train, y_train))\n",
    "print(\"Test set score: %f\" % mlp.score(X_test, y_test))\n",
    "\n",
    "fig, axes = plt.subplots(4, 4)\n",
    "# use global min / max to ensure all weights are shown on the same scale\n",
    "vmin, vmax = mlp.coefs_[0].min(), mlp.coefs_[0].max()\n",
    "for coef, ax in zip(mlp.coefs_[0].T, axes.ravel()):\n",
    "    ax.matshow(coef.reshape(28, 28), cmap=plt.cm.gray, vmin=.5 * vmin,\n",
    "               vmax=.5 * vmax)\n",
    "    ax.set_xticks(())\n",
    "    ax.set_yticks(())\n",
    "\n",
    "plt.show()"
   ]
  },
  {
   "cell_type": "code",
   "execution_count": 81,
   "metadata": {},
   "outputs": [
    {
     "name": "stdout",
     "output_type": "stream",
     "text": [
      "[[-1.04002457, 0.03], [0.4, 0.03], [1.1148241, 0.04]]\n"
     ]
    }
   ],
   "source": [
    "A=clf.coefs_[2]\n",
    "print(A)"
   ]
  },
  {
   "cell_type": "code",
   "execution_count": 78,
   "metadata": {},
   "outputs": [
    {
     "name": "stdout",
     "output_type": "stream",
     "text": [
      "[[-1.36159980e-04  6.71349684e-04 -4.13539676e-03 ...  2.10294763e-03\n",
      "  -2.42189318e-03 -1.26898483e-04]\n",
      " [ 2.76274033e-01 -4.47315885e-02  1.08798164e-01 ... -1.09421561e-01\n",
      "   5.73299871e-02 -7.89209704e-02]\n",
      " [-1.96462773e-01 -3.79991640e-02  9.30312952e-02 ... -5.22575692e-03\n",
      "  -1.17806951e-02 -1.15015011e-01]\n",
      " ...\n",
      " [ 1.43438886e-01  5.68098669e-02 -2.09824051e-01 ...  1.86748954e-01\n",
      "   2.24792271e-01  2.55260491e-01]\n",
      " [-5.02576439e-02 -1.18450216e-01  2.25613782e-02 ... -4.70455574e-02\n",
      "  -2.35276185e-01 -4.80072298e-03]\n",
      " [-1.48822562e-01  2.27936384e-02  2.09350520e-01 ... -1.51700259e-01\n",
      "  -2.29918622e-03 -8.11906907e-02]]\n",
      "[2.14280255 2.05028511 1.96280737 1.9146546  1.79800911 1.76475403\n",
      " 1.67095661 1.61806024 1.53926433 1.50068505 1.3932761  1.36276471\n",
      " 1.31398302 1.24509814 1.20595562 1.16812271 1.13159941 1.07445537\n",
      " 1.04393607 0.99578969 0.98377204 0.89126921 0.82852964 0.81295598\n",
      " 0.80479239 0.71265247 0.66852778 0.62963198 0.58035214 0.53923903\n",
      " 0.49701641 0.00983188]\n"
     ]
    }
   ],
   "source": [
    "clf.coefs_[2]=[[-1.04002457,  0.03],\n",
    " [ 0.4,  0.03],\n",
    "[1.1148241,  0.04]]\n",
    "U,S,VT=np.linalg.svd(A)\n",
    "print(S)"
   ]
  },
  {
   "cell_type": "code",
   "execution_count": null,
   "metadata": {},
   "outputs": [],
   "source": [
    "print(clf.coefs_)"
   ]
  },
  {
   "cell_type": "code",
   "execution_count": null,
   "metadata": {},
   "outputs": [],
   "source": [
    "A=clf.coefs_[0]\n",
    "U,S,VT=np.linalg.svd(A)\n",
    "print(S)"
   ]
  },
  {
   "cell_type": "code",
   "execution_count": null,
   "metadata": {},
   "outputs": [],
   "source": [
    "A=clf.coefs_[1]\n",
    "U,S,VT=np.linalg.svd(A)\n",
    "print(S)"
   ]
  },
  {
   "cell_type": "code",
   "execution_count": null,
   "metadata": {},
   "outputs": [],
   "source": [
    "A=clf.coefs_[2]\n",
    "U,S,VT=np.linalg.svd(A)\n",
    "print(S)"
   ]
  },
  {
   "cell_type": "code",
   "execution_count": null,
   "metadata": {},
   "outputs": [],
   "source": [
    "A=clf.coefs_[3]\n",
    "U,S,VT=np.linalg.svd(A)\n",
    "print(S)"
   ]
  },
  {
   "cell_type": "markdown",
   "metadata": {},
   "source": [
    "# A smaller example: the XOR function"
   ]
  },
  {
   "cell_type": "code",
   "execution_count": 82,
   "metadata": {},
   "outputs": [],
   "source": [
    "from sklearn.neural_network import MLPClassifier"
   ]
  },
  {
   "cell_type": "code",
   "execution_count": 87,
   "metadata": {},
   "outputs": [
    {
     "data": {
      "text/plain": [
       "MLPClassifier(alpha=1e-05, hidden_layer_sizes=(5, 2), random_state=1,\n",
       "              solver='lbfgs')"
      ]
     },
     "execution_count": 87,
     "metadata": {},
     "output_type": "execute_result"
    }
   ],
   "source": [
    "# Remember the XOR function gives\n",
    "# 0 XOR 0 =1\n",
    "# 0 XOR 1 =1\n",
    "# 1 XOR 0 =1\n",
    "# 1 XOR 1 =0\n",
    "X = [[0, 0], [1, 1],[0,1],[1,0]]\n",
    "y = [0, 0,1,1]\n",
    "clf = MLPClassifier(solver='lbfgs', alpha=1e-5,\n",
    "                    hidden_layer_sizes=(5,2), random_state=1)\n",
    "clf.fit(X, y)"
   ]
  },
  {
   "cell_type": "code",
   "execution_count": 89,
   "metadata": {},
   "outputs": [
    {
     "name": "stdout",
     "output_type": "stream",
     "text": [
      "[1]\n",
      "[0]\n",
      "[1]\n",
      "[0]\n"
     ]
    }
   ],
   "source": [
    "# We can ask for any value but be careful not to  overestimate the results\n",
    "print(clf.predict([[0.50000,0.500000]]))\n",
    "print(clf.predict([[0.99,0.99]]))\n",
    "print(clf.predict([[0.95,0.95]]))\n",
    "print(clf.predict([[0,0.00001]]))"
   ]
  },
  {
   "cell_type": "code",
   "execution_count": 90,
   "metadata": {},
   "outputs": [
    {
     "data": {
      "text/plain": [
       "MLPClassifier(alpha=1e-05, hidden_layer_sizes=(5, 2), random_state=1,\n",
       "              solver='lbfgs')"
      ]
     },
     "execution_count": 90,
     "metadata": {},
     "output_type": "execute_result"
    }
   ],
   "source": [
    "from sklearn.neural_network import MLPClassifier\n",
    "X = [[0., 0.], [1., 1.],[0.0001, 0.0001], [0.9, 1.0002]]\n",
    "y = [0, 1,0,1]\n",
    "clf = MLPClassifier(solver='lbfgs', alpha=1e-5,\n",
    "                    hidden_layer_sizes=(5,2), random_state=1)\n",
    "clf.fit(X, y)"
   ]
  },
  {
   "cell_type": "code",
   "execution_count": 93,
   "metadata": {},
   "outputs": [
    {
     "name": "stdout",
     "output_type": "stream",
     "text": [
      "[0]\n",
      "[1]\n",
      "[1]\n"
     ]
    }
   ],
   "source": [
    "print(clf.predict([[0.5,0.55]]))\n",
    "print(clf.predict([[0.99,0.99]]))\n",
    "print(clf.predict([[0.9,0.9]]))"
   ]
  },
  {
   "cell_type": "code",
   "execution_count": 165,
   "metadata": {},
   "outputs": [
    {
     "data": {
      "text/plain": [
       "array([1, 0, 0, 0, 0])"
      ]
     },
     "execution_count": 165,
     "metadata": {},
     "output_type": "execute_result"
    }
   ],
   "source": [
    "D=[[2., 2.], [-1., -2.],[0, 1.],[0, 0.],[0,1]]\n",
    "clf.predict(D)\n",
    "# array([1, 0, 0, 0, 0])"
   ]
  },
  {
   "cell_type": "code",
   "execution_count": 112,
   "metadata": {
    "collapsed": true
   },
   "outputs": [],
   "source": [
    "# We add a label: -1 "
   ]
  },
  {
   "cell_type": "code",
   "execution_count": 166,
   "metadata": {},
   "outputs": [
    {
     "data": {
      "text/plain": [
       "MLPClassifier(activation='relu', alpha=1e-05, batch_size='auto', beta_1=0.9,\n",
       "              beta_2=0.999, early_stopping=False, epsilon=1e-08,\n",
       "              hidden_layer_sizes=(5, 2), learning_rate='constant',\n",
       "              learning_rate_init=0.001, max_fun=15000, max_iter=200,\n",
       "              momentum=0.9, n_iter_no_change=10, nesterovs_momentum=True,\n",
       "              power_t=0.5, random_state=1, shuffle=True, solver='lbfgs',\n",
       "              tol=0.0001, validation_fraction=0.1, verbose=False,\n",
       "              warm_start=False)"
      ]
     },
     "execution_count": 166,
     "metadata": {},
     "output_type": "execute_result"
    }
   ],
   "source": [
    "from sklearn.neural_network import MLPClassifier\n",
    "X = [[0., 0.], [1., 1.], [0.001, 0.002], [1.001, 1.0002],[0,0.5],[0.5,0]]\n",
    "y = [0, 1,0,1,-1,-1]\n",
    "clf = MLPClassifier(solver='lbfgs', alpha=1e-5,\n",
    "                    hidden_layer_sizes=(5,2), random_state=1)\n",
    "clf.fit(X, y)"
   ]
  },
  {
   "cell_type": "code",
   "execution_count": 169,
   "metadata": {},
   "outputs": [
    {
     "data": {
      "text/plain": [
       "array([1, 0, 0, 0, 0, 0, 0])"
      ]
     },
     "execution_count": 169,
     "metadata": {},
     "output_type": "execute_result"
    }
   ],
   "source": [
    "D=[[2., 2.], [-1., -2.],[0, 1.],[0, 0.],[0,1], [0,0.5],[0.5,0]]\n",
    "clf.predict(D)\n",
    "# array([1, 0, 0, 0, 0])"
   ]
  },
  {
   "cell_type": "code",
   "execution_count": 150,
   "metadata": {},
   "outputs": [
    {
     "data": {
      "text/plain": [
       "MLPClassifier(activation='relu', alpha=1e-05, batch_size='auto', beta_1=0.9,\n",
       "              beta_2=0.999, early_stopping=False, epsilon=1e-08,\n",
       "              hidden_layer_sizes=(4, 4), learning_rate='constant',\n",
       "              learning_rate_init=0.001, max_fun=15000, max_iter=200,\n",
       "              momentum=0.9, n_iter_no_change=10, nesterovs_momentum=True,\n",
       "              power_t=0.5, random_state=1, shuffle=True, solver='lbfgs',\n",
       "              tol=0.0001, validation_fraction=0.1, verbose=False,\n",
       "              warm_start=False)"
      ]
     },
     "execution_count": 150,
     "metadata": {},
     "output_type": "execute_result"
    }
   ],
   "source": [
    "clf = MLPClassifier(solver='lbfgs', alpha=1e-5,\n",
    "                    hidden_layer_sizes=(4,4), random_state=1)\n",
    "clf.fit(X, y)"
   ]
  },
  {
   "cell_type": "code",
   "execution_count": 151,
   "metadata": {},
   "outputs": [
    {
     "data": {
      "text/plain": [
       "array([1, 0, 0, 0, 0])"
      ]
     },
     "execution_count": 151,
     "metadata": {},
     "output_type": "execute_result"
    }
   ],
   "source": [
    "D=[[2., 2.], [-1., -2.],[0, 1.],[0, 0.],[0,1]]\n",
    "clf.predict(D)\n",
    "# not good"
   ]
  },
  {
   "cell_type": "code",
   "execution_count": 152,
   "metadata": {},
   "outputs": [
    {
     "data": {
      "text/plain": [
       "[(2, 4), (4, 4), (4, 1)]"
      ]
     },
     "execution_count": 152,
     "metadata": {},
     "output_type": "execute_result"
    }
   ],
   "source": [
    "[coef.shape for coef in clf.coefs_]"
   ]
  },
  {
   "cell_type": "code",
   "execution_count": 153,
   "metadata": {},
   "outputs": [
    {
     "name": "stdout",
     "output_type": "stream",
     "text": [
      "[array([[-0.16593727,  0.44059927, -0.99965845, -0.39529025],\n",
      "       [-0.70640851, -0.81523082, -0.62740878, -0.3088437 ]]), array([[-0.51184596,  0.65484472, -0.81849634,  0.29522508],\n",
      "       [-0.14321612,  0.24084038, -0.62279782, -0.52284456],\n",
      "       [ 0.5208461 ,  0.81096133, -0.32312234,  0.33307496],\n",
      "       [ 0.65185158,  1.35122771, -0.71864342, -0.79829046]]), array([[ 1.00307251],\n",
      "       [-1.0203715 ],\n",
      "       [ 0.42033427],\n",
      "       [-0.4041394 ]])]\n"
     ]
    }
   ],
   "source": [
    "# The array of all layers: Matrices\n",
    "print(clf.coefs_)"
   ]
  },
  {
   "cell_type": "code",
   "execution_count": 154,
   "metadata": {},
   "outputs": [
    {
     "name": "stdout",
     "output_type": "stream",
     "text": [
      "[[-0.16593727  0.44059927 -0.99965845 -0.39529025]\n",
      " [-0.70640851 -0.81523082 -0.62740878 -0.3088437 ]]\n"
     ]
    }
   ],
   "source": [
    "print(clf.coefs_[0])"
   ]
  },
  {
   "cell_type": "code",
   "execution_count": 34,
   "metadata": {
    "collapsed": true
   },
   "outputs": [],
   "source": []
  },
  {
   "cell_type": "code",
   "execution_count": 155,
   "metadata": {},
   "outputs": [
    {
     "name": "stdout",
     "output_type": "stream",
     "text": [
      "[1.42849609 0.99462239]\n"
     ]
    }
   ],
   "source": [
    "A=clf.coefs_[0]\n",
    "U,S,VT=np.linalg.svd(A)\n",
    "print(S)"
   ]
  },
  {
   "cell_type": "code",
   "execution_count": 156,
   "metadata": {},
   "outputs": [
    {
     "name": "stdout",
     "output_type": "stream",
     "text": [
      "[2.19412955 1.05696282 0.88224397 0.16327871]\n"
     ]
    }
   ],
   "source": [
    "A=clf.coefs_[1]\n",
    "U,S,VT=np.linalg.svd(A)\n",
    "print(S)"
   ]
  },
  {
   "cell_type": "code",
   "execution_count": 157,
   "metadata": {},
   "outputs": [
    {
     "name": "stdout",
     "output_type": "stream",
     "text": [
      "[1.54509612]\n"
     ]
    }
   ],
   "source": [
    "A=clf.coefs_[2]\n",
    "U,S,VT=np.linalg.svd(A)\n",
    "print(S)"
   ]
  },
  {
   "cell_type": "code",
   "execution_count": 161,
   "metadata": {},
   "outputs": [
    {
     "name": "stdout",
     "output_type": "stream",
     "text": [
      "[[2.0, 2.0], [-1.0, -2.0], [0, 1.0], [0, 0.0], [0, 1]]\n",
      "[1 0 0 0 0]\n",
      "[[0.26535374 0.73464626]\n",
      " [0.98233053 0.01766947]\n",
      " [0.55869225 0.44130775]\n",
      " [0.63657902 0.36342098]\n",
      " [0.55869225 0.44130775]]\n"
     ]
    }
   ],
   "source": [
    "print(D)\n",
    "print(clf.predict(D))\n",
    "print(clf.predict_proba(D))"
   ]
  },
  {
   "cell_type": "markdown",
   "metadata": {},
   "source": [
    "# A full example\n",
    "## Be careful: you need enough  memory"
   ]
  },
  {
   "cell_type": "code",
   "execution_count": 170,
   "metadata": {},
   "outputs": [
    {
     "name": "stdout",
     "output_type": "stream",
     "text": [
      "Automatically created module for IPython interactive environment\n"
     ]
    },
    {
     "ename": "MemoryError",
     "evalue": "Unable to allocate array with shape (54950000,) and data type float64",
     "output_type": "error",
     "traceback": [
      "\u001b[1;31m---------------------------------------------------------------------------\u001b[0m",
      "\u001b[1;31mMemoryError\u001b[0m                               Traceback (most recent call last)",
      "\u001b[1;32m<ipython-input-170-628e08b5991d>\u001b[0m in \u001b[0;36m<module>\u001b[1;34m()\u001b[0m\n\u001b[0;32m      6\u001b[0m \u001b[1;33m\u001b[0m\u001b[0m\n\u001b[0;32m      7\u001b[0m \u001b[1;31m# Load data from https://www.openml.org/d/554\u001b[0m\u001b[1;33m\u001b[0m\u001b[1;33m\u001b[0m\u001b[0m\n\u001b[1;32m----> 8\u001b[1;33m \u001b[0mX\u001b[0m\u001b[1;33m,\u001b[0m \u001b[0my\u001b[0m \u001b[1;33m=\u001b[0m \u001b[0mfetch_openml\u001b[0m\u001b[1;33m(\u001b[0m\u001b[1;34m'mnist_784'\u001b[0m\u001b[1;33m,\u001b[0m \u001b[0mversion\u001b[0m\u001b[1;33m=\u001b[0m\u001b[1;36m1\u001b[0m\u001b[1;33m,\u001b[0m \u001b[0mreturn_X_y\u001b[0m\u001b[1;33m=\u001b[0m\u001b[1;32mTrue\u001b[0m\u001b[1;33m)\u001b[0m\u001b[1;33m\u001b[0m\u001b[0m\n\u001b[0m\u001b[0;32m      9\u001b[0m \u001b[0mX\u001b[0m \u001b[1;33m=\u001b[0m \u001b[0mX\u001b[0m \u001b[1;33m/\u001b[0m \u001b[1;36m255.\u001b[0m\u001b[1;33m\u001b[0m\u001b[0m\n\u001b[0;32m     10\u001b[0m \u001b[1;33m\u001b[0m\u001b[0m\n",
      "\u001b[1;32mc:\\users\\robert erra\\appdata\\local\\programs\\python\\python36-32\\lib\\site-packages\\sklearn\\datasets\\_openml.py\u001b[0m in \u001b[0;36mfetch_openml\u001b[1;34m(name, version, data_id, data_home, target_column, cache, return_X_y, as_frame)\u001b[0m\n\u001b[0;32m    760\u001b[0m \u001b[1;33m\u001b[0m\u001b[0m\n\u001b[0;32m    761\u001b[0m         X, y = _convert_arff_data(arff['data'], col_slice_x,\n\u001b[1;32m--> 762\u001b[1;33m                                   col_slice_y, shape)\n\u001b[0m\u001b[0;32m    763\u001b[0m \u001b[1;33m\u001b[0m\u001b[0m\n\u001b[0;32m    764\u001b[0m         is_classification = {col_name in nominal_attributes\n",
      "\u001b[1;32mc:\\users\\robert erra\\appdata\\local\\programs\\python\\python36-32\\lib\\site-packages\\sklearn\\datasets\\_openml.py\u001b[0m in \u001b[0;36m_convert_arff_data\u001b[1;34m(arff_data, col_slice_x, col_slice_y, shape)\u001b[0m\n\u001b[0;32m    248\u001b[0m             \u001b[0mcount\u001b[0m \u001b[1;33m=\u001b[0m \u001b[0mshape\u001b[0m\u001b[1;33m[\u001b[0m\u001b[1;36m0\u001b[0m\u001b[1;33m]\u001b[0m \u001b[1;33m*\u001b[0m \u001b[0mshape\u001b[0m\u001b[1;33m[\u001b[0m\u001b[1;36m1\u001b[0m\u001b[1;33m]\u001b[0m\u001b[1;33m\u001b[0m\u001b[0m\n\u001b[0;32m    249\u001b[0m         data = np.fromiter(itertools.chain.from_iterable(arff_data),\n\u001b[1;32m--> 250\u001b[1;33m                            dtype='float64', count=count)\n\u001b[0m\u001b[0;32m    251\u001b[0m         \u001b[0mdata\u001b[0m \u001b[1;33m=\u001b[0m \u001b[0mdata\u001b[0m\u001b[1;33m.\u001b[0m\u001b[0mreshape\u001b[0m\u001b[1;33m(\u001b[0m\u001b[1;33m*\u001b[0m\u001b[0mshape\u001b[0m\u001b[1;33m)\u001b[0m\u001b[1;33m\u001b[0m\u001b[0m\n\u001b[0;32m    252\u001b[0m         \u001b[0mX\u001b[0m \u001b[1;33m=\u001b[0m \u001b[0mdata\u001b[0m\u001b[1;33m[\u001b[0m\u001b[1;33m:\u001b[0m\u001b[1;33m,\u001b[0m \u001b[0mcol_slice_x\u001b[0m\u001b[1;33m]\u001b[0m\u001b[1;33m\u001b[0m\u001b[0m\n",
      "\u001b[1;31mMemoryError\u001b[0m: Unable to allocate array with shape (54950000,) and data type float64"
     ]
    }
   ],
   "source": [
    "import matplotlib.pyplot as plt\n",
    "from sklearn.datasets import fetch_openml\n",
    "from sklearn.neural_network import MLPClassifier\n",
    "\n",
    "print(__doc__)\n",
    "\n",
    "# Load data from https://www.openml.org/d/554\n",
    "X, y = fetch_openml('mnist_784', version=1, return_X_y=True)\n",
    "X = X / 255.\n",
    "\n",
    "# rescale the data, use the traditional train/test split\n",
    "X_train, X_test = X[:60000], X[60000:]\n",
    "y_train, y_test = y[:60000], y[60000:]\n",
    "\n",
    "mlp = MLPClassifier(hidden_layer_sizes=(50,), max_iter=10, alpha=1e-4,\n",
    "                    solver='sgd', verbose=10, random_state=1,\n",
    "                    learning_rate_init=.1)\n",
    "\n",
    "mlp.fit(X_train, y_train)\n",
    "print(\"Training set score: %f\" % mlp.score(X_train, y_train))\n",
    "print(\"Test set score: %f\" % mlp.score(X_test, y_test))\n",
    "\n",
    "fig, axes = plt.subplots(4, 4)\n",
    "# use global min / max to ensure all weights are shown on the same scale\n",
    "vmin, vmax = mlp.coefs_[0].min(), mlp.coefs_[0].max()\n",
    "for coef, ax in zip(mlp.coefs_[0].T, axes.ravel()):\n",
    "    ax.matshow(coef.reshape(28, 28), cmap=plt.cm.gray, vmin=.5 * vmin,\n",
    "               vmax=.5 * vmax)\n",
    "    ax.set_xticks(())\n",
    "    ax.set_yticks(())\n",
    "\n",
    "plt.show()"
   ]
  },
  {
   "cell_type": "markdown",
   "metadata": {
    "collapsed": true
   },
   "source": [
    "# Compare Stochastic learning strategies for MLPClassifier¶ \n",
    "## https://scikit-learn.org/stable/auto_examples/neural_networks/plot_mlp_training_curves.html#sphx-glr-auto-examples-neural-networks-plot-mlp-training-curves-py"
   ]
  },
  {
   "cell_type": "code",
   "execution_count": null,
   "metadata": {
    "collapsed": true
   },
   "outputs": [],
   "source": [
    "print(__doc__)\n",
    "\n",
    "import warnings\n",
    "\n",
    "import matplotlib.pyplot as plt\n",
    "\n",
    "from sklearn.neural_network import MLPClassifier\n",
    "from sklearn.preprocessing import MinMaxScaler\n",
    "from sklearn import datasets\n",
    "from sklearn.exceptions import ConvergenceWarning"
   ]
  },
  {
   "cell_type": "code",
   "execution_count": 95,
   "metadata": {},
   "outputs": [],
   "source": [
    "# different learning rate schedules and momentum parameters\n",
    "params = [{'solver': 'sgd', 'learning_rate': 'constant', 'momentum': 0,\n",
    "           'learning_rate_init': 0.2},\n",
    "          {'solver': 'sgd', 'learning_rate': 'constant', 'momentum': .9,\n",
    "           'nesterovs_momentum': False, 'learning_rate_init': 0.2},\n",
    "          {'solver': 'sgd', 'learning_rate': 'constant', 'momentum': .9,\n",
    "           'nesterovs_momentum': True, 'learning_rate_init': 0.2},\n",
    "          {'solver': 'sgd', 'learning_rate': 'invscaling', 'momentum': 0,\n",
    "           'learning_rate_init': 0.2},\n",
    "          {'solver': 'sgd', 'learning_rate': 'invscaling', 'momentum': .9,\n",
    "           'nesterovs_momentum': True, 'learning_rate_init': 0.2},\n",
    "          {'solver': 'sgd', 'learning_rate': 'invscaling', 'momentum': .9,\n",
    "           'nesterovs_momentum': False, 'learning_rate_init': 0.2},\n",
    "          {'solver': 'adam', 'learning_rate_init': 0.01}]"
   ]
  },
  {
   "cell_type": "code",
   "execution_count": 96,
   "metadata": {},
   "outputs": [],
   "source": [
    "labels = [\"constant learning-rate\", \"constant with momentum\",\n",
    "          \"constant with Nesterov's momentum\",\n",
    "          \"inv-scaling learning-rate\", \"inv-scaling with momentum\",\n",
    "          \"inv-scaling with Nesterov's momentum\", \"adam\"]"
   ]
  },
  {
   "cell_type": "code",
   "execution_count": 97,
   "metadata": {},
   "outputs": [],
   "source": [
    "plot_args = [{'c': 'red', 'linestyle': '-'},\n",
    "             {'c': 'green', 'linestyle': '-'},\n",
    "             {'c': 'blue', 'linestyle': '-'},\n",
    "             {'c': 'red', 'linestyle': '--'},\n",
    "             {'c': 'green', 'linestyle': '--'},\n",
    "             {'c': 'blue', 'linestyle': '--'},\n",
    "             {'c': 'black', 'linestyle': '-'}]"
   ]
  },
  {
   "cell_type": "code",
   "execution_count": 100,
   "metadata": {},
   "outputs": [],
   "source": [
    "def plot_on_dataset(X, y, ax, name):\n",
    "    # for each dataset, plot learning for each learning strategy\n",
    "    print(\"\\nlearning on dataset %s\" % name)\n",
    "    ax.set_title(name)\n",
    "\n",
    "    X = MinMaxScaler().fit_transform(X)\n",
    "    mlps = []\n",
    "    if name == \"digits\":\n",
    "        # digits is larger but converges fairly quickly\n",
    "        max_iter = 15\n",
    "    else:\n",
    "        max_iter = 400\n",
    "\n",
    "    for label, param in zip(labels, params):\n",
    "        print(\"training: %s\" % label)\n",
    "        mlp = MLPClassifier(random_state=0,\n",
    "                            max_iter=max_iter, **param)\n",
    "\n",
    "        # some parameter combinations will not converge as can be seen on the\n",
    "        # plots so they are ignored here\n",
    "        with warnings.catch_warnings():\n",
    "            warnings.filterwarnings(\"ignore\", category=ConvergenceWarning,\n",
    "                                    module=\"sklearn\")\n",
    "            mlp.fit(X, y)\n",
    "\n",
    "        mlps.append(mlp)\n",
    "        print(\"Training set score: %f\" % mlp.score(X, y))\n",
    "        print(\"Training set loss: %f\" % mlp.loss_)\n",
    "    for mlp, label, args in zip(mlps, labels, plot_args):\n",
    "        ax.plot(mlp.loss_curve_, label=label, **args)"
   ]
  },
  {
   "cell_type": "code",
   "execution_count": 101,
   "metadata": {},
   "outputs": [
    {
     "ename": "NameError",
     "evalue": "name 'datasets' is not defined",
     "output_type": "error",
     "traceback": [
      "\u001b[1;31m---------------------------------------------------------------------------\u001b[0m",
      "\u001b[1;31mNameError\u001b[0m                                 Traceback (most recent call last)",
      "\u001b[1;32m<ipython-input-101-33dbb739bb25>\u001b[0m in \u001b[0;36m<module>\u001b[1;34m\u001b[0m\n\u001b[0;32m      1\u001b[0m \u001b[0mfig\u001b[0m\u001b[1;33m,\u001b[0m \u001b[0maxes\u001b[0m \u001b[1;33m=\u001b[0m \u001b[0mplt\u001b[0m\u001b[1;33m.\u001b[0m\u001b[0msubplots\u001b[0m\u001b[1;33m(\u001b[0m\u001b[1;36m2\u001b[0m\u001b[1;33m,\u001b[0m \u001b[1;36m2\u001b[0m\u001b[1;33m,\u001b[0m \u001b[0mfigsize\u001b[0m\u001b[1;33m=\u001b[0m\u001b[1;33m(\u001b[0m\u001b[1;36m15\u001b[0m\u001b[1;33m,\u001b[0m \u001b[1;36m10\u001b[0m\u001b[1;33m)\u001b[0m\u001b[1;33m)\u001b[0m\u001b[1;33m\u001b[0m\u001b[1;33m\u001b[0m\u001b[0m\n\u001b[0;32m      2\u001b[0m \u001b[1;31m# load / generate some toy datasets\u001b[0m\u001b[1;33m\u001b[0m\u001b[1;33m\u001b[0m\u001b[1;33m\u001b[0m\u001b[0m\n\u001b[1;32m----> 3\u001b[1;33m \u001b[0miris\u001b[0m \u001b[1;33m=\u001b[0m \u001b[0mdatasets\u001b[0m\u001b[1;33m.\u001b[0m\u001b[0mload_iris\u001b[0m\u001b[1;33m(\u001b[0m\u001b[1;33m)\u001b[0m\u001b[1;33m\u001b[0m\u001b[1;33m\u001b[0m\u001b[0m\n\u001b[0m\u001b[0;32m      4\u001b[0m \u001b[0mX_digits\u001b[0m\u001b[1;33m,\u001b[0m \u001b[0my_digits\u001b[0m \u001b[1;33m=\u001b[0m \u001b[0mdatasets\u001b[0m\u001b[1;33m.\u001b[0m\u001b[0mload_digits\u001b[0m\u001b[1;33m(\u001b[0m\u001b[0mreturn_X_y\u001b[0m\u001b[1;33m=\u001b[0m\u001b[1;32mTrue\u001b[0m\u001b[1;33m)\u001b[0m\u001b[1;33m\u001b[0m\u001b[1;33m\u001b[0m\u001b[0m\n\u001b[0;32m      5\u001b[0m data_sets = [(iris.data, iris.target),\n",
      "\u001b[1;31mNameError\u001b[0m: name 'datasets' is not defined"
     ]
    },
    {
     "data": {
      "image/png": "[encoded data removed]",
      "text/plain": [
       "<Figure size 1080x720 with 4 Axes>"
      ]
     },
     "metadata": {
      "needs_background": "light"
     },
     "output_type": "display_data"
    }
   ],
   "source": [
    "fig, axes = plt.subplots(2, 2, figsize=(15, 10))\n",
    "# load / generate some toy datasets\n",
    "iris = datasets.load_iris()\n",
    "X_digits, y_digits = datasets.load_digits(return_X_y=True)\n",
    "data_sets = [(iris.data, iris.target),\n",
    "             (X_digits, y_digits),\n",
    "             datasets.make_circles(noise=0.2, factor=0.5, random_state=1),\n",
    "             datasets.make_moons(noise=0.3, random_state=0)]"
   ]
  },
  {
   "cell_type": "code",
   "execution_count": 176,
   "metadata": {},
   "outputs": [
    {
     "name": "stdout",
     "output_type": "stream",
     "text": [
      "\n",
      "learning on dataset iris\n",
      "training: constant learning-rate\n",
      "Training set score: 0.980000\n",
      "Training set loss: 0.096950\n",
      "training: constant with momentum\n",
      "Training set score: 0.980000\n",
      "Training set loss: 0.049530\n",
      "training: constant with Nesterov's momentum\n",
      "Training set score: 0.980000\n",
      "Training set loss: 0.049540\n",
      "training: inv-scaling learning-rate\n",
      "Training set score: 0.360000\n",
      "Training set loss: 0.978444\n",
      "training: inv-scaling with momentum\n",
      "Training set score: 0.860000\n",
      "Training set loss: 0.503452\n",
      "training: inv-scaling with Nesterov's momentum\n",
      "Training set score: 0.860000\n",
      "Training set loss: 0.504185\n",
      "training: adam\n",
      "Training set score: 0.980000\n",
      "Training set loss: 0.045311\n",
      "\n",
      "learning on dataset digits\n",
      "training: constant learning-rate\n",
      "Training set score: 0.956038\n",
      "Training set loss: 0.243802\n",
      "training: constant with momentum\n",
      "Training set score: 0.992766\n",
      "Training set loss: 0.041297\n",
      "training: constant with Nesterov's momentum\n",
      "Training set score: 0.993879\n",
      "Training set loss: 0.042898\n",
      "training: inv-scaling learning-rate\n",
      "Training set score: 0.638843\n",
      "Training set loss: 1.855465\n",
      "training: inv-scaling with momentum\n",
      "Training set score: 0.912632\n",
      "Training set loss: 0.290584\n",
      "training: inv-scaling with Nesterov's momentum\n",
      "Training set score: 0.909293\n",
      "Training set loss: 0.318387\n",
      "training: adam\n",
      "Training set score: 0.991653\n",
      "Training set loss: 0.045934\n",
      "\n",
      "learning on dataset circles\n",
      "training: constant learning-rate\n",
      "Training set score: 0.840000\n",
      "Training set loss: 0.601052\n",
      "training: constant with momentum\n",
      "Training set score: 0.940000\n",
      "Training set loss: 0.157334\n",
      "training: constant with Nesterov's momentum\n",
      "Training set score: 0.940000\n",
      "Training set loss: 0.154453\n",
      "training: inv-scaling learning-rate\n",
      "Training set score: 0.500000\n",
      "Training set loss: 0.692470\n",
      "training: inv-scaling with momentum\n",
      "Training set score: 0.500000\n",
      "Training set loss: 0.689143\n",
      "training: inv-scaling with Nesterov's momentum\n",
      "Training set score: 0.500000\n",
      "Training set loss: 0.689751\n",
      "training: adam\n",
      "Training set score: 0.940000\n",
      "Training set loss: 0.150527\n",
      "\n",
      "learning on dataset moons\n",
      "training: constant learning-rate\n",
      "Training set score: 0.850000\n",
      "Training set loss: 0.341523\n",
      "training: constant with momentum\n",
      "Training set score: 0.850000\n",
      "Training set loss: 0.336188\n",
      "training: constant with Nesterov's momentum\n",
      "Training set score: 0.850000\n",
      "Training set loss: 0.335919\n",
      "training: inv-scaling learning-rate\n",
      "Training set score: 0.500000\n",
      "Training set loss: 0.689015\n",
      "training: inv-scaling with momentum\n",
      "Training set score: 0.830000\n",
      "Training set loss: 0.512595\n",
      "training: inv-scaling with Nesterov's momentum\n",
      "Training set score: 0.830000\n",
      "Training set loss: 0.513034\n",
      "training: adam\n",
      "Training set score: 0.930000\n",
      "Training set loss: 0.170087\n"
     ]
    }
   ],
   "source": [
    "for ax, data, name in zip(axes.ravel(), data_sets, ['iris', 'digits',\n",
    "                                                    'circles', 'moons']):\n",
    "    plot_on_dataset(*data, ax=ax, name=name)\n",
    "\n",
    "fig.legend(ax.get_lines(), labels, ncol=3, loc=\"upper center\")\n",
    "plt.show()"
   ]
  },
  {
   "cell_type": "code",
   "execution_count": null,
   "metadata": {
    "collapsed": true
   },
   "outputs": [],
   "source": []
  }
 ],
 "metadata": {
  "kernelspec": {
   "display_name": "Python 3 (ipykernel)",
   "language": "python",
   "name": "python3"
  },
  "language_info": {
   "codemirror_mode": {
    "name": "ipython",
    "version": 3
   },
   "file_extension": ".py",
   "mimetype": "text/x-python",
   "name": "python",
   "nbconvert_exporter": "python",
   "pygments_lexer": "ipython3",
   "version": "3.9.7"
  }
 },
 "nbformat": 4,
 "nbformat_minor": 2
}
