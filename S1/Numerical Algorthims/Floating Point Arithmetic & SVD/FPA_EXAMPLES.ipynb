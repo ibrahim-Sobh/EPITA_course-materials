{
 "cells": [
  {
   "cell_type": "markdown",
   "metadata": {},
   "source": [
    "# Floating Point Arithmetic in a Nutshell\n",
    "# EPITA Msc AIS\n",
    "# Numerical Algorithms  for AI"
   ]
  },
  {
   "cell_type": "code",
   "execution_count": null,
   "metadata": {},
   "outputs": [],
   "source": [
    "from math import *"
   ]
  },
  {
   "cell_type": "markdown",
   "metadata": {},
   "source": [
    "## Some  examples"
   ]
  },
  {
   "cell_type": "code",
   "execution_count": null,
   "metadata": {},
   "outputs": [],
   "source": [
    "messout='#### Strong Problem ####'\n",
    "x=0.8\n",
    "y=0.4\n",
    "z=1.2"
   ]
  },
  {
   "cell_type": "markdown",
   "metadata": {},
   "source": [
    "#### Mathematically we have\n",
    "\n",
    "x + y == z\n",
    "\n",
    "z - y == x\n",
    "\n",
    "z - x == y\n",
    "\n",
    "z - x - y == 0 "
   ]
  },
  {
   "cell_type": "code",
   "execution_count": null,
   "metadata": {},
   "outputs": [],
   "source": [
    "# Is it \"numerically\" true with Computer numbers, \n",
    "# i.e. with Floating Point  Numbers ?\n",
    "if ((x+y)==z):\n",
    "   print(\"OK\")\n",
    "else:\n",
    "   print(messout)"
   ]
  },
  {
   "cell_type": "code",
   "execution_count": null,
   "metadata": {},
   "outputs": [],
   "source": [
    "if ((z-y)==x):\n",
    "   print(\"OK\")\n",
    "else:\n",
    "   print(messout)"
   ]
  },
  {
   "cell_type": "code",
   "execution_count": null,
   "metadata": {},
   "outputs": [],
   "source": [
    "if ((z-x)==y):\n",
    "   print(\"OK\")\n",
    "else:\n",
    "   print(messout)"
   ]
  },
  {
   "cell_type": "code",
   "execution_count": null,
   "metadata": {},
   "outputs": [],
   "source": [
    "if (((z-x)-y))==0.0:\n",
    "   print(\"OK\")\n",
    "else:\n",
    "   print(messout)"
   ]
  },
  {
   "cell_type": "code",
   "execution_count": null,
   "metadata": {},
   "outputs": [],
   "source": [
    "print(z-x-y)\n",
    "print(z-(x+y))"
   ]
  },
  {
   "cell_type": "markdown",
   "metadata": {},
   "source": [
    "# Another example"
   ]
  },
  {
   "cell_type": "code",
   "execution_count": null,
   "metadata": {},
   "outputs": [],
   "source": [
    "if ((0.1+0.1)==0.2):\n",
    "   print(\"OK\")\n",
    "else:\n",
    "   print(messout)"
   ]
  },
  {
   "cell_type": "code",
   "execution_count": null,
   "metadata": {},
   "outputs": [],
   "source": [
    "if ((0.1+0.1+0.1)==0.3):\n",
    "   print(\"OK\")\n",
    "else:\n",
    "   print(messout)"
   ]
  },
  {
   "cell_type": "code",
   "execution_count": null,
   "metadata": {},
   "outputs": [],
   "source": [
    "if ((0.1+0.1+0.1+0.1)==0.4):\n",
    "   print(\"OK\")\n",
    "else:\n",
    "   print(messout)"
   ]
  },
  {
   "cell_type": "code",
   "execution_count": null,
   "metadata": {},
   "outputs": [],
   "source": [
    "if ((0.1+0.1+0.1+0.1+0.1)==0.5):\n",
    "   print(\"OK\")\n",
    "else:\n",
    "   print(messout)"
   ]
  },
  {
   "cell_type": "code",
   "execution_count": null,
   "metadata": {},
   "outputs": [],
   "source": [
    "if ((0.1+0.1+0.1+0.1+0.1+0.1+0.1+0.1+0.1+0.1)==0.9):\n",
    "   print(\"OK\")\n",
    "else:\n",
    "   print(messout)"
   ]
  },
  {
   "cell_type": "code",
   "execution_count": null,
   "metadata": {},
   "outputs": [],
   "source": [
    "if ((0.1+0.1+0.1+0.1+0.1+0.1+0.1+0.1+0.1+0.1)==1):\n",
    "   print(\"OK\")\n",
    "else:\n",
    "   print(messout)\n",
    "print(0.1+0.1+0.1+0.1+0.1+0.1+0.1+0.1+0.1+0.1)"
   ]
  },
  {
   "cell_type": "code",
   "execution_count": null,
   "metadata": {},
   "outputs": [],
   "source": [
    "if ((0.1+0.1+0.1+0.1+0.1+0.1+0.1+0.1+0.1+0.2)==1):\n",
    "   print(\"OK\")\n",
    "else:\n",
    "   print(messout)"
   ]
  },
  {
   "cell_type": "code",
   "execution_count": null,
   "metadata": {},
   "outputs": [],
   "source": [
    "if ((0.1+0.1+0.1+0.1+0.1+0.1+0.1+0.1)==0.8):\n",
    "   print(\"OK\")\n",
    "else:\n",
    "   print(messout)"
   ]
  },
  {
   "cell_type": "code",
   "execution_count": null,
   "metadata": {},
   "outputs": [],
   "source": [
    "if ((0.2+0.2+0.2+0.2)==0.8):\n",
    "   print(\"OK\")\n",
    "else:\n",
    "   print(messout)"
   ]
  },
  {
   "cell_type": "code",
   "execution_count": null,
   "metadata": {},
   "outputs": [],
   "source": [
    "if ((0.1+0.1+0.2+0.2+0.2)==0.8):\n",
    "   print(\"OK\")\n",
    "else:\n",
    "   print(messout)"
   ]
  },
  {
   "cell_type": "code",
   "execution_count": null,
   "metadata": {},
   "outputs": [],
   "source": [
    "messg=\"\"\n",
    "s=0.0\n",
    "for i in range(1,200):\n",
    "    s=s+0.1\n",
    "    if (s==i*0.1):\n",
    "           messg=messg + \" **** OK ****\" \n",
    "    else:\n",
    "           messg=messg + messout\n",
    "print(messg)            "
   ]
  },
  {
   "cell_type": "code",
   "execution_count": null,
   "metadata": {},
   "outputs": [],
   "source": [
    "messg=\"\"\n",
    "s=0.0\n",
    "for i in range(1,200):\n",
    "    s=s+0.2\n",
    "    if (s==i*0.2):\n",
    "           messg=messg + \" **** OK ****\" \n",
    "    else:\n",
    "           messg=messg + messout\n",
    "print(messg)            "
   ]
  },
  {
   "cell_type": "code",
   "execution_count": null,
   "metadata": {},
   "outputs": [],
   "source": [
    "X=10.**15\n",
    "if (((1+X)+1)-X)==2:\n",
    "   print(\"OK\")\n",
    "else:\n",
    "   print(messout, (((1+X)+1)-X))"
   ]
  },
  {
   "cell_type": "code",
   "execution_count": null,
   "metadata": {},
   "outputs": [],
   "source": [
    "print(1+10.**100)\n",
    "print(((1+10.**100)+1)-10.**100)\n",
    "print(10.**100-10.**100+1+1)"
   ]
  },
  {
   "cell_type": "markdown",
   "metadata": {},
   "source": [
    "# Absorbtion error: examples"
   ]
  },
  {
   "cell_type": "code",
   "execution_count": null,
   "metadata": {},
   "outputs": [],
   "source": [
    "print(1.0+10**10)\n",
    "print(1.0+10**11)\n",
    "print(1.0+10**12)\n",
    "print(1.0+10**13)\n",
    "print(1.0+10**15)\n",
    "print(1.0+10**20)\n",
    "print(1.0+10.**200)"
   ]
  },
  {
   "cell_type": "code",
   "execution_count": null,
   "metadata": {},
   "outputs": [],
   "source": [
    "for i in range(20):\n",
    "   x=1.0 + 10**i\n",
    "   print(\"i=\", i,\" x=\",x, \" Diff: \",x-10**i)"
   ]
  },
  {
   "cell_type": "code",
   "execution_count": null,
   "metadata": {},
   "outputs": [],
   "source": [
    "x=0.123456789123456789199999999999999999999999999999999999\n",
    "y=0.12345678912345678919\n",
    "print(x, \"Diff:  \", x-y)"
   ]
  },
  {
   "cell_type": "code",
   "execution_count": null,
   "metadata": {},
   "outputs": [],
   "source": [
    "x=0.1234567891234567891\n",
    "print(x, \"Diff:  \", x-0.12345678912345678)"
   ]
  },
  {
   "cell_type": "code",
   "execution_count": null,
   "metadata": {},
   "outputs": [],
   "source": [
    "x=0.1234567891234567891\n",
    "print(x, \"Diff:  \", x-0.1234567891234567)  # Killed: 891"
   ]
  },
  {
   "cell_type": "code",
   "execution_count": null,
   "metadata": {},
   "outputs": [],
   "source": [
    "x=0.1234567891234567891\n",
    "print(x, \"Diff:  \", x-0.12345678912345678)"
   ]
  },
  {
   "cell_type": "code",
   "execution_count": null,
   "metadata": {},
   "outputs": [],
   "source": [
    "10**100+1"
   ]
  },
  {
   "cell_type": "markdown",
   "metadata": {},
   "source": [
    "# The square root paradox"
   ]
  },
  {
   "cell_type": "code",
   "execution_count": null,
   "metadata": {},
   "outputs": [],
   "source": [
    "A=sqrt(2.) # Be careful it if fl(sqrt(2))"
   ]
  },
  {
   "cell_type": "code",
   "execution_count": null,
   "metadata": {},
   "outputs": [],
   "source": [
    "if (A*A==2):\n",
    "   print(\"OK\")\n",
    "else:\n",
    "   print(messout)"
   ]
  },
  {
   "cell_type": "code",
   "execution_count": null,
   "metadata": {},
   "outputs": [],
   "source": [
    "print(A*A-2)\n",
    "print(A*A-2.0)\n",
    "print(A**2-2.0)"
   ]
  },
  {
   "cell_type": "markdown",
   "metadata": {},
   "source": [
    "# More examples  with functions"
   ]
  },
  {
   "cell_type": "code",
   "execution_count": null,
   "metadata": {},
   "outputs": [],
   "source": [
    "X= 192119201 \n",
    "Y= 35675640\n",
    "exp =(1682*X*Y^4+ 3*X^3+ 29*X*Y^2-2*X^5 + 832)/107751"
   ]
  },
  {
   "cell_type": "code",
   "execution_count": null,
   "metadata": {},
   "outputs": [],
   "source": [
    "# True  value: Z=1783\n",
    "Z=1783\n",
    "if (exp==Z):\n",
    "   print(\"OK\")\n",
    "else:\n",
    "   print(exp, messout)"
   ]
  },
  {
   "cell_type": "code",
   "execution_count": null,
   "metadata": {},
   "outputs": [],
   "source": [
    "X= 192119201 \n",
    "Y= 35675640\n",
    "exp =(1682*X*Y^4+ 3*X^3+ 29*X*Y^2-2*(X^3*X^2) + 832)/107751\n",
    "# exp =(1682*X*Y^4+ 3*X^3+ 29*X*Y^2-2*X^5 + 832)/107751\n",
    "print(exp)"
   ]
  },
  {
   "cell_type": "code",
   "execution_count": null,
   "metadata": {},
   "outputs": [],
   "source": [
    "print('Numerical value:depends strongly of your processor!=', exp)"
   ]
  },
  {
   "cell_type": "code",
   "execution_count": null,
   "metadata": {},
   "outputs": [],
   "source": [
    "# 8118*X^4 − 11482*X^3 + X^2 + 5741*X − 2030\n",
    "def f(X):\n",
    "    return (8118*X**4 - 11482*X**3 + X**2 + 5741*X - 2030)"
   ]
  },
  {
   "cell_type": "code",
   "execution_count": null,
   "metadata": {},
   "outputs": [],
   "source": [
    "print(f(1/sqrt(2)))\n"
   ]
  },
  {
   "cell_type": "code",
   "execution_count": null,
   "metadata": {},
   "outputs": [],
   "source": [
    "A=1/sqrt(2)\n",
    "print(f(A))\n",
    "# True value: 0 !"
   ]
  },
  {
   "cell_type": "markdown",
   "metadata": {},
   "source": [
    "### Problems  with the very  classical  sin(x) function"
   ]
  },
  {
   "cell_type": "code",
   "execution_count": null,
   "metadata": {},
   "outputs": [],
   "source": [
    "print(pi)"
   ]
  },
  {
   "cell_type": "code",
   "execution_count": null,
   "metadata": {},
   "outputs": [],
   "source": [
    "pi"
   ]
  },
  {
   "cell_type": "code",
   "execution_count": null,
   "metadata": {},
   "outputs": [],
   "source": [
    "# REMEMBER sin(pi*10**i) = 0 !\n",
    "# This is a pratical signature fo your processor\n",
    "for i in range(0,100,5):\n",
    "    print(\"i=\",i, \" numerical value \",sin(pi*10**i))"
   ]
  },
  {
   "cell_type": "markdown",
   "metadata": {},
   "source": [
    "### Problems with the sum"
   ]
  },
  {
   "cell_type": "code",
   "execution_count": null,
   "metadata": {},
   "outputs": [],
   "source": [
    "def WeirdSum(n):\n",
    "    s=0\n",
    "    for i in range(n):\n",
    "        s=s+10**n\n",
    "    return(s)    "
   ]
  },
  {
   "cell_type": "code",
   "execution_count": null,
   "metadata": {},
   "outputs": [],
   "source": [
    "print(WeirdSum(100))"
   ]
  },
  {
   "cell_type": "code",
   "execution_count": null,
   "metadata": {},
   "outputs": [],
   "source": [
    "def WeirdSum2(n):\n",
    "    s=0.0\n",
    "    for i in range(1,n):\n",
    "        s=s+10**n\n",
    "    return(s)    "
   ]
  },
  {
   "cell_type": "code",
   "execution_count": null,
   "metadata": {},
   "outputs": [],
   "source": [
    "for n in range(1,50):\n",
    "    print(\"i=\",n, \"Numerical value\",WeirdSum2(n) -(n-1)*10**n )"
   ]
  },
  {
   "cell_type": "markdown",
   "metadata": {},
   "source": [
    "# The Gentleman-Marovitch Code"
   ]
  },
  {
   "cell_type": "code",
   "execution_count": null,
   "metadata": {},
   "outputs": [],
   "source": [
    "# The Gentleman-Marovitch Code\n",
    "A=1.0\n",
    "while ((A+1.0)-A)-1.0==0:\n",
    "    A=2*A    \n",
    "# A is \"always\" a power of two!    "
   ]
  },
  {
   "cell_type": "code",
   "execution_count": null,
   "metadata": {},
   "outputs": [],
   "source": [
    "# We try to compute  the SMALLEST  value of n such that fl(1+2^n)==fl(2^n)\n",
    "print(A)    \n",
    "#print(A,\"  \",log(A)/log(2))\n",
    "print(A,\"  \",log(A,2))"
   ]
  },
  {
   "cell_type": "code",
   "execution_count": null,
   "metadata": {},
   "outputs": [],
   "source": [
    "B=1.0\n",
    "while (((A+B)-A)-B)==0:\n",
    "    print(B)\n",
    "    B=B+1.0    \n",
    "print(B)    "
   ]
  },
  {
   "cell_type": "code",
   "execution_count": null,
   "metadata": {},
   "outputs": [],
   "source": [
    "print(\"A=\",log(A,2))\n",
    "print(\"B=\",B)\n"
   ]
  },
  {
   "cell_type": "code",
   "execution_count": null,
   "metadata": {},
   "outputs": [],
   "source": [
    "log(A,2)"
   ]
  },
  {
   "cell_type": "markdown",
   "metadata": {},
   "source": [
    "#### See after (at the end) for a \"Homework/Practical Work\""
   ]
  },
  {
   "cell_type": "markdown",
   "metadata": {},
   "source": [
    "# Absoption Error !"
   ]
  },
  {
   "cell_type": "code",
   "execution_count": null,
   "metadata": {},
   "outputs": [],
   "source": [
    "print((A+1)-A)\n",
    "print(A+(1-A))\n",
    "print((A-A)+1)"
   ]
  },
  {
   "cell_type": "markdown",
   "metadata": {},
   "source": [
    "### We say that \"1 has been absorbed\" by A"
   ]
  },
  {
   "cell_type": "markdown",
   "metadata": {},
   "source": [
    "### Sometimes it is a good idea to rewrite  your expression !"
   ]
  },
  {
   "cell_type": "code",
   "execution_count": null,
   "metadata": {},
   "outputs": [],
   "source": [
    "def sum1(n):\n",
    "    return 1/(n**2) - 1/(n+1)**2"
   ]
  },
  {
   "cell_type": "code",
   "execution_count": null,
   "metadata": {},
   "outputs": [],
   "source": [
    "n=10**10\n",
    "print(sum1(n))"
   ]
  },
  {
   "cell_type": "code",
   "execution_count": null,
   "metadata": {},
   "outputs": [],
   "source": [
    "n=10**16\n",
    "print(sum1(n))\n",
    "n=10**17\n",
    "print(sum1(n))"
   ]
  },
  {
   "cell_type": "code",
   "execution_count": null,
   "metadata": {},
   "outputs": [],
   "source": [
    "def sum2(n):\n",
    "    return (1+2*n)/(n**2 * (n+1)**2)"
   ]
  },
  {
   "cell_type": "code",
   "execution_count": null,
   "metadata": {},
   "outputs": [],
   "source": [
    "n=10**16\n",
    "print(sum2(n))\n",
    "n=10**17\n",
    "print(sum2(n))"
   ]
  },
  {
   "cell_type": "code",
   "execution_count": null,
   "metadata": {},
   "outputs": [],
   "source": [
    "n=10**18\n",
    "print(sum2(n))"
   ]
  },
  {
   "cell_type": "code",
   "execution_count": null,
   "metadata": {},
   "outputs": [],
   "source": [
    "n=10**19\n",
    "print(sum2(n))"
   ]
  },
  {
   "cell_type": "code",
   "execution_count": null,
   "metadata": {},
   "outputs": [],
   "source": [
    "n=10**20\n",
    "print(sum2(n))"
   ]
  },
  {
   "cell_type": "code",
   "execution_count": null,
   "metadata": {},
   "outputs": [],
   "source": [
    "n=10**30\n",
    "print(sum2(n))"
   ]
  },
  {
   "cell_type": "code",
   "execution_count": null,
   "metadata": {},
   "outputs": [],
   "source": [
    "n=10**50\n",
    "print(sum2(n))"
   ]
  },
  {
   "cell_type": "code",
   "execution_count": null,
   "metadata": {},
   "outputs": [],
   "source": [
    "n=10**100\n",
    "print(sum2(n))"
   ]
  },
  {
   "cell_type": "markdown",
   "metadata": {
    "collapsed": true
   },
   "source": [
    "# Is there a GREATEST FPN ?"
   ]
  },
  {
   "cell_type": "code",
   "execution_count": null,
   "metadata": {},
   "outputs": [],
   "source": [
    "x=1/2 * 2**(2**10)\n",
    "print(x)"
   ]
  },
  {
   "cell_type": "code",
   "execution_count": null,
   "metadata": {},
   "outputs": [],
   "source": [
    "x=0.5 * 2.0**(2.0**10)\n",
    "print(x)"
   ]
  },
  {
   "cell_type": "code",
   "execution_count": null,
   "metadata": {},
   "outputs": [],
   "source": [
    "# EXPONENT  is written with 10 BITS\n",
    "# From 0 To 2**10-1\n",
    "x=0.5 * 2.0**(2.0**10-1)\n",
    "print(x)"
   ]
  },
  {
   "cell_type": "code",
   "execution_count": null,
   "metadata": {},
   "outputs": [],
   "source": [
    "# \"Max\" mantissa is exactly 1/2+1/4+1/8+1/16....+1/2^53+1/2^54\n",
    "x=(1./2.+ 1./4.+1/8.+1/16.+1/32.+1/64.+1/128.+1/256.+1/512.+1/1024.) * 2.0**(2**10-1)\n",
    "print(x)"
   ]
  },
  {
   "cell_type": "code",
   "execution_count": null,
   "metadata": {},
   "outputs": [],
   "source": [
    "# \"Max\" mantissa is exactly 1/2+1/4+1/8+1/16....+1/2^53+1/2^54\n",
    "x=(1./2.+ 1./4.+1/8.+1/16.+1/32.+1/64.+1/128.+1/256.+1/512.+1024.) * 2.0**(2**10-1)\n",
    "print(x)"
   ]
  },
  {
   "cell_type": "code",
   "execution_count": null,
   "metadata": {},
   "outputs": [],
   "source": [
    "print(2.0**1024)"
   ]
  },
  {
   "cell_type": "markdown",
   "metadata": {},
   "source": [
    "# HOMEWORK (EX)\n"
   ]
  },
  {
   "cell_type": "code",
   "execution_count": null,
   "metadata": {},
   "outputs": [],
   "source": [
    "# The \"Original\" Gentleman-Marovitch Code\n",
    "A=1.0\n",
    "while ((A+1.0)-A)-1.0==0:\n",
    "    A=2*A    \n",
    "# A is \"always\" a power of two!    \n",
    "# We try to compute  the SMALLEST  value of n such that fl(1+2^n)==fl(2^n)\n",
    "print(A)    \n",
    "print(A,\"  \",log(A)/log(2))\n",
    "print(A,\"  \",log(A,2))\n",
    "\n",
    "B=1.0\n",
    "while (((A+B)-A)-B)==0:\n",
    "    print(B)\n",
    "    B=B+1.0    \n",
    "\n",
    "print(\"A=\",A,log(A,2))\n",
    "print(\"B=\",B)"
   ]
  },
  {
   "cell_type": "markdown",
   "metadata": {},
   "source": [
    "This code, in C or in Java, outputs 53 for log(A,2)[Length of the Mantissa for a 64 bits processor]\n",
    "But it outputs 2 for B [the base used by your processor]."
   ]
  },
  {
   "cell_type": "markdown",
   "metadata": {},
   "source": [
    "In Python this code outputs outputs 53 for log(A,2)[Length of the Mantissa for a 64 bits processor]\n",
    "But it outputs 1 for B [the base used by your processor]."
   ]
  },
  {
   "cell_type": "markdown",
   "metadata": {},
   "source": [
    "## Question:  Try to modify the code for the computation of B such that your code outputs 2 for B!"
   ]
  },
  {
   "cell_type": "code",
   "execution_count": null,
   "metadata": {},
   "outputs": [],
   "source": [
    "#Answer:\n",
    "# The \"Python\" Code of  The \"Original\" Gentleman-Marovitch Code\n",
    "\n",
    "# The \"Original\" Gentleman-Marovitch Code\n",
    "A=1.0\n",
    "while ((A+1.0)-A)-1.0==0:\n",
    "    A=2*A    \n",
    "# A is \"always\" a power of two!    \n",
    "# We try to compute  the SMALLEST  value of n such that fl(1+2^n)==fl(2^n)\n",
    "print(A,\"  \",log(A,2))\n",
    "\n",
    "B=1.0\n",
    "Test=True\n",
    "Temp=0\n",
    "while  Test: \n",
    "    Temp=A+B\n",
    "    Temp=Temp-A\n",
    "    Temp=Temp-B\n",
    "    Test=(Temp==0)   \n",
    "    B=B+1.0    \n",
    "\n",
    "print(\"A=\",A,log(A,2))\n",
    "print(\"B=\",B)"
   ]
  },
  {
   "cell_type": "code",
   "execution_count": null,
   "metadata": {},
   "outputs": [],
   "source": []
  }
 ],
 "metadata": {
  "kernelspec": {
   "display_name": "Python 3",
   "language": "python",
   "name": "python3"
  },
  "language_info": {
   "codemirror_mode": {
    "name": "ipython",
    "version": 3
   },
   "file_extension": ".py",
   "mimetype": "text/x-python",
   "name": "python",
   "nbconvert_exporter": "python",
   "pygments_lexer": "ipython3",
   "version": "3.8.5"
  }
 },
 "nbformat": 4,
 "nbformat_minor": 2
}
