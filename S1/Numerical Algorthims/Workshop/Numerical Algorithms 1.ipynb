{
 "cells": [
  {
   "cell_type": "code",
   "execution_count": 11,
   "id": "2bc9ff73",
   "metadata": {},
   "outputs": [
    {
     "name": "stdout",
     "output_type": "stream",
     "text": [
      "no\n",
      "no\n",
      "-1.1102230246251565e-16\n",
      "-2.220446049250313e-16\n",
      "no\n",
      "ok\n"
     ]
    }
   ],
   "source": [
    "import math \n",
    "x=0.8\n",
    "y=0.4\n",
    "z=1.2\n",
    "\n",
    "if((x+y)==z):\n",
    "    print(\"ok\")\n",
    "else:\n",
    "    print(\"no\")\n",
    "    \n",
    "if((z-x)-y)==0.0:\n",
    "    print(\"ok\")\n",
    "else:\n",
    "    print(\"no\")\n",
    "\n",
    "print(z-x-y)\n",
    "print(z-(x+y))\n",
    "\n",
    "if ((0.1+0.1+0.1)==0.3):\n",
    "    print(\"ok\")\n",
    "else:\n",
    "    print(\"no\")\n",
    "\n",
    "if ((0.1+0.1+0.1+0.1)==0.4):\n",
    "    print(\"ok\")\n",
    "else:\n",
    "    print(\"no\")"
   ]
  },
  {
   "cell_type": "code",
   "execution_count": 37,
   "id": "02625a9d",
   "metadata": {},
   "outputs": [],
   "source": [
    "import numpy as np\n",
    "\n",
    "def greedy(arr):\n",
    "    candidate=arr[0]\n",
    "    count=1\n",
    "    nb_occ=1\n",
    "    for i in range(1,len(arr)):\n",
    "        if arr[i]==candidate:\n",
    "            count=count+1\n",
    "            nb_occ=nb_occ+1\n",
    "        else:\n",
    "            count=count-1\n",
    "        if count==0:\n",
    "            candidate=arr[i]\n",
    "            count=1\n",
    "    print('Candidate: ',candidate)\n",
    "    if nb_occ>len(arr)/2:\n",
    "        print(candidate,' is greedy with ',nb_occ ,' occurrences')\n",
    "    else:\n",
    "        print('No greedy value')"
   ]
  },
  {
   "cell_type": "code",
   "execution_count": 199,
   "id": "990adb1c",
   "metadata": {},
   "outputs": [
    {
     "name": "stdout",
     "output_type": "stream",
     "text": [
      "Candidate:  1\n",
      "1  is greedy with  5001310  occurrences\n",
      "----------------------------------\n",
      "Candidate:  1\n",
      "No greedy value\n",
      "----------------------------------\n",
      "Candidate:  1\n",
      "No greedy value\n",
      "----------------------------------\n",
      "Candidate:  0\n",
      "0  is greedy with  5000691  occurrences\n",
      "----------------------------------\n",
      "Candidate:  0\n",
      "0  is greedy with  5001265  occurrences\n",
      "----------------------------------\n",
      "Candidate:  0\n",
      "No greedy value\n",
      "----------------------------------\n",
      "Candidate:  0\n",
      "0  is greedy with  5001285  occurrences\n",
      "----------------------------------\n",
      "Candidate:  1\n",
      "No greedy value\n",
      "----------------------------------\n",
      "Candidate:  0\n",
      "0  is greedy with  5000976  occurrences\n",
      "----------------------------------\n",
      "Candidate:  1\n",
      "No greedy value\n",
      "----------------------------------\n",
      "Candidate:  0\n",
      "No greedy value\n",
      "----------------------------------\n",
      "Candidate:  1\n",
      "No greedy value\n",
      "----------------------------------\n",
      "Candidate:  1\n",
      "1  is greedy with  5001039  occurrences\n",
      "----------------------------------\n",
      "Candidate:  1\n",
      "No greedy value\n",
      "----------------------------------\n",
      "Candidate:  1\n",
      "1  is greedy with  5000901  occurrences\n",
      "----------------------------------\n"
     ]
    },
    {
     "ename": "KeyboardInterrupt",
     "evalue": "",
     "output_type": "error",
     "traceback": [
      "\u001b[0;31m---------------------------------------------------------------------------\u001b[0m",
      "\u001b[0;31mKeyboardInterrupt\u001b[0m                         Traceback (most recent call last)",
      "\u001b[0;32m/var/folders/kq/4phtjsxn40794zp8lvjfsccw0000gn/T/ipykernel_56558/1093065695.py\u001b[0m in \u001b[0;36m<module>\u001b[0;34m\u001b[0m\n\u001b[1;32m      4\u001b[0m     \u001b[0mA\u001b[0m\u001b[0;34m=\u001b[0m\u001b[0mnp\u001b[0m\u001b[0;34m.\u001b[0m\u001b[0mrandom\u001b[0m\u001b[0;34m.\u001b[0m\u001b[0mrandint\u001b[0m\u001b[0;34m(\u001b[0m\u001b[0;36m0\u001b[0m\u001b[0;34m,\u001b[0m\u001b[0;36m2\u001b[0m\u001b[0;34m,\u001b[0m\u001b[0;36m10000000\u001b[0m\u001b[0;34m)\u001b[0m\u001b[0;34m\u001b[0m\u001b[0;34m\u001b[0m\u001b[0m\n\u001b[1;32m      5\u001b[0m     \u001b[0mi\u001b[0m\u001b[0;34m+=\u001b[0m\u001b[0;36m1\u001b[0m\u001b[0;34m\u001b[0m\u001b[0;34m\u001b[0m\u001b[0m\n\u001b[0;32m----> 6\u001b[0;31m     \u001b[0mgreedy\u001b[0m\u001b[0;34m(\u001b[0m\u001b[0mA\u001b[0m\u001b[0;34m)\u001b[0m\u001b[0;34m\u001b[0m\u001b[0;34m\u001b[0m\u001b[0m\n\u001b[0m\u001b[1;32m      7\u001b[0m     \u001b[0mprint\u001b[0m\u001b[0;34m(\u001b[0m\u001b[0;34m'----------------------------------'\u001b[0m\u001b[0;34m)\u001b[0m\u001b[0;34m\u001b[0m\u001b[0;34m\u001b[0m\u001b[0m\n",
      "\u001b[0;32m/var/folders/kq/4phtjsxn40794zp8lvjfsccw0000gn/T/ipykernel_56558/2069958738.py\u001b[0m in \u001b[0;36mgreedy\u001b[0;34m(arr)\u001b[0m\n\u001b[1;32m     10\u001b[0m             \u001b[0mnb_occ\u001b[0m\u001b[0;34m=\u001b[0m\u001b[0mnb_occ\u001b[0m\u001b[0;34m+\u001b[0m\u001b[0;36m1\u001b[0m\u001b[0;34m\u001b[0m\u001b[0;34m\u001b[0m\u001b[0m\n\u001b[1;32m     11\u001b[0m         \u001b[0;32melse\u001b[0m\u001b[0;34m:\u001b[0m\u001b[0;34m\u001b[0m\u001b[0;34m\u001b[0m\u001b[0m\n\u001b[0;32m---> 12\u001b[0;31m             \u001b[0mcount\u001b[0m\u001b[0;34m=\u001b[0m\u001b[0mcount\u001b[0m\u001b[0;34m-\u001b[0m\u001b[0;36m1\u001b[0m\u001b[0;34m\u001b[0m\u001b[0;34m\u001b[0m\u001b[0m\n\u001b[0m\u001b[1;32m     13\u001b[0m         \u001b[0;32mif\u001b[0m \u001b[0mcount\u001b[0m\u001b[0;34m==\u001b[0m\u001b[0;36m0\u001b[0m\u001b[0;34m:\u001b[0m\u001b[0;34m\u001b[0m\u001b[0;34m\u001b[0m\u001b[0m\n\u001b[1;32m     14\u001b[0m             \u001b[0mcandidate\u001b[0m\u001b[0;34m=\u001b[0m\u001b[0marr\u001b[0m\u001b[0;34m[\u001b[0m\u001b[0mi\u001b[0m\u001b[0;34m]\u001b[0m\u001b[0;34m\u001b[0m\u001b[0;34m\u001b[0m\u001b[0m\n",
      "\u001b[0;31mKeyboardInterrupt\u001b[0m: "
     ]
    }
   ],
   "source": [
    "i=0\n",
    "while i<=100:\n",
    "    np.random.seed=i*i\n",
    "    A=np.random.randint(0,2,10000000)\n",
    "    i+=1\n",
    "    greedy(A)\n",
    "    print('----------------------------------')"
   ]
  },
  {
   "cell_type": "code",
   "execution_count": null,
   "id": "0b0e774c",
   "metadata": {},
   "outputs": [],
   "source": []
  },
  {
   "cell_type": "code",
   "execution_count": null,
   "id": "2e323434",
   "metadata": {},
   "outputs": [],
   "source": []
  },
  {
   "cell_type": "code",
   "execution_count": null,
   "id": "2aad9488",
   "metadata": {},
   "outputs": [],
   "source": []
  },
  {
   "cell_type": "code",
   "execution_count": null,
   "id": "05f7de5a",
   "metadata": {},
   "outputs": [],
   "source": []
  },
  {
   "cell_type": "code",
   "execution_count": null,
   "id": "bae73b12",
   "metadata": {},
   "outputs": [],
   "source": []
  }
 ],
 "metadata": {
  "kernelspec": {
   "display_name": "Python 3 (ipykernel)",
   "language": "python",
   "name": "python3"
  },
  "language_info": {
   "codemirror_mode": {
    "name": "ipython",
    "version": 3
   },
   "file_extension": ".py",
   "mimetype": "text/x-python",
   "name": "python",
   "nbconvert_exporter": "python",
   "pygments_lexer": "ipython3",
   "version": "3.8.8"
  }
 },
 "nbformat": 4,
 "nbformat_minor": 5
}
