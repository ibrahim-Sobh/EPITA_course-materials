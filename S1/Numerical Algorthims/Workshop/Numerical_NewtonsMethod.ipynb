{
 "cells": [
  {
   "cell_type": "code",
   "execution_count": 86,
   "id": "f90c9d25",
   "metadata": {},
   "outputs": [],
   "source": [
    "import math;\n",
    "\n",
    "def f(x,a):\n",
    "    return x**2-a\n",
    "\n",
    "def newt(a,x0,bound,eps1,eps2):\n",
    "    x1=0\n",
    "    count=0\n",
    "    while bound>0 :\n",
    "        x1 = x0 - f(x0,a)/(2*x0)\n",
    "        if abs(f(x1,a)) <eps2:\n",
    "            bound=0\n",
    "        if abs(x1-x0) <eps1:\n",
    "            bound=0\n",
    "        x0=x1\n",
    "        bound=bound-1 \n",
    "        count=count+1\n",
    "        print(\"Count\",count, \"x0:\",x0,\"\\n\")\n",
    "    return x0\n"
   ]
  },
  {
   "cell_type": "code",
   "execution_count": 59,
   "id": "c238fb5c",
   "metadata": {},
   "outputs": [
    {
     "name": "stdout",
     "output_type": "stream",
     "text": [
      "Count 1 x0: 1.5 \n",
      "\n",
      "Count 2 x0: 1.4166666666666667 \n",
      "\n",
      "Count 3 x0: 1.4142156862745099 \n",
      "\n",
      "Count 4 x0: 1.4142135623746899 \n",
      "\n",
      "1.4142135623746899\n"
     ]
    }
   ],
   "source": [
    "a=2\n",
    "x0=a/2\n",
    "B=200\n",
    "eps1=10**(-6)\n",
    "eps2=10**(-6)\n",
    "print(newt(a,x0,B,eps1,eps2))\n"
   ]
  },
  {
   "cell_type": "code",
   "execution_count": 87,
   "id": "8dbac155",
   "metadata": {},
   "outputs": [
    {
     "name": "stdout",
     "output_type": "stream",
     "text": [
      "Count 1 x0: 3.0 \n",
      "\n",
      "Count 2 x0: 2.8333333333333335 \n",
      "\n",
      "Count 3 x0: 2.8284313725490198 \n",
      "\n"
     ]
    }
   ],
   "source": [
    "a=8\n",
    "x0=a/2\n",
    "B=100\n",
    "eps1=10**(-3)\n",
    "eps2=10**(-3)\n",
    "c=newt(a,x0,B,eps1,eps2)\n",
    "c=math.sqrt(a)"
   ]
  },
  {
   "cell_type": "code",
   "execution_count": null,
   "id": "773436d9",
   "metadata": {},
   "outputs": [],
   "source": []
  }
 ],
 "metadata": {
  "kernelspec": {
   "display_name": "Python 3.8.8 64-bit ('base': conda)",
   "language": "python",
   "name": "python388jvsc74a57bd0f80965f066677f8462b610984e6475e86a778a881c0493eb11da4d2e70896041"
  },
  "language_info": {
   "codemirror_mode": {
    "name": "ipython",
    "version": 3
   },
   "file_extension": ".py",
   "mimetype": "text/x-python",
   "name": "python",
   "nbconvert_exporter": "python",
   "pygments_lexer": "ipython3",
   "version": "3.8.8"
  }
 },
 "nbformat": 4,
 "nbformat_minor": 5
}
