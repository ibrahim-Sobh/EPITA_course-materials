{
 "cells": [
  {
   "cell_type": "code",
   "execution_count": 8,
   "id": "b6f279f1",
   "metadata": {},
   "outputs": [],
   "source": [
    "import math\n",
    "\n",
    "def fact(N):\n",
    "    if N<2:\n",
    "        return N\n",
    "    fact=1\n",
    "    while N>1:\n",
    "        fact= N*fact\n",
    "        N=N-1\n",
    "    return fact\n",
    "\n",
    "\n",
    "def count_zeros(n):\n",
    "    countzeros=0\n",
    "    if n==0:\n",
    "        return 1;\n",
    "    while n>0:\n",
    "        reminder=n % 10\n",
    "        if reminder != 0:\n",
    "            return countzeros\n",
    "        countzeros+=1\n",
    "        n=n//10\n",
    "    return countzeros\n",
    "\n",
    "#'There is a pattern between number of zeros and a fact of \n",
    "#a number N ( number of zeros) = number of 2's and number of 5's 2^a * 5 ^b * constant\n",
    "def count_zeros_pattern(n):\n",
    "    count5=0\n",
    "    count2=0\n",
    "    for i in range(1,n+1):\n",
    "        temp= i\n",
    "        while temp%5==0 and temp>1:\n",
    "            count5+=1\n",
    "            temp=temp//5 \n",
    "        temp= i\n",
    "        while temp%2==0 and temp>1:\n",
    "            count2+=1\n",
    "            temp=temp//2  \n",
    "    return min(count2,count5);\n",
    "\n",
    "\n",
    "# the fastest one of them \n",
    "def count_zero_5_pattern(n):\n",
    "    count=0\n",
    "    multp=1\n",
    "    temp=n\n",
    "    while temp>1:\n",
    "        temp=n\n",
    "        temp=temp//(5**multp)\n",
    "        count+=temp\n",
    "        multp=multp+1\n",
    "    return count\n",
    "\n",
    "\n",
    "\n"
   ]
  },
  {
   "cell_type": "code",
   "execution_count": null,
   "id": "5c42a3b5",
   "metadata": {},
   "outputs": [],
   "source": [
    "# Slow\n",
    "A=[6,3,60,100,1024,23456,8735373]\n",
    "\n",
    "print('number of elements:' ,A[0])\n",
    "for i in range(A[0]):\n",
    "    print(A[i+1],' has ',count_zeros(fact(A[i+1])),' zeros')"
   ]
  },
  {
   "cell_type": "code",
   "execution_count": 33,
   "id": "77f27a56",
   "metadata": {},
   "outputs": [
    {
     "name": "stdout",
     "output_type": "stream",
     "text": [
      "number of elements: 6\n",
      "3  has  0  zeros\n",
      "60  has  14  zeros\n",
      "100  has  24  zeros\n",
      "1024  has  253  zeros\n",
      "23456  has  5861  zeros\n",
      "8735373  has  2183837  zeros\n"
     ]
    }
   ],
   "source": [
    "# Medium\n",
    "A=[6,3,60,100,1024,23456,8735373]\n",
    "print('number of elements:' ,A[0])\n",
    "\n",
    "for i in range(A[0]):\n",
    "      print(A[i+1],' has ',count_zeros_pattern(A[i+1]),' zeros')\n"
   ]
  },
  {
   "cell_type": "code",
   "execution_count": 32,
   "id": "66732da6",
   "metadata": {},
   "outputs": [
    {
     "name": "stdout",
     "output_type": "stream",
     "text": [
      "number of elements: 6\n",
      "3  has  0  zeros\n",
      "60  has  14  zeros\n",
      "100  has  24  zeros\n",
      "1024  has  253  zeros\n",
      "23456  has  5861  zeros\n",
      "8735373  has  2183837  zeros\n"
     ]
    }
   ],
   "source": [
    "#BEST ONE\n",
    "A=[6,3,60,100,1024,23456,8735373]\n",
    "print('number of elements:' ,A[0])\n",
    "for i in range(A[0]):\n",
    "    print(A[i+1],' has ',count_zero_5_pattern(A[i+1]),' zeros') "
   ]
  },
  {
   "cell_type": "code",
   "execution_count": null,
   "id": "8faf664f",
   "metadata": {},
   "outputs": [],
   "source": []
  },
  {
   "cell_type": "code",
   "execution_count": null,
   "id": "8d30b0d9",
   "metadata": {},
   "outputs": [],
   "source": []
  },
  {
   "cell_type": "code",
   "execution_count": null,
   "id": "4b98d391",
   "metadata": {},
   "outputs": [],
   "source": []
  }
 ],
 "metadata": {
  "kernelspec": {
   "display_name": "Python 3 (ipykernel)",
   "language": "python",
   "name": "python3"
  },
  "language_info": {
   "codemirror_mode": {
    "name": "ipython",
    "version": 3
   },
   "file_extension": ".py",
   "mimetype": "text/x-python",
   "name": "python",
   "nbconvert_exporter": "python",
   "pygments_lexer": "ipython3",
   "version": "3.8.8"
  }
 },
 "nbformat": 4,
 "nbformat_minor": 5
}
