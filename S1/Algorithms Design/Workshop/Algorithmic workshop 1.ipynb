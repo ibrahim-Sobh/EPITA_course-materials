{
 "cells": [
  {
   "cell_type": "code",
   "execution_count": 56,
   "id": "918c97ff",
   "metadata": {},
   "outputs": [
    {
     "name": "stdout",
     "output_type": "stream",
     "text": [
      "30\n"
     ]
    }
   ],
   "source": [
    "import math as M\n",
    "def L1(n):\n",
    "    if(n<10): return 1\n",
    "    else: return (1+length(n//10))\n",
    "\n",
    "print(length(10**29))"
   ]
  },
  {
   "cell_type": "code",
   "execution_count": 53,
   "id": "d7c86c7a",
   "metadata": {},
   "outputs": [],
   "source": [
    "def L2(n):\n",
    "    return len(str(n))"
   ]
  },
  {
   "cell_type": "code",
   "execution_count": 2,
   "id": "0747a416",
   "metadata": {},
   "outputs": [],
   "source": [
    "def L3(n):\n",
    "    i=0\n",
    "    while n>=1 :\n",
    "        #print(\"n:\",n,\",i :\",i,\",n//10 :\",n//10,\"\\n\")\n",
    "        n//=10\n",
    "        i+=1\n",
    "    return i"
   ]
  },
  {
   "cell_type": "code",
   "execution_count": 115,
   "id": "b32616c8",
   "metadata": {},
   "outputs": [],
   "source": [
    "def L4(n):\n",
    "    i=400\n",
    "    while n/(10^i)> 0 :\n",
    "        if(i>1):\n",
    "            k=n/(10^i)\n",
    "            print(k)\n",
    "            #print(\"n:\",n,\",i :\",i,\",n//10 :\",n//10^i,\"\\n\"\n",
    "            i=i-1\n",
    "        else: return i\n",
    "    return i"
   ]
  },
  {
   "cell_type": "code",
   "execution_count": 57,
   "id": "ec976154",
   "metadata": {},
   "outputs": [
    {
     "name": "stdout",
     "output_type": "stream",
     "text": [
      "1001\n",
      "CPU times: user 2.17 ms, sys: 1.07 ms, total: 3.24 ms\n",
      "Wall time: 3.19 ms\n"
     ]
    }
   ],
   "source": [
    "%time print (L1(10**1000))"
   ]
  },
  {
   "cell_type": "code",
   "execution_count": 64,
   "id": "53fcdfe3",
   "metadata": {},
   "outputs": [
    {
     "name": "stdout",
     "output_type": "stream",
     "text": [
      "11\n",
      "CPU times: user 260 µs, sys: 81 µs, total: 341 µs\n",
      "Wall time: 307 µs\n"
     ]
    }
   ],
   "source": [
    "%time print (L2(10**10))"
   ]
  },
  {
   "cell_type": "code",
   "execution_count": 1,
   "id": "eea0fbe2",
   "metadata": {},
   "outputs": [
    {
     "ename": "NameError",
     "evalue": "name 'L3' is not defined",
     "output_type": "error",
     "traceback": [
      "\u001b[0;31m---------------------------------------------------------------------------\u001b[0m",
      "\u001b[0;31mNameError\u001b[0m                                 Traceback (most recent call last)",
      "\u001b[0;32m<timed eval>\u001b[0m in \u001b[0;36m<module>\u001b[0;34m\u001b[0m\n",
      "\u001b[0;31mNameError\u001b[0m: name 'L3' is not defined"
     ]
    }
   ],
   "source": [
    "%time print (L3(3256**300000))"
   ]
  },
  {
   "cell_type": "code",
   "execution_count": 5,
   "id": "cc0ad7bc",
   "metadata": {
    "scrolled": false
   },
   "outputs": [
    {
     "ename": "NameError",
     "evalue": "name 'L4' is not defined",
     "output_type": "error",
     "traceback": [
      "\u001b[0;31m---------------------------------------------------------------------------\u001b[0m",
      "\u001b[0;31mNameError\u001b[0m                                 Traceback (most recent call last)",
      "\u001b[0;32m<timed eval>\u001b[0m in \u001b[0;36m<module>\u001b[0;34m\u001b[0m\n",
      "\u001b[0;31mNameError\u001b[0m: name 'L4' is not defined"
     ]
    }
   ],
   "source": [
    "%time print (L4(1))"
   ]
  },
  {
   "cell_type": "code",
   "execution_count": 4,
   "id": "be2202d5",
   "metadata": {
    "scrolled": true
   },
   "outputs": [
    {
     "name": "stdout",
     "output_type": "stream",
     "text": [
      "Available Themes: \r\n",
      "   chesterish\r\n",
      "   grade3\r\n",
      "   gruvboxd\r\n",
      "   gruvboxl\r\n",
      "   monokai\r\n",
      "   oceans16\r\n",
      "   onedork\r\n",
      "   solarizedd\r\n",
      "   solarizedl\r\n"
     ]
    }
   ],
   "source": [
    "!jt -l"
   ]
  },
  {
   "cell_type": "code",
   "execution_count": 9,
   "id": "c2ff64c6",
   "metadata": {
    "scrolled": true
   },
   "outputs": [],
   "source": [
    "!jt -t monokai -altmd"
   ]
  }
 ],
 "metadata": {
  "kernelspec": {
   "display_name": "Python 3 (ipykernel)",
   "language": "python",
   "name": "python3"
  },
  "language_info": {
   "codemirror_mode": {
    "name": "ipython",
    "version": 3
   },
   "file_extension": ".py",
   "mimetype": "text/x-python",
   "name": "python",
   "nbconvert_exporter": "python",
   "pygments_lexer": "ipython3",
   "version": "3.9.7"
  }
 },
 "nbformat": 4,
 "nbformat_minor": 5
}
