{
 "cells": [
  {
   "cell_type": "code",
   "execution_count": 1,
   "id": "127f9777",
   "metadata": {},
   "outputs": [
    {
     "data": {
      "text/plain": [
       "array([ -5,  -8,  -2,  -9,  -2,  -7,  -5,  -2,  -5, -10,  -8, -10, -10,\n",
       "        -7,  -6,  -1,  -7,  -9,  -2,  -5,  -9,  -4, -10,  -7,  -8,  -6,\n",
       "        -8,  -9,  -7, -10,  -6,  -2, -10,  -2,  -4,  -5, -10,  -2,  -1,\n",
       "       -10,  -3,   5,   6,   3,   7,   1,   7,   1,   9,   5,   7,   8,\n",
       "         2,   2,   8,   1,   7,   0,   2,   0,   3,   0,   1,   3,   9,\n",
       "         0,   0,   4,   8,   9,   4,   7,   2,   7,   9,   6,   9,   8,\n",
       "         8,   5,   9,   0,   6,   6,   3,   1,   8,   4,   4,   8,   7,\n",
       "         2,   5,   2,   5,   3,   8,   5,   2,   9])"
      ]
     },
     "execution_count": 1,
     "metadata": {},
     "output_type": "execute_result"
    }
   ],
   "source": [
    "import numpy as np\n",
    "def partition_array_arround_zero(array, n ) :\n",
    "    j = 0 # lastpositiveindex\n",
    "    for i in range(0, n) :\n",
    "        if (array[i] < 0) :\n",
    "            temp = array[i]\n",
    "            array[i] = array[j]\n",
    "            array[j]= temp\n",
    "            j= j+1\n",
    "    return array\n",
    "\n",
    "A=[-2,1,2,-3,-4,-1,-2,-3,-6,-4,2,3,2,4,5]\n",
    "B= np.random.randint(-10,10,100)\n",
    "n = len(A)\n",
    "nn=len(B)\n",
    "partition_array_arround_zero(A,n)\n",
    "partition_array_arround_zero(B,nn)\n",
    "\n"
   ]
  },
  {
   "cell_type": "code",
   "execution_count": 386,
   "id": "8731691e",
   "metadata": {},
   "outputs": [],
   "source": [
    "def partition_arround(a, start, end):\n",
    "    pivot =a[start]\n",
    "    i = start\n",
    "    for j in range(start, end):\n",
    "        if(a[j]<=pivot):\n",
    "            temp=a[j]\n",
    "            a[j]=a[i]\n",
    "            a[i]=temp\n",
    "            i=i+1               \n",
    "    a[start]=a[i-1]\n",
    "    a[i-1]=pivot\n",
    "    return i-1\n",
    "\n",
    "def quickSort(array, low, high):\n",
    "    \n",
    "        if (low <high):\n",
    "           \n",
    "            key = partition_arround(array, low, high)\n",
    "             \n",
    "            quickSort(array,0, key-1)\n",
    "            \n",
    "            quickSort(array,key+1,high)\n",
    "            \n",
    "        return array\n",
    "       "
   ]
  },
  {
   "cell_type": "code",
   "execution_count": 387,
   "id": "81c21ddf",
   "metadata": {},
   "outputs": [
    {
     "name": "stdout",
     "output_type": "stream",
     "text": [
      "[-2  1 -1  2  6  4  4  3]\n",
      "Pivot index : 3\n"
     ]
    }
   ],
   "source": [
    "a=np.array([2,6,4,3,1,4,-1,-2])\n",
    "n= len(a)\n",
    "index= partition_arround(a,0,n)\n",
    "print(a)\n",
    "print ('Pivot index :',index)\n"
   ]
  },
  {
   "cell_type": "code",
   "execution_count": 388,
   "id": "139368a8",
   "metadata": {},
   "outputs": [
    {
     "data": {
      "text/plain": [
       "array([-2, -1,  1,  2,  3,  4,  4,  6])"
      ]
     },
     "execution_count": 388,
     "metadata": {},
     "output_type": "execute_result"
    }
   ],
   "source": [
    "a=np.array([2,6,4,3,1,4,-1,-2])\n",
    "n= len(a)\n",
    "quickSort(a,0,n)\n",
    "\n",
    "    "
   ]
  },
  {
   "cell_type": "code",
   "execution_count": 389,
   "id": "6b066100",
   "metadata": {},
   "outputs": [
    {
     "data": {
      "text/plain": [
       "array([-4, -1,  0,  0,  0,  1,  3,  4,  4,  4])"
      ]
     },
     "execution_count": 389,
     "metadata": {},
     "output_type": "execute_result"
    }
   ],
   "source": [
    "b= np.random.randint(-5,5,10)\n",
    "n= len(b)\n",
    "quickSort(b,0,n)"
   ]
  },
  {
   "cell_type": "code",
   "execution_count": null,
   "id": "83e89690",
   "metadata": {},
   "outputs": [],
   "source": []
  }
 ],
 "metadata": {
  "kernelspec": {
   "display_name": "Python 3 (ipykernel)",
   "language": "python",
   "name": "python3"
  },
  "language_info": {
   "codemirror_mode": {
    "name": "ipython",
    "version": 3
   },
   "file_extension": ".py",
   "mimetype": "text/x-python",
   "name": "python",
   "nbconvert_exporter": "python",
   "pygments_lexer": "ipython3",
   "version": "3.9.7"
  }
 },
 "nbformat": 4,
 "nbformat_minor": 5
}
