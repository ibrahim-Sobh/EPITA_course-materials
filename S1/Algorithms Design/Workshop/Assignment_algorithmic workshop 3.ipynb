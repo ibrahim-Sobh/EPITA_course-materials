{
 "cells": [
  {
   "cell_type": "code",
   "execution_count": 96,
   "id": "6d176a88",
   "metadata": {},
   "outputs": [
    {
     "name": "stdout",
     "output_type": "stream",
     "text": [
      "( 0 ) is greedy. Got repeated 5022  times in A : [0 0 0 ... 1 1 1]\n"
     ]
    }
   ],
   "source": [
    "# x of an array  is greadt if  number (x==a[0]) number > n/2\n",
    "\n",
    "import numpy as np\n",
    "np.random.seed=3\n",
    "A= np.random.randint(0, 2, 10000)\n",
    "\n",
    "def greedy(arr):\n",
    "    if len(arr)>0:\n",
    "        counter=1\n",
    "        candidate=A[0]\n",
    "        repetition=0\n",
    "        for elem in arr:\n",
    "            if elem!=candidate:\n",
    "                counter=counter-1\n",
    "                if counter==0:\n",
    "                    candidate=elem\n",
    "            else:\n",
    "                counter=counter+1\n",
    "            \n",
    "        for elem in arr:\n",
    "            if elem ==candidate:\n",
    "                repetition+=1\n",
    "        if repetition > len(arr)//2:\n",
    "            print('(',candidate,') is greedy.','Got repeated',repetition,' times in A :',arr)\n",
    "        else:\n",
    "            print('playing fair and square.')\n",
    "            \n",
    "        \n",
    "greedy(A)\n",
    "        "
   ]
  },
  {
   "cell_type": "code",
   "execution_count": 2,
   "id": "98c27d0e",
   "metadata": {},
   "outputs": [],
   "source": [
    "!jt -t monokai"
   ]
  },
  {
   "cell_type": "code",
   "execution_count": 4,
   "id": "192317fd",
   "metadata": {},
   "outputs": [],
   "source": [
    "!jt -t monokai -T"
   ]
  },
  {
   "cell_type": "code",
   "execution_count": null,
   "id": "de8476d8",
   "metadata": {},
   "outputs": [],
   "source": []
  }
 ],
 "metadata": {
  "kernelspec": {
   "display_name": "Python 3 (ipykernel)",
   "language": "python",
   "name": "python3"
  },
  "language_info": {
   "codemirror_mode": {
    "name": "ipython",
    "version": 3
   },
   "file_extension": ".py",
   "mimetype": "text/x-python",
   "name": "python",
   "nbconvert_exporter": "python",
   "pygments_lexer": "ipython3",
   "version": "3.9.7"
  }
 },
 "nbformat": 4,
 "nbformat_minor": 5
}
