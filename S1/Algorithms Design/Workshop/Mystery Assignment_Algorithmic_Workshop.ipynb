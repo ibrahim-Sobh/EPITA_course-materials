{
 "cells": [
  {
   "cell_type": "code",
   "execution_count": 216,
   "id": "312abfc9",
   "metadata": {},
   "outputs": [],
   "source": [
    "# i have shown 2 examples with tests and plots \n",
    "\n",
    "\n",
    "# Mystery\n",
    "import numpy as np \n",
    "\n",
    "\n",
    "def mystery3(a,b,eps):\n",
    "    p=max(a,b)\n",
    "    print('max=',p,'\\n')\n",
    "    q=min(a,b)\n",
    "    print('min=',q,'\\n')\n",
    "    print('-----------------------------------------------------\\n')\n",
    "    while (q>=eps):\n",
    "        r=(q/p)**2\n",
    "        print('(min/max)^2= ',r,'\\n')\n",
    "        s=r/(r+4)\n",
    "        print('(min/max)^2 /( (min/max)^2 + 4) = ',s,'\\n')\n",
    "        p=(2*s+1)*p\n",
    "        print('New Max = (2 * (min/max)^2 /( (min/max)^2 + 4) +1 )* max= ',p,'\\n')\n",
    "        q=s*p\n",
    "        print('New Min = (min/max)^2 /( (min/max)^2 + 4) * New Max =  ',q,'\\n')\n",
    "        print('-----------------------------------------------------\\n')\n",
    "    return p\n",
    "\n",
    "def mystery4(a,b,eps):\n",
    "    p=max(a,b)\n",
    "    q=min(a,b)\n",
    "    while (q>=eps):\n",
    "        r=(q/p)**2\n",
    "        s=r/(r+4)\n",
    "        p=(2*s+1)*p\n",
    "        q=s*p\n",
    "\n",
    "    return p"
   ]
  },
  {
   "cell_type": "code",
   "execution_count": 220,
   "id": "f83315ae",
   "metadata": {
    "scrolled": true
   },
   "outputs": [
    {
     "data": {
      "text/plain": [
       "20023.93960856613"
      ]
     },
     "execution_count": 220,
     "metadata": {},
     "output_type": "execute_result"
    }
   ],
   "source": [
    "mystery4(19999,999,0.0001)"
   ]
  },
  {
   "cell_type": "code",
   "execution_count": null,
   "id": "40220206",
   "metadata": {
    "scrolled": true
   },
   "outputs": [],
   "source": [
    "\n",
    "\n",
    "print(mystery4(17,6.00,.00001))\n",
    "print(mystery4(16,5.85,.00001))\n",
    "print(mystery4(15,5.65,.00001))\n",
    "print(mystery4(14,5.45,.00001))\n",
    "print(mystery4(13,5.25,.00001))\n",
    "print(mystery4(12,5.05,.00001))\n",
    "print(mystery4(11,4.8,.00001))\n",
    "print(mystery4(10,4.6,.00001))\n",
    "print(mystery4(9,4.4,.00001))\n",
    "print(mystery4(8,4.2,.00001))\n",
    "print(mystery4(7,3.9,0.00001))\n",
    "print(mystery4(6,3.6,.00001))\n",
    "print(mystery4(5,3.3,0.00001))\n",
    "print(mystery4(4,3,0.00001))\n",
    "print(mystery4(3,2.7,0.00001))\n",
    "\n"
   ]
  },
  {
   "cell_type": "markdown",
   "id": "688e6be7",
   "metadata": {},
   "source": [
    "# Question 1"
   ]
  },
  {
   "cell_type": "code",
   "execution_count": 212,
   "id": "4fd007b8",
   "metadata": {
    "scrolled": false
   },
   "outputs": [
    {
     "data": {
      "text/plain": [
       "array([[[ 1.  ,  1.75,  2.02],\n",
       "        [ 2.  ,  2.2 ,  3.  ],\n",
       "        [ 3.  ,  2.6 ,  4.  ],\n",
       "        [ 4.  ,  3.  ,  5.02],\n",
       "        [ 5.  ,  3.3 ,  6.01],\n",
       "        [ 6.  ,  3.6 ,  7.01],\n",
       "        [ 7.  ,  3.9 ,  8.03],\n",
       "        [ 8.  ,  4.1 ,  9.  ],\n",
       "        [ 9.  ,  4.4 , 10.03],\n",
       "        [10.  ,  4.6 , 11.02],\n",
       "        [11.  ,  4.8 , 12.01],\n",
       "        [12.  ,  5.05, 13.03],\n",
       "        [13.  ,  5.25, 14.03],\n",
       "        [14.  ,  5.45, 15.03],\n",
       "        [15.  ,  5.65, 16.04],\n",
       "        [16.  ,  5.85, 17.04],\n",
       "        [17.  ,  6.  , 18.04],\n",
       "        [18.  ,  6.15, 19.03],\n",
       "        [19.  ,  6.3 , 20.02],\n",
       "        [20.  ,  6.45, 21.02],\n",
       "        [21.  ,  6.6 , 22.02],\n",
       "        [22.  ,  6.75, 23.02],\n",
       "        [23.  ,  6.9 , 24.02],\n",
       "        [24.  ,  7.05, 25.02],\n",
       "        [25.  ,  7.2 , 26.02],\n",
       "        [26.  ,  7.35, 27.02],\n",
       "        [27.  ,  7.5 , 28.03],\n",
       "        [28.  ,  7.65, 29.03],\n",
       "        [29.  ,  7.8 , 30.04],\n",
       "        [30.  ,  7.95, 31.04],\n",
       "        [31.  ,  8.1 , 32.04],\n",
       "        [32.  ,  8.2 , 33.04],\n",
       "        [33.  ,  8.3 , 34.03],\n",
       "        [34.  ,  8.4 , 35.03],\n",
       "        [35.  ,  8.5 , 36.02],\n",
       "        [36.  ,  8.6 , 37.02],\n",
       "        [37.  ,  8.7 , 38.01],\n",
       "        [38.  ,  8.8 , 39.01],\n",
       "        [39.  ,  9.  , 40.03],\n",
       "        [40.  ,  9.1 , 41.03],\n",
       "        [41.  ,  9.2 , 42.02],\n",
       "        [42.  ,  9.3 , 43.02],\n",
       "        [43.  ,  9.4 , 44.02],\n",
       "        [44.  ,  9.5 , 45.02],\n",
       "        [45.  ,  9.6 , 46.02],\n",
       "        [46.  ,  9.7 , 47.01],\n",
       "        [47.  ,  9.8 , 48.01],\n",
       "        [48.  ,  9.9 , 49.01],\n",
       "        [49.  , 10.  , 50.01],\n",
       "        [50.  , 10.1 , 51.01],\n",
       "        [51.  , 10.2 , 52.01],\n",
       "        [52.  , 10.3 , 53.01],\n",
       "        [53.  , 10.4 , 54.01],\n",
       "        [54.  , 10.5 , 55.01],\n",
       "        [55.  , 10.6 , 56.01],\n",
       "        [56.  , 10.7 , 57.02]]])"
      ]
     },
     "execution_count": 212,
     "metadata": {},
     "output_type": "execute_result"
    }
   ],
   "source": [
    "import numpy as np\n",
    "import matplotlib.pyplot as plt\n",
    "\n",
    "A= np.array([10.7,10.6,10.5,10.4,10.3,10.2,10.1,\n",
    "             10.0,9.9,9.8,9.7,9.6,9.5,9.4,9.3,9.2,9.1,\n",
    "             9.0,8.8,8.7,8.6,8.5,8.4,8.3,8.2,8.10,\n",
    "             7.95,7.80,7.65,7.50,7.35,7.20,\n",
    "             7.05,6.9,6.75,6.60,6.45,6.30,6.15,6.0,\n",
    "             5.85,5.65,5.45,5.25,5.05,4.8,4.6,\n",
    "             4.4,4.1,3.9,3.6,3.3,3.0,2.6,2.2,1.75])\n",
    "B= np.arange(1,57)\n",
    "A=np.sort(A)\n",
    "C= np.array( [round(mystery4(x,y,0.00001),2) for x, y in zip(A, B)])\n",
    "D= np.dstack([B,A,C])\n",
    "D\n",
    "# plus , 0.5,0.4,0.3,0.2, 0.15, 0.10,......... 0 until \\\n",
    "\n",
    "# NOTE !!!!Example 1\n",
    "# certain  minimum will give you first, second or third.... successor.\n",
    "# so at a certain point no matter what is the minimum this function will give you the successor of the Max"
   ]
  },
  {
   "cell_type": "code",
   "execution_count": 213,
   "id": "6e7037ab",
   "metadata": {},
   "outputs": [
    {
     "data": {
      "text/plain": [
       "[<matplotlib.lines.Line2D at 0x7f8711f12b20>]"
      ]
     },
     "execution_count": 213,
     "metadata": {},
     "output_type": "execute_result"
    },
    {
     "data": {
      "image/png": "[encoded data removed]",
      "text/plain": [
       "<Figure size 1440x360 with 3 Axes>"
      ]
     },
     "metadata": {
      "needs_background": "light"
     },
     "output_type": "display_data"
    }
   ],
   "source": [
    "fig, (ax, ax1,ax2) = plt.subplots(1,3)\n",
    "fig.suptitle('Vertically stacked subplots')\n",
    "\n",
    "ax.plot(B,A,color=\"red\")\n",
    "ax1.plot(B,C,color=\"blue\")\n",
    "ax2.plot(C,A,color=\"orange\")"
   ]
  },
  {
   "cell_type": "code",
   "execution_count": 214,
   "id": "5823dc77",
   "metadata": {},
   "outputs": [
    {
     "name": "stdout",
     "output_type": "stream",
     "text": [
      "121.03680497049534\n",
      "122.0404703632742\n",
      "123.05346740536355\n",
      "124.05659368669785\n",
      "125.05328787702737\n",
      "1201.0413277785415\n",
      "1202.0404612912482\n",
      "1203.0395962442944\n",
      "1204.0387326340929\n",
      "121.03680497049534\n",
      "122.0404703632742\n",
      "121.03680497049534\n",
      "121.03680497049534\n",
      "122.02829090376241\n",
      "123.01991509629222\n",
      "101.01147270647446\n",
      "102.00854695999254\n",
      "103.00570242535154\n"
     ]
    }
   ],
   "source": [
    "print(mystery4(120,15.8,0.00001))\n",
    "print(mystery4(120,22.2,0.00001))\n",
    "print(mystery4(120,27.2,0.00001))\n",
    "print(mystery4(120,31.4,0.00001))\n",
    "print(mystery4(120,35.1,0.00001))\n",
    "\n",
    "\n",
    "print(mystery4(1200,50,0.00001))\n",
    "print(mystery4(1201,50,0.00001))\n",
    "print(mystery4(1202,50,0.00001))\n",
    "print(mystery4(1203,50,0.00001))\n",
    "\n",
    "print(mystery4(120,15.8,0.00001))\n",
    "print(mystery4(120,22.2,0.00001))\n",
    "print(mystery4(120,15.8,0.00001))\n",
    "\n",
    "print(mystery4(120,15.8,0.00001))\n",
    "print(mystery4(121,15.8,0.00001))\n",
    "print(mystery4(122,15.8,0.00001))\n",
    "print(mystery4(100,14.25,0.00001))\n",
    "print(mystery4(101,14.30,0.00001))\n",
    "print(mystery4(102,14.35,0.00001))"
   ]
  },
  {
   "cell_type": "code",
   "execution_count": 296,
   "id": "dc45642e",
   "metadata": {},
   "outputs": [
    {
     "data": {
      "text/plain": [
       "array([[[120.  ,  15.8 , 121.04],\n",
       "        [120.  ,  22.2 , 122.04],\n",
       "        [120.  ,  27.2 , 123.05],\n",
       "        [120.  ,  31.4 , 124.06],\n",
       "        [120.  ,  35.1 , 125.05],\n",
       "        [120.  ,  38.4 , 126.03],\n",
       "        [120.  ,  41.6 , 127.05],\n",
       "        [120.  ,  44.5 , 128.05],\n",
       "        [120.  ,  47.25, 129.04],\n",
       "        [120.  ,  49.85, 130.04],\n",
       "        [120.  ,  52.4 , 131.06],\n",
       "        [120.  ,  54.8 , 132.05],\n",
       "        [120.  ,  57.1 , 133.05],\n",
       "        [120.  ,  59.35, 134.05],\n",
       "        [120.  ,  61.5 , 135.04],\n",
       "        [120.  , 118.22, 170.02],\n",
       "        [120.  , 119.6 , 171.04],\n",
       "        [120.  , 121.  , 172.02],\n",
       "        [120.  , 122.5 , 173.06]]])"
      ]
     },
     "execution_count": 296,
     "metadata": {},
     "output_type": "execute_result"
    }
   ],
   "source": [
    "A= np.array([122.5,121,119.60,118.22,61.5,59.35,57.1,54.8,52.4,49.85,47.25,44.5,41.6,38.4,35.1,31.4,27.2,22.2,15.8])\n",
    "B= np.array([120]*19)\n",
    "A=np.sort(A)\n",
    "C= np.array( [round(mystery4(x,y,0.00001),2) for x, y in zip(A, B)])\n",
    "D= np.dstack([B,A,C])\n",
    "D\n",
    "\n",
    "# plus , 0.5,0.4,0.3,0.2, 0.15, 0.10,......... 0 until \\\n",
    "\n",
    "# NOTE !!!! Example 2 ~-= give about endless successors \n",
    "# certain  minimum will give you first, second or third.... successor.\n",
    "# once the min becomes greater than the original max , the function continues to give the 52th successor\n",
    "# of the old max\n",
    "# so at a certain point no matter what is the minimum this function will give you the successor of the original Max"
   ]
  },
  {
   "cell_type": "code",
   "execution_count": 297,
   "id": "f25d639f",
   "metadata": {},
   "outputs": [
    {
     "data": {
      "text/plain": [
       "[<matplotlib.lines.Line2D at 0x7f86d018c6a0>]"
      ]
     },
     "execution_count": 297,
     "metadata": {},
     "output_type": "execute_result"
    },
    {
     "data": {
      "image/png": "[encoded data removed]",
      "text/plain": [
       "<Figure size 1440x360 with 1 Axes>"
      ]
     },
     "metadata": {
      "needs_background": "light"
     },
     "output_type": "display_data"
    }
   ],
   "source": [
    "fig, (ax2) = plt.subplots(1,1)\n",
    "fig.suptitle('Vertically stacked subplots')\n",
    "\n",
    "ax2.plot(C,A,color=\"orange\")"
   ]
  },
  {
   "cell_type": "markdown",
   "id": "b788a422",
   "metadata": {},
   "source": [
    "# Question 2 - 1"
   ]
  },
  {
   "cell_type": "code",
   "execution_count": 278,
   "id": "321c5e53",
   "metadata": {},
   "outputs": [],
   "source": [
    "import numpy as np \n",
    "def Best_Place(M,friend_A,friend_B,friend_E):\n",
    "    M_place= M\n",
    "    l = []\n",
    "    flag=True\n",
    "    while(flag):\n",
    "        distance_to_A=np.linalg.norm(friend_A-M_place)\n",
    "        distance_to_B=np.linalg.norm(friend_B-M_place)\n",
    "        distance_to_E=np.linalg.norm(friend_E-M_place)\n",
    "        \n",
    "        distance= float((distance_to_A+distance_to_B+distance_to_E)/3)\n",
    "    \n",
    "        New_place=np.array([(M_place[0]+friend_A[0]+friend_B[0]+friend_E[0])/4,\n",
    "                            (M_place[1]+friend_A[1]+friend_B[1]+friend_E[1])/4])\n",
    "        \n",
    "        distance_New_A=np.linalg.norm(friend_A-New_place)\n",
    "        distance_New_B=np.linalg.norm(friend_B-New_place)\n",
    "        distance_New_E=np.linalg.norm(friend_E-New_place)\n",
    "        \n",
    "        distance_places=float((distance_New_A+distance_New_B+distance_New_E)/3)\n",
    "    \n",
    "        if distance-distance_places > 0.00001 :\n",
    "            M_place = np.copy(New_place)\n",
    "        else:\n",
    "            flag=False\n",
    "        \n",
    "    return New_place\n",
    "       "
   ]
  },
  {
   "cell_type": "code",
   "execution_count": 292,
   "id": "efbcbdc5",
   "metadata": {
    "scrolled": true
   },
   "outputs": [
    {
     "name": "stdout",
     "output_type": "stream",
     "text": [
      "place to meet: [1011.03125   657.359375]\n"
     ]
    },
    {
     "data": {
      "image/png": "[encoded data removed]",
      "text/plain": [
       "<Figure size 720x360 with 1 Axes>"
      ]
     },
     "metadata": {
      "needs_background": "light"
     },
     "output_type": "display_data"
    }
   ],
   "source": [
    "import matplotlib.pyplot as plt\n",
    "\n",
    "M_place= np.random.randint(0,2000,2)\n",
    "friend_A= np.array([0,0])\n",
    "friend_B= np.array([2000,0])\n",
    "friend_E= np.array([1000,2000])\n",
    "\n",
    "Best_M=Best_Place(M_place,friend_A,friend_B,friend_E)\n",
    "\n",
    "print(\"place to meet:\", Best_M)\n",
    "x= [0,2000,1000]\n",
    "y= [0,0,2000]\n",
    "\n",
    "Mx=M_place[0]\n",
    "My=M_place[1]\n",
    "\n",
    "NewMx=Best_M[0]\n",
    "NewMy=Best_M[1]\n",
    "\n",
    "fig = plt.figure()\n",
    "fig.set_size_inches(10, 5)\n",
    "ax = fig.gca()\n",
    "ax.set_xticks(np.arange(0, 2001, 200))\n",
    "ax.set_yticks(np.arange(0, 2001, 200))\n",
    "plt.scatter(x, y,color='blue')\n",
    "plt.scatter(Mx, My,color='Green')\n",
    "plt.scatter(NewMx, NewMy,color='red')\n",
    "\n",
    "plt.grid()\n",
    "plt.show()\n"
   ]
  },
  {
   "cell_type": "markdown",
   "id": "632a650e",
   "metadata": {},
   "source": [
    "# Question 2 - 2"
   ]
  },
  {
   "cell_type": "code",
   "execution_count": 294,
   "id": "758b7ee6",
   "metadata": {
    "scrolled": true
   },
   "outputs": [
    {
     "name": "stdout",
     "output_type": "stream",
     "text": [
      "place to meet: [1001.0546875  666.0625   ]\n"
     ]
    },
    {
     "data": {
      "image/png": "[encoded data removed]",
      "text/plain": [
       "<Figure size 720x360 with 1 Axes>"
      ]
     },
     "metadata": {
      "needs_background": "light"
     },
     "output_type": "display_data"
    }
   ],
   "source": [
    "M_place= np.random.randint(0,2000,2)\n",
    "friend_A= np.array([2,3])\n",
    "friend_B= np.array([1990,0])\n",
    "friend_E= np.array([1001,1999])\n",
    "Best_M=Best_Place(M_place,friend_A,friend_B,friend_E)\n",
    "print(\"place to meet:\", Best_M)\n",
    "\n",
    "x=[2,1990,1001]\n",
    "y=[3,0,1999]\n",
    "\n",
    "Mx=M_place[0]\n",
    "My=M_place[1]\n",
    "\n",
    "NewMx=Best_M[0]\n",
    "NewMy=Best_M[1]\n",
    "\n",
    "fig = plt.figure()\n",
    "fig.set_size_inches(10, 5)\n",
    "ax = fig.gca()\n",
    "ax.set_xticks(np.arange(0, 2001, 200))\n",
    "ax.set_yticks(np.arange(0, 2001, 200))\n",
    "plt.scatter(x, y,color='blue')\n",
    "plt.scatter(Mx, My,color='Green')\n",
    "plt.scatter(NewMx, NewMy,color='red')\n",
    "plt.grid()\n",
    "plt.show()\n"
   ]
  },
  {
   "cell_type": "markdown",
   "id": "29d4da1b",
   "metadata": {},
   "source": [
    "# Question 2- 3"
   ]
  },
  {
   "cell_type": "code",
   "execution_count": 295,
   "id": "a92d1c2d",
   "metadata": {},
   "outputs": [],
   "source": [
    "import numpy as np \n",
    "def Best_Place_in_Grid(M,friend_A,friend_B,friend_E):\n",
    "    M_place= M\n",
    "    l = []\n",
    "    flag=True\n",
    "\n",
    "    while(flag):\n",
    "            \n",
    "        distance_to_A=abs(M_place[0]-friend_A[0]) +abs(M_place[1]-friend_A[1])\n",
    "        distance_to_B=abs(M_place[0]-friend_B[0]) +abs(M_place[1]-friend_B[1])\n",
    "        distance_to_E=abs(M_place[0]-friend_E[0]) +abs(M_place[1]-friend_E[1])\n",
    "        \n",
    "        distance= (distance_to_A+distance_to_B+distance_to_E)/3\n",
    "    \n",
    "        New_place=np.array([(M_place[0]+friend_A[0]+friend_B[0]+friend_E[0])/4,\n",
    "                            (M_place[1]+friend_A[1]+friend_B[1]+friend_E[1])/4])\n",
    "        \n",
    "        distance_New_A=abs(New_place[0]-friend_A[0]) +abs(New_place[1]-friend_A[1])\n",
    "        distance_New_B=abs(New_place[0]-friend_B[0]) +abs(New_place[1]-friend_B[1])\n",
    "        distance_New_E=abs(New_place[0]-friend_E[0]) +abs(New_place[1]-friend_E[1])\n",
    "        \n",
    "        distance_places=(distance_New_A+distance_New_B+distance_New_E)/3\n",
    "        \n",
    "        if distance-distance_places > 0.0001 :\n",
    "            M_place = np.copy(New_place)\n",
    "        else:\n",
    "            flag=False\n",
    "        \n",
    "    return New_place\n",
    "       "
   ]
  },
  {
   "cell_type": "code",
   "execution_count": 296,
   "id": "6aaebe69",
   "metadata": {},
   "outputs": [
    {
     "name": "stdout",
     "output_type": "stream",
     "text": [
      "place to meet: [1000.00004524  666.66672117]\n"
     ]
    },
    {
     "data": {
      "image/png": "[encoded data removed]",
      "text/plain": [
       "<Figure size 720x360 with 1 Axes>"
      ]
     },
     "metadata": {
      "needs_background": "light"
     },
     "output_type": "display_data"
    }
   ],
   "source": [
    "import matplotlib.pyplot as plt\n",
    "\n",
    "M_place= np.random.randint(0,2000,2)\n",
    "friend_A= np.array([0,0])\n",
    "friend_B= np.array([2000,0])\n",
    "friend_E= np.array([1000,2000])\n",
    "\n",
    "Best_M=Best_Place_in_Grid(M_place,friend_A,friend_B,friend_E)\n",
    "\n",
    "print(\"place to meet:\", Best_M)\n",
    "x= [0,2000,1000]\n",
    "y= [0,0,2000]\n",
    "\n",
    "Mx=M_place[0]\n",
    "My=M_place[1]\n",
    "\n",
    "NewMx=Best_M[0]\n",
    "NewMy=Best_M[1]\n",
    "\n",
    "fig = plt.figure()\n",
    "fig.set_size_inches(10, 5)\n",
    "ax = fig.gca()\n",
    "ax.set_xticks(np.arange(0, 2001, 200))\n",
    "ax.set_yticks(np.arange(0, 2001, 200))\n",
    "plt.scatter(x, y,color='blue')\n",
    "plt.scatter(Mx, My,color='Green')\n",
    "plt.scatter(NewMx, NewMy,color='red')\n",
    "\n",
    "plt.grid()\n",
    "plt.show()\n",
    "\n"
   ]
  },
  {
   "cell_type": "markdown",
   "id": "e25ccedd",
   "metadata": {},
   "source": [
    "# Question 2-4"
   ]
  },
  {
   "cell_type": "code",
   "execution_count": 254,
   "id": "9fcc3941",
   "metadata": {},
   "outputs": [
    {
     "name": "stdout",
     "output_type": "stream",
     "text": [
      "place to meet: [1002.390625  666.984375]\n"
     ]
    },
    {
     "data": {
      "image/png": "[encoded data removed]",
      "text/plain": [
       "<Figure size 720x360 with 1 Axes>"
      ]
     },
     "metadata": {
      "needs_background": "light"
     },
     "output_type": "display_data"
    }
   ],
   "source": [
    "M_place= np.random.randint(0,2000,2)\n",
    "friend_A= np.array([2,3])\n",
    "friend_B= np.array([1990,0])\n",
    "friend_E= np.array([1001,1999])\n",
    "Best_M=Best_Place_in_Grid(M_place,friend_A,friend_B,friend_E)\n",
    "print(\"place to meet:\", Best_M)\n",
    "\n",
    "x=[2,1990,1001]\n",
    "y=[3,0,1999]\n",
    "\n",
    "Mx=M_place[0]\n",
    "My=M_place[1]\n",
    "\n",
    "NewMx=Best_M[0]\n",
    "NewMy=Best_M[1]\n",
    "\n",
    "fig = plt.figure()\n",
    "fig.set_size_inches(10, 5)\n",
    "ax = fig.gca()\n",
    "ax.set_xticks(np.arange(0, 2001, 200))\n",
    "ax.set_yticks(np.arange(0, 2001, 200))\n",
    "plt.scatter(x, y,color='blue')\n",
    "plt.scatter(Mx, My,color='Green')\n",
    "plt.scatter(NewMx, NewMy,color='red')\n",
    "\n",
    "plt.grid()\n",
    "plt.show()\n",
    "\n"
   ]
  },
  {
   "cell_type": "markdown",
   "id": "a4e18a77",
   "metadata": {},
   "source": [
    "# Question 2-5"
   ]
  },
  {
   "cell_type": "code",
   "execution_count": 273,
   "id": "9791e611",
   "metadata": {},
   "outputs": [],
   "source": [
    "import numpy as np \n",
    "def Best_Place_in_Grid2(M,friend_A,friend_B,friend_E,friend_C,friend_D):\n",
    "    M_place=M\n",
    "    l = []\n",
    "    flag=True\n",
    "\n",
    "    while(flag):\n",
    "            \n",
    "        distance_to_A=abs(M_place[0]-friend_A[0]) +abs(M_place[1]-friend_A[1])\n",
    "        distance_to_B=abs(M_place[0]-friend_B[0]) +abs(M_place[1]-friend_B[1])\n",
    "        distance_to_E=abs(M_place[0]-friend_E[0]) +abs(M_place[1]-friend_E[1])\n",
    "        distance_to_C=abs(M_place[0]-friend_C[0]) +abs(M_place[1]-friend_C[1])\n",
    "        distance_to_D=abs(M_place[0]-friend_D[0]) +abs(M_place[1]-friend_D[1])\n",
    "\n",
    "        distance= (distance_to_A+distance_to_B+distance_to_E+distance_to_C+distance_to_D)/5\n",
    "         \n",
    "    \n",
    "        New_place=np.array([(M_place[0]+friend_A[0]+friend_B[0]+friend_E[0]+friend_C[0]+friend_D[0])/6,\n",
    "                            (M_place[1]+friend_A[1]+friend_B[1]+friend_E[1]+friend_C[1]+friend_D[1])/6])\n",
    "        \n",
    "    \n",
    "        distance_New_A=abs(New_place[0]-friend_A[0]) +abs(New_place[1]-friend_A[1])\n",
    "        distance_New_B=abs(New_place[0]-friend_B[0]) +abs(New_place[1]-friend_B[1])\n",
    "        distance_New_E=abs(New_place[0]-friend_E[0]) +abs(New_place[1]-friend_E[1])\n",
    "        distance_New_C=abs(New_place[0]-friend_C[0]) +abs(New_place[1]-friend_C[1])\n",
    "        distance_New_D=abs(New_place[0]-friend_D[0]) +abs(New_place[1]-friend_D[1])\n",
    "      \n",
    "        distance_places=(distance_New_A+distance_New_B+distance_New_E+distance_New_C+distance_New_D)/5\n",
    "        \n",
    "        if distance-distance_places > 0.001 :\n",
    "            M_place = np.copy(New_place)\n",
    "        else:\n",
    "            flag=False\n",
    "        \n",
    "    return New_place\n",
    "       "
   ]
  },
  {
   "cell_type": "code",
   "execution_count": 277,
   "id": "8f12efa9",
   "metadata": {
    "scrolled": true
   },
   "outputs": [
    {
     "name": "stdout",
     "output_type": "stream",
     "text": [
      "place to meet: [1184.77777778  813.22222222]\n"
     ]
    },
    {
     "data": {
      "image/png": "[encoded data removed]",
      "text/plain": [
       "<Figure size 1224x360 with 1 Axes>"
      ]
     },
     "metadata": {
      "needs_background": "light"
     },
     "output_type": "display_data"
    }
   ],
   "source": [
    "M_place= np.random.randint(0,2000,2)\n",
    "friend_A= np.array([2,3])\n",
    "friend_B= np.array([1990,0])\n",
    "friend_E= np.array([1001,1999])\n",
    "friend_C= np.array([1001,1999])\n",
    "friend_D= np.array([1999,1])\n",
    "\n",
    "Best_M=Best_Place_in_Grid2(M_place,friend_A,friend_B,friend_E,friend_C,friend_D)\n",
    "print(\"place to meet:\", Best_M)\n",
    "\n",
    "x=[2,1990,1001,1001,1999]\n",
    "y=[0,3,1999,1999,1]\n",
    "\n",
    "Mx=M_place[0]\n",
    "My=M_place[1]\n",
    "\n",
    "NewMx=Best_M[0]\n",
    "NewMy=Best_M[1]\n",
    "\n",
    "fig = plt.figure()\n",
    "fig.set_size_inches(17, 5)\n",
    "ax = fig.gca()\n",
    "ax.set_xticks(np.arange(0, 2001, 200))\n",
    "ax.set_yticks(np.arange(0, 2001, 200))\n",
    "plt.scatter(x, y,color='blue')\n",
    "plt.scatter(Mx, My,color='Green')\n",
    "plt.scatter(NewMx, NewMy,color='red')\n",
    "\n",
    "plt.grid()\n",
    "plt.show()\n",
    "\n",
    "\n"
   ]
  },
  {
   "cell_type": "markdown",
   "id": "4c9d7ad2",
   "metadata": {},
   "source": [
    "# Question 3 -3 Dynamic"
   ]
  },
  {
   "cell_type": "code",
   "execution_count": 269,
   "id": "b675548a",
   "metadata": {},
   "outputs": [],
   "source": [
    "import numpy as np \n",
    "def Best_Place_in_Grid3(M,friends):\n",
    "    M_place= M\n",
    "    flag=True\n",
    "    while(flag):\n",
    "        x=M_place[0]\n",
    "        y=M_place[1]\n",
    "        print(M_place)\n",
    "        distance=0\n",
    "        for friend in friends:\n",
    "            distance= distance+ abs(M_place[0]-friend[0])+abs(M_place[1]-friend[1])\n",
    "            x=x+friend[0]\n",
    "            y=y+friend[1]\n",
    "            \n",
    "        distance=float(distance/len(friends))\n",
    "        \n",
    "        New_place=np.array([x/(len(friends)+1),y/(len(friends)+1)])\n",
    "        \n",
    "        print(New_place)\n",
    "        distance_places=0\n",
    "                                                              \n",
    "        for friend in friends:\n",
    "            distance_places+= distance+ abs(New_place[0]-friend[0])+abs(New_place[1]-friend[1])                                         \n",
    "        \n",
    "        distance_places=float(distance_places/len(friends))\n",
    "        \n",
    "        distance_places\n",
    "        if distance-distance_places > 0.0001 :\n",
    "            M_place = np.copy(New_place)\n",
    "        else:\n",
    "            flag=False\n",
    "        \n",
    "    return New_place\n",
    "       "
   ]
  },
  {
   "cell_type": "code",
   "execution_count": 301,
   "id": "58a62881",
   "metadata": {
    "scrolled": true
   },
   "outputs": [
    {
     "name": "stdout",
     "output_type": "stream",
     "text": [
      "[ 89 798]\n",
      "[1065.85444257 1333.6111967 ]\n",
      "place to meet: [1065.85444257 1333.6111967 ]\n"
     ]
    },
    {
     "data": {
      "image/png": "[encoded data removed]",
      "text/plain": [
       "<Figure size 1224x360 with 1 Axes>"
      ]
     },
     "metadata": {
      "needs_background": "light"
     },
     "output_type": "display_data"
    }
   ],
   "source": [
    "M_place=np.random.randint(0,2000,2)\n",
    "friends= np.random.uniform(0,2000,(6,2))\n",
    "Best_M=Best_Place_in_Grid3(M_place,friends)\n",
    "print(\"place to meet:\", Best_M)\n",
    "\n",
    "x= friends[:,0]\n",
    "y= friends[:,1]\n",
    "\n",
    "Mx=M_place[0]\n",
    "My=M_place[1]\n",
    "\n",
    "NewMx=Best_M[0]\n",
    "NewMy=Best_M[1]\n",
    "\n",
    "fig = plt.figure()\n",
    "fig.set_size_inches(17, 5)\n",
    "ax = fig.gca()\n",
    "ax.set_xticks(np.arange(0, 2001, 200))\n",
    "ax.set_yticks(np.arange(0, 2001, 200))\n",
    "plt.scatter(x, y,color='blue')\n",
    "plt.scatter(Mx, My,color='Green',s=200)\n",
    "plt.scatter(NewMx, NewMy,color='red',s=200)\n",
    "plt.grid()\n",
    "plt.show()\n",
    "\n",
    "\n",
    "\n"
   ]
  },
  {
   "cell_type": "code",
   "execution_count": null,
   "id": "09748b99",
   "metadata": {},
   "outputs": [],
   "source": []
  },
  {
   "cell_type": "code",
   "execution_count": null,
   "id": "6924f4d1",
   "metadata": {},
   "outputs": [],
   "source": []
  }
 ],
 "metadata": {
  "kernelspec": {
   "display_name": "Python 3 (ipykernel)",
   "language": "python",
   "name": "python3"
  },
  "language_info": {
   "codemirror_mode": {
    "name": "ipython",
    "version": 3
   },
   "file_extension": ".py",
   "mimetype": "text/x-python",
   "name": "python",
   "nbconvert_exporter": "python",
   "pygments_lexer": "ipython3",
   "version": "3.9.7"
  }
 },
 "nbformat": 4,
 "nbformat_minor": 5
}
