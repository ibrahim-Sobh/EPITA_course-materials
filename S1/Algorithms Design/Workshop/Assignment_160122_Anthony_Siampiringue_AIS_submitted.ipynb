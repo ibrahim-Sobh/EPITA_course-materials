{
 "cells": [
  {
   "cell_type": "code",
   "execution_count": 1,
   "id": "742dd413",
   "metadata": {},
   "outputs": [],
   "source": [
    "import numpy as np\n",
    "import matplotlib.pyplot as plt"
   ]
  },
  {
   "cell_type": "code",
   "execution_count": 2,
   "id": "6e04bbea",
   "metadata": {},
   "outputs": [],
   "source": [
    "#Exercise 1 Mystery3 algorithm\n",
    "def mystery3(a,b,eps):\n",
    "    p=max(a,b)\n",
    "    q=min(a,b)\n",
    "    while (q>=eps):\n",
    "        r=(q/p)**2\n",
    "        s=r/(r+4)\n",
    "        p=(2*s+1)*p\n",
    "        q=s*p\n",
    "    return p"
   ]
  },
  {
   "cell_type": "code",
   "execution_count": 3,
   "id": "46ff1c2f",
   "metadata": {},
   "outputs": [
    {
     "name": "stdout",
     "output_type": "stream",
     "text": [
      "1 : 100.00499990625315\n",
      "2 : 100.01999850019997\n",
      "3 : 100.04499240852721\n",
      "4 : 100.07997601279081\n",
      "5 : 100.12494145502335\n",
      "6 : 100.17987864556457\n",
      "7 : 100.24477527309556\n",
      "8 : 100.31961681685125\n",
      "9 : 100.40438656098117\n",
      "14.349183731552877\n"
     ]
    }
   ],
   "source": [
    "eps=10**-100\n",
    "n=100\n",
    "for i in range(1,10):\n",
    "    print(i,\":\",mystery3(i,n,eps))\n",
    "    \n",
    "print(mystery3(mystery3(1,10,eps),mystery3(1,10,eps),eps))\n"
   ]
  },
  {
   "cell_type": "code",
   "execution_count": 4,
   "id": "0ac00078",
   "metadata": {},
   "outputs": [],
   "source": [
    "#Distances types of computation\n",
    "def euclidean_distance(A,B):\n",
    "    return np.sum(np.sqrt(np.sum((B-A)**2,axis=1)),axis=0)\n",
    "\n",
    "def manhattan_distance(A,B):\n",
    "    return np.sum(np.sum(np.abs(B-A),axis=1),axis=0)\n",
    "\n",
    "def chebyshev_distance(A,B):\n",
    "    return  np.max(np.sum(np.abs(B-A),axis=1),axis=0)\n",
    "\n",
    "def get_distance(A,B,method=\"E\"):\n",
    "    if method.upper()==\"E\":\n",
    "        return euclidean_distance(A,B)\n",
    "    elif method.upper() == \"M\":\n",
    "        return manhattan_distance(A,B)\n",
    "    elif method.upper() == \"C\":\n",
    "        return chebyshev_distance(A,B)\n",
    "    \n",
    "#Getting center of all the friends points\n",
    "def find_center(Points,inGridPosition=False):\n",
    "    center=np.sum(Points,axis=0)/len(Points)\n",
    "    if inGridPosition == False:\n",
    "        return center\n",
    "    else:\n",
    "        return np.round(center)\n",
    "\n",
    "#Calculating the best location based on a given point or on computed central point\n",
    "def best_location(Points,inGridPosition=False,method=\"E\",dec_place_accuracy=3,max_loop=10**6,reference_point=[]):\n",
    "    neighbours=[]\n",
    "    \n",
    "    if method.upper() == \"E\":\n",
    "        center=find_center(Points,inGridPosition)\n",
    "    else:\n",
    "        dec_place_accuracy=0\n",
    "        inGridPosition=True\n",
    "        \n",
    "    if inGridPosition == True:\n",
    "        dec_place_accuracy=0\n",
    "    \n",
    "    if len(reference_point)==0:\n",
    "        center=find_center(Points,inGridPosition)\n",
    "    else:\n",
    "        center=reference_point.copy()\n",
    "    \n",
    "    #print('reference_point',reference_point)\n",
    "    #print('dec_place_accuracy',dec_place_accuracy)\n",
    "    #print('inGridPosition',inGridPosition)\n",
    "    #print('center',center)\n",
    "    \n",
    "    #upper position\n",
    "    neighbours.append(center.copy())\n",
    "    neighbours[-1][1]+=10**-dec_place_accuracy\n",
    "    \n",
    "    #upper left position\n",
    "    neighbours.append(center.copy())\n",
    "    neighbours[-1][0]-=10**-dec_place_accuracy\n",
    "    neighbours[-1][1]+=10**-dec_place_accuracy\n",
    "    \n",
    "    #left position\n",
    "    neighbours.append(center.copy())\n",
    "    neighbours[-1][0]+=10**-dec_place_accuracy\n",
    "    \n",
    "    #bottom left position\n",
    "    neighbours.append(center.copy())\n",
    "    neighbours[-1][0]-=10**-dec_place_accuracy\n",
    "    neighbours[-1][1]-=10**-dec_place_accuracy\n",
    "    \n",
    "    #upper right position\n",
    "    neighbours.append(center.copy())\n",
    "    neighbours[-1][0]+=10**-dec_place_accuracy\n",
    "    neighbours[-1][1]+=10**-dec_place_accuracy\n",
    "    \n",
    "    #right position\n",
    "    neighbours.append(center.copy())\n",
    "    neighbours[-1][0]+=10**-dec_place_accuracy\n",
    "    \n",
    "    #bottom right position\n",
    "    neighbours.append(center.copy())\n",
    "    neighbours[-1][0]+=10**-dec_place_accuracy\n",
    "    neighbours[-1][1]-=10**-dec_place_accuracy\n",
    "    \n",
    "    #bottom position\n",
    "    neighbours.append(center.copy())\n",
    "    neighbours[-1][1]-=10**-dec_place_accuracy\n",
    "    \n",
    "    #print(\"\\n==========\\n \",neighbours,\"\\n==========\\n\")\n",
    "    \n",
    "    new_pt=center.copy()\n",
    "    for ngb in neighbours:\n",
    "        dist_point=get_distance(new_pt,Points,method)\n",
    "        if dist_point - get_distance(ngb,Points,method)>0 and ngb[0]>=0 and ngb[1]>=0:\n",
    "            #print(ngb,dist_point,get_distance(ngb,Points,method))\n",
    "            new_pt=ngb.copy()\n",
    "    #print(new_pt,\":\",center)\n",
    "    \n",
    "    stepDirectionX=new_pt[0]-center[0]\n",
    "    stepDirectionY=new_pt[1]-center[1]\n",
    "    #print('stepDirectionX ',stepDirectionX)\n",
    "    #print('stepDirectionY ',stepDirectionY)\n",
    "    \n",
    "    #moving to the nearest direction giving the shortest distance until the best location is found or the loop is stopped\n",
    "    itr=0\n",
    "    while itr < max_loop:\n",
    "        dist_point=get_distance(Points,new_pt,method)\n",
    "        #print(new_pt,'-',dist_point) \n",
    "        new_pt[0]+=stepDirectionX\n",
    "        new_pt[1]+=stepDirectionY \n",
    "        dist_new_pt=get_distance(Points,new_pt,method)\n",
    "        #print(new_pt,'-',dist_new_pt )\n",
    "        if dist_new_pt - dist_point > 0 or new_pt[0]+stepDirectionX<0 or new_pt[1]+stepDirectionY<0:\n",
    "            break  \n",
    "        itr+=1\n",
    "    return new_pt\n",
    "\n",
    "#plotting function\n",
    "def plotting(Points,center):\n",
    "    fig=plt.figure(figsize=(15,10))\n",
    "    ax=fig.add_subplot()\n",
    "    for i,j in Points:\n",
    "        ax.scatter(i,j,color='blue',marker='o',alpha=0.8)\n",
    "    ax.scatter(center[0],center[1],color='red',marker=\"x\")\n",
    "    ax.annotate('M',(center[0],center[1]))\n",
    "    ax.grid()"
   ]
  },
  {
   "cell_type": "code",
   "execution_count": 5,
   "id": "3f229c71",
   "metadata": {
    "scrolled": false
   },
   "outputs": [
    {
     "name": "stdout",
     "output_type": "stream",
     "text": [
      "List of friends' location: [array([0, 0]), array([2000,    0]), array([1000, 2000])]\n",
      "Suitable best location M for the meeting: [1000.          577.34966667]\n",
      "Distance of M with other places: 3732.050807569113\n"
     ]
    },
    {
     "data": {
      "image/png": "[encoded data removed]",
      "text/plain": [
       "<Figure size 1080x720 with 1 Axes>"
      ]
     },
     "metadata": {
      "needs_background": "light"
     },
     "output_type": "display_data"
    }
   ],
   "source": [
    "#Exercise 2.1 Friends continuous version\n",
    "Points=[]\n",
    "A=np.array([0,0])\n",
    "B=np.array([2000,0])\n",
    "E=np.array([1000,2000])\n",
    "Points.append(A)\n",
    "Points.append(B)\n",
    "Points.append(E)\n",
    "\n",
    "decimal_place_accuracy=3\n",
    "max_loop=10**6\n",
    "center=best_location(Points,False,\"E\",decimal_place_accuracy,max_loop)\n",
    "#center=best_location(Points,False,\"E\")\n",
    "print(\"List of friends' location:\",Points)\n",
    "print(\"Suitable best location M for the meeting:\",center)\n",
    "print(\"Distance of M with other places:\",get_distance(Points,center,\"E\"))\n",
    "plotting(Points,center)"
   ]
  },
  {
   "cell_type": "code",
   "execution_count": 6,
   "id": "0416de15",
   "metadata": {},
   "outputs": [
    {
     "name": "stdout",
     "output_type": "stream",
     "text": [
      "List of friends' location: [array([2, 3]), array([1990,    0]), array([1001, 1999])]\n",
      "Suitable best location M for the meeting: [1045.76466667  619.23533333]\n",
      "Distance of M with other places: 3721.7658832772913\n"
     ]
    },
    {
     "data": {
      "image/png": "[encoded data removed]",
      "text/plain": [
       "<Figure size 1080x720 with 1 Axes>"
      ]
     },
     "metadata": {
      "needs_background": "light"
     },
     "output_type": "display_data"
    }
   ],
   "source": [
    "#Exercise 2.1.1\n",
    "Points=[]\n",
    "A=np.array([2,3])\n",
    "B=np.array([1990,0])\n",
    "E=np.array([1001,1999])\n",
    "Points.append(A)\n",
    "Points.append(B)\n",
    "Points.append(E)\n",
    "\n",
    "decimal_place_accuracy=3\n",
    "max_loop=10**6\n",
    "#center=best_location(Points,False,\"E\",dec_place_accuracy,max_loop)\n",
    "center=best_location(Points,False,\"E\")\n",
    "print(\"List of friends' location:\",Points)\n",
    "print(\"Suitable best location M for the meeting:\",center)\n",
    "print(\"Distance of M with other places:\",get_distance(Points,center,\"E\"))\n",
    "plotting(Points,center)"
   ]
  },
  {
   "cell_type": "code",
   "execution_count": 7,
   "id": "22ca905b",
   "metadata": {},
   "outputs": [
    {
     "name": "stdout",
     "output_type": "stream",
     "text": [
      "List of friends' location: [array([0, 0]), array([2000,    0]), array([1000, 2000])]\n",
      "Suitable best location M for the meeting: [1000.    0.]\n",
      "Distance of M with other places: 4000.0\n"
     ]
    },
    {
     "data": {
      "image/png": "[encoded data removed]",
      "text/plain": [
       "<Figure size 1080x720 with 1 Axes>"
      ]
     },
     "metadata": {
      "needs_background": "light"
     },
     "output_type": "display_data"
    }
   ],
   "source": [
    "#Exercise 2.2 Friends discrete version Ex 1\n",
    "Points=[]\n",
    "A=np.array([0,0])\n",
    "B=np.array([2000,0])\n",
    "E=np.array([1000,2000])\n",
    "Points.append(A)\n",
    "Points.append(B)\n",
    "Points.append(E)\n",
    "\n",
    "decimal_place_accuracy=3\n",
    "max_loop=10**6\n",
    "center=best_location(Points,False,\"M\",decimal_place_accuracy,max_loop)\n",
    "#center=best_location(Points,False,\"E\")\n",
    "print(\"List of friends' location:\",Points)\n",
    "print(\"Suitable best location M for the meeting:\",center)\n",
    "print(\"Distance of M with other places:\",get_distance(Points,center,\"E\"))\n",
    "plotting(Points,center)"
   ]
  },
  {
   "cell_type": "code",
   "execution_count": 8,
   "id": "df3f7ce5",
   "metadata": {},
   "outputs": [
    {
     "name": "stdout",
     "output_type": "stream",
     "text": [
      "List of friends' location: [array([2, 3]), array([1990,    0]), array([1001, 1999])]\n",
      "Suitable best location M for the meeting: [1004.    4.]\n",
      "Distance of M with other places: 3983.0108681965758\n"
     ]
    },
    {
     "data": {
      "image/png": "[encoded data removed]",
      "text/plain": [
       "<Figure size 1080x720 with 1 Axes>"
      ]
     },
     "metadata": {
      "needs_background": "light"
     },
     "output_type": "display_data"
    }
   ],
   "source": [
    "#Exercise 2.2 Friends discrete version Ex 2\n",
    "#Points=[]\n",
    "#A=np.array([2,3])\n",
    "#B=np.array([1990,0])\n",
    "#E=np.array([1001,1999])\n",
    "#Points.append(A)\n",
    "#Points.append(B)\n",
    "#Points.append(E)\n",
    "Points[0]=np.array([2,3])\n",
    "Points[1]=np.array([1990,0])\n",
    "Points[2]=np.array([1001,1999])\n",
    "\n",
    "decimal_place_accuracy=0\n",
    "max_loop=10**6\n",
    "center=best_location(Points,True,\"M\",decimal_place_accuracy,max_loop,center)\n",
    "#center=best_location(Points,False,\"E\")\n",
    "print(\"List of friends' location:\",Points)\n",
    "print(\"Suitable best location M for the meeting:\",center)\n",
    "print(\"Distance of M with other places:\",get_distance(Points,center,\"E\"))\n",
    "plotting(Points,center)"
   ]
  },
  {
   "cell_type": "code",
   "execution_count": 9,
   "id": "0bd5facc",
   "metadata": {},
   "outputs": [
    {
     "name": "stdout",
     "output_type": "stream",
     "text": [
      "List of friends' location: [array([2, 3]), array([1990,    0]), array([1001, 1999]), array([1001, 1999]), array([1999,    1])]\n",
      "Suitable best location M for the meeting: [1000.    0.]\n",
      "Distance of M with other places: 6985.005509758319\n"
     ]
    },
    {
     "data": {
      "image/png": "[encoded data removed]",
      "text/plain": [
       "<Figure size 1080x720 with 1 Axes>"
      ]
     },
     "metadata": {
      "needs_background": "light"
     },
     "output_type": "display_data"
    }
   ],
   "source": [
    "#Exercise 2.2 Friends discrete version Ex 3\n",
    "C=np.array([1001,1999])\n",
    "D=np.array([1999,1])\n",
    "Points.append(C)\n",
    "Points.append(D)\n",
    "\n",
    "decimal_place_accuracy=0\n",
    "max_loop=10**6\n",
    "center=best_location(Points,True,\"M\",decimal_place_accuracy,max_loop,center)\n",
    "#center=best_location(Points,False,\"E\")\n",
    "print(\"List of friends' location:\",Points)\n",
    "print(\"Suitable best location M for the meeting:\",center)\n",
    "print(\"Distance of M with other places:\",get_distance(Points,center,\"E\"))\n",
    "plotting(Points,center)"
   ]
  },
  {
   "cell_type": "code",
   "execution_count": null,
   "id": "c1b3a77b",
   "metadata": {},
   "outputs": [],
   "source": []
  }
 ],
 "metadata": {
  "kernelspec": {
   "display_name": "Python 3",
   "language": "python",
   "name": "python3"
  },
  "language_info": {
   "codemirror_mode": {
    "name": "ipython",
    "version": 3
   },
   "file_extension": ".py",
   "mimetype": "text/x-python",
   "name": "python",
   "nbconvert_exporter": "python",
   "pygments_lexer": "ipython3",
   "version": "3.8.8"
  }
 },
 "nbformat": 4,
 "nbformat_minor": 5
}
