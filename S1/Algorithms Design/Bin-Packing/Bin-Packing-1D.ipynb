{
 "cells": [
  {
   "cell_type": "markdown",
   "metadata": {},
   "source": [
    "#  Bin Packing Problems: Strategies & Tactics\n",
    "## Ibrahim SOBH"
   ]
  },
  {
   "cell_type": "markdown",
   "metadata": {},
   "source": [
    "### Family Name: "
   ]
  },
  {
   "cell_type": "markdown",
   "metadata": {},
   "source": [
    "## A Bin Class"
   ]
  },
  {
   "cell_type": "code",
   "execution_count": 764,
   "metadata": {},
   "outputs": [],
   "source": [
    "import math as mt \n",
    "# A Bin Class\n",
    "class Bin:\n",
    "    def __init__(self):\n",
    "        self.list = []\n",
    "\n",
    "    def addItem(self, item):\n",
    "        self.list.append(item)\n",
    "\n",
    "    def removeItem(self, item):\n",
    "        self.list.remove(item)\n",
    "\n",
    "    def sum(self):\n",
    "        total = 0\n",
    "        for elem in self.list:\n",
    "            total += elem\n",
    "        return total\n",
    "\n",
    "    def show(self):\n",
    "        return self.list\n",
    "    \n",
    "List_of_elements=[1,2,4,2,3,2,3,5,1,2]\n",
    "Capacity=6"
   ]
  },
  {
   "cell_type": "markdown",
   "metadata": {},
   "source": [
    "## The First Fit Algorithm"
   ]
  },
  {
   "cell_type": "code",
   "execution_count": 765,
   "metadata": {
    "scrolled": false
   },
   "outputs": [
    {
     "name": "stdout",
     "output_type": "stream",
     "text": [
      "[[1, 2, 2, 1], [4, 2], [3, 3], [5], [2]]\n",
      "Optimal solution : 5  bins\n",
      "Solution : 5  bins, Spaces Left:  5\n"
     ]
    }
   ],
   "source": [
    "# An implementation of FT Algorithm  \n",
    "# FT: First Fit\n",
    "\n",
    "def First_Fit(List_items, BinCapacity):\n",
    "    \"\"\" Returns 'list of bins' with input List_items inside. \"\"\"\n",
    "    List_bins = []\n",
    "    List_bins.append(Bin()) # Always Add the first empty bin to the list\n",
    "\n",
    "    for item in List_items:\n",
    "        # Go through bins and try to allocate  when it is possible\n",
    "        alloc_flag = False\n",
    "\n",
    "        for bin in List_bins:\n",
    "            if bin.sum() + item <= BinCapacity:\n",
    "                bin.addItem(item)\n",
    "                alloc_flag = True\n",
    "                break\n",
    "\n",
    "        # If item is not placed in bins in list, create a new bin\n",
    "        # and place it into it.\n",
    "        if alloc_flag == False:\n",
    "            newBin = Bin()\n",
    "            newBin.addItem(item)\n",
    "            List_bins.append(newBin)\n",
    "\n",
    "# Turn List_bins into List_Items\n",
    "    List_items = []\n",
    "    for bin in List_bins:\n",
    "        List_items.append(bin.show())\n",
    "# Return\n",
    "    return(List_items)\n",
    "\n",
    "bins= First_Fit(List_of_elements, Capacity)\n",
    "print(bins)\n",
    "spaces_left= Capacity*len(bins)-sum(sum(x) for x in bins)\n",
    "print ('Optimal solution :',mt.ceil(sum(List_of_elements)/Capacity), ' bins' )\n",
    "print ('Solution :',len(bins), ' bins, Spaces Left: ',spaces_left )"
   ]
  },
  {
   "cell_type": "markdown",
   "metadata": {},
   "source": [
    "## The First Fit Decreasing"
   ]
  },
  {
   "cell_type": "code",
   "execution_count": 766,
   "metadata": {
    "scrolled": true
   },
   "outputs": [
    {
     "name": "stdout",
     "output_type": "stream",
     "text": [
      "[[5, 1], [4, 2], [3, 3], [2, 2, 2], [1]]\n",
      "Optimal solution : 5  bins\n",
      "Solution : 5  bins, Spaces Left:  5\n"
     ]
    }
   ],
   "source": [
    "# An implementation of FFD Algorithm  \n",
    "# FFD: First Fit Decreasing\n",
    "def First_Fit_Dec(List_items, BinCapacity):\n",
    "    \"\"\" Returns 'list of bins' with input List_items inside. \"\"\"\n",
    "# Sort list in decreasing order\n",
    "    List_items=sorted(List_items)\n",
    "    List_items=List_items[::-1]\n",
    "    # If you want to use Numpy\n",
    "    # List_items=-np.sort(-List_items) # A Trick to Sort in Decreasing Order\n",
    "    # you can also use array_copy = np.sort(List_Items)[::-1]\n",
    "    \n",
    "    # Apply first-fit algorith\n",
    "    return(First_Fit(List_items, BinCapacity))\n",
    "\n",
    "bins= First_Fit_Dec(List_of_elements, Capacity)\n",
    "print(bins)\n",
    "spaces_left= Capacity*len(bins)-sum(sum(x) for x in bins)\n",
    "print ('Optimal solution :',mt.ceil(sum(List_of_elements)/Capacity), ' bins' )\n",
    "print ('Solution :',len(bins), ' bins, Spaces Left: ',spaces_left )"
   ]
  },
  {
   "cell_type": "markdown",
   "metadata": {},
   "source": [
    "## Code here the Next Fit Algorithm"
   ]
  },
  {
   "cell_type": "code",
   "execution_count": 767,
   "metadata": {
    "scrolled": true
   },
   "outputs": [
    {
     "name": "stdout",
     "output_type": "stream",
     "text": [
      "[[1, 2], [4, 2], [3, 2], [3], [5, 1], [2]]\n",
      "Optimal solution : 5  bins\n",
      "Solution : 6  bins, Spaces Left:  11\n"
     ]
    }
   ],
   "source": [
    "# An implementation of NF Algorithm  \n",
    "# NF : Next Fit\n",
    "def Next_Fit(List_items, BinCapacity):\n",
    "    \"\"\" Returns 'list of bins' with input List_items inside. \"\"\"\n",
    "    List_bins = []\n",
    "    List_bins.append(Bin()) # Always Add the first empty bin to the list\n",
    "\n",
    "    for item in List_items:\n",
    "        current_bin=List_bins[-1] # last bin used\n",
    "        if current_bin.sum() + item <= BinCapacity:\n",
    "            current_bin.addItem(item)\n",
    "        else:\n",
    "         # If item is not placed in bins in list, create a new bin\n",
    "         # and place it into it.\n",
    "            newBin = Bin()\n",
    "            newBin.addItem(item)\n",
    "            List_bins.append(newBin)\n",
    "             # last added bin\n",
    "                \n",
    "    # Turn List_bins into List_Items\n",
    "    List_items = []\n",
    "    for bin in List_bins:\n",
    "        List_items.append(bin.show())\n",
    "     # Return\n",
    "    return(List_items)\n",
    "\n",
    "bins= Next_Fit(List_of_elements, Capacity)\n",
    "print(bins)\n",
    "spaces_left= Capacity*len(bins)-sum(sum(x) for x in bins)\n",
    "print ('Optimal solution :',mt.ceil(sum(List_of_elements)/Capacity), ' bins' )\n",
    "print ('Solution :',len(bins), ' bins, Spaces Left: ',spaces_left )"
   ]
  },
  {
   "cell_type": "markdown",
   "metadata": {},
   "source": [
    "## Code here the Next Fit Decreasing Algorithm"
   ]
  },
  {
   "cell_type": "code",
   "execution_count": 768,
   "metadata": {},
   "outputs": [
    {
     "name": "stdout",
     "output_type": "stream",
     "text": [
      "[[5], [4], [3, 3], [2, 2, 2], [2, 1, 1]]\n",
      "Optimal solution : 5  bins\n",
      "Solution : 5  bins, Spaces Left:  5\n"
     ]
    }
   ],
   "source": [
    "# An implementation of NFD Algorithm  \n",
    "# NFD: NEXT Fit Decreasing\n",
    "def Next_Fit_Dec(List_items, BinCapacity):\n",
    "    \"\"\" Returns 'list of bins' with input List_items inside. \"\"\"\n",
    "    # Sort list in decreasing order\n",
    "    List_items=sorted(List_items)\n",
    "    List_items=List_items[::-1]\n",
    "\n",
    "    # Apply next-fit algorith\n",
    "    return(Next_Fit(List_items, BinCapacity))\n",
    " \n",
    "bins=Next_Fit_Dec(List_of_elements, Capacity)\n",
    "print(bins)\n",
    "spaces_left= Capacity*len(bins)-sum(sum(x) for x in bins)\n",
    "print ('Optimal solution :',mt.ceil(sum(List_of_elements)/Capacity), ' bins' )\n",
    "print ('Solution :',len(bins), ' bins, Spaces Left: ',spaces_left )"
   ]
  },
  {
   "cell_type": "markdown",
   "metadata": {},
   "source": [
    "# Your Work (I):\n",
    "## The Best Fit Decreasing\n",
    "## ---> To Code Best Fit Decreasing we need to Code Best Fit First\n"
   ]
  },
  {
   "cell_type": "code",
   "execution_count": 769,
   "metadata": {},
   "outputs": [
    {
     "name": "stdout",
     "output_type": "stream",
     "text": [
      "[[1, 2, 3], [4, 2], [2, 3], [5, 1], [2]]\n",
      "Optimal solution : 5  bins\n",
      "Solution : 5  bins, Spaces Left:  5\n"
     ]
    }
   ],
   "source": [
    "# An implementation of BF Algorithm  \n",
    "# BF: BEST Fit \n",
    "\n",
    "# Get the bin with Max_Load or the minimum number of spaces left after packing\n",
    "\n",
    "def MaxLoad_fit(item,List_bins, BinCapacity):\n",
    "    \n",
    "    max_space_left = BinCapacity+1\n",
    "    bin_with_maxload_fit=-1\n",
    "    \n",
    "    for bin in List_bins:\n",
    "        if bin.sum() + item <= BinCapacity: \n",
    "            placeleft= BinCapacity- bin.sum() - item\n",
    "            if placeleft <= max_space_left:\n",
    "                max_space_left = placeleft\n",
    "                bin_with_maxload_fit=bin\n",
    "                    \n",
    "    return bin_with_maxload_fit\n",
    "def Best_Fit(List_items, BinCapacity):\n",
    "    \"\"\" Returns 'list of bins' with input List_items inside. \"\"\"\n",
    "    List_bins = []\n",
    "    List_bins.append(Bin()) # Always Add the first empty bin to the list\n",
    "\n",
    "    for item in List_items:\n",
    "        # Go through bins and try to allocate  when it is possible\n",
    "        Bin_to_fill= MaxLoad_fit(item,List_bins,BinCapacity)\n",
    "        if Bin_to_fill==-1 : # no fit\n",
    "            newBin = Bin()\n",
    "            newBin.addItem(item)\n",
    "            List_bins.append(newBin)\n",
    "        else:\n",
    "            Bin_to_fill.addItem(item)\n",
    "                   \n",
    "# Turn List_bins into List_Items\n",
    "    List_items = []\n",
    "    for bin in List_bins:\n",
    "        List_items.append(bin.show())\n",
    "# Return\n",
    "    return(List_items)\n",
    "\n",
    "bins=Best_Fit(List_of_elements, Capacity)\n",
    "print(bins)\n",
    "spaces_left= Capacity*len(bins)-sum(sum(x) for x in bins)\n",
    "print ('Optimal solution :',mt.ceil(sum(List_of_elements)/Capacity), ' bins' )\n",
    "print ('Solution :',len(bins), ' bins, Spaces Left: ',spaces_left )"
   ]
  },
  {
   "cell_type": "markdown",
   "metadata": {},
   "source": [
    "## Best FIT Decreasing"
   ]
  },
  {
   "cell_type": "code",
   "execution_count": 770,
   "metadata": {
    "scrolled": true
   },
   "outputs": [
    {
     "name": "stdout",
     "output_type": "stream",
     "text": [
      "[[5, 1], [4, 2], [3, 3], [2, 2, 2], [1]]\n",
      "Optimal solution : 5  bins\n",
      "Solution : 5  bins, Spaces Left:  5\n"
     ]
    }
   ],
   "source": [
    "# An implementation of BFD Algorithm  \n",
    "# BF: BEST Fit Decreasing\n",
    "\n",
    "def Best_Fit_Dec(List_items, BinCapacity):\n",
    "    \"\"\" Returns 'list of bins' with input List_items inside. \"\"\"\n",
    "    # Sort list in decreasing order\n",
    "    List_items=sorted(List_items)\n",
    "    List_items=List_items[::-1]\n",
    "\n",
    "    # Apply next-fit algorith\n",
    "    return(Best_Fit(List_items, BinCapacity))\n",
    "\n",
    "bins=Best_Fit_Dec(List_of_elements, Capacity)\n",
    "print(bins)\n",
    "spaces_left= Capacity*len(bins)-sum(sum(x) for x in bins)\n",
    "print ('Optimal solution :',mt.ceil(sum(List_of_elements)/Capacity), ' bins' )\n",
    "print ('Solution :',len(bins), ' bins, Spaces Left: ',spaces_left )"
   ]
  },
  {
   "cell_type": "markdown",
   "metadata": {},
   "source": [
    "## Worst Fit"
   ]
  },
  {
   "cell_type": "code",
   "execution_count": 771,
   "metadata": {},
   "outputs": [
    {
     "name": "stdout",
     "output_type": "stream",
     "text": [
      "[[1, 2, 2], [4], [3, 2], [3, 1, 2], [5]]\n",
      "Optimal solution : 5  bins\n",
      "Solution : 5  bins, Spaces Left:  5\n"
     ]
    }
   ],
   "source": [
    "# An implementation of WF Algorithm  \n",
    "# WF: Worst Fit \n",
    "\n",
    "# Get the bin with Min_Load or the maximum number of spaces left after packing\n",
    "\n",
    "def MinLoad_fit(item,List_bins, BinCapacity):\n",
    "    \n",
    "    min_space_left = -1\n",
    "    bin_with_minload_fit=-1\n",
    "    \n",
    "    for bin in List_bins:\n",
    "        if bin.sum() + item <= BinCapacity: \n",
    "            placeleft= BinCapacity- bin.sum() - item\n",
    "            if placeleft >= min_space_left:\n",
    "                min_space_left = placeleft\n",
    "                bin_with_minload_fit=bin\n",
    "                    \n",
    "    return bin_with_minload_fit\n",
    "\n",
    "def Worst_Fit(List_items, BinCapacity):\n",
    "    \"\"\" Returns 'list of bins' with input List_items inside. \"\"\"\n",
    "    List_bins = []\n",
    "    List_bins.append(Bin()) # Always Add the first empty bin to the list\n",
    "\n",
    "    for item in List_items:\n",
    "        # Go through bins and try to allocate  when it is possible\n",
    "        Bin_to_fill= MinLoad_fit(item,List_bins,BinCapacity)\n",
    "        if Bin_to_fill==-1 : # no fit\n",
    "            newBin = Bin()\n",
    "            newBin.addItem(item)\n",
    "            List_bins.append(newBin)\n",
    "        else:\n",
    "            Bin_to_fill.addItem(item)\n",
    "                   \n",
    "# Turn List_bins into List_Items\n",
    "    List_items = []\n",
    "    for bin in List_bins:\n",
    "        List_items.append(bin.show())\n",
    "# Return\n",
    "    return(List_items)\n",
    "\n",
    "bins=Worst_Fit(List_of_elements, Capacity)\n",
    "print(bins)\n",
    "spaces_left= Capacity*len(bins)-sum(sum(x) for x in bins)\n",
    "print ('Optimal solution :',mt.ceil(sum(List_of_elements)/Capacity), ' bins' )\n",
    "print ('Solution :',len(bins), ' bins, Spaces Left: ',spaces_left )"
   ]
  },
  {
   "cell_type": "markdown",
   "metadata": {},
   "source": [
    "## Worst Fit Decreasing"
   ]
  },
  {
   "cell_type": "code",
   "execution_count": 772,
   "metadata": {
    "scrolled": true
   },
   "outputs": [
    {
     "name": "stdout",
     "output_type": "stream",
     "text": [
      "[[5, 1], [4, 2], [3, 3], [2, 2, 2], [1]]\n",
      "Optimal solution : 5  bins\n",
      "Solution : 5  bins, Spaces Left:  5\n"
     ]
    }
   ],
   "source": [
    "# An implementation of WFD Algorithm  \n",
    "# WF: Worst Fit Decreasing\n",
    "21\n",
    "def Worst_Fit_Dec(List_items, BinCapacity):\n",
    "    \"\"\" Returns 'list of bins' with input List_items inside. \"\"\"\n",
    "    # Sort list in decreasing order\n",
    "    List_items=sorted(List_items)\n",
    "    List_items=List_items[::-1]\n",
    "\n",
    "    # Apply next-fit algorith\n",
    "    return(Worst_Fit(List_items, BinCapacity))\n",
    "\n",
    "bins=Worst_Fit_Dec(List_of_elements, Capacity)\n",
    "print(bins)\n",
    "spaces_left= Capacity*len(bins)-sum(sum(x) for x in bins)\n",
    "print ('Optimal solution :',mt.ceil(sum(List_of_elements)/Capacity), ' bins' )\n",
    "print ('Solution :',len(bins), ' bins, Spaces Left: ',spaces_left )"
   ]
  },
  {
   "cell_type": "markdown",
   "metadata": {},
   "source": [
    "## The Interlacing Algorithm with FF"
   ]
  },
  {
   "cell_type": "markdown",
   "metadata": {},
   "source": [
    "### Light Modification to BFD , FFD "
   ]
  },
  {
   "cell_type": "code",
   "execution_count": 773,
   "metadata": {},
   "outputs": [],
   "source": [
    "## FFD: First Fit Decreasing With light Modification\n",
    "\n",
    "def First_Fit_Dec_MixOrder(List_items, BinCapacity):\n",
    "    \"\"\" Returns 'list of bins' with input List_items inside. \"\"\"\n",
    "# Sort list in decreasing order\n",
    "    List_items=sorted(List_items)\n",
    "    List_items=List_items[::-1]\n",
    "    Leng =len(List_items)\n",
    "    S1 = List_items[:Leng//2]\n",
    "    S2 = List_items[Leng//2:]\n",
    "    List_items= S1+S2\n",
    "    # If you want to use Numpy\n",
    "    # List_items=-np.sort(-List_items) # A Trick to Sort in Decreasing Order\n",
    "    # you can also use array_copy = np.sort(List_Items)[::-1]\n",
    "    \n",
    "    # Apply first-fit algorith\n",
    "    return(First_Fit(List_items, BinCapacity))\n",
    "\n",
    "# BF: BEST Fit Decreasing With light Modification\n",
    "\n",
    "def Best_Fit_Dec_MixOrder(List_items, BinCapacity):\n",
    "    \"\"\" Returns 'list of bins' with input List_items inside. \"\"\"\n",
    "    # Sort list in decreasing order\n",
    "    List_items=sorted(List_items)\n",
    "    List_items=List_items[::-1]\n",
    "    S1 = List_items[:Leng//2]\n",
    "    S2 = List_items[Leng//2:]\n",
    "    List_items= S1+S2\n",
    "    # Apply next-fit algorith\n",
    "    return(Best_Fit(List_items, BinCapacity))"
   ]
  },
  {
   "cell_type": "markdown",
   "metadata": {},
   "source": [
    "## Cut List"
   ]
  },
  {
   "cell_type": "code",
   "execution_count": 774,
   "metadata": {
    "scrolled": false
   },
   "outputs": [
    {
     "name": "stdout",
     "output_type": "stream",
     "text": [
      "[5, 5, 5, 5, 5, 5, 5, 5, 5, 5, 3, 3, 3, 3, 3, 3, 3, 3, 3, 3, 3, 3, 3, 3, 3, 3, 3, 3, 3, 3, 2, 2, 2, 2, 2, 2, 2, 2, 2, 2, 2, 2, 2, 2, 2, 2, 2, 2, 2, 2, 2, 2, 2, 2, 2, 2, 2, 2, 2, 2, 2, 2, 2, 2, 2, 2, 2, 2, 2, 2, 2, 2, 2, 2, 2, 2, 2, 2, 2, 2, 1, 1, 1, 1, 1, 1, 1, 1, 1, 1, 1, 1, 1, 1, 1, 1, 1, 1, 1, 1, 1, 1, 1, 1, 1, 1, 1, 1, 1, 1, 1, 1, 1, 1, 1, 1, 1, 1, 1, 1, 1, 1, 1, 1, 1, 1, 1, 1, 1, 1, 1, 1, 1, 1, 1, 1, 1, 1, 1, 1]\n",
      "[5, 5, 5, 5, 5, 5, 5, 5, 5, 5, 3, 3, 3, 3, 3, 3, 3, 3, 3, 3, 3, 3, 3, 3, 3, 3, 3, 3, 3, 3, 2, 2, 2, 2, 2, 2, 2, 2, 2, 2, 2, 2, 2, 2, 2, 2, 2, 2, 2, 2, 2, 2, 2, 2, 2, 2, 2, 2, 2, 2, 2, 2, 2, 2, 2, 2, 2, 2, 2, 2]\n",
      "[2, 2, 2, 2, 2, 2, 2, 2, 2, 2, 1, 1, 1, 1, 1, 1, 1, 1, 1, 1, 1, 1, 1, 1, 1, 1, 1, 1, 1, 1, 1, 1, 1, 1, 1, 1, 1, 1, 1, 1, 1, 1, 1, 1, 1, 1, 1, 1, 1, 1, 1, 1, 1, 1, 1, 1, 1, 1, 1, 1, 1, 1, 1, 1, 1, 1, 1, 1, 1, 1]\n",
      "70 70 140\n"
     ]
    }
   ],
   "source": [
    "List_of_items = [2, 1, 3, 2, 1, 2, 1, 2, 1, 1, 3, 1, 2, 5]*10\n",
    "BinCapacity = 10\n",
    "\n",
    "def Cut(List_items):\n",
    "    List_items=sorted(List_items)\n",
    "    List_items=List_items[::-1]\n",
    "    Leng =len(List_items)\n",
    "    S1 = List_items[:Leng//2]\n",
    "    S2 = List_items[Leng//2:]\n",
    "    return S1, S2\n",
    "\n",
    "List_of_items=sorted(List_of_items)\n",
    "List_of_items=List_of_items[::-1]\n",
    "Leng =len(List_of_items)\n",
    "S1,S2=Cut(List_of_items)\n",
    "\n",
    "print(List_of_items)\n",
    "print(S1)\n",
    "print(S2)\n",
    "print(len(S1),len(S2),len(List_of_items))\n",
    "\n"
   ]
  },
  {
   "cell_type": "code",
   "execution_count": 775,
   "metadata": {
    "scrolled": false
   },
   "outputs": [
    {
     "name": "stdout",
     "output_type": "stream",
     "text": [
      "New_List_items:    [5, 2, 5, 2, 5, 2, 5, 2, 5, 2, 5, 2, 5, 2, 5, 2, 5, 2, 5, 2, 3, 1, 3, 1, 3, 1, 3, 1, 3, 1, 3, 1, 3, 1, 3, 1, 3, 1, 3, 1, 3, 1, 3, 1, 3, 1, 3, 1, 3, 1, 3, 1, 3, 1, 3, 1, 3, 1, 3, 1, 2, 1, 2, 1, 2, 1, 2, 1, 2, 1, 2, 1, 2, 1, 2, 1, 2, 1, 2, 1, 2, 1, 2, 1, 2, 1, 2, 1, 2, 1, 2, 1, 2, 1, 2, 1, 2, 1, 2, 1, 2, 1, 2, 1, 2, 1, 2, 1, 2, 1, 2, 1, 2, 1, 2, 1, 2, 1, 2, 1, 2, 1, 2, 1, 2, 1, 2, 1, 2, 1, 2, 1, 2, 1, 2, 1, 2, 1, 2, 1]\n",
      "Reverse_Second:    [5, 1, 5, 1, 5, 1, 5, 1, 5, 1, 5, 1, 5, 1, 5, 1, 5, 1, 5, 1, 3, 1, 3, 1, 3, 1, 3, 1, 3, 1, 3, 1, 3, 1, 3, 1, 3, 1, 3, 1, 3, 1, 3, 1, 3, 1, 3, 1, 3, 1, 3, 1, 3, 1, 3, 1, 3, 1, 3, 1, 2, 1, 2, 1, 2, 1, 2, 1, 2, 1, 2, 1, 2, 1, 2, 1, 2, 1, 2, 1, 2, 1, 2, 1, 2, 1, 2, 1, 2, 1, 2, 1, 2, 1, 2, 1, 2, 1, 2, 1, 2, 1, 2, 1, 2, 1, 2, 1, 2, 1, 2, 1, 2, 1, 2, 1, 2, 1, 2, 1, 2, 2, 2, 2, 2, 2, 2, 2, 2, 2, 2, 2, 2, 2, 2, 2, 2, 2, 2, 2]\n",
      "Reverse_First:     [2, 2, 2, 2, 2, 2, 2, 2, 2, 2, 2, 2, 2, 2, 2, 2, 2, 2, 2, 2, 2, 1, 2, 1, 2, 1, 2, 1, 2, 1, 2, 1, 2, 1, 2, 1, 2, 1, 2, 1, 2, 1, 2, 1, 2, 1, 2, 1, 2, 1, 2, 1, 2, 1, 2, 1, 2, 1, 2, 1, 2, 1, 2, 1, 2, 1, 2, 1, 2, 1, 2, 1, 2, 1, 2, 1, 2, 1, 2, 1, 3, 1, 3, 1, 3, 1, 3, 1, 3, 1, 3, 1, 3, 1, 3, 1, 3, 1, 3, 1, 3, 1, 3, 1, 3, 1, 3, 1, 3, 1, 3, 1, 3, 1, 3, 1, 3, 1, 3, 1, 5, 1, 5, 1, 5, 1, 5, 1, 5, 1, 5, 1, 5, 1, 5, 1, 5, 1, 5, 1]\n"
     ]
    }
   ],
   "source": [
    "# Interlacing of two lists\n",
    "def Interlacing(A,B):\n",
    "    New_List =[]\n",
    "    New_List =[val for pair in zip(A, B) for val in pair]\n",
    "    if len(A) > len(B):\n",
    "        New_List=New_List+A[len(B):]\n",
    "    if len(B) > len(A):\n",
    "        New_List= New_List+B[len(A):]\n",
    "    return New_List\n",
    "\n",
    "def Interlacing_Reverse_Second(A,B):\n",
    "    New_List =[]\n",
    "    B=B[::-1]\n",
    "    New_List =[val for pair in zip(A, B) for val in pair]\n",
    "    if len(A) > len(B):\n",
    "        New_List=New_List+A[len(B):]\n",
    "    if len(B) > len(A):\n",
    "        New_List= New_List+B[len(A):]\n",
    "    return New_List\n",
    "\n",
    "def Interlacing_Reverse_First(A,B):\n",
    "    New_List =[]\n",
    "    A=A[::-1]\n",
    "    New_List =[val for pair in zip(A, B) for val in pair]\n",
    "    if len(A) > len(B):\n",
    "        New_List=New_List+A[len(B):]\n",
    "    if len(B) > len(A):\n",
    "        New_List= New_List+B[len(A):]\n",
    "    return New_List\n",
    "    \n",
    "New_List_items= Interlacing(S1,S2)\n",
    "print(\"New_List_items:   \",New_List_items)\n",
    " \n",
    "New_List_Reverse_Second= Interlacing_Reverse_Second(S1,S2)\n",
    "print(\"Reverse_Second:   \", New_List_Reverse_Second)\n",
    "\n",
    "New_List_Reverse_First= Interlacing_Reverse_First(S1,S2)\n",
    "print(\"Reverse_First:    \",New_List_Reverse_First)\n"
   ]
  },
  {
   "cell_type": "markdown",
   "metadata": {},
   "source": [
    "## First Strategy (Normal Interlacing)"
   ]
  },
  {
   "cell_type": "code",
   "execution_count": 776,
   "metadata": {
    "scrolled": false
   },
   "outputs": [
    {
     "name": "stdout",
     "output_type": "stream",
     "text": [
      "#First Strategy\n",
      "---------------\n",
      "#First Fit\n",
      "[[5, 2, 2, 1], [5, 5], [2, 5, 2, 1], [5, 2, 2, 1], [5, 5], [2, 5, 2, 1], [5, 2, 2, 1], [5, 3, 1, 1], [3, 3, 3, 1], [3, 3, 3, 1], [3, 3, 3, 1], [3, 1, 3, 1, 1, 1], [3, 3, 3, 1], [3, 1, 3, 1, 1, 1], [3, 3, 3, 1], [2, 1, 2, 1, 2, 1, 1], [2, 2, 1, 2, 1, 2], [1, 2, 1, 2, 1, 2, 1], [2, 1, 2, 1, 2, 1, 1], [2, 2, 1, 2, 1, 2], [1, 2, 1, 2, 1, 2, 1], [2, 1, 2, 1, 2, 1, 1], [2, 2, 1, 2, 1, 2], [1, 2, 1, 2, 1, 2, 1], [2, 1, 2, 1, 2, 1, 1], [2, 2, 1, 2, 1, 2], [1, 2, 1, 2, 1, 2, 1]]\n",
      "Optimal solution : 27  bins\n",
      "Solution : 27  bins, Spaces Left:  0 \n",
      "\n",
      "#Next Fit\n",
      "[[5, 2], [5, 2], [5, 2], [5, 2], [5, 2], [5, 2], [5, 2], [5, 2], [5, 2], [5, 2, 3], [1, 3, 1, 3, 1], [3, 1, 3, 1], [3, 1, 3, 1], [3, 1, 3, 1], [3, 1, 3, 1], [3, 1, 3, 1], [3, 1, 3, 1], [3, 1, 3, 1], [3, 1, 3, 1], [3, 1, 2, 1, 2, 1], [2, 1, 2, 1, 2, 1], [2, 1, 2, 1, 2, 1], [2, 1, 2, 1, 2, 1], [2, 1, 2, 1, 2, 1], [2, 1, 2, 1, 2, 1], [2, 1, 2, 1, 2, 1], [2, 1, 2, 1, 2, 1], [2, 1, 2, 1, 2, 1], [2, 1, 2, 1, 2, 1], [2, 1, 2, 1, 2, 1], [2, 1, 2, 1, 2, 1], [2, 1, 2, 1, 2, 1], [2, 1, 2, 1]]\n",
      "Optimal solution : 27  bins\n",
      "Solution : 33  bins, Spaces Left:  60 \n",
      "\n",
      "#Best Fit\n",
      "[[5, 2, 2, 1], [5, 5], [2, 5, 2, 1], [5, 2, 2, 1], [5, 5], [2, 5, 2, 1], [5, 2, 2, 1], [5, 3, 1, 1], [3, 3, 3, 1], [3, 3, 3, 1], [3, 3, 3, 1], [3, 1, 3, 1, 1, 1], [3, 3, 3, 1], [3, 1, 3, 1, 1, 1], [3, 3, 3, 1], [2, 1, 2, 1, 2, 1, 1], [2, 2, 1, 2, 1, 2], [1, 2, 1, 2, 1, 2, 1], [2, 1, 2, 1, 2, 1, 1], [2, 2, 1, 2, 1, 2], [1, 2, 1, 2, 1, 2, 1], [2, 1, 2, 1, 2, 1, 1], [2, 2, 1, 2, 1, 2], [1, 2, 1, 2, 1, 2, 1], [2, 1, 2, 1, 2, 1, 1], [2, 2, 1, 2, 1, 2], [1, 2, 1, 2, 1, 2, 1]]\n",
      "Optimal solution : 27  bins\n",
      "Solution : 27  bins, Spaces Left:  0 \n",
      "\n",
      "#Worst Fit\n",
      "[[5, 2, 1, 2], [5, 2, 3], [5, 2, 1, 1], [5, 2, 3], [5, 2, 1, 2], [5, 2, 3], [5, 2, 1, 1], [5, 2, 3], [5, 2, 1, 2], [5, 2, 3], [3, 1, 3, 1, 1], [3, 1, 3, 1, 2], [3, 1, 3, 1, 1], [3, 1, 3, 1, 2], [3, 1, 3, 1, 1], [3, 1, 3, 1, 2], [3, 1, 3, 1, 1], [3, 1, 2, 1, 2, 1], [2, 1, 2, 1, 2, 1], [2, 1, 2, 1, 2, 1], [2, 1, 2, 1, 2, 1], [2, 1, 2, 1, 2, 1], [2, 1, 2, 1, 2, 1], [2, 1, 2, 1, 2, 1], [2, 1, 2, 1, 2, 1], [2, 1, 2, 1, 2, 1], [2, 1, 2, 1, 2, 1], [2, 1, 2, 1, 2, 1], [2, 1, 2, 1]]\n",
      "Optimal solution : 27  bins\n",
      "Solution : 29  bins, Spaces Left:  20 \n",
      "\n"
     ]
    }
   ],
   "source": [
    "# Code of Your  Interlacing  Strategy \n",
    "\n",
    "# First Strategy (Normal Interlacing)\n",
    "#----------------\n",
    "print('#First Strategy\\n---------------')\n",
    "List_items=New_List_items\n",
    "# FF\n",
    "bins= First_Fit(List_items, BinCapacity)\n",
    "print('#First Fit')\n",
    "print(bins)\n",
    "spaces_left= BinCapacity*len(bins)-sum(sum(x) for x in bins)\n",
    "print ('Optimal solution :',mt.ceil(sum(List_items)/BinCapacity), ' bins' )\n",
    "print ('Solution :',len(bins), ' bins, Spaces Left: ',spaces_left,'\\n' )\n",
    "# NF\n",
    "print('#Next Fit')\n",
    "bins= Next_Fit(List_items, BinCapacity)\n",
    "print(bins)\n",
    "spaces_left= BinCapacity*len(bins)-sum(sum(x) for x in bins)\n",
    "print ('Optimal solution :',mt.ceil(sum(List_items)/BinCapacity), ' bins' )\n",
    "print ('Solution :',len(bins), ' bins, Spaces Left: ',spaces_left ,'\\n' )\n",
    "# BF\n",
    "print('#Best Fit')\n",
    "bins= Best_Fit(List_items, BinCapacity)\n",
    "print(bins)\n",
    "spaces_left= BinCapacity*len(bins)-sum(sum(x) for x in bins)\n",
    "print ('Optimal solution :',mt.ceil(sum(List_items)/BinCapacity), ' bins' )\n",
    "print ('Solution :',len(bins), ' bins, Spaces Left: ',spaces_left ,'\\n' )\n",
    "#WF\n",
    "print('#Worst Fit')\n",
    "bins= Worst_Fit(List_items, BinCapacity)\n",
    "print(bins)\n",
    "spaces_left= BinCapacity*len(bins)-sum(sum(x) for x in bins)\n",
    "print ('Optimal solution :',mt.ceil(sum(List_items)/BinCapacity), ' bins' )\n",
    "print ('Solution :',len(bins), ' bins, Spaces Left: ',spaces_left,'\\n' )"
   ]
  },
  {
   "cell_type": "markdown",
   "metadata": {},
   "source": [
    "## Second Strategy (Interlacing Reverse Second)"
   ]
  },
  {
   "cell_type": "code",
   "execution_count": 777,
   "metadata": {
    "scrolled": false
   },
   "outputs": [
    {
     "name": "stdout",
     "output_type": "stream",
     "text": [
      "#Second Strategy\n",
      "---------------\n",
      "#First Fit\n",
      "[[5, 1, 1, 1, 1, 1], [5, 5], [5, 5], [5, 1, 1, 1, 1, 1], [5, 5], [5, 5], [3, 1, 3, 1, 1, 1], [3, 3, 3, 1], [3, 1, 3, 1, 1, 1], [3, 3, 3, 1], [3, 1, 3, 1, 1, 1], [3, 3, 3, 1], [3, 1, 3, 1, 1, 1], [3, 3, 3, 1], [2, 1, 2, 1, 2, 1, 1], [2, 2, 1, 2, 1, 2], [1, 2, 1, 2, 1, 2, 1], [2, 1, 2, 1, 2, 1, 1], [2, 2, 1, 2, 1, 2], [1, 2, 1, 2, 1, 2, 1], [2, 1, 2, 1, 2, 1, 1], [2, 2, 1, 2, 1, 2], [1, 2, 1, 2, 1, 2, 1], [2, 2, 2, 2, 2], [2, 2, 2, 2, 2], [2, 2, 2, 2, 2], [2, 2, 2, 2, 2]]\n",
      "Optimal solution : 27  bins\n",
      "Solution : 27  bins, Spaces Left:  0 \n",
      "\n",
      "#Next Fit\n",
      "[[5, 1], [5, 1], [5, 1], [5, 1], [5, 1], [5, 1], [5, 1], [5, 1], [5, 1], [5, 1, 3, 1], [3, 1, 3, 1], [3, 1, 3, 1], [3, 1, 3, 1], [3, 1, 3, 1], [3, 1, 3, 1], [3, 1, 3, 1], [3, 1, 3, 1], [3, 1, 3, 1], [3, 1, 3, 1], [3, 1, 2, 1, 2, 1], [2, 1, 2, 1, 2, 1], [2, 1, 2, 1, 2, 1], [2, 1, 2, 1, 2, 1], [2, 1, 2, 1, 2, 1], [2, 1, 2, 1, 2, 1], [2, 1, 2, 1, 2, 1], [2, 1, 2, 1, 2, 1], [2, 1, 2, 1, 2, 1], [2, 1, 2, 1, 2, 1], [2, 1, 2, 2, 2], [2, 2, 2, 2, 2], [2, 2, 2, 2, 2], [2, 2, 2, 2, 2], [2, 2]]\n",
      "Optimal solution : 27  bins\n",
      "Solution : 34  bins, Spaces Left:  70 \n",
      "\n",
      "#Best Fit\n",
      "[[5, 1, 1, 1, 1, 1], [5, 5], [5, 5], [5, 1, 1, 1, 1, 1], [5, 5], [5, 5], [3, 1, 3, 1, 1, 1], [3, 3, 3, 1], [3, 1, 3, 1, 1, 1], [3, 3, 3, 1], [3, 1, 3, 1, 1, 1], [3, 3, 3, 1], [3, 1, 3, 1, 1, 1], [3, 3, 3, 1], [2, 1, 2, 1, 2, 1, 1], [2, 2, 1, 2, 1, 2], [1, 2, 1, 2, 1, 2, 1], [2, 1, 2, 1, 2, 1, 1], [2, 2, 1, 2, 1, 2], [1, 2, 1, 2, 1, 2, 1], [2, 1, 2, 1, 2, 1, 1], [2, 2, 1, 2, 1, 2], [1, 2, 1, 2, 1, 2, 1], [2, 2, 2, 2, 2], [2, 2, 2, 2, 2], [2, 2, 2, 2, 2], [2, 2, 2, 2, 2]]\n",
      "Optimal solution : 27  bins\n",
      "Solution : 27  bins, Spaces Left:  0 \n",
      "\n",
      "#Worst Fit\n",
      "[[5, 1, 1, 3], [5, 1, 3], [5, 1, 1, 1, 2], [5, 1, 3], [5, 1, 1, 3], [5, 1, 3], [5, 1, 1, 1, 1], [5, 1, 3], [5, 1, 1, 3], [5, 1, 3], [3, 1, 3, 1, 1], [3, 1, 3, 1, 2], [3, 1, 3, 1, 1], [3, 1, 3, 1, 2], [3, 1, 3, 1, 1, 1], [3, 1, 3, 1, 2], [2, 1, 2, 1, 2, 1], [2, 1, 2, 1, 2, 1], [2, 1, 2, 1, 2, 1], [2, 1, 2, 1, 2, 1], [2, 1, 2, 1, 2, 1], [2, 1, 2, 1, 2, 1], [2, 1, 2, 1, 2, 1], [2, 1, 2, 1, 2, 1], [2, 1, 2, 1, 2, 2], [2, 2, 2, 2, 2], [2, 2, 2, 2, 2], [2, 2, 2, 2, 2], [2, 2, 2]]\n",
      "Optimal solution : 27  bins\n",
      "Solution : 29  bins, Spaces Left:  20 \n",
      "\n"
     ]
    }
   ],
   "source": [
    "# Second Strategy (Interlacing_Reverse_second)\n",
    "#----------------\n",
    "print('#Second Strategy\\n---------------')\n",
    "List_items=New_List_Reverse_Second\n",
    "# FF\n",
    "bins= First_Fit(List_items, BinCapacity)\n",
    "print('#First Fit')\n",
    "print(bins)\n",
    "spaces_left= BinCapacity*len(bins)-sum(sum(x) for x in bins)\n",
    "print ('Optimal solution :',mt.ceil(sum(List_items)/BinCapacity), ' bins' )\n",
    "print ('Solution :',len(bins), ' bins, Spaces Left: ',spaces_left,'\\n' )\n",
    "# NF\n",
    "print('#Next Fit')\n",
    "bins= Next_Fit(List_items, BinCapacity)\n",
    "print(bins)\n",
    "spaces_left= BinCapacity*len(bins)-sum(sum(x) for x in bins)\n",
    "print ('Optimal solution :',mt.ceil(sum(List_items)/BinCapacity), ' bins' )\n",
    "print ('Solution :',len(bins), ' bins, Spaces Left: ',spaces_left ,'\\n' )\n",
    "# BF\n",
    "print('#Best Fit')\n",
    "bins= Best_Fit(List_items, BinCapacity)\n",
    "print(bins)\n",
    "spaces_left= BinCapacity*len(bins)-sum(sum(x) for x in bins)\n",
    "print ('Optimal solution :',mt.ceil(sum(List_items)/BinCapacity), ' bins' )\n",
    "print ('Solution :',len(bins), ' bins, Spaces Left: ',spaces_left ,'\\n' )\n",
    "#WF\n",
    "print('#Worst Fit')\n",
    "bins= Worst_Fit(List_items, BinCapacity)\n",
    "print(bins)\n",
    "spaces_left= BinCapacity*len(bins)-sum(sum(x) for x in bins)\n",
    "print ('Optimal solution :',mt.ceil(sum(List_items)/BinCapacity), ' bins' )\n",
    "print ('Solution :',len(bins), ' bins, Spaces Left: ',spaces_left,'\\n' )"
   ]
  },
  {
   "cell_type": "markdown",
   "metadata": {},
   "source": [
    "## Third Strategy (Interlacing Reverse First)"
   ]
  },
  {
   "cell_type": "code",
   "execution_count": 778,
   "metadata": {},
   "outputs": [
    {
     "name": "stdout",
     "output_type": "stream",
     "text": [
      "#Third Strategy\n",
      "---------------\n",
      "#First Fit\n",
      "[[2, 2, 2, 2, 2], [2, 2, 2, 2, 2], [2, 2, 2, 2, 2], [2, 2, 2, 2, 2], [2, 1, 2, 1, 2, 1, 1], [2, 2, 1, 2, 1, 2], [1, 2, 1, 2, 1, 2, 1], [2, 1, 2, 1, 2, 1, 1], [2, 2, 1, 2, 1, 2], [1, 2, 1, 2, 1, 2, 1], [2, 1, 2, 1, 2, 1, 1], [2, 2, 1, 2, 1, 2], [1, 2, 1, 2, 1, 2, 1], [3, 1, 3, 1, 1, 1], [3, 3, 3, 1], [3, 1, 3, 1, 1, 1], [3, 3, 3, 1], [3, 1, 3, 1, 1, 1], [3, 3, 3, 1], [3, 1, 3, 1, 1, 1], [3, 3, 3, 1], [5, 1, 1, 1, 1, 1], [5, 5], [5, 5], [5, 1, 1, 1, 1, 1], [5, 5], [5, 5]]\n",
      "Optimal solution : 27  bins\n",
      "Solution : 27  bins, Spaces Left:  0 \n",
      "\n",
      "#Next Fit\n",
      "[[2, 2, 2, 2, 2], [2, 2, 2, 2, 2], [2, 2, 2, 2, 2], [2, 2, 2, 2, 2], [2, 1, 2, 1, 2, 1], [2, 1, 2, 1, 2, 1], [2, 1, 2, 1, 2, 1], [2, 1, 2, 1, 2, 1], [2, 1, 2, 1, 2, 1], [2, 1, 2, 1, 2, 1], [2, 1, 2, 1, 2, 1], [2, 1, 2, 1, 2, 1], [2, 1, 2, 1, 2, 1], [2, 1, 2, 1, 2, 1], [3, 1, 3, 1], [3, 1, 3, 1], [3, 1, 3, 1], [3, 1, 3, 1], [3, 1, 3, 1], [3, 1, 3, 1], [3, 1, 3, 1], [3, 1, 3, 1], [3, 1, 3, 1], [3, 1, 3, 1], [5, 1], [5, 1], [5, 1], [5, 1], [5, 1], [5, 1], [5, 1], [5, 1], [5, 1], [5, 1]]\n",
      "Optimal solution : 27  bins\n",
      "Solution : 34  bins, Spaces Left:  70 \n",
      "\n",
      "#Best Fit\n",
      "[[2, 2, 2, 2, 2], [2, 2, 2, 2, 2], [2, 2, 2, 2, 2], [2, 2, 2, 2, 2], [2, 1, 2, 1, 2, 1, 1], [2, 2, 1, 2, 1, 2], [1, 2, 1, 2, 1, 2, 1], [2, 1, 2, 1, 2, 1, 1], [2, 2, 1, 2, 1, 2], [1, 2, 1, 2, 1, 2, 1], [2, 1, 2, 1, 2, 1, 1], [2, 2, 1, 2, 1, 2], [1, 2, 1, 2, 1, 2, 1], [3, 1, 3, 1, 1, 1], [3, 3, 3, 1], [3, 1, 3, 1, 1, 1], [3, 3, 3, 1], [3, 1, 3, 1, 1, 1], [3, 3, 3, 1], [3, 1, 3, 1, 1, 1], [3, 3, 3, 1], [5, 1, 1, 1, 1, 1], [5, 5], [5, 5], [5, 1, 1, 1, 1, 1], [5, 5], [5, 5]]\n",
      "Optimal solution : 27  bins\n",
      "Solution : 27  bins, Spaces Left:  0 \n",
      "\n",
      "#Worst Fit\n",
      "[[2, 2, 2, 2, 2], [2, 2, 2, 2, 2], [2, 2, 2, 2, 2], [2, 2, 2, 2, 2], [2, 1, 2, 1, 2, 1], [2, 1, 2, 1, 2, 1], [2, 1, 2, 1, 2, 1], [2, 1, 2, 1, 2, 1], [2, 1, 2, 1, 2, 1], [2, 1, 2, 1, 2, 1], [2, 1, 2, 1, 2, 1], [2, 1, 2, 1, 2, 1], [2, 1, 2, 1, 2, 1], [2, 1, 2, 1, 2, 1], [3, 1, 3, 1], [3, 1, 3, 1], [3, 1, 3, 1], [3, 1, 3, 1], [3, 1, 3, 1], [3, 1, 3, 1], [3, 1, 3, 1], [3, 1, 3, 1], [3, 1, 3, 1], [3, 1, 3, 1], [5, 1], [5, 1], [5, 1], [5, 1], [5, 1], [5, 1], [5, 1], [5, 1], [5, 1], [5, 1]]\n",
      "Optimal solution : 27  bins\n",
      "Solution : 34  bins, Spaces Left:  70 \n",
      "\n"
     ]
    }
   ],
   "source": [
    "# Third Strategy ( Interlacing_Reverse_First)\n",
    "#----------------\n",
    "print('#Third Strategy\\n---------------')\n",
    "List_items=New_List_Reverse_First\n",
    "# FF\n",
    "bins= First_Fit(List_items, BinCapacity)\n",
    "print('#First Fit')\n",
    "print(bins)\n",
    "spaces_left= BinCapacity*len(bins)-sum(sum(x) for x in bins)\n",
    "print ('Optimal solution :',mt.ceil(sum(List_items)/BinCapacity), ' bins' )\n",
    "print ('Solution :',len(bins), ' bins, Spaces Left: ',spaces_left,'\\n' )\n",
    "# NF\n",
    "print('#Next Fit')\n",
    "bins= Next_Fit(List_items, BinCapacity)\n",
    "print(bins)\n",
    "spaces_left= BinCapacity*len(bins)-sum(sum(x) for x in bins)\n",
    "print ('Optimal solution :',mt.ceil(sum(List_items)/BinCapacity), ' bins' )\n",
    "print ('Solution :',len(bins), ' bins, Spaces Left: ',spaces_left ,'\\n' )\n",
    "# BF\n",
    "print('#Best Fit')\n",
    "bins= Best_Fit(List_items, BinCapacity)\n",
    "print(bins)\n",
    "spaces_left= BinCapacity*len(bins)-sum(sum(x) for x in bins)\n",
    "print ('Optimal solution :',mt.ceil(sum(List_items)/BinCapacity), ' bins' )\n",
    "print ('Solution :',len(bins), ' bins, Spaces Left: ',spaces_left ,'\\n' )\n",
    "#WF\n",
    "print('#Worst Fit')\n",
    "bins= Worst_Fit(List_items, BinCapacity)\n",
    "print(bins)\n",
    "spaces_left= BinCapacity*len(bins)-sum(sum(x) for x in bins)\n",
    "print ('Optimal solution :',mt.ceil(sum(List_items)/BinCapacity), ' bins' )\n",
    "print ('Solution :',len(bins), ' bins, Spaces Left: ',spaces_left,'\\n' )"
   ]
  },
  {
   "cell_type": "markdown",
   "metadata": {},
   "source": [
    "## Fourth Strategy (FFD and BFD With light modifications)"
   ]
  },
  {
   "cell_type": "code",
   "execution_count": 779,
   "metadata": {},
   "outputs": [
    {
     "name": "stdout",
     "output_type": "stream",
     "text": [
      "#Fourth Strategy\n",
      "---------------\n",
      "#First Fit Decreasing with Mix Order\n",
      "[[5, 5], [5, 5], [5, 5], [5, 5], [5, 5], [5, 5], [5, 3, 2], [3, 3, 3, 1], [3, 3, 3, 1], [3, 3, 3, 1], [3, 3, 3, 1], [3, 3, 3, 1], [3, 3, 3, 1], [3, 3, 3, 1], [3, 3, 3, 1], [3, 2, 2, 2, 1], [2, 2, 2, 2, 2], [2, 2, 2, 2, 2], [2, 2, 2, 2, 2], [2, 2, 2, 2, 2], [2, 2, 2, 2, 2], [2, 2, 2, 2, 2], [2, 2, 2, 2, 2], [2, 2, 2, 2, 2], [2, 2, 2, 2, 2], [2, 2, 2, 2, 2], [2, 2, 2, 2, 2], [2, 2, 2, 2, 2], [2, 1, 1, 1, 1, 1, 1, 1, 1], [1, 1, 1, 1, 1, 1, 1, 1, 1, 1], [1, 1, 1, 1, 1, 1, 1, 1, 1, 1], [1, 1, 1, 1, 1, 1, 1, 1, 1, 1], [1, 1, 1, 1, 1, 1, 1, 1, 1, 1], [1, 1, 1, 1, 1, 1, 1, 1, 1, 1], [1, 1, 1, 1, 1, 1, 1, 1, 1, 1], [1]]\n",
      "Optimal solution : 36  bins\n",
      "Solution : 36  bins, Spaces Left:  9 \n",
      "\n",
      "#Best Fit Decreasing with Mix Order\n",
      "[[5, 5], [5, 5], [5, 5], [5, 5], [5, 5], [5, 5], [5, 3, 2], [3, 3, 3, 1], [3, 3, 3, 1], [3, 3, 3, 1], [3, 3, 3, 1], [3, 3, 3, 1], [3, 3, 3, 1], [3, 3, 3, 1], [3, 3, 3, 1], [3, 2, 2, 2, 1], [2, 2, 2, 2, 2], [2, 2, 2, 2, 2], [2, 2, 2, 2, 2], [2, 2, 2, 2, 2], [2, 2, 2, 2, 2], [2, 2, 2, 2, 2], [2, 2, 2, 2, 2], [2, 2, 2, 2, 2], [2, 2, 2, 2, 2], [2, 2, 2, 2, 2], [2, 2, 2, 2, 2], [2, 2, 2, 2, 2], [2, 1, 1, 1, 1, 1, 1, 1, 1], [1, 1, 1, 1, 1, 1, 1, 1, 1, 1], [1, 1, 1, 1, 1, 1, 1, 1, 1, 1], [1, 1, 1, 1, 1, 1, 1, 1, 1, 1], [1, 1, 1, 1, 1, 1, 1, 1, 1, 1], [1, 1, 1, 1, 1, 1, 1, 1, 1, 1], [1, 1, 1, 1, 1, 1, 1, 1, 1, 1], [1]]\n",
      "Optimal solution : 36  bins\n",
      "Solution : 36  bins, Spaces Left:  9 \n",
      "\n"
     ]
    }
   ],
   "source": [
    "List_items = [2, 1, 3, 2, 1, 2, 1, 2, 1, 1, 3, 1, 2, 5]*13\n",
    "BinCapacity = 10\n",
    "print('#Fourth Strategy\\n---------------')\n",
    "# FFDM\n",
    "bins= First_Fit_Dec_MixOrder(List_items, BinCapacity)\n",
    "print('#First Fit Decreasing with Mix Order')\n",
    "print(bins)\n",
    "spaces_left= BinCapacity*len(bins)-sum(sum(x) for x in bins)\n",
    "print ('Optimal solution :',mt.ceil(sum(List_items)/BinCapacity), ' bins' )\n",
    "print ('Solution :',len(bins), ' bins, Spaces Left: ',spaces_left,'\\n' )\n",
    "\n",
    "# BFDM\n",
    "print('#Best Fit Decreasing with Mix Order')\n",
    "bins= Best_Fit_Dec_MixOrder(List_items, BinCapacity)\n",
    "print(bins)\n",
    "spaces_left= BinCapacity*len(bins)-sum(sum(x) for x in bins)\n",
    "print ('Optimal solution :',mt.ceil(sum(List_items)/BinCapacity), ' bins' )\n",
    "print ('Solution :',len(bins), ' bins, Spaces Left: ',spaces_left ,'\\n' )\n"
   ]
  },
  {
   "cell_type": "markdown",
   "metadata": {},
   "source": [
    "## Examples"
   ]
  },
  {
   "cell_type": "code",
   "execution_count": 780,
   "metadata": {},
   "outputs": [
    {
     "name": "stdout",
     "output_type": "stream",
     "text": [
      "17  :  [[8, 16, 12, 8, 18, 7, 1, 1, 1, 1, 1, 1], [45, 30], [10, 14, 9, 9, 1, 10, 11, 10], [52, 12, 2, 3, 4], [88], [13, 14, 15, 16, 17], [18, 18, 19, 20], [30, 40, 5], [41, 6, 7, 8, 9], [42, 10, 15], [43, 20], [44, 21], [45, 22], [46, 23], [47, 24], [48], [49]]\n"
     ]
    }
   ],
   "source": [
    "List_items = [8, 16, 12, 8, 45, 18, 30, 7, 10, 14, 9, 9, 52, 88,\n",
    "         1,1,1,1,1,1,1,10,11,12,13,14,15,16,17,18,18,19,10,20,\n",
    "        30,40,41,42,43,44,45,46,47,48,49,2,3,4,5,6,7,8,9,10,\n",
    "         15,20,21,22,23,24]\n",
    "# items.reverse()\n",
    "# print(items)\n",
    "BinCapacity = 75\n",
    "\n",
    "# First-fit Algorithm\n",
    "bins=First_Fit(List_items, BinCapacity)\n",
    "print(len(bins),\" : \",bins)"
   ]
  },
  {
   "cell_type": "code",
   "execution_count": 781,
   "metadata": {
    "scrolled": true
   },
   "outputs": [
    {
     "name": "stdout",
     "output_type": "stream",
     "text": [
      "17  :  [[8, 16, 12, 8, 18, 7, 1, 1, 1, 1, 1, 1], [45, 30], [10, 14, 9, 9, 1, 10, 11, 10], [52, 12, 2, 3, 4], [88], [13, 14, 15, 16, 17], [18, 18, 19, 20], [30, 40, 5], [41, 6, 7, 8, 9], [42, 10, 15], [43, 20], [44, 21], [45, 22], [46, 23], [47, 24], [48], [49]]\n"
     ]
    }
   ],
   "source": [
    "# First-fit Decreasing Algorithm\n",
    "bin=First_Fit_Dec(List_items, BinCapacity)\n",
    "print(len(bins),\" : \",bins)"
   ]
  },
  {
   "cell_type": "code",
   "execution_count": 782,
   "metadata": {},
   "outputs": [],
   "source": [
    "BinCapacity=10\n",
    "L=[9,8,7,6,5,4,3,2,1]"
   ]
  },
  {
   "cell_type": "code",
   "execution_count": 654,
   "metadata": {},
   "outputs": [
    {
     "name": "stdout",
     "output_type": "stream",
     "text": [
      "Length of solution:  5\n",
      "[[9, 1], [8, 2], [7, 3], [6, 4], [5]]\n"
     ]
    }
   ],
   "source": [
    "# First-fit Algorithm\n",
    "bins=First_Fit(L, BinCapacity)\n",
    "print(\"Length of solution: \",len(bins))\n",
    "print(bins)"
   ]
  },
  {
   "cell_type": "code",
   "execution_count": 655,
   "metadata": {},
   "outputs": [
    {
     "name": "stdout",
     "output_type": "stream",
     "text": [
      "Length of solution:  5\n",
      "[[9, 1], [8, 2], [7, 3], [6, 4], [5]]\n"
     ]
    }
   ],
   "source": [
    "# First-fit Decreasing Algorithm\n",
    "bin=First_Fit_Dec(L, BinCapacity)\n",
    "print(\"Length of solution: \",len(bins))\n",
    "print(bins)"
   ]
  },
  {
   "cell_type": "code",
   "execution_count": null,
   "metadata": {},
   "outputs": [],
   "source": [
    "def Test_1(n, BinCapacity):\n",
    "# Let n > 0 an integer and C = 100 :\n",
    "# 1: 6 n times the value 51\n",
    "# 2: 6 n times the value 27\n",
    "# 3: 6 n times the value 26\n",
    "# 4: 12 n times the value 23\n",
    "    L51=[51 for i in range(6*n) ]\n",
    "    L27=[27 for i in range(6*n) ]\n",
    "    L26=[26 for i in range(6*n) ]\n",
    "    L23=[23 for i in range(12*n) ]\n",
    "    Ltotal=[]    \n",
    "    Ltotal.extend(L51)\n",
    "    Ltotal.extend(L27)\n",
    "    Ltotal.extend(L26)\n",
    "    Ltotal.extend(L23)    \n",
    "    print(\"Length of Input: \",len(Ltotal),Ltotal)\n",
    "    return(Ltotal) \n",
    "\n",
    "\n"
   ]
  },
  {
   "cell_type": "code",
   "execution_count": 657,
   "metadata": {},
   "outputs": [
    {
     "data": {
      "text/plain": [
       "100"
      ]
     },
     "execution_count": 657,
     "metadata": {},
     "output_type": "execute_result"
    }
   ],
   "source": [
    "# 6n bins\n",
    "51+26+23"
   ]
  },
  {
   "cell_type": "code",
   "execution_count": 658,
   "metadata": {},
   "outputs": [
    {
     "data": {
      "text/plain": [
       "100"
      ]
     },
     "execution_count": 658,
     "metadata": {},
     "output_type": "execute_result"
    }
   ],
   "source": [
    "# 3 n bins \n",
    "27+27+23+23"
   ]
  },
  {
   "cell_type": "code",
   "execution_count": 659,
   "metadata": {},
   "outputs": [],
   "source": [
    "# Optimal solition: 6n + 3N = 9 n bins"
   ]
  },
  {
   "cell_type": "code",
   "execution_count": null,
   "metadata": {
    "scrolled": true
   },
   "outputs": [],
   "source": [
    "print(9*9)\n",
    "Ltotal=Test_1(n=9,BinCapacity=100)"
   ]
  },
  {
   "cell_type": "code",
   "execution_count": 661,
   "metadata": {
    "scrolled": true
   },
   "outputs": [
    {
     "name": "stdout",
     "output_type": "stream",
     "text": [
      "99  :  [[51, 27], [51, 27], [51, 27], [51, 27], [51, 27], [51, 27], [51, 27], [51, 27], [51, 27], [51, 27], [51, 27], [51, 27], [51, 27], [51, 27], [51, 27], [51, 27], [51, 27], [51, 27], [51, 27], [51, 27], [51, 27], [51, 27], [51, 27], [51, 27], [51, 27], [51, 27], [51, 27], [51, 27], [51, 27], [51, 27], [51, 27], [51, 27], [51, 27], [51, 27], [51, 27], [51, 27], [51, 27], [51, 27], [51, 27], [51, 27], [51, 27], [51, 27], [51, 27], [51, 27], [51, 27], [51, 27], [51, 27], [51, 27], [51, 27], [51, 27], [51, 27], [51, 27], [51, 27], [51, 27], [26, 26, 26], [26, 26, 26], [26, 26, 26], [26, 26, 26], [26, 26, 26], [26, 26, 26], [26, 26, 26], [26, 26, 26], [26, 26, 26], [26, 26, 26], [26, 26, 26], [26, 26, 26], [26, 26, 26], [26, 26, 26], [26, 26, 26], [26, 26, 26], [26, 26, 26], [26, 26, 26], [23, 23, 23, 23], [23, 23, 23, 23], [23, 23, 23, 23], [23, 23, 23, 23], [23, 23, 23, 23], [23, 23, 23, 23], [23, 23, 23, 23], [23, 23, 23, 23], [23, 23, 23, 23], [23, 23, 23, 23], [23, 23, 23, 23], [23, 23, 23, 23], [23, 23, 23, 23], [23, 23, 23, 23], [23, 23, 23, 23], [23, 23, 23, 23], [23, 23, 23, 23], [23, 23, 23, 23], [23, 23, 23, 23], [23, 23, 23, 23], [23, 23, 23, 23], [23, 23, 23, 23], [23, 23, 23, 23], [23, 23, 23, 23], [23, 23, 23, 23], [23, 23, 23, 23], [23, 23, 23, 23]]\n"
     ]
    }
   ],
   "source": [
    "BinCapacity=100\n",
    "Results=First_Fit(Ltotal,BinCapacity)\n",
    "print(len(Results),\" : \", Results)"
   ]
  },
  {
   "cell_type": "code",
   "execution_count": 662,
   "metadata": {},
   "outputs": [
    {
     "name": "stdout",
     "output_type": "stream",
     "text": [
      "Length of solution:  99\n",
      "[[51, 27], [51, 27], [51, 27], [51, 27], [51, 27], [51, 27], [51, 27], [51, 27], [51, 27], [51, 27], [51, 27], [51, 27], [51, 27], [51, 27], [51, 27], [51, 27], [51, 27], [51, 27], [51, 27], [51, 27], [51, 27], [51, 27], [51, 27], [51, 27], [51, 27], [51, 27], [51, 27], [51, 27], [51, 27], [51, 27], [51, 27], [51, 27], [51, 27], [51, 27], [51, 27], [51, 27], [51, 27], [51, 27], [51, 27], [51, 27], [51, 27], [51, 27], [51, 27], [51, 27], [51, 27], [51, 27], [51, 27], [51, 27], [51, 27], [51, 27], [51, 27], [51, 27], [51, 27], [51, 27], [26, 26, 26], [26, 26, 26], [26, 26, 26], [26, 26, 26], [26, 26, 26], [26, 26, 26], [26, 26, 26], [26, 26, 26], [26, 26, 26], [26, 26, 26], [26, 26, 26], [26, 26, 26], [26, 26, 26], [26, 26, 26], [26, 26, 26], [26, 26, 26], [26, 26, 26], [26, 26, 26], [23, 23, 23, 23], [23, 23, 23, 23], [23, 23, 23, 23], [23, 23, 23, 23], [23, 23, 23, 23], [23, 23, 23, 23], [23, 23, 23, 23], [23, 23, 23, 23], [23, 23, 23, 23], [23, 23, 23, 23], [23, 23, 23, 23], [23, 23, 23, 23], [23, 23, 23, 23], [23, 23, 23, 23], [23, 23, 23, 23], [23, 23, 23, 23], [23, 23, 23, 23], [23, 23, 23, 23], [23, 23, 23, 23], [23, 23, 23, 23], [23, 23, 23, 23], [23, 23, 23, 23], [23, 23, 23, 23], [23, 23, 23, 23], [23, 23, 23, 23], [23, 23, 23, 23], [23, 23, 23, 23]]\n"
     ]
    }
   ],
   "source": [
    "BinCapacity=100\n",
    "Results=First_Fit_Dec(Ltotal,BinCapacity)\n",
    "print(\"Length of solution: \",len(Results))\n",
    "print(Results)"
   ]
  },
  {
   "cell_type": "code",
   "execution_count": 663,
   "metadata": {},
   "outputs": [
    {
     "name": "stdout",
     "output_type": "stream",
     "text": [
      "Length of solution:  99\n",
      "[[51, 27], [51, 27], [51, 27], [51, 27], [51, 27], [51, 27], [51, 27], [51, 27], [51, 27], [51, 27], [51, 27], [51, 27], [51, 27], [51, 27], [51, 27], [51, 27], [51, 27], [51, 27], [51, 27], [51, 27], [51, 27], [51, 27], [51, 27], [51, 27], [51, 27], [51, 27], [51, 27], [51, 27], [51, 27], [51, 27], [51, 27], [51, 27], [51, 27], [51, 27], [51, 27], [51, 27], [51, 27], [51, 27], [51, 27], [51, 27], [51, 27], [51, 27], [51, 27], [51, 27], [51, 27], [51, 27], [51, 27], [51, 27], [51, 27], [51, 27], [51, 27], [51, 27], [51, 27], [51, 27], [26, 26, 26], [26, 26, 26], [26, 26, 26], [26, 26, 26], [26, 26, 26], [26, 26, 26], [26, 26, 26], [26, 26, 26], [26, 26, 26], [26, 26, 26], [26, 26, 26], [26, 26, 26], [26, 26, 26], [26, 26, 26], [26, 26, 26], [26, 26, 26], [26, 26, 26], [26, 26, 26], [23, 23, 23, 23], [23, 23, 23, 23], [23, 23, 23, 23], [23, 23, 23, 23], [23, 23, 23, 23], [23, 23, 23, 23], [23, 23, 23, 23], [23, 23, 23, 23], [23, 23, 23, 23], [23, 23, 23, 23], [23, 23, 23, 23], [23, 23, 23, 23], [23, 23, 23, 23], [23, 23, 23, 23], [23, 23, 23, 23], [23, 23, 23, 23], [23, 23, 23, 23], [23, 23, 23, 23], [23, 23, 23, 23], [23, 23, 23, 23], [23, 23, 23, 23], [23, 23, 23, 23], [23, 23, 23, 23], [23, 23, 23, 23], [23, 23, 23, 23], [23, 23, 23, 23], [23, 23, 23, 23]]\n"
     ]
    }
   ],
   "source": [
    "BinCapacity=100\n",
    "Results=Best_Fit(Ltotal,BinCapacity)\n",
    "print(\"Length of solution: \",len(Results))\n",
    "print(Results)"
   ]
  },
  {
   "cell_type": "code",
   "execution_count": 664,
   "metadata": {
    "scrolled": true
   },
   "outputs": [
    {
     "name": "stdout",
     "output_type": "stream",
     "text": [
      "Length of solution:  99\n",
      "[[51, 27], [51, 27], [51, 27], [51, 27], [51, 27], [51, 27], [51, 27], [51, 27], [51, 27], [51, 27], [51, 27], [51, 27], [51, 27], [51, 27], [51, 27], [51, 27], [51, 27], [51, 27], [51, 27], [51, 27], [51, 27], [51, 27], [51, 27], [51, 27], [51, 27], [51, 27], [51, 27], [51, 27], [51, 27], [51, 27], [51, 27], [51, 27], [51, 27], [51, 27], [51, 27], [51, 27], [51, 27], [51, 27], [51, 27], [51, 27], [51, 27], [51, 27], [51, 27], [51, 27], [51, 27], [51, 27], [51, 27], [51, 27], [51, 27], [51, 27], [51, 27], [51, 27], [51, 27], [51, 27], [26, 26, 26], [26, 26, 26], [26, 26, 26], [26, 26, 26], [26, 26, 26], [26, 26, 26], [26, 26, 26], [26, 26, 26], [26, 26, 26], [26, 26, 26], [26, 26, 26], [26, 26, 26], [26, 26, 26], [26, 26, 26], [26, 26, 26], [26, 26, 26], [26, 26, 26], [26, 26, 26], [23, 23, 23, 23], [23, 23, 23, 23], [23, 23, 23, 23], [23, 23, 23, 23], [23, 23, 23, 23], [23, 23, 23, 23], [23, 23, 23, 23], [23, 23, 23, 23], [23, 23, 23, 23], [23, 23, 23, 23], [23, 23, 23, 23], [23, 23, 23, 23], [23, 23, 23, 23], [23, 23, 23, 23], [23, 23, 23, 23], [23, 23, 23, 23], [23, 23, 23, 23], [23, 23, 23, 23], [23, 23, 23, 23], [23, 23, 23, 23], [23, 23, 23, 23], [23, 23, 23, 23], [23, 23, 23, 23], [23, 23, 23, 23], [23, 23, 23, 23], [23, 23, 23, 23], [23, 23, 23, 23]]\n"
     ]
    }
   ],
   "source": [
    "BinCapacity=100\n",
    "Results=Best_Fit_Dec(Ltotal,BinCapacity)\n",
    "print(\"Length of solution: \",len(Results))\n",
    "print(Results)"
   ]
  },
  {
   "cell_type": "markdown",
   "metadata": {},
   "source": [
    "## The Graham Example"
   ]
  },
  {
   "cell_type": "code",
   "execution_count": 665,
   "metadata": {
    "scrolled": true
   },
   "outputs": [],
   "source": [
    "from IPython.display import Image\n",
    "#Image(\"BIN PACKING PROJECTS/../../IMAGES/FFD_1.png\")"
   ]
  },
  {
   "cell_type": "code",
   "execution_count": 666,
   "metadata": {},
   "outputs": [],
   "source": [
    "Graham=[442,\n",
    "        252,252,252,252,252,252,252,\n",
    "        127,127,127,127,127,\n",
    "        106,106,106,106,\n",
    "        85,84,46,\n",
    "        37,37,\n",
    "        12,12,12,\n",
    "        10,10,10,10,10,10,\n",
    "        9,9]"
   ]
  },
  {
   "cell_type": "code",
   "execution_count": 667,
   "metadata": {
    "scrolled": true
   },
   "outputs": [
    {
     "name": "stdout",
     "output_type": "stream",
     "text": [
      "Length of solution:  7\n",
      "[[442, 46, 12, 12, 12], [252, 252, 10, 10], [252, 252, 10, 10], [252, 252, 10, 10], [252, 127, 127, 9, 9], [127, 127, 127, 106, 37], [106, 106, 106, 85, 84, 37]]\n"
     ]
    }
   ],
   "source": [
    "BinCapacity=524\n",
    "Results=First_Fit(Graham,BinCapacity)\n",
    "print(\"Length of solution: \",len(Results))\n",
    "print(Results)"
   ]
  },
  {
   "cell_type": "code",
   "execution_count": 668,
   "metadata": {},
   "outputs": [
    {
     "name": "stdout",
     "output_type": "stream",
     "text": [
      "Length of solution:  8\n",
      "[[9, 9, 10, 10, 10, 10, 10, 10, 12, 12, 12, 37, 37, 46, 84, 85, 106], [106, 106, 106, 127], [127, 127, 127, 127], [252, 252], [252, 252], [252, 252], [252], [442]]\n"
     ]
    }
   ],
   "source": [
    "# We reverse the List\n",
    "BinCapacity=524\n",
    "Results=First_Fit(Graham[::-1],BinCapacity)\n",
    "print(\"Length of solution: \",len(Results))\n",
    "print(Results)"
   ]
  },
  {
   "cell_type": "code",
   "execution_count": 669,
   "metadata": {},
   "outputs": [
    {
     "name": "stdout",
     "output_type": "stream",
     "text": [
      "7  :  [[442, 46, 12, 12, 12], [252, 252, 10, 10], [252, 252, 10, 10], [252, 252, 10, 10], [252, 127, 127, 9, 9], [127, 127, 127, 106, 37], [106, 106, 106, 85, 84, 37]]\n"
     ]
    }
   ],
   "source": [
    "# We get of course the same result of the initial LIst with FFD\n",
    "Results=First_Fit_Dec(Graham,BinCapacity)\n",
    "print(len(Results),\" : \", Results)"
   ]
  },
  {
   "cell_type": "code",
   "execution_count": 670,
   "metadata": {},
   "outputs": [],
   "source": [
    "# We suppres 46\n",
    "Graham2=[442,\n",
    "                 252,252,252,252,252,252,252,\n",
    "                 127,127,127,127,127,\n",
    "                 106,106,106,106,\n",
    "                 85,84,  # 46 has been suppressed\n",
    "                 37,37,\n",
    "                 12,12,12,\n",
    "                 10,10,10,10,10,10,\n",
    "                 9,9]"
   ]
  },
  {
   "cell_type": "code",
   "execution_count": 671,
   "metadata": {},
   "outputs": [
    {
     "name": "stdout",
     "output_type": "stream",
     "text": [
      "8  :  [[442, 37, 37], [252, 252, 12], [252, 252, 12], [252, 252, 12], [252, 127, 127, 10], [127, 127, 127, 106, 10, 10, 10], [106, 106, 106, 85, 84, 10, 10, 9], [9]]\n"
     ]
    }
   ],
   "source": [
    "# And we need npw 8 bins !!!!!!\n",
    "Results=First_Fit(Graham2,BinCapacity)\n",
    "print(len(Results),\" : \", Results)"
   ]
  },
  {
   "cell_type": "code",
   "execution_count": 672,
   "metadata": {
    "scrolled": true
   },
   "outputs": [
    {
     "name": "stdout",
     "output_type": "stream",
     "text": [
      "8  :  [[442, 37, 37], [252, 252, 12], [252, 252, 12], [252, 252, 12], [252, 127, 127, 10], [127, 127, 127, 106, 10, 10, 10], [106, 106, 106, 85, 84, 10, 10, 9], [9]]\n"
     ]
    }
   ],
   "source": [
    "Results=First_Fit_Dec(Graham2,BinCapacity)\n",
    "print(len(Results),\" : \", Results)"
   ]
  },
  {
   "cell_type": "code",
   "execution_count": 673,
   "metadata": {
    "scrolled": true
   },
   "outputs": [
    {
     "name": "stdout",
     "output_type": "stream",
     "text": [
      "[442, 252, 252, 252, 252, 252, 252, 252, 127, 127, 127, 127, 127, 106, 106, 106, 106, 85, 84, 37, 37, 12, 12, 12, 10, 10, 10, 10, 10, 10, 9, 9]\n"
     ]
    }
   ],
   "source": [
    "print(Graham2)"
   ]
  },
  {
   "cell_type": "markdown",
   "metadata": {},
   "source": [
    "## Your Work (II) The  Cut & Process Strategy  [A Two Phase Strategy]"
   ]
  },
  {
   "cell_type": "markdown",
   "metadata": {},
   "source": [
    "## Cutting Techniques / Combined Techniques  \n",
    "### User decision - Mean -  Std -  Max Space / (FF-BF)"
   ]
  },
  {
   "cell_type": "code",
   "execution_count": null,
   "metadata": {
    "scrolled": true
   },
   "outputs": [],
   "source": [
    "import statistics as st\n",
    "\n",
    "# Your code here\n",
    "# K_cut is chosen by the user but you can select/choose/design a specific tactic\n",
    "def Cut_Process_user(List_items, BinCapacity, K_cut):\n",
    "    List_items=sorted(List_items)\n",
    "    List_items=List_items[::-1]\n",
    "    if K_cut> len(List_items):\n",
    "        K_cut=mt.ceil(st.mean(List_items))\n",
    "    S1 = [value for value in List_items if value >= K_cut]\n",
    "    S2 = [value for value in List_items if value < K_cut]\n",
    "    return S1, S2\n",
    "\n",
    "def Cut_Process_Avg(List_items, BinCapacity):\n",
    "    K_cut=mt.ceil(st.mean(List_items))\n",
    "    List_items=sorted(List_items)\n",
    "    List_items=List_items[::-1]\n",
    "    S1 = [value for value in List_items if value >= K_cut]\n",
    "    S2 = [value for value in List_items if value < K_cut]\n",
    "    return S1, S2\n",
    "\n",
    "def Cut_Process_Std(List_items, BinCapacity):\n",
    "    K_cut=K_cut=mt.ceil(st.mean(List_items)+st.pstdev(List_items))\n",
    "    List_items=sorted(List_items)\n",
    "    List_items=List_items[::-1]\n",
    "    S1 = [value for value in List_items if value >= K_cut]\n",
    "    S2 = [value for value in List_items if value < K_cut]\n",
    "    return S1, S2\n",
    "\n",
    "def Cut_Process_MaxSpacesAllowed(List_items, BinCapacity,Max_space):\n",
    "    List_items=sorted(List_items)\n",
    "    List_items=List_items[::-1]\n",
    "    S1 = [value for value in List_items if BinCapacity-value <= Max_space]\n",
    "    S2 = [value for value in List_items if BinCapacity-value > Max_space]\n",
    "    return S1, S2\n",
    "\n",
    "\n",
    "## FF + BF tactic\n",
    "def First_Fit_Best_Fit(S1,S2,BinCapacity):\n",
    "    \n",
    "    bins_1= First_Fit(S1, BinCapacity)\n",
    "    List_bins = []\n",
    "    for sublist in bins_1:\n",
    "        List_bins.append(Bin())\n",
    "        current_bin=List_bins[-1]\n",
    "        for item in sublist:\n",
    "            current_bin.addItem(item)\n",
    "    \"\"\" Returns 'list of bins' with input List_items inside. \"\"\"\n",
    "    for item in S2:\n",
    "        # Go through bins and try to allocate  when it is possible\n",
    "        Bin_to_fill= MaxLoad_fit(item,List_bins,BinCapacity)\n",
    "        if Bin_to_fill==-1 : # no fit\n",
    "            newBin = Bin()\n",
    "            newBin.addItem(item)\n",
    "            List_bins.append(newBin)\n",
    "        else:\n",
    "            Bin_to_fill.addItem(item)\n",
    "                   \n",
    "# Turn List_bins into List_Items\n",
    "    List_items = []\n",
    "    for bin in List_bins:\n",
    "        List_items.append(bin.show())\n",
    "# Return\n",
    "    return(List_items)\n",
    "\n",
    "\n",
    "## WF + BF tactic\n",
    "def Worst_Fit_Best_Fit(S1,S2,BinCapacity):\n",
    "    \n",
    "    bins_1= Worst_Fit(S1, BinCapacity)\n",
    "    List_bins = []\n",
    "    for sublist in bins_1:\n",
    "        List_bins.append(Bin())\n",
    "        current_bin=List_bins[-1]\n",
    "        for item in sublist:\n",
    "            current_bin.addItem(item)\n",
    "    \"\"\" Returns 'list of bins' with input List_items inside. \"\"\"\n",
    "    for item in S2:\n",
    "        # Go through bins and try to allocate  when it is possible\n",
    "        Bin_to_fill= MaxLoad_fit(item,List_bins,BinCapacity)\n",
    "        if Bin_to_fill==-1 : # no fit\n",
    "            newBin = Bin()\n",
    "            newBin.addItem(item)\n",
    "            List_bins.append(newBin)\n",
    "        else:\n",
    "            Bin_to_fill.addItem(item)\n",
    "                   \n",
    "# Turn List_bins into List_Items\n",
    "    List_items = []\n",
    "    for bin in List_bins:\n",
    "        List_items.append(bin.show())\n",
    "# Return\n",
    "    return(List_items)\n",
    "\n",
    "\n",
    "## NF + BF tactic\n",
    "def NextFit_Best_Fit(S1,S2,BinCapacity):\n",
    "    \n",
    "    bins_1= Next_Fit(S1, BinCapacity)\n",
    "    List_bins = []\n",
    "    for sublist in bins_1:\n",
    "        List_bins.append(Bin())\n",
    "        current_bin=List_bins[-1]\n",
    "        for item in sublist:\n",
    "            current_bin.addItem(item)\n",
    "    \"\"\" Returns 'list of bins' with input List_items inside. \"\"\"\n",
    "    for item in S2:\n",
    "        # Go through bins and try to allocate  when it is possible\n",
    "        Bin_to_fill= MaxLoad_fit(item,List_bins,BinCapacity)\n",
    "        if Bin_to_fill==-1 : # no fit\n",
    "            newBin = Bin()\n",
    "            newBin.addItem(item)\n",
    "            List_bins.append(newBin)\n",
    "        else:\n",
    "            Bin_to_fill.addItem(item)\n",
    "                   \n",
    "# Turn List_bins into List_Items\n",
    "    List_items = []\n",
    "    for bin in List_bins:\n",
    "        List_items.append(bin.show())\n",
    "# Return\n",
    "    return(List_items)"
   ]
  },
  {
   "cell_type": "markdown",
   "metadata": {},
   "source": [
    "## TESTS  ALL YOUR CODES/ALGORITHMS  HERE"
   ]
  },
  {
   "cell_type": "markdown",
   "metadata": {},
   "source": [
    "## Tests with theTwo Phase Strategy \n",
    "##  (FF + BF)   or    (WF + BF)   or   (NF + BF)  "
   ]
  },
  {
   "cell_type": "code",
   "execution_count": 784,
   "metadata": {},
   "outputs": [
    {
     "name": "stdout",
     "output_type": "stream",
     "text": [
      "#User Cut Process\n",
      "\n",
      "#First Fit Then Best Fit\n",
      "[[9, 9, 7], [9, 9, 7], [9, 9, 7], [9, 9, 7], [9, 9, 7], [9, 9, 7], [9, 9, 7], [9, 9, 7], [9, 9, 7], [9, 8, 8], [8, 8, 8, 1], [8, 8, 8, 1], [8, 8, 8, 1], [8, 8, 7, 2], [7, 7, 7, 4], [7, 7, 7, 4], [7, 7, 7, 4], [7, 7, 7, 4], [7, 7, 7, 4], [7, 7, 7, 4]] ...... [[3, 3, 3, 3, 3, 3, 3, 3, 1], [3, 3, 3, 3, 3, 3, 3, 3, 1], [3, 3, 3, 3, 3, 3, 3, 3, 1], [3, 3, 2, 2, 2, 2, 2, 2, 2, 2, 2, 1], [2, 2, 2, 2, 2, 2, 2, 2, 2, 2, 2, 2, 1], [2, 2, 2, 2, 2, 2, 2, 2, 2, 2, 2, 2, 1], [2, 2, 2, 2, 2, 2, 2, 2, 2, 2, 2, 2, 1], [2, 2, 2, 2, 2, 2, 2, 2, 2, 2, 2, 2, 1], [2, 2, 2, 2, 2, 2, 2, 2, 2, 2, 2, 2, 1], [2, 2, 2, 2, 2, 2, 2, 2, 2, 2, 2, 2, 1], [2, 2, 2, 2, 2, 2, 2, 2, 2, 2, 2, 2, 1], [2, 2, 2, 2, 2, 2, 2, 2, 2, 2, 2, 2, 1], [2, 2, 2, 2, 2, 2, 2, 2, 2, 2, 2, 2, 1], [2, 2, 2, 2, 2, 2, 2, 2, 2, 2, 2, 2, 1], [2, 2, 2, 2, 2, 2, 2, 2, 2, 2, 2, 2, 1], [2, 2, 2, 2, 2, 2, 2, 2, 2, 2, 2, 2, 1], [2, 2, 2, 2, 2, 2, 2, 2, 2, 2, 2, 2, 1], [2, 2, 2, 2, 2, 2, 2, 2, 2, 2, 2, 2, 1], [2, 2, 2, 2, 2, 2, 2, 2, 2, 2, 2, 2, 1], [2, 2, 2, 2, 2, 2, 2, 2, 2, 2, 2, 2, 1], [2, 2, 2, 2, 2, 2, 2, 2, 2, 2, 2, 2, 1], [2, 2, 2, 2, 2, 2, 2, 2, 2, 2, 2, 2, 1], [2, 2, 2, 2, 1, 1, 1, 1, 1, 1, 1, 1, 1, 1, 1, 1, 1, 1, 1, 1, 1], [1, 1, 1, 1, 1, 1, 1, 1, 1, 1, 1, 1, 1, 1, 1, 1, 1, 1, 1, 1, 1, 1, 1, 1, 1], [1, 1, 1, 1, 1, 1, 1, 1, 1, 1, 1, 1, 1, 1, 1, 1, 1, 1, 1, 1, 1, 1, 1, 1, 1]]\n",
      "Optimal solution : 101  bins\n",
      "Solution : 101  bins, Spaces Left:  0 \n",
      "\n",
      "#Worst Fit Then Best Fit\n",
      "[[9, 9, 7], [9, 9, 7], [9, 9, 7], [9, 9, 7], [9, 9, 7], [9, 9, 7], [9, 9, 7], [9, 9, 7], [9, 9, 7], [9, 8, 8], [8, 8, 8, 1], [8, 8, 8, 1], [8, 8, 8, 1], [8, 8, 7, 2], [7, 7, 7, 4], [7, 7, 7, 4], [7, 7, 7, 4], [7, 7, 7, 4], [7, 7, 7, 4], [7, 7, 7, 4]] ...... [[3, 3, 3, 3, 3, 3, 3, 3, 1], [3, 3, 3, 3, 3, 3, 3, 3, 1], [3, 3, 3, 3, 3, 3, 3, 3, 1], [3, 3, 2, 2, 2, 2, 2, 2, 2, 2, 2, 1], [2, 2, 2, 2, 2, 2, 2, 2, 2, 2, 2, 2, 1], [2, 2, 2, 2, 2, 2, 2, 2, 2, 2, 2, 2, 1], [2, 2, 2, 2, 2, 2, 2, 2, 2, 2, 2, 2, 1], [2, 2, 2, 2, 2, 2, 2, 2, 2, 2, 2, 2, 1], [2, 2, 2, 2, 2, 2, 2, 2, 2, 2, 2, 2, 1], [2, 2, 2, 2, 2, 2, 2, 2, 2, 2, 2, 2, 1], [2, 2, 2, 2, 2, 2, 2, 2, 2, 2, 2, 2, 1], [2, 2, 2, 2, 2, 2, 2, 2, 2, 2, 2, 2, 1], [2, 2, 2, 2, 2, 2, 2, 2, 2, 2, 2, 2, 1], [2, 2, 2, 2, 2, 2, 2, 2, 2, 2, 2, 2, 1], [2, 2, 2, 2, 2, 2, 2, 2, 2, 2, 2, 2, 1], [2, 2, 2, 2, 2, 2, 2, 2, 2, 2, 2, 2, 1], [2, 2, 2, 2, 2, 2, 2, 2, 2, 2, 2, 2, 1], [2, 2, 2, 2, 2, 2, 2, 2, 2, 2, 2, 2, 1], [2, 2, 2, 2, 2, 2, 2, 2, 2, 2, 2, 2, 1], [2, 2, 2, 2, 2, 2, 2, 2, 2, 2, 2, 2, 1], [2, 2, 2, 2, 2, 2, 2, 2, 2, 2, 2, 2, 1], [2, 2, 2, 2, 2, 2, 2, 2, 2, 2, 2, 2, 1], [2, 2, 2, 2, 1, 1, 1, 1, 1, 1, 1, 1, 1, 1, 1, 1, 1, 1, 1, 1, 1], [1, 1, 1, 1, 1, 1, 1, 1, 1, 1, 1, 1, 1, 1, 1, 1, 1, 1, 1, 1, 1, 1, 1, 1, 1], [1, 1, 1, 1, 1, 1, 1, 1, 1, 1, 1, 1, 1, 1, 1, 1, 1, 1, 1, 1, 1, 1, 1, 1, 1]]\n",
      "Optimal solution : 101  bins\n",
      "Solution : 101  bins, Spaces Left:  0 \n",
      "\n",
      "#Next Fit Then Best Fit\n",
      "[[9, 9, 4, 3], [9, 9, 4, 3], [9, 9, 4, 3], [9, 9, 4, 3], [9, 9, 4, 3], [9, 9, 4, 3], [9, 9, 4, 3], [9, 9, 4, 3], [9, 9, 4, 3], [9, 8, 8], [8, 8, 8, 1], [8, 8, 8, 1], [8, 8, 8, 1], [8, 8, 7, 2], [7, 7, 7, 4], [7, 7, 7, 4], [7, 7, 7, 4], [7, 7, 7, 4], [7, 7, 7, 4], [7, 7, 7, 4]] ...... [[3, 3, 3, 3, 3, 3, 3, 3, 1], [3, 3, 3, 3, 3, 3, 3, 3, 1], [3, 3, 3, 3, 3, 3, 3, 3, 1], [3, 2, 2, 2, 2, 2, 2, 2, 2, 2, 2, 2], [2, 2, 2, 2, 2, 2, 2, 2, 2, 2, 2, 2, 1], [2, 2, 2, 2, 2, 2, 2, 2, 2, 2, 2, 2, 1], [2, 2, 2, 2, 2, 2, 2, 2, 2, 2, 2, 2, 1], [2, 2, 2, 2, 2, 2, 2, 2, 2, 2, 2, 2, 1], [2, 2, 2, 2, 2, 2, 2, 2, 2, 2, 2, 2, 1], [2, 2, 2, 2, 2, 2, 2, 2, 2, 2, 2, 2, 1], [2, 2, 2, 2, 2, 2, 2, 2, 2, 2, 2, 2, 1], [2, 2, 2, 2, 2, 2, 2, 2, 2, 2, 2, 2, 1], [2, 2, 2, 2, 2, 2, 2, 2, 2, 2, 2, 2, 1], [2, 2, 2, 2, 2, 2, 2, 2, 2, 2, 2, 2, 1], [2, 2, 2, 2, 2, 2, 2, 2, 2, 2, 2, 2, 1], [2, 2, 2, 2, 2, 2, 2, 2, 2, 2, 2, 2, 1], [2, 2, 2, 2, 2, 2, 2, 2, 2, 2, 2, 2, 1], [2, 2, 2, 2, 2, 2, 2, 2, 2, 2, 2, 2, 1], [2, 2, 2, 2, 2, 2, 2, 2, 2, 2, 2, 2, 1], [2, 2, 2, 2, 2, 2, 2, 2, 2, 2, 2, 2, 1], [2, 2, 2, 2, 2, 2, 2, 2, 2, 2, 2, 2, 1], [2, 2, 2, 2, 2, 2, 2, 2, 2, 2, 2, 2, 1], [2, 2, 1, 1, 1, 1, 1, 1, 1, 1, 1, 1, 1, 1, 1, 1, 1, 1, 1, 1, 1, 1, 1], [1, 1, 1, 1, 1, 1, 1, 1, 1, 1, 1, 1, 1, 1, 1, 1, 1, 1, 1, 1, 1, 1, 1, 1, 1], [1, 1, 1, 1, 1, 1, 1, 1, 1, 1, 1, 1, 1, 1, 1, 1, 1, 1, 1, 1, 1, 1, 1, 1, 1]]\n",
      "Optimal solution : 101  bins\n",
      "Solution : 101  bins, Spaces Left:  0 \n",
      "\n"
     ]
    }
   ],
   "source": [
    "List_items = [2,1,1,6,1,3,2,7,7,5,2,1,2,7,7,7,3,2,4,1,2,4,2,3,2,8,5,3,5,1,2]*13\n",
    "List_items = List_items +[1,2,3,4,7,5,2,6,2,9,3,2,4,1,2,4,2]*19\n",
    "BinCapacity= 25\n",
    "\n",
    "print('#User Cut Process\\n')\n",
    "S1, S2=Cut_Process_user(List_items, BinCapacity,5)   \n",
    "\n",
    "## FF + BF tactic\n",
    "print('#First Fit Then Best Fit')\n",
    "bins=First_Fit_Best_Fit(S1,S2,BinCapacity)\n",
    "print(bins[:20],'......',bins[len(bins)-BinCapacity:])\n",
    "spaces_left= BinCapacity*len(bins)-sum(sum(x) for x in bins)\n",
    "print ('Optimal solution :',mt.ceil(sum(List_items)/BinCapacity), ' bins' )\n",
    "print ('Solution :',len(bins), ' bins, Spaces Left: ',spaces_left,'\\n' )\n",
    "\n",
    "## WF + BF tactic\n",
    "print('#Worst Fit Then Best Fit')\n",
    "bins=Worst_Fit_Best_Fit(S1,S2,BinCapacity)\n",
    "print(bins[:20],'......',bins[len(bins)-BinCapacity:])\n",
    "spaces_left= BinCapacity*len(bins)-sum(sum(x) for x in bins)\n",
    "print ('Optimal solution :',mt.ceil(sum(List_items)/BinCapacity), ' bins' )\n",
    "print ('Solution :',len(bins), ' bins, Spaces Left: ',spaces_left,'\\n' )\n",
    "\n",
    "## NF + BF tactic\n",
    "print('#Next Fit Then Best Fit')\n",
    "bins=NextFit_Best_Fit(S1,S2,BinCapacity)\n",
    "print(bins[:20],'......',bins[len(bins)-BinCapacity:])\n",
    "spaces_left= BinCapacity*len(bins)-sum(sum(x) for x in bins)\n",
    "print ('Optimal solution :',mt.ceil(sum(List_items)/BinCapacity), ' bins' )\n",
    "print ('Solution :',len(bins), ' bins, Spaces Left: ',spaces_left,'\\n' )"
   ]
  },
  {
   "cell_type": "code",
   "execution_count": 785,
   "metadata": {
    "scrolled": false
   },
   "outputs": [
    {
     "name": "stdout",
     "output_type": "stream",
     "text": [
      "#Average Cut Process\n",
      "\n",
      "#First Fit Then Best Fit\n",
      "[[9, 9, 7], [9, 9, 7], [9, 9, 7], [9, 9, 7], [9, 9, 7], [9, 9, 7], [9, 9, 7], [9, 9, 7], [9, 9, 7], [9, 8, 8], [8, 8, 8, 1], [8, 8, 8, 1], [8, 8, 8, 1], [8, 8, 7, 2], [7, 7, 7, 4], [7, 7, 7, 4], [7, 7, 7, 4], [7, 7, 7, 4], [7, 7, 7, 4], [7, 7, 7, 4]] ...... [[3, 3, 3, 3, 3, 3, 3, 3, 1], [3, 3, 3, 3, 3, 3, 3, 3, 1], [3, 3, 3, 3, 3, 3, 3, 3, 1], [3, 3, 2, 2, 2, 2, 2, 2, 2, 2, 2, 1], [2, 2, 2, 2, 2, 2, 2, 2, 2, 2, 2, 2, 1], [2, 2, 2, 2, 2, 2, 2, 2, 2, 2, 2, 2, 1], [2, 2, 2, 2, 2, 2, 2, 2, 2, 2, 2, 2, 1], [2, 2, 2, 2, 2, 2, 2, 2, 2, 2, 2, 2, 1], [2, 2, 2, 2, 2, 2, 2, 2, 2, 2, 2, 2, 1], [2, 2, 2, 2, 2, 2, 2, 2, 2, 2, 2, 2, 1], [2, 2, 2, 2, 2, 2, 2, 2, 2, 2, 2, 2, 1], [2, 2, 2, 2, 2, 2, 2, 2, 2, 2, 2, 2, 1], [2, 2, 2, 2, 2, 2, 2, 2, 2, 2, 2, 2, 1], [2, 2, 2, 2, 2, 2, 2, 2, 2, 2, 2, 2, 1], [2, 2, 2, 2, 2, 2, 2, 2, 2, 2, 2, 2, 1], [2, 2, 2, 2, 2, 2, 2, 2, 2, 2, 2, 2, 1], [2, 2, 2, 2, 2, 2, 2, 2, 2, 2, 2, 2, 1], [2, 2, 2, 2, 2, 2, 2, 2, 2, 2, 2, 2, 1], [2, 2, 2, 2, 2, 2, 2, 2, 2, 2, 2, 2, 1], [2, 2, 2, 2, 2, 2, 2, 2, 2, 2, 2, 2, 1], [2, 2, 2, 2, 2, 2, 2, 2, 2, 2, 2, 2, 1], [2, 2, 2, 2, 2, 2, 2, 2, 2, 2, 2, 2, 1], [2, 2, 2, 2, 1, 1, 1, 1, 1, 1, 1, 1, 1, 1, 1, 1, 1, 1, 1, 1, 1], [1, 1, 1, 1, 1, 1, 1, 1, 1, 1, 1, 1, 1, 1, 1, 1, 1, 1, 1, 1, 1, 1, 1, 1, 1], [1, 1, 1, 1, 1, 1, 1, 1, 1, 1, 1, 1, 1, 1, 1, 1, 1, 1, 1, 1, 1, 1, 1, 1, 1]]\n",
      "Optimal solution : 101  bins\n",
      "Solution : 101  bins, Spaces Left:  0 \n",
      "\n",
      "#Worst Fit Then Best Fit\n",
      "[[9, 9, 7], [9, 9, 7], [9, 9, 7], [9, 9, 7], [9, 9, 7], [9, 9, 7], [9, 9, 7], [9, 9, 7], [9, 9, 7], [9, 8, 8], [8, 8, 8, 1], [8, 8, 8, 1], [8, 8, 8, 1], [8, 8, 7, 2], [7, 7, 7, 4], [7, 7, 7, 4], [7, 7, 7, 4], [7, 7, 7, 4], [7, 7, 7, 4], [7, 7, 7, 4]] ...... [[3, 3, 3, 3, 3, 3, 3, 3, 1], [3, 3, 3, 3, 3, 3, 3, 3, 1], [3, 3, 3, 3, 3, 3, 3, 3, 1], [3, 3, 2, 2, 2, 2, 2, 2, 2, 2, 2, 1], [2, 2, 2, 2, 2, 2, 2, 2, 2, 2, 2, 2, 1], [2, 2, 2, 2, 2, 2, 2, 2, 2, 2, 2, 2, 1], [2, 2, 2, 2, 2, 2, 2, 2, 2, 2, 2, 2, 1], [2, 2, 2, 2, 2, 2, 2, 2, 2, 2, 2, 2, 1], [2, 2, 2, 2, 2, 2, 2, 2, 2, 2, 2, 2, 1], [2, 2, 2, 2, 2, 2, 2, 2, 2, 2, 2, 2, 1], [2, 2, 2, 2, 2, 2, 2, 2, 2, 2, 2, 2, 1], [2, 2, 2, 2, 2, 2, 2, 2, 2, 2, 2, 2, 1], [2, 2, 2, 2, 2, 2, 2, 2, 2, 2, 2, 2, 1], [2, 2, 2, 2, 2, 2, 2, 2, 2, 2, 2, 2, 1], [2, 2, 2, 2, 2, 2, 2, 2, 2, 2, 2, 2, 1], [2, 2, 2, 2, 2, 2, 2, 2, 2, 2, 2, 2, 1], [2, 2, 2, 2, 2, 2, 2, 2, 2, 2, 2, 2, 1], [2, 2, 2, 2, 2, 2, 2, 2, 2, 2, 2, 2, 1], [2, 2, 2, 2, 2, 2, 2, 2, 2, 2, 2, 2, 1], [2, 2, 2, 2, 2, 2, 2, 2, 2, 2, 2, 2, 1], [2, 2, 2, 2, 2, 2, 2, 2, 2, 2, 2, 2, 1], [2, 2, 2, 2, 2, 2, 2, 2, 2, 2, 2, 2, 1], [2, 2, 2, 2, 1, 1, 1, 1, 1, 1, 1, 1, 1, 1, 1, 1, 1, 1, 1, 1, 1], [1, 1, 1, 1, 1, 1, 1, 1, 1, 1, 1, 1, 1, 1, 1, 1, 1, 1, 1, 1, 1, 1, 1, 1, 1], [1, 1, 1, 1, 1, 1, 1, 1, 1, 1, 1, 1, 1, 1, 1, 1, 1, 1, 1, 1, 1, 1, 1, 1, 1]]\n",
      "Optimal solution : 101  bins\n",
      "Solution : 101  bins, Spaces Left:  0 \n",
      "\n",
      "#Next Fit Then Best Fit\n",
      "[[9, 9, 3, 3, 1], [9, 9, 3, 3, 1], [9, 9, 3, 3, 1], [9, 9, 3, 3, 1], [9, 9, 3, 3, 1], [9, 9, 3, 3, 1], [9, 9, 3, 3, 1], [9, 9, 3, 3, 1], [9, 9, 3, 3, 1], [9, 8, 8], [8, 8, 8, 1], [8, 8, 8, 1], [8, 8, 8, 1], [8, 8, 7, 2], [7, 7, 7, 3, 1], [7, 7, 7, 3, 1], [7, 7, 7, 3, 1], [7, 7, 7, 3, 1], [7, 7, 7, 3, 1], [7, 7, 7, 3, 1]] ...... [[3, 3, 3, 3, 3, 3, 3, 3, 1], [3, 3, 3, 3, 3, 3, 3, 3, 1], [3, 3, 3, 3, 3, 3, 3, 3, 1], [3, 3, 3, 3, 3, 3, 3, 3, 1], [3, 3, 3, 3, 3, 3, 2, 2, 2, 1], [2, 2, 2, 2, 2, 2, 2, 2, 2, 2, 2, 2, 1], [2, 2, 2, 2, 2, 2, 2, 2, 2, 2, 2, 2, 1], [2, 2, 2, 2, 2, 2, 2, 2, 2, 2, 2, 2, 1], [2, 2, 2, 2, 2, 2, 2, 2, 2, 2, 2, 2, 1], [2, 2, 2, 2, 2, 2, 2, 2, 2, 2, 2, 2, 1], [2, 2, 2, 2, 2, 2, 2, 2, 2, 2, 2, 2, 1], [2, 2, 2, 2, 2, 2, 2, 2, 2, 2, 2, 2, 1], [2, 2, 2, 2, 2, 2, 2, 2, 2, 2, 2, 2, 1], [2, 2, 2, 2, 2, 2, 2, 2, 2, 2, 2, 2, 1], [2, 2, 2, 2, 2, 2, 2, 2, 2, 2, 2, 2, 1], [2, 2, 2, 2, 2, 2, 2, 2, 2, 2, 2, 2, 1], [2, 2, 2, 2, 2, 2, 2, 2, 2, 2, 2, 2, 1], [2, 2, 2, 2, 2, 2, 2, 2, 2, 2, 2, 2, 1], [2, 2, 2, 2, 2, 2, 2, 2, 2, 2, 2, 2, 1], [2, 2, 2, 2, 2, 2, 2, 2, 2, 2, 2, 2, 1], [2, 2, 2, 2, 2, 2, 2, 2, 2, 2, 2, 2, 1], [2, 2, 2, 2, 2, 2, 2, 2, 2, 2, 2, 2, 1], [2, 2, 2, 2, 2, 2, 2, 2, 2, 2, 2, 2, 1], [2, 2, 2, 2, 2, 2, 2, 2, 1, 1, 1, 1, 1, 1, 1, 1, 1], [1, 1, 1, 1, 1, 1, 1, 1, 1, 1, 1, 1, 1, 1, 1, 1, 1, 1, 1, 1, 1, 1, 1, 1, 1]]\n",
      "Optimal solution : 101  bins\n",
      "Solution : 101  bins, Spaces Left:  0 \n",
      "\n"
     ]
    }
   ],
   "source": [
    "List_items = [2,1,1,6,1,3,2,7,7,5,2,1,2,7,7,7,3,2,4,1,2,4,2,3,2,8,5,3,5,1,2]*13\n",
    "List_items = List_items +[1,2,3,4,7,5,2,6,2,9,3,2,4,1,2,4,2]*19\n",
    "BinCapacity= 25\n",
    "\n",
    "print('#Average Cut Process\\n')\n",
    "S1, S2=Cut_Process_Avg(List_items, BinCapacity)  \n",
    "\n",
    "## FF + BF tactic\n",
    "print('#First Fit Then Best Fit')\n",
    "bins=First_Fit_Best_Fit(S1,S2,BinCapacity)\n",
    "print(bins[:20],'......',bins[len(bins)-BinCapacity:])\n",
    "spaces_left= BinCapacity*len(bins)-sum(sum(x) for x in bins)\n",
    "print ('Optimal solution :',mt.ceil(sum(List_items)/BinCapacity), ' bins' )\n",
    "print ('Solution :',len(bins), ' bins, Spaces Left: ',spaces_left,'\\n' )\n",
    "\n",
    "## WF + BF tactic\n",
    "print('#Worst Fit Then Best Fit')\n",
    "bins=Worst_Fit_Best_Fit(S1,S2,BinCapacity)\n",
    "print(bins[:20],'......',bins[len(bins)-BinCapacity:])\n",
    "spaces_left= BinCapacity*len(bins)-sum(sum(x) for x in bins)\n",
    "print ('Optimal solution :',mt.ceil(sum(List_items)/BinCapacity), ' bins' )\n",
    "print ('Solution :',len(bins), ' bins, Spaces Left: ',spaces_left,'\\n' )\n",
    "\n",
    "## NF + BF tactic\n",
    "print('#Next Fit Then Best Fit')\n",
    "bins=NextFit_Best_Fit(S1,S2,BinCapacity)\n",
    "print(bins[:20],'......',bins[len(bins)-BinCapacity:])\n",
    "spaces_left= BinCapacity*len(bins)-sum(sum(x) for x in bins)\n",
    "print ('Optimal solution :',mt.ceil(sum(List_items)/BinCapacity), ' bins' )\n",
    "print ('Solution :',len(bins), ' bins, Spaces Left: ',spaces_left,'\\n' )"
   ]
  },
  {
   "cell_type": "code",
   "execution_count": 786,
   "metadata": {},
   "outputs": [
    {
     "name": "stdout",
     "output_type": "stream",
     "text": [
      "#Standard Deviation Cut Process\n",
      "\n",
      "#First Fit Then Best Fit\n",
      "[[9, 9, 7], [9, 9, 7], [9, 9, 7], [9, 9, 7], [9, 9, 7], [9, 9, 7], [9, 9, 7], [9, 9, 7], [9, 9, 7], [9, 8, 8], [8, 8, 8, 1], [8, 8, 8, 1], [8, 8, 8, 1], [8, 8, 7, 2], [7, 7, 7, 4], [7, 7, 7, 4], [7, 7, 7, 4], [7, 7, 7, 4], [7, 7, 7, 4], [7, 7, 7, 4]] ...... [[3, 3, 3, 3, 3, 3, 3, 3, 1], [3, 3, 3, 3, 3, 3, 3, 3, 1], [3, 3, 3, 3, 3, 3, 3, 3, 1], [3, 3, 2, 2, 2, 2, 2, 2, 2, 2, 2, 1], [2, 2, 2, 2, 2, 2, 2, 2, 2, 2, 2, 2, 1], [2, 2, 2, 2, 2, 2, 2, 2, 2, 2, 2, 2, 1], [2, 2, 2, 2, 2, 2, 2, 2, 2, 2, 2, 2, 1], [2, 2, 2, 2, 2, 2, 2, 2, 2, 2, 2, 2, 1], [2, 2, 2, 2, 2, 2, 2, 2, 2, 2, 2, 2, 1], [2, 2, 2, 2, 2, 2, 2, 2, 2, 2, 2, 2, 1], [2, 2, 2, 2, 2, 2, 2, 2, 2, 2, 2, 2, 1], [2, 2, 2, 2, 2, 2, 2, 2, 2, 2, 2, 2, 1], [2, 2, 2, 2, 2, 2, 2, 2, 2, 2, 2, 2, 1], [2, 2, 2, 2, 2, 2, 2, 2, 2, 2, 2, 2, 1], [2, 2, 2, 2, 2, 2, 2, 2, 2, 2, 2, 2, 1], [2, 2, 2, 2, 2, 2, 2, 2, 2, 2, 2, 2, 1], [2, 2, 2, 2, 2, 2, 2, 2, 2, 2, 2, 2, 1], [2, 2, 2, 2, 2, 2, 2, 2, 2, 2, 2, 2, 1], [2, 2, 2, 2, 2, 2, 2, 2, 2, 2, 2, 2, 1], [2, 2, 2, 2, 2, 2, 2, 2, 2, 2, 2, 2, 1], [2, 2, 2, 2, 2, 2, 2, 2, 2, 2, 2, 2, 1], [2, 2, 2, 2, 2, 2, 2, 2, 2, 2, 2, 2, 1], [2, 2, 2, 2, 1, 1, 1, 1, 1, 1, 1, 1, 1, 1, 1, 1, 1, 1, 1, 1, 1], [1, 1, 1, 1, 1, 1, 1, 1, 1, 1, 1, 1, 1, 1, 1, 1, 1, 1, 1, 1, 1, 1, 1, 1, 1], [1, 1, 1, 1, 1, 1, 1, 1, 1, 1, 1, 1, 1, 1, 1, 1, 1, 1, 1, 1, 1, 1, 1, 1, 1]]\n",
      "Optimal solution : 101  bins\n",
      "Solution : 101  bins, Spaces Left:  0 \n",
      "\n",
      "#Worst Fit Then Best Fit\n",
      "[[9, 9, 7], [9, 9, 7], [9, 9, 7], [9, 9, 7], [9, 9, 7], [9, 9, 7], [9, 9, 7], [9, 9, 7], [9, 9, 7], [9, 8, 8], [8, 8, 8, 1], [8, 8, 8, 1], [8, 8, 8, 1], [8, 8, 7, 2], [7, 7, 7, 4], [7, 7, 7, 4], [7, 7, 7, 4], [7, 7, 7, 4], [7, 7, 7, 4], [7, 7, 7, 4]] ...... [[3, 3, 3, 3, 3, 3, 3, 3, 1], [3, 3, 3, 3, 3, 3, 3, 3, 1], [3, 3, 3, 3, 3, 3, 3, 3, 1], [3, 3, 2, 2, 2, 2, 2, 2, 2, 2, 2, 1], [2, 2, 2, 2, 2, 2, 2, 2, 2, 2, 2, 2, 1], [2, 2, 2, 2, 2, 2, 2, 2, 2, 2, 2, 2, 1], [2, 2, 2, 2, 2, 2, 2, 2, 2, 2, 2, 2, 1], [2, 2, 2, 2, 2, 2, 2, 2, 2, 2, 2, 2, 1], [2, 2, 2, 2, 2, 2, 2, 2, 2, 2, 2, 2, 1], [2, 2, 2, 2, 2, 2, 2, 2, 2, 2, 2, 2, 1], [2, 2, 2, 2, 2, 2, 2, 2, 2, 2, 2, 2, 1], [2, 2, 2, 2, 2, 2, 2, 2, 2, 2, 2, 2, 1], [2, 2, 2, 2, 2, 2, 2, 2, 2, 2, 2, 2, 1], [2, 2, 2, 2, 2, 2, 2, 2, 2, 2, 2, 2, 1], [2, 2, 2, 2, 2, 2, 2, 2, 2, 2, 2, 2, 1], [2, 2, 2, 2, 2, 2, 2, 2, 2, 2, 2, 2, 1], [2, 2, 2, 2, 2, 2, 2, 2, 2, 2, 2, 2, 1], [2, 2, 2, 2, 2, 2, 2, 2, 2, 2, 2, 2, 1], [2, 2, 2, 2, 2, 2, 2, 2, 2, 2, 2, 2, 1], [2, 2, 2, 2, 2, 2, 2, 2, 2, 2, 2, 2, 1], [2, 2, 2, 2, 2, 2, 2, 2, 2, 2, 2, 2, 1], [2, 2, 2, 2, 2, 2, 2, 2, 2, 2, 2, 2, 1], [2, 2, 2, 2, 1, 1, 1, 1, 1, 1, 1, 1, 1, 1, 1, 1, 1, 1, 1, 1, 1], [1, 1, 1, 1, 1, 1, 1, 1, 1, 1, 1, 1, 1, 1, 1, 1, 1, 1, 1, 1, 1, 1, 1, 1, 1], [1, 1, 1, 1, 1, 1, 1, 1, 1, 1, 1, 1, 1, 1, 1, 1, 1, 1, 1, 1, 1, 1, 1, 1, 1]]\n",
      "Optimal solution : 101  bins\n",
      "Solution : 101  bins, Spaces Left:  0 \n",
      "\n",
      "#Next Fit Then Best Fit\n",
      "[[9, 9, 5, 2], [9, 9, 5, 2], [9, 9, 5, 2], [9, 9, 5, 2], [9, 9, 5, 2], [9, 9, 5, 2], [9, 9, 5, 2], [9, 9, 5, 2], [9, 9, 5, 2], [9, 8, 8], [8, 8, 8, 1], [8, 8, 8, 1], [8, 8, 8, 1], [8, 8, 7, 2], [7, 7, 7, 4], [7, 7, 7, 4], [7, 7, 7, 4], [7, 7, 7, 4], [7, 7, 7, 4], [7, 7, 7, 4]] ...... [[3, 3, 3, 3, 3, 3, 3, 3, 1], [3, 3, 3, 3, 3, 3, 3, 3, 1], [3, 3, 3, 3, 3, 3, 3, 3, 1], [3, 3, 3, 3, 3, 3, 3, 3, 1], [2, 2, 2, 2, 2, 2, 2, 2, 2, 2, 2, 2, 1], [2, 2, 2, 2, 2, 2, 2, 2, 2, 2, 2, 2, 1], [2, 2, 2, 2, 2, 2, 2, 2, 2, 2, 2, 2, 1], [2, 2, 2, 2, 2, 2, 2, 2, 2, 2, 2, 2, 1], [2, 2, 2, 2, 2, 2, 2, 2, 2, 2, 2, 2, 1], [2, 2, 2, 2, 2, 2, 2, 2, 2, 2, 2, 2, 1], [2, 2, 2, 2, 2, 2, 2, 2, 2, 2, 2, 2, 1], [2, 2, 2, 2, 2, 2, 2, 2, 2, 2, 2, 2, 1], [2, 2, 2, 2, 2, 2, 2, 2, 2, 2, 2, 2, 1], [2, 2, 2, 2, 2, 2, 2, 2, 2, 2, 2, 2, 1], [2, 2, 2, 2, 2, 2, 2, 2, 2, 2, 2, 2, 1], [2, 2, 2, 2, 2, 2, 2, 2, 2, 2, 2, 2, 1], [2, 2, 2, 2, 2, 2, 2, 2, 2, 2, 2, 2, 1], [2, 2, 2, 2, 2, 2, 2, 2, 2, 2, 2, 2, 1], [2, 2, 2, 2, 2, 2, 2, 2, 2, 2, 2, 2, 1], [2, 2, 2, 2, 2, 2, 2, 2, 2, 2, 2, 2, 1], [2, 2, 2, 2, 2, 2, 2, 2, 2, 2, 2, 2, 1], [2, 2, 2, 2, 2, 2, 2, 2, 2, 2, 2, 2, 1], [2, 2, 2, 1, 1, 1, 1, 1, 1, 1, 1, 1, 1, 1, 1, 1, 1, 1, 1, 1, 1, 1], [1, 1, 1, 1, 1, 1, 1, 1, 1, 1, 1, 1, 1, 1, 1, 1, 1, 1, 1, 1, 1, 1, 1, 1, 1], [1, 1, 1, 1, 1, 1, 1, 1, 1, 1, 1, 1, 1, 1, 1, 1, 1, 1, 1, 1, 1, 1, 1, 1, 1]]\n",
      "Optimal solution : 101  bins\n",
      "Solution : 101  bins, Spaces Left:  0 \n",
      "\n"
     ]
    }
   ],
   "source": [
    "List_items = [2,1,1,6,1,3,2,7,7,5,2,1,2,7,7,7,3,2,4,1,2,4,2,3,2,8,5,3,5,1,2]*13\n",
    "List_items = List_items +[1,2,3,4,7,5,2,6,2,9,3,2,4,1,2,4,2]*19\n",
    "BinCapacity= 25\n",
    "\n",
    "print('#Standard Deviation Cut Process\\n')\n",
    "S1, S2=Cut_Process_Std(List_items, BinCapacity) \n",
    "\n",
    "## FF + BF tactic\n",
    "print('#First Fit Then Best Fit')\n",
    "bins=First_Fit_Best_Fit(S1,S2,BinCapacity)\n",
    "print(bins[:20],'......',bins[len(bins)-BinCapacity:])\n",
    "spaces_left= BinCapacity*len(bins)-sum(sum(x) for x in bins)\n",
    "print ('Optimal solution :',mt.ceil(sum(List_items)/BinCapacity), ' bins' )\n",
    "print ('Solution :',len(bins), ' bins, Spaces Left: ',spaces_left,'\\n' )\n",
    "\n",
    "## WF + BF tactic\n",
    "print('#Worst Fit Then Best Fit')\n",
    "bins=Worst_Fit_Best_Fit(S1,S2,BinCapacity)\n",
    "print(bins[:20],'......',bins[len(bins)-BinCapacity:])\n",
    "spaces_left= BinCapacity*len(bins)-sum(sum(x) for x in bins)\n",
    "print ('Optimal solution :',mt.ceil(sum(List_items)/BinCapacity), ' bins' )\n",
    "print ('Solution :',len(bins), ' bins, Spaces Left: ',spaces_left,'\\n' )\n",
    "\n",
    "## NF + BF tactic\n",
    "print('#Next Fit Then Best Fit')\n",
    "bins=NextFit_Best_Fit(S1,S2,BinCapacity)\n",
    "print(bins[:20],'......',bins[len(bins)-BinCapacity:])\n",
    "spaces_left= BinCapacity*len(bins)-sum(sum(x) for x in bins)\n",
    "print ('Optimal solution :',mt.ceil(sum(List_items)/BinCapacity), ' bins' )\n",
    "print ('Solution :',len(bins), ' bins, Spaces Left: ',spaces_left,'\\n' )"
   ]
  },
  {
   "cell_type": "code",
   "execution_count": 787,
   "metadata": {},
   "outputs": [
    {
     "name": "stdout",
     "output_type": "stream",
     "text": [
      "#Maximum Space Allowed Cut Process\n",
      "\n",
      "#First Fit Then Best Fit\n",
      "[[9, 9, 7], [9, 9, 7], [9, 9, 7], [9, 9, 7], [9, 9, 7], [9, 9, 7], [9, 9, 7], [9, 9, 7], [9, 9, 7], [9, 8, 8], [8, 8, 8, 1], [8, 8, 8, 1], [8, 8, 8, 1], [8, 8, 7, 2], [7, 7, 7, 4], [7, 7, 7, 4], [7, 7, 7, 4], [7, 7, 7, 4], [7, 7, 7, 4], [7, 7, 7, 4]] ...... [[3, 3, 3, 3, 3, 3, 3, 3, 1], [3, 3, 3, 3, 3, 3, 3, 3, 1], [3, 3, 3, 3, 3, 3, 3, 3, 1], [3, 3, 2, 2, 2, 2, 2, 2, 2, 2, 2, 1], [2, 2, 2, 2, 2, 2, 2, 2, 2, 2, 2, 2, 1], [2, 2, 2, 2, 2, 2, 2, 2, 2, 2, 2, 2, 1], [2, 2, 2, 2, 2, 2, 2, 2, 2, 2, 2, 2, 1], [2, 2, 2, 2, 2, 2, 2, 2, 2, 2, 2, 2, 1], [2, 2, 2, 2, 2, 2, 2, 2, 2, 2, 2, 2, 1], [2, 2, 2, 2, 2, 2, 2, 2, 2, 2, 2, 2, 1], [2, 2, 2, 2, 2, 2, 2, 2, 2, 2, 2, 2, 1], [2, 2, 2, 2, 2, 2, 2, 2, 2, 2, 2, 2, 1], [2, 2, 2, 2, 2, 2, 2, 2, 2, 2, 2, 2, 1], [2, 2, 2, 2, 2, 2, 2, 2, 2, 2, 2, 2, 1], [2, 2, 2, 2, 2, 2, 2, 2, 2, 2, 2, 2, 1], [2, 2, 2, 2, 2, 2, 2, 2, 2, 2, 2, 2, 1], [2, 2, 2, 2, 2, 2, 2, 2, 2, 2, 2, 2, 1], [2, 2, 2, 2, 2, 2, 2, 2, 2, 2, 2, 2, 1], [2, 2, 2, 2, 2, 2, 2, 2, 2, 2, 2, 2, 1], [2, 2, 2, 2, 2, 2, 2, 2, 2, 2, 2, 2, 1], [2, 2, 2, 2, 2, 2, 2, 2, 2, 2, 2, 2, 1], [2, 2, 2, 2, 2, 2, 2, 2, 2, 2, 2, 2, 1], [2, 2, 2, 2, 1, 1, 1, 1, 1, 1, 1, 1, 1, 1, 1, 1, 1, 1, 1, 1, 1], [1, 1, 1, 1, 1, 1, 1, 1, 1, 1, 1, 1, 1, 1, 1, 1, 1, 1, 1, 1, 1, 1, 1, 1, 1], [1, 1, 1, 1, 1, 1, 1, 1, 1, 1, 1, 1, 1, 1, 1, 1, 1, 1, 1, 1, 1, 1, 1, 1, 1]]\n",
      "Optimal solution : 101  bins\n",
      "Solution : 101  bins, Spaces Left:  0 \n",
      "\n",
      "#Worst Fit Then Best Fit\n",
      "[[9, 9, 7], [9, 9, 7], [9, 9, 7], [9, 9, 7], [9, 9, 7], [9, 9, 7], [9, 9, 7], [9, 9, 7], [9, 9, 7], [9, 8, 8], [8, 8, 8, 1], [8, 8, 8, 1], [8, 8, 8, 1], [8, 8, 7, 2], [7, 7, 7, 4], [7, 7, 7, 4], [7, 7, 7, 4], [7, 7, 7, 4], [7, 7, 7, 4], [7, 7, 7, 4]] ...... [[3, 3, 3, 3, 3, 3, 3, 3, 1], [3, 3, 3, 3, 3, 3, 3, 3, 1], [3, 3, 3, 3, 3, 3, 3, 3, 1], [3, 3, 2, 2, 2, 2, 2, 2, 2, 2, 2, 1], [2, 2, 2, 2, 2, 2, 2, 2, 2, 2, 2, 2, 1], [2, 2, 2, 2, 2, 2, 2, 2, 2, 2, 2, 2, 1], [2, 2, 2, 2, 2, 2, 2, 2, 2, 2, 2, 2, 1], [2, 2, 2, 2, 2, 2, 2, 2, 2, 2, 2, 2, 1], [2, 2, 2, 2, 2, 2, 2, 2, 2, 2, 2, 2, 1], [2, 2, 2, 2, 2, 2, 2, 2, 2, 2, 2, 2, 1], [2, 2, 2, 2, 2, 2, 2, 2, 2, 2, 2, 2, 1], [2, 2, 2, 2, 2, 2, 2, 2, 2, 2, 2, 2, 1], [2, 2, 2, 2, 2, 2, 2, 2, 2, 2, 2, 2, 1], [2, 2, 2, 2, 2, 2, 2, 2, 2, 2, 2, 2, 1], [2, 2, 2, 2, 2, 2, 2, 2, 2, 2, 2, 2, 1], [2, 2, 2, 2, 2, 2, 2, 2, 2, 2, 2, 2, 1], [2, 2, 2, 2, 2, 2, 2, 2, 2, 2, 2, 2, 1], [2, 2, 2, 2, 2, 2, 2, 2, 2, 2, 2, 2, 1], [2, 2, 2, 2, 2, 2, 2, 2, 2, 2, 2, 2, 1], [2, 2, 2, 2, 2, 2, 2, 2, 2, 2, 2, 2, 1], [2, 2, 2, 2, 2, 2, 2, 2, 2, 2, 2, 2, 1], [2, 2, 2, 2, 2, 2, 2, 2, 2, 2, 2, 2, 1], [2, 2, 2, 2, 1, 1, 1, 1, 1, 1, 1, 1, 1, 1, 1, 1, 1, 1, 1, 1, 1], [1, 1, 1, 1, 1, 1, 1, 1, 1, 1, 1, 1, 1, 1, 1, 1, 1, 1, 1, 1, 1, 1, 1, 1, 1], [1, 1, 1, 1, 1, 1, 1, 1, 1, 1, 1, 1, 1, 1, 1, 1, 1, 1, 1, 1, 1, 1, 1, 1, 1]]\n",
      "Optimal solution : 101  bins\n",
      "Solution : 101  bins, Spaces Left:  0 \n",
      "\n",
      "#Next Fit Then Best Fit\n",
      "[[9, 9, 2, 2, 2, 1], [9, 9, 2, 2, 2, 1], [9, 9, 2, 2, 2, 1], [9, 9, 2, 2, 2, 1], [9, 9, 2, 2, 2, 1], [9, 9, 2, 2, 2, 1], [9, 9, 2, 2, 2, 1], [9, 9, 2, 2, 2, 1], [9, 9, 2, 2, 2, 1], [9, 8, 8], [8, 8, 8, 1], [8, 8, 8, 1], [8, 8, 8, 1], [8, 8, 7, 2], [7, 7, 7, 2, 2], [7, 7, 7, 2, 2], [7, 7, 7, 2, 2], [7, 7, 7, 2, 2], [7, 7, 7, 2, 2], [7, 7, 7, 2, 2]] ...... [[3, 3, 3, 3, 3, 3, 3, 3, 1], [3, 3, 3, 3, 3, 3, 3, 3, 1], [3, 3, 3, 3, 3, 3, 3, 3, 1], [3, 3, 3, 3, 3, 3, 3, 3, 1], [3, 3, 3, 3, 3, 3, 3, 3, 1], [3, 3, 3, 3, 3, 3, 3, 3, 1], [3, 3, 3, 3, 3, 3, 3, 3, 1], [3, 3, 3, 3, 3, 3, 3, 3, 1], [3, 3, 3, 3, 3, 3, 3, 3, 1], [3, 3, 3, 3, 3, 3, 3, 3, 1], [3, 3, 3, 3, 3, 2, 2, 2, 2, 2], [2, 2, 2, 2, 2, 2, 2, 2, 2, 2, 2, 2, 1], [2, 2, 2, 2, 2, 2, 2, 2, 2, 2, 2, 2, 1], [2, 2, 2, 2, 2, 2, 2, 2, 2, 2, 2, 2, 1], [2, 2, 2, 2, 2, 2, 2, 2, 2, 2, 2, 2, 1], [2, 2, 2, 2, 2, 2, 2, 2, 2, 2, 2, 2, 1], [2, 2, 2, 2, 2, 2, 2, 2, 2, 2, 2, 2, 1], [2, 2, 2, 2, 2, 2, 2, 2, 2, 2, 2, 2, 1], [2, 2, 2, 2, 2, 2, 2, 2, 2, 2, 2, 2, 1], [2, 2, 2, 2, 2, 2, 2, 2, 2, 2, 2, 2, 1], [2, 2, 2, 2, 2, 2, 2, 2, 2, 2, 2, 2, 1], [2, 2, 2, 2, 2, 2, 2, 2, 2, 2, 2, 2, 1], [2, 2, 2, 2, 2, 2, 2, 1, 1, 1, 1, 1, 1, 1, 1, 1, 1, 1], [1, 1, 1, 1, 1, 1, 1, 1, 1, 1, 1, 1, 1, 1, 1, 1, 1, 1, 1, 1, 1, 1, 1, 1, 1], [1, 1, 1, 1, 1, 1, 1, 1, 1, 1, 1, 1, 1, 1, 1, 1, 1, 1, 1, 1, 1, 1, 1, 1, 1]]\n",
      "Optimal solution : 101  bins\n",
      "Solution : 101  bins, Spaces Left:  0 \n",
      "\n"
     ]
    }
   ],
   "source": [
    "List_items = [2,1,1,6,1,3,2,7,7,5,2,1,2,7,7,7,3,2,4,1,2,4,2,3,2,8,5,3,5,1,2]*13\n",
    "List_items = List_items +[1,2,3,4,7,5,2,6,2,9,3,2,4,1,2,4,2]*19\n",
    "BinCapacity= 25\n",
    "\n",
    "\n",
    "print('#Maximum Space Allowed Cut Process\\n')\n",
    "S1, S2=Cut_Process_MaxSpacesAllowed(List_items, BinCapacity,BinCapacity-3)\n",
    "\n",
    "## FF + BF tactic\n",
    "print('#First Fit Then Best Fit')\n",
    "bins=First_Fit_Best_Fit(S1,S2,BinCapacity)\n",
    "print(bins[:20],'......',bins[len(bins)-BinCapacity:])\n",
    "spaces_left= BinCapacity*len(bins)-sum(sum(x) for x in bins)\n",
    "print ('Optimal solution :',mt.ceil(sum(List_items)/BinCapacity), ' bins' )\n",
    "print ('Solution :',len(bins), ' bins, Spaces Left: ',spaces_left,'\\n' )\n",
    "\n",
    "## WF + BF tactic\n",
    "print('#Worst Fit Then Best Fit')\n",
    "bins=Worst_Fit_Best_Fit(S1,S2,BinCapacity)\n",
    "print(bins[:20],'......',bins[len(bins)-BinCapacity:])\n",
    "spaces_left= BinCapacity*len(bins)-sum(sum(x) for x in bins)\n",
    "print ('Optimal solution :',mt.ceil(sum(List_items)/BinCapacity), ' bins' )\n",
    "print ('Solution :',len(bins), ' bins, Spaces Left: ',spaces_left,'\\n' )\n",
    "\n",
    "## NF + BF tactic\n",
    "print('#Next Fit Then Best Fit')\n",
    "bins=NextFit_Best_Fit(S1,S2,BinCapacity)\n",
    "print(bins[:20],'......',bins[len(bins)-BinCapacity:])\n",
    "spaces_left= BinCapacity*len(bins)-sum(sum(x) for x in bins)\n",
    "print ('Optimal solution :',mt.ceil(sum(List_items)/BinCapacity), ' bins' )\n",
    "print ('Solution :',len(bins), ' bins, Spaces Left: ',spaces_left,'\\n' )"
   ]
  },
  {
   "cell_type": "markdown",
   "metadata": {},
   "source": [
    "## Tests with the interlacing tactic"
   ]
  },
  {
   "cell_type": "markdown",
   "metadata": {},
   "source": [
    "## Interlacing techniques [User decision - Mean -  Std -  Max Space] +\n",
    "## [ (FF + BF)   or    (WF + BF)   or   (NF + BF) ]"
   ]
  },
  {
   "cell_type": "code",
   "execution_count": 788,
   "metadata": {
    "scrolled": false
   },
   "outputs": [
    {
     "name": "stdout",
     "output_type": "stream",
     "text": [
      "#User Cut Process \n",
      " Interlacing S1 with itself(Reverse) \n",
      " Interlacing S2 with istelf(Reverse) \n",
      "\n",
      "lenght : S1:  206 , S2:  520 , S1+S2:  726 \n",
      "\n",
      "#First Fit Then Best Fit\n",
      "[[9, 5, 9, 2], [5, 9, 5, 5, 1], [9, 9, 5, 2], [9, 5, 9, 2], [5, 9, 5, 5, 1], [9, 9, 5, 2], [9, 5, 9, 2], [5, 9, 5, 5, 1], [9, 9, 5, 2], [9, 5, 9, 2], [5, 9, 5, 5, 1], [9, 8, 5, 2, 1], [8, 5, 8, 2, 2], [5, 8, 5, 5, 2], [8, 8, 5, 2, 2], [8, 5, 8, 2, 2], [5, 8, 5, 5, 2], [8, 8, 5, 2, 2], [8, 5, 8, 2, 2], [5, 7, 5, 7, 1]] ...... [[3, 3, 2, 3, 2, 3, 2, 3, 2, 2], [3, 3, 2, 3, 2, 3, 2, 3, 2, 2], [3, 3, 2, 3, 2, 3, 2, 3, 2, 2], [3, 3, 2, 3, 2, 3, 2, 3, 2, 2], [3, 3, 2, 3, 2, 3, 2, 3, 3, 1], [3, 3, 3, 3, 3, 3, 3, 3, 1], [3, 3, 3, 3, 3, 3, 3, 3, 1], [3, 3, 3, 3, 3, 3, 3, 3, 1], [3, 3, 3, 3, 3, 3, 3, 4], [4, 4, 4, 4, 4, 4, 1], [4, 4, 4, 4, 4, 4, 1], [4, 1, 4, 1, 4, 1, 4, 1, 4, 1], [4, 1, 4, 1, 4, 1, 4, 1, 4, 1], [4, 1, 4, 1, 4, 1, 4, 1, 4, 1], [4, 1, 4, 1, 4, 1, 4, 1, 4, 1], [4, 1, 4, 1, 4, 1, 4, 1, 4, 1], [4, 1, 4, 1, 4, 1, 4, 1, 4, 1], [4, 1, 4, 1, 4, 1, 4, 1, 4, 1], [4, 1, 4, 1, 4, 1, 4, 1, 4, 1], [4, 1, 4, 1, 4, 1, 4, 1, 4, 1], [4, 1, 4, 1, 4, 1, 4, 1, 4, 1], [4, 1, 4, 1, 4, 1, 4, 1, 4, 1], [4, 1, 4, 1, 4, 1, 4, 1, 4, 1], [4, 1, 4, 1, 4, 1, 4, 1, 4, 1], [4, 1, 4, 1, 4, 1, 4, 1, 4, 1]]\n",
      "Optimal solution : 101  bins\n",
      "Solution : 101  bins, Spaces Left:  0 \n",
      "\n",
      "#Worst Fit Then Best Fit\n",
      "[[9, 5, 9, 2], [5, 9, 5, 5, 1], [9, 5, 9, 2], [9, 5, 9, 2], [5, 9, 5, 5, 1], [9, 5, 9, 2], [9, 5, 9, 2], [5, 9, 5, 5, 1], [9, 5, 9, 2], [9, 5, 9, 2], [5, 9, 5, 5, 1], [9, 5, 8, 2, 1], [8, 5, 8, 2, 2], [5, 8, 5, 5, 2], [8, 5, 8, 2, 2], [8, 5, 8, 2, 2], [5, 8, 5, 5, 2], [8, 5, 8, 2, 2], [8, 5, 8, 2, 2], [5, 7, 5, 7, 1]] ...... [[3, 3, 2, 3, 2, 3, 2, 3, 2, 2], [3, 3, 2, 3, 2, 3, 2, 3, 2, 2], [3, 3, 2, 3, 2, 3, 2, 3, 2, 2], [3, 3, 2, 3, 2, 3, 2, 3, 2, 2], [3, 3, 2, 3, 2, 3, 2, 3, 3, 1], [3, 3, 3, 3, 3, 3, 3, 3, 1], [3, 3, 3, 3, 3, 3, 3, 3, 1], [3, 3, 3, 3, 3, 3, 3, 3, 1], [3, 3, 3, 3, 3, 3, 3, 4], [4, 4, 4, 4, 4, 4, 1], [4, 4, 4, 4, 4, 4, 1], [4, 1, 4, 1, 4, 1, 4, 1, 4, 1], [4, 1, 4, 1, 4, 1, 4, 1, 4, 1], [4, 1, 4, 1, 4, 1, 4, 1, 4, 1], [4, 1, 4, 1, 4, 1, 4, 1, 4, 1], [4, 1, 4, 1, 4, 1, 4, 1, 4, 1], [4, 1, 4, 1, 4, 1, 4, 1, 4, 1], [4, 1, 4, 1, 4, 1, 4, 1, 4, 1], [4, 1, 4, 1, 4, 1, 4, 1, 4, 1], [4, 1, 4, 1, 4, 1, 4, 1, 4, 1], [4, 1, 4, 1, 4, 1, 4, 1, 4, 1], [4, 1, 4, 1, 4, 1, 4, 1, 4, 1], [4, 1, 4, 1, 4, 1, 4, 1, 4, 1], [4, 1, 4, 1, 4, 1, 4, 1, 4, 1], [4, 1, 4, 1, 4, 1, 4, 1, 4, 1]]\n",
      "Optimal solution : 101  bins\n",
      "Solution : 101  bins, Spaces Left:  0 \n",
      "\n",
      "#Next Fit Then Best Fit\n",
      "[[9, 5, 9, 2], [5, 9, 5, 2, 2, 2], [9, 5, 9, 2], [5, 9, 5, 2, 2, 2], [9, 5, 9, 2], [5, 9, 5, 2, 2, 2], [9, 5, 9, 2], [5, 9, 5, 2, 2, 2], [9, 5, 9, 2], [5, 9, 5, 2, 2, 2], [9, 5, 9, 2], [5, 9, 5, 2, 2, 2], [9, 5, 8, 2, 1], [5, 8, 5, 2, 2, 2, 1], [8, 5, 8, 2, 2], [5, 8, 5, 2, 2, 2, 1], [8, 5, 8, 2, 2], [5, 8, 5, 2, 2, 2, 1], [8, 5, 8, 2, 2], [5, 8, 5, 2, 2, 2, 1]] ...... [[2, 3, 2, 3, 2, 3, 2, 3, 2, 3], [2, 3, 2, 3, 2, 3, 2, 3, 2, 3], [2, 3, 2, 3, 2, 3, 2, 3, 2, 3], [2, 3, 2, 3, 2, 3, 2, 3, 2, 3], [2, 3, 2, 3, 2, 3, 3, 3, 3, 1], [3, 3, 3, 3, 3, 3, 3, 3, 1], [3, 3, 3, 3, 3, 3, 3, 3, 1], [3, 3, 3, 3, 3, 3, 3, 3, 1], [3, 3, 3, 3, 3, 4, 4, 1, 1], [4, 4, 4, 4, 4, 4, 1], [4, 1, 4, 1, 4, 1, 4, 1, 4, 1], [4, 1, 4, 1, 4, 1, 4, 1, 4, 1], [4, 1, 4, 1, 4, 1, 4, 1, 4, 1], [4, 1, 4, 1, 4, 1, 4, 1, 4, 1], [4, 1, 4, 1, 4, 1, 4, 1, 4, 1], [4, 1, 4, 1, 4, 1, 4, 1, 4, 1], [4, 1, 4, 1, 4, 1, 4, 1, 4, 1], [4, 1, 4, 1, 4, 1, 4, 1, 4, 1], [4, 1, 4, 1, 4, 1, 4, 1, 4, 1], [4, 1, 4, 1, 4, 1, 4, 1, 4, 1], [4, 1, 4, 1, 4, 1, 4, 1, 4, 1], [4, 1, 4, 1, 4, 1, 4, 1, 4, 1], [4, 1, 4, 1, 4, 1, 4, 1, 4, 1], [4, 1, 4, 1, 4, 1, 4, 1, 4, 1], [4, 1, 4, 1, 4, 1, 4, 1, 4, 1]]\n",
      "Optimal solution : 101  bins\n",
      "Solution : 101  bins, Spaces Left:  0 \n",
      "\n"
     ]
    }
   ],
   "source": [
    "List_items = [2,1,1,6,1,3,2,7,7,5,2,1,2,7,7,7,3,2,4,1,2,4,2,3,2,8,5,3,5,1,2]*13\n",
    "List_items = List_items +[1,2,3,4,7,5,2,6,2,9,3,2,4,1,2,4,2]*19\n",
    "BinCapacity= 25\n",
    "\n",
    "print('#User Cut Process \\n Interlacing S1 with itself(Reverse) \\n Interlacing S2 with istelf(Reverse) \\n')\n",
    "S1, S2=Cut_Process_user(List_items, BinCapacity,5)\n",
    "print('lenght : S1: ',len(S1),', S2: ',len(S2),', S1+S2: ',len(List_items),'\\n')\n",
    "S1=Interlacing_Reverse_Second(S1[:len(S1)//2], S1[len(S1)//2:])\n",
    "S2=Interlacing_Reverse_First(S2[:len(S2)//2], S2[len(S2)//2:])\n",
    "\n",
    "## FF + BF tactic\n",
    "print('#First Fit Then Best Fit')\n",
    "bins=First_Fit_Best_Fit(S1,S2,BinCapacity)\n",
    "print(bins[:20],'......',bins[len(bins)-BinCapacity:])\n",
    "spaces_left= BinCapacity*len(bins)-sum(sum(x) for x in bins)\n",
    "print ('Optimal solution :',mt.ceil(sum(List_items)/BinCapacity), ' bins' )\n",
    "print ('Solution :',len(bins), ' bins, Spaces Left: ',spaces_left,'\\n' )\n",
    "\n",
    "## WF + BF tactic\n",
    "print('#Worst Fit Then Best Fit')\n",
    "bins=Worst_Fit_Best_Fit(S1,S2,BinCapacity)\n",
    "print(bins[:20],'......',bins[len(bins)-BinCapacity:])\n",
    "spaces_left= BinCapacity*len(bins)-sum(sum(x) for x in bins)\n",
    "print ('Optimal solution :',mt.ceil(sum(List_items)/BinCapacity), ' bins' )\n",
    "print ('Solution :',len(bins), ' bins, Spaces Left: ',spaces_left,'\\n' )\n",
    "\n",
    "## NF + BF tactic\n",
    "print('#Next Fit Then Best Fit')\n",
    "bins=NextFit_Best_Fit(S1,S2,BinCapacity)\n",
    "print(bins[:20],'......',bins[len(bins)-BinCapacity:])\n",
    "spaces_left= BinCapacity*len(bins)-sum(sum(x) for x in bins)\n",
    "print ('Optimal solution :',mt.ceil(sum(List_items)/BinCapacity), ' bins' )\n",
    "print ('Solution :',len(bins), ' bins, Spaces Left: ',spaces_left,'\\n' )"
   ]
  },
  {
   "cell_type": "code",
   "execution_count": 789,
   "metadata": {
    "scrolled": false
   },
   "outputs": [
    {
     "name": "stdout",
     "output_type": "stream",
     "text": [
      "#Average Cut Process \n",
      " Interlacing S1 with itself(Reverse) \n",
      " Interlacing S2 with istelf(Reverse) \n",
      "\n",
      "lenght : S1:  289 , S2:  437 , S1+S2:  726 \n",
      "\n",
      "#First Fit Then Best Fit\n",
      "[[9, 4, 9, 2, 1], [4, 9, 4, 4, 4], [9, 9, 4, 2, 1], [9, 9, 4, 2, 1], [9, 4, 9, 2, 1], [4, 9, 4, 4, 4], [9, 9, 4, 2, 1], [9, 9, 4, 2, 1], [9, 4, 9, 2, 1], [4, 9, 4, 4, 4], [9, 9, 4, 2, 1], [8, 8, 4, 4, 1], [8, 8, 4, 4, 1], [8, 8, 4, 4, 1], [8, 8, 4, 4, 1], [8, 8, 4, 4, 1], [8, 8, 4, 4, 1], [8, 7, 4, 4, 2], [7, 7, 4, 7], [4, 7, 4, 7, 2, 1]] ...... [[2, 2, 2, 2, 2, 2, 2, 2, 2, 2, 2, 2, 1], [2, 2, 2, 2, 2, 2, 2, 2, 2, 2, 2, 2, 1], [2, 2, 2, 2, 2, 2, 2, 2, 2, 2, 2, 2, 1], [2, 2, 2, 2, 2, 2, 2, 2, 2, 2, 2, 2, 1], [2, 2, 2, 2, 2, 2, 2, 2, 2, 2, 2, 2, 1], [2, 2, 2, 2, 2, 2, 2, 2, 2, 2, 2, 2, 1], [2, 2, 2, 2, 2, 2, 2, 2, 2, 2, 2, 2, 1], [2, 2, 2, 2, 2, 2, 2, 2, 2, 2, 2, 2, 1], [2, 2, 2, 2, 2, 2, 2, 2, 2, 2, 2, 2, 1], [2, 2, 2, 2, 2, 2, 2, 2, 2, 2, 2, 2, 1], [2, 2, 2, 2, 2, 2, 2, 2, 2, 2, 2, 2, 1], [2, 2, 2, 2, 2, 2, 2, 2, 2, 2, 2, 2, 1], [2, 2, 2, 2, 2, 2, 2, 2, 2, 2, 2, 3], [3, 3, 3, 3, 3, 3, 3, 3, 1], [3, 3, 3, 3, 3, 3, 3, 3, 1], [3, 3, 3, 3, 3, 3, 3, 3, 1], [3, 3, 3, 3, 3, 3, 3, 3, 1], [3, 3, 3, 3, 3, 3, 3, 3, 1], [3, 3, 3, 3, 3, 3, 3, 3, 1], [3, 3, 3, 3, 3, 3, 3, 3, 1], [3, 3, 3, 3, 3, 3, 3, 3, 1], [3, 3, 1, 3, 1, 3, 1, 3, 1, 3, 1, 1, 1], [3, 3, 3, 1, 3, 1, 3, 1, 3, 1, 3], [1, 3, 1, 3, 1, 3, 1, 3, 1, 3, 1, 3, 1], [3, 1, 3, 1, 3, 1, 3, 1, 3, 1, 3, 1, 1]]\n",
      "Optimal solution : 101  bins\n",
      "Solution : 101  bins, Spaces Left:  0 \n",
      "\n",
      "#Worst Fit Then Best Fit\n",
      "[[9, 4, 9, 2, 1], [4, 9, 4, 4, 4], [9, 4, 9, 2, 1], [9, 4, 9, 2, 1], [9, 4, 9, 2, 1], [4, 9, 4, 4, 4], [9, 4, 9, 2, 1], [9, 4, 9, 2, 1], [9, 4, 9, 2, 1], [4, 9, 4, 4, 2, 2], [9, 4, 9, 2, 1], [8, 4, 8, 4, 1], [8, 4, 8, 4, 1], [8, 4, 8, 4, 1], [8, 4, 8, 4, 1], [8, 4, 8, 4, 1], [8, 4, 8, 4, 1], [8, 4, 7, 4, 2], [7, 4, 7, 4, 2, 1], [7, 4, 7, 4, 2, 1]] ...... [[2, 2, 2, 2, 2, 2, 2, 2, 2, 2, 2, 2, 1], [2, 2, 2, 2, 2, 2, 2, 2, 2, 2, 2, 2, 1], [2, 2, 2, 2, 2, 2, 2, 2, 2, 2, 2, 2, 1], [2, 2, 2, 2, 2, 2, 2, 2, 2, 2, 2, 2, 1], [2, 2, 2, 2, 2, 2, 2, 2, 2, 2, 2, 2, 1], [2, 2, 2, 2, 2, 2, 2, 2, 2, 2, 2, 2, 1], [2, 2, 2, 2, 2, 2, 2, 2, 2, 2, 2, 2, 1], [2, 2, 2, 2, 2, 2, 2, 2, 2, 2, 2, 2, 1], [2, 2, 2, 2, 2, 2, 2, 2, 2, 2, 2, 2, 1], [2, 2, 2, 2, 2, 2, 2, 2, 2, 2, 2, 2, 1], [2, 2, 2, 2, 2, 2, 2, 2, 2, 2, 2, 2, 1], [2, 2, 2, 2, 2, 2, 2, 2, 2, 2, 2, 2, 1], [2, 2, 2, 2, 2, 2, 2, 2, 2, 2, 2, 3], [3, 3, 3, 3, 3, 3, 3, 3, 1], [3, 3, 3, 3, 3, 3, 3, 3, 1], [3, 3, 3, 3, 3, 3, 3, 3, 1], [3, 3, 3, 3, 3, 3, 3, 3, 1], [3, 3, 3, 3, 3, 3, 3, 3, 1], [3, 3, 3, 3, 3, 3, 3, 3, 1], [3, 3, 3, 3, 3, 3, 3, 3, 1], [3, 3, 3, 3, 3, 3, 3, 3, 1], [3, 3, 1, 3, 1, 3, 1, 3, 1, 3, 1, 1, 1], [3, 3, 3, 1, 3, 1, 3, 1, 3, 1, 3], [1, 3, 1, 3, 1, 3, 1, 3, 1, 3, 1, 3, 1], [3, 1, 3, 1, 3, 1, 3, 1, 3, 1, 3, 1, 1]]\n",
      "Optimal solution : 101  bins\n",
      "Solution : 101  bins, Spaces Left:  0 \n",
      "\n",
      "#Next Fit Then Best Fit\n",
      "[[9, 4, 9, 2, 1], [4, 9, 4, 2, 2, 2, 2], [9, 4, 9, 2, 1], [4, 9, 4, 2, 2, 2, 2], [9, 4, 9, 2, 1], [4, 9, 4, 2, 2, 2, 2], [9, 4, 9, 2, 1], [4, 9, 4, 2, 2, 2, 2], [9, 4, 9, 2, 1], [4, 9, 4, 2, 2, 2, 2], [9, 4, 9, 2, 1], [4, 9, 4, 2, 2, 2, 2], [9, 4, 8, 4], [8, 4, 8, 4, 1], [8, 4, 8, 4, 1], [8, 4, 8, 4, 1], [8, 4, 8, 4, 1], [8, 4, 8, 4, 1], [8, 4, 8, 4, 1], [7, 4, 7, 4, 2, 1]] ...... [[2, 2, 2, 2, 2, 2, 2, 2, 2, 2, 2, 2, 1], [2, 2, 2, 2, 2, 2, 2, 2, 2, 2, 2, 2, 1], [2, 2, 2, 2, 2, 2, 2, 2, 2, 2, 2, 2, 1], [2, 2, 2, 2, 2, 2, 2, 2, 2, 2, 2, 2, 1], [2, 2, 2, 2, 2, 2, 2, 2, 2, 2, 2, 2, 1], [2, 2, 2, 2, 2, 2, 2, 2, 2, 2, 2, 2, 1], [2, 2, 2, 2, 2, 2, 2, 2, 2, 2, 2, 2, 1], [2, 2, 2, 2, 2, 2, 2, 2, 2, 2, 2, 2, 1], [2, 2, 2, 2, 2, 2, 2, 2, 2, 2, 2, 2, 1], [2, 2, 2, 2, 2, 2, 2, 2, 2, 2, 2, 2, 1], [2, 2, 2, 2, 2, 2, 2, 2, 2, 2, 2, 2, 1], [2, 2, 2, 2, 2, 2, 2, 2, 2, 2, 2, 2, 1], [2, 2, 2, 2, 2, 2, 2, 2, 2, 3, 3, 1], [3, 3, 3, 3, 3, 3, 3, 3, 1], [3, 3, 3, 3, 3, 3, 3, 3, 1], [3, 3, 3, 3, 3, 3, 3, 3, 1], [3, 3, 3, 3, 3, 3, 3, 3, 1], [3, 3, 3, 3, 3, 3, 3, 3, 1], [3, 3, 3, 3, 3, 3, 3, 3, 1], [3, 3, 3, 3, 3, 3, 3, 3, 1], [3, 3, 3, 3, 3, 1, 3, 1, 3, 1, 1], [3, 3, 1, 3, 1, 3, 1, 3, 1, 3, 1, 1, 1], [3, 3, 3, 1, 3, 1, 3, 1, 3, 1, 3], [1, 3, 1, 3, 1, 3, 1, 3, 1, 3, 1, 3, 1], [3, 1, 3, 1, 3, 1, 3, 1, 3, 1, 3, 1, 1]]\n",
      "Optimal solution : 101  bins\n",
      "Solution : 101  bins, Spaces Left:  0 \n",
      "\n"
     ]
    }
   ],
   "source": [
    "List_items = [2,1,1,6,1,3,2,7,7,5,2,1,2,7,7,7,3,2,4,1,2,4,2,3,2,8,5,3,5,1,2]*13\n",
    "List_items = List_items +[1,2,3,4,7,5,2,6,2,9,3,2,4,1,2,4,2]*19\n",
    "BinCapacity= 25\n",
    "\n",
    "print('#Average Cut Process \\n Interlacing S1 with itself(Reverse) \\n Interlacing S2 with istelf(Reverse) \\n')\n",
    "S1, S2=Cut_Process_Avg(List_items, BinCapacity)\n",
    "print('lenght : S1: ',len(S1),', S2: ',len(S2),', S1+S2: ',len(List_items),'\\n')\n",
    "S1=Interlacing_Reverse_Second(S1[:len(S1)//2], S1[len(S1)//2:])\n",
    "S2=Interlacing_Reverse_First(S2[:len(S2)//2], S2[len(S2)//2:])\n",
    "\n",
    "## FF + BF tactic\n",
    "print('#First Fit Then Best Fit')\n",
    "bins=First_Fit_Best_Fit(S1,S2,BinCapacity)\n",
    "print(bins[:20],'......',bins[len(bins)-BinCapacity:])\n",
    "spaces_left= BinCapacity*len(bins)-sum(sum(x) for x in bins)\n",
    "print ('Optimal solution :',mt.ceil(sum(List_items)/BinCapacity), ' bins' )\n",
    "print ('Solution :',len(bins), ' bins, Spaces Left: ',spaces_left,'\\n' )\n",
    "\n",
    "## WF + BF tactic\n",
    "print('#Worst Fit Then Best Fit')\n",
    "bins=Worst_Fit_Best_Fit(S1,S2,BinCapacity)\n",
    "print(bins[:20],'......',bins[len(bins)-BinCapacity:])\n",
    "spaces_left= BinCapacity*len(bins)-sum(sum(x) for x in bins)\n",
    "print ('Optimal solution :',mt.ceil(sum(List_items)/BinCapacity), ' bins' )\n",
    "print ('Solution :',len(bins), ' bins, Spaces Left: ',spaces_left,'\\n' )\n",
    "\n",
    "## NF + BF tactic\n",
    "print('#Next Fit Then Best Fit')\n",
    "bins=NextFit_Best_Fit(S1,S2,BinCapacity)\n",
    "print(bins[:20],'......',bins[len(bins)-BinCapacity:])\n",
    "spaces_left= BinCapacity*len(bins)-sum(sum(x) for x in bins)\n",
    "print ('Optimal solution :',mt.ceil(sum(List_items)/BinCapacity), ' bins' )\n",
    "print ('Solution :',len(bins), ' bins, Spaces Left: ',spaces_left,'\\n' )"
   ]
  },
  {
   "cell_type": "code",
   "execution_count": 790,
   "metadata": {},
   "outputs": [
    {
     "name": "stdout",
     "output_type": "stream",
     "text": [
      "#Standard Deviation Cut Process \n",
      " Interlacing S1 with itself(Reverse) \n",
      " Interlacing S2 with istelf(Reverse) \n",
      "\n",
      "lenght : S1:  148 , S2:  578 , S1+S2:  726 \n",
      "\n",
      "#First Fit Then Best Fit\n",
      "[[9, 6, 9, 1], [6, 9, 6, 2, 2], [9, 6, 9, 1], [6, 9, 6, 2, 2], [9, 6, 9, 1], [6, 9, 6, 2, 2], [9, 6, 9, 1], [6, 9, 6, 2, 2], [9, 6, 9, 1], [6, 9, 6, 2, 2], [9, 6, 9, 1], [6, 9, 6, 2, 2], [9, 6, 8, 2], [6, 8, 6, 2, 2, 1], [8, 6, 8, 2, 1], [6, 8, 6, 2, 2, 1], [8, 6, 8, 2, 1], [6, 8, 6, 2, 2, 1], [8, 6, 8, 2, 1], [6, 8, 6, 2, 2, 1]] ...... [[4, 4, 2, 4, 4, 4, 1, 1, 1], [4, 4, 4, 4, 4, 4, 1], [4, 4, 4, 4, 4, 4, 1], [4, 4, 4, 4, 4, 4, 1], [4, 4, 4, 4, 4, 4, 1], [4, 4, 4, 4, 1, 4, 1, 1, 1, 1], [4, 4, 4, 4, 1, 4, 1, 1, 1, 1], [4, 4, 4, 4, 1, 4, 1, 1, 1, 1], [4, 4, 4, 4, 1, 4, 1, 1, 1, 1], [4, 4, 4, 4, 1, 4, 1, 1, 1, 1], [4, 4, 4, 4, 1, 4, 1, 1, 1, 1], [4, 5, 5, 5, 1, 5], [1, 5, 1, 5, 1, 5, 1, 5, 1], [5, 1, 5, 1, 5, 1, 5, 1, 1], [5, 5, 1, 5, 1, 5, 1, 1, 1], [5, 5, 5, 1, 5, 1, 1, 1, 1], [5, 5, 5, 5, 1, 1, 1, 1, 1], [5, 5, 5, 5, 5], [1, 5, 1, 5, 1, 5, 1, 5, 1], [5, 1, 5, 1, 5, 1, 5, 1, 1], [5, 5, 1, 5, 1, 5, 1, 1, 1], [5, 5, 5, 1, 5, 1, 1, 1, 1], [5, 5, 5, 5, 1, 1, 1, 1, 1], [5, 5, 5, 5, 5], [1, 5, 1, 5, 1, 5, 1, 5, 1]]\n",
      "Optimal solution : 101  bins\n",
      "Solution : 101  bins, Spaces Left:  0 \n",
      "\n",
      "#Worst Fit Then Best Fit\n",
      "[[9, 6, 9, 1], [6, 9, 6, 2, 2], [9, 6, 9, 1], [6, 9, 6, 2, 2], [9, 6, 9, 1], [6, 9, 6, 2, 2], [9, 6, 9, 1], [6, 9, 6, 2, 2], [9, 6, 9, 1], [6, 9, 6, 2, 2], [9, 6, 9, 1], [6, 9, 6, 2, 2], [9, 6, 8, 2], [6, 8, 6, 2, 2, 1], [8, 6, 8, 2, 1], [6, 8, 6, 2, 2, 1], [8, 6, 8, 2, 1], [6, 8, 6, 2, 2, 1], [8, 6, 8, 2, 1], [6, 8, 6, 2, 2, 1]] ...... [[4, 4, 2, 4, 4, 4, 1, 1, 1], [4, 4, 4, 4, 4, 4, 1], [4, 4, 4, 4, 4, 4, 1], [4, 4, 4, 4, 4, 4, 1], [4, 4, 4, 4, 4, 4, 1], [4, 4, 4, 4, 1, 4, 1, 1, 1, 1], [4, 4, 4, 4, 1, 4, 1, 1, 1, 1], [4, 4, 4, 4, 1, 4, 1, 1, 1, 1], [4, 4, 4, 4, 1, 4, 1, 1, 1, 1], [4, 4, 4, 4, 1, 4, 1, 1, 1, 1], [4, 4, 4, 4, 1, 4, 1, 1, 1, 1], [4, 5, 5, 5, 1, 5], [1, 5, 1, 5, 1, 5, 1, 5, 1], [5, 1, 5, 1, 5, 1, 5, 1, 1], [5, 5, 1, 5, 1, 5, 1, 1, 1], [5, 5, 5, 1, 5, 1, 1, 1, 1], [5, 5, 5, 5, 1, 1, 1, 1, 1], [5, 5, 5, 5, 5], [1, 5, 1, 5, 1, 5, 1, 5, 1], [5, 1, 5, 1, 5, 1, 5, 1, 1], [5, 5, 1, 5, 1, 5, 1, 1, 1], [5, 5, 5, 1, 5, 1, 1, 1, 1], [5, 5, 5, 5, 1, 1, 1, 1, 1], [5, 5, 5, 5, 5], [1, 5, 1, 5, 1, 5, 1, 5, 1]]\n",
      "Optimal solution : 101  bins\n",
      "Solution : 101  bins, Spaces Left:  0 \n",
      "\n",
      "#Next Fit Then Best Fit\n",
      "[[9, 6, 9, 1], [6, 9, 6, 2, 2], [9, 6, 9, 1], [6, 9, 6, 2, 2], [9, 6, 9, 1], [6, 9, 6, 2, 2], [9, 6, 9, 1], [6, 9, 6, 2, 2], [9, 6, 9, 1], [6, 9, 6, 2, 2], [9, 6, 9, 1], [6, 9, 6, 2, 2], [9, 6, 8, 2], [6, 8, 6, 2, 2, 1], [8, 6, 8, 2, 1], [6, 8, 6, 2, 2, 1], [8, 6, 8, 2, 1], [6, 8, 6, 2, 2, 1], [8, 6, 8, 2, 1], [6, 8, 6, 2, 2, 1]] ...... [[4, 4, 2, 4, 4, 4, 1, 1, 1], [4, 4, 4, 4, 4, 4, 1], [4, 4, 4, 4, 4, 4, 1], [4, 4, 4, 4, 4, 4, 1], [4, 4, 4, 4, 4, 4, 1], [4, 4, 4, 4, 1, 4, 1, 1, 1, 1], [4, 4, 4, 4, 1, 4, 1, 1, 1, 1], [4, 4, 4, 4, 1, 4, 1, 1, 1, 1], [4, 4, 4, 4, 1, 4, 1, 1, 1, 1], [4, 4, 4, 4, 1, 4, 1, 1, 1, 1], [4, 4, 4, 4, 1, 4, 1, 1, 1, 1], [4, 5, 5, 5, 1, 5], [1, 5, 1, 5, 1, 5, 1, 5, 1], [5, 1, 5, 1, 5, 1, 5, 1, 1], [5, 5, 1, 5, 1, 5, 1, 1, 1], [5, 5, 5, 1, 5, 1, 1, 1, 1], [5, 5, 5, 5, 1, 1, 1, 1, 1], [5, 5, 5, 5, 5], [1, 5, 1, 5, 1, 5, 1, 5, 1], [5, 1, 5, 1, 5, 1, 5, 1, 1], [5, 5, 1, 5, 1, 5, 1, 1, 1], [5, 5, 5, 1, 5, 1, 1, 1, 1], [5, 5, 5, 5, 1, 1, 1, 1, 1], [5, 5, 5, 5, 5], [1, 5, 1, 5, 1, 5, 1, 5, 1]]\n",
      "Optimal solution : 101  bins\n",
      "Solution : 101  bins, Spaces Left:  0 \n",
      "\n"
     ]
    }
   ],
   "source": [
    "List_items = [2,1,1,6,1,3,2,7,7,5,2,1,2,7,7,7,3,2,4,1,2,4,2,3,2,8,5,3,5,1,2]*13\n",
    "List_items = List_items +[1,2,3,4,7,5,2,6,2,9,3,2,4,1,2,4,2]*19\n",
    "BinCapacity= 25\n",
    "\n",
    "\n",
    "print('#Standard Deviation Cut Process \\n Interlacing S1 with itself(Reverse) \\n Interlacing S2 with istelf(Reverse) \\n')\n",
    "S1, S2=Cut_Process_Std(List_items, BinCapacity)\n",
    "print('lenght : S1: ',len(S1),', S2: ',len(S2),', S1+S2: ',len(List_items),'\\n')\n",
    "S1=Interlacing_Reverse_Second(S1[:len(S1)//2], S1[len(S1)//2:])\n",
    "S2=Interlacing_Reverse_First(S2[:len(S2)//2], S2[len(S2)//2:])\n",
    "\n",
    "\n",
    "## FF + BF tactic\n",
    "print('#First Fit Then Best Fit')\n",
    "bins=First_Fit_Best_Fit(S1,S2,BinCapacity)\n",
    "print(bins[:20],'......',bins[len(bins)-BinCapacity:])\n",
    "spaces_left= BinCapacity*len(bins)-sum(sum(x) for x in bins)\n",
    "print ('Optimal solution :',mt.ceil(sum(List_items)/BinCapacity), ' bins' )\n",
    "print ('Solution :',len(bins), ' bins, Spaces Left: ',spaces_left,'\\n' )\n",
    "\n",
    "## WF + BF tactic\n",
    "print('#Worst Fit Then Best Fit')\n",
    "bins=Worst_Fit_Best_Fit(S1,S2,BinCapacity)\n",
    "print(bins[:20],'......',bins[len(bins)-BinCapacity:])\n",
    "spaces_left= BinCapacity*len(bins)-sum(sum(x) for x in bins)\n",
    "print ('Optimal solution :',mt.ceil(sum(List_items)/BinCapacity), ' bins' )\n",
    "print ('Solution :',len(bins), ' bins, Spaces Left: ',spaces_left,'\\n' )\n",
    "\n",
    "## NF + BF tactic\n",
    "print('#Next Fit Then Best Fit')\n",
    "bins=NextFit_Best_Fit(S1,S2,BinCapacity)\n",
    "print(bins[:20],'......',bins[len(bins)-BinCapacity:])\n",
    "spaces_left= BinCapacity*len(bins)-sum(sum(x) for x in bins)\n",
    "print ('Optimal solution :',mt.ceil(sum(List_items)/BinCapacity), ' bins' )\n",
    "print ('Solution :',len(bins), ' bins, Spaces Left: ',spaces_left,'\\n' )"
   ]
  },
  {
   "cell_type": "code",
   "execution_count": 791,
   "metadata": {
    "scrolled": false
   },
   "outputs": [
    {
     "name": "stdout",
     "output_type": "stream",
     "text": [
      "#Maximum Space Allowed Cut Process \n",
      " Interlacing S1 with itself(Reverse) \n",
      " Interlacing S2 with istelf(Reverse) \n",
      "\n",
      "lenght : S1:  379 , S2:  347 , S1+S2:  726 \n",
      "\n",
      "#First Fit Then Best Fit\n",
      "[[9, 3, 9, 3, 1], [9, 3, 9, 3, 1], [9, 3, 9, 3, 1], [9, 3, 9, 3, 1], [9, 3, 9, 3, 1], [9, 3, 9, 3, 1], [9, 3, 9, 3, 1], [9, 3, 9, 3, 1], [9, 3, 9, 3, 1], [9, 3, 8, 3, 2], [8, 3, 8, 3, 3], [8, 8, 3, 3, 3], [8, 8, 8, 1], [3, 8, 3, 8, 3], [8, 3, 8, 3, 3], [8, 7, 3, 7], [3, 7, 3, 7, 3, 2], [7, 3, 7, 3, 3, 2], [7, 7, 3, 7, 1], [3, 7, 3, 7, 3, 2]] ...... [[4, 5, 4, 5, 5, 2], [5, 5, 5, 5, 5], [5, 5, 5, 5, 5], [5, 5, 5, 5, 5], [5, 5, 5, 5, 5], [5, 5, 5, 5, 5], [5, 5, 5, 5, 5], [5, 2, 2, 2, 2, 2, 2, 2, 2, 2, 2], [2, 2, 2, 2, 2, 2, 2, 2, 2, 2, 2, 2, 1], [2, 2, 2, 2, 2, 2, 2, 2, 2, 2, 2, 2, 1], [2, 2, 2, 2, 2, 2, 2, 2, 2, 2, 2, 2, 1], [2, 2, 2, 2, 2, 2, 2, 2, 2, 2, 2, 2, 1], [2, 2, 2, 2, 2, 2, 2, 2, 2, 2, 2, 2, 1], [2, 2, 2, 2, 2, 2, 2, 2, 2, 2, 2, 2, 1], [2, 2, 2, 2, 2, 2, 2, 2, 2, 2, 2, 2, 1], [2, 2, 2, 2, 2, 2, 2, 2, 2, 2, 2, 2, 1], [2, 2, 2, 2, 2, 2, 2, 2, 2, 2, 2, 2, 1], [2, 2, 2, 2, 2, 2, 2, 2, 2, 2, 2, 2, 1], [2, 1, 2, 1, 2, 1, 2, 1, 2, 1, 2, 1, 2, 1, 2, 1, 1], [2, 2, 1, 2, 1, 2, 1, 2, 1, 2, 1, 2, 1, 2, 1, 2], [1, 2, 1, 2, 1, 2, 1, 2, 1, 2, 1, 2, 1, 2, 1, 2, 1], [2, 1, 2, 1, 2, 1, 2, 1, 2, 1, 2, 1, 2, 1, 2, 1, 1], [2, 2, 1, 2, 1, 2, 1, 2, 1, 2, 1, 2, 1, 2, 1, 2], [1, 2, 1, 2, 1, 2, 1, 2, 1, 2, 1, 2, 1, 2, 1, 2, 1], [2, 1, 2, 1, 2, 1, 2, 1, 2, 1, 2, 1, 2, 1, 2, 1, 1]]\n",
      "Optimal solution : 101  bins\n",
      "Solution : 101  bins, Spaces Left:  0 \n",
      "\n",
      "#Worst Fit Then Best Fit\n",
      "[[9, 3, 9, 3, 1], [9, 3, 9, 3, 1], [9, 3, 9, 3, 1], [9, 3, 9, 3, 1], [9, 3, 9, 3, 1], [9, 3, 9, 3, 1], [9, 3, 9, 3, 1], [9, 3, 9, 3, 1], [9, 3, 9, 3, 1], [9, 3, 8, 3, 2], [8, 3, 8, 3, 2, 1], [8, 3, 8, 3, 2, 1], [8, 3, 8, 3, 2, 1], [8, 3, 8, 3, 2, 1], [8, 3, 8, 3, 2, 1], [8, 3, 8, 3, 2, 1], [7, 3, 7, 3, 5], [7, 3, 7, 3, 4, 1], [7, 3, 7, 3, 5], [7, 3, 7, 3, 4, 1]] ...... [[5, 5, 5, 5, 5], [5, 5, 5, 5, 5], [5, 5, 5, 5, 5], [5, 5, 5, 5, 5], [5, 5, 5, 5, 5], [5, 5, 5, 2, 2, 2, 2, 2], [2, 2, 2, 2, 2, 2, 2, 2, 2, 2, 2, 2, 1], [2, 2, 2, 2, 2, 2, 2, 2, 2, 2, 2, 2, 1], [2, 2, 2, 2, 2, 2, 2, 2, 2, 2, 2, 2, 1], [2, 2, 2, 2, 2, 2, 2, 2, 2, 2, 2, 2, 1], [2, 2, 2, 2, 2, 2, 2, 2, 2, 2, 2, 2, 1], [2, 2, 2, 2, 2, 2, 2, 2, 2, 2, 2, 2, 1], [2, 2, 2, 2, 2, 2, 2, 2, 2, 2, 2, 2, 1], [2, 2, 2, 2, 2, 2, 2, 2, 2, 2, 2, 2, 1], [2, 2, 2, 2, 2, 2, 2, 2, 2, 2, 2, 2, 1], [2, 2, 2, 2, 2, 2, 2, 2, 2, 2, 2, 2, 1], [2, 2, 2, 2, 2, 2, 2, 2, 2, 2, 2, 2, 1], [2, 2, 2, 2, 2, 2, 2, 2, 2, 2, 2, 2, 1], [2, 2, 2, 2, 2, 2, 2, 2, 2, 2, 1, 2, 1, 1], [2, 2, 1, 2, 1, 2, 1, 2, 1, 2, 1, 2, 1, 2, 1, 2], [1, 2, 1, 2, 1, 2, 1, 2, 1, 2, 1, 2, 1, 2, 1, 2, 1], [2, 1, 2, 1, 2, 1, 2, 1, 2, 1, 2, 1, 2, 1, 2, 1, 1], [2, 2, 1, 2, 1, 2, 1, 2, 1, 2, 1, 2, 1, 2, 1, 2], [1, 2, 1, 2, 1, 2, 1, 2, 1, 2, 1, 2, 1, 2, 1, 2, 1], [2, 1, 2, 1, 2, 1, 2, 1, 2, 1, 2, 1, 2, 1, 2, 1, 1]]\n",
      "Optimal solution : 101  bins\n",
      "Solution : 101  bins, Spaces Left:  0 \n",
      "\n",
      "#Next Fit Then Best Fit\n",
      "[[9, 3, 9, 3, 1], [9, 3, 9, 3, 1], [9, 3, 9, 3, 1], [9, 3, 9, 3, 1], [9, 3, 9, 3, 1], [9, 3, 9, 3, 1], [9, 3, 9, 3, 1], [9, 3, 9, 3, 1], [9, 3, 9, 3, 1], [9, 3, 8, 3, 2], [8, 3, 8, 3, 2, 1], [8, 3, 8, 3, 2, 1], [8, 3, 8, 3, 2, 1], [8, 3, 8, 3, 2, 1], [8, 3, 8, 3, 2, 1], [8, 3, 8, 3, 2, 1], [7, 3, 7, 3, 2, 2, 1], [7, 3, 7, 3, 2, 2, 1], [7, 3, 7, 3, 2, 2, 1], [7, 3, 7, 3, 2, 2, 1]] ...... [[4, 5, 4, 5, 4, 2, 1], [5, 4, 5, 4, 5, 2], [4, 5, 4, 5, 4, 2, 1], [5, 4, 5, 4, 5, 2], [4, 5, 4, 5, 4, 2, 1], [5, 4, 5, 4, 5, 2], [4, 5, 4, 5, 4, 2, 1], [5, 4, 5, 4, 5, 2], [5, 5, 5, 5, 5], [5, 5, 5, 5, 5], [5, 5, 5, 5, 5], [5, 5, 5, 5, 5], [5, 5, 5, 5, 5], [5, 5, 5, 5, 5], [5, 5, 2, 2, 2, 2, 2, 2, 2, 1], [2, 2, 2, 2, 2, 2, 2, 2, 2, 2, 2, 2, 1], [2, 2, 2, 2, 2, 2, 2, 2, 2, 2, 2, 2, 1], [2, 2, 2, 2, 2, 2, 2, 2, 2, 2, 2, 2, 1], [2, 2, 2, 2, 2, 2, 2, 2, 2, 2, 2, 2, 1], [2, 2, 2, 2, 2, 2, 2, 2, 2, 2, 2, 2, 1], [2, 2, 2, 2, 2, 2, 2, 2, 2, 2, 2, 2, 1], [2, 2, 2, 2, 1, 2, 1, 2, 1, 2, 1, 2, 1, 2, 1, 1], [2, 2, 1, 2, 1, 2, 1, 2, 1, 2, 1, 2, 1, 2, 1, 2], [1, 2, 1, 2, 1, 2, 1, 2, 1, 2, 1, 2, 1, 2, 1, 2, 1], [2, 1, 2, 1, 2, 1, 2, 1, 2, 1, 2, 1, 2, 1, 2, 1, 1]]\n",
      "Optimal solution : 101  bins\n",
      "Solution : 101  bins, Spaces Left:  0 \n",
      "\n"
     ]
    }
   ],
   "source": [
    "List_items = [2,1,1,6,1,3,2,7,7,5,2,1,2,7,7,7,3,2,4,1,2,4,2,3,2,8,5,3,5,1,2]*13\n",
    "List_items = List_items +[1,2,3,4,7,5,2,6,2,9,3,2,4,1,2,4,2]*19\n",
    "BinCapacity= 25\n",
    "\n",
    "print('#Maximum Space Allowed Cut Process \\n Interlacing S1 with itself(Reverse) \\n Interlacing S2 with istelf(Reverse) \\n')\n",
    "S1, S2=Cut_Process_MaxSpacesAllowed(List_items, BinCapacity,BinCapacity-3)\n",
    "print('lenght : S1: ',len(S1),', S2: ',len(S2),', S1+S2: ',len(List_items),'\\n')\n",
    "S1=Interlacing_Reverse_Second(S1[:len(S1)//2], S1[len(S1)//2:])\n",
    "S2=Interlacing_Reverse_First(S2[:len(S2)//2], S2[len(S2)//2:])\n",
    "\n",
    "\n",
    "## FF + BF tactic\n",
    "print('#First Fit Then Best Fit')\n",
    "bins=First_Fit_Best_Fit(S1,S2,BinCapacity)\n",
    "print(bins[:20],'......',bins[len(bins)-BinCapacity:])\n",
    "spaces_left= BinCapacity*len(bins)-sum(sum(x) for x in bins)\n",
    "print ('Optimal solution :',mt.ceil(sum(List_items)/BinCapacity), ' bins' )\n",
    "print ('Solution :',len(bins), ' bins, Spaces Left: ',spaces_left,'\\n' )\n",
    "\n",
    "## WF + BF tactic\n",
    "print('#Worst Fit Then Best Fit')\n",
    "bins=Worst_Fit_Best_Fit(S1,S2,BinCapacity)\n",
    "print(bins[:20],'......',bins[len(bins)-BinCapacity:])\n",
    "spaces_left= BinCapacity*len(bins)-sum(sum(x) for x in bins)\n",
    "print ('Optimal solution :',mt.ceil(sum(List_items)/BinCapacity), ' bins' )\n",
    "print ('Solution :',len(bins), ' bins, Spaces Left: ',spaces_left,'\\n' )\n",
    "\n",
    "## NF + BF tactic\n",
    "print('#Next Fit Then Best Fit')\n",
    "bins=NextFit_Best_Fit(S1,S2,BinCapacity)\n",
    "print(bins[:20],'......',bins[len(bins)-BinCapacity:])\n",
    "spaces_left= BinCapacity*len(bins)-sum(sum(x) for x in bins)\n",
    "print ('Optimal solution :',mt.ceil(sum(List_items)/BinCapacity), ' bins' )\n",
    "print ('Solution :',len(bins), ' bins, Spaces Left: ',spaces_left,'\\n' )"
   ]
  },
  {
   "cell_type": "markdown",
   "metadata": {},
   "source": [
    "## Examples With Complex Bins"
   ]
  },
  {
   "cell_type": "code",
   "execution_count": 792,
   "metadata": {
    "scrolled": false
   },
   "outputs": [],
   "source": [
    "def Generate_tests(List_items,BinCapacity):\n",
    "    print(\"-\"*100,'\\n')\n",
    "    print('#User Cut Process\\n')\n",
    "    print(\"-\"*100,'\\n')\n",
    "    S1, S2=Cut_Process_user(List_items, BinCapacity,5)   \n",
    "\n",
    "    ## FF + BF tactic\n",
    "    print('#First Fit Then Best Fit')\n",
    "    bins=First_Fit_Best_Fit(S1,S2,BinCapacity)\n",
    "    print(bins[:20],'......',bins[len(bins)-BinCapacity:])\n",
    "    spaces_left= BinCapacity*len(bins)-sum(sum(x) for x in bins)\n",
    "    print ('Optimal solution :',mt.ceil(sum(List_items)/BinCapacity), ' bins' )\n",
    "    print ('Solution :',len(bins), ' bins, Spaces Left: ',spaces_left,'\\n' )\n",
    "\n",
    "    ## WF + BF tactic\n",
    "    print('#Worst Fit Then Best Fit')\n",
    "    bins=Worst_Fit_Best_Fit(S1,S2,BinCapacity)\n",
    "    print(bins[:20],'......',bins[len(bins)-BinCapacity:])\n",
    "    spaces_left= BinCapacity*len(bins)-sum(sum(x) for x in bins)\n",
    "    print ('Optimal solution :',mt.ceil(sum(List_items)/BinCapacity), ' bins' )\n",
    "    print ('Solution :',len(bins), ' bins, Spaces Left: ',spaces_left,'\\n' )\n",
    "\n",
    "    ## NF + BF tactic\n",
    "    print('#Next Fit Then Best Fit')\n",
    "    bins=NextFit_Best_Fit(S1,S2,BinCapacity)\n",
    "    print(bins[:20],'......',bins[len(bins)-BinCapacity:])\n",
    "    spaces_left= BinCapacity*len(bins)-sum(sum(x) for x in bins)\n",
    "    print ('Optimal solution :',mt.ceil(sum(List_items)/BinCapacity), ' bins' )\n",
    "    print ('Solution :',len(bins), ' bins, Spaces Left: ',spaces_left,'\\n' )\n",
    "\n",
    "    print(\"-\"*100,'\\n')\n",
    "    print('#Average Cut Process\\n')\n",
    "    print(\"-\"*100,'\\n')\n",
    "    S1, S2=Cut_Process_Avg(List_items, BinCapacity)  \n",
    "\n",
    "    ## FF + BF tactic\n",
    "    print('#First Fit Then Best Fit')\n",
    "    bins=First_Fit_Best_Fit(S1,S2,BinCapacity)\n",
    "    print(bins[:20],'......',bins[len(bins)-BinCapacity:])\n",
    "    spaces_left= BinCapacity*len(bins)-sum(sum(x) for x in bins)\n",
    "    print ('Optimal solution :',mt.ceil(sum(List_items)/BinCapacity), ' bins' )\n",
    "    print ('Solution :',len(bins), ' bins, Spaces Left: ',spaces_left,'\\n' )\n",
    "\n",
    "    ## WF + BF tactic\n",
    "    print('#Worst Fit Then Best Fit')\n",
    "    bins=Worst_Fit_Best_Fit(S1,S2,BinCapacity)\n",
    "    print(bins[:20],'......',bins[len(bins)-BinCapacity:])\n",
    "    spaces_left= BinCapacity*len(bins)-sum(sum(x) for x in bins)\n",
    "    print ('Optimal solution :',mt.ceil(sum(List_items)/BinCapacity), ' bins' )\n",
    "    print ('Solution :',len(bins), ' bins, Spaces Left: ',spaces_left,'\\n' )\n",
    "\n",
    "    ## NF + BF tactic\n",
    "    print('#Next Fit Then Best Fit')\n",
    "    bins=NextFit_Best_Fit(S1,S2,BinCapacity)\n",
    "    print(bins[:20],'......',bins[len(bins)-BinCapacity:])\n",
    "    spaces_left= BinCapacity*len(bins)-sum(sum(x) for x in bins)\n",
    "    print ('Optimal solution :',mt.ceil(sum(List_items)/BinCapacity), ' bins' )\n",
    "    print ('Solution :',len(bins), ' bins, Spaces Left: ',spaces_left,'\\n' )\n",
    "\n",
    "    print(\"-\"*100,'\\n')\n",
    "    print('#Standard Deviation Cut Process\\n')\n",
    "    print(\"-\"*100,'\\n')\n",
    "    S1, S2=Cut_Process_Std(List_items, BinCapacity) \n",
    "\n",
    "    ## FF + BF tactic\n",
    "    print('#First Fit Then Best Fit')\n",
    "    bins=First_Fit_Best_Fit(S1,S2,BinCapacity)\n",
    "    print(bins[:20],'......',bins[len(bins)-BinCapacity:])\n",
    "    spaces_left= BinCapacity*len(bins)-sum(sum(x) for x in bins)\n",
    "    print ('Optimal solution :',mt.ceil(sum(List_items)/BinCapacity), ' bins' )\n",
    "    print ('Solution :',len(bins), ' bins, Spaces Left: ',spaces_left,'\\n' )\n",
    "\n",
    "    ## WF + BF tactic\n",
    "    print('#Worst Fit Then Best Fit')\n",
    "    bins=Worst_Fit_Best_Fit(S1,S2,BinCapacity)\n",
    "    print(bins[:20],'......',bins[len(bins)-BinCapacity:])\n",
    "    spaces_left= BinCapacity*len(bins)-sum(sum(x) for x in bins)\n",
    "    print ('Optimal solution :',mt.ceil(sum(List_items)/BinCapacity), ' bins' )\n",
    "    print ('Solution :',len(bins), ' bins, Spaces Left: ',spaces_left,'\\n' )\n",
    "\n",
    "    ## NF + BF tactic\n",
    "    print('#Next Fit Then Best Fit')\n",
    "    bins=NextFit_Best_Fit(S1,S2,BinCapacity)\n",
    "    print(bins[:20],'......',bins[len(bins)-BinCapacity:])\n",
    "    spaces_left= BinCapacity*len(bins)-sum(sum(x) for x in bins)\n",
    "    print ('Optimal solution :',mt.ceil(sum(List_items)/BinCapacity), ' bins' )\n",
    "    print ('Solution :',len(bins), ' bins, Spaces Left: ',spaces_left,'\\n' )\n",
    "\n",
    "    print(\"-\"*100,'\\n')\n",
    "    print('#Maximum Space Allowed Cut Process\\n')\n",
    "    print(\"-\"*100,'\\n')\n",
    "    S1, S2=Cut_Process_MaxSpacesAllowed(List_items, BinCapacity,BinCapacity-max(List_items))\n",
    "\n",
    "    ## FF + BF tactic\n",
    "    print('#First Fit Then Best Fit')\n",
    "    bins=First_Fit_Best_Fit(S1,S2,BinCapacity)\n",
    "    print(bins[:20],'......',bins[len(bins)-BinCapacity:])\n",
    "    spaces_left= BinCapacity*len(bins)-sum(sum(x) for x in bins)\n",
    "    print ('Optimal solution :',mt.ceil(sum(List_items)/BinCapacity), ' bins' )\n",
    "    print ('Solution :',len(bins), ' bins, Spaces Left: ',spaces_left,'\\n' )\n",
    "\n",
    "    ## WF + BF tactic\n",
    "    print('#Worst Fit Then Best Fit')\n",
    "    bins=Worst_Fit_Best_Fit(S1,S2,BinCapacity)\n",
    "    print(bins[:20],'......',bins[len(bins)-BinCapacity:])\n",
    "    spaces_left= BinCapacity*len(bins)-sum(sum(x) for x in bins)\n",
    "    print ('Optimal solution :',mt.ceil(sum(List_items)/BinCapacity), ' bins' )\n",
    "    print ('Solution :',len(bins), ' bins, Spaces Left: ',spaces_left,'\\n' )\n",
    "\n",
    "    ## NF + BF tactic\n",
    "    print('#Next Fit Then Best Fit')\n",
    "    bins=NextFit_Best_Fit(S1,S2,BinCapacity)\n",
    "    print(bins[:20],'......',bins[len(bins)-BinCapacity:])\n",
    "    spaces_left= BinCapacity*len(bins)-sum(sum(x) for x in bins)\n",
    "    print ('Optimal solution :',mt.ceil(sum(List_items)/BinCapacity), ' bins' )\n",
    "    print ('Solution :',len(bins), ' bins, Spaces Left: ',spaces_left,'\\n' )\n",
    "\n",
    "\n",
    "    print(\"*\"*110,'\\n')\n",
    "    print(\"-\"*100,'\\n')\n",
    "    print('#User Cut Process \\nInterlacing S1 with itself(Reverse) \\nInterlacing S2 with istelf(Reverse) \\n')\n",
    "    print(\"-\"*100,'\\n')\n",
    "    S1, S2=Cut_Process_user(List_items, BinCapacity,5)\n",
    "    print('lenght : S1: ',len(S1),', S2: ',len(S2),', S1+S2: ',len(List_items),'\\n')\n",
    "    S1=Interlacing_Reverse_Second(S1[:len(S1)//2], S1[len(S1)//2:])\n",
    "    S2=Interlacing_Reverse_First(S2[:len(S2)//2], S2[len(S2)//2:])\n",
    "\n",
    "    ## FF + BF tactic\n",
    "    print('#First Fit Then Best Fit')\n",
    "    bins=First_Fit_Best_Fit(S1,S2,BinCapacity)\n",
    "    print(bins[:20],'......',bins[len(bins)-BinCapacity:])\n",
    "    spaces_left= BinCapacity*len(bins)-sum(sum(x) for x in bins)\n",
    "    print ('Optimal solution :',mt.ceil(sum(List_items)/BinCapacity), ' bins' )\n",
    "    print ('Solution :',len(bins), ' bins, Spaces Left: ',spaces_left,'\\n' )\n",
    "\n",
    "    ## WF + BF tactic\n",
    "    print('#Worst Fit Then Best Fit')\n",
    "    bins=Worst_Fit_Best_Fit(S1,S2,BinCapacity)\n",
    "    print(bins[:20],'......',bins[len(bins)-BinCapacity:])\n",
    "    spaces_left= BinCapacity*len(bins)-sum(sum(x) for x in bins)\n",
    "    print ('Optimal solution :',mt.ceil(sum(List_items)/BinCapacity), ' bins' )\n",
    "    print ('Solution :',len(bins), ' bins, Spaces Left: ',spaces_left,'\\n' )\n",
    "\n",
    "    ## NF + BF tactic\n",
    "    print('#Next Fit Then Best Fit')\n",
    "    bins=NextFit_Best_Fit(S1,S2,BinCapacity)\n",
    "    print(bins[:20],'......',bins[len(bins)-BinCapacity:])\n",
    "    spaces_left= BinCapacity*len(bins)-sum(sum(x) for x in bins)\n",
    "    print ('Optimal solution :',mt.ceil(sum(List_items)/BinCapacity), ' bins' )\n",
    "    print ('Solution :',len(bins), ' bins, Spaces Left: ',spaces_left,'\\n' )\n",
    "\n",
    "    print(\"-\"*100,'\\n')\n",
    "    print('#Average Cut Process \\nInterlacing S1 with itself(Reverse) \\nInterlacing S2 with istelf(Reverse) \\n')\n",
    "    print(\"-\"*100,'\\n')\n",
    "    S1, S2=Cut_Process_Avg(List_items, BinCapacity)\n",
    "    print('lenght : S1: ',len(S1),', S2: ',len(S2),', S1+S2: ',len(List_items),'\\n')\n",
    "    S1=Interlacing_Reverse_Second(S1[:len(S1)//2], S1[len(S1)//2:])\n",
    "    S2=Interlacing_Reverse_First(S2[:len(S2)//2], S2[len(S2)//2:])\n",
    "\n",
    "    ## FF + BF tactic\n",
    "    print('#First Fit Then Best Fit')\n",
    "    bins=First_Fit_Best_Fit(S1,S2,BinCapacity)\n",
    "    print(bins[:20],'......',bins[len(bins)-BinCapacity:])\n",
    "    spaces_left= BinCapacity*len(bins)-sum(sum(x) for x in bins)\n",
    "    print ('Optimal solution :',mt.ceil(sum(List_items)/BinCapacity), ' bins' )\n",
    "    print ('Solution :',len(bins), ' bins, Spaces Left: ',spaces_left,'\\n' )\n",
    "\n",
    "    ## WF + BF tactic\n",
    "    print('#Worst Fit Then Best Fit')\n",
    "    bins=Worst_Fit_Best_Fit(S1,S2,BinCapacity)\n",
    "    print(bins[:20],'......',bins[len(bins)-BinCapacity:])\n",
    "    spaces_left= BinCapacity*len(bins)-sum(sum(x) for x in bins)\n",
    "    print ('Optimal solution :',mt.ceil(sum(List_items)/BinCapacity), ' bins' )\n",
    "    print ('Solution :',len(bins), ' bins, Spaces Left: ',spaces_left,'\\n' )\n",
    "\n",
    "    ## NF + BF tactic\n",
    "    print('#Next Fit Then Best Fit')\n",
    "    bins=NextFit_Best_Fit(S1,S2,BinCapacity)\n",
    "    print(bins[:20],'......',bins[len(bins)-BinCapacity:])\n",
    "    spaces_left= BinCapacity*len(bins)-sum(sum(x) for x in bins)\n",
    "    print ('Optimal solution :',mt.ceil(sum(List_items)/BinCapacity), ' bins' )\n",
    "    print ('Solution :',len(bins), ' bins, Spaces Left: ',spaces_left,'\\n' )\n",
    "\n",
    "    print(\"-\"*100,'\\n')\n",
    "    print('#Standard Deviation Cut Process \\nInterlacing S1 with itself(Reverse) \\nInterlacing S2 with istelf(Reverse) \\n')\n",
    "    print(\"-\"*100,'\\n')\n",
    "    S1, S2=Cut_Process_Std(List_items, BinCapacity)\n",
    "    print('lenght : S1: ',len(S1),', S2: ',len(S2),', S1+S2: ',len(List_items),'\\n')\n",
    "    S1=Interlacing_Reverse_Second(S1[:len(S1)//2], S1[len(S1)//2:])\n",
    "    S2=Interlacing_Reverse_First(S2[:len(S2)//2], S2[len(S2)//2:])\n",
    "\n",
    "    ## FF + BF tactic\n",
    "    print('#First Fit Then Best Fit')\n",
    "    bins=First_Fit_Best_Fit(S1,S2,BinCapacity)\n",
    "    print(bins[:20],'......',bins[len(bins)-BinCapacity:])\n",
    "    spaces_left= BinCapacity*len(bins)-sum(sum(x) for x in bins)\n",
    "    print ('Optimal solution :',mt.ceil(sum(List_items)/BinCapacity), ' bins' )\n",
    "    print ('Solution :',len(bins), ' bins, Spaces Left: ',spaces_left,'\\n' )\n",
    "\n",
    "    ## WF + BF tactic\n",
    "    print('#Worst Fit Then Best Fit')\n",
    "    bins=Worst_Fit_Best_Fit(S1,S2,BinCapacity)\n",
    "    print(bins[:20],'......',bins[len(bins)-BinCapacity:])\n",
    "    spaces_left= BinCapacity*len(bins)-sum(sum(x) for x in bins)\n",
    "    print ('Optimal solution :',mt.ceil(sum(List_items)/BinCapacity), ' bins' )\n",
    "    print ('Solution :',len(bins), ' bins, Spaces Left: ',spaces_left,'\\n' )\n",
    "\n",
    "    ## NF + BF tactic\n",
    "    print('#Next Fit Then Best Fit')\n",
    "    bins=NextFit_Best_Fit(S1,S2,BinCapacity)\n",
    "    print(bins[:20],'......',bins[len(bins)-BinCapacity:])\n",
    "    spaces_left= BinCapacity*len(bins)-sum(sum(x) for x in bins)\n",
    "    print ('Optimal solution :',mt.ceil(sum(List_items)/BinCapacity), ' bins' )\n",
    "    print ('Solution :',len(bins), ' bins, Spaces Left: ',spaces_left,'\\n' )\n",
    "\n",
    "\n",
    "    print(\"-\"*100,'\\n')\n",
    "    print('#Maximum Space Allowed Cut Process \\n Interlacing S1 with itself(Reverse) \\nInterlacing S2 with istelf(Reverse) \\n')\n",
    "    print(\"-\"*100,'\\n')\n",
    "    S1, S2=Cut_Process_MaxSpacesAllowed(List_items, BinCapacity,BinCapacity-max(List_items))\n",
    "    print('lenght : S1: ',len(S1),', S2: ',len(S2),', S1+S2: ',len(List_items),'\\n')\n",
    "    S1=Interlacing_Reverse_Second(S1[:len(S1)//2], S1[len(S1)//2:])\n",
    "    S2=Interlacing_Reverse_First(S2[:len(S2)//2], S2[len(S2)//2:])\n",
    "\n",
    "    ## FF + BF tactic\n",
    "    print('#First Fit Then Best Fit')\n",
    "    bins=First_Fit_Best_Fit(S1,S2,BinCapacity)\n",
    "    print(bins[:20],'......',bins[len(bins)-BinCapacity:])\n",
    "    spaces_left= BinCapacity*len(bins)-sum(sum(x) for x in bins)\n",
    "    print ('Optimal solution :',mt.ceil(sum(List_items)/BinCapacity), ' bins' )\n",
    "    print ('Solution :',len(bins), ' bins, Spaces Left: ',spaces_left,'\\n' )\n",
    "\n",
    "    ## WF + BF tactic\n",
    "    print('#Worst Fit Then Best Fit')\n",
    "    bins=Worst_Fit_Best_Fit(S1,S2,BinCapacity)\n",
    "    print(bins[:20],'......',bins[len(bins)-BinCapacity:])\n",
    "    spaces_left= BinCapacity*len(bins)-sum(sum(x) for x in bins)\n",
    "    print ('Optimal solution :',mt.ceil(sum(List_items)/BinCapacity), ' bins' )\n",
    "    print ('Solution :',len(bins), ' bins, Spaces Left: ',spaces_left,'\\n' )\n",
    "\n",
    "    ## NF + BF tactic\n",
    "    print('#Next Fit Then Best Fit')\n",
    "    bins=NextFit_Best_Fit(S1,S2,BinCapacity)\n",
    "    print(bins[:20],'......',bins[len(bins)-BinCapacity:])\n",
    "    spaces_left= BinCapacity*len(bins)-sum(sum(x) for x in bins)\n",
    "    print ('Optimal solution :',mt.ceil(sum(List_items)/BinCapacity), ' bins' )\n",
    "    print ('Solution :',len(bins), ' bins, Spaces Left: ',spaces_left,'\\n' )"
   ]
  },
  {
   "cell_type": "code",
   "execution_count": 793,
   "metadata": {},
   "outputs": [],
   "source": [
    "def Test_1(n, BinCapacity):\n",
    "# Let n > 0 an integer and C = 100 :\n",
    "# 1: 6 n times the value 51\n",
    "# 2: 6 n times the value 27\n",
    "# 3: 6 n times the value 26\n",
    "# 4: 12 n times the value 23\n",
    "    L51=[51 for i in range(6*n) ]\n",
    "    L27=[27 for i in range(6*n) ]\n",
    "    L26=[26 for i in range(6*n) ]\n",
    "    L23=[23 for i in range(12*n) ]\n",
    "    Ltotal=[]    \n",
    "    Ltotal.extend(L51)\n",
    "    Ltotal.extend(L27)\n",
    "    Ltotal.extend(L26)\n",
    "    Ltotal.extend(L23)    \n",
    "    return(Ltotal) \n",
    "\n",
    "def Test_2(n, BinCapacity):\n",
    "    L27=[27 for i in range(6*n) ]\n",
    "    L21=[21 for i in range(6*n) ]\n",
    "    L17=[17 for i in range(6*n) ]\n",
    "    L13=[13 for i in range(12*n) ]\n",
    "    Ltotal=[]    \n",
    "    Ltotal.extend(L27)\n",
    "    Ltotal.extend(L21)\n",
    "    Ltotal.extend(L17)\n",
    "    Ltotal.extend(L13)   \n",
    "    return(Ltotal) \n",
    "\n",
    "def Test_3(n, BinCapacity):\n",
    "    L44=[44 for i in range(6*n) ]\n",
    "    L33=[33 for i in range(6*n) ]\n",
    "    L24=[24 for i in range(6*n) ]\n",
    "    L21=[21 for i in range(12*n) ]\n",
    "\n",
    "    Ltotal=[]    \n",
    "    Ltotal.extend(L44)\n",
    "    Ltotal.extend(L33)\n",
    "    Ltotal.extend(L24)\n",
    "    Ltotal.extend(L21)\n",
    "   \n",
    "    return(Ltotal) "
   ]
  },
  {
   "cell_type": "markdown",
   "metadata": {},
   "source": [
    "# My Advice \n",
    "# Check ## Average Cut Process  With\n",
    "## Interlacing S1 with itself(Reverse) \n",
    "## Interlacing S2 with istelf(Reverse)  With"
   ]
  },
  {
   "cell_type": "code",
   "execution_count": 794,
   "metadata": {
    "scrolled": false
   },
   "outputs": [
    {
     "name": "stdout",
     "output_type": "stream",
     "text": [
      "---------------------------------------------------------------------------------------------------- \n",
      "\n",
      "#User Cut Process\n",
      "\n",
      "---------------------------------------------------------------------------------------------------- \n",
      "\n",
      "#First Fit Then Best Fit\n",
      "[[51, 27], [51, 27], [51, 27], [51, 27], [51, 27], [51, 27], [51, 27], [51, 27], [51, 27], [51, 27], [51, 27], [51, 27], [51, 27], [51, 27], [51, 27], [51, 27], [51, 27], [51, 27], [51, 27], [51, 27]] ...... [[23, 23, 23, 23]]\n",
      "Optimal solution : 81  bins\n",
      "Solution : 99  bins, Spaces Left:  1800 \n",
      "\n",
      "#Worst Fit Then Best Fit\n",
      "[[51, 27], [51, 27], [51, 27], [51, 27], [51, 27], [51, 27], [51, 27], [51, 27], [51, 27], [51, 27], [51, 27], [51, 27], [51, 27], [51, 27], [51, 27], [51, 27], [51, 27], [51, 27], [51, 27], [51, 27]] ...... [[23, 23, 23, 23]]\n",
      "Optimal solution : 81  bins\n",
      "Solution : 99  bins, Spaces Left:  1800 \n",
      "\n",
      "#Next Fit Then Best Fit\n",
      "[[51], [51], [51], [51], [51], [51], [51], [51], [51], [51], [51], [51], [51], [51], [51], [51], [51], [51], [51], [51]] ...... [[51], [51], [51], [51], [51], [51], [51], [51], [51], [51], [51], [51], [51], [51], [51], [51], [51], [51], [51], [51], [51], [51], [51], [51], [51], [51], [51], [51], [51], [51], [51], [51], [51], [51], [51], [51], [51, 27], [27, 27, 27], [27, 27, 27], [27, 27, 27], [27, 27, 27], [27, 27, 27], [27, 27, 27], [27, 27, 27], [27, 27, 27], [27, 27, 27], [27, 27, 27], [27, 27, 27], [27, 27, 27], [27, 27, 27], [27, 27, 27], [27, 27, 27], [27, 27, 27], [27, 27, 27], [27, 27, 26], [26, 26, 26], [26, 26, 26], [26, 26, 26], [26, 26, 26], [26, 26, 26], [26, 26, 26], [26, 26, 26], [26, 26, 26], [26, 26, 26], [26, 26, 26], [26, 26, 26], [26, 26, 26], [26, 26, 26], [26, 26, 26], [26, 26, 26], [26, 26, 26], [26, 26, 26], [26, 26, 23, 23], [23, 23, 23, 23], [23, 23, 23, 23], [23, 23, 23, 23], [23, 23, 23, 23], [23, 23, 23, 23], [23, 23, 23, 23], [23, 23, 23, 23], [23, 23, 23, 23], [23, 23, 23, 23], [23, 23, 23, 23], [23, 23, 23, 23], [23, 23, 23, 23], [23, 23, 23, 23], [23, 23, 23, 23], [23, 23, 23, 23], [23, 23, 23, 23], [23, 23, 23, 23], [23, 23, 23, 23], [23, 23, 23, 23], [23, 23, 23, 23], [23, 23, 23, 23], [23, 23, 23, 23], [23, 23, 23, 23], [23, 23, 23, 23], [23, 23, 23, 23], [23, 23, 23, 23], [23, 23]]\n",
      "Optimal solution : 81  bins\n",
      "Solution : 117  bins, Spaces Left:  3600 \n",
      "\n",
      "---------------------------------------------------------------------------------------------------- \n",
      "\n",
      "#Average Cut Process\n",
      "\n",
      "---------------------------------------------------------------------------------------------------- \n",
      "\n",
      "#First Fit Then Best Fit\n",
      "[[51, 27], [51, 27], [51, 27], [51, 27], [51, 27], [51, 27], [51, 27], [51, 27], [51, 27], [51, 27], [51, 27], [51, 27], [51, 27], [51, 27], [51, 27], [51, 27], [51, 27], [51, 27], [51, 27], [51, 27]] ...... [[23, 23, 23, 23]]\n",
      "Optimal solution : 81  bins\n",
      "Solution : 99  bins, Spaces Left:  1800 \n",
      "\n",
      "#Worst Fit Then Best Fit\n",
      "[[51, 27], [51, 27], [51, 27], [51, 27], [51, 27], [51, 27], [51, 27], [51, 27], [51, 27], [51, 27], [51, 27], [51, 27], [51, 27], [51, 27], [51, 27], [51, 27], [51, 27], [51, 27], [51, 27], [51, 27]] ...... [[23, 23, 23, 23]]\n",
      "Optimal solution : 81  bins\n",
      "Solution : 99  bins, Spaces Left:  1800 \n",
      "\n",
      "#Next Fit Then Best Fit\n",
      "[[51, 27], [51, 27], [51, 27], [51, 27], [51, 27], [51, 27], [51, 27], [51, 27], [51, 27], [51, 27], [51, 27], [51, 27], [51, 27], [51, 27], [51, 27], [51, 27], [51, 27], [51, 27], [51, 27], [51, 27]] ...... [[23, 23, 23, 23]]\n",
      "Optimal solution : 81  bins\n",
      "Solution : 99  bins, Spaces Left:  1800 \n",
      "\n",
      "---------------------------------------------------------------------------------------------------- \n",
      "\n",
      "#Standard Deviation Cut Process\n",
      "\n",
      "---------------------------------------------------------------------------------------------------- \n",
      "\n",
      "#First Fit Then Best Fit\n",
      "[[51, 27], [51, 27], [51, 27], [51, 27], [51, 27], [51, 27], [51, 27], [51, 27], [51, 27], [51, 27], [51, 27], [51, 27], [51, 27], [51, 27], [51, 27], [51, 27], [51, 27], [51, 27], [51, 27], [51, 27]] ...... [[23, 23, 23, 23]]\n",
      "Optimal solution : 81  bins\n",
      "Solution : 99  bins, Spaces Left:  1800 \n",
      "\n",
      "#Worst Fit Then Best Fit\n",
      "[[51, 27], [51, 27], [51, 27], [51, 27], [51, 27], [51, 27], [51, 27], [51, 27], [51, 27], [51, 27], [51, 27], [51, 27], [51, 27], [51, 27], [51, 27], [51, 27], [51, 27], [51, 27], [51, 27], [51, 27]] ...... [[23, 23, 23, 23]]\n",
      "Optimal solution : 81  bins\n",
      "Solution : 99  bins, Spaces Left:  1800 \n",
      "\n",
      "#Next Fit Then Best Fit\n",
      "[[51, 27], [51, 27], [51, 27], [51, 27], [51, 27], [51, 27], [51, 27], [51, 27], [51, 27], [51, 27], [51, 27], [51, 27], [51, 27], [51, 27], [51, 27], [51, 27], [51, 27], [51, 27], [51, 27], [51, 27]] ...... [[23, 23, 23, 23]]\n",
      "Optimal solution : 81  bins\n",
      "Solution : 99  bins, Spaces Left:  1800 \n",
      "\n",
      "---------------------------------------------------------------------------------------------------- \n",
      "\n",
      "#Maximum Space Allowed Cut Process\n",
      "\n",
      "---------------------------------------------------------------------------------------------------- \n",
      "\n",
      "#First Fit Then Best Fit\n",
      "[[51, 27], [51, 27], [51, 27], [51, 27], [51, 27], [51, 27], [51, 27], [51, 27], [51, 27], [51, 27], [51, 27], [51, 27], [51, 27], [51, 27], [51, 27], [51, 27], [51, 27], [51, 27], [51, 27], [51, 27]] ...... [[23, 23, 23, 23]]\n",
      "Optimal solution : 81  bins\n",
      "Solution : 99  bins, Spaces Left:  1800 \n",
      "\n",
      "#Worst Fit Then Best Fit\n",
      "[[51, 27], [51, 27], [51, 27], [51, 27], [51, 27], [51, 27], [51, 27], [51, 27], [51, 27], [51, 27], [51, 27], [51, 27], [51, 27], [51, 27], [51, 27], [51, 27], [51, 27], [51, 27], [51, 27], [51, 27]] ...... [[23, 23, 23, 23]]\n",
      "Optimal solution : 81  bins\n",
      "Solution : 99  bins, Spaces Left:  1800 \n",
      "\n",
      "#Next Fit Then Best Fit\n",
      "[[51, 27], [51, 27], [51, 27], [51, 27], [51, 27], [51, 27], [51, 27], [51, 27], [51, 27], [51, 27], [51, 27], [51, 27], [51, 27], [51, 27], [51, 27], [51, 27], [51, 27], [51, 27], [51, 27], [51, 27]] ...... [[23, 23, 23, 23]]\n",
      "Optimal solution : 81  bins\n",
      "Solution : 99  bins, Spaces Left:  1800 \n",
      "\n",
      "************************************************************************************************************** \n",
      "\n",
      "---------------------------------------------------------------------------------------------------- \n",
      "\n",
      "#User Cut Process \n",
      "Interlacing S1 with itself(Reverse) \n",
      "Interlacing S2 with istelf(Reverse) \n",
      "\n",
      "---------------------------------------------------------------------------------------------------- \n",
      "\n",
      "lenght : S1:  270 , S2:  0 , S1+S2:  270 \n",
      "\n",
      "#First Fit Then Best Fit\n",
      "[[51, 23, 23], [51, 23, 23], [51, 23, 23], [51, 23, 23], [51, 23, 23], [51, 23, 23], [51, 23, 23], [51, 23, 23], [51, 23, 23], [51, 23, 23], [51, 23, 23], [51, 23, 23], [51, 23, 23], [51, 23, 23], [51, 23, 23], [51, 23, 23], [51, 23, 23], [51, 23, 23], [51, 23, 23], [51, 23, 23]] ...... [[26, 26, 26], [26, 26, 26], [26, 26, 26], [26, 26, 26], [26, 26, 26], [26, 26, 26], [26, 26, 26], [26, 26, 26], [26, 26, 26], [26, 26, 26]]\n",
      "Optimal solution : 81  bins\n",
      "Solution : 90  bins, Spaces Left:  900 \n",
      "\n",
      "#Worst Fit Then Best Fit\n",
      "[[51, 23, 26], [51, 23, 26], [51, 23, 26], [51, 23, 26], [51, 23, 26], [51, 23, 26], [51, 23, 26], [51, 23, 26], [51, 23, 26], [51, 23, 26], [51, 23, 26], [51, 23, 26], [51, 23, 26], [51, 23, 26], [51, 23, 26], [51, 23, 26], [51, 23, 26], [51, 23, 26], [51, 23, 26], [51, 23, 26]] ...... [[27, 23, 27], [26, 26, 26], [26, 26, 26], [26, 26, 26], [26, 26, 26], [26, 26, 26], [26, 26, 26], [26, 26, 26], [26, 26, 26], [26, 26, 26]]\n",
      "Optimal solution : 81  bins\n",
      "Solution : 90  bins, Spaces Left:  900 \n",
      "\n",
      "#Next Fit Then Best Fit\n",
      "[[51, 23], [51, 23], [51, 23], [51, 23], [51, 23], [51, 23], [51, 23], [51, 23], [51, 23], [51, 23], [51, 23], [51, 23], [51, 23], [51, 23], [51, 23], [51, 23], [51, 23], [51, 23], [51, 23], [51, 23]] ...... [[26, 26, 26]]\n",
      "Optimal solution : 81  bins\n",
      "Solution : 99  bins, Spaces Left:  1800 \n",
      "\n",
      "---------------------------------------------------------------------------------------------------- \n",
      "\n",
      "#Average Cut Process \n",
      "Interlacing S1 with itself(Reverse) \n",
      "Interlacing S2 with istelf(Reverse) \n",
      "\n",
      "---------------------------------------------------------------------------------------------------- \n",
      "\n",
      "lenght : S1:  54 , S2:  216 , S1+S2:  270 \n",
      "\n",
      "#First Fit Then Best Fit\n",
      "[[51, 26, 23], [51, 26, 23], [51, 26, 23], [51, 26, 23], [51, 26, 23], [51, 26, 23], [51, 26, 23], [51, 26, 23], [51, 26, 23], [51, 26, 23], [51, 26, 23], [51, 26, 23], [51, 26, 23], [51, 26, 23], [51, 26, 23], [51, 26, 23], [51, 26, 23], [51, 26, 23], [51, 26, 23], [51, 26, 23]] ...... [[27, 23, 27, 23], [27, 23, 27, 23], [27, 23, 27, 23], [27, 23, 27, 23], [27, 23, 27, 23], [27, 23, 27, 23], [27, 23, 27, 23], [27, 23, 27, 23], [27, 23, 27, 23], [27, 23, 27, 23], [27, 23, 27, 23], [27, 23, 27, 23], [27, 23, 27, 23], [27, 23, 27, 23], [27, 23, 27, 23], [27, 23, 27, 23], [27, 23, 27, 23], [27, 23, 27, 23], [27, 23, 27, 23]]\n",
      "Optimal solution : 81  bins\n",
      "Solution : 81  bins, Spaces Left:  0 \n",
      "\n",
      "#Worst Fit Then Best Fit\n",
      "[[51, 26, 23], [51, 26, 23], [51, 26, 23], [51, 26, 23], [51, 26, 23], [51, 26, 23], [51, 26, 23], [51, 26, 23], [51, 26, 23], [51, 26, 23], [51, 26, 23], [51, 26, 23], [51, 26, 23], [51, 26, 23], [51, 26, 23], [51, 26, 23], [51, 26, 23], [51, 26, 23], [51, 26, 23], [51, 26, 23]] ...... [[27, 23, 27, 23], [27, 23, 27, 23], [27, 23, 27, 23], [27, 23, 27, 23], [27, 23, 27, 23], [27, 23, 27, 23], [27, 23, 27, 23], [27, 23, 27, 23], [27, 23, 27, 23], [27, 23, 27, 23], [27, 23, 27, 23], [27, 23, 27, 23], [27, 23, 27, 23], [27, 23, 27, 23], [27, 23, 27, 23], [27, 23, 27, 23], [27, 23, 27, 23], [27, 23, 27, 23], [27, 23, 27, 23]]\n",
      "Optimal solution : 81  bins\n",
      "Solution : 81  bins, Spaces Left:  0 \n",
      "\n",
      "#Next Fit Then Best Fit\n",
      "[[51, 26, 23], [51, 26, 23], [51, 26, 23], [51, 26, 23], [51, 26, 23], [51, 26, 23], [51, 26, 23], [51, 26, 23], [51, 26, 23], [51, 26, 23], [51, 26, 23], [51, 26, 23], [51, 26, 23], [51, 26, 23], [51, 26, 23], [51, 26, 23], [51, 26, 23], [51, 26, 23], [51, 26, 23], [51, 26, 23]] ...... [[27, 23, 27, 23], [27, 23, 27, 23], [27, 23, 27, 23], [27, 23, 27, 23], [27, 23, 27, 23], [27, 23, 27, 23], [27, 23, 27, 23], [27, 23, 27, 23], [27, 23, 27, 23], [27, 23, 27, 23], [27, 23, 27, 23], [27, 23, 27, 23], [27, 23, 27, 23], [27, 23, 27, 23], [27, 23, 27, 23], [27, 23, 27, 23], [27, 23, 27, 23], [27, 23, 27, 23], [27, 23, 27, 23]]\n",
      "Optimal solution : 81  bins\n",
      "Solution : 81  bins, Spaces Left:  0 \n",
      "\n",
      "---------------------------------------------------------------------------------------------------- \n",
      "\n",
      "#Standard Deviation Cut Process \n",
      "Interlacing S1 with itself(Reverse) \n",
      "Interlacing S2 with istelf(Reverse) \n",
      "\n",
      "---------------------------------------------------------------------------------------------------- \n",
      "\n",
      "lenght : S1:  54 , S2:  216 , S1+S2:  270 \n",
      "\n",
      "#First Fit Then Best Fit\n",
      "[[51, 26, 23], [51, 26, 23], [51, 26, 23], [51, 26, 23], [51, 26, 23], [51, 26, 23], [51, 26, 23], [51, 26, 23], [51, 26, 23], [51, 26, 23], [51, 26, 23], [51, 26, 23], [51, 26, 23], [51, 26, 23], [51, 26, 23], [51, 26, 23], [51, 26, 23], [51, 26, 23], [51, 26, 23], [51, 26, 23]] ...... [[27, 23, 27, 23], [27, 23, 27, 23], [27, 23, 27, 23], [27, 23, 27, 23], [27, 23, 27, 23], [27, 23, 27, 23], [27, 23, 27, 23], [27, 23, 27, 23], [27, 23, 27, 23], [27, 23, 27, 23], [27, 23, 27, 23], [27, 23, 27, 23], [27, 23, 27, 23], [27, 23, 27, 23], [27, 23, 27, 23], [27, 23, 27, 23], [27, 23, 27, 23], [27, 23, 27, 23], [27, 23, 27, 23]]\n",
      "Optimal solution : 81  bins\n",
      "Solution : 81  bins, Spaces Left:  0 \n",
      "\n",
      "#Worst Fit Then Best Fit\n",
      "[[51, 26, 23], [51, 26, 23], [51, 26, 23], [51, 26, 23], [51, 26, 23], [51, 26, 23], [51, 26, 23], [51, 26, 23], [51, 26, 23], [51, 26, 23], [51, 26, 23], [51, 26, 23], [51, 26, 23], [51, 26, 23], [51, 26, 23], [51, 26, 23], [51, 26, 23], [51, 26, 23], [51, 26, 23], [51, 26, 23]] ...... [[27, 23, 27, 23], [27, 23, 27, 23], [27, 23, 27, 23], [27, 23, 27, 23], [27, 23, 27, 23], [27, 23, 27, 23], [27, 23, 27, 23], [27, 23, 27, 23], [27, 23, 27, 23], [27, 23, 27, 23], [27, 23, 27, 23], [27, 23, 27, 23], [27, 23, 27, 23], [27, 23, 27, 23], [27, 23, 27, 23], [27, 23, 27, 23], [27, 23, 27, 23], [27, 23, 27, 23], [27, 23, 27, 23]]\n",
      "Optimal solution : 81  bins\n",
      "Solution : 81  bins, Spaces Left:  0 \n",
      "\n",
      "#Next Fit Then Best Fit\n",
      "[[51, 26, 23], [51, 26, 23], [51, 26, 23], [51, 26, 23], [51, 26, 23], [51, 26, 23], [51, 26, 23], [51, 26, 23], [51, 26, 23], [51, 26, 23], [51, 26, 23], [51, 26, 23], [51, 26, 23], [51, 26, 23], [51, 26, 23], [51, 26, 23], [51, 26, 23], [51, 26, 23], [51, 26, 23], [51, 26, 23]] ...... [[27, 23, 27, 23], [27, 23, 27, 23], [27, 23, 27, 23], [27, 23, 27, 23], [27, 23, 27, 23], [27, 23, 27, 23], [27, 23, 27, 23], [27, 23, 27, 23], [27, 23, 27, 23], [27, 23, 27, 23], [27, 23, 27, 23], [27, 23, 27, 23], [27, 23, 27, 23], [27, 23, 27, 23], [27, 23, 27, 23], [27, 23, 27, 23], [27, 23, 27, 23], [27, 23, 27, 23], [27, 23, 27, 23]]\n",
      "Optimal solution : 81  bins\n",
      "Solution : 81  bins, Spaces Left:  0 \n",
      "\n",
      "---------------------------------------------------------------------------------------------------- \n",
      "\n",
      "#Maximum Space Allowed Cut Process \n",
      " Interlacing S1 with itself(Reverse) \n",
      "Interlacing S2 with istelf(Reverse) \n",
      "\n",
      "---------------------------------------------------------------------------------------------------- \n",
      "\n",
      "lenght : S1:  54 , S2:  216 , S1+S2:  270 \n",
      "\n",
      "#First Fit Then Best Fit\n",
      "[[51, 26, 23], [51, 26, 23], [51, 26, 23], [51, 26, 23], [51, 26, 23], [51, 26, 23], [51, 26, 23], [51, 26, 23], [51, 26, 23], [51, 26, 23], [51, 26, 23], [51, 26, 23], [51, 26, 23], [51, 26, 23], [51, 26, 23], [51, 26, 23], [51, 26, 23], [51, 26, 23], [51, 26, 23], [51, 26, 23]] ...... [[27, 23, 27, 23], [27, 23, 27, 23], [27, 23, 27, 23], [27, 23, 27, 23], [27, 23, 27, 23], [27, 23, 27, 23], [27, 23, 27, 23], [27, 23, 27, 23], [27, 23, 27, 23], [27, 23, 27, 23], [27, 23, 27, 23], [27, 23, 27, 23], [27, 23, 27, 23], [27, 23, 27, 23], [27, 23, 27, 23], [27, 23, 27, 23], [27, 23, 27, 23], [27, 23, 27, 23], [27, 23, 27, 23]]\n",
      "Optimal solution : 81  bins\n",
      "Solution : 81  bins, Spaces Left:  0 \n",
      "\n",
      "#Worst Fit Then Best Fit\n",
      "[[51, 26, 23], [51, 26, 23], [51, 26, 23], [51, 26, 23], [51, 26, 23], [51, 26, 23], [51, 26, 23], [51, 26, 23], [51, 26, 23], [51, 26, 23], [51, 26, 23], [51, 26, 23], [51, 26, 23], [51, 26, 23], [51, 26, 23], [51, 26, 23], [51, 26, 23], [51, 26, 23], [51, 26, 23], [51, 26, 23]] ...... [[27, 23, 27, 23], [27, 23, 27, 23], [27, 23, 27, 23], [27, 23, 27, 23], [27, 23, 27, 23], [27, 23, 27, 23], [27, 23, 27, 23], [27, 23, 27, 23], [27, 23, 27, 23], [27, 23, 27, 23], [27, 23, 27, 23], [27, 23, 27, 23], [27, 23, 27, 23], [27, 23, 27, 23], [27, 23, 27, 23], [27, 23, 27, 23], [27, 23, 27, 23], [27, 23, 27, 23], [27, 23, 27, 23]]\n",
      "Optimal solution : 81  bins\n",
      "Solution : 81  bins, Spaces Left:  0 \n",
      "\n",
      "#Next Fit Then Best Fit\n",
      "[[51, 26, 23], [51, 26, 23], [51, 26, 23], [51, 26, 23], [51, 26, 23], [51, 26, 23], [51, 26, 23], [51, 26, 23], [51, 26, 23], [51, 26, 23], [51, 26, 23], [51, 26, 23], [51, 26, 23], [51, 26, 23], [51, 26, 23], [51, 26, 23], [51, 26, 23], [51, 26, 23], [51, 26, 23], [51, 26, 23]] ...... [[27, 23, 27, 23], [27, 23, 27, 23], [27, 23, 27, 23], [27, 23, 27, 23], [27, 23, 27, 23], [27, 23, 27, 23], [27, 23, 27, 23], [27, 23, 27, 23], [27, 23, 27, 23], [27, 23, 27, 23], [27, 23, 27, 23], [27, 23, 27, 23], [27, 23, 27, 23], [27, 23, 27, 23], [27, 23, 27, 23], [27, 23, 27, 23], [27, 23, 27, 23], [27, 23, 27, 23], [27, 23, 27, 23]]\n",
      "Optimal solution : 81  bins\n",
      "Solution : 81  bins, Spaces Left:  0 \n",
      "\n"
     ]
    }
   ],
   "source": [
    "Ltotal=Test_1(n=9,BinCapacity=100)\n",
    "List_items = Ltotal\n",
    "BinCapacity= 100\n",
    "Generate_tests(List_items,BinCapacity)"
   ]
  },
  {
   "cell_type": "code",
   "execution_count": 795,
   "metadata": {
    "scrolled": false
   },
   "outputs": [
    {
     "name": "stdout",
     "output_type": "stream",
     "text": [
      "---------------------------------------------------------------------------------------------------- \n",
      "\n",
      "#User Cut Process\n",
      "\n",
      "---------------------------------------------------------------------------------------------------- \n",
      "\n",
      "#First Fit Then Best Fit\n",
      "[[27, 27, 27, 17], [27, 27, 27, 17], [27, 27, 27, 17], [27, 27, 27, 17], [27, 27, 27, 17], [27, 27, 27, 17], [27, 27, 27, 17], [27, 27, 27, 17], [27, 27, 27, 17], [27, 27, 27, 17], [27, 27, 27, 17], [27, 27, 27, 17], [27, 27, 27, 17], [27, 27, 27, 17], [27, 27, 27, 17], [27, 27, 27, 17], [27, 27, 27, 17], [27, 27, 27, 17], [21, 21, 21, 21, 13], [21, 21, 21, 21, 13]] ...... [[27, 27, 27, 17], [27, 27, 27, 17], [27, 27, 27, 17], [27, 27, 27, 17], [27, 27, 27, 17], [27, 27, 27, 17], [27, 27, 27, 17], [27, 27, 27, 17], [27, 27, 27, 17], [27, 27, 27, 17], [27, 27, 27, 17], [27, 27, 27, 17], [27, 27, 27, 17], [27, 27, 27, 17], [21, 21, 21, 21, 13], [21, 21, 21, 21, 13], [21, 21, 21, 21, 13], [21, 21, 21, 21, 13], [21, 21, 21, 21, 13], [21, 21, 21, 21, 13], [21, 21, 21, 21, 13], [21, 21, 21, 21, 13], [21, 21, 21, 21, 13], [21, 21, 21, 21, 13], [21, 21, 21, 21, 13], [21, 21, 21, 21, 13], [21, 21, 21, 21, 13], [21, 21, 17, 17, 17], [17, 17, 17, 17, 17, 13], [17, 17, 17, 17, 17, 13], [17, 17, 17, 17, 17, 13], [17, 17, 17, 17, 17, 13], [17, 17, 17, 17, 17, 13], [17, 17, 17, 17, 17, 13], [17, 17, 17, 13, 13, 13], [13, 13, 13, 13, 13, 13, 13], [13, 13, 13, 13, 13, 13, 13], [13, 13, 13, 13, 13, 13, 13], [13, 13, 13, 13, 13, 13, 13], [13, 13, 13, 13, 13, 13, 13], [13, 13, 13, 13, 13, 13, 13], [13, 13, 13, 13, 13, 13, 13], [13, 13, 13, 13, 13, 13, 13], [13, 13, 13, 13, 13, 13, 13], [13, 13, 13, 13, 13, 13, 13], [13, 13, 13, 13, 13, 13, 13], [13, 13, 13, 13, 13, 13, 13], [13, 13]]\n",
      "Optimal solution : 50  bins\n",
      "Solution : 52  bins, Spaces Left:  286 \n",
      "\n",
      "#Worst Fit Then Best Fit\n",
      "[[27, 27, 27, 17], [27, 27, 27, 17], [27, 27, 27, 17], [27, 27, 27, 17], [27, 27, 27, 17], [27, 27, 27, 17], [27, 27, 27, 17], [27, 27, 27, 17], [27, 27, 27, 17], [27, 27, 27, 17], [27, 27, 27, 17], [27, 27, 27, 17], [27, 27, 27, 17], [27, 27, 27, 17], [27, 27, 27, 17], [27, 27, 27, 17], [27, 27, 27, 17], [27, 27, 27, 17], [21, 21, 21, 21, 13], [21, 21, 21, 21, 13]] ...... [[27, 27, 27, 17], [27, 27, 27, 17], [27, 27, 27, 17], [27, 27, 27, 17], [27, 27, 27, 17], [27, 27, 27, 17], [27, 27, 27, 17], [27, 27, 27, 17], [27, 27, 27, 17], [27, 27, 27, 17], [27, 27, 27, 17], [27, 27, 27, 17], [27, 27, 27, 17], [27, 27, 27, 17], [21, 21, 21, 21, 13], [21, 21, 21, 21, 13], [21, 21, 21, 21, 13], [21, 21, 21, 21, 13], [21, 21, 21, 21, 13], [21, 21, 21, 21, 13], [21, 21, 21, 21, 13], [21, 21, 21, 21, 13], [21, 21, 21, 21, 13], [21, 21, 21, 21, 13], [21, 21, 21, 21, 13], [21, 21, 21, 21, 13], [21, 21, 21, 21, 13], [21, 21, 17, 17, 17], [17, 17, 17, 17, 17, 13], [17, 17, 17, 17, 17, 13], [17, 17, 17, 17, 17, 13], [17, 17, 17, 17, 17, 13], [17, 17, 17, 17, 17, 13], [17, 17, 17, 17, 17, 13], [17, 17, 17, 13, 13, 13], [13, 13, 13, 13, 13, 13, 13], [13, 13, 13, 13, 13, 13, 13], [13, 13, 13, 13, 13, 13, 13], [13, 13, 13, 13, 13, 13, 13], [13, 13, 13, 13, 13, 13, 13], [13, 13, 13, 13, 13, 13, 13], [13, 13, 13, 13, 13, 13, 13], [13, 13, 13, 13, 13, 13, 13], [13, 13, 13, 13, 13, 13, 13], [13, 13, 13, 13, 13, 13, 13], [13, 13, 13, 13, 13, 13, 13], [13, 13, 13, 13, 13, 13, 13], [13, 13]]\n",
      "Optimal solution : 50  bins\n",
      "Solution : 52  bins, Spaces Left:  286 \n",
      "\n",
      "#Next Fit Then Best Fit\n",
      "[[27, 27, 27], [27, 27, 27], [27, 27, 27], [27, 27, 27], [27, 27, 27], [27, 27, 27], [27, 27, 27], [27, 27, 27], [27, 27, 27], [27, 27, 27], [27, 27, 27], [27, 27, 27], [27, 27, 27], [27, 27, 27], [27, 27, 27], [27, 27, 27], [27, 27, 27], [27, 27, 27], [21, 21, 21, 21], [21, 21, 21, 21]] ...... [[27, 27, 27], [27, 27, 27], [21, 21, 21, 21], [21, 21, 21, 21], [21, 21, 21, 21], [21, 21, 21, 21], [21, 21, 21, 21], [21, 21, 21, 21], [21, 21, 21, 21], [21, 21, 21, 21], [21, 21, 21, 21], [21, 21, 21, 21], [21, 21, 21, 21], [21, 21, 21, 21], [21, 21, 21, 21], [21, 21, 17, 17, 17], [17, 17, 17, 17, 17], [17, 17, 17, 17, 17], [17, 17, 17, 17, 17], [17, 17, 17, 17, 17], [17, 17, 17, 17, 17], [17, 17, 17, 17, 17], [17, 17, 17, 17, 17], [17, 17, 17, 17, 17], [17, 17, 17, 17, 17], [17, 17, 17, 17, 17], [17, 13, 13, 13, 13, 13, 13], [13, 13, 13, 13, 13, 13, 13], [13, 13, 13, 13, 13, 13, 13], [13, 13, 13, 13, 13, 13, 13], [13, 13, 13, 13, 13, 13, 13], [13, 13, 13, 13, 13, 13, 13], [13, 13, 13, 13, 13, 13, 13], [13, 13, 13, 13, 13, 13, 13], [13, 13, 13, 13, 13, 13, 13], [13, 13, 13, 13, 13, 13, 13], [13, 13, 13, 13, 13, 13, 13], [13, 13, 13, 13, 13, 13, 13], [13, 13, 13, 13, 13, 13, 13], [13, 13, 13, 13, 13, 13, 13], [13, 13, 13, 13, 13, 13, 13], [13, 13, 13, 13]]\n",
      "Optimal solution : 50  bins\n",
      "Solution : 58  bins, Spaces Left:  886 \n",
      "\n",
      "---------------------------------------------------------------------------------------------------- \n",
      "\n",
      "#Average Cut Process\n",
      "\n",
      "---------------------------------------------------------------------------------------------------- \n",
      "\n",
      "#First Fit Then Best Fit\n",
      "[[27, 27, 27, 17], [27, 27, 27, 17], [27, 27, 27, 17], [27, 27, 27, 17], [27, 27, 27, 17], [27, 27, 27, 17], [27, 27, 27, 17], [27, 27, 27, 17], [27, 27, 27, 17], [27, 27, 27, 17], [27, 27, 27, 17], [27, 27, 27, 17], [27, 27, 27, 17], [27, 27, 27, 17], [27, 27, 27, 17], [27, 27, 27, 17], [27, 27, 27, 17], [27, 27, 27, 17], [21, 21, 21, 21, 13], [21, 21, 21, 21, 13]] ...... [[27, 27, 27, 17], [27, 27, 27, 17], [27, 27, 27, 17], [27, 27, 27, 17], [27, 27, 27, 17], [27, 27, 27, 17], [27, 27, 27, 17], [27, 27, 27, 17], [27, 27, 27, 17], [27, 27, 27, 17], [27, 27, 27, 17], [27, 27, 27, 17], [27, 27, 27, 17], [27, 27, 27, 17], [21, 21, 21, 21, 13], [21, 21, 21, 21, 13], [21, 21, 21, 21, 13], [21, 21, 21, 21, 13], [21, 21, 21, 21, 13], [21, 21, 21, 21, 13], [21, 21, 21, 21, 13], [21, 21, 21, 21, 13], [21, 21, 21, 21, 13], [21, 21, 21, 21, 13], [21, 21, 21, 21, 13], [21, 21, 21, 21, 13], [21, 21, 21, 21, 13], [21, 21, 17, 17, 17], [17, 17, 17, 17, 17, 13], [17, 17, 17, 17, 17, 13], [17, 17, 17, 17, 17, 13], [17, 17, 17, 17, 17, 13], [17, 17, 17, 17, 17, 13], [17, 17, 17, 17, 17, 13], [17, 17, 17, 13, 13, 13], [13, 13, 13, 13, 13, 13, 13], [13, 13, 13, 13, 13, 13, 13], [13, 13, 13, 13, 13, 13, 13], [13, 13, 13, 13, 13, 13, 13], [13, 13, 13, 13, 13, 13, 13], [13, 13, 13, 13, 13, 13, 13], [13, 13, 13, 13, 13, 13, 13], [13, 13, 13, 13, 13, 13, 13], [13, 13, 13, 13, 13, 13, 13], [13, 13, 13, 13, 13, 13, 13], [13, 13, 13, 13, 13, 13, 13], [13, 13, 13, 13, 13, 13, 13], [13, 13]]\n",
      "Optimal solution : 50  bins\n",
      "Solution : 52  bins, Spaces Left:  286 \n",
      "\n",
      "#Worst Fit Then Best Fit\n",
      "[[27, 27, 27, 17], [27, 27, 27, 17], [27, 27, 27, 17], [27, 27, 27, 17], [27, 27, 27, 17], [27, 27, 27, 17], [27, 27, 27, 17], [27, 27, 27, 17], [27, 27, 27, 17], [27, 27, 27, 17], [27, 27, 27, 17], [27, 27, 27, 17], [27, 27, 27, 17], [27, 27, 27, 17], [27, 27, 27, 17], [27, 27, 27, 17], [27, 27, 27, 17], [27, 27, 27, 17], [21, 21, 21, 21, 13], [21, 21, 21, 21, 13]] ...... [[27, 27, 27, 17], [27, 27, 27, 17], [27, 27, 27, 17], [27, 27, 27, 17], [27, 27, 27, 17], [27, 27, 27, 17], [27, 27, 27, 17], [27, 27, 27, 17], [27, 27, 27, 17], [27, 27, 27, 17], [27, 27, 27, 17], [27, 27, 27, 17], [27, 27, 27, 17], [27, 27, 27, 17], [21, 21, 21, 21, 13], [21, 21, 21, 21, 13], [21, 21, 21, 21, 13], [21, 21, 21, 21, 13], [21, 21, 21, 21, 13], [21, 21, 21, 21, 13], [21, 21, 21, 21, 13], [21, 21, 21, 21, 13], [21, 21, 21, 21, 13], [21, 21, 21, 21, 13], [21, 21, 21, 21, 13], [21, 21, 21, 21, 13], [21, 21, 21, 21, 13], [21, 21, 17, 17, 17], [17, 17, 17, 17, 17, 13], [17, 17, 17, 17, 17, 13], [17, 17, 17, 17, 17, 13], [17, 17, 17, 17, 17, 13], [17, 17, 17, 17, 17, 13], [17, 17, 17, 17, 17, 13], [17, 17, 17, 13, 13, 13], [13, 13, 13, 13, 13, 13, 13], [13, 13, 13, 13, 13, 13, 13], [13, 13, 13, 13, 13, 13, 13], [13, 13, 13, 13, 13, 13, 13], [13, 13, 13, 13, 13, 13, 13], [13, 13, 13, 13, 13, 13, 13], [13, 13, 13, 13, 13, 13, 13], [13, 13, 13, 13, 13, 13, 13], [13, 13, 13, 13, 13, 13, 13], [13, 13, 13, 13, 13, 13, 13], [13, 13, 13, 13, 13, 13, 13], [13, 13, 13, 13, 13, 13, 13], [13, 13]]\n",
      "Optimal solution : 50  bins\n",
      "Solution : 52  bins, Spaces Left:  286 \n",
      "\n",
      "#Next Fit Then Best Fit\n",
      "[[27, 27, 27, 17], [27, 27, 27, 17], [27, 27, 27, 17], [27, 27, 27, 17], [27, 27, 27, 17], [27, 27, 27, 17], [27, 27, 27, 17], [27, 27, 27, 17], [27, 27, 27, 17], [27, 27, 27, 17], [27, 27, 27, 17], [27, 27, 27, 17], [27, 27, 27, 17], [27, 27, 27, 17], [27, 27, 27, 17], [27, 27, 27, 17], [27, 27, 27, 17], [27, 27, 27, 17], [21, 21, 21, 21, 13], [21, 21, 21, 21, 13]] ...... [[27, 27, 27, 17], [27, 27, 27, 17], [27, 27, 27, 17], [27, 27, 27, 17], [27, 27, 27, 17], [27, 27, 27, 17], [27, 27, 27, 17], [27, 27, 27, 17], [27, 27, 27, 17], [27, 27, 27, 17], [27, 27, 27, 17], [27, 27, 27, 17], [27, 27, 27, 17], [27, 27, 27, 17], [21, 21, 21, 21, 13], [21, 21, 21, 21, 13], [21, 21, 21, 21, 13], [21, 21, 21, 21, 13], [21, 21, 21, 21, 13], [21, 21, 21, 21, 13], [21, 21, 21, 21, 13], [21, 21, 21, 21, 13], [21, 21, 21, 21, 13], [21, 21, 21, 21, 13], [21, 21, 21, 21, 13], [21, 21, 21, 21, 13], [21, 21, 21, 21, 13], [21, 21, 17, 17, 17], [17, 17, 17, 17, 17, 13], [17, 17, 17, 17, 17, 13], [17, 17, 17, 17, 17, 13], [17, 17, 17, 17, 17, 13], [17, 17, 17, 17, 17, 13], [17, 17, 17, 17, 17, 13], [17, 17, 17, 13, 13, 13], [13, 13, 13, 13, 13, 13, 13], [13, 13, 13, 13, 13, 13, 13], [13, 13, 13, 13, 13, 13, 13], [13, 13, 13, 13, 13, 13, 13], [13, 13, 13, 13, 13, 13, 13], [13, 13, 13, 13, 13, 13, 13], [13, 13, 13, 13, 13, 13, 13], [13, 13, 13, 13, 13, 13, 13], [13, 13, 13, 13, 13, 13, 13], [13, 13, 13, 13, 13, 13, 13], [13, 13, 13, 13, 13, 13, 13], [13, 13, 13, 13, 13, 13, 13], [13, 13]]\n",
      "Optimal solution : 50  bins\n",
      "Solution : 52  bins, Spaces Left:  286 \n",
      "\n",
      "---------------------------------------------------------------------------------------------------- \n",
      "\n",
      "#Standard Deviation Cut Process\n",
      "\n",
      "---------------------------------------------------------------------------------------------------- \n",
      "\n",
      "#First Fit Then Best Fit\n",
      "[[27, 27, 27, 17], [27, 27, 27, 17], [27, 27, 27, 17], [27, 27, 27, 17], [27, 27, 27, 17], [27, 27, 27, 17], [27, 27, 27, 17], [27, 27, 27, 17], [27, 27, 27, 17], [27, 27, 27, 17], [27, 27, 27, 17], [27, 27, 27, 17], [27, 27, 27, 17], [27, 27, 27, 17], [27, 27, 27, 17], [27, 27, 27, 17], [27, 27, 27, 17], [27, 27, 27, 17], [21, 21, 21, 21, 13], [21, 21, 21, 21, 13]] ...... [[27, 27, 27, 17], [27, 27, 27, 17], [27, 27, 27, 17], [27, 27, 27, 17], [27, 27, 27, 17], [27, 27, 27, 17], [27, 27, 27, 17], [27, 27, 27, 17], [27, 27, 27, 17], [27, 27, 27, 17], [27, 27, 27, 17], [27, 27, 27, 17], [27, 27, 27, 17], [27, 27, 27, 17], [21, 21, 21, 21, 13], [21, 21, 21, 21, 13], [21, 21, 21, 21, 13], [21, 21, 21, 21, 13], [21, 21, 21, 21, 13], [21, 21, 21, 21, 13], [21, 21, 21, 21, 13], [21, 21, 21, 21, 13], [21, 21, 21, 21, 13], [21, 21, 21, 21, 13], [21, 21, 21, 21, 13], [21, 21, 21, 21, 13], [21, 21, 21, 21, 13], [21, 21, 17, 17, 17], [17, 17, 17, 17, 17, 13], [17, 17, 17, 17, 17, 13], [17, 17, 17, 17, 17, 13], [17, 17, 17, 17, 17, 13], [17, 17, 17, 17, 17, 13], [17, 17, 17, 17, 17, 13], [17, 17, 17, 13, 13, 13], [13, 13, 13, 13, 13, 13, 13], [13, 13, 13, 13, 13, 13, 13], [13, 13, 13, 13, 13, 13, 13], [13, 13, 13, 13, 13, 13, 13], [13, 13, 13, 13, 13, 13, 13], [13, 13, 13, 13, 13, 13, 13], [13, 13, 13, 13, 13, 13, 13], [13, 13, 13, 13, 13, 13, 13], [13, 13, 13, 13, 13, 13, 13], [13, 13, 13, 13, 13, 13, 13], [13, 13, 13, 13, 13, 13, 13], [13, 13, 13, 13, 13, 13, 13], [13, 13]]\n",
      "Optimal solution : 50  bins\n",
      "Solution : 52  bins, Spaces Left:  286 \n",
      "\n",
      "#Worst Fit Then Best Fit\n",
      "[[27, 27, 27, 17], [27, 27, 27, 17], [27, 27, 27, 17], [27, 27, 27, 17], [27, 27, 27, 17], [27, 27, 27, 17], [27, 27, 27, 17], [27, 27, 27, 17], [27, 27, 27, 17], [27, 27, 27, 17], [27, 27, 27, 17], [27, 27, 27, 17], [27, 27, 27, 17], [27, 27, 27, 17], [27, 27, 27, 17], [27, 27, 27, 17], [27, 27, 27, 17], [27, 27, 27, 17], [21, 21, 21, 21, 13], [21, 21, 21, 21, 13]] ...... [[27, 27, 27, 17], [27, 27, 27, 17], [27, 27, 27, 17], [27, 27, 27, 17], [27, 27, 27, 17], [27, 27, 27, 17], [27, 27, 27, 17], [27, 27, 27, 17], [27, 27, 27, 17], [27, 27, 27, 17], [27, 27, 27, 17], [27, 27, 27, 17], [27, 27, 27, 17], [27, 27, 27, 17], [21, 21, 21, 21, 13], [21, 21, 21, 21, 13], [21, 21, 21, 21, 13], [21, 21, 21, 21, 13], [21, 21, 21, 21, 13], [21, 21, 21, 21, 13], [21, 21, 21, 21, 13], [21, 21, 21, 21, 13], [21, 21, 21, 21, 13], [21, 21, 21, 21, 13], [21, 21, 21, 21, 13], [21, 21, 21, 21, 13], [21, 21, 21, 21, 13], [21, 21, 17, 17, 17], [17, 17, 17, 17, 17, 13], [17, 17, 17, 17, 17, 13], [17, 17, 17, 17, 17, 13], [17, 17, 17, 17, 17, 13], [17, 17, 17, 17, 17, 13], [17, 17, 17, 17, 17, 13], [17, 17, 17, 13, 13, 13], [13, 13, 13, 13, 13, 13, 13], [13, 13, 13, 13, 13, 13, 13], [13, 13, 13, 13, 13, 13, 13], [13, 13, 13, 13, 13, 13, 13], [13, 13, 13, 13, 13, 13, 13], [13, 13, 13, 13, 13, 13, 13], [13, 13, 13, 13, 13, 13, 13], [13, 13, 13, 13, 13, 13, 13], [13, 13, 13, 13, 13, 13, 13], [13, 13, 13, 13, 13, 13, 13], [13, 13, 13, 13, 13, 13, 13], [13, 13, 13, 13, 13, 13, 13], [13, 13]]\n",
      "Optimal solution : 50  bins\n",
      "Solution : 52  bins, Spaces Left:  286 \n",
      "\n",
      "#Next Fit Then Best Fit\n",
      "[[27, 27, 27, 17], [27, 27, 27, 17], [27, 27, 27, 17], [27, 27, 27, 17], [27, 27, 27, 17], [27, 27, 27, 17], [27, 27, 27, 17], [27, 27, 27, 17], [27, 27, 27, 17], [27, 27, 27, 17], [27, 27, 27, 17], [27, 27, 27, 17], [27, 27, 27, 17], [27, 27, 27, 17], [27, 27, 27, 17], [27, 27, 27, 17], [27, 27, 27, 17], [27, 27, 27, 17], [21, 21, 21, 21, 13], [21, 21, 21, 21, 13]] ...... [[27, 27, 27, 17], [27, 27, 27, 17], [27, 27, 27, 17], [27, 27, 27, 17], [27, 27, 27, 17], [27, 27, 27, 17], [27, 27, 27, 17], [27, 27, 27, 17], [27, 27, 27, 17], [27, 27, 27, 17], [27, 27, 27, 17], [27, 27, 27, 17], [27, 27, 27, 17], [27, 27, 27, 17], [21, 21, 21, 21, 13], [21, 21, 21, 21, 13], [21, 21, 21, 21, 13], [21, 21, 21, 21, 13], [21, 21, 21, 21, 13], [21, 21, 21, 21, 13], [21, 21, 21, 21, 13], [21, 21, 21, 21, 13], [21, 21, 21, 21, 13], [21, 21, 21, 21, 13], [21, 21, 21, 21, 13], [21, 21, 21, 21, 13], [21, 21, 21, 21, 13], [21, 21, 17, 17, 17], [17, 17, 17, 17, 17, 13], [17, 17, 17, 17, 17, 13], [17, 17, 17, 17, 17, 13], [17, 17, 17, 17, 17, 13], [17, 17, 17, 17, 17, 13], [17, 17, 17, 17, 17, 13], [17, 17, 17, 13, 13, 13], [13, 13, 13, 13, 13, 13, 13], [13, 13, 13, 13, 13, 13, 13], [13, 13, 13, 13, 13, 13, 13], [13, 13, 13, 13, 13, 13, 13], [13, 13, 13, 13, 13, 13, 13], [13, 13, 13, 13, 13, 13, 13], [13, 13, 13, 13, 13, 13, 13], [13, 13, 13, 13, 13, 13, 13], [13, 13, 13, 13, 13, 13, 13], [13, 13, 13, 13, 13, 13, 13], [13, 13, 13, 13, 13, 13, 13], [13, 13, 13, 13, 13, 13, 13], [13, 13]]\n",
      "Optimal solution : 50  bins\n",
      "Solution : 52  bins, Spaces Left:  286 \n",
      "\n",
      "---------------------------------------------------------------------------------------------------- \n",
      "\n",
      "#Maximum Space Allowed Cut Process\n",
      "\n",
      "---------------------------------------------------------------------------------------------------- \n",
      "\n",
      "#First Fit Then Best Fit\n",
      "[[27, 27, 27, 17], [27, 27, 27, 17], [27, 27, 27, 17], [27, 27, 27, 17], [27, 27, 27, 17], [27, 27, 27, 17], [27, 27, 27, 17], [27, 27, 27, 17], [27, 27, 27, 17], [27, 27, 27, 17], [27, 27, 27, 17], [27, 27, 27, 17], [27, 27, 27, 17], [27, 27, 27, 17], [27, 27, 27, 17], [27, 27, 27, 17], [27, 27, 27, 17], [27, 27, 27, 17], [21, 21, 21, 21, 13], [21, 21, 21, 21, 13]] ...... [[27, 27, 27, 17], [27, 27, 27, 17], [27, 27, 27, 17], [27, 27, 27, 17], [27, 27, 27, 17], [27, 27, 27, 17], [27, 27, 27, 17], [27, 27, 27, 17], [27, 27, 27, 17], [27, 27, 27, 17], [27, 27, 27, 17], [27, 27, 27, 17], [27, 27, 27, 17], [27, 27, 27, 17], [21, 21, 21, 21, 13], [21, 21, 21, 21, 13], [21, 21, 21, 21, 13], [21, 21, 21, 21, 13], [21, 21, 21, 21, 13], [21, 21, 21, 21, 13], [21, 21, 21, 21, 13], [21, 21, 21, 21, 13], [21, 21, 21, 21, 13], [21, 21, 21, 21, 13], [21, 21, 21, 21, 13], [21, 21, 21, 21, 13], [21, 21, 21, 21, 13], [21, 21, 17, 17, 17], [17, 17, 17, 17, 17, 13], [17, 17, 17, 17, 17, 13], [17, 17, 17, 17, 17, 13], [17, 17, 17, 17, 17, 13], [17, 17, 17, 17, 17, 13], [17, 17, 17, 17, 17, 13], [17, 17, 17, 13, 13, 13], [13, 13, 13, 13, 13, 13, 13], [13, 13, 13, 13, 13, 13, 13], [13, 13, 13, 13, 13, 13, 13], [13, 13, 13, 13, 13, 13, 13], [13, 13, 13, 13, 13, 13, 13], [13, 13, 13, 13, 13, 13, 13], [13, 13, 13, 13, 13, 13, 13], [13, 13, 13, 13, 13, 13, 13], [13, 13, 13, 13, 13, 13, 13], [13, 13, 13, 13, 13, 13, 13], [13, 13, 13, 13, 13, 13, 13], [13, 13, 13, 13, 13, 13, 13], [13, 13]]\n",
      "Optimal solution : 50  bins\n",
      "Solution : 52  bins, Spaces Left:  286 \n",
      "\n",
      "#Worst Fit Then Best Fit\n",
      "[[27, 27, 27, 17], [27, 27, 27, 17], [27, 27, 27, 17], [27, 27, 27, 17], [27, 27, 27, 17], [27, 27, 27, 17], [27, 27, 27, 17], [27, 27, 27, 17], [27, 27, 27, 17], [27, 27, 27, 17], [27, 27, 27, 17], [27, 27, 27, 17], [27, 27, 27, 17], [27, 27, 27, 17], [27, 27, 27, 17], [27, 27, 27, 17], [27, 27, 27, 17], [27, 27, 27, 17], [21, 21, 21, 21, 13], [21, 21, 21, 21, 13]] ...... [[27, 27, 27, 17], [27, 27, 27, 17], [27, 27, 27, 17], [27, 27, 27, 17], [27, 27, 27, 17], [27, 27, 27, 17], [27, 27, 27, 17], [27, 27, 27, 17], [27, 27, 27, 17], [27, 27, 27, 17], [27, 27, 27, 17], [27, 27, 27, 17], [27, 27, 27, 17], [27, 27, 27, 17], [21, 21, 21, 21, 13], [21, 21, 21, 21, 13], [21, 21, 21, 21, 13], [21, 21, 21, 21, 13], [21, 21, 21, 21, 13], [21, 21, 21, 21, 13], [21, 21, 21, 21, 13], [21, 21, 21, 21, 13], [21, 21, 21, 21, 13], [21, 21, 21, 21, 13], [21, 21, 21, 21, 13], [21, 21, 21, 21, 13], [21, 21, 21, 21, 13], [21, 21, 17, 17, 17], [17, 17, 17, 17, 17, 13], [17, 17, 17, 17, 17, 13], [17, 17, 17, 17, 17, 13], [17, 17, 17, 17, 17, 13], [17, 17, 17, 17, 17, 13], [17, 17, 17, 17, 17, 13], [17, 17, 17, 13, 13, 13], [13, 13, 13, 13, 13, 13, 13], [13, 13, 13, 13, 13, 13, 13], [13, 13, 13, 13, 13, 13, 13], [13, 13, 13, 13, 13, 13, 13], [13, 13, 13, 13, 13, 13, 13], [13, 13, 13, 13, 13, 13, 13], [13, 13, 13, 13, 13, 13, 13], [13, 13, 13, 13, 13, 13, 13], [13, 13, 13, 13, 13, 13, 13], [13, 13, 13, 13, 13, 13, 13], [13, 13, 13, 13, 13, 13, 13], [13, 13, 13, 13, 13, 13, 13], [13, 13]]\n",
      "Optimal solution : 50  bins\n",
      "Solution : 52  bins, Spaces Left:  286 \n",
      "\n",
      "#Next Fit Then Best Fit\n",
      "[[27, 27, 27, 17], [27, 27, 27, 17], [27, 27, 27, 17], [27, 27, 27, 17], [27, 27, 27, 17], [27, 27, 27, 17], [27, 27, 27, 17], [27, 27, 27, 17], [27, 27, 27, 17], [27, 27, 27, 17], [27, 27, 27, 17], [27, 27, 27, 17], [27, 27, 27, 17], [27, 27, 27, 17], [27, 27, 27, 17], [27, 27, 27, 17], [27, 27, 27, 17], [27, 27, 27, 17], [21, 21, 21, 21, 13], [21, 21, 21, 21, 13]] ...... [[27, 27, 27, 17], [27, 27, 27, 17], [27, 27, 27, 17], [27, 27, 27, 17], [27, 27, 27, 17], [27, 27, 27, 17], [27, 27, 27, 17], [27, 27, 27, 17], [27, 27, 27, 17], [27, 27, 27, 17], [27, 27, 27, 17], [27, 27, 27, 17], [27, 27, 27, 17], [27, 27, 27, 17], [21, 21, 21, 21, 13], [21, 21, 21, 21, 13], [21, 21, 21, 21, 13], [21, 21, 21, 21, 13], [21, 21, 21, 21, 13], [21, 21, 21, 21, 13], [21, 21, 21, 21, 13], [21, 21, 21, 21, 13], [21, 21, 21, 21, 13], [21, 21, 21, 21, 13], [21, 21, 21, 21, 13], [21, 21, 21, 21, 13], [21, 21, 21, 21, 13], [21, 21, 17, 17, 17], [17, 17, 17, 17, 17, 13], [17, 17, 17, 17, 17, 13], [17, 17, 17, 17, 17, 13], [17, 17, 17, 17, 17, 13], [17, 17, 17, 17, 17, 13], [17, 17, 17, 17, 17, 13], [17, 17, 17, 13, 13, 13], [13, 13, 13, 13, 13, 13, 13], [13, 13, 13, 13, 13, 13, 13], [13, 13, 13, 13, 13, 13, 13], [13, 13, 13, 13, 13, 13, 13], [13, 13, 13, 13, 13, 13, 13], [13, 13, 13, 13, 13, 13, 13], [13, 13, 13, 13, 13, 13, 13], [13, 13, 13, 13, 13, 13, 13], [13, 13, 13, 13, 13, 13, 13], [13, 13, 13, 13, 13, 13, 13], [13, 13, 13, 13, 13, 13, 13], [13, 13, 13, 13, 13, 13, 13], [13, 13]]\n",
      "Optimal solution : 50  bins\n",
      "Solution : 52  bins, Spaces Left:  286 \n",
      "\n",
      "************************************************************************************************************** \n",
      "\n",
      "---------------------------------------------------------------------------------------------------- \n",
      "\n",
      "#User Cut Process \n",
      "Interlacing S1 with itself(Reverse) \n",
      "Interlacing S2 with istelf(Reverse) \n",
      "\n",
      "---------------------------------------------------------------------------------------------------- \n",
      "\n",
      "lenght : S1:  270 , S2:  0 , S1+S2:  270 \n",
      "\n",
      "#First Fit Then Best Fit\n",
      "[[27, 13, 27, 13, 13], [27, 27, 13, 27], [13, 27, 13, 27, 13], [27, 13, 27, 13, 13], [27, 27, 13, 27], [13, 27, 13, 27, 13], [27, 13, 27, 13, 13], [27, 27, 13, 27], [13, 27, 13, 27, 13], [27, 13, 27, 13, 13], [27, 27, 13, 27], [13, 27, 13, 27, 13], [27, 13, 27, 13, 13], [27, 27, 13, 27], [13, 27, 13, 27, 13], [27, 13, 27, 13, 13], [27, 27, 13, 27], [13, 27, 13, 27, 13], [27, 13, 27, 13, 13], [27, 27, 13, 27]] ...... [[27, 27, 13, 27], [13, 27, 13, 27, 13], [27, 13, 27, 13, 13], [27, 27, 13, 27], [13, 27, 13, 27, 13], [27, 13, 27, 13, 13], [27, 27, 13, 27], [13, 27, 13, 27, 13], [27, 13, 27, 13, 13], [27, 27, 13, 27], [13, 27, 13, 27, 13], [27, 13, 27, 13, 13], [27, 27, 13, 27], [13, 21, 13, 21, 13, 13], [21, 21, 13, 21, 13], [21, 13, 21, 13, 21], [13, 21, 13, 21, 13, 13], [21, 21, 13, 21, 13], [21, 13, 21, 13, 21], [13, 21, 13, 21, 13, 13], [21, 21, 13, 21, 13], [21, 13, 21, 13, 21], [13, 21, 13, 21, 13, 13], [21, 21, 13, 21, 13], [21, 13, 21, 13, 21], [13, 21, 13, 21, 13, 13], [21, 21, 13, 21, 13], [21, 13, 21, 13, 21], [13, 21, 13, 21, 13, 13], [21, 21, 13, 21, 13], [21, 13, 21, 13, 21], [13, 21, 13, 21, 13, 13], [21, 21, 13, 21, 13], [21, 13, 17, 17, 17], [17, 17, 17, 17, 17], [17, 17, 17, 17, 17], [17, 17, 17, 17, 17], [17, 17, 17, 17, 17], [17, 17, 17, 17, 17], [17, 17, 17, 17, 17], [17, 17, 17, 17, 17], [17, 17, 17, 17, 17], [17, 17, 17, 17, 17], [17, 17, 17, 17, 17], [17]]\n",
      "Optimal solution : 50  bins\n",
      "Solution : 55  bins, Spaces Left:  586 \n",
      "\n",
      "#Worst Fit Then Best Fit\n",
      "[[27, 13, 27, 13, 17], [27, 13, 27, 13, 17], [27, 13, 27, 13, 17], [27, 13, 27, 13, 17], [27, 13, 27, 13, 17], [27, 13, 27, 13, 17], [27, 13, 27, 13, 17], [27, 13, 27, 13, 17], [27, 13, 27, 13, 17], [27, 13, 27, 13, 13], [27, 13, 27, 13, 13], [27, 13, 27, 13, 13], [27, 13, 27, 13, 13], [27, 13, 27, 13, 13], [27, 13, 27, 13, 13], [27, 13, 27, 13, 13], [27, 13, 27, 13, 13], [27, 13, 27, 13, 13], [27, 13, 27, 13, 13], [27, 13, 27, 13, 13]] ...... [[27, 13, 27, 13, 17], [27, 13, 27, 13, 13], [27, 13, 27, 13, 13], [27, 13, 27, 13, 13], [27, 13, 27, 13, 13], [27, 13, 27, 13, 13], [27, 13, 27, 13, 13], [27, 13, 27, 13, 13], [27, 13, 27, 13, 13], [27, 13, 27, 13, 13], [27, 13, 27, 13, 13], [27, 13, 27, 13, 13], [27, 13, 27, 13, 13], [27, 13, 27, 13, 13], [27, 13, 27, 13, 13], [27, 13, 27, 13, 13], [27, 13, 27, 13, 13], [27, 13, 27, 13, 13], [27, 13, 27, 13, 13], [21, 13, 21, 13, 21], [21, 13, 21, 13, 21], [21, 13, 21, 13, 21], [21, 13, 21, 13, 21], [21, 13, 21, 13, 21], [21, 13, 21, 13, 21], [21, 13, 21, 13, 21], [21, 13, 21, 13, 21], [21, 13, 21, 13, 21], [21, 13, 21, 13, 21], [21, 13, 21, 13, 21], [21, 13, 21, 13, 21], [21, 13, 21, 13, 21], [21, 13, 21, 13, 21], [21, 13, 21, 13, 21], [21, 13, 21, 13, 21], [21, 13, 21, 13, 21], [21, 13, 21, 13, 21], [17, 17, 17, 17, 17], [17, 17, 17, 17, 17], [17, 17, 17, 17, 17], [17, 17, 17, 17, 17], [17, 17, 17, 17, 17], [17, 17, 17, 17, 17], [17, 17, 17, 17, 17], [17, 17, 17, 17, 17], [17, 17, 17, 17, 17]]\n",
      "Optimal solution : 50  bins\n",
      "Solution : 54  bins, Spaces Left:  486 \n",
      "\n",
      "#Next Fit Then Best Fit\n",
      "[[27, 13, 27, 13], [27, 13, 27, 13], [27, 13, 27, 13], [27, 13, 27, 13], [27, 13, 27, 13], [27, 13, 27, 13], [27, 13, 27, 13], [27, 13, 27, 13], [27, 13, 27, 13], [27, 13, 27, 13], [27, 13, 27, 13], [27, 13, 27, 13], [27, 13, 27, 13], [27, 13, 27, 13], [27, 13, 27, 13], [27, 13, 27, 13], [27, 13, 27, 13], [27, 13, 27, 13], [27, 13, 27, 13], [27, 13, 27, 13]] ...... [[27, 13, 27, 13], [27, 13, 27, 13], [27, 13, 27, 13], [27, 13, 27, 13], [27, 13, 27, 13], [27, 13, 27, 13], [27, 13, 27, 13], [21, 13, 21, 13, 21], [13, 21, 13, 21, 13], [21, 13, 21, 13, 21], [13, 21, 13, 21, 13], [21, 13, 21, 13, 21], [13, 21, 13, 21, 13], [21, 13, 21, 13, 21], [13, 21, 13, 21, 13], [21, 13, 21, 13, 21], [13, 21, 13, 21, 13], [21, 13, 21, 13, 21], [13, 21, 13, 21, 13], [21, 13, 21, 13, 21], [13, 21, 13, 21, 13], [21, 13, 21, 13, 21], [13, 21, 13, 21, 13], [21, 13, 21, 13, 21], [13, 21, 13, 21, 13], [21, 13, 21, 13, 21], [13, 21, 13, 21, 13], [21, 13, 21, 13, 21], [13, 21, 13, 17, 17, 17], [17, 17, 17, 17, 17], [17, 17, 17, 17, 17], [17, 17, 17, 17, 17], [17, 17, 17, 17, 17], [17, 17, 17, 17, 17], [17, 17, 17, 17, 17], [17, 17, 17, 17, 17], [17, 17, 17, 17, 17], [17, 17, 17, 17, 17], [17, 17, 17, 17, 17], [17]]\n",
      "Optimal solution : 50  bins\n",
      "Solution : 60  bins, Spaces Left:  1086 \n",
      "\n",
      "---------------------------------------------------------------------------------------------------- \n",
      "\n",
      "#Average Cut Process \n",
      "Interlacing S1 with itself(Reverse) \n",
      "Interlacing S2 with istelf(Reverse) \n",
      "\n",
      "---------------------------------------------------------------------------------------------------- \n",
      "\n",
      "lenght : S1:  108 , S2:  162 , S1+S2:  270 \n",
      "\n",
      "#First Fit Then Best Fit\n",
      "[[27, 21, 27, 21], [27, 21, 27, 21], [27, 21, 27, 21], [27, 21, 27, 21], [27, 21, 27, 21], [27, 21, 27, 21], [27, 21, 27, 21], [27, 21, 27, 21], [27, 21, 27, 21], [27, 21, 27, 21], [27, 21, 27, 21], [27, 21, 27, 21], [27, 21, 27, 21], [27, 21, 27, 21], [27, 21, 27, 21], [27, 21, 27, 21], [27, 21, 27, 21], [27, 21, 27, 21], [27, 21, 27, 21], [27, 21, 27, 21]] ...... [[27, 21, 27, 21], [27, 21, 27, 21], [27, 21, 27, 21], [27, 21, 27, 21], [27, 21, 27, 21], [27, 21, 27, 21], [27, 21, 27, 21], [27, 21, 27, 21], [27, 21, 27, 21], [27, 21, 27, 21], [27, 21, 27, 21], [27, 21, 27, 21], [27, 21, 27, 21], [27, 21, 27, 21], [27, 21, 27, 21], [27, 21, 27, 21], [27, 21, 27, 21], [27, 21, 27, 21], [27, 21, 27, 21], [27, 21, 27, 21], [27, 21, 27, 21], [13, 13, 13, 13, 13, 13, 13], [13, 13, 13, 13, 13, 13, 13], [13, 13, 13, 13, 13, 13, 13], [13, 13, 13, 13, 13, 13, 13], [13, 13, 13, 13, 13, 13, 13], [13, 13, 13, 13, 13, 13, 13], [13, 13, 13, 13, 13, 13, 13], [13, 13, 13, 13, 13, 17, 13], [17, 13, 17, 13, 17, 13], [17, 13, 17, 13, 17, 13], [17, 13, 17, 13, 17, 13], [17, 13, 17, 13, 17, 13], [17, 13, 17, 13, 17, 13], [17, 13, 17, 13, 17, 13], [17, 13, 17, 13, 17, 13], [17, 13, 17, 13, 17, 13], [17, 13, 17, 13, 17, 13], [17, 13, 17, 13, 17, 13], [17, 13, 17, 13, 17, 13], [17, 13, 17, 13, 17, 13], [17, 13, 17, 13, 17, 13], [17, 13, 17, 13, 17, 13], [17, 13, 17, 13, 17, 13], [17, 13, 17, 13, 17, 13], [17, 13, 17, 13, 17, 13], [17, 13, 17, 13]]\n",
      "Optimal solution : 50  bins\n",
      "Solution : 53  bins, Spaces Left:  386 \n",
      "\n",
      "#Worst Fit Then Best Fit\n",
      "[[27, 21, 27, 21], [27, 21, 27, 21], [27, 21, 27, 21], [27, 21, 27, 21], [27, 21, 27, 21], [27, 21, 27, 21], [27, 21, 27, 21], [27, 21, 27, 21], [27, 21, 27, 21], [27, 21, 27, 21], [27, 21, 27, 21], [27, 21, 27, 21], [27, 21, 27, 21], [27, 21, 27, 21], [27, 21, 27, 21], [27, 21, 27, 21], [27, 21, 27, 21], [27, 21, 27, 21], [27, 21, 27, 21], [27, 21, 27, 21]] ...... [[27, 21, 27, 21], [27, 21, 27, 21], [27, 21, 27, 21], [27, 21, 27, 21], [27, 21, 27, 21], [27, 21, 27, 21], [27, 21, 27, 21], [27, 21, 27, 21], [27, 21, 27, 21], [27, 21, 27, 21], [27, 21, 27, 21], [27, 21, 27, 21], [27, 21, 27, 21], [27, 21, 27, 21], [27, 21, 27, 21], [27, 21, 27, 21], [27, 21, 27, 21], [27, 21, 27, 21], [27, 21, 27, 21], [27, 21, 27, 21], [27, 21, 27, 21], [13, 13, 13, 13, 13, 13, 13], [13, 13, 13, 13, 13, 13, 13], [13, 13, 13, 13, 13, 13, 13], [13, 13, 13, 13, 13, 13, 13], [13, 13, 13, 13, 13, 13, 13], [13, 13, 13, 13, 13, 13, 13], [13, 13, 13, 13, 13, 13, 13], [13, 13, 13, 13, 13, 17, 13], [17, 13, 17, 13, 17, 13], [17, 13, 17, 13, 17, 13], [17, 13, 17, 13, 17, 13], [17, 13, 17, 13, 17, 13], [17, 13, 17, 13, 17, 13], [17, 13, 17, 13, 17, 13], [17, 13, 17, 13, 17, 13], [17, 13, 17, 13, 17, 13], [17, 13, 17, 13, 17, 13], [17, 13, 17, 13, 17, 13], [17, 13, 17, 13, 17, 13], [17, 13, 17, 13, 17, 13], [17, 13, 17, 13, 17, 13], [17, 13, 17, 13, 17, 13], [17, 13, 17, 13, 17, 13], [17, 13, 17, 13, 17, 13], [17, 13, 17, 13, 17, 13], [17, 13, 17, 13]]\n",
      "Optimal solution : 50  bins\n",
      "Solution : 53  bins, Spaces Left:  386 \n",
      "\n",
      "#Next Fit Then Best Fit\n",
      "[[27, 21, 27, 21], [27, 21, 27, 21], [27, 21, 27, 21], [27, 21, 27, 21], [27, 21, 27, 21], [27, 21, 27, 21], [27, 21, 27, 21], [27, 21, 27, 21], [27, 21, 27, 21], [27, 21, 27, 21], [27, 21, 27, 21], [27, 21, 27, 21], [27, 21, 27, 21], [27, 21, 27, 21], [27, 21, 27, 21], [27, 21, 27, 21], [27, 21, 27, 21], [27, 21, 27, 21], [27, 21, 27, 21], [27, 21, 27, 21]] ...... [[27, 21, 27, 21], [27, 21, 27, 21], [27, 21, 27, 21], [27, 21, 27, 21], [27, 21, 27, 21], [27, 21, 27, 21], [27, 21, 27, 21], [27, 21, 27, 21], [27, 21, 27, 21], [27, 21, 27, 21], [27, 21, 27, 21], [27, 21, 27, 21], [27, 21, 27, 21], [27, 21, 27, 21], [27, 21, 27, 21], [27, 21, 27, 21], [27, 21, 27, 21], [27, 21, 27, 21], [27, 21, 27, 21], [27, 21, 27, 21], [27, 21, 27, 21], [13, 13, 13, 13, 13, 13, 13], [13, 13, 13, 13, 13, 13, 13], [13, 13, 13, 13, 13, 13, 13], [13, 13, 13, 13, 13, 13, 13], [13, 13, 13, 13, 13, 13, 13], [13, 13, 13, 13, 13, 13, 13], [13, 13, 13, 13, 13, 13, 13], [13, 13, 13, 13, 13, 17, 13], [17, 13, 17, 13, 17, 13], [17, 13, 17, 13, 17, 13], [17, 13, 17, 13, 17, 13], [17, 13, 17, 13, 17, 13], [17, 13, 17, 13, 17, 13], [17, 13, 17, 13, 17, 13], [17, 13, 17, 13, 17, 13], [17, 13, 17, 13, 17, 13], [17, 13, 17, 13, 17, 13], [17, 13, 17, 13, 17, 13], [17, 13, 17, 13, 17, 13], [17, 13, 17, 13, 17, 13], [17, 13, 17, 13, 17, 13], [17, 13, 17, 13, 17, 13], [17, 13, 17, 13, 17, 13], [17, 13, 17, 13, 17, 13], [17, 13, 17, 13, 17, 13], [17, 13, 17, 13]]\n",
      "Optimal solution : 50  bins\n",
      "Solution : 53  bins, Spaces Left:  386 \n",
      "\n",
      "---------------------------------------------------------------------------------------------------- \n",
      "\n",
      "#Standard Deviation Cut Process \n",
      "Interlacing S1 with itself(Reverse) \n",
      "Interlacing S2 with istelf(Reverse) \n",
      "\n",
      "---------------------------------------------------------------------------------------------------- \n",
      "\n",
      "lenght : S1:  54 , S2:  216 , S1+S2:  270 \n",
      "\n",
      "#First Fit Then Best Fit\n",
      "[[27, 27, 27, 13], [27, 27, 27, 17], [27, 27, 27, 13], [27, 27, 27, 17], [27, 27, 27, 13], [27, 27, 27, 17], [27, 27, 27, 13], [27, 27, 27, 17], [27, 27, 27, 13], [27, 27, 27, 17], [27, 27, 27, 13], [27, 27, 27, 17], [27, 27, 27, 13], [27, 27, 27, 17], [27, 27, 27, 13], [27, 27, 27, 17], [27, 27, 27, 13], [27, 27, 27, 17], [17, 13, 17, 13, 17, 13], [17, 13, 17, 13, 17, 13]] ...... [[27, 27, 27, 13], [27, 27, 27, 17], [27, 27, 27, 13], [27, 27, 27, 17], [27, 27, 27, 13], [27, 27, 27, 17], [27, 27, 27, 13], [27, 27, 27, 17], [27, 27, 27, 13], [27, 27, 27, 17], [17, 13, 17, 13, 17, 13], [17, 13, 17, 13, 17, 13], [17, 13, 17, 13, 17, 13], [17, 13, 17, 13, 17, 13], [17, 13, 17, 13, 17, 13], [17, 13, 17, 13, 17, 13], [17, 13, 17, 13, 17, 13], [17, 13, 17, 13, 17, 13], [17, 13, 17, 13, 17, 13], [17, 13, 17, 13, 17, 13], [17, 13, 17, 13, 17, 13], [17, 13, 17, 13, 17, 13], [17, 13, 17, 13, 17, 13], [17, 13, 17, 13, 17, 13], [17, 13, 17, 13, 17, 13], [21, 13, 21, 13, 21], [13, 21, 13, 21, 13, 13], [21, 21, 13, 21, 13], [21, 13, 21, 13, 21], [13, 21, 13, 21, 13, 13], [21, 21, 13, 21, 13], [21, 13, 21, 13, 21], [13, 21, 13, 21, 13, 13], [21, 21, 13, 21, 13], [21, 13, 21, 13, 21], [13, 21, 13, 21, 13, 13], [21, 21, 13, 21, 13], [21, 13, 21, 13, 21], [13, 21, 13, 21, 13, 13], [21, 21, 13, 21, 13], [21, 13, 21, 13, 21], [13, 21, 13, 21, 13, 13], [21, 21, 13, 21, 13], [21, 13, 21, 13, 21], [13, 21, 13, 21, 13, 13], [21]]\n",
      "Optimal solution : 50  bins\n",
      "Solution : 54  bins, Spaces Left:  486 \n",
      "\n",
      "#Worst Fit Then Best Fit\n",
      "[[27, 27, 27, 13], [27, 27, 27, 17], [27, 27, 27, 13], [27, 27, 27, 17], [27, 27, 27, 13], [27, 27, 27, 17], [27, 27, 27, 13], [27, 27, 27, 17], [27, 27, 27, 13], [27, 27, 27, 17], [27, 27, 27, 13], [27, 27, 27, 17], [27, 27, 27, 13], [27, 27, 27, 17], [27, 27, 27, 13], [27, 27, 27, 17], [27, 27, 27, 13], [27, 27, 27, 17], [17, 13, 17, 13, 17, 13], [17, 13, 17, 13, 17, 13]] ...... [[27, 27, 27, 13], [27, 27, 27, 17], [27, 27, 27, 13], [27, 27, 27, 17], [27, 27, 27, 13], [27, 27, 27, 17], [27, 27, 27, 13], [27, 27, 27, 17], [27, 27, 27, 13], [27, 27, 27, 17], [17, 13, 17, 13, 17, 13], [17, 13, 17, 13, 17, 13], [17, 13, 17, 13, 17, 13], [17, 13, 17, 13, 17, 13], [17, 13, 17, 13, 17, 13], [17, 13, 17, 13, 17, 13], [17, 13, 17, 13, 17, 13], [17, 13, 17, 13, 17, 13], [17, 13, 17, 13, 17, 13], [17, 13, 17, 13, 17, 13], [17, 13, 17, 13, 17, 13], [17, 13, 17, 13, 17, 13], [17, 13, 17, 13, 17, 13], [17, 13, 17, 13, 17, 13], [17, 13, 17, 13, 17, 13], [21, 13, 21, 13, 21], [13, 21, 13, 21, 13, 13], [21, 21, 13, 21, 13], [21, 13, 21, 13, 21], [13, 21, 13, 21, 13, 13], [21, 21, 13, 21, 13], [21, 13, 21, 13, 21], [13, 21, 13, 21, 13, 13], [21, 21, 13, 21, 13], [21, 13, 21, 13, 21], [13, 21, 13, 21, 13, 13], [21, 21, 13, 21, 13], [21, 13, 21, 13, 21], [13, 21, 13, 21, 13, 13], [21, 21, 13, 21, 13], [21, 13, 21, 13, 21], [13, 21, 13, 21, 13, 13], [21, 21, 13, 21, 13], [21, 13, 21, 13, 21], [13, 21, 13, 21, 13, 13], [21]]\n",
      "Optimal solution : 50  bins\n",
      "Solution : 54  bins, Spaces Left:  486 \n",
      "\n",
      "#Next Fit Then Best Fit\n",
      "[[27, 27, 27, 13], [27, 27, 27, 17], [27, 27, 27, 13], [27, 27, 27, 17], [27, 27, 27, 13], [27, 27, 27, 17], [27, 27, 27, 13], [27, 27, 27, 17], [27, 27, 27, 13], [27, 27, 27, 17], [27, 27, 27, 13], [27, 27, 27, 17], [27, 27, 27, 13], [27, 27, 27, 17], [27, 27, 27, 13], [27, 27, 27, 17], [27, 27, 27, 13], [27, 27, 27, 17], [17, 13, 17, 13, 17, 13], [17, 13, 17, 13, 17, 13]] ...... [[27, 27, 27, 13], [27, 27, 27, 17], [27, 27, 27, 13], [27, 27, 27, 17], [27, 27, 27, 13], [27, 27, 27, 17], [27, 27, 27, 13], [27, 27, 27, 17], [27, 27, 27, 13], [27, 27, 27, 17], [17, 13, 17, 13, 17, 13], [17, 13, 17, 13, 17, 13], [17, 13, 17, 13, 17, 13], [17, 13, 17, 13, 17, 13], [17, 13, 17, 13, 17, 13], [17, 13, 17, 13, 17, 13], [17, 13, 17, 13, 17, 13], [17, 13, 17, 13, 17, 13], [17, 13, 17, 13, 17, 13], [17, 13, 17, 13, 17, 13], [17, 13, 17, 13, 17, 13], [17, 13, 17, 13, 17, 13], [17, 13, 17, 13, 17, 13], [17, 13, 17, 13, 17, 13], [17, 13, 17, 13, 17, 13], [21, 13, 21, 13, 21], [13, 21, 13, 21, 13, 13], [21, 21, 13, 21, 13], [21, 13, 21, 13, 21], [13, 21, 13, 21, 13, 13], [21, 21, 13, 21, 13], [21, 13, 21, 13, 21], [13, 21, 13, 21, 13, 13], [21, 21, 13, 21, 13], [21, 13, 21, 13, 21], [13, 21, 13, 21, 13, 13], [21, 21, 13, 21, 13], [21, 13, 21, 13, 21], [13, 21, 13, 21, 13, 13], [21, 21, 13, 21, 13], [21, 13, 21, 13, 21], [13, 21, 13, 21, 13, 13], [21, 21, 13, 21, 13], [21, 13, 21, 13, 21], [13, 21, 13, 21, 13, 13], [21]]\n",
      "Optimal solution : 50  bins\n",
      "Solution : 54  bins, Spaces Left:  486 \n",
      "\n",
      "---------------------------------------------------------------------------------------------------- \n",
      "\n",
      "#Maximum Space Allowed Cut Process \n",
      " Interlacing S1 with itself(Reverse) \n",
      "Interlacing S2 with istelf(Reverse) \n",
      "\n",
      "---------------------------------------------------------------------------------------------------- \n",
      "\n",
      "lenght : S1:  54 , S2:  216 , S1+S2:  270 \n",
      "\n",
      "#First Fit Then Best Fit\n",
      "[[27, 27, 27, 13], [27, 27, 27, 17], [27, 27, 27, 13], [27, 27, 27, 17], [27, 27, 27, 13], [27, 27, 27, 17], [27, 27, 27, 13], [27, 27, 27, 17], [27, 27, 27, 13], [27, 27, 27, 17], [27, 27, 27, 13], [27, 27, 27, 17], [27, 27, 27, 13], [27, 27, 27, 17], [27, 27, 27, 13], [27, 27, 27, 17], [27, 27, 27, 13], [27, 27, 27, 17], [17, 13, 17, 13, 17, 13], [17, 13, 17, 13, 17, 13]] ...... [[27, 27, 27, 13], [27, 27, 27, 17], [27, 27, 27, 13], [27, 27, 27, 17], [27, 27, 27, 13], [27, 27, 27, 17], [27, 27, 27, 13], [27, 27, 27, 17], [27, 27, 27, 13], [27, 27, 27, 17], [17, 13, 17, 13, 17, 13], [17, 13, 17, 13, 17, 13], [17, 13, 17, 13, 17, 13], [17, 13, 17, 13, 17, 13], [17, 13, 17, 13, 17, 13], [17, 13, 17, 13, 17, 13], [17, 13, 17, 13, 17, 13], [17, 13, 17, 13, 17, 13], [17, 13, 17, 13, 17, 13], [17, 13, 17, 13, 17, 13], [17, 13, 17, 13, 17, 13], [17, 13, 17, 13, 17, 13], [17, 13, 17, 13, 17, 13], [17, 13, 17, 13, 17, 13], [17, 13, 17, 13, 17, 13], [21, 13, 21, 13, 21], [13, 21, 13, 21, 13, 13], [21, 21, 13, 21, 13], [21, 13, 21, 13, 21], [13, 21, 13, 21, 13, 13], [21, 21, 13, 21, 13], [21, 13, 21, 13, 21], [13, 21, 13, 21, 13, 13], [21, 21, 13, 21, 13], [21, 13, 21, 13, 21], [13, 21, 13, 21, 13, 13], [21, 21, 13, 21, 13], [21, 13, 21, 13, 21], [13, 21, 13, 21, 13, 13], [21, 21, 13, 21, 13], [21, 13, 21, 13, 21], [13, 21, 13, 21, 13, 13], [21, 21, 13, 21, 13], [21, 13, 21, 13, 21], [13, 21, 13, 21, 13, 13], [21]]\n",
      "Optimal solution : 50  bins\n",
      "Solution : 54  bins, Spaces Left:  486 \n",
      "\n",
      "#Worst Fit Then Best Fit\n",
      "[[27, 27, 27, 13], [27, 27, 27, 17], [27, 27, 27, 13], [27, 27, 27, 17], [27, 27, 27, 13], [27, 27, 27, 17], [27, 27, 27, 13], [27, 27, 27, 17], [27, 27, 27, 13], [27, 27, 27, 17], [27, 27, 27, 13], [27, 27, 27, 17], [27, 27, 27, 13], [27, 27, 27, 17], [27, 27, 27, 13], [27, 27, 27, 17], [27, 27, 27, 13], [27, 27, 27, 17], [17, 13, 17, 13, 17, 13], [17, 13, 17, 13, 17, 13]] ...... [[27, 27, 27, 13], [27, 27, 27, 17], [27, 27, 27, 13], [27, 27, 27, 17], [27, 27, 27, 13], [27, 27, 27, 17], [27, 27, 27, 13], [27, 27, 27, 17], [27, 27, 27, 13], [27, 27, 27, 17], [17, 13, 17, 13, 17, 13], [17, 13, 17, 13, 17, 13], [17, 13, 17, 13, 17, 13], [17, 13, 17, 13, 17, 13], [17, 13, 17, 13, 17, 13], [17, 13, 17, 13, 17, 13], [17, 13, 17, 13, 17, 13], [17, 13, 17, 13, 17, 13], [17, 13, 17, 13, 17, 13], [17, 13, 17, 13, 17, 13], [17, 13, 17, 13, 17, 13], [17, 13, 17, 13, 17, 13], [17, 13, 17, 13, 17, 13], [17, 13, 17, 13, 17, 13], [17, 13, 17, 13, 17, 13], [21, 13, 21, 13, 21], [13, 21, 13, 21, 13, 13], [21, 21, 13, 21, 13], [21, 13, 21, 13, 21], [13, 21, 13, 21, 13, 13], [21, 21, 13, 21, 13], [21, 13, 21, 13, 21], [13, 21, 13, 21, 13, 13], [21, 21, 13, 21, 13], [21, 13, 21, 13, 21], [13, 21, 13, 21, 13, 13], [21, 21, 13, 21, 13], [21, 13, 21, 13, 21], [13, 21, 13, 21, 13, 13], [21, 21, 13, 21, 13], [21, 13, 21, 13, 21], [13, 21, 13, 21, 13, 13], [21, 21, 13, 21, 13], [21, 13, 21, 13, 21], [13, 21, 13, 21, 13, 13], [21]]\n",
      "Optimal solution : 50  bins\n",
      "Solution : 54  bins, Spaces Left:  486 \n",
      "\n",
      "#Next Fit Then Best Fit\n",
      "[[27, 27, 27, 13], [27, 27, 27, 17], [27, 27, 27, 13], [27, 27, 27, 17], [27, 27, 27, 13], [27, 27, 27, 17], [27, 27, 27, 13], [27, 27, 27, 17], [27, 27, 27, 13], [27, 27, 27, 17], [27, 27, 27, 13], [27, 27, 27, 17], [27, 27, 27, 13], [27, 27, 27, 17], [27, 27, 27, 13], [27, 27, 27, 17], [27, 27, 27, 13], [27, 27, 27, 17], [17, 13, 17, 13, 17, 13], [17, 13, 17, 13, 17, 13]] ...... [[27, 27, 27, 13], [27, 27, 27, 17], [27, 27, 27, 13], [27, 27, 27, 17], [27, 27, 27, 13], [27, 27, 27, 17], [27, 27, 27, 13], [27, 27, 27, 17], [27, 27, 27, 13], [27, 27, 27, 17], [17, 13, 17, 13, 17, 13], [17, 13, 17, 13, 17, 13], [17, 13, 17, 13, 17, 13], [17, 13, 17, 13, 17, 13], [17, 13, 17, 13, 17, 13], [17, 13, 17, 13, 17, 13], [17, 13, 17, 13, 17, 13], [17, 13, 17, 13, 17, 13], [17, 13, 17, 13, 17, 13], [17, 13, 17, 13, 17, 13], [17, 13, 17, 13, 17, 13], [17, 13, 17, 13, 17, 13], [17, 13, 17, 13, 17, 13], [17, 13, 17, 13, 17, 13], [17, 13, 17, 13, 17, 13], [21, 13, 21, 13, 21], [13, 21, 13, 21, 13, 13], [21, 21, 13, 21, 13], [21, 13, 21, 13, 21], [13, 21, 13, 21, 13, 13], [21, 21, 13, 21, 13], [21, 13, 21, 13, 21], [13, 21, 13, 21, 13, 13], [21, 21, 13, 21, 13], [21, 13, 21, 13, 21], [13, 21, 13, 21, 13, 13], [21, 21, 13, 21, 13], [21, 13, 21, 13, 21], [13, 21, 13, 21, 13, 13], [21, 21, 13, 21, 13], [21, 13, 21, 13, 21], [13, 21, 13, 21, 13, 13], [21, 21, 13, 21, 13], [21, 13, 21, 13, 21], [13, 21, 13, 21, 13, 13], [21]]\n",
      "Optimal solution : 50  bins\n",
      "Solution : 54  bins, Spaces Left:  486 \n",
      "\n"
     ]
    }
   ],
   "source": [
    "Ftotal=Test_2(n=9,BinCapacity=100)\n",
    "List_items = Ftotal\n",
    "BinCapacity= 100\n",
    "Generate_tests(List_items,BinCapacity)"
   ]
  },
  {
   "cell_type": "code",
   "execution_count": 796,
   "metadata": {
    "scrolled": false
   },
   "outputs": [
    {
     "name": "stdout",
     "output_type": "stream",
     "text": [
      "---------------------------------------------------------------------------------------------------- \n",
      "\n",
      "#User Cut Process\n",
      "\n",
      "---------------------------------------------------------------------------------------------------- \n",
      "\n",
      "#First Fit Then Best Fit\n",
      "[[44, 44], [44, 44], [44, 44], [44, 44], [44, 44], [44, 44], [44, 44], [44, 44], [44, 44], [44, 44], [44, 44], [44, 44], [44, 44], [44, 44], [44, 44], [44, 44], [44, 44], [44, 44], [44, 44], [44, 44]] ...... [[21, 21, 21, 21], [21, 21, 21, 21], [21, 21, 21, 21], [21, 21, 21, 21], [21, 21, 21, 21]]\n",
      "Optimal solution : 86  bins\n",
      "Solution : 95  bins, Spaces Left:  920 \n",
      "\n",
      "#Worst Fit Then Best Fit\n",
      "[[44, 44], [44, 44], [44, 44], [44, 44], [44, 44], [44, 44], [44, 44], [44, 44], [44, 44], [44, 44], [44, 44], [44, 44], [44, 44], [44, 44], [44, 44], [44, 44], [44, 44], [44, 44], [44, 44], [44, 44]] ...... [[21, 21, 21, 21], [21, 21, 21, 21], [21, 21, 21, 21], [21, 21, 21, 21], [21, 21, 21, 21]]\n",
      "Optimal solution : 86  bins\n",
      "Solution : 95  bins, Spaces Left:  920 \n",
      "\n",
      "#Next Fit Then Best Fit\n",
      "[[44, 44], [44, 44], [44, 44], [44, 44], [44, 44], [44, 44], [44, 44], [44, 44], [44, 44], [44, 44], [44, 44], [44, 44], [44, 44], [44, 44], [44, 44], [44, 44], [44, 44], [44, 44], [44, 44], [44, 44]] ...... [[21, 21, 21, 21], [21, 21, 21, 21], [21, 21, 21, 21], [21, 21, 21, 21], [21, 21, 21, 21]]\n",
      "Optimal solution : 86  bins\n",
      "Solution : 95  bins, Spaces Left:  920 \n",
      "\n",
      "---------------------------------------------------------------------------------------------------- \n",
      "\n",
      "#Average Cut Process\n",
      "\n",
      "---------------------------------------------------------------------------------------------------- \n",
      "\n",
      "#First Fit Then Best Fit\n",
      "[[44, 44], [44, 44], [44, 44], [44, 44], [44, 44], [44, 44], [44, 44], [44, 44], [44, 44], [44, 44], [44, 44], [44, 44], [44, 44], [44, 44], [44, 44], [44, 44], [44, 44], [44, 44], [44, 44], [44, 44]] ...... [[21, 21, 21, 21], [21, 21, 21, 21], [21, 21, 21, 21], [21, 21, 21, 21], [21, 21, 21, 21]]\n",
      "Optimal solution : 86  bins\n",
      "Solution : 95  bins, Spaces Left:  920 \n",
      "\n",
      "#Worst Fit Then Best Fit\n",
      "[[44, 44], [44, 44], [44, 44], [44, 44], [44, 44], [44, 44], [44, 44], [44, 44], [44, 44], [44, 44], [44, 44], [44, 44], [44, 44], [44, 44], [44, 44], [44, 44], [44, 44], [44, 44], [44, 44], [44, 44]] ...... [[21, 21, 21, 21], [21, 21, 21, 21], [21, 21, 21, 21], [21, 21, 21, 21], [21, 21, 21, 21]]\n",
      "Optimal solution : 86  bins\n",
      "Solution : 95  bins, Spaces Left:  920 \n",
      "\n",
      "#Next Fit Then Best Fit\n",
      "[[44, 44], [44, 44], [44, 44], [44, 44], [44, 44], [44, 44], [44, 44], [44, 44], [44, 44], [44, 44], [44, 44], [44, 44], [44, 44], [44, 44], [44, 44], [44, 44], [44, 44], [44, 44], [44, 44], [44, 44]] ...... [[21, 21, 21, 21], [21, 21, 21, 21], [21, 21, 21, 21], [21, 21, 21, 21], [21, 21, 21, 21]]\n",
      "Optimal solution : 86  bins\n",
      "Solution : 95  bins, Spaces Left:  920 \n",
      "\n",
      "---------------------------------------------------------------------------------------------------- \n",
      "\n",
      "#Standard Deviation Cut Process\n",
      "\n",
      "---------------------------------------------------------------------------------------------------- \n",
      "\n",
      "#First Fit Then Best Fit\n",
      "[[44, 44], [44, 44], [44, 44], [44, 44], [44, 44], [44, 44], [44, 44], [44, 44], [44, 44], [44, 44], [44, 44], [44, 44], [44, 44], [44, 44], [44, 44], [44, 44], [44, 44], [44, 44], [44, 44], [44, 44]] ...... [[21, 21, 21, 21], [21, 21, 21, 21], [21, 21, 21, 21], [21, 21, 21, 21], [21, 21, 21, 21]]\n",
      "Optimal solution : 86  bins\n",
      "Solution : 95  bins, Spaces Left:  920 \n",
      "\n",
      "#Worst Fit Then Best Fit\n",
      "[[44, 44], [44, 44], [44, 44], [44, 44], [44, 44], [44, 44], [44, 44], [44, 44], [44, 44], [44, 44], [44, 44], [44, 44], [44, 44], [44, 44], [44, 44], [44, 44], [44, 44], [44, 44], [44, 44], [44, 44]] ...... [[21, 21, 21, 21], [21, 21, 21, 21], [21, 21, 21, 21], [21, 21, 21, 21], [21, 21, 21, 21]]\n",
      "Optimal solution : 86  bins\n",
      "Solution : 95  bins, Spaces Left:  920 \n",
      "\n",
      "#Next Fit Then Best Fit\n",
      "[[44, 44], [44, 44], [44, 44], [44, 44], [44, 44], [44, 44], [44, 44], [44, 44], [44, 44], [44, 44], [44, 44], [44, 44], [44, 44], [44, 44], [44, 44], [44, 44], [44, 44], [44, 44], [44, 44], [44, 44]] ...... [[21, 21, 21, 21], [21, 21, 21, 21], [21, 21, 21, 21], [21, 21, 21, 21], [21, 21, 21, 21]]\n",
      "Optimal solution : 86  bins\n",
      "Solution : 95  bins, Spaces Left:  920 \n",
      "\n",
      "---------------------------------------------------------------------------------------------------- \n",
      "\n",
      "#Maximum Space Allowed Cut Process\n",
      "\n",
      "---------------------------------------------------------------------------------------------------- \n",
      "\n",
      "#First Fit Then Best Fit\n",
      "[[44, 44], [44, 44], [44, 44], [44, 44], [44, 44], [44, 44], [44, 44], [44, 44], [44, 44], [44, 44], [44, 44], [44, 44], [44, 44], [44, 44], [44, 44], [44, 44], [44, 44], [44, 44], [44, 44], [44, 44]] ...... [[21, 21, 21, 21], [21, 21, 21, 21], [21, 21, 21, 21], [21, 21, 21, 21], [21, 21, 21, 21]]\n",
      "Optimal solution : 86  bins\n",
      "Solution : 95  bins, Spaces Left:  920 \n",
      "\n",
      "#Worst Fit Then Best Fit\n",
      "[[44, 44], [44, 44], [44, 44], [44, 44], [44, 44], [44, 44], [44, 44], [44, 44], [44, 44], [44, 44], [44, 44], [44, 44], [44, 44], [44, 44], [44, 44], [44, 44], [44, 44], [44, 44], [44, 44], [44, 44]] ...... [[21, 21, 21, 21], [21, 21, 21, 21], [21, 21, 21, 21], [21, 21, 21, 21], [21, 21, 21, 21]]\n",
      "Optimal solution : 86  bins\n",
      "Solution : 95  bins, Spaces Left:  920 \n",
      "\n",
      "#Next Fit Then Best Fit\n",
      "[[44, 44], [44, 44], [44, 44], [44, 44], [44, 44], [44, 44], [44, 44], [44, 44], [44, 44], [44, 44], [44, 44], [44, 44], [44, 44], [44, 44], [44, 44], [44, 44], [44, 44], [44, 44], [44, 44], [44, 44]] ...... [[21, 21, 21, 21], [21, 21, 21, 21], [21, 21, 21, 21], [21, 21, 21, 21], [21, 21, 21, 21]]\n",
      "Optimal solution : 86  bins\n",
      "Solution : 95  bins, Spaces Left:  920 \n",
      "\n",
      "************************************************************************************************************** \n",
      "\n",
      "---------------------------------------------------------------------------------------------------- \n",
      "\n",
      "#User Cut Process \n",
      "Interlacing S1 with itself(Reverse) \n",
      "Interlacing S2 with istelf(Reverse) \n",
      "\n",
      "---------------------------------------------------------------------------------------------------- \n",
      "\n",
      "lenght : S1:  300 , S2:  0 , S1+S2:  300 \n",
      "\n",
      "#First Fit Then Best Fit\n",
      "[[44, 21, 21], [44, 44], [21, 44, 21], [44, 21, 21], [44, 44], [21, 44, 21], [44, 21, 21], [44, 44], [21, 44, 21], [44, 21, 21], [44, 44], [21, 44, 21], [44, 21, 21], [44, 44], [21, 44, 21], [44, 21, 21], [44, 44], [21, 44, 21], [44, 21, 21], [44, 44]] ...... [[24, 24, 24, 24], [24, 24, 24, 24], [24, 24, 24, 24], [24, 24, 24, 24]]\n",
      "Optimal solution : 86  bins\n",
      "Solution : 96  bins, Spaces Left:  1020 \n",
      "\n",
      "#Worst Fit Then Best Fit\n",
      "[[44, 21, 21], [44, 21, 33], [44, 21, 21], [44, 21, 33], [44, 21, 21], [44, 21, 33], [44, 21, 21], [44, 21, 33], [44, 21, 21], [44, 21, 33], [44, 21, 21], [44, 21, 33], [44, 21, 21], [44, 21, 33], [44, 21, 21], [44, 21, 33], [44, 21, 21], [44, 21, 33], [44, 21, 21], [44, 21, 33]] ...... [[24, 24, 24, 24], [24, 24, 24, 24], [24, 24, 24, 24], [24, 24, 24, 24], [24, 24, 24, 24], [24, 24, 24, 24], [24, 24, 24, 24]]\n",
      "Optimal solution : 86  bins\n",
      "Solution : 93  bins, Spaces Left:  720 \n",
      "\n",
      "#Next Fit Then Best Fit\n",
      "[[44, 21], [44, 21], [44, 21], [44, 21], [44, 21], [44, 21], [44, 21], [44, 21], [44, 21], [44, 21], [44, 21], [44, 21], [44, 21], [44, 21], [44, 21], [44, 21], [44, 21], [44, 21], [44, 21], [44, 21]] ...... [[44, 21], [44, 21], [44, 21], [44, 21], [44, 21], [44, 21], [44, 21], [44, 21], [44, 21], [44, 21], [44, 21], [44, 21], [44, 21], [44, 21], [44, 21], [44, 21], [44, 21], [44, 21], [44, 21], [44, 21], [44, 21], [44, 21], [44, 21], [44, 21], [44, 21], [44, 21], [44, 21], [44, 21], [44, 21], [44, 21], [44, 21], [44, 21], [44, 21], [44, 21], [44, 21], [44, 21], [44, 21], [44, 21], [44, 21], [44, 21], [44, 21], [44, 21], [44, 21], [44, 21], [44, 21, 33], [21, 33, 21], [33, 21, 33], [21, 33, 21], [33, 21, 33], [21, 33, 21], [33, 21, 33], [21, 33, 21], [33, 21, 33], [21, 33, 21], [33, 21, 33], [21, 33, 21], [33, 21, 33], [21, 33, 21], [33, 21, 33], [21, 33, 21], [33, 21, 33], [21, 33, 21], [33, 21, 33], [21, 33, 21], [33, 21, 33], [21, 33, 21], [33, 21, 33], [21, 33, 21], [33, 21, 33], [21, 33, 21], [33, 21, 33], [21, 33, 21], [33, 21, 33], [21, 33, 21], [33, 21, 33], [21, 33, 21], [33, 21, 33], [21, 33, 21], [33, 21, 33], [21, 33, 21], [33, 21, 33], [21, 33, 21], [33, 21, 33], [21, 33, 21], [33, 21, 24], [24, 24, 24, 24], [24, 24, 24, 24], [24, 24, 24, 24], [24, 24, 24, 24], [24, 24, 24, 24], [24, 24, 24, 24], [24, 24, 24, 24], [24, 24, 24, 24], [24, 24, 24, 24], [24, 24, 24, 24], [24, 24, 24, 24], [24, 24, 24, 24], [24, 24, 24, 24], [24, 24, 24, 24], [24, 24, 24]]\n",
      "Optimal solution : 86  bins\n",
      "Solution : 115  bins, Spaces Left:  2920 \n",
      "\n",
      "---------------------------------------------------------------------------------------------------- \n",
      "\n",
      "#Average Cut Process \n",
      "Interlacing S1 with itself(Reverse) \n",
      "Interlacing S2 with istelf(Reverse) \n",
      "\n",
      "---------------------------------------------------------------------------------------------------- \n",
      "\n",
      "lenght : S1:  120 , S2:  180 , S1+S2:  300 \n",
      "\n",
      "#First Fit Then Best Fit\n",
      "[[44, 33, 21], [44, 33, 21], [44, 33, 21], [44, 33, 21], [44, 33, 21], [44, 33, 21], [44, 33, 21], [44, 33, 21], [44, 33, 21], [44, 33, 21], [44, 33, 21], [44, 33, 21], [44, 33, 21], [44, 33, 21], [44, 33, 21], [44, 33, 21], [44, 33, 21], [44, 33, 21], [44, 33, 21], [44, 33, 21]] ...... [[24, 21, 24, 21], [24, 21, 24, 21], [24, 21, 24, 21], [24, 21, 24, 21], [24, 21, 24, 21], [24, 21, 24, 21], [24, 21, 24, 21], [24, 21, 24, 21], [24, 21, 24, 21], [24, 21, 24, 21]]\n",
      "Optimal solution : 86  bins\n",
      "Solution : 90  bins, Spaces Left:  420 \n",
      "\n",
      "#Worst Fit Then Best Fit\n",
      "[[44, 33, 21], [44, 33, 21], [44, 33, 21], [44, 33, 21], [44, 33, 21], [44, 33, 21], [44, 33, 21], [44, 33, 21], [44, 33, 21], [44, 33, 21], [44, 33, 21], [44, 33, 21], [44, 33, 21], [44, 33, 21], [44, 33, 21], [44, 33, 21], [44, 33, 21], [44, 33, 21], [44, 33, 21], [44, 33, 21]] ...... [[24, 21, 24, 21], [24, 21, 24, 21], [24, 21, 24, 21], [24, 21, 24, 21], [24, 21, 24, 21], [24, 21, 24, 21], [24, 21, 24, 21], [24, 21, 24, 21], [24, 21, 24, 21], [24, 21, 24, 21]]\n",
      "Optimal solution : 86  bins\n",
      "Solution : 90  bins, Spaces Left:  420 \n",
      "\n",
      "#Next Fit Then Best Fit\n",
      "[[44, 33, 21], [44, 33, 21], [44, 33, 21], [44, 33, 21], [44, 33, 21], [44, 33, 21], [44, 33, 21], [44, 33, 21], [44, 33, 21], [44, 33, 21], [44, 33, 21], [44, 33, 21], [44, 33, 21], [44, 33, 21], [44, 33, 21], [44, 33, 21], [44, 33, 21], [44, 33, 21], [44, 33, 21], [44, 33, 21]] ...... [[24, 21, 24, 21], [24, 21, 24, 21], [24, 21, 24, 21], [24, 21, 24, 21], [24, 21, 24, 21], [24, 21, 24, 21], [24, 21, 24, 21], [24, 21, 24, 21], [24, 21, 24, 21], [24, 21, 24, 21]]\n",
      "Optimal solution : 86  bins\n",
      "Solution : 90  bins, Spaces Left:  420 \n",
      "\n",
      "---------------------------------------------------------------------------------------------------- \n",
      "\n",
      "#Standard Deviation Cut Process \n",
      "Interlacing S1 with itself(Reverse) \n",
      "Interlacing S2 with istelf(Reverse) \n",
      "\n",
      "---------------------------------------------------------------------------------------------------- \n",
      "\n",
      "lenght : S1:  60 , S2:  240 , S1+S2:  300 \n",
      "\n",
      "#First Fit Then Best Fit\n",
      "[[44, 44], [44, 44], [44, 44], [44, 44], [44, 44], [44, 44], [44, 44], [44, 44], [44, 44], [44, 44], [44, 44], [44, 44], [44, 44], [44, 44], [44, 44], [44, 44], [44, 44], [44, 44], [44, 44], [44, 44]] ...... [[33, 33, 21], [33, 21, 33], [21, 33, 21, 21], [33, 33, 21]]\n",
      "Optimal solution : 86  bins\n",
      "Solution : 96  bins, Spaces Left:  1020 \n",
      "\n",
      "#Worst Fit Then Best Fit\n",
      "[[44, 44], [44, 44], [44, 44], [44, 44], [44, 44], [44, 44], [44, 44], [44, 44], [44, 44], [44, 44], [44, 44], [44, 44], [44, 44], [44, 44], [44, 44], [44, 44], [44, 44], [44, 44], [44, 44], [44, 44]] ...... [[33, 33, 21], [33, 21, 33], [21, 33, 21, 21], [33, 33, 21]]\n",
      "Optimal solution : 86  bins\n",
      "Solution : 96  bins, Spaces Left:  1020 \n",
      "\n",
      "#Next Fit Then Best Fit\n",
      "[[44, 44], [44, 44], [44, 44], [44, 44], [44, 44], [44, 44], [44, 44], [44, 44], [44, 44], [44, 44], [44, 44], [44, 44], [44, 44], [44, 44], [44, 44], [44, 44], [44, 44], [44, 44], [44, 44], [44, 44]] ...... [[33, 33, 21], [33, 21, 33], [21, 33, 21, 21], [33, 33, 21]]\n",
      "Optimal solution : 86  bins\n",
      "Solution : 96  bins, Spaces Left:  1020 \n",
      "\n",
      "---------------------------------------------------------------------------------------------------- \n",
      "\n",
      "#Maximum Space Allowed Cut Process \n",
      " Interlacing S1 with itself(Reverse) \n",
      "Interlacing S2 with istelf(Reverse) \n",
      "\n",
      "---------------------------------------------------------------------------------------------------- \n",
      "\n",
      "lenght : S1:  60 , S2:  240 , S1+S2:  300 \n",
      "\n",
      "#First Fit Then Best Fit\n",
      "[[44, 44], [44, 44], [44, 44], [44, 44], [44, 44], [44, 44], [44, 44], [44, 44], [44, 44], [44, 44], [44, 44], [44, 44], [44, 44], [44, 44], [44, 44], [44, 44], [44, 44], [44, 44], [44, 44], [44, 44]] ...... [[33, 33, 21], [33, 21, 33], [21, 33, 21, 21], [33, 33, 21]]\n",
      "Optimal solution : 86  bins\n",
      "Solution : 96  bins, Spaces Left:  1020 \n",
      "\n",
      "#Worst Fit Then Best Fit\n",
      "[[44, 44], [44, 44], [44, 44], [44, 44], [44, 44], [44, 44], [44, 44], [44, 44], [44, 44], [44, 44], [44, 44], [44, 44], [44, 44], [44, 44], [44, 44], [44, 44], [44, 44], [44, 44], [44, 44], [44, 44]] ...... [[33, 33, 21], [33, 21, 33], [21, 33, 21, 21], [33, 33, 21]]\n",
      "Optimal solution : 86  bins\n",
      "Solution : 96  bins, Spaces Left:  1020 \n",
      "\n",
      "#Next Fit Then Best Fit\n",
      "[[44, 44], [44, 44], [44, 44], [44, 44], [44, 44], [44, 44], [44, 44], [44, 44], [44, 44], [44, 44], [44, 44], [44, 44], [44, 44], [44, 44], [44, 44], [44, 44], [44, 44], [44, 44], [44, 44], [44, 44]] ...... [[33, 33, 21], [33, 21, 33], [21, 33, 21, 21], [33, 33, 21]]\n",
      "Optimal solution : 86  bins\n",
      "Solution : 96  bins, Spaces Left:  1020 \n",
      "\n"
     ]
    }
   ],
   "source": [
    "Ktotal=Test_3(n=10,BinCapacity=100)\n",
    "List_items = Ktotal\n",
    "BinCapacity= 100\n",
    "Generate_tests(List_items,BinCapacity)"
   ]
  },
  {
   "cell_type": "markdown",
   "metadata": {},
   "source": [
    "# Conclusion\n",
    "## ---------------\n",
    "## Average Cut Process  With\n",
    "## Interlacing S1 with itself(Reverse) \n",
    "## Interlacing S2 with istelf(Reverse)  With\n",
    "## Combining BF and any other Fitting techniques \n",
    "## -- > gives us the most optimal Solution Possible or the Least  number of Wasted Spaces"
   ]
  },
  {
   "cell_type": "code",
   "execution_count": null,
   "metadata": {},
   "outputs": [],
   "source": []
  }
 ],
 "metadata": {
  "kernelspec": {
   "display_name": "Python 3 (ipykernel)",
   "language": "python",
   "name": "python3"
  },
  "language_info": {
   "codemirror_mode": {
    "name": "ipython",
    "version": 3
   },
   "file_extension": ".py",
   "mimetype": "text/x-python",
   "name": "python",
   "nbconvert_exporter": "python",
   "pygments_lexer": "ipython3",
   "version": "3.9.7"
  }
 },
 "nbformat": 4,
 "nbformat_minor": 4
}
