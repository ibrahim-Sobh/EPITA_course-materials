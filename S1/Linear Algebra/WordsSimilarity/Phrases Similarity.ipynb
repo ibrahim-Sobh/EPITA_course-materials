{
 "cells": [
  {
   "cell_type": "code",
   "execution_count": 1,
   "id": "6379fba5",
   "metadata": {},
   "outputs": [],
   "source": [
    "import numpy as np\n",
    "import math as mt\n",
    "import re as re\n",
    "from matplotlib import pyplot as plt\n",
    "\n",
    "\"\"\"\n",
    "This function will return the common words between 2 sets of words that\n",
    "are extracted from 2 different phrases\n",
    "\"\"\"\n",
    "def commonWords(phrase_one,phrase_two):\n",
    "    phrase_one=phrase_one.lower().split()\n",
    "    phrase_two=phrase_two.lower().split()\n",
    "    allCommonWords=set(phrase_one).union(set(phrase_two))\n",
    "    return sorted(allCommonWords)\n",
    "\n",
    "\"\"\"\n",
    "Takes 2 input phrases that are not empty, standarize and clean them\n",
    "creates 2 vectors using a refeence vector ( all common words vector)\n",
    "uses cosine similarity to output the angle in radians, converts he angle\n",
    "into degrees and display the similiarty using that angle.\n",
    "\"\"\"\n",
    "def compare_phrases():\n",
    "\n",
    "    phrase_one=input(\"Enter the first phrase: \\n\")\n",
    "    phrase_one= re.sub('\\W+',' ', phrase_one )\n",
    "\n",
    "    if len(phrase_one.strip())==0:\n",
    "        print('First Phrase 1 is empty')\n",
    "        return\n",
    "    \n",
    "    phrase_two=input(\"\\nEnter the second phrase: \\n\")\n",
    "    phrase_two= re.sub('\\W+',' ', phrase_two )\n",
    "    \n",
    "    if len(phrase_two.strip())==0:\n",
    "        print('Second Phrase is empty')\n",
    "        return \n",
    "    allCommonWords= commonWords(phrase_one,phrase_two)\n",
    "    \n",
    "    phrase_one_vector = { i : 0 for i in allCommonWords }\n",
    "    phrase_two_vector = { i : 0 for i in allCommonWords }\n",
    "   \n",
    "    for word in phrase_one.lower().split():\n",
    "        phrase_one_vector[word] = phrase_one_vector.get(word, 0) + 1\n",
    "        \n",
    "    for word in phrase_two.lower().split():\n",
    "        phrase_two_vector[word]= phrase_two_vector.get(word, 0) + 1\n",
    "    \n",
    "    #print(phrase_one_vector)\n",
    "    #print(phrase_two_vector)\n",
    "    \n",
    "    phrase_one_vector=list(phrase_one_vector.values())\n",
    "    phrase_two_vector=list(phrase_two_vector.values())\n",
    "\n",
    "    cos= np.dot(phrase_one_vector,phrase_two_vector)\n",
    "    cos= cos / (abs(np.linalg.norm(phrase_one_vector)) *  abs(np.linalg.norm(phrase_two_vector)))\n",
    "    \n",
    "    acos= np.arccos(round(cos,2))\n",
    "    angle= mt.degrees(acos)\n",
    "    \n",
    "    print( \"\\nphrase one : \" + phrase_one + \"\\n\" + \"phrase two : \" + phrase_two + \"\\n\")\n",
    "    print( \"angle : \" ,angle,\"\\n\")\n",
    "    if angle ==0:\n",
    "        print(\"same phrase\")\n",
    "    elif angle<40:\n",
    "        print(\"very similar phrases\")\n",
    "    elif angle<70:\n",
    "        print(\"similar phrases\")\n",
    "    else:\n",
    "        print(\"not very similar phrases\")\n",
    "    "
   ]
  },
  {
   "cell_type": "code",
   "execution_count": 2,
   "id": "ad26f0e9",
   "metadata": {
    "scrolled": true
   },
   "outputs": [
    {
     "name": "stdout",
     "output_type": "stream",
     "text": [
      "Enter the first phrase: \n",
      "wewwe\n",
      "\n",
      "Enter the second phrase: \n",
      "we\n",
      "\n",
      "phrase one : wewwe\n",
      "phrase two : we\n",
      "\n",
      "angle :  90.0 \n",
      "\n",
      "not very similar phrases\n"
     ]
    }
   ],
   "source": [
    "compare_phrases()"
   ]
  },
  {
   "cell_type": "code",
   "execution_count": 19,
   "id": "6107548f",
   "metadata": {},
   "outputs": [
    {
     "name": "stdout",
     "output_type": "stream",
     "text": [
      "Enter your value: I love,23 dogs,@# and I am 27 \n",
      "Enter your value: I am,'/. 24 and I love my. dogs\n",
      "{'23': 1, '24': 0, '27': 1, 'am': 1, 'and': 1, 'dogs': 1, 'i': 2, 'love': 1, 'my': 0}\n",
      "{'23': 0, '24': 1, '27': 0, 'am': 1, 'and': 1, 'dogs': 1, 'i': 2, 'love': 1, 'my': 1}\n",
      "phrase one : I love 23 dogs and I am 27 \n",
      "phrase two : I am 24 and I love my dogs\n",
      "\n",
      "angle :  36.86989764584401 \n",
      "\n",
      "very similar phrases\n"
     ]
    }
   ],
   "source": [
    "compare_phrases()\n"
   ]
  },
  {
   "cell_type": "code",
   "execution_count": 4,
   "id": "66898294",
   "metadata": {},
   "outputs": [
    {
     "name": "stdout",
     "output_type": "stream",
     "text": [
      "numpy not found\r\n"
     ]
    }
   ],
   "source": [
    "! which numpy"
   ]
  }
 ],
 "metadata": {
  "kernelspec": {
   "display_name": "Python 3 (ipykernel)",
   "language": "python",
   "name": "python3"
  },
  "language_info": {
   "codemirror_mode": {
    "name": "ipython",
    "version": 3
   },
   "file_extension": ".py",
   "mimetype": "text/x-python",
   "name": "python",
   "nbconvert_exporter": "python",
   "pygments_lexer": "ipython3",
   "version": "3.9.7"
  }
 },
 "nbformat": 4,
 "nbformat_minor": 5
}
