{
 "cells": [
  {
   "cell_type": "code",
   "execution_count": 83,
   "metadata": {},
   "outputs": [],
   "source": [
    "%matplotlib inline\n",
    "import pandas as pd\n",
    "plt.rcParams[\"figure.figsize\"]= (15,5)\n",
    "movies_master=pd.read_csv('../data/movies.csv')\n",
    "movies_data = movies_master.copy()\n",
    "\n",
    "ratings_master=pd.read_csv('../data/ratings.csv')\n",
    "ratings_data = ratings_master.copy()"
   ]
  },
  {
   "cell_type": "code",
   "execution_count": 84,
   "metadata": {},
   "outputs": [],
   "source": [
    "\n",
    "from surprise import Dataset,SVD\n",
    "from surprise import Reader\n",
    "from surprise import accuracy\n",
    "from surprise.model_selection import KFold\n",
    "from surprise.model_selection import cross_validate\n",
    "from surprise.model_selection import train_test_split\n",
    "\n",
    "\n",
    "reader = Reader(rating_scale=(1, 5))\n",
    "data = Dataset.load_from_df(ratings_data[['userId', 'movieId', 'rating']], reader)"
   ]
  },
  {
   "cell_type": "code",
   "execution_count": 85,
   "metadata": {},
   "outputs": [
    {
     "name": "stdout",
     "output_type": "stream",
     "text": [
      "RMSE: 0.8751\n"
     ]
    },
    {
     "data": {
      "text/plain": [
       "0.875139173275407"
      ]
     },
     "execution_count": 85,
     "metadata": {},
     "output_type": "execute_result"
    }
   ],
   "source": [
    "\n",
    "# sample random trainset and testset\n",
    "# test set is made of 25% of the ratings.\n",
    "trainset, testset = train_test_split(data, test_size=.25)\n",
    "\n",
    "# We'll use the famous SVD algorithm.\n",
    "algo = SVD()\n",
    "\n",
    "# Train the algorithm on the trainset, and predict ratings for the testset\n",
    "algo.fit(trainset)\n",
    "predictions = algo.test(testset)\n",
    "\n",
    "# Then compute RMSE\n",
    "accuracy.rmse(predictions)"
   ]
  },
  {
   "cell_type": "code",
   "execution_count": 86,
   "metadata": {},
   "outputs": [
    {
     "name": "stdout",
     "output_type": "stream",
     "text": [
      "RMSE: 0.8857\n",
      "RMSE: 0.8718\n",
      "RMSE: 0.8811\n"
     ]
    }
   ],
   "source": [
    "\n",
    "# define a cross-validation iterator\n",
    "kf = KFold(n_splits=3)\n",
    "\n",
    "algo = SVD()\n",
    "\n",
    "for trainset, testset in kf.split(data):\n",
    "\n",
    "    # train and test algorithm.\n",
    "    algo.fit(trainset)\n",
    "    predictions = algo.test(testset)\n",
    "\n",
    "    # Compute and print Root Mean Squared Error\n",
    "    accuracy.rmse(predictions, verbose=True)"
   ]
  },
  {
   "cell_type": "code",
   "execution_count": 87,
   "metadata": {},
   "outputs": [
    {
     "name": "stdout",
     "output_type": "stream",
     "text": [
      "Computing the cosine similarity matrix...\n",
      "Done computing similarity matrix.\n",
      "Computing the cosine similarity matrix...\n",
      "Done computing similarity matrix.\n",
      "Computing the cosine similarity matrix...\n",
      "Done computing similarity matrix.\n",
      "Computing the cosine similarity matrix...\n",
      "Done computing similarity matrix.\n",
      "Computing the cosine similarity matrix...\n",
      "Done computing similarity matrix.\n",
      "Evaluating RMSE, MAE of algorithm KNNBasic on 5 split(s).\n",
      "\n",
      "                  Fold 1  Fold 2  Fold 3  Fold 4  Fold 5  Mean    Std     \n",
      "RMSE (testset)    0.9675  0.9763  0.9782  0.9745  0.9763  0.9746  0.0037  \n",
      "MAE (testset)     0.7418  0.7498  0.7545  0.7475  0.7506  0.7488  0.0042  \n",
      "Fit time          0.19    0.17    0.14    0.23    0.18    0.18    0.03    \n",
      "Test time         0.65    0.56    0.60    0.63    0.66    0.62    0.04    \n"
     ]
    }
   ],
   "source": [
    "from surprise import KNNBasic\n",
    "\n",
    "sim_options = {'name': 'cosine',\n",
    "               'user_based': True\n",
    "}\n",
    "\n",
    "algo = KNNBasic(k = 20, sim_options = sim_options, verbose = True)\n",
    "# Run 5-fold cross-validation and print results\n",
    "cv_cosine = cross_validate(algo, data, measures = ['RMSE', 'MAE'], cv = 5, verbose = True)\n",
    "\n"
   ]
  },
  {
   "cell_type": "code",
   "execution_count": 88,
   "metadata": {},
   "outputs": [
    {
     "name": "stdout",
     "output_type": "stream",
     "text": [
      "Computing the msd similarity matrix...\n",
      "Done computing similarity matrix.\n",
      "Computing the msd similarity matrix...\n",
      "Done computing similarity matrix.\n",
      "Computing the msd similarity matrix...\n",
      "Done computing similarity matrix.\n",
      "Computing the msd similarity matrix...\n",
      "Done computing similarity matrix.\n",
      "Computing the msd similarity matrix...\n",
      "Done computing similarity matrix.\n",
      "Evaluating RMSE, MAE of algorithm KNNBasic on 5 split(s).\n",
      "\n",
      "                  Fold 1  Fold 2  Fold 3  Fold 4  Fold 5  Mean    Std     \n",
      "RMSE (testset)    0.9073  0.9098  0.9072  0.9080  0.9097  0.9084  0.0011  \n",
      "MAE (testset)     0.7009  0.7021  0.6954  0.6982  0.7003  0.6994  0.0024  \n",
      "Fit time          5.56    3.02    4.28    3.76    3.56    4.03    0.86    \n",
      "Test time         3.77    3.85    3.69    3.78    4.04    3.83    0.12    \n"
     ]
    }
   ],
   "source": [
    "# User Based Collaborative Filtering algorithm results\n",
    "algo = KNNBasic(sim_options = {'algo':\"pearson\",'user_based': False })\n",
    "cv_pearson= cross_validate(algo, data, measures = ['RMSE', 'MAE'], cv = 5, verbose = True)"
   ]
  },
  {
   "cell_type": "code",
   "execution_count": 89,
   "metadata": {},
   "outputs": [
    {
     "name": "stdout",
     "output_type": "stream",
     "text": [
      "Estimating biases using als...\n",
      "Computing the pearson_baseline similarity matrix...\n",
      "Done computing similarity matrix.\n",
      "Estimating biases using als...\n",
      "Computing the pearson_baseline similarity matrix...\n",
      "Done computing similarity matrix.\n",
      "Estimating biases using als...\n",
      "Computing the pearson_baseline similarity matrix...\n",
      "Done computing similarity matrix.\n",
      "Estimating biases using als...\n",
      "Computing the pearson_baseline similarity matrix...\n",
      "Done computing similarity matrix.\n",
      "Estimating biases using als...\n",
      "Computing the pearson_baseline similarity matrix...\n",
      "Done computing similarity matrix.\n",
      "Evaluating RMSE, MAE of algorithm KNNBasic on 5 split(s).\n",
      "\n",
      "                  Fold 1  Fold 2  Fold 3  Fold 4  Fold 5  Mean    Std     \n",
      "RMSE (testset)    0.9721  0.9867  0.9774  0.9836  0.9947  0.9829  0.0077  \n",
      "MAE (testset)     0.7480  0.7571  0.7511  0.7590  0.7636  0.7558  0.0056  \n",
      "Fit time          0.30    0.39    0.24    0.25    0.36    0.31    0.06    \n",
      "Test time         1.17    0.97    0.69    0.83    0.68    0.87    0.19    \n"
     ]
    }
   ],
   "source": [
    "sim_options = {'name': 'pearson_baseline',\n",
    "               'shrinkage': 0  # no shrinkage\n",
    "               }\n",
    "algo = KNNBasic(sim_options=sim_options)\n",
    "cv_pearson_base= cross_validate(algo, data, measures = ['RMSE', 'MAE'], cv = 5, verbose = True)"
   ]
  },
  {
   "cell_type": "code",
   "execution_count": 90,
   "metadata": {},
   "outputs": [
    {
     "name": "stdout",
     "output_type": "stream",
     "text": [
      "Estimating biases using sgd...\n",
      "Estimating biases using sgd...\n",
      "Estimating biases using sgd...\n",
      "Estimating biases using sgd...\n",
      "Estimating biases using sgd...\n",
      "Evaluating RMSE, MAE of algorithm BaselineOnly on 5 split(s).\n",
      "\n",
      "                  Fold 1  Fold 2  Fold 3  Fold 4  Fold 5  Mean    Std     \n",
      "RMSE (testset)    0.9866  0.9823  0.9812  0.9936  0.9925  0.9872  0.0051  \n",
      "MAE (testset)     0.7867  0.7798  0.7786  0.7907  0.7914  0.7854  0.0054  \n",
      "Fit time          0.21    0.20    0.20    0.24    0.18    0.21    0.02    \n",
      "Test time         0.05    0.05    0.04    0.38    0.04    0.11    0.13    \n"
     ]
    }
   ],
   "source": [
    "from surprise import BaselineOnly\n",
    "bsl_options = {'method': 'sgd',\n",
    "               'learning_rate': .00005,\n",
    "               }\n",
    "algo = BaselineOnly(bsl_options=bsl_options)\n",
    "cv_SGD= cross_validate(algo, data, measures = ['RMSE', 'MAE'], cv = 5, verbose = True)"
   ]
  },
  {
   "cell_type": "code",
   "execution_count": 96,
   "metadata": {},
   "outputs": [
    {
     "data": {
      "image/png": "[encoded data removed]",
      "text/plain": [
       "<Figure size 720x360 with 1 Axes>"
      ]
     },
     "metadata": {
      "needs_background": "light"
     },
     "output_type": "display_data"
    }
   ],
   "source": [
    "import numpy as np\n",
    "import matplotlib.pyplot as plt\n",
    "\n",
    "\n",
    "# Get data\n",
    "rmse_cosine = cv_cosine['test_rmse']\n",
    "rmse_pearson = cv_pearson['test_rmse']\n",
    "rmse_pearson_base =cv_pearson_base['test_rmse']\n",
    "rmse_SGD =cv_SGD['test_rmse']\n",
    "x1 = np.arange(len(rmse_cosine))\n",
    "x2 = np.arange(len(rmse_pearson))\n",
    "x3 = np.arange(len(rmse_pearson_base))\n",
    "x4 = np.arange(len(rmse_SGD))\n",
    "# Set up the matplotlib figure\n",
    "fig, ax = plt.subplots(figsize = (10, 5))\n",
    "plt.xticks(np.arange(min(x1+x2+x3+x4), max(x1+x2+x3+x4), 1.0))\n",
    "plt.ylim(0,6, 1.3,0.2)\n",
    "ax.plot(x1, rmse_cosine, marker='o', label=\"cosine\")\n",
    "ax.plot(x2, rmse_pearson, marker='o', label=\"pearson\")\n",
    "ax.plot(x3, rmse_pearson_base, marker='o', label=\"pearson base\")\n",
    "ax.plot(x4, rmse_SGD, marker='o', label=\"SGD\")\n",
    "\n",
    "\n",
    "\n",
    "# Chart setup\n",
    "plt.title(\"RMSE\", fontsize = 12)\n",
    "plt.xlabel(\"CV\", fontsize = 10)\n",
    "plt.ylabel(\"Error\", fontsize = 10)\n",
    "plt.legend()\n",
    "plt.show()"
   ]
  },
  {
   "cell_type": "code",
   "execution_count": 92,
   "metadata": {},
   "outputs": [
    {
     "data": {
      "image/png": "[encoded data removed]",
      "text/plain": [
       "<Figure size 720x360 with 1 Axes>"
      ]
     },
     "metadata": {
      "needs_background": "light"
     },
     "output_type": "display_data"
    }
   ],
   "source": [
    "import numpy as np\n",
    "import matplotlib.pyplot as plt\n",
    "\n",
    "# Get data\n",
    "mae_cosine = cv_cosine['test_mae']\n",
    "mae_pearson = cv_pearson['test_mae']\n",
    "mae_pearson_base =cv_pearson_base['test_mae']\n",
    "mae_SGD =cv_SGD['test_mae']\n",
    "x1 = np.arange(len(mae_cosine))\n",
    "x2 = np.arange(len(mae_pearson))\n",
    "x3 = np.arange(len(mae_pearson_base))\n",
    "x4 = np.arange(len(mae_SGD))\n",
    "\n",
    "\n",
    "# Set up the matplotlib figure\n",
    "fig, ax = plt.subplots(figsize = (10, 5))\n",
    "plt.xticks(np.arange(min(x1+x2+x3), max(x1+x2+x3), 1.0))\n",
    "plt.ylim(0,6, 1.3,0.2)\n",
    "ax.plot(x1, mae_cosine, marker='o', label=\"cosine\")\n",
    "ax.plot(x2, mae_pearson, marker='o', label=\"pearson\")\n",
    "ax.plot(x3, mae_pearson_base, marker='o', label=\"pearson base\")\n",
    "ax.plot(x3, mae_SGD, marker='o', label=\"pearson base\")\n",
    "\n",
    "\n",
    "# Chart setup\n",
    "plt.title(\"MAE\", fontsize = 12)\n",
    "plt.xlabel(\"CV\", fontsize = 10)\n",
    "plt.ylabel(\"Error\", fontsize = 10)\n",
    "plt.legend()\n",
    "plt.show()"
   ]
  },
  {
   "cell_type": "code",
   "execution_count": 93,
   "metadata": {},
   "outputs": [
    {
     "name": "stdout",
     "output_type": "stream",
     "text": [
      "user: 13         item: 181        r_ui = None   est = 3.50   {'was_impossible': False}\n"
     ]
    }
   ],
   "source": [
    "# Without real rating\n",
    "p1 = algo.predict(uid = '13', iid = '181', verbose = True)"
   ]
  },
  {
   "cell_type": "code",
   "execution_count": 94,
   "metadata": {},
   "outputs": [
    {
     "name": "stdout",
     "output_type": "stream",
     "text": [
      "user: 196        item: 302        r_ui = 4.00   est = 3.50   {'was_impossible': False}\n"
     ]
    }
   ],
   "source": [
    "# With real rating\n",
    "p2 = algo.predict(uid = '196', iid = '302', r_ui = 4, verbose = True)"
   ]
  },
  {
   "cell_type": "code",
   "execution_count": 95,
   "metadata": {},
   "outputs": [
    {
     "name": "stdout",
     "output_type": "stream",
     "text": [
      "User Based Collaborative Filtering algorithm result\n",
      "Computing the msd similarity matrix...\n",
      "Done computing similarity matrix.\n",
      "Computing the msd similarity matrix...\n",
      "Done computing similarity matrix.\n",
      "Computing the msd similarity matrix...\n",
      "Done computing similarity matrix.\n",
      "Computing the msd similarity matrix...\n",
      "Done computing similarity matrix.\n",
      "Computing the msd similarity matrix...\n",
      "Done computing similarity matrix.\n",
      "Evaluating RMSE, MAE of algorithm KNNBasic on 5 split(s).\n",
      "\n",
      "                  Fold 1  Fold 2  Fold 3  Fold 4  Fold 5  Mean    Std     \n",
      "RMSE (testset)    0.9139  0.9042  0.9066  0.9129  0.9063  0.9088  0.0039  \n",
      "MAE (testset)     0.7023  0.6972  0.6985  0.7051  0.6979  0.7002  0.0030  \n",
      "Fit time          7.65    4.47    4.55    6.07    8.78    6.30    1.70    \n",
      "Test time         4.09    5.41    6.21    6.94    5.45    5.62    0.95    \n"
     ]
    }
   ],
   "source": [
    "print('User Based Collaborative Filtering algorithm result')\n",
    "algo = KNNBasic(sim_options = {'algo':\"pearson\",'user_based': False })\n",
    "cv = cross_validate(algo, data, measures = ['RMSE', 'MAE'], cv = 5, verbose = True)"
   ]
  }
 ],
 "metadata": {
  "interpreter": {
   "hash": "f99b2389607a909b8f33409561cf8d0332c84ee5f93395b58c015758336e5de4"
  },
  "kernelspec": {
   "display_name": "Python 3.9.12",
   "language": "python",
   "name": "python3"
  },
  "language_info": {
   "codemirror_mode": {
    "name": "ipython",
    "version": 3
   },
   "file_extension": ".py",
   "mimetype": "text/x-python",
   "name": "python",
   "nbconvert_exporter": "python",
   "pygments_lexer": "ipython3",
   "version": "3.9.12"
  },
  "orig_nbformat": 4
 },
 "nbformat": 4,
 "nbformat_minor": 2
}
