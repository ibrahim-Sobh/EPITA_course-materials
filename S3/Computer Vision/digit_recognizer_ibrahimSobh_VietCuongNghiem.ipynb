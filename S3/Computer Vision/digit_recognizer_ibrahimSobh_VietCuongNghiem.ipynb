{
  "cells": [
    {
      "cell_type": "code",
      "execution_count": 3,
      "metadata": {
        "_cell_guid": "b1076dfc-b9ad-4769-8c92-a6c4dae69d19",
        "_uuid": "8f2839f25d086af736a60e9eeb907d3b93b6e0e5",
        "execution": {
          "iopub.execute_input": "2022-07-08T17:08:05.357359Z",
          "iopub.status.busy": "2022-07-08T17:08:05.356905Z",
          "iopub.status.idle": "2022-07-08T17:08:05.372470Z",
          "shell.execute_reply": "2022-07-08T17:08:05.371190Z",
          "shell.execute_reply.started": "2022-07-08T17:08:05.357314Z"
        },
        "id": "kxDRWerv1ZIm",
        "trusted": true
      },
      "outputs": [],
      "source": [
        "import numpy as np\n",
        "import pandas as pd"
      ]
    },
    {
      "cell_type": "markdown",
      "metadata": {
        "id": "fQKWyrje1ZIp"
      },
      "source": [
        "# **Loading Dataset**"
      ]
    },
    {
      "cell_type": "code",
      "execution_count": 2,
      "metadata": {
        "colab": {
          "base_uri": "https://localhost:8080/"
        },
        "id": "6hrKRIHw11Af",
        "outputId": "124f32be-daed-4a0f-e6f6-8ae18ef877c8"
      },
      "outputs": [
        {
          "name": "stdout",
          "output_type": "stream",
          "text": [
            "Mounted at /content/drive\n"
          ]
        }
      ],
      "source": [
        "from google.colab import drive\n",
        "drive.mount('/content/drive')"
      ]
    },
    {
      "cell_type": "code",
      "execution_count": 4,
      "metadata": {
        "id": "Amnx_LLd2FPh"
      },
      "outputs": [],
      "source": [
        "local_path = \"drive/MyDrive/Colab Notebooks/ImageProcessing/\""
      ]
    },
    {
      "cell_type": "code",
      "execution_count": 5,
      "metadata": {
        "id": "6DFAnDUn2AZj"
      },
      "outputs": [],
      "source": [
        "train = pd.read_csv(local_path + \"train.csv\")\n",
        "test = pd.read_csv(local_path + \"test.csv\")"
      ]
    },
    {
      "cell_type": "code",
      "execution_count": 6,
      "metadata": {
        "execution": {
          "iopub.execute_input": "2022-07-08T17:08:16.609942Z",
          "iopub.status.busy": "2022-07-08T17:08:16.609439Z",
          "iopub.status.idle": "2022-07-08T17:08:16.718202Z",
          "shell.execute_reply": "2022-07-08T17:08:16.717097Z",
          "shell.execute_reply.started": "2022-07-08T17:08:16.609902Z"
        },
        "id": "V-LpLOMC1ZIu",
        "trusted": true
      },
      "outputs": [],
      "source": [
        "X = train.drop('label' , axis = 1).to_numpy()\n",
        "y = np.array(train['label']).flatten()"
      ]
    },
    {
      "cell_type": "markdown",
      "metadata": {
        "id": "-DHYA3RU1ZIv"
      },
      "source": [
        "# **Image Visualisation**"
      ]
    },
    {
      "cell_type": "code",
      "execution_count": 7,
      "metadata": {
        "colab": {
          "base_uri": "https://localhost:8080/",
          "height": 333
        },
        "execution": {
          "iopub.execute_input": "2022-07-08T17:08:28.436119Z",
          "iopub.status.busy": "2022-07-08T17:08:28.435373Z",
          "iopub.status.idle": "2022-07-08T17:08:29.603673Z",
          "shell.execute_reply": "2022-07-08T17:08:29.602548Z",
          "shell.execute_reply.started": "2022-07-08T17:08:28.436082Z"
        },
        "id": "q2v0Sib31ZIw",
        "outputId": "2441cb34-37e7-4dc6-d01f-6f2b4bbb9c99",
        "trusted": true
      },
      "outputs": [
        {
          "data": {
            "image/png": "[encoded data removed]",
            "text/plain": [
              "<Figure size 1152x432 with 20 Axes>"
            ]
          },
          "metadata": {
            "needs_background": "light"
          },
          "output_type": "display_data"
        }
      ],
      "source": [
        "import matplotlib.pyplot as plt\n",
        "fig, axes = plt.subplots(2, 10, figsize=(16, 6))\n",
        "for i in range(20):\n",
        "    axes[i//10, i %10].imshow(X[i].reshape(28,28));\n",
        "    axes[i//10, i %10].axis('off')\n",
        "    axes[i//10, i %10].set_title(f\"target: {y[i]}\") \n",
        "plt.tight_layout()"
      ]
    },
    {
      "cell_type": "markdown",
      "metadata": {
        "id": "urnstBm31ZIx"
      },
      "source": [
        "# **Outlier Detection**"
      ]
    },
    {
      "cell_type": "code",
      "execution_count": 8,
      "metadata": {
        "execution": {
          "iopub.execute_input": "2022-07-08T17:08:34.615589Z",
          "iopub.status.busy": "2022-07-08T17:08:34.615198Z",
          "iopub.status.idle": "2022-07-08T17:08:35.226485Z",
          "shell.execute_reply": "2022-07-08T17:08:35.225399Z",
          "shell.execute_reply.started": "2022-07-08T17:08:34.615554Z"
        },
        "id": "kfpO_aZE1ZIx",
        "trusted": true
      },
      "outputs": [],
      "source": [
        "from sklearn.ensemble import IsolationForest\n",
        "Outlier_Detector = IsolationForest()"
      ]
    },
    {
      "cell_type": "markdown",
      "metadata": {
        "id": "bYKhUFJr1ZI0"
      },
      "source": [
        "We want to identify the outliers of each class"
      ]
    },
    {
      "cell_type": "code",
      "execution_count": 9,
      "metadata": {
        "execution": {
          "iopub.execute_input": "2022-07-08T17:09:32.054639Z",
          "iopub.status.busy": "2022-07-08T17:09:32.054256Z",
          "iopub.status.idle": "2022-07-08T17:09:32.060644Z",
          "shell.execute_reply": "2022-07-08T17:09:32.059565Z",
          "shell.execute_reply.started": "2022-07-08T17:09:32.054605Z"
        },
        "id": "MxfTj8nG1ZIy",
        "trusted": true
      },
      "outputs": [],
      "source": [
        "outliers = []\n",
        "for i in range(10):\n",
        "    i_index = train[train.label==i].index\n",
        "    i_outliers = i_index[Outlier_Detector.fit_predict(X[i_index]) == -1]\n",
        "    outliers.append(i_outliers)"
      ]
    },
    {
      "cell_type": "code",
      "execution_count": 10,
      "metadata": {
        "colab": {
          "base_uri": "https://localhost:8080/"
        },
        "execution": {
          "iopub.execute_input": "2022-07-08T16:53:04.253243Z",
          "iopub.status.busy": "2022-07-08T16:53:04.252876Z",
          "iopub.status.idle": "2022-07-08T16:53:05.731064Z",
          "shell.execute_reply": "2022-07-08T16:53:05.730139Z",
          "shell.execute_reply.started": "2022-07-08T16:53:04.253213Z"
        },
        "id": "2-Sgguny1ZI1",
        "outputId": "15134ea9-fd45-4bae-834d-7f572afa88c2",
        "trusted": true
      },
      "outputs": [
        {
          "name": "stdout",
          "output_type": "stream",
          "text": [
            "on number 0 class there is 18.66 % outliers\n",
            "on number 1 class there is 5.49 % outliers\n",
            "on number 2 class there is 9.7 % outliers\n",
            "on number 3 class there is 14.39 % outliers\n",
            "on number 4 class there is 6.36 % outliers\n",
            "on number 5 class there is 12.25 % outliers\n",
            "on number 6 class there is 16.22 % outliers\n",
            "on number 7 class there is 8.32 % outliers\n",
            "on number 8 class there is 17.84 % outliers\n",
            "on number 9 class there is 11.13 % outliers\n"
          ]
        }
      ],
      "source": [
        "for i in range(10):\n",
        "    i_class = sum(y == i)\n",
        "    print(f\"on number {i} class there is {round(len(outliers[i]) / i_class * 100, 2)} % outliers\")"
      ]
    },
    {
      "cell_type": "code",
      "execution_count": 11,
      "metadata": {
        "colab": {
          "base_uri": "https://localhost:8080/",
          "height": 309
        },
        "execution": {
          "iopub.execute_input": "2022-07-08T16:53:40.924253Z",
          "iopub.status.busy": "2022-07-08T16:53:40.923877Z",
          "iopub.status.idle": "2022-07-08T16:53:41.762965Z",
          "shell.execute_reply": "2022-07-08T16:53:41.762017Z",
          "shell.execute_reply.started": "2022-07-08T16:53:40.924220Z"
        },
        "id": "myiGlNcb1ZI4",
        "outputId": "3b098110-487f-4a67-df00-7d6d8c411c6c",
        "trusted": true
      },
      "outputs": [
        {
          "data": {
            "image/png": "[encoded data removed]",
            "text/plain": [
              "<Figure size 1152x432 with 20 Axes>"
            ]
          },
          "metadata": {
            "needs_background": "light"
          },
          "output_type": "display_data"
        }
      ],
      "source": [
        "import matplotlib.pyplot as plt\n",
        "fig, axes = plt.subplots(2, 10, figsize=(16, 6))\n",
        "for _ in range(20):\n",
        "    i = outliers[4][_]\n",
        "    axes[_//10, _ %10].imshow(X[i].reshape(28,28))\n",
        "    axes[_//10, _ %10].axis('off') \n",
        "plt.tight_layout()"
      ]
    },
    {
      "cell_type": "code",
      "execution_count": 15,
      "metadata": {
        "id": "rLL9sQ284Seh"
      },
      "outputs": [],
      "source": [
        "import itertools\n",
        "remove_index = list(itertools.chain.from_iterable(outliers))"
      ]
    },
    {
      "cell_type": "code",
      "execution_count": 18,
      "metadata": {
        "id": "uWFB-r564xkT"
      },
      "outputs": [],
      "source": [
        "train_remove_outlier = train.drop(remove_index)"
      ]
    },
    {
      "cell_type": "code",
      "execution_count": 19,
      "metadata": {
        "id": "Oz6PbmH35cuS"
      },
      "outputs": [],
      "source": [
        "X = train_remove_outlier.drop('label' , axis = 1).to_numpy()\n",
        "y = np.array(train_remove_outlier['label']).flatten()"
      ]
    },
    {
      "cell_type": "markdown",
      "metadata": {
        "id": "XoV9-FQO1ZI5"
      },
      "source": [
        "# **Dimension reduction**"
      ]
    },
    {
      "cell_type": "code",
      "execution_count": 23,
      "metadata": {
        "colab": {
          "base_uri": "https://localhost:8080/"
        },
        "execution": {
          "iopub.execute_input": "2022-07-08T16:53:54.298202Z",
          "iopub.status.busy": "2022-07-08T16:53:54.297814Z",
          "iopub.status.idle": "2022-07-08T16:53:54.796954Z",
          "shell.execute_reply": "2022-07-08T16:53:54.795804Z",
          "shell.execute_reply.started": "2022-07-08T16:53:54.298157Z"
        },
        "id": "y3kW-C1R1ZI5",
        "outputId": "fe289aaa-a15e-4d15-eaac-a70bb746da9d",
        "trusted": true
      },
      "outputs": [
        {
          "name": "stdout",
          "output_type": "stream",
          "text": [
            "(36989, 784)\n"
          ]
        }
      ],
      "source": [
        "from sklearn.preprocessing import StandardScaler\n",
        "scaler = StandardScaler()\n",
        "standardized_data = scaler.fit_transform(X)\n",
        "print(standardized_data.shape)"
      ]
    },
    {
      "cell_type": "code",
      "execution_count": 21,
      "metadata": {
        "execution": {
          "iopub.execute_input": "2022-07-08T16:53:56.753946Z",
          "iopub.status.busy": "2022-07-08T16:53:56.753558Z",
          "iopub.status.idle": "2022-07-08T16:53:56.761445Z",
          "shell.execute_reply": "2022-07-08T16:53:56.760292Z",
          "shell.execute_reply.started": "2022-07-08T16:53:56.753914Z"
        },
        "id": "kGco9y-61ZI6",
        "trusted": true
      },
      "outputs": [],
      "source": [
        "# initializing the pca\n",
        "from sklearn import decomposition\n",
        "pca = decomposition.PCA()"
      ]
    },
    {
      "cell_type": "code",
      "execution_count": 22,
      "metadata": {
        "colab": {
          "base_uri": "https://localhost:8080/",
          "height": 280
        },
        "execution": {
          "iopub.execute_input": "2022-07-08T16:36:46.897256Z",
          "iopub.status.busy": "2022-07-08T16:36:46.896338Z",
          "iopub.status.idle": "2022-07-08T16:36:52.526301Z",
          "shell.execute_reply": "2022-07-08T16:36:52.525232Z",
          "shell.execute_reply.started": "2022-07-08T16:36:46.897180Z"
        },
        "id": "qgZARwPb1ZI7",
        "outputId": "64846f91-dfa6-46a3-a8fd-2f522cdd6b95",
        "trusted": true
      },
      "outputs": [
        {
          "data": {
            "image/png": "[encoded data removed]",
            "text/plain": [
              "<Figure size 432x288 with 1 Axes>"
            ]
          },
          "metadata": {
            "needs_background": "light"
          },
          "output_type": "display_data"
        }
      ],
      "source": [
        "# PCA for dimensionality redcution (non-visualization)\n",
        "pca.n_components = 784\n",
        "pca_data = pca.fit_transform(standardized_data)\n",
        "\n",
        "percentage_var_explained = pca.explained_variance_ / np.sum(pca.explained_variance_);\n",
        "\n",
        "cum_var_explained = np.cumsum(percentage_var_explained)\n",
        "\n",
        "# Plot the PCA spectrum\n",
        "plt.figure(1, figsize=(6, 4))\n",
        "\n",
        "plt.clf()\n",
        "plt.plot(cum_var_explained, linewidth=2)\n",
        "plt.axis('tight')\n",
        "plt.grid()\n",
        "plt.xlabel('n_components')\n",
        "plt.ylabel('Cumulative_explained_variance')\n",
        "plt.show()"
      ]
    },
    {
      "cell_type": "markdown",
      "metadata": {
        "id": "TnSw-O3J1ZI7"
      },
      "source": [
        "# **Classification**"
      ]
    },
    {
      "cell_type": "code",
      "execution_count": 16,
      "metadata": {
        "execution": {
          "iopub.execute_input": "2022-07-08T17:11:08.639301Z",
          "iopub.status.busy": "2022-07-08T17:11:08.638525Z",
          "iopub.status.idle": "2022-07-08T17:11:09.186673Z",
          "shell.execute_reply": "2022-07-08T17:11:09.185588Z",
          "shell.execute_reply.started": "2022-07-08T17:11:08.639260Z"
        },
        "id": "EHqkTeNX1ZI9",
        "trusted": true
      },
      "outputs": [],
      "source": [
        "#standardized_data"
      ]
    },
    {
      "cell_type": "code",
      "execution_count": 24,
      "metadata": {
        "execution": {
          "iopub.execute_input": "2022-07-08T17:14:27.974205Z",
          "iopub.status.busy": "2022-07-08T17:14:27.973804Z",
          "iopub.status.idle": "2022-07-08T17:14:27.979063Z",
          "shell.execute_reply": "2022-07-08T17:14:27.977793Z",
          "shell.execute_reply.started": "2022-07-08T17:14:27.974168Z"
        },
        "id": "f_GimLYo1ZI9",
        "trusted": true
      },
      "outputs": [],
      "source": [
        "from sklearn import decomposition\n",
        "pca = decomposition.PCA()"
      ]
    },
    {
      "cell_type": "code",
      "execution_count": 39,
      "metadata": {
        "execution": {
          "iopub.execute_input": "2022-07-08T17:14:30.627189Z",
          "iopub.status.busy": "2022-07-08T17:14:30.626819Z",
          "iopub.status.idle": "2022-07-08T17:14:34.386438Z",
          "shell.execute_reply": "2022-07-08T17:14:34.385441Z",
          "shell.execute_reply.started": "2022-07-08T17:14:30.627156Z"
        },
        "id": "Z2ysL78x1ZI9",
        "trusted": true
      },
      "outputs": [],
      "source": [
        "pca.n_components = 40\n",
        "X_reduced = pca.fit_transform(standardized_data)"
      ]
    },
    {
      "cell_type": "code",
      "execution_count": 40,
      "metadata": {
        "execution": {
          "iopub.execute_input": "2022-07-08T17:14:42.322882Z",
          "iopub.status.busy": "2022-07-08T17:14:42.321557Z",
          "iopub.status.idle": "2022-07-08T17:14:42.338079Z",
          "shell.execute_reply": "2022-07-08T17:14:42.337012Z",
          "shell.execute_reply.started": "2022-07-08T17:14:42.322835Z"
        },
        "id": "bgll4PV-1ZI-",
        "trusted": true
      },
      "outputs": [],
      "source": [
        "#from sklearn.cross_validation import train_test_split\n",
        "from sklearn.model_selection import train_test_split\n",
        "X_train, X_test, y_train, y_test = train_test_split(X_reduced, y, test_size=0.15, random_state=42)"
      ]
    },
    {
      "cell_type": "code",
      "execution_count": 41,
      "metadata": {
        "colab": {
          "base_uri": "https://localhost:8080/"
        },
        "execution": {
          "iopub.execute_input": "2022-07-08T17:14:47.119330Z",
          "iopub.status.busy": "2022-07-08T17:14:47.118922Z"
        },
        "id": "tJkD0pBD1ZI-",
        "outputId": "03f5f4e4-be57-4efa-86ca-1555b6d0c8e3",
        "trusted": true
      },
      "outputs": [
        {
          "name": "stdout",
          "output_type": "stream",
          "text": [
            "Start learning at 2022-07-08 17:53:40.973154\n",
            "Stop learning 2022-07-08 17:54:01.506513\n",
            "Elapsed learning 0:00:20.533359\n"
          ]
        }
      ],
      "source": [
        "from sklearn import datasets, svm, metrics\n",
        "import datetime as dt\n",
        "\n",
        "classifier = svm.SVC(kernel='linear', decision_function_shape=\"ovo\")\n",
        "\n",
        "#We learn the digits on train part\n",
        "start_time = dt.datetime.now()\n",
        "print('Start learning at {}'.format(str(start_time)))\n",
        "classifier.fit(X_train, y_train)\n",
        "end_time = dt.datetime.now() \n",
        "print('Stop learning {}'.format(str(end_time)))\n",
        "elapsed_time= end_time - start_time\n",
        "print('Elapsed learning {}'.format(str(elapsed_time)))"
      ]
    },
    {
      "cell_type": "code",
      "execution_count": 42,
      "metadata": {
        "colab": {
          "base_uri": "https://localhost:8080/"
        },
        "id": "CumUT7YW6aVM",
        "outputId": "320497cb-4d36-48eb-c666-b51a09ab022a"
      },
      "outputs": [
        {
          "data": {
            "text/plain": [
              "0.9437736529104344"
            ]
          },
          "execution_count": 42,
          "metadata": {},
          "output_type": "execute_result"
        }
      ],
      "source": [
        "metrics.accuracy_score(y_test, classifier.predict(X_test))"
      ]
    },
    {
      "cell_type": "code",
      "execution_count": 43,
      "metadata": {
        "colab": {
          "base_uri": "https://localhost:8080/",
          "height": 334
        },
        "id": "JrcznKYL1ZI_",
        "outputId": "f4ea82df-b665-4556-bce3-486a953760ca",
        "trusted": true
      },
      "outputs": [
        {
          "name": "stderr",
          "output_type": "stream",
          "text": [
            "/usr/local/lib/python3.7/dist-packages/sklearn/utils/deprecation.py:87: FutureWarning: Function plot_confusion_matrix is deprecated; Function `plot_confusion_matrix` is deprecated in 1.0 and will be removed in 1.2. Use one of the class methods: ConfusionMatrixDisplay.from_predictions or ConfusionMatrixDisplay.from_estimator.\n",
            "  warnings.warn(msg, category=FutureWarning)\n"
          ]
        },
        {
          "data": {
            "image/png": "[encoded data removed]",
            "text/plain": [
              "<Figure size 432x288 with 2 Axes>"
            ]
          },
          "metadata": {
            "needs_background": "light"
          },
          "output_type": "display_data"
        }
      ],
      "source": [
        "from sklearn.metrics import plot_confusion_matrix\n",
        "plot_confusion_matrix(classifier, X_test, y_test);"
      ]
    },
    {
      "cell_type": "markdown",
      "metadata": {
        "id": "bdgH-vTh1ZI_"
      },
      "source": [
        "# **Pipeline**"
      ]
    },
    {
      "cell_type": "code",
      "execution_count": 44,
      "metadata": {
        "id": "NBGMZA-C1ZJA"
      },
      "outputs": [],
      "source": [
        "from sklearn.pipeline import Pipeline\n",
        "infer_pipeline = Pipeline([\n",
        "                  ('scaler',scaler),\n",
        "                  ('pca', pca),\n",
        "                  ('classifier', classifier)\n",
        "                  ])"
      ]
    },
    {
      "cell_type": "code",
      "execution_count": 45,
      "metadata": {
        "id": "3SqAYKf51ZJA"
      },
      "outputs": [],
      "source": [
        "X_ = test.to_numpy()"
      ]
    },
    {
      "cell_type": "code",
      "execution_count": 46,
      "metadata": {
        "colab": {
          "base_uri": "https://localhost:8080/"
        },
        "id": "39X4XaN91ZJA",
        "outputId": "85c6fd29-7aa6-412a-a36c-7fed96b3b10b"
      },
      "outputs": [
        {
          "data": {
            "text/plain": [
              "array([2, 0, 9, ..., 3, 9, 2])"
            ]
          },
          "execution_count": 46,
          "metadata": {},
          "output_type": "execute_result"
        }
      ],
      "source": [
        "infer_pipeline.predict(X_)"
      ]
    }
  ],
  "metadata": {
    "colab": {
      "name": "digit-recognizer-ibrahim-nghiem.ipynb",
      "provenance": []
    },
    "kernelspec": {
      "display_name": "Python 3",
      "language": "python",
      "name": "python3"
    },
    "language_info": {
      "codemirror_mode": {
        "name": "ipython",
        "version": 3
      },
      "file_extension": ".py",
      "mimetype": "text/x-python",
      "name": "python",
      "nbconvert_exporter": "python",
      "pygments_lexer": "ipython3",
      "version": "3.7.12"
    }
  },
  "nbformat": 4,
  "nbformat_minor": 0
}
