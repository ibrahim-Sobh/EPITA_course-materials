{
  "nbformat": 4,
  "nbformat_minor": 0,
  "metadata": {
    "colab": {
      "name": "course3_sentiment_analysis_LSTM_solution.ipynb",
      "provenance": []
    },
    "kernelspec": {
      "display_name": "Python 3",
      "name": "python3"
    },
    "language_info": {
      "name": "python"
    },
    "widgets": {
      "application/vnd.jupyter.widget-state+json": {
        "79f99fa104b646a29da15c232fabd578": {
          "model_module": "@jupyter-widgets/controls",
          "model_name": "HBoxModel",
          "state": {
            "_view_name": "HBoxView",
            "_dom_classes": [],
            "_model_name": "HBoxModel",
            "_view_module": "@jupyter-widgets/controls",
            "_model_module_version": "1.5.0",
            "_view_count": null,
            "_view_module_version": "1.5.0",
            "box_style": "",
            "layout": "IPY_MODEL_314894d4cef7428ea5877f502aaba550",
            "_model_module": "@jupyter-widgets/controls",
            "children": [
              "IPY_MODEL_dde668543a1540b988dcb449d0698b08",
              "IPY_MODEL_3ab75d46bc2b42609d784470a4d8e3ed"
            ]
          }
        },
        "314894d4cef7428ea5877f502aaba550": {
          "model_module": "@jupyter-widgets/base",
          "model_name": "LayoutModel",
          "state": {
            "_view_name": "LayoutView",
            "grid_template_rows": null,
            "right": null,
            "justify_content": null,
            "_view_module": "@jupyter-widgets/base",
            "overflow": null,
            "_model_module_version": "1.2.0",
            "_view_count": null,
            "flex_flow": null,
            "width": null,
            "min_width": null,
            "border": null,
            "align_items": null,
            "bottom": null,
            "_model_module": "@jupyter-widgets/base",
            "top": null,
            "grid_column": null,
            "overflow_y": null,
            "overflow_x": null,
            "grid_auto_flow": null,
            "grid_area": null,
            "grid_template_columns": null,
            "flex": null,
            "_model_name": "LayoutModel",
            "justify_items": null,
            "grid_row": null,
            "max_height": null,
            "align_content": null,
            "visibility": null,
            "align_self": null,
            "height": null,
            "min_height": null,
            "padding": null,
            "grid_auto_rows": null,
            "grid_gap": null,
            "max_width": null,
            "order": null,
            "_view_module_version": "1.2.0",
            "grid_template_areas": null,
            "object_position": null,
            "object_fit": null,
            "grid_auto_columns": null,
            "margin": null,
            "display": null,
            "left": null
          }
        },
        "dde668543a1540b988dcb449d0698b08": {
          "model_module": "@jupyter-widgets/controls",
          "model_name": "FloatProgressModel",
          "state": {
            "_view_name": "ProgressView",
            "style": "IPY_MODEL_de109d4f03b941b0832385c530414ab8",
            "_dom_classes": [],
            "description": "Dl Completed...: 100%",
            "_model_name": "FloatProgressModel",
            "bar_style": "success",
            "max": 1,
            "_view_module": "@jupyter-widgets/controls",
            "_model_module_version": "1.5.0",
            "value": 1,
            "_view_count": null,
            "_view_module_version": "1.5.0",
            "orientation": "horizontal",
            "min": 0,
            "description_tooltip": null,
            "_model_module": "@jupyter-widgets/controls",
            "layout": "IPY_MODEL_0f8197f09463462dbd4d1f1a3ec2d926"
          }
        },
        "3ab75d46bc2b42609d784470a4d8e3ed": {
          "model_module": "@jupyter-widgets/controls",
          "model_name": "HTMLModel",
          "state": {
            "_view_name": "HTMLView",
            "style": "IPY_MODEL_3ea8141ec4de4285b3db1300e2771ed3",
            "_dom_classes": [],
            "description": "",
            "_model_name": "HTMLModel",
            "placeholder": "​",
            "_view_module": "@jupyter-widgets/controls",
            "_model_module_version": "1.5.0",
            "value": " 1/1 [00:03&lt;00:00,  3.38s/ url]",
            "_view_count": null,
            "_view_module_version": "1.5.0",
            "description_tooltip": null,
            "_model_module": "@jupyter-widgets/controls",
            "layout": "IPY_MODEL_52aa1e0a745a40bd9d3b155691dbc17c"
          }
        },
        "de109d4f03b941b0832385c530414ab8": {
          "model_module": "@jupyter-widgets/controls",
          "model_name": "ProgressStyleModel",
          "state": {
            "_view_name": "StyleView",
            "_model_name": "ProgressStyleModel",
            "description_width": "initial",
            "_view_module": "@jupyter-widgets/base",
            "_model_module_version": "1.5.0",
            "_view_count": null,
            "_view_module_version": "1.2.0",
            "bar_color": null,
            "_model_module": "@jupyter-widgets/controls"
          }
        },
        "0f8197f09463462dbd4d1f1a3ec2d926": {
          "model_module": "@jupyter-widgets/base",
          "model_name": "LayoutModel",
          "state": {
            "_view_name": "LayoutView",
            "grid_template_rows": null,
            "right": null,
            "justify_content": null,
            "_view_module": "@jupyter-widgets/base",
            "overflow": null,
            "_model_module_version": "1.2.0",
            "_view_count": null,
            "flex_flow": null,
            "width": null,
            "min_width": null,
            "border": null,
            "align_items": null,
            "bottom": null,
            "_model_module": "@jupyter-widgets/base",
            "top": null,
            "grid_column": null,
            "overflow_y": null,
            "overflow_x": null,
            "grid_auto_flow": null,
            "grid_area": null,
            "grid_template_columns": null,
            "flex": null,
            "_model_name": "LayoutModel",
            "justify_items": null,
            "grid_row": null,
            "max_height": null,
            "align_content": null,
            "visibility": null,
            "align_self": null,
            "height": null,
            "min_height": null,
            "padding": null,
            "grid_auto_rows": null,
            "grid_gap": null,
            "max_width": null,
            "order": null,
            "_view_module_version": "1.2.0",
            "grid_template_areas": null,
            "object_position": null,
            "object_fit": null,
            "grid_auto_columns": null,
            "margin": null,
            "display": null,
            "left": null
          }
        },
        "3ea8141ec4de4285b3db1300e2771ed3": {
          "model_module": "@jupyter-widgets/controls",
          "model_name": "DescriptionStyleModel",
          "state": {
            "_view_name": "StyleView",
            "_model_name": "DescriptionStyleModel",
            "description_width": "",
            "_view_module": "@jupyter-widgets/base",
            "_model_module_version": "1.5.0",
            "_view_count": null,
            "_view_module_version": "1.2.0",
            "_model_module": "@jupyter-widgets/controls"
          }
        },
        "52aa1e0a745a40bd9d3b155691dbc17c": {
          "model_module": "@jupyter-widgets/base",
          "model_name": "LayoutModel",
          "state": {
            "_view_name": "LayoutView",
            "grid_template_rows": null,
            "right": null,
            "justify_content": null,
            "_view_module": "@jupyter-widgets/base",
            "overflow": null,
            "_model_module_version": "1.2.0",
            "_view_count": null,
            "flex_flow": null,
            "width": null,
            "min_width": null,
            "border": null,
            "align_items": null,
            "bottom": null,
            "_model_module": "@jupyter-widgets/base",
            "top": null,
            "grid_column": null,
            "overflow_y": null,
            "overflow_x": null,
            "grid_auto_flow": null,
            "grid_area": null,
            "grid_template_columns": null,
            "flex": null,
            "_model_name": "LayoutModel",
            "justify_items": null,
            "grid_row": null,
            "max_height": null,
            "align_content": null,
            "visibility": null,
            "align_self": null,
            "height": null,
            "min_height": null,
            "padding": null,
            "grid_auto_rows": null,
            "grid_gap": null,
            "max_width": null,
            "order": null,
            "_view_module_version": "1.2.0",
            "grid_template_areas": null,
            "object_position": null,
            "object_fit": null,
            "grid_auto_columns": null,
            "margin": null,
            "display": null,
            "left": null
          }
        },
        "87287b8cfacb4201ba338e0b4b697515": {
          "model_module": "@jupyter-widgets/controls",
          "model_name": "HBoxModel",
          "state": {
            "_view_name": "HBoxView",
            "_dom_classes": [],
            "_model_name": "HBoxModel",
            "_view_module": "@jupyter-widgets/controls",
            "_model_module_version": "1.5.0",
            "_view_count": null,
            "_view_module_version": "1.5.0",
            "box_style": "",
            "layout": "IPY_MODEL_600af016b7164bfda9327a9f7457918c",
            "_model_module": "@jupyter-widgets/controls",
            "children": [
              "IPY_MODEL_d6898c838acb49a5b57085b1eb9ba5e4",
              "IPY_MODEL_de0b2e4a10434d44828a9d021fc66b4c"
            ]
          }
        },
        "600af016b7164bfda9327a9f7457918c": {
          "model_module": "@jupyter-widgets/base",
          "model_name": "LayoutModel",
          "state": {
            "_view_name": "LayoutView",
            "grid_template_rows": null,
            "right": null,
            "justify_content": null,
            "_view_module": "@jupyter-widgets/base",
            "overflow": null,
            "_model_module_version": "1.2.0",
            "_view_count": null,
            "flex_flow": null,
            "width": null,
            "min_width": null,
            "border": null,
            "align_items": null,
            "bottom": null,
            "_model_module": "@jupyter-widgets/base",
            "top": null,
            "grid_column": null,
            "overflow_y": null,
            "overflow_x": null,
            "grid_auto_flow": null,
            "grid_area": null,
            "grid_template_columns": null,
            "flex": null,
            "_model_name": "LayoutModel",
            "justify_items": null,
            "grid_row": null,
            "max_height": null,
            "align_content": null,
            "visibility": null,
            "align_self": null,
            "height": null,
            "min_height": null,
            "padding": null,
            "grid_auto_rows": null,
            "grid_gap": null,
            "max_width": null,
            "order": null,
            "_view_module_version": "1.2.0",
            "grid_template_areas": null,
            "object_position": null,
            "object_fit": null,
            "grid_auto_columns": null,
            "margin": null,
            "display": null,
            "left": null
          }
        },
        "d6898c838acb49a5b57085b1eb9ba5e4": {
          "model_module": "@jupyter-widgets/controls",
          "model_name": "FloatProgressModel",
          "state": {
            "_view_name": "ProgressView",
            "style": "IPY_MODEL_19dc3e21601c424faa9ad5af5ecbce85",
            "_dom_classes": [],
            "description": "Dl Size...: 100%",
            "_model_name": "FloatProgressModel",
            "bar_style": "success",
            "max": 1,
            "_view_module": "@jupyter-widgets/controls",
            "_model_module_version": "1.5.0",
            "value": 1,
            "_view_count": null,
            "_view_module_version": "1.5.0",
            "orientation": "horizontal",
            "min": 0,
            "description_tooltip": null,
            "_model_module": "@jupyter-widgets/controls",
            "layout": "IPY_MODEL_245a95c512ea4951bb326370824e6188"
          }
        },
        "de0b2e4a10434d44828a9d021fc66b4c": {
          "model_module": "@jupyter-widgets/controls",
          "model_name": "HTMLModel",
          "state": {
            "_view_name": "HTMLView",
            "style": "IPY_MODEL_1c096daa6c844b84b074921e38cf0152",
            "_dom_classes": [],
            "description": "",
            "_model_name": "HTMLModel",
            "placeholder": "​",
            "_view_module": "@jupyter-widgets/controls",
            "_model_module_version": "1.5.0",
            "value": " 80/80 [00:03&lt;00:00, 24.03 MiB/s]",
            "_view_count": null,
            "_view_module_version": "1.5.0",
            "description_tooltip": null,
            "_model_module": "@jupyter-widgets/controls",
            "layout": "IPY_MODEL_3e707a3136f940f6aa12bbf1acd2ef53"
          }
        },
        "19dc3e21601c424faa9ad5af5ecbce85": {
          "model_module": "@jupyter-widgets/controls",
          "model_name": "ProgressStyleModel",
          "state": {
            "_view_name": "StyleView",
            "_model_name": "ProgressStyleModel",
            "description_width": "initial",
            "_view_module": "@jupyter-widgets/base",
            "_model_module_version": "1.5.0",
            "_view_count": null,
            "_view_module_version": "1.2.0",
            "bar_color": null,
            "_model_module": "@jupyter-widgets/controls"
          }
        },
        "245a95c512ea4951bb326370824e6188": {
          "model_module": "@jupyter-widgets/base",
          "model_name": "LayoutModel",
          "state": {
            "_view_name": "LayoutView",
            "grid_template_rows": null,
            "right": null,
            "justify_content": null,
            "_view_module": "@jupyter-widgets/base",
            "overflow": null,
            "_model_module_version": "1.2.0",
            "_view_count": null,
            "flex_flow": null,
            "width": null,
            "min_width": null,
            "border": null,
            "align_items": null,
            "bottom": null,
            "_model_module": "@jupyter-widgets/base",
            "top": null,
            "grid_column": null,
            "overflow_y": null,
            "overflow_x": null,
            "grid_auto_flow": null,
            "grid_area": null,
            "grid_template_columns": null,
            "flex": null,
            "_model_name": "LayoutModel",
            "justify_items": null,
            "grid_row": null,
            "max_height": null,
            "align_content": null,
            "visibility": null,
            "align_self": null,
            "height": null,
            "min_height": null,
            "padding": null,
            "grid_auto_rows": null,
            "grid_gap": null,
            "max_width": null,
            "order": null,
            "_view_module_version": "1.2.0",
            "grid_template_areas": null,
            "object_position": null,
            "object_fit": null,
            "grid_auto_columns": null,
            "margin": null,
            "display": null,
            "left": null
          }
        },
        "1c096daa6c844b84b074921e38cf0152": {
          "model_module": "@jupyter-widgets/controls",
          "model_name": "DescriptionStyleModel",
          "state": {
            "_view_name": "StyleView",
            "_model_name": "DescriptionStyleModel",
            "description_width": "",
            "_view_module": "@jupyter-widgets/base",
            "_model_module_version": "1.5.0",
            "_view_count": null,
            "_view_module_version": "1.2.0",
            "_model_module": "@jupyter-widgets/controls"
          }
        },
        "3e707a3136f940f6aa12bbf1acd2ef53": {
          "model_module": "@jupyter-widgets/base",
          "model_name": "LayoutModel",
          "state": {
            "_view_name": "LayoutView",
            "grid_template_rows": null,
            "right": null,
            "justify_content": null,
            "_view_module": "@jupyter-widgets/base",
            "overflow": null,
            "_model_module_version": "1.2.0",
            "_view_count": null,
            "flex_flow": null,
            "width": null,
            "min_width": null,
            "border": null,
            "align_items": null,
            "bottom": null,
            "_model_module": "@jupyter-widgets/base",
            "top": null,
            "grid_column": null,
            "overflow_y": null,
            "overflow_x": null,
            "grid_auto_flow": null,
            "grid_area": null,
            "grid_template_columns": null,
            "flex": null,
            "_model_name": "LayoutModel",
            "justify_items": null,
            "grid_row": null,
            "max_height": null,
            "align_content": null,
            "visibility": null,
            "align_self": null,
            "height": null,
            "min_height": null,
            "padding": null,
            "grid_auto_rows": null,
            "grid_gap": null,
            "max_width": null,
            "order": null,
            "_view_module_version": "1.2.0",
            "grid_template_areas": null,
            "object_position": null,
            "object_fit": null,
            "grid_auto_columns": null,
            "margin": null,
            "display": null,
            "left": null
          }
        },
        "cf885101de1c423a9e2ec36e3842170a": {
          "model_module": "@jupyter-widgets/controls",
          "model_name": "HBoxModel",
          "state": {
            "_view_name": "HBoxView",
            "_dom_classes": [],
            "_model_name": "HBoxModel",
            "_view_module": "@jupyter-widgets/controls",
            "_model_module_version": "1.5.0",
            "_view_count": null,
            "_view_module_version": "1.5.0",
            "box_style": "",
            "layout": "IPY_MODEL_a2ce56acafa54358bbb53280df41e7ba",
            "_model_module": "@jupyter-widgets/controls",
            "children": [
              "IPY_MODEL_3a8deece207642bd91cdd4940b8b53cb",
              "IPY_MODEL_92a52ad35d4246ce9a65c3455941befd"
            ]
          }
        },
        "a2ce56acafa54358bbb53280df41e7ba": {
          "model_module": "@jupyter-widgets/base",
          "model_name": "LayoutModel",
          "state": {
            "_view_name": "LayoutView",
            "grid_template_rows": null,
            "right": null,
            "justify_content": null,
            "_view_module": "@jupyter-widgets/base",
            "overflow": null,
            "_model_module_version": "1.2.0",
            "_view_count": null,
            "flex_flow": null,
            "width": null,
            "min_width": null,
            "border": null,
            "align_items": null,
            "bottom": null,
            "_model_module": "@jupyter-widgets/base",
            "top": null,
            "grid_column": null,
            "overflow_y": null,
            "overflow_x": null,
            "grid_auto_flow": null,
            "grid_area": null,
            "grid_template_columns": null,
            "flex": null,
            "_model_name": "LayoutModel",
            "justify_items": null,
            "grid_row": null,
            "max_height": null,
            "align_content": null,
            "visibility": null,
            "align_self": null,
            "height": null,
            "min_height": null,
            "padding": null,
            "grid_auto_rows": null,
            "grid_gap": null,
            "max_width": null,
            "order": null,
            "_view_module_version": "1.2.0",
            "grid_template_areas": null,
            "object_position": null,
            "object_fit": null,
            "grid_auto_columns": null,
            "margin": null,
            "display": null,
            "left": null
          }
        },
        "3a8deece207642bd91cdd4940b8b53cb": {
          "model_module": "@jupyter-widgets/controls",
          "model_name": "FloatProgressModel",
          "state": {
            "_view_name": "ProgressView",
            "style": "IPY_MODEL_0a29781903b64e7ca05b10625bc5e36e",
            "_dom_classes": [],
            "description": "",
            "_model_name": "FloatProgressModel",
            "bar_style": "info",
            "max": 1,
            "_view_module": "@jupyter-widgets/controls",
            "_model_module_version": "1.5.0",
            "value": 1,
            "_view_count": null,
            "_view_module_version": "1.5.0",
            "orientation": "horizontal",
            "min": 0,
            "description_tooltip": null,
            "_model_module": "@jupyter-widgets/controls",
            "layout": "IPY_MODEL_e84be2f9e58f4871b577f373ae14d4df"
          }
        },
        "92a52ad35d4246ce9a65c3455941befd": {
          "model_module": "@jupyter-widgets/controls",
          "model_name": "HTMLModel",
          "state": {
            "_view_name": "HTMLView",
            "style": "IPY_MODEL_b3aed3cf089f4553abffdff38520bb48",
            "_dom_classes": [],
            "description": "",
            "_model_name": "HTMLModel",
            "placeholder": "​",
            "_view_module": "@jupyter-widgets/controls",
            "_model_module_version": "1.5.0",
            "value": " 25000/0 [00:15&lt;00:00, 3088.82 examples/s]",
            "_view_count": null,
            "_view_module_version": "1.5.0",
            "description_tooltip": null,
            "_model_module": "@jupyter-widgets/controls",
            "layout": "IPY_MODEL_d8fd9f8ee364446d967571142f71e768"
          }
        },
        "0a29781903b64e7ca05b10625bc5e36e": {
          "model_module": "@jupyter-widgets/controls",
          "model_name": "ProgressStyleModel",
          "state": {
            "_view_name": "StyleView",
            "_model_name": "ProgressStyleModel",
            "description_width": "initial",
            "_view_module": "@jupyter-widgets/base",
            "_model_module_version": "1.5.0",
            "_view_count": null,
            "_view_module_version": "1.2.0",
            "bar_color": null,
            "_model_module": "@jupyter-widgets/controls"
          }
        },
        "e84be2f9e58f4871b577f373ae14d4df": {
          "model_module": "@jupyter-widgets/base",
          "model_name": "LayoutModel",
          "state": {
            "_view_name": "LayoutView",
            "grid_template_rows": null,
            "right": null,
            "justify_content": null,
            "_view_module": "@jupyter-widgets/base",
            "overflow": null,
            "_model_module_version": "1.2.0",
            "_view_count": null,
            "flex_flow": null,
            "width": null,
            "min_width": null,
            "border": null,
            "align_items": null,
            "bottom": null,
            "_model_module": "@jupyter-widgets/base",
            "top": null,
            "grid_column": null,
            "overflow_y": null,
            "overflow_x": null,
            "grid_auto_flow": null,
            "grid_area": null,
            "grid_template_columns": null,
            "flex": null,
            "_model_name": "LayoutModel",
            "justify_items": null,
            "grid_row": null,
            "max_height": null,
            "align_content": null,
            "visibility": null,
            "align_self": null,
            "height": null,
            "min_height": null,
            "padding": null,
            "grid_auto_rows": null,
            "grid_gap": null,
            "max_width": null,
            "order": null,
            "_view_module_version": "1.2.0",
            "grid_template_areas": null,
            "object_position": null,
            "object_fit": null,
            "grid_auto_columns": null,
            "margin": null,
            "display": null,
            "left": null
          }
        },
        "b3aed3cf089f4553abffdff38520bb48": {
          "model_module": "@jupyter-widgets/controls",
          "model_name": "DescriptionStyleModel",
          "state": {
            "_view_name": "StyleView",
            "_model_name": "DescriptionStyleModel",
            "description_width": "",
            "_view_module": "@jupyter-widgets/base",
            "_model_module_version": "1.5.0",
            "_view_count": null,
            "_view_module_version": "1.2.0",
            "_model_module": "@jupyter-widgets/controls"
          }
        },
        "d8fd9f8ee364446d967571142f71e768": {
          "model_module": "@jupyter-widgets/base",
          "model_name": "LayoutModel",
          "state": {
            "_view_name": "LayoutView",
            "grid_template_rows": null,
            "right": null,
            "justify_content": null,
            "_view_module": "@jupyter-widgets/base",
            "overflow": null,
            "_model_module_version": "1.2.0",
            "_view_count": null,
            "flex_flow": null,
            "width": null,
            "min_width": null,
            "border": null,
            "align_items": null,
            "bottom": null,
            "_model_module": "@jupyter-widgets/base",
            "top": null,
            "grid_column": null,
            "overflow_y": null,
            "overflow_x": null,
            "grid_auto_flow": null,
            "grid_area": null,
            "grid_template_columns": null,
            "flex": null,
            "_model_name": "LayoutModel",
            "justify_items": null,
            "grid_row": null,
            "max_height": null,
            "align_content": null,
            "visibility": null,
            "align_self": null,
            "height": null,
            "min_height": null,
            "padding": null,
            "grid_auto_rows": null,
            "grid_gap": null,
            "max_width": null,
            "order": null,
            "_view_module_version": "1.2.0",
            "grid_template_areas": null,
            "object_position": null,
            "object_fit": null,
            "grid_auto_columns": null,
            "margin": null,
            "display": null,
            "left": null
          }
        },
        "94826993a842417c920aeb6e44df4fd6": {
          "model_module": "@jupyter-widgets/controls",
          "model_name": "HBoxModel",
          "state": {
            "_view_name": "HBoxView",
            "_dom_classes": [],
            "_model_name": "HBoxModel",
            "_view_module": "@jupyter-widgets/controls",
            "_model_module_version": "1.5.0",
            "_view_count": null,
            "_view_module_version": "1.5.0",
            "box_style": "",
            "layout": "IPY_MODEL_eba1bd22c9f74ae3a6603ee7f42b7155",
            "_model_module": "@jupyter-widgets/controls",
            "children": [
              "IPY_MODEL_d2f14ec6d3dd4c728220380c38e7b728",
              "IPY_MODEL_2ee1785ff33845a8a1805bb928b826ad"
            ]
          }
        },
        "eba1bd22c9f74ae3a6603ee7f42b7155": {
          "model_module": "@jupyter-widgets/base",
          "model_name": "LayoutModel",
          "state": {
            "_view_name": "LayoutView",
            "grid_template_rows": null,
            "right": null,
            "justify_content": null,
            "_view_module": "@jupyter-widgets/base",
            "overflow": null,
            "_model_module_version": "1.2.0",
            "_view_count": null,
            "flex_flow": null,
            "width": null,
            "min_width": null,
            "border": null,
            "align_items": null,
            "bottom": null,
            "_model_module": "@jupyter-widgets/base",
            "top": null,
            "grid_column": null,
            "overflow_y": null,
            "overflow_x": null,
            "grid_auto_flow": null,
            "grid_area": null,
            "grid_template_columns": null,
            "flex": null,
            "_model_name": "LayoutModel",
            "justify_items": null,
            "grid_row": null,
            "max_height": null,
            "align_content": null,
            "visibility": null,
            "align_self": null,
            "height": null,
            "min_height": null,
            "padding": null,
            "grid_auto_rows": null,
            "grid_gap": null,
            "max_width": null,
            "order": null,
            "_view_module_version": "1.2.0",
            "grid_template_areas": null,
            "object_position": null,
            "object_fit": null,
            "grid_auto_columns": null,
            "margin": null,
            "display": null,
            "left": null
          }
        },
        "d2f14ec6d3dd4c728220380c38e7b728": {
          "model_module": "@jupyter-widgets/controls",
          "model_name": "FloatProgressModel",
          "state": {
            "_view_name": "ProgressView",
            "style": "IPY_MODEL_4d71e4e1fb9a4f6db21c49c8c231e472",
            "_dom_classes": [],
            "description": " 22%",
            "_model_name": "FloatProgressModel",
            "bar_style": "danger",
            "max": 25000,
            "_view_module": "@jupyter-widgets/controls",
            "_model_module_version": "1.5.0",
            "value": 5504,
            "_view_count": null,
            "_view_module_version": "1.5.0",
            "orientation": "horizontal",
            "min": 0,
            "description_tooltip": null,
            "_model_module": "@jupyter-widgets/controls",
            "layout": "IPY_MODEL_1ab3740b251d4e93aadff6bc50f00d9b"
          }
        },
        "2ee1785ff33845a8a1805bb928b826ad": {
          "model_module": "@jupyter-widgets/controls",
          "model_name": "HTMLModel",
          "state": {
            "_view_name": "HTMLView",
            "style": "IPY_MODEL_4180fe45880f4eacaef82055b99297db",
            "_dom_classes": [],
            "description": "",
            "_model_name": "HTMLModel",
            "placeholder": "​",
            "_view_module": "@jupyter-widgets/controls",
            "_model_module_version": "1.5.0",
            "value": " 5504/25000 [00:00&lt;00:00, 55037.17 examples/s]",
            "_view_count": null,
            "_view_module_version": "1.5.0",
            "description_tooltip": null,
            "_model_module": "@jupyter-widgets/controls",
            "layout": "IPY_MODEL_f321fd116f0d4f409e3a76eb8e26e517"
          }
        },
        "4d71e4e1fb9a4f6db21c49c8c231e472": {
          "model_module": "@jupyter-widgets/controls",
          "model_name": "ProgressStyleModel",
          "state": {
            "_view_name": "StyleView",
            "_model_name": "ProgressStyleModel",
            "description_width": "initial",
            "_view_module": "@jupyter-widgets/base",
            "_model_module_version": "1.5.0",
            "_view_count": null,
            "_view_module_version": "1.2.0",
            "bar_color": null,
            "_model_module": "@jupyter-widgets/controls"
          }
        },
        "1ab3740b251d4e93aadff6bc50f00d9b": {
          "model_module": "@jupyter-widgets/base",
          "model_name": "LayoutModel",
          "state": {
            "_view_name": "LayoutView",
            "grid_template_rows": null,
            "right": null,
            "justify_content": null,
            "_view_module": "@jupyter-widgets/base",
            "overflow": null,
            "_model_module_version": "1.2.0",
            "_view_count": null,
            "flex_flow": null,
            "width": null,
            "min_width": null,
            "border": null,
            "align_items": null,
            "bottom": null,
            "_model_module": "@jupyter-widgets/base",
            "top": null,
            "grid_column": null,
            "overflow_y": null,
            "overflow_x": null,
            "grid_auto_flow": null,
            "grid_area": null,
            "grid_template_columns": null,
            "flex": null,
            "_model_name": "LayoutModel",
            "justify_items": null,
            "grid_row": null,
            "max_height": null,
            "align_content": null,
            "visibility": null,
            "align_self": null,
            "height": null,
            "min_height": null,
            "padding": null,
            "grid_auto_rows": null,
            "grid_gap": null,
            "max_width": null,
            "order": null,
            "_view_module_version": "1.2.0",
            "grid_template_areas": null,
            "object_position": null,
            "object_fit": null,
            "grid_auto_columns": null,
            "margin": null,
            "display": null,
            "left": null
          }
        },
        "4180fe45880f4eacaef82055b99297db": {
          "model_module": "@jupyter-widgets/controls",
          "model_name": "DescriptionStyleModel",
          "state": {
            "_view_name": "StyleView",
            "_model_name": "DescriptionStyleModel",
            "description_width": "",
            "_view_module": "@jupyter-widgets/base",
            "_model_module_version": "1.5.0",
            "_view_count": null,
            "_view_module_version": "1.2.0",
            "_model_module": "@jupyter-widgets/controls"
          }
        },
        "f321fd116f0d4f409e3a76eb8e26e517": {
          "model_module": "@jupyter-widgets/base",
          "model_name": "LayoutModel",
          "state": {
            "_view_name": "LayoutView",
            "grid_template_rows": null,
            "right": null,
            "justify_content": null,
            "_view_module": "@jupyter-widgets/base",
            "overflow": null,
            "_model_module_version": "1.2.0",
            "_view_count": null,
            "flex_flow": null,
            "width": null,
            "min_width": null,
            "border": null,
            "align_items": null,
            "bottom": null,
            "_model_module": "@jupyter-widgets/base",
            "top": null,
            "grid_column": null,
            "overflow_y": null,
            "overflow_x": null,
            "grid_auto_flow": null,
            "grid_area": null,
            "grid_template_columns": null,
            "flex": null,
            "_model_name": "LayoutModel",
            "justify_items": null,
            "grid_row": null,
            "max_height": null,
            "align_content": null,
            "visibility": null,
            "align_self": null,
            "height": null,
            "min_height": null,
            "padding": null,
            "grid_auto_rows": null,
            "grid_gap": null,
            "max_width": null,
            "order": null,
            "_view_module_version": "1.2.0",
            "grid_template_areas": null,
            "object_position": null,
            "object_fit": null,
            "grid_auto_columns": null,
            "margin": null,
            "display": null,
            "left": null
          }
        },
        "d06789a06219453d89366be717ebf062": {
          "model_module": "@jupyter-widgets/controls",
          "model_name": "HBoxModel",
          "state": {
            "_view_name": "HBoxView",
            "_dom_classes": [],
            "_model_name": "HBoxModel",
            "_view_module": "@jupyter-widgets/controls",
            "_model_module_version": "1.5.0",
            "_view_count": null,
            "_view_module_version": "1.5.0",
            "box_style": "",
            "layout": "IPY_MODEL_a66762c9603843d19f2b247448bdcc99",
            "_model_module": "@jupyter-widgets/controls",
            "children": [
              "IPY_MODEL_536e0cff98ac49cc9b7fa28572f94df3",
              "IPY_MODEL_7ba4e12cef554fc3962ab623ac8e62f7"
            ]
          }
        },
        "a66762c9603843d19f2b247448bdcc99": {
          "model_module": "@jupyter-widgets/base",
          "model_name": "LayoutModel",
          "state": {
            "_view_name": "LayoutView",
            "grid_template_rows": null,
            "right": null,
            "justify_content": null,
            "_view_module": "@jupyter-widgets/base",
            "overflow": null,
            "_model_module_version": "1.2.0",
            "_view_count": null,
            "flex_flow": null,
            "width": null,
            "min_width": null,
            "border": null,
            "align_items": null,
            "bottom": null,
            "_model_module": "@jupyter-widgets/base",
            "top": null,
            "grid_column": null,
            "overflow_y": null,
            "overflow_x": null,
            "grid_auto_flow": null,
            "grid_area": null,
            "grid_template_columns": null,
            "flex": null,
            "_model_name": "LayoutModel",
            "justify_items": null,
            "grid_row": null,
            "max_height": null,
            "align_content": null,
            "visibility": null,
            "align_self": null,
            "height": null,
            "min_height": null,
            "padding": null,
            "grid_auto_rows": null,
            "grid_gap": null,
            "max_width": null,
            "order": null,
            "_view_module_version": "1.2.0",
            "grid_template_areas": null,
            "object_position": null,
            "object_fit": null,
            "grid_auto_columns": null,
            "margin": null,
            "display": null,
            "left": null
          }
        },
        "536e0cff98ac49cc9b7fa28572f94df3": {
          "model_module": "@jupyter-widgets/controls",
          "model_name": "FloatProgressModel",
          "state": {
            "_view_name": "ProgressView",
            "style": "IPY_MODEL_0c3b58953f5c42158437edab30fe55ae",
            "_dom_classes": [],
            "description": "",
            "_model_name": "FloatProgressModel",
            "bar_style": "info",
            "max": 1,
            "_view_module": "@jupyter-widgets/controls",
            "_model_module_version": "1.5.0",
            "value": 1,
            "_view_count": null,
            "_view_module_version": "1.5.0",
            "orientation": "horizontal",
            "min": 0,
            "description_tooltip": null,
            "_model_module": "@jupyter-widgets/controls",
            "layout": "IPY_MODEL_616e983ff5c64830828e2a2b3db478bf"
          }
        },
        "7ba4e12cef554fc3962ab623ac8e62f7": {
          "model_module": "@jupyter-widgets/controls",
          "model_name": "HTMLModel",
          "state": {
            "_view_name": "HTMLView",
            "style": "IPY_MODEL_d28f5e491cb14a8188173316e9dda131",
            "_dom_classes": [],
            "description": "",
            "_model_name": "HTMLModel",
            "placeholder": "​",
            "_view_module": "@jupyter-widgets/controls",
            "_model_module_version": "1.5.0",
            "value": " 25000/0 [00:15&lt;00:00, 3158.52 examples/s]",
            "_view_count": null,
            "_view_module_version": "1.5.0",
            "description_tooltip": null,
            "_model_module": "@jupyter-widgets/controls",
            "layout": "IPY_MODEL_12be7eb98a004cc0915b0527c1dfd2f4"
          }
        },
        "0c3b58953f5c42158437edab30fe55ae": {
          "model_module": "@jupyter-widgets/controls",
          "model_name": "ProgressStyleModel",
          "state": {
            "_view_name": "StyleView",
            "_model_name": "ProgressStyleModel",
            "description_width": "initial",
            "_view_module": "@jupyter-widgets/base",
            "_model_module_version": "1.5.0",
            "_view_count": null,
            "_view_module_version": "1.2.0",
            "bar_color": null,
            "_model_module": "@jupyter-widgets/controls"
          }
        },
        "616e983ff5c64830828e2a2b3db478bf": {
          "model_module": "@jupyter-widgets/base",
          "model_name": "LayoutModel",
          "state": {
            "_view_name": "LayoutView",
            "grid_template_rows": null,
            "right": null,
            "justify_content": null,
            "_view_module": "@jupyter-widgets/base",
            "overflow": null,
            "_model_module_version": "1.2.0",
            "_view_count": null,
            "flex_flow": null,
            "width": null,
            "min_width": null,
            "border": null,
            "align_items": null,
            "bottom": null,
            "_model_module": "@jupyter-widgets/base",
            "top": null,
            "grid_column": null,
            "overflow_y": null,
            "overflow_x": null,
            "grid_auto_flow": null,
            "grid_area": null,
            "grid_template_columns": null,
            "flex": null,
            "_model_name": "LayoutModel",
            "justify_items": null,
            "grid_row": null,
            "max_height": null,
            "align_content": null,
            "visibility": null,
            "align_self": null,
            "height": null,
            "min_height": null,
            "padding": null,
            "grid_auto_rows": null,
            "grid_gap": null,
            "max_width": null,
            "order": null,
            "_view_module_version": "1.2.0",
            "grid_template_areas": null,
            "object_position": null,
            "object_fit": null,
            "grid_auto_columns": null,
            "margin": null,
            "display": null,
            "left": null
          }
        },
        "d28f5e491cb14a8188173316e9dda131": {
          "model_module": "@jupyter-widgets/controls",
          "model_name": "DescriptionStyleModel",
          "state": {
            "_view_name": "StyleView",
            "_model_name": "DescriptionStyleModel",
            "description_width": "",
            "_view_module": "@jupyter-widgets/base",
            "_model_module_version": "1.5.0",
            "_view_count": null,
            "_view_module_version": "1.2.0",
            "_model_module": "@jupyter-widgets/controls"
          }
        },
        "12be7eb98a004cc0915b0527c1dfd2f4": {
          "model_module": "@jupyter-widgets/base",
          "model_name": "LayoutModel",
          "state": {
            "_view_name": "LayoutView",
            "grid_template_rows": null,
            "right": null,
            "justify_content": null,
            "_view_module": "@jupyter-widgets/base",
            "overflow": null,
            "_model_module_version": "1.2.0",
            "_view_count": null,
            "flex_flow": null,
            "width": null,
            "min_width": null,
            "border": null,
            "align_items": null,
            "bottom": null,
            "_model_module": "@jupyter-widgets/base",
            "top": null,
            "grid_column": null,
            "overflow_y": null,
            "overflow_x": null,
            "grid_auto_flow": null,
            "grid_area": null,
            "grid_template_columns": null,
            "flex": null,
            "_model_name": "LayoutModel",
            "justify_items": null,
            "grid_row": null,
            "max_height": null,
            "align_content": null,
            "visibility": null,
            "align_self": null,
            "height": null,
            "min_height": null,
            "padding": null,
            "grid_auto_rows": null,
            "grid_gap": null,
            "max_width": null,
            "order": null,
            "_view_module_version": "1.2.0",
            "grid_template_areas": null,
            "object_position": null,
            "object_fit": null,
            "grid_auto_columns": null,
            "margin": null,
            "display": null,
            "left": null
          }
        },
        "c0c931b119e1444abcecc6f8a4c4c689": {
          "model_module": "@jupyter-widgets/controls",
          "model_name": "HBoxModel",
          "state": {
            "_view_name": "HBoxView",
            "_dom_classes": [],
            "_model_name": "HBoxModel",
            "_view_module": "@jupyter-widgets/controls",
            "_model_module_version": "1.5.0",
            "_view_count": null,
            "_view_module_version": "1.5.0",
            "box_style": "",
            "layout": "IPY_MODEL_c9699d5a81fb47c0baeae5e036c79391",
            "_model_module": "@jupyter-widgets/controls",
            "children": [
              "IPY_MODEL_052f887d878a4f48b1003a94e969055a",
              "IPY_MODEL_dcd9bfa9635f40f9a1404f2193882f8e"
            ]
          }
        },
        "c9699d5a81fb47c0baeae5e036c79391": {
          "model_module": "@jupyter-widgets/base",
          "model_name": "LayoutModel",
          "state": {
            "_view_name": "LayoutView",
            "grid_template_rows": null,
            "right": null,
            "justify_content": null,
            "_view_module": "@jupyter-widgets/base",
            "overflow": null,
            "_model_module_version": "1.2.0",
            "_view_count": null,
            "flex_flow": null,
            "width": null,
            "min_width": null,
            "border": null,
            "align_items": null,
            "bottom": null,
            "_model_module": "@jupyter-widgets/base",
            "top": null,
            "grid_column": null,
            "overflow_y": null,
            "overflow_x": null,
            "grid_auto_flow": null,
            "grid_area": null,
            "grid_template_columns": null,
            "flex": null,
            "_model_name": "LayoutModel",
            "justify_items": null,
            "grid_row": null,
            "max_height": null,
            "align_content": null,
            "visibility": null,
            "align_self": null,
            "height": null,
            "min_height": null,
            "padding": null,
            "grid_auto_rows": null,
            "grid_gap": null,
            "max_width": null,
            "order": null,
            "_view_module_version": "1.2.0",
            "grid_template_areas": null,
            "object_position": null,
            "object_fit": null,
            "grid_auto_columns": null,
            "margin": null,
            "display": null,
            "left": null
          }
        },
        "052f887d878a4f48b1003a94e969055a": {
          "model_module": "@jupyter-widgets/controls",
          "model_name": "FloatProgressModel",
          "state": {
            "_view_name": "ProgressView",
            "style": "IPY_MODEL_c3c681924974455aa45d27648e16e064",
            "_dom_classes": [],
            "description": " 18%",
            "_model_name": "FloatProgressModel",
            "bar_style": "danger",
            "max": 25000,
            "_view_module": "@jupyter-widgets/controls",
            "_model_module_version": "1.5.0",
            "value": 4462,
            "_view_count": null,
            "_view_module_version": "1.5.0",
            "orientation": "horizontal",
            "min": 0,
            "description_tooltip": null,
            "_model_module": "@jupyter-widgets/controls",
            "layout": "IPY_MODEL_4987ab9a37264549a639751a226dae78"
          }
        },
        "dcd9bfa9635f40f9a1404f2193882f8e": {
          "model_module": "@jupyter-widgets/controls",
          "model_name": "HTMLModel",
          "state": {
            "_view_name": "HTMLView",
            "style": "IPY_MODEL_ee41dd50a9f14e6aafa63d67955d40de",
            "_dom_classes": [],
            "description": "",
            "_model_name": "HTMLModel",
            "placeholder": "​",
            "_view_module": "@jupyter-widgets/controls",
            "_model_module_version": "1.5.0",
            "value": " 4462/25000 [00:00&lt;00:00, 44618.98 examples/s]",
            "_view_count": null,
            "_view_module_version": "1.5.0",
            "description_tooltip": null,
            "_model_module": "@jupyter-widgets/controls",
            "layout": "IPY_MODEL_241700e21fd948f0b2b7543feb816c9f"
          }
        },
        "c3c681924974455aa45d27648e16e064": {
          "model_module": "@jupyter-widgets/controls",
          "model_name": "ProgressStyleModel",
          "state": {
            "_view_name": "StyleView",
            "_model_name": "ProgressStyleModel",
            "description_width": "initial",
            "_view_module": "@jupyter-widgets/base",
            "_model_module_version": "1.5.0",
            "_view_count": null,
            "_view_module_version": "1.2.0",
            "bar_color": null,
            "_model_module": "@jupyter-widgets/controls"
          }
        },
        "4987ab9a37264549a639751a226dae78": {
          "model_module": "@jupyter-widgets/base",
          "model_name": "LayoutModel",
          "state": {
            "_view_name": "LayoutView",
            "grid_template_rows": null,
            "right": null,
            "justify_content": null,
            "_view_module": "@jupyter-widgets/base",
            "overflow": null,
            "_model_module_version": "1.2.0",
            "_view_count": null,
            "flex_flow": null,
            "width": null,
            "min_width": null,
            "border": null,
            "align_items": null,
            "bottom": null,
            "_model_module": "@jupyter-widgets/base",
            "top": null,
            "grid_column": null,
            "overflow_y": null,
            "overflow_x": null,
            "grid_auto_flow": null,
            "grid_area": null,
            "grid_template_columns": null,
            "flex": null,
            "_model_name": "LayoutModel",
            "justify_items": null,
            "grid_row": null,
            "max_height": null,
            "align_content": null,
            "visibility": null,
            "align_self": null,
            "height": null,
            "min_height": null,
            "padding": null,
            "grid_auto_rows": null,
            "grid_gap": null,
            "max_width": null,
            "order": null,
            "_view_module_version": "1.2.0",
            "grid_template_areas": null,
            "object_position": null,
            "object_fit": null,
            "grid_auto_columns": null,
            "margin": null,
            "display": null,
            "left": null
          }
        },
        "ee41dd50a9f14e6aafa63d67955d40de": {
          "model_module": "@jupyter-widgets/controls",
          "model_name": "DescriptionStyleModel",
          "state": {
            "_view_name": "StyleView",
            "_model_name": "DescriptionStyleModel",
            "description_width": "",
            "_view_module": "@jupyter-widgets/base",
            "_model_module_version": "1.5.0",
            "_view_count": null,
            "_view_module_version": "1.2.0",
            "_model_module": "@jupyter-widgets/controls"
          }
        },
        "241700e21fd948f0b2b7543feb816c9f": {
          "model_module": "@jupyter-widgets/base",
          "model_name": "LayoutModel",
          "state": {
            "_view_name": "LayoutView",
            "grid_template_rows": null,
            "right": null,
            "justify_content": null,
            "_view_module": "@jupyter-widgets/base",
            "overflow": null,
            "_model_module_version": "1.2.0",
            "_view_count": null,
            "flex_flow": null,
            "width": null,
            "min_width": null,
            "border": null,
            "align_items": null,
            "bottom": null,
            "_model_module": "@jupyter-widgets/base",
            "top": null,
            "grid_column": null,
            "overflow_y": null,
            "overflow_x": null,
            "grid_auto_flow": null,
            "grid_area": null,
            "grid_template_columns": null,
            "flex": null,
            "_model_name": "LayoutModel",
            "justify_items": null,
            "grid_row": null,
            "max_height": null,
            "align_content": null,
            "visibility": null,
            "align_self": null,
            "height": null,
            "min_height": null,
            "padding": null,
            "grid_auto_rows": null,
            "grid_gap": null,
            "max_width": null,
            "order": null,
            "_view_module_version": "1.2.0",
            "grid_template_areas": null,
            "object_position": null,
            "object_fit": null,
            "grid_auto_columns": null,
            "margin": null,
            "display": null,
            "left": null
          }
        },
        "0dc5f738839b4c8a8d72f05db05ed2de": {
          "model_module": "@jupyter-widgets/controls",
          "model_name": "HBoxModel",
          "state": {
            "_view_name": "HBoxView",
            "_dom_classes": [],
            "_model_name": "HBoxModel",
            "_view_module": "@jupyter-widgets/controls",
            "_model_module_version": "1.5.0",
            "_view_count": null,
            "_view_module_version": "1.5.0",
            "box_style": "",
            "layout": "IPY_MODEL_3f1018475ac641dbb7487aeaff622fe0",
            "_model_module": "@jupyter-widgets/controls",
            "children": [
              "IPY_MODEL_e71ff2938f104ab4ba0044dcd7f31348",
              "IPY_MODEL_74bd8f997d9d40e4b0e224e587de7850"
            ]
          }
        },
        "3f1018475ac641dbb7487aeaff622fe0": {
          "model_module": "@jupyter-widgets/base",
          "model_name": "LayoutModel",
          "state": {
            "_view_name": "LayoutView",
            "grid_template_rows": null,
            "right": null,
            "justify_content": null,
            "_view_module": "@jupyter-widgets/base",
            "overflow": null,
            "_model_module_version": "1.2.0",
            "_view_count": null,
            "flex_flow": null,
            "width": null,
            "min_width": null,
            "border": null,
            "align_items": null,
            "bottom": null,
            "_model_module": "@jupyter-widgets/base",
            "top": null,
            "grid_column": null,
            "overflow_y": null,
            "overflow_x": null,
            "grid_auto_flow": null,
            "grid_area": null,
            "grid_template_columns": null,
            "flex": null,
            "_model_name": "LayoutModel",
            "justify_items": null,
            "grid_row": null,
            "max_height": null,
            "align_content": null,
            "visibility": null,
            "align_self": null,
            "height": null,
            "min_height": null,
            "padding": null,
            "grid_auto_rows": null,
            "grid_gap": null,
            "max_width": null,
            "order": null,
            "_view_module_version": "1.2.0",
            "grid_template_areas": null,
            "object_position": null,
            "object_fit": null,
            "grid_auto_columns": null,
            "margin": null,
            "display": null,
            "left": null
          }
        },
        "e71ff2938f104ab4ba0044dcd7f31348": {
          "model_module": "@jupyter-widgets/controls",
          "model_name": "FloatProgressModel",
          "state": {
            "_view_name": "ProgressView",
            "style": "IPY_MODEL_2690ccd13c5f4170ba0efe8b72d1a244",
            "_dom_classes": [],
            "description": "",
            "_model_name": "FloatProgressModel",
            "bar_style": "info",
            "max": 1,
            "_view_module": "@jupyter-widgets/controls",
            "_model_module_version": "1.5.0",
            "value": 1,
            "_view_count": null,
            "_view_module_version": "1.5.0",
            "orientation": "horizontal",
            "min": 0,
            "description_tooltip": null,
            "_model_module": "@jupyter-widgets/controls",
            "layout": "IPY_MODEL_3d30b925b0e845edaa2ab520f58f3d0c"
          }
        },
        "74bd8f997d9d40e4b0e224e587de7850": {
          "model_module": "@jupyter-widgets/controls",
          "model_name": "HTMLModel",
          "state": {
            "_view_name": "HTMLView",
            "style": "IPY_MODEL_1739c78a4e3c475b88a5ce1dae994598",
            "_dom_classes": [],
            "description": "",
            "_model_name": "HTMLModel",
            "placeholder": "​",
            "_view_module": "@jupyter-widgets/controls",
            "_model_module_version": "1.5.0",
            "value": " 50000/0 [00:21&lt;00:00, 3171.69 examples/s]",
            "_view_count": null,
            "_view_module_version": "1.5.0",
            "description_tooltip": null,
            "_model_module": "@jupyter-widgets/controls",
            "layout": "IPY_MODEL_52386cb2aa3d44d08513870ab2eccb3f"
          }
        },
        "2690ccd13c5f4170ba0efe8b72d1a244": {
          "model_module": "@jupyter-widgets/controls",
          "model_name": "ProgressStyleModel",
          "state": {
            "_view_name": "StyleView",
            "_model_name": "ProgressStyleModel",
            "description_width": "initial",
            "_view_module": "@jupyter-widgets/base",
            "_model_module_version": "1.5.0",
            "_view_count": null,
            "_view_module_version": "1.2.0",
            "bar_color": null,
            "_model_module": "@jupyter-widgets/controls"
          }
        },
        "3d30b925b0e845edaa2ab520f58f3d0c": {
          "model_module": "@jupyter-widgets/base",
          "model_name": "LayoutModel",
          "state": {
            "_view_name": "LayoutView",
            "grid_template_rows": null,
            "right": null,
            "justify_content": null,
            "_view_module": "@jupyter-widgets/base",
            "overflow": null,
            "_model_module_version": "1.2.0",
            "_view_count": null,
            "flex_flow": null,
            "width": null,
            "min_width": null,
            "border": null,
            "align_items": null,
            "bottom": null,
            "_model_module": "@jupyter-widgets/base",
            "top": null,
            "grid_column": null,
            "overflow_y": null,
            "overflow_x": null,
            "grid_auto_flow": null,
            "grid_area": null,
            "grid_template_columns": null,
            "flex": null,
            "_model_name": "LayoutModel",
            "justify_items": null,
            "grid_row": null,
            "max_height": null,
            "align_content": null,
            "visibility": null,
            "align_self": null,
            "height": null,
            "min_height": null,
            "padding": null,
            "grid_auto_rows": null,
            "grid_gap": null,
            "max_width": null,
            "order": null,
            "_view_module_version": "1.2.0",
            "grid_template_areas": null,
            "object_position": null,
            "object_fit": null,
            "grid_auto_columns": null,
            "margin": null,
            "display": null,
            "left": null
          }
        },
        "1739c78a4e3c475b88a5ce1dae994598": {
          "model_module": "@jupyter-widgets/controls",
          "model_name": "DescriptionStyleModel",
          "state": {
            "_view_name": "StyleView",
            "_model_name": "DescriptionStyleModel",
            "description_width": "",
            "_view_module": "@jupyter-widgets/base",
            "_model_module_version": "1.5.0",
            "_view_count": null,
            "_view_module_version": "1.2.0",
            "_model_module": "@jupyter-widgets/controls"
          }
        },
        "52386cb2aa3d44d08513870ab2eccb3f": {
          "model_module": "@jupyter-widgets/base",
          "model_name": "LayoutModel",
          "state": {
            "_view_name": "LayoutView",
            "grid_template_rows": null,
            "right": null,
            "justify_content": null,
            "_view_module": "@jupyter-widgets/base",
            "overflow": null,
            "_model_module_version": "1.2.0",
            "_view_count": null,
            "flex_flow": null,
            "width": null,
            "min_width": null,
            "border": null,
            "align_items": null,
            "bottom": null,
            "_model_module": "@jupyter-widgets/base",
            "top": null,
            "grid_column": null,
            "overflow_y": null,
            "overflow_x": null,
            "grid_auto_flow": null,
            "grid_area": null,
            "grid_template_columns": null,
            "flex": null,
            "_model_name": "LayoutModel",
            "justify_items": null,
            "grid_row": null,
            "max_height": null,
            "align_content": null,
            "visibility": null,
            "align_self": null,
            "height": null,
            "min_height": null,
            "padding": null,
            "grid_auto_rows": null,
            "grid_gap": null,
            "max_width": null,
            "order": null,
            "_view_module_version": "1.2.0",
            "grid_template_areas": null,
            "object_position": null,
            "object_fit": null,
            "grid_auto_columns": null,
            "margin": null,
            "display": null,
            "left": null
          }
        },
        "beb875b56fad49d09ff725f5ebf40eb7": {
          "model_module": "@jupyter-widgets/controls",
          "model_name": "HBoxModel",
          "state": {
            "_view_name": "HBoxView",
            "_dom_classes": [],
            "_model_name": "HBoxModel",
            "_view_module": "@jupyter-widgets/controls",
            "_model_module_version": "1.5.0",
            "_view_count": null,
            "_view_module_version": "1.5.0",
            "box_style": "",
            "layout": "IPY_MODEL_82580fd385a740ab8d5c00879f2313af",
            "_model_module": "@jupyter-widgets/controls",
            "children": [
              "IPY_MODEL_740e1f2030174ae3b259c70552055d46",
              "IPY_MODEL_cf953defeeb54eeca2508146703860fc"
            ]
          }
        },
        "82580fd385a740ab8d5c00879f2313af": {
          "model_module": "@jupyter-widgets/base",
          "model_name": "LayoutModel",
          "state": {
            "_view_name": "LayoutView",
            "grid_template_rows": null,
            "right": null,
            "justify_content": null,
            "_view_module": "@jupyter-widgets/base",
            "overflow": null,
            "_model_module_version": "1.2.0",
            "_view_count": null,
            "flex_flow": null,
            "width": null,
            "min_width": null,
            "border": null,
            "align_items": null,
            "bottom": null,
            "_model_module": "@jupyter-widgets/base",
            "top": null,
            "grid_column": null,
            "overflow_y": null,
            "overflow_x": null,
            "grid_auto_flow": null,
            "grid_area": null,
            "grid_template_columns": null,
            "flex": null,
            "_model_name": "LayoutModel",
            "justify_items": null,
            "grid_row": null,
            "max_height": null,
            "align_content": null,
            "visibility": null,
            "align_self": null,
            "height": null,
            "min_height": null,
            "padding": null,
            "grid_auto_rows": null,
            "grid_gap": null,
            "max_width": null,
            "order": null,
            "_view_module_version": "1.2.0",
            "grid_template_areas": null,
            "object_position": null,
            "object_fit": null,
            "grid_auto_columns": null,
            "margin": null,
            "display": null,
            "left": null
          }
        },
        "740e1f2030174ae3b259c70552055d46": {
          "model_module": "@jupyter-widgets/controls",
          "model_name": "FloatProgressModel",
          "state": {
            "_view_name": "ProgressView",
            "style": "IPY_MODEL_623d2e32f2e74503bdd831cd56ecc9d6",
            "_dom_classes": [],
            "description": " 86%",
            "_model_name": "FloatProgressModel",
            "bar_style": "danger",
            "max": 50000,
            "_view_module": "@jupyter-widgets/controls",
            "_model_module_version": "1.5.0",
            "value": 42803,
            "_view_count": null,
            "_view_module_version": "1.5.0",
            "orientation": "horizontal",
            "min": 0,
            "description_tooltip": null,
            "_model_module": "@jupyter-widgets/controls",
            "layout": "IPY_MODEL_c0e1af4703404e379237c6f08c8006ba"
          }
        },
        "cf953defeeb54eeca2508146703860fc": {
          "model_module": "@jupyter-widgets/controls",
          "model_name": "HTMLModel",
          "state": {
            "_view_name": "HTMLView",
            "style": "IPY_MODEL_fef2efb88b22410b9d8f788ec591627e",
            "_dom_classes": [],
            "description": "",
            "_model_name": "HTMLModel",
            "placeholder": "​",
            "_view_module": "@jupyter-widgets/controls",
            "_model_module_version": "1.5.0",
            "value": " 42803/50000 [00:00&lt;06:17, 19.07 examples/s]",
            "_view_count": null,
            "_view_module_version": "1.5.0",
            "description_tooltip": null,
            "_model_module": "@jupyter-widgets/controls",
            "layout": "IPY_MODEL_5aed4f3006124b8d9422c53811b701ef"
          }
        },
        "623d2e32f2e74503bdd831cd56ecc9d6": {
          "model_module": "@jupyter-widgets/controls",
          "model_name": "ProgressStyleModel",
          "state": {
            "_view_name": "StyleView",
            "_model_name": "ProgressStyleModel",
            "description_width": "initial",
            "_view_module": "@jupyter-widgets/base",
            "_model_module_version": "1.5.0",
            "_view_count": null,
            "_view_module_version": "1.2.0",
            "bar_color": null,
            "_model_module": "@jupyter-widgets/controls"
          }
        },
        "c0e1af4703404e379237c6f08c8006ba": {
          "model_module": "@jupyter-widgets/base",
          "model_name": "LayoutModel",
          "state": {
            "_view_name": "LayoutView",
            "grid_template_rows": null,
            "right": null,
            "justify_content": null,
            "_view_module": "@jupyter-widgets/base",
            "overflow": null,
            "_model_module_version": "1.2.0",
            "_view_count": null,
            "flex_flow": null,
            "width": null,
            "min_width": null,
            "border": null,
            "align_items": null,
            "bottom": null,
            "_model_module": "@jupyter-widgets/base",
            "top": null,
            "grid_column": null,
            "overflow_y": null,
            "overflow_x": null,
            "grid_auto_flow": null,
            "grid_area": null,
            "grid_template_columns": null,
            "flex": null,
            "_model_name": "LayoutModel",
            "justify_items": null,
            "grid_row": null,
            "max_height": null,
            "align_content": null,
            "visibility": null,
            "align_self": null,
            "height": null,
            "min_height": null,
            "padding": null,
            "grid_auto_rows": null,
            "grid_gap": null,
            "max_width": null,
            "order": null,
            "_view_module_version": "1.2.0",
            "grid_template_areas": null,
            "object_position": null,
            "object_fit": null,
            "grid_auto_columns": null,
            "margin": null,
            "display": null,
            "left": null
          }
        },
        "fef2efb88b22410b9d8f788ec591627e": {
          "model_module": "@jupyter-widgets/controls",
          "model_name": "DescriptionStyleModel",
          "state": {
            "_view_name": "StyleView",
            "_model_name": "DescriptionStyleModel",
            "description_width": "",
            "_view_module": "@jupyter-widgets/base",
            "_model_module_version": "1.5.0",
            "_view_count": null,
            "_view_module_version": "1.2.0",
            "_model_module": "@jupyter-widgets/controls"
          }
        },
        "5aed4f3006124b8d9422c53811b701ef": {
          "model_module": "@jupyter-widgets/base",
          "model_name": "LayoutModel",
          "state": {
            "_view_name": "LayoutView",
            "grid_template_rows": null,
            "right": null,
            "justify_content": null,
            "_view_module": "@jupyter-widgets/base",
            "overflow": null,
            "_model_module_version": "1.2.0",
            "_view_count": null,
            "flex_flow": null,
            "width": null,
            "min_width": null,
            "border": null,
            "align_items": null,
            "bottom": null,
            "_model_module": "@jupyter-widgets/base",
            "top": null,
            "grid_column": null,
            "overflow_y": null,
            "overflow_x": null,
            "grid_auto_flow": null,
            "grid_area": null,
            "grid_template_columns": null,
            "flex": null,
            "_model_name": "LayoutModel",
            "justify_items": null,
            "grid_row": null,
            "max_height": null,
            "align_content": null,
            "visibility": null,
            "align_self": null,
            "height": null,
            "min_height": null,
            "padding": null,
            "grid_auto_rows": null,
            "grid_gap": null,
            "max_width": null,
            "order": null,
            "_view_module_version": "1.2.0",
            "grid_template_areas": null,
            "object_position": null,
            "object_fit": null,
            "grid_auto_columns": null,
            "margin": null,
            "display": null,
            "left": null
          }
        }
      }
    }
  },
  "cells": [
    {
      "cell_type": "code",
      "metadata": {
        "id": "iWVBvSIx2yiT"
      },
      "source": [
        "import tensorflow as tf\n",
        "import tensorflow_hub as hub\n",
        "import matplotlib.pyplot as plt\n",
        "%matplotlib inline\n",
        "import pandas as pd\n",
        "import numpy as np\n",
        "from tensorflow import keras\n",
        "from tensorflow.keras.layers import Dense, Dropout, Bidirectional, GRU, LSTM, Embedding, Conv1D, GlobalAveragePooling1D"
      ],
      "execution_count": null,
      "outputs": []
    },
    {
      "cell_type": "markdown",
      "metadata": {
        "id": "y5RciN0LIzOb"
      },
      "source": [
        "Definition of a plot function for training result visualization"
      ]
    },
    {
      "cell_type": "code",
      "metadata": {
        "id": "cXWhKMLm3weE"
      },
      "source": [
        "def plot_results(history):\n",
        "    hist_df = pd.DataFrame(history.history)\n",
        "    hist_df.columns=[\"loss\", \"accuracy\", \"val_loss\", \"val_accuracy\"]\n",
        "    hist_df.index = np.arange(1, len(hist_df)+1)\n",
        "    \n",
        "    fig, axs = plt.subplots(nrows=2, sharex=True, figsize=(16, 10))\n",
        "    axs[0].plot(hist_df.val_accuracy, lw=3, label='Validation Accuracy')\n",
        "    axs[0].plot(hist_df.accuracy, lw=3, label='Training Accuracy')\n",
        "    axs[0].set_ylabel('Accuracy')\n",
        "    axs[0].set_xlabel('Epoch')\n",
        "    axs[0].grid()\n",
        "    axs[0].legend(loc=0)\n",
        "    axs[1].plot(hist_df.val_loss, lw=3, label='Validation Loss')\n",
        "    axs[1].plot(hist_df.loss, lw=3, label='Training Loss')\n",
        "    axs[1].set_ylabel('Loss')\n",
        "    axs[1].set_xlabel('Epoch')\n",
        "    axs[1].grid()\n",
        "    axs[1].legend(loc=0)\n",
        "    \n",
        "    plt.show();"
      ],
      "execution_count": null,
      "outputs": []
    },
    {
      "cell_type": "markdown",
      "metadata": {
        "id": "dOY1622pI28O"
      },
      "source": [
        "## Preprocessing of the data"
      ]
    },
    {
      "cell_type": "markdown",
      "metadata": {
        "id": "QNrVgIYtI4A5"
      },
      "source": [
        "We get the IMDB dataset directly from the tensorflow_datasets API"
      ]
    },
    {
      "cell_type": "code",
      "metadata": {
        "colab": {
          "base_uri": "https://localhost:8080/",
          "height": 361,
          "referenced_widgets": [
            "79f99fa104b646a29da15c232fabd578",
            "314894d4cef7428ea5877f502aaba550",
            "dde668543a1540b988dcb449d0698b08",
            "3ab75d46bc2b42609d784470a4d8e3ed",
            "de109d4f03b941b0832385c530414ab8",
            "0f8197f09463462dbd4d1f1a3ec2d926",
            "3ea8141ec4de4285b3db1300e2771ed3",
            "52aa1e0a745a40bd9d3b155691dbc17c",
            "87287b8cfacb4201ba338e0b4b697515",
            "600af016b7164bfda9327a9f7457918c",
            "d6898c838acb49a5b57085b1eb9ba5e4",
            "de0b2e4a10434d44828a9d021fc66b4c",
            "19dc3e21601c424faa9ad5af5ecbce85",
            "245a95c512ea4951bb326370824e6188",
            "1c096daa6c844b84b074921e38cf0152",
            "3e707a3136f940f6aa12bbf1acd2ef53",
            "cf885101de1c423a9e2ec36e3842170a",
            "a2ce56acafa54358bbb53280df41e7ba",
            "3a8deece207642bd91cdd4940b8b53cb",
            "92a52ad35d4246ce9a65c3455941befd",
            "0a29781903b64e7ca05b10625bc5e36e",
            "e84be2f9e58f4871b577f373ae14d4df",
            "b3aed3cf089f4553abffdff38520bb48",
            "d8fd9f8ee364446d967571142f71e768",
            "94826993a842417c920aeb6e44df4fd6",
            "eba1bd22c9f74ae3a6603ee7f42b7155",
            "d2f14ec6d3dd4c728220380c38e7b728",
            "2ee1785ff33845a8a1805bb928b826ad",
            "4d71e4e1fb9a4f6db21c49c8c231e472",
            "1ab3740b251d4e93aadff6bc50f00d9b",
            "4180fe45880f4eacaef82055b99297db",
            "f321fd116f0d4f409e3a76eb8e26e517",
            "d06789a06219453d89366be717ebf062",
            "a66762c9603843d19f2b247448bdcc99",
            "536e0cff98ac49cc9b7fa28572f94df3",
            "7ba4e12cef554fc3962ab623ac8e62f7",
            "0c3b58953f5c42158437edab30fe55ae",
            "616e983ff5c64830828e2a2b3db478bf",
            "d28f5e491cb14a8188173316e9dda131",
            "12be7eb98a004cc0915b0527c1dfd2f4",
            "c0c931b119e1444abcecc6f8a4c4c689",
            "c9699d5a81fb47c0baeae5e036c79391",
            "052f887d878a4f48b1003a94e969055a",
            "dcd9bfa9635f40f9a1404f2193882f8e",
            "c3c681924974455aa45d27648e16e064",
            "4987ab9a37264549a639751a226dae78",
            "ee41dd50a9f14e6aafa63d67955d40de",
            "241700e21fd948f0b2b7543feb816c9f",
            "0dc5f738839b4c8a8d72f05db05ed2de",
            "3f1018475ac641dbb7487aeaff622fe0",
            "e71ff2938f104ab4ba0044dcd7f31348",
            "74bd8f997d9d40e4b0e224e587de7850",
            "2690ccd13c5f4170ba0efe8b72d1a244",
            "3d30b925b0e845edaa2ab520f58f3d0c",
            "1739c78a4e3c475b88a5ce1dae994598",
            "52386cb2aa3d44d08513870ab2eccb3f",
            "beb875b56fad49d09ff725f5ebf40eb7",
            "82580fd385a740ab8d5c00879f2313af",
            "740e1f2030174ae3b259c70552055d46",
            "cf953defeeb54eeca2508146703860fc",
            "623d2e32f2e74503bdd831cd56ecc9d6",
            "c0e1af4703404e379237c6f08c8006ba",
            "fef2efb88b22410b9d8f788ec591627e",
            "5aed4f3006124b8d9422c53811b701ef"
          ]
        },
        "id": "IyA1_yxX3yXj",
        "outputId": "8958f4eb-8594-4a02-c934-aa1f910403dd"
      },
      "source": [
        "import tensorflow_datasets as tfds\n",
        "\n",
        "datasets, info = tfds.load(\"imdb_reviews\", as_supervised=True, with_info=True)\n"
      ],
      "execution_count": null,
      "outputs": [
        {
          "output_type": "stream",
          "text": [
            "\u001b[1mDownloading and preparing dataset imdb_reviews/plain_text/1.0.0 (download: 80.23 MiB, generated: Unknown size, total: 80.23 MiB) to /root/tensorflow_datasets/imdb_reviews/plain_text/1.0.0...\u001b[0m\n"
          ],
          "name": "stdout"
        },
        {
          "output_type": "display_data",
          "data": {
            "application/vnd.jupyter.widget-view+json": {
              "model_id": "79f99fa104b646a29da15c232fabd578",
              "version_minor": 0,
              "version_major": 2
            },
            "text/plain": [
              "HBox(children=(FloatProgress(value=1.0, bar_style='info', description='Dl Completed...', max=1.0, style=Progre…"
            ]
          },
          "metadata": {
            "tags": []
          }
        },
        {
          "output_type": "display_data",
          "data": {
            "application/vnd.jupyter.widget-view+json": {
              "model_id": "87287b8cfacb4201ba338e0b4b697515",
              "version_minor": 0,
              "version_major": 2
            },
            "text/plain": [
              "HBox(children=(FloatProgress(value=1.0, bar_style='info', description='Dl Size...', max=1.0, style=ProgressSty…"
            ]
          },
          "metadata": {
            "tags": []
          }
        },
        {
          "output_type": "stream",
          "text": [
            "\n",
            "\n",
            "\n",
            "\n"
          ],
          "name": "stdout"
        },
        {
          "output_type": "display_data",
          "data": {
            "application/vnd.jupyter.widget-view+json": {
              "model_id": "cf885101de1c423a9e2ec36e3842170a",
              "version_minor": 0,
              "version_major": 2
            },
            "text/plain": [
              "HBox(children=(FloatProgress(value=1.0, bar_style='info', max=1.0), HTML(value='')))"
            ]
          },
          "metadata": {
            "tags": []
          }
        },
        {
          "output_type": "stream",
          "text": [
            "\rShuffling and writing examples to /root/tensorflow_datasets/imdb_reviews/plain_text/1.0.0.incompleteQT8XW1/imdb_reviews-train.tfrecord\n"
          ],
          "name": "stdout"
        },
        {
          "output_type": "display_data",
          "data": {
            "application/vnd.jupyter.widget-view+json": {
              "model_id": "94826993a842417c920aeb6e44df4fd6",
              "version_minor": 0,
              "version_major": 2
            },
            "text/plain": [
              "HBox(children=(FloatProgress(value=0.0, max=25000.0), HTML(value='')))"
            ]
          },
          "metadata": {
            "tags": []
          }
        },
        {
          "output_type": "stream",
          "text": [
            "\r"
          ],
          "name": "stdout"
        },
        {
          "output_type": "display_data",
          "data": {
            "application/vnd.jupyter.widget-view+json": {
              "model_id": "d06789a06219453d89366be717ebf062",
              "version_minor": 0,
              "version_major": 2
            },
            "text/plain": [
              "HBox(children=(FloatProgress(value=1.0, bar_style='info', max=1.0), HTML(value='')))"
            ]
          },
          "metadata": {
            "tags": []
          }
        },
        {
          "output_type": "stream",
          "text": [
            "\rShuffling and writing examples to /root/tensorflow_datasets/imdb_reviews/plain_text/1.0.0.incompleteQT8XW1/imdb_reviews-test.tfrecord\n"
          ],
          "name": "stdout"
        },
        {
          "output_type": "display_data",
          "data": {
            "application/vnd.jupyter.widget-view+json": {
              "model_id": "c0c931b119e1444abcecc6f8a4c4c689",
              "version_minor": 0,
              "version_major": 2
            },
            "text/plain": [
              "HBox(children=(FloatProgress(value=0.0, max=25000.0), HTML(value='')))"
            ]
          },
          "metadata": {
            "tags": []
          }
        },
        {
          "output_type": "stream",
          "text": [
            "\r"
          ],
          "name": "stdout"
        },
        {
          "output_type": "display_data",
          "data": {
            "application/vnd.jupyter.widget-view+json": {
              "model_id": "0dc5f738839b4c8a8d72f05db05ed2de",
              "version_minor": 0,
              "version_major": 2
            },
            "text/plain": [
              "HBox(children=(FloatProgress(value=1.0, bar_style='info', max=1.0), HTML(value='')))"
            ]
          },
          "metadata": {
            "tags": []
          }
        },
        {
          "output_type": "stream",
          "text": [
            "\rShuffling and writing examples to /root/tensorflow_datasets/imdb_reviews/plain_text/1.0.0.incompleteQT8XW1/imdb_reviews-unsupervised.tfrecord\n"
          ],
          "name": "stdout"
        },
        {
          "output_type": "display_data",
          "data": {
            "application/vnd.jupyter.widget-view+json": {
              "model_id": "beb875b56fad49d09ff725f5ebf40eb7",
              "version_minor": 0,
              "version_major": 2
            },
            "text/plain": [
              "HBox(children=(FloatProgress(value=0.0, max=50000.0), HTML(value='')))"
            ]
          },
          "metadata": {
            "tags": []
          }
        },
        {
          "output_type": "stream",
          "text": [
            "WARNING:absl:Dataset is using deprecated text encoder API which will be removed soon. Please use the plain_text version of the dataset and migrate to `tensorflow_text`.\n"
          ],
          "name": "stderr"
        },
        {
          "output_type": "stream",
          "text": [
            "\u001b[1mDataset imdb_reviews downloaded and prepared to /root/tensorflow_datasets/imdb_reviews/plain_text/1.0.0. Subsequent calls will reuse this data.\u001b[0m\n",
            "\r"
          ],
          "name": "stdout"
        }
      ]
    },
    {
      "cell_type": "markdown",
      "metadata": {
        "id": "18dkwf-KJFZL"
      },
      "source": [
        "We build train and test sets, getting both the string input data as well as the labels"
      ]
    },
    {
      "cell_type": "code",
      "metadata": {
        "id": "-ahFZyLx3_Ti"
      },
      "source": [
        "train_data, test_data = datasets['train'], datasets['test']\n",
        "\n",
        "training_sentences = []\n",
        "training_labels = []\n",
        "\n",
        "testing_sentences = []\n",
        "testing_labels = []\n",
        "\n",
        "for s,l in train_data:\n",
        "  training_sentences.append(str(s.numpy()))\n",
        "  training_labels.append(l.numpy())\n",
        "  \n",
        "for s,l in test_data:\n",
        "  testing_sentences.append(str(s.numpy()))\n",
        "  testing_labels.append(l.numpy())\n",
        "  \n",
        "training_labels_final = np.array(training_labels)\n",
        "testing_labels_final = np.array(testing_labels)"
      ],
      "execution_count": null,
      "outputs": []
    },
    {
      "cell_type": "markdown",
      "metadata": {
        "id": "k2S91GJEKCzs"
      },
      "source": [
        "We can check some values of the data to have a good understanding of it"
      ]
    },
    {
      "cell_type": "code",
      "metadata": {
        "colab": {
          "base_uri": "https://localhost:8080/",
          "height": 91
        },
        "id": "dBf3h41GJ1PT",
        "outputId": "8c76dbd5-3f73-4247-eb1a-1fb5a5b9b2d6"
      },
      "source": [
        "training_sentences[0]"
      ],
      "execution_count": null,
      "outputs": [
        {
          "output_type": "execute_result",
          "data": {
            "application/vnd.google.colaboratory.intrinsic+json": {
              "type": "string"
            },
            "text/plain": [
              "'b\"This was an absolutely terrible movie. Don\\'t be lured in by Christopher Walken or Michael Ironside. Both are great actors, but this must simply be their worst role in history. Even their great acting could not redeem this movie\\'s ridiculous storyline. This movie is an early nineties US propaganda piece. The most pathetic scenes were those when the Columbian rebels were making their cases for revolutions. Maria Conchita Alonso appeared phony, and her pseudo-love affair with Walken was nothing but a pathetic emotional plug in a movie that was devoid of any real meaning. I am disappointed that there are movies like this, ruining actor\\'s like Christopher Walken\\'s good name. I could barely sit through it.\"'"
            ]
          },
          "metadata": {
            "tags": []
          },
          "execution_count": 5
        }
      ]
    },
    {
      "cell_type": "code",
      "metadata": {
        "colab": {
          "base_uri": "https://localhost:8080/"
        },
        "id": "inMgJKirJ-NZ",
        "outputId": "bdc556b1-a46a-4880-a486-f01a45c640b8"
      },
      "source": [
        "training_labels[0]"
      ],
      "execution_count": null,
      "outputs": [
        {
          "output_type": "execute_result",
          "data": {
            "text/plain": [
              "0"
            ]
          },
          "metadata": {
            "tags": []
          },
          "execution_count": 6
        }
      ]
    },
    {
      "cell_type": "markdown",
      "metadata": {
        "id": "aex5LOT7KWZf"
      },
      "source": [
        "We create, from the text reviews, padding sequences of token values"
      ]
    },
    {
      "cell_type": "code",
      "metadata": {
        "id": "xWR3QRqB4VL2"
      },
      "source": [
        "vocab_size = 10000\n",
        "embedding_dim = 16\n",
        "max_length = 120\n",
        "trunc_type='post'\n",
        "oov_tok = \"<OOV>\"\n",
        "\n",
        "\n",
        "from tensorflow.keras.preprocessing.text import Tokenizer\n",
        "from tensorflow.keras.preprocessing.sequence import pad_sequences\n",
        "\n",
        "tokenizer = Tokenizer(num_words = vocab_size, oov_token=oov_tok)\n",
        "tokenizer.fit_on_texts(training_sentences)\n",
        "word_index = tokenizer.word_index\n",
        "sequences = tokenizer.texts_to_sequences(training_sentences)\n",
        "padded = pad_sequences(sequences,maxlen=max_length, truncating=trunc_type)\n",
        "\n",
        "testing_sequences = tokenizer.texts_to_sequences(testing_sentences)\n",
        "testing_padded = pad_sequences(testing_sequences,maxlen=max_length)"
      ],
      "execution_count": null,
      "outputs": []
    },
    {
      "cell_type": "markdown",
      "metadata": {
        "id": "KuoEH8acMeXz"
      },
      "source": [
        "Have a look to some values in order to understand how we go from text sentences to sequences of tokens and, finally, to zero-padded sequences"
      ]
    },
    {
      "cell_type": "code",
      "metadata": {
        "colab": {
          "base_uri": "https://localhost:8080/",
          "height": 54
        },
        "id": "CNUtJ6-_K_3I",
        "outputId": "487efbef-749b-4714-ba6e-ae74763cb30c"
      },
      "source": [
        "testing_sentences[20]"
      ],
      "execution_count": null,
      "outputs": [
        {
          "output_type": "execute_result",
          "data": {
            "application/vnd.google.colaboratory.intrinsic+json": {
              "type": "string"
            },
            "text/plain": [
              "'b\"I really tried, but this movie just didn\\'t work for me. The action scenes were dull, the acting was surprisingly poor, and some of these characters were TOO stereotypical to even be funny. Pam Grier tries, but when you have nothing to work with, even her considerable talent cannot prevent a disaster. Even by the standards of this weak genre, this film is pretty bad.\"'"
            ]
          },
          "metadata": {
            "tags": []
          },
          "execution_count": 8
        }
      ]
    },
    {
      "cell_type": "code",
      "metadata": {
        "colab": {
          "base_uri": "https://localhost:8080/"
        },
        "id": "fWQJiSY5LFHR",
        "outputId": "0d60401d-00fe-472e-db0e-42370239e61f"
      },
      "source": [
        "print(testing_sequences[20])\n",
        "print(f\"length of the sequence: {len(testing_sequences[20])}\")"
      ],
      "execution_count": null,
      "outputs": [
        {
          "output_type": "stream",
          "text": [
            "[59, 11, 68, 812, 19, 12, 18, 43, 330, 157, 16, 73, 2, 204, 140, 72, 767, 2, 116, 14, 1255, 344, 3, 50, 5, 135, 106, 72, 100, 2794, 6, 62, 29, 162, 8844, 1, 506, 19, 55, 23, 28, 163, 6, 157, 17, 62, 40, 4452, 682, 577, 3673, 4, 1712, 62, 33, 2, 1574, 5, 12, 830, 517, 12, 20, 7, 184, 80]\n",
            "length of the sequence: 66\n"
          ],
          "name": "stdout"
        }
      ]
    },
    {
      "cell_type": "code",
      "metadata": {
        "id": "UmuJf8hpLObw",
        "colab": {
          "base_uri": "https://localhost:8080/"
        },
        "outputId": "1ed9902d-9a12-4d25-b74f-45d4f0da583e"
      },
      "source": [
        "print(testing_padded[20])\n",
        "print(f\"length of the sequence: {len(testing_padded[20])}\")"
      ],
      "execution_count": null,
      "outputs": [
        {
          "output_type": "stream",
          "text": [
            "[   0    0    0    0    0    0    0    0    0    0    0    0    0    0\n",
            "    0    0    0    0    0    0    0    0    0    0    0    0    0    0\n",
            "    0    0    0    0    0    0    0    0    0    0    0    0    0    0\n",
            "    0    0    0    0    0    0    0    0    0    0    0    0   59   11\n",
            "   68  812   19   12   18   43  330  157   16   73    2  204  140   72\n",
            "  767    2  116   14 1255  344    3   50    5  135  106   72  100 2794\n",
            "    6   62   29  162 8844    1  506   19   55   23   28  163    6  157\n",
            "   17   62   40 4452  682  577 3673    4 1712   62   33    2 1574    5\n",
            "   12  830  517   12   20    7  184   80]\n",
            "length of the sequence: 120\n"
          ],
          "name": "stdout"
        }
      ]
    },
    {
      "cell_type": "markdown",
      "metadata": {
        "id": "QpnZ_y5PNBpR"
      },
      "source": [
        "The *reverse_word_index* function allows to transform the padded sequence into the original text. The padded-zero are translated into \"*?*\" and the unknown words into \"*\\<OOV\\>*\""
      ]
    },
    {
      "cell_type": "code",
      "metadata": {
        "colab": {
          "base_uri": "https://localhost:8080/"
        },
        "id": "hdPJpmpl4aww",
        "outputId": "a183a3d2-3eae-4f0d-f3f6-18a91c94f33b"
      },
      "source": [
        "reverse_word_index = dict([(value, key) for (key, value) in word_index.items()])\n",
        "\n",
        "def decode_review(text):\n",
        "    return ' '.join([reverse_word_index.get(i, '?') for i in text])\n",
        "\n",
        "print(decode_review(padded[1]))\n",
        "print(training_sentences[1])"
      ],
      "execution_count": null,
      "outputs": [
        {
          "output_type": "stream",
          "text": [
            "? ? ? ? ? ? ? b'i have been known to fall asleep during films but this is usually due to a combination of things including really tired being warm and comfortable on the <OOV> and having just eaten a lot however on this occasion i fell asleep because the film was rubbish the plot development was constant constantly slow and boring things seemed to happen but with no explanation of what was causing them or why i admit i may have missed part of the film but i watched the majority of it and everything just seemed to happen of its own <OOV> without any real concern for anything else i cant recommend this film at all '\n",
            "b'I have been known to fall asleep during films, but this is usually due to a combination of things including, really tired, being warm and comfortable on the sette and having just eaten a lot. However on this occasion I fell asleep because the film was rubbish. The plot development was constant. Constantly slow and boring. Things seemed to happen, but with no explanation of what was causing them or why. I admit, I may have missed part of the film, but i watched the majority of it and everything just seemed to happen of its own accord without any real concern for anything else. I cant recommend this film at all.'\n"
          ],
          "name": "stdout"
        }
      ]
    },
    {
      "cell_type": "markdown",
      "metadata": {
        "id": "j7uiVKlsOA75"
      },
      "source": [
        "## Neural network model with GRU"
      ]
    },
    {
      "cell_type": "markdown",
      "metadata": {
        "id": "vX0izQMEO959"
      },
      "source": [
        "Build a neural network using at least one GRU layer\n",
        "\n",
        "(you may have a look at https://keras.io/api/layers/)"
      ]
    },
    {
      "cell_type": "code",
      "metadata": {
        "id": "RH510Dy04dJ4",
        "colab": {
          "base_uri": "https://localhost:8080/"
        },
        "outputId": "79203b03-76f1-4e75-abfd-f767fe496c18"
      },
      "source": [
        "# Model definition with GRU\n",
        "model = tf.keras.Sequential([\n",
        "    Embedding(vocab_size, embedding_dim, input_length=max_length),\n",
        "    Dropout(0.5),\n",
        "    Bidirectional(GRU(32)),\n",
        "    Dense(6, activation='relu'),\n",
        "    Dropout(0.5),\n",
        "    Dense(1, activation='sigmoid')\n",
        "])\n",
        "model.compile(loss='binary_crossentropy',optimizer='adam',metrics=['accuracy'])\n",
        "model.summary()"
      ],
      "execution_count": null,
      "outputs": [
        {
          "output_type": "stream",
          "text": [
            "Model: \"sequential_2\"\n",
            "_________________________________________________________________\n",
            "Layer (type)                 Output Shape              Param #   \n",
            "=================================================================\n",
            "embedding_2 (Embedding)      (None, 120, 16)           160000    \n",
            "_________________________________________________________________\n",
            "dropout (Dropout)            (None, 120, 16)           0         \n",
            "_________________________________________________________________\n",
            "bidirectional_2 (Bidirection (None, 64)                9600      \n",
            "_________________________________________________________________\n",
            "dense_4 (Dense)              (None, 6)                 390       \n",
            "_________________________________________________________________\n",
            "dropout_1 (Dropout)          (None, 6)                 0         \n",
            "_________________________________________________________________\n",
            "dense_5 (Dense)              (None, 1)                 7         \n",
            "=================================================================\n",
            "Total params: 169,997\n",
            "Trainable params: 169,997\n",
            "Non-trainable params: 0\n",
            "_________________________________________________________________\n"
          ],
          "name": "stdout"
        }
      ]
    },
    {
      "cell_type": "code",
      "metadata": {
        "colab": {
          "base_uri": "https://localhost:8080/"
        },
        "id": "rTakYmJq4fdW",
        "outputId": "69c020a3-db46-4357-d436-f2b7d95929ca"
      },
      "source": [
        "num_epochs = 50\n",
        "history = model.fit(padded, training_labels_final, epochs=num_epochs, validation_data=(testing_padded, testing_labels_final))"
      ],
      "execution_count": null,
      "outputs": [
        {
          "output_type": "stream",
          "text": [
            "Epoch 1/50\n",
            "782/782 [==============================] - 79s 96ms/step - loss: 0.6933 - accuracy: 0.5023 - val_loss: 0.6932 - val_accuracy: 0.4999\n",
            "Epoch 2/50\n",
            "782/782 [==============================] - 74s 95ms/step - loss: 0.6034 - accuracy: 0.6630 - val_loss: 0.4233 - val_accuracy: 0.8222\n",
            "Epoch 3/50\n",
            "782/782 [==============================] - 75s 96ms/step - loss: 0.4182 - accuracy: 0.8235 - val_loss: 0.3532 - val_accuracy: 0.8473\n",
            "Epoch 4/50\n",
            "782/782 [==============================] - 75s 96ms/step - loss: 0.3634 - accuracy: 0.8555 - val_loss: 0.3407 - val_accuracy: 0.8503\n",
            "Epoch 5/50\n",
            "782/782 [==============================] - 74s 94ms/step - loss: 0.3317 - accuracy: 0.8678 - val_loss: 0.3548 - val_accuracy: 0.8440\n",
            "Epoch 6/50\n",
            "782/782 [==============================] - 76s 97ms/step - loss: 0.3074 - accuracy: 0.8799 - val_loss: 0.3613 - val_accuracy: 0.8465\n",
            "Epoch 7/50\n",
            "782/782 [==============================] - 74s 95ms/step - loss: 0.2874 - accuracy: 0.8896 - val_loss: 0.4037 - val_accuracy: 0.8429\n",
            "Epoch 8/50\n",
            "782/782 [==============================] - 77s 99ms/step - loss: 0.2723 - accuracy: 0.8963 - val_loss: 0.3730 - val_accuracy: 0.8377\n",
            "Epoch 9/50\n",
            "782/782 [==============================] - 75s 96ms/step - loss: 0.2564 - accuracy: 0.9005 - val_loss: 0.4759 - val_accuracy: 0.8377\n",
            "Epoch 10/50\n",
            "782/782 [==============================] - 75s 96ms/step - loss: 0.2457 - accuracy: 0.9059 - val_loss: 0.3925 - val_accuracy: 0.8348\n",
            "Epoch 11/50\n",
            "782/782 [==============================] - 75s 96ms/step - loss: 0.2331 - accuracy: 0.9100 - val_loss: 0.5503 - val_accuracy: 0.8388\n",
            "Epoch 12/50\n",
            "782/782 [==============================] - 75s 96ms/step - loss: 0.2188 - accuracy: 0.9155 - val_loss: 0.4548 - val_accuracy: 0.8280\n",
            "Epoch 13/50\n",
            "782/782 [==============================] - 74s 94ms/step - loss: 0.2176 - accuracy: 0.9146 - val_loss: 0.5289 - val_accuracy: 0.8346\n",
            "Epoch 14/50\n",
            "782/782 [==============================] - 74s 94ms/step - loss: 0.2061 - accuracy: 0.9206 - val_loss: 0.5081 - val_accuracy: 0.8341\n",
            "Epoch 15/50\n",
            "782/782 [==============================] - 75s 96ms/step - loss: 0.2047 - accuracy: 0.9218 - val_loss: 0.5553 - val_accuracy: 0.8273\n",
            "Epoch 16/50\n",
            "782/782 [==============================] - 75s 96ms/step - loss: 0.1966 - accuracy: 0.9238 - val_loss: 0.4678 - val_accuracy: 0.8309\n",
            "Epoch 17/50\n",
            "782/782 [==============================] - 75s 96ms/step - loss: 0.1894 - accuracy: 0.9280 - val_loss: 0.4993 - val_accuracy: 0.8295\n",
            "Epoch 18/50\n",
            "782/782 [==============================] - 75s 96ms/step - loss: 0.1861 - accuracy: 0.9268 - val_loss: 0.6171 - val_accuracy: 0.8267\n",
            "Epoch 19/50\n",
            "782/782 [==============================] - 75s 96ms/step - loss: 0.1842 - accuracy: 0.9280 - val_loss: 0.6032 - val_accuracy: 0.8298\n",
            "Epoch 20/50\n",
            "782/782 [==============================] - 76s 97ms/step - loss: 0.1807 - accuracy: 0.9311 - val_loss: 0.5278 - val_accuracy: 0.8304\n",
            "Epoch 21/50\n",
            "782/782 [==============================] - 76s 97ms/step - loss: 0.1719 - accuracy: 0.9352 - val_loss: 0.5618 - val_accuracy: 0.8327\n",
            "Epoch 22/50\n",
            "782/782 [==============================] - 75s 96ms/step - loss: 0.1675 - accuracy: 0.9364 - val_loss: 0.6210 - val_accuracy: 0.8305\n",
            "Epoch 23/50\n",
            "782/782 [==============================] - 75s 96ms/step - loss: 0.1664 - accuracy: 0.9356 - val_loss: 0.7185 - val_accuracy: 0.8266\n",
            "Epoch 24/50\n",
            "782/782 [==============================] - 75s 96ms/step - loss: 0.1667 - accuracy: 0.9352 - val_loss: 0.6463 - val_accuracy: 0.8240\n",
            "Epoch 25/50\n",
            "782/782 [==============================] - 75s 96ms/step - loss: 0.1631 - accuracy: 0.9370 - val_loss: 0.7289 - val_accuracy: 0.8223\n",
            "Epoch 26/50\n",
            "782/782 [==============================] - 75s 96ms/step - loss: 0.1545 - accuracy: 0.9427 - val_loss: 0.5963 - val_accuracy: 0.8260\n",
            "Epoch 27/50\n",
            "782/782 [==============================] - 75s 96ms/step - loss: 0.1567 - accuracy: 0.9405 - val_loss: 0.6875 - val_accuracy: 0.8260\n",
            "Epoch 28/50\n",
            "782/782 [==============================] - 75s 96ms/step - loss: 0.1540 - accuracy: 0.9406 - val_loss: 0.7089 - val_accuracy: 0.8260\n",
            "Epoch 29/50\n",
            "782/782 [==============================] - 76s 97ms/step - loss: 0.1524 - accuracy: 0.9413 - val_loss: 0.6317 - val_accuracy: 0.8266\n",
            "Epoch 30/50\n",
            "782/782 [==============================] - 75s 95ms/step - loss: 0.1529 - accuracy: 0.9409 - val_loss: 0.8407 - val_accuracy: 0.8187\n",
            "Epoch 31/50\n",
            "782/782 [==============================] - 75s 96ms/step - loss: 0.1497 - accuracy: 0.9415 - val_loss: 0.7396 - val_accuracy: 0.8206\n",
            "Epoch 32/50\n",
            "782/782 [==============================] - 74s 95ms/step - loss: 0.1471 - accuracy: 0.9442 - val_loss: 0.6624 - val_accuracy: 0.8243\n",
            "Epoch 33/50\n",
            "782/782 [==============================] - 74s 95ms/step - loss: 0.1433 - accuracy: 0.9460 - val_loss: 0.7177 - val_accuracy: 0.8229\n",
            "Epoch 34/50\n",
            "782/782 [==============================] - 73s 94ms/step - loss: 0.1402 - accuracy: 0.9478 - val_loss: 0.7920 - val_accuracy: 0.8259\n",
            "Epoch 35/50\n",
            "782/782 [==============================] - 74s 95ms/step - loss: 0.1495 - accuracy: 0.9415 - val_loss: 0.7307 - val_accuracy: 0.8229\n",
            "Epoch 36/50\n",
            "782/782 [==============================] - 74s 95ms/step - loss: 0.1451 - accuracy: 0.9443 - val_loss: 0.7198 - val_accuracy: 0.8242\n",
            "Epoch 37/50\n",
            "782/782 [==============================] - 75s 96ms/step - loss: 0.1399 - accuracy: 0.9459 - val_loss: 0.7918 - val_accuracy: 0.8266\n",
            "Epoch 38/50\n",
            "782/782 [==============================] - 74s 95ms/step - loss: 0.1378 - accuracy: 0.9470 - val_loss: 0.9499 - val_accuracy: 0.8120\n",
            "Epoch 39/50\n",
            "782/782 [==============================] - 72s 92ms/step - loss: 0.1377 - accuracy: 0.9468 - val_loss: 0.7733 - val_accuracy: 0.8238\n",
            "Epoch 40/50\n",
            "782/782 [==============================] - 73s 93ms/step - loss: 0.1353 - accuracy: 0.9480 - val_loss: 0.7559 - val_accuracy: 0.8245\n",
            "Epoch 41/50\n",
            "782/782 [==============================] - 73s 93ms/step - loss: 0.1376 - accuracy: 0.9468 - val_loss: 0.7845 - val_accuracy: 0.8241\n",
            "Epoch 42/50\n",
            "782/782 [==============================] - 72s 93ms/step - loss: 0.1338 - accuracy: 0.9480 - val_loss: 0.8417 - val_accuracy: 0.8228\n",
            "Epoch 43/50\n",
            "782/782 [==============================] - 72s 92ms/step - loss: 0.1374 - accuracy: 0.9457 - val_loss: 1.0164 - val_accuracy: 0.8178\n",
            "Epoch 44/50\n",
            "782/782 [==============================] - 73s 93ms/step - loss: 0.1324 - accuracy: 0.9486 - val_loss: 0.7778 - val_accuracy: 0.8198\n",
            "Epoch 45/50\n",
            "782/782 [==============================] - 73s 93ms/step - loss: 0.1324 - accuracy: 0.9482 - val_loss: 0.9433 - val_accuracy: 0.8156\n",
            "Epoch 46/50\n",
            "782/782 [==============================] - 73s 93ms/step - loss: 0.1306 - accuracy: 0.9494 - val_loss: 0.8147 - val_accuracy: 0.8223\n",
            "Epoch 47/50\n",
            "782/782 [==============================] - 72s 93ms/step - loss: 0.1325 - accuracy: 0.9485 - val_loss: 0.8260 - val_accuracy: 0.8212\n",
            "Epoch 48/50\n",
            "782/782 [==============================] - 73s 93ms/step - loss: 0.1339 - accuracy: 0.9486 - val_loss: 0.9099 - val_accuracy: 0.8179\n",
            "Epoch 49/50\n",
            "782/782 [==============================] - 73s 93ms/step - loss: 0.1222 - accuracy: 0.9535 - val_loss: 0.8661 - val_accuracy: 0.8241\n",
            "Epoch 50/50\n",
            "782/782 [==============================] - 73s 93ms/step - loss: 0.1306 - accuracy: 0.9496 - val_loss: 0.8418 - val_accuracy: 0.8233\n"
          ],
          "name": "stdout"
        }
      ]
    },
    {
      "cell_type": "code",
      "metadata": {
        "colab": {
          "base_uri": "https://localhost:8080/",
          "height": 606
        },
        "id": "FoCYNO0f6BVa",
        "outputId": "71d6d242-02bf-4608-f610-65ceb0b8c9f8"
      },
      "source": [
        "plot_results(history)"
      ],
      "execution_count": null,
      "outputs": [
        {
          "output_type": "display_data",
          "data": {
            "image/png": "[encoded data removed]",
            "text/plain": [
              "<Figure size 1152x720 with 2 Axes>"
            ]
          },
          "metadata": {
            "tags": [],
            "needs_background": "light"
          }
        }
      ]
    },
    {
      "cell_type": "markdown",
      "metadata": {
        "id": "yHD53tS8PIBI"
      },
      "source": [
        "## Neural network model with LSTM"
      ]
    },
    {
      "cell_type": "markdown",
      "metadata": {
        "id": "vk945wQDPLIa"
      },
      "source": [
        "Build a neural network using at least one LSTM layer\n",
        "\n",
        "(you may have a look at https://keras.io/api/layers/)"
      ]
    },
    {
      "cell_type": "code",
      "metadata": {
        "colab": {
          "base_uri": "https://localhost:8080/"
        },
        "id": "2hQqCPmP4knG",
        "outputId": "8d3f874f-b7c4-4095-a208-4f79aa5e5e3f"
      },
      "source": [
        "# Model Definition with LSTM\n",
        "model = tf.keras.Sequential([\n",
        "    Embedding(vocab_size, embedding_dim, input_length=max_length),\n",
        "    Bidirectional(LSTM(32)),\n",
        "    Dense(6, activation='relu'),\n",
        "    Dense(1, activation='sigmoid')\n",
        "])\n",
        "model.compile(loss='binary_crossentropy',optimizer='adam',metrics=['accuracy'])\n",
        "model.summary()\n"
      ],
      "execution_count": null,
      "outputs": [
        {
          "output_type": "stream",
          "text": [
            "Model: \"sequential_1\"\n",
            "_________________________________________________________________\n",
            "Layer (type)                 Output Shape              Param #   \n",
            "=================================================================\n",
            "embedding_1 (Embedding)      (None, 120, 16)           160000    \n",
            "_________________________________________________________________\n",
            "bidirectional_1 (Bidirection (None, 64)                12544     \n",
            "_________________________________________________________________\n",
            "dense_2 (Dense)              (None, 6)                 390       \n",
            "_________________________________________________________________\n",
            "dense_3 (Dense)              (None, 1)                 7         \n",
            "=================================================================\n",
            "Total params: 172,941\n",
            "Trainable params: 172,941\n",
            "Non-trainable params: 0\n",
            "_________________________________________________________________\n"
          ],
          "name": "stdout"
        }
      ]
    },
    {
      "cell_type": "code",
      "metadata": {
        "colab": {
          "background_save": true,
          "base_uri": "https://localhost:8080/"
        },
        "id": "zX68pSZ4PdHj",
        "outputId": "a7c6462a-0bea-4a22-91e1-8ea6b66470dd"
      },
      "source": [
        "num_epochs = 50\n",
        "history = model.fit(padded, training_labels_final, epochs=num_epochs, validation_data=(testing_padded, testing_labels_final))"
      ],
      "execution_count": null,
      "outputs": [
        {
          "output_type": "stream",
          "text": [
            "Epoch 1/50\n",
            "782/782 [==============================] - 76s 92ms/step - loss: 0.4956 - accuracy: 0.7393 - val_loss: 0.3506 - val_accuracy: 0.8481\n",
            "Epoch 2/50\n",
            "782/782 [==============================] - 71s 91ms/step - loss: 0.3002 - accuracy: 0.8774 - val_loss: 0.3535 - val_accuracy: 0.8490\n",
            "Epoch 3/50\n",
            "782/782 [==============================] - 71s 91ms/step - loss: 0.2306 - accuracy: 0.9092 - val_loss: 0.3653 - val_accuracy: 0.8429\n",
            "Epoch 4/50\n",
            "782/782 [==============================] - 71s 91ms/step - loss: 0.1650 - accuracy: 0.9396 - val_loss: 0.4397 - val_accuracy: 0.8348\n",
            "Epoch 5/50\n",
            "782/782 [==============================] - 70s 90ms/step - loss: 0.1113 - accuracy: 0.9612 - val_loss: 0.5074 - val_accuracy: 0.8301\n",
            "Epoch 6/50\n",
            "782/782 [==============================] - 70s 90ms/step - loss: 0.0731 - accuracy: 0.9762 - val_loss: 0.5531 - val_accuracy: 0.8196\n",
            "Epoch 7/50\n",
            "782/782 [==============================] - 71s 90ms/step - loss: 0.0466 - accuracy: 0.9848 - val_loss: 0.7607 - val_accuracy: 0.8161\n",
            "Epoch 8/50\n",
            "782/782 [==============================] - 71s 90ms/step - loss: 0.0353 - accuracy: 0.9888 - val_loss: 0.7219 - val_accuracy: 0.8027\n",
            "Epoch 9/50\n",
            "782/782 [==============================] - 71s 90ms/step - loss: 0.0307 - accuracy: 0.9901 - val_loss: 0.8668 - val_accuracy: 0.8158\n",
            "Epoch 10/50\n",
            "782/782 [==============================] - 71s 91ms/step - loss: 0.0219 - accuracy: 0.9930 - val_loss: 0.8518 - val_accuracy: 0.8018\n",
            "Epoch 11/50\n",
            "782/782 [==============================] - 70s 89ms/step - loss: 0.0210 - accuracy: 0.9934 - val_loss: 0.9824 - val_accuracy: 0.8068\n",
            "Epoch 12/50\n",
            "782/782 [==============================] - 70s 90ms/step - loss: 0.0184 - accuracy: 0.9936 - val_loss: 0.9661 - val_accuracy: 0.8054\n",
            "Epoch 13/50\n",
            "782/782 [==============================] - 69s 89ms/step - loss: 0.0259 - accuracy: 0.9914 - val_loss: 0.8754 - val_accuracy: 0.8060\n",
            "Epoch 14/50\n",
            "782/782 [==============================] - 70s 89ms/step - loss: 0.0123 - accuracy: 0.9960 - val_loss: 0.9337 - val_accuracy: 0.7988\n",
            "Epoch 15/50\n",
            "782/782 [==============================] - 69s 88ms/step - loss: 0.0152 - accuracy: 0.9952 - val_loss: 0.9790 - val_accuracy: 0.8038\n",
            "Epoch 16/50\n",
            "782/782 [==============================] - 70s 90ms/step - loss: 0.0125 - accuracy: 0.9958 - val_loss: 1.0429 - val_accuracy: 0.7976\n",
            "Epoch 17/50\n",
            "782/782 [==============================] - 71s 91ms/step - loss: 0.0040 - accuracy: 0.9990 - val_loss: 1.2767 - val_accuracy: 0.7953\n",
            "Epoch 18/50\n",
            "782/782 [==============================] - 71s 91ms/step - loss: 0.0103 - accuracy: 0.9965 - val_loss: 1.2115 - val_accuracy: 0.8070\n",
            "Epoch 19/50\n",
            "782/782 [==============================] - 70s 90ms/step - loss: 0.0145 - accuracy: 0.9949 - val_loss: 1.0741 - val_accuracy: 0.8059\n",
            "Epoch 20/50\n",
            "782/782 [==============================] - 71s 91ms/step - loss: 0.0092 - accuracy: 0.9968 - val_loss: 1.1001 - val_accuracy: 0.8082\n",
            "Epoch 21/50\n",
            "782/782 [==============================] - 71s 91ms/step - loss: 0.0134 - accuracy: 0.9965 - val_loss: 1.0243 - val_accuracy: 0.8027\n",
            "Epoch 22/50\n",
            "782/782 [==============================] - 71s 91ms/step - loss: 0.0045 - accuracy: 0.9986 - val_loss: 1.1907 - val_accuracy: 0.8078\n",
            "Epoch 23/50\n",
            "782/782 [==============================] - 72s 92ms/step - loss: 0.0044 - accuracy: 0.9988 - val_loss: 1.1450 - val_accuracy: 0.8089\n",
            "Epoch 24/50\n",
            "782/782 [==============================] - 73s 94ms/step - loss: 0.0070 - accuracy: 0.9978 - val_loss: 1.1710 - val_accuracy: 0.8027\n",
            "Epoch 25/50\n",
            "782/782 [==============================] - 73s 93ms/step - loss: 0.0096 - accuracy: 0.9971 - val_loss: 1.1626 - val_accuracy: 0.8085\n",
            "Epoch 26/50\n",
            "782/782 [==============================] - 72s 92ms/step - loss: 0.0047 - accuracy: 0.9984 - val_loss: 1.2198 - val_accuracy: 0.8047\n",
            "Epoch 27/50\n",
            "782/782 [==============================] - 72s 92ms/step - loss: 0.0045 - accuracy: 0.9988 - val_loss: 1.3545 - val_accuracy: 0.8087\n",
            "Epoch 28/50\n",
            "782/782 [==============================] - 71s 91ms/step - loss: 0.0082 - accuracy: 0.9969 - val_loss: 1.1607 - val_accuracy: 0.8023\n",
            "Epoch 29/50\n",
            "782/782 [==============================] - 72s 92ms/step - loss: 0.0110 - accuracy: 0.9966 - val_loss: 1.0369 - val_accuracy: 0.7886\n",
            "Epoch 30/50\n",
            "782/782 [==============================] - 72s 93ms/step - loss: 0.0050 - accuracy: 0.9986 - val_loss: 1.1979 - val_accuracy: 0.8078\n",
            "Epoch 31/50\n",
            "782/782 [==============================] - 72s 92ms/step - loss: 5.3055e-04 - accuracy: 0.9999 - val_loss: 1.3058 - val_accuracy: 0.8079\n",
            "Epoch 32/50\n",
            "782/782 [==============================] - 72s 92ms/step - loss: 8.3093e-05 - accuracy: 1.0000 - val_loss: 1.3645 - val_accuracy: 0.8106\n",
            "Epoch 33/50\n",
            "782/782 [==============================] - 72s 92ms/step - loss: 4.1799e-05 - accuracy: 1.0000 - val_loss: 1.4375 - val_accuracy: 0.8104\n",
            "Epoch 34/50\n",
            "782/782 [==============================] - 71s 91ms/step - loss: 2.6717e-05 - accuracy: 1.0000 - val_loss: 1.5064 - val_accuracy: 0.8113\n",
            "Epoch 35/50\n",
            "782/782 [==============================] - 71s 91ms/step - loss: 1.7619e-05 - accuracy: 1.0000 - val_loss: 1.5674 - val_accuracy: 0.8109\n",
            "Epoch 36/50\n",
            "782/782 [==============================] - 71s 90ms/step - loss: 1.1570e-05 - accuracy: 1.0000 - val_loss: 1.6334 - val_accuracy: 0.8115\n",
            "Epoch 37/50\n",
            "782/782 [==============================] - 71s 91ms/step - loss: 7.6231e-06 - accuracy: 1.0000 - val_loss: 1.7005 - val_accuracy: 0.8117\n",
            "Epoch 38/50\n",
            "782/782 [==============================] - 72s 93ms/step - loss: 4.9777e-06 - accuracy: 1.0000 - val_loss: 1.7674 - val_accuracy: 0.8112\n",
            "Epoch 39/50\n",
            "782/782 [==============================] - 71s 91ms/step - loss: 3.2317e-06 - accuracy: 1.0000 - val_loss: 1.8316 - val_accuracy: 0.8109\n",
            "Epoch 40/50\n",
            "782/782 [==============================] - 71s 91ms/step - loss: 2.0685e-06 - accuracy: 1.0000 - val_loss: 1.9016 - val_accuracy: 0.8116\n",
            "Epoch 41/50\n",
            "782/782 [==============================] - 71s 90ms/step - loss: 1.3288e-06 - accuracy: 1.0000 - val_loss: 1.9757 - val_accuracy: 0.8110\n",
            "Epoch 42/50\n",
            "782/782 [==============================] - 71s 91ms/step - loss: 8.5276e-07 - accuracy: 1.0000 - val_loss: 2.0446 - val_accuracy: 0.8107\n",
            "Epoch 43/50\n",
            "782/782 [==============================] - 71s 91ms/step - loss: 5.4735e-07 - accuracy: 1.0000 - val_loss: 2.1165 - val_accuracy: 0.8103\n",
            "Epoch 44/50\n",
            "782/782 [==============================] - 71s 90ms/step - loss: 3.5125e-07 - accuracy: 1.0000 - val_loss: 2.1920 - val_accuracy: 0.8099\n",
            "Epoch 45/50\n",
            "782/782 [==============================] - 70s 90ms/step - loss: 2.2662e-07 - accuracy: 1.0000 - val_loss: 2.2636 - val_accuracy: 0.8106\n",
            "Epoch 46/50\n",
            "782/782 [==============================] - 71s 91ms/step - loss: 1.4623e-07 - accuracy: 1.0000 - val_loss: 2.3366 - val_accuracy: 0.8098\n",
            "Epoch 47/50\n",
            "782/782 [==============================] - 71s 91ms/step - loss: 9.4816e-08 - accuracy: 1.0000 - val_loss: 2.4039 - val_accuracy: 0.8087\n",
            "Epoch 48/50\n",
            "782/782 [==============================] - 71s 90ms/step - loss: 6.1891e-08 - accuracy: 1.0000 - val_loss: 2.4782 - val_accuracy: 0.8088\n",
            "Epoch 49/50\n",
            "782/782 [==============================] - 71s 91ms/step - loss: 4.0668e-08 - accuracy: 1.0000 - val_loss: 2.5489 - val_accuracy: 0.8087\n",
            "Epoch 50/50\n",
            "782/782 [==============================] - 71s 91ms/step - loss: 2.6969e-08 - accuracy: 1.0000 - val_loss: 2.6198 - val_accuracy: 0.8092\n"
          ],
          "name": "stdout"
        }
      ]
    },
    {
      "cell_type": "code",
      "metadata": {
        "colab": {
          "background_save": true,
          "base_uri": "https://localhost:8080/"
        },
        "id": "hysDx88jPgEs",
        "outputId": "0a4b776d-3deb-4ef3-fe36-05bb35c102d5"
      },
      "source": [
        "plot_results(history)"
      ],
      "execution_count": null,
      "outputs": [
        {
          "output_type": "display_data",
          "data": {
            "image/png": "[encoded data removed]",
            "text/plain": [
              "<Figure size 1152x720 with 2 Axes>"
            ]
          },
          "metadata": {
            "tags": []
          }
        }
      ]
    },
    {
      "cell_type": "markdown",
      "metadata": {
        "id": "ZfvOLj4aPYZ6"
      },
      "source": [
        "## Neural network model with Convolution"
      ]
    },
    {
      "cell_type": "markdown",
      "metadata": {
        "id": "tWOANBtFPOUF"
      },
      "source": [
        "Build a neural network using a Conv1D layer and a Pooling Layer\n",
        "\n",
        "(you may have a look at https://keras.io/api/layers/)"
      ]
    },
    {
      "cell_type": "code",
      "metadata": {
        "colab": {
          "background_save": true,
          "base_uri": "https://localhost:8080/"
        },
        "id": "wzy8hRo_4t79",
        "outputId": "d8e3de57-93f7-4202-9d0e-a6c78a8424dd"
      },
      "source": [
        "# Model Definition with Conv1D\n",
        "model = tf.keras.Sequential([\n",
        "    Embedding(vocab_size, embedding_dim, input_length=max_length),\n",
        "    Conv1D(128, 5, activation='relu'),\n",
        "    GlobalAveragePooling1D(),\n",
        "    Dense(6, activation='relu'),\n",
        "    Dense(1, activation='sigmoid')\n",
        "])\n",
        "model.compile(loss='binary_crossentropy',optimizer='adam',metrics=['accuracy'])\n",
        "model.summary()"
      ],
      "execution_count": null,
      "outputs": [
        {
          "output_type": "stream",
          "text": [
            "Model: \"sequential_2\"\n",
            "_________________________________________________________________\n",
            "Layer (type)                 Output Shape              Param #   \n",
            "=================================================================\n",
            "embedding_2 (Embedding)      (None, 120, 16)           160000    \n",
            "_________________________________________________________________\n",
            "conv1d (Conv1D)              (None, 116, 128)          10368     \n",
            "_________________________________________________________________\n",
            "global_average_pooling1d (Gl (None, 128)               0         \n",
            "_________________________________________________________________\n",
            "dense_4 (Dense)              (None, 6)                 774       \n",
            "_________________________________________________________________\n",
            "dense_5 (Dense)              (None, 1)                 7         \n",
            "=================================================================\n",
            "Total params: 171,149\n",
            "Trainable params: 171,149\n",
            "Non-trainable params: 0\n",
            "_________________________________________________________________\n"
          ],
          "name": "stdout"
        }
      ]
    },
    {
      "cell_type": "code",
      "metadata": {
        "colab": {
          "background_save": true,
          "base_uri": "https://localhost:8080/"
        },
        "id": "b3p8SRqAPeAD",
        "outputId": "4eca606f-f1fb-4469-a4e7-243529571219"
      },
      "source": [
        "num_epochs = 50\n",
        "history = model.fit(padded, training_labels_final, epochs=num_epochs, validation_data=(testing_padded, testing_labels_final))"
      ],
      "execution_count": null,
      "outputs": [
        {
          "output_type": "stream",
          "text": [
            "Epoch 1/50\n",
            "782/782 [==============================] - 13s 16ms/step - loss: 0.4325 - accuracy: 0.7959 - val_loss: 0.3469 - val_accuracy: 0.8473\n",
            "Epoch 2/50\n",
            "782/782 [==============================] - 12s 16ms/step - loss: 0.2764 - accuracy: 0.8874 - val_loss: 0.3596 - val_accuracy: 0.8435\n",
            "Epoch 3/50\n",
            "782/782 [==============================] - 13s 16ms/step - loss: 0.2251 - accuracy: 0.9126 - val_loss: 0.3928 - val_accuracy: 0.8361\n",
            "Epoch 4/50\n",
            "782/782 [==============================] - 13s 17ms/step - loss: 0.1888 - accuracy: 0.9298 - val_loss: 0.4202 - val_accuracy: 0.8299\n",
            "Epoch 5/50\n",
            "782/782 [==============================] - 13s 17ms/step - loss: 0.1580 - accuracy: 0.9423 - val_loss: 0.4627 - val_accuracy: 0.8235\n",
            "Epoch 6/50\n",
            "782/782 [==============================] - 13s 16ms/step - loss: 0.1261 - accuracy: 0.9572 - val_loss: 0.5396 - val_accuracy: 0.8168\n",
            "Epoch 7/50\n",
            "782/782 [==============================] - 13s 17ms/step - loss: 0.1006 - accuracy: 0.9668 - val_loss: 0.6331 - val_accuracy: 0.8088\n",
            "Epoch 8/50\n",
            "782/782 [==============================] - 13s 17ms/step - loss: 0.0760 - accuracy: 0.9771 - val_loss: 0.7644 - val_accuracy: 0.8117\n",
            "Epoch 9/50\n",
            "782/782 [==============================] - 13s 17ms/step - loss: 0.0606 - accuracy: 0.9820 - val_loss: 0.8145 - val_accuracy: 0.8074\n",
            "Epoch 10/50\n",
            "782/782 [==============================] - 13s 17ms/step - loss: 0.0486 - accuracy: 0.9870 - val_loss: 1.0014 - val_accuracy: 0.8078\n",
            "Epoch 11/50\n",
            "782/782 [==============================] - 13s 17ms/step - loss: 0.0396 - accuracy: 0.9895 - val_loss: 1.0172 - val_accuracy: 0.8032\n",
            "Epoch 12/50\n",
            "782/782 [==============================] - 13s 17ms/step - loss: 0.0309 - accuracy: 0.9919 - val_loss: 1.1120 - val_accuracy: 0.8011\n",
            "Epoch 13/50\n",
            "782/782 [==============================] - 13s 17ms/step - loss: 0.0262 - accuracy: 0.9930 - val_loss: 1.2558 - val_accuracy: 0.8028\n",
            "Epoch 14/50\n",
            "782/782 [==============================] - 13s 17ms/step - loss: 0.0239 - accuracy: 0.9930 - val_loss: 1.3209 - val_accuracy: 0.8026\n",
            "Epoch 15/50\n",
            "782/782 [==============================] - 13s 17ms/step - loss: 0.0268 - accuracy: 0.9917 - val_loss: 1.4034 - val_accuracy: 0.8033\n",
            "Epoch 16/50\n",
            "782/782 [==============================] - 13s 17ms/step - loss: 0.0201 - accuracy: 0.9940 - val_loss: 1.4275 - val_accuracy: 0.7990\n",
            "Epoch 17/50\n",
            "782/782 [==============================] - 13s 17ms/step - loss: 0.0118 - accuracy: 0.9970 - val_loss: 1.5080 - val_accuracy: 0.7992\n",
            "Epoch 18/50\n",
            "782/782 [==============================] - 13s 17ms/step - loss: 0.0100 - accuracy: 0.9974 - val_loss: 1.6087 - val_accuracy: 0.8011\n",
            "Epoch 19/50\n",
            "782/782 [==============================] - 13s 17ms/step - loss: 0.0101 - accuracy: 0.9973 - val_loss: 1.6928 - val_accuracy: 0.7969\n",
            "Epoch 20/50\n",
            "782/782 [==============================] - 13s 17ms/step - loss: 0.0079 - accuracy: 0.9978 - val_loss: 1.7268 - val_accuracy: 0.7970\n",
            "Epoch 21/50\n",
            "782/782 [==============================] - 13s 17ms/step - loss: 0.0092 - accuracy: 0.9974 - val_loss: 1.8925 - val_accuracy: 0.7990\n",
            "Epoch 22/50\n",
            "782/782 [==============================] - 13s 17ms/step - loss: 0.0108 - accuracy: 0.9959 - val_loss: 1.8026 - val_accuracy: 0.7965\n",
            "Epoch 23/50\n",
            "782/782 [==============================] - 13s 17ms/step - loss: 0.0097 - accuracy: 0.9966 - val_loss: 1.9597 - val_accuracy: 0.7954\n",
            "Epoch 24/50\n",
            "782/782 [==============================] - 13s 17ms/step - loss: 0.0045 - accuracy: 0.9989 - val_loss: 1.9527 - val_accuracy: 0.7937\n",
            "Epoch 25/50\n",
            "782/782 [==============================] - 13s 17ms/step - loss: 0.0026 - accuracy: 0.9994 - val_loss: 1.9940 - val_accuracy: 0.7975\n",
            "Epoch 26/50\n",
            "782/782 [==============================] - 13s 17ms/step - loss: 0.0038 - accuracy: 0.9989 - val_loss: 2.0895 - val_accuracy: 0.7963\n",
            "Epoch 27/50\n",
            "782/782 [==============================] - 13s 17ms/step - loss: 0.0175 - accuracy: 0.9941 - val_loss: 2.1737 - val_accuracy: 0.7990\n",
            "Epoch 28/50\n",
            "782/782 [==============================] - 13s 17ms/step - loss: 0.0078 - accuracy: 0.9973 - val_loss: 2.0098 - val_accuracy: 0.7971\n",
            "Epoch 29/50\n",
            "782/782 [==============================] - 13s 17ms/step - loss: 0.0025 - accuracy: 0.9995 - val_loss: 2.0848 - val_accuracy: 0.7988\n",
            "Epoch 30/50\n",
            "782/782 [==============================] - 13s 17ms/step - loss: 0.0012 - accuracy: 0.9998 - val_loss: 2.1395 - val_accuracy: 0.7969\n",
            "Epoch 31/50\n",
            "782/782 [==============================] - 13s 17ms/step - loss: 5.5343e-04 - accuracy: 1.0000 - val_loss: 2.2101 - val_accuracy: 0.7979\n",
            "Epoch 32/50\n",
            "782/782 [==============================] - 13s 17ms/step - loss: 1.0387e-04 - accuracy: 1.0000 - val_loss: 2.2873 - val_accuracy: 0.7984\n",
            "Epoch 33/50\n",
            "782/782 [==============================] - 13s 17ms/step - loss: 5.6581e-05 - accuracy: 1.0000 - val_loss: 2.3318 - val_accuracy: 0.7978\n",
            "Epoch 34/50\n",
            "782/782 [==============================] - 16s 20ms/step - loss: 3.7593e-05 - accuracy: 1.0000 - val_loss: 2.4000 - val_accuracy: 0.7985\n",
            "Epoch 35/50\n",
            "782/782 [==============================] - 14s 17ms/step - loss: 2.5866e-05 - accuracy: 1.0000 - val_loss: 2.4653 - val_accuracy: 0.7985\n",
            "Epoch 36/50\n",
            "782/782 [==============================] - 14s 17ms/step - loss: 1.7579e-05 - accuracy: 1.0000 - val_loss: 2.5352 - val_accuracy: 0.7994\n",
            "Epoch 37/50\n",
            "782/782 [==============================] - 13s 17ms/step - loss: 1.2441e-05 - accuracy: 1.0000 - val_loss: 2.6037 - val_accuracy: 0.7988\n",
            "Epoch 38/50\n",
            "782/782 [==============================] - 13s 17ms/step - loss: 8.4732e-06 - accuracy: 1.0000 - val_loss: 2.6849 - val_accuracy: 0.7986\n",
            "Epoch 39/50\n",
            "782/782 [==============================] - 13s 17ms/step - loss: 6.0121e-06 - accuracy: 1.0000 - val_loss: 2.7495 - val_accuracy: 0.7987\n",
            "Epoch 40/50\n",
            "782/782 [==============================] - 14s 17ms/step - loss: 3.9149e-06 - accuracy: 1.0000 - val_loss: 2.8217 - val_accuracy: 0.7988\n",
            "Epoch 41/50\n",
            "782/782 [==============================] - 13s 17ms/step - loss: 2.6747e-06 - accuracy: 1.0000 - val_loss: 2.9032 - val_accuracy: 0.7987\n",
            "Epoch 42/50\n",
            "782/782 [==============================] - 14s 17ms/step - loss: 1.8023e-06 - accuracy: 1.0000 - val_loss: 2.9846 - val_accuracy: 0.7985\n",
            "Epoch 43/50\n",
            "782/782 [==============================] - 14s 17ms/step - loss: 1.2250e-06 - accuracy: 1.0000 - val_loss: 3.0691 - val_accuracy: 0.7990\n",
            "Epoch 44/50\n",
            "782/782 [==============================] - 14s 18ms/step - loss: 8.1579e-07 - accuracy: 1.0000 - val_loss: 3.1564 - val_accuracy: 0.7990\n",
            "Epoch 45/50\n",
            "782/782 [==============================] - 14s 17ms/step - loss: 5.4243e-07 - accuracy: 1.0000 - val_loss: 3.2359 - val_accuracy: 0.7990\n",
            "Epoch 46/50\n",
            "782/782 [==============================] - 16s 20ms/step - loss: 3.6689e-07 - accuracy: 1.0000 - val_loss: 3.3174 - val_accuracy: 0.7991\n",
            "Epoch 47/50\n",
            "782/782 [==============================] - 13s 17ms/step - loss: 2.4593e-07 - accuracy: 1.0000 - val_loss: 3.4061 - val_accuracy: 0.7994\n",
            "Epoch 48/50\n",
            "782/782 [==============================] - 13s 17ms/step - loss: 1.6501e-07 - accuracy: 1.0000 - val_loss: 3.4866 - val_accuracy: 0.7996\n",
            "Epoch 49/50\n",
            "782/782 [==============================] - 13s 17ms/step - loss: 1.1224e-07 - accuracy: 1.0000 - val_loss: 3.5690 - val_accuracy: 0.7995\n",
            "Epoch 50/50\n",
            "782/782 [==============================] - 14s 17ms/step - loss: 7.7055e-08 - accuracy: 1.0000 - val_loss: 3.6465 - val_accuracy: 0.7992\n"
          ],
          "name": "stdout"
        }
      ]
    },
    {
      "cell_type": "code",
      "metadata": {
        "colab": {
          "background_save": true
        },
        "id": "RvRCOSVN7lN0",
        "outputId": "af3bd44b-d223-449c-a8f5-68949f4739c8"
      },
      "source": [
        "plot_results(history)"
      ],
      "execution_count": null,
      "outputs": [
        {
          "output_type": "display_data",
          "data": {
            "image/png": "[encoded data removed]",
            "text/plain": [
              "<Figure size 1152x720 with 2 Axes>"
            ]
          },
          "metadata": {
            "tags": []
          }
        }
      ]
    },
    {
      "cell_type": "markdown",
      "metadata": {
        "id": "dlTNOPCv8wF1"
      },
      "source": [
        "Reference:\n",
        "\n",
        "https://www.coursera.org/learn/natural-language-processing-tensorflow"
      ]
    }
  ]
}