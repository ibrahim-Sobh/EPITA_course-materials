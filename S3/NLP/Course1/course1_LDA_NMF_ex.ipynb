{
  "nbformat": 4,
  "nbformat_minor": 0,
  "metadata": {
    "colab": {
      "name": "course1_LDA_NMF_ex.ipynb",
      "provenance": []
    },
    "kernelspec": {
      "name": "python3",
      "display_name": "Python 3"
    },
    "language_info": {
      "name": "python"
    }
  },
  "cells": [
    {
      "cell_type": "code",
      "metadata": {
        "id": "3J3nxlXaszd_"
      },
      "source": [
        "import pandas as pd\n",
        "import io\n",
        "from sklearn.feature_extraction.text import CountVectorizer, TfidfVectorizer\n",
        "from sklearn.decomposition import LatentDirichletAllocation, NMF\n",
        "from google.colab import files"
      ],
      "execution_count": null,
      "outputs": []
    },
    {
      "cell_type": "markdown",
      "metadata": {
        "id": "rWJeC3c3wBgF"
      },
      "source": [
        "## Data loading"
      ]
    },
    {
      "cell_type": "code",
      "metadata": {
        "colab": {
          "base_uri": "https://localhost:8080/"
        },
        "id": "tQ68nvaXXDWy",
        "outputId": "e078dd27-d8ce-4129-ec63-1e254f2ca99a"
      },
      "source": [
        "# Mounting the google drive to google colab in order to load the data files directly from it\n",
        "from google.colab import drive\n",
        "drive.mount('/content/drive')"
      ],
      "execution_count": null,
      "outputs": [
        {
          "output_type": "stream",
          "name": "stdout",
          "text": [
            "Mounted at /content/drive\n"
          ]
        }
      ]
    },
    {
      "cell_type": "code",
      "metadata": {
        "id": "jwLimk5qtAF3"
      },
      "source": [
        "# The data can be load directly from it\n",
        "# You must change the path if the data is not directly in the path EPITA_NLP/Course1/ of the google drive\n",
        "quora = pd.read_csv('/content/drive/MyDrive/EPITA_NLP/Course1/quora_questions.csv')\n",
        "print(quora.head(30))\n",
        "# We consider only yhe 10000 first files in order to decrease the computation time\n",
        "texts = quora[\"Question\"][0:10000]"
      ],
      "execution_count": null,
      "outputs": []
    },
    {
      "cell_type": "markdown",
      "metadata": {
        "id": "yhs33Hm7wJ0o"
      },
      "source": [
        "## Latent Dirichlet Allocation (LDA)"
      ]
    },
    {
      "cell_type": "markdown",
      "metadata": {
        "id": "f3tSd7WqwQV5"
      },
      "source": [
        "Pre-processing \n",
        "\n",
        "Use the CountVectorizer function : https://scikit-learn.org/stable/modules/generated/sklearn.feature_extraction.text.CountVectorizer.html"
      ]
    },
    {
      "cell_type": "code",
      "metadata": {
        "id": "CmJZvSgAtAs1"
      },
      "source": [
        "# Question 1: Uncomment and complete the following lines\n",
        "\n",
        "#cv = CountVectorizer(????)\n",
        "#dtm = cv.fit_transform(????)"
      ],
      "execution_count": null,
      "outputs": []
    },
    {
      "cell_type": "markdown",
      "metadata": {
        "id": "mo88pG0u4Fpd"
      },
      "source": [
        "Use of the LDA algorithm\n",
        "\n",
        "https://scikit-learn.org/stable/modules/generated/sklearn.decomposition.LatentDirichletAllocation.html"
      ]
    },
    {
      "cell_type": "code",
      "metadata": {
        "id": "40ngCvJNw_Z1"
      },
      "source": [
        "# Question 2: Uncomment and complete the following lines (choose the number of components you want)\n",
        "\n",
        "#LDA = LatentDirichletAllocation(????)\n",
        "#LDA.fit(????)"
      ],
      "execution_count": null,
      "outputs": []
    },
    {
      "cell_type": "markdown",
      "metadata": {
        "id": "zgdYlLUThMDw"
      },
      "source": [
        "Have a look at the components\n",
        "\n"
      ]
    },
    {
      "cell_type": "code",
      "metadata": {
        "id": "5qFcwYxI71gC"
      },
      "source": [
        "LDA.components_"
      ],
      "execution_count": null,
      "outputs": []
    },
    {
      "cell_type": "markdown",
      "metadata": {
        "id": "s6W2cElshQiq"
      },
      "source": [
        "Have a look at the shape of the component array.\n",
        "\n",
        "Can you explain the meaning of the shape observed? "
      ]
    },
    {
      "cell_type": "code",
      "metadata": {
        "id": "1aRhxvSn74i6"
      },
      "source": [
        "LDA.components_.shape"
      ],
      "execution_count": null,
      "outputs": []
    },
    {
      "cell_type": "markdown",
      "metadata": {
        "id": "tw4DPL3a5AS6"
      },
      "source": [
        "Let's have a look at the most representative words of each topic\n"
      ]
    },
    {
      "cell_type": "code",
      "metadata": {
        "id": "UfgF6gqxxBa9"
      },
      "source": [
        "# Question 3: Print the 15 words the most representative of each topic\n",
        "# Advice: both cv and LDA objects can be useful to achieve it\n",
        "# Do you think the number of components used at the previous question for the LDA was relevant? You can try to change it if you want."
      ],
      "execution_count": null,
      "outputs": []
    },
    {
      "cell_type": "markdown",
      "metadata": {
        "id": "TNDKjLQS949W"
      },
      "source": [
        "Associate explicitly each text to a topic"
      ]
    },
    {
      "cell_type": "code",
      "metadata": {
        "id": "32KJFCv_98iV"
      },
      "source": [
        "# Question 4: associate each text to a specific topic into a new two-column DataFrame\n",
        "# with one column for the text and the other for the topic number\n",
        "# Hint: you may find LDA.transform function useful"
      ],
      "execution_count": null,
      "outputs": []
    },
    {
      "cell_type": "markdown",
      "metadata": {
        "id": "3-26YCPK_oms"
      },
      "source": [
        "## Non-negative Matrix Factorization"
      ]
    },
    {
      "cell_type": "markdown",
      "metadata": {
        "id": "K6JO7CCtAM2e"
      },
      "source": [
        "Pre-processing\n",
        "\n",
        "Use the TfidfVectorizer function : https://scikit-learn.org/stable/modules/generated/sklearn.feature_extraction.text.TfidfVectorizer.html"
      ]
    },
    {
      "cell_type": "code",
      "metadata": {
        "id": "7B_h6V_7AELN"
      },
      "source": [
        "# Question 5: Uncomment and complete the following lines\n",
        "\n",
        "#tfidf = TfidfVectorizer(????)\n",
        "#dtm = tfidf.fit_transform(????)"
      ],
      "execution_count": null,
      "outputs": []
    },
    {
      "cell_type": "markdown",
      "metadata": {
        "id": "RhIK3FuWAnEv"
      },
      "source": [
        "Use of the NMF algorithm\n",
        "\n",
        "https://scikit-learn.org/stable/modules/generated/sklearn.decomposition.NMF.html"
      ]
    },
    {
      "cell_type": "code",
      "metadata": {
        "id": "3J_qBSvnApCF"
      },
      "source": [
        "# Question 6: Uncomment and complete the following lines (choose the number of components you want)\n",
        "\n",
        "#NMF = NMF(????)\n",
        "#NMF.fit(????)"
      ],
      "execution_count": null,
      "outputs": []
    },
    {
      "cell_type": "markdown",
      "metadata": {
        "id": "sMLhRWMooDbT"
      },
      "source": [
        "Have a look at the components\n"
      ]
    },
    {
      "cell_type": "code",
      "metadata": {
        "id": "XOvlaEu_BXTV"
      },
      "source": [
        "NMF.components_"
      ],
      "execution_count": null,
      "outputs": []
    },
    {
      "cell_type": "markdown",
      "metadata": {
        "id": "jm7dmg7YoGy6"
      },
      "source": [
        "Have a look at the shape of the component array.\n",
        "\n",
        "Can you explain the meaning of the shape observed?\n"
      ]
    },
    {
      "cell_type": "code",
      "metadata": {
        "id": "_u7Ltj3lBYoV"
      },
      "source": [
        "NMF.components_.shape"
      ],
      "execution_count": null,
      "outputs": []
    },
    {
      "cell_type": "markdown",
      "metadata": {
        "id": "k1enbOYKDEyJ"
      },
      "source": [
        "Let's have a look at the most representative words of each topic\n"
      ]
    },
    {
      "cell_type": "code",
      "metadata": {
        "id": "2adGIa2aBb8V"
      },
      "source": [
        "# Question 7: Print the 15 words the most representative of each topic\n",
        "# Advice: both tfidf and NMF objects can be useful to achieve it\n",
        "# Do you think the number of components used at the previous question for the NMF was relevant? You can try to change it if you want."
      ],
      "execution_count": null,
      "outputs": []
    },
    {
      "cell_type": "markdown",
      "metadata": {
        "id": "7k8yabNLDk-W"
      },
      "source": [
        "Associate explicitly each text to a topic"
      ]
    },
    {
      "cell_type": "code",
      "metadata": {
        "id": "GcAfKsIBDRSl"
      },
      "source": [
        "# Question 8: associate each text to a specific topic into a new three-column DataFrame\n",
        "# with one column for the text, the second for the topic number of LDA classification and the third  for the topic number of NMF classification\n",
        "# Hint: you may find NMF.transform function useful"
      ],
      "execution_count": null,
      "outputs": []
    }
  ]
}