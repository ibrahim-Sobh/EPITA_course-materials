{
  "nbformat": 4,
  "nbformat_minor": 0,
  "metadata": {
    "colab": {
      "name": "course2_sentiment_analysis_vader.ipynb",
      "provenance": [],
      "collapsed_sections": []
    },
    "kernelspec": {
      "name": "python3",
      "display_name": "Python 3"
    },
    "language_info": {
      "name": "python"
    }
  },
  "cells": [
    {
      "cell_type": "code",
      "metadata": {
        "colab": {
          "base_uri": "https://localhost:8080/"
        },
        "id": "YDnvFoCGn94G",
        "outputId": "a183a4af-8c98-47e6-e9c7-379c42391b0b"
      },
      "source": [
        "import nltk\n",
        "nltk.download('vader_lexicon')\n",
        "import pandas as pd\n",
        "from nltk.sentiment.vader import SentimentIntensityAnalyzer"
      ],
      "execution_count": null,
      "outputs": [
        {
          "output_type": "stream",
          "text": [
            "[nltk_data] Downloading package vader_lexicon to /root/nltk_data...\n",
            "[nltk_data]   Package vader_lexicon is already up-to-date!\n"
          ],
          "name": "stdout"
        }
      ]
    },
    {
      "cell_type": "markdown",
      "metadata": {
        "id": "pft2-DbW3NSL"
      },
      "source": [
        "## Data loading"
      ]
    },
    {
      "cell_type": "markdown",
      "metadata": {
        "id": "cp6Vqd8t3Rdn"
      },
      "source": [
        "Use of IMDB dataset"
      ]
    },
    {
      "cell_type": "code",
      "metadata": {
        "colab": {
          "base_uri": "https://localhost:8080/"
        },
        "id": "pi0EiLoomWuQ",
        "outputId": "d1304a62-0b08-4f48-a0e3-0b41b4b40129"
      },
      "source": [
        "# Mounting the google drive to google colab in order to load the data files directly from it\n",
        "from google.colab import drive\n",
        "drive.mount('/content/drive')\n",
        "test_df = pd.read_csv(\"/content/drive/MyDrive/EPITA_NLP/Course2/IMDB Dataset.csv\")"
      ],
      "execution_count": null,
      "outputs": [
        {
          "output_type": "stream",
          "text": [
            "Drive already mounted at /content/drive; to attempt to forcibly remount, call drive.mount(\"/content/drive\", force_remount=True).\n"
          ],
          "name": "stdout"
        }
      ]
    },
    {
      "cell_type": "code",
      "metadata": {
        "colab": {
          "base_uri": "https://localhost:8080/"
        },
        "id": "i0SeRDQj00o4",
        "outputId": "95412c86-27fd-4dd3-a80e-2fa18aab750f"
      },
      "source": [
        "# These data from IMDB correspond to movie review, with sentiment (postive/negative) labels\n",
        "test_df.head"
      ],
      "execution_count": null,
      "outputs": [
        {
          "output_type": "execute_result",
          "data": {
            "text/plain": [
              "<bound method NDFrame.head of                                                   review sentiment\n",
              "0      One of the other reviewers has mentioned that ...  positive\n",
              "1      A wonderful little production. <br /><br />The...  positive\n",
              "2      I thought this was a wonderful way to spend ti...  positive\n",
              "3      Basically there's a family where a little boy ...  negative\n",
              "4      Petter Mattei's \"Love in the Time of Money\" is...  positive\n",
              "...                                                  ...       ...\n",
              "49995  I thought this movie did a down right good job...  positive\n",
              "49996  Bad plot, bad dialogue, bad acting, idiotic di...  negative\n",
              "49997  I am a Catholic taught in parochial elementary...  negative\n",
              "49998  I'm going to have to disagree with the previou...  negative\n",
              "49999  No one expects the Star Trek movies to be high...  negative\n",
              "\n",
              "[50000 rows x 2 columns]>"
            ]
          },
          "metadata": {
            "tags": []
          },
          "execution_count": 5
        }
      ]
    },
    {
      "cell_type": "markdown",
      "metadata": {
        "id": "jy7t2Xtv3tXW"
      },
      "source": [
        "## Sentiment Analysis with Vader library"
      ]
    },
    {
      "cell_type": "markdown",
      "metadata": {
        "id": "POlov56S30B7"
      },
      "source": [
        "Creation of a SentimentIntensityAnalyzer object"
      ]
    },
    {
      "cell_type": "code",
      "metadata": {
        "id": "gw1HmfJfrr0s"
      },
      "source": [
        "sid_obj = SentimentIntensityAnalyzer()"
      ],
      "execution_count": null,
      "outputs": []
    },
    {
      "cell_type": "markdown",
      "metadata": {
        "id": "L7v8rxc44QX-"
      },
      "source": [
        "This library is specifically train to analyse social media text. To illustrate this, we can test on classic smiley texts."
      ]
    },
    {
      "cell_type": "code",
      "metadata": {
        "colab": {
          "base_uri": "https://localhost:8080/"
        },
        "id": "iwI1xSYjtHU1",
        "outputId": "9d41836b-36f7-44c1-9a87-7a80bd5da39d"
      },
      "source": [
        "happy_smiley = \":)\"\n",
        "print(f\"We can try on the happy smiley: {happy_smiley}\")\n",
        "print(sid_obj.polarity_scores(happy_smiley))\n",
        "sad_smiley = \":(\"\n",
        "print(f\"We can try on the sad smiley: {sad_smiley}\")\n",
        "print(sid_obj.polarity_scores(sad_smiley))"
      ],
      "execution_count": null,
      "outputs": [
        {
          "output_type": "stream",
          "text": [
            "We can try on the happy smiley: :)\n",
            "{'neg': 0.0, 'neu': 0.0, 'pos': 1.0, 'compound': 0.4588}\n",
            "We can try on the sad smiley: :(\n",
            "{'neg': 1.0, 'neu': 0.0, 'pos': 0.0, 'compound': -0.4404}\n"
          ],
          "name": "stdout"
        }
      ]
    },
    {
      "cell_type": "markdown",
      "metadata": {
        "id": "pDNefrQ142cx"
      },
      "source": [
        "If compound is above 0 that means the sentiment is positive, unless it is negative. "
      ]
    },
    {
      "cell_type": "markdown",
      "metadata": {
        "id": "0anPG2HI5MtU"
      },
      "source": [
        "We test directly on IMDB dataset, and we compare the predicted values with the ground truth given directly into the original dataset"
      ]
    },
    {
      "cell_type": "code",
      "metadata": {
        "id": "cP5-xcD-sxqd"
      },
      "source": [
        "list_vader_test = []\n",
        "for sentence in test_df.itertuples():\n",
        "    sentiment_dict = sid_obj.polarity_scores(sentence.review)\n",
        "    observed_sentiment = sentence.sentiment\n",
        "    predicted_sentiment = sentiment_dict['compound']\n",
        "    if (predicted_sentiment>=0 and observed_sentiment==\"positive\") or (predicted_sentiment<0 and observed_sentiment==\"negative\"):\n",
        "      prediction = True\n",
        "    else:\n",
        "      prediction = False\n",
        "    list_vader_test.append(prediction)"
      ],
      "execution_count": null,
      "outputs": []
    },
    {
      "cell_type": "code",
      "metadata": {
        "colab": {
          "base_uri": "https://localhost:8080/"
        },
        "id": "BWEPfb8atBgP",
        "outputId": "02d8fd49-28ba-48ce-982e-3ec46d76bcfb"
      },
      "source": [
        "list_vader_test[0:10]"
      ],
      "execution_count": null,
      "outputs": [
        {
          "output_type": "execute_result",
          "data": {
            "text/plain": [
              "[False, True, True, True, True, True, True, False, False, True]"
            ]
          },
          "metadata": {
            "tags": []
          },
          "execution_count": 9
        }
      ]
    },
    {
      "cell_type": "markdown",
      "metadata": {
        "id": "O-Wqgr5D5ZPa"
      },
      "source": [
        "We can check the rate of good prediction rate with this pre-trained Vader model"
      ]
    },
    {
      "cell_type": "code",
      "metadata": {
        "colab": {
          "base_uri": "https://localhost:8080/"
        },
        "id": "l91-T-4EuuC4",
        "outputId": "735c4e59-4491-49aa-d724-3d5937a93624"
      },
      "source": [
        "rate_success = list_vader_test.count(True)/len(list_vader_test) * 100\n",
        "print(f\"Good prediction rate: {int(rate_success)}%\")"
      ],
      "execution_count": null,
      "outputs": [
        {
          "output_type": "stream",
          "text": [
            "Good prediction rate: 69%\n"
          ],
          "name": "stdout"
        }
      ]
    }
  ]
}