{
  "nbformat": 4,
  "nbformat_minor": 0,
  "metadata": {
    "colab": {
      "name": "course2_sentiment_analysis_nn_training.ipynb",
      "provenance": []
    },
    "kernelspec": {
      "name": "python3",
      "display_name": "Python 3"
    },
    "language_info": {
      "name": "python"
    }
  },
  "cells": [
    {
      "cell_type": "code",
      "metadata": {
        "id": "S_2Ay0Fp6Bbs"
      },
      "source": [
        "import tensorflow as tf\n",
        "import tensorflow_hub as hub\n",
        "import matplotlib.pyplot as plt\n",
        "%matplotlib inline\n",
        "import pandas as pd\n",
        "import numpy as np\n",
        "from tensorflow import keras\n",
        "from tensorflow.keras.layers import Dense, Dropout"
      ],
      "execution_count": null,
      "outputs": []
    },
    {
      "cell_type": "markdown",
      "metadata": {
        "id": "b2CIb2eM9BEx"
      },
      "source": [
        "Definition of a plot function for training result visualization"
      ]
    },
    {
      "cell_type": "code",
      "metadata": {
        "id": "_C-ARKUf6Zs4"
      },
      "source": [
        "def plot_results(history):\n",
        "    hist_df = pd.DataFrame(history.history)\n",
        "    hist_df.columns=[\"loss\", \"accuracy\", \"val_loss\", \"val_accuracy\"]\n",
        "    hist_df.index = np.arange(1, len(hist_df)+1)\n",
        "    \n",
        "    fig, axs = plt.subplots(nrows=2, sharex=True, figsize=(16, 10))\n",
        "    axs[0].plot(hist_df.val_accuracy, lw=3, label='Validation Accuracy')\n",
        "    axs[0].plot(hist_df.accuracy, lw=3, label='Training Accuracy')\n",
        "    axs[0].set_ylabel('Accuracy')\n",
        "    axs[0].set_xlabel('Epoch')\n",
        "    axs[0].grid()\n",
        "    axs[0].legend(loc=0)\n",
        "    axs[1].plot(hist_df.val_loss, lw=3, label='Validation Loss')\n",
        "    axs[1].plot(hist_df.loss, lw=3, label='Training Loss')\n",
        "    axs[1].set_ylabel('Loss')\n",
        "    axs[1].set_xlabel('Epoch')\n",
        "    axs[1].grid()\n",
        "    axs[1].legend(loc=0)\n",
        "    \n",
        "    plt.show();"
      ],
      "execution_count": null,
      "outputs": []
    },
    {
      "cell_type": "markdown",
      "metadata": {
        "id": "AEGjlF9S9jJ9"
      },
      "source": [
        "## Preprocessing of the data"
      ]
    },
    {
      "cell_type": "markdown",
      "metadata": {
        "id": "MvHI_pLN9s2L"
      },
      "source": [
        "We get the IMDB dataset directly from the tensorflow_datasets API and we do the usual preprocessing before feeding a neural network"
      ]
    },
    {
      "cell_type": "code",
      "metadata": {
        "id": "pLr7YiH96eB2"
      },
      "source": [
        "import tensorflow_datasets as tfds\n",
        "\n",
        "datasets, info = tfds.load(\"imdb_reviews\", as_supervised=True, with_info=True)\n",
        "\n",
        "train_size = info.splits[\"train\"].num_examples\n",
        "batch_size = 32\n",
        "\n",
        "train_set = datasets[\"train\"].shuffle(10000).repeat().batch(batch_size).prefetch(tf.data.AUTOTUNE)\n",
        "\n",
        "test_size = info.splits[\"test\"].num_examples\n",
        "test_set = datasets[\"test\"].repeat().batch(batch_size).prefetch(tf.data.AUTOTUNE)"
      ],
      "execution_count": null,
      "outputs": []
    },
    {
      "cell_type": "markdown",
      "metadata": {
        "id": "uxitmaEZA64u"
      },
      "source": [
        "## Use of a pretrained embedding"
      ]
    },
    {
      "cell_type": "markdown",
      "metadata": {
        "id": "PjjSBh_H-LRA"
      },
      "source": [
        "We use of pretrained embedding directly from tensorflow_hub"
      ]
    },
    {
      "cell_type": "code",
      "metadata": {
        "id": "zU7z0p_V7O7A"
      },
      "source": [
        "embed = hub.load(\"https://tfhub.dev/google/tf2-preview/nnlm-en-dim50/1\")"
      ],
      "execution_count": null,
      "outputs": []
    },
    {
      "cell_type": "markdown",
      "metadata": {
        "id": "Ab7EQzFmAXmu"
      },
      "source": [
        "We test on two (famous) lines and check the shapes of the embedding results"
      ]
    },
    {
      "cell_type": "code",
      "metadata": {
        "colab": {
          "base_uri": "https://localhost:8080/"
        },
        "id": "YQR2XvIk7S03",
        "outputId": "1c65eff4-e730-48be-fee9-af4b187bdd12"
      },
      "source": [
        "embeddings = embed([\"A thing of beauty is a joy forever\", \"If by dull rhymes our English must be chain'd\"])\n",
        "print(embeddings)\n",
        "print(embeddings.shape)"
      ],
      "execution_count": null,
      "outputs": [
        {
          "output_type": "stream",
          "text": [
            "tf.Tensor(\n",
            "[[ 0.03275988  0.18106811  0.13030443  0.05100623  0.12367279 -0.11072872\n",
            "   0.1655957  -0.0049278  -0.3281556   0.05204761  0.17150185  0.01282718\n",
            "  -0.09332222  0.1672171  -0.05711355 -0.22492586 -0.15962309 -0.00958291\n",
            "  -0.11166596 -0.42931503 -0.0194127  -0.20494537  0.25295272  0.05954154\n",
            "  -0.25411132  0.12579551 -0.16218384 -0.10604351  0.27133545 -0.15765025\n",
            "  -0.31424785  0.21318786 -0.10896667  0.14070608 -0.24665987  0.1579746\n",
            "   0.24865562  0.04819695  0.10051076 -0.24969979  0.15491936 -0.0360333\n",
            "   0.07346644  0.10915987 -0.08220651  0.12550174  0.16840625 -0.01693668\n",
            "   0.0715794  -0.04162662]\n",
            " [ 0.16800539  0.24028125 -0.30071175  0.07007764 -0.18024668  0.07986181\n",
            "   0.05427119 -0.28110817 -0.22582981  0.26624134  0.13623291 -0.11988997\n",
            "   0.16064322 -0.04873525 -0.08858649 -0.15337813  0.00109797 -0.26315662\n",
            "   0.3372981  -0.14884004  0.17933601 -0.12853579 -0.15982151 -0.10252967\n",
            "  -0.03884843  0.08044805 -0.20275603 -0.17167023  0.20971875 -0.12899558\n",
            "   0.07407399  0.237014    0.14208776 -0.33200854 -0.12605904 -0.07594581\n",
            "   0.02684807  0.00552503  0.09870575 -0.2602448   0.21202575 -0.0655203\n",
            "  -0.14746019 -0.1037299  -0.02173514  0.0199495  -0.1951208   0.1663805\n",
            "   0.06281476  0.05411559]], shape=(2, 50), dtype=float32)\n",
            "(2, 50)\n"
          ],
          "name": "stdout"
        }
      ]
    },
    {
      "cell_type": "markdown",
      "metadata": {
        "id": "aXJvUiwrA-4i"
      },
      "source": [
        "## Neural network model definition"
      ]
    },
    {
      "cell_type": "markdown",
      "metadata": {
        "id": "5t7Et6bMGoz4"
      },
      "source": [
        "Build a neural network using keras sequential layers\n",
        "\n",
        "(you may have a look at https://keras.io/api/layers/)"
      ]
    },
    {
      "cell_type": "code",
      "metadata": {
        "id": "kobUaul57W0y"
      },
      "source": [
        "model = tf.keras.models.Sequential([\n",
        "    hub.KerasLayer(embed,\n",
        "                   dtype=tf.string, input_shape=[], output_shape=[50]),\n",
        "    Dense(128, activation=\"relu\"),\n",
        "    #Dropout(rate=0.8),\n",
        "    Dense(300, activation=\"relu\"),\n",
        "    #Dropout(rate=0.8),\n",
        "    Dense(1, activation=\"sigmoid\")\n",
        "])"
      ],
      "execution_count": null,
      "outputs": []
    },
    {
      "cell_type": "markdown",
      "metadata": {
        "id": "jUFjZK83Gs99"
      },
      "source": [
        "We check that everything is fine with the model as we defined it"
      ]
    },
    {
      "cell_type": "code",
      "metadata": {
        "colab": {
          "base_uri": "https://localhost:8080/"
        },
        "id": "u7eZA1saGuXa",
        "outputId": "85351e42-a9ad-4f27-ab1c-51e4f406b70d"
      },
      "source": [
        "model.summary()"
      ],
      "execution_count": null,
      "outputs": [
        {
          "output_type": "stream",
          "text": [
            "Model: \"sequential_5\"\n",
            "_________________________________________________________________\n",
            "Layer (type)                 Output Shape              Param #   \n",
            "=================================================================\n",
            "keras_layer_5 (KerasLayer)   (None, 50)                48190600  \n",
            "_________________________________________________________________\n",
            "dense_15 (Dense)             (None, 128)               6528      \n",
            "_________________________________________________________________\n",
            "dropout_8 (Dropout)          (None, 128)               0         \n",
            "_________________________________________________________________\n",
            "dense_16 (Dense)             (None, 300)               38700     \n",
            "_________________________________________________________________\n",
            "dropout_9 (Dropout)          (None, 300)               0         \n",
            "_________________________________________________________________\n",
            "dense_17 (Dense)             (None, 1)                 301       \n",
            "=================================================================\n",
            "Total params: 48,236,129\n",
            "Trainable params: 45,529\n",
            "Non-trainable params: 48,190,600\n",
            "_________________________________________________________________\n"
          ],
          "name": "stdout"
        }
      ]
    },
    {
      "cell_type": "markdown",
      "metadata": {
        "id": "dPIAcyyJJebS"
      },
      "source": [
        "We compile the model, choosing relevant loss function, optimizer and metrics"
      ]
    },
    {
      "cell_type": "code",
      "metadata": {
        "id": "rYIi8jps7aFa"
      },
      "source": [
        "model.compile(loss=\"binary_crossentropy\", optimizer=\"adam\",\n",
        "              metrics=[\"accuracy\"])"
      ],
      "execution_count": null,
      "outputs": []
    },
    {
      "cell_type": "markdown",
      "metadata": {
        "id": "siQfzR5oHHni"
      },
      "source": [
        "We train the model on the dataset"
      ]
    },
    {
      "cell_type": "code",
      "metadata": {
        "colab": {
          "base_uri": "https://localhost:8080/"
        },
        "id": "O6TTGWXb7eEn",
        "outputId": "dc52da0c-f3b1-4951-893e-9d056468c1ad"
      },
      "source": [
        "history = model.fit(train_set, steps_per_epoch=train_size // batch_size, epochs=100, validation_data=test_set, validation_steps=test_size // batch_size)"
      ],
      "execution_count": null,
      "outputs": [
        {
          "output_type": "stream",
          "text": [
            "Epoch 1/100\n",
            "781/781 [==============================] - 12s 14ms/step - loss: 0.6435 - accuracy: 0.6280 - val_loss: 0.5619 - val_accuracy: 0.7247\n",
            "Epoch 2/100\n",
            "781/781 [==============================] - 11s 14ms/step - loss: 0.5826 - accuracy: 0.6995 - val_loss: 0.5436 - val_accuracy: 0.7359\n",
            "Epoch 3/100\n",
            "781/781 [==============================] - 11s 14ms/step - loss: 0.5654 - accuracy: 0.7157 - val_loss: 0.5347 - val_accuracy: 0.7385\n",
            "Epoch 4/100\n",
            "781/781 [==============================] - 11s 14ms/step - loss: 0.5565 - accuracy: 0.7256 - val_loss: 0.5275 - val_accuracy: 0.7412\n",
            "Epoch 5/100\n",
            "781/781 [==============================] - 11s 14ms/step - loss: 0.5488 - accuracy: 0.7285 - val_loss: 0.5290 - val_accuracy: 0.7427\n",
            "Epoch 6/100\n",
            "781/781 [==============================] - 11s 14ms/step - loss: 0.5467 - accuracy: 0.7310 - val_loss: 0.5239 - val_accuracy: 0.7428\n",
            "Epoch 7/100\n",
            "781/781 [==============================] - 11s 14ms/step - loss: 0.5434 - accuracy: 0.7316 - val_loss: 0.5224 - val_accuracy: 0.7438\n",
            "Epoch 8/100\n",
            "781/781 [==============================] - 11s 14ms/step - loss: 0.5392 - accuracy: 0.7362 - val_loss: 0.5180 - val_accuracy: 0.7432\n",
            "Epoch 9/100\n",
            "781/781 [==============================] - 11s 14ms/step - loss: 0.5405 - accuracy: 0.7366 - val_loss: 0.5243 - val_accuracy: 0.7436\n",
            "Epoch 10/100\n",
            "781/781 [==============================] - 11s 14ms/step - loss: 0.5374 - accuracy: 0.7395 - val_loss: 0.5256 - val_accuracy: 0.7434\n",
            "Epoch 11/100\n",
            "781/781 [==============================] - 11s 14ms/step - loss: 0.5380 - accuracy: 0.7404 - val_loss: 0.5267 - val_accuracy: 0.7455\n",
            "Epoch 12/100\n",
            "781/781 [==============================] - 11s 14ms/step - loss: 0.5353 - accuracy: 0.7398 - val_loss: 0.5290 - val_accuracy: 0.7456\n",
            "Epoch 13/100\n",
            "781/781 [==============================] - 11s 14ms/step - loss: 0.5328 - accuracy: 0.7410 - val_loss: 0.5208 - val_accuracy: 0.7446\n",
            "Epoch 14/100\n",
            "781/781 [==============================] - 11s 14ms/step - loss: 0.5325 - accuracy: 0.7418 - val_loss: 0.5241 - val_accuracy: 0.7458\n",
            "Epoch 15/100\n",
            "781/781 [==============================] - 11s 14ms/step - loss: 0.5337 - accuracy: 0.7428 - val_loss: 0.5177 - val_accuracy: 0.7469\n",
            "Epoch 16/100\n",
            "781/781 [==============================] - 11s 14ms/step - loss: 0.5340 - accuracy: 0.7401 - val_loss: 0.5254 - val_accuracy: 0.7425\n",
            "Epoch 17/100\n",
            "781/781 [==============================] - 11s 14ms/step - loss: 0.5322 - accuracy: 0.7437 - val_loss: 0.5249 - val_accuracy: 0.7461\n",
            "Epoch 18/100\n",
            "781/781 [==============================] - 11s 14ms/step - loss: 0.5326 - accuracy: 0.7438 - val_loss: 0.5202 - val_accuracy: 0.7450\n",
            "Epoch 19/100\n",
            "781/781 [==============================] - 11s 14ms/step - loss: 0.5293 - accuracy: 0.7437 - val_loss: 0.5185 - val_accuracy: 0.7473\n",
            "Epoch 20/100\n",
            "781/781 [==============================] - 11s 15ms/step - loss: 0.5306 - accuracy: 0.7420 - val_loss: 0.5183 - val_accuracy: 0.7467\n",
            "Epoch 21/100\n",
            "781/781 [==============================] - 11s 14ms/step - loss: 0.5279 - accuracy: 0.7468 - val_loss: 0.5200 - val_accuracy: 0.7462\n",
            "Epoch 22/100\n",
            "781/781 [==============================] - 11s 14ms/step - loss: 0.5285 - accuracy: 0.7446 - val_loss: 0.5176 - val_accuracy: 0.7468\n",
            "Epoch 23/100\n",
            "781/781 [==============================] - 11s 14ms/step - loss: 0.5268 - accuracy: 0.7464 - val_loss: 0.5266 - val_accuracy: 0.7474\n",
            "Epoch 24/100\n",
            "781/781 [==============================] - 11s 14ms/step - loss: 0.5288 - accuracy: 0.7435 - val_loss: 0.5220 - val_accuracy: 0.7448\n",
            "Epoch 25/100\n",
            "781/781 [==============================] - 11s 14ms/step - loss: 0.5283 - accuracy: 0.7463 - val_loss: 0.5208 - val_accuracy: 0.7473\n",
            "Epoch 26/100\n",
            "781/781 [==============================] - 11s 14ms/step - loss: 0.5280 - accuracy: 0.7449 - val_loss: 0.5228 - val_accuracy: 0.7459\n",
            "Epoch 27/100\n",
            "781/781 [==============================] - 11s 15ms/step - loss: 0.5300 - accuracy: 0.7444 - val_loss: 0.5281 - val_accuracy: 0.7484\n",
            "Epoch 28/100\n",
            "781/781 [==============================] - 12s 15ms/step - loss: 0.5262 - accuracy: 0.7449 - val_loss: 0.5227 - val_accuracy: 0.7478\n",
            "Epoch 29/100\n",
            "781/781 [==============================] - 12s 15ms/step - loss: 0.5250 - accuracy: 0.7480 - val_loss: 0.5205 - val_accuracy: 0.7491\n",
            "Epoch 30/100\n",
            "781/781 [==============================] - 12s 15ms/step - loss: 0.5262 - accuracy: 0.7455 - val_loss: 0.5178 - val_accuracy: 0.7464\n",
            "Epoch 31/100\n",
            "781/781 [==============================] - 11s 15ms/step - loss: 0.5265 - accuracy: 0.7438 - val_loss: 0.5201 - val_accuracy: 0.7471\n",
            "Epoch 32/100\n",
            "781/781 [==============================] - 11s 15ms/step - loss: 0.5264 - accuracy: 0.7457 - val_loss: 0.5161 - val_accuracy: 0.7474\n",
            "Epoch 33/100\n",
            "781/781 [==============================] - 11s 15ms/step - loss: 0.5251 - accuracy: 0.7471 - val_loss: 0.5184 - val_accuracy: 0.7449\n",
            "Epoch 34/100\n",
            "781/781 [==============================] - 11s 15ms/step - loss: 0.5242 - accuracy: 0.7484 - val_loss: 0.5202 - val_accuracy: 0.7464\n",
            "Epoch 35/100\n",
            "781/781 [==============================] - 12s 15ms/step - loss: 0.5237 - accuracy: 0.7495 - val_loss: 0.5188 - val_accuracy: 0.7486\n",
            "Epoch 36/100\n",
            "781/781 [==============================] - 11s 14ms/step - loss: 0.5247 - accuracy: 0.7464 - val_loss: 0.5200 - val_accuracy: 0.7443\n",
            "Epoch 37/100\n",
            "781/781 [==============================] - 11s 15ms/step - loss: 0.5273 - accuracy: 0.7484 - val_loss: 0.5169 - val_accuracy: 0.7481\n",
            "Epoch 38/100\n",
            "781/781 [==============================] - 11s 14ms/step - loss: 0.5226 - accuracy: 0.7501 - val_loss: 0.5217 - val_accuracy: 0.7496\n",
            "Epoch 39/100\n",
            "781/781 [==============================] - 11s 14ms/step - loss: 0.5264 - accuracy: 0.7484 - val_loss: 0.5201 - val_accuracy: 0.7468\n",
            "Epoch 40/100\n",
            "781/781 [==============================] - 11s 15ms/step - loss: 0.5272 - accuracy: 0.7445 - val_loss: 0.5221 - val_accuracy: 0.7487\n",
            "Epoch 41/100\n",
            "781/781 [==============================] - 11s 14ms/step - loss: 0.5218 - accuracy: 0.7519 - val_loss: 0.5208 - val_accuracy: 0.7466\n",
            "Epoch 42/100\n",
            "781/781 [==============================] - 12s 15ms/step - loss: 0.5263 - accuracy: 0.7467 - val_loss: 0.5158 - val_accuracy: 0.7462\n",
            "Epoch 43/100\n",
            "781/781 [==============================] - 12s 16ms/step - loss: 0.5252 - accuracy: 0.7485 - val_loss: 0.5181 - val_accuracy: 0.7488\n",
            "Epoch 44/100\n",
            "781/781 [==============================] - 12s 15ms/step - loss: 0.5224 - accuracy: 0.7500 - val_loss: 0.5287 - val_accuracy: 0.7468\n",
            "Epoch 45/100\n",
            "781/781 [==============================] - 12s 15ms/step - loss: 0.5234 - accuracy: 0.7509 - val_loss: 0.5247 - val_accuracy: 0.7460\n",
            "Epoch 46/100\n",
            "781/781 [==============================] - 11s 15ms/step - loss: 0.5201 - accuracy: 0.7490 - val_loss: 0.5236 - val_accuracy: 0.7430\n",
            "Epoch 47/100\n",
            "781/781 [==============================] - 12s 15ms/step - loss: 0.5252 - accuracy: 0.7495 - val_loss: 0.5239 - val_accuracy: 0.7471\n",
            "Epoch 48/100\n",
            "781/781 [==============================] - 11s 15ms/step - loss: 0.5223 - accuracy: 0.7494 - val_loss: 0.5186 - val_accuracy: 0.7476\n",
            "Epoch 49/100\n",
            "781/781 [==============================] - 11s 15ms/step - loss: 0.5229 - accuracy: 0.7514 - val_loss: 0.5211 - val_accuracy: 0.7471\n",
            "Epoch 50/100\n",
            "781/781 [==============================] - 11s 14ms/step - loss: 0.5224 - accuracy: 0.7510 - val_loss: 0.5258 - val_accuracy: 0.7464\n",
            "Epoch 51/100\n",
            "781/781 [==============================] - 11s 15ms/step - loss: 0.5223 - accuracy: 0.7508 - val_loss: 0.5217 - val_accuracy: 0.7466\n",
            "Epoch 52/100\n",
            "781/781 [==============================] - 11s 14ms/step - loss: 0.5236 - accuracy: 0.7506 - val_loss: 0.5256 - val_accuracy: 0.7464\n",
            "Epoch 53/100\n",
            "781/781 [==============================] - 11s 15ms/step - loss: 0.5196 - accuracy: 0.7531 - val_loss: 0.5231 - val_accuracy: 0.7485\n",
            "Epoch 54/100\n",
            "781/781 [==============================] - 12s 15ms/step - loss: 0.5215 - accuracy: 0.7508 - val_loss: 0.5229 - val_accuracy: 0.7474\n",
            "Epoch 55/100\n",
            "781/781 [==============================] - 11s 15ms/step - loss: 0.5218 - accuracy: 0.7501 - val_loss: 0.5205 - val_accuracy: 0.7486\n",
            "Epoch 56/100\n",
            "781/781 [==============================] - 12s 15ms/step - loss: 0.5201 - accuracy: 0.7507 - val_loss: 0.5199 - val_accuracy: 0.7503\n",
            "Epoch 57/100\n",
            "781/781 [==============================] - 12s 15ms/step - loss: 0.5228 - accuracy: 0.7502 - val_loss: 0.5246 - val_accuracy: 0.7475\n",
            "Epoch 58/100\n",
            "781/781 [==============================] - 11s 14ms/step - loss: 0.5217 - accuracy: 0.7535 - val_loss: 0.5230 - val_accuracy: 0.7478\n",
            "Epoch 59/100\n",
            "781/781 [==============================] - 11s 14ms/step - loss: 0.5186 - accuracy: 0.7510 - val_loss: 0.5172 - val_accuracy: 0.7486\n",
            "Epoch 60/100\n",
            "781/781 [==============================] - 11s 14ms/step - loss: 0.5216 - accuracy: 0.7536 - val_loss: 0.5213 - val_accuracy: 0.7458\n",
            "Epoch 61/100\n",
            "781/781 [==============================] - 11s 14ms/step - loss: 0.5207 - accuracy: 0.7514 - val_loss: 0.5251 - val_accuracy: 0.7487\n",
            "Epoch 62/100\n",
            "781/781 [==============================] - 11s 15ms/step - loss: 0.5205 - accuracy: 0.7531 - val_loss: 0.5180 - val_accuracy: 0.7490\n",
            "Epoch 63/100\n",
            "781/781 [==============================] - 12s 15ms/step - loss: 0.5202 - accuracy: 0.7527 - val_loss: 0.5242 - val_accuracy: 0.7481\n",
            "Epoch 64/100\n",
            "781/781 [==============================] - 11s 15ms/step - loss: 0.5218 - accuracy: 0.7507 - val_loss: 0.5252 - val_accuracy: 0.7477\n",
            "Epoch 65/100\n",
            "781/781 [==============================] - 11s 14ms/step - loss: 0.5191 - accuracy: 0.7522 - val_loss: 0.5274 - val_accuracy: 0.7475\n",
            "Epoch 66/100\n",
            "781/781 [==============================] - 11s 15ms/step - loss: 0.5193 - accuracy: 0.7537 - val_loss: 0.5288 - val_accuracy: 0.7476\n",
            "Epoch 67/100\n",
            "781/781 [==============================] - 11s 14ms/step - loss: 0.5215 - accuracy: 0.7517 - val_loss: 0.5201 - val_accuracy: 0.7486\n",
            "Epoch 68/100\n",
            "781/781 [==============================] - 11s 14ms/step - loss: 0.5213 - accuracy: 0.7495 - val_loss: 0.5258 - val_accuracy: 0.7472\n",
            "Epoch 69/100\n",
            "781/781 [==============================] - 11s 15ms/step - loss: 0.5190 - accuracy: 0.7520 - val_loss: 0.5329 - val_accuracy: 0.7442\n",
            "Epoch 70/100\n",
            "781/781 [==============================] - 11s 15ms/step - loss: 0.5204 - accuracy: 0.7530 - val_loss: 0.5310 - val_accuracy: 0.7474\n",
            "Epoch 71/100\n",
            "781/781 [==============================] - 11s 15ms/step - loss: 0.5180 - accuracy: 0.7514 - val_loss: 0.5190 - val_accuracy: 0.7466\n",
            "Epoch 72/100\n",
            "781/781 [==============================] - 11s 14ms/step - loss: 0.5173 - accuracy: 0.7541 - val_loss: 0.5160 - val_accuracy: 0.7454\n",
            "Epoch 73/100\n",
            "781/781 [==============================] - 11s 15ms/step - loss: 0.5168 - accuracy: 0.7533 - val_loss: 0.5303 - val_accuracy: 0.7474\n",
            "Epoch 74/100\n",
            "781/781 [==============================] - 11s 14ms/step - loss: 0.5173 - accuracy: 0.7508 - val_loss: 0.5201 - val_accuracy: 0.7454\n",
            "Epoch 75/100\n",
            "781/781 [==============================] - 11s 14ms/step - loss: 0.5187 - accuracy: 0.7503 - val_loss: 0.5253 - val_accuracy: 0.7495\n",
            "Epoch 76/100\n",
            "781/781 [==============================] - 11s 14ms/step - loss: 0.5205 - accuracy: 0.7531 - val_loss: 0.5282 - val_accuracy: 0.7476\n",
            "Epoch 77/100\n",
            "781/781 [==============================] - 11s 14ms/step - loss: 0.5177 - accuracy: 0.7513 - val_loss: 0.5296 - val_accuracy: 0.7452\n",
            "Epoch 78/100\n",
            "781/781 [==============================] - 11s 14ms/step - loss: 0.5178 - accuracy: 0.7507 - val_loss: 0.5354 - val_accuracy: 0.7451\n",
            "Epoch 79/100\n",
            "781/781 [==============================] - 11s 15ms/step - loss: 0.5178 - accuracy: 0.7552 - val_loss: 0.5255 - val_accuracy: 0.7477\n",
            "Epoch 80/100\n",
            "781/781 [==============================] - 11s 15ms/step - loss: 0.5163 - accuracy: 0.7563 - val_loss: 0.5259 - val_accuracy: 0.7442\n",
            "Epoch 81/100\n",
            "781/781 [==============================] - 11s 15ms/step - loss: 0.5162 - accuracy: 0.7544 - val_loss: 0.5268 - val_accuracy: 0.7467\n",
            "Epoch 82/100\n",
            "781/781 [==============================] - 11s 15ms/step - loss: 0.5167 - accuracy: 0.7542 - val_loss: 0.5318 - val_accuracy: 0.7477\n",
            "Epoch 83/100\n",
            "781/781 [==============================] - 11s 15ms/step - loss: 0.5161 - accuracy: 0.7540 - val_loss: 0.5323 - val_accuracy: 0.7475\n",
            "Epoch 84/100\n",
            "781/781 [==============================] - 11s 14ms/step - loss: 0.5181 - accuracy: 0.7507 - val_loss: 0.5241 - val_accuracy: 0.7483\n",
            "Epoch 85/100\n",
            "781/781 [==============================] - 11s 14ms/step - loss: 0.5167 - accuracy: 0.7550 - val_loss: 0.5271 - val_accuracy: 0.7468\n",
            "Epoch 86/100\n",
            "781/781 [==============================] - 11s 14ms/step - loss: 0.5158 - accuracy: 0.7570 - val_loss: 0.5227 - val_accuracy: 0.7484\n",
            "Epoch 87/100\n",
            "781/781 [==============================] - 11s 14ms/step - loss: 0.5202 - accuracy: 0.7526 - val_loss: 0.5278 - val_accuracy: 0.7469\n",
            "Epoch 88/100\n",
            "781/781 [==============================] - 12s 15ms/step - loss: 0.5188 - accuracy: 0.7526 - val_loss: 0.5321 - val_accuracy: 0.7451\n",
            "Epoch 89/100\n",
            "781/781 [==============================] - 11s 15ms/step - loss: 0.5190 - accuracy: 0.7508 - val_loss: 0.5285 - val_accuracy: 0.7479\n",
            "Epoch 90/100\n",
            "781/781 [==============================] - 12s 15ms/step - loss: 0.5174 - accuracy: 0.7535 - val_loss: 0.5348 - val_accuracy: 0.7464\n",
            "Epoch 91/100\n",
            "781/781 [==============================] - 12s 15ms/step - loss: 0.5131 - accuracy: 0.7545 - val_loss: 0.5246 - val_accuracy: 0.7488\n",
            "Epoch 92/100\n",
            "781/781 [==============================] - 11s 15ms/step - loss: 0.5165 - accuracy: 0.7536 - val_loss: 0.5243 - val_accuracy: 0.7488\n",
            "Epoch 93/100\n",
            "781/781 [==============================] - 11s 15ms/step - loss: 0.5161 - accuracy: 0.7550 - val_loss: 0.5221 - val_accuracy: 0.7477\n",
            "Epoch 94/100\n",
            "781/781 [==============================] - 12s 15ms/step - loss: 0.5179 - accuracy: 0.7526 - val_loss: 0.5386 - val_accuracy: 0.7473\n",
            "Epoch 95/100\n",
            "781/781 [==============================] - 12s 15ms/step - loss: 0.5154 - accuracy: 0.7548 - val_loss: 0.5313 - val_accuracy: 0.7498\n",
            "Epoch 96/100\n",
            "781/781 [==============================] - 12s 15ms/step - loss: 0.5194 - accuracy: 0.7545 - val_loss: 0.5260 - val_accuracy: 0.7476\n",
            "Epoch 97/100\n",
            "781/781 [==============================] - 12s 15ms/step - loss: 0.5166 - accuracy: 0.7516 - val_loss: 0.5245 - val_accuracy: 0.7481\n",
            "Epoch 98/100\n",
            "781/781 [==============================] - 11s 15ms/step - loss: 0.5186 - accuracy: 0.7491 - val_loss: 0.5189 - val_accuracy: 0.7484\n",
            "Epoch 99/100\n",
            "781/781 [==============================] - 12s 15ms/step - loss: 0.5164 - accuracy: 0.7538 - val_loss: 0.5221 - val_accuracy: 0.7478\n",
            "Epoch 100/100\n",
            "781/781 [==============================] - 12s 15ms/step - loss: 0.5200 - accuracy: 0.7524 - val_loss: 0.5241 - val_accuracy: 0.7477\n"
          ],
          "name": "stdout"
        }
      ]
    },
    {
      "cell_type": "markdown",
      "metadata": {
        "id": "h15OAnNqBdP4"
      },
      "source": [
        "## Result visualization"
      ]
    },
    {
      "cell_type": "code",
      "metadata": {
        "colab": {
          "base_uri": "https://localhost:8080/"
        },
        "id": "WXjErDMg7lTD",
        "outputId": "3d231838-fc50-4158-c2b1-69e22c232b84"
      },
      "source": [
        "plot_results(history)"
      ],
      "execution_count": null,
      "outputs": [
        {
          "output_type": "display_data",
          "data": {
            "image/png": "[encoded data removed]",
            "text/plain": [
              "<Figure size 1152x720 with 2 Axes>"
            ]
          },
          "metadata": {
            "tags": [],
            "needs_background": "light"
          }
        }
      ]
    }
  ]
}