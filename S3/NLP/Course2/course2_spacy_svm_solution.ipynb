{
  "nbformat": 4,
  "nbformat_minor": 0,
  "metadata": {
    "colab": {
      "name": "course2_spacy_svm.ipynb",
      "provenance": []
    },
    "kernelspec": {
      "name": "python3",
      "display_name": "Python 3"
    },
    "language_info": {
      "name": "python"
    }
  },
  "cells": [
    {
      "cell_type": "code",
      "metadata": {
        "id": "MzOS4yNKfz6p",
        "colab": {
          "base_uri": "https://localhost:8080/"
        },
        "outputId": "3ce07998-261c-4dc1-8949-7c924ff9d599"
      },
      "source": [
        "import spacy\n",
        "import spacy.cli\n",
        "from scipy import spatial\n",
        "spacy.cli.download(\"en_core_web_md\")\n",
        "nlp = spacy.load('en_core_web_md')"
      ],
      "execution_count": 1,
      "outputs": [
        {
          "output_type": "stream",
          "name": "stdout",
          "text": [
            "\u001b[38;5;2m✔ Download and installation successful\u001b[0m\n",
            "You can now load the model via spacy.load('en_core_web_md')\n"
          ]
        }
      ]
    },
    {
      "cell_type": "code",
      "metadata": {
        "id": "Y_9_lT8PgY4B"
      },
      "source": [
        "import pandas as pd\n",
        "import numpy as np\n",
        "import pickle"
      ],
      "execution_count": 2,
      "outputs": []
    },
    {
      "cell_type": "markdown",
      "metadata": {
        "id": "W9Jfq_VIWaZP"
      },
      "source": [
        "IMDB database loading"
      ]
    },
    {
      "cell_type": "code",
      "metadata": {
        "id": "Foswaqhvf6Nr",
        "colab": {
          "base_uri": "https://localhost:8080/"
        },
        "outputId": "9c5b2e05-cec6-4d87-84d7-7e3c893ff8c9"
      },
      "source": [
        "# Mounting the google drive to google colab in order to load the data files directly from it\n",
        "from google.colab import drive\n",
        "drive.mount('/content/drive')\n",
        "imdb_df = pd.read_csv(\"/content/drive/MyDrive/EPITA_NLP/Course2/IMDB Dataset.csv\")"
      ],
      "execution_count": 3,
      "outputs": [
        {
          "output_type": "stream",
          "name": "stdout",
          "text": [
            "Mounted at /content/drive\n"
          ]
        }
      ]
    },
    {
      "cell_type": "code",
      "metadata": {
        "colab": {
          "base_uri": "https://localhost:8080/"
        },
        "id": "5bYjNcXeWhOH",
        "outputId": "5d736932-9020-4db1-9897-ebf8c40f4a87"
      },
      "source": [
        "# These data from IMDB correspond to movie review, with sentiment (postive/negative) labels\n",
        "imdb_df.head"
      ],
      "execution_count": 4,
      "outputs": [
        {
          "output_type": "execute_result",
          "data": {
            "text/plain": [
              "<bound method NDFrame.head of                                                   review sentiment\n",
              "0      One of the other reviewers has mentioned that ...  positive\n",
              "1      A wonderful little production. <br /><br />The...  positive\n",
              "2      I thought this was a wonderful way to spend ti...  positive\n",
              "3      Basically there's a family where a little boy ...  negative\n",
              "4      Petter Mattei's \"Love in the Time of Money\" is...  positive\n",
              "...                                                  ...       ...\n",
              "49995  I thought this movie did a down right good job...  positive\n",
              "49996  Bad plot, bad dialogue, bad acting, idiotic di...  negative\n",
              "49997  I am a Catholic taught in parochial elementary...  negative\n",
              "49998  I'm going to have to disagree with the previou...  negative\n",
              "49999  No one expects the Star Trek movies to be high...  negative\n",
              "\n",
              "[50000 rows x 2 columns]>"
            ]
          },
          "metadata": {},
          "execution_count": 4
        }
      ]
    },
    {
      "cell_type": "code",
      "metadata": {
        "colab": {
          "base_uri": "https://localhost:8080/"
        },
        "id": "KBxnvSv9Whu-",
        "outputId": "e76fbdbf-19f5-41a8-e3b3-76b9f699308d"
      },
      "source": [
        "len(imdb_df)"
      ],
      "execution_count": 5,
      "outputs": [
        {
          "output_type": "execute_result",
          "data": {
            "text/plain": [
              "50000"
            ]
          },
          "metadata": {},
          "execution_count": 5
        }
      ]
    },
    {
      "cell_type": "markdown",
      "metadata": {
        "id": "_Xx9hWVGWkxq"
      },
      "source": [
        "## Preprocessing of the data"
      ]
    },
    {
      "cell_type": "markdown",
      "metadata": {
        "id": "1vrD1MtIWn01"
      },
      "source": [
        "We get the IMDB dataset"
      ]
    },
    {
      "cell_type": "markdown",
      "metadata": {
        "id": "YczEXD1BWrw3"
      },
      "source": [
        "Here is the original code to transform the texts into 300-dimension embedding vectors with spaCy pretrained model.\n",
        "However, in order to save most of the computation time needed, we just do the operation **on a small subsample** of the complete data. On the **next cells**, we load directly the **embedding already computed on all the data** to use it directly."
      ]
    },
    {
      "cell_type": "markdown",
      "metadata": {
        "id": "6c7e7SlHWugm"
      },
      "source": [
        "Let's have a look to an example of review"
      ]
    },
    {
      "cell_type": "code",
      "metadata": {
        "colab": {
          "base_uri": "https://localhost:8080/",
          "height": 103
        },
        "id": "se7XAROEWwaM",
        "outputId": "b2572d75-b65f-4e4b-a67d-6e1ebd7e090b"
      },
      "source": [
        "review_example = imdb_df[\"review\"][0]\n",
        "review_example"
      ],
      "execution_count": 6,
      "outputs": [
        {
          "output_type": "execute_result",
          "data": {
            "application/vnd.google.colaboratory.intrinsic+json": {
              "type": "string"
            },
            "text/plain": [
              "\"One of the other reviewers has mentioned that after watching just 1 Oz episode you'll be hooked. They are right, as this is exactly what happened with me.<br /><br />The first thing that struck me about Oz was its brutality and unflinching scenes of violence, which set in right from the word GO. Trust me, this is not a show for the faint hearted or timid. This show pulls no punches with regards to drugs, sex or violence. Its is hardcore, in the classic use of the word.<br /><br />It is called OZ as that is the nickname given to the Oswald Maximum Security State Penitentary. It focuses mainly on Emerald City, an experimental section of the prison where all the cells have glass fronts and face inwards, so privacy is not high on the agenda. Em City is home to many..Aryans, Muslims, gangstas, Latinos, Christians, Italians, Irish and more....so scuffles, death stares, dodgy dealings and shady agreements are never far away.<br /><br />I would say the main appeal of the show is due to the fact that it goes where other shows wouldn't dare. Forget pretty pictures painted for mainstream audiences, forget charm, forget romance...OZ doesn't mess around. The first episode I ever saw struck me as so nasty it was surreal, I couldn't say I was ready for it, but as I watched more, I developed a taste for Oz, and got accustomed to the high levels of graphic violence. Not just violence, but injustice (crooked guards who'll be sold out for a nickel, inmates who'll kill on order and get away with it, well mannered, middle class inmates being turned into prison bitches due to their lack of street skills or prison experience) Watching Oz, you may become comfortable with what is uncomfortable viewing....thats if you can get in touch with your darker side.\""
            ]
          },
          "metadata": {},
          "execution_count": 6
        }
      ]
    },
    {
      "cell_type": "markdown",
      "metadata": {
        "id": "Ax72Tu0KWzd_"
      },
      "source": [
        "Let's see how to use spaCy to turn it into a 300-dimension **text** embedding vector"
      ]
    },
    {
      "cell_type": "code",
      "metadata": {
        "colab": {
          "base_uri": "https://localhost:8080/"
        },
        "id": "uYUjGmLXW4eK",
        "outputId": "239411fa-59fd-429c-af8e-ea328cb58109"
      },
      "source": [
        "text_embedding_example =  nlp(review_example).vector\n",
        "text_embedding_example"
      ],
      "execution_count": 7,
      "outputs": [
        {
          "output_type": "execute_result",
          "data": {
            "text/plain": [
              "array([-5.20629659e-02,  1.76978067e-01, -1.36168167e-01, -6.55549467e-02,\n",
              "        8.32999498e-02,  5.18484507e-04, -2.14118673e-03, -6.22530282e-02,\n",
              "       -2.49865353e-02,  2.13308358e+00, -1.38473496e-01,  3.26936096e-02,\n",
              "        8.59473571e-02, -5.60004413e-02, -1.12932213e-01, -9.65132043e-02,\n",
              "       -3.17423567e-02,  9.75738585e-01, -1.56550646e-01, -7.16082603e-02,\n",
              "       -1.80443656e-02, -3.17366049e-02, -3.79024597e-04, -4.56468649e-02,\n",
              "        6.40577450e-03, -4.15311456e-02, -6.01521805e-02, -4.16227020e-02,\n",
              "        3.81650440e-02, -8.43040571e-02, -1.43980384e-02,  7.13374242e-02,\n",
              "       -1.08500592e-01,  5.42309806e-02,  8.28847885e-02, -7.41668269e-02,\n",
              "       -1.18786804e-02,  1.89229008e-02, -6.50422573e-02, -2.43393127e-02,\n",
              "       -5.95263997e-03,  4.83228900e-02,  3.24534215e-02, -8.49065483e-02,\n",
              "        5.93352094e-02,  5.37182428e-02, -1.43510342e-01, -2.45821830e-02,\n",
              "       -1.49022473e-03, -5.05763246e-03, -4.17294949e-02,  6.87651709e-02,\n",
              "       -1.97180621e-02,  2.80408617e-02,  5.02545498e-02,  5.35520762e-02,\n",
              "       -5.86520461e-03, -1.00544378e-01,  6.55776868e-03, -5.67745119e-02,\n",
              "       -2.61695720e-02, -4.10125628e-02, -3.02474182e-02,  1.73126698e-01,\n",
              "        1.97935645e-02, -9.31388289e-02, -3.87464948e-02,  4.38789017e-02,\n",
              "        2.38201022e-02,  9.17954519e-02,  6.65038675e-02,  6.65955395e-02,\n",
              "        1.78347826e-01, -4.32864986e-02,  4.79163378e-02,  1.61600877e-02,\n",
              "        5.72051406e-02, -6.35372400e-02, -1.55162318e-02,  2.00748563e-01,\n",
              "       -1.94831975e-02,  4.66888361e-02, -9.59968567e-02, -2.19051987e-02,\n",
              "        5.51960021e-02, -2.10806265e-01,  4.74874303e-02, -1.13502771e-01,\n",
              "        2.01684996e-01,  2.16011256e-02, -7.60537609e-02, -6.14559394e-05,\n",
              "        1.53101068e-02,  4.09688875e-02,  9.80014205e-02, -5.91894761e-02,\n",
              "       -4.01254743e-02, -1.21470131e-02, -3.75655591e-02, -3.15848663e-02,\n",
              "        3.27194035e-02,  6.63407221e-02, -1.11068144e-01, -4.72515337e-02,\n",
              "        9.68609899e-02, -6.72119379e-01,  2.94622406e-02,  7.53222546e-03,\n",
              "        2.24551950e-02, -1.16786058e-03, -3.13554034e-02, -1.02544889e-01,\n",
              "        6.72165826e-02, -1.00159839e-01, -1.89469103e-02, -7.26143038e-03,\n",
              "        1.71367191e-02, -2.64250189e-02, -2.09766906e-02, -3.28928791e-02,\n",
              "        3.13481465e-02, -8.29066243e-03, -1.87545903e-02, -3.31905484e-02,\n",
              "        2.99236141e-02,  6.67162165e-02, -3.13560269e-03, -1.43395156e-01,\n",
              "        1.21164126e-02, -1.95130780e-02, -1.98058672e-02, -3.70090231e-02,\n",
              "       -7.30489045e-02,  3.25789079e-02,  9.21021178e-02,  2.67706532e-02,\n",
              "       -1.06485207e-02, -3.42325307e-02,  9.92948189e-04, -3.34976912e-02,\n",
              "       -1.25106883e+00,  9.59162787e-02,  1.56771004e-01,  2.99012265e-03,\n",
              "       -1.14672389e-02, -2.35437620e-02, -4.16969992e-02,  3.08120269e-02,\n",
              "        3.19924057e-02, -7.88106546e-02, -3.61821577e-02,  1.84728913e-02,\n",
              "        1.48158640e-01,  1.39872571e-02, -5.45339063e-02,  5.66863269e-03,\n",
              "       -7.69232512e-02, -4.89111096e-02, -4.12253253e-02, -6.23027794e-02,\n",
              "       -3.48288752e-02,  1.90327466e-02, -4.48334292e-02,  5.58376126e-03,\n",
              "       -5.91689870e-02, -1.33368865e-01,  4.33180779e-02, -6.92205280e-02,\n",
              "        1.03252329e-01, -2.73778066e-02,  2.97417976e-02, -3.02667301e-02,\n",
              "        4.25266773e-02, -8.51110276e-03, -6.46204576e-02,  5.28418124e-02,\n",
              "       -8.22732300e-02, -2.26378795e-02,  1.97917093e-02, -1.04148068e-01,\n",
              "        3.35708223e-02, -3.45200673e-02, -1.02047436e-01, -5.07503562e-02,\n",
              "        6.40032999e-03, -1.63090695e-02, -3.75045314e-02, -2.28624139e-02,\n",
              "        6.35796636e-02,  3.75771374e-02,  1.16029466e-02,  1.68178473e-02,\n",
              "       -8.12865868e-02,  4.99970540e-02,  9.62574407e-03,  6.45532086e-02,\n",
              "       -3.50306183e-02, -1.07212014e-01, -4.09978516e-02,  1.55597553e-01,\n",
              "       -2.50227265e-02, -3.34498473e-02, -8.58511031e-02, -1.09365461e-02,\n",
              "        1.63807750e-01,  2.29563043e-02,  6.58265576e-02, -2.65606144e-03,\n",
              "        2.97428071e-02,  4.58798483e-02, -7.92398229e-02, -6.02406189e-02,\n",
              "       -3.19529101e-02, -1.48515582e-01,  5.20858876e-02,  1.29066437e-01,\n",
              "       -4.51490581e-02, -1.44070573e-05, -1.39563486e-01,  3.49188149e-02,\n",
              "        2.21160650e-02,  2.81195119e-02, -7.63523653e-02,  1.92752425e-02,\n",
              "        7.54727458e-04, -1.33179901e-02, -2.01481637e-02,  1.05304465e-01,\n",
              "        1.92057546e-02,  3.20211202e-02, -1.14124745e-01,  5.56960404e-02,\n",
              "        1.16299696e-01,  1.09636769e-01, -5.98881431e-02, -7.85499662e-02,\n",
              "        4.25640913e-03, -8.88519436e-02, -4.20977622e-02,  8.65523741e-02,\n",
              "        5.58016524e-02,  7.83468708e-02,  1.47390682e-02,  3.80029567e-02,\n",
              "        1.15146443e-01, -8.99942964e-02, -8.67330581e-02, -8.10087100e-02,\n",
              "       -1.36259571e-01,  1.35198608e-01,  3.83310765e-02, -3.23052555e-02,\n",
              "        5.75742172e-03, -8.30076635e-03, -7.61442527e-04,  1.88232213e-01,\n",
              "        9.98584256e-02, -7.40476027e-02, -2.58217491e-02,  4.67019156e-02,\n",
              "        8.54500011e-02,  1.18907280e-01, -2.08023842e-02,  8.74778554e-02,\n",
              "        6.31494299e-02, -1.17512085e-02,  1.93337572e-03,  2.51442585e-02,\n",
              "        2.77527601e-01,  5.72971441e-03,  9.15337075e-03, -7.07871243e-02,\n",
              "       -1.16962865e-01, -1.23475015e-01, -7.86774307e-02,  7.74972746e-03,\n",
              "        1.67848673e-02,  6.30302504e-02, -3.11748032e-03,  2.00106606e-01,\n",
              "        1.95018947e-01,  3.66701744e-02,  4.84392792e-02, -8.32822993e-02,\n",
              "       -6.61875606e-02, -2.28917431e-02,  1.06813267e-01, -4.43818234e-02,\n",
              "        1.14994697e-01, -6.73183650e-02, -1.79792732e-01,  1.21702058e-02,\n",
              "       -2.92435084e-02, -5.48414066e-02, -2.04569642e-02,  3.57400216e-02,\n",
              "       -5.23649454e-02, -7.45291635e-02, -3.31018469e-03,  8.08705613e-02],\n",
              "      dtype=float32)"
            ]
          },
          "metadata": {},
          "execution_count": 7
        }
      ]
    },
    {
      "cell_type": "code",
      "metadata": {
        "colab": {
          "base_uri": "https://localhost:8080/"
        },
        "id": "XGwLR0LSW43-",
        "outputId": "f2313830-4a35-4745-b7e9-61982e0f72c2"
      },
      "source": [
        "text_embedding_example.shape"
      ],
      "execution_count": 8,
      "outputs": [
        {
          "output_type": "execute_result",
          "data": {
            "text/plain": [
              "(300,)"
            ]
          },
          "metadata": {},
          "execution_count": 8
        }
      ]
    },
    {
      "cell_type": "markdown",
      "metadata": {
        "id": "-6OWPXeEW8Ni"
      },
      "source": [
        "As explained just before, we only compute the embedding on the 100 first elements in order to avoid a too long computation time"
      ]
    },
    {
      "cell_type": "code",
      "metadata": {
        "id": "iJyE0FSTW-w6"
      },
      "source": [
        "size_data = 100#len(test_df)\n",
        "list_embed = [float('nan')] * size_data\n",
        "list_label = [float('nan')] * size_data\n",
        "\n",
        "compt = 0\n",
        "for sentence in list(imdb_df.itertuples())[0:size_data]:\n",
        "    text_embed = nlp(sentence.review).vector\n",
        "    observed_sentiment = sentence.sentiment\n",
        "    if  observed_sentiment==\"positive\":\n",
        "      label = 1.0\n",
        "    else:\n",
        "      label = 0.0\n",
        "    list_embed[compt] = np.asarray(text_embed, dtype =\"float32\").reshape(1,300)\n",
        "    list_label[compt] = label\n",
        "    compt += 1"
      ],
      "execution_count": 9,
      "outputs": []
    },
    {
      "cell_type": "code",
      "metadata": {
        "colab": {
          "base_uri": "https://localhost:8080/"
        },
        "id": "0O2_i0kAXAjn",
        "outputId": "6828b329-e7f4-4e6b-ddb8-de3b34a4f450"
      },
      "source": [
        "print(list_label)"
      ],
      "execution_count": 10,
      "outputs": [
        {
          "output_type": "stream",
          "name": "stdout",
          "text": [
            "[1.0, 1.0, 1.0, 0.0, 1.0, 1.0, 1.0, 0.0, 0.0, 1.0, 0.0, 0.0, 0.0, 0.0, 1.0, 0.0, 1.0, 0.0, 1.0, 0.0, 1.0, 0.0, 1.0, 0.0, 0.0, 1.0, 1.0, 0.0, 0.0, 1.0, 1.0, 1.0, 0.0, 1.0, 0.0, 0.0, 0.0, 0.0, 1.0, 0.0, 0.0, 1.0, 0.0, 0.0, 1.0, 1.0, 0.0, 0.0, 1.0, 0.0, 1.0, 1.0, 1.0, 1.0, 0.0, 0.0, 0.0, 0.0, 1.0, 1.0, 0.0, 0.0, 1.0, 0.0, 0.0, 1.0, 0.0, 0.0, 0.0, 0.0, 0.0, 0.0, 1.0, 1.0, 0.0, 1.0, 1.0, 0.0, 0.0, 1.0, 1.0, 0.0, 0.0, 0.0, 0.0, 0.0, 0.0, 0.0, 0.0, 0.0, 1.0, 0.0, 1.0, 1.0, 0.0, 1.0, 0.0, 0.0, 0.0, 1.0]\n"
          ]
        }
      ]
    },
    {
      "cell_type": "code",
      "metadata": {
        "colab": {
          "base_uri": "https://localhost:8080/"
        },
        "id": "0fFjxgk9XGFW",
        "outputId": "12727605-5ae1-4279-d898-a2e7a07c586c"
      },
      "source": [
        "len(list_embed)"
      ],
      "execution_count": 11,
      "outputs": [
        {
          "output_type": "execute_result",
          "data": {
            "text/plain": [
              "100"
            ]
          },
          "metadata": {},
          "execution_count": 11
        }
      ]
    },
    {
      "cell_type": "markdown",
      "metadata": {
        "id": "TllAUDvWXIRV"
      },
      "source": [
        "To save time processing, we download the **embeddings already computed on the complete dataset**. It may take some time anyway but it is still much less than doing the whole operation once again."
      ]
    },
    {
      "cell_type": "code",
      "metadata": {
        "id": "KYIHpA2lgQKs"
      },
      "source": [
        "df_imdb_embed_label = pd.read_pickle(\"/content/drive/MyDrive/EPITA_NLP/Course2/df_imdb_embed_label.pkl\")\n",
        "list_embed = list(df_imdb_embed_label[\"embedding\"])\n",
        "list_label = list(df_imdb_embed_label[\"label\"])"
      ],
      "execution_count": 12,
      "outputs": []
    },
    {
      "cell_type": "markdown",
      "metadata": {
        "id": "lkjZtvVSXofP"
      },
      "source": [
        "We reformat the data to make it directly usable into the SVM procedure\n",
        "\n",
        "We only consider at first a subset of the data to enable a fast training at first"
      ]
    },
    {
      "cell_type": "code",
      "metadata": {
        "id": "x1CyMtL0idqV"
      },
      "source": [
        "n_dim_embedding = 300 # size of the spaCy text embedding, cannot be changed\n",
        "size_train = 9000 # size of the train data considered, can be changed later\n",
        "size_test = 1000 # size of the test data considered\n",
        "\n",
        "array_embed_train = np.asarray(list_embed[0:size_train]).reshape(size_train,n_dim_embedding)\n",
        "array_label_train = np.asarray(list_label[0:size_train])\n",
        "\n",
        "array_embed_test = np.asarray(list_embed[size_train:(size_train+ size_test)]).reshape(size_test,n_dim_embedding)\n",
        "array_label_test = np.asarray(list_label[size_train:(size_train+ size_test)])"
      ],
      "execution_count": 13,
      "outputs": []
    },
    {
      "cell_type": "markdown",
      "metadata": {
        "id": "hXOUCakjYosY"
      },
      "source": [
        "## Support Vector Machine training"
      ]
    },
    {
      "cell_type": "markdown",
      "metadata": {
        "id": "XRsyi3Bhhkge"
      },
      "source": [
        "**Support Vector Machines** (SVMs) are a supervised machine learning classification algorithm. The goal is to find the hyper-plan which achieves the \"best\" separation between the different class. \"Best\" here should be understood as the separation maximizing the distance between the nearest data on each side. "
      ]
    },
    {
      "cell_type": "markdown",
      "metadata": {
        "id": "WlRHZxwMhVok"
      },
      "source": [
        "![400px-Separatrice_lineaire_avec_marges.svg.png](data:image/png;base64,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)"
      ]
    },
    {
      "cell_type": "markdown",
      "metadata": {
        "id": "kCzSw2wmYvwT"
      },
      "source": [
        "SVM model training (we use the implementation from the sklearn library)\n",
        "\n",
        "https://scikit-learn.org/stable/modules/generated/sklearn.svm.SVC.html"
      ]
    },
    {
      "cell_type": "code",
      "metadata": {
        "colab": {
          "base_uri": "https://localhost:8080/"
        },
        "id": "Umaz4z23gebL",
        "outputId": "66f97836-fb6a-4c7d-b89c-a8824e2a698e"
      },
      "source": [
        "from sklearn import svm\n",
        "clf = svm.SVC()\n",
        "clf.fit(array_embed_train, array_label_train)"
      ],
      "execution_count": 14,
      "outputs": [
        {
          "output_type": "execute_result",
          "data": {
            "text/plain": [
              "SVC(C=1.0, break_ties=False, cache_size=200, class_weight=None, coef0=0.0,\n",
              "    decision_function_shape='ovr', degree=3, gamma='scale', kernel='rbf',\n",
              "    max_iter=-1, probability=False, random_state=None, shrinking=True,\n",
              "    tol=0.001, verbose=False)"
            ]
          },
          "metadata": {},
          "execution_count": 14
        }
      ]
    },
    {
      "cell_type": "markdown",
      "metadata": {
        "id": "OX3LObs9Yy04"
      },
      "source": [
        "Predictions on the test set"
      ]
    },
    {
      "cell_type": "code",
      "metadata": {
        "id": "hB5kWMq-iPiC"
      },
      "source": [
        "resu = clf.predict(array_embed_test)"
      ],
      "execution_count": 15,
      "outputs": []
    },
    {
      "cell_type": "markdown",
      "metadata": {
        "id": "qYob9bctY3RZ"
      },
      "source": [
        "Evaluation of the model (with a classical \"for\" loop)"
      ]
    },
    {
      "cell_type": "code",
      "metadata": {
        "colab": {
          "base_uri": "https://localhost:8080/"
        },
        "id": "AMLSXf5kmIbq",
        "outputId": "b0143809-a2f7-49a9-ffa4-2f000d38cf8a"
      },
      "source": [
        "compt = 0\n",
        "for elem1, elem2 in zip(resu,array_label_test):\n",
        "  compt += int(elem1 == elem2)\n",
        "\n",
        "print(compt/len(resu) * 100)"
      ],
      "execution_count": 20,
      "outputs": [
        {
          "output_type": "stream",
          "name": "stdout",
          "text": [
            "84.3\n"
          ]
        }
      ]
    },
    {
      "cell_type": "markdown",
      "metadata": {
        "id": "VL2kaCzf1yBV"
      },
      "source": [
        "Evaluation of the model (with a more efficient *list comprehension*)"
      ]
    },
    {
      "cell_type": "code",
      "metadata": {
        "colab": {
          "base_uri": "https://localhost:8080/"
        },
        "id": "fL2i4Qh61hYm",
        "outputId": "c38fc5c0-6da3-49c9-fc45-8fd6cbe56719"
      },
      "source": [
        "sum([int(elem1 == elem2) for elem1, elem2 in zip(resu,array_label_test)])/len(resu) * 100"
      ],
      "execution_count": 21,
      "outputs": [
        {
          "output_type": "execute_result",
          "data": {
            "text/plain": [
              "84.3"
            ]
          },
          "metadata": {},
          "execution_count": 21
        }
      ]
    }
  ]
}