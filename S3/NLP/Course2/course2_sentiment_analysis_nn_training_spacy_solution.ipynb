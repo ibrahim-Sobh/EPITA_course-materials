{
  "nbformat": 4,
  "nbformat_minor": 0,
  "metadata": {
    "colab": {
      "name": "course2_sentiment_analysis_nn_training_spacy.ipynb",
      "provenance": [],
      "collapsed_sections": []
    },
    "kernelspec": {
      "display_name": "Python 3",
      "name": "python3"
    },
    "language_info": {
      "name": "python"
    }
  },
  "cells": [
    {
      "cell_type": "code",
      "metadata": {
        "id": "S_2Ay0Fp6Bbs"
      },
      "source": [
        "import tensorflow as tf\n",
        "import tensorflow_hub as hub\n",
        "import matplotlib.pyplot as plt\n",
        "%matplotlib inline\n",
        "import pandas as pd\n",
        "import numpy as np\n",
        "import pickle\n",
        "from tensorflow import keras\n",
        "from tensorflow.keras.layers import Dense, Dropout"
      ],
      "execution_count": null,
      "outputs": []
    },
    {
      "cell_type": "code",
      "metadata": {
        "colab": {
          "base_uri": "https://localhost:8080/"
        },
        "id": "RNx6uhxeWDAx",
        "outputId": "7955410b-0316-44d0-b6c3-495bf2bf87e9"
      },
      "source": [
        "import spacy\n",
        "import spacy.cli\n",
        "from scipy import spatial\n",
        "spacy.cli.download(\"en_core_web_md\")\n",
        "nlp = spacy.load('en_core_web_md')"
      ],
      "execution_count": null,
      "outputs": [
        {
          "output_type": "stream",
          "text": [
            "\u001b[38;5;2m✔ Download and installation successful\u001b[0m\n",
            "You can now load the model via spacy.load('en_core_web_md')\n"
          ],
          "name": "stdout"
        }
      ]
    },
    {
      "cell_type": "markdown",
      "metadata": {
        "id": "b2CIb2eM9BEx"
      },
      "source": [
        "Definition of a plot function for training result visualization"
      ]
    },
    {
      "cell_type": "code",
      "metadata": {
        "id": "_C-ARKUf6Zs4"
      },
      "source": [
        "def plot_results(history):\n",
        "    hist_df = pd.DataFrame(history.history)\n",
        "    hist_df.columns=[\"loss\", \"accuracy\", \"val_loss\", \"val_accuracy\"]\n",
        "    hist_df.index = np.arange(1, len(hist_df)+1)\n",
        "    \n",
        "    fig, axs = plt.subplots(nrows=2, sharex=True, figsize=(16, 10))\n",
        "    axs[0].plot(hist_df.val_accuracy, lw=3, label='Validation Accuracy')\n",
        "    axs[0].plot(hist_df.accuracy, lw=3, label='Training Accuracy')\n",
        "    axs[0].set_ylabel('Accuracy')\n",
        "    axs[0].set_xlabel('Epoch')\n",
        "    axs[0].grid()\n",
        "    axs[0].legend(loc=0)\n",
        "    axs[1].plot(hist_df.val_loss, lw=3, label='Validation Loss')\n",
        "    axs[1].plot(hist_df.loss, lw=3, label='Training Loss')\n",
        "    axs[1].set_ylabel('Loss')\n",
        "    axs[1].set_xlabel('Epoch')\n",
        "    axs[1].grid()\n",
        "    axs[1].legend(loc=0)\n",
        "    \n",
        "    plt.show();"
      ],
      "execution_count": null,
      "outputs": []
    },
    {
      "cell_type": "markdown",
      "metadata": {
        "id": "KwWZyV3V9eoA"
      },
      "source": [
        "IMDB database loading"
      ]
    },
    {
      "cell_type": "code",
      "metadata": {
        "colab": {
          "base_uri": "https://localhost:8080/"
        },
        "id": "RqPNY0mG9Gga",
        "outputId": "8d9a17bb-fdb5-4add-9abb-255d4f54ea16"
      },
      "source": [
        "# Mounting the google drive to google colab in order to load the data files directly from it\n",
        "from google.colab import drive\n",
        "drive.mount('/content/drive')\n",
        "imdb_df = pd.read_csv(\"/content/drive/MyDrive/EPITA_NLP/Course2/IMDB Dataset.csv\")"
      ],
      "execution_count": null,
      "outputs": [
        {
          "output_type": "stream",
          "text": [
            "Mounted at /content/drive\n"
          ],
          "name": "stdout"
        }
      ]
    },
    {
      "cell_type": "code",
      "metadata": {
        "colab": {
          "base_uri": "https://localhost:8080/"
        },
        "id": "p0jhzfdl9Jh7",
        "outputId": "dd012e25-e279-4568-9f0d-c2c3022ccd64"
      },
      "source": [
        "# These data from IMDB correspond to movie review, with sentiment (postive/negative) labels\n",
        "imdb_df.head"
      ],
      "execution_count": null,
      "outputs": [
        {
          "output_type": "execute_result",
          "data": {
            "text/plain": [
              "<bound method NDFrame.head of                                                   review sentiment\n",
              "0      One of the other reviewers has mentioned that ...  positive\n",
              "1      A wonderful little production. <br /><br />The...  positive\n",
              "2      I thought this was a wonderful way to spend ti...  positive\n",
              "3      Basically there's a family where a little boy ...  negative\n",
              "4      Petter Mattei's \"Love in the Time of Money\" is...  positive\n",
              "...                                                  ...       ...\n",
              "49995  I thought this movie did a down right good job...  positive\n",
              "49996  Bad plot, bad dialogue, bad acting, idiotic di...  negative\n",
              "49997  I am a Catholic taught in parochial elementary...  negative\n",
              "49998  I'm going to have to disagree with the previou...  negative\n",
              "49999  No one expects the Star Trek movies to be high...  negative\n",
              "\n",
              "[50000 rows x 2 columns]>"
            ]
          },
          "metadata": {
            "tags": []
          },
          "execution_count": 5
        }
      ]
    },
    {
      "cell_type": "code",
      "metadata": {
        "colab": {
          "base_uri": "https://localhost:8080/"
        },
        "id": "HKWXcmfwaz0m",
        "outputId": "28e5e426-6bb7-4ab6-d88c-bbb32a9c7394"
      },
      "source": [
        "len(imdb_df)"
      ],
      "execution_count": null,
      "outputs": [
        {
          "output_type": "execute_result",
          "data": {
            "text/plain": [
              "50000"
            ]
          },
          "metadata": {
            "tags": []
          },
          "execution_count": 6
        }
      ]
    },
    {
      "cell_type": "markdown",
      "metadata": {
        "id": "AEGjlF9S9jJ9"
      },
      "source": [
        "## Preprocessing of the data"
      ]
    },
    {
      "cell_type": "markdown",
      "metadata": {
        "id": "MvHI_pLN9s2L"
      },
      "source": [
        "We get the IMDB dataset"
      ]
    },
    {
      "cell_type": "markdown",
      "metadata": {
        "id": "rFRZa_w7JHPB"
      },
      "source": [
        "Here is the original code to transform the texts into 300-dimension embedding vectors with spaCy pretrained model.\n",
        "However, in order to save most of the computation time needed, we just do the operation **on a small subsample** of the complete data. On the **next cells**, we load directly the **embedding already computed on all the data** to use it directly."
      ]
    },
    {
      "cell_type": "markdown",
      "metadata": {
        "id": "XURwCde9L9Ox"
      },
      "source": [
        "Let's have a look to an example of review"
      ]
    },
    {
      "cell_type": "code",
      "metadata": {
        "colab": {
          "base_uri": "https://localhost:8080/",
          "height": 130
        },
        "id": "2kSI0CRhLqOf",
        "outputId": "04f24c79-6179-48fd-9c2a-3d45286c93b9"
      },
      "source": [
        "review_example = imdb_df[\"review\"][0]\n",
        "review_example"
      ],
      "execution_count": null,
      "outputs": [
        {
          "output_type": "execute_result",
          "data": {
            "application/vnd.google.colaboratory.intrinsic+json": {
              "type": "string"
            },
            "text/plain": [
              "\"One of the other reviewers has mentioned that after watching just 1 Oz episode you'll be hooked. They are right, as this is exactly what happened with me.<br /><br />The first thing that struck me about Oz was its brutality and unflinching scenes of violence, which set in right from the word GO. Trust me, this is not a show for the faint hearted or timid. This show pulls no punches with regards to drugs, sex or violence. Its is hardcore, in the classic use of the word.<br /><br />It is called OZ as that is the nickname given to the Oswald Maximum Security State Penitentary. It focuses mainly on Emerald City, an experimental section of the prison where all the cells have glass fronts and face inwards, so privacy is not high on the agenda. Em City is home to many..Aryans, Muslims, gangstas, Latinos, Christians, Italians, Irish and more....so scuffles, death stares, dodgy dealings and shady agreements are never far away.<br /><br />I would say the main appeal of the show is due to the fact that it goes where other shows wouldn't dare. Forget pretty pictures painted for mainstream audiences, forget charm, forget romance...OZ doesn't mess around. The first episode I ever saw struck me as so nasty it was surreal, I couldn't say I was ready for it, but as I watched more, I developed a taste for Oz, and got accustomed to the high levels of graphic violence. Not just violence, but injustice (crooked guards who'll be sold out for a nickel, inmates who'll kill on order and get away with it, well mannered, middle class inmates being turned into prison bitches due to their lack of street skills or prison experience) Watching Oz, you may become comfortable with what is uncomfortable viewing....thats if you can get in touch with your darker side.\""
            ]
          },
          "metadata": {
            "tags": []
          },
          "execution_count": 7
        }
      ]
    },
    {
      "cell_type": "markdown",
      "metadata": {
        "id": "BZrxZWgqMEwT"
      },
      "source": [
        "Let's see how to use spaCy to turn it into a 300-dimension **text** embedding vector"
      ]
    },
    {
      "cell_type": "code",
      "metadata": {
        "colab": {
          "base_uri": "https://localhost:8080/"
        },
        "id": "3-UqcHdLL071",
        "outputId": "1baf3566-f36c-481b-e7fb-4969d525f0f6"
      },
      "source": [
        "text_embedding_example =  nlp(review_example).vector\n",
        "text_embedding_example"
      ],
      "execution_count": null,
      "outputs": [
        {
          "output_type": "execute_result",
          "data": {
            "text/plain": [
              "array([-5.20629659e-02,  1.76978067e-01, -1.36168167e-01, -6.55549467e-02,\n",
              "        8.32999498e-02,  5.18484507e-04, -2.14118673e-03, -6.22530282e-02,\n",
              "       -2.49865353e-02,  2.13308358e+00, -1.38473496e-01,  3.26936096e-02,\n",
              "        8.59473571e-02, -5.60004413e-02, -1.12932213e-01, -9.65132043e-02,\n",
              "       -3.17423567e-02,  9.75738585e-01, -1.56550646e-01, -7.16082603e-02,\n",
              "       -1.80443656e-02, -3.17366049e-02, -3.79024597e-04, -4.56468649e-02,\n",
              "        6.40577450e-03, -4.15311456e-02, -6.01521805e-02, -4.16227020e-02,\n",
              "        3.81650440e-02, -8.43040571e-02, -1.43980384e-02,  7.13374242e-02,\n",
              "       -1.08500592e-01,  5.42309806e-02,  8.28847885e-02, -7.41668269e-02,\n",
              "       -1.18786804e-02,  1.89229008e-02, -6.50422573e-02, -2.43393127e-02,\n",
              "       -5.95263997e-03,  4.83228900e-02,  3.24534215e-02, -8.49065483e-02,\n",
              "        5.93352094e-02,  5.37182428e-02, -1.43510342e-01, -2.45821830e-02,\n",
              "       -1.49022473e-03, -5.05763246e-03, -4.17294949e-02,  6.87651709e-02,\n",
              "       -1.97180621e-02,  2.80408617e-02,  5.02545498e-02,  5.35520762e-02,\n",
              "       -5.86520461e-03, -1.00544378e-01,  6.55776868e-03, -5.67745119e-02,\n",
              "       -2.61695720e-02, -4.10125628e-02, -3.02474182e-02,  1.73126698e-01,\n",
              "        1.97935645e-02, -9.31388289e-02, -3.87464948e-02,  4.38789017e-02,\n",
              "        2.38201022e-02,  9.17954519e-02,  6.65038675e-02,  6.65955395e-02,\n",
              "        1.78347826e-01, -4.32864986e-02,  4.79163378e-02,  1.61600877e-02,\n",
              "        5.72051406e-02, -6.35372400e-02, -1.55162318e-02,  2.00748563e-01,\n",
              "       -1.94831975e-02,  4.66888361e-02, -9.59968567e-02, -2.19051987e-02,\n",
              "        5.51960021e-02, -2.10806265e-01,  4.74874303e-02, -1.13502771e-01,\n",
              "        2.01684996e-01,  2.16011256e-02, -7.60537609e-02, -6.14559394e-05,\n",
              "        1.53101068e-02,  4.09688875e-02,  9.80014205e-02, -5.91894761e-02,\n",
              "       -4.01254743e-02, -1.21470131e-02, -3.75655591e-02, -3.15848663e-02,\n",
              "        3.27194035e-02,  6.63407221e-02, -1.11068144e-01, -4.72515337e-02,\n",
              "        9.68609899e-02, -6.72119379e-01,  2.94622406e-02,  7.53222546e-03,\n",
              "        2.24551950e-02, -1.16786058e-03, -3.13554034e-02, -1.02544889e-01,\n",
              "        6.72165826e-02, -1.00159839e-01, -1.89469103e-02, -7.26143038e-03,\n",
              "        1.71367191e-02, -2.64250189e-02, -2.09766906e-02, -3.28928791e-02,\n",
              "        3.13481465e-02, -8.29066243e-03, -1.87545903e-02, -3.31905484e-02,\n",
              "        2.99236141e-02,  6.67162165e-02, -3.13560269e-03, -1.43395156e-01,\n",
              "        1.21164126e-02, -1.95130780e-02, -1.98058672e-02, -3.70090231e-02,\n",
              "       -7.30489045e-02,  3.25789079e-02,  9.21021178e-02,  2.67706532e-02,\n",
              "       -1.06485207e-02, -3.42325307e-02,  9.92948189e-04, -3.34976912e-02,\n",
              "       -1.25106883e+00,  9.59162787e-02,  1.56771004e-01,  2.99012265e-03,\n",
              "       -1.14672389e-02, -2.35437620e-02, -4.16969992e-02,  3.08120269e-02,\n",
              "        3.19924057e-02, -7.88106546e-02, -3.61821577e-02,  1.84728913e-02,\n",
              "        1.48158640e-01,  1.39872571e-02, -5.45339063e-02,  5.66863269e-03,\n",
              "       -7.69232512e-02, -4.89111096e-02, -4.12253253e-02, -6.23027794e-02,\n",
              "       -3.48288752e-02,  1.90327466e-02, -4.48334292e-02,  5.58376126e-03,\n",
              "       -5.91689870e-02, -1.33368865e-01,  4.33180779e-02, -6.92205280e-02,\n",
              "        1.03252329e-01, -2.73778066e-02,  2.97417976e-02, -3.02667301e-02,\n",
              "        4.25266773e-02, -8.51110276e-03, -6.46204576e-02,  5.28418124e-02,\n",
              "       -8.22732300e-02, -2.26378795e-02,  1.97917093e-02, -1.04148068e-01,\n",
              "        3.35708223e-02, -3.45200673e-02, -1.02047436e-01, -5.07503562e-02,\n",
              "        6.40032999e-03, -1.63090695e-02, -3.75045314e-02, -2.28624139e-02,\n",
              "        6.35796636e-02,  3.75771374e-02,  1.16029466e-02,  1.68178473e-02,\n",
              "       -8.12865868e-02,  4.99970540e-02,  9.62574407e-03,  6.45532086e-02,\n",
              "       -3.50306183e-02, -1.07212014e-01, -4.09978516e-02,  1.55597553e-01,\n",
              "       -2.50227265e-02, -3.34498473e-02, -8.58511031e-02, -1.09365461e-02,\n",
              "        1.63807750e-01,  2.29563043e-02,  6.58265576e-02, -2.65606144e-03,\n",
              "        2.97428071e-02,  4.58798483e-02, -7.92398229e-02, -6.02406189e-02,\n",
              "       -3.19529101e-02, -1.48515582e-01,  5.20858876e-02,  1.29066437e-01,\n",
              "       -4.51490581e-02, -1.44070573e-05, -1.39563486e-01,  3.49188149e-02,\n",
              "        2.21160650e-02,  2.81195119e-02, -7.63523653e-02,  1.92752425e-02,\n",
              "        7.54727458e-04, -1.33179901e-02, -2.01481637e-02,  1.05304465e-01,\n",
              "        1.92057546e-02,  3.20211202e-02, -1.14124745e-01,  5.56960404e-02,\n",
              "        1.16299696e-01,  1.09636769e-01, -5.98881431e-02, -7.85499662e-02,\n",
              "        4.25640913e-03, -8.88519436e-02, -4.20977622e-02,  8.65523741e-02,\n",
              "        5.58016524e-02,  7.83468708e-02,  1.47390682e-02,  3.80029567e-02,\n",
              "        1.15146443e-01, -8.99942964e-02, -8.67330581e-02, -8.10087100e-02,\n",
              "       -1.36259571e-01,  1.35198608e-01,  3.83310765e-02, -3.23052555e-02,\n",
              "        5.75742172e-03, -8.30076635e-03, -7.61442527e-04,  1.88232213e-01,\n",
              "        9.98584256e-02, -7.40476027e-02, -2.58217491e-02,  4.67019156e-02,\n",
              "        8.54500011e-02,  1.18907280e-01, -2.08023842e-02,  8.74778554e-02,\n",
              "        6.31494299e-02, -1.17512085e-02,  1.93337572e-03,  2.51442585e-02,\n",
              "        2.77527601e-01,  5.72971441e-03,  9.15337075e-03, -7.07871243e-02,\n",
              "       -1.16962865e-01, -1.23475015e-01, -7.86774307e-02,  7.74972746e-03,\n",
              "        1.67848673e-02,  6.30302504e-02, -3.11748032e-03,  2.00106606e-01,\n",
              "        1.95018947e-01,  3.66701744e-02,  4.84392792e-02, -8.32822993e-02,\n",
              "       -6.61875606e-02, -2.28917431e-02,  1.06813267e-01, -4.43818234e-02,\n",
              "        1.14994697e-01, -6.73183650e-02, -1.79792732e-01,  1.21702058e-02,\n",
              "       -2.92435084e-02, -5.48414066e-02, -2.04569642e-02,  3.57400216e-02,\n",
              "       -5.23649454e-02, -7.45291635e-02, -3.31018469e-03,  8.08705613e-02],\n",
              "      dtype=float32)"
            ]
          },
          "metadata": {
            "tags": []
          },
          "execution_count": 8
        }
      ]
    },
    {
      "cell_type": "code",
      "metadata": {
        "colab": {
          "base_uri": "https://localhost:8080/"
        },
        "id": "f46ih7ewMWEi",
        "outputId": "21feadb3-a73a-4af3-80a5-5a447b2c4f2f"
      },
      "source": [
        "text_embedding_example.shape"
      ],
      "execution_count": null,
      "outputs": [
        {
          "output_type": "execute_result",
          "data": {
            "text/plain": [
              "(300,)"
            ]
          },
          "metadata": {
            "tags": []
          },
          "execution_count": 9
        }
      ]
    },
    {
      "cell_type": "markdown",
      "metadata": {
        "id": "Egh1b2Sd-4sL"
      },
      "source": [
        "As explained just before, we only compute the embedding on the 100 first element in order to avoid a too long computation time"
      ]
    },
    {
      "cell_type": "code",
      "metadata": {
        "id": "pLr7YiH96eB2"
      },
      "source": [
        "size_data = 100#len(test_df)\n",
        "list_embed = [float('nan')] * size_data\n",
        "list_label = [float('nan')] * size_data\n",
        "\n",
        "compt = 0\n",
        "for sentence in list(imdb_df.itertuples())[0:size_data]:\n",
        "    text_embed = nlp(sentence.review).vector\n",
        "    observed_sentiment = sentence.sentiment\n",
        "    if  observed_sentiment==\"positive\":\n",
        "      label = 1.0\n",
        "    else:\n",
        "      label = 0.0\n",
        "    list_embed[compt] = np.asarray(text_embed, dtype =\"float32\").reshape(1,300)\n",
        "    list_label[compt] = label\n",
        "    compt += 1"
      ],
      "execution_count": null,
      "outputs": []
    },
    {
      "cell_type": "code",
      "metadata": {
        "colab": {
          "base_uri": "https://localhost:8080/"
        },
        "id": "bxfLlenY-MKh",
        "outputId": "ed500270-1ab2-49a9-9a7b-7518d4618fa6"
      },
      "source": [
        "print(list_label)"
      ],
      "execution_count": null,
      "outputs": [
        {
          "output_type": "stream",
          "text": [
            "[1.0, 1.0, 1.0, 0.0, 1.0, 1.0, 1.0, 0.0, 0.0, 1.0, 0.0, 0.0, 0.0, 0.0, 1.0, 0.0, 1.0, 0.0, 1.0, 0.0, 1.0, 0.0, 1.0, 0.0, 0.0, 1.0, 1.0, 0.0, 0.0, 1.0, 1.0, 1.0, 0.0, 1.0, 0.0, 0.0, 0.0, 0.0, 1.0, 0.0, 0.0, 1.0, 0.0, 0.0, 1.0, 1.0, 0.0, 0.0, 1.0, 0.0, 1.0, 1.0, 1.0, 1.0, 0.0, 0.0, 0.0, 0.0, 1.0, 1.0, 0.0, 0.0, 1.0, 0.0, 0.0, 1.0, 0.0, 0.0, 0.0, 0.0, 0.0, 0.0, 1.0, 1.0, 0.0, 1.0, 1.0, 0.0, 0.0, 1.0, 1.0, 0.0, 0.0, 0.0, 0.0, 0.0, 0.0, 0.0, 0.0, 0.0, 1.0, 0.0, 1.0, 1.0, 0.0, 1.0, 0.0, 0.0, 0.0, 1.0]\n"
          ],
          "name": "stdout"
        }
      ]
    },
    {
      "cell_type": "code",
      "metadata": {
        "colab": {
          "base_uri": "https://localhost:8080/"
        },
        "id": "e38nWWPY-bpG",
        "outputId": "8e45e107-baab-4b33-ae71-49f1a972d80e"
      },
      "source": [
        "len(list_embed)"
      ],
      "execution_count": null,
      "outputs": [
        {
          "output_type": "execute_result",
          "data": {
            "text/plain": [
              "100"
            ]
          },
          "metadata": {
            "tags": []
          },
          "execution_count": 12
        }
      ]
    },
    {
      "cell_type": "markdown",
      "metadata": {
        "id": "FVdNyQSLJxf-"
      },
      "source": [
        "To save time processing, we download the **embeddings already computed on the complete dataset**. It may take some time anyway but it is still much less than doing the whole operation once again."
      ]
    },
    {
      "cell_type": "code",
      "metadata": {
        "id": "J52KgwiPIQrt"
      },
      "source": [
        "df_imdb_embed_label = pd.read_pickle(\"/content/drive/MyDrive/EPITA_NLP/Course2/df_imdb_embed_label.pkl\")\n",
        "list_embed = list(df_imdb_embed_label[\"embedding\"])\n",
        "list_label = list(df_imdb_embed_label[\"label\"])"
      ],
      "execution_count": null,
      "outputs": []
    },
    {
      "cell_type": "code",
      "metadata": {
        "colab": {
          "base_uri": "https://localhost:8080/"
        },
        "id": "kGOyay4nAHZ6",
        "outputId": "96b1c21d-ad65-433d-f679-10aba1e006a9"
      },
      "source": [
        "len(list_embed)"
      ],
      "execution_count": null,
      "outputs": [
        {
          "output_type": "execute_result",
          "data": {
            "text/plain": [
              "50000"
            ]
          },
          "metadata": {
            "tags": []
          },
          "execution_count": 14
        }
      ]
    },
    {
      "cell_type": "markdown",
      "metadata": {
        "id": "uxitmaEZA64u"
      },
      "source": [
        "## Use of a neural network to perform sentiment analysis from the spaCy embeddings"
      ]
    },
    {
      "cell_type": "markdown",
      "metadata": {
        "id": "aXJvUiwrA-4i"
      },
      "source": [
        "## Neural network model definition"
      ]
    },
    {
      "cell_type": "code",
      "metadata": {
        "id": "kobUaul57W0y"
      },
      "source": [
        "model = tf.keras.models.Sequential([\n",
        "    Dense(300, activation=\"relu\"),\n",
        "    Dropout(rate=0.8),\n",
        "    Dense(128, activation=\"relu\"),\n",
        "    Dense(128, activation=\"relu\"),\n",
        "    Dropout(rate=0.8),\n",
        "    Dense(1, activation=\"sigmoid\")\n",
        "])"
      ],
      "execution_count": null,
      "outputs": []
    },
    {
      "cell_type": "markdown",
      "metadata": {
        "id": "7nZqZYSNC9Am"
      },
      "source": [
        "We build the model and check that everything is fine"
      ]
    },
    {
      "cell_type": "code",
      "metadata": {
        "colab": {
          "base_uri": "https://localhost:8080/"
        },
        "id": "sxoDBFOhCF7q",
        "outputId": "0a00e650-0964-487b-f8b1-020653833482"
      },
      "source": [
        "model(list_embed[0])\n",
        "model.summary()"
      ],
      "execution_count": null,
      "outputs": [
        {
          "output_type": "stream",
          "text": [
            "Model: \"sequential\"\n",
            "_________________________________________________________________\n",
            "Layer (type)                 Output Shape              Param #   \n",
            "=================================================================\n",
            "dense (Dense)                (1, 300)                  90300     \n",
            "_________________________________________________________________\n",
            "dropout (Dropout)            (1, 300)                  0         \n",
            "_________________________________________________________________\n",
            "dense_1 (Dense)              (1, 128)                  38528     \n",
            "_________________________________________________________________\n",
            "dense_2 (Dense)              (1, 128)                  16512     \n",
            "_________________________________________________________________\n",
            "dropout_1 (Dropout)          (1, 128)                  0         \n",
            "_________________________________________________________________\n",
            "dense_3 (Dense)              (1, 1)                    129       \n",
            "=================================================================\n",
            "Total params: 145,469\n",
            "Trainable params: 145,469\n",
            "Non-trainable params: 0\n",
            "_________________________________________________________________\n"
          ],
          "name": "stdout"
        }
      ]
    },
    {
      "cell_type": "markdown",
      "metadata": {
        "id": "vXeRGfGzDCVo"
      },
      "source": [
        "We compile the model, choosing relevant loss function, optimizer and metrics"
      ]
    },
    {
      "cell_type": "code",
      "metadata": {
        "id": "rYIi8jps7aFa"
      },
      "source": [
        "model.compile(loss=\"binary_crossentropy\", optimizer=\"adam\",\n",
        "              metrics=[\"accuracy\"])"
      ],
      "execution_count": null,
      "outputs": []
    },
    {
      "cell_type": "markdown",
      "metadata": {
        "id": "n2kleOxiDISr"
      },
      "source": [
        "We train the model on the dataset"
      ]
    },
    {
      "cell_type": "code",
      "metadata": {
        "id": "yuzJw_Dwr0h1"
      },
      "source": [
        "n_dim_embedding = 300\n",
        "size_data = 10000\n",
        "array_embed = np.asarray(list_embed[0:size_data]).reshape(size_data,n_dim_embedding)\n",
        "array_label = np.asarray(list_label[0:size_data])"
      ],
      "execution_count": null,
      "outputs": []
    },
    {
      "cell_type": "code",
      "metadata": {
        "colab": {
          "base_uri": "https://localhost:8080/"
        },
        "id": "O6TTGWXb7eEn",
        "outputId": "6eb46e7b-643e-4dfb-f364-c41e1171545e"
      },
      "source": [
        "history = model.fit(x = array_embed, y = array_label, epochs = 80, batch_size= 500, validation_split=0.1)"
      ],
      "execution_count": null,
      "outputs": [
        {
          "output_type": "stream",
          "text": [
            "Epoch 1/80\n",
            "18/18 [==============================] - 1s 30ms/step - loss: 0.7016 - accuracy: 0.5126 - val_loss: 0.6852 - val_accuracy: 0.7090\n",
            "Epoch 2/80\n",
            "18/18 [==============================] - 0s 20ms/step - loss: 0.6826 - accuracy: 0.5558 - val_loss: 0.6576 - val_accuracy: 0.7260\n",
            "Epoch 3/80\n",
            "18/18 [==============================] - 0s 17ms/step - loss: 0.6477 - accuracy: 0.6372 - val_loss: 0.5848 - val_accuracy: 0.7440\n",
            "Epoch 4/80\n",
            "18/18 [==============================] - 0s 17ms/step - loss: 0.5746 - accuracy: 0.7229 - val_loss: 0.4926 - val_accuracy: 0.7810\n",
            "Epoch 5/80\n",
            "18/18 [==============================] - 0s 17ms/step - loss: 0.5130 - accuracy: 0.7654 - val_loss: 0.4443 - val_accuracy: 0.7920\n",
            "Epoch 6/80\n",
            "18/18 [==============================] - 0s 16ms/step - loss: 0.4751 - accuracy: 0.7869 - val_loss: 0.4232 - val_accuracy: 0.7990\n",
            "Epoch 7/80\n",
            "18/18 [==============================] - 0s 17ms/step - loss: 0.4655 - accuracy: 0.7957 - val_loss: 0.4077 - val_accuracy: 0.8240\n",
            "Epoch 8/80\n",
            "18/18 [==============================] - 0s 18ms/step - loss: 0.4497 - accuracy: 0.8046 - val_loss: 0.3998 - val_accuracy: 0.8280\n",
            "Epoch 9/80\n",
            "18/18 [==============================] - 0s 18ms/step - loss: 0.4371 - accuracy: 0.8091 - val_loss: 0.3890 - val_accuracy: 0.8320\n",
            "Epoch 10/80\n",
            "18/18 [==============================] - 0s 17ms/step - loss: 0.4326 - accuracy: 0.8114 - val_loss: 0.3848 - val_accuracy: 0.8350\n",
            "Epoch 11/80\n",
            "18/18 [==============================] - 0s 20ms/step - loss: 0.4312 - accuracy: 0.8168 - val_loss: 0.3815 - val_accuracy: 0.8370\n",
            "Epoch 12/80\n",
            "18/18 [==============================] - 0s 18ms/step - loss: 0.4159 - accuracy: 0.8201 - val_loss: 0.3696 - val_accuracy: 0.8360\n",
            "Epoch 13/80\n",
            "18/18 [==============================] - 0s 17ms/step - loss: 0.4141 - accuracy: 0.8220 - val_loss: 0.3672 - val_accuracy: 0.8400\n",
            "Epoch 14/80\n",
            "18/18 [==============================] - 0s 17ms/step - loss: 0.4201 - accuracy: 0.8201 - val_loss: 0.3657 - val_accuracy: 0.8390\n",
            "Epoch 15/80\n",
            "18/18 [==============================] - 0s 18ms/step - loss: 0.4098 - accuracy: 0.8253 - val_loss: 0.3597 - val_accuracy: 0.8440\n",
            "Epoch 16/80\n",
            "18/18 [==============================] - 0s 17ms/step - loss: 0.4075 - accuracy: 0.8270 - val_loss: 0.3795 - val_accuracy: 0.8280\n",
            "Epoch 17/80\n",
            "18/18 [==============================] - 0s 18ms/step - loss: 0.4044 - accuracy: 0.8270 - val_loss: 0.3543 - val_accuracy: 0.8500\n",
            "Epoch 18/80\n",
            "18/18 [==============================] - 0s 19ms/step - loss: 0.4044 - accuracy: 0.8254 - val_loss: 0.3561 - val_accuracy: 0.8530\n",
            "Epoch 19/80\n",
            "18/18 [==============================] - 0s 17ms/step - loss: 0.4060 - accuracy: 0.8291 - val_loss: 0.3497 - val_accuracy: 0.8440\n",
            "Epoch 20/80\n",
            "18/18 [==============================] - 0s 19ms/step - loss: 0.4007 - accuracy: 0.8322 - val_loss: 0.3515 - val_accuracy: 0.8460\n",
            "Epoch 21/80\n",
            "18/18 [==============================] - 0s 18ms/step - loss: 0.3951 - accuracy: 0.8327 - val_loss: 0.3538 - val_accuracy: 0.8530\n",
            "Epoch 22/80\n",
            "18/18 [==============================] - 0s 18ms/step - loss: 0.3964 - accuracy: 0.8330 - val_loss: 0.3474 - val_accuracy: 0.8520\n",
            "Epoch 23/80\n",
            "18/18 [==============================] - 0s 18ms/step - loss: 0.3930 - accuracy: 0.8336 - val_loss: 0.3480 - val_accuracy: 0.8510\n",
            "Epoch 24/80\n",
            "18/18 [==============================] - 0s 18ms/step - loss: 0.3972 - accuracy: 0.8324 - val_loss: 0.3478 - val_accuracy: 0.8550\n",
            "Epoch 25/80\n",
            "18/18 [==============================] - 0s 17ms/step - loss: 0.4020 - accuracy: 0.8287 - val_loss: 0.3455 - val_accuracy: 0.8510\n",
            "Epoch 26/80\n",
            "18/18 [==============================] - 0s 17ms/step - loss: 0.3919 - accuracy: 0.8340 - val_loss: 0.3430 - val_accuracy: 0.8480\n",
            "Epoch 27/80\n",
            "18/18 [==============================] - 0s 18ms/step - loss: 0.3875 - accuracy: 0.8367 - val_loss: 0.3444 - val_accuracy: 0.8540\n",
            "Epoch 28/80\n",
            "18/18 [==============================] - 0s 17ms/step - loss: 0.3871 - accuracy: 0.8346 - val_loss: 0.3388 - val_accuracy: 0.8520\n",
            "Epoch 29/80\n",
            "18/18 [==============================] - 0s 16ms/step - loss: 0.3778 - accuracy: 0.8409 - val_loss: 0.3335 - val_accuracy: 0.8550\n",
            "Epoch 30/80\n",
            "18/18 [==============================] - 0s 16ms/step - loss: 0.3851 - accuracy: 0.8373 - val_loss: 0.3381 - val_accuracy: 0.8570\n",
            "Epoch 31/80\n",
            "18/18 [==============================] - 0s 16ms/step - loss: 0.3831 - accuracy: 0.8391 - val_loss: 0.3403 - val_accuracy: 0.8530\n",
            "Epoch 32/80\n",
            "18/18 [==============================] - 0s 16ms/step - loss: 0.3833 - accuracy: 0.8393 - val_loss: 0.3371 - val_accuracy: 0.8590\n",
            "Epoch 33/80\n",
            "18/18 [==============================] - 0s 18ms/step - loss: 0.3805 - accuracy: 0.8393 - val_loss: 0.3370 - val_accuracy: 0.8580\n",
            "Epoch 34/80\n",
            "18/18 [==============================] - 0s 19ms/step - loss: 0.3758 - accuracy: 0.8388 - val_loss: 0.3362 - val_accuracy: 0.8590\n",
            "Epoch 35/80\n",
            "18/18 [==============================] - 0s 17ms/step - loss: 0.3865 - accuracy: 0.8369 - val_loss: 0.3285 - val_accuracy: 0.8590\n",
            "Epoch 36/80\n",
            "18/18 [==============================] - 0s 17ms/step - loss: 0.3803 - accuracy: 0.8414 - val_loss: 0.3331 - val_accuracy: 0.8610\n",
            "Epoch 37/80\n",
            "18/18 [==============================] - 0s 16ms/step - loss: 0.3836 - accuracy: 0.8357 - val_loss: 0.3316 - val_accuracy: 0.8580\n",
            "Epoch 38/80\n",
            "18/18 [==============================] - 0s 16ms/step - loss: 0.3787 - accuracy: 0.8419 - val_loss: 0.3367 - val_accuracy: 0.8480\n",
            "Epoch 39/80\n",
            "18/18 [==============================] - 0s 16ms/step - loss: 0.3921 - accuracy: 0.8367 - val_loss: 0.3412 - val_accuracy: 0.8480\n",
            "Epoch 40/80\n",
            "18/18 [==============================] - 0s 16ms/step - loss: 0.3875 - accuracy: 0.8380 - val_loss: 0.3322 - val_accuracy: 0.8510\n",
            "Epoch 41/80\n",
            "18/18 [==============================] - 0s 17ms/step - loss: 0.3825 - accuracy: 0.8389 - val_loss: 0.3364 - val_accuracy: 0.8560\n",
            "Epoch 42/80\n",
            "18/18 [==============================] - 0s 17ms/step - loss: 0.3911 - accuracy: 0.8313 - val_loss: 0.3406 - val_accuracy: 0.8510\n",
            "Epoch 43/80\n",
            "18/18 [==============================] - 0s 16ms/step - loss: 0.3818 - accuracy: 0.8402 - val_loss: 0.3300 - val_accuracy: 0.8590\n",
            "Epoch 44/80\n",
            "18/18 [==============================] - 0s 17ms/step - loss: 0.3759 - accuracy: 0.8396 - val_loss: 0.3435 - val_accuracy: 0.8530\n",
            "Epoch 45/80\n",
            "18/18 [==============================] - 0s 16ms/step - loss: 0.3937 - accuracy: 0.8319 - val_loss: 0.3322 - val_accuracy: 0.8530\n",
            "Epoch 46/80\n",
            "18/18 [==============================] - 0s 17ms/step - loss: 0.3730 - accuracy: 0.8428 - val_loss: 0.3333 - val_accuracy: 0.8570\n",
            "Epoch 47/80\n",
            "18/18 [==============================] - 0s 19ms/step - loss: 0.3849 - accuracy: 0.8327 - val_loss: 0.3357 - val_accuracy: 0.8560\n",
            "Epoch 48/80\n",
            "18/18 [==============================] - 0s 19ms/step - loss: 0.3842 - accuracy: 0.8370 - val_loss: 0.3319 - val_accuracy: 0.8610\n",
            "Epoch 49/80\n",
            "18/18 [==============================] - 0s 16ms/step - loss: 0.3729 - accuracy: 0.8439 - val_loss: 0.3363 - val_accuracy: 0.8530\n",
            "Epoch 50/80\n",
            "18/18 [==============================] - 0s 16ms/step - loss: 0.3769 - accuracy: 0.8428 - val_loss: 0.3268 - val_accuracy: 0.8610\n",
            "Epoch 51/80\n",
            "18/18 [==============================] - 0s 16ms/step - loss: 0.3822 - accuracy: 0.8417 - val_loss: 0.3287 - val_accuracy: 0.8600\n",
            "Epoch 52/80\n",
            "18/18 [==============================] - 0s 16ms/step - loss: 0.3799 - accuracy: 0.8406 - val_loss: 0.3334 - val_accuracy: 0.8480\n",
            "Epoch 53/80\n",
            "18/18 [==============================] - 0s 18ms/step - loss: 0.3684 - accuracy: 0.8438 - val_loss: 0.3358 - val_accuracy: 0.8560\n",
            "Epoch 54/80\n",
            "18/18 [==============================] - 0s 18ms/step - loss: 0.3785 - accuracy: 0.8407 - val_loss: 0.3282 - val_accuracy: 0.8620\n",
            "Epoch 55/80\n",
            "18/18 [==============================] - 0s 17ms/step - loss: 0.3722 - accuracy: 0.8413 - val_loss: 0.3296 - val_accuracy: 0.8630\n",
            "Epoch 56/80\n",
            "18/18 [==============================] - 0s 17ms/step - loss: 0.3793 - accuracy: 0.8408 - val_loss: 0.3269 - val_accuracy: 0.8510\n",
            "Epoch 57/80\n",
            "18/18 [==============================] - 0s 17ms/step - loss: 0.3812 - accuracy: 0.8426 - val_loss: 0.3338 - val_accuracy: 0.8590\n",
            "Epoch 58/80\n",
            "18/18 [==============================] - 0s 17ms/step - loss: 0.3739 - accuracy: 0.8421 - val_loss: 0.3307 - val_accuracy: 0.8610\n",
            "Epoch 59/80\n",
            "18/18 [==============================] - 0s 17ms/step - loss: 0.3732 - accuracy: 0.8469 - val_loss: 0.3275 - val_accuracy: 0.8510\n",
            "Epoch 60/80\n",
            "18/18 [==============================] - 0s 18ms/step - loss: 0.3724 - accuracy: 0.8461 - val_loss: 0.3300 - val_accuracy: 0.8570\n",
            "Epoch 61/80\n",
            "18/18 [==============================] - 0s 17ms/step - loss: 0.3671 - accuracy: 0.8462 - val_loss: 0.3300 - val_accuracy: 0.8540\n",
            "Epoch 62/80\n",
            "18/18 [==============================] - 0s 17ms/step - loss: 0.3688 - accuracy: 0.8453 - val_loss: 0.3253 - val_accuracy: 0.8620\n",
            "Epoch 63/80\n",
            "18/18 [==============================] - 0s 16ms/step - loss: 0.3661 - accuracy: 0.8483 - val_loss: 0.3238 - val_accuracy: 0.8600\n",
            "Epoch 64/80\n",
            "18/18 [==============================] - 0s 17ms/step - loss: 0.3688 - accuracy: 0.8422 - val_loss: 0.3272 - val_accuracy: 0.8580\n",
            "Epoch 65/80\n",
            "18/18 [==============================] - 0s 16ms/step - loss: 0.3683 - accuracy: 0.8442 - val_loss: 0.3258 - val_accuracy: 0.8610\n",
            "Epoch 66/80\n",
            "18/18 [==============================] - 0s 19ms/step - loss: 0.3696 - accuracy: 0.8456 - val_loss: 0.3279 - val_accuracy: 0.8580\n",
            "Epoch 67/80\n",
            "18/18 [==============================] - 0s 18ms/step - loss: 0.3705 - accuracy: 0.8414 - val_loss: 0.3281 - val_accuracy: 0.8540\n",
            "Epoch 68/80\n",
            "18/18 [==============================] - 0s 18ms/step - loss: 0.3683 - accuracy: 0.8468 - val_loss: 0.3282 - val_accuracy: 0.8570\n",
            "Epoch 69/80\n",
            "18/18 [==============================] - 0s 17ms/step - loss: 0.3713 - accuracy: 0.8420 - val_loss: 0.3284 - val_accuracy: 0.8580\n",
            "Epoch 70/80\n",
            "18/18 [==============================] - 0s 18ms/step - loss: 0.3679 - accuracy: 0.8471 - val_loss: 0.3217 - val_accuracy: 0.8600\n",
            "Epoch 71/80\n",
            "18/18 [==============================] - 0s 17ms/step - loss: 0.3643 - accuracy: 0.8489 - val_loss: 0.3235 - val_accuracy: 0.8650\n",
            "Epoch 72/80\n",
            "18/18 [==============================] - 0s 18ms/step - loss: 0.3709 - accuracy: 0.8491 - val_loss: 0.3308 - val_accuracy: 0.8550\n",
            "Epoch 73/80\n",
            "18/18 [==============================] - 0s 18ms/step - loss: 0.3603 - accuracy: 0.8490 - val_loss: 0.3231 - val_accuracy: 0.8660\n",
            "Epoch 74/80\n",
            "18/18 [==============================] - 0s 18ms/step - loss: 0.3675 - accuracy: 0.8458 - val_loss: 0.3257 - val_accuracy: 0.8570\n",
            "Epoch 75/80\n",
            "18/18 [==============================] - 0s 17ms/step - loss: 0.3670 - accuracy: 0.8488 - val_loss: 0.3215 - val_accuracy: 0.8620\n",
            "Epoch 76/80\n",
            "18/18 [==============================] - 0s 18ms/step - loss: 0.3734 - accuracy: 0.8438 - val_loss: 0.3264 - val_accuracy: 0.8630\n",
            "Epoch 77/80\n",
            "18/18 [==============================] - 0s 18ms/step - loss: 0.3684 - accuracy: 0.8444 - val_loss: 0.3214 - val_accuracy: 0.8640\n",
            "Epoch 78/80\n",
            "18/18 [==============================] - 0s 18ms/step - loss: 0.3659 - accuracy: 0.8433 - val_loss: 0.3268 - val_accuracy: 0.8640\n",
            "Epoch 79/80\n",
            "18/18 [==============================] - 0s 18ms/step - loss: 0.3650 - accuracy: 0.8462 - val_loss: 0.3282 - val_accuracy: 0.8570\n",
            "Epoch 80/80\n",
            "18/18 [==============================] - 0s 18ms/step - loss: 0.3654 - accuracy: 0.8414 - val_loss: 0.3231 - val_accuracy: 0.8690\n"
          ],
          "name": "stdout"
        }
      ]
    },
    {
      "cell_type": "markdown",
      "metadata": {
        "id": "h15OAnNqBdP4"
      },
      "source": [
        "## Result visualization"
      ]
    },
    {
      "cell_type": "code",
      "metadata": {
        "id": "WXjErDMg7lTD",
        "colab": {
          "base_uri": "https://localhost:8080/",
          "height": 606
        },
        "outputId": "447c0f79-7753-4e6b-f19b-08a72bf83946"
      },
      "source": [
        "plot_results(history)"
      ],
      "execution_count": null,
      "outputs": [
        {
          "output_type": "display_data",
          "data": {
            "image/png": "[encoded data removed]",
            "text/plain": [
              "<Figure size 1152x720 with 2 Axes>"
            ]
          },
          "metadata": {
            "tags": [],
            "needs_background": "light"
          }
        }
      ]
    }
  ]
}