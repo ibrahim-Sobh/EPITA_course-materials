{
 "cells": [
  {
   "cell_type": "markdown",
   "metadata": {},
   "source": [
    "# <center> Support Vector Machine<br> <small>Réda DEHAK<br> 14 January 2020</small> </center>\n",
    "\n",
    "The goal of this lab is :\n",
    "    - Test SVM Methods on classification problems\n",
    "    \n",
    "We will use the [Wine dataset](https://archive.ics.uci.edu/ml/datasets/Wine) from UCI. These data are the results of a chemical analysis of wines grown in the same region in Italy but derived from three different cultivars. The analysis determined the quantities of thirteen constituents found in each of the three types of wines."
   ]
  },
  {
   "cell_type": "markdown",
   "metadata": {},
   "source": [
    "# Part 1: Own implementation of SVM class\n",
    "\n",
    "We will try first to implement our own SVM class to perform an SVM classifier using the <A href=https://cvxopt.org/userguide/coneprog.html#quadratic-programming> cvxopt.solvers.qp </A> solver \n",
    "\n",
    "1- Try first to implement myOwnHardSVM"
   ]
  },
  {
   "cell_type": "markdown",
   "metadata": {},
   "source": [
    "- SVM training consists of solving the double problem defined by:\n",
    "\\begin{eqnarray}\n",
    "\\mbox{Maximize:} & Q(\\alpha) = \\sum_i \\alpha_i - \\frac{1}{2} \\sum_i\\sum_j \\alpha_i \\alpha_j y_i y_j G[i,j] \\\\\n",
    "\\mbox{Subject to:} & \\sum_i \\alpha_i y_i =0\\\\\n",
    "& \\alpha_i \\ge 0\n",
    "\\end{eqnarray}\n",
    "\n",
    "Where $G$ represents the Gram Matrix and is defined by:\n",
    "$$G[i, j]= K\\left(x_i, x_j\\right)$$"
   ]
  },
  {
   "cell_type": "code",
   "execution_count": 3,
   "metadata": {},
   "outputs": [],
   "source": [
    "import numpy as np"
   ]
  },
  {
   "cell_type": "code",
   "execution_count": 54,
   "metadata": {},
   "outputs": [],
   "source": [
    "from cvxopt.solvers import qp\n",
    "from cvxopt import matrix\n",
    "\n",
    "EPS = 1e-5\n",
    "\n",
    "class myOwnHardSVM:\n",
    "    def __init__(self, kernel=lambda x,y: x.T @ y):\n",
    "        self.k = kernel\n",
    "        pass\n",
    "    def computegram(self, data):\n",
    "        N = len(data)\n",
    "        G = np.zeros((N, N))\n",
    "        for i in range(N):\n",
    "            for j in range(i + 1):\n",
    "                G[i, j] = self.k(data[i,:].reshape((-1, 1)), data[j,:].reshape((-1, 1)))\n",
    "                G[j, i] = G[i, j]\n",
    "                \n",
    "        return G\n",
    "    \n",
    "    def fit(self, DataTrain, labels):\n",
    "        N = len(DataTrain)\n",
    "        labels = np.atleast_2d(labels).T\n",
    "        # labels should be a column vector\n",
    "        Gram = self.computegram(DataTrain)\n",
    "        P = matrix((labels @ labels.T) * Gram, size = (N, N), tc='d')  \n",
    "        q = matrix(-np.ones((N,1)), size = (N, 1), tc = 'd')\n",
    "        G = matrix(-np.eye(N), size = (N, N), tc = 'd')\n",
    "        h = matrix(np.zeros((N, 1)), size = (N, 1), tc = 'd')\n",
    "        A = matrix(labels.T, size = (1, N), tc = 'd')\n",
    "        b = matrix(np.zeros((1,1)), size = (1, 1), tc = 'd')\n",
    "        \n",
    "        res = qp(P, q, G, h, A, b)\n",
    "        \n",
    "        if (res['status'] == 'unknown'):\n",
    "            print('The problem is not linearly separated')\n",
    "            return None\n",
    "        \n",
    "        self.indSV = np.where(np.array(res[\"x\"], dtype = \"double\").reshape(-1) >= EPS)[0]\n",
    "        self.alphas = np.atleast_2d(np.array(res[\"x\"], dtype = \"double\").reshape(-1)[self.indSV]).T\n",
    "        self.SV = DataTrain[self.indSV, :]\n",
    "        self.labelsSV = labels[self.indSV]\n",
    "        self.b = np.mean(self.labelsSV - self.computegram(self.SV) @ (self.alphas * self.labelsSV)) \n",
    "        self.W = ((self.alphas * self.labelsSV).T @ self.SV).T\n",
    "        return res\n",
    "    \n",
    "    def computeGram2(self, data1, data2):\n",
    "        N = len(data1)\n",
    "        M = len(data2)\n",
    "        G = np.zeros((N, M))\n",
    "        for i in range(N):\n",
    "            for j in range(M):\n",
    "                G[i, j] = self.k(data1[i,:].reshape((-1, 1)), data2[j,:].reshape((-1, 1)))\n",
    "                \n",
    "        return G\n",
    "    \n",
    "    def decision_function(self, data):\n",
    "        #return self.W.T @ data.T + self.b\n",
    "        return self.computeGram2(data, self.SV) @ (self.alphas * self.labelsSV) + self.b \n",
    "\n",
    "    def predict(self, data):\n",
    "        return np.sign(self.decision_function(data))"
   ]
  },
  {
   "cell_type": "markdown",
   "metadata": {},
   "source": [
    "- Test your myOwnHardSVM class on this simple dataset $\\left\\{\\left(1; -1\\right), \\left(2; +1\\right), \\left(3; +1\\right)\\right\\}$. Did you obtain a coherent results"
   ]
  },
  {
   "cell_type": "code",
   "execution_count": 17,
   "metadata": {},
   "outputs": [
    {
     "name": "stdout",
     "output_type": "stream",
     "text": [
      "     pcost       dcost       gap    pres   dres\n",
      " 0: -3.1167e+00 -7.2580e+00  4e+00  0e+00  2e+00\n",
      " 1: -6.6392e+00 -6.7625e+00  1e-01  5e-16  1e+00\n",
      " 2:  1.6282e+03 -2.6799e+03  4e+03  2e-13  5e-11\n",
      " 3:  7.0810e+01 -5.4516e+02  6e+02  1e-13  1e-11\n",
      " 4: -9.4653e+01 -1.7106e+02  8e+01  3e-14  1e-11\n",
      " 5: -1.0315e+02 -1.0698e+02  4e+00  3e-14  5e-12\n",
      " 6: -1.0319e+02 -1.0322e+02  4e-02  2e-14  4e-12\n",
      " 7: -1.0319e+02 -1.0319e+02  4e-04  3e-14  2e-12\n",
      " 8: -1.0319e+02 -1.0319e+02  4e-06  2e-14  1e-11\n",
      "Optimal solution found.\n"
     ]
    }
   ],
   "source": [
    "data = np.array([[1], [2], [3], [4]])\n",
    "labels = np.array([-1, 1, -1, 1])\n",
    "model = myOwnHardSVM(kernel=lambda x,y: (1 + x.T @ y)**3)\n",
    "res = model.fit(data, labels)"
   ]
  },
  {
   "cell_type": "code",
   "execution_count": 18,
   "metadata": {},
   "outputs": [
    {
     "name": "stdout",
     "output_type": "stream",
     "text": [
      "[ 3.80e+01]\n",
      "[ 8.58e+01]\n",
      "[ 6.52e+01]\n",
      "[ 1.74e+01]\n",
      "\n"
     ]
    }
   ],
   "source": [
    "print(res[\"x\"])"
   ]
  },
  {
   "cell_type": "code",
   "execution_count": 19,
   "metadata": {},
   "outputs": [
    {
     "name": "stdout",
     "output_type": "stream",
     "text": [
      "[[1.00000001]]\n"
     ]
    }
   ],
   "source": [
    "print(model.decision_function(np.array([[1.5]])))"
   ]
  },
  {
   "cell_type": "markdown",
   "metadata": {},
   "source": [
    "- Generate a tiny 2D linearly separable 2 classes problem and test your myOwnHardSVM. Plot the boundary and check your result. Try to adapt the function plot_boundary to show the margin and the support vector."
   ]
  },
  {
   "cell_type": "code",
   "execution_count": 8,
   "metadata": {},
   "outputs": [],
   "source": [
    "import matplotlib.pyplot as plt\n",
    "from matplotlib import cm\n",
    "from matplotlib.colors import LinearSegmentedColormap\n",
    "\n",
    "%matplotlib inline\n",
    "\n",
    "MARKERS = ['+', 'x', '.']\n",
    "COLORS = ['red', 'green', 'blue']\n",
    "\n",
    "def plot_points(xy, labels):\n",
    "    \n",
    "    for i, label in enumerate(set(labels)):\n",
    "        points = np.array([xy[j,:] for j in range(len(xy)) if labels[j] == label])\n",
    "        marker = MARKERS[i % len(MARKERS)]\n",
    "        color = COLORS[i % len(COLORS)]\n",
    "        plt.scatter(points[:,0], points[:,1], marker=marker, color=color)\n",
    "\n",
    "def plot_boundary(X, pred):\n",
    "    \n",
    "    x_min, x_max = X[:,0].min() - .1, X[:,0].max() + .1\n",
    "    y_min, y_max = X[:,1].min() - .1, X[:,1].max() + .1\n",
    "    \n",
    "    xs, ys = np.meshgrid(\n",
    "        np.linspace(x_min, x_max, 200),\n",
    "        np.linspace(y_min, y_max, 200)\n",
    "    )\n",
    "\n",
    "    xys = np.column_stack([xs.ravel(), ys.ravel()])\n",
    "    zs = pred(xys).reshape(xs.shape)\n",
    "    plt.contour(xs, ys, zs, colors='black', levels=0)\n",
    "    plt.contour(xs, ys, zs, colors='black', levels=[-1, +1], linestyles='dashed')"
   ]
  },
  {
   "cell_type": "code",
   "execution_count": 22,
   "metadata": {},
   "outputs": [
    {
     "name": "stdout",
     "output_type": "stream",
     "text": [
      "     pcost       dcost       gap    pres   dres\n",
      " 0: -7.9637e-02 -1.0655e-01  8e+00  3e+00  1e+00\n",
      " 1: -1.3267e-02 -1.4701e-02  3e-01  1e-01  5e-02\n",
      " 2:  1.5244e-04 -6.0212e-03  9e-03  9e-04  4e-04\n",
      " 3: -1.2015e-03 -2.4759e-03  1e-03  7e-19  3e-16\n",
      " 4: -1.3912e-03 -1.5916e-03  2e-04  3e-19  3e-16\n",
      " 5: -1.4841e-03 -1.5383e-03  5e-05  3e-19  2e-16\n",
      " 6: -1.4959e-03 -1.4967e-03  7e-07  4e-19  4e-16\n",
      " 7: -1.4962e-03 -1.4962e-03  7e-09  5e-19  2e-16\n",
      "Optimal solution found.\n",
      "{'x': <6x1 matrix, tc='d'>, 'y': <1x1 matrix, tc='d'>, 's': <6x1 matrix, tc='d'>, 'z': <6x1 matrix, tc='d'>, 'status': 'optimal', 'gap': 7.429924646286974e-09, 'relative gap': 4.965945138550352e-06, 'primal objective': -0.001496175338025563, 'dual objective': -0.0014961827679502093, 'primal infeasibility': 4.599880269689179e-19, 'dual infeasibility': 1.9156107900321686e-16, 'primal slack': 1.171315815270861e-09, 'dual slack': 1.0810882272247266e-06, 'iterations': 7}\n"
     ]
    },
    {
     "data": {
      "image/png": "[encoded data removed]",
      "text/plain": [
       "<Figure size 432x288 with 1 Axes>"
      ]
     },
     "metadata": {
      "needs_background": "light"
     },
     "output_type": "display_data"
    }
   ],
   "source": [
    "x_neg = np.array([[3,4],[1,4],[2,3]])\n",
    "y_neg = np.array([-1,-1,-1])\n",
    "x_pos = np.array([[6,-1],[7,-1],[5,-3]])\n",
    "y_pos = np.array([1,1,1])\n",
    "\n",
    "#Data for the next section\n",
    "#X = np.vstack((x_pos, x_neg))\n",
    "#y = np.concatenate((y_pos,y_neg))\n",
    "\n",
    "#X=np.array([[1,2],[1,3],[1,4],[-1,-2],[-1,-3]])\n",
    "#y=np.array([-1,-1,-1,1,1])\n",
    "\n",
    "model2D = myOwnHardSVM(kernel=lambda x,y:(1+ x.T@y)**2)\n",
    "print(model2D.fit(X, y))\n",
    "plot_boundary(X, lambda x: model2D.decision_function(x))\n",
    "plot_points(X, y)"
   ]
  },
  {
   "cell_type": "markdown",
   "metadata": {},
   "source": [
    "- Try now your myOwnHardSVM with a training dataset which is not linearly separable, what did you remark?"
   ]
  },
  {
   "cell_type": "code",
   "execution_count": 31,
   "metadata": {},
   "outputs": [
    {
     "name": "stdout",
     "output_type": "stream",
     "text": [
      "     pcost       dcost       gap    pres   dres\n",
      " 0: -7.1981e-01 -1.3500e+00  1e+01  3e+00  2e+00\n",
      " 1: -3.2930e-01 -6.3670e-01  2e+00  5e-01  2e-01\n",
      " 2:  3.5588e-03 -1.3992e-01  7e-01  9e-02  5e-02\n",
      " 3: -2.2929e-02 -7.3763e-02  5e-02  2e-17  6e-15\n",
      " 4: -3.5911e-02 -4.5389e-02  9e-03  1e-17  2e-15\n",
      " 5: -3.9313e-02 -4.3859e-02  5e-03  1e-17  3e-15\n",
      " 6: -4.0578e-02 -4.0730e-02  2e-04  7e-18  7e-16\n",
      " 7: -4.0625e-02 -4.0629e-02  5e-06  1e-17  1e-15\n",
      " 8: -4.0625e-02 -4.0625e-02  5e-08  7e-18  7e-16\n",
      "Optimal solution found.\n",
      "{'x': <6x1 matrix, tc='d'>, 'y': <1x1 matrix, tc='d'>, 's': <6x1 matrix, tc='d'>, 'z': <6x1 matrix, tc='d'>, 'status': 'optimal', 'gap': 4.871357237738854e-08, 'relative gap': 1.1991034445004545e-06, 'primal objective': -0.040624995783981405, 'dual objective': -0.04062504449755379, 'primal infeasibility': 6.942281208920781e-18, 'dual infeasibility': 6.661122902604703e-16, 'primal slack': 5.507521181967943e-10, 'dual slack': 2.376702890268423e-08, 'iterations': 8}\n"
     ]
    },
    {
     "data": {
      "image/png": "[encoded data removed]",
      "text/plain": [
       "<Figure size 432x288 with 1 Axes>"
      ]
     },
     "metadata": {
      "needs_background": "light"
     },
     "output_type": "display_data"
    }
   ],
   "source": [
    "x_neg = np.array([[3,4],[1,4],[2,3]])\n",
    "y_neg = np.array([-1,+1,-1])\n",
    "x_pos = np.array([[6,-1],[7,-1],[5,-3]])\n",
    "y_pos = np.array([1,1,1])\n",
    "\n",
    "#Data for the next section\n",
    "X = np.vstack((x_pos, x_neg))\n",
    "y = np.concatenate((y_pos,y_neg))\n",
    "\n",
    "#X=np.array([[1,2],[1,3],[1,4],[-1,-2],[-1,-3]])\n",
    "#y=np.array([-1,-1,-1,1,1])\n",
    "\n",
    "model2D = myOwnHardSVM(lambda x,y: (1+ x.T @ y) **2)\n",
    "print(model2D.fit(X, y))\n",
    "plot_boundary(X, lambda x: model2D.decision_function(x))\n",
    "plot_points(X, y)"
   ]
  },
  {
   "cell_type": "markdown",
   "metadata": {},
   "source": [
    "2- We try now to implement the sof margin SVM class"
   ]
  },
  {
   "cell_type": "code",
   "execution_count": 38,
   "metadata": {},
   "outputs": [],
   "source": [
    "class myOwnSoftSVM(myOwnHardSVM):\n",
    "    \n",
    "    def __init__(self, C=1., kernel=lambda x,y: x.T @ y):\n",
    "        super().__init__(kernel=kernel)\n",
    "        self.C = C\n",
    "        \n",
    "    def fit(self, DataTrain, labels):\n",
    "        N = len(DataTrain)\n",
    "        labels = np.atleast_2d(labels).T\n",
    "        # labels should be a column vector\n",
    "        Gram = self.computegram(DataTrain)\n",
    "        P = matrix((labels @ labels.T) * Gram, size = (N, N), tc='d')  \n",
    "        q = matrix(-np.ones((N,1)), size = (N, 1), tc = 'd')\n",
    "        G = matrix(np.vstack((-np.eye(N), np.eye(N))), size = (2 * N, N), tc = 'd')\n",
    "        h = matrix(np.vstack((np.zeros((N, 1)), self.C * np.ones((N, 1)))), size = (2 * N, 1), tc = 'd')\n",
    "        A = matrix(labels.T, size = (1, N), tc = 'd')\n",
    "        b = matrix(np.zeros((1,1)), size = (1, 1), tc = 'd')\n",
    "        \n",
    "        res = qp(P, q, G, h, A, b)\n",
    "        \n",
    "        if (res['status'] == 'unknown'):\n",
    "            print('The problem is not linearly separated')\n",
    "            return None\n",
    "        \n",
    "        self.indSV = np.where(np.array(res[\"x\"], dtype = \"double\").reshape(-1) >= EPS)[0]\n",
    "        self.alphas = np.atleast_2d(np.array(res[\"x\"], dtype = \"double\").reshape(-1)[self.indSV]).T\n",
    "        self.SV = DataTrain[self.indSV, :]\n",
    "        self.labelsSV = labels[self.indSV]\n",
    "        self.b = np.mean(self.labelsSV - self.computegram(self.SV) @ (self.alphas * self.labelsSV)) \n",
    "        self.W = ((self.alphas * self.labelsSV).T @ self.SV).T\n",
    "        return res"
   ]
  },
  {
   "cell_type": "markdown",
   "metadata": {},
   "source": [
    "- Test your myOwnSoftSVM class on your previous training dataset which is not linearly separable."
   ]
  },
  {
   "cell_type": "code",
   "execution_count": 40,
   "metadata": {},
   "outputs": [
    {
     "name": "stdout",
     "output_type": "stream",
     "text": [
      "     pcost       dcost       gap    pres   dres\n",
      " 0: -1.3387e+00 -8.8423e+00  3e+01  2e+00  2e-13\n",
      " 1: -1.0324e+00 -4.5989e+00  6e+00  3e-01  1e-13\n",
      " 2: -1.4972e-01 -1.5435e+00  3e+00  8e-02  3e-14\n",
      " 3: -5.3478e-02 -2.4016e-01  2e-01  1e-03  4e-14\n",
      " 4: -9.1918e-02 -1.1971e-01  3e-02  1e-04  1e-14\n",
      " 5: -1.0287e-01 -1.0448e-01  2e-03  6e-08  8e-15\n",
      " 6: -1.0356e-01 -1.0366e-01  1e-04  1e-09  4e-15\n",
      " 7: -1.0364e-01 -1.0364e-01  2e-06  7e-12  7e-15\n",
      " 8: -1.0364e-01 -1.0364e-01  2e-08  7e-14  5e-15\n",
      "Optimal solution found.\n",
      "{'x': <6x1 matrix, tc='d'>, 'y': <1x1 matrix, tc='d'>, 's': <12x1 matrix, tc='d'>, 'z': <12x1 matrix, tc='d'>, 'status': 'optimal', 'gap': 2.0994270878472606e-08, 'relative gap': 2.0256253693039374e-07, 'primal objective': -0.10364340413887507, 'dual objective': -0.10364342513261149, 'primal infeasibility': 7.207193154464121e-14, 'dual infeasibility': 4.8097239199836e-15, 'primal slack': 2.67380285925967e-11, 'dual slack': 1.6860031325758403e-10, 'iterations': 8}\n"
     ]
    },
    {
     "data": {
      "image/png": "[encoded data removed]",
      "text/plain": [
       "<Figure size 432x288 with 1 Axes>"
      ]
     },
     "metadata": {
      "needs_background": "light"
     },
     "output_type": "display_data"
    }
   ],
   "source": [
    "x_neg = np.array([[3,4],[1,4],[2,3]])\n",
    "y_neg = np.array([-1,-1,-1])\n",
    "x_pos = np.array([[6,-1],[7,-1],[5,-3]])\n",
    "y_pos = np.array([1,-1,+1])\n",
    "\n",
    "\n",
    "#Data for the next section\n",
    "X = np.vstack((x_pos, x_neg))\n",
    "y = np.concatenate((y_pos,y_neg))\n",
    "\n",
    "model2D = myOwnSoftSVM(C=1, kernel=lambda x, y: (1+ x.T@y)**2)\n",
    "print(model2D.fit(X, y))\n",
    "plot_boundary(X, lambda x: model2D.decision_function(x))\n",
    "plot_points(X, y)"
   ]
  },
  {
   "cell_type": "markdown",
   "metadata": {},
   "source": [
    "# Part 2: Wine dataset and sklearn.svm.svc class\n",
    "\n",
    "## Loading and Plotting Data\n",
    " \n",
    "First, we will use only two features from the data set: alcohol and ash (We can plot the solution in 2D space). The labels are supplied as an array of data with values from 1 to 3, but at first, we want a simple binary regression problem with a yes or no answer.  \n",
    "\n",
    "We filter the data set, reducing it to only include wines with labels 1 or 2.  "
   ]
  },
  {
   "cell_type": "code",
   "execution_count": 39,
   "metadata": {},
   "outputs": [],
   "source": [
    "import pandas as pd\n",
    "import numpy as np\n",
    "from sklearn.preprocessing import label_binarize\n",
    "\n",
    "data = pd.read_csv('data.txt')\n",
    "\n",
    "reduced = data[data['class'] <= 2]\n",
    "X = reduced[['alcohol', 'ash']].to_numpy()\n",
    "y = label_binarize(reduced['class'].values, classes=[1, 2])[:,0]"
   ]
  },
  {
   "cell_type": "code",
   "execution_count": 40,
   "metadata": {},
   "outputs": [
    {
     "name": "stdout",
     "output_type": "stream",
     "text": [
      "train: 97 test: 33\n"
     ]
    }
   ],
   "source": [
    "from sklearn.model_selection import train_test_split\n",
    "\n",
    "Xtrain, Xtest, ytrain, ytest = train_test_split(X, y, test_size=0.25, random_state = 42)\n",
    "print('train:', len(Xtrain), 'test:', len(Xtest))"
   ]
  },
  {
   "cell_type": "code",
   "execution_count": 41,
   "metadata": {},
   "outputs": [
    {
     "data": {
      "image/png": "[encoded data removed]",
      "text/plain": [
       "<Figure size 432x288 with 1 Axes>"
      ]
     },
     "metadata": {
      "needs_background": "light"
     },
     "output_type": "display_data"
    }
   ],
   "source": [
    "plot_points(Xtrain, ytrain)"
   ]
  },
  {
   "cell_type": "code",
   "execution_count": 52,
   "metadata": {},
   "outputs": [
    {
     "name": "stdout",
     "output_type": "stream",
     "text": [
      "     pcost       dcost       gap    pres   dres\n",
      " 0:  1.3419e+06 -2.0810e+07  3e+07  6e-02  4e-13\n",
      " 1:  3.6824e+05 -1.8915e+06  2e+06  3e-03  1e-12\n",
      " 2:  7.1278e+04 -2.9486e+05  4e+05  2e-04  3e-13\n",
      " 3:  5.0295e+03 -7.1334e+04  8e+04  2e-05  2e-13\n",
      " 4: -6.0041e+03 -4.6653e+04  4e+04  4e-06  3e-13\n",
      " 5: -1.0320e+04 -2.1938e+04  1e+04  1e-06  3e-13\n",
      " 6: -1.1829e+04 -1.4924e+04  3e+03  2e-07  2e-13\n",
      " 7: -1.2369e+04 -1.3847e+04  1e+03  5e-08  2e-13\n",
      " 8: -1.2658e+04 -1.3037e+04  4e+02  1e-08  2e-13\n",
      " 9: -1.2772e+04 -1.2818e+04  5e+01  6e-10  3e-13\n",
      "10: -1.2785e+04 -1.2797e+04  1e+01  2e-10  3e-13\n",
      "11: -1.2790e+04 -1.2791e+04  2e+00  5e-13  3e-13\n",
      "12: -1.2790e+04 -1.2790e+04  3e-02  5e-13  3e-13\n",
      "13: -1.2790e+04 -1.2790e+04  3e-04  2e-13  3e-13\n",
      "Optimal solution found.\n",
      "{'x': <97x1 matrix, tc='d'>, 'y': <1x1 matrix, tc='d'>, 's': <194x1 matrix, tc='d'>, 'z': <194x1 matrix, tc='d'>, 'status': 'optimal', 'gap': 0.00030313209227884685, 'relative gap': 2.3700205430962207e-08, 'primal objective': -12790.272774717461, 'dual objective': -12790.273077849555, 'primal infeasibility': 2.2737367544323206e-13, 'dual infeasibility': 3.3032475748067054e-13, 'primal slack': 1.3847664826146996e-07, 'dual slack': 1.4421979644065213e-09, 'iterations': 13}\n"
     ]
    },
    {
     "data": {
      "image/png": "[encoded data removed]",
      "text/plain": [
       "<Figure size 432x288 with 1 Axes>"
      ]
     },
     "metadata": {
      "needs_background": "light"
     },
     "output_type": "display_data"
    }
   ],
   "source": [
    "y = np.sign(ytrain-.5)\n",
    "gamma = 1\n",
    "model2D = myOwnSoftSVM(C=1000, kernel=lambda x,y: np.exp(-gamma * np.linalg.norm(x-y)**2))\n",
    "print(model2D.fit(Xtrain, y))\n",
    "plot_boundary(Xtrain, lambda x: model2D.decision_function(x))\n",
    "plot_points(Xtrain, ytrain)"
   ]
  },
  {
   "cell_type": "markdown",
   "metadata": {},
   "source": [
    "We can see that we can plot line that could divide the two colored points with a small amount of error.\n",
    "\n",
    "# Linear SVM\n",
    "\n",
    "- Using SVC class of sklearn.svm train a linear SVM"
   ]
  },
  {
   "cell_type": "markdown",
   "metadata": {},
   "source": [
    "$$ poly\\left(x, y\\right) = \\left(coef0 + gamma\\;x^Ty\\right)^{degree}$$"
   ]
  },
  {
   "cell_type": "code",
   "execution_count": 46,
   "metadata": {},
   "outputs": [],
   "source": [
    "from sklearn.svm import SVC\n",
    "\n",
    "clf = SVC(kernel='rbf', gamma = 1, C = 100).fit(Xtrain, ytrain)"
   ]
  },
  {
   "cell_type": "markdown",
   "metadata": {},
   "source": [
    "- print the dual parameters $\\alpha$"
   ]
  },
  {
   "cell_type": "code",
   "execution_count": 47,
   "metadata": {},
   "outputs": [
    {
     "name": "stdout",
     "output_type": "stream",
     "text": [
      "[[13.5   2.61]\n",
      " [13.63  2.7 ]\n",
      " [13.05  2.1 ]\n",
      " [13.86  2.27]\n",
      " [13.87  2.8 ]\n",
      " [14.83  2.17]\n",
      " [13.07  2.1 ]\n",
      " [13.74  2.25]\n",
      " [13.05  2.04]\n",
      " [13.41  2.12]\n",
      " [13.05  2.55]\n",
      " [12.93  2.65]\n",
      " [12.85  2.52]\n",
      " [13.67  1.92]\n",
      " [13.34  2.36]\n",
      " [12.99  2.6 ]\n",
      " [13.03  1.71]\n",
      " [13.49  2.24]\n",
      " [13.05  2.32]\n",
      " [12.7   2.4 ]\n",
      " [13.05  2.13]\n",
      " [12.77  1.98]\n",
      " [13.86  2.67]]\n"
     ]
    }
   ],
   "source": [
    "print(clf.support_vectors_)"
   ]
  },
  {
   "cell_type": "code",
   "execution_count": 48,
   "metadata": {},
   "outputs": [
    {
     "name": "stdout",
     "output_type": "stream",
     "text": [
      "[[ -33.01978077  -27.70138168 -100.          -26.23675941  -44.5288283\n",
      "    -1.39001911  -72.13429579 -100.         -100.         -100.\n",
      "   -43.30315599  -58.63031829 -100.           76.15010487  100.\n",
      "   100.           40.87591038  100.          100.           66.01708578\n",
      "   100.           23.90143832  100.        ]]\n"
     ]
    }
   ],
   "source": [
    "print(clf.dual_coef_)"
   ]
  },
  {
   "cell_type": "code",
   "execution_count": 49,
   "metadata": {},
   "outputs": [
    {
     "data": {
      "image/png": "[encoded data removed]",
      "text/plain": [
       "<Figure size 432x288 with 1 Axes>"
      ]
     },
     "metadata": {
      "needs_background": "light"
     },
     "output_type": "display_data"
    }
   ],
   "source": [
    "plot_boundary(Xtrain, lambda x:clf.decision_function(x))\n",
    "plot_points(Xtrain, ytrain)"
   ]
  },
  {
   "cell_type": "code",
   "execution_count": 67,
   "metadata": {},
   "outputs": [
    {
     "name": "stdout",
     "output_type": "stream",
     "text": [
      "[[-1000000.         -1000000.         -1000000.         -1000000.\n",
      "  -1000000.         -1000000.          -148172.29884556  -625778.93350331\n",
      "  -1000000.          -856974.55192021  1000000.           189293.16414132\n",
      "   1000000.          1000000.          1000000.          1000000.\n",
      "   1000000.          1000000.           441632.62012773  1000000.        ]]\n"
     ]
    }
   ],
   "source": [
    "clf2 = SVC(kernel='poly', gamma = 1, coef0=1, degree= 2, C = 1000000).fit(Xtrain, ytrain)\n",
    "print(clf2.dual_coef_)"
   ]
  },
  {
   "cell_type": "markdown",
   "metadata": {},
   "source": [
    "- Which training examples are misclassified? compute the slack variables $\\zeta_i$ for these samples"
   ]
  },
  {
   "cell_type": "code",
   "execution_count": 50,
   "metadata": {},
   "outputs": [
    {
     "name": "stdout",
     "output_type": "stream",
     "text": [
      "0 -33.01978077417656 [13.5   2.61] [-0.00038817]\n",
      "1 -27.701381681589602 [13.63  2.7 ] [0.00056126]\n",
      "2 -100.0 [13.05  2.1 ] [0.05602088]\n",
      "3 -26.236759405582827 [13.86  2.27] [0.00050718]\n",
      "4 -44.52882830172353 [13.87  2.8 ] [-7.13470438e-06]\n",
      "5 -1.3900191109420572 [14.83  2.17] [-7.08100116e-05]\n",
      "6 -72.13429578742355 [13.07  2.1 ] [0.00023102]\n",
      "7 -100.0 [13.74  2.25] [0.13405229]\n",
      "8 -100.0 [13.05  2.04] [0.15075282]\n",
      "9 -100.0 [13.41  2.12] [0.07306369]\n",
      "10 -43.30315599205079 [13.05  2.55] [0.00035825]\n",
      "11 -58.63031828912473 [12.93  2.65] [-0.00021544]\n",
      "12 -100.0 [12.85  2.52] [0.70115656]\n",
      "13 76.15010487006798 [13.67  1.92] [0.00038897]\n",
      "14 100.0 [13.34  2.36] [2.15258761]\n",
      "15 100.0 [12.99  2.6 ] [1.98524845]\n",
      "16 40.8759103760073 [13.03  1.71] [0.00027728]\n",
      "17 100.0 [13.49  2.24] [2.00910485]\n",
      "18 100.0 [13.05  2.32] [1.94587047]\n",
      "19 66.0170857750842 [12.7  2.4] [7.81867477e-06]\n",
      "20 100.0 [13.05  2.13] [1.97029097]\n",
      "21 23.90143832145421 [12.77  1.98] [0.00028939]\n",
      "22 100.0 [13.86  2.67] [2.08990559]\n"
     ]
    }
   ],
   "source": [
    "for i in range(len(clf.support_vectors_)):\n",
    "    #if (abs(clf.dual_coef_[0, i]) > 1000 - EPS):\n",
    "    print(i, clf.dual_coef_[0,i], clf.support_vectors_[i], 1 - clf.decision_function(np.atleast_2d(clf.support_vectors_[i])) * np.sign(clf.dual_coef_[0, i]))"
   ]
  },
  {
   "cell_type": "markdown",
   "metadata": {},
   "source": [
    "- Compute the confusion matrix, the accuray, the precision and the recall on the test data? "
   ]
  },
  {
   "cell_type": "code",
   "execution_count": null,
   "metadata": {},
   "outputs": [],
   "source": []
  },
  {
   "cell_type": "markdown",
   "metadata": {},
   "source": [
    "- Compute the accuray, the precision, the recall and the confusion matrix of your classifieur? what did you conclude? "
   ]
  },
  {
   "cell_type": "code",
   "execution_count": null,
   "metadata": {},
   "outputs": [],
   "source": [
    "from sklearn.metrics import confusion_matrix, plot_confusion_matrix, accuracy_score, precision_score, recall_score\n",
    "\n",
    "..."
   ]
  },
  {
   "cell_type": "markdown",
   "metadata": {},
   "source": [
    "# Multiclass SVM\n",
    "\n",
    "The next step is something more interesting: we use a similar set of two features from the data set (this time alcohol and flavanoids), but with all three labels instead of two."
   ]
  },
  {
   "cell_type": "code",
   "execution_count": 51,
   "metadata": {},
   "outputs": [
    {
     "data": {
      "image/png": "[encoded data removed]",
      "text/plain": [
       "<Figure size 432x288 with 1 Axes>"
      ]
     },
     "metadata": {
      "needs_background": "light"
     },
     "output_type": "display_data"
    }
   ],
   "source": [
    "X = data[['alcohol', 'flavanoids']].to_numpy()\n",
    "y = data['class'].to_numpy()\n",
    "Xtrain, Xtest, ytrain, ytest = train_test_split(X, y, test_size=0.25, random_state = 42)\n",
    "\n",
    "plot_points(Xtrain, ytrain)"
   ]
  },
  {
   "cell_type": "markdown",
   "metadata": {},
   "source": [
    "The plotted data points again suggest some obvious linear boundaries between the three classes.\n",
    "\n",
    "\n",
    "- Train and Test a linear SVM using the method one against rest"
   ]
  },
  {
   "cell_type": "code",
   "execution_count": 52,
   "metadata": {},
   "outputs": [
    {
     "name": "stdout",
     "output_type": "stream",
     "text": [
      "[1 2 2 3 1 2 1 1 3 3 2 2 1 2 1 3 2 2 3 1 1 1 3 1 1 2 3 2 1 3 2 1 3 2 2 1 2\n",
      " 1 1 2 1 1 3 2 2 2 1 2 2 2 3 3 1 2 3 3 2 2 1 2 3 3 2 3 2 2 2 1 1 3 1 3 1 1\n",
      " 2 2 1 1 1 2 1 2 3 2 2 2 3 3 2 1 1 2 3 3 1 2 3 3 3 3 2 1 2 1 3 1 1 2 1 1 3\n",
      " 2 1 3 3 1 1 3 3 3 2 2 2 2 2 2 3 1 2 2 1 2 2]\n"
     ]
    }
   ],
   "source": [
    "print(ytrain)"
   ]
  },
  {
   "cell_type": "code",
   "execution_count": 204,
   "metadata": {},
   "outputs": [],
   "source": [
    "ytrain[0]=4"
   ]
  },
  {
   "cell_type": "code",
   "execution_count": 53,
   "metadata": {},
   "outputs": [],
   "source": [
    "clf = SVC(kernel='linear', C = 1000, decision_function_shape=\"ovo\").fit(Xtrain, ytrain)"
   ]
  },
  {
   "cell_type": "code",
   "execution_count": 54,
   "metadata": {},
   "outputs": [
    {
     "name": "stdout",
     "output_type": "stream",
     "text": [
      "[[ 1000.          1000.          1000.          1000.\n",
      "   1000.          1000.          1000.          1000.\n",
      "    397.48187464 -1000.         -1000.         -1000.\n",
      "   -867.07706594    -0.         -1000.         -1000.\n",
      "     -0.            -0.            -0.         -1000.\n",
      "   -530.4048087  -1000.            -0.            -0.\n",
      "     -2.90534952    -0.            -0.        ]\n",
      " [    2.90534952     0.             0.             0.\n",
      "      0.             0.             0.             0.\n",
      "      0.             0.             0.             0.\n",
      "      0.           446.89081239     0.          1000.\n",
      "   1000.          1000.          1000.           281.12575767\n",
      "      0.             0.         -1000.          -728.01657006\n",
      "  -1000.         -1000.         -1000.        ]]\n"
     ]
    }
   ],
   "source": [
    "print(clf.dual_coef_)"
   ]
  },
  {
   "cell_type": "code",
   "execution_count": 55,
   "metadata": {},
   "outputs": [
    {
     "name": "stdout",
     "output_type": "stream",
     "text": [
      "[[13.3   2.19]\n",
      " [13.24  2.69]\n",
      " [13.05  3.  ]\n",
      " [13.05  2.68]\n",
      " [12.85  2.37]\n",
      " [13.24  2.63]\n",
      " [12.93  2.41]\n",
      " [13.05  2.43]\n",
      " [13.2   2.76]\n",
      " [13.03  2.03]\n",
      " [13.05  2.65]\n",
      " [12.72  2.53]\n",
      " [12.7   2.55]\n",
      " [12.6   1.36]\n",
      " [12.99  2.89]\n",
      " [13.67  1.79]\n",
      " [12.29  1.02]\n",
      " [13.05  1.59]\n",
      " [12.37  0.57]\n",
      " [13.49  1.84]\n",
      " [11.56  5.08]\n",
      " [13.86  2.86]\n",
      " [12.7   1.2 ]\n",
      " [12.88  1.22]\n",
      " [13.08  1.39]\n",
      " [12.86  1.25]\n",
      " [12.79  1.36]]\n"
     ]
    }
   ],
   "source": [
    "print(clf.support_vectors_)"
   ]
  },
  {
   "cell_type": "markdown",
   "metadata": {},
   "source": [
    "- Train and Test a linear SVM using the method one against one"
   ]
  },
  {
   "cell_type": "code",
   "execution_count": 56,
   "metadata": {},
   "outputs": [
    {
     "name": "stdout",
     "output_type": "stream",
     "text": [
      "[-48.18900774 -12.59120745  37.53217581]\n"
     ]
    }
   ],
   "source": [
    "print(clf.intercept_)"
   ]
  },
  {
   "cell_type": "code",
   "execution_count": 57,
   "metadata": {},
   "outputs": [
    {
     "name": "stdout",
     "output_type": "stream",
     "text": [
      "[-48.18900774 -12.59120745  37.53217581]\n"
     ]
    }
   ],
   "source": [
    "clf = SVC(kernel='linear', C = 1000, decision_function_shape=\"ovo\").fit(Xtrain, ytrain)\n",
    "print(clf.intercept_)"
   ]
  },
  {
   "cell_type": "markdown",
   "metadata": {},
   "source": [
    "- compare the result of the two methods?"
   ]
  },
  {
   "cell_type": "code",
   "execution_count": null,
   "metadata": {},
   "outputs": [],
   "source": [
    "..."
   ]
  },
  {
   "cell_type": "markdown",
   "metadata": {},
   "source": [
    "# Practice\n",
    "\n",
    "Next, we want to include all the features from the data set.  "
   ]
  },
  {
   "cell_type": "code",
   "execution_count": null,
   "metadata": {},
   "outputs": [],
   "source": [
    "X = data.drop('class', 1).to_numpy()\n",
    "y = data['class'].to_numpy()\n",
    "Xtrain, Xtest, ytrain, ytest = train_test_split(X, y, test_size=0.25, random_state = 42)"
   ]
  },
  {
   "cell_type": "markdown",
   "metadata": {},
   "source": [
    "Because we are now significantly increasing the number of features, since we have few training example we need to prevent overfitting.\n",
    "\n",
    "- Train and test a SVM classifier solution in this case"
   ]
  },
  {
   "cell_type": "code",
   "execution_count": null,
   "metadata": {},
   "outputs": [],
   "source": [
    "..."
   ]
  },
  {
   "cell_type": "markdown",
   "metadata": {},
   "source": [
    "- Conclude, What is your remarks about overfitting and generalisation compared to the previous results?"
   ]
  },
  {
   "cell_type": "code",
   "execution_count": null,
   "metadata": {},
   "outputs": [],
   "source": []
  },
  {
   "cell_type": "code",
   "execution_count": 62,
   "metadata": {},
   "outputs": [
    {
     "data": {
      "text/plain": [
       "GridSearchCV(estimator=SVC(),\n",
       "             param_grid={'C': [1, 10, 100],\n",
       "                         'decision_function_shape': ['ovr', 'ovo'],\n",
       "                         'gamma': [0.5, 1, 5, 10],\n",
       "                         'kernel': ('linear', 'rbf')})"
      ]
     },
     "execution_count": 62,
     "metadata": {},
     "output_type": "execute_result"
    }
   ],
   "source": [
    "from sklearn import svm, datasets\n",
    "from sklearn.model_selection import GridSearchCV\n",
    "X = data.drop('class', 1).to_numpy()\n",
    "y = data['class'].to_numpy()\n",
    "    \n",
    "parameters = {'kernel':('linear', 'rbf'), 'C':[1, 10, 100], 'gamma':[.5, 1, 5, 10], 'decision_function_shape':['ovr', 'ovo']}\n",
    "svc = svm.SVC()\n",
    "clf = GridSearchCV(svc, parameters)\n",
    "clf.fit(X, y)"
   ]
  },
  {
   "cell_type": "code",
   "execution_count": 63,
   "metadata": {},
   "outputs": [
    {
     "name": "stdout",
     "output_type": "stream",
     "text": [
      "\tC: 1\n",
      "\tbreak_ties: False\n",
      "\tcache_size: 200\n",
      "\tclass_weight: None\n",
      "\tcoef0: 0.0\n",
      "\tdecision_function_shape: 'ovr'\n",
      "\tdegree: 3\n",
      "\tgamma: 0.5\n",
      "\tkernel: 'linear'\n",
      "\tmax_iter: -1\n",
      "\tprobability: False\n",
      "\trandom_state: None\n",
      "\tshrinking: True\n",
      "\ttol: 0.001\n",
      "\tverbose: False\n"
     ]
    }
   ],
   "source": [
    "best_parameters = clf.best_estimator_.get_params()\n",
    "for param_name in sorted(best_parameters.keys()):\n",
    "    print(\"\\t%s: %r\" % (param_name, best_parameters[param_name]))"
   ]
  },
  {
   "cell_type": "code",
   "execution_count": null,
   "metadata": {},
   "outputs": [],
   "source": []
  }
 ],
 "metadata": {
  "kernelspec": {
   "display_name": "Py37SysTf15",
   "language": "python",
   "name": "py37systf15"
  },
  "language_info": {
   "codemirror_mode": {
    "name": "ipython",
    "version": 3
   },
   "file_extension": ".py",
   "mimetype": "text/x-python",
   "name": "python",
   "nbconvert_exporter": "python",
   "pygments_lexer": "ipython3",
   "version": "3.7.13"
  }
 },
 "nbformat": 4,
 "nbformat_minor": 2
}
