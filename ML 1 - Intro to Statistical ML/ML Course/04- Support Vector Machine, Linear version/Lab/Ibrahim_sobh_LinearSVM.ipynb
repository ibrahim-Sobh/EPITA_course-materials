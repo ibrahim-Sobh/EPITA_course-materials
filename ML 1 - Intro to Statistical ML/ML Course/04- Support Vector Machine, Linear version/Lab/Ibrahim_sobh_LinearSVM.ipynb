{
 "cells": [
  {
   "cell_type": "markdown",
   "metadata": {},
   "source": [
    "# <center> Support Vector Machine<br> <small>Réda DEHAK<br> 14 January 2020</small> </center>\n",
    "\n",
    "The goal of this lab is :\n",
    "    - Test SVM Methods on classification problems\n",
    "    \n",
    "We will use the [Wine dataset](https://archive.ics.uci.edu/ml/datasets/Wine) from UCI. These data are the results of a chemical analysis of wines grown in the same region in Italy but derived from three different cultivars. The analysis determined the quantities of thirteen constituents found in each of the three types of wines."
   ]
  },
  {
   "cell_type": "markdown",
   "metadata": {},
   "source": [
    "# Part 1: Own implementation of SVM class\n",
    "\n",
    "We will try first to implement our own SVM class to perform an SVM classifier using the <A href=https://cvxopt.org/userguide/coneprog.html#quadratic-programming> cvxopt.solvers.qp </A> solver \n",
    "\n",
    "1- Try first to implement myOwnHardSVM"
   ]
  },
  {
   "cell_type": "markdown",
   "metadata": {},
   "source": [
    "- SVM training consists of solving the double problem defined by:\n",
    "\\begin{eqnarray}\n",
    "\\mbox{Maximize:} & Q(\\alpha) = \\sum_i \\alpha_i - \\frac{1}{2} \\sum_i\\sum_j \\alpha_i \\alpha_j y_i y_j G[i,j] \\\\\n",
    "\\mbox{Subject to:} & \\sum_i \\alpha_i y_i =0\\\\\n",
    "& \\alpha_i \\ge 0\n",
    "\\end{eqnarray}\n",
    "\n",
    "Where $G$ represents the Gram Matrix and is defined by\n",
    "$$G[i, j]= \\left< x_i, x_j\\right>$$"
   ]
  },
  {
   "cell_type": "markdown",
   "metadata": {},
   "source": [
    "$\\operatorname{Maximize}: Q(\\alpha)=\\sum_{i} \\alpha_{i}-\\frac{1}{2} \\sum_{i} \\sum_{j} \\alpha_{i} \\alpha_{j} y_{i} y_{j} G[i, j]$\n",
    "$$\n",
    "\n",
    "\\begin{gathered}\\text{Subject to : }\n",
    "\\sum_{i} \\alpha_{i} y_{i}=0 \\\\\n",
    "\\text{where  : }\\alpha_{i} \\geq 0\n",
    "\\end{gathered}\n",
    "$$\n",
    "Where G represents the Gram Matrix and is defined by $: G[i, j]=\\left\\langle x_{i}, x_{j}\\right\\rangle$\n"
   ]
  },
  {
   "cell_type": "code",
   "execution_count": 146,
   "metadata": {},
   "outputs": [],
   "source": [
    "import numpy as np \n",
    "\n"
   ]
  },
  {
   "cell_type": "code",
   "execution_count": 147,
   "metadata": {},
   "outputs": [],
   "source": [
    "from cvxopt.solvers import qp\n",
    "from cvxopt import matrix\n",
    "EPS= 1e-5\n",
    "\n",
    "class myOwnHardSVM:\n",
    "    def init(self):\n",
    "        pass\n",
    "    \n",
    "    def computegram(self,data):\n",
    "        return data @ data.T\n",
    "\n",
    "    def fit(self, DataTrain, labels):\n",
    "        N= len(DataTrain)\n",
    "        print(N)\n",
    "        labels = np.atleast_2d(labels).T\n",
    "        # label should be a column vector\n",
    "        Gram = self.computegram(DataTrain)\n",
    "        P = matrix((labels @ labels.T) * Gram, size=(N,N),tc= 'd')\n",
    "        q = matrix(-np.ones((N,1)),size = (N,1),tc= 'd')\n",
    "        G = matrix(-np.eye(N), size=(N,N),tc= 'd')\n",
    "        h = matrix(np.zeros((N,1)),size=(N,1),tc= 'd')\n",
    "        A = matrix(labels.T, size=(1,N),tc= 'd')\n",
    "        b = matrix(np.zeros((1,1)), size=(1,1),tc= 'd')\n",
    "        res= qp(P, q, G, h, A, b)\n",
    "\n",
    "        self.indSV = np.where(np.array(res[\"x\"],dtype=\"double\").reshape(-1)>=EPS)[0]\n",
    "        self.alphas = np.atleast_2d(np.array(res[\"x\"],dtype=\"double\").reshape(-1)[self.indSV]).T\n",
    "        self.SV =DataTrain[self.indSV,:]\n",
    "        self.SVlabels = labels[self.indSV]\n",
    "        self.b =np.mean(self.SVlabels -  self.computegram(self.SV) @ (self.alphas * self.SVlabels))\n",
    "        self.W =((self.alphas * self.SVlabels).T @ self.SV).T\n",
    "        return res\n",
    "\n",
    "    def computegram2(self,data1,data2):\n",
    "        return data1 @ data2.T\n",
    "\n",
    "    def decision_function(self, data):\n",
    "        #return  self.W.T @ data.T + self.b # First Solution\n",
    "        return self.computegram2(data,self.SV) @ (self.alphas * self.SVlabels) + self.b\n",
    "\n",
    "    def predict(self, data):\n",
    "        return  np.sign(self.decision_function(data))"
   ]
  },
  {
   "cell_type": "markdown",
   "metadata": {},
   "source": [
    "- Test your myOwnHardSVM class on this simple dataset $\\left\\{\\left(1; -1\\right), \\left(2; +1\\right), \\left(3; +1\\right)\\right\\}$. Did you obtain a coherent results"
   ]
  },
  {
   "cell_type": "code",
   "execution_count": 148,
   "metadata": {},
   "outputs": [
    {
     "name": "stdout",
     "output_type": "stream",
     "text": [
      "3\n",
      "     pcost       dcost       gap    pres   dres\n",
      " 0: -1.1111e+00 -2.4444e+00  5e+00  2e+00  2e+00\n",
      " 1: -2.0801e+00 -2.0579e+00  1e-01  1e-01  1e-01\n",
      " 2: -2.0000e+00 -2.0008e+00  2e-03  9e-04  9e-04\n",
      " 3: -2.0000e+00 -2.0000e+00  2e-05  9e-06  9e-06\n",
      " 4: -2.0000e+00 -2.0000e+00  2e-07  9e-08  9e-08\n",
      "Optimal solution found.\n",
      "[[4.4408921e-16]]\n"
     ]
    }
   ],
   "source": [
    "data = np.array([[1],[2],[3]])\n",
    "labels= np.array([-1,1,1])\n",
    "model = myOwnHardSVM()\n",
    "res= model.fit(data,labels)\n",
    "print(model.decision_function(np.array([[1.5]])))"
   ]
  },
  {
   "cell_type": "code",
   "execution_count": null,
   "metadata": {},
   "outputs": [],
   "source": []
  },
  {
   "cell_type": "markdown",
   "metadata": {},
   "source": [
    "- Generate a tiny 2D linearly separable 2 classes problem and test your myOwnHardSVM. Plot the boundary and check your result. Try to adapt the function plot_boundary to show the margin and the support vector."
   ]
  },
  {
   "cell_type": "code",
   "execution_count": 149,
   "metadata": {},
   "outputs": [],
   "source": [
    "import matplotlib.pyplot as plt\n",
    "from matplotlib import cm\n",
    "from matplotlib.colors import LinearSegmentedColormap\n",
    "\n",
    "%matplotlib inline\n",
    "\n",
    "MARKERS = ['+', 'x', '.']\n",
    "COLORS = ['red', 'green', 'blue']\n",
    "\n",
    "def plot_points(xy, labels):\n",
    "    \n",
    "    for i, label in enumerate(set(labels)):\n",
    "        points = np.array([xy[j,:] for j in range(len(xy)) if labels[j] == label])\n",
    "        marker = MARKERS[i % len(MARKERS)]\n",
    "        color = COLORS[i % len(COLORS)]\n",
    "        plt.scatter(points[:,0], points[:,1],marker=marker, color=color)\n",
    "\n",
    "def plot_boundary(X, pred):\n",
    "    \n",
    "    x_min, x_max = X[:,0].min() - .1, X[:,0].max() + .1\n",
    "    y_min, y_max = X[:,1].min() - .1, X[:,1].max() + .1\n",
    "    xs, ys = np.meshgrid(\n",
    "        np.linspace(x_min, x_max, 200),\n",
    "        np.linspace(y_min, y_max, 200)\n",
    "    )\n",
    "\n",
    "    xys = np.column_stack([xs.ravel(), ys.ravel()])\n",
    "    zs = pred(xys).reshape(xs.shape)\n",
    "    plt.contour(xs, ys, zs, colors='black')"
   ]
  },
  {
   "cell_type": "code",
   "execution_count": 150,
   "metadata": {},
   "outputs": [
    {
     "data": {
      "text/plain": [
       "Ellipsis"
      ]
     },
     "execution_count": 150,
     "metadata": {},
     "output_type": "execute_result"
    }
   ],
   "source": [
    "..."
   ]
  },
  {
   "cell_type": "markdown",
   "metadata": {},
   "source": [
    "- Try now your myOwnHardSVM with a training dataset which is not linearly separable, what did you remark?"
   ]
  },
  {
   "cell_type": "code",
   "execution_count": null,
   "metadata": {},
   "outputs": [],
   "source": []
  },
  {
   "cell_type": "markdown",
   "metadata": {},
   "source": [
    "2- We try now to implement the sof margin SVM class"
   ]
  },
  {
   "cell_type": "code",
   "execution_count": 151,
   "metadata": {},
   "outputs": [],
   "source": [
    "class myOwnSoftSVM(myOwnHardSVM):\n",
    "    \n",
    "    def init(self, C=1.):\n",
    "        pass\n",
    "    \n",
    "    ..."
   ]
  },
  {
   "cell_type": "markdown",
   "metadata": {},
   "source": [
    "- Test your myOwnSoftSVM class on your previous training dataset which is not linearly separable."
   ]
  },
  {
   "cell_type": "code",
   "execution_count": null,
   "metadata": {},
   "outputs": [],
   "source": []
  },
  {
   "cell_type": "markdown",
   "metadata": {},
   "source": [
    "# Part 2: Wine dataset and sklearn.svm.svc class\n",
    "\n",
    "## Loading and Plotting Data\n",
    " \n",
    "First, we will use only two features from the data set: alcohol and ash (We can plot the solution in 2D space). The labels are supplied as an array of data with values from 1 to 3, but at first, we want a simple binary regression problem with a yes or no answer.  \n",
    "\n",
    "We filter the data set, reducing it to only include wines with labels 1 or 2.  "
   ]
  },
  {
   "cell_type": "code",
   "execution_count": 152,
   "metadata": {},
   "outputs": [],
   "source": [
    "import pandas as pd\n",
    "import numpy as np\n",
    "from sklearn.preprocessing import label_binarize\n",
    "\n",
    "data = pd.read_csv('data.txt')\n",
    "\n",
    "reduced = data[data['class'] <= 2]\n",
    "X = reduced[['alcohol', 'ash']].to_numpy()\n",
    "y = label_binarize(reduced['class'].values, classes=[1, 2])[:,0]"
   ]
  },
  {
   "cell_type": "code",
   "execution_count": 153,
   "metadata": {},
   "outputs": [
    {
     "name": "stdout",
     "output_type": "stream",
     "text": [
      "train: 97 test: 33\n"
     ]
    }
   ],
   "source": [
    "from sklearn.model_selection import train_test_split\n",
    "\n",
    "Xtrain, Xtest, ytrain, ytest = train_test_split(X, y, test_size=0.25, random_state = 42)\n",
    "print('train:', len(Xtrain), 'test:', len(Xtest))"
   ]
  },
  {
   "cell_type": "code",
   "execution_count": 154,
   "metadata": {},
   "outputs": [
    {
     "data": {
      "image/png": "[encoded data removed]",
      "text/plain": [
       "<Figure size 432x288 with 1 Axes>"
      ]
     },
     "metadata": {
      "needs_background": "light"
     },
     "output_type": "display_data"
    }
   ],
   "source": [
    "plot_points(X, y)"
   ]
  },
  {
   "cell_type": "markdown",
   "metadata": {},
   "source": [
    "We can see that we can plot line that could divide the two colored points with a small amount of error.\n",
    "\n",
    "# Linear SVM\n",
    "\n",
    "- Using SVC class of sklearn.svm train a linear SVM"
   ]
  },
  {
   "cell_type": "code",
   "execution_count": 155,
   "metadata": {},
   "outputs": [
    {
     "data": {
      "text/plain": [
       "SVC(C=1, gamma='auto', kernel='linear')"
      ]
     },
     "execution_count": 155,
     "metadata": {},
     "output_type": "execute_result"
    }
   ],
   "source": [
    "from sklearn.svm import SVC\n",
    "\n",
    "svc = SVC(kernel=\"linear\",gamma='auto', C=1)\n",
    "svc.fit(Xtrain, ytrain)"
   ]
  },
  {
   "cell_type": "markdown",
   "metadata": {},
   "source": [
    "- print the dual parameters $\\alpha$"
   ]
  },
  {
   "cell_type": "code",
   "execution_count": 156,
   "metadata": {},
   "outputs": [
    {
     "name": "stdout",
     "output_type": "stream",
     "text": [
      "[[1.         0.41341938 1.         1.         1.         1.\n",
      "  1.         1.         1.         0.01028609 1.         1.\n",
      "  1.         1.         1.         1.         1.         1.\n",
      "  1.         1.         0.42370547 1.         1.         1.\n",
      "  1.         1.         1.         1.         1.        ]]\n"
     ]
    }
   ],
   "source": [
    "alphas = np.abs(svc.dual_coef_)\n",
    "print(alphas)"
   ]
  },
  {
   "cell_type": "markdown",
   "metadata": {},
   "source": [
    "- Plot the linear separator, show the margin and the support vector. "
   ]
  },
  {
   "cell_type": "code",
   "execution_count": 157,
   "metadata": {},
   "outputs": [
    {
     "name": "stderr",
     "output_type": "stream",
     "text": [
      "/var/folders/kq/4phtjsxn40794zp8lvjfsccw0000gn/T/ipykernel_65689/2884233021.py:15: UserWarning: No contour levels were found within the data range.\n",
      "  plt.contour(xx, yy, z,\n"
     ]
    },
    {
     "data": {
      "image/png": "[encoded data removed]",
      "text/plain": [
       "<Figure size 432x288 with 1 Axes>"
      ]
     },
     "metadata": {
      "needs_background": "light"
     },
     "output_type": "display_data"
    }
   ],
   "source": [
    "def plot_svm(X,y,model):\n",
    "        decision_function = model.decision_function(X)\n",
    "        support_vector_indices = np.where(np.abs(decision_function) <= 1 +0.000000000000001)[0]\n",
    "        support_vectors = X[support_vector_indices]\n",
    "\n",
    "        x_min, x_max = X[:, 0].min() - 1, X[:, 0].max() + 1\n",
    "        y_min, y_max = X[:, 1].min() - 1, X[:, 1].max() + 1\n",
    "\n",
    "        xx, yy =  np.meshgrid(\n",
    "                np.linspace(x_min, x_max, 200),\n",
    "                np.linspace(y_min, y_max, 200)\n",
    "        )\n",
    "        z = model.predict(np.c_[xx.ravel(), yy.ravel()])\n",
    "        z = z.reshape(xx.shape)\n",
    "        plt.contour(xx, yy, z,\n",
    "                colors=\"k\",\n",
    "                levels=[-1, 0, 1],\n",
    "                alpha=0.5,\n",
    "                linestyles=[\"--\", \"-\", \"--\"]\n",
    "                )\n",
    "        plot_points(X, y)\n",
    "       \n",
    "plot_svm(Xtest,ytest,svc)"
   ]
  },
  {
   "cell_type": "code",
   "execution_count": 158,
   "metadata": {},
   "outputs": [
    {
     "name": "stderr",
     "output_type": "stream",
     "text": [
      "/var/folders/kq/4phtjsxn40794zp8lvjfsccw0000gn/T/ipykernel_65689/2884233021.py:15: UserWarning: No contour levels were found within the data range.\n",
      "  plt.contour(xx, yy, z,\n"
     ]
    },
    {
     "data": {
      "image/png": "[encoded data removed]",
      "text/plain": [
       "<Figure size 432x288 with 1 Axes>"
      ]
     },
     "metadata": {
      "needs_background": "light"
     },
     "output_type": "display_data"
    }
   ],
   "source": [
    "plot_svm(Xtrain,ytrain,svc)\n",
    "plt.margins(x=0,y=-0.2)"
   ]
  },
  {
   "cell_type": "markdown",
   "metadata": {},
   "source": [
    "- Which training examples are misclassified? compute the slack variables $\\zeta_i$ for these samples"
   ]
  },
  {
   "cell_type": "markdown",
   "metadata": {},
   "source": [
    "- Compute the confusion matrix, the accuray, the precision and the recall on the test data? "
   ]
  },
  {
   "cell_type": "code",
   "execution_count": 159,
   "metadata": {},
   "outputs": [
    {
     "name": "stdout",
     "output_type": "stream",
     "text": [
      "confusion_matrix\n",
      "\n",
      "[[18  0]\n",
      " [ 0 15]] \n",
      "\n",
      "Accuracy_Score : 1.0\n",
      "\n",
      "\n",
      "Precision_Scoree : 1.0\n"
     ]
    }
   ],
   "source": [
    "from sklearn.metrics import confusion_matrix,accuracy_score,precision_score,recall_score\n",
    "\n",
    "predicted_label = svc.predict(Xtest)\n",
    "confusion_matrix= confusion_matrix(ytest,predicted_label)\n",
    "Accuracy_Score = accuracy_score(ytest, predicted_label)\n",
    "Precision_Score = precision_score(ytest, predicted_label,  average=\"macro\")\n",
    "Recall_Score = recall_score(ytest, predicted_label,  average=\"macro\")\n",
    "\n",
    "print(\"confusion_matrix\\n\") \n",
    "print(confusion_matrix,\"\\n\\nAccuracy_Score :\",Accuracy_Score)\n",
    "print(\"\\n\\nPrecision_Scoree :\",Precision_Score)\n"
   ]
  },
  {
   "cell_type": "markdown",
   "metadata": {},
   "source": [
    "- Compute the accuray, the precision, the recall and the confusion matrix of your classifieur? what did you conclude? "
   ]
  },
  {
   "cell_type": "code",
   "execution_count": 160,
   "metadata": {},
   "outputs": [
    {
     "name": "stdout",
     "output_type": "stream",
     "text": [
      "confusion_matrix\n",
      "\n",
      "[[36  5]\n",
      " [ 5 51]] \n",
      "\n",
      "Accuracy_Score : 0.8969072164948454\n",
      "\n",
      "\n",
      "Precision_Scoree : 0.8943815331010453\n"
     ]
    }
   ],
   "source": [
    "from sklearn.metrics import confusion_matrix, plot_confusion_matrix, accuracy_score, precision_score, recall_score\n",
    "\n",
    "predicted_label = svc.predict(Xtrain)\n",
    "confusion_matrix= confusion_matrix(ytrain,predicted_label)\n",
    "Accuracy_Score = accuracy_score(ytrain, predicted_label)\n",
    "Precision_Score = precision_score(ytrain, predicted_label,  average=\"macro\")\n",
    "Recall_Score = recall_score(ytrain, predicted_label,  average=\"macro\")\n",
    "\n",
    "print(\"confusion_matrix\\n\") \n",
    "print(confusion_matrix,\"\\n\\nAccuracy_Score :\",Accuracy_Score)\n",
    "print(\"\\n\\nPrecision_Scoree :\",Precision_Score)"
   ]
  },
  {
   "cell_type": "markdown",
   "metadata": {},
   "source": [
    "# Multiclass SVM\n",
    "\n",
    "The next step is something more interesting: we use a similar set of two features from the data set (this time alcohol and flavanoids), but with all three labels instead of two."
   ]
  },
  {
   "cell_type": "code",
   "execution_count": 161,
   "metadata": {},
   "outputs": [
    {
     "data": {
      "image/png": "[encoded data removed]",
      "text/plain": [
       "<Figure size 432x288 with 1 Axes>"
      ]
     },
     "metadata": {
      "needs_background": "light"
     },
     "output_type": "display_data"
    }
   ],
   "source": [
    "X = data[['alcohol', 'flavanoids']].to_numpy()\n",
    "y = data['class'].to_numpy()\n",
    "Xtrain, Xtest, ytrain, ytest = train_test_split(X, y, test_size=0.25, random_state = 42)\n",
    "\n",
    "plot_points(Xtrain, ytrain)\n",
    "\n",
    "from sklearn.preprocessing import StandardScaler\n",
    "scaler = StandardScaler()\n",
    "X_train, X_test, y_train, y_test = train_test_split(X, y, test_size=0.3, random_state=42)\n",
    "X_train = scaler.fit_transform(X_train)\n",
    "X_test = scaler.transform(X_test)\n"
   ]
  },
  {
   "cell_type": "markdown",
   "metadata": {},
   "source": [
    "The plotted data points again suggest some obvious linear boundaries between the three classes.\n",
    "\n",
    "\n",
    "- Train and Test a linear SVM using the method one against rest"
   ]
  },
  {
   "cell_type": "code",
   "execution_count": 162,
   "metadata": {},
   "outputs": [],
   "source": [
    "from sklearn.svm import LinearSVC\n",
    "from sklearn.multiclass import OneVsRestClassifier\n",
    "\n",
    "\n",
    "Lsvc = LinearSVC(max_iter=10000)\n",
    "o_vs_r = OneVsRestClassifier(Lsvc)\n",
    "o_vs_r.fit(Xtrain, ytrain)\n",
    "ypred = o_vs_r.predict(Xtest)\n"
   ]
  },
  {
   "cell_type": "markdown",
   "metadata": {},
   "source": [
    "- Train and Test a linear SVM using the method one against one"
   ]
  },
  {
   "cell_type": "code",
   "execution_count": 163,
   "metadata": {},
   "outputs": [
    {
     "name": "stderr",
     "output_type": "stream",
     "text": [
      "/Users/ibrahim/miniforge3/envs/ml/lib/python3.9/site-packages/sklearn/svm/_base.py:1206: ConvergenceWarning: Liblinear failed to converge, increase the number of iterations.\n",
      "  warnings.warn(\n"
     ]
    }
   ],
   "source": [
    "from sklearn.svm import LinearSVC\n",
    "from sklearn.multiclass import OneVsOneClassifier\n",
    "\n",
    "Lsvc = LinearSVC(max_iter=5000)\n",
    "o_vs_o = OneVsOneClassifier(Lsvc)\n",
    "o_vs_o.fit(Xtrain, ytrain)\n",
    "ypred = o_vs_o.predict(Xtest)"
   ]
  },
  {
   "cell_type": "markdown",
   "metadata": {},
   "source": [
    "- compare the result of the two methods?"
   ]
  },
  {
   "cell_type": "code",
   "execution_count": 164,
   "metadata": {},
   "outputs": [
    {
     "name": "stderr",
     "output_type": "stream",
     "text": [
      "/var/folders/kq/4phtjsxn40794zp8lvjfsccw0000gn/T/ipykernel_65689/2884233021.py:15: UserWarning: No contour levels were found within the data range.\n",
      "  plt.contour(xx, yy, z,\n"
     ]
    },
    {
     "data": {
      "image/png": "[encoded data removed]",
      "text/plain": [
       "<Figure size 432x288 with 1 Axes>"
      ]
     },
     "metadata": {
      "needs_background": "light"
     },
     "output_type": "display_data"
    }
   ],
   "source": [
    "plot_svm(Xtest,ytest,o_vs_r)"
   ]
  },
  {
   "cell_type": "code",
   "execution_count": 165,
   "metadata": {},
   "outputs": [
    {
     "name": "stderr",
     "output_type": "stream",
     "text": [
      "/var/folders/kq/4phtjsxn40794zp8lvjfsccw0000gn/T/ipykernel_65689/2884233021.py:15: UserWarning: No contour levels were found within the data range.\n",
      "  plt.contour(xx, yy, z,\n"
     ]
    },
    {
     "data": {
      "image/png": "[encoded data removed]",
      "text/plain": [
       "<Figure size 432x288 with 1 Axes>"
      ]
     },
     "metadata": {
      "needs_background": "light"
     },
     "output_type": "display_data"
    }
   ],
   "source": [
    "plot_svm(Xtest,ytest,o_vs_o)"
   ]
  },
  {
   "cell_type": "markdown",
   "metadata": {},
   "source": [
    "# Practice\n",
    "\n",
    "Next, we want to include all the features from the data set.  "
   ]
  },
  {
   "cell_type": "code",
   "execution_count": 166,
   "metadata": {},
   "outputs": [
    {
     "name": "stderr",
     "output_type": "stream",
     "text": [
      "/var/folders/kq/4phtjsxn40794zp8lvjfsccw0000gn/T/ipykernel_65689/1586929881.py:1: FutureWarning: In a future version of pandas all arguments of DataFrame.drop except for the argument 'labels' will be keyword-only.\n",
      "  X = data.drop('class', 1).to_numpy()\n"
     ]
    },
    {
     "data": {
      "image/png": "[encoded data removed]",
      "text/plain": [
       "<Figure size 432x288 with 1 Axes>"
      ]
     },
     "metadata": {
      "needs_background": "light"
     },
     "output_type": "display_data"
    }
   ],
   "source": [
    "X = data.drop('class', 1).to_numpy()\n",
    "y = data['class'].to_numpy()\n",
    "Xtrain, Xtest, ytrain, ytest = train_test_split(X, y, test_size=0.25, random_state = 42)\n",
    "plot_points(Xtrain, ytrain)"
   ]
  },
  {
   "cell_type": "markdown",
   "metadata": {},
   "source": [
    "Because we are now significantly increasing the number of features, since we have few training example we need to prevent overfitting.\n",
    "\n",
    "- Train and test a SVM classifier solution in this case"
   ]
  },
  {
   "cell_type": "code",
   "execution_count": 167,
   "metadata": {},
   "outputs": [
    {
     "data": {
      "text/plain": [
       "SVC(kernel='linear')"
      ]
     },
     "execution_count": 167,
     "metadata": {},
     "output_type": "execute_result"
    }
   ],
   "source": [
    "from sklearn.svm import SVC\n",
    "clf = SVC(kernel=\"linear\")\n",
    "clf.fit(Xtrain, ytrain)"
   ]
  },
  {
   "cell_type": "code",
   "execution_count": 168,
   "metadata": {},
   "outputs": [],
   "source": [
    "redicted_label = clf.predict(Xtest)"
   ]
  },
  {
   "cell_type": "code",
   "execution_count": 169,
   "metadata": {},
   "outputs": [
    {
     "data": {
      "image/png": "[encoded data removed]",
      "text/plain": [
       "<Figure size 432x288 with 1 Axes>"
      ]
     },
     "metadata": {
      "needs_background": "light"
     },
     "output_type": "display_data"
    }
   ],
   "source": [
    "def f_importances(coef, names):\n",
    "    imp = coef\n",
    "    imp,names = zip(*sorted(zip(imp,names)))\n",
    "    plt.barh(range(len(names)), imp, align='center')\n",
    "    plt.yticks(range(len(names)), names)\n",
    "    plt.show()\n",
    "\n",
    "f_importances(clf.coef_[0], ['class', 'alcohol', 'malic_acid', 'ash', 'alcalinity', 'magnesium',\n",
    "       'total_phenols', 'flavanoids', 'nonflavanoid_phenols',\n",
    "       'proanthocyanins', 'color', 'hue', 'od', 'proline'])"
   ]
  },
  {
   "cell_type": "markdown",
   "metadata": {},
   "source": [
    "- Conclude, What is your remarks about overfitting and generalisation compared to the previous results?"
   ]
  },
  {
   "cell_type": "code",
   "execution_count": 170,
   "metadata": {},
   "outputs": [
    {
     "name": "stdout",
     "output_type": "stream",
     "text": [
      "confusion_matrix\n",
      "\n",
      "[[44  0  0]\n",
      " [ 0 52  1]\n",
      " [ 0  0 36]] \n",
      "\n",
      "Accuracy_Score : 0.9924812030075187\n",
      "\n",
      "\n",
      "Precision_Scoree : 0.990990990990991\n"
     ]
    }
   ],
   "source": [
    "from sklearn.metrics import confusion_matrix, plot_confusion_matrix, accuracy_score, precision_score, recall_score\n",
    "\n",
    "predicted_label = clf.predict(Xtrain)\n",
    "confusion_matrix= confusion_matrix(ytrain,predicted_label)\n",
    "Accuracy_Score = accuracy_score(ytrain, predicted_label)\n",
    "Precision_Score = precision_score(ytrain, predicted_label,  average=\"macro\")\n",
    "Recall_Score = recall_score(ytrain, predicted_label,  average=\"macro\")\n",
    "\n",
    "print(\"confusion_matrix\\n\") \n",
    "print(confusion_matrix,\"\\n\\nAccuracy_Score :\",Accuracy_Score)\n",
    "print(\"\\n\\nPrecision_Scoree :\",Precision_Score)"
   ]
  },
  {
   "cell_type": "code",
   "execution_count": 171,
   "metadata": {},
   "outputs": [
    {
     "name": "stdout",
     "output_type": "stream",
     "text": [
      "confusion_matrix\n",
      "\n",
      "[[15  0  0]\n",
      " [ 0 17  1]\n",
      " [ 0  0 12]] \n",
      "\n",
      "Accuracy_Score : 0.9777777777777777\n",
      "\n",
      "\n",
      "Precision_Scoree : 0.9743589743589745\n"
     ]
    }
   ],
   "source": [
    "from sklearn.metrics import confusion_matrix,accuracy_score,precision_score,recall_score\n",
    "\n",
    "predicted_label = clf.predict(Xtest)\n",
    "confusion_matrix= confusion_matrix(ytest,predicted_label)\n",
    "Accuracy_Score = accuracy_score(ytest, predicted_label)\n",
    "Precision_Score = precision_score(ytest, predicted_label,  average=\"macro\")\n",
    "Recall_Score = recall_score(ytest, predicted_label,  average=\"macro\")\n",
    "\n",
    "print(\"confusion_matrix\\n\") \n",
    "print(confusion_matrix,\"\\n\\nAccuracy_Score :\",Accuracy_Score)\n",
    "print(\"\\n\\nPrecision_Scoree :\",Precision_Score)"
   ]
  },
  {
   "cell_type": "code",
   "execution_count": 172,
   "metadata": {},
   "outputs": [],
   "source": [
    "from sklearn.preprocessing import StandardScaler\n",
    "scaler = StandardScaler()\n",
    "X_train, X_test, y_train, y_test = train_test_split(X, y, test_size=0.3, random_state=42)\n",
    "X_train = scaler.fit_transform(X_train)\n",
    "X_test = scaler.transform(X_test)"
   ]
  },
  {
   "cell_type": "code",
   "execution_count": 173,
   "metadata": {},
   "outputs": [],
   "source": [
    "from sklearn.decomposition import PCA\n",
    "pca = PCA(n_components=2)\n",
    "scaler = StandardScaler()\n",
    "\n",
    "X_train = pca.fit_transform(X_train)\n",
    "X_test = pca.transform(X_test)\n",
    "\n",
    "X_train = scaler.fit_transform(X_train)\n",
    "X_test = scaler.transform(X_test)"
   ]
  },
  {
   "cell_type": "code",
   "execution_count": 174,
   "metadata": {},
   "outputs": [
    {
     "data": {
      "text/plain": [
       "SVC(C=0.1, gamma=0.8)"
      ]
     },
     "execution_count": 174,
     "metadata": {},
     "output_type": "execute_result"
    }
   ],
   "source": [
    "from sklearn.svm import SVC\n",
    "clf = SVC(kernel=\"rbf\", gamma=0.8, C=0.1)\n",
    "clf.fit(X_train, y_train)"
   ]
  },
  {
   "cell_type": "code",
   "execution_count": 175,
   "metadata": {},
   "outputs": [
    {
     "name": "stderr",
     "output_type": "stream",
     "text": [
      "/var/folders/kq/4phtjsxn40794zp8lvjfsccw0000gn/T/ipykernel_65689/2884233021.py:15: UserWarning: No contour levels were found within the data range.\n",
      "  plt.contour(xx, yy, z,\n"
     ]
    },
    {
     "data": {
      "image/png": "[encoded data removed]",
      "text/plain": [
       "<Figure size 576x432 with 1 Axes>"
      ]
     },
     "metadata": {
      "needs_background": "light"
     },
     "output_type": "display_data"
    }
   ],
   "source": [
    "plt.figure(figsize=(8,6))\n",
    "plt.scatter(X_test[:,0],X_test[:,1],c=y_test,cmap='plasma')\n",
    "plt.xlabel('First principal component')\n",
    "plt.ylabel('Second Principal Component')\n",
    "plot_svm(X_test,y_test,clf)"
   ]
  },
  {
   "cell_type": "code",
   "execution_count": 176,
   "metadata": {},
   "outputs": [
    {
     "name": "stdout",
     "output_type": "stream",
     "text": [
      "confusion_matrix\n",
      "\n",
      "[[18  1  0]\n",
      " [ 0 21  0]\n",
      " [ 0  0 14]] \n",
      "\n",
      "Accuracy_Score : 0.9814814814814815\n",
      "\n",
      "\n",
      "Precision_Scoree : 0.9848484848484849\n"
     ]
    }
   ],
   "source": [
    "from sklearn.metrics import confusion_matrix,accuracy_score,precision_score,recall_score\n",
    "\n",
    "predicted_label = clf.predict(X_test)\n",
    "confusion_matrix= confusion_matrix(y_test,predicted_label)\n",
    "Accuracy_Score = accuracy_score(y_test, predicted_label)\n",
    "Precision_Score = precision_score(y_test, predicted_label,  average=\"macro\")\n",
    "Recall_Score = recall_score(y_test, predicted_label,  average=\"macro\")\n",
    "\n",
    "print(\"confusion_matrix\\n\") \n",
    "print(confusion_matrix,\"\\n\\nAccuracy_Score :\",Accuracy_Score)\n",
    "print(\"\\n\\nPrecision_Scoree :\",Precision_Score)"
   ]
  }
 ],
 "metadata": {
  "interpreter": {
   "hash": "4373f270b90ecccfda4fe2a21b65b360181de506de5f9021897b2095593032c4"
  },
  "kernelspec": {
   "display_name": "Python 3.9.10 ('ml')",
   "language": "python",
   "name": "python3"
  },
  "language_info": {
   "codemirror_mode": {
    "name": "ipython",
    "version": 3
   },
   "file_extension": ".py",
   "mimetype": "text/x-python",
   "name": "python",
   "nbconvert_exporter": "python",
   "pygments_lexer": "ipython3",
   "version": "3.9.10"
  }
 },
 "nbformat": 4,
 "nbformat_minor": 2
}
