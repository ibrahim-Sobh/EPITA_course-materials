{
 "cells": [
  {
   "cell_type": "markdown",
   "metadata": {},
   "source": [
    "# <center> Lab 01: Linear Regression, Multiple Regression and Regularised Regression <br> <small>Réda DEHAK<br> 6 january 2020</small> </center>\n",
    "\n",
    "The goal of this lab is :\n",
    "    - Implement a linear regression\n",
    "    - Try different version of the gradient descent algorithm\n",
    "    - Fit generalised linear models with ridge or Lasso regularisations\n",
    "    \n",
    "We will use a data file that contain different measurements of height (variable y) of an individual sample according to the age (variable x)."
   ]
  },
  {
   "cell_type": "markdown",
   "metadata": {},
   "source": [
    "## Import Data"
   ]
  },
  {
   "cell_type": "code",
   "execution_count": 1,
   "metadata": {},
   "outputs": [
    {
     "name": "stdout",
     "output_type": "stream",
     "text": [
      "Using matplotlib backend: <object object at 0x7f83092590f0>\n",
      "%pylab is deprecated, use %matplotlib inline and import the required libraries.\n",
      "Populating the interactive namespace from numpy and matplotlib\n",
      "shape(x) :  (50,)\n",
      "shape(y) :  (50,)\n"
     ]
    },
    {
     "data": {
      "text/plain": [
       "Text(0, 0.5, 'Height')"
      ]
     },
     "execution_count": 1,
     "metadata": {},
     "output_type": "execute_result"
    },
    {
     "data": {
      "image/png": "[encoded data removed]",
      "text/plain": [
       "<Figure size 432x288 with 1 Axes>"
      ]
     },
     "metadata": {
      "needs_background": "light"
     },
     "output_type": "display_data"
    }
   ],
   "source": [
    "%pylab\n",
    "%matplotlib inline\n",
    "import numpy as np\n",
    "import pickle\n",
    "fin = open('data.pkl', 'rb')\n",
    "x = pickle.load(fin)\n",
    "y = pickle.load(fin)\n",
    "fin.close()\n",
    "print(\"shape(x) : \", x.shape)\n",
    "print(\"shape(y) : \", y.shape)\n",
    "import matplotlib.pyplot as plt\n",
    "plt.plot(x, y, 'x')\n",
    "plt.xlabel('Age')\n",
    "plt.ylabel('Height')"
   ]
  },
  {
   "cell_type": "markdown",
   "metadata": {},
   "source": [
    "## Part 1: Linear Regression\n",
    "\n",
    "We will implement a linear regression for this problem, you know that the linear \n",
    "regression assumes that the observed variable $y$ is a linear combination of the \n",
    "vector of observation $x$\n",
    "\n",
    "$$f(x) = x^TA =\\sum_{d=1}^D a_{[d]} x_{[d]}$$\n",
    "with $x_{[D]} = 1$\n",
    "\n",
    "The linear regression consists in finding the parameters $A$ which minimizes the \n",
    "quadratic error:\n",
    "$$E(A) = \\sum_{i=1}^{N}\\left(f(x_i) - y_i\\right)^2$$\n",
    "\n",
    "we will solve this problem using two different methods:\n",
    "\n",
    "**1. Exact solution:**\n",
    "\n",
    "The vector $A$ which minimize $E(A)$ is defined as follow:\n",
    "$$A = (XX^T)^{-1}X Y$$\n",
    "\n",
    "where \n",
    "$$X=\\left[\\begin{matrix}\n",
    "x_1 & x_2 & ... & x_N\\\\\n",
    "1   &  1  & ... &  1\n",
    "\\end{matrix}\\right]$$\n",
    "\n",
    "$$Y=\\left[\\begin{matrix}\n",
    "y_1\\\\\n",
    "y_2\\\\\n",
    "...\\\\\n",
    "y_N\n",
    "\\end{matrix}\\right]$$\n",
    "\n",
    "**a-** Compute the vector $A$ wich minimize $E(A)$?"
   ]
  },
  {
   "cell_type": "code",
   "execution_count": 2,
   "metadata": {},
   "outputs": [
    {
     "name": "stdout",
     "output_type": "stream",
     "text": [
      "[[0.06388117]\n",
      " [0.75016254]]\n"
     ]
    }
   ],
   "source": [
    "X = np.vstack((x, np.ones(len(x))))\n",
    "Y = y.reshape((-1, 1))\n",
    "\n",
    "\n",
    "A = np.linalg.inv(X @ X.T) @ X @ Y\n",
    "print(A)"
   ]
  },
  {
   "cell_type": "markdown",
   "metadata": {},
   "source": [
    "**b-** Plot in the same figure the training data and the straight \n",
    "line corresponding to the obtained $A$?"
   ]
  },
  {
   "cell_type": "code",
   "execution_count": 3,
   "metadata": {},
   "outputs": [
    {
     "data": {
      "text/plain": [
       "Text(0, 0.5, 'Height')"
      ]
     },
     "execution_count": 3,
     "metadata": {},
     "output_type": "execute_result"
    },
    {
     "data": {
      "image/png": "[encoded data removed]",
      "text/plain": [
       "<Figure size 432x288 with 1 Axes>"
      ]
     },
     "metadata": {
      "needs_background": "light"
     },
     "output_type": "display_data"
    }
   ],
   "source": [
    "def predict(A, x):\n",
    "    if(isscalar(x)):\n",
    "        s = 1\n",
    "        X = np.vstack((x, np.ones(s)))\n",
    "        return ((X.T @ A)[0][0])\n",
    "                \n",
    "    s = x.shape[0] \n",
    "    X = np.vstack((x, np.ones(s)))\n",
    "    return (X.T @ A)\n",
    "\n",
    "\n",
    "plt.plot(x, y, 'x', c='blue')\n",
    "pred = predict(A, x)\n",
    "plt.plot(x, pred, c='red')\n",
    "plt.xlabel('Age')\n",
    "plt.ylabel('Height')\n"
   ]
  },
  {
   "cell_type": "markdown",
   "metadata": {},
   "source": [
    "**c-** Predict the height of a person of age 3.5 and that of age 7? "
   ]
  },
  {
   "cell_type": "code",
   "execution_count": 4,
   "metadata": {},
   "outputs": [
    {
     "name": "stdout",
     "output_type": "stream",
     "text": [
      "height(3.5) =  0.9737466173916569\n",
      "height(7) =  1.1973306977820766\n"
     ]
    }
   ],
   "source": [
    "print(\"height(3.5) = \", predict(A, 3.5))\n",
    "print(\"height(7) = \", predict(A, 7))"
   ]
  },
  {
   "cell_type": "markdown",
   "metadata": {},
   "source": [
    "**2. Gradient Descent :**\n",
    "In this part, we will use the gradient descent algorithm (see convex optimization course) to find the best regression parameters. We will use the batch learning. \n",
    "\n",
    "**a-** Give the recurrence formula for $A$ of the algorithm?"
   ]
  },
  {
   "cell_type": "markdown",
   "metadata": {
    "collapsed": true
   },
   "source": [
    "$$ A_n = A_{n-1} - 2\\eta/N (XX^TA - XY)$$"
   ]
  },
  {
   "cell_type": "markdown",
   "metadata": {},
   "source": [
    "**b-** Implement a gradient descent with a learning rate $\\eta = 0.035$ \n",
    "and starting from the origin of the space $A = 0$? Wait until the convergence of the algorithm? (print at each iteration, the number of iteration, the Error and the norm of the gradient)"
   ]
  },
  {
   "cell_type": "code",
   "execution_count": 5,
   "metadata": {},
   "outputs": [
    {
     "name": "stdout",
     "output_type": "stream",
     "text": [
      "Iteration :  1 E =  60.61274201573478  grad norm :  11.064593204634097\n",
      "Iteration :  2 E =  50.13969182077156  grad norm :  10.669994449028952\n",
      "Iteration :  3 E =  53.39848462322627  grad norm :  10.28947178222644\n",
      "Iteration :  4 E =  43.888094184641176  grad norm :  9.922523158606626\n",
      "Iteration :  5 E =  47.131239098595685  grad norm :  9.568664440433814\n",
      "Iteration :  6 E =  38.484821626523924  grad norm :  9.227428759121066\n",
      "Iteration :  7 E =  41.684369110232545  grad norm :  8.898365899277765\n",
      "Iteration :  8 E =  33.8143830371425  grad norm :  8.58104170472765\n",
      "Iteration :  9 E =  36.94827605618666  grad norm :  8.275037505713607\n",
      "Iteration :  10 E =  29.776971895034727  grad norm :  7.979949566533584\n",
      "Iteration :  11 E =  32.82810090879341  grad norm :  7.695388552878825\n",
      "Iteration :  12 E =  26.286340303922312  grad norm :  7.420979018171716\n",
      "Iteration :  13 E =  29.241736427266584  grad norm :  7.156358908225533\n",
      "Iteration :  14 E =  23.267960869195935  grad norm :  6.901179083572599\n",
      "Iteration :  15 E =  26.11810779716541  grad norm :  6.655102858830632\n",
      "Iteration :  16 E =  20.657437465884588  grad norm :  6.417805558499571\n",
      "Iteration :  17 E =  23.3956854250594  grad norm :  6.188974088602823\n",
      "Iteration :  18 E =  18.399131218820745  grad norm :  5.968306523607796\n",
      "Iteration :  19 E =  21.021198519636705  grad norm :  5.755511708080724\n",
      "Iteration :  20 E =  16.444972571539214  grad norm :  5.5503088725502385\n",
      "Iteration :  21 E =  18.948522330574562  grad norm :  5.352427263072894\n",
      "Iteration :  22 E =  14.753434260114624  grad norm :  5.161605784011888\n",
      "Iteration :  23 E =  17.13771558332736  grad norm :  4.977592653557744\n",
      "Iteration :  24 E =  13.288643414972851  grad norm :  4.800145071536401\n",
      "Iteration :  25 E =  15.554187819102824  grad norm :  4.629028899066488\n",
      "Iteration :  26 E =  12.019613959766804  grad norm :  4.464018349643127\n",
      "Iteration :  27 E =  14.167979091707156  grad norm :  4.3048956912406835\n",
      "Iteration :  28 E =  10.919583023998127  grad norm :  4.1514509590414574\n",
      "Iteration :  29 E =  12.953136844612972  grad norm :  4.0034816784112985\n",
      "Iteration :  30 E =  9.965437289082471  grad norm :  3.860792597756637\n",
      "Iteration :  31 E =  11.887176842663202  grad norm :  3.7231954309104847\n",
      "Iteration :  32 E =  9.137217092595423  grad norm :  3.590508608707523\n",
      "Iteration :  33 E =  10.950616806616184  grad norm :  3.462557039420513\n",
      "Iteration :  34 E =  8.41768776279885  grad norm :  3.3391718777419417\n",
      "Iteration :  35 E =  10.126572932750976  grad norm :  3.2201903020061153\n",
      "Iteration :  36 E =  7.79196908008074  grad norm :  3.1054552993577786\n",
      "Iteration :  37 E =  9.400410806403125  grad norm :  2.9948154585837785\n",
      "Iteration :  38 E =  7.247214993782619  grad norm :  2.8881247703344837\n",
      "Iteration :  39 E =  8.75944336562627  grad norm :  2.7852424344713302\n",
      "Iteration :  40 E =  6.772336788097335  grad norm :  2.6860326742863117\n",
      "Iteration :  41 E =  8.192669563416946  grad norm :  2.5903645573483094\n",
      "Iteration :  42 E =  6.357763811833102  grad norm :  2.498111822739855\n",
      "Iteration :  43 E =  7.690548235066043  grad norm :  2.409152714456386\n",
      "Iteration :  44 E =  5.995236683346137  grad norm :  2.3233698207481637\n",
      "Iteration :  45 E =  7.2448024193411955  grad norm :  2.240649919192885\n",
      "Iteration :  46 E =  5.677628570696903  grad norm :  2.160883827294517\n",
      "Iteration :  47 E =  6.848250024040434  grad norm :  2.083966258411267\n",
      "Iteration :  48 E =  5.398790742657693  grad norm :  2.009795682822552\n",
      "Iteration :  49 E =  6.494657281548452  grad norm :  1.938274193751633\n",
      "Iteration :  50 E =  5.153419101195869  grad norm :  1.8693073781671379\n",
      "Iteration :  51 E =  6.178611920099501  grad norm :  1.802804192192956\n",
      "Iteration :  52 E =  4.936938851375251  grad norm :  1.7386768409620998\n",
      "Iteration :  53 E =  5.8954133916461515  grad norm :  1.6768406627559889\n",
      "Iteration :  54 E =  4.745404849683198  grad norm :  1.617214017276224\n",
      "Iteration :  55 E =  5.640977856321534  grad norm :  1.559718177901414\n",
      "Iteration :  56 E =  4.575415504752733  grad norm :  1.5042772277868592\n",
      "Iteration :  57 E =  5.411755934047768  grad norm :  1.4508179596699438\n",
      "Iteration :  58 E =  4.424038392355731  grad norm :  1.3992697792489779\n",
      "Iteration :  59 E =  5.204661502445081  grad norm :  1.349564612007972\n",
      "Iteration :  60 E =  4.288745995488705  grad norm :  1.3016368133643368\n",
      "Iteration :  61 E =  5.017010052505575  grad norm :  1.2554230820208723\n",
      "Iteration :  62 E =  4.167360195628504  grad norm :  1.210862376407687\n",
      "Iteration :  63 E =  4.846465314419341  grad norm :  1.1678958341036827\n",
      "Iteration :  64 E =  4.0580043273578505  grad norm :  1.126466694131226\n",
      "Iteration :  65 E =  4.690993039719866  grad norm :  1.0865202220214059\n",
      "Iteration :  66 E =  3.9590617694918446  grad norm :  1.048003637550877\n",
      "Iteration :  67 E =  4.548820976219988  grad norm :  1.0108660450548692\n",
      "Iteration :  68 E =  3.8691401849843405  grad norm :  0.9750583662242971\n",
      "Iteration :  69 E =  4.418404202210613  grad norm :  0.9405332752981906\n",
      "Iteration :  70 E =  3.787040642204429  grad norm :  0.9072451365658073\n",
      "Iteration :  71 E =  4.298395098837392  grad norm :  0.8751499440958379\n",
      "Iteration :  72 E =  3.711730954196855  grad norm :  0.8442052636130315\n",
      "Iteration :  73 E =  4.187617336826911  grad norm :  0.8143701764454186\n",
      "Iteration :  74 E =  3.6423226624796574  grad norm :  0.7856052254680028\n",
      "Iteration :  75 E =  4.085043337857005  grad norm :  0.7578723629714326\n",
      "Iteration :  76 E =  3.5780511696936856  grad norm :  0.7311349003866833\n",
      "Iteration :  77 E =  3.9897747436296123  grad norm :  0.7053574597992458\n",
      "Iteration :  78 E =  3.518258592649354  grad norm :  0.6805059271886222\n",
      "Iteration :  79 E =  3.901025488644302  grad norm :  0.6565474073312395\n",
      "Iteration :  80 E =  3.4623789654415207  grad norm :  0.6334501803070545\n",
      "Iteration :  81 E =  3.8181071271135005  grad norm :  0.6111836595522189\n",
      "Iteration :  82 E =  3.4099254725557073  grad norm :  0.5897183514022366\n",
      "Iteration :  83 E =  3.7404161115546093  grad norm :  0.569025816071956\n",
      "Iteration :  84 E =  3.3604794353336804  grad norm :  0.549078630020661\n",
      "Iteration :  85 E =  3.667422761332191  grad norm :  0.5298503496523226\n",
      "Iteration :  86 E =  3.313680812724899  grad norm :  0.5113154763028378\n",
      "Iteration :  87 E =  3.598661694664129  grad norm :  0.49344942246775125\n",
      "Iteration :  88 E =  3.269220009719538  grad norm :  0.47622847922561606\n",
      "Iteration :  89 E =  3.5337235280914996  grad norm :  0.459629784813685\n",
      "Iteration :  90 E =  3.2268308149274842  grad norm :  0.44363129431416887\n",
      "Iteration :  91 E =  3.472247673785231  grad norm :  0.4282117504107284\n",
      "Iteration :  92 E =  3.186284313031534  grad norm :  0.4133506551763175\n",
      "Iteration :  93 E =  3.4139160878785746  grad norm :  0.39902824285483246\n",
      "Iteration :  94 E =  3.147383638817366  grad norm :  0.38522545360032784\n",
      "Iteration :  95 E =  3.3584478427538356  grad norm :  0.3719239081388633\n",
      "Iteration :  96 E =  3.109959457612989  grad norm :  0.35910588331926\n",
      "Iteration :  97 E =  3.3055944132897275  grad norm :  0.3467542885202203\n",
      "Iteration :  98 E =  3.073866072641425  grad norm :  0.33485264288245425\n",
      "Iteration :  99 E =  3.2551355818515915  grad norm :  0.32338505333553696\n",
      "Iteration :  100 E =  3.0389780733355036  grad norm :  0.3123361933903503\n",
      "Iteration :  101 E =  3.2068758795915318  grad norm :  0.3016912826689715\n",
      "Iteration :  102 E =  3.005187450370721  grad norm :  0.29143606714492815\n",
      "Iteration :  103 E =  3.1606414926876365  grad norm :  0.2815568000677544\n",
      "Iteration :  104 E =  2.9724011132901507  grad norm :  0.27204022354672747\n",
      "Iteration :  105 E =  3.1162775717237907  grad norm :  0.2628735507696484\n",
      "Iteration :  106 E =  2.9405387553396904  grad norm :  0.25404444883345406\n",
      "Iteration :  107 E =  3.073645890694833  grad norm :  0.24554102216440452\n",
      "Iteration :  108 E =  2.909531017688679  grad norm :  0.23735179650644767\n",
      "Iteration :  109 E =  3.0326228092902636  grad norm :  0.2294657034572974\n",
      "Iteration :  110 E =  2.8793179117409102  grad norm :  0.2218720655326529\n",
      "Iteration :  111 E =  2.9930974983132512  grad norm :  0.21456058173982204\n",
      "Iteration :  112 E =  2.849847463883771  grad norm :  0.2075213136429362\n",
      "Iteration :  113 E =  2.9549703934611022  grad norm :  0.20074467190277043\n",
      "Iteration :  114 E =  2.8210745518985747  grad norm :  0.19422140327504273\n",
      "Iteration :  115 E =  2.9181518473405514  grad norm :  0.18794257805195047\n",
      "Iteration :  116 E =  2.792959906467536  grad norm :  0.1818995779325198\n",
      "Iteration :  117 E =  2.8825609536139383  grad norm :  0.17608408430819275\n",
      "Iteration :  118 E =  2.7654692548519  grad norm :  0.17048806695091506\n",
      "Iteration :  119 E =  2.848124520654578  grad norm :  0.16510377309182156\n",
      "Iteration :  120 E =  2.738572586959529  grad norm :  0.1599237168794136\n",
      "Iteration :  121 E =  2.814776175104319  grad norm :  0.15494066920694557\n",
      "Iteration :  122 E =  2.712243526735582  grad norm :  0.15014764789947574\n",
      "Iteration :  123 E =  2.782455578336361  grad norm :  0.1455379082518275\n",
      "Iteration :  124 E =  2.686458794155556  grad norm :  0.14110493390942805\n",
      "Iteration :  125 E =  2.7511077410863436  grad norm :  0.1368424280846482\n",
      "Iteration :  126 E =  2.661197745125329  grad norm :  0.1327443051019263\n",
      "Iteration :  127 E =  2.7206824234718625  grad norm :  0.12880468226554773\n",
      "Iteration :  128 E =  2.636441978342197  grad norm :  0.12501787204445877\n",
      "Iteration :  129 E =  2.6911336093152807  grad norm :  0.12137837456897242\n",
      "Iteration :  130 E =  2.6121749996811388  grad norm :  0.11788087043456387\n",
      "Iteration :  131 E =  2.662419045152819  grad norm :  0.11452021380827873\n",
      "Iteration :  132 E =  2.588381935974541  grad norm :  0.11129142583343413\n",
      "Iteration :  133 E =  2.6344998355844216  grad norm :  0.10818968832840573\n",
      "Iteration :  134 E =  2.565049291179241  grad norm :  0.105210337775271\n",
      "Iteration :  135 E =  2.6073400877205644  grad norm :  0.10234885959394474\n",
      "Iteration :  136 E =  2.5421647388963233  grad norm :  0.09960088269722979\n",
      "Iteration :  137 E =  2.5809065984366906  grad norm :  0.09696217432182808\n",
      "Iteration :  138 E =  2.519716946047525  grad norm :  0.09442863512992222\n",
      "Iteration :  139 E =  2.5551685789731255  grad norm :  0.0919962945753907\n",
      "Iteration :  140 E =  2.4976954232356054  grad norm :  0.08966130652807025\n",
      "Iteration :  141 E =  2.530097412135215  grad norm :  0.08741994514877915\n",
      "Iteration :  142 E =  2.4760903979401747  grad norm :  0.08526860100702187\n",
      "Iteration :  143 E =  2.505666437969913  grad norm :  0.08320377743250189\n",
      "Iteration :  144 E =  2.454892707238865  grad norm :  0.08122208709074655\n",
      "Iteration :  145 E =  2.481850764333842  grad norm :  0.07932024877228809\n",
      "Iteration :  146 E =  2.434093707207922  grad norm :  0.0774950843840834\n",
      "Iteration :  147 E =  2.4586270992350645  grad norm :  0.07574351613109687\n",
      "Iteration :  148 E =  2.4136851965567123  grad norm :  0.074062563875286\n",
      "Iteration :  149 E =  2.435973602236105  grad norm :  0.07244934265870062\n",
      "Iteration :  150 E =  2.393659352395569  grad norm :  0.07090106037690708\n",
      "Iteration :  151 E =  2.413869752557255  grad norm :  0.06941501558867247\n",
      "Iteration :  152 E =  2.3740086763338684  grad norm :  0.0679885954476611\n",
      "Iteration :  153 E =  2.392296231824346  grad norm :  0.06661927374189806\n",
      "Iteration :  154 E =  2.354725949361318  grad norm :  0.06530460902691508\n",
      "Iteration :  155 E =  2.371234819669893  grad norm :  0.06404224283882222\n",
      "Iteration :  156 E =  2.3358041941861836  grad norm :  0.062829897974029\n",
      "Iteration :  157 E =  2.3506683006264306  grad norm :  0.06166537682298161\n",
      "Iteration :  158 E =  2.317236643894079  grad norm :  0.060546559746078504\n",
      "Iteration :  159 E =  2.3305803809504395  grad norm :  0.05947140348079456\n",
      "Iteration :  160 E =  2.299016715954548  grad norm :  0.05843793957007763\n",
      "Iteration :  161 E =  2.3109556141887366  grad norm :  0.05744427280315743\n",
      "Iteration :  162 E =  2.2811379907433  grad norm :  0.05648857966104057\n",
      "Iteration :  163 E =  2.2917793344498456  grad norm :  0.055569106760163876\n",
      "Iteration :  164 E =  2.2635941938690034  grad norm :  0.05468416928884159\n",
      "Iteration :  165 E =  2.27303759647387  grad norm :  0.05383214943232951\n",
      "Iteration :  166 E =  2.2463791816975456  grad norm :  0.053011494783479024\n",
      "Iteration :  167 E =  2.254717121708289  grad norm :  0.052220716737026905\n",
      "Iteration :  168 E =  2.2294869295560567  grad norm :  0.05145838886658633\n",
      "Iteration :  169 E =  2.236805249696199  grad norm :  0.05072314528436385\n",
      "Iteration :  170 E =  2.2129115221757796  grad norm :  0.05001367898445274\n",
      "Iteration :  171 E =  2.219289894169708  grad norm :  0.04932874017128997\n",
      "Iteration :  172 E =  2.1966471459987105  grad norm :  0.04866713457554049\n",
      "Iteration :  173 E =  2.202159503316347  grad norm :  0.04802772176015759\n",
      "Iteration :  174 E =  2.1806880830294926  grad norm :  0.047409413419834345\n",
      "Iteration :  175 E =  2.1854030237516717  grad norm :  0.04681117167736044\n",
      "Iteration :  176 E =  2.165028705962491  grad norm :  0.04623200738065211\n",
      "Iteration :  177 E =  2.1690098677883047  grad norm :  0.04567097840432342\n",
      "Iteration :  178 E =  2.1496634743554446  grad norm :  0.04512718795975794\n",
      "Iteration :  179 E =  2.152969883641311  grad norm :  0.04459978291759459\n",
      "Iteration :  180 E =  2.1345869316566546  grad norm :  0.04408795214645747\n",
      "Iteration :  181 E =  2.137273328253154  grad norm :  0.04359092487163619\n",
      "Iteration :  182 E =  2.1197937029230314  grad norm :  0.04310796905720147\n",
      "Iteration :  183 E =  2.1219108424593953  grad norm :  0.04263838981484103\n",
      "Iteration :  184 E =  2.105278493092222  grad norm :  0.042181527842428665\n",
      "Iteration :  185 E =  2.1068734282492803  grad norm :  0.0417367578950683\n",
      "Iteration :  186 E =  2.091036085694304  grad norm :  0.04130348729105983\n",
      "Iteration :  187 E =  2.0921524279043187  grad norm :  0.040881154454930735\n",
      "Iteration :  188 E =  2.07706134190726  grad norm :  0.04046922749938365\n",
      "Iteration :  189 E =  2.077739504823193  grad norm :  0.0400672028477062\n",
      "Iteration :  190 E =  2.063349199876649  grad norm :  0.039674603897886795\n",
      "Iteration :  191 E =  2.063626625863526  grad norm :  0.03929097972943579\n",
      "Iteration :  192 E =  2.049894674233479  grad norm :  0.03891590385359584\n",
      "Iteration :  193 E =  2.049806045050329  grad norm :  0.03854897300741051\n",
      "Iteration :  194 E =  2.0366928557559176  grad norm :  0.03818980599187977\n",
      "Iteration :  195 E =  2.0362702885180415  grad norm :  0.03783804255419612\n",
      "Iteration :  196 E =  2.0237389111302564  grad norm :  0.037493342313881045\n",
      "Iteration :  197 E =  2.023012140567943  grad norm :  0.03715538373245348\n",
      "Iteration :  198 E =  2.011028082774929  grad norm :  0.03682386312610259\n",
      "Iteration :  199 E =  2.0100246307357956  grad norm :  0.03649849372069496\n",
      "Iteration :  200 E =  1.998555688698326  grad norm :  0.03617900474833698\n",
      "Iteration :  201 E =  1.9973010217761438  grad norm :  0.03586514058458506\n",
      "Iteration :  202 E =  1.986317122367066  grad norm :  0.035556659925321\n",
      "Iteration :  203 E =  1.984834798479789  grad norm :  0.03525333500223984\n",
      "Iteration :  204 E =  1.97430785256638  grad norm :  0.034954950835822764\n",
      "Iteration :  205 E =  1.972619657249909  grad norm :  0.03466130452462784\n",
      "Iteration :  206 E =  1.9625234232383257  grad norm :  0.03437220456969916\n",
      "Iteration :  207 E =  1.960649496370133  grad norm :  0.034087470232859095\n",
      "Iteration :  208 E =  1.950959453287096  grad norm :  0.03380693092764336\n",
      "Iteration :  209 E =  1.948918406904874  grad norm :  0.03353042564162947\n",
      "Iteration :  210 E =  1.9396116363434635  grad norm :  0.03325780238889719\n",
      "Iteration :  211 E =  1.9374206641783376  grad norm :  0.032988917691393074\n",
      "Iteration :  212 E =  1.9284757404828543  grad norm :  0.032723636087958065\n",
      "Iteration :  213 E =  1.9261507197840464  grad norm :  0.03246182966980475\n",
      "Iteration :  214 E =  1.9175476078934235  grad norm :  0.03220337764127002\n",
      "Iteration :  215 E =  1.9151031940815522  grad norm :  0.03194816590465932\n",
      "Iteration :  216 E =  1.9068231544921297  grad norm :  0.03169608666806367\n",
      "Iteration :  217 E =  1.9042728691413182  grad norm :  0.03144703807504314\n",
      "Iteration :  218 E =  1.8962983694880726  grad norm :  0.031200923855103327\n",
      "Iteration :  219 E =  1.8936546821024327  grad norm :  0.03095765299393457\n",
      "Iteration :  220 E =  1.8859693148934058  grad norm :  0.030717139422417498\n",
      "Iteration :  221 E =  1.8832437189113487  grad norm :  0.030479301723429462\n",
      "Iteration :  222 E =  1.8758321249829104  grad norm :  0.030244062855523605\n",
      "Iteration :  223 E =  1.8730352084126827  grad norm :  0.030011349892602738\n",
      "Iteration :  224 E =  1.8658830057040081  grad norm :  0.029781093778730238\n",
      "Iteration :  225 E =  1.8630245167659345  grad norm :  0.02955322909726124\n",
      "Iteration :  226 E =  1.8561182340394111  grad norm :  0.029327693853523625\n",
      "Iteration :  227 E =  1.8532071421642737  grad norm :  0.029104429270299142\n",
      "Iteration :  228 E =  1.8465341573250236  grad norm :  0.0288833795953995\n",
      "Iteration :  229 E =  1.8435787098337462  grad norm :  0.028664491920661665\n",
      "Iteration :  230 E =  1.8371271925259045  grad norm :  0.02844771601172094\n",
      "Iteration :  231 E =  1.8341349672931253  grad norm :  0.02823300414794997\n",
      "Iteration :  232 E =  1.8278938254733221  grad norm :  0.028020310971990134\n",
      "Iteration :  233 E =  1.8248717798564005  grad norm :  0.02780959334831531\n",
      "Iteration :  234 E =  1.8188306100659992  grad norm :  0.027600810230318268\n",
      "Iteration :  235 E =  1.815785126361401  grad norm :  0.0273939225354174\n",
      "Iteration :  236 E =  1.809934167438671  grad norm :  0.02718889302771685\n",
      "Iteration :  237 E =  1.8068710951094555  grad norm :  0.026985686207785128\n",
      "Iteration :  238 E =  1.8012011851011445  grad norm :  0.02678426820912342\n",
      "Iteration :  239 E =  1.798125880002251  grad norm :  0.026584606700937385\n",
      "Iteration :  240 E =  1.7926284160508918  grad norm :  0.0263866707968282\n",
      "Iteration :  241 E =  1.7895457768631808  grad norm :  0.02619043096906387\n",
      "Iteration :  242 E =  1.7842126778622527  grad norm :  0.025995858968085754\n",
      "Iteration :  243 E =  1.781127179931475  grad norm :  0.02580292774693927\n",
      "Iteration :  244 E =  1.775950851755156  grad norm :  0.02561161139034357\n",
      "Iteration :  245 E =  1.7728665785183557  grad norm :  0.02542188504809902\n",
      "Iteration :  246 E =  1.7678398816461702  grad norm :  0.025233724872594624\n",
      "Iteration :  247 E =  1.7647605538152962  grad norm :  0.025047107960145126\n",
      "Iteration :  248 E =  1.7598767731845992  grad norm :  0.024862012295943633\n",
      "Iteration :  249 E =  1.7568057758452051  grad norm :  0.024678416702396812\n",
      "Iteration :  250 E =  1.7520585927761614  grad norm :  0.024496300790640777\n",
      "Iteration :  251 E =  1.7489990005480496  grad norm :  0.024315644915043486\n",
      "Iteration :  252 E =  1.7443824665967191  grad norm :  0.024136430130513472\n",
      "Iteration :  253 E =  1.7413370669931048  grad norm :  0.023958638152435062\n",
      "Iteration :  254 E =  1.7368455795982882  grad norm :  0.023782251319077824\n",
      "Iteration :  255 E =  1.7338168947105204  grad norm :  0.0236072525563213\n",
      "Iteration :  256 E =  1.7294451745095274  grad norm :  0.02343362534455366\n",
      "Iteration :  257 E =  1.726435481135475  grad norm :  0.023261353687617062\n",
      "Iteration :  258 E =  1.722178550832681  grad norm :  0.023090422083657837\n",
      "Iteration :  259 E =  1.7191898991586556  grad norm :  0.02292081549778452\n",
      "Iteration :  260 E =  1.7150430638388536  grad norm :  0.022752519336399782\n",
      "Iteration :  261 E =  1.7120772947772085  grad norm :  0.022585519423123125\n",
      "Iteration :  262 E =  1.7080361235633388  grad norm :  0.022419801976188477\n",
      "Iteration :  263 E =  1.7050948848407608  grad norm :  0.02225535358723592\n",
      "Iteration :  264 E =  1.7011551938026386  grad norm :  0.02209216120140883\n",
      "Iteration :  265 E =  1.698239954887426  grad norm :  0.02193021209866974\n",
      "Iteration :  266 E =  1.6943977911145933  grad norm :  0.021769493876268035\n",
      "Iteration :  267 E =  1.6915098570651075  grad norm :  0.021609994432280604\n",
      "Iteration :  268 E =  1.6877614838230317  grad norm :  0.02145170195016062\n",
      "Iteration :  269 E =  1.6849020081336519  grad norm :  0.021294604884232952\n",
      "Iteration :  270 E =  1.6812438910281586  grad norm :  0.021138691946077547\n",
      "Iteration :  271 E =  1.678413887543765  grad norm :  0.020983952091742548\n",
      "Iteration :  272 E =  1.674842681623807  grad norm :  0.02083037450973619\n",
      "Iteration :  273 E =  1.672043035588808  grad norm :  0.020677948609752285\n",
      "Iteration :  274 E =  1.6685555733225896  grad norm :  0.02052666401207926\n",
      "Iteration :  275 E =  1.6657870516258912  grad norm :  0.02037651053764867\n",
      "Iteration :  276 E =  1.6623803316898917  grad norm :  0.020227478198695453\n",
      "Iteration :  277 E =  1.6596435923628436  grad norm :  0.020079557189969566\n",
      "Iteration :  278 E =  1.6563147691875129  grad norm :  0.019932737880489732\n",
      "Iteration :  279 E =  1.6536103702079195  grad norm :  0.01978701080578215\n",
      "Iteration :  280 E =  1.650356744227721  grad norm :  0.019642366660595146\n",
      "Iteration :  281 E =  1.6476851516792337  grad norm :  0.019498796292042164\n",
      "Iteration :  282 E =  1.6445041602384003  grad norm :  0.01935629069315549\n",
      "Iteration :  283 E =  1.6418657558711311  grad norm :  0.019214840996825983\n",
      "Iteration :  284 E =  1.6387549647398607  grad norm :  0.019074438470100923\n",
      "Iteration :  285 E =  1.636150052974854  grad norm :  0.018935074508815788\n",
      "Iteration :  286 E =  1.6331071484338486  grad norm :  0.01879674063254536\n",
      "Iteration :  287 E =  1.6305359628510256  grad norm :  0.018659428479852965\n",
      "Iteration :  288 E =  1.6275587443051776  grad norm :  0.01852312980381054\n",
      "Iteration :  289 E =  1.6250214536516112  grad norm :  0.018387836467784156\n",
      "Iteration :  290 E =  1.6221078267364377  grad norm :  0.018253540441464863\n",
      "Iteration :  291 E =  1.619604540489151  grad norm :  0.018120233797121243\n",
      "Iteration :  292 E =  1.616752510636041  grad norm :  0.017987908706078123\n",
      "Iteration :  293 E =  1.6142832841511854  grad norm :  0.017856557435382187\n",
      "Iteration :  294 E =  1.6114909505799238  grad norm :  0.017726172344670353\n",
      "Iteration :  295 E =  1.6090557898579194  grad norm :  0.01759674588320447\n",
      "Iteration :  296 E =  1.6063213399671512  grad norm :  0.017468270587078387\n",
      "Iteration :  297 E =  1.603920206061248  grad norm :  0.01734073907657665\n",
      "Iteration :  298 E =  1.6012419101895647  grad norm :  0.017214144053682323\n",
      "Iteration :  299 E =  1.5988747232834217  grad norm :  0.017088478299719424\n",
      "Iteration :  300 E =  1.5962509298156728  grad norm :  0.016963734673125654\n",
      "Iteration :  301 E =  1.5939175729936463  grad norm :  0.016839906107341793\n",
      "Iteration :  302 E =  1.5913467037888394  grad norm :  0.016716985608821185\n",
      "Iteration :  303 E =  1.5890470265211105  grad norm :  0.016594966255137147\n",
      "Iteration :  304 E =  1.5865275726398804  grad norm :  0.016473841193195143\n",
      "Iteration :  305 E =  1.58426139400288  grad norm :  0.01635360363753659\n",
      "Iteration :  306 E =  1.5817919117140848  grad norm :  0.016234246868731286\n",
      "Iteration :  307 E =  1.5795590233652994  grad norm :  0.016115764231847927\n",
      "Iteration :  308 E =  1.5771381304126846  grad norm :  0.01599814913500987\n",
      "Iteration :  309 E =  1.5749382993375514  grad norm :  0.01588139504801345\n",
      "Iteration :  310 E =  1.5725646714487416  grad norm :  0.01576549550102338\n",
      "Iteration :  311 E =  1.5703976424960873  grad norm :  0.015650444083324774\n",
      "Iteration :  312 E =  1.5680700101174208  grad norm :  0.015536234442140678\n",
      "Iteration :  313 E =  1.5659355083387343  grad norm :  0.015422860281500044\n",
      "Iteration :  314 E =  1.5636526535805861  grad norm :  0.015310315361166171\n",
      "Iteration :  315 E =  1.5615503863873297  grad norm :  0.015198593495606675\n",
      "Iteration :  316 E =  1.559311140165635  grad norm :  0.015087688553015816\n",
      "Iteration :  317 E =  1.5572407993177988  grad norm :  0.014977594454378646\n",
      "Iteration :  318 E =  1.555044038678454  grad norm :  0.014868305172575227\n",
      "Iteration :  319 E =  1.5530053021166137  grad norm :  0.014759814731528624\n",
      "Iteration :  320 E =  1.550849947730411  grad norm :  0.014652117205378517\n",
      "Iteration :  321 E =  1.548842481262689  grad norm :  0.014545206717704656\n",
      "Iteration :  322 E =  1.5467274950792163  grad norm :  0.014439077440767067\n",
      "Iteration :  323 E =  1.544750953933716  grad norm :  0.014333723594785361\n"
     ]
    },
    {
     "name": "stdout",
     "output_type": "stream",
     "text": [
      "Iteration :  324 E =  1.5426753369835386  grad norm :  0.014229139447246793\n",
      "Iteration :  325 E =  1.5407293672360862  grad norm :  0.014125319312236598\n",
      "Iteration :  326 E =  1.538692157571188  grad norm :  0.014022257549795735\n",
      "Iteration :  327 E =  1.5367763974575266  grad norm :  0.01391994856530536\n",
      "Iteration :  328 E =  1.5347766682207267  grad norm :  0.013818386808886423\n",
      "Iteration :  329 E =  1.5328907493416342  grad norm :  0.013717566774829078\n",
      "Iteration :  330 E =  1.5309276069563176  grad norm :  0.013617483001035952\n",
      "Iteration :  331 E =  1.5290711553835206  grad norm :  0.013518130068485717\n",
      "Iteration :  332 E =  1.5271437378556376  grad norm :  0.01341950260071582\n",
      "Iteration :  333 E =  1.5253163751458358  grad norm :  0.013321595263319785\n",
      "Iteration :  334 E =  1.5234238504706445  grad norm :  0.013224402763461885\n",
      "Iteration :  335 E =  1.5216251945944597  grad norm :  0.013127919849404632\n",
      "Iteration :  336 E =  1.5197667592610236  grad norm :  0.013032141310054151\n",
      "Iteration :  337 E =  1.51799642545316  grad norm :  0.01293706197451348\n",
      "Iteration :  338 E =  1.5161713030401196  grad norm :  0.012842676711654732\n",
      "Iteration :  339 E =  1.5144289045765873  grad norm :  0.0127489804296957\n",
      "Iteration :  340 E =  1.512636344433115  grad norm :  0.012655968075795505\n",
      "Iteration :  341 E =  1.510921493340978  grad norm :  0.012563634635654488\n",
      "Iteration :  342 E =  1.5091607693472744  grad norm :  0.012471975133128886\n",
      "Iteration :  343 E =  1.5074730770519615  grad norm :  0.012380984629849599\n",
      "Iteration :  344 E =  1.505743486454057  grad norm :  0.012290658224857474\n",
      "Iteration :  345 E =  1.504082564368901  grad norm :  0.012200991054240233\n",
      "Iteration :  346 E =  1.5023834266828369  grad norm :  0.012111978290782208\n",
      "Iteration :  347 E =  1.5007488867452314  grad norm :  0.012023615143617085\n",
      "Iteration :  348 E =  1.4990795427260741  grad norm :  0.011935896857895376\n",
      "Iteration :  349 E =  1.4974709978842469  grad norm :  0.011848818714449682\n",
      "Iteration :  350 E =  1.4958308085556837  grad norm :  0.0117623760294735\n",
      "Iteration :  351 E =  1.494247873209855  grad norm :  0.011676564154207082\n",
      "Iteration :  352 E =  1.4926362189504019  grad norm :  0.011591378474620747\n",
      "Iteration :  353 E =  1.491078509351806  grad norm :  0.01150681441111327\n",
      "Iteration :  354 E =  1.4894947890339452  grad norm :  0.011422867418212638\n",
      "Iteration :  355 E =  1.4879619236449124  grad norm :  0.011339532984278559\n",
      "Iteration :  356 E =  1.4864055538237217  grad norm :  0.011256806631218001\n",
      "Iteration :  357 E =  1.4848971536418498  grad norm :  0.011174683914194362\n",
      "Iteration :  358 E =  1.4833675677899123  grad norm :  0.011093160421352236\n",
      "Iteration :  359 E =  1.4818832566390847  grad norm :  0.011012231773541083\n",
      "Iteration :  360 E =  1.4803799044246808  grad norm :  0.010931893624040989\n",
      "Iteration :  361 E =  1.4789193092155102  grad norm :  0.010852141658299196\n",
      "Iteration :  362 E =  1.4774416558213372  grad norm :  0.01077297159366486\n",
      "Iteration :  363 E =  1.4760044067834124  grad norm :  0.010694379179128004\n",
      "Iteration :  364 E =  1.4745519322632077  grad norm :  0.010616360195065927\n",
      "Iteration :  365 E =  1.473137663151373  grad norm :  0.010538910452988819\n",
      "Iteration :  366 E =  1.4717098618220417  grad norm :  0.010462025795291482\n",
      "Iteration :  367 E =  1.4703182100987506  grad norm :  0.010385702095006883\n",
      "Iteration :  368 E =  1.4689145899657097  grad norm :  0.010309935255563459\n",
      "Iteration :  369 E =  1.4675451969613649  grad norm :  0.01023472121054375\n",
      "Iteration :  370 E =  1.4661652791750373  grad norm :  0.010160055923449617\n",
      "Iteration :  371 E =  1.46481779022807  grad norm :  0.010085935387467609\n",
      "Iteration :  372 E =  1.4634611085695406  grad norm :  0.010012355625233886\n",
      "Iteration :  373 E =  1.4621351731478731  grad norm :  0.009939312688611758\n",
      "Iteration :  374 E =  1.4608012735418732  grad norm :  0.009866802658458887\n",
      "Iteration :  375 E =  1.4594965453472717  grad norm :  0.00979482164440721\n",
      "Iteration :  376 E =  1.4581849854008098  grad norm :  0.009723365784641275\n",
      "Iteration :  377 E =  1.4569011224575323  grad norm :  0.009652431245677441\n",
      "Iteration :  378 E =  1.4556114710225494  grad norm :  0.00958201422214834\n",
      "Iteration :  379 E =  1.4543481357515915  grad norm :  0.009512110936589345\n",
      "Iteration :  380 E =  1.453079972510155  grad norm :  0.009442717639222095\n",
      "Iteration :  381 E =  1.4518368317903034  grad norm :  0.009373830607749208\n",
      "Iteration :  382 E =  1.4505897468609705  grad norm :  0.00930544614714385\n",
      "Iteration :  383 E =  1.4493664720777528  grad norm :  0.009237560589440622\n",
      "Iteration :  384 E =  1.4481400656418026  grad norm :  0.009170170293536829\n",
      "Iteration :  385 E =  1.446936332725382  grad norm :  0.009103271644986565\n",
      "Iteration :  386 E =  1.4457302146716882  grad norm :  0.009036861055800175\n",
      "Iteration :  387 E =  1.444545704124673  grad norm :  0.008970934964247411\n",
      "Iteration :  388 E =  1.4433594937120953  grad norm :  0.008905489834659143\n",
      "Iteration :  389 E =  1.4421938906281162  grad norm :  0.008840522157232926\n",
      "Iteration :  390 E =  1.4410272161643762  grad norm :  0.00877602844783925\n",
      "Iteration :  391 E =  1.4398802102382553  grad norm :  0.00871200524783062\n",
      "Iteration :  392 E =  1.438732708774283  grad norm :  0.008648449123851437\n",
      "Iteration :  393 E =  1.4376039943045675  grad norm :  0.008585356667647896\n",
      "Iteration :  394 E =  1.4364753113434066  grad norm :  0.008522724495885498\n",
      "Iteration :  395 E =  1.4353645872279424  grad norm :  0.008460549249958206\n",
      "Iteration :  396 E =  1.434254376447367  grad norm :  0.008398827595810851\n",
      "Iteration :  397 E =  1.433161346172564  grad norm :  0.0083375562237524\n",
      "Iteration :  398 E =  1.4320692691605825  grad norm :  0.00827673184827789\n",
      "Iteration :  399 E =  1.430993640784982  grad norm :  0.008216351207888209\n",
      "Iteration :  400 E =  1.4299193667874877  grad norm :  0.008156411064914958\n",
      "Iteration :  401 E =  1.4288608529201487  grad norm :  0.008096908205340692\n",
      "Iteration :  402 E =  1.4278040586000162  grad norm :  0.008037839438627903\n",
      "Iteration :  403 E =  1.4267623763742698  grad norm :  0.007979201597541402\n",
      "Iteration :  404 E =  1.4257227455812296  grad norm :  0.007920991537981937\n",
      "Iteration :  405 E =  1.4246976166242293  grad norm :  0.00786320613881131\n",
      "Iteration :  406 E =  1.4236748401749124  grad norm :  0.007805842301685264\n",
      "Iteration :  407 E =  1.4226659905734482  grad norm :  0.007748896950884589\n",
      "Iteration :  408 E =  1.421659766041023  grad norm :  0.007692367033149686\n",
      "Iteration :  409 E =  1.4206669263039688  grad norm :  0.007636249517515737\n",
      "Iteration :  410 E =  1.4196769578168391  grad norm :  0.007580541395145986\n",
      "Iteration :  411 E =  1.4186998628346166  grad norm :  0.007525239679173601\n",
      "Iteration :  412 E =  1.4177258608836596  grad norm :  0.0074703414045349985\n",
      "Iteration :  413 E =  1.4167642498850546  grad norm :  0.007415843627815298\n",
      "Iteration :  414 E =  1.4158059311389426  grad norm :  0.007361743427084936\n",
      "Iteration :  415 E =  1.4148595476455745  grad norm :  0.007308037901745029\n",
      "Iteration :  416 E =  1.4139166347737395  grad norm :  0.0072547241723687145\n",
      "Iteration :  417 E =  1.4129852265524832  grad norm :  0.0072017993805481165\n",
      "Iteration :  418 E =  1.412057448055287  grad norm :  0.007149260688736854\n",
      "Iteration :  419 E =  1.411140767068909  grad norm :  0.007097105280102141\n",
      "Iteration :  420 E =  1.4102278571146594  grad norm :  0.007045330358367846\n",
      "Iteration :  421 E =  1.4093256594708887  grad norm :  0.00699393314766832\n",
      "Iteration :  422 E =  1.4084273577393236  grad norm :  0.006942910892395123\n",
      "Iteration :  423 E =  1.4075394036386184  grad norm :  0.006892260857051484\n",
      "Iteration :  424 E =  1.406655455170507  grad norm :  0.006841980326104057\n",
      "Iteration :  425 E =  1.4057815088526795  grad norm :  0.006792066603836439\n",
      "Iteration :  426 E =  1.4049116639052468  grad norm :  0.006742517014204495\n",
      "Iteration :  427 E =  1.4040514935951587  grad norm :  0.006693328900693757\n",
      "Iteration :  428 E =  1.4031955075030038  grad norm :  0.0066444996261736606\n",
      "Iteration :  429 E =  1.4023488853554946  grad norm :  0.0065960265727587975\n",
      "Iteration :  430 E =  1.4015065183967392  grad norm :  0.006547907141665355\n",
      "Iteration :  431 E =  1.4006732204409462  grad norm :  0.0065001387530738705\n",
      "Iteration :  432 E =  1.3998442377083382  grad norm :  0.006452718845989761\n",
      "Iteration :  433 E =  1.3990240437915475  grad norm :  0.006405644878105713\n",
      "Iteration :  434 E =  1.3982082150682853  grad norm :  0.006358914325663042\n",
      "Iteration :  435 E =  1.3974009087994395  grad norm :  0.006312524683321192\n",
      "Iteration :  436 E =  1.3965980084394645  grad norm :  0.006266473464017145\n",
      "Iteration :  437 E =  1.3958033771324605  grad norm :  0.0062207581988370205\n",
      "Iteration :  438 E =  1.3950131839450122  grad norm :  0.00617537643687821\n",
      "Iteration :  439 E =  1.3942310185618867  grad norm :  0.0061303257451239416\n",
      "Iteration :  440 E =  1.3934533157000946  grad norm :  0.006085603708308348\n",
      "Iteration :  441 E =  1.3926834107941968  grad norm :  0.006041207928786419\n",
      "Iteration :  442 E =  1.3919179856475556  grad norm :  0.005997136026408519\n",
      "Iteration :  443 E =  1.3911601393067854  grad norm :  0.005953385638390276\n",
      "Iteration :  444 E =  1.3904067833972795  grad norm :  0.005909954419186357\n",
      "Iteration :  445 E =  1.3896607971875006  grad norm :  0.00586684004036454\n",
      "Iteration :  446 E =  1.3889193060692349  grad norm :  0.005824040190480867\n",
      "Iteration :  447 E =  1.3881849849779082  grad norm :  0.005781552574954863\n",
      "Iteration :  448 E =  1.3874551581400865  grad norm :  0.005739374915948524\n",
      "Iteration :  449 E =  1.3867323105201985  grad norm :  0.0056975049522410785\n",
      "Iteration :  450 E =  1.386013951293275  grad norm :  0.005655940439109958\n",
      "Iteration :  451 E =  1.3853023888076337  grad norm :  0.005614679148209203\n",
      "Iteration :  452 E =  1.3845953042725079  grad norm :  0.005573718867451501\n",
      "Iteration :  453 E =  1.3838948418384274  grad norm :  0.005533057400886332\n",
      "Iteration :  454 E =  1.3831988427385564  grad norm :  0.005492692568585962\n",
      "Iteration :  455 E =  1.3825092984730138  grad norm :  0.005452622206525528\n",
      "Iteration :  456 E =  1.3818241991292894  grad norm :  0.005412844166467646\n",
      "Iteration :  457 E =  1.3811453942945702  grad norm :  0.005373356315850017\n",
      "Iteration :  458 E =  1.3804710125228494  grad norm :  0.005334156537666026\n",
      "Iteration :  459 E =  1.379802771472741  grad norm :  0.005295242730355122\n",
      "Iteration :  460 E =  1.3791389285039242  grad norm :  0.005256612807689675\n",
      "Iteration :  461 E =  1.3784810786304618  grad norm :  0.005218264698659371\n",
      "Iteration :  462 E =  1.3778275990330113  grad norm :  0.0051801963473649786\n",
      "Iteration :  463 E =  1.377179970713833  grad norm :  0.005142405712906455\n",
      "Iteration :  464 E =  1.3765366823186025  grad norm :  0.005104890769272478\n",
      "Iteration :  465 E =  1.3758991088649255  grad norm :  0.005067649505232191\n",
      "Iteration :  466 E =  1.375265842692247  grad norm :  0.0050306799242270045\n",
      "Iteration :  467 E =  1.3746381602974873  grad norm :  0.004993980044266308\n",
      "Iteration :  468 E =  1.3740147504863784  grad norm :  0.004957547897816062\n",
      "Iteration :  469 E =  1.3733967981754456  grad norm :  0.0049213815316986485\n",
      "Iteration :  470 E =  1.3727830819148878  grad norm :  0.004885479006983416\n",
      "Iteration :  471 E =  1.3721747014941434  grad norm :  0.004849838398887576\n",
      "Iteration :  472 E =  1.371570518956329  grad norm :  0.0048144577966684095\n",
      "Iteration :  473 E =  1.3709715549642547  grad norm :  0.00477933530352288\n",
      "Iteration :  474 E =  1.3703767492397274  grad norm :  0.004744469036486964\n",
      "Iteration :  475 E =  1.369787048898294  grad norm :  0.0047098571263324476\n",
      "Iteration :  476 E =  1.3692014659329172  grad norm :  0.0046754977174684525\n",
      "Iteration :  477 E =  1.3686208790996595  grad norm :  0.00464138896784077\n",
      "Iteration :  478 E =  1.368044367633335  grad norm :  0.004607529048833772\n",
      "Iteration :  479 E =  1.3674727467541619  grad norm :  0.004573916145172341\n",
      "Iteration :  480 E =  1.3669051582612304  grad norm :  0.004540548454823735\n",
      "Iteration :  481 E =  1.3663423583239531  grad norm :  0.004507424188902992\n",
      "Iteration :  482 E =  1.365783546955221  grad norm :  0.004474541571574035\n",
      "Iteration :  483 E =  1.3652294254438115  grad norm :  0.00444189883995722\n",
      "Iteration :  484 E =  1.3646792479701404  grad norm :  0.004409494244032583\n",
      "Iteration :  485 E =  1.364133664819723  grad norm :  0.004377326046548072\n",
      "Iteration :  486 E =  1.3635919805771224  grad norm :  0.0043453925229247755\n",
      "Iteration :  487 E =  1.363054798129699  grad norm :  0.004313691961164885\n",
      "Iteration :  488 E =  1.3625214689658736  grad norm :  0.004282222661760982\n",
      "Iteration :  489 E =  1.3619925519267775  grad norm :  0.004250982937603497\n",
      "Iteration :  490 E =  1.3614674421490642  grad norm :  0.004219971113890568\n",
      "Iteration :  491 E =  1.360946657544148  grad norm :  0.004189185528038459\n",
      "Iteration :  492 E =  1.3604296338688209  grad norm :  0.004158624529593056\n",
      "Iteration :  493 E =  1.3599168510023625  grad norm :  0.004128286480140554\n",
      "Iteration :  494 E =  1.3594077825052284  grad norm :  0.00409816975321815\n",
      "Iteration :  495 E =  1.3589028729185686  grad norm :  0.004068272734231298\n",
      "Iteration :  496 E =  1.3584016309868168  grad norm :  0.004038593820362801\n",
      "Iteration :  497 E =  1.357904468417717  grad norm :  0.0040091314204878025\n",
      "Iteration :  498 E =  1.3574109267030001  grad norm :  0.003979883955090561\n",
      "Iteration :  499 E =  1.3569213870457  grad norm :  0.0039508498561775475\n",
      "Iteration :  500 E =  1.356435421418378  grad norm :  0.003922027567193603\n",
      "Iteration :  501 E =  1.3559533826843762  grad norm :  0.00389341554294005\n",
      "Iteration :  502 E =  1.3554748711889042  grad norm :  0.003865012249490487\n",
      "Iteration :  503 E =  1.3550002134684247  grad norm :  0.0038368161641085833\n",
      "Iteration :  504 E =  1.3545290362798277  grad norm :  0.0038088257751665295\n",
      "Iteration :  505 E =  1.3540616417039992  grad norm :  0.003781039582064576\n",
      "Iteration :  506 E =  1.353597681085425  grad norm :  0.003753456095151523\n",
      "Iteration :  507 E =  1.3531374337891209  grad norm :  0.003726073835640601\n",
      "Iteration :  508 E =  1.3526805740504204  grad norm :  0.0036988913355349698\n",
      "Iteration :  509 E =  1.3522273601357946  grad norm :  0.003671907137547042\n",
      "Iteration :  510 E =  1.3517774875930877  grad norm :  0.0036451197950210464\n",
      "Iteration :  511 E =  1.3513311950937708  grad norm :  0.0036185278718536516\n",
      "Iteration :  512 E =  1.350888198029992  grad norm :  0.003592129942418619\n",
      "Iteration :  513 E =  1.3504487168759605  grad norm :  0.003565924591489747\n",
      "Iteration :  514 E =  1.3500124855023277  grad norm :  0.0035399104141667194\n",
      "Iteration :  515 E =  1.349579707485404  grad norm :  0.0035140860157967632\n",
      "Iteration :  516 E =  1.349150133903808  grad norm :  0.0034884500119014587\n",
      "Iteration :  517 E =  1.3487239526438262  grad norm :  0.0034630010281026602\n",
      "Iteration :  518 E =  1.3483009308100833  grad norm :  0.0034377377000504115\n",
      "Iteration :  519 E =  1.3478812417216768  grad norm :  0.003412658673344086\n",
      "Iteration :  520 E =  1.347464667409655  grad norm :  0.0033877626034676685\n",
      "Iteration :  521 E =  1.3470513676696563  grad norm :  0.003363048155711524\n",
      "Iteration :  522 E =  1.346641138436216  grad norm :  0.00333851400510384\n",
      "Iteration :  523 E =  1.3462341269517004  grad norm :  0.0033141588363378\n",
      "Iteration :  524 E =  1.345830142102442  grad norm :  0.003289981343702669\n",
      "Iteration :  525 E =  1.3454293194793405  grad norm :  0.003265980231013787\n",
      "Iteration :  526 E =  1.3450314800351324  grad norm :  0.0032421542115421416\n",
      "Iteration :  527 E =  1.3446367485474717  grad norm :  0.003218502007944715\n",
      "Iteration :  528 E =  1.3442449572117405  grad norm :  0.0031950223521970047\n",
      "Iteration :  529 E =  1.3438562207714486  grad norm :  0.0031717139855272944\n",
      "Iteration :  530 E =  1.3434703818981952  grad norm :  0.0031485756583441494\n",
      "Iteration :  531 E =  1.3430875460254876  grad norm :  0.003125606130173907\n",
      "Iteration :  532 E =  1.3427075655880336  grad norm :  0.0031028041695910537\n",
      "Iteration :  533 E =  1.3423305373823649  grad norm :  0.0030801685541550893\n",
      "Iteration :  534 E =  1.341956322942781  grad norm :  0.003057698070342563\n",
      "Iteration :  535 E =  1.341585011054352  grad norm :  0.003035391513483187\n",
      "Iteration :  536 E =  1.3412164717335775  grad norm :  0.0030132476876943157\n",
      "Iteration :  537 E =  1.3408507863353776  grad norm :  0.0029912654058195354\n",
      "Iteration :  538 E =  1.340487832783986  grad norm :  0.002969443489360338\n",
      "Iteration :  539 E =  1.3401276855444015  grad norm :  0.0029477807684171213\n",
      "Iteration :  540 E =  1.3397702299139995  grad norm :  0.0029262760816252736\n",
      "Iteration :  541 E =  1.3394155339699143  grad norm :  0.0029049282760909077\n",
      "Iteration :  542 E =  1.339063489885186  grad norm :  0.002883736207333524\n",
      "Iteration :  543 E =  1.3387141598156131  grad norm :  0.0028626987392190964\n",
      "Iteration :  544 E =  1.338367442346957  grad norm :  0.0028418147439032843\n",
      "Iteration :  545 E =  1.338023394147182  grad norm :  0.0028210831017691507\n",
      "Iteration :  546 E =  1.3376819197839254  grad norm :  0.0028005027013686653\n",
      "Iteration :  547 E =  1.3373430708401406  grad norm :  0.0027800724393603708\n",
      "Iteration :  548 E =  1.3370067574643605  grad norm :  0.002759791220453084\n",
      "Iteration :  549 E =  1.3366730265287843  grad norm :  0.002739657957345772\n",
      "Iteration :  550 E =  1.3363417933896542  grad norm :  0.0027196715706691277\n",
      "Iteration :  551 E =  1.3360131005561429  grad norm :  0.0026998309889284763\n",
      "Iteration :  552 E =  1.3356868682448377  grad norm :  0.002680135148446501\n",
      "Iteration :  553 E =  1.3353631349249553  grad norm :  0.002660582993303353\n",
      "Iteration :  554 E =  1.335041825350096  grad norm :  0.002641173475286007\n",
      "Iteration :  555 E =  1.3347229742496447  grad norm :  0.0026219055538250218\n",
      "Iteration :  556 E =  1.334406510613251  grad norm :  0.0026027781959436533\n",
      "Iteration :  557 E =  1.3340924657092597  grad norm :  0.002583790376200279\n",
      "Iteration :  558 E =  1.3337807724832018  grad norm :  0.0025649410766353064\n",
      "Iteration :  559 E =  1.3334714590013548  grad norm :  0.002546229286714445\n",
      "Iteration :  560 E =  1.3331644619043064  grad norm :  0.002527654003275092\n",
      "Iteration :  561 E =  1.3328598062968056  grad norm :  0.002509214230474355\n",
      "Iteration :  562 E =  1.3325574322716682  grad norm :  0.002490908979732113\n",
      "Iteration :  563 E =  1.3322573621955323  grad norm :  0.0024727372696824916\n",
      "Iteration :  564 E =  1.3319595393873285  grad norm :  0.002454698126116954\n",
      "Iteration :  565 E =  1.3316639836830848  grad norm :  0.0024367905819350985\n",
      "Iteration :  566 E =  1.3313706414173152  grad norm :  0.0024190136770921083\n",
      "Iteration :  567 E =  1.3310795300881244  grad norm :  0.0024013664585456245\n",
      "Iteration :  568 E =  1.3307905988495599  grad norm :  0.00238384798020671\n",
      "Iteration :  569 E =  1.3305038630407267  grad norm :  0.0023664573028875247\n",
      "Iteration :  570 E =  1.3302192744526407  grad norm :  0.0023491934942531313\n",
      "Iteration :  571 E =  1.3299368464315222  grad norm :  0.0023320556287702056\n",
      "Iteration :  572 E =  1.329656533235336  grad norm :  0.002315042787655398\n",
      "Iteration :  573 E =  1.3293783463716469  grad norm :  0.002298154058829765\n",
      "Iteration :  574 E =  1.3291022424069925  grad norm :  0.002281388536868297\n",
      "Iteration :  575 E =  1.3288282311534676  grad norm :  0.0022647453229506986\n",
      "Iteration :  576 E =  1.3285562713386605  grad norm :  0.0022482235248132243\n",
      "Iteration :  577 E =  1.3282863712121002  grad norm :  0.002231822256702295\n",
      "Iteration :  578 E =  1.3280184915249993  grad norm :  0.002215540639325442\n",
      "Iteration :  579 E =  1.3277526390876684  grad norm :  0.0021993777998057964\n",
      "Iteration :  580 E =  1.3274887765469174  grad norm :  0.0021833328716334022\n",
      "Iteration :  581 E =  1.3272269093883102  grad norm :  0.0021674049946194714\n",
      "Iteration :  582 E =  1.326967002034957  grad norm :  0.002151593314851982\n",
      "Iteration :  583 E =  1.3267090587539025  grad norm :  0.0021358969846459685\n",
      "Iteration :  584 E =  1.3264530456333896  grad norm :  0.002120315162502515\n",
      "Iteration :  585 E =  1.3261989658204913  grad norm :  0.0021048470130614473\n",
      "Iteration :  586 E =  1.3259467869649917  grad norm :  0.0020894917070555185\n",
      "Iteration :  587 E =  1.3256965111854218  grad norm :  0.002074248421268404\n",
      "Iteration :  588 E =  1.3254481075965348  grad norm :  0.0020591163384883746\n",
      "Iteration :  589 E =  1.325201577373129  grad norm :  0.0020440946474668533\n",
      "Iteration :  590 E =  1.324956891004914  grad norm :  0.002029182542871374\n",
      "Iteration :  591 E =  1.3247140488016083  grad norm :  0.0020143792252461227\n",
      "Iteration :  592 E =  1.3244730225439534  grad norm :  0.0019996839009670396\n",
      "Iteration :  593 E =  1.3242338117495178  grad norm :  0.0019850957821995548\n",
      "Iteration :  594 E =  1.3239963894118332  grad norm :  0.00197061408685692\n",
      "Iteration :  595 E =  1.323760754323924  grad norm :  0.0019562380385577415\n",
      "Iteration :  596 E =  1.3235268806191514  grad norm :  0.0019419668665838483\n",
      "Iteration :  597 E =  1.3232947664286607  grad norm :  0.0019277998058413021\n",
      "Iteration :  598 E =  1.3230643869575944  grad norm :  0.0019137360968148626\n",
      "Iteration :  599 E =  1.3228357397333  grad norm :  0.0018997749855336232\n",
      "Iteration :  600 E =  1.3226088009692145  grad norm :  0.0018859157235235258\n",
      "Iteration :  601 E =  1.3223835676427071  grad norm :  0.001872157567774365\n",
      "Iteration :  602 E =  1.3221600169162824  grad norm :  0.0018584997806924523\n",
      "Iteration :  603 E =  1.3219381452671854  grad norm :  0.001844941630069007\n",
      "Iteration :  604 E =  1.3217179307517202  grad norm :  0.001831482389033151\n",
      "Iteration :  605 E =  1.3214993693931834  grad norm :  0.0018181213360193684\n",
      "Iteration :  606 E =  1.3212824400900924  grad norm :  0.0018048577547250825\n",
      "Iteration :  607 E =  1.3210671384545547  grad norm :  0.0017916909340737522\n",
      "Iteration :  608 E =  1.3208534441791513  grad norm :  0.0017786201681758193\n",
      "Iteration :  609 E =  1.320641352504378  grad norm :  0.0017656447562901557\n",
      "Iteration :  610 E =  1.3204308438719163  grad norm :  0.0017527640027906093\n",
      "Iteration :  611 E =  1.3202219131872817  grad norm :  0.0017399772171239384\n",
      "Iteration :  612 E =  1.3200145415992757  grad norm :  0.0017272837137740733\n",
      "Iteration :  613 E =  1.3198087237123186  grad norm :  0.0017146828122272038\n",
      "Iteration :  614 E =  1.3196044413431167  grad norm :  0.0017021738369331222\n",
      "Iteration :  615 E =  1.3194016888263302  grad norm :  0.0016897561172709904\n",
      "Iteration :  616 E =  1.3192004486099413  grad norm :  0.0016774289875112697\n",
      "Iteration :  617 E =  1.3190007147878253  grad norm :  0.001665191786780625\n",
      "Iteration :  618 E =  1.3188024704049945  grad norm :  0.0016530438590290715\n",
      "Iteration :  619 E =  1.3186057093413277  grad norm :  0.0016409845529904777\n",
      "Iteration :  620 E =  1.318410415206867  grad norm :  0.001629013222150442\n",
      "Iteration :  621 E =  1.3182165816922284  grad norm :  0.0016171292247112697\n",
      "Iteration :  622 E =  1.3180241929425636  grad norm :  0.0016053319235577442\n",
      "Iteration :  623 E =  1.3178332424820807  grad norm :  0.0015936206862218153\n",
      "Iteration :  624 E =  1.3176437149630547  grad norm :  0.0015819948848494756\n",
      "Iteration :  625 E =  1.3174556037643748  grad norm :  0.0015704538961671154\n",
      "Iteration :  626 E =  1.3172688940192632  grad norm :  0.001558997101448074\n",
      "Iteration :  627 E =  1.3170835789807476  grad norm :  0.0015476238864804012\n",
      "Iteration :  628 E =  1.316899644238502  grad norm :  0.001536333641531289\n",
      "Iteration :  629 E =  1.316717082937636  grad norm :  0.001525125761317452\n",
      "Iteration :  630 E =  1.3165358811013528  grad norm :  0.001513999644969449\n",
      "Iteration :  631 E =  1.3163560317833742  grad norm :  0.0015029546960033753\n",
      "Iteration :  632 E =  1.3161775214189566  grad norm :  0.0014919903222867042\n",
      "Iteration :  633 E =  1.3160003429856832  grad norm :  0.001481105936004343\n",
      "Iteration :  634 E =  1.3158244833107449  grad norm :  0.001470300953631542\n",
      "Iteration :  635 E =  1.3156499353096063  grad norm :  0.0014595747958997174\n",
      "Iteration :  636 E =  1.3154766861825513  grad norm :  0.001448926887767215\n",
      "Iteration :  637 E =  1.315304728795826  grad norm :  0.0014383566583855895\n",
      "Iteration :  638 E =  1.3151340507051434  grad norm :  0.0014278635410728147\n",
      "Iteration :  639 E =  1.3149646447393895  grad norm :  0.001417446973278653\n",
      "Iteration :  640 E =  1.3147964987931424  grad norm :  0.0014071063965600073\n",
      "Iteration :  641 E =  1.314629605668818  grad norm :  0.0013968412565437693\n",
      "Iteration :  642 E =  1.3144639535843239  grad norm :  0.0013866510029047657\n",
      "Iteration :  643 E =  1.3142995353255966  grad norm :  0.001376535089329922\n",
      "Iteration :  644 E =  1.314136339419294  grad norm :  0.0013664929734935193\n",
      "Iteration :  645 E =  1.3139743586440358  grad norm :  0.0013565241170248796\n",
      "Iteration :  646 E =  1.3138135818215406  grad norm :  0.0013466279854816544\n",
      "Iteration :  647 E =  1.313654001731503  grad norm :  0.0013368040483193666\n",
      "Iteration :  648 E =  1.313495607477844  grad norm :  0.001327051778865312\n",
      "Iteration :  649 E =  1.313338391849006  grad norm :  0.001317370654287659\n",
      "Iteration :  650 E =  1.3131823442190307  grad norm :  0.0013077601555707265\n",
      "Iteration :  651 E =  1.313027457392126  grad norm :  0.0012982197674832\n",
      "Iteration :  652 E =  1.3128737210010935  grad norm :  0.0012887489785524079\n",
      "Iteration :  653 E =  1.3127211278723012  grad norm :  0.0012793472810387935\n",
      "Iteration :  654 E =  1.312569667886632  grad norm :  0.0012700141709055142\n",
      "Iteration :  655 E =  1.3124193338984447  grad norm :  0.0012607491477925235\n",
      "Iteration :  656 E =  1.3122701160266415  grad norm :  0.0012515517149913119\n"
     ]
    },
    {
     "name": "stdout",
     "output_type": "stream",
     "text": [
      "Iteration :  657 E =  1.3121220071588824  grad norm :  0.0012424213794151474\n",
      "Iteration :  658 E =  1.3119749976426156  grad norm :  0.0012333576515767195\n",
      "Iteration :  659 E =  1.311829080403625  grad norm :  0.00122436004555765\n",
      "Iteration :  660 E =  1.3116842460089837  grad norm :  0.00121542807898542\n",
      "Iteration :  661 E =  1.311540487426954  grad norm :  0.0012065612730068793\n",
      "Iteration :  662 E =  1.3113977954358393  grad norm :  0.0011977591522604372\n",
      "Iteration :  663 E =  1.3112561630503214  grad norm :  0.0011890212448549859\n",
      "Iteration :  664 E =  1.311115581251999  grad norm :  0.0011803470823394742\n",
      "Iteration :  665 E =  1.3109760431055395  grad norm :  0.0011717361996817779\n",
      "Iteration :  666 E =  1.3108375397883498  grad norm :  0.0011631881352422236\n",
      "Iteration :  667 E =  1.310700064418286  grad norm :  0.0011547024307481091\n",
      "Iteration :  668 E =  1.3105636083614953  grad norm :  0.0011462786312706934\n",
      "Iteration :  669 E =  1.3104281647918965  grad norm :  0.0011379162851990513\n",
      "Iteration :  670 E =  1.3102937252576894  grad norm :  0.0011296149442188656\n",
      "Iteration :  671 E =  1.3101602829914287  grad norm :  0.0011213741632838986\n",
      "Iteration :  672 E =  1.3100278297170573  grad norm :  0.0011131935005955185\n",
      "Iteration :  673 E =  1.3098963587280354  grad norm :  0.0011050725175795765\n",
      "Iteration :  674 E =  1.3097658619180825  grad norm :  0.001097010778859205\n",
      "Iteration :  675 E =  1.309636332643588  grad norm :  0.001089007852235175\n",
      "Iteration :  676 E =  1.3095077629623868  grad norm :  0.0010810633086606237\n",
      "Iteration :  677 E =  1.309380146295582  grad norm :  0.0010731767222185947\n",
      "Iteration :  678 E =  1.3092534748597606  grad norm :  0.001065347670100068\n",
      "Iteration :  679 E =  1.3091277421423027  grad norm :  0.0010575757325795103\n",
      "Iteration :  680 E =  1.3090029405134649  grad norm :  0.0010498604929938733\n",
      "Iteration :  681 E =  1.3088790635282552  grad norm :  0.0010422015377189707\n",
      "Iteration :  682 E =  1.3087561037057838  grad norm :  0.0010345984561500158\n",
      "Iteration :  683 E =  1.3086340546698443  grad norm :  0.0010270508406757001\n",
      "Iteration :  684 E =  1.308512909083828  grad norm :  0.0010195582866596759\n",
      "Iteration :  685 E =  1.3083926606413068  grad norm :  0.0010121203924159578\n",
      "Iteration :  686 E =  1.3082733021456008  grad norm :  0.0010047367591907849\n",
      "Iteration :  687 E =  1.3081548273608854  grad norm :  0.0009974069911386013\n",
      "688 [[0.06473147]\n",
      " [0.74548894]]\n"
     ]
    }
   ],
   "source": [
    "# starting value for A\n",
    "A = np.zeros((2, 1))\n",
    "# Parameters\n",
    "N = X.shape[1]\n",
    "eta = 0.035\n",
    "tol = 1e-3\n",
    "iter = 1\n",
    "# saving intermediate results\n",
    "saveA = A\n",
    "saveE = np.array(np.linalg.norm(y - predict(A, x))**2/N)\n",
    "#Loop\n",
    "while True:\n",
    "    grad = 2/N * (X @ X.T @ A - X @ Y)\n",
    "    delta = eta * grad \n",
    "    A = A -  delta\n",
    "    saveA = np.hstack((saveA, A))\n",
    "    E = np.linalg.norm(y - predict(A, x))**2/N\n",
    "    saveE = np.hstack((saveE, E))\n",
    "    normg = np.linalg.norm(grad)\n",
    "    print(\"Iteration : \", iter, \"E = \", E, \" grad norm : \", normg)\n",
    "    iter = iter + 1 \n",
    "    if (normg < tol):\n",
    "        break\n",
    "print(iter, A)"
   ]
  },
  {
   "cell_type": "markdown",
   "metadata": {},
   "source": [
    "**c-** Did you obtain the same result as question 1?"
   ]
  },
  {
   "cell_type": "markdown",
   "metadata": {},
   "source": [
    "we do not obtain the same result, we have an approximation of the exact Value. This approximation will be more accurate if you ran more iterations (define smaller value of tol)"
   ]
  },
  {
   "cell_type": "markdown",
   "metadata": {},
   "source": [
    "**d-** To understand the gradient descent, we will display in 3D the curve of the error:"
   ]
  },
  {
   "cell_type": "code",
   "execution_count": 6,
   "metadata": {},
   "outputs": [],
   "source": [
    "import numpy as np\n",
    "error = np.zeros((100,100))\n",
    "a0 = np.linspace(-.2, .45, 100)\n",
    "a1 = np.linspace(-.1, 1, 100)\n",
    "for i in range(a0.shape[0]):\n",
    "    for j in range(a1.shape[0]):\n",
    "        A = np.array([[a0[i]],[a1[j]]])\n",
    "        error[i, j] = np.linalg.norm(y - predict(A, x))**2/N"
   ]
  },
  {
   "cell_type": "code",
   "execution_count": 7,
   "metadata": {},
   "outputs": [
    {
     "data": {
      "image/png": "[encoded data removed]",
      "text/plain": [
       "<Figure size 432x288 with 1 Axes>"
      ]
     },
     "metadata": {
      "needs_background": "light"
     },
     "output_type": "display_data"
    }
   ],
   "source": [
    "%matplotlib inline\n",
    "from mpl_toolkits.mplot3d import Axes3D\n",
    "from matplotlib import cm\n",
    "from matplotlib import interactive\n",
    "A0, A1 = np.meshgrid(a0, a1)\n",
    "fig = plt.figure()\n",
    "ax = fig.gca(projection='3d')\n",
    "ax.plot_surface(A0, A1, error.T, cmap=cm.jet, rstride=1, cstride=1)\n",
    "ax.set_xlabel('A0')\n",
    "ax.set_ylabel('A1')\n",
    "interactive(True)"
   ]
  },
  {
   "cell_type": "markdown",
   "metadata": {},
   "source": [
    "You can see different views of the plot using the mouse in the interactive mode\n",
    "\n",
    "**e-** What is the link between this figure and different values of $A$ founded during the iterations of the gradient descent algorithm? Plot the path obtained using the different values of $A$ in the same figure?"
   ]
  },
  {
   "cell_type": "code",
   "execution_count": 8,
   "metadata": {},
   "outputs": [
    {
     "name": "stdout",
     "output_type": "stream",
     "text": [
      "Warning: Cannot change to a different GUI toolkit: qt. Using osx instead.\n"
     ]
    },
    {
     "data": {
      "image/png": "[encoded data removed]",
      "text/plain": [
       "<Figure size 432x288 with 1 Axes>"
      ]
     },
     "metadata": {
      "needs_background": "light"
     },
     "output_type": "display_data"
    }
   ],
   "source": [
    "%matplotlib qt\n",
    "from mpl_toolkits.mplot3d import Axes3D\n",
    "from matplotlib import cm\n",
    "from matplotlib import interactive\n",
    "A0, A1 = np.meshgrid(a0, a1)\n",
    "fig = plt.figure()\n",
    "ax = fig.gca(projection='3d')\n",
    "ax.plot_surface(A0, A1, error.T , cmap=cm.jet, rstride=1, cstride=1)\n",
    "ax.plot3D(saveA[0,:], saveA[1,:], saveE, color ='red')\n",
    "ax.set_xlabel('A0')\n",
    "ax.set_ylabel('A1')\n",
    "interactive(True)"
   ]
  },
  {
   "cell_type": "markdown",
   "metadata": {},
   "source": [
    "**f-** Conclude?"
   ]
  },
  {
   "cell_type": "markdown",
   "metadata": {},
   "source": [
    "The gradient descent need an important number of iterations, because he don't go directely to the optimum of the error function, and define a path which looks like a zigzag."
   ]
  },
  {
   "cell_type": "markdown",
   "metadata": {},
   "source": [
    "**g-** How can we improve the speed of convergence? implement this new method and compare the result with the previous decent algorithm? Plot the path obtained using the different values of A in the same figure for the two algorithms?"
   ]
  },
  {
   "cell_type": "code",
   "execution_count": 9,
   "metadata": {},
   "outputs": [
    {
     "name": "stdout",
     "output_type": "stream",
     "text": [
      "Iteration :  1 E =  8.037884249120427  grad norm :  11.064593204634097\n",
      "Iteration :  2 E =  8.037884249120445  grad norm :  4.5828629415032935e-15\n",
      "3 [[0.06388117]\n",
      " [0.75016254]]\n"
     ]
    }
   ],
   "source": [
    "A = np.zeros((2, 1))\n",
    "N = X.shape[1]\n",
    "tol = 1e-5\n",
    "iter = 1\n",
    "NsaveA = A\n",
    "NsaveE = np.array(np.linalg.norm(y - predict(A, x))**2/N)\n",
    "ggrad=np.linalg.inv(2/N*(X @ X.T))\n",
    "while True:\n",
    "    grad = 2/N * (X @ X.T @ A - X @ Y)\n",
    "    delta = ggrad @ grad\n",
    "    A = A - delta\n",
    "    NsaveA = np.hstack((NsaveA, A))\n",
    "    E = np.linalg.norm(y - predict(A, x))\n",
    "    NsaveE = np.hstack((NsaveE, E))\n",
    "    norm = np.linalg.norm(grad)\n",
    "    print(\"Iteration : \", iter, \"E = \", E, \" grad norm : \", norm)\n",
    "    iter = iter + 1 \n",
    "    if (norm < tol):\n",
    "        break\n",
    "print(iter, A)"
   ]
  },
  {
   "cell_type": "code",
   "execution_count": 10,
   "metadata": {},
   "outputs": [
    {
     "data": {
      "image/png": "[encoded data removed]",
      "text/plain": [
       "<Figure size 432x288 with 1 Axes>"
      ]
     },
     "metadata": {
      "needs_background": "light"
     },
     "output_type": "display_data"
    }
   ],
   "source": [
    "%matplotlib inline\n",
    "from mpl_toolkits.mplot3d import Axes3D\n",
    "from matplotlib import cm\n",
    "from matplotlib import interactive\n",
    "A0, A1 = np.meshgrid(a0, a1)\n",
    "fig = plt.figure()\n",
    "ax = fig.gca(projection='3d')\n",
    "ax.plot_surface(A0, A1, error.T , cmap=cm.jet, rstride=1, cstride=1)\n",
    "ax.plot3D(saveA[0,:], saveA[1,:], saveE, color ='red')\n",
    "ax.plot3D(NsaveA[0,:], NsaveA[1,:], NsaveE, color ='green')\n",
    "ax.set_xlabel('A0')\n",
    "ax.set_ylabel('A1')\n",
    "interactive(True)"
   ]
  },
  {
   "cell_type": "markdown",
   "metadata": {},
   "source": [
    "**h-** To run a linear Regression you can also use the sklearn library."
   ]
  },
  {
   "cell_type": "code",
   "execution_count": 11,
   "metadata": {},
   "outputs": [
    {
     "name": "stdout",
     "output_type": "stream",
     "text": [
      "A =  [[0.06388117 0.75016254]]\n",
      "height(3.5) =  [[0.97374662]]\n",
      "height(7) =  [[1.1973307]]\n",
      "Score =  0.8580632237208231\n"
     ]
    }
   ],
   "source": [
    "from sklearn.linear_model import LinearRegression\n",
    "reg = LinearRegression(fit_intercept = False).fit(X.T, Y)\n",
    "print(\"A = \", reg.coef_)\n",
    "print(\"height(3.5) = \", reg.predict(np.array([[3.5, 1]])))\n",
    "print(\"height(7) = \", reg.predict(np.array([[7, 1]])))\n",
    "print(\"Score = \", reg.score(X.T, y.reshape((50,1))))"
   ]
  },
  {
   "cell_type": "markdown",
   "metadata": {},
   "source": [
    "## Part 2: Regularised Regression \n",
    "### Import Data\n",
    "\n",
    "The following dataset is from Hastie, Tibshirani and Friedman (2009), from a study by Stamey et al. (1989) of prostate cancer, measuring the correlation between the level of a prostate-specific antigen and some covariates. The covariates are\n",
    "- lcavol : log-cancer volume\n",
    "-  lweight : log-prostate weight\n",
    "-  age : age of patient\n",
    "-  lbhp : log-amount of benign hyperplasia\n",
    "-  svi : seminal vesicle invasion\n",
    "-  lcp : log-capsular penetration\n",
    "-  gleason : Gleason Score,\n",
    "-  lpsa is the response variable, log-psa."
   ]
  },
  {
   "cell_type": "code",
   "execution_count": 12,
   "metadata": {},
   "outputs": [],
   "source": [
    "%matplotlib inline\n",
    "import pickle\n",
    "import matplotlib.pyplot as plt\n",
    "import numpy as np\n",
    "from sklearn import linear_model"
   ]
  },
  {
   "cell_type": "code",
   "execution_count": 13,
   "metadata": {},
   "outputs": [
    {
     "name": "stdout",
     "output_type": "stream",
     "text": [
      "Train data :  (7, 60)   (60,)\n",
      "Test data :  (7, 37)   (37,)\n"
     ]
    }
   ],
   "source": [
    "fin = open('data2.pkl', 'rb')\n",
    "xtrain = pickle.load(fin)\n",
    "ytrain = pickle.load(fin)\n",
    "Xtest = pickle.load(fin)\n",
    "Ytest = pickle.load(fin)\n",
    "fin.close()\n",
    "\n",
    "print('Train data : ', xtrain.shape, ' ', ytrain.shape)\n",
    "print('Test data : ', Xtest.shape, ' ', Ytest.shape)"
   ]
  },
  {
   "cell_type": "markdown",
   "metadata": {},
   "source": [
    "### Linear Regression\n",
    "\n",
    "Using the program of Part 1, compute the linear regression weight $w$\n",
    "\n",
    "$$y = g(x) = W^T x =\\sum_{d=0}^7 w_d x_d$$\n",
    "with $x_0 = 1$\n",
    "\n",
    "The linear regression consists in finding the parameters $W$ which minimizes the \n",
    "quadratic error:\n",
    "$$E(W) = \\frac{1}{60}\\sum_{i=1}^{60}\\left(g(x_i) - y_i\\right)^2$$\n",
    "\n",
    "The vector $W$ which minimize $E(W)$ is defined as follow:\n",
    "$$W = (X X^T)^{-1}X Y$$\n",
    "\n",
    "Compute the vector $W$ wich minimize $E(W)$ :\n",
    "- Compute $w$ using the exact solution\n",
    "- Compute the error on test data"
   ]
  },
  {
   "cell_type": "code",
   "execution_count": 14,
   "metadata": {},
   "outputs": [
    {
     "name": "stdout",
     "output_type": "stream",
     "text": [
      "[-1.37427705  0.40461954  0.52246673 -0.02499738  0.16200821 -0.74830121\n",
      " -0.08828183  0.38558413]\n"
     ]
    }
   ],
   "source": [
    "X=np.vstack((np.ones(xtrain.shape[1]),xtrain))\n",
    "W=np.linalg.inv(X @ X.T) @ X @ ytrain\n",
    "print(W)"
   ]
  },
  {
   "cell_type": "markdown",
   "metadata": {},
   "source": [
    "- Check that you obtain the same $W$ with sklean.linear_model.LinearRegression?"
   ]
  },
  {
   "cell_type": "code",
   "execution_count": 15,
   "metadata": {},
   "outputs": [
    {
     "name": "stdout",
     "output_type": "stream",
     "text": [
      "A =  [[ 0.40461954  0.52246673 -0.02499738  0.16200821 -0.74830121 -0.08828183\n",
      "   0.38558413]]\n"
     ]
    }
   ],
   "source": [
    "from sklearn.linear_model import LinearRegression\n",
    "reg = LinearRegression().fit(xtrain.T, ytrain.reshape((60,1)))\n",
    "print(\"A = \", reg.coef_)"
   ]
  },
  {
   "cell_type": "code",
   "execution_count": 16,
   "metadata": {},
   "outputs": [
    {
     "name": "stdout",
     "output_type": "stream",
     "text": [
      "[-1.37427705]\n"
     ]
    }
   ],
   "source": [
    "print(reg.intercept_)"
   ]
  },
  {
   "cell_type": "markdown",
   "metadata": {},
   "source": [
    "### Ridge regression\n",
    "\n",
    "The ridge regression consists in finding the parameters $W$ which minimizes:\n",
    "$$\\frac{1}{60}\\sum_{i=1}^{60}\\left(W^T x_i - y_i\\right)^2 + \\alpha \\|W\\|_2^2$$ \n",
    "\n",
    "- Using linear_model.Ridge and $\\alpha = 0.$, check that you obtain the same $W$ as linear regression"
   ]
  },
  {
   "cell_type": "code",
   "execution_count": 17,
   "metadata": {},
   "outputs": [
    {
     "name": "stdout",
     "output_type": "stream",
     "text": [
      "W = [ 0.40461954  0.52246673 -0.02499738  0.16200821 -0.74830121 -0.08828183\n",
      "  0.38558413]\n",
      "Erreur =  2.8641499657014404\n"
     ]
    }
   ],
   "source": [
    "lridge = linear_model.Ridge(alpha = 0.)\n",
    "\n",
    "lridge.fit(xtrain.T, ytrain)\n",
    "print('W =', lridge.coef_)\n",
    "e = np.mean((lridge.predict(Xtest.T) - Ytest) ** 2)\n",
    "print('Erreur = ', e)"
   ]
  },
  {
   "cell_type": "markdown",
   "metadata": {},
   "source": [
    "In this part, we will check the influence of $\\alpha$ on the solution of the linear regression\n",
    "\n",
    "- Train a ridge regression with different values of $\\alpha$ = np.logspace(-5, 5, 200), save the values of W, Mean squared errors on train and test data."
   ]
  },
  {
   "cell_type": "code",
   "execution_count": 18,
   "metadata": {},
   "outputs": [
    {
     "name": "stdout",
     "output_type": "stream",
     "text": [
      "(2, 200)\n",
      "(7, 200)\n"
     ]
    }
   ],
   "source": [
    "alphas = np.logspace(-5, 5, 200)\n",
    "e=[]\n",
    "w=[]\n",
    "for a in alphas:\n",
    "    rr = linear_model.Ridge(alpha=a)\n",
    "    rr.fit(xtrain.T, ytrain)\n",
    "    yp = rr.predict(xtrain.T)\n",
    "    e1 = np.mean((ytrain - yp)**2)\n",
    "    ytp = rr.predict(Xtest.T)\n",
    "    e2 = np.mean((Ytest - ytp)**2)\n",
    "    e.append(np.array([e1, e2]))\n",
    "    w.append(rr.coef_)\n",
    "\n",
    "e=np.array(e).T\n",
    "w=np.array(w).T\n",
    "print(e.shape)\n",
    "print(w.shape)"
   ]
  },
  {
   "cell_type": "markdown",
   "metadata": {},
   "source": [
    "- Plot how evolve each $W_i$ through the sequence of $\\alpha$ values."
   ]
  },
  {
   "cell_type": "code",
   "execution_count": 19,
   "metadata": {},
   "outputs": [
    {
     "data": {
      "image/png": "[encoded data removed]",
      "text/plain": [
       "<Figure size 432x288 with 1 Axes>"
      ]
     },
     "metadata": {
      "needs_background": "light"
     },
     "output_type": "display_data"
    }
   ],
   "source": [
    "for i in range(7):\n",
    "    plt.semilogx(alphas, w[i, :])\n",
    "\n",
    "plt.show()"
   ]
  },
  {
   "cell_type": "markdown",
   "metadata": {},
   "source": [
    "- Plot how evolve the mean square error on train and test data through the sequence of $\\alpha$ values."
   ]
  },
  {
   "cell_type": "code",
   "execution_count": 20,
   "metadata": {},
   "outputs": [
    {
     "data": {
      "image/png": "[encoded data removed]",
      "text/plain": [
       "<Figure size 432x288 with 1 Axes>"
      ]
     },
     "metadata": {
      "needs_background": "light"
     },
     "output_type": "display_data"
    }
   ],
   "source": [
    "# Plot Mean Squared Error on train data\n",
    "plt.semilogx(alphas, e[0, :], color = 'blue')\n",
    "# Plot Mean Squared Error on test data\n",
    "plt.semilogx(alphas, e[1, :], color = 'red')\n",
    "\n",
    "plt.show()"
   ]
  },
  {
   "cell_type": "markdown",
   "metadata": {},
   "source": [
    "- Conclude? (Which is the best value for $\\alpha$)"
   ]
  },
  {
   "cell_type": "markdown",
   "metadata": {},
   "source": [
    "- the best $\\alpha$ = $\\alpha^*$ should be the optimum of the red curve\n",
    "- foreach $\\alpha < \\alpha^*$ you are in the overfitting case\n",
    "- foreach $\\alpha > \\alpha^*$ you are in the underfitting case\n",
    "- you obtain the best generalization error for $\\alpha^*$"
   ]
  },
  {
   "cell_type": "markdown",
   "metadata": {},
   "source": [
    "### Lasso regression\n",
    "\n",
    "The ridge regression consists in finding the parameters $W$ which minimizes:\n",
    "$$\\frac{1}{2 \\times 60}\\sum_{i=1}^{60}\\left(W^T x_i - y_i\\right)^2 + \\alpha \\|W\\|_1$$\n",
    "\n",
    "- Using linear_model.Lasso and $\\alpha = 0.$, check that you obtain the same $W$ as linear regression"
   ]
  },
  {
   "cell_type": "code",
   "execution_count": 21,
   "metadata": {},
   "outputs": [
    {
     "name": "stdout",
     "output_type": "stream",
     "text": [
      "[ 0.40461954  0.52246673 -0.02499738  0.16200821 -0.74830121 -0.08828183\n",
      "  0.38558413]\n"
     ]
    },
    {
     "name": "stderr",
     "output_type": "stream",
     "text": [
      "/Users/reda/pythonEnv/Py37SysTf15/lib/python3.7/site-packages/ipykernel_launcher.py:1: UserWarning: With alpha=0, this algorithm does not converge well. You are advised to use the LinearRegression estimator\n",
      "  \"\"\"Entry point for launching an IPython kernel.\n",
      "/Users/reda/pythonEnv/Py37SysTf15/lib/python3.7/site-packages/sklearn/linear_model/_coordinate_descent.py:532: UserWarning: Coordinate descent with no regularization may lead to unexpected results and is discouraged.\n",
      "  positive)\n",
      "/Users/reda/pythonEnv/Py37SysTf15/lib/python3.7/site-packages/sklearn/linear_model/_coordinate_descent.py:532: ConvergenceWarning: Objective did not converge. You might want to increase the number of iterations. Duality gap: 8.633246593799855, tolerance: 0.003881537381634925\n",
      "  positive)\n"
     ]
    }
   ],
   "source": [
    "rr = linear_model.Lasso(alpha=0).fit(xtrain.T, ytrain)\n",
    "print(rr.coef_)"
   ]
  },
  {
   "cell_type": "markdown",
   "metadata": {},
   "source": [
    "In this part, we will check the influence of $\\alpha$ on the solution of the linear regression\n",
    "\n",
    "- Train a Lasso regression with different values of $\\alpha$ = np.logspace(-5, 5, 200), save the values of W, Mean squared errors on train and test data."
   ]
  },
  {
   "cell_type": "code",
   "execution_count": 22,
   "metadata": {},
   "outputs": [
    {
     "name": "stdout",
     "output_type": "stream",
     "text": [
      "(2, 200)\n",
      "(7, 200)\n"
     ]
    }
   ],
   "source": [
    "alphas = np.logspace(-5, 5, 200)\n",
    "e=[]\n",
    "w=[]\n",
    "for a in alphas:\n",
    "    rr = linear_model.Lasso(alpha=a)\n",
    "    rr.fit(xtrain.T, ytrain)\n",
    "    yp = rr.predict(xtrain.T)\n",
    "    e1 = np.mean((ytrain - yp)**2)\n",
    "    ytp = rr.predict(Xtest.T)\n",
    "    e2 = np.mean((Ytest - ytp)**2)\n",
    "    e.append(np.array([e1, e2]))\n",
    "    w.append(rr.coef_)\n",
    "\n",
    "e=np.array(e).T\n",
    "w=np.array(w).T\n",
    "print(e.shape)\n",
    "print(w.shape)"
   ]
  },
  {
   "cell_type": "markdown",
   "metadata": {},
   "source": [
    "- Plot how evolve each $W_i$ through the sequence of $\\alpha$ values."
   ]
  },
  {
   "cell_type": "code",
   "execution_count": 23,
   "metadata": {},
   "outputs": [
    {
     "data": {
      "image/png": "[encoded data removed]",
      "text/plain": [
       "<Figure size 432x288 with 1 Axes>"
      ]
     },
     "metadata": {
      "needs_background": "light"
     },
     "output_type": "display_data"
    }
   ],
   "source": [
    "for i in range(7):\n",
    "    plt.semilogx(alphas, w[i, :])\n",
    "\n",
    "plt.show()"
   ]
  },
  {
   "cell_type": "markdown",
   "metadata": {},
   "source": [
    "- Plot how evolve the mean square error on train and test data through the sequence of $\\alpha$ values."
   ]
  },
  {
   "cell_type": "code",
   "execution_count": 24,
   "metadata": {},
   "outputs": [
    {
     "data": {
      "image/png": "[encoded data removed]",
      "text/plain": [
       "<Figure size 432x288 with 1 Axes>"
      ]
     },
     "metadata": {
      "needs_background": "light"
     },
     "output_type": "display_data"
    }
   ],
   "source": [
    "# Plot Mean Squared Error on train data\n",
    "plt.semilogx(alphas, e[0, :], color = 'blue')\n",
    "# Plot Mean Squared Error on train data\n",
    "plt.semilogx(alphas, e[1, :], color = 'red')\n",
    "\n",
    "plt.show()"
   ]
  },
  {
   "cell_type": "markdown",
   "metadata": {},
   "source": [
    "- Conclude? (Which is the best value for $\\alpha$"
   ]
  },
  {
   "cell_type": "markdown",
   "metadata": {},
   "source": [
    "- the best $\\alpha$ = $\\alpha^*$ should be the optimum of the red curve\n",
    "- foreach $\\alpha < \\alpha^*$ you are in the overfitting case\n",
    "- foreach $\\alpha > \\alpha^*$ you are in the underfitting case\n",
    "- you obtain the best generalization error for $\\alpha^*$"
   ]
  },
  {
   "cell_type": "markdown",
   "metadata": {},
   "source": [
    "- Compare the result with ridge solution?"
   ]
  },
  {
   "cell_type": "markdown",
   "metadata": {},
   "source": [
    "We have better generalization error for the Lasso Method in this case."
   ]
  }
 ],
 "metadata": {
  "kernelspec": {
   "display_name": "Python 3 (ipykernel)",
   "language": "python",
   "name": "python3"
  },
  "language_info": {
   "codemirror_mode": {
    "name": "ipython",
    "version": 3
   },
   "file_extension": ".py",
   "mimetype": "text/x-python",
   "name": "python",
   "nbconvert_exporter": "python",
   "pygments_lexer": "ipython3",
   "version": "3.9.10"
  }
 },
 "nbformat": 4,
 "nbformat_minor": 2
}
