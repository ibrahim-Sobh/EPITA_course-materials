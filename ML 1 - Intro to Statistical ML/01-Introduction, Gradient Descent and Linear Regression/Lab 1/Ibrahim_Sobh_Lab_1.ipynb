{
 "cells": [
  {
   "cell_type": "markdown",
   "metadata": {},
   "source": [
    "# <center> Lab 01: Linear Regression, Multiple Regression and Regularised Regression <br> <small>Réda DEHAK<br> 6 january 2020</small> </center>\n",
    "\n",
    "The goal of this lab is :\n",
    "    - Implement a linear regression\n",
    "    - Try different version of the gradient descent algorithm\n",
    "    - Fit generalised linear models with ridge or Lasso regularisations\n",
    "    \n",
    "We will use a data file that contain different measurements of height (variable y) of an individual sample according to the age (variable x)."
   ]
  },
  {
   "cell_type": "markdown",
   "metadata": {},
   "source": [
    "## Import Data"
   ]
  },
  {
   "cell_type": "code",
   "execution_count": 1,
   "metadata": {},
   "outputs": [
    {
     "name": "stdout",
     "output_type": "stream",
     "text": [
      "Using matplotlib backend: <object object at 0x7f92095310f0>\n",
      "%pylab is deprecated, use %matplotlib inline and import the required libraries.\n",
      "Populating the interactive namespace from numpy and matplotlib\n",
      "shape(x) :  (50,)\n",
      "shape(y) :  (50,)\n"
     ]
    },
    {
     "data": {
      "text/plain": [
       "Text(0, 0.5, 'Height')"
      ]
     },
     "execution_count": 1,
     "metadata": {},
     "output_type": "execute_result"
    },
    {
     "data": {
      "image/png": "[encoded data removed]",
      "text/plain": [
       "<Figure size 432x288 with 1 Axes>"
      ]
     },
     "metadata": {
      "needs_background": "light"
     },
     "output_type": "display_data"
    }
   ],
   "source": [
    "%pylab\n",
    "%matplotlib inline\n",
    "import numpy as np\n",
    "import pickle\n",
    "fin = open('data.pkl', 'rb')\n",
    "x = pickle.load(fin)\n",
    "y = pickle.load(fin)\n",
    "fin.close()\n",
    "print(\"shape(x) : \", x.shape)\n",
    "print(\"shape(y) : \", y.shape)\n",
    "import matplotlib.pyplot as plt\n",
    "plt.plot(x, y, 'x')\n",
    "plt.xlabel('Age')\n",
    "plt.ylabel('Height')"
   ]
  },
  {
   "cell_type": "markdown",
   "metadata": {},
   "source": [
    "## Part 1: Linear Regression\n",
    "\n",
    "We will implement a linear regression for this problem, you know that the linear \n",
    "regression assumes that the observed variable $y$ is a linear combination of the \n",
    "vector of observation $x$\n",
    "\n",
    "$$f(x) = x^TA =\\sum_{d=1}^D a_{[d]} x_{[d]}$$\n",
    "with $x_{[D]} = 1$\n",
    "\n",
    "The linear regression consists in finding the parameters $A$ which minimizes the \n",
    "quadratic error:\n",
    "$$E(A) = \\sum_{i=1}^{N}\\left(f(x_i) - y_i\\right)^2$$\n",
    "\n",
    "we will solve this problem using two different methods:\n",
    "\n",
    "**1. Exact solution:**\n",
    "\n",
    "The vector $A$ which minimize $E(A)$ is defined as follow:\n",
    "$$A = (XX^T)^{-1}X Y$$\n",
    "\n",
    "where \n",
    "$$X=\\left[\\begin{matrix}\n",
    "x_1 & x_2 & ... & x_N\\\\\n",
    "1   &  1  & ... &  1\n",
    "\\end{matrix}\\right]$$\n",
    "\n",
    "$$Y=\\left[\\begin{matrix}\n",
    "y_1\\\\\n",
    "y_2\\\\\n",
    "...\\\\\n",
    "y_N\n",
    "\\end{matrix}\\right]$$\n",
    "\n",
    "**a-** Compute the vector $A$ wich minimize $E(A)$?"
   ]
  },
  {
   "cell_type": "code",
   "execution_count": 2,
   "metadata": {
    "scrolled": true
   },
   "outputs": [
    {
     "name": "stdout",
     "output_type": "stream",
     "text": [
      "[2.0658746 2.3684087 2.5399929 2.5420804 2.549079  2.7866882 2.9116825\n",
      " 3.035627  3.1146696 3.1582389 3.3275944 3.3793165 3.4122006 3.4215823\n",
      " 3.5315732 3.6393002 3.6732537 3.9256462 4.0498646 4.2483348 4.3440052\n",
      " 4.3826531 4.4230602 4.6102443 4.6881183 4.9777333 5.0359967 5.0684536\n",
      " 5.4161491 5.4395623 5.4563207 5.5698458 5.6015729 5.6877617 5.7215602\n",
      " 5.8538914 6.1978026 6.3510941 6.4797033 6.7383791 6.8637686 7.0223387\n",
      " 7.0782373 7.1514232 7.4664023 7.5973874 7.7440717 7.7729662 7.8264514\n",
      " 7.9306356]\n"
     ]
    }
   ],
   "source": [
    "print(x)"
   ]
  },
  {
   "cell_type": "code",
   "execution_count": 3,
   "metadata": {
    "scrolled": true
   },
   "outputs": [
    {
     "name": "stdout",
     "output_type": "stream",
     "text": [
      "[[0.06388117]\n",
      " [0.75016254]]\n"
     ]
    }
   ],
   "source": [
    "X = np.stack((x,np.ones(len(x))),axis=0)\n",
    "Y = y.reshape((-1,1))\n",
    "\n",
    "#A=np.dot(np.linalg.inv(np.dot(X,np.transpose(X))),np.dot(X,Y))\n",
    "A= np.linalg.inv(X @ X.T) @ X @ Y\n",
    "\n",
    "## ( @ is a product instead of  dot)       \n",
    "print(A)"
   ]
  },
  {
   "cell_type": "code",
   "execution_count": 4,
   "metadata": {
    "scrolled": true
   },
   "outputs": [
    {
     "data": {
      "text/plain": [
       "Text(0, 0.5, 'Height')"
      ]
     },
     "execution_count": 4,
     "metadata": {},
     "output_type": "execute_result"
    },
    {
     "data": {
      "image/png": "[encoded data removed]",
      "text/plain": [
       "<Figure size 432x288 with 1 Axes>"
      ]
     },
     "metadata": {
      "needs_background": "light"
     },
     "output_type": "display_data"
    }
   ],
   "source": [
    "def predict(A, x):\n",
    "    if isscalar(x):\n",
    "        X=np.vstack((x,1))\n",
    "        return (X.T @ A)[0][0]\n",
    "    X=np.stack((x,np.ones(len(x))),axis=0)\n",
    "    return X.T @ A # ax +b\n",
    "\n",
    "\n",
    "plt.plot(x, y, 'x', c='blue')\n",
    "pred = predict(A, x)\n",
    "plt.plot(x, pred, c='red')\n",
    "plt.xlabel('Age')\n",
    "plt.ylabel('Height')\n"
   ]
  },
  {
   "cell_type": "markdown",
   "metadata": {},
   "source": [
    "**b-** Plot in the same figure the training data and the straight \n",
    "line corresponding to the obtained $A$?"
   ]
  },
  {
   "cell_type": "markdown",
   "metadata": {},
   "source": [
    "**c-** Predict the height of a person of age 3.5 and that of age 7? "
   ]
  },
  {
   "cell_type": "code",
   "execution_count": 5,
   "metadata": {
    "scrolled": true
   },
   "outputs": [
    {
     "name": "stdout",
     "output_type": "stream",
     "text": [
      "height(3.5) =  0.9737466173916569\n",
      "height(7) =  1.1973306977820766\n",
      "height(7) =  [[0.97374662]]\n"
     ]
    }
   ],
   "source": [
    "print(\"height(3.5) = \", predict(A,3.5))\n",
    "print(\"height(7) = \", predict(A,7))\n",
    "print(\"height(7) = \", predict(A,np.array([3.5])))"
   ]
  },
  {
   "cell_type": "markdown",
   "metadata": {},
   "source": [
    "**2. Gradient Descent :**\n",
    "In this part, we will use the gradient descent algorithm (see convex optimization course) to find the best regression parameters. We will use the batch learning. \n",
    "\n",
    "**a-** Give the recurrence formula for $A$ of the algorithm?"
   ]
  },
  {
   "cell_type": "markdown",
   "metadata": {
    "collapsed": true
   },
   "source": [
    "$$ A_n = A_{n-1} - \\frac{2\\eta}{N} \\left(XX^T A_{n-1} - XY\\right) $$\n",
    "\n",
    "$$\n",
    "E=\\frac{1}{N}\\left(A^{T} X X^{T} A-2 A^{T} X Y +Y^{T}Y\\right)\\text { ---> Cost function }\n",
    "$$\n"
   ]
  },
  {
   "cell_type": "markdown",
   "metadata": {},
   "source": [
    "**b-** Implement a gradient descent with a learning rate $\\eta = 0.035$ \n",
    "and starting from the origin of the space $A = 0$? Wait until the convergence of the algorithm? (print at each iteration, the number of iteration, the Error and the norm of the gradient)"
   ]
  },
  {
   "cell_type": "code",
   "execution_count": 6,
   "metadata": {},
   "outputs": [
    {
     "name": "stdout",
     "output_type": "stream",
     "text": [
      "intital_cost:  [[1.14746498]]\n",
      "Iter:  0  Error:  [[0.56606457]]  [Old-New](Cost): [[0.58140041]]  t0:  [0.32573286]  t1:  [0.06388116]\n",
      "Iter:  50  Error:  [[0.03099286]]  [Old-New](Cost): [[0.00036634]]  t0:  [0.1583351]  t1:  [0.23100675]\n",
      "Iter:  100  Error:  [[0.01747157]]  [Old-New](Cost): [[0.00019565]]  t0:  [0.13290685]  t1:  [0.37077036]\n",
      "Iter:  150  Error:  [[0.01025053]]  [Old-New](Cost): [[0.00010448]]  t0:  [0.11432422]  t1:  [0.47290775]\n",
      "Iter:  200  Error:  [[0.00639414]]  [Old-New](Cost): [[5.57996916e-05]]  t0:  [0.10074429]  t1:  [0.54754841]\n",
      "Iter:  250  Error:  [[0.00433464]]  [Old-New](Cost): [[2.97997859e-05]]  t0:  [0.09082025]  t1:  [0.60209482]\n",
      "Iter:  300  Error:  [[0.00323476]]  [Old-New](Cost): [[1.59145547e-05]]  t0:  [0.08356789]  t1:  [0.64195661]\n",
      "Iter:  350  Error:  [[0.00264737]]  [Old-New](Cost): [[8.49915669e-06]]  t0:  [0.07826796]  t1:  [0.67108708]\n",
      "Iter:  400  Error:  [[0.00233368]]  [Old-New](Cost): [[4.53896864e-06]]  t0:  [0.07439485]  t1:  [0.69237524]\n",
      "Iter:  450  Error:  [[0.00216615]]  [Old-New](Cost): [[2.424033e-06]]  t0:  [0.07156442]  t1:  [0.70793234]\n",
      "Iter:  500  Error:  [[0.00207668]]  [Old-New](Cost): [[1.29455311e-06]]  t0:  [0.06949599]  t1:  [0.71930127]\n",
      "Iter:  550  Error:  [[0.0020289]]  [Old-New](Cost): [[6.91355177e-07]]  t0:  [0.0679844]  t1:  [0.72760953]\n",
      "Iter:  600  Error:  [[0.00200339]]  [Old-New](Cost): [[3.69217745e-07]]  t0:  [0.06687976]  t1:  [0.7336811]\n",
      "Iter:  650  Error:  [[0.00198976]]  [Old-New](Cost): [[1.97180476e-07]]  t0:  [0.0660725]  t1:  [0.73811812]\n",
      "Iter:  700  Error:  [[0.00198248]]  [Old-New](Cost): [[1.05304095e-07]]  t0:  [0.06548256]  t1:  [0.74136064]\n",
      "Converged, iterations:  705\n",
      "[[0.06543312]\n",
      " [0.74163241]]\n"
     ]
    },
    {
     "data": {
      "image/png": "[encoded data removed]",
      "text/plain": [
       "<Figure size 432x288 with 1 Axes>"
      ]
     },
     "metadata": {
      "needs_background": "light"
     },
     "output_type": "display_data"
    }
   ],
   "source": [
    "# E= 1/N * ( y - y_predict)^2\n",
    "# E =1/N * (( A^T@X - y_p)^2\n",
    "# E =1/N * (A^T@X)^2 - 2(A^T@X)@y_p +(y_p)^2\n",
    "# E =1/N *  (A^T @ X @ X^T @ A) - 2 * A^T@X@Y +Y^T@Y\n",
    "%matplotlib inline\n",
    "def Gradient_Descent(learning_rate, \n",
    "                    X, \n",
    "                    Y, \n",
    "                    eps=0.0001, \n",
    "                    max_iter=1000, \n",
    "                    steps=10):\n",
    "    \n",
    "    A = np.zeros((2, 1))\n",
    "    N = X.shape[1]\n",
    "    theta0_hist=[A[0]]\n",
    "    theta1_hist=[A[1]]\n",
    "    \n",
    "    intital_cost = (1/N)*(Y.T@Y - 2*A.T@X@Y + A.T@X@X.T@A)\n",
    "    print(\"intital_cost: \",intital_cost)\n",
    "    \n",
    "    iter = 1\n",
    "    for iter in range(max_iter):\n",
    "        \n",
    "        # calculate new Theta0, theta 1 (slope,intercept)\n",
    "        delta = 2*eta/N*(X@X.T@A - X@Y)\n",
    "        A= A - 2*eta/N*(X@X.T@A - X@Y)\n",
    "        \n",
    "        theta0_hist.append(A[0])\n",
    "        theta1_hist.append(A[1])\n",
    "        #calculate new cost\n",
    "        new_cost=(1/N)*(Y.T@Y - 2*A.T@X@Y + A.T@X@X.T@A)\n",
    "\n",
    "        if (iter % steps ==0): \n",
    "            print(\"Iter: \", iter, \n",
    "                     \" Error: \",new_cost, \n",
    "                     \" [Old-New](Cost):\",abs(intital_cost-new_cost), \n",
    "                     \" t0: \", A[0], \n",
    "                     \" t1: \",A[1])\n",
    "\n",
    "        if abs(intital_cost-new_cost) <tol:\n",
    "            print('Converged, iterations: ', iter)\n",
    "            print(A)\n",
    "            break\n",
    "\n",
    "        intital_cost=new_cost\n",
    "\n",
    "    if iter == max_iter:\n",
    "        print('Max interactions exceeded!')\n",
    "        \n",
    "    return A,theta0_hist,theta1_hist\n",
    "N = X.shape[1]\n",
    "eta = 0.03\n",
    "tol = 10**-7\n",
    "steps=50\n",
    "max_iter=1000\n",
    "A,theta0_hist,theta1_hist=  Gradient_Descent(eta,X,Y,tol,max_iter,steps)\n",
    "plt.plot(x, y, 'x', c='blue')\n",
    "pred = predict(A, x)\n",
    "plt.plot(x, pred, c='red')\n",
    "plt.xlabel('Age')\n",
    "plt.ylabel('Height')  \n",
    "plt.show()"
   ]
  },
  {
   "cell_type": "markdown",
   "metadata": {},
   "source": [
    "**c-** Did you obtain the same result as question 1?"
   ]
  },
  {
   "cell_type": "code",
   "execution_count": 7,
   "metadata": {
    "scrolled": false
   },
   "outputs": [
    {
     "name": "stdout",
     "output_type": "stream",
     "text": [
      "A using Inverse : [[0.06388117]\n",
      " [0.75016254]]\n",
      "A using Gradient Descent : [[0.06543312]\n",
      " [0.74163241]]\n",
      "Slope error  [-0.00155195]\n",
      "Intercept error  [0.00853013]\n",
      "\n",
      "--->We almost have the same results with minimal margin of error\n"
     ]
    }
   ],
   "source": [
    "A1= np.linalg.inv(X @ X.T) @ X @ Y\n",
    "print(\"A using Inverse :\", A1)\n",
    "print(\"A using Gradient Descent :\",A)\n",
    "\n",
    "print( \"Slope error \", A1[0]-A[0])\n",
    "print( \"Intercept error \", A1[1]-A[1])\n",
    "\n",
    "print(\"\\n--->We almost have the same results with minimal margin of error\")"
   ]
  },
  {
   "cell_type": "markdown",
   "metadata": {},
   "source": [
    "**d-** To understand the gradient descent, we will display in 3D the curve of the error:"
   ]
  },
  {
   "cell_type": "code",
   "execution_count": 8,
   "metadata": {},
   "outputs": [],
   "source": [
    "import numpy as np\n",
    "error = np.zeros((100,100))\n",
    "a0 = np.linspace(-.2, .45, 100)\n",
    "a1 = np.linspace(-.1, 1, 100)\n",
    "\n",
    "for i in range(a0.shape[0]):\n",
    "    for j in range(a1.shape[0]):\n",
    "        A = np.array([[a0[i]],[a1[j]]])\n",
    "        error[i, j] = (1/N)*(Y.T@Y - 2*A.T@X@Y + A.T@X@X.T@A)\n"
   ]
  },
  {
   "cell_type": "code",
   "execution_count": 9,
   "metadata": {},
   "outputs": [],
   "source": [
    "%matplotlib qt\n",
    "from mpl_toolkits.mplot3d import Axes3D\n",
    "from matplotlib import cm\n",
    "from matplotlib import interactive\n",
    "A0, A1 = np.meshgrid(a0, a1)\n",
    "fig = plt.figure(figsize=(8, 6), dpi=120)\n",
    "#ax = fig.gca(projection='3d')\n",
    "ax = fig.add_subplot(111, projection='3d')\n",
    "ax.plot_surface(A0, A1, error.T, cmap=cm.jet, rstride=1, cstride=1)\n",
    "ax.set_xlabel('A0')\n",
    "ax.set_ylabel('A1')\n",
    "interactive(True)"
   ]
  },
  {
   "cell_type": "markdown",
   "metadata": {},
   "source": [
    "You can see different views of the plot using the mouse in the interactive mode\n",
    "\n",
    "**e-** What is the link between this figure and different values of $A$ founded during the iterations of the gradient descent algorithm? Plot the path obtained using the different values of $A$ in the same figure?"
   ]
  },
  {
   "cell_type": "code",
   "execution_count": 10,
   "metadata": {
    "scrolled": true
   },
   "outputs": [],
   "source": [
    "#calulate Error\n",
    "%matplotlib qt\n",
    "error1 = np.zeros((len(theta0_hist)))\n",
    "for i in range(len(theta0_hist)):\n",
    "        A = np.array([theta0_hist[i],theta1_hist[i]])\n",
    "        error1[i] = (1/N)*(Y.T@Y - 2*A.T@X@Y + A.T@X@X.T@A)\n",
    "theta0_hist=np.array(theta0_hist).reshape((-1,))\n",
    "theta1_hist=np.array(theta1_hist).reshape((-1,))\n",
    "\n",
    "A0, A1 = np.meshgrid(a0, a1)\n",
    "B0,B1=theta0_hist,theta1_hist\n",
    "fig = plt.figure(figsize=(8, 6), dpi=120)\n",
    "ax = fig.add_subplot(111, projection='3d')\n",
    "ax.plot_surface(A0, A1, error.T , cmap=cm.jet, rstride=1, cstride=1)\n",
    "ax.plot(B0,B1,error1,color=\"red\",linewidth=3)\n",
    "ax.set_xlabel('A0')\n",
    "ax.set_ylabel('A1')\n",
    "interactive(True)"
   ]
  },
  {
   "cell_type": "markdown",
   "metadata": {},
   "source": [
    "**f-** Conclude?"
   ]
  },
  {
   "cell_type": "markdown",
   "metadata": {},
   "source": [
    "## So basicaly we can see how using the Directional Derviative of our Cost Function (Gradient Descent ) can show us how can we descent to the lowest point of our convex function ( Minimum ) where we can see the tangent where Cost function is almost ~ Zero"
   ]
  },
  {
   "cell_type": "markdown",
   "metadata": {},
   "source": [
    "**g-** How can we improve the speed of convergence? implement this new method and compare the result with the previous decent algorithm? Plot the path obtained using the different values of A in the same figure for the two algorithms?"
   ]
  },
  {
   "cell_type": "code",
   "execution_count": 11,
   "metadata": {},
   "outputs": [
    {
     "name": "stdout",
     "output_type": "stream",
     "text": [
      "intital_cost:  [[1.14746498]]\n",
      "Iter:  0  Error:  [[1.14380234]]  [Old-New](Cost): [[0.00366264]]  t0:  [0.00010221]  t1:  [0.00120026]\n",
      "Iter:  50  Error:  [[0.97485128]]  [Old-New](Cost): [[0.00312069]]  t0:  [0.00500954]  t1:  [0.05882751]\n",
      "Iter:  100  Error:  [[0.83089913]]  [Old-New](Cost): [[0.00265894]]  t0:  [0.00953929]  t1:  [0.11202076]\n",
      "Iter:  150  Error:  [[0.70824692]]  [Old-New](Cost): [[0.00226551]]  t0:  [0.0137205]  t1:  [0.16112117]\n",
      "Iter:  200  Error:  [[0.60374299]]  [Old-New](Cost): [[0.00193029]]  t0:  [0.01758001]  t1:  [0.20644366]\n",
      "Iter:  250  Error:  [[0.51470202]]  [Old-New](Cost): [[0.00164468]]  t0:  [0.02114255]  t1:  [0.24827891]\n",
      "Iter:  300  Error:  [[0.43883604]]  [Old-New](Cost): [[0.00140132]]  t0:  [0.02443098]  t1:  [0.28689524]\n",
      "Iter:  350  Error:  [[0.3741956]]  [Old-New](Cost): [[0.00119397]]  t0:  [0.02746638]  t1:  [0.32254032]\n",
      "Iter:  400  Error:  [[0.3191197]]  [Old-New](Cost): [[0.00101731]]  t0:  [0.03026824]  t1:  [0.35544277]\n",
      "Iter:  450  Error:  [[0.27219313]]  [Old-New](Cost): [[0.00086678]]  t0:  [0.03285451]  t1:  [0.38581361]\n",
      "Iter:  500  Error:  [[0.23221007]]  [Old-New](Cost): [[0.00073853]]  t0:  [0.03524179]  t1:  [0.41384763]\n",
      "Iter:  550  Error:  [[0.19814312]]  [Old-New](Cost): [[0.00062925]]  t0:  [0.03744538]  t1:  [0.43972464]\n",
      "Iter:  600  Error:  [[0.1691169]]  [Old-New](Cost): [[0.00053614]]  t0:  [0.03947943]  t1:  [0.4636106]\n",
      "Iter:  650  Error:  [[0.14438556]]  [Old-New](Cost): [[0.00045681]]  t0:  [0.04135696]  t1:  [0.48565871]\n",
      "Iter:  700  Error:  [[0.12331359]]  [Old-New](Cost): [[0.00038922]]  t0:  [0.04309004]  t1:  [0.50601037]\n",
      "Iter:  750  Error:  [[0.10535955]]  [Old-New](Cost): [[0.00033163]]  t0:  [0.04468977]  t1:  [0.52479612]\n",
      "Iter:  800  Error:  [[0.09006209]]  [Old-New](Cost): [[0.00028256]]  t0:  [0.04616641]  t1:  [0.54213644]\n",
      "Iter:  850  Error:  [[0.07702812]]  [Old-New](Cost): [[0.00024075]]  t0:  [0.04752943]  t1:  [0.55814255]\n",
      "Iter:  900  Error:  [[0.06592273]]  [Old-New](Cost): [[0.00020513]]  t0:  [0.04878758]  t1:  [0.57291711]\n",
      "Iter:  950  Error:  [[0.05646055]]  [Old-New](Cost): [[0.00017478]]  t0:  [0.04994892]  t1:  [0.58655486]\n"
     ]
    },
    {
     "data": {
      "image/png": "[encoded data removed]",
      "text/plain": [
       "<Figure size 432x288 with 1 Axes>"
      ]
     },
     "metadata": {
      "needs_background": "light"
     },
     "output_type": "display_data"
    },
    {
     "name": "stdout",
     "output_type": "stream",
     "text": [
      "A using Inverse : [[0.06388117]\n",
      " [0.75016254]]\n",
      "A using Gradient Descent : [[0.0510003 ]\n",
      " [0.59890128]]\n",
      "Slope error  [0.01288087]\n",
      "Intercept error  [0.15126126]\n",
      "\n",
      "--->We almost have the same results with minimal margin of error\n"
     ]
    }
   ],
   "source": [
    "## newtowns method\n",
    "%matplotlib inline\n",
    "\n",
    "# if you can not discover the learning rare use Newtons even if it costful\n",
    "\n",
    "def Gradient_Descent_Newtowns(learning_rate, \n",
    "                    X, \n",
    "                    Y, \n",
    "                    eps=0.0001, \n",
    "                    max_iter=1000, \n",
    "                    steps=10):\n",
    "    A = np.zeros((2, 1))\n",
    "    N = X.shape[1]\n",
    "    theta0_hist=[A[0]]\n",
    "    theta1_hist=[A[1]]\n",
    "    \n",
    "    intital_cost = (1/N)*(Y.T@Y - 2*A.T@X@Y + A.T@X@X.T@A)\n",
    "    \n",
    "    Hess = np.linalg.inv((N/2)*X @ X.T)\n",
    "    \n",
    "    print(\"intital_cost: \",intital_cost)\n",
    "    iter = 1\n",
    "    for iter in range(max_iter):\n",
    "        # calculate new Theta0, theta 1 (slope,intercept)\n",
    "\n",
    "        A= A - Hess@((2)/N*(X@X.T@A - X@Y))\n",
    "\n",
    "        #calculate new cost\n",
    "        new_cost=(1/N)*(Y.T@Y - 2*A.T@X@Y + A.T@X@X.T@A)\n",
    "        if (iter % steps ==0): \n",
    "            theta0_hist.append(A[0])\n",
    "            theta1_hist.append(A[1])\n",
    "            print(\"Iter: \", iter, \n",
    "                     \" Error: \",new_cost, \n",
    "                     \" [Old-New](Cost):\",abs(intital_cost-new_cost), \n",
    "                     \" t0: \", A[0], \n",
    "                     \" t1: \",A[1])\n",
    "\n",
    "        if intital_cost-new_cost <=tol:\n",
    "            print('Converged, iterations: ', iter)\n",
    "            print(A)\n",
    "            break\n",
    "\n",
    "        intital_cost=new_cost\n",
    "\n",
    "    if iter == max_iter:\n",
    "        print('Max interactions exceeded!')\n",
    "\n",
    "    return A,theta0_hist,theta1_hist\n",
    "\n",
    "N = X.shape[1]\n",
    "eta = 15\n",
    "tol = 10**-7\n",
    "steps=50\n",
    "max_iter=1000\n",
    "A,theta0_hist,theta1_hist=  Gradient_Descent_Newtowns(eta,X,Y,tol,max_iter,steps)\n",
    "plt.plot(x, y, 'x', c='blue')\n",
    "pred = predict(A, x)\n",
    "plt.plot(x, pred, c='red')\n",
    "plt.xlabel('Age')\n",
    "plt.ylabel('Height')  \n",
    "plt.show()\n",
    "\n",
    "\n",
    "A1= np.linalg.inv(X @ X.T) @ X @ Y\n",
    "print(\"A using Inverse :\", A1)\n",
    "print(\"A using Gradient Descent :\",A)\n",
    "\n",
    "print( \"Slope error \", A1[0]-A[0])\n",
    "print( \"Intercept error \", A1[1]-A[1])\n",
    "\n",
    "print(\"\\n--->We almost have the same results with minimal margin of error\")"
   ]
  },
  {
   "cell_type": "code",
   "execution_count": 12,
   "metadata": {},
   "outputs": [],
   "source": [
    "%matplotlib qt\n",
    "A0, A1 = np.meshgrid(a0, a1)\n",
    "\n",
    "error2 = np.zeros((len(theta0_hist)))\n",
    "for i in range(len(theta0_hist)):\n",
    "        A = np.array([theta0_hist[i],theta1_hist[i]])\n",
    "        error2[i] = (1/N)*(Y.T@Y - 2*A.T@X@Y + A.T@X@X.T@A)\n",
    "theta0_hist=np.array(theta0_hist).reshape((-1,))\n",
    "theta1_hist=np.array(theta1_hist).reshape((-1,))\n",
    "C0,C1=theta0_hist,theta1_hist\n",
    "\n",
    "fig = plt.figure(figsize=(8, 6), dpi=120)\n",
    "ax = fig.add_subplot(111, projection='3d')\n",
    "ax.plot_surface(A0, A1, error.T , cmap=cm.jet,rstride=1, cstride=1, alpha=0.2)\n",
    "ax.plot(B0,B1,error1,color=\"red\",linewidth=4)\n",
    "ax.plot(C0,C1,error2,color=\"Green\",linewidth=4)\n",
    "ax.set_xlabel('A0')\n",
    "ax.set_ylabel('A1')\n",
    "interactive(True)"
   ]
  },
  {
   "cell_type": "markdown",
   "metadata": {},
   "source": [
    "**h-** To run a linear Regression you can also use the sklearn library."
   ]
  },
  {
   "cell_type": "code",
   "execution_count": 62,
   "metadata": {},
   "outputs": [
    {
     "name": "stdout",
     "output_type": "stream",
     "text": [
      "A =  [[0.06388117 0.75016254]]\n",
      "height(3.5) =  [[0.97374662]]\n",
      "height(7) =  [[1.1973307]]\n",
      "Score =  0.8580632237208231\n"
     ]
    }
   ],
   "source": [
    "from sklearn.linear_model import LinearRegression\n",
    "reg = LinearRegression(fit_intercept = False).fit(X.T, Y)\n",
    "print(\"A = \", reg.coef_)\n",
    "print(\"height(3.5) = \", reg.predict(np.array([[3.5, 1]])))\n",
    "print(\"height(7) = \", reg.predict(np.array([[7, 1]])))\n",
    "print(\"Score = \", reg.score(X.T, y.reshape((50,1))))"
   ]
  },
  {
   "cell_type": "markdown",
   "metadata": {},
   "source": [
    "## Part 2: Regularised Regression \n",
    "### Import Data\n",
    "\n",
    "The following dataset is from Hastie, Tibshirani and Friedman (2009), from a study by Stamey et al. (1989) of prostate cancer, measuring the correlation between the level of a prostate-specific antigen and some covariates. The covariates are\n",
    "- lcavol : log-cancer volume\n",
    "-  lweight : log-prostate weight\n",
    "-  age : age of patient\n",
    "-  lbhp : log-amount of benign hyperplasia\n",
    "-  svi : seminal vesicle invasion\n",
    "-  lcp : log-capsular penetration\n",
    "-  gleason : Gleason Score,\n",
    "-  lpsa is the response variable, log-psa."
   ]
  },
  {
   "cell_type": "code",
   "execution_count": null,
   "metadata": {},
   "outputs": [
    {
     "name": "stdout",
     "output_type": "stream",
     "text": [
      "Using matplotlib backend: MacOSX\n",
      "Populating the interactive namespace from numpy and matplotlib\n"
     ]
    }
   ],
   "source": [
    "%pylab\n",
    "%matplotlib inline\n",
    "import pickle\n",
    "import matplotlib.pyplot as plt\n",
    "import numpy as np\n",
    "from sklearn import linear_model"
   ]
  },
  {
   "cell_type": "code",
   "execution_count": null,
   "metadata": {
    "scrolled": false
   },
   "outputs": [],
   "source": [
    "fin = open('data2.pkl', 'rb')\n",
    "xtrain = pickle.load(fin)\n",
    "ytrain = pickle.load(fin)\n",
    "Xtest = pickle.load(fin)\n",
    "Ytest = pickle.load(fin)\n",
    "fin.close()\n",
    "\n",
    "print('Train data : ', xtrain.shape, ' ', ytrain.shape)\n",
    "print('Test data : ', Xtest.shape, ' ', Ytest.shape)"
   ]
  },
  {
   "cell_type": "markdown",
   "metadata": {},
   "source": [
    "### Linear Regression\n",
    "\n",
    "Using the program of Part 1, compute the linear regression weight $w$\n",
    "\n",
    "$$y = g(x) = W^T x =\\sum_{d=0}^7 w_d x_d$$\n",
    "with $x_0 = 1$\n",
    "\n",
    "The linear regression consists in finding the parameters $W$ which minimizes the \n",
    "quadratic error:\n",
    "$$E(W) = \\frac{1}{60}\\sum_{i=1}^{60}\\left(g(x_i) - y_i\\right)^2$$\n",
    "\n",
    "The vector $W$ which minimize $E(W)$ is defined as follow:\n",
    "$$W = (X X^T)^{-1}X Y$$\n",
    "\n",
    "Compute the vector $W$ wich minimize $E(W)$ :\n",
    "- Compute $w$ using the exact solution\n",
    "x- Compute the error on test data"
   ]
  },
  {
   "cell_type": "code",
   "execution_count": 118,
   "metadata": {},
   "outputs": [
    {
     "name": "stdout",
     "output_type": "stream",
     "text": [
      "W is  [-1.37427705  0.40461954  0.52246673 -0.02499738  0.16200821 -0.74830121\n",
      " -0.08828183  0.38558413]\n",
      "\n",
      "Erorr on test data is E 2.864149965701077\n"
     ]
    }
   ],
   "source": [
    "N= len(ytrain)\n",
    "X = xtrain\n",
    "Z=np.ones((1,len(ytrain)))\n",
    "X= np.vstack((Z,X))\n",
    "Y = ytrain\n",
    "Y.reshape((-1,))\n",
    "\n",
    "\n",
    "W= np.linalg.inv(X @ X.T) @ X @ Y\n",
    "\n",
    "print(\"W is \" ,W)\n",
    "\n",
    "N1=len(Ytest)\n",
    "\n",
    "X1 = Xtest\n",
    "Z1=np.ones((1,len(Ytest)))\n",
    "X1= np.vstack((Z1,X1))\n",
    "Y1 = Ytest\n",
    "Y1.reshape((-1,))\n",
    "\n",
    "E = (1/N1)*(Y1.T@Y1 - 2*W.T@X1@Y1 + W.T@X1@X1.T@W)\n",
    "print(\"\\nErorr on test data is E\",E)\n"
   ]
  },
  {
   "cell_type": "markdown",
   "metadata": {},
   "source": [
    "- Check that you obtain the same $W$ with sklean.linear_model.LinearRegression?"
   ]
  },
  {
   "cell_type": "code",
   "execution_count": 120,
   "metadata": {},
   "outputs": [
    {
     "name": "stdout",
     "output_type": "stream",
     "text": [
      "A =  [-1.37427705  0.40461954  0.52246673 -0.02499738  0.16200821 -0.74830121\n",
      " -0.08828183  0.38558413]\n"
     ]
    }
   ],
   "source": [
    "from sklearn.linear_model import LinearRegression\n",
    "reg = LinearRegression(fit_intercept = False).fit(X.T, Y)\n",
    "print(\"A = \", reg.coef_)\n"
   ]
  },
  {
   "cell_type": "markdown",
   "metadata": {},
   "source": [
    "## show Regression of each column"
   ]
  },
  {
   "cell_type": "code",
   "execution_count": null,
   "metadata": {
    "scrolled": false
   },
   "outputs": [],
   "source": [
    "list_symp=list([\"lcavol\",\n",
    "               \"lweight\",\n",
    "               \"age\",\n",
    "               \"lbhp\",\n",
    "               \"svi\",\n",
    "               \"lcp\",\n",
    "               \"gleason\"])\n",
    "fig = plt.figure()\n",
    "for i in range(len(list_symp)):\n",
    "    \n",
    "    \n",
    "    XX=xtrain[i,:]\n",
    "    XX = np.stack((XX,np.ones(len(XX))),axis=0)\n",
    "    YY = ytrain.reshape((-1,1))\n",
    "\n",
    "    eta = 15\n",
    "    tol = 10**-7\n",
    "    steps=50\n",
    "    max_iter=1000\n",
    "\n",
    "    A,theta0_hist,theta1_hist=  Gradient_Descent_Newtowns(eta,XX,YY,tol,max_iter,10**10)\n",
    "    plt.plot(xtrain[i,:], ytrain, 'x', c='blue')\n",
    "    pred = predict(A, xtrain[i,:])\n",
    "    plt.plot(xtrain[i,:], pred, c='red')\n",
    "    plt.xlabel(list_symp[i])\n",
    "    plt.ylabel(\"prostate-specific antigen\")  \n",
    "    plt.show()"
   ]
  },
  {
   "cell_type": "markdown",
   "metadata": {},
   "source": [
    "### Ridge regression\n",
    "\n",
    "The ridge regression consists in finding the parameters $W$ which minimizes:\n",
    "$$\\frac{1}{60}\\sum_{i=1}^{60}\\left(W^T x_i - y_i\\right)^2 + \\alpha \\|W\\|_2^2$$ \n",
    "\n",
    "- Using linear_model.Ridge and $\\alpha = 0.$, check that you obtain the same $W$ as linear regression"
   ]
  },
  {
   "cell_type": "code",
   "execution_count": 68,
   "metadata": {
    "scrolled": true
   },
   "outputs": [
    {
     "name": "stdout",
     "output_type": "stream",
     "text": [
      "A =  [-1.37427705  0.40461954  0.52246673 -0.02499738  0.16200821 -0.74830121\n",
      " -0.08828183  0.38558413]\n",
      "W =  [-1.37427705  0.40461954  0.52246673 -0.02499738  0.16200821 -0.74830121\n",
      " -0.08828183  0.38558413]\n"
     ]
    }
   ],
   "source": [
    "from sklearn.linear_model import Ridge\n",
    "model = Ridge(alpha=0,fit_intercept = False)\n",
    "model.fit(X.T, Y)\n",
    "A=model.coef_\n",
    "print(\"A = \",A)\n",
    "alpha=0\n",
    "W = np.linalg.inv(X@X.T +alpha *np.identity(len(X)))@X@Y\n",
    "print(\"W = \",W)"
   ]
  },
  {
   "cell_type": "markdown",
   "metadata": {},
   "source": [
    "In this part, we will check the influence of $\\alpha$ on the solution of the linear regression\n",
    "\n",
    "- Train a ridge regression with different values of $\\alpha$ = np.logspace(-5, 5, 200), save the values of W, Mean squared errors on train and test data."
   ]
  },
  {
   "cell_type": "code",
   "execution_count": 124,
   "metadata": {},
   "outputs": [],
   "source": [
    "N=len(ytrain)\n",
    "X = xtrain\n",
    "Z=np.ones((1,len(ytrain)))\n",
    "X= np.vstack((Z,X))\n",
    "Y = ytrain\n",
    "Y.reshape((-1,))\n",
    "\n",
    "\n",
    "N1=len(Ytest)\n",
    "X1 = Xtest\n",
    "Z1=np.ones((1,len(Ytest)))\n",
    "X1= np.vstack((Z1,X1))\n",
    "Y1 = Ytest\n",
    "Y1.reshape((-1,))\n",
    "\n",
    "alphas = np.logspace(-5, 5, 200)\n",
    "e=[]\n",
    "w=[]\n",
    "for a in alphas:\n",
    "    model = Ridge(alpha=a,fit_intercept = False)\n",
    "    model.fit(X.T, Y)\n",
    "    W=model.coef_\n",
    "    etrain =1/N*sum(X.T@W -Y)**2\n",
    "    etest = 1/N1*sum(X1.T@W -Y1)**2\n",
    "    e.append(np.array([etrain, etest]))\n",
    "    w.append(W)\n",
    "\n",
    "e=np.array(e).T\n",
    "w=np.array(w).T"
   ]
  },
  {
   "cell_type": "markdown",
   "metadata": {},
   "source": [
    "- Plot how evolve each $W_i$ through the sequence of $\\alpha$ values."
   ]
  },
  {
   "cell_type": "code",
   "execution_count": 125,
   "metadata": {
    "scrolled": true
   },
   "outputs": [
    {
     "data": {
      "image/png": "[encoded data removed]",
      "text/plain": [
       "<Figure size 432x288 with 1 Axes>"
      ]
     },
     "metadata": {
      "needs_background": "light"
     },
     "output_type": "display_data"
    }
   ],
   "source": [
    "for i in range(7):\n",
    "    plt.semilogx(alphas, w[i, :])\n",
    "    plt.ylabel(\"alpha\")\n",
    "    plt.xlabel(\"Theta's\")\n",
    "\n",
    "plt.show()"
   ]
  },
  {
   "cell_type": "markdown",
   "metadata": {},
   "source": [
    "- Plot how evolve the mean square error on train and test data through the sequence of $\\alpha$ values."
   ]
  },
  {
   "cell_type": "code",
   "execution_count": 126,
   "metadata": {
    "scrolled": true
   },
   "outputs": [
    {
     "data": {
      "image/png": "[encoded data removed]",
      "text/plain": [
       "<Figure size 432x288 with 1 Axes>"
      ]
     },
     "metadata": {
      "needs_background": "light"
     },
     "output_type": "display_data"
    }
   ],
   "source": [
    "# Plot Mean Squared Error on train data\n",
    "plt.semilogx(alphas, e[0, :], color = 'blue')\n",
    "# Plot Mean Squared Error on train data\n",
    "plt.semilogx(alphas, e[1, :], color = 'red')\n",
    "\n",
    "plt.show()"
   ]
  },
  {
   "cell_type": "markdown",
   "metadata": {},
   "source": [
    "- Conclude? (Which is the best value for $\\alpha$)"
   ]
  },
  {
   "cell_type": "markdown",
   "metadata": {},
   "source": [
    "##  ( 𝛼 ) ~ 60 the minmum cost in both Training/Testing using this alpha\n",
    "## alpha did have effect on square error, but on reaching the Theta's need to reach\n",
    "## Convergance State \n",
    "## Thus \n",
    "## ( 𝛼 ) ==0 it is Normal  Linear Regression\n",
    "## ( 𝛼 ) parameter needs not be small for the Regularization no to be too strict..\n",
    "## larger ( 𝛼 ), means the flexibility of the fit would be very stric"
   ]
  },
  {
   "cell_type": "markdown",
   "metadata": {},
   "source": [
    "### Lasso regression\n",
    "\n",
    "The ridge regression consists in finding the parameters $W$ which minimizes:\n",
    "$$\\frac{1}{2 \\times 60}\\sum_{i=1}^{60}\\left(W^T x_i - y_i\\right)^2 + \\alpha \\|W\\|_1$$\n",
    "\n",
    "- Using linear_model.Lasso and $\\alpha = 0.$, check that you obtain the same $W$ as linear regression"
   ]
  },
  {
   "cell_type": "code",
   "execution_count": 127,
   "metadata": {
    "scrolled": true
   },
   "outputs": [
    {
     "name": "stdout",
     "output_type": "stream",
     "text": [
      "A =  [ 1.77372062e+00  3.92210761e-01 -7.13166608e-02 -1.34942318e-03\n",
      "  2.10370480e-01 -5.03911871e-01 -5.31055654e-04  1.21130128e-02]\n",
      "W =  [-1.37427705  0.40461954  0.52246673 -0.02499738  0.16200821 -0.74830121\n",
      " -0.08828183  0.38558413]\n"
     ]
    },
    {
     "name": "stderr",
     "output_type": "stream",
     "text": [
      "/var/folders/kq/4phtjsxn40794zp8lvjfsccw0000gn/T/ipykernel_70181/3360599141.py:4: UserWarning: With alpha=0, this algorithm does not converge well. You are advised to use the LinearRegression estimator\n",
      "  model.fit(X.T, Y)\n",
      "/Users/ibrahim/opt/anaconda3/lib/python3.9/site-packages/sklearn/linear_model/_coordinate_descent.py:647: UserWarning: Coordinate descent with no regularization may lead to unexpected results and is discouraged.\n",
      "  model = cd_fast.enet_coordinate_descent(\n"
     ]
    }
   ],
   "source": [
    "from sklearn.linear_model import Lasso\n",
    "from numpy import linalg as LA\n",
    "model  = Lasso(alpha=0,fit_intercept = False,tol=0.1)\n",
    "model.fit(X.T, Y)\n",
    "A=model.coef_\n",
    "print(\"A = \",A)\n",
    "alpha=0\n",
    "W = np.linalg.inv(X@X.T +alpha *LA.norm(A,1))@X@Y\n",
    "print(\"W = \",W)"
   ]
  },
  {
   "cell_type": "markdown",
   "metadata": {},
   "source": [
    "In this part, we will check the influence of $\\alpha$ on the solution of the linear regression\n",
    "\n",
    "- Train a Lasso regression with different values of $\\alpha$ = np.logspace(-5, 5, 200), save the values of W, Mean squared errors on train and test data."
   ]
  },
  {
   "cell_type": "code",
   "execution_count": 134,
   "metadata": {},
   "outputs": [],
   "source": [
    "N=len(ytrain)\n",
    "X = xtrain\n",
    "Z=np.ones((1,len(ytrain)))\n",
    "X= np.vstack((Z,X))\n",
    "Y = ytrain\n",
    "Y.reshape((-1,))\n",
    "\n",
    "\n",
    "N1=len(Ytest)\n",
    "X1 = Xtest\n",
    "Z1=np.ones((1,len(Ytest)))\n",
    "X1= np.vstack((Z1,X1))\n",
    "Y1 = Ytest\n",
    "Y1.reshape((-1,))\n",
    "\n",
    "alphas = np.logspace(-5, 5, 200)\n",
    "e=[]\n",
    "w=[]\n",
    "for a in alphas:\n",
    "    model = Lasso(alpha=a,fit_intercept = False,tol=0.1)\n",
    "    model.fit(X.T, Y)\n",
    "    W=model.coef_\n",
    "    etrain =1/(2*N)*sum(X.T@W -Y)**2\n",
    "    etest = 1/(2*N1)*sum(X1.T@W -Y1)**2\n",
    "    e.append(np.array([etrain, etest]))\n",
    "    w.append(W)\n",
    "\n",
    "e=np.array(e).T\n",
    "w=np.array(w).T"
   ]
  },
  {
   "cell_type": "markdown",
   "metadata": {},
   "source": [
    "- Plot how evolve each $W_i$ through the sequence of $\\alpha$ values."
   ]
  },
  {
   "cell_type": "code",
   "execution_count": 135,
   "metadata": {
    "scrolled": false
   },
   "outputs": [
    {
     "data": {
      "image/png": "[encoded data removed]",
      "text/plain": [
       "<Figure size 432x288 with 1 Axes>"
      ]
     },
     "metadata": {
      "needs_background": "light"
     },
     "output_type": "display_data"
    }
   ],
   "source": [
    "for i in range(7):\n",
    "    plt.semilogx(alphas, w[i, :])\n",
    "    plt.ylabel(\"alpha\")\n",
    "    plt.xlabel(\"Theta's\")\n",
    "plt.show()"
   ]
  },
  {
   "cell_type": "markdown",
   "metadata": {},
   "source": [
    "- Plot how evolve the mean square error on train and test data through the sequence of $\\alpha$ values."
   ]
  },
  {
   "cell_type": "code",
   "execution_count": 137,
   "metadata": {
    "scrolled": true
   },
   "outputs": [
    {
     "data": {
      "image/png": "[encoded data removed]",
      "text/plain": [
       "<Figure size 432x288 with 1 Axes>"
      ]
     },
     "metadata": {
      "needs_background": "light"
     },
     "output_type": "display_data"
    }
   ],
   "source": [
    "# Plot Mean Squared Error on train data\n",
    "plt.semilogx(alphas, e[0, :], color = 'blue')\n",
    "# Plot Mean Squared Error on train data\n",
    "plt.semilogx(alphas, e[1, :], color = 'red')\n",
    "\n",
    "plt.show()\n"
   ]
  },
  {
   "cell_type": "markdown",
   "metadata": {},
   "source": [
    "- Conclude? (Which is the best value for $\\alpha$"
   ]
  },
  {
   "cell_type": "markdown",
   "metadata": {},
   "source": [
    "## ( 𝛼 ) ~ 40  the minmum cost in both Training/Testing using this alpha\n",
    "## the higher the alpha , the most feature coefficients are zero\n",
    "## when alpha is 0, Lasso regression produces the same coefficients as a linear regression. \n",
    "## So it helps us to see which feature is more important\n"
   ]
  },
  {
   "cell_type": "markdown",
   "metadata": {},
   "source": [
    "- Compare the result with ridge solution?"
   ]
  },
  {
   "cell_type": "markdown",
   "metadata": {},
   "source": [
    "# Lasso tends to do well if there are a small number of significant parameters and the others are close to zero (works when only a few predictors actually influence the response). \n",
    "\n",
    "# Ridge works well if there are many large parameters of about the same value (works  when most predictors impact the response)."
   ]
  }
 ],
 "metadata": {
  "kernelspec": {
   "display_name": "Python 3 (ipykernel)",
   "language": "python",
   "name": "python3"
  },
  "language_info": {
   "codemirror_mode": {
    "name": "ipython",
    "version": 3
   },
   "file_extension": ".py",
   "mimetype": "text/x-python",
   "name": "python",
   "nbconvert_exporter": "python",
   "pygments_lexer": "ipython3",
   "version": "3.9.7"
  }
 },
 "nbformat": 4,
 "nbformat_minor": 2
}
