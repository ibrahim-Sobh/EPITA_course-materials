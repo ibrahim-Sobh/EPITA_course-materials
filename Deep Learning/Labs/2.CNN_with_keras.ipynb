{
 "cells": [
  {
   "cell_type": "markdown",
   "source": "## Réseaux de neurones convolutionnels \n\nMaintenant qu'on a vu comment fonctionnait une convolution, on va entraîner nos premiers réseaux de neurones convolutionnels avec Keras\n\n",
   "metadata": {
    "tags": [],
    "cell_id": "00000-f4ae0f24-c175-4934-a5dc-f91915d7451c",
    "deepnote_cell_type": "markdown"
   }
  },
  {
   "cell_type": "code",
   "metadata": {
    "tags": [],
    "cell_id": "00001-aaeeac39-f7b1-42e4-a6af-a3feb537188c",
    "deepnote_cell_type": "code"
   },
   "source": "",
   "execution_count": null,
   "outputs": []
  },
  {
   "cell_type": "markdown",
   "source": "Télécharger le dataset cifar 10 en utilisant le module datasets de keras",
   "metadata": {
    "tags": [],
    "cell_id": "00001-6393f959-96b2-4e53-ab18-9e8f4d01349f",
    "deepnote_cell_type": "markdown"
   }
  },
  {
   "cell_type": "code",
   "metadata": {
    "tags": [],
    "cell_id": "00003-326e3e50-21eb-4895-8c91-1e494dfc430d",
    "deepnote_cell_type": "code"
   },
   "source": "",
   "execution_count": null,
   "outputs": []
  },
  {
   "cell_type": "markdown",
   "source": "Récupérer le jeu de train et de test dans des variables train et test",
   "metadata": {
    "tags": [],
    "cell_id": "00002-ae1b9bff-fc29-4630-b648-8e02e2de073a",
    "deepnote_cell_type": "markdown"
   }
  },
  {
   "cell_type": "code",
   "metadata": {
    "tags": [],
    "cell_id": "00005-207ce46a-58df-467d-8ba5-6dad039aea16",
    "deepnote_cell_type": "code"
   },
   "source": "",
   "execution_count": null,
   "outputs": []
  },
  {
   "cell_type": "markdown",
   "source": "Afficher une ou deux images du jeu de train avec matplotlib ",
   "metadata": {
    "tags": [],
    "cell_id": "00003-ff0a4fbe-661e-44e9-8570-29f8ae4745a2",
    "deepnote_cell_type": "markdown"
   }
  },
  {
   "cell_type": "code",
   "metadata": {
    "tags": [],
    "cell_id": "00007-2e5d6485-e60d-47e0-9855-6d17eaef16f7",
    "deepnote_cell_type": "code"
   },
   "source": "",
   "execution_count": null,
   "outputs": []
  },
  {
   "cell_type": "markdown",
   "source": "Si les données prennent des valeurs en 0 et 255 faire une normalisation des données",
   "metadata": {
    "tags": [],
    "cell_id": "00004-84e99b4f-fa59-467f-8e44-279af52a6ee0",
    "deepnote_cell_type": "markdown"
   }
  },
  {
   "cell_type": "code",
   "metadata": {
    "tags": [],
    "cell_id": "00009-4e421fc8-4ecf-48dc-adeb-90866acecc81",
    "deepnote_cell_type": "code"
   },
   "source": "",
   "execution_count": null,
   "outputs": []
  },
  {
   "cell_type": "markdown",
   "source": "Créer un premier réseau de neurones convolutionnel à trois couches \n- Une couche convolutionnelle avec 32 neurones et une activation relu\n- Une couche Dense ave 300 neurones relu\n- Une couche Dense finale à spécifier vous même\n\nIl faudra notamment penser à spécifier input_shape pour la première couche",
   "metadata": {
    "tags": [],
    "cell_id": "00005-d7707839-9067-4bdb-91ee-138e9234ce27",
    "deepnote_cell_type": "markdown"
   }
  },
  {
   "cell_type": "code",
   "metadata": {
    "tags": [],
    "cell_id": "00011-cb16d373-f242-42ce-af8b-ab232fa83538",
    "deepnote_cell_type": "code"
   },
   "source": "",
   "execution_count": null,
   "outputs": []
  },
  {
   "cell_type": "markdown",
   "source": "Compiler le modèle avec la bonne loss et l'optimizer sgd",
   "metadata": {
    "tags": [],
    "cell_id": "00006-9e995349-8162-46c3-aa4f-0dd7137b2578",
    "deepnote_cell_type": "markdown"
   }
  },
  {
   "cell_type": "code",
   "metadata": {
    "tags": [],
    "cell_id": "00013-c9507bdd-afdf-4f49-966c-1c7a689d7fb6",
    "deepnote_cell_type": "code"
   },
   "source": "",
   "execution_count": null,
   "outputs": []
  },
  {
   "cell_type": "markdown",
   "source": "Entrainer le modèle sur les données de train. Vous pourrez utiliser l'argument validation_data pour mesurer également la performance sur les données de test. Spécifier l'argument metrics pour afficher l'accuracy également",
   "metadata": {
    "tags": [],
    "cell_id": "00012-83da7379-d913-49ee-ba8f-75d88ca2a857",
    "deepnote_cell_type": "markdown"
   }
  },
  {
   "cell_type": "code",
   "metadata": {
    "tags": [],
    "cell_id": "00015-f88735bf-5e08-4ae2-8978-fbe9248528c9",
    "deepnote_cell_type": "code"
   },
   "source": "",
   "execution_count": null,
   "outputs": []
  },
  {
   "cell_type": "markdown",
   "source": "Faire un second modèle avec au moins une couche convolutionnelle supplémentaire et une couche dense supplémentaire (sans trop d'excès). Réentraîner le modèle. Les performances sont elles meilleures ? ",
   "metadata": {
    "tags": [],
    "cell_id": "00013-4e7e941b-2c24-4fa5-b6bb-63767bd093a5",
    "deepnote_cell_type": "markdown"
   }
  },
  {
   "cell_type": "markdown",
   "source": "## Le pooling \n\n\nReprendre le modèle précédent et afficher le nombre de paramètre qu'il possède avec model.summary()",
   "metadata": {
    "tags": [],
    "cell_id": "00017-30d47c2e-bd32-498b-acc5-af5d820db117",
    "deepnote_cell_type": "markdown"
   }
  },
  {
   "cell_type": "code",
   "metadata": {
    "tags": [],
    "cell_id": "00018-071584ef-3cfb-4c71-b531-b7307910cd75",
    "deepnote_cell_type": "code"
   },
   "source": "",
   "execution_count": null,
   "outputs": []
  },
  {
   "cell_type": "markdown",
   "source": "Faire un nouveau modèle qui reprend le modèle précédent en ajoutant une couche de pooling entre les deux couches convolutionnelles. Prendre pool size = (2, 2) \n\nAfficher à nouveau le nombre de paramètres du modèles. \n\n",
   "metadata": {
    "tags": [],
    "cell_id": "00018-6f626119-2c68-4b9d-a891-c36227587732",
    "deepnote_cell_type": "markdown"
   }
  },
  {
   "cell_type": "code",
   "metadata": {
    "tags": [],
    "cell_id": "00020-da378b6d-66a9-47e0-b797-f52925a5d3a3",
    "deepnote_cell_type": "code"
   },
   "source": "",
   "execution_count": null,
   "outputs": []
  },
  {
   "cell_type": "markdown",
   "source": "Faire pareil et prend pool size = (4, 4) et afficher à nouveau le nombre de paramètres du modèle. ",
   "metadata": {
    "tags": [],
    "cell_id": "00021-244820b9-9c04-4340-ae1c-7601db849653",
    "deepnote_cell_type": "markdown"
   }
  },
  {
   "cell_type": "code",
   "metadata": {
    "tags": [],
    "cell_id": "00022-6456822d-449d-4b90-9905-69090fafe357",
    "deepnote_cell_type": "code"
   },
   "source": "",
   "execution_count": null,
   "outputs": []
  },
  {
   "cell_type": "markdown",
   "source": "Pouvez vous expliquer pourquoi le nombre de paramètre a varié de la manière dont il l'a fait ? ",
   "metadata": {
    "tags": [],
    "cell_id": "00019-3d46a197-045f-4bcf-9950-1c61f8b4a08c",
    "deepnote_cell_type": "markdown"
   }
  },
  {
   "cell_type": "code",
   "metadata": {
    "tags": [],
    "cell_id": "00022-b5128e4b-77af-4776-8fb1-e0b1cd67ff1b",
    "deepnote_cell_type": "code"
   },
   "source": "",
   "execution_count": null,
   "outputs": []
  },
  {
   "cell_type": "markdown",
   "source": "Réentraîner le modèle de la même manière que le modèle précédent. Les performances ont-elles évoluées ? Comment ? ",
   "metadata": {
    "tags": [],
    "cell_id": "00022-bae75ad1-428a-4281-bf08-ade43e6d8d9f",
    "deepnote_cell_type": "markdown"
   }
  },
  {
   "cell_type": "code",
   "metadata": {
    "tags": [],
    "cell_id": "00024-6da2ce0c-a54f-4fe6-96d0-da5298a73761",
    "deepnote_cell_type": "code"
   },
   "source": "",
   "execution_count": null,
   "outputs": []
  },
  {
   "cell_type": "markdown",
   "source": "<a style='text-decoration:none;line-height:16px;display:flex;color:#5B5B62;padding:10px;justify-content:end;' href='https://deepnote.com?utm_source=created-in-deepnote-cell&projectId=6b859965-b858-4b8d-a841-009599aef86e' target=\"_blank\">\n<img alt='Created in deepnote.com' style='display:inline;max-height:16px;margin:0px;margin-right:7.5px;' src='data:image/svg+xml;base64,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' > </img>\nCreated in <span style='font-weight:600;margin-left:4px;'>Deepnote</span></a>",
   "metadata": {
    "tags": [],
    "created_in_deepnote_cell": true,
    "deepnote_cell_type": "markdown"
   }
  }
 ],
 "nbformat": 4,
 "nbformat_minor": 2,
 "metadata": {
  "orig_nbformat": 2,
  "deepnote": {
   "is_reactive": false
  },
  "deepnote_notebook_id": "c2b36cfe-fe7a-4b7d-bdf2-23c45a65921b",
  "deepnote_execution_queue": []
 }
}