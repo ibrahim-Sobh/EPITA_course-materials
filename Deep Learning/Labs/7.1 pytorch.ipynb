{
 "cells": [
  {
   "cell_type": "markdown",
   "source": "## Pytorch \n\nBefore doing this notebook, you should do the following introduction à pytorch, I, II and III on Nowledgeable. \n\nIn this notebook, we want to do simple Image classification to get started\n",
   "metadata": {
    "tags": [],
    "cell_id": "00000-d9d17b98-5dee-4b2b-88f9-e2dcf33a5378",
    "deepnote_cell_type": "markdown"
   }
  },
  {
   "cell_type": "code",
   "metadata": {
    "tags": [],
    "cell_id": "00001-cf9813d3-30e1-47db-a28b-e311de912444",
    "deepnote_to_be_reexecuted": false,
    "source_hash": "b8acfa7",
    "execution_start": 1642519434590,
    "execution_millis": 2,
    "deepnote_cell_type": "code"
   },
   "source": "import torch.nn as nn\nimport torch.nn.functional as F\n\n\nclass Net(nn.Module):\n    def __init__(self):\n        super().__init__()\n        self.conv1 = nn.Conv2d(3, 6, 5)\n        self.pool = nn.MaxPool2d(2, 2)\n        self.conv2 = nn.Conv2d(6, 16, 5)\n        self.fc1 = nn.Linear(16 * 5 * 5, 120)\n        self.fc2 = nn.Linear(120, 84)\n        self.fc3 = nn.Linear(84, 10)\n\n    def forward(self, x):\n        x = self.pool(F.relu(self.conv1(x)))\n        x = self.pool(F.relu(self.conv2(x)))\n        \n        #astuce pour connaitre la taille des images\n        #après les couches convolutionnelle:\n        # afficher la taille de x dans la méthode forward\n        # avant les couches Dense\n        print(x.shape)\n        x = torch.flatten(x, 1) # flatten all dimensions except batch\n        x = F.relu(self.fc1(x))\n        x = F.relu(self.fc2(x))\n        x = self.fc3(x)\n        return x\n\n\nnet = Net()",
   "execution_count": null,
   "outputs": []
  },
  {
   "cell_type": "markdown",
   "source": "Import torch, torchvision and torchvision.transform ",
   "metadata": {
    "tags": [],
    "cell_id": "00001-3c8f7909-af1a-40ee-9cb8-cdf2d7b00f53",
    "deepnote_cell_type": "markdown"
   }
  },
  {
   "cell_type": "code",
   "metadata": {
    "tags": [],
    "cell_id": "00003-9f16f87a-45c2-421f-a302-a7d31ad55951",
    "deepnote_to_be_reexecuted": false,
    "source_hash": "6a7596e1",
    "execution_start": 1642519461825,
    "execution_millis": 8,
    "deepnote_cell_type": "code"
   },
   "source": "for parameter in net.parameters():\n    print(parameter.shape)",
   "execution_count": null,
   "outputs": [
    {
     "name": "stdout",
     "text": "torch.Size([6, 3, 5, 5])\ntorch.Size([6])\ntorch.Size([16, 6, 5, 5])\ntorch.Size([16])\ntorch.Size([120, 400])\ntorch.Size([120])\ntorch.Size([84, 120])\ntorch.Size([84])\ntorch.Size([10, 84])\ntorch.Size([10])\n",
     "output_type": "stream"
    }
   ]
  },
  {
   "cell_type": "markdown",
   "source": "With the transforms.Compose create a Transform using ToTensor and Normalized transforms \n\nYou can find all information here : https://pytorch.org/vision/stable/transforms.html",
   "metadata": {
    "tags": [],
    "cell_id": "00002-839838b4-48ac-4da0-a397-a4082ca6089c",
    "deepnote_cell_type": "markdown"
   }
  },
  {
   "cell_type": "code",
   "metadata": {
    "tags": [],
    "cell_id": "00003-a55cc8f4-cd84-4b09-b2d8-3555c654aa56",
    "deepnote_cell_type": "code"
   },
   "source": "\n\n",
   "execution_count": null,
   "outputs": []
  },
  {
   "cell_type": "markdown",
   "source": "with the torchvision.datasets module load the cifar10 dataset into a variable named trainset\nCreate a variable named **trainloaded** from **trainset** with batch_size=16",
   "metadata": {
    "tags": [],
    "cell_id": "00003-0a75bf9b-9e3f-49e9-8e37-d401f890817b",
    "deepnote_cell_type": "markdown"
   }
  },
  {
   "cell_type": "code",
   "metadata": {
    "tags": [],
    "cell_id": "00005-013eaca6-848d-466f-b0f5-764dafaa869d",
    "deepnote_cell_type": "code"
   },
   "source": "",
   "execution_count": null,
   "outputs": []
  },
  {
   "cell_type": "markdown",
   "source": "Do the same for the test set",
   "metadata": {
    "tags": [],
    "cell_id": "00004-70142800-8180-47b9-b513-0a82ee0a6109",
    "deepnote_cell_type": "markdown"
   }
  },
  {
   "cell_type": "code",
   "metadata": {
    "tags": [],
    "cell_id": "00006-0bf6b071-6055-4323-ae29-b10480c3d9d8",
    "deepnote_cell_type": "code"
   },
   "source": "",
   "execution_count": null,
   "outputs": []
  },
  {
   "cell_type": "markdown",
   "source": "Create a convolutionnal neural network with 2 Convolutional layers and 3 Dense layers\n\n\nWarning : you need to compute the shapes of your layers yourself ! \n\nSo you must understand what will be the size of the image after eacher layer to configure the next one correctly. ",
   "metadata": {
    "tags": [],
    "cell_id": "00006-dfc2d326-0877-4106-ad73-e612c62fb501",
    "deepnote_cell_type": "markdown"
   }
  },
  {
   "cell_type": "code",
   "metadata": {
    "tags": [],
    "cell_id": "00008-6bc0f59c-aad1-4afe-a19b-7ca7e278d3af",
    "deepnote_to_be_reexecuted": false,
    "source_hash": "b623e53d",
    "execution_start": 1639518816509,
    "deepnote_cell_type": "code"
   },
   "source": "",
   "execution_count": 0,
   "outputs": []
  },
  {
   "cell_type": "markdown",
   "source": "Instanciate your model into a variable named **model**",
   "metadata": {
    "tags": [],
    "cell_id": "00007-a13fa8c3-f0cc-47de-b129-7bc027ffcf50",
    "deepnote_cell_type": "markdown"
   }
  },
  {
   "cell_type": "code",
   "metadata": {
    "tags": [],
    "cell_id": "00013-cc4ddc53-8a02-4bcb-bb4f-c858a6553e0a",
    "deepnote_cell_type": "code"
   },
   "source": "",
   "execution_count": null,
   "outputs": []
  },
  {
   "cell_type": "markdown",
   "source": "Instanciate the CrossEntropyLoss class into a variable named **criterion**\n\ninstanciate the SGD class with the model parameters",
   "metadata": {
    "tags": [],
    "cell_id": "00013-41679dc2-18c1-4edd-9f71-4f325f162bcc",
    "deepnote_cell_type": "markdown"
   }
  },
  {
   "cell_type": "code",
   "metadata": {
    "tags": [],
    "cell_id": "00015-cbdd17fa-5f46-442f-9bfb-659c600b05d9",
    "deepnote_cell_type": "code"
   },
   "source": "",
   "execution_count": null,
   "outputs": []
  },
  {
   "cell_type": "markdown",
   "source": "Build a training loop to train your model on the dataset. ",
   "metadata": {
    "tags": [],
    "cell_id": "00014-a393e942-228f-4517-b67e-8d8002df7241",
    "deepnote_cell_type": "markdown"
   }
  },
  {
   "cell_type": "code",
   "metadata": {
    "tags": [],
    "cell_id": "00016-e7134a0f-43ce-451b-9428-1d5c0ad795cc",
    "deepnote_cell_type": "code"
   },
   "source": "",
   "execution_count": null,
   "outputs": []
  },
  {
   "cell_type": "markdown",
   "source": "",
   "metadata": {
    "tags": [],
    "cell_id": "00016-b5ac31b4-e7bf-44dc-abc6-58867c0724d7",
    "deepnote_cell_type": "markdown"
   }
  },
  {
   "cell_type": "markdown",
   "source": "## Bonus \n\nDo a transfert learning with pytorch",
   "metadata": {
    "tags": [],
    "cell_id": "00019-4b41d756-d844-4e91-914a-14f7488b11b7",
    "deepnote_cell_type": "markdown"
   }
  },
  {
   "cell_type": "markdown",
   "source": "",
   "metadata": {
    "tags": [],
    "cell_id": "00020-f61aa2d7-e1aa-4040-ab1d-107d87d8154e",
    "deepnote_cell_type": "markdown"
   }
  },
  {
   "cell_type": "markdown",
   "source": "<a style='text-decoration:none;line-height:16px;display:flex;color:#5B5B62;padding:10px;justify-content:end;' href='https://deepnote.com?utm_source=created-in-deepnote-cell&projectId=6b859965-b858-4b8d-a841-009599aef86e' target=\"_blank\">\n<img alt='Created in deepnote.com' style='display:inline;max-height:16px;margin:0px;margin-right:7.5px;' src='data:image/svg+xml;base64,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' > </img>\nCreated in <span style='font-weight:600;margin-left:4px;'>Deepnote</span></a>",
   "metadata": {
    "tags": [],
    "created_in_deepnote_cell": true,
    "deepnote_cell_type": "markdown"
   }
  }
 ],
 "nbformat": 4,
 "nbformat_minor": 2,
 "metadata": {
  "orig_nbformat": 2,
  "deepnote": {
   "is_reactive": false
  },
  "deepnote_notebook_id": "ca6f535f-d905-4c1d-b770-b44938620ccc",
  "deepnote_execution_queue": []
 }
}