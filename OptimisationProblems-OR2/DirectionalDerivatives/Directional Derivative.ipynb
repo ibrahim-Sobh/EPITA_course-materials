{
 "cells": [
  {
   "cell_type": "code",
   "execution_count": 2,
   "id": "64238f52",
   "metadata": {},
   "outputs": [],
   "source": [
    "import numpy as np\n",
    "\n",
    "def get_input(input_message):\n",
    "    warnging_message=\"that's not a valid number. Try again \\n\"\n",
    "    while True:\n",
    "        try:\n",
    "            value = float(input(input_message))\n",
    "\n",
    "        except ValueError:\n",
    "            print(warnging_message)\n",
    "            continue\n",
    "        break\n",
    "    return int(value)\n",
    "\n",
    "def directionl_derviative():\n",
    "    \n",
    "    print(\"Enter the coordinates of your point:\")\n",
    "    \n",
    "    input_message=\"Enter the value of x: \"\n",
    "    x=get_input(input_message)\n",
    "    input_message=\"Enter the value of y: \"\n",
    "    y=get_input(input_message)\n",
    "    \n",
    "    print(\"\\nPoint (x,y) = (\",x,\",\",y,\")\")\n",
    "\n",
    "    #our Function\n",
    "    # F(x,y) = x^3*y -x*y^3\n",
    "    print(\"\\nF(x,y) = x³y - xy³\")\n",
    "    \n",
    "    #our Partial Derivatives\n",
    "    # ∂F(x,y)\\∂x (grad0) \n",
    "    \n",
    "    grad0= 3*x**2*y - y**3\n",
    "    \n",
    "    # ∂F(x,y)\\∂y (grad 1) \n",
    "    grad1= x**3  - 3*x*y**2\n",
    "    \n",
    "    # Gradient Vector\n",
    "    G =np.array([grad0,grad1])\n",
    "    \n",
    "    print(\"\\n∇F(x,y)= <∂F(x,y)\\∂x, ∂F(x,y)\\∂y> = < 3x²y - y³, x³ - 3xy² >\",\n",
    "          \"\\n\\n∇F(\",x,\",\",y,\")= <\",grad0,\", \",grad1,\" >\")\n",
    "    # U vector\n",
    "    print(\"\\nEnter the values of your vector U:\")\n",
    "    input_message=\"Value u0: \"\n",
    "    u1=get_input(input_message)\n",
    "    input_message=\"Value u1: \"\n",
    "    u2=get_input(input_message)\n",
    "    U= np.array([u1,u2])\n",
    "    U.resize((2,1))\n",
    "    print(\"\\nU =\",U ,\" ( Vector U )\" )\n",
    "    \n",
    "    #creating U'Normalized\n",
    "    Norm_U=np.linalg.norm(U)\n",
    "    UN= U/Norm_U\n",
    "    print(\"\\nUN = \",UN, \" ( Normalized vector U )\")\n",
    "    \n",
    "    #our Directional Derivative Equation\n",
    "    # DUnF(x,y) = ∂F(x,y)\\∂x (un1) + ∂F(x,y)\\∂y (un2)\n",
    "    \n",
    "    DDr=  G @ UN # also like saying  DDr=  grad0*UN[0] + grad1*UN[1]\n",
    "    \n",
    "    print(\"\\nThe Directional derviative is the dot product of the gradient and the normalized vector:\")\n",
    "    print(\"\\nDF(x,y)= ∇F(x,y).Un\",\n",
    "          \"\\n\\nDF(x,y)= ∇F(\",x,\",\",y,\").[\",UN[0],\n",
    "          \"\\n            \",UN[1],\"]\")\n",
    "    print(\"\\nDF(x,y)= \",DDr)\n",
    "    print(\"\\nSlope of the steepest ascent is ||∇F(x,y)||:\",np.linalg.norm(G))\n",
    "    \n",
    "    \n",
    "    "
   ]
  },
  {
   "cell_type": "code",
   "execution_count": null,
   "id": "38462ad6",
   "metadata": {
    "scrolled": false
   },
   "outputs": [
    {
     "name": "stdout",
     "output_type": "stream",
     "text": [
      "Enter the coordinates of your point:\n",
      "Enter the value of x: 6/7\n",
      "that's not a valid number. Try again \n",
      "\n"
     ]
    }
   ],
   "source": [
    "directionl_derviative()"
   ]
  },
  {
   "cell_type": "code",
   "execution_count": null,
   "id": "6f5884b3",
   "metadata": {},
   "outputs": [],
   "source": []
  }
 ],
 "metadata": {
  "kernelspec": {
   "display_name": "Python 3 (ipykernel)",
   "language": "python",
   "name": "python3"
  },
  "language_info": {
   "codemirror_mode": {
    "name": "ipython",
    "version": 3
   },
   "file_extension": ".py",
   "mimetype": "text/x-python",
   "name": "python",
   "nbconvert_exporter": "python",
   "pygments_lexer": "ipython3",
   "version": "3.9.7"
  }
 },
 "nbformat": 4,
 "nbformat_minor": 5
}
